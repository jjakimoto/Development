{
 "cells": [
  {
   "cell_type": "markdown",
   "metadata": {},
   "source": []
  },
  {
   "cell_type": "code",
   "execution_count": 3,
   "metadata": {},
   "outputs": [],
   "source": [
    "from urllib.request import urlopen\n",
    "\n",
    "res = urlopen(\"http://localhost:5000\")"
   ]
  },
  {
   "cell_type": "code",
   "execution_count": 4,
   "metadata": {},
   "outputs": [
    {
     "data": {
      "text/plain": [
       "b'Hello world'"
      ]
     },
     "execution_count": 4,
     "metadata": {},
     "output_type": "execute_result"
    }
   ],
   "source": [
    "res.read()"
   ]
  },
  {
   "cell_type": "code",
   "execution_count": null,
   "metadata": {
    "collapsed": true
   },
   "outputs": [],
   "source": []
  },
  {
   "cell_type": "code",
   "execution_count": 9,
   "metadata": {
    "collapsed": true
   },
   "outputs": [],
   "source": [
    "import random\n",
    "from collections import namedtuple\n",
    "\n",
    "def get_primes(start, stop):\n",
    "    if start >= stop:\n",
    "        return []\n",
    "    \n",
    "    primes = [2]\n",
    "    \n",
    "    for n in range(3, stop + 1, 2):\n",
    "        for p in primes:\n",
    "            if n % p == 0:\n",
    "                break\n",
    "        else:\n",
    "            primes.append(n)\n",
    "    \n",
    "    # Delete unncessary prime numbers\n",
    "    while primes and primes[0] <= start:\n",
    "        del primes[0]\n",
    "    return primes\n",
    "\n",
    "\n",
    "\n",
    "def are_relatively_prime(a, b):\n",
    "    for n in range(2, min(a, b) + 1):\n",
    "        if a % n == 0 and b % n == 0:\n",
    "            return False\n",
    "    return True\n",
    "\n",
    "\n",
    "def make_key_pair(length):\n",
    "    if length < 4:\n",
    "        raise ValueError()\n",
    "\n",
    "    # Define the range of binary number that have 'length'\n",
    "    n_min = 1 << (length - 1)\n",
    "    n_max = (1 << length) - 1\n",
    "    \n",
    "    start = 1 << (length // 2 - 1)\n",
    "    stop = 1 << (length // 2 + 1)\n",
    "    primes = get_primes(start, stop)\n",
    "\n",
    "    # Now that we have a list of prime number candidates, randomly select\n",
    "    # two so that their product is in ``range(n_min, n_max + 1)``.\n",
    "    while primes:\n",
    "        p = random.choice(primes)\n",
    "        primes.remove(p)\n",
    "        q_candidates = [q for q in primes\n",
    "                        if n_min <= p * q <= n_max]\n",
    "        if q_candidates:\n",
    "            q = random.choice(q_candidates)\n",
    "            break\n",
    "    else:\n",
    "        raise AssertionError(\"cannot find 'p' and 'q' for a key of \"\n",
    "                             \"length={!r}\".format(length))\n",
    "\n",
    "    # Second step: choose a number ``e`` lower than ``(p - 1) * (q - 1)``\n",
    "    # which shares no factors with ``(p - 1) * (q - 1)``.\n",
    "    stop = (p - 1) * (q - 1)\n",
    "    for e in range(3, stop, 2):\n",
    "        if are_relatively_prime(e, stop):\n",
    "            break\n",
    "    else:\n",
    "        raise AssertionError(\"cannot find 'e' with p={!r} \"\n",
    "                             \"and q={!r}\".format(p, q))\n",
    "\n",
    "    # Third step: find ``d`` such that ``(d * e - 1)`` is divisible by\n",
    "    # ``(p - 1) * (q - 1)``.\n",
    "    for d in range(3, stop, 2):\n",
    "        if d * e % stop == 1:\n",
    "            break\n",
    "    else:\n",
    "        raise AssertionError(\"cannot find 'd' with p={!r}, q={!r} \"\n",
    "                             \"and e={!r}\".format(p, q, e))\n",
    "\n",
    "    # That's all. We can build and return the public and private keys.\n",
    "    return PublicKey(p * q, e), PrivateKey(p * q, d)\n",
    "\n",
    "\n",
    "class PublicKey(namedtuple('PublicKey', 'n e')):\n",
    "    \"\"\"Public key which can be used to encrypt data.\"\"\"\n",
    "\n",
    "    __slots__ = ()\n",
    "\n",
    "    def encrypt(self, x):\n",
    "        \"\"\"Encrypt the number ``x``.\n",
    "\n",
    "        The result is a number which can be decrypted only using the\n",
    "        private key.\n",
    "        \"\"\"\n",
    "        return pow(x, self.e, self.n)\n",
    "\n",
    "\n",
    "class PrivateKey(namedtuple('PrivateKey', 'n d')):\n",
    "    \"\"\"Private key which can be used both to decrypt data.\"\"\"\n",
    "\n",
    "    __slots__ = ()\n",
    "\n",
    "    def decrypt(self, x):\n",
    "        \"\"\"Decrypt the number ``x``.\n",
    "\n",
    "        The argument ``x`` must be the result of the ``encrypt`` method of\n",
    "        the public key.\n",
    "        \"\"\"\n",
    "        return pow(x, self.d, self.n)\n",
    "        \n",
    "    "
   ]
  },
  {
   "cell_type": "code",
   "execution_count": 12,
   "metadata": {},
   "outputs": [
    {
     "data": {
      "text/plain": [
       "(PublicKey(n=989, e=5), PrivateKey(n=989, d=185))"
      ]
     },
     "execution_count": 12,
     "metadata": {},
     "output_type": "execute_result"
    }
   ],
   "source": [
    "make_key_pair(10)"
   ]
  },
  {
   "cell_type": "code",
   "execution_count": 13,
   "metadata": {},
   "outputs": [
    {
     "name": "stdout",
     "output_type": "stream",
     "text": [
      "Help on built-in function pow in module builtins:\n",
      "\n",
      "pow(x, y, z=None, /)\n",
      "    Equivalent to x**y (with two arguments) or x**y % z (with three arguments)\n",
      "    \n",
      "    Some types, such as ints, are able to use a more efficient algorithm when\n",
      "    invoked using the three argument form.\n",
      "\n"
     ]
    }
   ],
   "source": [
    "help(pow)"
   ]
  },
  {
   "cell_type": "code",
   "execution_count": null,
   "metadata": {
    "collapsed": true
   },
   "outputs": [],
   "source": []
  },
  {
   "cell_type": "code",
   "execution_count": null,
   "metadata": {
    "collapsed": true
   },
   "outputs": [],
   "source": []
  }
 ],
 "metadata": {
  "kernelspec": {
   "display_name": "Python 3",
   "language": "python",
   "name": "python3"
  },
  "language_info": {
   "codemirror_mode": {
    "name": "ipython",
    "version": 3
   },
   "file_extension": ".py",
   "mimetype": "text/x-python",
   "name": "python",
   "nbconvert_exporter": "python",
   "pygments_lexer": "ipython3",
   "version": "3.6.4"
  }
 },
 "nbformat": 4,
 "nbformat_minor": 2
}
