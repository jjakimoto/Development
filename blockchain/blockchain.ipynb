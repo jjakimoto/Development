{
 "cells": [
  {
   "cell_type": "code",
   "execution_count": 4,
   "metadata": {},
   "outputs": [],
   "source": [
    "import hashlib"
   ]
  },
  {
   "cell_type": "code",
   "execution_count": 15,
   "metadata": {},
   "outputs": [
    {
     "name": "stdout",
     "output_type": "stream",
     "text": [
      "b'\\xa8\"9H]\\xe6X\\xe6-\\xf2fE\\x80s\\xa9\"qe\\xb7\\xa2\\xdc\\xd1>m\\xfc\\x8f\\xf6s\\xb2\\xb6\\x14\\x0e'\n",
      "a82239485de658e62df266458073a9227165b7a2dcd13e6dfc8ff673b2b6140e\n"
     ]
    }
   ],
   "source": [
    "sha = hashlib.sha256()\n",
    "sha.update(b\"tomoakifujii\")\n",
    "print(sha.digest())\n",
    "print(sha.hexdigest())"
   ]
  },
  {
   "cell_type": "code",
   "execution_count": 30,
   "metadata": {},
   "outputs": [],
   "source": [
    "import hashlib\n",
    "\n",
    "class Block:\n",
    "    def __init__(self, index, timestamp, data, previous_hash):\n",
    "        self.index = index\n",
    "        self.timestamp = timestamp\n",
    "        self.data = data\n",
    "        self.previous_hash = previous_hash\n",
    "        self.hash = self.hash_block()\n",
    "        \n",
    "    def hash_block(self):\n",
    "        sha = hashlib.sha256()\n",
    "        input_str = str(self.index) +\\\n",
    "                    str(self.timestamp) + \\\n",
    "                    str(self.data) + \\\n",
    "                    str(self.previous_hash)\n",
    "        input_bytes = bytes(input_str, 'utf-8')\n",
    "        sha.update(input_bytes)\n",
    "        return sha.hexdigest()"
   ]
  },
  {
   "cell_type": "code",
   "execution_count": 31,
   "metadata": {},
   "outputs": [],
   "source": [
    "from datetime import datetime\n",
    "\n",
    "def create_genesis_block():\n",
    "    return Block(0, datetime.now(), \"Genesis Block\", \"0\")"
   ]
  },
  {
   "cell_type": "code",
   "execution_count": 34,
   "metadata": {
    "collapsed": true
   },
   "outputs": [],
   "source": [
    "def next_block(last_block):\n",
    "    this_index = last_block.index + 1\n",
    "    this_timestamp = datetime.now()\n",
    "    this_data = \"Hey, I'm block \" + str(this_index)\n",
    "    this_hash = last_block.hash\n",
    "    return Block(this_index, this_timestamp, this_data, this_hash)"
   ]
  },
  {
   "cell_type": "code",
   "execution_count": 40,
   "metadata": {},
   "outputs": [
    {
     "name": "stdout",
     "output_type": "stream",
     "text": [
      "Block #1 has been added to the blockchain!\n",
      "Hash: e9eca0487cc4dbaf2dfc234e2a0fa3fca4fe57412e951e5364072cd447ce761d\n",
      "\n",
      "Block #2 has been added to the blockchain!\n",
      "Hash: 223fd513d311272005973508e4491ceff3c0bbd564cc4cd99487e5b95cf64922\n",
      "\n",
      "Block #3 has been added to the blockchain!\n",
      "Hash: 5cc37918d1286c6db5ee39dbbc5d7b0f3b0d04629ed72a2414fb3a169f682160\n",
      "\n",
      "Block #4 has been added to the blockchain!\n",
      "Hash: 1288785e9485ec1183e1bf206fc39eb30849a389029196e405cdca9cd79e936a\n",
      "\n",
      "Block #5 has been added to the blockchain!\n",
      "Hash: 813248a1ecb0cb199060620a3d476f9b70d4185055e0320c4fded3d22a3cf822\n",
      "\n",
      "Block #6 has been added to the blockchain!\n",
      "Hash: 06ecaa228f7b0df2aaffc162bf46f3d51f571ac64ca6f7fa500ed03787dc0ba9\n",
      "\n",
      "Block #7 has been added to the blockchain!\n",
      "Hash: 1055fbcd65ff206cbba966696040e8944069a5858ff7e27126db2cbf2cbc9f63\n",
      "\n",
      "Block #8 has been added to the blockchain!\n",
      "Hash: b085128abad5424119c658c4ccda68ec2a2776a5c42584aba4922b5273fbe36f\n",
      "\n",
      "Block #9 has been added to the blockchain!\n",
      "Hash: dadd0cf73c667789ec553cc85adf26ba6c96c2f56b7d7e45048b813b2e33be4f\n",
      "\n",
      "Block #10 has been added to the blockchain!\n",
      "Hash: 0b4ccff99f424d54aeb3c66da2d55000753620583443b550bae0282763f61cde\n",
      "\n",
      "Block #11 has been added to the blockchain!\n",
      "Hash: 997a49e465914bb5402db9bc55c924609ba36b6bb032f4b3b0cb62705fcad613\n",
      "\n",
      "Block #12 has been added to the blockchain!\n",
      "Hash: 87cdc12e7894643097f5f8c2372c0fff690a698af9c17e3435dcee6923d61e9f\n",
      "\n",
      "Block #13 has been added to the blockchain!\n",
      "Hash: a43ba0cdbebcfca66016f126404a83dffc1169eafe1583c3f40f7ab2315b47d3\n",
      "\n",
      "Block #14 has been added to the blockchain!\n",
      "Hash: 55331265ccd1cff7ae9bcef3a0b94efa3a35734cd2fd45afcd46e9af7efb1a77\n",
      "\n",
      "Block #15 has been added to the blockchain!\n",
      "Hash: 24b477be13bab44d3b3ffa4cdbf29a6aea16db431b1714af1fd723d27564fc47\n",
      "\n",
      "Block #16 has been added to the blockchain!\n",
      "Hash: 05bfb5714bee1d2096c9c8d4e3d31ea0cdbb1c24cee2d8d02fb67c7755f3cdce\n",
      "\n",
      "Block #17 has been added to the blockchain!\n",
      "Hash: c26f2d9c8b219c59c973d0829b32c13aeb9ef69c542f1af3b6850016f0eceda7\n",
      "\n",
      "Block #18 has been added to the blockchain!\n",
      "Hash: b0e3213613892948bac14f017713c5ef07081a9f1e7b2f70e57c7f43ace5b532\n",
      "\n",
      "Block #19 has been added to the blockchain!\n",
      "Hash: 6b1b4a325a2229f79894c45bd905af464cb6dcdc450b942e705696179ab3527b\n",
      "\n",
      "Block #20 has been added to the blockchain!\n",
      "Hash: 528ed47cba92a282772afd5cbe7583cfe209d5f9e0249cc8ff4e12be4fde6850\n",
      "\n"
     ]
    }
   ],
   "source": [
    "blockchain = [create_genesis_block()]\n",
    "previous_block = blockchain[0]\n",
    "\n",
    "\n",
    "num_of_blocks_to_add = 20\n",
    "\n",
    "\n",
    "for i in range(num_of_blocks_to_add):\n",
    "    block_to_add = next_block(previous_block)\n",
    "    blockchain.append(block_to_add)\n",
    "    previous_block = block_to_add\n",
    "    print(\"Block #{} has been added to the blockchain!\".format(block_to_add.index))\n",
    "    print(\"Hash: {}\\n\".format(block_to_add.hash))"
   ]
  },
  {
   "cell_type": "code",
   "execution_count": 35,
   "metadata": {},
   "outputs": [],
   "source": [
    "too"
   ]
  },
  {
   "cell_type": "code",
   "execution_count": 37,
   "metadata": {},
   "outputs": [
    {
     "data": {
      "text/plain": [
       "{'data': \"Hey, I'm block 1\",\n",
       " 'hash': '01b4e6cb40474afef692e5fa67b9daed9c172ec52a8af6f8b0d7e8cdac997afc',\n",
       " 'index': 1,\n",
       " 'previous_hash': 'a916268a5166f64b1716e7d270dea008f83b53bdb8f230720ccb20ae95fe8edb',\n",
       " 'timestamp': datetime.datetime(2018, 2, 11, 17, 29, 35, 978379)}"
      ]
     },
     "execution_count": 37,
     "metadata": {},
     "output_type": "execute_result"
    }
   ],
   "source": [
    "block2.__dict__"
   ]
  },
  {
   "cell_type": "code",
   "execution_count": null,
   "metadata": {
    "collapsed": true
   },
   "outputs": [],
   "source": []
  }
 ],
 "metadata": {
  "kernelspec": {
   "display_name": "Python 3",
   "language": "python",
   "name": "python3"
  },
  "language_info": {
   "codemirror_mode": {
    "name": "ipython",
    "version": 3
   },
   "file_extension": ".py",
   "mimetype": "text/x-python",
   "name": "python",
   "nbconvert_exporter": "python",
   "pygments_lexer": "ipython3",
   "version": "3.6.1"
  }
 },
 "nbformat": 4,
 "nbformat_minor": 2
}
