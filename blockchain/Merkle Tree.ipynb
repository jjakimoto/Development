{
 "cells": [
  {
   "cell_type": "markdown",
   "metadata": {},
   "source": [
    "https://hackernoon.com/merkle-tree-introduction-4c44250e2da7"
   ]
  },
  {
   "cell_type": "markdown",
   "metadata": {},
   "source": [
    "What you have to implement\n",
    "* Treehash algorithm and classical traversal algorithms\n",
    "    * Leaves\n",
    "    * Auths\n",
    "    * stacks"
   ]
  },
  {
   "cell_type": "markdown",
   "metadata": {},
   "source": [
    "## Authentication\n",
    "* Output leaf value together with authentication path\n",
    "* Store left most nodes: $stack_i = a_{i 0}$\n",
    "* Store right brothers of left most nodes: $auth_i = a_{i 1}$\n",
    "* Needs an update if $leaf + 1$ is a multiple of $2^h$\n",
    "    * $auth_h = POP(stck_h)$\n",
    "    * After $2^h$, needs an update again"
   ]
  },
  {
   "cell_type": "code",
   "execution_count": 158,
   "metadata": {},
   "outputs": [],
   "source": [
    "import os\n",
    "import math\n",
    "import hashlib\n",
    "from copy import deepcopy\n",
    "\n",
    "import numpy as np\n",
    "\n",
    "\n",
    "class Node(object):\n",
    "    def __init__(self, hash_val, left=None, right=None):\n",
    "        self.hash = hash_val\n",
    "        self.left = left\n",
    "        self.right = right\n",
    "        if left is None:\n",
    "            self.height = 0\n",
    "        else:\n",
    "            self.height = self.left.height + 1\n",
    "        self.parent = None\n",
    "        \n",
    "    @property\n",
    "    def sibling(self):\n",
    "        if self.is_left:\n",
    "            return self.parent.right\n",
    "        else:\n",
    "            return self.parent.left\n",
    "        \n",
    "    @property\n",
    "    def is_left(self):\n",
    "        return self.parent.left.hash == self.hash\n",
    "\n",
    "\n",
    "class MarkelTree(object):\n",
    "    def __init__(self, items):\n",
    "        self.leaves = list(map(self._make_leaf, map(self._hash, items)))\n",
    "        self.node_table = dict()\n",
    "        self.stack = list()\n",
    "        self.max_height = int(np.log2(len(items)))\n",
    "        self.is_built = False\n",
    "        # Initialization\n",
    "        node = self.leaves.pop()\n",
    "        self.stack.append(node)\n",
    "        self.build_tree()\n",
    "\n",
    "    def _make_leaf(self, hash_val):\n",
    "        return Node(hash_val)\n",
    "    \n",
    "    def _make_parent(self, left, right):\n",
    "        par_hash = self._hash(left.hash + right.hash)\n",
    "        parent = Node(par_hash, left, right)\n",
    "        left.parent = parent\n",
    "        right.parent = parent\n",
    "        return parent\n",
    "    \n",
    "    def _hash(self, x):\n",
    "        hash_func = hashlib.sha256()\n",
    "        hash_func.update(str(x).encode('utf-8'))\n",
    "        return hash_func.digest()\n",
    "    \n",
    "    def build_tree(self):\n",
    "        while self.stack[-1].height < self.max_height:\n",
    "            if len(self.stack) >= 2\\\n",
    "                    and self.stack[-1].height == self.stack[-2].height:\n",
    "                right = self.stack.pop()\n",
    "                left = self.stack.pop()\n",
    "                par_node = self._make_parent(left, right)\n",
    "                self.node_table[par_node.hash] = par_node\n",
    "                self.stack.append(par_node)\n",
    "            else:\n",
    "                new_leaf = self.leaves.pop()\n",
    "                self.node_table[new_leaf.hash] = new_leaf\n",
    "                self.stack.append(new_leaf)\n",
    "        # Store root information\n",
    "        self.root_node = self.stack[-1]\n",
    "        self.root_hash = self.root_node.hash\n",
    "        self.is_built = True\n",
    "    \n",
    "    \n",
    "    def get_authpath(self, item):\n",
    "        \"\"\" Returns an authentication path for an item (not hashed) in \n",
    "            the Merkle tree as a list in order from the top of the tree\n",
    "            to the bottom.\n",
    "        \"\"\"\n",
    "        if not self.is_built:\n",
    "            raise Exception(\"The Merkle Tree must be built before an \\\n",
    "                    authentication path is found.\")\n",
    "\n",
    "        hash_val = self._hash(item)\n",
    "\n",
    "        if not hash_val in self.leaf_hashes:\n",
    "            raise Exception(\"The requested item is not in the merkle tree.\")\n",
    "\n",
    "        return self._get_authpath_by_hash(hash_val)\n",
    "    \n",
    "    def _get_authpath_by_hash(self, hash_val):\n",
    "        \"\"\" Returns an authentication path as a list in order from the top\n",
    "            to the bottom of the tree (assumes preconditions have been checked).\n",
    "        \"\"\"\n",
    "        path = []\n",
    "        while hash_val != self.root_hash:\n",
    "            node = self.node_table[hash_val]\n",
    "            sibling = node.sibling\n",
    "            path.append(sibling)\n",
    "            hash_val = node.parent.hash\n",
    "        return path\n",
    "    \n",
    "    \n",
    "    def authenticate(self, data):\n",
    "        path = self.get_authpath(data)\n",
    "        _hash = self._hash(data)\n",
    "        for node in path:\n",
    "            if node.is_left:\n",
    "                _hash = self._hash(node.hash + _hash)\n",
    "            else:\n",
    "                _hash = self._hash(_hash + node.hash)\n",
    "        return _hash == self.root_hash\n",
    "        \n",
    "        \n",
    "    @property\n",
    "    def leaf_hashes(self):\n",
    "        return [hash_val for hash_val, node in self.node_table.items() if node.height == 0]"
   ]
  },
  {
   "cell_type": "code",
   "execution_count": 159,
   "metadata": {},
   "outputs": [
    {
     "data": {
      "text/plain": [
       "True"
      ]
     },
     "execution_count": 159,
     "metadata": {},
     "output_type": "execute_result"
    }
   ],
   "source": [
    "n = 4\n",
    "items = np.arange(2 ** n)\n",
    "tree = MarkelTree(items)\n",
    "tree.authenticate(6)"
   ]
  },
  {
   "cell_type": "code",
   "execution_count": 118,
   "metadata": {},
   "outputs": [],
   "source": [
    "path = tree.get_authpath(3)"
   ]
  },
  {
   "cell_type": "code",
   "execution_count": 122,
   "metadata": {},
   "outputs": [
    {
     "data": {
      "text/plain": [
       "[2, 2, 1, 0]"
      ]
     },
     "execution_count": 122,
     "metadata": {},
     "output_type": "execute_result"
    }
   ],
   "source": [
    "[x.height for x in path]"
   ]
  },
  {
   "cell_type": "code",
   "execution_count": 121,
   "metadata": {},
   "outputs": [
    {
     "ename": "AttributeError",
     "evalue": "'Node' object has no attribute 'hight'",
     "output_type": "error",
     "traceback": [
      "\u001b[0;31m---------------------------------------------------------------------------\u001b[0m",
      "\u001b[0;31mAttributeError\u001b[0m                            Traceback (most recent call last)",
      "\u001b[0;32m<ipython-input-121-da1b211efaa1>\u001b[0m in \u001b[0;36m<module>\u001b[0;34m()\u001b[0m\n\u001b[0;32m----> 1\u001b[0;31m \u001b[0mpath\u001b[0m\u001b[0;34m[\u001b[0m\u001b[0;36m0\u001b[0m\u001b[0;34m]\u001b[0m\u001b[0;34m.\u001b[0m\u001b[0mhight\u001b[0m\u001b[0;34m\u001b[0m\u001b[0m\n\u001b[0m",
      "\u001b[0;31mAttributeError\u001b[0m: 'Node' object has no attribute 'hight'"
     ]
    }
   ],
   "source": [
    "path[0].hight"
   ]
  },
  {
   "cell_type": "code",
   "execution_count": 112,
   "metadata": {},
   "outputs": [],
   "source": [
    "x.reverse()"
   ]
  },
  {
   "cell_type": "code",
   "execution_count": 113,
   "metadata": {},
   "outputs": [
    {
     "data": {
      "text/plain": [
       "[2, 1, 0]"
      ]
     },
     "execution_count": 113,
     "metadata": {},
     "output_type": "execute_result"
    }
   ],
   "source": [
    "x"
   ]
  },
  {
   "cell_type": "code",
   "execution_count": null,
   "metadata": {
    "collapsed": true
   },
   "outputs": [],
   "source": []
  }
 ],
 "metadata": {
  "kernelspec": {
   "display_name": "Python 3",
   "language": "python",
   "name": "python3"
  },
  "language_info": {
   "codemirror_mode": {
    "name": "ipython",
    "version": 3
   },
   "file_extension": ".py",
   "mimetype": "text/x-python",
   "name": "python",
   "nbconvert_exporter": "python",
   "pygments_lexer": "ipython3",
   "version": "3.6.1"
  }
 },
 "nbformat": 4,
 "nbformat_minor": 2
}
