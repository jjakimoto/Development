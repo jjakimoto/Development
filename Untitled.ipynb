{
 "cells": [
  {
   "cell_type": "code",
   "execution_count": 7,
   "metadata": {},
   "outputs": [
    {
     "data": {
      "text/plain": [
       "[3, 4]"
      ]
     },
     "execution_count": 7,
     "metadata": {},
     "output_type": "execute_result"
    }
   ],
   "source": [
    "list(range(3, 5))"
   ]
  },
  {
   "cell_type": "code",
   "execution_count": 21,
   "metadata": {},
   "outputs": [
    {
     "data": {
      "text/plain": [
       "4"
      ]
     },
     "execution_count": 21,
     "metadata": {},
     "output_type": "execute_result"
    }
   ],
   "source": [
    "x = {\"a\":3, \"b\": 4}\n",
    "max(x.values())"
   ]
  },
  {
   "cell_type": "code",
   "execution_count": null,
   "metadata": {
    "collapsed": true
   },
   "outputs": [],
   "source": [
    "def dfs(i, j, matrix, visited):\n",
    "    visited[i][j] = True\n",
    "    steps = [(1, 0), (0, 1), (-1, 0), (0, -1)]\n",
    "    for step in steps:\n",
    "        new_i = i + step[0]\n",
    "        new_j = j + step[1]\n",
    "        if is_valid(new_i, new_j, matrix, visited):\n",
    "            dfs(new_i, new_j, matrix, visited)\n",
    "\n",
    "            \n",
    "def is_valid(i, j, matrix, visited):\n",
    "    n_row = len(matrix)\n",
    "    n_col = len(matrix[0])\n",
    "    return (0 <= i < n_row) and (0 <= j < n_col)\\\n",
    "        and matrix[i][j] and not visited[i][j]\n",
    "\n",
    "    \n",
    "def friendCircles(friends):\n",
    "    n_row = len(friends)\n",
    "    friend_map = dict(Y=True, N=False)\n",
    "    friend_mat = [[friend_map[friends[i][j]] for j in range(n_row)] for i in range(n_row)]\n",
    "    # Record if u visited already\n",
    "    visited = [[False for j in range(n_row)] for i in range(n_row)]\n",
    "    \n",
    "    count = 0\n",
    "    for i in range(n_row):\n",
    "        for j in range(n_row):\n",
    "            if not visited[i][j] and friend_mat[i][j]:\n",
    "                # Visit entire circle and recore it into visited\n",
    "                dfs(i, j, friend_mat, visited)\n",
    "                count += 1\n",
    "    return count"
   ]
  },
  {
   "cell_type": "code",
   "execution_count": 19,
   "metadata": {},
   "outputs": [
    {
     "data": {
      "text/plain": [
       "False"
      ]
     },
     "execution_count": 19,
     "metadata": {},
     "output_type": "execute_result"
    }
   ],
   "source": [
    "x = [\"rwer\", \"r\", \"erw\"]\n",
    "_x = sorted(x, key=lambda x: len(x))\n",
    "x is _x"
   ]
  },
  {
   "cell_type": "code",
   "execution_count": null,
   "metadata": {
    "collapsed": true
   },
   "outputs": [],
   "source": [
    "x = "
   ]
  },
  {
   "cell_type": "code",
   "execution_count": 16,
   "metadata": {},
   "outputs": [
    {
     "name": "stdout",
     "output_type": "stream",
     "text": [
      "0\n"
     ]
    },
    {
     "ename": "IndexError",
     "evalue": "list assignment index out of range",
     "output_type": "error",
     "traceback": [
      "\u001b[0;31m---------------------------------------------------------------------------\u001b[0m",
      "\u001b[0;31mIndexError\u001b[0m                                Traceback (most recent call last)",
      "\u001b[0;32m<ipython-input-16-7f9a9d09f7e5>\u001b[0m in \u001b[0;36m<module>\u001b[0;34m()\u001b[0m\n\u001b[1;32m      1\u001b[0m \u001b[0mx\u001b[0m \u001b[0;34m=\u001b[0m \u001b[0mlist\u001b[0m\u001b[0;34m(\u001b[0m\u001b[0mrange\u001b[0m\u001b[0;34m(\u001b[0m\u001b[0;36m3\u001b[0m\u001b[0;34m)\u001b[0m\u001b[0;34m)\u001b[0m\u001b[0;34m\u001b[0m\u001b[0m\n\u001b[1;32m      2\u001b[0m \u001b[0;32mfor\u001b[0m \u001b[0mi\u001b[0m \u001b[0;32min\u001b[0m \u001b[0mx\u001b[0m\u001b[0;34m:\u001b[0m\u001b[0;34m\u001b[0m\u001b[0m\n\u001b[0;32m----> 3\u001b[0;31m     \u001b[0;32mdel\u001b[0m \u001b[0mx\u001b[0m\u001b[0;34m[\u001b[0m\u001b[0mi\u001b[0m\u001b[0;34m]\u001b[0m\u001b[0;34m\u001b[0m\u001b[0m\n\u001b[0m\u001b[1;32m      4\u001b[0m     \u001b[0mprint\u001b[0m\u001b[0;34m(\u001b[0m\u001b[0mi\u001b[0m\u001b[0;34m)\u001b[0m\u001b[0;34m\u001b[0m\u001b[0m\n",
      "\u001b[0;31mIndexError\u001b[0m: list assignment index out of range"
     ]
    }
   ],
   "source": [
    "x = list(range(3))\n",
    "for i in x:\n",
    "    del x[i]\n",
    "    print(i)"
   ]
  },
  {
   "cell_type": "code",
   "execution_count": null,
   "metadata": {
    "collapsed": true
   },
   "outputs": [],
   "source": [
    "def longestChain(words):\n",
    "    max_count = 0\n",
    "    for word in words:\n",
    "        # Skip if any possiblity to update does not exist\n",
    "        if len(word) <= max_count:\n",
    "            continue\n",
    "        count_list = count_chain(word, words)\n",
    "        if count_list:\n",
    "            max_count = max(max_count, max(count_list))\n",
    "    return max_count\n",
    "\n",
    "\n",
    "def count_chain(word, words, count=0, count_list=None):\n",
    "    if count_list == None:\n",
    "        count_list = []\n",
    "    if word not in words:\n",
    "        return count_list\n",
    "    count += 1\n",
    "    count_list.append(count)\n",
    "    for i in range(len(word)):\n",
    "        new_word = word[:i] + word[i+1:]\n",
    "        count_list = count_chain(new_word, words, count, count_list)\n",
    "    return count_list"
   ]
  }
 ],
 "metadata": {
  "kernelspec": {
   "display_name": "Python 3",
   "language": "python",
   "name": "python3"
  },
  "language_info": {
   "codemirror_mode": {
    "name": "ipython",
    "version": 3
   },
   "file_extension": ".py",
   "mimetype": "text/x-python",
   "name": "python",
   "nbconvert_exporter": "python",
   "pygments_lexer": "ipython3",
   "version": "3.6.1"
  }
 },
 "nbformat": 4,
 "nbformat_minor": 2
}
