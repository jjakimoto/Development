{
 "cells": [
  {
   "cell_type": "code",
   "execution_count": 6,
   "metadata": {},
   "outputs": [],
   "source": [
    "import pandas as pd\n",
    "import numpy as np\n",
    "\n",
    "df = pd.read_csv(f'outputs/output_res_20190610.csv', index_col='timestamp')"
   ]
  },
  {
   "cell_type": "code",
   "execution_count": 7,
   "metadata": {},
   "outputs": [
    {
     "data": {
      "text/plain": [
       "Index(['price', 'side', 'quantity', 'action', 'bp0', 'bq0', 'bp1', 'bq1',\n",
       "       'bp2', 'bq2', 'bp3', 'bq3', 'bp4', 'bq4', 'ap0', 'aq0', 'ap1', 'aq1',\n",
       "       'ap2', 'aq2', 'ap3', 'aq3', 'ap4', 'aq4', 'ofi'],\n",
       "      dtype='object')"
      ]
     },
     "execution_count": 7,
     "metadata": {},
     "output_type": "execute_result"
    }
   ],
   "source": [
    "df.columns"
   ]
  },
  {
   "cell_type": "code",
   "execution_count": 25,
   "metadata": {},
   "outputs": [],
   "source": [
    "import numpy as np\n",
    "import pandas as pd\n",
    "from tqdm import tqdm_notebook, tqdm\n",
    "import functools\n",
    "\n",
    "from helper import SUM, EMA, grid_samples, process_jobs\n",
    "\n",
    "\n",
    "\n",
    "def calc_order_flow_imbalacne(df, period, verbose=0):\n",
    "    ofi_sum = SUM(period)\n",
    "    ofis = []\n",
    "    indices = range(df.shape[0])\n",
    "    if verbose == 1:\n",
    "        indices = tqdm_notebook(indices)\n",
    "    elif verbose == 2:\n",
    "        indices = tqdm(indices)\n",
    "    for i in indices:\n",
    "        x = df.iloc[i]\n",
    "        timestamp = df.index[i]\n",
    "        ofi_sum.update(x['ofi'], timestamp)\n",
    "        ofi = ofi_sum.get_signal()\n",
    "        ofis.append(ofi)\n",
    "    ofis = pd.Series(ofis, index=df.index)\n",
    "    # insert nan for unstable period\n",
    "    ofis.loc[:period] = np.nan\n",
    "    return ofis\n",
    "\n",
    "\n",
    "def smooth_signals(signals, period, verbose=0):\n",
    "    ema = EMA(period)\n",
    "    _smooth_output = []\n",
    "    indices = range(signals.shape[0])\n",
    "    if verbose == 1:\n",
    "        indices = tqdm_notebook(indices)\n",
    "    elif verbose == 2:\n",
    "        indices = tqdm(indices)\n",
    "    for i in indices:\n",
    "        x = signals.iloc[i]\n",
    "        if np.isfinite(x):\n",
    "            timestamp = signals.index[i]\n",
    "            ema.update(x, timestamp)\n",
    "            smooth_signal = ema.get_signal()\n",
    "        else:\n",
    "            smooth_signal = np.nan\n",
    "        _smooth_output.append(smooth_signal)\n",
    "    smooth_output = pd.Series(_smooth_output, index=signals.index)\n",
    "    # insert nan for unstable period\n",
    "    smooth_output.loc[:period] = np.nan\n",
    "    return smooth_output\n",
    "\n",
    "def calc_smooth_stats(prices, period, verbose=0):\n",
    "    mean_ema = EMA(period)\n",
    "    vol_ema = EMA(period)\n",
    "    vols = []\n",
    "    mean_prices = []\n",
    "    indices = range(prices.shape[0])\n",
    "    if verbose == 1:\n",
    "        indices = tqdm_notebook(indices)\n",
    "    elif verbose == 2:\n",
    "        indices = tqdm(indices)\n",
    "    for i in indices:\n",
    "        price = prices.iloc[i]\n",
    "        if np.isfinite(price):\n",
    "            timestamp = prices.index[i]\n",
    "            mean_ema.update(price, timestamp)\n",
    "            mean_price = mean_ema.get_signal()\n",
    "            vol_ema.update(abs(price - mean_price), timestamp)\n",
    "            vol = vol_ema.get_signal()\n",
    "        else:\n",
    "            vol = np.nan\n",
    "            mean_price = np.nan\n",
    "        vols.append(vol)\n",
    "        mean_prices.append(mean_price)\n",
    "    vols = pd.Series(vols, index=prices.index)\n",
    "    mean_prices = pd.Series(mean_prices, index=prices.index)\n",
    "    zscores = (prices - mean_prices) / vols\n",
    "    # insert nan for unstable period\n",
    "    mean_prices.loc[:period] = np.nan\n",
    "    vols.loc[:period] = np.nan\n",
    "    zscores.loc[:period] = np.nan\n",
    "    return mean_prices, vols, zscores\n",
    "\n",
    "def calc_micro_price(df, level=1, verbose=0):\n",
    "    prices = []\n",
    "    indices = range(df.shape[0])\n",
    "    if verbose == 1:\n",
    "        indices = tqdm_notebook(indices)\n",
    "    elif verbose == 2:\n",
    "        indices = tqdm(indices)\n",
    "    for i in indices:\n",
    "        x = df.iloc[i]\n",
    "        av = 0\n",
    "        bv = 0\n",
    "        ap = x['ap0']\n",
    "        bp = x['bp0']\n",
    "        if np.isfinite(ap) and np.isfinite(bp):\n",
    "            for i in range(level):\n",
    "                av += x[f'aq{i}']\n",
    "                bv += x[f'bq{i}']\n",
    "            price = (ap * bv + bp *av) / (av + bv)\n",
    "        else:\n",
    "            price = np.nan\n",
    "        prices.append(price)\n",
    "    prices = pd.Series(prices, index=df.index)\n",
    "    return prices\n",
    "\n",
    "def calc_return(df, period):\n",
    "    prices = 0.5 * (df['ap0'] + df['bp0'])\n",
    "    forward_index = prices.index.searchsorted(prices.index + period)\n",
    "    forward_index[forward_index == prices.shape[0]] = prices.shape[0] - 1\n",
    "    ret = prices.values[forward_index] - prices\n",
    "    ret.loc[prices.index[-1] - period:] = np.nan\n",
    "    return ret\n",
    "    \n",
    "def generate_features(df, period):\n",
    "    features = dict()\n",
    "    mid_prices = 0.5 * (df['ap0'] + df['bp0'])\n",
    "    spread = df['ap0'] - df['bp0']\n",
    "    volume_imb = df['bq0'] - df['aq0']\n",
    "    mean_prices, vols, zscores = calc_smooth_stats(mid_prices, period)\n",
    "    features['vol'] = vols\n",
    "    features['zscore'] = zscores\n",
    "    ofi = calc_order_flow_imbalacne(df, period)\n",
    "    features['ofi'] = ofi\n",
    "    smooth_volume_imb = smooth_signals(volume_imb, period)\n",
    "    features['volume_imbalance'] = smooth_volume_imb\n",
    "    return pd.DataFrame(features)\n",
    "\n",
    "\n",
    "def calc_features_return_corr(df, feature_period, return_period):\n",
    "    features = generate_features(df, feature_period)\n",
    "    returns = calc_return(df, return_period)\n",
    "    corrs = dict()\n",
    "    for col in features.columns:\n",
    "        corr = returns.corr(features[col])\n",
    "        corrs[col] = corr\n",
    "    params = {\n",
    "        'feature_period': feature_period,\n",
    "        'return_period': return_period,\n",
    "    }\n",
    "    return corrs, params\n",
    "\n",
    "\n",
    "def calc_return_ratio(df, period, th):\n",
    "    returns = calc_return(df, period)\n",
    "    returns = returns.dropna()\n",
    "    returns = returns.loc[~returns.index.duplicated(keep='last')]\n",
    "    ratio = returns.loc[np.abs(returns) >= th].shape[0] / returns.shape[0]\n",
    "    return ratio, period\n",
    "\n",
    "def multi_grid_execution(params_conf, task_func, default_params=None,\n",
    "                         condition=None, num_threads=None):\n",
    "    samples = grid_samples(params_conf, condition=condition)\n",
    "    if default_params is None:\n",
    "        default_params = dict()\n",
    "    jobs = []\n",
    "    for sample in samples:\n",
    "        sample['func'] = functools.partial(task_func,**default_params)\n",
    "        jobs.append(sample)\n",
    "    output = process_jobs(jobs, num_threads=num_threads, task='task')\n",
    "    return output"
   ]
  },
  {
   "cell_type": "code",
   "execution_count": 26,
   "metadata": {},
   "outputs": [],
   "source": [
    "periods = np.logspace(6, 9, 10)\n",
    "ratios = []\n",
    "for period in periods:\n",
    "    ratio = calc_return_ratio(df, period, 15)[0]\n",
    "    ratios.append(ratio)"
   ]
  },
  {
   "cell_type": "code",
   "execution_count": 27,
   "metadata": {},
   "outputs": [
    {
     "data": {
      "image/png": "[encoded data removed]",
      "text/plain": [
       "<Figure size 432x288 with 1 Axes>"
      ]
     },
     "metadata": {},
     "output_type": "display_data"
    }
   ],
   "source": [
    "import matplotlib.pyplot as plt\n",
    "%matplotlib inline\n",
    "\n",
    "plt.scatter(periods, ratios)\n",
    "plt.xscale('log')"
   ]
  },
  {
   "cell_type": "code",
   "execution_count": null,
   "metadata": {},
   "outputs": [],
   "source": []
  },
  {
   "cell_type": "code",
   "execution_count": null,
   "metadata": {},
   "outputs": [],
   "source": []
  },
  {
   "cell_type": "code",
   "execution_count": null,
   "metadata": {},
   "outputs": [],
   "source": []
  },
  {
   "cell_type": "code",
   "execution_count": 27,
   "metadata": {},
   "outputs": [],
   "source": [
    "period = 1e8\n",
    "corrs = calc_features_return_corr(df, period, period)"
   ]
  },
  {
   "cell_type": "code",
   "execution_count": 28,
   "metadata": {},
   "outputs": [
    {
     "data": {
      "text/plain": [
       "({'ofi': -0.11912718731728177,\n",
       "  'vol': -0.019754477124324054,\n",
       "  'volume_imbalance': 0.048098240223889956,\n",
       "  'zscore': -0.059657451407377694},\n",
       " {'feature_period': 100000000.0, 'return_period': 100000000.0})"
      ]
     },
     "execution_count": 28,
     "metadata": {},
     "output_type": "execute_result"
    }
   ],
   "source": [
    "corrs"
   ]
  },
  {
   "cell_type": "code",
   "execution_count": 23,
   "metadata": {},
   "outputs": [],
   "source": [
    "returns = calc_return(df, period)"
   ]
  },
  {
   "cell_type": "code",
   "execution_count": 25,
   "metadata": {},
   "outputs": [
    {
     "data": {
      "text/plain": [
       "0.10882266070180746"
      ]
     },
     "execution_count": 25,
     "metadata": {},
     "output_type": "execute_result"
    }
   ],
   "source": [
    "returns.loc[np.abs(returns) >= 10].shape[0] / returns.shape[0]"
   ]
  },
  {
   "cell_type": "code",
   "execution_count": null,
   "metadata": {},
   "outputs": [
    {
     "name": "stderr",
     "output_type": "stream",
     "text": [
      "2019-12-13 20:27:34.612738 24.0% task done after 4.69 minutes. Remaining 14.85 minutes.\r"
     ]
    }
   ],
   "source": [
    "return_periods = np.logspace(6, 9, 10)\n",
    "feature_periods = np.logspace(6, 9, 10)\n",
    "params_conf = [   \n",
    "    {'name': 'return_period',  'domain': return_periods},\n",
    "    {'name': 'feature_period', 'domain': feature_periods},\n",
    "]\n",
    "\n",
    "default_params = {\n",
    "    'df': df,\n",
    "}\n",
    "\n",
    "output = multi_grid_execution(params_conf, calc_features_return_corr, default_params)"
   ]
  },
  {
   "cell_type": "code",
   "execution_count": 12,
   "metadata": {},
   "outputs": [],
   "source": [
    "from collection import defaultdict\n",
    "\n",
    "scores = defaultdict(lambda: np.zeros((len(return_periods), len(feature_periods))))\n",
    "for i, return_period in enumerate(return_periods):\n",
    "    for j, feature_period in enumerate(feature_periods):\n",
    "        for x in output:\n",
    "            if x[1]['return_period'] == return_period and x[1]['feature_period'] == feature_period:\n",
    "                scores[i][j] = x[0]\n",
    "                for key, val in x[0].items():\n",
    "                    scores[key][i][j] = val\n",
    "                break\n",
    "        "
   ]
  },
  {
   "cell_type": "code",
   "execution_count": 14,
   "metadata": {},
   "outputs": [],
   "source": [
    "returns = calc_return(df['ap0'], period)"
   ]
  },
  {
   "cell_type": "code",
   "execution_count": 18,
   "metadata": {},
   "outputs": [
    {
     "data": {
      "text/plain": [
       "-0.09960719847217883"
      ]
     },
     "execution_count": 18,
     "metadata": {},
     "output_type": "execute_result"
    }
   ],
   "source": [
    "returns.corr(features['ofi'])"
   ]
  },
  {
   "cell_type": "code",
   "execution_count": null,
   "metadata": {},
   "outputs": [],
   "source": []
  },
  {
   "cell_type": "code",
   "execution_count": 88,
   "metadata": {},
   "outputs": [],
   "source": [
    "ret = calc_return(mean_prices, 1e8)"
   ]
  },
  {
   "cell_type": "code",
   "execution_count": 1,
   "metadata": {},
   "outputs": [],
   "source": [
    "periods = np.logspace(6, 9, 10)\n",
    "def calc_return_ratio(returns, th):\n",
    "    returns = returns.dropna()\n",
    "    return returns.loc[np.abs(returns) >= th].shape[0] / returns.shape[0]"
   ]
  },
  {
   "cell_type": "code",
   "execution_count": null,
   "metadata": {},
   "outputs": [],
   "source": []
  },
  {
   "cell_type": "code",
   "execution_count": 76,
   "metadata": {},
   "outputs": [
    {
     "data": {
      "application/vnd.jupyter.widget-view+json": {
       "model_id": "521b650a77914ad5910f9c3c51cc27f4",
       "version_major": 2,
       "version_minor": 0
      },
      "text/html": [
       "<p>Failed to display Jupyter Widget of type <code>HBox</code>.</p>\n",
       "<p>\n",
       "  If you're reading this message in the Jupyter Notebook or JupyterLab Notebook, it may mean\n",
       "  that the widgets JavaScript is still loading. If this message persists, it\n",
       "  likely means that the widgets JavaScript library is either not installed or\n",
       "  not enabled. See the <a href=\"https://ipywidgets.readthedocs.io/en/stable/user_install.html\">Jupyter\n",
       "  Widgets Documentation</a> for setup instructions.\n",
       "</p>\n",
       "<p>\n",
       "  If you're reading this message in another frontend (for example, a static\n",
       "  rendering on GitHub or <a href=\"https://nbviewer.jupyter.org/\">NBViewer</a>),\n",
       "  it may mean that your frontend doesn't currently support widgets.\n",
       "</p>\n"
      ],
      "text/plain": [
       "HBox(children=(IntProgress(value=0, max=138813), HTML(value='')))"
      ]
     },
     "metadata": {},
     "output_type": "display_data"
    },
    {
     "name": "stdout",
     "output_type": "stream",
     "text": [
      "\n"
     ]
    }
   ],
   "source": [
    "period = 1e8 # 100 seconds\n",
    "mid_prices = 0.5 * (df['ap0'] + df['bp0'])\n",
    "mean_prices, vols, zscores = calc_vol(mid_prices, period, 1)\n",
    "# mean_prices = smooth_signals(mid_prices, period)"
   ]
  },
  {
   "cell_type": "code",
   "execution_count": 77,
   "metadata": {},
   "outputs": [
    {
     "data": {
      "text/plain": [
       "<matplotlib.axes._subplots.AxesSubplot at 0x7ff5585b6748>"
      ]
     },
     "execution_count": 77,
     "metadata": {},
     "output_type": "execute_result"
    },
    {
     "data": {
      "image/png": "[encoded data removed]",
      "text/plain": [
       "<Figure size 432x288 with 1 Axes>"
      ]
     },
     "metadata": {},
     "output_type": "display_data"
    }
   ],
   "source": [
    "zscores.plot()"
   ]
  },
  {
   "cell_type": "code",
   "execution_count": 79,
   "metadata": {},
   "outputs": [
    {
     "data": {
      "application/vnd.jupyter.widget-view+json": {
       "model_id": "ee3f897cc9884906a0006f5074f8ec52",
       "version_major": 2,
       "version_minor": 0
      },
      "text/html": [
       "<p>Failed to display Jupyter Widget of type <code>HBox</code>.</p>\n",
       "<p>\n",
       "  If you're reading this message in the Jupyter Notebook or JupyterLab Notebook, it may mean\n",
       "  that the widgets JavaScript is still loading. If this message persists, it\n",
       "  likely means that the widgets JavaScript library is either not installed or\n",
       "  not enabled. See the <a href=\"https://ipywidgets.readthedocs.io/en/stable/user_install.html\">Jupyter\n",
       "  Widgets Documentation</a> for setup instructions.\n",
       "</p>\n",
       "<p>\n",
       "  If you're reading this message in another frontend (for example, a static\n",
       "  rendering on GitHub or <a href=\"https://nbviewer.jupyter.org/\">NBViewer</a>),\n",
       "  it may mean that your frontend doesn't currently support widgets.\n",
       "</p>\n"
      ],
      "text/plain": [
       "HBox(children=(IntProgress(value=0, max=138813), HTML(value='')))"
      ]
     },
     "metadata": {},
     "output_type": "display_data"
    },
    {
     "name": "stdout",
     "output_type": "stream",
     "text": [
      "\n"
     ]
    }
   ],
   "source": [
    "micro_prices = calc_micro_price(df, verbose=1)"
   ]
  },
  {
   "cell_type": "code",
   "execution_count": 80,
   "metadata": {},
   "outputs": [
    {
     "data": {
      "text/plain": [
       "<matplotlib.axes._subplots.AxesSubplot at 0x7ff55892fda0>"
      ]
     },
     "execution_count": 80,
     "metadata": {},
     "output_type": "execute_result"
    },
    {
     "data": {
      "image/png": "[encoded data removed]",
      "text/plain": [
       "<Figure size 432x288 with 1 Axes>"
      ]
     },
     "metadata": {},
     "output_type": "display_data"
    }
   ],
   "source": [
    "micro_prices.plot()"
   ]
  },
  {
   "cell_type": "code",
   "execution_count": 81,
   "metadata": {},
   "outputs": [],
   "source": [
    "diffs = micro_prices - mid_prices"
   ]
  },
  {
   "cell_type": "code",
   "execution_count": 82,
   "metadata": {},
   "outputs": [
    {
     "data": {
      "text/plain": [
       "<matplotlib.axes._subplots.AxesSubplot at 0x7ff5582f1cf8>"
      ]
     },
     "execution_count": 82,
     "metadata": {},
     "output_type": "execute_result"
    },
    {
     "data": {
      "image/png": "[encoded data removed]",
      "text/plain": [
       "<Figure size 432x288 with 1 Axes>"
      ]
     },
     "metadata": {},
     "output_type": "display_data"
    }
   ],
   "source": [
    "diffs.plot()"
   ]
  },
  {
   "cell_type": "code",
   "execution_count": null,
   "metadata": {},
   "outputs": [],
   "source": []
  },
  {
   "cell_type": "code",
   "execution_count": 12,
   "metadata": {},
   "outputs": [],
   "source": [
    "ofis = calc_order_flow_imbalacne(df, period)"
   ]
  },
  {
   "cell_type": "code",
   "execution_count": 14,
   "metadata": {},
   "outputs": [
    {
     "data": {
      "text/plain": [
       "<matplotlib.axes._subplots.AxesSubplot at 0x7ff558ab00f0>"
      ]
     },
     "execution_count": 14,
     "metadata": {},
     "output_type": "execute_result"
    },
    {
     "data": {
      "image/png": "[encoded data removed]",
      "text/plain": [
       "<Figure size 432x288 with 1 Axes>"
      ]
     },
     "metadata": {},
     "output_type": "display_data"
    }
   ],
   "source": [
    "%matplotlib inline\n",
    "ofis.plot()"
   ]
  },
  {
   "cell_type": "code",
   "execution_count": 22,
   "metadata": {},
   "outputs": [
    {
     "data": {
      "text/plain": [
       "count    138813.000000\n",
       "mean         13.437545\n",
       "std          98.448380\n",
       "min        -574.000000\n",
       "25%         -24.000000\n",
       "50%           0.000000\n",
       "75%          54.000000\n",
       "max         456.000000\n",
       "dtype: float64"
      ]
     },
     "execution_count": 22,
     "metadata": {},
     "output_type": "execute_result"
    }
   ],
   "source": [
    "ofis.describe()"
   ]
  },
  {
   "cell_type": "code",
   "execution_count": 33,
   "metadata": {},
   "outputs": [
    {
     "data": {
      "text/plain": [
       "<matplotlib.axes._subplots.AxesSubplot at 0x7ff566159ac8>"
      ]
     },
     "execution_count": 33,
     "metadata": {},
     "output_type": "execute_result"
    },
    {
     "data": {
      "image/png": "[encoded data removed]",
      "text/plain": [
       "<Figure size 432x288 with 2 Axes>"
      ]
     },
     "metadata": {},
     "output_type": "display_data"
    }
   ],
   "source": [
    "mid_prices.plot()\n",
    "mean_prices.plot()\n",
    "vols.plot(secondary_y=True)"
   ]
  },
  {
   "cell_type": "code",
   "execution_count": 34,
   "metadata": {},
   "outputs": [],
   "source": [
    "volume_imb = df['bq0'] - df['aq0']"
   ]
  },
  {
   "cell_type": "code",
   "execution_count": 37,
   "metadata": {},
   "outputs": [],
   "source": [
    "period = 1e8\n",
    "smooth_imb = smooth_signals(volume_imb, period)"
   ]
  },
  {
   "cell_type": "code",
   "execution_count": 38,
   "metadata": {},
   "outputs": [
    {
     "data": {
      "text/plain": [
       "<matplotlib.axes._subplots.AxesSubplot at 0x7ff566126f98>"
      ]
     },
     "execution_count": 38,
     "metadata": {},
     "output_type": "execute_result"
    },
    {
     "data": {
      "image/png": "[encoded data removed]",
      "text/plain": [
       "<Figure size 432x288 with 1 Axes>"
      ]
     },
     "metadata": {},
     "output_type": "display_data"
    }
   ],
   "source": [
    "smooth_imb.plot()"
   ]
  },
  {
   "cell_type": "code",
   "execution_count": null,
   "metadata": {},
   "outputs": [],
   "source": []
  },
  {
   "cell_type": "code",
   "execution_count": null,
   "metadata": {},
   "outputs": [],
   "source": []
  },
  {
   "cell_type": "code",
   "execution_count": null,
   "metadata": {},
   "outputs": [],
   "source": []
  },
  {
   "cell_type": "code",
   "execution_count": null,
   "metadata": {},
   "outputs": [],
   "source": []
  },
  {
   "cell_type": "code",
   "execution_count": null,
   "metadata": {},
   "outputs": [],
   "source": []
  },
  {
   "cell_type": "code",
   "execution_count": null,
   "metadata": {},
   "outputs": [],
   "source": []
  },
  {
   "cell_type": "code",
   "execution_count": 33,
   "metadata": {},
   "outputs": [
    {
     "data": {
      "text/html": [
       "<div>\n",
       "<style scoped>\n",
       "    .dataframe tbody tr th:only-of-type {\n",
       "        vertical-align: middle;\n",
       "    }\n",
       "\n",
       "    .dataframe tbody tr th {\n",
       "        vertical-align: top;\n",
       "    }\n",
       "\n",
       "    .dataframe thead th {\n",
       "        text-align: right;\n",
       "    }\n",
       "</style>\n",
       "<table border=\"1\" class=\"dataframe\">\n",
       "  <thead>\n",
       "    <tr style=\"text-align: right;\">\n",
       "      <th></th>\n",
       "      <th>price</th>\n",
       "      <th>side</th>\n",
       "      <th>quantity</th>\n",
       "      <th>action</th>\n",
       "      <th>bp0</th>\n",
       "      <th>bq0</th>\n",
       "      <th>ap0</th>\n",
       "      <th>aq0</th>\n",
       "      <th>ofi</th>\n",
       "    </tr>\n",
       "    <tr>\n",
       "      <th>timestamp</th>\n",
       "      <th></th>\n",
       "      <th></th>\n",
       "      <th></th>\n",
       "      <th></th>\n",
       "      <th></th>\n",
       "      <th></th>\n",
       "      <th></th>\n",
       "      <th></th>\n",
       "      <th></th>\n",
       "    </tr>\n",
       "  </thead>\n",
       "  <tbody>\n",
       "    <tr>\n",
       "      <th>0</th>\n",
       "      <td>9990</td>\n",
       "      <td>b</td>\n",
       "      <td>11</td>\n",
       "      <td>a</td>\n",
       "      <td>9990</td>\n",
       "      <td>11</td>\n",
       "      <td>NaN</td>\n",
       "      <td>NaN</td>\n",
       "      <td>11</td>\n",
       "    </tr>\n",
       "    <tr>\n",
       "      <th>0</th>\n",
       "      <td>9990</td>\n",
       "      <td>b</td>\n",
       "      <td>16</td>\n",
       "      <td>a</td>\n",
       "      <td>9990</td>\n",
       "      <td>27</td>\n",
       "      <td>NaN</td>\n",
       "      <td>NaN</td>\n",
       "      <td>16</td>\n",
       "    </tr>\n",
       "    <tr>\n",
       "      <th>0</th>\n",
       "      <td>9995</td>\n",
       "      <td>a</td>\n",
       "      <td>1</td>\n",
       "      <td>a</td>\n",
       "      <td>9990</td>\n",
       "      <td>27</td>\n",
       "      <td>9995.0</td>\n",
       "      <td>1.0</td>\n",
       "      <td>-1</td>\n",
       "    </tr>\n",
       "    <tr>\n",
       "      <th>0</th>\n",
       "      <td>9990</td>\n",
       "      <td>b</td>\n",
       "      <td>6</td>\n",
       "      <td>a</td>\n",
       "      <td>9990</td>\n",
       "      <td>33</td>\n",
       "      <td>9995.0</td>\n",
       "      <td>1.0</td>\n",
       "      <td>6</td>\n",
       "    </tr>\n",
       "    <tr>\n",
       "      <th>0</th>\n",
       "      <td>9990</td>\n",
       "      <td>b</td>\n",
       "      <td>1</td>\n",
       "      <td>a</td>\n",
       "      <td>9990</td>\n",
       "      <td>34</td>\n",
       "      <td>9995.0</td>\n",
       "      <td>1.0</td>\n",
       "      <td>1</td>\n",
       "    </tr>\n",
       "    <tr>\n",
       "      <th>0</th>\n",
       "      <td>9985</td>\n",
       "      <td>b</td>\n",
       "      <td>1</td>\n",
       "      <td>a</td>\n",
       "      <td>9990</td>\n",
       "      <td>34</td>\n",
       "      <td>9995.0</td>\n",
       "      <td>1.0</td>\n",
       "      <td>0</td>\n",
       "    </tr>\n",
       "    <tr>\n",
       "      <th>0</th>\n",
       "      <td>10000</td>\n",
       "      <td>a</td>\n",
       "      <td>1</td>\n",
       "      <td>a</td>\n",
       "      <td>9990</td>\n",
       "      <td>34</td>\n",
       "      <td>9995.0</td>\n",
       "      <td>1.0</td>\n",
       "      <td>0</td>\n",
       "    </tr>\n",
       "    <tr>\n",
       "      <th>0</th>\n",
       "      <td>9985</td>\n",
       "      <td>b</td>\n",
       "      <td>1</td>\n",
       "      <td>a</td>\n",
       "      <td>9990</td>\n",
       "      <td>34</td>\n",
       "      <td>9995.0</td>\n",
       "      <td>1.0</td>\n",
       "      <td>0</td>\n",
       "    </tr>\n",
       "    <tr>\n",
       "      <th>0</th>\n",
       "      <td>10000</td>\n",
       "      <td>a</td>\n",
       "      <td>1</td>\n",
       "      <td>a</td>\n",
       "      <td>9990</td>\n",
       "      <td>34</td>\n",
       "      <td>9995.0</td>\n",
       "      <td>1.0</td>\n",
       "      <td>-1</td>\n",
       "    </tr>\n",
       "    <tr>\n",
       "      <th>0</th>\n",
       "      <td>9985</td>\n",
       "      <td>b</td>\n",
       "      <td>1</td>\n",
       "      <td>a</td>\n",
       "      <td>9990</td>\n",
       "      <td>34</td>\n",
       "      <td>9995.0</td>\n",
       "      <td>1.0</td>\n",
       "      <td>0</td>\n",
       "    </tr>\n",
       "    <tr>\n",
       "      <th>0</th>\n",
       "      <td>10000</td>\n",
       "      <td>a</td>\n",
       "      <td>1</td>\n",
       "      <td>a</td>\n",
       "      <td>9990</td>\n",
       "      <td>34</td>\n",
       "      <td>9995.0</td>\n",
       "      <td>1.0</td>\n",
       "      <td>-1</td>\n",
       "    </tr>\n",
       "    <tr>\n",
       "      <th>0</th>\n",
       "      <td>9985</td>\n",
       "      <td>b</td>\n",
       "      <td>1</td>\n",
       "      <td>a</td>\n",
       "      <td>9990</td>\n",
       "      <td>34</td>\n",
       "      <td>9995.0</td>\n",
       "      <td>1.0</td>\n",
       "      <td>0</td>\n",
       "    </tr>\n",
       "    <tr>\n",
       "      <th>0</th>\n",
       "      <td>10000</td>\n",
       "      <td>a</td>\n",
       "      <td>1</td>\n",
       "      <td>a</td>\n",
       "      <td>9990</td>\n",
       "      <td>34</td>\n",
       "      <td>9995.0</td>\n",
       "      <td>1.0</td>\n",
       "      <td>-1</td>\n",
       "    </tr>\n",
       "    <tr>\n",
       "      <th>0</th>\n",
       "      <td>9985</td>\n",
       "      <td>b</td>\n",
       "      <td>1</td>\n",
       "      <td>a</td>\n",
       "      <td>9990</td>\n",
       "      <td>34</td>\n",
       "      <td>9995.0</td>\n",
       "      <td>1.0</td>\n",
       "      <td>0</td>\n",
       "    </tr>\n",
       "    <tr>\n",
       "      <th>0</th>\n",
       "      <td>9985</td>\n",
       "      <td>b</td>\n",
       "      <td>1</td>\n",
       "      <td>a</td>\n",
       "      <td>9990</td>\n",
       "      <td>34</td>\n",
       "      <td>9995.0</td>\n",
       "      <td>1.0</td>\n",
       "      <td>0</td>\n",
       "    </tr>\n",
       "    <tr>\n",
       "      <th>0</th>\n",
       "      <td>10005</td>\n",
       "      <td>a</td>\n",
       "      <td>1</td>\n",
       "      <td>a</td>\n",
       "      <td>9990</td>\n",
       "      <td>34</td>\n",
       "      <td>9995.0</td>\n",
       "      <td>1.0</td>\n",
       "      <td>3</td>\n",
       "    </tr>\n",
       "    <tr>\n",
       "      <th>0</th>\n",
       "      <td>9985</td>\n",
       "      <td>b</td>\n",
       "      <td>2</td>\n",
       "      <td>a</td>\n",
       "      <td>9990</td>\n",
       "      <td>34</td>\n",
       "      <td>9995.0</td>\n",
       "      <td>1.0</td>\n",
       "      <td>0</td>\n",
       "    </tr>\n",
       "    <tr>\n",
       "      <th>0</th>\n",
       "      <td>9985</td>\n",
       "      <td>b</td>\n",
       "      <td>1</td>\n",
       "      <td>a</td>\n",
       "      <td>9990</td>\n",
       "      <td>34</td>\n",
       "      <td>9995.0</td>\n",
       "      <td>1.0</td>\n",
       "      <td>0</td>\n",
       "    </tr>\n",
       "    <tr>\n",
       "      <th>22</th>\n",
       "      <td>10005</td>\n",
       "      <td>a</td>\n",
       "      <td>1</td>\n",
       "      <td>a</td>\n",
       "      <td>9990</td>\n",
       "      <td>34</td>\n",
       "      <td>9995.0</td>\n",
       "      <td>1.0</td>\n",
       "      <td>-1</td>\n",
       "    </tr>\n",
       "    <tr>\n",
       "      <th>22</th>\n",
       "      <td>10010</td>\n",
       "      <td>a</td>\n",
       "      <td>1</td>\n",
       "      <td>a</td>\n",
       "      <td>9990</td>\n",
       "      <td>34</td>\n",
       "      <td>9995.0</td>\n",
       "      <td>1.0</td>\n",
       "      <td>1</td>\n",
       "    </tr>\n",
       "  </tbody>\n",
       "</table>\n",
       "</div>"
      ],
      "text/plain": [
       "           price side  quantity action   bp0  bq0     ap0  aq0  ofi\n",
       "timestamp                                                          \n",
       "0           9990    b        11      a  9990   11     NaN  NaN   11\n",
       "0           9990    b        16      a  9990   27     NaN  NaN   16\n",
       "0           9995    a         1      a  9990   27  9995.0  1.0   -1\n",
       "0           9990    b         6      a  9990   33  9995.0  1.0    6\n",
       "0           9990    b         1      a  9990   34  9995.0  1.0    1\n",
       "0           9985    b         1      a  9990   34  9995.0  1.0    0\n",
       "0          10000    a         1      a  9990   34  9995.0  1.0    0\n",
       "0           9985    b         1      a  9990   34  9995.0  1.0    0\n",
       "0          10000    a         1      a  9990   34  9995.0  1.0   -1\n",
       "0           9985    b         1      a  9990   34  9995.0  1.0    0\n",
       "0          10000    a         1      a  9990   34  9995.0  1.0   -1\n",
       "0           9985    b         1      a  9990   34  9995.0  1.0    0\n",
       "0          10000    a         1      a  9990   34  9995.0  1.0   -1\n",
       "0           9985    b         1      a  9990   34  9995.0  1.0    0\n",
       "0           9985    b         1      a  9990   34  9995.0  1.0    0\n",
       "0          10005    a         1      a  9990   34  9995.0  1.0    3\n",
       "0           9985    b         2      a  9990   34  9995.0  1.0    0\n",
       "0           9985    b         1      a  9990   34  9995.0  1.0    0\n",
       "22         10005    a         1      a  9990   34  9995.0  1.0   -1\n",
       "22         10010    a         1      a  9990   34  9995.0  1.0    1"
      ]
     },
     "execution_count": 33,
     "metadata": {},
     "output_type": "execute_result"
    }
   ],
   "source": [
    "df[['price', 'side', 'quantity', 'action', 'bp0', 'bq0', 'ap0', 'aq0','ofi']].head(20)"
   ]
  },
  {
   "cell_type": "code",
   "execution_count": 34,
   "metadata": {},
   "outputs": [
    {
     "data": {
      "text/plain": [
       "count    138813.000000\n",
       "mean         -0.026518\n",
       "std           9.771522\n",
       "min        -125.000000\n",
       "25%           0.000000\n",
       "50%           0.000000\n",
       "75%           0.000000\n",
       "max         240.000000\n",
       "Name: ofi, dtype: float64"
      ]
     },
     "execution_count": 34,
     "metadata": {},
     "output_type": "execute_result"
    }
   ],
   "source": [
    "df['ofi'].describe()"
   ]
  },
  {
   "cell_type": "code",
   "execution_count": 35,
   "metadata": {},
   "outputs": [
    {
     "data": {
      "text/plain": [
       "<matplotlib.axes._subplots.AxesSubplot at 0x7f0a450ebb00>"
      ]
     },
     "execution_count": 35,
     "metadata": {},
     "output_type": "execute_result"
    },
    {
     "data": {
      "image/png": "[encoded data removed]",
      "text/plain": [
       "<Figure size 432x288 with 1 Axes>"
      ]
     },
     "metadata": {},
     "output_type": "display_data"
    }
   ],
   "source": [
    "np.abs(df['ofi']).cumsum().plot()"
   ]
  },
  {
   "cell_type": "code",
   "execution_count": 36,
   "metadata": {},
   "outputs": [
    {
     "data": {
      "text/plain": [
       "Int64Index([0, 0, 0, 0, 0, 0, 0, 0, 0, 0], dtype='int64', name='timestamp')"
      ]
     },
     "execution_count": 36,
     "metadata": {},
     "output_type": "execute_result"
    }
   ],
   "source": [
    "df.index[:10]"
   ]
  },
  {
   "cell_type": "code",
   "execution_count": 50,
   "metadata": {},
   "outputs": [],
   "source": [
    "diff = df.index[1:] - df.index[:-1]"
   ]
  },
  {
   "cell_type": "code",
   "execution_count": 53,
   "metadata": {},
   "outputs": [
    {
     "data": {
      "text/plain": [
       "154454.7318923279"
      ]
     },
     "execution_count": 53,
     "metadata": {},
     "output_type": "execute_result"
    }
   ],
   "source": [
    "diff[diff > 0].values.mean()"
   ]
  },
  {
   "cell_type": "code",
   "execution_count": null,
   "metadata": {},
   "outputs": [],
   "source": []
  },
  {
   "cell_type": "code",
   "execution_count": null,
   "metadata": {},
   "outputs": [],
   "source": []
  },
  {
   "cell_type": "code",
   "execution_count": null,
   "metadata": {},
   "outputs": [],
   "source": []
  },
  {
   "cell_type": "code",
   "execution_count": 54,
   "metadata": {},
   "outputs": [
    {
     "data": {
      "application/vnd.jupyter.widget-view+json": {
       "model_id": "0f1de505d17d424e92d096d53c10bc89",
       "version_major": 2,
       "version_minor": 0
      },
      "text/html": [
       "<p>Failed to display Jupyter Widget of type <code>HBox</code>.</p>\n",
       "<p>\n",
       "  If you're reading this message in the Jupyter Notebook or JupyterLab Notebook, it may mean\n",
       "  that the widgets JavaScript is still loading. If this message persists, it\n",
       "  likely means that the widgets JavaScript library is either not installed or\n",
       "  not enabled. See the <a href=\"https://ipywidgets.readthedocs.io/en/stable/user_install.html\">Jupyter\n",
       "  Widgets Documentation</a> for setup instructions.\n",
       "</p>\n",
       "<p>\n",
       "  If you're reading this message in another frontend (for example, a static\n",
       "  rendering on GitHub or <a href=\"https://nbviewer.jupyter.org/\">NBViewer</a>),\n",
       "  it may mean that your frontend doesn't currently support widgets.\n",
       "</p>\n"
      ],
      "text/plain": [
       "HBox(children=(IntProgress(value=0, max=264467), HTML(value='')))"
      ]
     },
     "metadata": {},
     "output_type": "display_data"
    },
    {
     "name": "stdout",
     "output_type": "stream",
     "text": [
      "\n"
     ]
    }
   ],
   "source": [
    "from helper import Sum\n",
    "from tqdm import tqdm_notebook\n",
    "\n",
    "ofi_sum = Sum(1e6)\n",
    "ofis = []\n",
    "for i in tqdm_notebook(range(df.shape[0])):\n",
    "    x = df.iloc[i]\n",
    "    timestamp = df.index[i]\n",
    "    ofi_sum.update(x['ofi'], timestamp)\n",
    "    ofi = ofi_sum.get_signal()\n",
    "    ofis.append(ofi)"
   ]
  },
  {
   "cell_type": "code",
   "execution_count": 55,
   "metadata": {},
   "outputs": [],
   "source": [
    "ofis = pd.Series(ofis, index=df.index)"
   ]
  },
  {
   "cell_type": "code",
   "execution_count": 56,
   "metadata": {},
   "outputs": [
    {
     "data": {
      "text/plain": [
       "count    264467.000000\n",
       "mean         -1.153668\n",
       "std          51.700187\n",
       "min        -474.000000\n",
       "25%         -12.000000\n",
       "50%           0.000000\n",
       "75%           8.000000\n",
       "max         466.000000\n",
       "dtype: float64"
      ]
     },
     "execution_count": 56,
     "metadata": {},
     "output_type": "execute_result"
    }
   ],
   "source": [
    "ofis.describe()"
   ]
  },
  {
   "cell_type": "code",
   "execution_count": 57,
   "metadata": {},
   "outputs": [
    {
     "data": {
      "text/plain": [
       "<matplotlib.axes._subplots.AxesSubplot at 0x7f0a4515cd30>"
      ]
     },
     "execution_count": 57,
     "metadata": {},
     "output_type": "execute_result"
    },
    {
     "data": {
      "image/png": "[encoded data removed]",
      "text/plain": [
       "<Figure size 432x288 with 1 Axes>"
      ]
     },
     "metadata": {},
     "output_type": "display_data"
    }
   ],
   "source": [
    "ofis.plot()"
   ]
  },
  {
   "cell_type": "code",
   "execution_count": 58,
   "metadata": {},
   "outputs": [
    {
     "data": {
      "text/plain": [
       "<matplotlib.axes._subplots.AxesSubplot at 0x7f0a44981c50>"
      ]
     },
     "execution_count": 58,
     "metadata": {},
     "output_type": "execute_result"
    },
    {
     "data": {
      "image/png": "[encoded data removed]",
      "text/plain": [
       "<Figure size 432x288 with 1 Axes>"
      ]
     },
     "metadata": {},
     "output_type": "display_data"
    }
   ],
   "source": [
    "df['ap0'].plot()"
   ]
  },
  {
   "cell_type": "code",
   "execution_count": 1,
   "metadata": {},
   "outputs": [],
   "source": []
  },
  {
   "cell_type": "code",
   "execution_count": null,
   "metadata": {},
   "outputs": [],
   "source": []
  },
  {
   "cell_type": "code",
   "execution_count": null,
   "metadata": {},
   "outputs": [],
   "source": []
  },
  {
   "cell_type": "code",
   "execution_count": 42,
   "metadata": {},
   "outputs": [],
   "source": [
    "dfs = []\n",
    "for i in range(4):\n",
    "    df = pd.read_csv(f'outputs/output_res_2019061{i}.csv', index_col='timestamp')\n",
    "    dfs.append(df)"
   ]
  },
  {
   "cell_type": "code",
   "execution_count": 43,
   "metadata": {},
   "outputs": [
    {
     "data": {
      "text/plain": [
       "[345951, 574523, 730994, 727386]"
      ]
     },
     "execution_count": 43,
     "metadata": {},
     "output_type": "execute_result"
    }
   ],
   "source": [
    "quantities = [df['quantity'].sum() for df in dfs]\n",
    "quantities"
   ]
  },
  {
   "cell_type": "code",
   "execution_count": 44,
   "metadata": {},
   "outputs": [
    {
     "data": {
      "text/plain": [
       "[36000.0, 36000.0, 36000.0, 36000.0]"
      ]
     },
     "execution_count": 44,
     "metadata": {},
     "output_type": "execute_result"
    }
   ],
   "source": [
    "lengths = [(df.index[-1] - df.index[0]) * 1e-6 for df in dfs]\n",
    "lengths"
   ]
  },
  {
   "cell_type": "code",
   "execution_count": 45,
   "metadata": {},
   "outputs": [
    {
     "name": "stdout",
     "output_type": "stream",
     "text": [
      "[array([  0.,   5.,  -5., -10.,  10.]), array([  0.,  -5.,   5., -10.]), array([  0.,  -5.,   5., -10.]), array([  0., -15.,   5.,  -5., -10.,  10.])]\n",
      "[array([ 0.,  5., -5., 10.]), array([ 0., -5.,  5.]), array([ 0., -5.,  5., 10.]), array([ 0., -5.,  5.])]\n"
     ]
    }
   ],
   "source": [
    "ask_diffs = [df['ap0'].diff().fillna(0).unique() for df in dfs]\n",
    "bid_diffs = [df['bp0'].diff().fillna(0).unique() for df in dfs]\n",
    "print(ask_diffs)\n",
    "print(bid_diffs)"
   ]
  },
  {
   "cell_type": "code",
   "execution_count": 46,
   "metadata": {},
   "outputs": [
    {
     "name": "stdout",
     "output_type": "stream",
     "text": [
      "[27.54399387911247, 13.595166163141993, 11.225444340505145, 11.494252873563218]\n",
      "[15.901060070671377, 13.688212927756654, 11.331444759206798, 10.650887573964496]\n"
     ]
    }
   ],
   "source": [
    "ask_diffs = [df['ap0'].diff().fillna(0) for df in dfs]\n",
    "ask_diffs = [x[x != 0].shape[0] for x in ask_diffs]\n",
    "ask_diffs = [lengths[i] / ask_diffs[i] for i in range(len(lengths))]\n",
    "bid_diffs = [df['bp0'].diff().fillna(0) for df in dfs]\n",
    "bid_diffs = [x[x != 0].shape[0] for x in bid_diffs]\n",
    "bid_diffs = [lengths[i] / bid_diffs[i] for i in range(len(lengths))]\n",
    "print(ask_diffs)\n",
    "print(bid_diffs)"
   ]
  },
  {
   "cell_type": "code",
   "execution_count": 47,
   "metadata": {},
   "outputs": [
    {
     "data": {
      "text/plain": [
       "[24.788532609087177, 48.15029024682058, 50.452229299363054, 47.21140255684074]"
      ]
     },
     "execution_count": 47,
     "metadata": {},
     "output_type": "execute_result"
    }
   ],
   "source": [
    "[df['aq0'].mean() for df in dfs]"
   ]
  },
  {
   "cell_type": "code",
   "execution_count": 48,
   "metadata": {},
   "outputs": [
    {
     "data": {
      "text/plain": [
       "[43.48558132163414, 51.89983914351677, 50.70632233653632, 48.823602367042895]"
      ]
     },
     "execution_count": 48,
     "metadata": {},
     "output_type": "execute_result"
    }
   ],
   "source": [
    "[df['bq0'].mean() for df in dfs]"
   ]
  },
  {
   "cell_type": "code",
   "execution_count": 120,
   "metadata": {},
   "outputs": [],
   "source": [
    "return_period = 1000\n",
    "sample_qty = 100"
   ]
  },
  {
   "cell_type": "code",
   "execution_count": 58,
   "metadata": {},
   "outputs": [],
   "source": [
    "diff = df['ap0'].diff()"
   ]
  },
  {
   "cell_type": "code",
   "execution_count": 62,
   "metadata": {},
   "outputs": [
    {
     "data": {
      "text/plain": [
       "10145.0"
      ]
     },
     "execution_count": 62,
     "metadata": {},
     "output_type": "execute_result"
    }
   ],
   "source": [
    "df['ap4'].max()"
   ]
  },
  {
   "cell_type": "code",
   "execution_count": 54,
   "metadata": {},
   "outputs": [
    {
     "data": {
      "text/plain": [
       "10125"
      ]
     },
     "execution_count": 54,
     "metadata": {},
     "output_type": "execute_result"
    }
   ],
   "source": [
    "df['ap0'].max()"
   ]
  },
  {
   "cell_type": "code",
   "execution_count": 55,
   "metadata": {},
   "outputs": [],
   "source": [
    "spread = df['ap0'] - df['bp0']"
   ]
  },
  {
   "cell_type": "code",
   "execution_count": 56,
   "metadata": {},
   "outputs": [
    {
     "data": {
      "text/plain": [
       "count    264465.000000\n",
       "mean          5.335111\n",
       "std           1.252494\n",
       "min           5.000000\n",
       "25%           5.000000\n",
       "50%           5.000000\n",
       "75%           5.000000\n",
       "max          20.000000\n",
       "dtype: float64"
      ]
     },
     "execution_count": 56,
     "metadata": {},
     "output_type": "execute_result"
    }
   ],
   "source": [
    "spread.describe()"
   ]
  },
  {
   "cell_type": "code",
   "execution_count": 57,
   "metadata": {},
   "outputs": [
    {
     "data": {
      "text/plain": [
       "<matplotlib.axes._subplots.AxesSubplot at 0x1157f8310>"
      ]
     },
     "execution_count": 57,
     "metadata": {},
     "output_type": "execute_result"
    },
    {
     "data": {
      "image/png": "[encoded data removed]",
      "text/plain": [
       "<Figure size 3200x1600 with 1 Axes>"
      ]
     },
     "metadata": {},
     "output_type": "display_data"
    }
   ],
   "source": [
    "%matplotlib inline\n",
    "df['ap0'].plot()"
   ]
  },
  {
   "cell_type": "code",
   "execution_count": 92,
   "metadata": {},
   "outputs": [
    {
     "data": {
      "text/html": [
       "<div>\n",
       "<style scoped>\n",
       "    .dataframe tbody tr th:only-of-type {\n",
       "        vertical-align: middle;\n",
       "    }\n",
       "\n",
       "    .dataframe tbody tr th {\n",
       "        vertical-align: top;\n",
       "    }\n",
       "\n",
       "    .dataframe thead th {\n",
       "        text-align: right;\n",
       "    }\n",
       "</style>\n",
       "<table border=\"1\" class=\"dataframe\">\n",
       "  <thead>\n",
       "    <tr style=\"text-align: right;\">\n",
       "      <th></th>\n",
       "      <th>price</th>\n",
       "      <th>side</th>\n",
       "      <th>quantity</th>\n",
       "      <th>action</th>\n",
       "      <th>bp0</th>\n",
       "      <th>bq0</th>\n",
       "      <th>bp1</th>\n",
       "      <th>bq1</th>\n",
       "      <th>bp2</th>\n",
       "      <th>bq2</th>\n",
       "      <th>...</th>\n",
       "      <th>ap0</th>\n",
       "      <th>aq0</th>\n",
       "      <th>ap1</th>\n",
       "      <th>aq1</th>\n",
       "      <th>ap2</th>\n",
       "      <th>aq2</th>\n",
       "      <th>ap3</th>\n",
       "      <th>aq3</th>\n",
       "      <th>ap4</th>\n",
       "      <th>aq4</th>\n",
       "    </tr>\n",
       "    <tr>\n",
       "      <th>timestamp</th>\n",
       "      <th></th>\n",
       "      <th></th>\n",
       "      <th></th>\n",
       "      <th></th>\n",
       "      <th></th>\n",
       "      <th></th>\n",
       "      <th></th>\n",
       "      <th></th>\n",
       "      <th></th>\n",
       "      <th></th>\n",
       "      <th></th>\n",
       "      <th></th>\n",
       "      <th></th>\n",
       "      <th></th>\n",
       "      <th></th>\n",
       "      <th></th>\n",
       "      <th></th>\n",
       "      <th></th>\n",
       "      <th></th>\n",
       "      <th></th>\n",
       "      <th></th>\n",
       "    </tr>\n",
       "  </thead>\n",
       "  <tbody>\n",
       "    <tr>\n",
       "      <td>0</td>\n",
       "      <td>9990</td>\n",
       "      <td>b</td>\n",
       "      <td>11</td>\n",
       "      <td>a</td>\n",
       "      <td>9990</td>\n",
       "      <td>11</td>\n",
       "      <td>NaN</td>\n",
       "      <td>NaN</td>\n",
       "      <td>NaN</td>\n",
       "      <td>NaN</td>\n",
       "      <td>...</td>\n",
       "      <td>NaN</td>\n",
       "      <td>NaN</td>\n",
       "      <td>NaN</td>\n",
       "      <td>NaN</td>\n",
       "      <td>NaN</td>\n",
       "      <td>NaN</td>\n",
       "      <td>NaN</td>\n",
       "      <td>NaN</td>\n",
       "      <td>NaN</td>\n",
       "      <td>NaN</td>\n",
       "    </tr>\n",
       "    <tr>\n",
       "      <td>0</td>\n",
       "      <td>9990</td>\n",
       "      <td>b</td>\n",
       "      <td>16</td>\n",
       "      <td>a</td>\n",
       "      <td>9990</td>\n",
       "      <td>27</td>\n",
       "      <td>NaN</td>\n",
       "      <td>NaN</td>\n",
       "      <td>NaN</td>\n",
       "      <td>NaN</td>\n",
       "      <td>...</td>\n",
       "      <td>NaN</td>\n",
       "      <td>NaN</td>\n",
       "      <td>NaN</td>\n",
       "      <td>NaN</td>\n",
       "      <td>NaN</td>\n",
       "      <td>NaN</td>\n",
       "      <td>NaN</td>\n",
       "      <td>NaN</td>\n",
       "      <td>NaN</td>\n",
       "      <td>NaN</td>\n",
       "    </tr>\n",
       "    <tr>\n",
       "      <td>0</td>\n",
       "      <td>9995</td>\n",
       "      <td>a</td>\n",
       "      <td>1</td>\n",
       "      <td>a</td>\n",
       "      <td>9990</td>\n",
       "      <td>27</td>\n",
       "      <td>NaN</td>\n",
       "      <td>NaN</td>\n",
       "      <td>NaN</td>\n",
       "      <td>NaN</td>\n",
       "      <td>...</td>\n",
       "      <td>9995.0</td>\n",
       "      <td>1.0</td>\n",
       "      <td>NaN</td>\n",
       "      <td>NaN</td>\n",
       "      <td>NaN</td>\n",
       "      <td>NaN</td>\n",
       "      <td>NaN</td>\n",
       "      <td>NaN</td>\n",
       "      <td>NaN</td>\n",
       "      <td>NaN</td>\n",
       "    </tr>\n",
       "    <tr>\n",
       "      <td>0</td>\n",
       "      <td>9990</td>\n",
       "      <td>b</td>\n",
       "      <td>6</td>\n",
       "      <td>a</td>\n",
       "      <td>9990</td>\n",
       "      <td>33</td>\n",
       "      <td>NaN</td>\n",
       "      <td>NaN</td>\n",
       "      <td>NaN</td>\n",
       "      <td>NaN</td>\n",
       "      <td>...</td>\n",
       "      <td>9995.0</td>\n",
       "      <td>1.0</td>\n",
       "      <td>NaN</td>\n",
       "      <td>NaN</td>\n",
       "      <td>NaN</td>\n",
       "      <td>NaN</td>\n",
       "      <td>NaN</td>\n",
       "      <td>NaN</td>\n",
       "      <td>NaN</td>\n",
       "      <td>NaN</td>\n",
       "    </tr>\n",
       "    <tr>\n",
       "      <td>0</td>\n",
       "      <td>9990</td>\n",
       "      <td>b</td>\n",
       "      <td>1</td>\n",
       "      <td>a</td>\n",
       "      <td>9990</td>\n",
       "      <td>34</td>\n",
       "      <td>NaN</td>\n",
       "      <td>NaN</td>\n",
       "      <td>NaN</td>\n",
       "      <td>NaN</td>\n",
       "      <td>...</td>\n",
       "      <td>9995.0</td>\n",
       "      <td>1.0</td>\n",
       "      <td>NaN</td>\n",
       "      <td>NaN</td>\n",
       "      <td>NaN</td>\n",
       "      <td>NaN</td>\n",
       "      <td>NaN</td>\n",
       "      <td>NaN</td>\n",
       "      <td>NaN</td>\n",
       "      <td>NaN</td>\n",
       "    </tr>\n",
       "    <tr>\n",
       "      <td>...</td>\n",
       "      <td>...</td>\n",
       "      <td>...</td>\n",
       "      <td>...</td>\n",
       "      <td>...</td>\n",
       "      <td>...</td>\n",
       "      <td>...</td>\n",
       "      <td>...</td>\n",
       "      <td>...</td>\n",
       "      <td>...</td>\n",
       "      <td>...</td>\n",
       "      <td>...</td>\n",
       "      <td>...</td>\n",
       "      <td>...</td>\n",
       "      <td>...</td>\n",
       "      <td>...</td>\n",
       "      <td>...</td>\n",
       "      <td>...</td>\n",
       "      <td>...</td>\n",
       "      <td>...</td>\n",
       "      <td>...</td>\n",
       "      <td>...</td>\n",
       "    </tr>\n",
       "    <tr>\n",
       "      <td>2147483647</td>\n",
       "      <td>10025</td>\n",
       "      <td>b</td>\n",
       "      <td>1</td>\n",
       "      <td>d</td>\n",
       "      <td>10025</td>\n",
       "      <td>14</td>\n",
       "      <td>10020.0</td>\n",
       "      <td>74.0</td>\n",
       "      <td>10015.0</td>\n",
       "      <td>75.0</td>\n",
       "      <td>...</td>\n",
       "      <td>10030.0</td>\n",
       "      <td>16.0</td>\n",
       "      <td>10035.0</td>\n",
       "      <td>103.0</td>\n",
       "      <td>10040.0</td>\n",
       "      <td>91.0</td>\n",
       "      <td>10045.0</td>\n",
       "      <td>59.0</td>\n",
       "      <td>10050.0</td>\n",
       "      <td>13.0</td>\n",
       "    </tr>\n",
       "    <tr>\n",
       "      <td>2147483647</td>\n",
       "      <td>10025</td>\n",
       "      <td>b</td>\n",
       "      <td>1</td>\n",
       "      <td>d</td>\n",
       "      <td>10025</td>\n",
       "      <td>13</td>\n",
       "      <td>10020.0</td>\n",
       "      <td>74.0</td>\n",
       "      <td>10015.0</td>\n",
       "      <td>75.0</td>\n",
       "      <td>...</td>\n",
       "      <td>10030.0</td>\n",
       "      <td>16.0</td>\n",
       "      <td>10035.0</td>\n",
       "      <td>103.0</td>\n",
       "      <td>10040.0</td>\n",
       "      <td>91.0</td>\n",
       "      <td>10045.0</td>\n",
       "      <td>59.0</td>\n",
       "      <td>10050.0</td>\n",
       "      <td>13.0</td>\n",
       "    </tr>\n",
       "    <tr>\n",
       "      <td>2147483647</td>\n",
       "      <td>10050</td>\n",
       "      <td>a</td>\n",
       "      <td>1</td>\n",
       "      <td>a</td>\n",
       "      <td>10025</td>\n",
       "      <td>13</td>\n",
       "      <td>10020.0</td>\n",
       "      <td>74.0</td>\n",
       "      <td>10015.0</td>\n",
       "      <td>75.0</td>\n",
       "      <td>...</td>\n",
       "      <td>10030.0</td>\n",
       "      <td>16.0</td>\n",
       "      <td>10035.0</td>\n",
       "      <td>103.0</td>\n",
       "      <td>10040.0</td>\n",
       "      <td>91.0</td>\n",
       "      <td>10045.0</td>\n",
       "      <td>59.0</td>\n",
       "      <td>10050.0</td>\n",
       "      <td>14.0</td>\n",
       "    </tr>\n",
       "    <tr>\n",
       "      <td>2147483647</td>\n",
       "      <td>10070</td>\n",
       "      <td>a</td>\n",
       "      <td>1</td>\n",
       "      <td>a</td>\n",
       "      <td>10025</td>\n",
       "      <td>13</td>\n",
       "      <td>10020.0</td>\n",
       "      <td>74.0</td>\n",
       "      <td>10015.0</td>\n",
       "      <td>75.0</td>\n",
       "      <td>...</td>\n",
       "      <td>10030.0</td>\n",
       "      <td>16.0</td>\n",
       "      <td>10035.0</td>\n",
       "      <td>103.0</td>\n",
       "      <td>10040.0</td>\n",
       "      <td>91.0</td>\n",
       "      <td>10045.0</td>\n",
       "      <td>59.0</td>\n",
       "      <td>10050.0</td>\n",
       "      <td>14.0</td>\n",
       "    </tr>\n",
       "    <tr>\n",
       "      <td>2147483647</td>\n",
       "      <td>10010</td>\n",
       "      <td>b</td>\n",
       "      <td>1</td>\n",
       "      <td>d</td>\n",
       "      <td>10025</td>\n",
       "      <td>13</td>\n",
       "      <td>10020.0</td>\n",
       "      <td>74.0</td>\n",
       "      <td>10015.0</td>\n",
       "      <td>75.0</td>\n",
       "      <td>...</td>\n",
       "      <td>10030.0</td>\n",
       "      <td>16.0</td>\n",
       "      <td>10035.0</td>\n",
       "      <td>103.0</td>\n",
       "      <td>10040.0</td>\n",
       "      <td>91.0</td>\n",
       "      <td>10045.0</td>\n",
       "      <td>59.0</td>\n",
       "      <td>10050.0</td>\n",
       "      <td>14.0</td>\n",
       "    </tr>\n",
       "  </tbody>\n",
       "</table>\n",
       "<p>138813 rows × 24 columns</p>\n",
       "</div>"
      ],
      "text/plain": [
       "            price side  quantity action    bp0  bq0      bp1   bq1      bp2  \\\n",
       "timestamp                                                                     \n",
       "0            9990    b        11      a   9990   11      NaN   NaN      NaN   \n",
       "0            9990    b        16      a   9990   27      NaN   NaN      NaN   \n",
       "0            9995    a         1      a   9990   27      NaN   NaN      NaN   \n",
       "0            9990    b         6      a   9990   33      NaN   NaN      NaN   \n",
       "0            9990    b         1      a   9990   34      NaN   NaN      NaN   \n",
       "...           ...  ...       ...    ...    ...  ...      ...   ...      ...   \n",
       "2147483647  10025    b         1      d  10025   14  10020.0  74.0  10015.0   \n",
       "2147483647  10025    b         1      d  10025   13  10020.0  74.0  10015.0   \n",
       "2147483647  10050    a         1      a  10025   13  10020.0  74.0  10015.0   \n",
       "2147483647  10070    a         1      a  10025   13  10020.0  74.0  10015.0   \n",
       "2147483647  10010    b         1      d  10025   13  10020.0  74.0  10015.0   \n",
       "\n",
       "             bq2  ...      ap0   aq0      ap1    aq1      ap2   aq2      ap3  \\\n",
       "timestamp         ...                                                          \n",
       "0            NaN  ...      NaN   NaN      NaN    NaN      NaN   NaN      NaN   \n",
       "0            NaN  ...      NaN   NaN      NaN    NaN      NaN   NaN      NaN   \n",
       "0            NaN  ...   9995.0   1.0      NaN    NaN      NaN   NaN      NaN   \n",
       "0            NaN  ...   9995.0   1.0      NaN    NaN      NaN   NaN      NaN   \n",
       "0            NaN  ...   9995.0   1.0      NaN    NaN      NaN   NaN      NaN   \n",
       "...          ...  ...      ...   ...      ...    ...      ...   ...      ...   \n",
       "2147483647  75.0  ...  10030.0  16.0  10035.0  103.0  10040.0  91.0  10045.0   \n",
       "2147483647  75.0  ...  10030.0  16.0  10035.0  103.0  10040.0  91.0  10045.0   \n",
       "2147483647  75.0  ...  10030.0  16.0  10035.0  103.0  10040.0  91.0  10045.0   \n",
       "2147483647  75.0  ...  10030.0  16.0  10035.0  103.0  10040.0  91.0  10045.0   \n",
       "2147483647  75.0  ...  10030.0  16.0  10035.0  103.0  10040.0  91.0  10045.0   \n",
       "\n",
       "             aq3      ap4   aq4  \n",
       "timestamp                        \n",
       "0            NaN      NaN   NaN  \n",
       "0            NaN      NaN   NaN  \n",
       "0            NaN      NaN   NaN  \n",
       "0            NaN      NaN   NaN  \n",
       "0            NaN      NaN   NaN  \n",
       "...          ...      ...   ...  \n",
       "2147483647  59.0  10050.0  13.0  \n",
       "2147483647  59.0  10050.0  13.0  \n",
       "2147483647  59.0  10050.0  14.0  \n",
       "2147483647  59.0  10050.0  14.0  \n",
       "2147483647  59.0  10050.0  14.0  \n",
       "\n",
       "[138813 rows x 24 columns]"
      ]
     },
     "execution_count": 92,
     "metadata": {},
     "output_type": "execute_result"
    }
   ],
   "source": [
    "dfs[0]"
   ]
  },
  {
   "cell_type": "code",
   "execution_count": 31,
   "metadata": {},
   "outputs": [
    {
     "data": {
      "text/plain": [
       "timestamp\n",
       "2147483647    10065\n",
       "2147483647    10065\n",
       "2147483647    10065\n",
       "2147483647    10065\n",
       "2147483647    10065\n",
       "              ...  \n",
       "2147483647    10065\n",
       "2147483647    10065\n",
       "2147483647    10065\n",
       "2147483647    10065\n",
       "2147483647    10065\n",
       "Name: ap0, Length: 1000, dtype: int64"
      ]
     },
     "execution_count": 31,
     "metadata": {},
     "output_type": "execute_result"
    }
   ],
   "source": [
    "df['ap0'].iloc[-1000:]"
   ]
  },
  {
   "cell_type": "code",
   "execution_count": 19,
   "metadata": {},
   "outputs": [],
   "source": [
    "x = df['ap0']"
   ]
  },
  {
   "cell_type": "code",
   "execution_count": 20,
   "metadata": {},
   "outputs": [
    {
     "data": {
      "text/plain": [
       "2147.483647"
      ]
     },
     "execution_count": 20,
     "metadata": {},
     "output_type": "execute_result"
    }
   ],
   "source": [
    "(df.index[-1] - df.index[0]) * 1e-6"
   ]
  },
  {
   "cell_type": "code",
   "execution_count": null,
   "metadata": {},
   "outputs": [],
   "source": []
  },
  {
   "cell_type": "code",
   "execution_count": null,
   "metadata": {},
   "outputs": [],
   "source": []
  },
  {
   "cell_type": "code",
   "execution_count": 8,
   "metadata": {},
   "outputs": [
    {
     "data": {
      "text/plain": [
       "<matplotlib.axes._subplots.AxesSubplot at 0x116b29c10>"
      ]
     },
     "execution_count": 8,
     "metadata": {},
     "output_type": "execute_result"
    },
    {
     "data": {
      "image/png": "[encoded data removed]",
      "text/plain": [
       "<Figure size 3200x1600 with 1 Axes>"
      ]
     },
     "metadata": {},
     "output_type": "display_data"
    }
   ],
   "source": [
    "spread.plot()"
   ]
  },
  {
   "cell_type": "code",
   "execution_count": null,
   "metadata": {},
   "outputs": [],
   "source": []
  }
 ],
 "metadata": {
  "kernelspec": {
   "display_name": "Python 3",
   "language": "python",
   "name": "python3"
  },
  "language_info": {
   "codemirror_mode": {
    "name": "ipython",
    "version": 3
   },
   "file_extension": ".py",
   "mimetype": "text/x-python",
   "name": "python",
   "nbconvert_exporter": "python",
   "pygments_lexer": "ipython3",
   "version": "3.6.4"
  }
 },
 "nbformat": 4,
 "nbformat_minor": 2
}
