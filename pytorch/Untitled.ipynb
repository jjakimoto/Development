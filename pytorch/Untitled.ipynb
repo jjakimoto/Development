{
 "cells": [
  {
   "cell_type": "code",
   "execution_count": 2,
   "metadata": {},
   "outputs": [],
   "source": [
    "import torch\n",
    "import torchvision\n",
    "import torchvision.transforms as transforms"
   ]
  },
  {
   "cell_type": "code",
   "execution_count": 8,
   "metadata": {},
   "outputs": [
    {
     "name": "stdout",
     "output_type": "stream",
     "text": [
      "Downloading https://www.cs.toronto.edu/~kriz/cifar-10-python.tar.gz to ./data/cifar-10-python.tar.gz\n",
      "Files already downloaded and verified\n"
     ]
    }
   ],
   "source": [
    "transform = transforms.Compose(\n",
    "    [transforms.ToTensor(),\n",
    "    transforms.Normalize((0.5, 0.5, 0.5), (0.5, 0.5, 0.5))]\n",
    ")\n",
    "\n",
    "trainset = torchvision.datasets.CIFAR10(root='./data', train=True,\n",
    "                                                                      download=True, transform=transform)\n",
    "testset = torchvision.datasets.CIFAR10(root='./data', train=True,\n",
    "                                                                     download=True, transform=transform)"
   ]
  },
  {
   "cell_type": "code",
   "execution_count": 13,
   "metadata": {},
   "outputs": [],
   "source": [
    "trainloader = torch.utils.data.DataLoader(trainset, batch_size=4,\n",
    "                                                                        shuffle=True, num_workers=4)\n",
    "testloader = torch.utils.data.DataLoader(testset, batch_size=4,\n",
    "                                                                        shuffle=False, num_workers=4)"
   ]
  },
  {
   "cell_type": "code",
   "execution_count": 22,
   "metadata": {},
   "outputs": [],
   "source": [
    "import torch.nn as nn\n",
    "import torch.nn.functional as F\n",
    "\n",
    "class Net(nn.Module):\n",
    "    def __init__(self):\n",
    "        super(Net, self).__init__()\n",
    "        self.conv1 = nn.Conv2d(3, 6, 5)\n",
    "        self.pool = nn.MaxPool2d(2, 2)\n",
    "        self.conv2 = nn.Conv2d(6, 16, 5)\n",
    "        self.fc1 = nn.Linear(16 * 5 * 5, 120)\n",
    "        self.fc2 = nn.Linear(120, 84)\n",
    "        self.fc3 = nn.Linear(84, 10)\n",
    "\n",
    "    def forward(self, x):\n",
    "        x = self.pool(F.relu(self.conv1(x)))\n",
    "        x = self.pool(F.relu(self.conv2(x)))\n",
    "        x = x.view(-1, 16 * 5 * 5)\n",
    "        x = F.relu(self.fc1(x))\n",
    "        x = F.relu(self.fc2(x))\n",
    "        x = self.fc3(x)\n",
    "        return x\n",
    "\n",
    "\n",
    "net = Net()"
   ]
  },
  {
   "cell_type": "code",
   "execution_count": 23,
   "metadata": {},
   "outputs": [],
   "source": [
    "import torch.optim as optim\n",
    "\n",
    "criterion = nn.CrossEntropyLoss()\n",
    "opt = optim.SGD(net.parameters(), lr=0.01, momentum=0.9)"
   ]
  },
  {
   "cell_type": "code",
   "execution_count": 24,
   "metadata": {},
   "outputs": [
    {
     "name": "stdout",
     "output_type": "stream",
     "text": [
      "0 2.300351619720459\n",
      "100 2.3005974292755127\n",
      "200 2.285353660583496\n",
      "300 1.2422239780426025\n",
      "400 2.076258659362793\n",
      "500 2.2051150798797607\n",
      "600 2.3468079566955566\n",
      "700 2.201366662979126\n",
      "800 2.3830208778381348\n",
      "900 1.724401593208313\n",
      "1000 2.4145936965942383\n",
      "1100 2.0973663330078125\n",
      "1200 2.6074209213256836\n",
      "1300 3.0675582885742188\n",
      "1400 1.8559527397155762\n",
      "1500 2.5276219844818115\n",
      "1600 1.7691426277160645\n",
      "1700 2.243441581726074\n",
      "1800 2.343740463256836\n",
      "1900 1.7679316997528076\n",
      "2000 1.603598713874817\n",
      "2100 2.05200457572937\n",
      "2200 1.784950852394104\n",
      "2300 2.566880702972412\n",
      "2400 2.049386739730835\n",
      "2500 1.824059247970581\n",
      "2600 1.563169240951538\n",
      "2700 1.5707663297653198\n",
      "2800 2.1996560096740723\n",
      "2900 1.888573169708252\n",
      "3000 1.9426004886627197\n",
      "3100 1.9103107452392578\n",
      "3200 1.647467851638794\n",
      "3300 2.0346436500549316\n",
      "3400 2.6550610065460205\n",
      "3500 1.7685017585754395\n",
      "3600 1.9313359260559082\n",
      "3700 1.7486884593963623\n",
      "3800 1.0458674430847168\n",
      "3900 1.7736012935638428\n",
      "4000 2.126124382019043\n",
      "4100 2.0798356533050537\n",
      "4200 2.0549023151397705\n",
      "4300 1.4677802324295044\n",
      "4400 1.297509789466858\n",
      "4500 1.719465732574463\n",
      "4600 2.4008798599243164\n",
      "4700 2.095810890197754\n",
      "4800 2.3321800231933594\n",
      "4900 1.6406888961791992\n",
      "5000 2.030754566192627\n",
      "5100 2.0894768238067627\n",
      "5200 1.183918833732605\n",
      "5300 1.6307621002197266\n",
      "5400 1.6022696495056152\n",
      "5500 1.786361575126648\n",
      "5600 1.8422539234161377\n",
      "5700 1.7273777723312378\n",
      "5800 1.7178776264190674\n",
      "5900 1.567880392074585\n",
      "6000 2.3203699588775635\n",
      "6100 2.730947256088257\n",
      "6200 2.7993035316467285\n",
      "6300 1.4271280765533447\n",
      "6400 1.6389880180358887\n",
      "6500 2.1809840202331543\n",
      "6600 2.549823760986328\n",
      "6700 1.7580708265304565\n",
      "6800 2.1525020599365234\n",
      "6900 1.6877036094665527\n",
      "7000 1.7503149509429932\n",
      "7100 1.6995970010757446\n",
      "7200 2.0549376010894775\n",
      "7300 2.5002193450927734\n",
      "7400 1.397515892982483\n",
      "7500 1.7581849098205566\n",
      "7600 1.8101205825805664\n",
      "7700 2.0588316917419434\n",
      "7800 1.3689132928848267\n",
      "7900 1.652968168258667\n",
      "8000 1.7056970596313477\n",
      "8100 1.8851232528686523\n",
      "8200 1.7979027032852173\n",
      "8300 1.9494034051895142\n",
      "8400 1.9713146686553955\n",
      "8500 1.5539919137954712\n",
      "8600 1.8331471681594849\n",
      "8700 1.5780147314071655\n",
      "8800 2.0118651390075684\n",
      "8900 1.5591298341751099\n",
      "9000 1.8478960990905762\n",
      "9100 1.848020076751709\n",
      "9200 1.298950433731079\n",
      "9300 2.1663432121276855\n",
      "9400 2.7812414169311523\n",
      "9500 2.5785574913024902\n",
      "9600 1.9273648262023926\n",
      "9700 1.1158069372177124\n",
      "9800 1.7160969972610474\n",
      "9900 1.8229787349700928\n",
      "10000 1.583136796951294\n",
      "10100 1.3259468078613281\n",
      "10200 2.874605655670166\n",
      "10300 2.161093235015869\n",
      "10400 2.2334048748016357\n",
      "10500 1.5207531452178955\n",
      "10600 2.28743839263916\n",
      "10700 2.395796537399292\n",
      "10800 2.5575759410858154\n",
      "10900 2.120908260345459\n",
      "11000 1.73472261428833\n",
      "11100 1.8161752223968506\n",
      "11200 2.913663387298584\n",
      "11300 1.9948149919509888\n",
      "11400 1.7372159957885742\n",
      "11500 1.654921054840088\n",
      "11600 1.1454713344573975\n",
      "11700 2.0086169242858887\n",
      "11800 1.564082145690918\n",
      "11900 2.6310276985168457\n",
      "12000 2.102132797241211\n",
      "12100 1.4004052877426147\n",
      "12200 2.3025784492492676\n",
      "12300 2.0703983306884766\n",
      "12400 2.4020800590515137\n",
      "0 1.847569227218628\n",
      "100 1.8374996185302734\n",
      "200 1.4621604681015015\n",
      "300 1.3783843517303467\n",
      "400 1.8411946296691895\n",
      "500 2.5730748176574707\n",
      "600 1.4721816778182983\n",
      "700 1.4666500091552734\n",
      "800 1.9270672798156738\n",
      "900 1.323115587234497\n",
      "1000 1.8427659273147583\n",
      "1100 2.4764084815979004\n",
      "1200 1.8235145807266235\n",
      "1300 1.5377050638198853\n",
      "1400 1.4806361198425293\n",
      "1500 1.4105193614959717\n",
      "1600 2.031033754348755\n",
      "1700 1.7122195959091187\n",
      "1800 1.7046208381652832\n",
      "1900 1.9168965816497803\n",
      "2000 2.5198309421539307\n",
      "2100 2.014702320098877\n",
      "2200 1.5130058526992798\n",
      "2300 1.4738821983337402\n",
      "2400 2.049337863922119\n",
      "2500 2.463320255279541\n",
      "2600 2.4539437294006348\n",
      "2700 1.8749158382415771\n",
      "2800 1.6822787523269653\n",
      "2900 2.049947738647461\n",
      "3000 2.1520779132843018\n",
      "3100 1.219923973083496\n",
      "3200 2.5322091579437256\n",
      "3300 2.4085748195648193\n",
      "3400 2.1087605953216553\n",
      "3500 2.426299810409546\n",
      "3600 2.737394094467163\n",
      "3700 1.9246498346328735\n",
      "3800 2.0758650302886963\n",
      "3900 1.1643826961517334\n",
      "4000 1.346160888671875\n",
      "4100 2.2247400283813477\n",
      "4200 1.62208890914917\n",
      "4300 2.3032450675964355\n",
      "4400 2.174199104309082\n",
      "4500 2.7888288497924805\n",
      "4600 1.0744848251342773\n",
      "4700 1.377495527267456\n",
      "4800 1.5673439502716064\n",
      "4900 1.7865996360778809\n",
      "5000 1.6065164804458618\n",
      "5100 1.824598789215088\n",
      "5200 2.3607819080352783\n",
      "5300 1.5075383186340332\n",
      "5400 2.3392794132232666\n",
      "5500 1.7918274402618408\n",
      "5600 1.50917649269104\n",
      "5700 2.280701160430908\n",
      "5800 1.709730863571167\n",
      "5900 1.7983611822128296\n",
      "6000 1.6363964080810547\n",
      "6100 2.7529633045196533\n",
      "6200 1.672377586364746\n",
      "6300 1.8350019454956055\n",
      "6400 2.025486946105957\n",
      "6500 1.799264907836914\n",
      "6600 1.8638936281204224\n",
      "6700 1.804858684539795\n",
      "6800 2.0745067596435547\n",
      "6900 2.2750136852264404\n",
      "7000 1.4519569873809814\n",
      "7100 1.8168126344680786\n",
      "7200 1.5161898136138916\n",
      "7300 1.7897064685821533\n",
      "7400 2.5829215049743652\n",
      "7500 1.5258450508117676\n",
      "7600 2.0750911235809326\n",
      "7700 2.222602367401123\n",
      "7800 1.8078596591949463\n",
      "7900 2.00240421295166\n",
      "8000 1.9958350658416748\n",
      "8100 2.371817111968994\n",
      "8200 2.0256576538085938\n",
      "8300 1.3182352781295776\n",
      "8400 1.111180067062378\n",
      "8500 1.4124133586883545\n",
      "8600 1.9061987400054932\n",
      "8700 2.081313371658325\n",
      "8800 1.510702133178711\n",
      "8900 1.9069151878356934\n",
      "9000 1.981078863143921\n",
      "9100 1.634591817855835\n",
      "9200 1.9007201194763184\n",
      "9300 1.648390293121338\n",
      "9400 2.454545259475708\n",
      "9500 2.0652403831481934\n",
      "9600 1.778700590133667\n",
      "9700 2.066018581390381\n",
      "9800 1.4762825965881348\n",
      "9900 1.8623236417770386\n",
      "10000 1.7115888595581055\n",
      "10100 1.941253423690796\n",
      "10200 1.8963361978530884\n",
      "10300 1.4719059467315674\n",
      "10400 2.400040626525879\n",
      "10500 2.137073040008545\n",
      "10600 1.4564306735992432\n",
      "10700 2.1152420043945312\n",
      "10800 2.3642396926879883\n",
      "10900 1.8442522287368774\n",
      "11000 2.3818206787109375\n",
      "11100 1.8256645202636719\n",
      "11200 1.71821129322052\n",
      "11300 2.474078893661499\n",
      "11400 1.2835108041763306\n",
      "11500 1.8700714111328125\n",
      "11600 1.6573779582977295\n",
      "11700 1.6930162906646729\n",
      "11800 2.6500954627990723\n",
      "11900 1.3185091018676758\n",
      "12000 1.8306899070739746\n",
      "12100 2.933263063430786\n",
      "12200 2.29055118560791\n",
      "12300 2.0900535583496094\n",
      "12400 2.4366745948791504\n"
     ]
    }
   ],
   "source": [
    "for epoch in range(2):\n",
    "    running_loss = 0.0\n",
    "    for i, data in enumerate(trainloader, 0):\n",
    "        inputs, labels = data\n",
    "        opt.zero_grad()\n",
    "        \n",
    "        outputs = net(inputs)\n",
    "        loss = criterion(outputs, labels)\n",
    "        loss.backward()\n",
    "        opt.step()\n",
    "        \n",
    "        running_loss = loss.item()\n",
    "        if i % 100 == 0:\n",
    "            print(i, running_loss)"
   ]
  },
  {
   "cell_type": "code",
   "execution_count": 26,
   "metadata": {},
   "outputs": [
    {
     "name": "stdout",
     "output_type": "stream",
     "text": [
      " ship  bird truck  ship\n"
     ]
    },
    {
     "data": {
      "image/png": "[encoded data removed]",
      "text/plain": [
       "<matplotlib.figure.Figure at 0x1029eae48>"
      ]
     },
     "metadata": {},
     "output_type": "display_data"
    }
   ],
   "source": [
    "import matplotlib.pyplot as plt\n",
    "import numpy as np\n",
    "%matplotlib inline\n",
    "# functions to show an image\n",
    "\n",
    "classes = ('plane', 'car', 'bird', 'cat',\n",
    "           'deer', 'dog', 'frog', 'horse', 'ship', 'truck')\n",
    "\n",
    "\n",
    "def imshow(img):\n",
    "    img = img / 2 + 0.5     # unnormalize\n",
    "    npimg = img.numpy()\n",
    "    plt.imshow(np.transpose(npimg, (1, 2, 0)))\n",
    "\n",
    "\n",
    "# get some random training images\n",
    "dataiter = iter(trainloader)\n",
    "images, labels = dataiter.next()\n",
    "\n",
    "# show images\n",
    "imshow(torchvision.utils.make_grid(images))\n",
    "# print labels\n",
    "print(' '.join('%5s' % classes[labels[j]] for j in range(4)))"
   ]
  },
  {
   "cell_type": "code",
   "execution_count": 27,
   "metadata": {},
   "outputs": [
    {
     "name": "stderr",
     "output_type": "stream",
     "text": [
      "Exception ignored in: <bound method _DataLoaderIter.__del__ of <torch.utils.data.dataloader._DataLoaderIter object at 0x109f62f98>>\n",
      "Traceback (most recent call last):\n",
      "  File \"/Users/tomoaki/anaconda3/lib/python3.6/site-packages/torch/utils/data/dataloader.py\", line 349, in __del__\n",
      "    self._shutdown_workers()\n",
      "  File \"/Users/tomoaki/anaconda3/lib/python3.6/site-packages/torch/utils/data/dataloader.py\", line 328, in _shutdown_workers\n",
      "    self.worker_result_queue.get()\n",
      "  File \"/Users/tomoaki/anaconda3/lib/python3.6/multiprocessing/queues.py\", line 345, in get\n",
      "    return _ForkingPickler.loads(res)\n",
      "  File \"/Users/tomoaki/anaconda3/lib/python3.6/site-packages/torch/multiprocessing/reductions.py\", line 86, in rebuild_storage_filename\n",
      "    storage = cls._new_shared_filename(manager, handle, size)\n",
      "RuntimeError: Interrupted system call at /Users/soumith/code/builder/wheel/pytorch-src/torch/lib/libshm/core.cpp:125\n"
     ]
    },
    {
     "name": "stdout",
     "output_type": "stream",
     "text": [
      "GroundTruth:   frog truck truck  deer\n"
     ]
    },
    {
     "data": {
      "image/png": "[encoded data removed]",
      "text/plain": [
       "<matplotlib.figure.Figure at 0x102a052b0>"
      ]
     },
     "metadata": {},
     "output_type": "display_data"
    }
   ],
   "source": [
    "dataiter = iter(testloader)\n",
    "images, labels = dataiter.next()\n",
    "\n",
    "imshow(torchvision.utils.make_grid(images))\n",
    "print('GroundTruth: ', ' '.join('%5s' % classes[labels[j]] for j in range(4)))"
   ]
  },
  {
   "cell_type": "code",
   "execution_count": 30,
   "metadata": {},
   "outputs": [
    {
     "data": {
      "text/plain": [
       "torch.Size([4, 3, 32, 32])"
      ]
     },
     "execution_count": 30,
     "metadata": {},
     "output_type": "execute_result"
    }
   ],
   "source": [
    "images.shape"
   ]
  },
  {
   "cell_type": "code",
   "execution_count": 21,
   "metadata": {},
   "outputs": [
    {
     "data": {
      "text/plain": [
       "-1.4110370874404907"
      ]
     },
     "execution_count": 21,
     "metadata": {},
     "output_type": "execute_result"
    }
   ],
   "source": [
    "torch.randn((1)).item()"
   ]
  },
  {
   "cell_type": "code",
   "execution_count": 22,
   "metadata": {
    "collapsed": true
   },
   "outputs": [],
   "source": [
    "a = torch.ones((5, 3 ))"
   ]
  },
  {
   "cell_type": "code",
   "execution_count": 23,
   "metadata": {},
   "outputs": [
    {
     "data": {
      "text/plain": [
       "array([[ 1.,  1.,  1.],\n",
       "       [ 1.,  1.,  1.],\n",
       "       [ 1.,  1.,  1.],\n",
       "       [ 1.,  1.,  1.],\n",
       "       [ 1.,  1.,  1.]], dtype=float32)"
      ]
     },
     "execution_count": 23,
     "metadata": {},
     "output_type": "execute_result"
    }
   ],
   "source": [
    "a.numpy()"
   ]
  },
  {
   "cell_type": "code",
   "execution_count": 24,
   "metadata": {},
   "outputs": [
    {
     "data": {
      "text/plain": [
       "tensor([[ 2.,  2.,  2.],\n",
       "        [ 2.,  2.,  2.],\n",
       "        [ 2.,  2.,  2.],\n",
       "        [ 2.,  2.,  2.],\n",
       "        [ 2.,  2.,  2.]])"
      ]
     },
     "execution_count": 24,
     "metadata": {},
     "output_type": "execute_result"
    }
   ],
   "source": [
    "a.add_(1)"
   ]
  },
  {
   "cell_type": "code",
   "execution_count": 25,
   "metadata": {},
   "outputs": [
    {
     "data": {
      "text/plain": [
       "tensor([[ 2.,  2.,  2.],\n",
       "        [ 2.,  2.,  2.],\n",
       "        [ 2.,  2.,  2.],\n",
       "        [ 2.,  2.,  2.],\n",
       "        [ 2.,  2.,  2.]])"
      ]
     },
     "execution_count": 25,
     "metadata": {},
     "output_type": "execute_result"
    }
   ],
   "source": [
    "a"
   ]
  },
  {
   "cell_type": "code",
   "execution_count": 27,
   "metadata": {},
   "outputs": [
    {
     "data": {
      "text/plain": [
       "False"
      ]
     },
     "execution_count": 27,
     "metadata": {},
     "output_type": "execute_result"
    }
   ],
   "source": [
    "torch.cuda.is_available()"
   ]
  },
  {
   "cell_type": "code",
   "execution_count": 28,
   "metadata": {},
   "outputs": [
    {
     "name": "stdout",
     "output_type": "stream",
     "text": [
      "tensor([[ 3.,  3.],\n",
      "        [ 3.,  3.]])\n"
     ]
    }
   ],
   "source": [
    "x = torch.ones(2, 2, requires_grad=True)\n",
    "y = x + 2\n",
    "print(y)"
   ]
  },
  {
   "cell_type": "code",
   "execution_count": 29,
   "metadata": {},
   "outputs": [
    {
     "name": "stdout",
     "output_type": "stream",
     "text": [
      "<AddBackward0 object at 0x1073357b8>\n"
     ]
    }
   ],
   "source": [
    "print(y.grad_fn)"
   ]
  },
  {
   "cell_type": "code",
   "execution_count": 32,
   "metadata": {},
   "outputs": [],
   "source": [
    "output = y.mean()"
   ]
  },
  {
   "cell_type": "code",
   "execution_count": 33,
   "metadata": {
    "collapsed": true
   },
   "outputs": [],
   "source": [
    "output.backward()"
   ]
  },
  {
   "cell_type": "code",
   "execution_count": 34,
   "metadata": {},
   "outputs": [
    {
     "name": "stdout",
     "output_type": "stream",
     "text": [
      "tensor([[ 0.2500,  0.2500],\n",
      "        [ 0.2500,  0.2500]])\n"
     ]
    }
   ],
   "source": [
    "print(x.grad)"
   ]
  },
  {
   "cell_type": "code",
   "execution_count": 68,
   "metadata": {
    "collapsed": true
   },
   "outputs": [],
   "source": [
    "import torch\n",
    "import torch.nn as nn\n",
    "import torch.nn.functional as F\n",
    "\n",
    "class Net(nn.Module):\n",
    "    def __init__(self):\n",
    "        super().__init__()\n",
    "        self.conv1 = nn.Conv2d(1, 6, 5)\n",
    "        self.conv2 = nn.Conv2d(6, 16, 5)\n",
    "        self.fc1 = nn.Linear(16 * 5* 5, 128)\n",
    "        self.fc2 = nn.Linear(128, 64)\n",
    "        self.fc3 = nn.Linear(64, 10)\n",
    "    \n",
    "    def forward(self, x):\n",
    "        x = F.max_pool2d(F.relu(self.conv1(x)), (2, 2))\n",
    "        x = F.max_pool2d(F.relu(self.conv2(x)), (2, 2))\n",
    "        x = self.flatten(x)\n",
    "        x = F.relu(self.fc1(x))\n",
    "        x = F.relu(self.fc2(x))\n",
    "        x = self.fc3(x)\n",
    "        return x\n",
    "    \n",
    "    def flatten(self, x):\n",
    "        batch = x.shape[0]\n",
    "        return x.view(batch, -1)"
   ]
  },
  {
   "cell_type": "code",
   "execution_count": 69,
   "metadata": {},
   "outputs": [
    {
     "name": "stdout",
     "output_type": "stream",
     "text": [
      "tensor([[[[-0.2387, -0.7475, -1.5835,  ..., -0.5566,  0.0177, -1.2247],\n",
      "          [-1.2148, -0.5199,  0.4911,  ...,  0.6386, -0.3591, -0.8057],\n",
      "          [ 0.7589,  0.2992, -1.3232,  ..., -0.0560,  0.7766,  0.0258],\n",
      "          ...,\n",
      "          [-0.9081,  2.1364,  0.5103,  ...,  0.3776,  0.4517, -2.1543],\n",
      "          [-0.4261, -0.4991,  1.5028,  ..., -0.1469,  0.2324,  0.0541],\n",
      "          [ 0.7942, -0.0610, -1.7792,  ..., -1.7201, -0.4002,  0.1224]]]])\n",
      "tensor([[-0.1372,  0.1071,  0.0792,  0.1259,  0.1652,  0.1379, -0.0169,\n",
      "          0.0683, -0.0822,  0.1799]])\n"
     ]
    }
   ],
   "source": [
    "input = torch.randn(1, 1, 32, 32)\n",
    "print(input)\n",
    "net = Net()\n",
    "out = net(input)\n",
    "print(out)"
   ]
  },
  {
   "cell_type": "code",
   "execution_count": 71,
   "metadata": {},
   "outputs": [],
   "source": [
    "target = torch.arange(1, 11)\n",
    "target = target.view(1, -1)\n",
    "criterion = nn.MSELoss()\n",
    "loss = criterion(out, target)"
   ]
  },
  {
   "cell_type": "code",
   "execution_count": 72,
   "metadata": {},
   "outputs": [],
   "source": [
    "loss.backward()"
   ]
  },
  {
   "cell_type": "code",
   "execution_count": 74,
   "metadata": {},
   "outputs": [
    {
     "data": {
      "text/plain": [
       "tensor([-0.0861, -0.1527, -0.0674, -0.0507, -0.0462, -0.1045])"
      ]
     },
     "execution_count": 74,
     "metadata": {},
     "output_type": "execute_result"
    }
   ],
   "source": [
    "net.conv1.bias.grad"
   ]
  },
  {
   "cell_type": "code",
   "execution_count": 78,
   "metadata": {},
   "outputs": [],
   "source": [
    "for f in net.parameters():\n",
    "    f.data.sub_(f.grad.data * 0.1)"
   ]
  },
  {
   "cell_type": "code",
   "execution_count": 105,
   "metadata": {},
   "outputs": [
    {
     "name": "stdout",
     "output_type": "stream",
     "text": [
      "tensor([[[[ 1.9302, -0.5214, -1.2416,  ...,  1.3622,  0.4657, -1.8537],\n",
      "          [ 1.1189,  0.0226,  0.7067,  ..., -0.4436, -0.3912, -0.5147],\n",
      "          [ 0.6122, -0.0849,  1.4010,  ...,  1.5727,  0.1548,  1.3952],\n",
      "          ...,\n",
      "          [-0.7508, -1.1201, -1.1210,  ..., -1.1637,  2.2957,  1.2298],\n",
      "          [-1.3515, -0.5701, -0.3382,  ..., -0.2310,  0.3797, -0.7245],\n",
      "          [-0.8234, -0.3266, -1.3854,  ..., -0.5196,  1.0437,  1.8604]]]])\n",
      "tensor([[ 0.0863,  0.0024, -0.1141,  0.2085,  0.1393, -0.0260, -0.0285,\n",
      "          0.0567,  0.1407, -0.0395]])\n",
      "tensor(38.0612)\n"
     ]
    }
   ],
   "source": [
    "import torch.optim as optim\n",
    "input = torch.randn(1, 1, 32, 32)\n",
    "print(input)\n",
    "net = Net()\n",
    "out = net(input)\n",
    "print(out)\n",
    "criteria = nn.MSELoss()\n",
    "loss = criteria(out, target)\n",
    "optimizer = optim.SGD(net.parameters(), lr=1e-1)\n",
    "optimizer.zero_grad()\n",
    "loss.backward()\n",
    "optimizer.step()\n",
    "print(loss.data)"
   ]
  },
  {
   "cell_type": "code",
   "execution_count": 106,
   "metadata": {},
   "outputs": [
    {
     "ename": "RuntimeError",
     "evalue": "Trying to backward through the graph a second time, but the buffers have already been freed. Specify retain_graph=True when calling backward the first time.",
     "output_type": "error",
     "traceback": [
      "\u001b[0;31m---------------------------------------------------------------------------\u001b[0m",
      "\u001b[0;31mRuntimeError\u001b[0m                              Traceback (most recent call last)",
      "\u001b[0;32m<ipython-input-106-ff93b4193368>\u001b[0m in \u001b[0;36m<module>\u001b[0;34m()\u001b[0m\n\u001b[1;32m      1\u001b[0m \u001b[0moptimizer\u001b[0m\u001b[0;34m.\u001b[0m\u001b[0mzero_grad\u001b[0m\u001b[0;34m(\u001b[0m\u001b[0;34m)\u001b[0m\u001b[0;34m\u001b[0m\u001b[0m\n\u001b[0;32m----> 2\u001b[0;31m \u001b[0mloss\u001b[0m\u001b[0;34m.\u001b[0m\u001b[0mbackward\u001b[0m\u001b[0;34m(\u001b[0m\u001b[0;34m)\u001b[0m\u001b[0;34m\u001b[0m\u001b[0m\n\u001b[0m\u001b[1;32m      3\u001b[0m \u001b[0moptimizer\u001b[0m\u001b[0;34m.\u001b[0m\u001b[0mstep\u001b[0m\u001b[0;34m(\u001b[0m\u001b[0;34m)\u001b[0m\u001b[0;34m\u001b[0m\u001b[0m\n\u001b[1;32m      4\u001b[0m \u001b[0mprint\u001b[0m\u001b[0;34m(\u001b[0m\u001b[0mloss\u001b[0m\u001b[0;34m.\u001b[0m\u001b[0mdata\u001b[0m\u001b[0;34m)\u001b[0m\u001b[0;34m\u001b[0m\u001b[0m\n",
      "\u001b[0;32m/Users/tomoaki/anaconda3/lib/python3.6/site-packages/torch/tensor.py\u001b[0m in \u001b[0;36mbackward\u001b[0;34m(self, gradient, retain_graph, create_graph)\u001b[0m\n\u001b[1;32m     91\u001b[0m                 \u001b[0mproducts\u001b[0m\u001b[0;34m.\u001b[0m \u001b[0mDefaults\u001b[0m \u001b[0mto\u001b[0m\u001b[0;31m \u001b[0m\u001b[0;31m`\u001b[0m\u001b[0;31m`\u001b[0m\u001b[0;32mFalse\u001b[0m\u001b[0;31m`\u001b[0m\u001b[0;31m`\u001b[0m\u001b[0;34m.\u001b[0m\u001b[0;34m\u001b[0m\u001b[0m\n\u001b[1;32m     92\u001b[0m         \"\"\"\n\u001b[0;32m---> 93\u001b[0;31m         \u001b[0mtorch\u001b[0m\u001b[0;34m.\u001b[0m\u001b[0mautograd\u001b[0m\u001b[0;34m.\u001b[0m\u001b[0mbackward\u001b[0m\u001b[0;34m(\u001b[0m\u001b[0mself\u001b[0m\u001b[0;34m,\u001b[0m \u001b[0mgradient\u001b[0m\u001b[0;34m,\u001b[0m \u001b[0mretain_graph\u001b[0m\u001b[0;34m,\u001b[0m \u001b[0mcreate_graph\u001b[0m\u001b[0;34m)\u001b[0m\u001b[0;34m\u001b[0m\u001b[0m\n\u001b[0m\u001b[1;32m     94\u001b[0m \u001b[0;34m\u001b[0m\u001b[0m\n\u001b[1;32m     95\u001b[0m     \u001b[0;32mdef\u001b[0m \u001b[0mregister_hook\u001b[0m\u001b[0;34m(\u001b[0m\u001b[0mself\u001b[0m\u001b[0;34m,\u001b[0m \u001b[0mhook\u001b[0m\u001b[0;34m)\u001b[0m\u001b[0;34m:\u001b[0m\u001b[0;34m\u001b[0m\u001b[0m\n",
      "\u001b[0;32m/Users/tomoaki/anaconda3/lib/python3.6/site-packages/torch/autograd/__init__.py\u001b[0m in \u001b[0;36mbackward\u001b[0;34m(tensors, grad_tensors, retain_graph, create_graph, grad_variables)\u001b[0m\n\u001b[1;32m     87\u001b[0m     Variable._execution_engine.run_backward(\n\u001b[1;32m     88\u001b[0m         \u001b[0mtensors\u001b[0m\u001b[0;34m,\u001b[0m \u001b[0mgrad_tensors\u001b[0m\u001b[0;34m,\u001b[0m \u001b[0mretain_graph\u001b[0m\u001b[0;34m,\u001b[0m \u001b[0mcreate_graph\u001b[0m\u001b[0;34m,\u001b[0m\u001b[0;34m\u001b[0m\u001b[0m\n\u001b[0;32m---> 89\u001b[0;31m         allow_unreachable=True)  # allow_unreachable flag\n\u001b[0m\u001b[1;32m     90\u001b[0m \u001b[0;34m\u001b[0m\u001b[0m\n\u001b[1;32m     91\u001b[0m \u001b[0;34m\u001b[0m\u001b[0m\n",
      "\u001b[0;31mRuntimeError\u001b[0m: Trying to backward through the graph a second time, but the buffers have already been freed. Specify retain_graph=True when calling backward the first time."
     ]
    }
   ],
   "source": [
    "optimizer.zero_grad()\n",
    "loss.backward()\n",
    "optimizer.step()\n",
    "print(loss.data)"
   ]
  },
  {
   "cell_type": "code",
   "execution_count": null,
   "metadata": {
    "collapsed": true
   },
   "outputs": [],
   "source": []
  }
 ],
 "metadata": {
  "kernelspec": {
   "display_name": "Python 3",
   "language": "python",
   "name": "python3"
  }
 },
 "nbformat": 4,
 "nbformat_minor": 2
}
