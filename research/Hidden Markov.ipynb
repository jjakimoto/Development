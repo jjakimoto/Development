{
 "cells": [
  {
   "cell_type": "code",
   "execution_count": 1,
   "metadata": {},
   "outputs": [],
   "source": [
    "import torch.nn as nn\n",
    "import torch"
   ]
  },
  {
   "cell_type": "code",
   "execution_count": 37,
   "metadata": {},
   "outputs": [
    {
     "name": "stdout",
     "output_type": "stream",
     "text": [
      "['USDT_BTC', 'USDT_DASH', 'USDT_ETC', 'USDT_ETH', 'USDT_LTC', 'USDT_XMR', 'USDT_ZEC']\n"
     ]
    }
   ],
   "source": [
    "import pickle\n",
    "import pandas as pd\n",
    "import numpy as np\n",
    "\n",
    "file = open('/home/tom/work/rltensor/rltensor/app/ticker1.pkl', 'rb')\n",
    "tickers = pickle.loads(file.read())\n",
    "tickers = tickers[1:]\n",
    "print(tickers)\n",
    "\n",
    "closes = []\n",
    "for ticker in tickers:\n",
    "    df = pd.read_csv(f'../datasets/crypto/{ticker}.csv')\n",
    "    df = df['close'].pct_change().dropna()\n",
    "    # closes.append(df/ df.values[0])\n",
    "    closes.append(df.values)\n",
    "ret = np.stack(closes, axis=1)\n",
    "ret[~np.isfinite(ret)] = 1.0"
   ]
  },
  {
   "cell_type": "code",
   "execution_count": 38,
   "metadata": {},
   "outputs": [
    {
     "data": {
      "text/plain": [
       "[<matplotlib.lines.Line2D at 0x7f29ed990710>]"
      ]
     },
     "execution_count": 38,
     "metadata": {},
     "output_type": "execute_result"
    },
    {
     "data": {
      "image/png": "[encoded data removed]",
      "text/plain": [
       "<matplotlib.figure.Figure at 0x7f29ee07aeb8>"
      ]
     },
     "metadata": {},
     "output_type": "display_data"
    }
   ],
   "source": [
    "import matplotlib.pyplot as plt\n",
    "%matplotlib inline\n",
    "\n",
    "\n",
    "plt.plot(ret[:, 0])"
   ]
  },
  {
   "cell_type": "code",
   "execution_count": 39,
   "metadata": {},
   "outputs": [
    {
     "data": {
      "text/plain": [
       "array([[ 7.81231242e-04,  1.84700860e-04, -1.22554867e-02, ...,\n",
       "        -6.93566321e-03, -8.16382593e-03,  0.00000000e+00],\n",
       "       [-1.54105274e-08, -9.16060287e-03, -1.05263157e-08, ...,\n",
       "         7.25101408e-03, -5.99149056e-02,  0.00000000e+00],\n",
       "       [-1.55960194e-03,  4.90460513e-03, -5.51900000e-03, ...,\n",
       "        -7.67084496e-04,  8.41855469e-03,  0.00000000e+00],\n",
       "       ...,\n",
       "       [ 2.57458997e-03,  1.14147154e-02,  5.57029884e-03, ...,\n",
       "         1.48445335e-03,  2.95038228e-02,  7.67202708e-03],\n",
       "       [-3.05996223e-03,  4.56768484e-03, -5.23973847e-04, ...,\n",
       "        -2.06634513e-03, -1.02078883e-02, -5.97019149e-03],\n",
       "       [ 3.49355083e-03,  1.86935311e-03, -3.78180147e-03, ...,\n",
       "         1.05175242e-02, -5.22487961e-03,  1.42358713e-02]])"
      ]
     },
     "execution_count": 39,
     "metadata": {},
     "output_type": "execute_result"
    }
   ],
   "source": [
    "ret"
   ]
  },
  {
   "cell_type": "code",
   "execution_count": 44,
   "metadata": {},
   "outputs": [],
   "source": [
    "class Emitter(nn.Module):\n",
    "    def __init__(self, input_dim, z_dim, hidden_dim):\n",
    "        super(Emitter, self).__init__()\n",
    "        self.lin1 = nn.Linear(z_dim, hidden_dim)\n",
    "        self.lin2 = nn.Linear(hidden_dim, hidden_dim)\n",
    "        self.lin_loc = nn.Linear(hidden_dim, input_dim)\n",
    "        self.lin_scale = nn.Linear(hidden_dim, input_dim)\n",
    "        self.relu = nn.ReLU()\n",
    "        self.softplus = nn.Softplus()\n",
    "        \n",
    "    def forward(self, z_t):\n",
    "        h1 = self.relu(self.lin1(z_t))\n",
    "        h2 = self.relu(self.lin2(h1))\n",
    "        loc = self.lin_loc(h2)\n",
    "        scale = self.softplus(self.lin_scale(h2))\n",
    "        return loc, scale\n",
    "    \n",
    "    \n",
    "class GatedTransition(nn.Module):\n",
    "    def __init__(self, z_dim, hidden_dim):\n",
    "        super(GatedTransition, self).__init__()\n",
    "        # Transition layers\n",
    "        self.lin_gate1 = nn.Linear(z_dim, hidden_dim)\n",
    "        self.lin_gate2 = nn.Linear(hidden_dim, z_dim)\n",
    "        # Non Linear estimation\n",
    "        self.lin_prop_loc1 = nn.Linear(z_dim, hidden_dim)\n",
    "        self.lin_prop_loc2 = nn.Linear(hidden_dim, z_dim)\n",
    "        # Linear\n",
    "        self.lin_lin_loc = nn.Linear(z_dim, z_dim)\n",
    "        # Initilize parameters to make Identity mapping\n",
    "        self.lin_lin_loc.weight.data = torch.eye(z_dim)\n",
    "        self.lin_lin_loc.bias.data = torch.zeros(z_dim)\n",
    "        # Scale\n",
    "        self.lin_scale = nn.Linear(z_dim, z_dim)\n",
    "        \n",
    "        self.relu = nn.ReLU()\n",
    "        self.softplus = nn.Softplus()\n",
    "        self.sigmoid = nn.Sigmoid()\n",
    "        \n",
    "    def forward(self, z_t_1):\n",
    "        _gate = self.relu(self.lin_gate1(z_t_1))\n",
    "        gate = self.sigmoid(self.lin_gate2(_gate))\n",
    "        _prop_loc = self.relu(self.lin_prop_loc1(z_t_1))\n",
    "        prop_loc = self.lin_prop_loc2(_prop_loc)\n",
    "        lin_loc = self.lin_lin_loc(z_t_1)\n",
    "        loc = (1 - gate) * lin_loc + gate * prop_loc\n",
    "        scale = self.softplus(self.lin_scale(z_t_1))\n",
    "        return loc, scale\n",
    "\n",
    "    \n",
    "class Combiner(nn.Module):\n",
    "    def __init__(self, z_dim, rnn_dim):\n",
    "        super(Combiner, self).__init__()\n",
    "        self.lin_zh = nn.Linear(z_dim, rnn_dim)\n",
    "        self.lin_loc = nn.Linear(rnn_dim, z_dim)\n",
    "        self.lin_scale = nn.Linear(rnn_dim, z_dim)\n",
    "        self.tanh = nn.Tanh()\n",
    "        self.softplus = nn.Softplus()\n",
    "        \n",
    "    def forward(self, z_t_1, h_rnn):\n",
    "        h_combined = 0.5 * (self.tanh(self.lin_zh(z_t_1)) + h_rnn)\n",
    "        loc = self.lin_loc(h_combined)\n",
    "        scale = self.softplus(self.lin_scale(h_combined))\n",
    "        return loc, scale\n",
    "    \n",
    "import pyro\n",
    "import pyro.distributions as dist\n",
    "\n",
    "class DMM(nn.Module):\n",
    "    def __init__(self, input_dim, z_dim=100, emission_dim=100,\n",
    "                 transition_dim=200, rnn_dim=600, rnn_dropout_rate=0.0,\n",
    "                 num_iafs=0, iaf_dim=50, use_cuda=False):\n",
    "        super(DMM, self).__init__()\n",
    "        self.emitter = Emitter(input_dim, z_dim, emission_dim)\n",
    "        self.trans = GatedTransition(z_dim, transition_dim)\n",
    "        self.combiner = Combiner(z_dim, rnn_dim)\n",
    "        self.rnn = nn.RNN(input_size=input_dim, hidden_size=rnn_dim,\n",
    "                          nonlinearity='relu', batch_first=True,\n",
    "                          bidirectional=False, num_layers=1,\n",
    "                          dropout=rnn_dropout_rate)\n",
    "        # Initial Parameters\n",
    "        self.z_0 = nn.Parameter(torch.zeros(z_dim))\n",
    "        self.z_q_0 = nn.Parameter(torch.zeros(z_dim))\n",
    "        self.h_0 = nn.Parameter(torch.zeros(1, 1, rnn_dim))\n",
    "        \n",
    "        self.use_cuda = use_cuda\n",
    "        if use_cuda:\n",
    "            self.cuda()\n",
    "        \n",
    "    def model(self, mini_batch, annealing_factor=1.0):\n",
    "        T_max = mini_batch.size(1)\n",
    "        pyro.module('dmm', self)\n",
    "        z_prev = self.z_0.expand(mini_batch.size(0), self.z_0.size(0))\n",
    "        \n",
    "        with pyro.iarange('z_minibatch', len(mini_batch)):\n",
    "            for t in range(1, T_max + 1):\n",
    "                z_loc, z_scale = self.trans(z_prev)\n",
    "                z_dist = dist.Normal(z_loc, z_scale)\n",
    "                with pyro.poutine.scale(None, annealing_factor):\n",
    "                    z_t = pyro.sample(f'z_{t}', z_dist.independent(1))\n",
    "                em_loc, em_scale = self.emitter(z_t)\n",
    "                obs_dist = dist.Normal(em_loc, em_scale)\n",
    "                pyro.sample(f'obs_x_{t}',\n",
    "                            obs_dist.independent(1),\n",
    "                            obs=mini_batch[:, t-1, :])\n",
    "                z_prev = z_t\n",
    "                \n",
    "    def guide(self, mini_batch, annealing_factor=1.0):\n",
    "        T_max = mini_batch.size(1)\n",
    "        pyro.module('dmm', self)\n",
    "        h_0_contig = self.h_0.expand(1, mini_batch.size(0),\n",
    "                                     self.rnn.hidden_size).contiguous()\n",
    "        rnn_output, _ = self.rnn(mini_batch, h_0_contig)\n",
    "        z_prev = self.z_q_0.expand(mini_batch.size(0), self.z_q_0.size(0))\n",
    "        with pyro.iarange('z_minibatch', len(mini_batch)):\n",
    "            for t in range(1, T_max + 1):\n",
    "                z_loc, z_scale = self.combiner(z_prev, rnn_output[:, t-1, :])\n",
    "                z_dist = dist.Normal(z_loc, z_scale)\n",
    "                with pyro.poutine.scale(None, annealing_factor):\n",
    "                    z_t = pyro.sample(f'z_{t}', z_dist.independent(1))\n",
    "                z_prev = z_t"
   ]
  },
  {
   "cell_type": "code",
   "execution_count": 45,
   "metadata": {},
   "outputs": [],
   "source": [
    "import torch\n",
    "import torch.utils.data as tdata\n",
    "import numpy as np\n",
    "\n",
    "\n",
    "class TimeSeriesDataset(tdata.Dataset):\n",
    "    '''Subclass of torch.utils.data.Dataset from numpy array for time series data\n",
    "    X; array-like\n",
    "    y: array-like, optional\n",
    "    '''\n",
    "    def __init__(self, X, y=None, timelag=10):\n",
    "        self.X = torch.tensor(X).float()\n",
    "        if y is not None:\n",
    "            if np.issubdtype(y.dtype, np.integer):\n",
    "                y = torch.tensor(y).long()\n",
    "            else:\n",
    "                y = torch.tensor(y).float()\n",
    "        self.y = y\n",
    "        self.timelag = timelag\n",
    "\n",
    "    def __len__(self):\n",
    "        return len(self.X) - (self.timelag - 1)\n",
    "\n",
    "    def __getitem__(self, index):\n",
    "        if self.y is None:\n",
    "            return self.X[index: index + self.timelag]\n",
    "        else:\n",
    "            return self.X[index: index + self.timelag], self.y[index: index + self.timelag]"
   ]
  },
  {
   "cell_type": "code",
   "execution_count": 50,
   "metadata": {},
   "outputs": [
    {
     "name": "stderr",
     "output_type": "stream",
     "text": [
      "/home/tom/anaconda3/lib/python3.6/site-packages/torch/nn/modules/rnn.py:38: UserWarning: dropout option adds dropout after all but last recurrent layer, so non-zero dropout expects num_layers greater than 1, but got dropout=0.2 and num_layers=1\n",
      "  \"num_layers={}\".format(dropout, num_layers))\n"
     ]
    },
    {
     "data": {
      "application/vnd.jupyter.widget-view+json": {
       "model_id": "67cb18bfdd4b495d80b61e7b97929bb6",
       "version_major": 2,
       "version_minor": 0
      },
      "text/html": [
       "<p>Failed to display Jupyter Widget of type <code>HBox</code>.</p>\n",
       "<p>\n",
       "  If you're reading this message in the Jupyter Notebook or JupyterLab Notebook, it may mean\n",
       "  that the widgets JavaScript is still loading. If this message persists, it\n",
       "  likely means that the widgets JavaScript library is either not installed or\n",
       "  not enabled. See the <a href=\"https://ipywidgets.readthedocs.io/en/stable/user_install.html\">Jupyter\n",
       "  Widgets Documentation</a> for setup instructions.\n",
       "</p>\n",
       "<p>\n",
       "  If you're reading this message in another frontend (for example, a static\n",
       "  rendering on GitHub or <a href=\"https://nbviewer.jupyter.org/\">NBViewer</a>),\n",
       "  it may mean that your frontend doesn't currently support widgets.\n",
       "</p>\n"
      ],
      "text/plain": [
       "HBox(children=(IntProgress(value=0, max=20), HTML(value='')))"
      ]
     },
     "metadata": {},
     "output_type": "display_data"
    },
    {
     "name": "stdout",
     "output_type": "stream",
     "text": [
      "19330.201992495306\n",
      "15078.944713460987\n",
      "8874.992663146093\n",
      "-10101.609323303248\n",
      "-36661.8068651002\n",
      "-53063.362666253386\n",
      "-56317.4532064405\n",
      "-61267.281891541235\n",
      "-62388.337074329116\n",
      "-63736.17713758863\n",
      "-64406.88253053098\n",
      "-64974.01975128568\n",
      "-64601.233851778095\n",
      "-64896.26435831909\n",
      "-65438.82268581514\n",
      "-65782.40056028448\n",
      "-65935.74847604283\n",
      "-65023.9919457004\n",
      "-65786.17373125101\n",
      "-66147.47338572863\n"
     ]
    }
   ],
   "source": [
    "from pyro.optim import Adam\n",
    "from pyro.infer import Trace_ELBO, SVI\n",
    "\n",
    "from tqdm import tqdm_notebook\n",
    "\n",
    "input_dim = ret.shape[-1]\n",
    "z_dim = 10\n",
    "emission_dim = 10\n",
    "transition_dim = 10\n",
    "rnn_dim = 10\n",
    "rnn_dropout_rate = .2\n",
    "timelag = 100\n",
    "\n",
    "pyro.clear_param_store()\n",
    "dmm = DMM(input_dim, z_dim, emission_dim, transition_dim,\n",
    "          rnn_dim, rnn_dropout_rate)\n",
    "adam_params = {\"lr\": 1e-3}\n",
    "optimizer = Adam(adam_params)\n",
    "\n",
    "svi = SVI(dmm.model, dmm.guide, optimizer, Trace_ELBO())\n",
    "\n",
    "data = TimeSeriesDataset(X=ret[:1000], timelag=timelag)\n",
    "train_loader = tdata.DataLoader(data, batch_size=32, shuffle=True)\n",
    "for i in tqdm_notebook(range(20)):\n",
    "    losses = []\n",
    "    for X in train_loader:\n",
    "        loss = svi.step(X)\n",
    "        losses.append(loss)\n",
    "    print(np.mean(losses))"
   ]
  },
  {
   "cell_type": "code",
   "execution_count": null,
   "metadata": {},
   "outputs": [],
   "source": []
  },
  {
   "cell_type": "code",
   "execution_count": null,
   "metadata": {},
   "outputs": [],
   "source": []
  },
  {
   "cell_type": "code",
   "execution_count": 34,
   "metadata": {},
   "outputs": [
    {
     "name": "stdout",
     "output_type": "stream",
     "text": [
      "Help on class DataLoader in module torch.utils.data.dataloader:\n",
      "\n",
      "class DataLoader(builtins.object)\n",
      " |  Data loader. Combines a dataset and a sampler, and provides\n",
      " |  single- or multi-process iterators over the dataset.\n",
      " |  \n",
      " |  Arguments:\n",
      " |      dataset (Dataset): dataset from which to load the data.\n",
      " |      batch_size (int, optional): how many samples per batch to load\n",
      " |          (default: 1).\n",
      " |      shuffle (bool, optional): set to ``True`` to have the data reshuffled\n",
      " |          at every epoch (default: False).\n",
      " |      sampler (Sampler, optional): defines the strategy to draw samples from\n",
      " |          the dataset. If specified, ``shuffle`` must be False.\n",
      " |      batch_sampler (Sampler, optional): like sampler, but returns a batch of\n",
      " |          indices at a time. Mutually exclusive with batch_size, shuffle,\n",
      " |          sampler, and drop_last.\n",
      " |      num_workers (int, optional): how many subprocesses to use for data\n",
      " |          loading. 0 means that the data will be loaded in the main process.\n",
      " |          (default: 0)\n",
      " |      collate_fn (callable, optional): merges a list of samples to form a mini-batch.\n",
      " |      pin_memory (bool, optional): If ``True``, the data loader will copy tensors\n",
      " |          into CUDA pinned memory before returning them.\n",
      " |      drop_last (bool, optional): set to ``True`` to drop the last incomplete batch,\n",
      " |          if the dataset size is not divisible by the batch size. If ``False`` and\n",
      " |          the size of dataset is not divisible by the batch size, then the last batch\n",
      " |          will be smaller. (default: False)\n",
      " |      timeout (numeric, optional): if positive, the timeout value for collecting a batch\n",
      " |          from workers. Should always be non-negative. (default: 0)\n",
      " |      worker_init_fn (callable, optional): If not None, this will be called on each\n",
      " |          worker subprocess with the worker id (an int in ``[0, num_workers - 1]``) as\n",
      " |          input, after seeding and before data loading. (default: None)\n",
      " |  \n",
      " |  .. note:: By default, each worker will have its PyTorch seed set to\n",
      " |            ``base_seed + worker_id``, where ``base_seed`` is a long generated\n",
      " |            by main process using its RNG. However, seeds for other libraies\n",
      " |            may be duplicated upon initializing workers (w.g., NumPy), causing\n",
      " |            each worker to return identical random numbers. (See\n",
      " |            :ref:`dataloader-workers-random-seed` section in FAQ.) You may\n",
      " |            use ``torch.initial_seed()`` to access the PyTorch seed for each\n",
      " |            worker in :attr:`worker_init_fn`, and use it to set other seeds\n",
      " |            before data loading.\n",
      " |  \n",
      " |  .. warning:: If ``spawn`` start method is used, :attr:`worker_init_fn` cannot be an\n",
      " |               unpicklable object, e.g., a lambda function.\n",
      " |  \n",
      " |  Methods defined here:\n",
      " |  \n",
      " |  __init__(self, dataset, batch_size=1, shuffle=False, sampler=None, batch_sampler=None, num_workers=0, collate_fn=<function default_collate at 0x7f29ee532620>, pin_memory=False, drop_last=False, timeout=0, worker_init_fn=None)\n",
      " |      Initialize self.  See help(type(self)) for accurate signature.\n",
      " |  \n",
      " |  __iter__(self)\n",
      " |  \n",
      " |  __len__(self)\n",
      " |  \n",
      " |  __setattr__(self, attr, val)\n",
      " |      Implement setattr(self, name, value).\n",
      " |  \n",
      " |  ----------------------------------------------------------------------\n",
      " |  Data descriptors defined here:\n",
      " |  \n",
      " |  __dict__\n",
      " |      dictionary for instance variables (if defined)\n",
      " |  \n",
      " |  __weakref__\n",
      " |      list of weak references to the object (if defined)\n",
      "\n"
     ]
    }
   ],
   "source": [
    "help(tdata.DataLoader)"
   ]
  },
  {
   "cell_type": "code",
   "execution_count": null,
   "metadata": {},
   "outputs": [],
   "source": []
  }
 ],
 "metadata": {
  "kernelspec": {
   "display_name": "Python 3",
   "language": "python",
   "name": "python3"
  },
  "language_info": {
   "codemirror_mode": {
    "name": "ipython",
    "version": 3
   },
   "file_extension": ".py",
   "mimetype": "text/x-python",
   "name": "python",
   "nbconvert_exporter": "python",
   "pygments_lexer": "ipython3",
   "version": "3.6.4"
  }
 },
 "nbformat": 4,
 "nbformat_minor": 2
}
