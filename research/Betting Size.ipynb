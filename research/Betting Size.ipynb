{
 "cells": [
  {
   "cell_type": "markdown",
   "metadata": {},
   "source": [
    "Difference of how to estimate the reasonable size of betting\n",
    "http://epchan.blogspot.com/\n",
    "More precise explanation.\n",
    "http://epchan.blogspot.com/2017/05/paradox-resolved-why-risk-decreases.html\n",
    "\n",
    "The paper published by Murray Gell-Mann\n",
    "https://aip.scitation.org/doi/full/10.1063/1.4940236\n"
   ]
  }
 ],
 "metadata": {
  "kernelspec": {
   "display_name": "Python 3",
   "language": "python",
   "name": "python3"
  },
  "language_info": {
   "codemirror_mode": {
    "name": "ipython",
    "version": 3
   },
   "file_extension": ".py",
   "mimetype": "text/x-python",
   "name": "python",
   "nbconvert_exporter": "python",
   "pygments_lexer": "ipython3",
   "version": "3.6.4"
  }
 },
 "nbformat": 4,
 "nbformat_minor": 2
}
