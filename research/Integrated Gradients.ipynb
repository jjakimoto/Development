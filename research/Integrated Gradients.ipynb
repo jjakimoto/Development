{
 "cells": [
  {
   "cell_type": "code",
   "execution_count": 1,
   "metadata": {},
   "outputs": [],
   "source": [
    "import torch\n",
    "import torch.nn as nn\n",
    "import torch.optim as optim\n",
    "import torch.nn.functional as F\n",
    "import torch.utils.data as tdata\n",
    "\n",
    "import torchvision\n",
    "from torchvision import datasets\n",
    "import torchvision.transforms as transforms"
   ]
  },
  {
   "cell_type": "code",
   "execution_count": 2,
   "metadata": {},
   "outputs": [],
   "source": [
    "class Net(nn.Module):\n",
    "    def __init__(self):\n",
    "        super(Net, self).__init__()\n",
    "        self.conv1 = nn.Conv2d(1, 10, kernel_size=5)\n",
    "        self.conv2 = nn.Conv2d(10, 20, kernel_size=5)\n",
    "        self.conv2_drop = nn.Dropout2d()\n",
    "        self.fc1 = nn.Linear(320, 50)\n",
    "        self.fc2 = nn.Linear(50, 10)\n",
    "\n",
    "    def forward(self, x):\n",
    "        x = F.relu(F.max_pool2d(self.conv1(x), 2))\n",
    "        x = F.relu(F.max_pool2d(self.conv2_drop(self.conv2(x)), 2))\n",
    "        x = x.view(-1, 320)\n",
    "        x = F.relu(self.fc1(x))\n",
    "        x = F.dropout(x, training=self.training)\n",
    "        x = self.fc2(x)\n",
    "        return F.log_softmax(x, dim=1)"
   ]
  },
  {
   "cell_type": "code",
   "execution_count": 3,
   "metadata": {},
   "outputs": [],
   "source": [
    "batch_size = 32\n",
    "\n",
    "transform = transforms.Compose(\n",
    "    [transforms.ToTensor(),\n",
    "     transforms.Normalize((0.5,), (0.5,))])\n",
    "\n",
    "train_loader = torch.utils.data.DataLoader(\n",
    "        datasets.MNIST('../data', train=True, download=True,\n",
    "                       transform=transform),\n",
    "        batch_size=batch_size, shuffle=True)\n",
    "    \n",
    "test_loader = torch.utils.data.DataLoader(\n",
    "        datasets.MNIST('../data', train=False, transform=transform),\n",
    "        batch_size=batch_size, shuffle=True)"
   ]
  },
  {
   "cell_type": "code",
   "execution_count": null,
   "metadata": {},
   "outputs": [
    {
     "data": {
      "application/vnd.jupyter.widget-view+json": {
       "model_id": "55b41d888c614b78b9d6dd86e1f280ac",
       "version_major": 2,
       "version_minor": 0
      },
      "text/html": [
       "<p>Failed to display Jupyter Widget of type <code>HBox</code>.</p>\n",
       "<p>\n",
       "  If you're reading this message in the Jupyter Notebook or JupyterLab Notebook, it may mean\n",
       "  that the widgets JavaScript is still loading. If this message persists, it\n",
       "  likely means that the widgets JavaScript library is either not installed or\n",
       "  not enabled. See the <a href=\"https://ipywidgets.readthedocs.io/en/stable/user_install.html\">Jupyter\n",
       "  Widgets Documentation</a> for setup instructions.\n",
       "</p>\n",
       "<p>\n",
       "  If you're reading this message in another frontend (for example, a static\n",
       "  rendering on GitHub or <a href=\"https://nbviewer.jupyter.org/\">NBViewer</a>),\n",
       "  it may mean that your frontend doesn't currently support widgets.\n",
       "</p>\n"
      ],
      "text/plain": [
       "HBox(children=(IntProgress(value=0), HTML(value='')))"
      ]
     },
     "metadata": {},
     "output_type": "display_data"
    },
    {
     "name": "stdout",
     "output_type": "stream",
     "text": [
      "Train Epoch: 0                    [(0, 0)/60000                    (0.0%)]\tLoss: 2.299952745437622\n",
      "Train Epoch: 0                    [(0, 32000)/60000                    (53.333333333333336%)]\tLoss: 0.27403131127357483\n",
      "\n",
      "Test set: Average loss: 0.09924335248172284,           Accuracy: 9714/10000           (97.14%)\n",
      "\n",
      "Train Epoch: 1                    [(1, 0)/60000                    (0.0%)]\tLoss: 0.16573360562324524\n",
      "Train Epoch: 1                    [(1, 32000)/60000                    (53.333333333333336%)]\tLoss: 0.08379770070314407\n",
      "\n",
      "Test set: Average loss: 0.07329431952498854,           Accuracy: 9782/10000           (97.82%)\n",
      "\n",
      "Train Epoch: 2                    [(2, 0)/60000                    (0.0%)]\tLoss: 0.061557549983263016\n",
      "Train Epoch: 2                    [(2, 32000)/60000                    (53.333333333333336%)]\tLoss: 0.20928236842155457\n",
      "\n",
      "Test set: Average loss: 0.0620647753406316,           Accuracy: 9812/10000           (98.12%)\n",
      "\n",
      "Train Epoch: 3                    [(3, 0)/60000                    (0.0%)]\tLoss: 0.08434551954269409\n",
      "Train Epoch: 3                    [(3, 32000)/60000                    (53.333333333333336%)]\tLoss: 0.4298456907272339\n",
      "\n",
      "Test set: Average loss: 0.05681147573627532,           Accuracy: 9829/10000           (98.29%)\n",
      "\n",
      "Train Epoch: 4                    [(4, 0)/60000                    (0.0%)]\tLoss: 0.1617259830236435\n",
      "Train Epoch: 4                    [(4, 32000)/60000                    (53.333333333333336%)]\tLoss: 0.11717527359724045\n",
      "\n",
      "Test set: Average loss: 0.05115456775194034,           Accuracy: 9839/10000           (98.39%)\n",
      "\n",
      "Train Epoch: 5                    [(5, 0)/60000                    (0.0%)]\tLoss: 0.45966485142707825\n",
      "Train Epoch: 5                    [(5, 32000)/60000                    (53.333333333333336%)]\tLoss: 0.21990670263767242\n",
      "\n",
      "Test set: Average loss: 0.047425815458782015,           Accuracy: 9855/10000           (98.55%)\n",
      "\n",
      "Train Epoch: 6                    [(6, 0)/60000                    (0.0%)]\tLoss: 0.21454833447933197\n",
      "Train Epoch: 6                    [(6, 32000)/60000                    (53.333333333333336%)]\tLoss: 0.10924233496189117\n",
      "\n",
      "Test set: Average loss: 0.0510869930092711,           Accuracy: 9839/10000           (98.39%)\n",
      "\n",
      "Train Epoch: 7                    [(7, 0)/60000                    (0.0%)]\tLoss: 0.20236490666866302\n",
      "Train Epoch: 7                    [(7, 32000)/60000                    (53.333333333333336%)]\tLoss: 0.052729297429323196\n",
      "\n",
      "Test set: Average loss: 0.0478598613393493,           Accuracy: 9852/10000           (98.52%)\n",
      "\n",
      "Train Epoch: 8                    [(8, 0)/60000                    (0.0%)]\tLoss: 0.21213553845882416\n",
      "Train Epoch: 8                    [(8, 32000)/60000                    (53.333333333333336%)]\tLoss: 0.03688296303153038\n",
      "\n",
      "Test set: Average loss: 0.04232991012088023,           Accuracy: 9863/10000           (98.63%)\n",
      "\n",
      "Train Epoch: 9                    [(9, 0)/60000                    (0.0%)]\tLoss: 0.3395951986312866\n",
      "Train Epoch: 9                    [(9, 32000)/60000                    (53.333333333333336%)]\tLoss: 0.06324940919876099\n",
      "\n",
      "Test set: Average loss: 0.040271326755126936,           Accuracy: 9874/10000           (98.74%)\n",
      "\n",
      "Train Epoch: 10                    [(10, 0)/60000                    (0.0%)]\tLoss: 0.06251469999551773\n",
      "Train Epoch: 10                    [(10, 32000)/60000                    (53.333333333333336%)]\tLoss: 0.1842494010925293\n",
      "\n",
      "Test set: Average loss: 0.03817465365119278,           Accuracy: 9875/10000           (98.75%)\n",
      "\n",
      "Train Epoch: 11                    [(11, 0)/60000                    (0.0%)]\tLoss: 0.03530116379261017\n",
      "Train Epoch: 11                    [(11, 32000)/60000                    (53.333333333333336%)]\tLoss: 0.33148038387298584\n",
      "\n",
      "Test set: Average loss: 0.0410892452333821,           Accuracy: 9874/10000           (98.74%)\n",
      "\n",
      "Train Epoch: 12                    [(12, 0)/60000                    (0.0%)]\tLoss: 0.17908315360546112\n",
      "Train Epoch: 12                    [(12, 32000)/60000                    (53.333333333333336%)]\tLoss: 0.2606334388256073\n",
      "\n",
      "Test set: Average loss: 0.03784981151098036,           Accuracy: 9885/10000           (98.85%)\n",
      "\n",
      "Train Epoch: 13                    [(13, 0)/60000                    (0.0%)]\tLoss: 0.23414234817028046\n",
      "Train Epoch: 13                    [(13, 32000)/60000                    (53.333333333333336%)]\tLoss: 0.06732147932052612\n",
      "\n",
      "Test set: Average loss: 0.03939224323395174,           Accuracy: 9871/10000           (98.71%)\n",
      "\n",
      "Train Epoch: 14                    [(14, 0)/60000                    (0.0%)]\tLoss: 0.23417338728904724\n",
      "Train Epoch: 14                    [(14, 32000)/60000                    (53.333333333333336%)]\tLoss: 0.03492619842290878\n",
      "\n",
      "Test set: Average loss: 0.03597536601178581,           Accuracy: 9872/10000           (98.72%)\n",
      "\n",
      "Train Epoch: 15                    [(15, 0)/60000                    (0.0%)]\tLoss: 0.05227939411997795\n",
      "Train Epoch: 15                    [(15, 32000)/60000                    (53.333333333333336%)]\tLoss: 0.00821046531200409\n",
      "\n",
      "Test set: Average loss: 0.03882255711974576,           Accuracy: 9880/10000           (98.8%)\n",
      "\n",
      "Train Epoch: 16                    [(16, 0)/60000                    (0.0%)]\tLoss: 0.1719856560230255\n",
      "Train Epoch: 16                    [(16, 32000)/60000                    (53.333333333333336%)]\tLoss: 0.24054071307182312\n",
      "\n",
      "Test set: Average loss: 0.035495456140942405,           Accuracy: 9882/10000           (98.82%)\n",
      "\n",
      "Train Epoch: 17                    [(17, 0)/60000                    (0.0%)]\tLoss: 0.22360295057296753\n",
      "Train Epoch: 17                    [(17, 32000)/60000                    (53.333333333333336%)]\tLoss: 0.12624585628509521\n",
      "\n",
      "Test set: Average loss: 0.0362494940457982,           Accuracy: 9879/10000           (98.79%)\n",
      "\n",
      "Train Epoch: 18                    [(18, 0)/60000                    (0.0%)]\tLoss: 0.023623382672667503\n",
      "Train Epoch: 18                    [(18, 32000)/60000                    (53.333333333333336%)]\tLoss: 0.2325143665075302\n",
      "\n",
      "Test set: Average loss: 0.03611744536617771,           Accuracy: 9880/10000           (98.8%)\n",
      "\n",
      "Train Epoch: 19                    [(19, 0)/60000                    (0.0%)]\tLoss: 0.09016045182943344\n",
      "Train Epoch: 19                    [(19, 32000)/60000                    (53.333333333333336%)]\tLoss: 0.07944227755069733\n",
      "\n",
      "Test set: Average loss: 0.038722095427266325,           Accuracy: 9875/10000           (98.75%)\n",
      "\n",
      "Train Epoch: 20                    [(20, 0)/60000                    (0.0%)]\tLoss: 0.10261720418930054\n",
      "Train Epoch: 20                    [(20, 32000)/60000                    (53.333333333333336%)]\tLoss: 0.11882877349853516\n",
      "\n",
      "Test set: Average loss: 0.03696666699850466,           Accuracy: 9881/10000           (98.81%)\n",
      "\n",
      "Train Epoch: 21                    [(21, 0)/60000                    (0.0%)]\tLoss: 0.17473448812961578\n",
      "Train Epoch: 21                    [(21, 32000)/60000                    (53.333333333333336%)]\tLoss: 0.09151174128055573\n",
      "\n",
      "Test set: Average loss: 0.03468193816377316,           Accuracy: 9891/10000           (98.91%)\n",
      "\n",
      "Train Epoch: 22                    [(22, 0)/60000                    (0.0%)]\tLoss: 0.08026403933763504\n",
      "Train Epoch: 22                    [(22, 32000)/60000                    (53.333333333333336%)]\tLoss: 0.5708770155906677\n",
      "\n",
      "Test set: Average loss: 0.03386673504243372,           Accuracy: 9890/10000           (98.9%)\n",
      "\n",
      "Train Epoch: 23                    [(23, 0)/60000                    (0.0%)]\tLoss: 0.09232349693775177\n",
      "Train Epoch: 23                    [(23, 32000)/60000                    (53.333333333333336%)]\tLoss: 0.015528202056884766\n",
      "\n",
      "Test set: Average loss: 0.03320316435510758,           Accuracy: 9894/10000           (98.94%)\n",
      "\n",
      "Train Epoch: 24                    [(24, 0)/60000                    (0.0%)]\tLoss: 0.14690230786800385\n",
      "Train Epoch: 24                    [(24, 32000)/60000                    (53.333333333333336%)]\tLoss: 0.19869829714298248\n",
      "\n",
      "Test set: Average loss: 0.03393480211086571,           Accuracy: 9896/10000           (98.96%)\n",
      "\n",
      "Train Epoch: 25                    [(25, 0)/60000                    (0.0%)]\tLoss: 0.06992580741643906\n",
      "Train Epoch: 25                    [(25, 32000)/60000                    (53.333333333333336%)]\tLoss: 0.3725613057613373\n"
     ]
    },
    {
     "name": "stdout",
     "output_type": "stream",
     "text": [
      "\n",
      "Test set: Average loss: 0.03526495481065358,           Accuracy: 9903/10000           (99.03%)\n",
      "\n",
      "Train Epoch: 26                    [(26, 0)/60000                    (0.0%)]\tLoss: 0.12059880048036575\n",
      "Train Epoch: 26                    [(26, 32000)/60000                    (53.333333333333336%)]\tLoss: 0.11022636294364929\n",
      "\n",
      "Test set: Average loss: 0.03339393298791256,           Accuracy: 9903/10000           (99.03%)\n",
      "\n",
      "Train Epoch: 27                    [(27, 0)/60000                    (0.0%)]\tLoss: 0.027095505967736244\n"
     ]
    }
   ],
   "source": [
    "from torch_utils.training import train_step, test_step\n",
    "from tqdm import tqdm_notebook\n",
    "\n",
    "model = Net()\n",
    "optimizer = optim.Adam(model.parameters(), lr=1e-3)\n",
    "for i in tqdm_notebook(range(100)):\n",
    "    train_step(model, train_loader, optimizer,\n",
    "               epoch=i, log_interval=1000)\n",
    "    test_step(model, test_loader)"
   ]
  },
  {
   "cell_type": "code",
   "execution_count": 69,
   "metadata": {},
   "outputs": [],
   "source": [
    "from torch.autograd import Variable\n",
    "\n",
    "def get_gradient_wrt_output(model, inputs, output_idx=0, device='cpu'):\n",
    "    model.eval()\n",
    "    n_batch = inputs.size(0)\n",
    "    if np.issubdtype(type(output_idx), np.integer):\n",
    "        output_idx = [output_idx for _ in range(n_batch)]\n",
    "    output_list = []\n",
    "    grad_list = []\n",
    "    for i in range(n_batch):\n",
    "        model.zero_grad()\n",
    "        input_var = Variable(inputs[[i]], requires_grad=True)\n",
    "        output = model(input_var)[0][output_idx[i]]\n",
    "        output.backward()\n",
    "        output_list.append(output)\n",
    "        grad_list.append(input_var.grad[0])\n",
    "    grads = torch.stack(grad_list).detach().numpy()\n",
    "    outputs = torch.stack(output_list).detach().numpy()\n",
    "    return grads, outputs"
   ]
  },
  {
   "cell_type": "code",
   "execution_count": 70,
   "metadata": {},
   "outputs": [],
   "source": [
    "for i, (data, target) in enumerate(train_loader):\n",
    "    if i > 0:\n",
    "        break"
   ]
  },
  {
   "cell_type": "code",
   "execution_count": 71,
   "metadata": {},
   "outputs": [],
   "source": [
    "gradient, output = get_gradient_wrt_output(model, data, output_idx=0)"
   ]
  },
  {
   "cell_type": "code",
   "execution_count": 72,
   "metadata": {},
   "outputs": [
    {
     "data": {
      "text/plain": [
       "(32,)"
      ]
     },
     "execution_count": 72,
     "metadata": {},
     "output_type": "execute_result"
    }
   ],
   "source": [
    "output.shape"
   ]
  },
  {
   "cell_type": "code",
   "execution_count": 73,
   "metadata": {},
   "outputs": [
    {
     "data": {
      "text/plain": [
       "(32, 1, 28, 28)"
      ]
     },
     "execution_count": 73,
     "metadata": {},
     "output_type": "execute_result"
    }
   ],
   "source": [
    "gradient.shape"
   ]
  },
  {
   "cell_type": "code",
   "execution_count": 74,
   "metadata": {},
   "outputs": [
    {
     "data": {
      "text/plain": [
       "torch.Size([32, 1, 28, 28])"
      ]
     },
     "execution_count": 74,
     "metadata": {},
     "output_type": "execute_result"
    }
   ],
   "source": [
    "data.shape"
   ]
  },
  {
   "cell_type": "code",
   "execution_count": 241,
   "metadata": {},
   "outputs": [],
   "source": [
    "import numpy as np\n",
    "\n",
    "def integrated_gradients(model, input, output_idx=None, baseline=None, steps=50):\n",
    "    if baseline is None:\n",
    "        baseline = 0. * input\n",
    "    assert(baseline.shape == input.shape)\n",
    "    if output_idx is None:\n",
    "        input_ = torch.stack([input])\n",
    "        output = model(input_)\n",
    "        output_idx = output.max(1)[1][0]\n",
    "    # Scale input and compute gradients.\n",
    "    scaled_inputs = [baseline + (float(i) / steps) * (input - baseline) for i in range(0, steps+1)]\n",
    "    scaled_inputs = torch.stack(scaled_inputs)\n",
    "    grads, outputs = get_gradient_wrt_output(model, scaled_inputs)\n",
    "    mean_grads = np.mean(grads, axis=0)\n",
    "    integrated_gradients = (input.numpy() - baseline.numpy()) * mean_grads\n",
    "    output = outputs[-1]\n",
    "    return integrated_gradients, output"
   ]
  },
  {
   "cell_type": "code",
   "execution_count": 242,
   "metadata": {},
   "outputs": [],
   "source": [
    "grads, output = integrated_gradients(model, data[0])"
   ]
  },
  {
   "cell_type": "code",
   "execution_count": 243,
   "metadata": {},
   "outputs": [
    {
     "data": {
      "text/plain": [
       "(1, 28, 28)"
      ]
     },
     "execution_count": 243,
     "metadata": {},
     "output_type": "execute_result"
    }
   ],
   "source": [
    "grads.shape"
   ]
  },
  {
   "cell_type": "code",
   "execution_count": 255,
   "metadata": {},
   "outputs": [],
   "source": [
    "test_data = {}\n",
    "for X, y in test_loader:\n",
    "    output = model(X)\n",
    "    pred_val, pred_idx = output.max(1)\n",
    "    flag = torch.eq(pred_idx, y)\n",
    "    y = y[flag]\n",
    "    pred_val = pred_val[flag]\n",
    "    X = X[flag]\n",
    "    for conf, X_i, y_i in zip(pred_val, X, y):\n",
    "        val = test_data.get(y_i.item(), None)\n",
    "        if val is None:\n",
    "            test_data[y_i.item()] = (conf.item(), X_i)\n",
    "        else:\n",
    "            if conf.item() > val[0]:\n",
    "                test_data[y_i.item()] = (conf.item(), X_i)\n"
   ]
  },
  {
   "cell_type": "code",
   "execution_count": 256,
   "metadata": {},
   "outputs": [],
   "source": [
    "results = dict()\n",
    "for idx, test_item in test_data.items():\n",
    "    X = test_item[1]\n",
    "    grads, output = integrated_gradients(model, X)\n",
    "    results[idx] = (X[0].numpy(), grads[0])"
   ]
  },
  {
   "cell_type": "code",
   "execution_count": 257,
   "metadata": {},
   "outputs": [],
   "source": [
    "results = dict()\n",
    "for idx, test_item in test_data.items():\n",
    "    X = test_item[1]\n",
    "    grads, output = integrated_gradients(model, X)\n",
    "    results[idx] = (X[0].numpy(), grads[0])"
   ]
  },
  {
   "cell_type": "code",
   "execution_count": 258,
   "metadata": {},
   "outputs": [
    {
     "data": {
      "text/plain": [
       "<matplotlib.image.AxesImage at 0x7f46a3b40da0>"
      ]
     },
     "execution_count": 258,
     "metadata": {},
     "output_type": "execute_result"
    },
    {
     "data": {
      "image/png": "[encoded data removed]",
      "text/plain": [
       "<matplotlib.figure.Figure at 0x7f46a368c3c8>"
      ]
     },
     "metadata": {},
     "output_type": "display_data"
    }
   ],
   "source": [
    "import matplotlib.pyplot as plt\n",
    "%matplotlib inline\n",
    "\n",
    "idx = 0\n",
    "plt.imshow(results[idx][0], cmap='Blues')\n",
    "plt.imshow(results[idx][1], cmap='Reds', alpha=.5)"
   ]
  },
  {
   "cell_type": "code",
   "execution_count": 259,
   "metadata": {},
   "outputs": [
    {
     "data": {
      "text/plain": [
       "<matplotlib.image.AxesImage at 0x7f46a1f1ec50>"
      ]
     },
     "execution_count": 259,
     "metadata": {},
     "output_type": "execute_result"
    },
    {
     "data": {
      "image/png": "[encoded data removed]",
      "text/plain": [
       "<matplotlib.figure.Figure at 0x7f46a3b71128>"
      ]
     },
     "metadata": {},
     "output_type": "display_data"
    }
   ],
   "source": [
    "idx = 1\n",
    "plt.imshow(results[idx][0], cmap='Blues')\n",
    "plt.imshow(-results[idx][1], cmap='Reds', alpha=.5)"
   ]
  },
  {
   "cell_type": "code",
   "execution_count": 260,
   "metadata": {},
   "outputs": [
    {
     "data": {
      "text/plain": [
       "<matplotlib.image.AxesImage at 0x7f46a298d940>"
      ]
     },
     "execution_count": 260,
     "metadata": {},
     "output_type": "execute_result"
    },
    {
     "data": {
      "image/png": "[encoded data removed]",
      "text/plain": [
       "<matplotlib.figure.Figure at 0x7f46a1efafd0>"
      ]
     },
     "metadata": {},
     "output_type": "display_data"
    }
   ],
   "source": [
    "idx = 2\n",
    "plt.imshow(results[idx][0], cmap='Blues')\n",
    "plt.imshow(-results[idx][1], cmap='Reds', alpha=.5)"
   ]
  },
  {
   "cell_type": "code",
   "execution_count": 261,
   "metadata": {},
   "outputs": [
    {
     "data": {
      "text/plain": [
       "<matplotlib.image.AxesImage at 0x7f46a296c630>"
      ]
     },
     "execution_count": 261,
     "metadata": {},
     "output_type": "execute_result"
    },
    {
     "data": {
      "image/png": "[encoded data removed]",
      "text/plain": [
       "<matplotlib.figure.Figure at 0x7f46a29ec2e8>"
      ]
     },
     "metadata": {},
     "output_type": "display_data"
    }
   ],
   "source": [
    "idx = 3\n",
    "plt.imshow(results[idx][0], cmap='Blues')\n",
    "plt.imshow(-results[idx][1], cmap='Reds', alpha=.5)"
   ]
  },
  {
   "cell_type": "code",
   "execution_count": 276,
   "metadata": {},
   "outputs": [
    {
     "data": {
      "text/plain": [
       "<matplotlib.image.AxesImage at 0x7f46a0ac6da0>"
      ]
     },
     "execution_count": 276,
     "metadata": {},
     "output_type": "execute_result"
    },
    {
     "data": {
      "image/png": "[encoded data removed]",
      "text/plain": [
       "<matplotlib.figure.Figure at 0x7f46a1eb8438>"
      ]
     },
     "metadata": {},
     "output_type": "display_data"
    },
    {
     "data": {
      "image/png": "[encoded data removed]",
      "text/plain": [
       "<matplotlib.figure.Figure at 0x7f46a0ab2080>"
      ]
     },
     "metadata": {},
     "output_type": "display_data"
    }
   ],
   "source": [
    "idx = 6\n",
    "fig, ax = plt.subplots(1, 2)\n",
    "ax[0].imshow(results[idx][0], cmap='Blues')\n",
    "ax[1].imshow(-results[idx][1], cmap='Reds', alpha=.5)\n",
    "plt.figure()\n",
    "plt.imshow(results[idx][0], cmap='Blues')\n",
    "plt.imshow(-results[idx][1], cmap='Reds', alpha=.5)"
   ]
  },
  {
   "cell_type": "code",
   "execution_count": 267,
   "metadata": {},
   "outputs": [
    {
     "name": "stdout",
     "output_type": "stream",
     "text": [
      "Help on function subplots in module matplotlib.pyplot:\n",
      "\n",
      "subplots(nrows=1, ncols=1, sharex=False, sharey=False, squeeze=True, subplot_kw=None, gridspec_kw=None, **fig_kw)\n",
      "    Create a figure and a set of subplots\n",
      "    \n",
      "    This utility wrapper makes it convenient to create common layouts of\n",
      "    subplots, including the enclosing figure object, in a single call.\n",
      "    \n",
      "    Parameters\n",
      "    ----------\n",
      "    nrows, ncols : int, optional, default: 1\n",
      "        Number of rows/columns of the subplot grid.\n",
      "    \n",
      "    sharex, sharey : bool or {'none', 'all', 'row', 'col'}, default: False\n",
      "        Controls sharing of properties among x (`sharex`) or y (`sharey`)\n",
      "        axes:\n",
      "    \n",
      "            - True or 'all': x- or y-axis will be shared among all\n",
      "              subplots.\n",
      "            - False or 'none': each subplot x- or y-axis will be\n",
      "              independent.\n",
      "            - 'row': each subplot row will share an x- or y-axis.\n",
      "            - 'col': each subplot column will share an x- or y-axis.\n",
      "    \n",
      "        When subplots have a shared x-axis along a column, only the x tick\n",
      "        labels of the bottom subplot are visible.  Similarly, when subplots\n",
      "        have a shared y-axis along a row, only the y tick labels of the first\n",
      "        column subplot are visible.\n",
      "    \n",
      "    squeeze : bool, optional, default: True\n",
      "        - If True, extra dimensions are squeezed out from the returned Axes\n",
      "          object:\n",
      "    \n",
      "            - if only one subplot is constructed (nrows=ncols=1), the\n",
      "              resulting single Axes object is returned as a scalar.\n",
      "            - for Nx1 or 1xN subplots, the returned object is a 1D numpy\n",
      "              object array of Axes objects are returned as numpy 1D arrays.\n",
      "            - for NxM, subplots with N>1 and M>1 are returned as a 2D arrays.\n",
      "    \n",
      "        - If False, no squeezing at all is done: the returned Axes object is\n",
      "          always a 2D array containing Axes instances, even if it ends up\n",
      "          being 1x1.\n",
      "    \n",
      "    subplot_kw : dict, optional\n",
      "        Dict with keywords passed to the\n",
      "        :meth:`~matplotlib.figure.Figure.add_subplot` call used to create each\n",
      "        subplot.\n",
      "    \n",
      "    gridspec_kw : dict, optional\n",
      "        Dict with keywords passed to the\n",
      "        :class:`~matplotlib.gridspec.GridSpec` constructor used to create the\n",
      "        grid the subplots are placed on.\n",
      "    \n",
      "    **fig_kw :\n",
      "        All additional keyword arguments are passed to the :func:`figure` call.\n",
      "    \n",
      "    Returns\n",
      "    -------\n",
      "    fig : :class:`matplotlib.figure.Figure` object\n",
      "    \n",
      "    ax : Axes object or array of Axes objects.\n",
      "    \n",
      "        ax can be either a single :class:`matplotlib.axes.Axes` object or an\n",
      "        array of Axes objects if more than one subplot was created.  The\n",
      "        dimensions of the resulting array can be controlled with the squeeze\n",
      "        keyword, see above.\n",
      "    \n",
      "    Examples\n",
      "    --------\n",
      "    First create some toy data:\n",
      "    \n",
      "    >>> x = np.linspace(0, 2*np.pi, 400)\n",
      "    >>> y = np.sin(x**2)\n",
      "    \n",
      "    Creates just a figure and only one subplot\n",
      "    \n",
      "    >>> fig, ax = plt.subplots()\n",
      "    >>> ax.plot(x, y)\n",
      "    >>> ax.set_title('Simple plot')\n",
      "    \n",
      "    Creates two subplots and unpacks the output array immediately\n",
      "    \n",
      "    >>> f, (ax1, ax2) = plt.subplots(1, 2, sharey=True)\n",
      "    >>> ax1.plot(x, y)\n",
      "    >>> ax1.set_title('Sharing Y axis')\n",
      "    >>> ax2.scatter(x, y)\n",
      "    \n",
      "    Creates four polar axes, and accesses them through the returned array\n",
      "    \n",
      "    >>> fig, axes = plt.subplots(2, 2, subplot_kw=dict(polar=True))\n",
      "    >>> axes[0, 0].plot(x, y)\n",
      "    >>> axes[1, 1].scatter(x, y)\n",
      "    \n",
      "    Share a X axis with each column of subplots\n",
      "    \n",
      "    >>> plt.subplots(2, 2, sharex='col')\n",
      "    \n",
      "    Share a Y axis with each row of subplots\n",
      "    \n",
      "    >>> plt.subplots(2, 2, sharey='row')\n",
      "    \n",
      "    Share both X and Y axes with all subplots\n",
      "    \n",
      "    >>> plt.subplots(2, 2, sharex='all', sharey='all')\n",
      "    \n",
      "    Note that this is the same as\n",
      "    \n",
      "    >>> plt.subplots(2, 2, sharex=True, sharey=True)\n",
      "    \n",
      "    See Also\n",
      "    --------\n",
      "    figure\n",
      "    subplot\n",
      "\n"
     ]
    }
   ],
   "source": [
    "help(plt.subplots)"
   ]
  },
  {
   "cell_type": "code",
   "execution_count": 269,
   "metadata": {},
   "outputs": [
    {
     "data": {
      "image/png": "[encoded data removed]",
      "text/plain": [
       "<matplotlib.figure.Figure at 0x7f46a1b1eeb8>"
      ]
     },
     "metadata": {},
     "output_type": "display_data"
    }
   ],
   "source": [
    "fig, ax = plt.subplots(1, 2)"
   ]
  },
  {
   "cell_type": "code",
   "execution_count": 271,
   "metadata": {},
   "outputs": [
    {
     "data": {
      "text/plain": [
       "<matplotlib.axes._subplots.AxesSubplot at 0x7f46a22a17b8>"
      ]
     },
     "execution_count": 271,
     "metadata": {},
     "output_type": "execute_result"
    }
   ],
   "source": [
    "ax[0]"
   ]
  },
  {
   "cell_type": "code",
   "execution_count": null,
   "metadata": {},
   "outputs": [],
   "source": []
  }
 ],
 "metadata": {
  "kernelspec": {
   "display_name": "Python 3",
   "language": "python",
   "name": "python3"
  },
  "language_info": {
   "codemirror_mode": {
    "name": "ipython",
    "version": 3
   },
   "file_extension": ".py",
   "mimetype": "text/x-python",
   "name": "python",
   "nbconvert_exporter": "python",
   "pygments_lexer": "ipython3",
   "version": "3.6.4"
  }
 },
 "nbformat": 4,
 "nbformat_minor": 2
}
