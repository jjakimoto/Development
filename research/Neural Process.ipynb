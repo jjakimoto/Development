{
 "cells": [
  {
   "cell_type": "code",
   "execution_count": 1,
   "metadata": {},
   "outputs": [
    {
     "data": {
      "text/plain": [
       "<matplotlib.collections.PathCollection at 0x7f4c2a963b70>"
      ]
     },
     "execution_count": 1,
     "metadata": {},
     "output_type": "execute_result"
    },
    {
     "data": {
      "image/png": "[encoded data removed]",
      "text/plain": [
       "<matplotlib.figure.Figure at 0x7f4c50045e80>"
      ]
     },
     "metadata": {},
     "output_type": "display_data"
    }
   ],
   "source": [
    "import numpy as np\n",
    "import matplotlib.pyplot as plt\n",
    "%matplotlib inline\n",
    "\n",
    "x = np.arange(-4, 5)\n",
    "y = np.sin(x)\n",
    "\n",
    "plt.scatter(x, y)"
   ]
  },
  {
   "cell_type": "code",
   "execution_count": 3,
   "metadata": {},
   "outputs": [],
   "source": [
    "import torch\n",
    "import torch.nn as nn\n",
    "\n",
    "class REncoder(nn.Module):\n",
    "    def __init__(self, in_dim, out_dim, hidden_dim=8):\n",
    "        super(REncodoer, self).__init__()\n",
    "        self.lin1 = nn.Linear(in_dim, hidden_dim)\n",
    "        self.lin2 = nn.Linear(hidden_dim, out_dim)\n",
    "        self.relu = nn.ReLU()\n",
    "        \n",
    "    def forward(self, x):\n",
    "        x = self.relu(self.lin1(x))\n",
    "        x = self.lin2(x)\n",
    "        return x\n",
    "    \n",
    "\n",
    "class ZEncoder(nn.Module):\n",
    "    def __init__(self, in_dim, out_dim):\n",
    "        super(ZEncoder, self).__init__()\n",
    "        self.lin_mean = nn.Linear(in_dim, out_dim)\n",
    "        self.lin_sig = nn.Linear(in_dim, out_dim)\n",
    "        self.softplus = nn.Softplus()\n",
    "        \n",
    "    def forward(self, x):\n",
    "        mean = self.lin_mean(x)\n",
    "        sig = self.softplus(self.lin_sig(x))\n",
    "        return mean, sig\n",
    "    \n",
    "\n",
    "class Decoder(nn.Module):\n",
    "    def __init__(self, in_dim, out_dim, hidden_dim=8):\n",
    "        self.lin1 = nn.Linear(in_dim, hidden_dim)\n",
    "        self.lin2 = nn.Linear(hidden_dim, out_dim)\n",
    "        self.relu = nn.ReLU()\n",
    "        \n",
    "    def forward(self, x):\n",
    "        x = self.relu(self.lin1(x))\n",
    "        x = self.lin2(x)\n",
    "        return x"
   ]
  },
  {
   "cell_type": "code",
   "execution_count": null,
   "metadata": {},
   "outputs": [],
   "source": [
    "import pyro\n",
    "\n",
    "class NeuralProcess(nn.Module):\n",
    "    def __init__(self,  in_dim, r_dim, z_dim, out_dim):\n",
    "        super(NeuralProcess, self).__init__()\n",
    "        self.rencoder = REncoder(in_dim, r_dim)\n",
    "        self.zencoder = ZEndoer(r_dim, z_dim)\n",
    "        self.decoder = Decoder(z_dim, out_dim)\n",
    "        \n",
    "    def model(self, x):\n",
    "        pyro.modele('')"
   ]
  },
  {
   "cell_type": "code",
   "execution_count": null,
   "metadata": {},
   "outputs": [],
   "source": []
  },
  {
   "cell_type": "code",
   "execution_count": 1,
   "metadata": {},
   "outputs": [
    {
     "data": {
      "text/plain": [
       "datetime.datetime(2018, 11, 13, 0, 16, 7, 365850)"
      ]
     },
     "execution_count": 1,
     "metadata": {},
     "output_type": "execute_result"
    }
   ],
   "source": [
    "from datetime import datetime\n",
    "\n",
    "datetime.utcnow()"
   ]
  },
  {
   "cell_type": "code",
   "execution_count": null,
   "metadata": {},
   "outputs": [],
   "source": []
  }
 ],
 "metadata": {
  "kernelspec": {
   "display_name": "Python 3",
   "language": "python",
   "name": "python3"
  },
  "language_info": {
   "codemirror_mode": {
    "name": "ipython",
    "version": 3
   },
   "file_extension": ".py",
   "mimetype": "text/x-python",
   "name": "python",
   "nbconvert_exporter": "python",
   "pygments_lexer": "ipython3",
   "version": "3.6.4"
  }
 },
 "nbformat": 4,
 "nbformat_minor": 2
}
