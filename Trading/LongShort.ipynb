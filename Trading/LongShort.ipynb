{
 "cells": [
  {
   "cell_type": "markdown",
   "metadata": {},
   "source": [
    "# Prepare Data"
   ]
  },
  {
   "cell_type": "code",
   "execution_count": 1,
   "metadata": {},
   "outputs": [],
   "source": [
    "from btbot.database.utils import get_symbols, get_info_SP500\n",
    "\n",
    "df_info = get_info_SP500()\n",
    "symbols = df_info['Ticker symbol'].values"
   ]
  },
  {
   "cell_type": "markdown",
   "metadata": {},
   "source": [
    "import quandl\n",
    "from time import sleep\n",
    "from tqdm import tqdm_notebook\n",
    "\n",
    "QUANDL_APIKEY = \"VBG5xmxqpRXRex_xQ-9Y\"\n",
    "quandl.ApiConfig.api_key = QUANDL_APIKEY\n",
    "\n",
    "for symbol in tqdm_notebook(symbols):\n",
    "    name = f'WIKI/{symbol}'\n",
    "    try:\n",
    "        df = quandl.get(name)\n",
    "    except:\n",
    "        continue\n",
    "    path = f'../datasets/US_stocks/{symbol}.csv'\n",
    "    df.to_csv(path)\n",
    "    sleep(1)"
   ]
  },
  {
   "cell_type": "code",
   "execution_count": 3,
   "metadata": {},
   "outputs": [
    {
     "data": {
      "application/vnd.jupyter.widget-view+json": {
       "model_id": "90a24e13ed75484bacd2c3e13f85ae2c",
       "version_major": 2,
       "version_minor": 0
      },
      "text/html": [
       "<p>Failed to display Jupyter Widget of type <code>HBox</code>.</p>\n",
       "<p>\n",
       "  If you're reading this message in the Jupyter Notebook or JupyterLab Notebook, it may mean\n",
       "  that the widgets JavaScript is still loading. If this message persists, it\n",
       "  likely means that the widgets JavaScript library is either not installed or\n",
       "  not enabled. See the <a href=\"https://ipywidgets.readthedocs.io/en/stable/user_install.html\">Jupyter\n",
       "  Widgets Documentation</a> for setup instructions.\n",
       "</p>\n",
       "<p>\n",
       "  If you're reading this message in another frontend (for example, a static\n",
       "  rendering on GitHub or <a href=\"https://nbviewer.jupyter.org/\">NBViewer</a>),\n",
       "  it may mean that your frontend doesn't currently support widgets.\n",
       "</p>\n"
      ],
      "text/plain": [
       "HBox(children=(IntProgress(value=0, max=505), HTML(value='')))"
      ]
     },
     "metadata": {},
     "output_type": "display_data"
    },
    {
     "name": "stdout",
     "output_type": "stream",
     "text": [
      "\n"
     ]
    }
   ],
   "source": [
    "import pandas as pd\n",
    "import numpy as np\n",
    "from tqdm import tqdm_notebook\n",
    "\n",
    "dfs = []\n",
    "for symbol in tqdm_notebook(symbols):\n",
    "    path = f'../datasets/US_stocks/{symbol}.csv' \n",
    "    try:\n",
    "        df = pd.read_csv(path)\n",
    "        df_ = df[['Adj. Open', 'Adj. High', 'Adj. Low', 'Adj. Close', 'Adj. Volume']]\n",
    "        df_.index = pd.DatetimeIndex(df['Date'])\n",
    "        columns = [f'{symbol}_Open', f'{symbol}_High', f'{symbol}_Low', f'{symbol}_Close', f'{symbol}_Volume']\n",
    "        df_.columns = columns\n",
    "        dfs.append(df_)\n",
    "    except:\n",
    "        continue\n",
    "stock_df = pd.concat(dfs, axis=1)"
   ]
  },
  {
   "cell_type": "code",
   "execution_count": 4,
   "metadata": {},
   "outputs": [
    {
     "data": {
      "application/vnd.jupyter.widget-view+json": {
       "model_id": "6d5f2457588747f3a366bf7354cbb7f4",
       "version_major": 2,
       "version_minor": 0
      },
      "text/html": [
       "<p>Failed to display Jupyter Widget of type <code>HBox</code>.</p>\n",
       "<p>\n",
       "  If you're reading this message in the Jupyter Notebook or JupyterLab Notebook, it may mean\n",
       "  that the widgets JavaScript is still loading. If this message persists, it\n",
       "  likely means that the widgets JavaScript library is either not installed or\n",
       "  not enabled. See the <a href=\"https://ipywidgets.readthedocs.io/en/stable/user_install.html\">Jupyter\n",
       "  Widgets Documentation</a> for setup instructions.\n",
       "</p>\n",
       "<p>\n",
       "  If you're reading this message in another frontend (for example, a static\n",
       "  rendering on GitHub or <a href=\"https://nbviewer.jupyter.org/\">NBViewer</a>),\n",
       "  it may mean that your frontend doesn't currently support widgets.\n",
       "</p>\n"
      ],
      "text/plain": [
       "HBox(children=(IntProgress(value=0, max=5), HTML(value='')))"
      ]
     },
     "metadata": {},
     "output_type": "display_data"
    },
    {
     "name": "stdout",
     "output_type": "stream",
     "text": [
      "\n"
     ]
    }
   ],
   "source": [
    "macro_symbols = [\"FRED/DCOILWTICO\", \"WGC/GOLD_DAILY_USD\", \"FRED/DTWEXM\",\n",
    "           \"USTREASURY/YIELD\", \"FRED/T10Y2Y\"]\n",
    "\n",
    "macro_dfs = []\n",
    "for symbol in tqdm_notebook(macro_symbols):\n",
    "    name = symbol.split('/')[1]\n",
    "    path = f'../datasets/macro/{name}.csv'\n",
    "    df = pd.read_csv(path)\n",
    "    columns = df.columns[1:]\n",
    "    df_ = df[columns]\n",
    "    df_.columns = [f'{name}_{col}' for col in columns]\n",
    "    df_.index = pd.DatetimeIndex(df[\"Date\"])\n",
    "    macro_dfs.append(df_)"
   ]
  },
  {
   "cell_type": "code",
   "execution_count": 5,
   "metadata": {},
   "outputs": [],
   "source": [
    "macro_df = pd.concat(macro_dfs, axis=1)\n",
    "macro_df = macro_df.interpolate(method='linear').dropna()"
   ]
  },
  {
   "cell_type": "code",
   "execution_count": 6,
   "metadata": {},
   "outputs": [
    {
     "data": {
      "text/html": [
       "<div>\n",
       "<style scoped>\n",
       "    .dataframe tbody tr th:only-of-type {\n",
       "        vertical-align: middle;\n",
       "    }\n",
       "\n",
       "    .dataframe tbody tr th {\n",
       "        vertical-align: top;\n",
       "    }\n",
       "\n",
       "    .dataframe thead th {\n",
       "        text-align: right;\n",
       "    }\n",
       "</style>\n",
       "<table border=\"1\" class=\"dataframe\">\n",
       "  <thead>\n",
       "    <tr style=\"text-align: right;\">\n",
       "      <th></th>\n",
       "      <th>DCOILWTICO_Value</th>\n",
       "      <th>GOLD_DAILY_USD_Value</th>\n",
       "      <th>DTWEXM_Value</th>\n",
       "      <th>YIELD_1 MO</th>\n",
       "      <th>YIELD_3 MO</th>\n",
       "      <th>YIELD_6 MO</th>\n",
       "      <th>YIELD_1 YR</th>\n",
       "      <th>YIELD_2 YR</th>\n",
       "      <th>YIELD_3 YR</th>\n",
       "      <th>YIELD_5 YR</th>\n",
       "      <th>YIELD_7 YR</th>\n",
       "      <th>YIELD_10 YR</th>\n",
       "      <th>YIELD_20 YR</th>\n",
       "      <th>YIELD_30 YR</th>\n",
       "      <th>T10Y2Y_Value</th>\n",
       "    </tr>\n",
       "    <tr>\n",
       "      <th>Date</th>\n",
       "      <th></th>\n",
       "      <th></th>\n",
       "      <th></th>\n",
       "      <th></th>\n",
       "      <th></th>\n",
       "      <th></th>\n",
       "      <th></th>\n",
       "      <th></th>\n",
       "      <th></th>\n",
       "      <th></th>\n",
       "      <th></th>\n",
       "      <th></th>\n",
       "      <th></th>\n",
       "      <th></th>\n",
       "      <th></th>\n",
       "    </tr>\n",
       "  </thead>\n",
       "  <tbody>\n",
       "    <tr>\n",
       "      <th>2001-07-31</th>\n",
       "      <td>26.70</td>\n",
       "      <td>265.90</td>\n",
       "      <td>109.1778</td>\n",
       "      <td>3.67</td>\n",
       "      <td>3.54</td>\n",
       "      <td>3.47</td>\n",
       "      <td>3.53</td>\n",
       "      <td>3.79</td>\n",
       "      <td>4.06</td>\n",
       "      <td>4.57</td>\n",
       "      <td>4.86</td>\n",
       "      <td>5.07</td>\n",
       "      <td>5.61</td>\n",
       "      <td>5.51</td>\n",
       "      <td>1.28</td>\n",
       "    </tr>\n",
       "    <tr>\n",
       "      <th>2001-08-01</th>\n",
       "      <td>26.83</td>\n",
       "      <td>267.35</td>\n",
       "      <td>108.9578</td>\n",
       "      <td>3.65</td>\n",
       "      <td>3.53</td>\n",
       "      <td>3.47</td>\n",
       "      <td>3.56</td>\n",
       "      <td>3.83</td>\n",
       "      <td>4.09</td>\n",
       "      <td>4.62</td>\n",
       "      <td>4.90</td>\n",
       "      <td>5.11</td>\n",
       "      <td>5.63</td>\n",
       "      <td>5.53</td>\n",
       "      <td>1.28</td>\n",
       "    </tr>\n",
       "    <tr>\n",
       "      <th>2001-08-02</th>\n",
       "      <td>27.86</td>\n",
       "      <td>267.00</td>\n",
       "      <td>108.7832</td>\n",
       "      <td>3.65</td>\n",
       "      <td>3.53</td>\n",
       "      <td>3.46</td>\n",
       "      <td>3.57</td>\n",
       "      <td>3.89</td>\n",
       "      <td>4.17</td>\n",
       "      <td>4.69</td>\n",
       "      <td>4.97</td>\n",
       "      <td>5.17</td>\n",
       "      <td>5.68</td>\n",
       "      <td>5.57</td>\n",
       "      <td>1.28</td>\n",
       "    </tr>\n",
       "    <tr>\n",
       "      <th>2001-08-03</th>\n",
       "      <td>27.51</td>\n",
       "      <td>267.85</td>\n",
       "      <td>108.4799</td>\n",
       "      <td>3.63</td>\n",
       "      <td>3.52</td>\n",
       "      <td>3.47</td>\n",
       "      <td>3.57</td>\n",
       "      <td>3.91</td>\n",
       "      <td>4.22</td>\n",
       "      <td>4.72</td>\n",
       "      <td>4.99</td>\n",
       "      <td>5.20</td>\n",
       "      <td>5.70</td>\n",
       "      <td>5.59</td>\n",
       "      <td>1.29</td>\n",
       "    </tr>\n",
       "    <tr>\n",
       "      <th>2001-08-06</th>\n",
       "      <td>27.70</td>\n",
       "      <td>267.20</td>\n",
       "      <td>108.6446</td>\n",
       "      <td>3.62</td>\n",
       "      <td>3.52</td>\n",
       "      <td>3.47</td>\n",
       "      <td>3.56</td>\n",
       "      <td>3.88</td>\n",
       "      <td>4.17</td>\n",
       "      <td>4.71</td>\n",
       "      <td>4.99</td>\n",
       "      <td>5.19</td>\n",
       "      <td>5.70</td>\n",
       "      <td>5.59</td>\n",
       "      <td>1.31</td>\n",
       "    </tr>\n",
       "  </tbody>\n",
       "</table>\n",
       "</div>"
      ],
      "text/plain": [
       "            DCOILWTICO_Value  GOLD_DAILY_USD_Value  DTWEXM_Value  YIELD_1 MO  \\\n",
       "Date                                                                           \n",
       "2001-07-31             26.70                265.90      109.1778        3.67   \n",
       "2001-08-01             26.83                267.35      108.9578        3.65   \n",
       "2001-08-02             27.86                267.00      108.7832        3.65   \n",
       "2001-08-03             27.51                267.85      108.4799        3.63   \n",
       "2001-08-06             27.70                267.20      108.6446        3.62   \n",
       "\n",
       "            YIELD_3 MO  YIELD_6 MO  YIELD_1 YR  YIELD_2 YR  YIELD_3 YR  \\\n",
       "Date                                                                     \n",
       "2001-07-31        3.54        3.47        3.53        3.79        4.06   \n",
       "2001-08-01        3.53        3.47        3.56        3.83        4.09   \n",
       "2001-08-02        3.53        3.46        3.57        3.89        4.17   \n",
       "2001-08-03        3.52        3.47        3.57        3.91        4.22   \n",
       "2001-08-06        3.52        3.47        3.56        3.88        4.17   \n",
       "\n",
       "            YIELD_5 YR  YIELD_7 YR  YIELD_10 YR  YIELD_20 YR  YIELD_30 YR  \\\n",
       "Date                                                                        \n",
       "2001-07-31        4.57        4.86         5.07         5.61         5.51   \n",
       "2001-08-01        4.62        4.90         5.11         5.63         5.53   \n",
       "2001-08-02        4.69        4.97         5.17         5.68         5.57   \n",
       "2001-08-03        4.72        4.99         5.20         5.70         5.59   \n",
       "2001-08-06        4.71        4.99         5.19         5.70         5.59   \n",
       "\n",
       "            T10Y2Y_Value  \n",
       "Date                      \n",
       "2001-07-31          1.28  \n",
       "2001-08-01          1.28  \n",
       "2001-08-02          1.28  \n",
       "2001-08-03          1.29  \n",
       "2001-08-06          1.31  "
      ]
     },
     "execution_count": 6,
     "metadata": {},
     "output_type": "execute_result"
    }
   ],
   "source": [
    "macro_df.head()"
   ]
  },
  {
   "cell_type": "code",
   "execution_count": 31,
   "metadata": {},
   "outputs": [],
   "source": [
    "start = '2000-01-01'\n",
    "end = '2017-12-31'\n",
    "features = macro_df.loc[(macro_df.index >= start) & (macro_df.index <= end)]\n",
    "stock_df = stock_df.loc[(stock_df.index >= start) & (stock_df.index <= end)]"
   ]
  },
  {
   "cell_type": "code",
   "execution_count": 32,
   "metadata": {},
   "outputs": [],
   "source": [
    "symbol = 'MSFT'\n",
    "stock_features = stock_df[[f'{symbol}_Open', f'{symbol}_High', f'{symbol}_Low', f'{symbol}_Close', f'{symbol}_Volume']]\n",
    "columns = ['Open', 'High', 'Low', 'Close', 'Volume']\n",
    "stock_features.columns = columns\n",
    "stock_features = stock_features.dropna()"
   ]
  },
  {
   "cell_type": "code",
   "execution_count": 33,
   "metadata": {},
   "outputs": [
    {
     "data": {
      "text/plain": [
       "<matplotlib.axes._subplots.AxesSubplot at 0x7f74c7e359e8>"
      ]
     },
     "execution_count": 33,
     "metadata": {},
     "output_type": "execute_result"
    },
    {
     "data": {
      "image/png": "[encoded data removed]",
      "text/plain": [
       "<matplotlib.figure.Figure at 0x7f74b010cb00>"
      ]
     },
     "metadata": {},
     "output_type": "display_data"
    }
   ],
   "source": [
    "%matplotlib inline\n",
    "\n",
    "stock_features['Close'].plot()"
   ]
  },
  {
   "cell_type": "code",
   "execution_count": 34,
   "metadata": {},
   "outputs": [
    {
     "name": "stderr",
     "output_type": "stream",
     "text": [
      "/home/tom/anaconda3/lib/python3.6/site-packages/ipykernel_launcher.py:2: SettingWithCopyWarning: \n",
      "A value is trying to be set on a copy of a slice from a DataFrame\n",
      "\n",
      "See the caveats in the documentation: http://pandas.pydata.org/pandas-docs/stable/indexing.html#indexing-view-versus-copy\n",
      "  \n"
     ]
    }
   ],
   "source": [
    "stock_features.dropna(inplace=True)\n",
    "features.dropna(inplace=True)\n",
    "time_idx = features.index & stock_features.index\n",
    "stock_features = stock_features.loc[time_idx]\n",
    "features = features.loc[time_idx]"
   ]
  },
  {
   "cell_type": "code",
   "execution_count": 35,
   "metadata": {},
   "outputs": [
    {
     "name": "stdout",
     "output_type": "stream",
     "text": [
      "(754, 5)\n",
      "(754, 15)\n"
     ]
    }
   ],
   "source": [
    "print(stock_features.shape)\n",
    "print(features.shape)"
   ]
  },
  {
   "cell_type": "markdown",
   "metadata": {},
   "source": [
    "# Backtest"
   ]
  },
  {
   "cell_type": "code",
   "execution_count": 36,
   "metadata": {},
   "outputs": [],
   "source": [
    "import backtrader as bt\n",
    "import backtrader.indicators as btind"
   ]
  },
  {
   "cell_type": "code",
   "execution_count": 69,
   "metadata": {},
   "outputs": [],
   "source": [
    "import xgboost as xgb\n",
    "\n",
    "model_params = {'booster': 'dart',\n",
    "         'max_depth': 5, 'learning_rate': 0.1,\n",
    "         'objective': 'multi:softmax', 'num_class': 3,\n",
    "         'sample_type': 'uniform',\n",
    "         'rate_drop': 0.1,\n",
    "         'skip_drop': 0.5,\n",
    "         'silent': True}\n",
    "\n",
    "\n",
    "def print_trade_analysis(analyzer):\n",
    "    #Get the results we are interested in\n",
    "    total_open = analyzer.total.open\n",
    "    total_closed = analyzer.total.closed\n",
    "    total_won = analyzer.won.total\n",
    "    total_lost = analyzer.lost.total\n",
    "    win_streak = analyzer.streak.won.longest\n",
    "    lose_streak = analyzer.streak.lost.longest\n",
    "    pnl_net = round(analyzer.pnl.net.total,2)\n",
    "    strike_rate = (total_won / total_closed) * 100\n",
    "    #Designate the rows\n",
    "    h1 = ['Total Open', 'Total Closed', 'Total Won', 'Total Lost']\n",
    "    h2 = ['Strike Rate','Win Streak', 'Losing Streak', 'PnL Net']\n",
    "    r1 = [total_open, total_closed,total_won,total_lost]\n",
    "    r2 = [strike_rate, win_streak, lose_streak, pnl_net]\n",
    "    #Check which set of headers is the longest.\n",
    "    if len(h1) > len(h2):\n",
    "        header_length = len(h1)\n",
    "    else:\n",
    "        header_length = len(h2)\n",
    "    #Print the rows\n",
    "    print_list = [h1,r1,h2,r2]\n",
    "    row_format =\"{:<15}\" * (header_length + 1)\n",
    "    print(\"Trade Analysis Results:\")\n",
    "    for row in print_list:\n",
    "        print(row_format.format('',*row))\n",
    "    \n",
    "    \n",
    "    \n",
    "\n",
    "class FirstStrategy(bt.Strategy):\n",
    "    SELL = 0\n",
    "    BUY = 1\n",
    "    SIZE = 10\n",
    "    params = (\n",
    "        ('period', 21),\n",
    "        ('num_round', 50),\n",
    "        ('timelag', 10),\n",
    "        ('num_data', 200),\n",
    "        ('scale', 252),\n",
    "        ('high_th', 5),\n",
    "        ('low_th', -5)\n",
    "    )\n",
    "    \n",
    "    def __init__(self):\n",
    "        self.startcash = self.broker.getvalue()\n",
    "        self.stock = self.getdatabyname('stock')\n",
    "        self.rsi = btind.RSI_SMA(self.stock.close, period=self.p.period + self.p.num_data)\n",
    "        self.scaler = StandardScaler()\n",
    "        \n",
    "    def next(self):\n",
    "        X = []\n",
    "        y = []\n",
    "        require_size = self.p.timelag + self.p.num_data\n",
    "        if len(self.stock.get(ago=0, size=require_size)) == 0:\n",
    "            return None\n",
    "        for i in range(self.p.num_data):\n",
    "            features = []\n",
    "            st_idx = -(i+1)\n",
    "            close_lag = np.array(self.stock.close.get(ago=st_idx, size=self.p.timelag))\n",
    "            features.append(close_lag / self.stock.close[st_idx])\n",
    "            volume_lag = np.array(self.stock.volume.get(ago=st_idx, size=self.p.timelag))\n",
    "            features.append(volume_lag / self.stock.volume[st_idx])\n",
    "            X.append(np.hstack(features))\n",
    "            an_ret = (self.stock.close[st_idx + 1] / self.stock.close[st_idx] - 1.) * self.p.scale\n",
    "            y.append(self._label(an_ret))\n",
    "        # Training\n",
    "        X = self.scaler.fit_transform(np.array(X))\n",
    "        y = np.array(y)\n",
    "        dtrain = xgb.DMatrix(X, label=y)\n",
    "        bst = xgb.train(model_params, dtrain, self.p.num_round)\n",
    "        # Prediction\n",
    "        features = []\n",
    "        features.append(np.array(self.stock.close.get(size=self.p.timelag)) / self.stock.close[0])\n",
    "        features.append(np.array(self.stock.volume.get(size=self.p.timelag)) / self.stock.volume[0])\n",
    "        pred_X = self.scaler.transform(np.array([np.hstack(features)]))\n",
    "        pred_X = xgb.DMatrix(pred_X)\n",
    "        signal = bst.predict(pred_X)[0]\n",
    "        pos = self.getpositionbyname('stock').size\n",
    "        if signal == self.SELL:\n",
    "            if pos >= 0:\n",
    "                size = self.SIZE + abs(pos)\n",
    "                print('SELL')\n",
    "                self.sell(data=self.stock, size=size)\n",
    "        elif signal == self.BUY:\n",
    "            if pos <= 0:\n",
    "                size = self.SIZE + abs(pos)\n",
    "                print('BUY')\n",
    "                self.buy(data=self.stock, size=size)\n",
    "        \n",
    "        \n",
    "    def _label(self, y):\n",
    "        if y < self.p.low_th:\n",
    "            return self.SELL\n",
    "        elif y > self.p.high_th:\n",
    "            return self.BUY\n",
    "        else:\n",
    "            return 2\n",
    "                \n",
    "    def stop(self):\n",
    "        trade_analyzer = self.analyzers.getbyname('trade').get_analysis()\n",
    "        print_trade_analysis(trade_analyzer)\n",
    "        "
   ]
  },
  {
   "cell_type": "code",
   "execution_count": 70,
   "metadata": {},
   "outputs": [
    {
     "name": "stdout",
     "output_type": "stream",
     "text": [
      "BUY\n",
      "SELL\n",
      "BUY\n",
      "SELL\n",
      "BUY\n",
      "Trade Analysis Results:\n",
      "               Total Open     Total Closed   Total Won      Total Lost     \n",
      "               1              4              3              3              \n",
      "               Strike Rate    Win Streak     Losing Streak  PnL Net        \n",
      "               75.0           3              3              146.32         \n",
      "CPU times: user 3min 20s, sys: 1.66 s, total: 3min 22s\n",
      "Wall time: 26.4 s\n"
     ]
    }
   ],
   "source": [
    "%%time\n",
    "\n",
    "from btbot.cerebro import Cerebro\n",
    "\n",
    "class MacroData(bt.feeds.PandasData):\n",
    "    linesoverride = True\n",
    "    lines = ('dollar', 'gold', 'macro', 'yield')  # Replace hierarchy with this one\n",
    "    params = (('dollar', 0),\n",
    "              ('gold', 1),\n",
    "              ('macro', 2),\n",
    "              ('yield', 3))\n",
    "\n",
    "stock = bt.feeds.PandasData(dataname=stock_features, close=0, volume=1)\n",
    "macro = MacroData(dataname=features, close=0, volume=1)\n",
    "\n",
    "cerebro = Cerebro()\n",
    "startcash = 100000\n",
    "cerebro.addanalyzer(bt.analyzers.TradeAnalyzer, _name='trade')\n",
    "cerebro.adddata(stock, name='stock')\n",
    "#  cerebro.adddata(macro, name='macro')\n",
    "cerebro.addstrategy(FirstStrategy)\n",
    "cerebro.broker.setcash(startcash)\n",
    "strategy = cerebro.run()[0]"
   ]
  },
  {
   "cell_type": "code",
   "execution_count": 66,
   "metadata": {},
   "outputs": [
    {
     "ename": "UnboundLocalError",
     "evalue": "local variable 'fig' referenced before assignment",
     "output_type": "error",
     "traceback": [
      "\u001b[0;31m---------------------------------------------------------------------------\u001b[0m",
      "\u001b[0;31mUnboundLocalError\u001b[0m                         Traceback (most recent call last)",
      "\u001b[0;32m<ipython-input-66-b0ebeba5517a>\u001b[0m in \u001b[0;36m<module>\u001b[0;34m()\u001b[0m\n\u001b[0;32m----> 1\u001b[0;31m \u001b[0mcerebro\u001b[0m\u001b[0;34m.\u001b[0m\u001b[0mplot\u001b[0m\u001b[0;34m(\u001b[0m\u001b[0;34m)\u001b[0m\u001b[0;34m\u001b[0m\u001b[0m\n\u001b[0m",
      "\u001b[0;32m~/anaconda3/lib/python3.6/site-packages/btbot-0.1-py3.6.egg/btbot/cerebro.py\u001b[0m in \u001b[0;36mplot\u001b[0;34m(self, plotter, numfigs, iplot, start, end, width, height, dpi, tight, use, path, **kwargs)\u001b[0m\n\u001b[1;32m     64\u001b[0m             \u001b[0mfig\u001b[0m \u001b[0;34m=\u001b[0m \u001b[0mplt\u001b[0m\u001b[0;34m.\u001b[0m\u001b[0mgcf\u001b[0m\u001b[0;34m(\u001b[0m\u001b[0;34m)\u001b[0m\u001b[0;34m\u001b[0m\u001b[0m\n\u001b[1;32m     65\u001b[0m             \u001b[0mplotter\u001b[0m\u001b[0;34m.\u001b[0m\u001b[0mshow\u001b[0m\u001b[0;34m(\u001b[0m\u001b[0;34m)\u001b[0m\u001b[0;34m\u001b[0m\u001b[0m\n\u001b[0;32m---> 66\u001b[0;31m         \u001b[0mfig\u001b[0m\u001b[0;34m.\u001b[0m\u001b[0mset_size_inches\u001b[0m\u001b[0;34m(\u001b[0m\u001b[0mwidth\u001b[0m\u001b[0;34m,\u001b[0m \u001b[0mheight\u001b[0m\u001b[0;34m)\u001b[0m\u001b[0;34m\u001b[0m\u001b[0m\n\u001b[0m\u001b[1;32m     67\u001b[0m         \u001b[0;32mif\u001b[0m \u001b[0mpath\u001b[0m\u001b[0;34m:\u001b[0m\u001b[0;34m\u001b[0m\u001b[0m\n\u001b[1;32m     68\u001b[0m             \u001b[0mfig\u001b[0m\u001b[0;34m.\u001b[0m\u001b[0msavefig\u001b[0m\u001b[0;34m(\u001b[0m\u001b[0mpath\u001b[0m\u001b[0;34m,\u001b[0m \u001b[0mdpi\u001b[0m\u001b[0;34m=\u001b[0m\u001b[0mdpi\u001b[0m\u001b[0;34m)\u001b[0m\u001b[0;34m\u001b[0m\u001b[0m\n",
      "\u001b[0;31mUnboundLocalError\u001b[0m: local variable 'fig' referenced before assignment"
     ]
    }
   ],
   "source": [
    "cerebro.plot()"
   ]
  },
  {
   "cell_type": "code",
   "execution_count": 68,
   "metadata": {},
   "outputs": [],
   "source": [
    "analyzer = strategy.analyzers[0]"
   ]
  },
  {
   "cell_type": "code",
   "execution_count": 55,
   "metadata": {},
   "outputs": [],
   "source": [
    "analyzer."
   ]
  },
  {
   "cell_type": "code",
   "execution_count": null,
   "metadata": {},
   "outputs": [],
   "source": [
    "strategy.analyzers.getbyname"
   ]
  }
 ],
 "metadata": {
  "kernelspec": {
   "display_name": "Python 3",
   "language": "python",
   "name": "python3"
  },
  "language_info": {
   "codemirror_mode": {
    "name": "ipython",
    "version": 3
   },
   "file_extension": ".py",
   "mimetype": "text/x-python",
   "name": "python",
   "nbconvert_exporter": "python",
   "pygments_lexer": "ipython3",
   "version": "3.6.4"
  }
 },
 "nbformat": 4,
 "nbformat_minor": 2
}
