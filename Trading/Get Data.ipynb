{
 "cells": [
  {
   "cell_type": "code",
   "execution_count": 1,
   "metadata": {},
   "outputs": [],
   "source": [
    "from btbot.database.utils import get_symbols, get_info_SP500"
   ]
  },
  {
   "cell_type": "code",
   "execution_count": 2,
   "metadata": {},
   "outputs": [],
   "source": [
    "QUANDL_APIKEY = \"VBG5xmxqpRXRex_xQ-9Y\"\n",
    "df_info = get_info_SP500()"
   ]
  },
  {
   "cell_type": "code",
   "execution_count": 5,
   "metadata": {},
   "outputs": [
    {
     "data": {
      "text/html": [
       "<div>\n",
       "<style scoped>\n",
       "    .dataframe tbody tr th:only-of-type {\n",
       "        vertical-align: middle;\n",
       "    }\n",
       "\n",
       "    .dataframe tbody tr th {\n",
       "        vertical-align: top;\n",
       "    }\n",
       "\n",
       "    .dataframe thead th {\n",
       "        text-align: right;\n",
       "    }\n",
       "</style>\n",
       "<table border=\"1\" class=\"dataframe\">\n",
       "  <thead>\n",
       "    <tr style=\"text-align: right;\">\n",
       "      <th></th>\n",
       "      <th>CIK</th>\n",
       "      <th>Date first added[3][4]</th>\n",
       "      <th>Founded</th>\n",
       "      <th>GICS Sector</th>\n",
       "      <th>GICS Sub Industry</th>\n",
       "      <th>Location</th>\n",
       "      <th>SEC filings</th>\n",
       "      <th>Security</th>\n",
       "      <th>Ticker symbol</th>\n",
       "    </tr>\n",
       "  </thead>\n",
       "  <tbody>\n",
       "    <tr>\n",
       "      <th>0</th>\n",
       "      <td>0000066740</td>\n",
       "      <td></td>\n",
       "      <td>1902\\n</td>\n",
       "      <td>Industrials</td>\n",
       "      <td>Industrial Conglomerates</td>\n",
       "      <td>St. Paul, Minnesota</td>\n",
       "      <td>reports</td>\n",
       "      <td>3M Company</td>\n",
       "      <td>MMM</td>\n",
       "    </tr>\n",
       "    <tr>\n",
       "      <th>1</th>\n",
       "      <td>0000001800</td>\n",
       "      <td>1964-03-31</td>\n",
       "      <td>1888\\n</td>\n",
       "      <td>Health Care</td>\n",
       "      <td>Health Care Equipment</td>\n",
       "      <td>North Chicago, Illinois</td>\n",
       "      <td>reports</td>\n",
       "      <td>Abbott Laboratories</td>\n",
       "      <td>ABT</td>\n",
       "    </tr>\n",
       "    <tr>\n",
       "      <th>2</th>\n",
       "      <td>0001551152</td>\n",
       "      <td>2012-12-31</td>\n",
       "      <td>2013 (1888)\\n</td>\n",
       "      <td>Health Care</td>\n",
       "      <td>Pharmaceuticals</td>\n",
       "      <td>North Chicago, Illinois</td>\n",
       "      <td>reports</td>\n",
       "      <td>AbbVie Inc.</td>\n",
       "      <td>ABBV</td>\n",
       "    </tr>\n",
       "    <tr>\n",
       "      <th>3</th>\n",
       "      <td>0000815094</td>\n",
       "      <td>2018-05-31</td>\n",
       "      <td>1981\\n</td>\n",
       "      <td>Health Care</td>\n",
       "      <td>Health Care Equipment</td>\n",
       "      <td>Danvers, Massachusetts</td>\n",
       "      <td>reports</td>\n",
       "      <td>ABIOMED Inc</td>\n",
       "      <td>ABMD</td>\n",
       "    </tr>\n",
       "    <tr>\n",
       "      <th>4</th>\n",
       "      <td>0001467373</td>\n",
       "      <td>2011-07-06</td>\n",
       "      <td>1989\\n</td>\n",
       "      <td>Information Technology</td>\n",
       "      <td>IT Consulting &amp; Other Services</td>\n",
       "      <td>Dublin, Ireland</td>\n",
       "      <td>reports</td>\n",
       "      <td>Accenture plc</td>\n",
       "      <td>ACN</td>\n",
       "    </tr>\n",
       "  </tbody>\n",
       "</table>\n",
       "</div>"
      ],
      "text/plain": [
       "          CIK Date first added[3][4]      Founded\\n             GICS Sector  \\\n",
       "0  0000066740                                1902\\n             Industrials   \n",
       "1  0000001800             1964-03-31         1888\\n             Health Care   \n",
       "2  0001551152             2012-12-31  2013 (1888)\\n             Health Care   \n",
       "3  0000815094             2018-05-31         1981\\n             Health Care   \n",
       "4  0001467373             2011-07-06         1989\\n  Information Technology   \n",
       "\n",
       "                GICS Sub Industry                 Location SEC filings  \\\n",
       "0        Industrial Conglomerates      St. Paul, Minnesota     reports   \n",
       "1           Health Care Equipment  North Chicago, Illinois     reports   \n",
       "2                 Pharmaceuticals  North Chicago, Illinois     reports   \n",
       "3           Health Care Equipment   Danvers, Massachusetts     reports   \n",
       "4  IT Consulting & Other Services          Dublin, Ireland     reports   \n",
       "\n",
       "              Security Ticker symbol  \n",
       "0           3M Company           MMM  \n",
       "1  Abbott Laboratories           ABT  \n",
       "2          AbbVie Inc.          ABBV  \n",
       "3          ABIOMED Inc          ABMD  \n",
       "4        Accenture plc           ACN  "
      ]
     },
     "execution_count": 5,
     "metadata": {},
     "output_type": "execute_result"
    }
   ],
   "source": [
    "df_info.head()"
   ]
  },
  {
   "cell_type": "code",
   "execution_count": 54,
   "metadata": {},
   "outputs": [],
   "source": [
    "from urllib.request import urlopen\n",
    "from bs4 import BeautifulSoup\n",
    "from collections import defaultdict\n",
    "import pandas as pd\n",
    "\n",
    "\n",
    "def get_info_sp500():\n",
    "    wiki_url = \"https://en.wikipedia.org/wiki/List_of_S%26P_500_companies\"\n",
    "    html = urlopen(wiki_url)\n",
    "    bsobj = BeautifulSoup(html, 'lxml')\n",
    "    table = bsobj.findAll('tbody')[0].findAll('tr')\n",
    "    info = defaultdict(list)\n",
    "    columns = [x.get_text() for x in table[0].findAll('th')]\n",
    "    for row in table[1:]:\n",
    "        row = [x.get_text() for x in row.findAll('td')]\n",
    "        for i, col in enumerate(columns):\n",
    "            info[col].append(row[i])\n",
    "    return pd.DataFrame(info)"
   ]
  },
  {
   "cell_type": "code",
   "execution_count": 56,
   "metadata": {},
   "outputs": [],
   "source": [
    "df_info = get_info_sp500()"
   ]
  },
  {
   "cell_type": "code",
   "execution_count": 58,
   "metadata": {},
   "outputs": [
    {
     "data": {
      "text/plain": [
       "0        MMM\n",
       "1        ABT\n",
       "2       ABBV\n",
       "3       ABMD\n",
       "4        ACN\n",
       "5       ATVI\n",
       "6       ADBE\n",
       "7        AMD\n",
       "8        AAP\n",
       "9        AES\n",
       "10       AET\n",
       "11       AMG\n",
       "12       AFL\n",
       "13         A\n",
       "14       APD\n",
       "15      AKAM\n",
       "16       ALK\n",
       "17       ALB\n",
       "18       ARE\n",
       "19      ALXN\n",
       "20      ALGN\n",
       "21      ALLE\n",
       "22       AGN\n",
       "23       ADS\n",
       "24       LNT\n",
       "25       ALL\n",
       "26     GOOGL\n",
       "27      GOOG\n",
       "28        MO\n",
       "29      AMZN\n",
       "       ...  \n",
       "475     VRTX\n",
       "476     VIAB\n",
       "477        V\n",
       "478      VNO\n",
       "479      VMC\n",
       "480      WMT\n",
       "481      WBA\n",
       "482      DIS\n",
       "483       WM\n",
       "484      WAT\n",
       "485      WEC\n",
       "486      WFC\n",
       "487     WELL\n",
       "488      WDC\n",
       "489       WU\n",
       "490      WRK\n",
       "491       WY\n",
       "492      WHR\n",
       "493      WMB\n",
       "494     WLTW\n",
       "495     WYNN\n",
       "496      XEL\n",
       "497      XRX\n",
       "498     XLNX\n",
       "499       XL\n",
       "500      XYL\n",
       "501      YUM\n",
       "502      ZBH\n",
       "503     ZION\n",
       "504      ZTS\n",
       "Name: Ticker symbol, Length: 505, dtype: object"
      ]
     },
     "execution_count": 58,
     "metadata": {},
     "output_type": "execute_result"
    }
   ],
   "source": [
    "df_info['Ticker symbol']"
   ]
  },
  {
   "cell_type": "code",
   "execution_count": 57,
   "metadata": {},
   "outputs": [
    {
     "data": {
      "text/plain": [
       "Index(['CIK', 'Date first added[3][4]', 'Founded\\n', 'GICS Sector',\n",
       "       'GICS Sub Industry', 'Location', 'SEC filings', 'Security',\n",
       "       'Ticker symbol'],\n",
       "      dtype='object')"
      ]
     },
     "execution_count": 57,
     "metadata": {},
     "output_type": "execute_result"
    }
   ],
   "source": [
    "df_info.columns"
   ]
  },
  {
   "cell_type": "code",
   "execution_count": 21,
   "metadata": {},
   "outputs": [
    {
     "data": {
      "text/plain": [
       "['the prince',\n",
       " 'the prince',\n",
       " 'the prince',\n",
       " 'the prince',\n",
       " 'the prince',\n",
       " 'the prince',\n",
       " 'the prince']"
      ]
     },
     "execution_count": 21,
     "metadata": {},
     "output_type": "execute_result"
    }
   ],
   "source": [
    "bsobj.findAll(text='the prince')"
   ]
  }
 ],
 "metadata": {
  "kernelspec": {
   "display_name": "Python 3",
   "language": "python",
   "name": "python3"
  },
  "language_info": {
   "codemirror_mode": {
    "name": "ipython",
    "version": 3
   },
   "file_extension": ".py",
   "mimetype": "text/x-python",
   "name": "python",
   "nbconvert_exporter": "python",
   "pygments_lexer": "ipython3",
   "version": "3.6.4"
  }
 },
 "nbformat": 4,
 "nbformat_minor": 2
}
