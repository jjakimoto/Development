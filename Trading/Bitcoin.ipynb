{
 "cells": [
  {
   "cell_type": "code",
   "execution_count": 11,
   "metadata": {},
   "outputs": [],
   "source": [
    "ALPHAVANTAGE_APIKEY = \"VBG5xmxqpRXRex_xQ-9Y\"\n",
    "symbol = \"MSFT\"\n",
    "interval = '30min'\n",
    "outputsize = 'compact'\n",
    "datatype = 'csv'\n",
    "function = 'TIME_SERIES_INTRADAY'\n",
    "base_url = f\"https://www.alphavantage.co/query?symbol={symbol}&apikey={ALPHAVANTAGE_APIKEY}\"\n",
    "url = base_url + f\"&interval={interval}&function={function}&outputsize={outputsize}&datatype={datatype}\""
   ]
  },
  {
   "cell_type": "code",
   "execution_count": 12,
   "metadata": {},
   "outputs": [
    {
     "data": {
      "text/plain": [
       "'https://www.alphavantage.co/query?symbol=MSFT&apikey=VBG5xmxqpRXRex_xQ-9Y&interval=30min&function=TIME_SERIES_INTRADAY&outputsize=compact&datatype=csv'"
      ]
     },
     "execution_count": 12,
     "metadata": {},
     "output_type": "execute_result"
    }
   ],
   "source": [
    "url"
   ]
  },
  {
   "cell_type": "code",
   "execution_count": 15,
   "metadata": {},
   "outputs": [
    {
     "data": {
      "text/html": [
       "<div>\n",
       "<style scoped>\n",
       "    .dataframe tbody tr th:only-of-type {\n",
       "        vertical-align: middle;\n",
       "    }\n",
       "\n",
       "    .dataframe tbody tr th {\n",
       "        vertical-align: top;\n",
       "    }\n",
       "\n",
       "    .dataframe thead th {\n",
       "        text-align: right;\n",
       "    }\n",
       "</style>\n",
       "<table border=\"1\" class=\"dataframe\">\n",
       "  <thead>\n",
       "    <tr style=\"text-align: right;\">\n",
       "      <th></th>\n",
       "      <th>timestamp</th>\n",
       "      <th>open</th>\n",
       "      <th>high</th>\n",
       "      <th>low</th>\n",
       "      <th>close</th>\n",
       "      <th>volume</th>\n",
       "    </tr>\n",
       "  </thead>\n",
       "  <tbody>\n",
       "    <tr>\n",
       "      <th>0</th>\n",
       "      <td>2018-09-05 15:30:00</td>\n",
       "      <td>108.4727</td>\n",
       "      <td>108.515</td>\n",
       "      <td>108.1300</td>\n",
       "      <td>108.510</td>\n",
       "      <td>7834718</td>\n",
       "    </tr>\n",
       "    <tr>\n",
       "      <th>1</th>\n",
       "      <td>2018-09-05 15:00:00</td>\n",
       "      <td>108.7200</td>\n",
       "      <td>108.890</td>\n",
       "      <td>108.4150</td>\n",
       "      <td>108.490</td>\n",
       "      <td>1604599</td>\n",
       "    </tr>\n",
       "    <tr>\n",
       "      <th>2</th>\n",
       "      <td>2018-09-05 14:30:00</td>\n",
       "      <td>108.9400</td>\n",
       "      <td>109.085</td>\n",
       "      <td>108.5500</td>\n",
       "      <td>108.700</td>\n",
       "      <td>1193145</td>\n",
       "    </tr>\n",
       "    <tr>\n",
       "      <th>3</th>\n",
       "      <td>2018-09-05 14:00:00</td>\n",
       "      <td>109.1200</td>\n",
       "      <td>109.180</td>\n",
       "      <td>108.9000</td>\n",
       "      <td>108.955</td>\n",
       "      <td>1166528</td>\n",
       "    </tr>\n",
       "    <tr>\n",
       "      <th>4</th>\n",
       "      <td>2018-09-05 13:30:00</td>\n",
       "      <td>109.2336</td>\n",
       "      <td>109.350</td>\n",
       "      <td>108.9799</td>\n",
       "      <td>109.105</td>\n",
       "      <td>1175970</td>\n",
       "    </tr>\n",
       "  </tbody>\n",
       "</table>\n",
       "</div>"
      ],
      "text/plain": [
       "             timestamp      open     high       low    close   volume\n",
       "0  2018-09-05 15:30:00  108.4727  108.515  108.1300  108.510  7834718\n",
       "1  2018-09-05 15:00:00  108.7200  108.890  108.4150  108.490  1604599\n",
       "2  2018-09-05 14:30:00  108.9400  109.085  108.5500  108.700  1193145\n",
       "3  2018-09-05 14:00:00  109.1200  109.180  108.9000  108.955  1166528\n",
       "4  2018-09-05 13:30:00  109.2336  109.350  108.9799  109.105  1175970"
      ]
     },
     "execution_count": 15,
     "metadata": {},
     "output_type": "execute_result"
    }
   ],
   "source": [
    "import pandas as pd\n",
    "\n",
    "df = pd.read_csv(url)\n",
    "df.head()"
   ]
  },
  {
   "cell_type": "code",
   "execution_count": 25,
   "metadata": {},
   "outputs": [
    {
     "data": {
      "text/html": [
       "<div>\n",
       "<style scoped>\n",
       "    .dataframe tbody tr th:only-of-type {\n",
       "        vertical-align: middle;\n",
       "    }\n",
       "\n",
       "    .dataframe tbody tr th {\n",
       "        vertical-align: top;\n",
       "    }\n",
       "\n",
       "    .dataframe thead th {\n",
       "        text-align: right;\n",
       "    }\n",
       "</style>\n",
       "<table border=\"1\" class=\"dataframe\">\n",
       "  <thead>\n",
       "    <tr style=\"text-align: right;\">\n",
       "      <th></th>\n",
       "      <th>timestamp</th>\n",
       "      <th>open</th>\n",
       "      <th>high</th>\n",
       "      <th>low</th>\n",
       "      <th>close</th>\n",
       "      <th>adjusted_close</th>\n",
       "      <th>volume</th>\n",
       "      <th>dividend_amount</th>\n",
       "      <th>split_coefficient</th>\n",
       "    </tr>\n",
       "  </thead>\n",
       "  <tbody>\n",
       "    <tr>\n",
       "      <th>2018-09-05</th>\n",
       "      <td>2018-09-05</td>\n",
       "      <td>111.010</td>\n",
       "      <td>111.420</td>\n",
       "      <td>108.100</td>\n",
       "      <td>108.49</td>\n",
       "      <td>108.49</td>\n",
       "      <td>28246869</td>\n",
       "      <td>0.0</td>\n",
       "      <td>1.0</td>\n",
       "    </tr>\n",
       "    <tr>\n",
       "      <th>2018-09-04</th>\n",
       "      <td>2018-09-04</td>\n",
       "      <td>110.850</td>\n",
       "      <td>111.955</td>\n",
       "      <td>110.220</td>\n",
       "      <td>111.71</td>\n",
       "      <td>111.71</td>\n",
       "      <td>22634641</td>\n",
       "      <td>0.0</td>\n",
       "      <td>1.0</td>\n",
       "    </tr>\n",
       "    <tr>\n",
       "      <th>2018-08-31</th>\n",
       "      <td>2018-08-31</td>\n",
       "      <td>111.685</td>\n",
       "      <td>112.777</td>\n",
       "      <td>111.515</td>\n",
       "      <td>112.33</td>\n",
       "      <td>112.33</td>\n",
       "      <td>23222713</td>\n",
       "      <td>0.0</td>\n",
       "      <td>1.0</td>\n",
       "    </tr>\n",
       "    <tr>\n",
       "      <th>2018-08-30</th>\n",
       "      <td>2018-08-30</td>\n",
       "      <td>111.670</td>\n",
       "      <td>112.610</td>\n",
       "      <td>111.440</td>\n",
       "      <td>111.95</td>\n",
       "      <td>111.95</td>\n",
       "      <td>22798702</td>\n",
       "      <td>0.0</td>\n",
       "      <td>1.0</td>\n",
       "    </tr>\n",
       "    <tr>\n",
       "      <th>2018-08-29</th>\n",
       "      <td>2018-08-29</td>\n",
       "      <td>110.450</td>\n",
       "      <td>112.030</td>\n",
       "      <td>110.270</td>\n",
       "      <td>112.02</td>\n",
       "      <td>112.02</td>\n",
       "      <td>20818044</td>\n",
       "      <td>0.0</td>\n",
       "      <td>1.0</td>\n",
       "    </tr>\n",
       "  </tbody>\n",
       "</table>\n",
       "</div>"
      ],
      "text/plain": [
       "             timestamp     open     high      low   close  adjusted_close  \\\n",
       "2018-09-05  2018-09-05  111.010  111.420  108.100  108.49          108.49   \n",
       "2018-09-04  2018-09-04  110.850  111.955  110.220  111.71          111.71   \n",
       "2018-08-31  2018-08-31  111.685  112.777  111.515  112.33          112.33   \n",
       "2018-08-30  2018-08-30  111.670  112.610  111.440  111.95          111.95   \n",
       "2018-08-29  2018-08-29  110.450  112.030  110.270  112.02          112.02   \n",
       "\n",
       "              volume  dividend_amount  split_coefficient  \n",
       "2018-09-05  28246869              0.0                1.0  \n",
       "2018-09-04  22634641              0.0                1.0  \n",
       "2018-08-31  23222713              0.0                1.0  \n",
       "2018-08-30  22798702              0.0                1.0  \n",
       "2018-08-29  20818044              0.0                1.0  "
      ]
     },
     "execution_count": 25,
     "metadata": {},
     "output_type": "execute_result"
    }
   ],
   "source": [
    "symbol = \"AAPL\"\n",
    "outputsize = 'full'\n",
    "datatype = 'csv'\n",
    "function = 'TIME_SERIES_DAILY_ADJUSTED'\n",
    "url = base_url + f\"&function={function}&outputsize={outputsize}&datatype={datatype}\"\n",
    "\n",
    "df = pd.read_csv(url)\n",
    "df.index = pd.DatetimeIndex(df['timestamp'].values)\n",
    "df.head()"
   ]
  },
  {
   "cell_type": "code",
   "execution_count": 22,
   "metadata": {},
   "outputs": [
    {
     "data": {
      "text/html": [
       "<div>\n",
       "<style scoped>\n",
       "    .dataframe tbody tr th:only-of-type {\n",
       "        vertical-align: middle;\n",
       "    }\n",
       "\n",
       "    .dataframe tbody tr th {\n",
       "        vertical-align: top;\n",
       "    }\n",
       "\n",
       "    .dataframe thead th {\n",
       "        text-align: right;\n",
       "    }\n",
       "</style>\n",
       "<table border=\"1\" class=\"dataframe\">\n",
       "  <thead>\n",
       "    <tr style=\"text-align: right;\">\n",
       "      <th></th>\n",
       "      <th>timestamp</th>\n",
       "      <th>open</th>\n",
       "      <th>high</th>\n",
       "      <th>low</th>\n",
       "      <th>close</th>\n",
       "      <th>volume</th>\n",
       "    </tr>\n",
       "  </thead>\n",
       "  <tbody>\n",
       "    <tr>\n",
       "      <th>2018-09-05</th>\n",
       "      <td>2018-09-05</td>\n",
       "      <td>111.010</td>\n",
       "      <td>111.420</td>\n",
       "      <td>108.100</td>\n",
       "      <td>108.49</td>\n",
       "      <td>28246869</td>\n",
       "    </tr>\n",
       "    <tr>\n",
       "      <th>2018-09-04</th>\n",
       "      <td>2018-09-04</td>\n",
       "      <td>110.850</td>\n",
       "      <td>111.955</td>\n",
       "      <td>110.220</td>\n",
       "      <td>111.71</td>\n",
       "      <td>22634641</td>\n",
       "    </tr>\n",
       "    <tr>\n",
       "      <th>2018-08-31</th>\n",
       "      <td>2018-08-31</td>\n",
       "      <td>111.685</td>\n",
       "      <td>112.777</td>\n",
       "      <td>111.515</td>\n",
       "      <td>112.33</td>\n",
       "      <td>23222713</td>\n",
       "    </tr>\n",
       "    <tr>\n",
       "      <th>2018-08-30</th>\n",
       "      <td>2018-08-30</td>\n",
       "      <td>111.670</td>\n",
       "      <td>112.610</td>\n",
       "      <td>111.440</td>\n",
       "      <td>111.95</td>\n",
       "      <td>22798702</td>\n",
       "    </tr>\n",
       "    <tr>\n",
       "      <th>2018-08-29</th>\n",
       "      <td>2018-08-29</td>\n",
       "      <td>110.450</td>\n",
       "      <td>112.030</td>\n",
       "      <td>110.270</td>\n",
       "      <td>112.02</td>\n",
       "      <td>20818044</td>\n",
       "    </tr>\n",
       "  </tbody>\n",
       "</table>\n",
       "</div>"
      ],
      "text/plain": [
       "             timestamp     open     high      low   close    volume\n",
       "2018-09-05  2018-09-05  111.010  111.420  108.100  108.49  28246869\n",
       "2018-09-04  2018-09-04  110.850  111.955  110.220  111.71  22634641\n",
       "2018-08-31  2018-08-31  111.685  112.777  111.515  112.33  23222713\n",
       "2018-08-30  2018-08-30  111.670  112.610  111.440  111.95  22798702\n",
       "2018-08-29  2018-08-29  110.450  112.030  110.270  112.02  20818044"
      ]
     },
     "execution_count": 22,
     "metadata": {},
     "output_type": "execute_result"
    }
   ],
   "source": [
    "symbol = \"AAPL\"\n",
    "outputsize = 'full'\n",
    "datatype = 'csv'\n",
    "function = 'TIME_SERIES_DAILY'\n",
    "url = base_url + f\"&function={function}&outputsize={outputsize}&datatype={datatype}\"\n",
    "\n",
    "df_ = pd.read_csv(url)\n",
    "df_.index = pd.DatetimeIndex(df_['timestamp'].values)\n",
    "df_.head()"
   ]
  },
  {
   "cell_type": "code",
   "execution_count": 23,
   "metadata": {},
   "outputs": [
    {
     "data": {
      "text/plain": [
       "<matplotlib.axes._subplots.AxesSubplot at 0x7f9382723588>"
      ]
     },
     "execution_count": 23,
     "metadata": {},
     "output_type": "execute_result"
    },
    {
     "data": {
      "image/png": "[encoded data removed]",
      "text/plain": [
       "<matplotlib.figure.Figure at 0x7f9382c50240>"
      ]
     },
     "metadata": {},
     "output_type": "display_data"
    }
   ],
   "source": [
    "%matplotlib inline\n",
    "df_['open'].plot()"
   ]
  },
  {
   "cell_type": "code",
   "execution_count": 26,
   "metadata": {},
   "outputs": [
    {
     "data": {
      "text/plain": [
       "<matplotlib.axes._subplots.AxesSubplot at 0x7f9382cc3748>"
      ]
     },
     "execution_count": 26,
     "metadata": {},
     "output_type": "execute_result"
    },
    {
     "data": {
      "image/png": "[encoded data removed]",
      "text/plain": [
       "<matplotlib.figure.Figure at 0x7f93825a50f0>"
      ]
     },
     "metadata": {},
     "output_type": "display_data"
    }
   ],
   "source": [
    "df['adjusted_close'].plot()"
   ]
  },
  {
   "cell_type": "code",
   "execution_count": 27,
   "metadata": {},
   "outputs": [
    {
     "data": {
      "text/plain": [
       "<matplotlib.axes._subplots.AxesSubplot at 0x7f9381e9f6a0>"
      ]
     },
     "execution_count": 27,
     "metadata": {},
     "output_type": "execute_result"
    },
    {
     "data": {
      "image/png": "[encoded data removed]",
      "text/plain": [
       "<matplotlib.figure.Figure at 0x7f9381e36a20>"
      ]
     },
     "metadata": {},
     "output_type": "display_data"
    }
   ],
   "source": [
    "df['split_coefficient'].plot()"
   ]
  },
  {
   "cell_type": "code",
   "execution_count": 29,
   "metadata": {},
   "outputs": [
    {
     "data": {
      "text/plain": [
       "<matplotlib.axes._subplots.AxesSubplot at 0x7f9381a1d390>"
      ]
     },
     "execution_count": 29,
     "metadata": {},
     "output_type": "execute_result"
    },
    {
     "data": {
      "image/png": "[encoded data removed]",
      "text/plain": [
       "<matplotlib.figure.Figure at 0x7f9381a19f60>"
      ]
     },
     "metadata": {},
     "output_type": "display_data"
    }
   ],
   "source": [
    "df['dividend_amount'].plot()"
   ]
  },
  {
   "cell_type": "code",
   "execution_count": 30,
   "metadata": {},
   "outputs": [
    {
     "data": {
      "text/plain": [
       "DatetimeIndex(['2018-09-05', '2018-09-04', '2018-08-31', '2018-08-30',\n",
       "               '2018-08-29', '2018-08-28', '2018-08-27', '2018-08-24',\n",
       "               '2018-08-23', '2018-08-22',\n",
       "               ...\n",
       "               '1995-01-16', '1995-01-13', '1995-01-12', '1995-01-11',\n",
       "               '1995-01-10', '1995-01-09', '1995-01-06', '1995-01-05',\n",
       "               '1995-01-04', '1995-01-03'],\n",
       "              dtype='datetime64[ns]', length=5962, freq=None)"
      ]
     },
     "execution_count": 30,
     "metadata": {},
     "output_type": "execute_result"
    }
   ],
   "source": [
    "df.index"
   ]
  },
  {
   "cell_type": "code",
   "execution_count": 44,
   "metadata": {},
   "outputs": [],
   "source": [
    "symbols = [\"FRED/DCOILWTICO\", \"WGC/GOLD_DAILY_USD\", \"FRED/DTWEXM\",\n",
    "           \"USTREASURY/YIELD\", \"FRED/T10Y2Y\"]"
   ]
  },
  {
   "cell_type": "code",
   "execution_count": 47,
   "metadata": {},
   "outputs": [
    {
     "data": {
      "application/vnd.jupyter.widget-view+json": {
       "model_id": "718c346397984299a84bceb34a4f46a6",
       "version_major": 2,
       "version_minor": 0
      },
      "text/html": [
       "<p>Failed to display Jupyter Widget of type <code>HBox</code>.</p>\n",
       "<p>\n",
       "  If you're reading this message in the Jupyter Notebook or JupyterLab Notebook, it may mean\n",
       "  that the widgets JavaScript is still loading. If this message persists, it\n",
       "  likely means that the widgets JavaScript library is either not installed or\n",
       "  not enabled. See the <a href=\"https://ipywidgets.readthedocs.io/en/stable/user_install.html\">Jupyter\n",
       "  Widgets Documentation</a> for setup instructions.\n",
       "</p>\n",
       "<p>\n",
       "  If you're reading this message in another frontend (for example, a static\n",
       "  rendering on GitHub or <a href=\"https://nbviewer.jupyter.org/\">NBViewer</a>),\n",
       "  it may mean that your frontend doesn't currently support widgets.\n",
       "</p>\n"
      ],
      "text/plain": [
       "HBox(children=(IntProgress(value=0, max=5), HTML(value='')))"
      ]
     },
     "metadata": {},
     "output_type": "display_data"
    },
    {
     "name": "stdout",
     "output_type": "stream",
     "text": [
      "\n"
     ]
    }
   ],
   "source": [
    "import quandl\n",
    "from time import sleep\n",
    "from tqdm import tqdm_notebook\n",
    "\n",
    "QUANDL_APIKEY = \"VBG5xmxqpRXRex_xQ-9Y\"\n",
    "quandl.ApiConfig.api_key = QUANDL_APIKEY\n",
    "\n",
    "for symbol in tqdm_notebook(symbols):\n",
    "    try:\n",
    "        df = quandl.get(symbol)\n",
    "    except:\n",
    "        continue\n",
    "    name = symbol.split('/')[1]\n",
    "    path = f'../datasets/macro/{name}.csv'\n",
    "    df.to_csv(path)\n",
    "    sleep(1)"
   ]
  },
  {
   "cell_type": "code",
   "execution_count": 2,
   "metadata": {},
   "outputs": [],
   "source": [
    "import xgboost as xgb"
   ]
  },
  {
   "cell_type": "code",
   "execution_count": 3,
   "metadata": {},
   "outputs": [],
   "source": [
    "from sklearn.datasets import load_iris\n",
    "data = load_iris()"
   ]
  },
  {
   "cell_type": "code",
   "execution_count": 20,
   "metadata": {},
   "outputs": [],
   "source": [
    "X = data.data\n",
    "y = data.target\n",
    "dtrain = xgb.DMatrix(X, label=y)\n",
    "param = {'booster': 'dart',\n",
    "         'max_depth': 5, 'learning_rate': 0.1,\n",
    "         'objective': 'reg:linear',\n",
    "         'sample_type': 'uniform',\n",
    "         'rate_drop': 0.1,\n",
    "         'skip_drop': 0.5,\n",
    "         'silent': True}\n",
    "num_round = 50\n",
    "bst = xgb.train(param, dtrain, num_round)"
   ]
  },
  {
   "cell_type": "code",
   "execution_count": 21,
   "metadata": {},
   "outputs": [
    {
     "data": {
      "text/plain": [
       "array([0.0110487 , 0.0110487 , 0.0110487 , 0.0110487 , 0.0110487 ,\n",
       "       0.0110487 , 0.0110487 , 0.0110487 , 0.0110487 , 0.0110487 ,\n",
       "       0.0110487 , 0.0110487 , 0.0110487 , 0.0110487 , 0.0110487 ,\n",
       "       0.0110487 , 0.0110487 , 0.0110487 , 0.0110487 , 0.0110487 ,\n",
       "       0.0110487 , 0.0110487 , 0.0110487 , 0.0110487 , 0.0110487 ,\n",
       "       0.0110487 , 0.0110487 , 0.0110487 , 0.0110487 , 0.0110487 ,\n",
       "       0.0110487 , 0.0110487 , 0.0110487 , 0.0110487 , 0.0110487 ,\n",
       "       0.0110487 , 0.0110487 , 0.0110487 , 0.0110487 , 0.0110487 ,\n",
       "       0.0110487 , 0.0110487 , 0.0110487 , 0.0110487 , 0.0110487 ,\n",
       "       0.0110487 , 0.0110487 , 0.0110487 , 0.0110487 , 0.0110487 ,\n",
       "       0.9882233 , 0.9882233 , 1.0036968 , 0.98878807, 0.98878807,\n",
       "       0.98878807, 0.9882233 , 0.9876211 , 0.98878807, 0.98878807,\n",
       "       0.98878807, 0.98878807, 0.98878807, 0.98878807, 0.98878807,\n",
       "       0.9882233 , 0.98878807, 0.98878807, 0.98878807, 0.98878807,\n",
       "       1.0574813 , 0.98878807, 1.0042615 , 0.98878807, 0.98878807,\n",
       "       0.98878807, 0.98730004, 1.0326583 , 0.98878807, 0.98878807,\n",
       "       0.98878807, 0.98878807, 0.98878807, 1.1805537 , 0.98878807,\n",
       "       0.9882233 , 0.9882233 , 0.98878807, 0.98878807, 0.98878807,\n",
       "       0.98878807, 0.98878807, 0.98878807, 0.98878807, 0.98878807,\n",
       "       0.98878807, 0.98878807, 0.98878807, 0.98878807, 0.98878807,\n",
       "       1.9651171 , 1.9616239 , 1.9651171 , 1.9651171 , 1.9651171 ,\n",
       "       1.9651171 , 1.8132917 , 1.9651171 , 1.9651171 , 1.9651171 ,\n",
       "       1.9619383 , 1.9651171 , 1.9651171 , 1.9616239 , 1.9616239 ,\n",
       "       1.9651171 , 1.9651171 , 1.9651171 , 1.9651171 , 1.8457149 ,\n",
       "       1.9651171 , 1.9669287 , 1.9651171 , 1.9669287 , 1.9651171 ,\n",
       "       1.9651171 , 1.9476845 , 1.9669287 , 1.9651171 , 1.8220401 ,\n",
       "       1.9651171 , 1.9651171 , 1.9651171 , 1.8933792 , 1.9021186 ,\n",
       "       1.9651171 , 1.9651171 , 1.9651171 , 1.9476845 , 1.9651171 ,\n",
       "       1.9651171 , 1.9619383 , 1.9616239 , 1.9651171 , 1.9651171 ,\n",
       "       1.9651171 , 1.9619383 , 1.9651171 , 1.9651171 , 1.9616239 ],\n",
       "      dtype=float32)"
      ]
     },
     "execution_count": 21,
     "metadata": {},
     "output_type": "execute_result"
    }
   ],
   "source": [
    "bst.predict(dtrain)"
   ]
  },
  {
   "cell_type": "code",
   "execution_count": 5,
   "metadata": {},
   "outputs": [
    {
     "data": {
      "text/plain": [
       "array([[5.1, 3.5, 1.4, 0.2],\n",
       "       [4.9, 3. , 1.4, 0.2],\n",
       "       [4.7, 3.2, 1.3, 0.2],\n",
       "       [4.6, 3.1, 1.5, 0.2],\n",
       "       [5. , 3.6, 1.4, 0.2],\n",
       "       [5.4, 3.9, 1.7, 0.4],\n",
       "       [4.6, 3.4, 1.4, 0.3],\n",
       "       [5. , 3.4, 1.5, 0.2],\n",
       "       [4.4, 2.9, 1.4, 0.2],\n",
       "       [4.9, 3.1, 1.5, 0.1],\n",
       "       [5.4, 3.7, 1.5, 0.2],\n",
       "       [4.8, 3.4, 1.6, 0.2],\n",
       "       [4.8, 3. , 1.4, 0.1],\n",
       "       [4.3, 3. , 1.1, 0.1],\n",
       "       [5.8, 4. , 1.2, 0.2],\n",
       "       [5.7, 4.4, 1.5, 0.4],\n",
       "       [5.4, 3.9, 1.3, 0.4],\n",
       "       [5.1, 3.5, 1.4, 0.3],\n",
       "       [5.7, 3.8, 1.7, 0.3],\n",
       "       [5.1, 3.8, 1.5, 0.3],\n",
       "       [5.4, 3.4, 1.7, 0.2],\n",
       "       [5.1, 3.7, 1.5, 0.4],\n",
       "       [4.6, 3.6, 1. , 0.2],\n",
       "       [5.1, 3.3, 1.7, 0.5],\n",
       "       [4.8, 3.4, 1.9, 0.2],\n",
       "       [5. , 3. , 1.6, 0.2],\n",
       "       [5. , 3.4, 1.6, 0.4],\n",
       "       [5.2, 3.5, 1.5, 0.2],\n",
       "       [5.2, 3.4, 1.4, 0.2],\n",
       "       [4.7, 3.2, 1.6, 0.2],\n",
       "       [4.8, 3.1, 1.6, 0.2],\n",
       "       [5.4, 3.4, 1.5, 0.4],\n",
       "       [5.2, 4.1, 1.5, 0.1],\n",
       "       [5.5, 4.2, 1.4, 0.2],\n",
       "       [4.9, 3.1, 1.5, 0.1],\n",
       "       [5. , 3.2, 1.2, 0.2],\n",
       "       [5.5, 3.5, 1.3, 0.2],\n",
       "       [4.9, 3.1, 1.5, 0.1],\n",
       "       [4.4, 3. , 1.3, 0.2],\n",
       "       [5.1, 3.4, 1.5, 0.2],\n",
       "       [5. , 3.5, 1.3, 0.3],\n",
       "       [4.5, 2.3, 1.3, 0.3],\n",
       "       [4.4, 3.2, 1.3, 0.2],\n",
       "       [5. , 3.5, 1.6, 0.6],\n",
       "       [5.1, 3.8, 1.9, 0.4],\n",
       "       [4.8, 3. , 1.4, 0.3],\n",
       "       [5.1, 3.8, 1.6, 0.2],\n",
       "       [4.6, 3.2, 1.4, 0.2],\n",
       "       [5.3, 3.7, 1.5, 0.2],\n",
       "       [5. , 3.3, 1.4, 0.2],\n",
       "       [7. , 3.2, 4.7, 1.4],\n",
       "       [6.4, 3.2, 4.5, 1.5],\n",
       "       [6.9, 3.1, 4.9, 1.5],\n",
       "       [5.5, 2.3, 4. , 1.3],\n",
       "       [6.5, 2.8, 4.6, 1.5],\n",
       "       [5.7, 2.8, 4.5, 1.3],\n",
       "       [6.3, 3.3, 4.7, 1.6],\n",
       "       [4.9, 2.4, 3.3, 1. ],\n",
       "       [6.6, 2.9, 4.6, 1.3],\n",
       "       [5.2, 2.7, 3.9, 1.4],\n",
       "       [5. , 2. , 3.5, 1. ],\n",
       "       [5.9, 3. , 4.2, 1.5],\n",
       "       [6. , 2.2, 4. , 1. ],\n",
       "       [6.1, 2.9, 4.7, 1.4],\n",
       "       [5.6, 2.9, 3.6, 1.3],\n",
       "       [6.7, 3.1, 4.4, 1.4],\n",
       "       [5.6, 3. , 4.5, 1.5],\n",
       "       [5.8, 2.7, 4.1, 1. ],\n",
       "       [6.2, 2.2, 4.5, 1.5],\n",
       "       [5.6, 2.5, 3.9, 1.1],\n",
       "       [5.9, 3.2, 4.8, 1.8],\n",
       "       [6.1, 2.8, 4. , 1.3],\n",
       "       [6.3, 2.5, 4.9, 1.5],\n",
       "       [6.1, 2.8, 4.7, 1.2],\n",
       "       [6.4, 2.9, 4.3, 1.3],\n",
       "       [6.6, 3. , 4.4, 1.4],\n",
       "       [6.8, 2.8, 4.8, 1.4],\n",
       "       [6.7, 3. , 5. , 1.7],\n",
       "       [6. , 2.9, 4.5, 1.5],\n",
       "       [5.7, 2.6, 3.5, 1. ],\n",
       "       [5.5, 2.4, 3.8, 1.1],\n",
       "       [5.5, 2.4, 3.7, 1. ],\n",
       "       [5.8, 2.7, 3.9, 1.2],\n",
       "       [6. , 2.7, 5.1, 1.6],\n",
       "       [5.4, 3. , 4.5, 1.5],\n",
       "       [6. , 3.4, 4.5, 1.6],\n",
       "       [6.7, 3.1, 4.7, 1.5],\n",
       "       [6.3, 2.3, 4.4, 1.3],\n",
       "       [5.6, 3. , 4.1, 1.3],\n",
       "       [5.5, 2.5, 4. , 1.3],\n",
       "       [5.5, 2.6, 4.4, 1.2],\n",
       "       [6.1, 3. , 4.6, 1.4],\n",
       "       [5.8, 2.6, 4. , 1.2],\n",
       "       [5. , 2.3, 3.3, 1. ],\n",
       "       [5.6, 2.7, 4.2, 1.3],\n",
       "       [5.7, 3. , 4.2, 1.2],\n",
       "       [5.7, 2.9, 4.2, 1.3],\n",
       "       [6.2, 2.9, 4.3, 1.3],\n",
       "       [5.1, 2.5, 3. , 1.1],\n",
       "       [5.7, 2.8, 4.1, 1.3],\n",
       "       [6.3, 3.3, 6. , 2.5],\n",
       "       [5.8, 2.7, 5.1, 1.9],\n",
       "       [7.1, 3. , 5.9, 2.1],\n",
       "       [6.3, 2.9, 5.6, 1.8],\n",
       "       [6.5, 3. , 5.8, 2.2],\n",
       "       [7.6, 3. , 6.6, 2.1],\n",
       "       [4.9, 2.5, 4.5, 1.7],\n",
       "       [7.3, 2.9, 6.3, 1.8],\n",
       "       [6.7, 2.5, 5.8, 1.8],\n",
       "       [7.2, 3.6, 6.1, 2.5],\n",
       "       [6.5, 3.2, 5.1, 2. ],\n",
       "       [6.4, 2.7, 5.3, 1.9],\n",
       "       [6.8, 3. , 5.5, 2.1],\n",
       "       [5.7, 2.5, 5. , 2. ],\n",
       "       [5.8, 2.8, 5.1, 2.4],\n",
       "       [6.4, 3.2, 5.3, 2.3],\n",
       "       [6.5, 3. , 5.5, 1.8],\n",
       "       [7.7, 3.8, 6.7, 2.2],\n",
       "       [7.7, 2.6, 6.9, 2.3],\n",
       "       [6. , 2.2, 5. , 1.5],\n",
       "       [6.9, 3.2, 5.7, 2.3],\n",
       "       [5.6, 2.8, 4.9, 2. ],\n",
       "       [7.7, 2.8, 6.7, 2. ],\n",
       "       [6.3, 2.7, 4.9, 1.8],\n",
       "       [6.7, 3.3, 5.7, 2.1],\n",
       "       [7.2, 3.2, 6. , 1.8],\n",
       "       [6.2, 2.8, 4.8, 1.8],\n",
       "       [6.1, 3. , 4.9, 1.8],\n",
       "       [6.4, 2.8, 5.6, 2.1],\n",
       "       [7.2, 3. , 5.8, 1.6],\n",
       "       [7.4, 2.8, 6.1, 1.9],\n",
       "       [7.9, 3.8, 6.4, 2. ],\n",
       "       [6.4, 2.8, 5.6, 2.2],\n",
       "       [6.3, 2.8, 5.1, 1.5],\n",
       "       [6.1, 2.6, 5.6, 1.4],\n",
       "       [7.7, 3. , 6.1, 2.3],\n",
       "       [6.3, 3.4, 5.6, 2.4],\n",
       "       [6.4, 3.1, 5.5, 1.8],\n",
       "       [6. , 3. , 4.8, 1.8],\n",
       "       [6.9, 3.1, 5.4, 2.1],\n",
       "       [6.7, 3.1, 5.6, 2.4],\n",
       "       [6.9, 3.1, 5.1, 2.3],\n",
       "       [5.8, 2.7, 5.1, 1.9],\n",
       "       [6.8, 3.2, 5.9, 2.3],\n",
       "       [6.7, 3.3, 5.7, 2.5],\n",
       "       [6.7, 3. , 5.2, 2.3],\n",
       "       [6.3, 2.5, 5. , 1.9],\n",
       "       [6.5, 3. , 5.2, 2. ],\n",
       "       [6.2, 3.4, 5.4, 2.3],\n",
       "       [5.9, 3. , 5.1, 1.8]])"
      ]
     },
     "execution_count": 5,
     "metadata": {},
     "output_type": "execute_result"
    }
   ],
   "source": [
    "dtrain = axgb.DMatrix()"
   ]
  },
  {
   "cell_type": "code",
   "execution_count": null,
   "metadata": {},
   "outputs": [],
   "source": []
  }
 ],
 "metadata": {
  "kernelspec": {
   "display_name": "Python 3",
   "language": "python",
   "name": "python3"
  },
  "language_info": {
   "codemirror_mode": {
    "name": "ipython",
    "version": 3
   },
   "file_extension": ".py",
   "mimetype": "text/x-python",
   "name": "python",
   "nbconvert_exporter": "python",
   "pygments_lexer": "ipython3",
   "version": "3.6.4"
  }
 },
 "nbformat": 4,
 "nbformat_minor": 2
}
