{
 "cells": [
  {
   "cell_type": "code",
   "execution_count": 11,
   "metadata": {},
   "outputs": [
    {
     "name": "stdout",
     "output_type": "stream",
     "text": [
      "['USDT_BTC', 'USDT_DASH', 'USDT_ETC', 'USDT_ETH', 'USDT_LTC', 'USDT_XMR', 'USDT_ZEC']\n"
     ]
    }
   ],
   "source": [
    "import pickle\n",
    "\n",
    "file = open('/home/tom/work/rltensor/rltensor/app/ticker1.pkl', 'rb')\n",
    "tickers = pickle.loads(file.read())\n",
    "tickers = tickers[1:]\n",
    "print(tickers)"
   ]
  },
  {
   "cell_type": "code",
   "execution_count": 12,
   "metadata": {},
   "outputs": [
    {
     "name": "stdout",
     "output_type": "stream",
     "text": [
      "1467331201.0 1535760240.0\n",
      "1467331201.0 1535760240.0\n",
      "2016-07-01 00:00:00 2018-09-01 00:04:00\n",
      "1467331201.0 1535760240.0\n",
      "1467331201.0 1535760240.0\n",
      "2016-07-01 00:00:00 2018-09-01 00:04:00\n",
      "1467331201.0 1535760240.0\n",
      "1467331201.0 1535760240.0\n",
      "2016-07-01 00:00:00 2018-09-01 00:04:00\n",
      "1467331201.0 1535760240.0\n",
      "1467331201.0 1535760240.0\n",
      "2016-07-01 00:00:00 2018-09-01 00:04:00\n",
      "1467331201.0 1535760240.0\n",
      "1467331201.0 1535760240.0\n",
      "2016-07-01 00:00:00 2018-09-01 00:04:00\n",
      "1467331201.0 1535760240.0\n",
      "1467331201.0 1535760240.0\n",
      "2016-07-01 00:00:00 2018-09-01 00:04:00\n",
      "1467331201.0 1535760240.0\n",
      "1467331201.0 1535760240.0\n",
      "2016-07-01 00:00:00 2018-09-01 00:04:00\n"
     ]
    }
   ],
   "source": [
    "from pytrade_env.database.utils import get_data\n",
    "import pandas as pd\n",
    "from copy import deepcopy\n",
    "\n",
    "start = '2018-06-01 00:00:00'\n",
    "# end = '2018-09-01 00:00:00'\n",
    "start = '2016-07-01 00:00:00'\n",
    "# start = '2018-03-01 00:00:00'\n",
    "end = '2018-09-01 00:04:00'\n",
    "dfs = dict()\n",
    "index = None\n",
    "tickers = tickers\n",
    "for ticker in tickers:\n",
    "    df = get_data(ticker, start, end, period=1800)\n",
    "    df = df.dropna()\n",
    "    df_ = df[['high', 'low', 'close', 'open', 'volume']]\n",
    "    time_idx = pd.DatetimeIndex(df['date'])\n",
    "    # print(ticker, time_idx)\n",
    "    df_.index = time_idx\n",
    "    dfs[ticker] = df_\n",
    "    if index is None:\n",
    "        index = df_.index\n",
    "    else:\n",
    "        index = index & df_.index\n",
    "        \n",
    "for ticker in tickers:\n",
    "    dfs[ticker] = dfs[ticker].loc[index]\n",
    "    \n",
    "tickers.append('CASH')\n",
    "cash = deepcopy(dfs[tickers[0]])\n",
    "for col in cash.columns:\n",
    "    cash[col] = 1.\n",
    "dfs[tickers[-1]] = cash\n",
    "    \n",
    "for ticker in tickers:\n",
    "    dfs[ticker].to_csv(f'../datasets/crypto/{ticker}.csv')"
   ]
  },
  {
   "cell_type": "code",
   "execution_count": 14,
   "metadata": {},
   "outputs": [],
   "source": [
    "import pandas as pd\n",
    "dfs = dict()\n",
    "# tickers = tickers[:1]\n",
    "for ticker in tickers:\n",
    "    df = pd.read_csv(f'../datasets/crypto/{ticker}.csv')\n",
    "    df.index = pd.DatetimeIndex(df['date'])\n",
    "    del df['date']\n",
    "    dfs[ticker] = df"
   ]
  },
  {
   "cell_type": "code",
   "execution_count": null,
   "metadata": {},
   "outputs": [
    {
     "data": {
      "application/vnd.jupyter.widget-view+json": {
       "model_id": "e3701a817a9c44f6b558bbf371f372f5",
       "version_major": 2,
       "version_minor": 0
      },
      "text/html": [
       "<p>Failed to display Jupyter Widget of type <code>HBox</code>.</p>\n",
       "<p>\n",
       "  If you're reading this message in the Jupyter Notebook or JupyterLab Notebook, it may mean\n",
       "  that the widgets JavaScript is still loading. If this message persists, it\n",
       "  likely means that the widgets JavaScript library is either not installed or\n",
       "  not enabled. See the <a href=\"https://ipywidgets.readthedocs.io/en/stable/user_install.html\">Jupyter\n",
       "  Widgets Documentation</a> for setup instructions.\n",
       "</p>\n",
       "<p>\n",
       "  If you're reading this message in another frontend (for example, a static\n",
       "  rendering on GitHub or <a href=\"https://nbviewer.jupyter.org/\">NBViewer</a>),\n",
       "  it may mean that your frontend doesn't currently support widgets.\n",
       "</p>\n"
      ],
      "text/plain": [
       "HBox(children=(IntProgress(value=1, bar_style='info', max=1), HTML(value='')))"
      ]
     },
     "metadata": {},
     "output_type": "display_data"
    },
    {
     "name": "stdout",
     "output_type": "stream",
     "text": [
      "Delete old tensorboard log\n"
     ]
    },
    {
     "data": {
      "application/vnd.jupyter.widget-view+json": {
       "model_id": "90004027b68f4bf6ba39c7ffd01fec9d",
       "version_major": 2,
       "version_minor": 0
      },
      "text/html": [
       "<p>Failed to display Jupyter Widget of type <code>HBox</code>.</p>\n",
       "<p>\n",
       "  If you're reading this message in the Jupyter Notebook or JupyterLab Notebook, it may mean\n",
       "  that the widgets JavaScript is still loading. If this message persists, it\n",
       "  likely means that the widgets JavaScript library is either not installed or\n",
       "  not enabled. See the <a href=\"https://ipywidgets.readthedocs.io/en/stable/user_install.html\">Jupyter\n",
       "  Widgets Documentation</a> for setup instructions.\n",
       "</p>\n",
       "<p>\n",
       "  If you're reading this message in another frontend (for example, a static\n",
       "  rendering on GitHub or <a href=\"https://nbviewer.jupyter.org/\">NBViewer</a>),\n",
       "  it may mean that your frontend doesn't currently support widgets.\n",
       "</p>\n"
      ],
      "text/plain": [
       "HBox(children=(IntProgress(value=0, max=2000000), HTML(value='')))"
      ]
     },
     "metadata": {},
     "output_type": "display_data"
    }
   ],
   "source": [
    "%%time\n",
    "import backtrader as bt\n",
    "\n",
    "from btbot import get_cerebro\n",
    "from btbot.strategies import RLStrategy\n",
    "# from rl_traders.agents import EIIEAgent\n",
    "\n",
    "cerebro = get_cerebro(startcash=1e10)\n",
    "\n",
    "for ticker in tickers:\n",
    "    df = dfs[ticker]\n",
    "    cols = list(df.columns)\n",
    "    close_idx = cols.index('close')\n",
    "    high_idx = cols.index('high')\n",
    "    low_idx = cols.index('low')\n",
    "    open_idx = cols.index('open')\n",
    "    volume_idx =cols.index('volume')\n",
    "    stock = bt.feeds.PandasData(dataname=df, close=close_idx, high=high_idx,\n",
    "                                low=low_idx, open=open_idx, volume=volume_idx)\n",
    "    cerebro.adddata(stock, name=ticker)\n",
    "    \n",
    "action_spec = {'shape': len(tickers) + 1, 'type': 'continuous'}\n",
    "\n",
    "LR_SPEC = {\"lr\": 3.0e-3, 'name': 'adam'}\n",
    "SCHEDULER_SPEC = {'name': 'plateau', 'patience': 1000, 'factor': 0.9, 'min_lr': 3.0e-5}\n",
    "# SCHEDULER_SPEC = {'name': 'step', 'patience': 100, 'factor': 0.5, 'min_lr': 3.0e-5}\n",
    "\n",
    "EIIE_CONFIG = {\n",
    "    'lower_params': [{\"name\": \"conv2d\", \"kernel_size\": (3, 1),\n",
    "                     \"in_channels\": 3, \"out_channels\": 2, \"stride\": 1},\n",
    "                     # {\"name\": \"batch2d\", 'num_features': 2},\n",
    "                     {\"name\": \"relu\"},\n",
    "                     {\"name\": \"conv2d\", \"kernel_size\": (48, 1),\n",
    "                      \"in_channels\": 2, \"out_channels\": 20, \"stride\": 1},\n",
    "                     # {\"name\": \"batch2d\", 'num_features': 20},\n",
    "                     {\"name\": \"relu\"},],\n",
    "    'upper_params': [{\"name\": \"conv2d\", \"kernel_size\": (1, 1),\n",
    "                     \"in_channels\": 21, \"out_channels\": 1, \"stride\": 1},\n",
    "                     {\"name\": \"flatten\"}],\n",
    "}\n",
    "\n",
    "\n",
    "COMMISSION = 2.5e-3\n",
    "# COMMISSION = 0.0\n",
    "agent = EIIEAgent(action_spec, model_params=EIIE_CONFIG,\n",
    "                 memory_limit=100000, window_length=50,\n",
    "                 batch_size=50, beta=5.0e-5, lr_spec=LR_SPEC, scheduler_spec=SCHEDULER_SPEC,\n",
    "                 comm_rate=COMMISSION, log_hist_freq=None, is_notebook=True)\n",
    "\n",
    "warmup = 30000\n",
    "# warmup = 1000\n",
    "train_n_epochs = int(2 * 1e6)\n",
    "# train_n_epochs = 10\n",
    "cerebro.broker.setcommission(commission=COMMISSION) \n",
    "cerebro.addstrategy(RLStrategy, train_freq=1, debug=False,\n",
    "                    warmup=warmup, agent=agent, train_n_epochs=train_n_epochs, test_n_epochs=30,\n",
    "                    tickers=tickers, keys=['close', 'high', 'low'])\n",
    "strategy = cerebro.run()[0]"
   ]
  },
  {
   "cell_type": "code",
   "execution_count": 26,
   "metadata": {},
   "outputs": [
    {
     "data": {
      "image/png": "[encoded data removed]",
      "text/plain": [
       "<matplotlib.figure.Figure at 0x7f86d22234a8>"
      ]
     },
     "metadata": {},
     "output_type": "display_data"
    }
   ],
   "source": [
    "for ticker in tickers:\n",
    "    value = dfs[ticker]['close'].iloc[30000:]\n",
    "    value /= value.iloc[0]\n",
    "    value.plot()"
   ]
  },
  {
   "cell_type": "code",
   "execution_count": 50,
   "metadata": {},
   "outputs": [],
   "source": [
    "import numpy as np\n",
    "\n",
    "actions = np.abs(np.random.randn(3, 4))"
   ]
  },
  {
   "cell_type": "code",
   "execution_count": 51,
   "metadata": {},
   "outputs": [
    {
     "data": {
      "text/plain": [
       "array([[1.25047601, 1.64430669, 0.47570851, 0.51814082],\n",
       "       [0.09013829, 0.23487125, 0.85675545, 1.42901053],\n",
       "       [0.34147422, 0.43183206, 0.63584823, 0.87221521]])"
      ]
     },
     "execution_count": 51,
     "metadata": {},
     "output_type": "execute_result"
    }
   ],
   "source": [
    "actions"
   ]
  },
  {
   "cell_type": "code",
   "execution_count": 52,
   "metadata": {},
   "outputs": [],
   "source": [
    "actions /= np.sum(actions, axis=1, keepdims=True)"
   ]
  },
  {
   "cell_type": "code",
   "execution_count": 29,
   "metadata": {},
   "outputs": [],
   "source": [
    "x = {'a': [3, 4, 5], 'b': [3, 5]}\n",
    "y = {'a': [3, 5], 'b': [3, 5]}"
   ]
  },
  {
   "cell_type": "code",
   "execution_count": 30,
   "metadata": {},
   "outputs": [
    {
     "data": {
      "text/plain": [
       "False"
      ]
     },
     "execution_count": 30,
     "metadata": {},
     "output_type": "execute_result"
    }
   ],
   "source": [
    "x == y"
   ]
  },
  {
   "cell_type": "code",
   "execution_count": 54,
   "metadata": {},
   "outputs": [
    {
     "data": {
      "text/plain": [
       "array([[0.32157221, 0.42284965, 0.12233313, 0.13324501],\n",
       "       [0.03452548, 0.08996225, 0.32816129, 0.54735098],\n",
       "       [0.14967947, 0.18928631, 0.27871336, 0.38232085]])"
      ]
     },
     "execution_count": 54,
     "metadata": {},
     "output_type": "execute_result"
    }
   ],
   "source": [
    "actions"
   ]
  },
  {
   "cell_type": "code",
   "execution_count": 9,
   "metadata": {},
   "outputs": [
    {
     "data": {
      "text/plain": [
       "array([[-2.67104436, -2.4669553 ,  0.04178035,  0.15638183],\n",
       "       [-0.04133035, -0.01284285,  0.38425892, -0.79729772],\n",
       "       [-0.16437249, -0.06762952,  0.04663498,  0.03819769]])"
      ]
     },
     "execution_count": 9,
     "metadata": {},
     "output_type": "execute_result"
    }
   ],
   "source": [
    "np.random.randn(3, 4) * np.random.randn(3, 1)"
   ]
  },
  {
   "cell_type": "code",
   "execution_count": 10,
   "metadata": {},
   "outputs": [],
   "source": [
    "x = torch.randn(3, 4)"
   ]
  },
  {
   "cell_type": "code",
   "execution_count": 12,
   "metadata": {},
   "outputs": [
    {
     "data": {
      "text/plain": [
       "torch.Size([3, 4, 1])"
      ]
     },
     "execution_count": 12,
     "metadata": {},
     "output_type": "execute_result"
    }
   ],
   "source": [
    "x[:, :, None].shape"
   ]
  },
  {
   "cell_type": "code",
   "execution_count": 21,
   "metadata": {},
   "outputs": [
    {
     "data": {
      "text/plain": [
       "35040"
      ]
     },
     "execution_count": 21,
     "metadata": {},
     "output_type": "execute_result"
    }
   ],
   "source": [
    "48 * 365 * 2"
   ]
  },
  {
   "cell_type": "code",
   "execution_count": null,
   "metadata": {},
   "outputs": [],
   "source": []
  }
 ],
 "metadata": {
  "kernelspec": {
   "display_name": "Python 3",
   "language": "python",
   "name": "python3"
  },
  "language_info": {
   "codemirror_mode": {
    "name": "ipython",
    "version": 3
   },
   "file_extension": ".py",
   "mimetype": "text/x-python",
   "name": "python",
   "nbconvert_exporter": "python",
   "pygments_lexer": "ipython3",
   "version": "3.6.4"
  }
 },
 "nbformat": 4,
 "nbformat_minor": 2
}
