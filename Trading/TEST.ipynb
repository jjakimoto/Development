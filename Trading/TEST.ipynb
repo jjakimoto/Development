{
 "cells": [
  {
   "cell_type": "code",
   "execution_count": 1,
   "metadata": {},
   "outputs": [],
   "source": [
    "import pandas as pd\n",
    "import numpy as np\n",
    "from tqdm import tqdm_notebook\n",
    "\n",
    "symbol = 'MSFT'\n",
    "path = f'../datasets/US_stocks/{symbol}.csv' \n",
    "df = pd.read_csv(path)\n",
    "df_ = df[['Adj. Open', 'Adj. High', 'Adj. Low', 'Adj. Close', 'Adj. Volume']]\n",
    "df_.index = pd.DatetimeIndex(df['Date'])\n",
    "df_.columns = ['Open', f'High', f'Low', f'Close', f'Volume']\n",
    "df = df_.dropna()\n",
    "\n",
    "start = '2010-01-01'\n",
    "end = '2018-01-01'\n",
    "df = df.loc[(df.index >= start) & (df.index <= end)]"
   ]
  },
  {
   "cell_type": "code",
   "execution_count": 2,
   "metadata": {},
   "outputs": [
    {
     "data": {
      "text/plain": [
       "<matplotlib.axes._subplots.AxesSubplot at 0x7f6be48c8518>"
      ]
     },
     "execution_count": 2,
     "metadata": {},
     "output_type": "execute_result"
    },
    {
     "data": {
      "image/png": "[encoded data removed]",
      "text/plain": [
       "<matplotlib.figure.Figure at 0x7f6be4b7fcf8>"
      ]
     },
     "metadata": {},
     "output_type": "display_data"
    }
   ],
   "source": [
    "import matplotlib.pyplot as plt\n",
    "%matplotlib inline\n",
    "\n",
    "df['Close'].plot()"
   ]
  },
  {
   "cell_type": "code",
   "execution_count": 3,
   "metadata": {},
   "outputs": [],
   "source": [
    "import backtrader as bt\n",
    "from datetime import datetime\n",
    "\n",
    "\n",
    "import backtrader as bt\n",
    "\n",
    "from btbot.constants import SELL, BUY, HOLD\n",
    "\n",
    "\n",
    "class CrossOverSider(bt.Indicator):\n",
    "    \"\"\"Cross over to determine the side for metalabeling\"\"\"\n",
    "    lines = ('side',)\n",
    "    params = (\n",
    "        # period for the fast Moving Average\n",
    "        ('fast', 10),\n",
    "        # period for the slow moving average\n",
    "        ('slow', 50),\n",
    "        # moving average to use\n",
    "        ('_movav', bt.indicators.SMA)\n",
    "    )\n",
    "\n",
    "    def __init__(self):\n",
    "        sma_fast = self.p._movav(period=self.p.fast, plot=False, subplot=False)\n",
    "        sma_slow = self.p._movav(period=self.p.slow, plot=False, subplot=False)\n",
    "\n",
    "        self.crossover = bt.indicators.CrossOver(sma_fast, sma_slow, plot=False, subplot=False)\n",
    "\n",
    "    def next(self):\n",
    "        if self.crossover[0] < 0:\n",
    "            self.lines.side[0] = SELL\n",
    "        elif self.crossover[0] > 0:\n",
    "            self.lines.side[0] = BUY\n",
    "        else:\n",
    "            self.lines.side[0] = HOLD"
   ]
  },
  {
   "cell_type": "code",
   "execution_count": 5,
   "metadata": {},
   "outputs": [],
   "source": [
    "from btbot.utils import print_trade_analysis\n",
    "from btbot.strategies.constants import SELL, BUY, HOLD\n",
    "from btbot.labelers import BarrierLabeler\n",
    "from btbot.samplers import CUSUMFilter, BasicSampler\n",
    "from btbot.indicators import EMAVolatility\n",
    "from btbot.siders import CrossOverSider\n",
    "from btbot.features import PriceVolumeFeature\n",
    "from collections import deque\n",
    "import xgboost as xgb\n",
    "from sklearn.preprocessing import StandardScaler\n",
    "import numpy as np\n",
    "from abc import abstractmethod\n",
    "\n",
    "from backtrader.analyzers import SharpeRatio_A, DrawDown, TradeAnalyzer, TimeFrame, Returns\n",
    "\n",
    "\n",
    "model_params = {'booster': 'dart',\n",
    "         'max_depth': 5, 'learning_rate': 0.1,\n",
    "         'objective': 'multi:softmax', 'num_class': 3, \n",
    "         'sample_type': 'uniform',\n",
    "         'rate_drop': 0.1,\n",
    "         'skip_drop': 0.5,\n",
    "         'silent': True}\n",
    "\n",
    "SELL_TYPE = 'SELL'\n",
    "BUY_TYPE = 'BUY'\n",
    "\n",
    "\n",
    "class BaseStrategy(bt.Strategy):\n",
    "    def __init__(self):\n",
    "        self.count = 0 \n",
    "        self.train_count = 0\n",
    "        self.model = None\n",
    "        \n",
    "    @abstractmethod\n",
    "    def observe(self):\n",
    "        \"\"\"Store data\"\"\"\n",
    "        raise NotImplementedError()\n",
    "        \n",
    "    @abstractmethod\n",
    "    def process(self):\n",
    "        raise NotImplementedError()\n",
    "        \n",
    "    @abstractmethod\n",
    "    def fit(self):\n",
    "        raise NotImplementedError()\n",
    "        \n",
    "    @abstractmethod\n",
    "    def predict(self, model):\n",
    "        raise NotImplementedError()\n",
    "        \n",
    "    def execute(self, orders):\n",
    "        print('orders', orders)\n",
    "        for order in orders:\n",
    "            pos = self.getpositionbyname('stock').size\n",
    "            print('pos', pos)\n",
    "            if order['type'] == SELL_TYPE:\n",
    "                if pos >= 0:\n",
    "                    size = order['size'] + abs(pos)\n",
    "                    self.sell(data=self.stock, size=size)\n",
    "            elif order['type'] == BUY_TYPE:\n",
    "                if pos <= 0:\n",
    "                    size = order['size'] + abs(pos)\n",
    "                    self.buy(data=self.stock, size=size)\n",
    "        \n",
    "    @property\n",
    "    def warmup(self):\n",
    "        if self.count < self.p.warmup:\n",
    "            return True\n",
    "        else:\n",
    "            return False\n",
    "    \n",
    "    @property\n",
    "    def is_metalabeling(self):\n",
    "        if self.sider is None:\n",
    "            return False\n",
    "        else:\n",
    "            return True"
   ]
  },
  {
   "cell_type": "code",
   "execution_count": 6,
   "metadata": {},
   "outputs": [],
   "source": [
    "SELL = -1\n",
    "HOLD = 0\n",
    "BUY = 1\n",
    "\n",
    "\n",
    "class PTLSStrategy(bt.Strategy):\n",
    "    params = (\n",
    "        ('warmup', 200),\n",
    "        ('train_freq', 1),\n",
    "        ('size', 50),\n",
    "        ('debug', False),\n",
    "        ('min_data', 5),\n",
    "        ('max_data', 100000),\n",
    "        ('timelag', 10),\n",
    "        ('num_round', 50),\n",
    "        ('sider', None),\n",
    "        ('sider_params', dict()),\n",
    "        ('sampler', BasicSampler),\n",
    "        ('sampler_params', dict()),\n",
    "        ('labeler', BarrierLabeler),\n",
    "        ('labeler_params', dict(period=20, devfactor=1, forward=5)))\n",
    "\n",
    "    def __init__(self):\n",
    "        super(MLStrategy, self).__init__()\n",
    "        self.stock = self.getdatabyname('stock')\n",
    "        self.sampler = self.p.sampler(**self.p.sampler_params)\n",
    "        if self.p.sider:\n",
    "            self.p.labeler_params['sider'] = self.p.sider\n",
    "            self.p.labeler_params['sider_params'] = self.p.sider_params\n",
    "            sider = self.p.sider(**self.p.sider_params)\n",
    "        else:\n",
    "            self.p.labeler_params['sider'] = None\n",
    "        self.labeler = self.p.labeler(**self.p.labeler_params)\n",
    "        # Sider\n",
    "        if self.p.sider is None:\n",
    "            self.sider = None\n",
    "        else:\n",
    "            self.sider = self.p.sider(**self.p.sider_params)\n",
    "        self.feature = PriceVolumeFeature(self.stock)\n",
    "        \n",
    "    def next(self):\n",
    "        pass\n",
    "    "
   ]
  },
  {
   "cell_type": "code",
   "execution_count": 7,
   "metadata": {},
   "outputs": [],
   "source": [
    "from btbot.cerebro import Cerebro\n",
    "\n",
    "\n",
    "def get_cerebro(startcash=10000):\n",
    "    cerebro = Cerebro()\n",
    "    cerebro.broker.setcash(startcash)\n",
    "    # cerebro.addanalyzer(TradeAnalyzer, _name='trade')\n",
    "    # cerebro.addanalyzer(DrawDown, _name='drawdown')\n",
    "    # cerebro.addanalyzer(SharpeRatio_A, _name='sharpe', timeframe=TimeFrame.Days)\n",
    "    # cerebro.addanalyzer(Returns, _name='returns', timeframe=TimeFrame.Days)\n",
    "    # cerebro.addobserver(bt.observers.DrawDown)\n",
    "    return cerebro"
   ]
  },
  {
   "cell_type": "code",
   "execution_count": 10,
   "metadata": {
    "scrolled": true
   },
   "outputs": [
    {
     "ename": "NameError",
     "evalue": "name 'MLStrategy' is not defined",
     "output_type": "error",
     "traceback": [
      "\u001b[0;31m---------------------------------------------------------------------------\u001b[0m",
      "\u001b[0;31mNameError\u001b[0m                                 Traceback (most recent call last)",
      "\u001b[0;32m<timed exec>\u001b[0m in \u001b[0;36m<module>\u001b[0;34m()\u001b[0m\n",
      "\u001b[0;32m~/anaconda3/lib/python3.6/site-packages/backtrader/cerebro.py\u001b[0m in \u001b[0;36mrun\u001b[0;34m(self, **kwargs)\u001b[0m\n\u001b[1;32m   1125\u001b[0m             \u001b[0;31m# let's skip process \"spawning\"\u001b[0m\u001b[0;34m\u001b[0m\u001b[0;34m\u001b[0m\u001b[0m\n\u001b[1;32m   1126\u001b[0m             \u001b[0;32mfor\u001b[0m \u001b[0miterstrat\u001b[0m \u001b[0;32min\u001b[0m \u001b[0miterstrats\u001b[0m\u001b[0;34m:\u001b[0m\u001b[0;34m\u001b[0m\u001b[0m\n\u001b[0;32m-> 1127\u001b[0;31m                 \u001b[0mrunstrat\u001b[0m \u001b[0;34m=\u001b[0m \u001b[0mself\u001b[0m\u001b[0;34m.\u001b[0m\u001b[0mrunstrategies\u001b[0m\u001b[0;34m(\u001b[0m\u001b[0miterstrat\u001b[0m\u001b[0;34m)\u001b[0m\u001b[0;34m\u001b[0m\u001b[0m\n\u001b[0m\u001b[1;32m   1128\u001b[0m                 \u001b[0mself\u001b[0m\u001b[0;34m.\u001b[0m\u001b[0mrunstrats\u001b[0m\u001b[0;34m.\u001b[0m\u001b[0mappend\u001b[0m\u001b[0;34m(\u001b[0m\u001b[0mrunstrat\u001b[0m\u001b[0;34m)\u001b[0m\u001b[0;34m\u001b[0m\u001b[0m\n\u001b[1;32m   1129\u001b[0m                 \u001b[0;32mif\u001b[0m \u001b[0mself\u001b[0m\u001b[0;34m.\u001b[0m\u001b[0m_dooptimize\u001b[0m\u001b[0;34m:\u001b[0m\u001b[0;34m\u001b[0m\u001b[0m\n",
      "\u001b[0;32m~/anaconda3/lib/python3.6/site-packages/backtrader/cerebro.py\u001b[0m in \u001b[0;36mrunstrategies\u001b[0;34m(self, iterstrat, predata)\u001b[0m\n\u001b[1;32m   1215\u001b[0m             \u001b[0msargs\u001b[0m \u001b[0;34m=\u001b[0m \u001b[0mself\u001b[0m\u001b[0;34m.\u001b[0m\u001b[0mdatas\u001b[0m \u001b[0;34m+\u001b[0m \u001b[0mlist\u001b[0m\u001b[0;34m(\u001b[0m\u001b[0msargs\u001b[0m\u001b[0;34m)\u001b[0m\u001b[0;34m\u001b[0m\u001b[0m\n\u001b[1;32m   1216\u001b[0m             \u001b[0;32mtry\u001b[0m\u001b[0;34m:\u001b[0m\u001b[0;34m\u001b[0m\u001b[0m\n\u001b[0;32m-> 1217\u001b[0;31m                 \u001b[0mstrat\u001b[0m \u001b[0;34m=\u001b[0m \u001b[0mstratcls\u001b[0m\u001b[0;34m(\u001b[0m\u001b[0;34m*\u001b[0m\u001b[0msargs\u001b[0m\u001b[0;34m,\u001b[0m \u001b[0;34m**\u001b[0m\u001b[0mskwargs\u001b[0m\u001b[0;34m)\u001b[0m\u001b[0;34m\u001b[0m\u001b[0m\n\u001b[0m\u001b[1;32m   1218\u001b[0m             \u001b[0;32mexcept\u001b[0m \u001b[0mbt\u001b[0m\u001b[0;34m.\u001b[0m\u001b[0merrors\u001b[0m\u001b[0;34m.\u001b[0m\u001b[0mStrategySkipError\u001b[0m\u001b[0;34m:\u001b[0m\u001b[0;34m\u001b[0m\u001b[0m\n\u001b[1;32m   1219\u001b[0m                 \u001b[0;32mcontinue\u001b[0m  \u001b[0;31m# do not add strategy to the mix\u001b[0m\u001b[0;34m\u001b[0m\u001b[0m\n",
      "\u001b[0;32m~/anaconda3/lib/python3.6/site-packages/backtrader/metabase.py\u001b[0m in \u001b[0;36m__call__\u001b[0;34m(cls, *args, **kwargs)\u001b[0m\n\u001b[1;32m     86\u001b[0m         \u001b[0m_obj\u001b[0m\u001b[0;34m,\u001b[0m \u001b[0margs\u001b[0m\u001b[0;34m,\u001b[0m \u001b[0mkwargs\u001b[0m \u001b[0;34m=\u001b[0m \u001b[0mcls\u001b[0m\u001b[0;34m.\u001b[0m\u001b[0mdonew\u001b[0m\u001b[0;34m(\u001b[0m\u001b[0;34m*\u001b[0m\u001b[0margs\u001b[0m\u001b[0;34m,\u001b[0m \u001b[0;34m**\u001b[0m\u001b[0mkwargs\u001b[0m\u001b[0;34m)\u001b[0m\u001b[0;34m\u001b[0m\u001b[0m\n\u001b[1;32m     87\u001b[0m         \u001b[0m_obj\u001b[0m\u001b[0;34m,\u001b[0m \u001b[0margs\u001b[0m\u001b[0;34m,\u001b[0m \u001b[0mkwargs\u001b[0m \u001b[0;34m=\u001b[0m \u001b[0mcls\u001b[0m\u001b[0;34m.\u001b[0m\u001b[0mdopreinit\u001b[0m\u001b[0;34m(\u001b[0m\u001b[0m_obj\u001b[0m\u001b[0;34m,\u001b[0m \u001b[0;34m*\u001b[0m\u001b[0margs\u001b[0m\u001b[0;34m,\u001b[0m \u001b[0;34m**\u001b[0m\u001b[0mkwargs\u001b[0m\u001b[0;34m)\u001b[0m\u001b[0;34m\u001b[0m\u001b[0m\n\u001b[0;32m---> 88\u001b[0;31m         \u001b[0m_obj\u001b[0m\u001b[0;34m,\u001b[0m \u001b[0margs\u001b[0m\u001b[0;34m,\u001b[0m \u001b[0mkwargs\u001b[0m \u001b[0;34m=\u001b[0m \u001b[0mcls\u001b[0m\u001b[0;34m.\u001b[0m\u001b[0mdoinit\u001b[0m\u001b[0;34m(\u001b[0m\u001b[0m_obj\u001b[0m\u001b[0;34m,\u001b[0m \u001b[0;34m*\u001b[0m\u001b[0margs\u001b[0m\u001b[0;34m,\u001b[0m \u001b[0;34m**\u001b[0m\u001b[0mkwargs\u001b[0m\u001b[0;34m)\u001b[0m\u001b[0;34m\u001b[0m\u001b[0m\n\u001b[0m\u001b[1;32m     89\u001b[0m         \u001b[0m_obj\u001b[0m\u001b[0;34m,\u001b[0m \u001b[0margs\u001b[0m\u001b[0;34m,\u001b[0m \u001b[0mkwargs\u001b[0m \u001b[0;34m=\u001b[0m \u001b[0mcls\u001b[0m\u001b[0;34m.\u001b[0m\u001b[0mdopostinit\u001b[0m\u001b[0;34m(\u001b[0m\u001b[0m_obj\u001b[0m\u001b[0;34m,\u001b[0m \u001b[0;34m*\u001b[0m\u001b[0margs\u001b[0m\u001b[0;34m,\u001b[0m \u001b[0;34m**\u001b[0m\u001b[0mkwargs\u001b[0m\u001b[0;34m)\u001b[0m\u001b[0;34m\u001b[0m\u001b[0m\n\u001b[1;32m     90\u001b[0m         \u001b[0;32mreturn\u001b[0m \u001b[0m_obj\u001b[0m\u001b[0;34m\u001b[0m\u001b[0m\n",
      "\u001b[0;32m~/anaconda3/lib/python3.6/site-packages/backtrader/metabase.py\u001b[0m in \u001b[0;36mdoinit\u001b[0;34m(cls, _obj, *args, **kwargs)\u001b[0m\n\u001b[1;32m     76\u001b[0m \u001b[0;34m\u001b[0m\u001b[0m\n\u001b[1;32m     77\u001b[0m     \u001b[0;32mdef\u001b[0m \u001b[0mdoinit\u001b[0m\u001b[0;34m(\u001b[0m\u001b[0mcls\u001b[0m\u001b[0;34m,\u001b[0m \u001b[0m_obj\u001b[0m\u001b[0;34m,\u001b[0m \u001b[0;34m*\u001b[0m\u001b[0margs\u001b[0m\u001b[0;34m,\u001b[0m \u001b[0;34m**\u001b[0m\u001b[0mkwargs\u001b[0m\u001b[0;34m)\u001b[0m\u001b[0;34m:\u001b[0m\u001b[0;34m\u001b[0m\u001b[0m\n\u001b[0;32m---> 78\u001b[0;31m         \u001b[0m_obj\u001b[0m\u001b[0;34m.\u001b[0m\u001b[0m__init__\u001b[0m\u001b[0;34m(\u001b[0m\u001b[0;34m*\u001b[0m\u001b[0margs\u001b[0m\u001b[0;34m,\u001b[0m \u001b[0;34m**\u001b[0m\u001b[0mkwargs\u001b[0m\u001b[0;34m)\u001b[0m\u001b[0;34m\u001b[0m\u001b[0m\n\u001b[0m\u001b[1;32m     79\u001b[0m         \u001b[0;32mreturn\u001b[0m \u001b[0m_obj\u001b[0m\u001b[0;34m,\u001b[0m \u001b[0margs\u001b[0m\u001b[0;34m,\u001b[0m \u001b[0mkwargs\u001b[0m\u001b[0;34m\u001b[0m\u001b[0m\n\u001b[1;32m     80\u001b[0m \u001b[0;34m\u001b[0m\u001b[0m\n",
      "\u001b[0;32m<ipython-input-6-ac15d2316e2c>\u001b[0m in \u001b[0;36m__init__\u001b[0;34m(self)\u001b[0m\n\u001b[1;32m     22\u001b[0m \u001b[0;34m\u001b[0m\u001b[0m\n\u001b[1;32m     23\u001b[0m     \u001b[0;32mdef\u001b[0m \u001b[0m__init__\u001b[0m\u001b[0;34m(\u001b[0m\u001b[0mself\u001b[0m\u001b[0;34m)\u001b[0m\u001b[0;34m:\u001b[0m\u001b[0;34m\u001b[0m\u001b[0m\n\u001b[0;32m---> 24\u001b[0;31m         \u001b[0msuper\u001b[0m\u001b[0;34m(\u001b[0m\u001b[0mMLStrategy\u001b[0m\u001b[0;34m,\u001b[0m \u001b[0mself\u001b[0m\u001b[0;34m)\u001b[0m\u001b[0;34m.\u001b[0m\u001b[0m__init__\u001b[0m\u001b[0;34m(\u001b[0m\u001b[0;34m)\u001b[0m\u001b[0;34m\u001b[0m\u001b[0m\n\u001b[0m\u001b[1;32m     25\u001b[0m         \u001b[0mself\u001b[0m\u001b[0;34m.\u001b[0m\u001b[0mstock\u001b[0m \u001b[0;34m=\u001b[0m \u001b[0mself\u001b[0m\u001b[0;34m.\u001b[0m\u001b[0mgetdatabyname\u001b[0m\u001b[0;34m(\u001b[0m\u001b[0;34m'stock'\u001b[0m\u001b[0;34m)\u001b[0m\u001b[0;34m\u001b[0m\u001b[0m\n\u001b[1;32m     26\u001b[0m         \u001b[0mself\u001b[0m\u001b[0;34m.\u001b[0m\u001b[0msampler\u001b[0m \u001b[0;34m=\u001b[0m \u001b[0mself\u001b[0m\u001b[0;34m.\u001b[0m\u001b[0mp\u001b[0m\u001b[0;34m.\u001b[0m\u001b[0msampler\u001b[0m\u001b[0;34m(\u001b[0m\u001b[0;34m**\u001b[0m\u001b[0mself\u001b[0m\u001b[0;34m.\u001b[0m\u001b[0mp\u001b[0m\u001b[0;34m.\u001b[0m\u001b[0msampler_params\u001b[0m\u001b[0;34m)\u001b[0m\u001b[0;34m\u001b[0m\u001b[0m\n",
      "\u001b[0;31mNameError\u001b[0m: name 'MLStrategy' is not defined"
     ]
    }
   ],
   "source": [
    "%%time\n",
    "\n",
    "cerebro = get_cerebro()\n",
    "\n",
    "stock = bt.feeds.PandasData(dataname=df, close=0, volume=1)\n",
    "cerebro.adddata(stock, name='stock')\n",
    "#  cerebro.adddata(macro, name='macro')\n",
    "# sampler = CUSUMFilter\n",
    "# sampler_params = dict(period=20, devfactor=1)\n",
    "# sider = CrossOverSider\n",
    "sider = None\n",
    "sider_params = dict(slow=30, fast=10)\n",
    "labeler = BarrierLabeler\n",
    "labeler_params = dict(period=20, devfactor=1.0, horizon=5)\n",
    "cerebro.addstrategy(PTLSStrategy, sider=sider, sider_params=sider_params, size=100,\n",
    "                    labeler=labeler, labeler_params=labeler_params)\n",
    "strategy = cerebro.run()[0]"
   ]
  },
  {
   "cell_type": "code",
   "execution_count": 147,
   "metadata": {},
   "outputs": [
    {
     "ename": "UnboundLocalError",
     "evalue": "local variable 'fig' referenced before assignment",
     "output_type": "error",
     "traceback": [
      "\u001b[0;31m---------------------------------------------------------------------------\u001b[0m",
      "\u001b[0;31mUnboundLocalError\u001b[0m                         Traceback (most recent call last)",
      "\u001b[0;32m<ipython-input-147-b0ebeba5517a>\u001b[0m in \u001b[0;36m<module>\u001b[0;34m()\u001b[0m\n\u001b[0;32m----> 1\u001b[0;31m \u001b[0mcerebro\u001b[0m\u001b[0;34m.\u001b[0m\u001b[0mplot\u001b[0m\u001b[0;34m(\u001b[0m\u001b[0;34m)\u001b[0m\u001b[0;34m\u001b[0m\u001b[0m\n\u001b[0m",
      "\u001b[0;32m~/anaconda3/lib/python3.6/site-packages/btbot-0.1-py3.6.egg/btbot/cerebro.py\u001b[0m in \u001b[0;36mplot\u001b[0;34m(self, plotter, numfigs, iplot, start, end, width, height, dpi, tight, use, path, **kwargs)\u001b[0m\n\u001b[1;32m     64\u001b[0m             \u001b[0mfig\u001b[0m \u001b[0;34m=\u001b[0m \u001b[0mplt\u001b[0m\u001b[0;34m.\u001b[0m\u001b[0mgcf\u001b[0m\u001b[0;34m(\u001b[0m\u001b[0;34m)\u001b[0m\u001b[0;34m\u001b[0m\u001b[0m\n\u001b[1;32m     65\u001b[0m             \u001b[0mplotter\u001b[0m\u001b[0;34m.\u001b[0m\u001b[0mshow\u001b[0m\u001b[0;34m(\u001b[0m\u001b[0;34m)\u001b[0m\u001b[0;34m\u001b[0m\u001b[0m\n\u001b[0;32m---> 66\u001b[0;31m         \u001b[0mfig\u001b[0m\u001b[0;34m.\u001b[0m\u001b[0mset_size_inches\u001b[0m\u001b[0;34m(\u001b[0m\u001b[0mwidth\u001b[0m\u001b[0;34m,\u001b[0m \u001b[0mheight\u001b[0m\u001b[0;34m)\u001b[0m\u001b[0;34m\u001b[0m\u001b[0m\n\u001b[0m\u001b[1;32m     67\u001b[0m         \u001b[0;32mif\u001b[0m \u001b[0mpath\u001b[0m\u001b[0;34m:\u001b[0m\u001b[0;34m\u001b[0m\u001b[0m\n\u001b[1;32m     68\u001b[0m             \u001b[0mfig\u001b[0m\u001b[0;34m.\u001b[0m\u001b[0msavefig\u001b[0m\u001b[0;34m(\u001b[0m\u001b[0mpath\u001b[0m\u001b[0;34m,\u001b[0m \u001b[0mdpi\u001b[0m\u001b[0;34m=\u001b[0m\u001b[0mdpi\u001b[0m\u001b[0;34m)\u001b[0m\u001b[0;34m\u001b[0m\u001b[0m\n",
      "\u001b[0;31mUnboundLocalError\u001b[0m: local variable 'fig' referenced before assignment"
     ]
    }
   ],
   "source": [
    "cerebro.plot()"
   ]
  },
  {
   "cell_type": "code",
   "execution_count": null,
   "metadata": {},
   "outputs": [],
   "source": []
  },
  {
   "cell_type": "code",
   "execution_count": 33,
   "metadata": {},
   "outputs": [],
   "source": []
  },
  {
   "cell_type": "code",
   "execution_count": 15,
   "metadata": {},
   "outputs": [],
   "source": [
    "close = df['Close']"
   ]
  },
  {
   "cell_type": "code",
   "execution_count": 76,
   "metadata": {},
   "outputs": [
    {
     "data": {
      "text/plain": [
       "Timestamp('2017-12-28 00:00:00')"
      ]
     },
     "execution_count": 76,
     "metadata": {},
     "output_type": "execute_result"
    }
   ],
   "source": [
    "max([close.index[-5], close.index[-12], close.index[-2]])"
   ]
  },
  {
   "cell_type": "code",
   "execution_count": 16,
   "metadata": {},
   "outputs": [],
   "source": [
    "# close = pd.Series(close.values)\n",
    "vol = get_daily_vol(close)"
   ]
  },
  {
   "cell_type": "code",
   "execution_count": 17,
   "metadata": {},
   "outputs": [
    {
     "data": {
      "text/plain": [
       "(1590,)"
      ]
     },
     "execution_count": 17,
     "metadata": {},
     "output_type": "execute_result"
    }
   ],
   "source": [
    "vol.shape"
   ]
  },
  {
   "cell_type": "code",
   "execution_count": 18,
   "metadata": {},
   "outputs": [
    {
     "data": {
      "text/plain": [
       "(2012,)"
      ]
     },
     "execution_count": 18,
     "metadata": {},
     "output_type": "execute_result"
    }
   ],
   "source": [
    "\n",
    "close.shape"
   ]
  },
  {
   "cell_type": "code",
   "execution_count": 19,
   "metadata": {},
   "outputs": [
    {
     "data": {
      "text/plain": [
       "Date\n",
       "2010-01-05         NaN\n",
       "2010-01-06    0.004568\n",
       "2010-01-07    0.005361\n",
       "2010-01-11    0.005695\n",
       "2010-01-12    0.004918\n",
       "2010-01-13    0.008141\n",
       "2010-01-14    0.011997\n",
       "2010-01-19    0.011463\n",
       "2010-01-20    0.012188\n",
       "2010-01-21    0.012766\n",
       "2010-01-25    0.013042\n",
       "2010-01-26    0.012604\n",
       "2010-01-27    0.012171\n",
       "2010-01-28    0.012558\n",
       "2010-02-01    0.012349\n",
       "2010-02-02    0.011892\n",
       "2010-02-03    0.011593\n",
       "2010-02-04    0.013156\n",
       "2010-02-08    0.012894\n",
       "2010-02-09    0.012891\n",
       "2010-02-10    0.012501\n",
       "2010-02-11    0.012230\n",
       "2010-02-16    0.012850\n",
       "2010-02-17    0.012660\n",
       "2010-02-18    0.012672\n",
       "2010-02-22    0.012358\n",
       "2010-02-23    0.012460\n",
       "2010-02-24    0.012371\n",
       "2010-02-25    0.012086\n",
       "2010-03-01    0.012065\n",
       "                ...   \n",
       "2017-11-01    0.007681\n",
       "2017-11-02    0.007726\n",
       "2017-11-06    0.007661\n",
       "2017-11-09    0.007597\n",
       "2017-11-13    0.007522\n",
       "2017-11-14    0.007447\n",
       "2017-11-15    0.007472\n",
       "2017-11-16    0.007402\n",
       "2017-11-20    0.007330\n",
       "2017-11-21    0.007504\n",
       "2017-11-24    0.007430\n",
       "2017-11-27    0.007408\n",
       "2017-11-28    0.007490\n",
       "2017-11-29    0.007904\n",
       "2017-11-30    0.007925\n",
       "2017-12-04    0.009555\n",
       "2017-12-05    0.009495\n",
       "2017-12-06    0.009604\n",
       "2017-12-07    0.009528\n",
       "2017-12-11    0.009581\n",
       "2017-12-12    0.009496\n",
       "2017-12-13    0.009416\n",
       "2017-12-14    0.009401\n",
       "2017-12-18    0.009348\n",
       "2017-12-19    0.009307\n",
       "2017-12-20    0.009233\n",
       "2017-12-21    0.009141\n",
       "2017-12-26    0.009054\n",
       "2017-12-27    0.008975\n",
       "2017-12-28    0.008886\n",
       "Name: Close, Length: 1590, dtype: float64"
      ]
     },
     "execution_count": 19,
     "metadata": {},
     "output_type": "execute_result"
    }
   ],
   "source": [
    "vol"
   ]
  },
  {
   "cell_type": "code",
   "execution_count": 20,
   "metadata": {},
   "outputs": [
    {
     "data": {
      "text/plain": [
       "Date\n",
       "2010-01-04    25.153472\n",
       "2010-01-05    25.161599\n",
       "2010-01-06    25.007183\n",
       "2010-01-07    24.748741\n",
       "2010-01-08    24.917785\n",
       "2010-01-11    24.600827\n",
       "2010-01-12    24.438284\n",
       "2010-01-13    24.665844\n",
       "2010-01-14    25.161599\n",
       "2010-01-15    25.080328\n",
       "2010-01-19    25.275379\n",
       "2010-01-20    24.856832\n",
       "2010-01-21    24.389521\n",
       "2010-01-22    23.536173\n",
       "2010-01-25    23.828749\n",
       "2010-01-26    23.975038\n",
       "2010-01-27    24.113199\n",
       "2010-01-28    23.698715\n",
       "2010-01-29    22.902256\n",
       "2010-02-01    23.089180\n",
       "2010-02-02    23.129816\n",
       "2010-02-03    23.267977\n",
       "2010-02-04    22.625934\n",
       "2010-02-05    22.772222\n",
       "2010-02-08    22.528408\n",
       "2010-02-09    22.764095\n",
       "2010-02-10    22.747841\n",
       "2010-02-11    22.853494\n",
       "2010-02-12    22.699078\n",
       "2010-02-16    23.146070\n",
       "                ...    \n",
       "2017-11-16    83.200000\n",
       "2017-11-17    82.400000\n",
       "2017-11-20    82.530000\n",
       "2017-11-21    83.720000\n",
       "2017-11-22    83.110000\n",
       "2017-11-24    83.260000\n",
       "2017-11-27    83.870000\n",
       "2017-11-28    84.880000\n",
       "2017-11-29    83.340000\n",
       "2017-11-30    84.170000\n",
       "2017-12-01    84.260000\n",
       "2017-12-04    81.080000\n",
       "2017-12-05    81.590000\n",
       "2017-12-06    82.780000\n",
       "2017-12-07    82.490000\n",
       "2017-12-08    84.160000\n",
       "2017-12-11    85.230000\n",
       "2017-12-12    85.580000\n",
       "2017-12-13    85.350000\n",
       "2017-12-14    84.690000\n",
       "2017-12-15    86.850000\n",
       "2017-12-18    86.380000\n",
       "2017-12-19    85.830000\n",
       "2017-12-20    85.520000\n",
       "2017-12-21    85.500000\n",
       "2017-12-22    85.510000\n",
       "2017-12-26    85.400000\n",
       "2017-12-27    85.710000\n",
       "2017-12-28    85.720000\n",
       "2017-12-29    85.540000\n",
       "Name: Close, Length: 2012, dtype: float64"
      ]
     },
     "execution_count": 20,
     "metadata": {},
     "output_type": "execute_result"
    }
   ],
   "source": [
    "close"
   ]
  },
  {
   "cell_type": "code",
   "execution_count": null,
   "metadata": {},
   "outputs": [],
   "source": []
  }
 ],
 "metadata": {
  "kernelspec": {
   "display_name": "Python 3",
   "language": "python",
   "name": "python3"
  },
  "language_info": {
   "codemirror_mode": {
    "name": "ipython",
    "version": 3
   },
   "file_extension": ".py",
   "mimetype": "text/x-python",
   "name": "python",
   "nbconvert_exporter": "python",
   "pygments_lexer": "ipython3",
   "version": "3.6.4"
  }
 },
 "nbformat": 4,
 "nbformat_minor": 2
}
