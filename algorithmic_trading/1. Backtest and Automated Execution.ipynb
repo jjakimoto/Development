{
 "cells": [
  {
   "cell_type": "markdown",
   "metadata": {},
   "source": [
    "# Common Pitfalls\n",
    "* Look-ahead Bias: Bias introduced by using future data.\n",
    "* Data-snooping Bias: Bias introduced by tweaking model with too many free parameters.Tweaking parameters while looking at out-of-sample data turns out-of-sample data into in-sample data.\n",
    "* Simple model mediate data snooping and not susceptible to outliers. \n",
    "* Linear model is able to approximate nonlinear functions in most cases. \n",
    "* Stock Splits and Dividend Adjustments\n",
    "    - Stock prices split into 1 / N\n",
    "    - Stock prices go down because of dividend\n",
    "    - Get their information from earning.com or csidata.com\n",
    "* Survivorship Bias in Stock Database\n",
    "    - Hold data of only stocks surviving so far, which inflates the results\n",
    "    - Inflate results of long-only mean-reverting strategy: first busy low and then sell high\n",
    "    - Deflate reulsts of short-only mean-reverting strategy: first sell high and buy low\n",
    "    - Less dangerous to momentum strategy\n",
    "    - Survivorship bais free vendors: csifdata.com, kibot.com, tickdata.com, and crsp.com\n",
    "* Exchange: Backtest has to be in the same exchange\n",
    "* Constraints\n",
    "    - Shorting a stock under some short-sale constraints inflates results, e.g., it is hard to borrow stocks after Lehman Brothers  collapsed.\n",
    "    - Small cap stocks are susceptible to this effect.\n",
    "    - Other short-sale constraints, e.g., uptick rule\n",
    "    - Future Continuous Constraints\n",
    "    \n",
    " \n",
    "# Statistical Significance of Backtesting: Hypothesis Testing\n",
    "* Process:\n",
    "    1. Set hypothesis (expected return of the algorithm is positive) and null hypothesis (expected return of the algorithm is equal to or lower than 0).\n",
    "    2. Consider the probability mass of the null hypothesis over region larger than sample mean. This probability mass is called p-value. \n",
    "    3. If p-value is smaller than a threshold determined in advance (e.g., 0.05), reject hypothesis. Otherwise, accept it. \n",
    "* Follow the certain distribution like t-test\n",
    "* Monte Carlo\n",
    "    - With different entry points and the same length\n",
    "    - With the same first momentum and the same length\n",
    "* Flaw of Hypothesis Test\n",
    "    - Null hypothesis is not unique and different null hypothesis gives different results\n",
    "    - We want to know $P(H_0 | \\mathcal{D})$. But we are given  $P(\\mathcal{D} | H_0)$."
   ]
  },
  {
   "cell_type": "markdown",
   "metadata": {
    "collapsed": true
   },
   "source": [
    "<!--- Status: published --->"
   ]
  },
  {
   "cell_type": "code",
   "execution_count": null,
   "metadata": {
    "collapsed": true
   },
   "outputs": [],
   "source": []
  }
 ],
 "metadata": {
  "kernelspec": {
   "display_name": "Python 3",
   "language": "python",
   "name": "python3"
  },
  "language_info": {
   "codemirror_mode": {
    "name": "ipython",
    "version": 3
   },
   "file_extension": ".py",
   "mimetype": "text/x-python",
   "name": "python",
   "nbconvert_exporter": "python",
   "pygments_lexer": "ipython3",
   "version": "3.6.1"
  }
 },
 "nbformat": 4,
 "nbformat_minor": 2
}
