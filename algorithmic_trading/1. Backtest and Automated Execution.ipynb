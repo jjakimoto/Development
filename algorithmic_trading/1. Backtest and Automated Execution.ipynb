{
 "cells": [
  {
   "cell_type": "markdown",
   "metadata": {},
   "source": [
    "# Common Pitfalls\n",
    "* Look-ahead Bias: Bias introduced by using future data.\n",
    "* Data-snooping Bias: Bias introudced by tweaking model with too many free parameters.Tweaking parameters while looking at out-of-sample data turns out-of-sample data into in-sample data.\n",
    "* Simple model mediate data snooping and not suceptible to outliers. \n",
    "* Linear model is able to approximate nonlinear functions in most cases. \n",
    "\n",
    "# Stock Splits and Dividend Adjustments\n",
    "* Stock prices splist into 1 / N\n",
    "* Stock prices go down because of dividend\n",
    "* Get their information from earning.com or csidata.com\n",
    "\n",
    "# Survivorship Bias in Stock Database\n",
    "* Hold data of only stocks surviving so far, which inflates the results\n",
    "* Inflate results of long-only mean-reverting strategy: first busy low and then sell high\n",
    "* Deflate reulsts of short-only mean-reverting strategy: first sell high and buy low\n",
    "* Less dangerous to momentum strategy\n",
    "* Survivorship bais free vendors: csifdata.com, kibot.com, tickdata.com, and crsp.com\n",
    "* \n"
   ]
  },
  {
   "cell_type": "code",
   "execution_count": null,
   "metadata": {
    "collapsed": true
   },
   "outputs": [],
   "source": []
  }
 ],
 "metadata": {
  "kernelspec": {
   "display_name": "Python 3",
   "language": "python",
   "name": "python3"
  },
  "language_info": {
   "codemirror_mode": {
    "name": "ipython",
    "version": 3
   },
   "file_extension": ".py",
   "mimetype": "text/x-python",
   "name": "python",
   "nbconvert_exporter": "python",
   "pygments_lexer": "ipython3",
   "version": "3.6.3"
  }
 },
 "nbformat": 4,
 "nbformat_minor": 2
}
