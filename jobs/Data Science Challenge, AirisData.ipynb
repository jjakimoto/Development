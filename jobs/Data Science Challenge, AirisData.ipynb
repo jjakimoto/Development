{
 "cells": [
  {
   "cell_type": "markdown",
   "metadata": {},
   "source": [
    "In this data science challenge, we are going to work on the fllowing taks:\n",
    "\n",
    "1. Predict her country based on the numeric IP address. \n",
    "\n",
    "2. Predict whether an activity is fraudulent or not. \n",
    "\n",
    "3. Explain a used model to the client\n",
    "\n",
    "(More detail is as in the email)\n",
    "\n",
    "For this task we are assigned two datasets: Fraud_data and IPAddress_to_County.\n",
    "\n",
    "Let's see how they look like."
   ]
  },
  {
   "cell_type": "code",
   "execution_count": 1,
   "metadata": {
    "collapsed": true
   },
   "outputs": [],
   "source": [
    "import pandas as pd\n",
    "import numpy as np\n",
    "import matplotlib.pyplot as plt\n",
    "%matplotlib inline\n",
    "\n",
    "df_fraud = pd.read_csv(\"data/Fraud_Data.csv\")\n",
    "df_ip = pd.read_csv(\"data/IpAddress_to_Country.csv\")"
   ]
  },
  {
   "cell_type": "code",
   "execution_count": 2,
   "metadata": {},
   "outputs": [
    {
     "data": {
      "text/html": [
       "<div>\n",
       "<style scoped>\n",
       "    .dataframe tbody tr th:only-of-type {\n",
       "        vertical-align: middle;\n",
       "    }\n",
       "\n",
       "    .dataframe tbody tr th {\n",
       "        vertical-align: top;\n",
       "    }\n",
       "\n",
       "    .dataframe thead th {\n",
       "        text-align: right;\n",
       "    }\n",
       "</style>\n",
       "<table border=\"1\" class=\"dataframe\">\n",
       "  <thead>\n",
       "    <tr style=\"text-align: right;\">\n",
       "      <th></th>\n",
       "      <th>user_id</th>\n",
       "      <th>signup_time</th>\n",
       "      <th>purchase_time</th>\n",
       "      <th>purchase_value</th>\n",
       "      <th>device_id</th>\n",
       "      <th>source</th>\n",
       "      <th>browser</th>\n",
       "      <th>sex</th>\n",
       "      <th>age</th>\n",
       "      <th>ip_address</th>\n",
       "      <th>class</th>\n",
       "    </tr>\n",
       "  </thead>\n",
       "  <tbody>\n",
       "    <tr>\n",
       "      <th>0</th>\n",
       "      <td>22058</td>\n",
       "      <td>2015-02-24 22:55:49</td>\n",
       "      <td>2015-04-18 02:47:11</td>\n",
       "      <td>34</td>\n",
       "      <td>QVPSPJUOCKZAR</td>\n",
       "      <td>SEO</td>\n",
       "      <td>Chrome</td>\n",
       "      <td>M</td>\n",
       "      <td>39</td>\n",
       "      <td>7.327584e+08</td>\n",
       "      <td>0</td>\n",
       "    </tr>\n",
       "    <tr>\n",
       "      <th>1</th>\n",
       "      <td>333320</td>\n",
       "      <td>2015-06-07 20:39:50</td>\n",
       "      <td>2015-06-08 01:38:54</td>\n",
       "      <td>16</td>\n",
       "      <td>EOGFQPIZPYXFZ</td>\n",
       "      <td>Ads</td>\n",
       "      <td>Chrome</td>\n",
       "      <td>F</td>\n",
       "      <td>53</td>\n",
       "      <td>3.503114e+08</td>\n",
       "      <td>0</td>\n",
       "    </tr>\n",
       "    <tr>\n",
       "      <th>2</th>\n",
       "      <td>1359</td>\n",
       "      <td>2015-01-01 18:52:44</td>\n",
       "      <td>2015-01-01 18:52:45</td>\n",
       "      <td>15</td>\n",
       "      <td>YSSKYOSJHPPLJ</td>\n",
       "      <td>SEO</td>\n",
       "      <td>Opera</td>\n",
       "      <td>M</td>\n",
       "      <td>53</td>\n",
       "      <td>2.621474e+09</td>\n",
       "      <td>1</td>\n",
       "    </tr>\n",
       "    <tr>\n",
       "      <th>3</th>\n",
       "      <td>150084</td>\n",
       "      <td>2015-04-28 21:13:25</td>\n",
       "      <td>2015-05-04 13:54:50</td>\n",
       "      <td>44</td>\n",
       "      <td>ATGTXKYKUDUQN</td>\n",
       "      <td>SEO</td>\n",
       "      <td>Safari</td>\n",
       "      <td>M</td>\n",
       "      <td>41</td>\n",
       "      <td>3.840542e+09</td>\n",
       "      <td>0</td>\n",
       "    </tr>\n",
       "    <tr>\n",
       "      <th>4</th>\n",
       "      <td>221365</td>\n",
       "      <td>2015-07-21 07:09:52</td>\n",
       "      <td>2015-09-09 18:40:53</td>\n",
       "      <td>39</td>\n",
       "      <td>NAUITBZFJKHWW</td>\n",
       "      <td>Ads</td>\n",
       "      <td>Safari</td>\n",
       "      <td>M</td>\n",
       "      <td>45</td>\n",
       "      <td>4.155831e+08</td>\n",
       "      <td>0</td>\n",
       "    </tr>\n",
       "  </tbody>\n",
       "</table>\n",
       "</div>"
      ],
      "text/plain": [
       "   user_id          signup_time        purchase_time  purchase_value  \\\n",
       "0    22058  2015-02-24 22:55:49  2015-04-18 02:47:11              34   \n",
       "1   333320  2015-06-07 20:39:50  2015-06-08 01:38:54              16   \n",
       "2     1359  2015-01-01 18:52:44  2015-01-01 18:52:45              15   \n",
       "3   150084  2015-04-28 21:13:25  2015-05-04 13:54:50              44   \n",
       "4   221365  2015-07-21 07:09:52  2015-09-09 18:40:53              39   \n",
       "\n",
       "       device_id source browser sex  age    ip_address  class  \n",
       "0  QVPSPJUOCKZAR    SEO  Chrome   M   39  7.327584e+08      0  \n",
       "1  EOGFQPIZPYXFZ    Ads  Chrome   F   53  3.503114e+08      0  \n",
       "2  YSSKYOSJHPPLJ    SEO   Opera   M   53  2.621474e+09      1  \n",
       "3  ATGTXKYKUDUQN    SEO  Safari   M   41  3.840542e+09      0  \n",
       "4  NAUITBZFJKHWW    Ads  Safari   M   45  4.155831e+08      0  "
      ]
     },
     "execution_count": 2,
     "metadata": {},
     "output_type": "execute_result"
    }
   ],
   "source": [
    "df_fraud.head()"
   ]
  },
  {
   "cell_type": "markdown",
   "metadata": {},
   "source": [
    "Here is the explanation:\n",
    "\n",
    "\"Fraud_Data\" - information about each user first transaction\n",
    "\n",
    "- user_id : Id of the user. Unique by user \n",
    "- signup_time : the time when the user created her account (GMT time)\n",
    "- purchase_time : the time when the user bought the item (GMT time)\n",
    "- purchase_value : the cost of the item purchased (USD) \n",
    "- device_id : the device id. You can assume that it is unique by device. I.e., transaJtions with the same device ID means that the same physical device was used to buy \n",
    "- source : user marketing channel: ads, SEO, Direct (i.e. came to the site by directly typing the site address on the browser). \n",
    "- browser : the browser used by the user.\n",
    "- sex : user sex: Male/Female\n",
    "- age : user age ip_address : user numeric ip address \n",
    "- class : this is what we are trying to predict: whether the activity was fraudulent (1) or not (0)."
   ]
  },
  {
   "cell_type": "code",
   "execution_count": 3,
   "metadata": {},
   "outputs": [
    {
     "data": {
      "text/html": [
       "<div>\n",
       "<style scoped>\n",
       "    .dataframe tbody tr th:only-of-type {\n",
       "        vertical-align: middle;\n",
       "    }\n",
       "\n",
       "    .dataframe tbody tr th {\n",
       "        vertical-align: top;\n",
       "    }\n",
       "\n",
       "    .dataframe thead th {\n",
       "        text-align: right;\n",
       "    }\n",
       "</style>\n",
       "<table border=\"1\" class=\"dataframe\">\n",
       "  <thead>\n",
       "    <tr style=\"text-align: right;\">\n",
       "      <th></th>\n",
       "      <th>lower_bound_ip_address</th>\n",
       "      <th>upper_bound_ip_address</th>\n",
       "      <th>country</th>\n",
       "    </tr>\n",
       "  </thead>\n",
       "  <tbody>\n",
       "    <tr>\n",
       "      <th>0</th>\n",
       "      <td>16777216.0</td>\n",
       "      <td>16777471</td>\n",
       "      <td>Australia</td>\n",
       "    </tr>\n",
       "    <tr>\n",
       "      <th>1</th>\n",
       "      <td>16777472.0</td>\n",
       "      <td>16777727</td>\n",
       "      <td>China</td>\n",
       "    </tr>\n",
       "    <tr>\n",
       "      <th>2</th>\n",
       "      <td>16777728.0</td>\n",
       "      <td>16778239</td>\n",
       "      <td>China</td>\n",
       "    </tr>\n",
       "    <tr>\n",
       "      <th>3</th>\n",
       "      <td>16778240.0</td>\n",
       "      <td>16779263</td>\n",
       "      <td>Australia</td>\n",
       "    </tr>\n",
       "    <tr>\n",
       "      <th>4</th>\n",
       "      <td>16779264.0</td>\n",
       "      <td>16781311</td>\n",
       "      <td>China</td>\n",
       "    </tr>\n",
       "  </tbody>\n",
       "</table>\n",
       "</div>"
      ],
      "text/plain": [
       "   lower_bound_ip_address  upper_bound_ip_address    country\n",
       "0              16777216.0                16777471  Australia\n",
       "1              16777472.0                16777727      China\n",
       "2              16777728.0                16778239      China\n",
       "3              16778240.0                16779263  Australia\n",
       "4              16779264.0                16781311      China"
      ]
     },
     "execution_count": 3,
     "metadata": {},
     "output_type": "execute_result"
    }
   ],
   "source": [
    "df_ip.head()"
   ]
  },
  {
   "cell_type": "markdown",
   "metadata": {},
   "source": [
    "Here is the explanation:\n",
    "\n",
    "\"IpAddress_to_Country\" - mapping each numeric ip address to its country. For each country, it gives a range. If the numeric ip address falls within the range, then the ip address belongs to the corresponding country. \n",
    "\n",
    "- lower_bound_ip_address : the lower bound of the numeric ip address for that country \n",
    "- upper_bound_ip_address : the upper bound of the numeric ip address for that country \n",
    "- country : the corresponding country. If a user has an ip address whose value is within the upper and lower bound, then she is based in this country."
   ]
  },
  {
   "cell_type": "markdown",
   "metadata": {},
   "source": [
    "# 1. Predict her country based on the numeric IP address.\n",
    "\n",
    "We first build a model based on `df_ip`, and then predict country of each entity of `df_fraud`."
   ]
  },
  {
   "cell_type": "code",
   "execution_count": 4,
   "metadata": {},
   "outputs": [
    {
     "data": {
      "text/plain": [
       "(138846, 3)"
      ]
     },
     "execution_count": 4,
     "metadata": {},
     "output_type": "execute_result"
    }
   ],
   "source": [
    "df_ip.shape"
   ]
  },
  {
   "cell_type": "code",
   "execution_count": 5,
   "metadata": {},
   "outputs": [
    {
     "data": {
      "text/plain": [
       "235"
      ]
     },
     "execution_count": 5,
     "metadata": {},
     "output_type": "execute_result"
    }
   ],
   "source": [
    "len(df_ip[\"country\"].unique())"
   ]
  },
  {
   "cell_type": "markdown",
   "metadata": {},
   "source": [
    "As you see above, each country may have more than one entity. We aggregate them into one entity for each country."
   ]
  },
  {
   "cell_type": "code",
   "execution_count": 6,
   "metadata": {
    "collapsed": true
   },
   "outputs": [],
   "source": [
    "countries = df_ip[\"country\"].unique()\n",
    "\n",
    "ip_dict = dict()\n",
    "for country in  countries:\n",
    "    df = df_ip.loc[df_ip[\"country\"] == country]\n",
    "    ip_dict[country] = [(x[0], x[1]) for x in df.values]"
   ]
  },
  {
   "cell_type": "markdown",
   "metadata": {},
   "source": [
    "Based on aggregated dictionary, we can determine whose ip address range given ip address belongs to."
   ]
  },
  {
   "cell_type": "code",
   "execution_count": 7,
   "metadata": {
    "collapsed": true
   },
   "outputs": [],
   "source": [
    "def predict_country(ip):\n",
    "    flag = False\n",
    "    for key, value in ip_dict.items():\n",
    "        for range_ in value:\n",
    "            if range_[0] <= ip and range_[1] >= ip:\n",
    "                flag = True\n",
    "                country = key\n",
    "                break\n",
    "            if flag:\n",
    "                break\n",
    "    # Only when succeeded to find the country, return the name\n",
    "    if flag:\n",
    "        return country\n",
    "    else:\n",
    "        return \"NAN\"              "
   ]
  },
  {
   "cell_type": "code",
   "execution_count": 8,
   "metadata": {},
   "outputs": [
    {
     "data": {
      "text/plain": [
       "'China'"
      ]
     },
     "execution_count": 8,
     "metadata": {},
     "output_type": "execute_result"
    }
   ],
   "source": [
    "# Example\n",
    "predict_country(16777472.0)"
   ]
  },
  {
   "cell_type": "code",
   "execution_count": 9,
   "metadata": {
    "collapsed": true
   },
   "outputs": [],
   "source": [
    "from joblib import Parallel, delayed\n",
    "\n",
    "pred_country = Parallel(n_jobs=-1)(delayed(predict_country)(ip) for ip in df_fraud[\"ip_address\"].values)"
   ]
  },
  {
   "cell_type": "code",
   "execution_count": 10,
   "metadata": {},
   "outputs": [
    {
     "data": {
      "text/plain": [
       "['Japan',\n",
       " 'United States',\n",
       " 'United States',\n",
       " 'NAN',\n",
       " 'United States',\n",
       " 'Canada',\n",
       " 'NAN',\n",
       " 'United States',\n",
       " 'China',\n",
       " 'United States']"
      ]
     },
     "execution_count": 10,
     "metadata": {},
     "output_type": "execute_result"
    }
   ],
   "source": [
    "pred_country[:10]"
   ]
  },
  {
   "cell_type": "code",
   "execution_count": 11,
   "metadata": {},
   "outputs": [
    {
     "data": {
      "text/plain": [
       "182"
      ]
     },
     "execution_count": 11,
     "metadata": {},
     "output_type": "execute_result"
    }
   ],
   "source": [
    "len(set(pred_country))"
   ]
  },
  {
   "cell_type": "code",
   "execution_count": 12,
   "metadata": {
    "collapsed": true
   },
   "outputs": [],
   "source": [
    "df_fraud[\"country\"] = pred_country"
   ]
  },
  {
   "cell_type": "markdown",
   "metadata": {},
   "source": [
    "# 2. Predict whether an activity is fraudulent or not."
   ]
  },
  {
   "cell_type": "markdown",
   "metadata": {},
   "source": [
    "## Countries"
   ]
  },
  {
   "cell_type": "code",
   "execution_count": 13,
   "metadata": {
    "collapsed": true
   },
   "outputs": [],
   "source": [
    "fraud_ratio = dict()\n",
    "\n",
    "for country in df_fraud[\"country\"].unique():\n",
    "    df = df_fraud.loc[df_fraud[\"country\"].values == country]\n",
    "    fraud_ratio[country] = df[\"class\"].mean()"
   ]
  },
  {
   "cell_type": "code",
   "execution_count": 14,
   "metadata": {},
   "outputs": [
    {
     "data": {
      "image/png": "[encoded data removed]",
      "text/plain": [
       "<matplotlib.figure.Figure at 0x7f7dc86398d0>"
      ]
     },
     "metadata": {},
     "output_type": "display_data"
    }
   ],
   "source": [
    "val = [x for x in fraud_ratio.values()]\n",
    "plt.hist(val, bins=20);"
   ]
  },
  {
   "cell_type": "code",
   "execution_count": 15,
   "metadata": {
    "collapsed": true
   },
   "outputs": [],
   "source": [
    "sort_ratio = sorted(fraud_ratio.items(), key=lambda x: x[1], reverse=True)"
   ]
  },
  {
   "cell_type": "code",
   "execution_count": 16,
   "metadata": {},
   "outputs": [
    {
     "data": {
      "text/plain": [
       "[('Turkmenistan', 1.0),\n",
       " ('Namibia', 0.43478260869565216),\n",
       " ('Sri Lanka', 0.41935483870967744),\n",
       " ('Luxembourg', 0.3888888888888889),\n",
       " ('Virgin Islands (U.S.)', 0.3333333333333333),\n",
       " ('Ecuador', 0.2641509433962264),\n",
       " ('Tunisia', 0.2627118644067797),\n",
       " ('Peru', 0.2605042016806723),\n",
       " ('Bolivia', 0.24528301886792453),\n",
       " ('Kuwait', 0.23333333333333334),\n",
       " ('Ireland', 0.22916666666666666),\n",
       " ('New Zealand', 0.22302158273381295),\n",
       " ('Uzbekistan', 0.2),\n",
       " ('Lithuania', 0.18947368421052632),\n",
       " ('Saudi Arabia', 0.1893939393939394),\n",
       " ('Malta', 0.18181818181818182),\n",
       " (\"Cote D'ivoire\", 0.16666666666666666),\n",
       " ('Afghanistan', 0.16666666666666666),\n",
       " ('Denmark', 0.15918367346938775),\n",
       " ('Chile', 0.15347721822541965),\n",
       " ('Greece', 0.14285714285714285),\n",
       " ('Malawi', 0.14285714285714285),\n",
       " ('Montenegro', 0.14285714285714285),\n",
       " ('United Arab Emirates', 0.14035087719298245),\n",
       " ('Belgium', 0.13691931540342298),\n",
       " ('Egypt', 0.13370473537604458),\n",
       " ('Costa Rica', 0.13333333333333333),\n",
       " ('Armenia', 0.13333333333333333),\n",
       " ('Venezuela', 0.13147410358565736),\n",
       " ('Norway', 0.1297208538587849),\n",
       " ('Hong Kong', 0.12951167728237792),\n",
       " ('Mexico', 0.12845673505798394),\n",
       " ('Seychelles', 0.12631578947368421),\n",
       " ('Sweden', 0.12018348623853212),\n",
       " ('Canada', 0.11697478991596638),\n",
       " ('Ukraine', 0.11655011655011654),\n",
       " ('India', 0.11526717557251909),\n",
       " ('Senegal', 0.1111111111111111),\n",
       " ('Honduras', 0.1111111111111111),\n",
       " ('Iran (ISLAMIC Republic Of)', 0.10796915167095116),\n",
       " ('Lebanon', 0.10714285714285714),\n",
       " ('Algeria', 0.10655737704918032),\n",
       " ('United Kingdom', 0.10623608017817372),\n",
       " ('Iceland', 0.10526315789473684),\n",
       " ('Argentina', 0.09984871406959153),\n",
       " ('Japan', 0.09786476868327403),\n",
       " ('Czech Republic', 0.09742120343839542),\n",
       " ('Finland', 0.09565217391304348),\n",
       " ('United States', 0.09562610897689883),\n",
       " ('France', 0.09490667510281557),\n",
       " ('Latvia', 0.09375),\n",
       " ('Korea Republic of', 0.0913022585295531),\n",
       " ('Brazil', 0.0911854103343465),\n",
       " ('Trinidad and Tobago', 0.09090909090909091),\n",
       " ('Hungary', 0.09004739336492891),\n",
       " ('Australia', 0.08947939262472886),\n",
       " ('Croatia (LOCAL Name: Hrvatska)', 0.08860759493670886),\n",
       " ('South Africa', 0.0883054892601432),\n",
       " ('Switzerland', 0.08789808917197452),\n",
       " ('Indonesia', 0.08782742681047766),\n",
       " ('Azerbaijan', 0.08695652173913043),\n",
       " ('China', 0.08664229938527995),\n",
       " ('NAN', 0.08572339069471001),\n",
       " ('Paraguay', 0.08571428571428572),\n",
       " ('Italy', 0.08539094650205761),\n",
       " ('Russian Federation', 0.08292079207920793),\n",
       " ('Bangladesh', 0.08108108108108109),\n",
       " ('Taiwan; Republic of China (ROC)', 0.08003233629749394),\n",
       " ('El Salvador', 0.08),\n",
       " ('Sudan', 0.08),\n",
       " ('Austria', 0.07586206896551724),\n",
       " ('Kenya', 0.07526881720430108),\n",
       " ('Turkey', 0.07394366197183098),\n",
       " ('Netherlands', 0.07321428571428572),\n",
       " ('Germany', 0.0718595721338453),\n",
       " ('Libyan Arab Jamahiriya', 0.07142857142857142),\n",
       " ('Spain', 0.07108081791626096),\n",
       " ('Singapore', 0.0673076923076923),\n",
       " ('Viet Nam', 0.06727272727272728),\n",
       " ('Thailand', 0.06529209621993128),\n",
       " ('Kazakhstan', 0.06521739130434782),\n",
       " ('Georgia', 0.0625),\n",
       " ('Nicaragua', 0.0625),\n",
       " ('Uruguay', 0.0625),\n",
       " ('Colombia', 0.059800664451827246),\n",
       " ('European Union', 0.058823529411764705),\n",
       " ('Mauritius', 0.058823529411764705),\n",
       " ('Philippines', 0.05649717514124294),\n",
       " ('Moldova Republic of', 0.05405405405405406),\n",
       " ('Poland', 0.053497942386831275),\n",
       " ('Malaysia', 0.05238095238095238),\n",
       " ('Romania', 0.05142857142857143),\n",
       " ('Guatemala', 0.05),\n",
       " ('Panama', 0.04838709677419355),\n",
       " ('Cyprus', 0.046511627906976744),\n",
       " ('Slovakia (SLOVAK Republic)', 0.046511627906976744),\n",
       " ('Nigeria', 0.04477611940298507),\n",
       " ('Israel', 0.04411764705882353),\n",
       " ('Portugal', 0.043668122270742356),\n",
       " ('Pakistan', 0.043010752688172046),\n",
       " ('Macedonia', 0.041666666666666664),\n",
       " ('Angola', 0.041666666666666664),\n",
       " ('Dominican Republic', 0.0392156862745098),\n",
       " ('Bosnia and Herzegowina', 0.03333333333333333),\n",
       " ('Morocco', 0.03164556962025317),\n",
       " ('Belarus', 0.027777777777777776),\n",
       " ('Estonia', 0.023809523809523808),\n",
       " ('Slovenia', 0.022988505747126436),\n",
       " ('Serbia', 0.014492753623188406),\n",
       " ('Bulgaria', 0.012048192771084338),\n",
       " ('Gabon', 0.0),\n",
       " ('Syrian Arab Republic', 0.0),\n",
       " ('Qatar', 0.0),\n",
       " ('Kyrgyzstan', 0.0),\n",
       " ('Guam', 0.0),\n",
       " ('Mozambique', 0.0),\n",
       " ('Cuba', 0.0),\n",
       " ('Albania', 0.0),\n",
       " ('Oman', 0.0),\n",
       " ('Puerto Rico', 0.0),\n",
       " ('Maldives', 0.0),\n",
       " ('Barbados', 0.0),\n",
       " ('New Caledonia', 0.0),\n",
       " ('Ghana', 0.0),\n",
       " ('Cambodia', 0.0),\n",
       " ('Belize', 0.0),\n",
       " ('Iraq', 0.0),\n",
       " ('Djibouti', 0.0),\n",
       " ('Rwanda', 0.0),\n",
       " ('Jordan', 0.0),\n",
       " ('Bahrain', 0.0),\n",
       " ('South Sudan', 0.0),\n",
       " ('Congo', 0.0),\n",
       " ('Uganda', 0.0),\n",
       " ('Jamaica', 0.0),\n",
       " ('Haiti', 0.0),\n",
       " ('Papua New Guinea', 0.0),\n",
       " ('Gibraltar', 0.0),\n",
       " ('Cameroon', 0.0),\n",
       " ('Palestinian Territory Occupied', 0.0),\n",
       " ('Myanmar', 0.0),\n",
       " ('Nepal', 0.0),\n",
       " ('Brunei Darussalam', 0.0),\n",
       " ('Zambia', 0.0),\n",
       " ('Saint Kitts and Nevis', 0.0),\n",
       " ('Reunion', 0.0),\n",
       " ('Botswana', 0.0),\n",
       " ('Dominica', 0.0),\n",
       " ('Burkina Faso', 0.0),\n",
       " ('Macau', 0.0),\n",
       " ('Tanzania United Republic of', 0.0),\n",
       " ('Faroe Islands', 0.0),\n",
       " ('Zimbabwe', 0.0),\n",
       " ('Monaco', 0.0),\n",
       " ('Congo The Democratic Republic of The', 0.0),\n",
       " ('Cayman Islands', 0.0),\n",
       " ('Niger', 0.0),\n",
       " ('Antigua and Barbuda', 0.0),\n",
       " ('Lesotho', 0.0),\n",
       " ('Fiji', 0.0),\n",
       " ('Mongolia', 0.0),\n",
       " ('Bhutan', 0.0),\n",
       " ('Bermuda', 0.0),\n",
       " ('Curacao', 0.0),\n",
       " ('Ethiopia', 0.0),\n",
       " ('Vanuatu', 0.0),\n",
       " (\"Lao People's Democratic Republic\", 0.0),\n",
       " ('British Indian Ocean Territory', 0.0),\n",
       " ('Bahamas', 0.0),\n",
       " ('Madagascar', 0.0),\n",
       " ('Bonaire; Sint Eustatius; Saba', 0.0),\n",
       " ('Liechtenstein', 0.0),\n",
       " ('Gambia', 0.0),\n",
       " ('Benin', 0.0),\n",
       " ('Cape Verde', 0.0),\n",
       " ('Tajikistan', 0.0),\n",
       " ('Saint Martin', 0.0),\n",
       " ('Yemen', 0.0),\n",
       " ('San Marino', 0.0),\n",
       " ('Burundi', 0.0),\n",
       " ('Nauru', 0.0),\n",
       " ('Guadeloupe', 0.0)]"
      ]
     },
     "execution_count": 16,
     "metadata": {},
     "output_type": "execute_result"
    }
   ],
   "source": [
    "sort_ratio"
   ]
  },
  {
   "cell_type": "markdown",
   "metadata": {},
   "source": [
    "If we map countries to one hot encoding, dimension gets too large. \n",
    "\n",
    "You may thing this fraud ratio can be used as a feature. Actually, this feature is made after looking at label, which leads to overfitting. In this analysis, we just ommit this values. "
   ]
  },
  {
   "cell_type": "markdown",
   "metadata": {},
   "source": [
    "## Categorical Variables"
   ]
  },
  {
   "cell_type": "code",
   "execution_count": 17,
   "metadata": {
    "collapsed": true
   },
   "outputs": [],
   "source": [
    "from sklearn.preprocessing import OneHotEncoder\n",
    "from sklearn.preprocessing import LabelEncoder\n",
    "import scipy\n",
    "\n",
    "features = dict()\n",
    "\n",
    "def create_onehot(name, X):\n",
    "    features = dict()\n",
    "    num_features = len(np.unique(X))\n",
    "    if num_features == 1:\n",
    "        features[name] = X\n",
    "    else:\n",
    "        label = LabelEncoder()\n",
    "        onehot = OneHotEncoder(n_values=num_features)\n",
    "        num_val = label.fit_transform(X)[:, None]\n",
    "        one_hot_feature = onehot.fit_transform(num_val)\n",
    "        for i in range(num_features):\n",
    "            features[name + \"_\" + str(label.classes_[i])] = one_hot_feature[:, [i]]\n",
    "    return features\n",
    "\n",
    "def df_to_onehot(name, df):\n",
    "    if name not in df:\n",
    "        raise ValueError()\n",
    "    return create_onehot(name, df[name].values)\n",
    "\n",
    "def dict_to_array(dict_X):\n",
    "    vals = []\n",
    "    for key, val in dict_X.items():\n",
    "        vals.append(val)\n",
    "    return scipy.sparse.hstack(vals)"
   ]
  },
  {
   "cell_type": "code",
   "execution_count": 18,
   "metadata": {},
   "outputs": [
    {
     "name": "stdout",
     "output_type": "stream",
     "text": [
      "# instance= 151112\n",
      "# user_id= 151112\n",
      "# device_id= 137956\n",
      "# source= 3\n",
      "# browser 5\n",
      "# sex= 2\n"
     ]
    }
   ],
   "source": [
    "print(\"# instance=\", df_fraud.shape[0])\n",
    "print(\"# user_id=\", len(df_fraud[\"user_id\"].unique()))\n",
    "print(\"# device_id=\", len(df_fraud[\"device_id\"].unique()))\n",
    "print(\"# source=\", len(df_fraud[\"source\"].unique()))\n",
    "print(\"# browser\", len(df_fraud[\"browser\"].unique()))\n",
    "print(\"# sex=\", len(df_fraud[\"sex\"].unique()))"
   ]
  },
  {
   "cell_type": "markdown",
   "metadata": {},
   "source": [
    "Since `user_id` is unique to each instance, we get rid of it from data.\n",
    "For `device_id`, we see some overlap. We may check if device id is used for fraud in the past. \n",
    "\n",
    "Instead, we use PCA after one-hot encoded."
   ]
  },
  {
   "cell_type": "code",
   "execution_count": 19,
   "metadata": {},
   "outputs": [
    {
     "data": {
      "text/html": [
       "<div>\n",
       "<style scoped>\n",
       "    .dataframe tbody tr th:only-of-type {\n",
       "        vertical-align: middle;\n",
       "    }\n",
       "\n",
       "    .dataframe tbody tr th {\n",
       "        vertical-align: top;\n",
       "    }\n",
       "\n",
       "    .dataframe thead th {\n",
       "        text-align: right;\n",
       "    }\n",
       "</style>\n",
       "<table border=\"1\" class=\"dataframe\">\n",
       "  <thead>\n",
       "    <tr style=\"text-align: right;\">\n",
       "      <th></th>\n",
       "      <th>user_id</th>\n",
       "      <th>signup_time</th>\n",
       "      <th>purchase_time</th>\n",
       "      <th>purchase_value</th>\n",
       "      <th>device_id</th>\n",
       "      <th>source</th>\n",
       "      <th>browser</th>\n",
       "      <th>sex</th>\n",
       "      <th>age</th>\n",
       "      <th>ip_address</th>\n",
       "      <th>class</th>\n",
       "      <th>country</th>\n",
       "    </tr>\n",
       "  </thead>\n",
       "  <tbody>\n",
       "    <tr>\n",
       "      <th>0</th>\n",
       "      <td>22058</td>\n",
       "      <td>2015-02-24 22:55:49</td>\n",
       "      <td>2015-04-18 02:47:11</td>\n",
       "      <td>34</td>\n",
       "      <td>QVPSPJUOCKZAR</td>\n",
       "      <td>SEO</td>\n",
       "      <td>Chrome</td>\n",
       "      <td>M</td>\n",
       "      <td>39</td>\n",
       "      <td>7.327584e+08</td>\n",
       "      <td>0</td>\n",
       "      <td>Japan</td>\n",
       "    </tr>\n",
       "    <tr>\n",
       "      <th>1</th>\n",
       "      <td>333320</td>\n",
       "      <td>2015-06-07 20:39:50</td>\n",
       "      <td>2015-06-08 01:38:54</td>\n",
       "      <td>16</td>\n",
       "      <td>EOGFQPIZPYXFZ</td>\n",
       "      <td>Ads</td>\n",
       "      <td>Chrome</td>\n",
       "      <td>F</td>\n",
       "      <td>53</td>\n",
       "      <td>3.503114e+08</td>\n",
       "      <td>0</td>\n",
       "      <td>United States</td>\n",
       "    </tr>\n",
       "    <tr>\n",
       "      <th>2</th>\n",
       "      <td>1359</td>\n",
       "      <td>2015-01-01 18:52:44</td>\n",
       "      <td>2015-01-01 18:52:45</td>\n",
       "      <td>15</td>\n",
       "      <td>YSSKYOSJHPPLJ</td>\n",
       "      <td>SEO</td>\n",
       "      <td>Opera</td>\n",
       "      <td>M</td>\n",
       "      <td>53</td>\n",
       "      <td>2.621474e+09</td>\n",
       "      <td>1</td>\n",
       "      <td>United States</td>\n",
       "    </tr>\n",
       "    <tr>\n",
       "      <th>3</th>\n",
       "      <td>150084</td>\n",
       "      <td>2015-04-28 21:13:25</td>\n",
       "      <td>2015-05-04 13:54:50</td>\n",
       "      <td>44</td>\n",
       "      <td>ATGTXKYKUDUQN</td>\n",
       "      <td>SEO</td>\n",
       "      <td>Safari</td>\n",
       "      <td>M</td>\n",
       "      <td>41</td>\n",
       "      <td>3.840542e+09</td>\n",
       "      <td>0</td>\n",
       "      <td>NAN</td>\n",
       "    </tr>\n",
       "    <tr>\n",
       "      <th>4</th>\n",
       "      <td>221365</td>\n",
       "      <td>2015-07-21 07:09:52</td>\n",
       "      <td>2015-09-09 18:40:53</td>\n",
       "      <td>39</td>\n",
       "      <td>NAUITBZFJKHWW</td>\n",
       "      <td>Ads</td>\n",
       "      <td>Safari</td>\n",
       "      <td>M</td>\n",
       "      <td>45</td>\n",
       "      <td>4.155831e+08</td>\n",
       "      <td>0</td>\n",
       "      <td>United States</td>\n",
       "    </tr>\n",
       "  </tbody>\n",
       "</table>\n",
       "</div>"
      ],
      "text/plain": [
       "   user_id          signup_time        purchase_time  purchase_value  \\\n",
       "0    22058  2015-02-24 22:55:49  2015-04-18 02:47:11              34   \n",
       "1   333320  2015-06-07 20:39:50  2015-06-08 01:38:54              16   \n",
       "2     1359  2015-01-01 18:52:44  2015-01-01 18:52:45              15   \n",
       "3   150084  2015-04-28 21:13:25  2015-05-04 13:54:50              44   \n",
       "4   221365  2015-07-21 07:09:52  2015-09-09 18:40:53              39   \n",
       "\n",
       "       device_id source browser sex  age    ip_address  class        country  \n",
       "0  QVPSPJUOCKZAR    SEO  Chrome   M   39  7.327584e+08      0          Japan  \n",
       "1  EOGFQPIZPYXFZ    Ads  Chrome   F   53  3.503114e+08      0  United States  \n",
       "2  YSSKYOSJHPPLJ    SEO   Opera   M   53  2.621474e+09      1  United States  \n",
       "3  ATGTXKYKUDUQN    SEO  Safari   M   41  3.840542e+09      0            NAN  \n",
       "4  NAUITBZFJKHWW    Ads  Safari   M   45  4.155831e+08      0  United States  "
      ]
     },
     "execution_count": 19,
     "metadata": {},
     "output_type": "execute_result"
    }
   ],
   "source": [
    "df_fraud.head()"
   ]
  },
  {
   "cell_type": "code",
   "execution_count": 20,
   "metadata": {
    "collapsed": true
   },
   "outputs": [],
   "source": [
    "features.update(df_to_onehot(\"country\", df_fraud))\n",
    "features.update(df_to_onehot(\"source\", df_fraud))\n",
    "features.update(df_to_onehot(\"browser\", df_fraud))\n",
    "features.update(df_to_onehot(\"sex\", df_fraud))"
   ]
  },
  {
   "cell_type": "markdown",
   "metadata": {},
   "source": [
    "## TimeStamps"
   ]
  },
  {
   "cell_type": "markdown",
   "metadata": {},
   "source": [
    "Next we consider timestamp variables."
   ]
  },
  {
   "cell_type": "code",
   "execution_count": 23,
   "metadata": {},
   "outputs": [
    {
     "name": "stdout",
     "output_type": "stream",
     "text": [
      "min signup_time= 2015-01-01 00:00:42\n",
      "max signup_time= 2015-08-18 04:40:29\n",
      "min purchase_time= 2015-01-01 00:00:44\n",
      "max purchase_time= 2015-12-16 02:56:05\n"
     ]
    }
   ],
   "source": [
    "print(\"min signup_time=\", df_fraud[\"signup_time\"].min())\n",
    "print(\"max signup_time=\", df_fraud[\"signup_time\"].max())\n",
    "print(\"min purchase_time=\", df_fraud[\"purchase_time\"].min())\n",
    "print(\"max purchase_time=\", df_fraud[\"purchase_time\"].max())"
   ]
  },
  {
   "cell_type": "markdown",
   "metadata": {},
   "source": [
    "Since we have data only for one year, we consider hour and month time frameworks."
   ]
  },
  {
   "cell_type": "code",
   "execution_count": 24,
   "metadata": {
    "collapsed": true
   },
   "outputs": [],
   "source": [
    "import matplotlib.pyplot as plt\n",
    "%matplotlib inline\n",
    "\n",
    "signup_df = pd.DataFrame(df_fraud.values, columns=df_fraud.columns,\n",
    "                         index=pd.DatetimeIndex(df_fraud[\"signup_time\"].values))\n",
    "purchase_df = pd.DataFrame(df_fraud.values, columns=df_fraud.columns,\n",
    "                           index=pd.DatetimeIndex(df_fraud[\"purchase_time\"].values))"
   ]
  },
  {
   "cell_type": "markdown",
   "metadata": {},
   "source": [
    "### Month"
   ]
  },
  {
   "cell_type": "code",
   "execution_count": 25,
   "metadata": {},
   "outputs": [
    {
     "name": "stderr",
     "output_type": "stream",
     "text": [
      "/home/tomoaki/anaconda3/lib/python3.6/site-packages/ipykernel_launcher.py:1: FutureWarning: pd.TimeGrouper is deprecated and will be removed; Please use pd.Grouper(freq=...)\n",
      "  \"\"\"Entry point for launching an IPython kernel.\n"
     ]
    },
    {
     "data": {
      "text/plain": [
       "<matplotlib.legend.Legend at 0x7f7dab7bccf8>"
      ]
     },
     "execution_count": 25,
     "metadata": {},
     "output_type": "execute_result"
    },
    {
     "data": {
      "image/png": "[encoded data removed]",
      "text/plain": [
       "<matplotlib.figure.Figure at 0x7f7dab7bce80>"
      ]
     },
     "metadata": {},
     "output_type": "display_data"
    }
   ],
   "source": [
    "for x, y in signup_df.groupby(pd.TimeGrouper(\"M\")):\n",
    "    # print(y.dropna().shape[0])\n",
    "    fraud_y = y.loc[y[\"class\"] == 1]\n",
    "    ratio = fraud_y.shape[0] / y.shape[0]\n",
    "    plt.scatter(x, ratio, label=x.month)\n",
    "plt.legend()"
   ]
  },
  {
   "cell_type": "code",
   "execution_count": 26,
   "metadata": {},
   "outputs": [
    {
     "name": "stderr",
     "output_type": "stream",
     "text": [
      "/home/tomoaki/anaconda3/lib/python3.6/site-packages/ipykernel_launcher.py:1: FutureWarning: pd.TimeGrouper is deprecated and will be removed; Please use pd.Grouper(freq=...)\n",
      "  \"\"\"Entry point for launching an IPython kernel.\n"
     ]
    },
    {
     "data": {
      "text/plain": [
       "<matplotlib.legend.Legend at 0x7f7dab6d0ef0>"
      ]
     },
     "execution_count": 26,
     "metadata": {},
     "output_type": "execute_result"
    },
    {
     "data": {
      "image/png": "[encoded data removed]",
      "text/plain": [
       "<matplotlib.figure.Figure at 0x7f7dab7357f0>"
      ]
     },
     "metadata": {},
     "output_type": "display_data"
    }
   ],
   "source": [
    "for x, y in purchase_df.groupby(pd.TimeGrouper(\"M\")):\n",
    "    fraud_y = y.loc[y[\"class\"] == 1]\n",
    "    ratio = fraud_y.shape[0] / y.shape[0]\n",
    "    plt.scatter(x, ratio, label=x.month)\n",
    "plt.legend()"
   ]
  },
  {
   "cell_type": "markdown",
   "metadata": {},
   "source": [
    "We can see that January registration and purchase is highly likely fraud."
   ]
  },
  {
   "cell_type": "markdown",
   "metadata": {},
   "source": [
    "## Hour"
   ]
  },
  {
   "cell_type": "code",
   "execution_count": 27,
   "metadata": {
    "collapsed": true
   },
   "outputs": [],
   "source": [
    "from datetime import datetime\n",
    "\n",
    "def convert_time(x):  \n",
    "    x = datetime.strptime(x, '%Y-%m-%d %H:%M:%S')\n",
    "    return x.strftime(\"%H:%M:%S\")\n",
    "\n",
    "def convert_times(xs):  \n",
    "    xs = [convert_time(x) for x in xs]\n",
    "    return xs"
   ]
  },
  {
   "cell_type": "code",
   "execution_count": 28,
   "metadata": {
    "collapsed": true
   },
   "outputs": [],
   "source": [
    "signup_df = pd.DataFrame(df_fraud.values, columns=df_fraud.columns,\n",
    "                         index=pd.DatetimeIndex(convert_times(df_fraud[\"signup_time\"].values)))\n",
    "purchase_df = pd.DataFrame(df_fraud.values, columns=df_fraud.columns,\n",
    "                           index=pd.DatetimeIndex(convert_times(df_fraud[\"purchase_time\"].values)))"
   ]
  },
  {
   "cell_type": "code",
   "execution_count": 29,
   "metadata": {},
   "outputs": [
    {
     "name": "stderr",
     "output_type": "stream",
     "text": [
      "/home/tomoaki/anaconda3/lib/python3.6/site-packages/ipykernel_launcher.py:1: FutureWarning: pd.TimeGrouper is deprecated and will be removed; Please use pd.Grouper(freq=...)\n",
      "  \"\"\"Entry point for launching an IPython kernel.\n",
      "/home/tomoaki/anaconda3/lib/python3.6/site-packages/matplotlib/axes/_axes.py:545: UserWarning: No labelled objects found. Use label='...' kwarg on individual plots.\n",
      "  warnings.warn(\"No labelled objects found. \"\n"
     ]
    },
    {
     "data": {
      "image/png": "[encoded data removed]",
      "text/plain": [
       "<matplotlib.figure.Figure at 0x7f7dab646208>"
      ]
     },
     "metadata": {},
     "output_type": "display_data"
    }
   ],
   "source": [
    "for x, y in signup_df.groupby(pd.TimeGrouper(\"H\")):\n",
    "    fraud_y = y.loc[y[\"class\"] == 1]\n",
    "    ratio = fraud_y.shape[0] / y.shape[0]\n",
    "    plt.scatter(x.hour, ratio)\n",
    "plt.legend()"
   ]
  },
  {
   "cell_type": "code",
   "execution_count": 30,
   "metadata": {},
   "outputs": [
    {
     "name": "stderr",
     "output_type": "stream",
     "text": [
      "/home/tomoaki/anaconda3/lib/python3.6/site-packages/ipykernel_launcher.py:1: FutureWarning: pd.TimeGrouper is deprecated and will be removed; Please use pd.Grouper(freq=...)\n",
      "  \"\"\"Entry point for launching an IPython kernel.\n",
      "/home/tomoaki/anaconda3/lib/python3.6/site-packages/matplotlib/axes/_axes.py:545: UserWarning: No labelled objects found. Use label='...' kwarg on individual plots.\n",
      "  warnings.warn(\"No labelled objects found. \"\n"
     ]
    },
    {
     "data": {
      "image/png": "[encoded data removed]",
      "text/plain": [
       "<matplotlib.figure.Figure at 0x7f7dab5a0b70>"
      ]
     },
     "metadata": {},
     "output_type": "display_data"
    }
   ],
   "source": [
    "for x, y in signup_df.groupby(pd.TimeGrouper(\"H\")):\n",
    "    fraud_y = y.loc[y[\"class\"] == 1]\n",
    "    ratio = fraud_y.shape[0] / y.shape[0]\n",
    "    plt.scatter(x.hour, ratio)\n",
    "plt.legend()"
   ]
  },
  {
   "cell_type": "markdown",
   "metadata": {},
   "source": [
    "For the hourly time frameworks, we do not see the significant trend\n",
    "\n",
    "As a timestamp feature, we use binary value about if timestamp is January or not. "
   ]
  },
  {
   "cell_type": "code",
   "execution_count": 31,
   "metadata": {
    "collapsed": true
   },
   "outputs": [],
   "source": [
    "def string_to_month(x):  \n",
    "    x = datetime.strptime(x, '%Y-%m-%d %H:%M:%S')\n",
    "    return str(x.month)\n",
    "\n",
    "def create_month_feature(name, X):\n",
    "    X = [string_to_month(x_i) for x_i in X]\n",
    "    return create_onehot(name, X)"
   ]
  },
  {
   "cell_type": "code",
   "execution_count": 32,
   "metadata": {},
   "outputs": [],
   "source": [
    "features.update(create_month_feature(\"purchase_time\", df_fraud[\"purchase_time\"].values))"
   ]
  },
  {
   "cell_type": "markdown",
   "metadata": {},
   "source": [
    "Sum up all of the preprocessing functions above."
   ]
  },
  {
   "cell_type": "code",
   "execution_count": 42,
   "metadata": {
    "collapsed": true
   },
   "outputs": [],
   "source": [
    "def preprocess(df):\n",
    "    df = df.copy()\n",
    "    features = dict()\n",
    "    # One hot encoding\n",
    "    features.update(df_to_onehot(\"country\", df))\n",
    "    features.update(df_to_onehot(\"source\", df))\n",
    "    features.update(df_to_onehot(\"browser\", df))\n",
    "    features.update(df_to_onehot(\"sex\", df))\n",
    "    \n",
    "    # Time stamp\n",
    "    features.update(create_month_feature(\"purchase_time\", df[\"purchase_time\"].values))\n",
    "    \n",
    "    return features"
   ]
  },
  {
   "cell_type": "markdown",
   "metadata": {},
   "source": [
    "Next, we build an estimator. The number of fraud label is much smaller than that of usual transaction. Even if we make a estimator that always returns negative,  we are able to achieve good accuracy score. It is difficult to learn how to predict positive label directly.\n",
    "\n",
    "Then, we introduce imbalance learning. We use [imbalanced-learn](http://contrib.scikit-learn.org/imbalanced-learn/stable/index.html) for implementation. "
   ]
  },
  {
   "cell_type": "code",
   "execution_count": 66,
   "metadata": {
    "collapsed": true
   },
   "outputs": [],
   "source": [
    "import xgboost as xgb\n",
    "from imblearn.over_sampling import SMOTE\n",
    "from sklearn.decomposition import TruncatedSVD\n",
    "from sklearn.preprocessing import MaxAbsScaler\n",
    "\n",
    "\n",
    "class FraudEstimator(xgb.XGBClassifier):\n",
    "    def __init__(self, max_depth=3, learning_rate=0.1,\n",
    "                 n_estimators=100, silent=True,\n",
    "                 objective='binary:logistic',\n",
    "                 n_jobs=-1, gamma=0, min_child_weight=1,\n",
    "                 max_delta_step=0, subsample=1,\n",
    "                 colsample_bytree=1, colsample_bylevel=1,\n",
    "                 reg_alpha=0, reg_lambda=1, scale_pos_weight=1,\n",
    "                 base_score=0.5, random_state=0, missing=np.nan,\n",
    "                 n_components=0.5, ratio=2.0, **kwargs):\n",
    "        self.n_components = n_components\n",
    "        self.ratio = ratio\n",
    "        super().__init__(max_depth=max_depth, learning_rate=learning_rate,\n",
    "                         n_estimators=n_estimators, silent=silent,\n",
    "                         objective=objective, nthread=None, n_jobs=n_jobs,\n",
    "                         gamma=gamma, min_child_weight=min_child_weight,\n",
    "                         max_delta_step=max_delta_step, subsample=subsample,\n",
    "                         colsample_bytree=colsample_bytree,\n",
    "                         colsample_bylevel=colsample_bylevel,\n",
    "                         reg_alpha=reg_alpha, reg_lambda=reg_lambda,\n",
    "                         scale_pos_weight=scale_pos_weight,\n",
    "                         base_score=base_score, random_state=random_state,\n",
    "                         seed=None, missing=missing, **kwargs)\n",
    "\n",
    "    \n",
    "    def fit(self, df, y, *args, **kwargs):\n",
    "        # Preprocessing\n",
    "        features = preprocess(df)\n",
    "        features_array = dict_to_array(features)\n",
    "        # Need scaling before PCA\n",
    "        self.scaler = MaxAbsScaler()\n",
    "        features_array = self.scaler.fit_transform(features_array)\n",
    "        # Transform from float ratio to integer number\n",
    "        num_dim = features_array.shape[1]\n",
    "        n_components = max(1, int(self.n_components * num_dim))\n",
    "        self.pca = TruncatedSVD(n_components)\n",
    "        X = self.pca.fit_transform(features_array)\n",
    "        # Over Sampling\n",
    "        num_positive = np.mean(y) * len(X)\n",
    "        num_samples = int(num_positive * self.ratio)\n",
    "        X_resampled, y_resampled = SMOTE(ratio={1:num_samples}).fit_sample(X, y)\n",
    "        return super().fit(X_resampled, y_resampled, *args, **kwargs)\n",
    "        \n",
    "    def _preprocess(self, df, *args, **kwargs):\n",
    "        # Preprocessing\n",
    "        features = preprocess(df)\n",
    "        features_array = dict_to_array(features)\n",
    "        features_array = scaler.fit_transform(features_array)\n",
    "        features_array = self.scaler.fit_transform(features_array)\n",
    "        X = self.pca.fit_transform(features_array)\n",
    "        return X\n",
    "    \n",
    "    def predict(self, df, *args, **kwargs):\n",
    "        X = self._preprocess(df)\n",
    "        return super().predict(X, *args, **kwargs)\n",
    "    \n",
    "    def predict_proba(self, df, *args, **kwargs):\n",
    "        X = self._preprocess(df)\n",
    "        return super().predict_proba(X, *args, **kwargs)"
   ]
  },
  {
   "cell_type": "code",
   "execution_count": 35,
   "metadata": {},
   "outputs": [
    {
     "data": {
      "text/plain": [
       "FraudEstimator(base_score=0.5, colsample_bylevel=1, colsample_bytree=1,\n",
       "        gamma=0, learning_rate=0.1, max_delta_step=0, max_depth=3,\n",
       "        min_child_weight=1, missing=None, n_components=0.5,\n",
       "        n_estimators=100, n_jobs=-1, objective='binary:logistic',\n",
       "        random_state=0, ratio=2.0, reg_alpha=0, reg_lambda=1,\n",
       "        scale_pos_weight=1, silent=True, subsample=1)"
      ]
     },
     "execution_count": 35,
     "metadata": {},
     "output_type": "execute_result"
    }
   ],
   "source": [
    "import xgboost as xgb\n",
    "from imblearn.over_sampling import SMOTE\n",
    "\n",
    "y = df_fraud[\"class\"].values\n",
    "clf = FraudEstimator(n_jobs=-1)\n",
    "clf.fit(df_fraud, y)"
   ]
  },
  {
   "cell_type": "code",
   "execution_count": 36,
   "metadata": {},
   "outputs": [
    {
     "name": "stderr",
     "output_type": "stream",
     "text": [
      "/home/tomoaki/anaconda3/lib/python3.6/site-packages/sklearn/preprocessing/label.py:151: DeprecationWarning: The truth value of an empty array is ambiguous. Returning False, but in future this will result in an error. Use `array.size > 0` to check that an array is not empty.\n",
      "  if diff:\n"
     ]
    },
    {
     "data": {
      "text/plain": [
       "array([0, 0, 1, ..., 0, 0, 0])"
      ]
     },
     "execution_count": 36,
     "metadata": {},
     "output_type": "execute_result"
    }
   ],
   "source": [
    "clf.predict(df_fraud)"
   ]
  },
  {
   "cell_type": "markdown",
   "metadata": {},
   "source": [
    "### Cost function\n",
    "\n",
    "In this setting, while false positive requires the client to deal with customers' query of false alarm, false negative let scams to steal money. \n",
    "\n",
    "Thus, cost function will be determined by the trade-off between labor cost of false alarm and stolen money. \n",
    "For the sake of simplicity we assume that both of them can be defined as constant value as L and S. In this case, we minimize the following cost: \n",
    "\n",
    "$$Cost = (\\# False Positive \\times L + \\# False Negative \\times S) / \\# Entire data $$\n",
    "\n",
    "\n",
    "In this notebook, we assume that $L=10$ and $S=1$."
   ]
  },
  {
   "cell_type": "markdown",
   "metadata": {},
   "source": [
    "Finally, we consider hyperparameter optimization. Hyperparameters here include that of xgboost and ratio of oversampling. I implemented Bayesian optimization in [this repository](https://github.com/jjakimoto/BBOptimizer). "
   ]
  },
  {
   "cell_type": "code",
   "execution_count": 43,
   "metadata": {
    "collapsed": true
   },
   "outputs": [],
   "source": [
    "y = df_fraud[\"class\"].values\n",
    "num_data = df_fraud.shape[0]\n",
    "train_idx = int(0.8 * num_data)\n",
    "df_train = df_fraud[:train_idx]\n",
    "y_train = y[:train_idx]\n",
    "df_valid = df_fraud[train_idx:]\n",
    "y_valid = y[train_idx:]"
   ]
  },
  {
   "cell_type": "code",
   "execution_count": 55,
   "metadata": {
    "collapsed": true
   },
   "outputs": [],
   "source": [
    "from copy import deepcopy\n",
    "from sklearn.model_selection import StratifiedKFold\n",
    "\n",
    "params_conf = [\n",
    "        {\"name\": \"n_componenets\", \"domain\": (1e-2, 1.),\n",
    "         \"type\": \"continuous\", \"scale\": \"log\"},\n",
    "        {'name': 'n_estimators', 'domain': (1, 1e3),\n",
    "          'type': 'integer', 'scale': 'log'},\n",
    "         {'name': 'learning_rate', 'domain': (1e-3, 10.),\n",
    "          'type': 'continuous', 'scale': 'log'},\n",
    "         {'name': 'reg_alpha', 'domain': (1e-8, 1e1),\n",
    "          'type': 'continuous', 'scale': 'log'},\n",
    "         {'name': 'reg_lambda', 'domain': (1e-8, 1e1),\n",
    "          'type': 'continuous', 'scale': 'log'}, \n",
    "         {'name': 'ratio',  'type': 'integer', 'domain': (1, 20)}\n",
    "]\n",
    "\n",
    "def cost_func(y, y_pred):\n",
    "    pos_pred = y_pred[y==1]\n",
    "    neg_pred = y_pred[y==0]\n",
    "    false_negative = len(pos_pred) - np.sum(pos_pred)\n",
    "    false_positive = np.sum(neg_pred)\n",
    "    return (10 * false_negative + 1.0 * false_positive) / len(y)\n",
    "\n",
    "\n",
    "def score_func(params):\n",
    "    scores = []\n",
    "    skf = StratifiedKFold(n_splits=5)\n",
    "    for train_index, test_index in skf.split(df_train.values, y_train):\n",
    "        params = deepcopy(params)\n",
    "        clf = FraudEstimator(n_jobs=-1, **params)\n",
    "        clf.fit(df_train.iloc[train_index], y_train[train_index])\n",
    "        pred = clf.predict(df_train.iloc[test_index])\n",
    "        score = cost_func(y_train[test_index], pred)\n",
    "        scores.append(score)\n",
    "    score = np.mean(scores)\n",
    "    # print(params, score)\n",
    "    return score"
   ]
  },
  {
   "cell_type": "code",
   "execution_count": 56,
   "metadata": {},
   "outputs": [
    {
     "name": "stderr",
     "output_type": "stream",
     "text": [
      "\n",
      "\n",
      "\n",
      "\n",
      "\n",
      "\n",
      "  0%|          | 0/100 [00:00<?, ?it/s]\u001b[A\u001b[A\u001b[A\u001b[A\u001b[A\u001b[A\n",
      "\n",
      "\n",
      "\n",
      "\n",
      "\n",
      "  1%|          | 1/100 [03:10<5:13:38, 190.09s/it]\u001b[A\u001b[A\u001b[A\u001b[A\u001b[A\u001b[A\n",
      "\n",
      "\n",
      "\n",
      "\n",
      "\n",
      "  2%|▏         | 2/100 [03:53<3:58:41, 146.14s/it]\u001b[A\u001b[A\u001b[A\u001b[A\u001b[A\u001b[A\n",
      "\n",
      "\n",
      "\n",
      "\n",
      "\n",
      "  3%|▎         | 3/100 [14:30<7:54:01, 293.21s/it]\u001b[A\u001b[A\u001b[A\u001b[A\u001b[A\u001b[A\n",
      "\n",
      "\n",
      "\n",
      "\n",
      "\n",
      "  4%|▍         | 4/100 [18:26<7:22:06, 276.32s/it]\u001b[A\u001b[A\u001b[A\u001b[A\u001b[A\u001b[A\n",
      "\n",
      "\n",
      "\n",
      "\n",
      "\n",
      "  5%|▌         | 5/100 [22:54<7:13:07, 273.56s/it]\u001b[A\u001b[A\u001b[A\u001b[A\u001b[A\u001b[A\n",
      "\n",
      "\n",
      "\n",
      "\n",
      "\n",
      "  6%|▌         | 6/100 [23:41<5:22:11, 205.65s/it]\u001b[A\u001b[A\u001b[A\u001b[A\u001b[A\u001b[A\n",
      "\n",
      "\n",
      "\n",
      "\n",
      "\n",
      "  7%|▋         | 7/100 [24:39<4:10:11, 161.42s/it]\u001b[A\u001b[A\u001b[A\u001b[A\u001b[A\u001b[A\n",
      "\n",
      "\n",
      "\n",
      "\n",
      "\n",
      "  8%|▊         | 8/100 [25:24<3:13:51, 126.43s/it]\u001b[A\u001b[A\u001b[A\u001b[A\u001b[A\u001b[A\n",
      "\n",
      "\n",
      "\n",
      "\n",
      "\n",
      "  9%|▉         | 9/100 [30:02<4:20:42, 171.89s/it]\u001b[A\u001b[A\u001b[A\u001b[A\u001b[A\u001b[A\n",
      "\n",
      "\n",
      "\n",
      "\n",
      "\n",
      " 10%|█         | 10/100 [35:41<5:33:05, 222.06s/it]\u001b[A\u001b[A\u001b[A\u001b[A\u001b[A\u001b[A\n",
      "\n",
      "\n",
      "\n",
      "\n",
      "\n",
      " 11%|█         | 11/100 [36:48<4:20:36, 175.69s/it]\u001b[A\u001b[A\u001b[A\u001b[A\u001b[A\u001b[A\n",
      "\n",
      "\n",
      "\n",
      "\n",
      "\n",
      " 12%|█▏        | 12/100 [37:31<3:19:04, 135.74s/it]\u001b[A\u001b[A\u001b[A\u001b[A\u001b[A\u001b[A\n",
      "\n",
      "\n",
      "\n",
      "\n",
      "\n",
      " 13%|█▎        | 13/100 [38:08<2:33:53, 106.14s/it]\u001b[A\u001b[A\u001b[A\u001b[A\u001b[A\u001b[A\n",
      "\n",
      "\n",
      "\n",
      "\n",
      "\n",
      " 14%|█▍        | 14/100 [46:50<5:30:46, 230.78s/it]\u001b[A\u001b[A\u001b[A\u001b[A\u001b[A\u001b[A\n",
      "\n",
      "\n",
      "\n",
      "\n",
      "\n",
      " 15%|█▌        | 15/100 [47:26<4:04:10, 172.36s/it]\u001b[A\u001b[A\u001b[A\u001b[A\u001b[A\u001b[A\n",
      "\n",
      "\n",
      "\n",
      "\n",
      "\n",
      " 16%|█▌        | 16/100 [48:01<3:03:47, 131.28s/it]\u001b[A\u001b[A\u001b[A\u001b[A\u001b[A\u001b[A\n",
      "\n",
      "\n",
      "\n",
      "\n",
      "\n",
      " 17%|█▋        | 17/100 [48:37<2:22:01, 102.67s/it]\u001b[A\u001b[A\u001b[A\u001b[A\u001b[A\u001b[A\n",
      "\n",
      "\n",
      "\n",
      "\n",
      "\n",
      " 18%|█▊        | 18/100 [49:24<1:57:36, 86.05s/it] \u001b[A\u001b[A\u001b[A\u001b[A\u001b[A\u001b[A\n",
      "\n",
      "\n",
      "\n",
      "\n",
      "\n",
      " 19%|█▉        | 19/100 [50:08<1:39:00, 73.34s/it]\u001b[A\u001b[A\u001b[A\u001b[A\u001b[A\u001b[A\n",
      "\n",
      "\n",
      "\n",
      "\n",
      "\n",
      " 20%|██        | 20/100 [56:41<3:45:47, 169.34s/it]\u001b[A\u001b[A\u001b[A\u001b[A\u001b[A\u001b[A\n",
      "\n",
      "\n",
      "\n",
      "\n",
      "\n",
      " 21%|██        | 21/100 [1:03:13<5:10:49, 236.07s/it]\u001b[A\u001b[A\u001b[A\u001b[A\u001b[A\u001b[A\n",
      "\n",
      "\n",
      "\n",
      "\n",
      "\n",
      " 22%|██▏       | 22/100 [1:09:43<6:06:53, 282.23s/it]\u001b[A\u001b[A\u001b[A\u001b[A\u001b[A\u001b[A\n",
      "\n",
      "\n",
      "\n",
      "\n",
      "\n",
      " 23%|██▎       | 23/100 [1:16:10<6:42:39, 313.76s/it]\u001b[A\u001b[A\u001b[A\u001b[A\u001b[A\u001b[A\n",
      "\n",
      "\n",
      "\n",
      "\n",
      "\n",
      " 24%|██▍       | 24/100 [1:18:40<5:35:13, 264.65s/it]\u001b[A\u001b[A\u001b[A\u001b[A\u001b[A\u001b[A\n",
      "\n",
      "\n",
      "\n",
      "\n",
      "\n",
      " 25%|██▌       | 25/100 [1:19:16<4:05:05, 196.07s/it]\u001b[A\u001b[A\u001b[A\u001b[A\u001b[A\u001b[A\n",
      "\n",
      "\n",
      "\n",
      "\n",
      "\n",
      " 26%|██▌       | 26/100 [1:19:52<3:02:29, 147.96s/it]\u001b[A\u001b[A\u001b[A\u001b[A\u001b[A\u001b[A\n",
      "\n",
      "\n",
      "\n",
      "\n",
      "\n",
      " 27%|██▋       | 27/100 [1:20:28<2:18:56, 114.20s/it]\u001b[A\u001b[A\u001b[A\u001b[A\u001b[A\u001b[A\n",
      "\n",
      "\n",
      "\n",
      "\n",
      "\n",
      " 28%|██▊       | 28/100 [1:21:11<1:51:44, 93.12s/it] \u001b[A\u001b[A\u001b[A\u001b[A\u001b[A\u001b[A\n",
      "\n",
      "\n",
      "\n",
      "\n",
      "\n",
      " 29%|██▉       | 29/100 [1:27:42<3:35:40, 182.26s/it]\u001b[A\u001b[A\u001b[A\u001b[A\u001b[A\u001b[A\n",
      "\n",
      "\n",
      "\n",
      "\n",
      "\n",
      " 30%|███       | 30/100 [1:34:13<4:45:55, 245.07s/it]\u001b[A\u001b[A\u001b[A\u001b[A\u001b[A\u001b[A\n",
      "\n",
      "\n",
      "\n",
      "\n",
      "\n",
      " 31%|███       | 31/100 [1:40:45<5:32:17, 288.95s/it]\u001b[A\u001b[A\u001b[A\u001b[A\u001b[A\u001b[A\n",
      "\n",
      "\n",
      "\n",
      "\n",
      "\n",
      " 32%|███▏      | 32/100 [1:47:15<6:02:02, 319.45s/it]\u001b[A\u001b[A\u001b[A\u001b[A\u001b[A\u001b[A\n",
      "\n",
      "\n",
      "\n",
      "\n",
      "\n",
      " 33%|███▎      | 33/100 [1:47:51<4:21:47, 234.44s/it]\u001b[A\u001b[A\u001b[A\u001b[A\u001b[A\u001b[A\n",
      "\n",
      "\n",
      "\n",
      "\n",
      "\n",
      " 34%|███▍      | 34/100 [1:54:28<5:11:21, 283.05s/it]\u001b[A\u001b[A\u001b[A\u001b[A\u001b[A\u001b[A\n",
      "\n",
      "\n",
      "\n",
      "\n",
      "\n",
      " 35%|███▌      | 35/100 [2:00:59<5:41:53, 315.59s/it]\u001b[A\u001b[A\u001b[A\u001b[A\u001b[A\u001b[A\n",
      "\n",
      "\n",
      "\n",
      "\n",
      "\n",
      " 36%|███▌      | 36/100 [2:01:42<4:09:22, 233.78s/it]\u001b[A\u001b[A\u001b[A\u001b[A\u001b[A\u001b[A\n",
      "\n",
      "\n",
      "\n",
      "\n",
      "\n",
      " 37%|███▋      | 37/100 [2:02:18<3:03:09, 174.44s/it]\u001b[A\u001b[A\u001b[A\u001b[A\u001b[A\u001b[A\n",
      "\n",
      "\n",
      "\n",
      "\n",
      "\n",
      " 38%|███▊      | 38/100 [2:10:17<4:34:29, 265.64s/it]\u001b[A\u001b[A\u001b[A\u001b[A\u001b[A\u001b[A\n",
      "\n",
      "\n",
      "\n",
      "\n",
      "\n",
      " 39%|███▉      | 39/100 [2:10:54<3:20:20, 197.05s/it]\u001b[A\u001b[A\u001b[A\u001b[A\u001b[A\u001b[A\n",
      "\n",
      "\n",
      "\n",
      "\n",
      "\n",
      " 40%|████      | 40/100 [2:11:32<2:29:24, 149.41s/it]\u001b[A\u001b[A\u001b[A\u001b[A\u001b[A\u001b[A\n",
      "\n",
      "\n",
      "\n",
      "\n",
      "\n",
      " 41%|████      | 41/100 [2:12:17<1:56:01, 118.00s/it]\u001b[A\u001b[A\u001b[A\u001b[A\u001b[A\u001b[A\n",
      "\n",
      "\n",
      "\n",
      "\n",
      "\n",
      " 42%|████▏     | 42/100 [2:13:01<1:32:45, 95.96s/it] \u001b[A\u001b[A\u001b[A\u001b[A\u001b[A\u001b[A\n",
      "\n",
      "\n",
      "\n",
      "\n",
      "\n",
      " 43%|████▎     | 43/100 [2:13:45<1:16:19, 80.34s/it]\u001b[A\u001b[A\u001b[A\u001b[A\u001b[A\u001b[A\n",
      "\n",
      "\n",
      "\n",
      "\n",
      "\n",
      " 44%|████▍     | 44/100 [2:14:31<1:05:14, 69.89s/it]\u001b[A\u001b[A\u001b[A\u001b[A\u001b[A\u001b[A\n",
      "\n",
      "\n",
      "\n",
      "\n",
      "\n",
      " 45%|████▌     | 45/100 [2:15:14<56:39, 61.81s/it]  \u001b[A\u001b[A\u001b[A\u001b[A\u001b[A\u001b[A\n",
      "\n",
      "\n",
      "\n",
      "\n",
      "\n",
      " 46%|████▌     | 46/100 [2:15:58<51:03, 56.73s/it]\u001b[A\u001b[A\u001b[A\u001b[A\u001b[A\u001b[A\n",
      "\n",
      "\n",
      "\n",
      "\n",
      "\n",
      " 47%|████▋     | 47/100 [2:16:47<47:53, 54.22s/it]\u001b[A\u001b[A\u001b[A\u001b[A\u001b[A\u001b[A\n",
      "\n",
      "\n",
      "\n",
      "\n",
      "\n",
      " 48%|████▊     | 48/100 [2:23:20<2:15:10, 155.97s/it]\u001b[A\u001b[A\u001b[A\u001b[A\u001b[A\u001b[A\n",
      "\n",
      "\n",
      "\n",
      "\n",
      "\n",
      " 49%|████▉     | 49/100 [2:29:50<3:12:05, 225.98s/it]\u001b[A\u001b[A\u001b[A\u001b[A\u001b[A\u001b[A\n",
      "\n",
      "\n",
      "\n",
      "\n",
      "\n",
      " 50%|█████     | 50/100 [2:30:32<2:22:21, 170.83s/it]\u001b[A\u001b[A\u001b[A\u001b[A\u001b[A\u001b[A\n",
      "\n",
      "\n",
      "\n",
      "\n",
      "\n",
      " 51%|█████     | 51/100 [2:44:25<5:01:54, 369.68s/it]\u001b[A\u001b[A\u001b[A\u001b[A\u001b[A\u001b[A\n",
      "\n",
      "\n",
      "\n",
      "\n",
      "\n",
      " 52%|█████▏    | 52/100 [2:55:42<6:09:31, 461.91s/it]\u001b[A\u001b[A\u001b[A\u001b[A\u001b[A\u001b[A\n",
      "\n",
      "\n",
      "\n",
      "\n",
      "\n",
      " 53%|█████▎    | 53/100 [3:02:10<5:44:23, 439.66s/it]\u001b[A\u001b[A\u001b[A\u001b[A\u001b[A\u001b[A\n",
      "\n",
      "\n",
      "\n",
      "\n",
      "\n",
      " 54%|█████▍    | 54/100 [3:02:52<4:05:39, 320.43s/it]\u001b[A\u001b[A\u001b[A\u001b[A\u001b[A\u001b[A\n",
      "\n",
      "\n",
      "\n",
      "\n",
      "\n",
      " 55%|█████▌    | 55/100 [3:07:05<3:45:05, 300.13s/it]\u001b[A\u001b[A\u001b[A\u001b[A\u001b[A\u001b[A\n",
      "\n",
      "\n",
      "\n",
      "\n",
      "\n",
      " 56%|█████▌    | 56/100 [3:07:47<2:43:20, 222.74s/it]\u001b[A\u001b[A\u001b[A\u001b[A\u001b[A\u001b[A\n",
      "\n",
      "\n",
      "\n",
      "\n",
      "\n",
      " 57%|█████▋    | 57/100 [3:17:04<3:51:24, 322.89s/it]\u001b[A\u001b[A\u001b[A\u001b[A\u001b[A\u001b[A\n",
      "\n",
      "\n",
      "\n",
      "\n",
      "\n",
      " 58%|█████▊    | 58/100 [3:17:39<2:45:41, 236.71s/it]\u001b[A\u001b[A\u001b[A\u001b[A\u001b[A\u001b[A\n",
      "\n",
      "\n",
      "\n",
      "\n",
      "\n",
      " 59%|█████▉    | 59/100 [3:18:15<2:00:28, 176.31s/it]\u001b[A\u001b[A\u001b[A\u001b[A\u001b[A\u001b[A\n",
      "\n",
      "\n",
      "\n",
      "\n",
      "\n",
      " 60%|██████    | 60/100 [3:18:50<1:29:18, 133.97s/it]\u001b[A\u001b[A\u001b[A\u001b[A\u001b[A\u001b[A\n",
      "\n",
      "\n",
      "\n",
      "\n",
      "\n",
      " 61%|██████    | 61/100 [3:19:26<1:07:59, 104.59s/it]\u001b[A\u001b[A\u001b[A\u001b[A\u001b[A\u001b[A\n",
      "\n",
      "\n",
      "\n",
      "\n",
      "\n",
      " 62%|██████▏   | 62/100 [3:20:08<54:19, 85.77s/it]   \u001b[A\u001b[A\u001b[A\u001b[A\u001b[A\u001b[A\n",
      "\n",
      "\n",
      "\n",
      "\n",
      "\n",
      " 63%|██████▎   | 63/100 [3:20:43<43:35, 70.69s/it]\u001b[A\u001b[A\u001b[A\u001b[A\u001b[A\u001b[A\n",
      "\n",
      "\n",
      "\n",
      "\n",
      "\n",
      " 64%|██████▍   | 64/100 [3:21:25<37:13, 62.05s/it]\u001b[A\u001b[A\u001b[A\u001b[A\u001b[A\u001b[A\n",
      "\n",
      "\n",
      "\n",
      "\n",
      "\n",
      " 65%|██████▌   | 65/100 [3:22:12<33:28, 57.38s/it]\u001b[A\u001b[A\u001b[A\u001b[A\u001b[A\u001b[A\n",
      "\n",
      "\n",
      "\n",
      "\n",
      "\n",
      " 66%|██████▌   | 66/100 [3:28:41<1:28:55, 156.94s/it]\u001b[A\u001b[A\u001b[A\u001b[A\u001b[A\u001b[A\n",
      "\n",
      "\n",
      "\n",
      "\n",
      "\n",
      " 67%|██████▋   | 67/100 [3:29:24<1:07:28, 122.67s/it]\u001b[A\u001b[A\u001b[A\u001b[A\u001b[A\u001b[A\n",
      "\n",
      "\n",
      "\n",
      "\n",
      "\n",
      " 68%|██████▊   | 68/100 [3:35:52<1:47:58, 202.46s/it]\u001b[A\u001b[A\u001b[A\u001b[A\u001b[A\u001b[A\n",
      "\n",
      "\n",
      "\n",
      "\n",
      "\n",
      " 69%|██████▉   | 69/100 [3:42:23<2:13:47, 258.95s/it]\u001b[A\u001b[A\u001b[A\u001b[A\u001b[A\u001b[A\n",
      "\n",
      "\n",
      "\n",
      "\n",
      "\n",
      " 70%|███████   | 70/100 [3:43:10<1:37:35, 195.19s/it]\u001b[A\u001b[A\u001b[A\u001b[A\u001b[A\u001b[A\n",
      "\n",
      "\n",
      "\n",
      "\n",
      "\n",
      " 71%|███████   | 71/100 [3:49:38<2:02:21, 253.14s/it]\u001b[A\u001b[A\u001b[A\u001b[A\u001b[A\u001b[A\n",
      "\n",
      "\n",
      "\n",
      "\n",
      "\n",
      " 72%|███████▏  | 72/100 [3:56:08<2:17:17, 294.20s/it]\u001b[A\u001b[A\u001b[A\u001b[A\u001b[A\u001b[A\n",
      "\n",
      "\n",
      "\n",
      "\n",
      "\n",
      " 73%|███████▎  | 73/100 [4:02:36<2:25:04, 322.41s/it]\u001b[A\u001b[A\u001b[A\u001b[A\u001b[A\u001b[A\n",
      "\n",
      "\n",
      "\n",
      "\n",
      "\n",
      " 74%|███████▍  | 74/100 [4:03:20<1:43:31, 238.89s/it]\u001b[A\u001b[A\u001b[A\u001b[A\u001b[A\u001b[A\n",
      "\n",
      "\n",
      "\n",
      "\n",
      "\n",
      " 75%|███████▌  | 75/100 [4:09:49<1:58:14, 283.79s/it]\u001b[A\u001b[A\u001b[A\u001b[A\u001b[A\u001b[A\n",
      "\n",
      "\n",
      "\n",
      "\n",
      "\n",
      " 76%|███████▌  | 76/100 [4:16:18<2:06:10, 315.42s/it]\u001b[A\u001b[A\u001b[A\u001b[A\u001b[A\u001b[A\n",
      "\n",
      "\n",
      "\n",
      "\n",
      "\n",
      " 77%|███████▋  | 77/100 [4:22:47<2:09:19, 337.35s/it]\u001b[A\u001b[A\u001b[A\u001b[A\u001b[A\u001b[A\n",
      "\n",
      "\n",
      "\n",
      "\n",
      "\n",
      " 78%|███████▊  | 78/100 [4:23:22<1:30:28, 246.76s/it]\u001b[A\u001b[A\u001b[A\u001b[A\u001b[A\u001b[A\n",
      "\n",
      "\n",
      "\n",
      "\n",
      "\n",
      " 79%|███████▉  | 79/100 [4:24:04<1:04:52, 185.35s/it]\u001b[A\u001b[A\u001b[A\u001b[A\u001b[A\u001b[A\n",
      "\n",
      "\n",
      "\n",
      "\n",
      "\n",
      " 80%|████████  | 80/100 [4:30:33<1:22:07, 246.38s/it]\u001b[A\u001b[A\u001b[A\u001b[A\u001b[A\u001b[A\n",
      "\n",
      "\n",
      "\n",
      "\n",
      "\n",
      " 81%|████████  | 81/100 [4:31:14<58:33, 184.94s/it]  \u001b[A\u001b[A\u001b[A\u001b[A\u001b[A\u001b[A\n",
      "\u001b[A\n",
      "\n",
      "\n",
      "\n",
      "\u001b[A\u001b[A\u001b[A\u001b[A\n",
      "\n",
      "\n",
      "\n",
      "\n",
      "\n",
      " 82%|████████▏ | 82/100 [4:37:42<1:13:42, 245.68s/it]\u001b[A\u001b[A\u001b[A\u001b[A\u001b[A\n",
      "\n",
      "\n",
      "\n",
      "\n",
      " 83%|████████▎ | 83/100 [4:38:15<51:33, 181.98s/it]  \u001b[A\u001b[A\u001b[A\u001b[A\u001b[A\n",
      "\n",
      "\n",
      "\n",
      "\n",
      " 84%|████████▍ | 84/100 [4:44:41<1:04:51, 243.24s/it]\u001b[A\u001b[A\u001b[A\u001b[A\u001b[A\n",
      "\n",
      "\n",
      "\n",
      "\n",
      " 85%|████████▌ | 85/100 [4:45:14<44:59, 180.00s/it]  \u001b[A\u001b[A\u001b[A\u001b[A\u001b[A\n",
      "\n",
      "\n",
      "\n",
      "\n",
      " 86%|████████▌ | 86/100 [4:51:39<56:21, 241.55s/it]\u001b[A\u001b[A\u001b[A\u001b[A\u001b[A\n",
      "\n",
      "\n",
      "\n",
      "\n",
      " 87%|████████▋ | 87/100 [4:58:04<1:01:40, 284.65s/it]\u001b[A\u001b[A\u001b[A\u001b[A\u001b[A\n",
      "\n",
      "\n",
      "\n",
      "\n",
      " 88%|████████▊ | 88/100 [5:04:30<1:02:59, 314.99s/it]\u001b[A\u001b[A\u001b[A\u001b[A\u001b[A\n",
      "\n",
      "\n",
      "\n",
      "\n",
      " 89%|████████▉ | 89/100 [5:10:57<1:01:41, 336.52s/it]\u001b[A\u001b[A\u001b[A\u001b[A\u001b[A\n",
      "\n",
      "\n",
      "\n",
      "\n",
      " 90%|█████████ | 90/100 [5:11:30<40:55, 245.59s/it]  \u001b[A\u001b[A\u001b[A\u001b[A\u001b[A\n",
      "\n",
      "\n",
      "\n",
      "\n",
      " 91%|█████████ | 91/100 [5:13:58<32:26, 216.25s/it]\u001b[A\u001b[A\u001b[A\u001b[A\u001b[A\n",
      "\n",
      "\n",
      "\n",
      "\n",
      " 92%|█████████▏| 92/100 [5:21:52<39:09, 293.71s/it]\u001b[A\u001b[A\u001b[A\u001b[A\u001b[A\n",
      "\n",
      "\n",
      "\n",
      "\n",
      " 93%|█████████▎| 93/100 [5:22:33<25:23, 217.70s/it]\u001b[A\u001b[A\u001b[A\u001b[A\u001b[A\n",
      "\n",
      "\n",
      "\n",
      "\n",
      " 94%|█████████▍| 94/100 [5:28:59<26:50, 268.37s/it]\u001b[A\u001b[A\u001b[A\u001b[A\u001b[A\n",
      "\n",
      "\n",
      "\n",
      "\n",
      " 95%|█████████▌| 95/100 [5:36:53<27:30, 330.09s/it]\u001b[A\u001b[A\u001b[A\u001b[A\u001b[A\n",
      "\n",
      "\n",
      "\n",
      "\n",
      " 96%|█████████▌| 96/100 [5:37:34<16:12, 243.21s/it]\u001b[A\u001b[A\u001b[A\u001b[A\u001b[A\n",
      "\n",
      "\n",
      "\n",
      "\n",
      " 97%|█████████▋| 97/100 [5:44:01<14:19, 286.36s/it]\u001b[A\u001b[A\u001b[A\u001b[A\u001b[A\n",
      "\n",
      "\n",
      "\n",
      "\n",
      " 98%|█████████▊| 98/100 [5:44:41<07:04, 212.39s/it]\u001b[A\u001b[A\u001b[A\u001b[A\u001b[A\n",
      "\n",
      "\n",
      "\n",
      "\n",
      " 99%|█████████▉| 99/100 [5:51:06<04:24, 264.36s/it]\u001b[A\u001b[A\u001b[A\u001b[A\u001b[A\n",
      "\n",
      "\n",
      "\n",
      "\n",
      "100%|██████████| 100/100 [5:57:32<00:00, 300.79s/it]"
     ]
    },
    {
     "name": "stdout",
     "output_type": "stream",
     "text": [
      "********************results*****************\n",
      "({'n_componenets': 1.0, 'n_estimators': 1, 'learning_rate': 0.001, 'reg_alpha': 0.0001664165990949194, 'reg_lambda': 0.00018284667763744585, 'ratio': 2}, 0.48313719956758316)\n"
     ]
    },
    {
     "name": "stderr",
     "output_type": "stream",
     "text": [
      "\u001b[A\u001b[A\u001b[A\u001b[A\u001b[A\n",
      "\n",
      "\n",
      "\n",
      "\n",
      "\u001b[A\u001b[A\u001b[A\u001b[A\u001b[A"
     ]
    }
   ],
   "source": [
    "import random\n",
    "import numpy as np\n",
    "from bboptimizer import Optimizer\n",
    "\n",
    "np.random.seed(0)\n",
    "random.seed(0)\n",
    "bayes_opt = Optimizer(score_func, params_conf, sampler=\"bayes\", r_min=10, maximize=False)\n",
    "results = bayes_opt.search(num_iter=100)\n",
    "print(\"********************results*****************\")\n",
    "print(results)"
   ]
  },
  {
   "cell_type": "markdown",
   "metadata": {},
   "source": [
    "We also found the optimal set of hyperparameters!"
   ]
  },
  {
   "cell_type": "markdown",
   "metadata": {},
   "source": [
    "### Score"
   ]
  },
  {
   "cell_type": "code",
   "execution_count": 69,
   "metadata": {},
   "outputs": [],
   "source": [
    "clf = FraudEstimator(n_jobs=-1, **results[0])\n",
    "clf.fit(df_train, y_train)\n",
    "proba = clf.predict_proba(df_valid)[:, 1]\n",
    "predict = clf.predict(df_valid)"
   ]
  },
  {
   "cell_type": "code",
   "execution_count": 77,
   "metadata": {},
   "outputs": [],
   "source": [
    "from sklearn.metrics import roc_curve, roc_auc_score, accuracy_score,\\\n",
    "    f1_score, accuracy_score\n",
    "\n",
    "fpr, tpr, thresholds = roc_curve(y_valid, proba)\n",
    "roc_auc = roc_auc_score(y_valid, proba)\n",
    "f1 = f1_score(y_valid, predict)\n",
    "accuracy = accuracy_score(y_valid, predict)"
   ]
  },
  {
   "cell_type": "code",
   "execution_count": 76,
   "metadata": {},
   "outputs": [
    {
     "data": {
      "image/png": "[encoded data removed]",
      "text/plain": [
       "<matplotlib.figure.Figure at 0x7f7dad2325f8>"
      ]
     },
     "metadata": {},
     "output_type": "display_data"
    }
   ],
   "source": [
    "plt.figure()\n",
    "lw = 2\n",
    "plt.plot(fpr, tpr, color='darkorange',\n",
    "         lw=lw, label='ROC curve (area = %0.2f)' % roc_auc)\n",
    "plt.plot([0, 1], [0, 1], color='navy', lw=lw, linestyle='--')\n",
    "plt.xlim([0.0, 1.0])\n",
    "plt.ylim([0.0, 1.05])\n",
    "plt.xlabel('False Positive Rate')\n",
    "plt.ylabel('True Positive Rate')\n",
    "plt.title('ROC')\n",
    "plt.legend(loc=\"lower right\")\n",
    "plt.show()"
   ]
  },
  {
   "cell_type": "code",
   "execution_count": 80,
   "metadata": {},
   "outputs": [
    {
     "name": "stdout",
     "output_type": "stream",
     "text": [
      "Accuracy = 0.856103\n",
      "F1 = 0.435268\n",
      "AUC = 0.730571\n"
     ]
    }
   ],
   "source": [
    "print(\"Accuracy = %f\" % accuracy)\n",
    "print(\"F1 = %f\" % f1)\n",
    "print(\"AUC = %f\" % roc_auc)"
   ]
  },
  {
   "cell_type": "markdown",
   "metadata": {},
   "source": [
    "# 3. Explain a used model to the client"
   ]
  },
  {
   "cell_type": "markdown",
   "metadata": {},
   "source": [
    "Gradient boost improves the performance by aggregating many Decision Trees.\n",
    "\n",
    "Decision Tree classifies determines threshold to classify data into some categories. For example, let's assume that there is a correlation between cancer and height. After looking at data, you may find that people over certain N feet are more likely to get cancer. Decision Tree determines this number N by looking at data.  \n",
    "\n",
    "Gradient boost aggregate multiple Decision Trees to determines more complex rules to classify data. For example, assume that you find that the relation between cancer and height might not be that simple. The cancer may have relation with square of height or some other complex expression. In that case, you need to add other trees to cover the part, which is not preditable by a simple tree.\n",
    "\n",
    "By adding more trees, Gradient boost outperforms simple Decision Tree."
   ]
  },
  {
   "cell_type": "code",
   "execution_count": null,
   "metadata": {
    "collapsed": true
   },
   "outputs": [],
   "source": []
  }
 ],
 "metadata": {
  "kernelspec": {
   "display_name": "Python 3",
   "language": "python",
   "name": "python3"
  },
  "language_info": {
   "codemirror_mode": {
    "name": "ipython",
    "version": 3
   },
   "file_extension": ".py",
   "mimetype": "text/x-python",
   "name": "python",
   "nbconvert_exporter": "python",
   "pygments_lexer": "ipython3",
   "version": "3.6.1"
  }
 },
 "nbformat": 4,
 "nbformat_minor": 2
}
