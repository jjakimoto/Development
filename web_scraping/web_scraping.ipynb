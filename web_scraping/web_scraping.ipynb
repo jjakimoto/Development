{
 "cells": [
  {
   "cell_type": "code",
   "execution_count": 22,
   "metadata": {},
   "outputs": [
    {
     "data": {
      "text/plain": [
       "'https://yell.dmm.com/lp/list/page:1'"
      ]
     },
     "execution_count": 22,
     "metadata": {},
     "output_type": "execute_result"
    }
   ],
   "source": [
    "import os\n",
    "os.path.join(\"https://yell.dmm.com/lp/list\", \"page:1\")"
   ]
  },
  {
   "cell_type": "code",
   "execution_count": 26,
   "metadata": {},
   "outputs": [
    {
     "name": "stderr",
     "output_type": "stream",
     "text": [
      "/home/tomoaki/anaconda3/lib/python3.6/site-packages/bs4/__init__.py:181: UserWarning: No parser was explicitly specified, so I'm using the best available HTML parser for this system (\"lxml\"). This usually isn't a problem, but if you run this code on another system, or in a different virtual environment, it may use a different parser and behave differently.\n",
      "\n",
      "The code that caused this warning is on line 193 of the file /home/tomoaki/anaconda3/lib/python3.6/runpy.py. To get rid of this warning, change code that looks like this:\n",
      "\n",
      " BeautifulSoup(YOUR_MARKUP})\n",
      "\n",
      "to this:\n",
      "\n",
      " BeautifulSoup(YOUR_MARKUP, \"lxml\")\n",
      "\n",
      "  markup_type=markup_type))\n"
     ]
    }
   ],
   "source": [
    "from urllib.request import urlopen\n",
    "from bs4 import BeautifulSoup\n",
    "import re\n",
    "url = \"https://yell.dmm.com/lp/list/\"\n",
    "html = urlopen(url)\n",
    "bsobj = BeautifulSoup(html)\n",
    "links = bsobj.findAll(\"a\", href=re.compile(\".*apps/member.*\"))\n"
   ]
  },
  {
   "cell_type": "code",
   "execution_count": 28,
   "metadata": {},
   "outputs": [
    {
     "data": {
      "text/plain": [
       "<a href=\"https://yell.dmm.com/apps/member/5270634/\">\n",
       "<div class=\"pic\"><img alt=\"鳥嶌 鈴 (新生おやプリ)\" src=\"/lp/app/resource/img/profile/2017/0704/profile5270634_20170705173440.jpg?1499243680\"/></div>\n",
       "<p class=\"tit\">鳥嶌 鈴 (新生おやプリ)</p>\n",
       "</a>"
      ]
     },
     "execution_count": 28,
     "metadata": {},
     "output_type": "execute_result"
    }
   ],
   "source": [
    "links[0]"
   ]
  },
  {
   "cell_type": "code",
   "execution_count": 27,
   "metadata": {},
   "outputs": [
    {
     "data": {
      "text/plain": [
       "28"
      ]
     },
     "execution_count": 27,
     "metadata": {},
     "output_type": "execute_result"
    }
   ],
   "source": [
    "len(links)"
   ]
  },
  {
   "cell_type": "code",
   "execution_count": 32,
   "metadata": {},
   "outputs": [
    {
     "data": {
      "text/plain": [
       "True"
      ]
     },
     "execution_count": 32,
     "metadata": {},
     "output_type": "execute_result"
    }
   ],
   "source": [
    "\"href\" in links[0].attrs"
   ]
  },
  {
   "cell_type": "code",
   "execution_count": 5,
   "metadata": {
    "collapsed": true
   },
   "outputs": [],
   "source": [
    "from os.path import join\n",
    "from urllib.error import HTTPError\n",
    "from urllib.request import urlopen\n",
    "import re\n",
    "\n",
    "def crawl_pages(url=\"https://yell.dmm.com/lp/list/\", max_num=10000, max_page=10000):\n",
    "    links = []\n",
    "    for i in range(1, max_page):\n",
    "        try:\n",
    "            url_i = join(url, \"page:\"+str(i))\n",
    "            html = urlopen(url_i)\n",
    "            bsobj = BeautifulSoup(html, \"lxml\")\n",
    "            results = bsobj.findAll(\"a\", href=re.compile(\".*apps/member.*\"))\n",
    "            for result in results:\n",
    "                if \"href\" in result.attrs:\n",
    "                    links.append(result.attrs[\"href\"])\n",
    "            if len(links) >= max_num:\n",
    "                break\n",
    "        except HTTPError as e:\n",
    "            break\n",
    "        except KeyboardInterrupt as e:\n",
    "            break\n",
    "    return links      "
   ]
  },
  {
   "cell_type": "code",
   "execution_count": 6,
   "metadata": {
    "collapsed": true
   },
   "outputs": [],
   "source": [
    "links = crawl_pages()"
   ]
  },
  {
   "cell_type": "code",
   "execution_count": 8,
   "metadata": {},
   "outputs": [
    {
     "data": {
      "text/plain": [
       "73"
      ]
     },
     "execution_count": 8,
     "metadata": {},
     "output_type": "execute_result"
    }
   ],
   "source": [
    "len(links)"
   ]
  },
  {
   "cell_type": "code",
   "execution_count": 21,
   "metadata": {
    "collapsed": true
   },
   "outputs": [],
   "source": [
    "from urllib.request import urlretrieve\n",
    "from tqdm import tqdm\n",
    "from bs4 import BeautifulSoup\n",
    "import re\n",
    "\n",
    "\n",
    "def get_images_link(links, count, num_images=1000, save_path=\"idle_images\", print_freq=100):\n",
    "    images = []\n",
    "    for link in tqdm(links[:num_images]):\n",
    "        try:\n",
    "            html = urlopen(link)\n",
    "            bsobj = BeautifulSoup(html, \"lxml\")\n",
    "            results = bsobj.findAll(\"a\", href=re.compile(\"/apps/article.*\"))\n",
    "            images.extend(results)\n",
    "            for result in results:\n",
    "                img_link = result.find(\"img\").attrs[\"data-original\"]\n",
    "                filename = img_link.split(\"/\")[-1]\n",
    "                filename = join(save_path, filename)\n",
    "                urlretrieve(img_link, filename)\n",
    "                count += 1\n",
    "                if count % print_freq == 0:\n",
    "                    print(\"current number of images: %d\" % count)\n",
    "        except HTTPError as e:\n",
    "            break\n",
    "        except KeyboardInterrupt as e:\n",
    "            break"
   ]
  },
  {
   "cell_type": "code",
   "execution_count": 22,
   "metadata": {},
   "outputs": [
    {
     "name": "stderr",
     "output_type": "stream",
     "text": [
      "\n",
      "  0%|          | 0/73 [00:00<?, ?it/s]\u001b[A\n",
      "  1%|▏         | 1/73 [00:07<09:33,  7.96s/it]"
     ]
    }
   ],
   "source": [
    "get_images_link(links, 0)"
   ]
  },
  {
   "cell_type": "code",
   "execution_count": 30,
   "metadata": {
    "collapsed": true
   },
   "outputs": [],
   "source": [
    "def get_images(url=\"https://yell.dmm.com/lp/list/\", max_num=10000, max_page=10000, print_freq=100):\n",
    "    count = 0\n",
    "    links = crawl_pages(url, max_num, max_page)\n",
    "    get_images_link(links, count, print_freq=print_freq)"
   ]
  },
  {
   "cell_type": "code",
   "execution_count": 31,
   "metadata": {},
   "outputs": [
    {
     "name": "stderr",
     "output_type": "stream",
     "text": [
      "\n",
      "  0%|          | 0/851 [00:00<?, ?it/s]\u001b[A\n",
      "  1%|          | 9/851 [02:08<3:54:00, 16.67s/it]"
     ]
    },
    {
     "name": "stdout",
     "output_type": "stream",
     "text": [
      "current number of images: 100\n"
     ]
    },
    {
     "name": "stderr",
     "output_type": "stream",
     "text": [
      "  2%|▏         | 17/851 [04:47<4:00:37, 17.31s/it]"
     ]
    },
    {
     "name": "stdout",
     "output_type": "stream",
     "text": [
      "current number of images: 200\n"
     ]
    },
    {
     "name": "stderr",
     "output_type": "stream",
     "text": [
      "  3%|▎         | 23/851 [07:08<5:27:39, 23.74s/it]"
     ]
    },
    {
     "name": "stdout",
     "output_type": "stream",
     "text": [
      "current number of images: 300\n"
     ]
    },
    {
     "name": "stderr",
     "output_type": "stream",
     "text": [
      "  3%|▎         | 28/851 [09:23<6:08:32, 26.87s/it]"
     ]
    },
    {
     "name": "stdout",
     "output_type": "stream",
     "text": [
      "current number of images: 400\n"
     ]
    },
    {
     "name": "stderr",
     "output_type": "stream",
     "text": [
      "  4%|▍         | 33/851 [11:40<6:12:44, 27.34s/it]"
     ]
    },
    {
     "name": "stdout",
     "output_type": "stream",
     "text": [
      "current number of images: 500\n"
     ]
    },
    {
     "name": "stderr",
     "output_type": "stream",
     "text": [
      "  4%|▍         | 38/851 [13:54<6:08:18, 27.18s/it]"
     ]
    },
    {
     "name": "stdout",
     "output_type": "stream",
     "text": [
      "current number of images: 600\n"
     ]
    },
    {
     "name": "stderr",
     "output_type": "stream",
     "text": [
      "  5%|▌         | 45/851 [16:07<3:10:11, 14.16s/it]"
     ]
    },
    {
     "name": "stdout",
     "output_type": "stream",
     "text": [
      "current number of images: 700\n"
     ]
    },
    {
     "name": "stderr",
     "output_type": "stream",
     "text": [
      "  6%|▌         | 52/851 [18:41<5:14:11, 23.59s/it]"
     ]
    },
    {
     "name": "stdout",
     "output_type": "stream",
     "text": [
      "current number of images: 800\n"
     ]
    },
    {
     "name": "stderr",
     "output_type": "stream",
     "text": [
      "  7%|▋         | 57/851 [20:50<5:34:23, 25.27s/it]"
     ]
    },
    {
     "name": "stdout",
     "output_type": "stream",
     "text": [
      "current number of images: 900\n"
     ]
    },
    {
     "name": "stderr",
     "output_type": "stream",
     "text": [
      "  7%|▋         | 62/851 [23:09<6:00:15, 27.40s/it]"
     ]
    },
    {
     "name": "stdout",
     "output_type": "stream",
     "text": [
      "current number of images: 1000\n"
     ]
    },
    {
     "name": "stderr",
     "output_type": "stream",
     "text": [
      "  8%|▊         | 68/851 [25:10<5:07:27, 23.56s/it]"
     ]
    },
    {
     "name": "stdout",
     "output_type": "stream",
     "text": [
      "current number of images: 1100\n"
     ]
    },
    {
     "name": "stderr",
     "output_type": "stream",
     "text": [
      "  9%|▊         | 73/851 [27:22<5:30:58, 25.53s/it]"
     ]
    },
    {
     "name": "stdout",
     "output_type": "stream",
     "text": [
      "current number of images: 1200\n"
     ]
    },
    {
     "name": "stderr",
     "output_type": "stream",
     "text": [
      "  9%|▉         | 80/851 [29:39<5:04:50, 23.72s/it]"
     ]
    },
    {
     "name": "stdout",
     "output_type": "stream",
     "text": [
      "current number of images: 1300\n"
     ]
    },
    {
     "name": "stderr",
     "output_type": "stream",
     "text": [
      " 11%|█         | 93/851 [32:29<4:03:31, 19.28s/it]"
     ]
    },
    {
     "name": "stdout",
     "output_type": "stream",
     "text": [
      "current number of images: 1400\n"
     ]
    },
    {
     "name": "stderr",
     "output_type": "stream",
     "text": [
      " 12%|█▏        | 98/851 [34:48<5:33:38, 26.59s/it]"
     ]
    },
    {
     "name": "stdout",
     "output_type": "stream",
     "text": [
      "current number of images: 1500\n"
     ]
    },
    {
     "name": "stderr",
     "output_type": "stream",
     "text": [
      " 12%|█▏        | 103/851 [37:04<5:30:01, 26.47s/it]"
     ]
    },
    {
     "name": "stdout",
     "output_type": "stream",
     "text": [
      "current number of images: 1600\n"
     ]
    },
    {
     "name": "stderr",
     "output_type": "stream",
     "text": [
      " 13%|█▎        | 108/851 [39:23<5:42:10, 27.63s/it]"
     ]
    },
    {
     "name": "stdout",
     "output_type": "stream",
     "text": [
      "current number of images: 1700\n"
     ]
    },
    {
     "name": "stderr",
     "output_type": "stream",
     "text": [
      " 13%|█▎        | 114/851 [41:43<4:04:18, 19.89s/it]"
     ]
    },
    {
     "name": "stdout",
     "output_type": "stream",
     "text": [
      "current number of images: 1800\n"
     ]
    },
    {
     "name": "stderr",
     "output_type": "stream",
     "text": [
      " 14%|█▍        | 123/851 [43:52<2:37:22, 12.97s/it]"
     ]
    },
    {
     "name": "stdout",
     "output_type": "stream",
     "text": [
      "current number of images: 1900\n"
     ]
    },
    {
     "name": "stderr",
     "output_type": "stream",
     "text": [
      " 15%|█▌        | 128/851 [46:10<5:01:55, 25.06s/it]"
     ]
    },
    {
     "name": "stdout",
     "output_type": "stream",
     "text": [
      "current number of images: 2000\n"
     ]
    },
    {
     "name": "stderr",
     "output_type": "stream",
     "text": [
      " 16%|█▌        | 133/851 [48:30<5:24:34, 27.12s/it]"
     ]
    },
    {
     "name": "stdout",
     "output_type": "stream",
     "text": [
      "current number of images: 2100\n"
     ]
    },
    {
     "name": "stderr",
     "output_type": "stream",
     "text": [
      " 16%|█▌        | 138/851 [50:49<5:26:13, 27.45s/it]"
     ]
    },
    {
     "name": "stdout",
     "output_type": "stream",
     "text": [
      "current number of images: 2200\n"
     ]
    },
    {
     "name": "stderr",
     "output_type": "stream",
     "text": [
      " 17%|█▋        | 144/851 [53:26<5:13:28, 26.60s/it]"
     ]
    },
    {
     "name": "stdout",
     "output_type": "stream",
     "text": [
      "current number of images: 2300\n"
     ]
    },
    {
     "name": "stderr",
     "output_type": "stream",
     "text": [
      " 18%|█▊        | 149/851 [55:40<5:17:04, 27.10s/it]"
     ]
    },
    {
     "name": "stdout",
     "output_type": "stream",
     "text": [
      "current number of images: 2400\n"
     ]
    },
    {
     "name": "stderr",
     "output_type": "stream",
     "text": [
      " 18%|█▊        | 154/851 [57:59<5:18:52, 27.45s/it]"
     ]
    },
    {
     "name": "stdout",
     "output_type": "stream",
     "text": [
      "current number of images: 2500\n"
     ]
    },
    {
     "name": "stderr",
     "output_type": "stream",
     "text": [
      " 20%|█▉        | 167/851 [1:00:30<1:03:50,  5.60s/it]"
     ]
    },
    {
     "name": "stdout",
     "output_type": "stream",
     "text": [
      "current number of images: 2600\n"
     ]
    },
    {
     "name": "stderr",
     "output_type": "stream",
     "text": [
      " 20%|██        | 172/851 [1:02:53<4:36:26, 24.43s/it]"
     ]
    },
    {
     "name": "stdout",
     "output_type": "stream",
     "text": [
      "current number of images: 2700\n"
     ]
    },
    {
     "name": "stderr",
     "output_type": "stream",
     "text": [
      " 21%|██        | 177/851 [1:05:10<5:01:20, 26.83s/it]"
     ]
    },
    {
     "name": "stdout",
     "output_type": "stream",
     "text": [
      "current number of images: 2800\n"
     ]
    },
    {
     "name": "stderr",
     "output_type": "stream",
     "text": [
      " 22%|██▏       | 183/851 [1:07:30<4:22:54, 23.61s/it]"
     ]
    },
    {
     "name": "stdout",
     "output_type": "stream",
     "text": [
      "current number of images: 2900\n"
     ]
    },
    {
     "name": "stderr",
     "output_type": "stream",
     "text": [
      " 22%|██▏       | 190/851 [1:09:55<3:32:05, 19.25s/it]"
     ]
    },
    {
     "name": "stdout",
     "output_type": "stream",
     "text": [
      "current number of images: 3000\n"
     ]
    },
    {
     "name": "stderr",
     "output_type": "stream",
     "text": [
      " 23%|██▎       | 196/851 [1:12:18<4:36:27, 25.32s/it]"
     ]
    },
    {
     "name": "stdout",
     "output_type": "stream",
     "text": [
      "current number of images: 3100\n"
     ]
    },
    {
     "name": "stderr",
     "output_type": "stream",
     "text": [
      " 24%|██▎       | 201/851 [1:14:35<4:50:41, 26.83s/it]"
     ]
    },
    {
     "name": "stdout",
     "output_type": "stream",
     "text": [
      "current number of images: 3200\n"
     ]
    },
    {
     "name": "stderr",
     "output_type": "stream",
     "text": [
      " 24%|██▍       | 206/851 [1:16:24<4:27:22, 24.87s/it]"
     ]
    },
    {
     "name": "stdout",
     "output_type": "stream",
     "text": [
      "current number of images: 3300\n"
     ]
    },
    {
     "name": "stderr",
     "output_type": "stream",
     "text": [
      " 25%|██▍       | 211/851 [1:18:39<4:44:23, 26.66s/it]"
     ]
    },
    {
     "name": "stdout",
     "output_type": "stream",
     "text": [
      "current number of images: 3400\n"
     ]
    },
    {
     "name": "stderr",
     "output_type": "stream",
     "text": [
      " 25%|██▌       | 216/851 [1:20:54<4:46:47, 27.10s/it]"
     ]
    },
    {
     "name": "stdout",
     "output_type": "stream",
     "text": [
      "current number of images: 3500\n"
     ]
    },
    {
     "name": "stderr",
     "output_type": "stream",
     "text": [
      " 26%|██▌       | 223/851 [1:23:40<4:40:36, 26.81s/it]"
     ]
    },
    {
     "name": "stdout",
     "output_type": "stream",
     "text": [
      "current number of images: 3600\n"
     ]
    },
    {
     "name": "stderr",
     "output_type": "stream",
     "text": [
      " 27%|██▋       | 232/851 [1:26:01<2:00:12, 11.65s/it]"
     ]
    },
    {
     "name": "stdout",
     "output_type": "stream",
     "text": [
      "current number of images: 3700\n"
     ]
    },
    {
     "name": "stderr",
     "output_type": "stream",
     "text": [
      " 28%|██▊       | 239/851 [1:28:04<3:26:05, 20.20s/it]"
     ]
    },
    {
     "name": "stdout",
     "output_type": "stream",
     "text": [
      "current number of images: 3800\n"
     ]
    },
    {
     "name": "stderr",
     "output_type": "stream",
     "text": [
      " 29%|██▉       | 248/851 [1:30:40<1:55:51, 11.53s/it]"
     ]
    },
    {
     "name": "stdout",
     "output_type": "stream",
     "text": [
      "current number of images: 3900\n"
     ]
    },
    {
     "name": "stderr",
     "output_type": "stream",
     "text": [
      " 30%|██▉       | 253/851 [1:32:54<4:01:56, 24.27s/it]"
     ]
    },
    {
     "name": "stdout",
     "output_type": "stream",
     "text": [
      "current number of images: 4000\n"
     ]
    },
    {
     "name": "stderr",
     "output_type": "stream",
     "text": [
      " 30%|███       | 258/851 [1:35:02<4:21:32, 26.46s/it]"
     ]
    },
    {
     "name": "stdout",
     "output_type": "stream",
     "text": [
      "current number of images: 4100\n"
     ]
    },
    {
     "name": "stderr",
     "output_type": "stream",
     "text": [
      " 31%|███       | 263/851 [1:37:19<4:34:31, 28.01s/it]"
     ]
    },
    {
     "name": "stdout",
     "output_type": "stream",
     "text": [
      "current number of images: 4200\n"
     ]
    },
    {
     "name": "stderr",
     "output_type": "stream",
     "text": [
      " 31%|███▏      | 268/851 [1:39:38<4:31:01, 27.89s/it]"
     ]
    },
    {
     "name": "stdout",
     "output_type": "stream",
     "text": [
      "current number of images: 4300\n"
     ]
    },
    {
     "name": "stderr",
     "output_type": "stream",
     "text": [
      " 32%|███▏      | 274/851 [1:42:16<4:16:37, 26.68s/it]"
     ]
    },
    {
     "name": "stdout",
     "output_type": "stream",
     "text": [
      "current number of images: 4400\n"
     ]
    },
    {
     "name": "stderr",
     "output_type": "stream",
     "text": [
      " 33%|███▎      | 280/851 [1:44:48<3:17:49, 20.79s/it]"
     ]
    },
    {
     "name": "stdout",
     "output_type": "stream",
     "text": [
      "current number of images: 4500\n"
     ]
    },
    {
     "name": "stderr",
     "output_type": "stream",
     "text": [
      " 34%|███▍      | 288/851 [1:47:18<2:52:54, 18.43s/it]"
     ]
    },
    {
     "name": "stdout",
     "output_type": "stream",
     "text": [
      "current number of images: 4600\n"
     ]
    },
    {
     "name": "stderr",
     "output_type": "stream",
     "text": [
      " 35%|███▍      | 297/851 [1:49:40<2:32:17, 16.49s/it]"
     ]
    },
    {
     "name": "stdout",
     "output_type": "stream",
     "text": [
      "current number of images: 4700\n"
     ]
    },
    {
     "name": "stderr",
     "output_type": "stream",
     "text": [
      " 35%|███▌      | 302/851 [1:51:48<3:22:19, 22.11s/it]"
     ]
    },
    {
     "name": "stdout",
     "output_type": "stream",
     "text": [
      "current number of images: 4800\n"
     ]
    },
    {
     "name": "stderr",
     "output_type": "stream",
     "text": [
      " 36%|███▌      | 307/851 [1:54:03<3:58:35, 26.31s/it]"
     ]
    },
    {
     "name": "stdout",
     "output_type": "stream",
     "text": [
      "current number of images: 4900\n"
     ]
    },
    {
     "name": "stderr",
     "output_type": "stream",
     "text": [
      " 37%|███▋      | 313/851 [1:56:47<3:55:08, 26.22s/it]"
     ]
    },
    {
     "name": "stdout",
     "output_type": "stream",
     "text": [
      "current number of images: 5000\n"
     ]
    },
    {
     "name": "stderr",
     "output_type": "stream",
     "text": [
      " 38%|███▊      | 321/851 [1:59:12<3:05:05, 20.95s/it]"
     ]
    },
    {
     "name": "stdout",
     "output_type": "stream",
     "text": [
      "current number of images: 5100\n"
     ]
    },
    {
     "name": "stderr",
     "output_type": "stream",
     "text": [
      " 38%|███▊      | 326/851 [2:01:32<3:53:46, 26.72s/it]"
     ]
    },
    {
     "name": "stdout",
     "output_type": "stream",
     "text": [
      "current number of images: 5200\n"
     ]
    },
    {
     "name": "stderr",
     "output_type": "stream",
     "text": [
      " 39%|███▉      | 331/851 [2:03:48<3:50:11, 26.56s/it]"
     ]
    },
    {
     "name": "stdout",
     "output_type": "stream",
     "text": [
      "current number of images: 5300\n"
     ]
    },
    {
     "name": "stderr",
     "output_type": "stream",
     "text": [
      " 40%|███▉      | 340/851 [2:06:09<1:03:16,  7.43s/it]"
     ]
    },
    {
     "name": "stdout",
     "output_type": "stream",
     "text": [
      "current number of images: 5400\n"
     ]
    },
    {
     "name": "stderr",
     "output_type": "stream",
     "text": [
      " 41%|████      | 345/851 [2:08:29<3:25:27, 24.36s/it]"
     ]
    },
    {
     "name": "stdout",
     "output_type": "stream",
     "text": [
      "current number of images: 5500\n"
     ]
    },
    {
     "name": "stderr",
     "output_type": "stream",
     "text": [
      " 41%|████      | 350/851 [2:10:44<3:43:58, 26.82s/it]"
     ]
    },
    {
     "name": "stdout",
     "output_type": "stream",
     "text": [
      "current number of images: 5600\n"
     ]
    },
    {
     "name": "stderr",
     "output_type": "stream",
     "text": [
      " 42%|████▏     | 358/851 [2:13:04<3:06:42, 22.72s/it]"
     ]
    },
    {
     "name": "stdout",
     "output_type": "stream",
     "text": [
      "current number of images: 5700\n"
     ]
    },
    {
     "name": "stderr",
     "output_type": "stream",
     "text": [
      " 43%|████▎     | 364/851 [2:15:14<2:57:50, 21.91s/it]"
     ]
    },
    {
     "name": "stdout",
     "output_type": "stream",
     "text": [
      "current number of images: 5800\n"
     ]
    },
    {
     "name": "stderr",
     "output_type": "stream",
     "text": [
      " 43%|████▎     | 369/851 [2:17:31<3:32:15, 26.42s/it]"
     ]
    },
    {
     "name": "stdout",
     "output_type": "stream",
     "text": [
      "current number of images: 5900\n"
     ]
    },
    {
     "name": "stderr",
     "output_type": "stream",
     "text": [
      " 44%|████▍     | 376/851 [2:20:03<2:13:21, 16.85s/it]"
     ]
    },
    {
     "name": "stdout",
     "output_type": "stream",
     "text": [
      "current number of images: 6000\n"
     ]
    },
    {
     "name": "stderr",
     "output_type": "stream",
     "text": [
      " 45%|████▌     | 383/851 [2:22:33<2:50:56, 21.92s/it]"
     ]
    },
    {
     "name": "stdout",
     "output_type": "stream",
     "text": [
      "current number of images: 6100\n"
     ]
    },
    {
     "name": "stderr",
     "output_type": "stream",
     "text": [
      " 46%|████▌     | 388/851 [2:24:55<3:36:51, 28.10s/it]"
     ]
    },
    {
     "name": "stdout",
     "output_type": "stream",
     "text": [
      "current number of images: 6200\n"
     ]
    },
    {
     "name": "stderr",
     "output_type": "stream",
     "text": [
      " 46%|████▋     | 394/851 [2:27:30<3:27:34, 27.25s/it]"
     ]
    },
    {
     "name": "stdout",
     "output_type": "stream",
     "text": [
      "current number of images: 6300\n"
     ]
    },
    {
     "name": "stderr",
     "output_type": "stream",
     "text": [
      " 47%|████▋     | 399/851 [2:29:54<3:32:43, 28.24s/it]"
     ]
    },
    {
     "name": "stdout",
     "output_type": "stream",
     "text": [
      "current number of images: 6400\n"
     ]
    },
    {
     "name": "stderr",
     "output_type": "stream",
     "text": [
      " 47%|████▋     | 404/851 [2:32:07<3:21:32, 27.05s/it]"
     ]
    },
    {
     "name": "stdout",
     "output_type": "stream",
     "text": [
      "current number of images: 6500\n"
     ]
    },
    {
     "name": "stderr",
     "output_type": "stream",
     "text": [
      " 48%|████▊     | 410/851 [2:34:38<3:15:25, 26.59s/it]"
     ]
    },
    {
     "name": "stdout",
     "output_type": "stream",
     "text": [
      "current number of images: 6600\n"
     ]
    },
    {
     "name": "stderr",
     "output_type": "stream",
     "text": [
      " 49%|████▉     | 419/851 [2:37:03<2:33:10, 21.27s/it]"
     ]
    },
    {
     "name": "stdout",
     "output_type": "stream",
     "text": [
      "current number of images: 6700\n"
     ]
    },
    {
     "name": "stderr",
     "output_type": "stream",
     "text": [
      " 50%|████▉     | 424/851 [2:39:28<3:20:26, 28.17s/it]"
     ]
    },
    {
     "name": "stdout",
     "output_type": "stream",
     "text": [
      "current number of images: 6800\n"
     ]
    },
    {
     "name": "stderr",
     "output_type": "stream",
     "text": [
      " 51%|█████     | 431/851 [2:41:59<2:03:23, 17.63s/it]"
     ]
    },
    {
     "name": "stdout",
     "output_type": "stream",
     "text": [
      "current number of images: 6900\n"
     ]
    },
    {
     "name": "stderr",
     "output_type": "stream",
     "text": [
      " 52%|█████▏    | 439/851 [2:44:22<2:38:21, 23.06s/it]"
     ]
    },
    {
     "name": "stdout",
     "output_type": "stream",
     "text": [
      "current number of images: 7000\n"
     ]
    },
    {
     "name": "stderr",
     "output_type": "stream",
     "text": [
      " 52%|█████▏    | 444/851 [2:46:42<3:08:20, 27.76s/it]"
     ]
    },
    {
     "name": "stdout",
     "output_type": "stream",
     "text": [
      "current number of images: 7100\n"
     ]
    },
    {
     "name": "stderr",
     "output_type": "stream",
     "text": [
      " 53%|█████▎    | 449/851 [2:49:06<3:16:32, 29.33s/it]"
     ]
    },
    {
     "name": "stdout",
     "output_type": "stream",
     "text": [
      "current number of images: 7200\n"
     ]
    },
    {
     "name": "stderr",
     "output_type": "stream",
     "text": [
      " 53%|█████▎    | 455/851 [2:51:19<2:18:16, 20.95s/it]"
     ]
    },
    {
     "name": "stdout",
     "output_type": "stream",
     "text": [
      "current number of images: 7300\n"
     ]
    },
    {
     "name": "stderr",
     "output_type": "stream",
     "text": [
      " 54%|█████▍    | 462/851 [2:53:54<2:22:29, 21.98s/it]"
     ]
    },
    {
     "name": "stdout",
     "output_type": "stream",
     "text": [
      "current number of images: 7400\n"
     ]
    },
    {
     "name": "stderr",
     "output_type": "stream",
     "text": [
      " 55%|█████▍    | 468/851 [2:56:30<2:45:16, 25.89s/it]"
     ]
    },
    {
     "name": "stdout",
     "output_type": "stream",
     "text": [
      "current number of images: 7500\n"
     ]
    },
    {
     "name": "stderr",
     "output_type": "stream",
     "text": [
      " 56%|█████▌    | 474/851 [2:58:48<2:03:10, 19.60s/it]"
     ]
    },
    {
     "name": "stdout",
     "output_type": "stream",
     "text": [
      "current number of images: 7600\n"
     ]
    },
    {
     "name": "stderr",
     "output_type": "stream",
     "text": [
      " 57%|█████▋    | 481/851 [3:01:11<2:21:48, 23.00s/it]"
     ]
    },
    {
     "name": "stdout",
     "output_type": "stream",
     "text": [
      "current number of images: 7700\n"
     ]
    },
    {
     "name": "stderr",
     "output_type": "stream",
     "text": [
      " 57%|█████▋    | 486/851 [3:03:33<2:48:07, 27.64s/it]"
     ]
    },
    {
     "name": "stdout",
     "output_type": "stream",
     "text": [
      "current number of images: 7800\n"
     ]
    },
    {
     "name": "stderr",
     "output_type": "stream",
     "text": [
      " 58%|█████▊    | 491/851 [3:05:59<2:50:40, 28.45s/it]"
     ]
    },
    {
     "name": "stdout",
     "output_type": "stream",
     "text": [
      "current number of images: 7900\n"
     ]
    },
    {
     "name": "stderr",
     "output_type": "stream",
     "text": [
      " 58%|█████▊    | 497/851 [3:08:18<1:57:25, 19.90s/it]"
     ]
    },
    {
     "name": "stdout",
     "output_type": "stream",
     "text": [
      "current number of images: 8000\n"
     ]
    },
    {
     "name": "stderr",
     "output_type": "stream",
     "text": [
      " 59%|█████▉    | 504/851 [3:10:35<2:20:32, 24.30s/it]"
     ]
    },
    {
     "name": "stdout",
     "output_type": "stream",
     "text": [
      "current number of images: 8100\n"
     ]
    },
    {
     "name": "stderr",
     "output_type": "stream",
     "text": [
      " 60%|█████▉    | 510/851 [3:13:06<2:24:24, 25.41s/it]"
     ]
    },
    {
     "name": "stdout",
     "output_type": "stream",
     "text": [
      "current number of images: 8200\n"
     ]
    },
    {
     "name": "stderr",
     "output_type": "stream",
     "text": [
      " 61%|██████    | 515/851 [3:15:23<2:29:43, 26.74s/it]"
     ]
    },
    {
     "name": "stdout",
     "output_type": "stream",
     "text": [
      "current number of images: 8300\n"
     ]
    },
    {
     "name": "stderr",
     "output_type": "stream",
     "text": [
      " 61%|██████    | 520/851 [3:17:47<2:35:35, 28.20s/it]"
     ]
    },
    {
     "name": "stdout",
     "output_type": "stream",
     "text": [
      "current number of images: 8400\n"
     ]
    },
    {
     "name": "stderr",
     "output_type": "stream",
     "text": [
      " 62%|██████▏   | 525/851 [3:19:59<2:25:19, 26.75s/it]"
     ]
    },
    {
     "name": "stdout",
     "output_type": "stream",
     "text": [
      "current number of images: 8500\n"
     ]
    },
    {
     "name": "stderr",
     "output_type": "stream",
     "text": [
      " 62%|██████▏   | 531/851 [3:22:24<2:05:01, 23.44s/it]"
     ]
    },
    {
     "name": "stdout",
     "output_type": "stream",
     "text": [
      "current number of images: 8600\n"
     ]
    },
    {
     "name": "stderr",
     "output_type": "stream",
     "text": [
      " 63%|██████▎   | 538/851 [3:24:47<1:36:01, 18.41s/it]"
     ]
    },
    {
     "name": "stdout",
     "output_type": "stream",
     "text": [
      "current number of images: 8700\n"
     ]
    },
    {
     "name": "stderr",
     "output_type": "stream",
     "text": [
      " 64%|██████▍   | 543/851 [3:27:02<2:11:42, 25.66s/it]"
     ]
    },
    {
     "name": "stdout",
     "output_type": "stream",
     "text": [
      "current number of images: 8800\n"
     ]
    },
    {
     "name": "stderr",
     "output_type": "stream",
     "text": [
      " 65%|██████▍   | 551/851 [3:29:30<1:02:47, 12.56s/it]"
     ]
    },
    {
     "name": "stdout",
     "output_type": "stream",
     "text": [
      "current number of images: 8900\n"
     ]
    },
    {
     "name": "stderr",
     "output_type": "stream",
     "text": [
      " 66%|██████▋   | 565/851 [3:31:48<51:47, 10.87s/it]  "
     ]
    },
    {
     "name": "stdout",
     "output_type": "stream",
     "text": [
      "current number of images: 9000\n"
     ]
    },
    {
     "name": "stderr",
     "output_type": "stream",
     "text": [
      " 68%|██████▊   | 575/851 [3:34:23<1:33:20, 20.29s/it]"
     ]
    },
    {
     "name": "stdout",
     "output_type": "stream",
     "text": [
      "current number of images: 9100\n"
     ]
    },
    {
     "name": "stderr",
     "output_type": "stream",
     "text": [
      " 68%|██████▊   | 580/851 [3:36:45<2:03:03, 27.25s/it]"
     ]
    },
    {
     "name": "stdout",
     "output_type": "stream",
     "text": [
      "current number of images: 9200\n"
     ]
    },
    {
     "name": "stderr",
     "output_type": "stream",
     "text": [
      " 69%|██████▊   | 585/851 [3:39:12<2:08:06, 28.90s/it]"
     ]
    },
    {
     "name": "stdout",
     "output_type": "stream",
     "text": [
      "current number of images: 9300\n"
     ]
    },
    {
     "name": "stderr",
     "output_type": "stream",
     "text": [
      " 69%|██████▉   | 591/851 [3:41:31<1:37:25, 22.48s/it]"
     ]
    },
    {
     "name": "stdout",
     "output_type": "stream",
     "text": [
      "current number of images: 9400\n"
     ]
    },
    {
     "name": "stderr",
     "output_type": "stream",
     "text": [
      " 70%|███████   | 596/851 [3:43:54<1:57:11, 27.57s/it]"
     ]
    },
    {
     "name": "stdout",
     "output_type": "stream",
     "text": [
      "current number of images: 9500\n"
     ]
    },
    {
     "name": "stderr",
     "output_type": "stream",
     "text": [
      " 71%|███████   | 601/851 [3:46:14<1:56:52, 28.05s/it]"
     ]
    },
    {
     "name": "stdout",
     "output_type": "stream",
     "text": [
      "current number of images: 9600\n"
     ]
    },
    {
     "name": "stderr",
     "output_type": "stream",
     "text": [
      " 72%|███████▏  | 609/851 [3:48:47<1:17:42, 19.26s/it]"
     ]
    },
    {
     "name": "stdout",
     "output_type": "stream",
     "text": [
      "current number of images: 9700\n"
     ]
    },
    {
     "name": "stderr",
     "output_type": "stream",
     "text": [
      " 72%|███████▏  | 615/851 [3:50:59<1:29:11, 22.68s/it]"
     ]
    },
    {
     "name": "stdout",
     "output_type": "stream",
     "text": [
      "current number of images: 9800\n"
     ]
    },
    {
     "name": "stderr",
     "output_type": "stream",
     "text": [
      " 73%|███████▎  | 624/851 [3:53:33<37:19,  9.87s/it]  "
     ]
    },
    {
     "name": "stdout",
     "output_type": "stream",
     "text": [
      "current number of images: 9900\n"
     ]
    },
    {
     "name": "stderr",
     "output_type": "stream",
     "text": [
      " 74%|███████▍  | 629/851 [3:56:01<1:37:34, 26.37s/it]"
     ]
    },
    {
     "name": "stdout",
     "output_type": "stream",
     "text": [
      "current number of images: 10000\n"
     ]
    },
    {
     "name": "stderr",
     "output_type": "stream",
     "text": [
      " 75%|███████▍  | 636/851 [3:58:46<1:30:11, 25.17s/it]"
     ]
    },
    {
     "name": "stdout",
     "output_type": "stream",
     "text": [
      "current number of images: 10100\n"
     ]
    },
    {
     "name": "stderr",
     "output_type": "stream",
     "text": [
      " 76%|███████▌  | 644/851 [4:01:17<1:02:06, 18.00s/it]"
     ]
    },
    {
     "name": "stdout",
     "output_type": "stream",
     "text": [
      "current number of images: 10200\n"
     ]
    },
    {
     "name": "stderr",
     "output_type": "stream",
     "text": [
      " 76%|███████▋  | 650/851 [4:03:56<1:26:23, 25.79s/it]"
     ]
    },
    {
     "name": "stdout",
     "output_type": "stream",
     "text": [
      "current number of images: 10300\n"
     ]
    },
    {
     "name": "stderr",
     "output_type": "stream",
     "text": [
      " 77%|███████▋  | 655/851 [4:06:27<1:37:37, 29.89s/it]"
     ]
    },
    {
     "name": "stdout",
     "output_type": "stream",
     "text": [
      "current number of images: 10400\n"
     ]
    },
    {
     "name": "stderr",
     "output_type": "stream",
     "text": [
      " 78%|███████▊  | 660/851 [4:09:01<1:36:48, 30.41s/it]"
     ]
    },
    {
     "name": "stdout",
     "output_type": "stream",
     "text": [
      "current number of images: 10500\n"
     ]
    },
    {
     "name": "stderr",
     "output_type": "stream",
     "text": [
      " 78%|███████▊  | 665/851 [4:11:25<1:29:18, 28.81s/it]"
     ]
    },
    {
     "name": "stdout",
     "output_type": "stream",
     "text": [
      "current number of images: 10600\n"
     ]
    },
    {
     "name": "stderr",
     "output_type": "stream",
     "text": [
      " 79%|███████▉  | 673/851 [4:13:54<49:19, 16.63s/it]  "
     ]
    },
    {
     "name": "stdout",
     "output_type": "stream",
     "text": [
      "current number of images: 10700\n"
     ]
    },
    {
     "name": "stderr",
     "output_type": "stream",
     "text": [
      " 80%|███████▉  | 680/851 [4:16:35<1:02:48, 22.04s/it]"
     ]
    },
    {
     "name": "stdout",
     "output_type": "stream",
     "text": [
      "current number of images: 10800\n"
     ]
    },
    {
     "name": "stderr",
     "output_type": "stream",
     "text": [
      " 80%|████████  | 685/851 [4:19:05<1:19:18, 28.66s/it]"
     ]
    },
    {
     "name": "stdout",
     "output_type": "stream",
     "text": [
      "current number of images: 10900\n"
     ]
    },
    {
     "name": "stderr",
     "output_type": "stream",
     "text": [
      " 81%|████████  | 690/851 [4:21:37<1:18:28, 29.24s/it]"
     ]
    },
    {
     "name": "stdout",
     "output_type": "stream",
     "text": [
      "current number of images: 11000\n"
     ]
    },
    {
     "name": "stderr",
     "output_type": "stream",
     "text": [
      " 82%|████████▏ | 695/851 [4:23:57<1:13:35, 28.30s/it]"
     ]
    },
    {
     "name": "stdout",
     "output_type": "stream",
     "text": [
      "current number of images: 11100\n"
     ]
    },
    {
     "name": "stderr",
     "output_type": "stream",
     "text": [
      " 82%|████████▏ | 701/851 [4:26:25<1:06:43, 26.69s/it]"
     ]
    },
    {
     "name": "stdout",
     "output_type": "stream",
     "text": [
      "current number of images: 11200\n"
     ]
    },
    {
     "name": "stderr",
     "output_type": "stream",
     "text": [
      " 83%|████████▎ | 706/851 [4:28:33<1:02:49, 25.99s/it]"
     ]
    },
    {
     "name": "stdout",
     "output_type": "stream",
     "text": [
      "current number of images: 11300\n"
     ]
    },
    {
     "name": "stderr",
     "output_type": "stream",
     "text": [
      " 84%|████████▍ | 713/851 [4:30:49<47:53, 20.82s/it]  "
     ]
    },
    {
     "name": "stdout",
     "output_type": "stream",
     "text": [
      "current number of images: 11400\n"
     ]
    },
    {
     "name": "stderr",
     "output_type": "stream",
     "text": [
      " 85%|████████▍ | 721/851 [4:33:14<27:38, 12.76s/it]"
     ]
    },
    {
     "name": "stdout",
     "output_type": "stream",
     "text": [
      "current number of images: 11500\n"
     ]
    },
    {
     "name": "stderr",
     "output_type": "stream",
     "text": [
      " 85%|████████▌ | 726/851 [4:35:36<53:59, 25.91s/it]"
     ]
    },
    {
     "name": "stdout",
     "output_type": "stream",
     "text": [
      "current number of images: 11600\n"
     ]
    },
    {
     "name": "stderr",
     "output_type": "stream",
     "text": [
      " 87%|████████▋ | 738/851 [4:38:31<22:46, 12.09s/it]"
     ]
    },
    {
     "name": "stdout",
     "output_type": "stream",
     "text": [
      "current number of images: 11700\n"
     ]
    },
    {
     "name": "stderr",
     "output_type": "stream",
     "text": [
      " 87%|████████▋ | 743/851 [4:40:51<44:46, 24.87s/it]"
     ]
    },
    {
     "name": "stdout",
     "output_type": "stream",
     "text": [
      "current number of images: 11800\n"
     ]
    },
    {
     "name": "stderr",
     "output_type": "stream",
     "text": [
      " 88%|████████▊ | 748/851 [4:43:15<47:10, 27.48s/it]"
     ]
    },
    {
     "name": "stdout",
     "output_type": "stream",
     "text": [
      "current number of images: 11900\n"
     ]
    },
    {
     "name": "stderr",
     "output_type": "stream",
     "text": [
      " 88%|████████▊ | 753/851 [4:45:34<45:14, 27.70s/it]"
     ]
    },
    {
     "name": "stdout",
     "output_type": "stream",
     "text": [
      "current number of images: 12000\n"
     ]
    },
    {
     "name": "stderr",
     "output_type": "stream",
     "text": [
      " 89%|████████▉ | 761/851 [4:47:59<19:49, 13.22s/it]"
     ]
    },
    {
     "name": "stdout",
     "output_type": "stream",
     "text": [
      "current number of images: 12100\n"
     ]
    },
    {
     "name": "stderr",
     "output_type": "stream",
     "text": [
      " 90%|█████████ | 766/851 [4:50:23<37:27, 26.44s/it]"
     ]
    },
    {
     "name": "stdout",
     "output_type": "stream",
     "text": [
      "current number of images: 12200\n"
     ]
    },
    {
     "name": "stderr",
     "output_type": "stream",
     "text": [
      " 91%|█████████ | 773/851 [4:52:50<33:16, 25.59s/it]"
     ]
    },
    {
     "name": "stdout",
     "output_type": "stream",
     "text": [
      "current number of images: 12300\n"
     ]
    },
    {
     "name": "stderr",
     "output_type": "stream",
     "text": [
      " 92%|█████████▏| 781/851 [4:55:25<21:16, 18.24s/it]"
     ]
    },
    {
     "name": "stdout",
     "output_type": "stream",
     "text": [
      "current number of images: 12400\n"
     ]
    },
    {
     "name": "stderr",
     "output_type": "stream",
     "text": [
      " 93%|█████████▎| 788/851 [4:57:39<20:43, 19.74s/it]"
     ]
    },
    {
     "name": "stdout",
     "output_type": "stream",
     "text": [
      "current number of images: 12500\n"
     ]
    },
    {
     "name": "stderr",
     "output_type": "stream",
     "text": [
      " 94%|█████████▎| 796/851 [5:00:13<14:20, 15.64s/it]"
     ]
    },
    {
     "name": "stdout",
     "output_type": "stream",
     "text": [
      "current number of images: 12600\n"
     ]
    },
    {
     "name": "stderr",
     "output_type": "stream",
     "text": [
      " 94%|█████████▍| 802/851 [5:02:51<21:16, 26.05s/it]"
     ]
    },
    {
     "name": "stdout",
     "output_type": "stream",
     "text": [
      "current number of images: 12700\n"
     ]
    },
    {
     "name": "stderr",
     "output_type": "stream",
     "text": [
      " 95%|█████████▌| 810/851 [5:05:15<09:11, 13.46s/it]"
     ]
    },
    {
     "name": "stdout",
     "output_type": "stream",
     "text": [
      "current number of images: 12800\n"
     ]
    },
    {
     "name": "stderr",
     "output_type": "stream",
     "text": [
      " 97%|█████████▋| 825/851 [5:07:38<01:59,  4.59s/it]"
     ]
    },
    {
     "name": "stdout",
     "output_type": "stream",
     "text": [
      "current number of images: 12900\n"
     ]
    },
    {
     "name": "stderr",
     "output_type": "stream",
     "text": [
      " 98%|█████████▊| 830/851 [5:09:58<08:29, 24.27s/it]"
     ]
    },
    {
     "name": "stdout",
     "output_type": "stream",
     "text": [
      "current number of images: 13000\n"
     ]
    },
    {
     "name": "stderr",
     "output_type": "stream",
     "text": [
      " 98%|█████████▊| 835/851 [5:12:22<07:37, 28.62s/it]"
     ]
    },
    {
     "name": "stdout",
     "output_type": "stream",
     "text": [
      "current number of images: 13100\n"
     ]
    },
    {
     "name": "stderr",
     "output_type": "stream",
     "text": [
      " 99%|█████████▊| 840/851 [5:14:38<05:01, 27.39s/it]"
     ]
    },
    {
     "name": "stdout",
     "output_type": "stream",
     "text": [
      "current number of images: 13200\n"
     ]
    },
    {
     "name": "stderr",
     "output_type": "stream",
     "text": [
      "100%|█████████▉| 847/851 [5:17:12<01:42, 25.51s/it]"
     ]
    },
    {
     "name": "stdout",
     "output_type": "stream",
     "text": [
      "current number of images: 13300\n"
     ]
    },
    {
     "name": "stderr",
     "output_type": "stream",
     "text": [
      "100%|██████████| 851/851 [5:18:16<00:00, 14.48s/it]"
     ]
    },
    {
     "name": "stdout",
     "output_type": "stream",
     "text": [
      "CPU times: user 6min 5s, sys: 20.7 s, total: 6min 26s\n",
      "Wall time: 5h 19min 38s\n"
     ]
    },
    {
     "name": "stderr",
     "output_type": "stream",
     "text": [
      "\n"
     ]
    }
   ],
   "source": [
    "%%time\n",
    "\n",
    "get_images()"
   ]
  },
  {
   "cell_type": "code",
   "execution_count": null,
   "metadata": {
    "collapsed": true
   },
   "outputs": [],
   "source": []
  },
  {
   "cell_type": "code",
   "execution_count": 32,
   "metadata": {},
   "outputs": [
    {
     "name": "stdout",
     "output_type": "stream",
     "text": [
      "/home/tomoaki/work/Development/web_scraping\r\n"
     ]
    }
   ],
   "source": [
    "!pwd"
   ]
  },
  {
   "cell_type": "code",
   "execution_count": null,
   "metadata": {
    "collapsed": true
   },
   "outputs": [],
   "source": []
  },
  {
   "cell_type": "code",
   "execution_count": 87,
   "metadata": {
    "collapsed": true
   },
   "outputs": [],
   "source": [
    "html = urlopen(links[0])\n",
    "bosbj = BeautifulSoup(html, \"lxml\")\n",
    "images = []\n",
    "results = bsobj.findAll(\"a\", href=re.compile(\"/apps/article.*\"))\n",
    "for result in results:\n",
    "    images.append(result.find(\"img\"))"
   ]
  },
  {
   "cell_type": "code",
   "execution_count": 92,
   "metadata": {},
   "outputs": [
    {
     "data": {
      "text/plain": [
       "'https://yellimg.dmm.com/app/resource/img/contribution/2017/0708/contribution620907_1_464.jpg'"
      ]
     },
     "execution_count": 92,
     "metadata": {},
     "output_type": "execute_result"
    }
   ],
   "source": [
    "images[0].attrs[\"data-original\"]"
   ]
  },
  {
   "cell_type": "code",
   "execution_count": 162,
   "metadata": {
    "collapsed": true
   },
   "outputs": [],
   "source": [
    "link = 'https://yellimg.dmm.com/app/resource/img/contribution/2017/0708/contribution620907_1_464.jpg'\n",
    "pattern = re.compile(\"[a-zA-Z0-9_]*\\.jpg\")\n",
    "# pattern = re.compile(r\"\\.\")"
   ]
  },
  {
   "cell_type": "code",
   "execution_count": 181,
   "metadata": {},
   "outputs": [
    {
     "data": {
      "text/plain": [
       "'contribution620907_1_464.jpg'"
      ]
     },
     "execution_count": 181,
     "metadata": {},
     "output_type": "execute_result"
    }
   ],
   "source": [
    "link.split(\"/\")[-1]"
   ]
  },
  {
   "cell_type": "code",
   "execution_count": null,
   "metadata": {
    "collapsed": true
   },
   "outputs": [],
   "source": []
  },
  {
   "cell_type": "code",
   "execution_count": 11,
   "metadata": {},
   "outputs": [
    {
     "data": {
      "text/plain": [
       "<http.client.HTTPResponse at 0x7f0f7c19f390>"
      ]
     },
     "execution_count": 11,
     "metadata": {},
     "output_type": "execute_result"
    }
   ],
   "source": [
    "tpages = set()\n",
    "def getLinks(pageUrl):\n",
    "    global pages\n",
    "    html = urlopen(\"http://en.wikipedia.org\"+pageUrl)\n",
    "    bsobj = BeautifulSoup(html)\n",
    "    try:\n",
    "        print(bsobj.h1.get_text())\n",
    "        print(bsobj.find(id=\"mw-content-text\").findAll(\"p\")[0])\n",
    "        print(bsobj.find(id=\"ca-edit\").find(\"span\").find(\"a\").attrs[\"href\"])\n",
    "    except AttributeError:\n",
    "        print(\"this page is missing something\")\n",
    "    for link in  bsobj.findAll(\"a\", href=re.compile(\"^(/wiki/)\")):\n",
    "        if link.attrs[\"href\"] not in pages:\n",
    "            newPage = link.attrs[\"href\"]\n",
    "            print(newPage)\n",
    "            pages.add(newPage)\n",
    "            getLinks(newPage)"
   ]
  },
  {
   "cell_type": "code",
   "execution_count": 9,
   "metadata": {
    "scrolled": true
   },
   "outputs": [
    {
     "data": {
      "text/plain": [
       "['BUT',\n",
       " 'Separate but equal',\n",
       " \"But I'm a Cheerleader\",\n",
       " '...But Seriously',\n",
       " 'Everything but the Girl',\n",
       " 'But/Aishō',\n",
       " \"Nuthin' but a 'G' Thang\",\n",
       " 'Nothing but the Beat',\n",
       " 'Nothing but Trouble (1991 film)',\n",
       " 'None but the Brave',\n",
       " \"Peace Sells... but Who's Buying?\",\n",
       " 'Spiritual but not religious',\n",
       " \"Nuttin' But Stringz\",\n",
       " 'South Park: The Fractured but Whole',\n",
       " 'Nothing but Thieves',\n",
       " \"I'd Do Anything for Love (But I Won't Do That)\",\n",
       " 'Standing but not operating',\n",
       " 'Everything but You',\n",
       " 'Valid but illicit',\n",
       " 'Strange but true']"
      ]
     },
     "execution_count": 9,
     "metadata": {},
     "output_type": "execute_result"
    }
   ],
   "source": [
    "import wikipedia\n",
    "\n",
    "wikipedia.search(\"but\", results=20)"
   ]
  },
  {
   "cell_type": "code",
   "execution_count": 7,
   "metadata": {
    "collapsed": true
   },
   "outputs": [],
   "source": [
    "wikipedia.search??"
   ]
  },
  {
   "cell_type": "code",
   "execution_count": 37,
   "metadata": {},
   "outputs": [
    {
     "name": "stderr",
     "output_type": "stream",
     "text": [
      "/home/tomoaki/anaconda3/lib/python3.6/site-packages/bs4/__init__.py:181: UserWarning: No parser was explicitly specified, so I'm using the best available HTML parser for this system (\"lxml\"). This usually isn't a problem, but if you run this code on another system, or in a different virtual environment, it may use a different parser and behave differently.\n",
      "\n",
      "The code that caused this warning is on line 193 of the file /home/tomoaki/anaconda3/lib/python3.6/runpy.py. To get rid of this warning, change code that looks like this:\n",
      "\n",
      " BeautifulSoup(YOUR_MARKUP})\n",
      "\n",
      "to this:\n",
      "\n",
      " BeautifulSoup(YOUR_MARKUP, \"lxml\")\n",
      "\n",
      "  markup_type=markup_type))\n"
     ]
    },
    {
     "name": "stdout",
     "output_type": "stream",
     "text": [
      "/wiki/Kevin_Bacon_(disambiguation)\n",
      "/wiki/San_Diego_Comic-Con\n",
      "/wiki/Philadelphia\n",
      "/wiki/Pennsylvania\n",
      "/wiki/Kyra_Sedgwick\n",
      "/wiki/Sosie_Bacon\n",
      "/wiki/Edmund_Bacon_(architect)\n",
      "/wiki/Michael_Bacon_(musician)\n",
      "/wiki/Footloose_(1984_film)\n",
      "/wiki/JFK_(film)\n",
      "/wiki/A_Few_Good_Men\n",
      "/wiki/Apollo_13_(film)\n",
      "/wiki/Mystic_River_(film)\n",
      "/wiki/Sleepers\n",
      "/wiki/The_Woodsman_(2004_film)\n",
      "/wiki/Fox_Broadcasting_Company\n",
      "/wiki/The_Following\n",
      "/wiki/HBO\n",
      "/wiki/Taking_Chance\n",
      "/wiki/Golden_Globe_Award\n",
      "/wiki/Screen_Actors_Guild_Award\n",
      "/wiki/Primetime_Emmy_Award\n",
      "/wiki/The_Guardian\n",
      "/wiki/Academy_Award\n",
      "/wiki/Hollywood_Walk_of_Fame\n",
      "/wiki/Social_networks\n",
      "/wiki/Six_Degrees_of_Kevin_Bacon\n",
      "/wiki/SixDegrees.org\n",
      "/wiki/Philadelphia\n",
      "/wiki/Edmund_Bacon_(architect)\n",
      "/wiki/Pennsylvania_Governor%27s_School_for_the_Arts\n",
      "/wiki/Bucknell_University\n",
      "/wiki/Glory_Van_Scott\n",
      "/wiki/Kevin_Bacon_filmography\n",
      "/wiki/Circle_in_the_Square\n",
      "/wiki/Nancy_Mills\n",
      "/wiki/Cosmopolitan_(magazine)\n",
      "/wiki/Fraternities_and_sororities\n",
      "/wiki/Animal_House\n",
      "/wiki/Search_for_Tomorrow\n",
      "/wiki/Guiding_Light\n",
      "/wiki/Friday_the_13th_(1980_film)\n",
      "/wiki/Phoenix_Theater\n",
      "/wiki/Flux\n",
      "/wiki/Second_Stage_Theatre\n",
      "/wiki/Obie_Award\n",
      "/wiki/Forty_Deuce\n",
      "/wiki/Slab_Boys\n",
      "/wiki/Sean_Penn\n",
      "/wiki/Val_Kilmer\n",
      "/wiki/Barry_Levinson\n",
      "/wiki/Diner_(film)\n",
      "/wiki/Steve_Guttenberg\n",
      "/wiki/Daniel_Stern_(actor)\n",
      "/wiki/Mickey_Rourke\n",
      "/wiki/Tim_Daly\n",
      "/wiki/Ellen_Barkin\n",
      "/wiki/Footloose_(1984_film)\n",
      "/wiki/James_Dean\n",
      "/wiki/Rebel_Without_a_Cause\n",
      "/wiki/Mickey_Rooney\n",
      "/wiki/Judy_Garland\n",
      "/wiki/People_(American_magazine)\n",
      "/wiki/Typecasting_(acting)\n",
      "/wiki/John_Hughes_(filmmaker)\n",
      "/wiki/She%27s_Having_a_Baby\n",
      "/wiki/The_Big_Picture_(1989_film)\n",
      "/wiki/Tremors_(film)\n",
      "/wiki/Joel_Schumacher\n",
      "/wiki/Flatliners\n",
      "/wiki/Elizabeth_Perkins\n",
      "/wiki/He_Said,_She_Said\n",
      "/wiki/The_New_York_Times\n",
      "/wiki/Oliver_Stone\n",
      "/wiki/JFK_(film)\n",
      "/wiki/A_Few_Good_Men_(film)\n",
      "/wiki/Michael_Greif\n",
      "/wiki/Golden_Globe_Award\n",
      "/wiki/The_River_Wild\n",
      "/wiki/Meryl_Streep\n",
      "/wiki/Murder_in_the_First_(film)\n",
      "/wiki/Blockbuster_(entertainment)\n",
      "/wiki/Apollo_13_(film)\n",
      "/wiki/Sleepers_(film)\n",
      "/wiki/Picture_Perfect_(1997_film)\n",
      "/wiki/Losing_Chase\n",
      "/wiki/Digging_to_China\n",
      "/wiki/Payola\n",
      "/wiki/Telling_Lies_in_America_(film)\n",
      "/wiki/Wild_Things_(film)\n",
      "/wiki/Stir_of_Echoes\n",
      "/wiki/David_Koepp\n",
      "/wiki/Taking_Chance\n",
      "/wiki/Paul_Verhoeven\n",
      "/wiki/Hollow_Man\n",
      "/wiki/Colin_Firth\n",
      "/wiki/Rachel_Blanchard\n",
      "/wiki/M%C3%A9nage_%C3%A0_trois\n",
      "/wiki/Where_the_Truth_Lies\n",
      "/wiki/Atom_Egoyan\n",
      "/wiki/MPAA\n",
      "/wiki/MPAA_film_rating_system\n",
      "/wiki/Pedophile\n",
      "/wiki/The_Woodsman_(2004_film)\n",
      "/wiki/HBO_Films\n",
      "/wiki/Taking_Chance\n",
      "/wiki/Michael_Strobl\n",
      "/wiki/Desert_Storm\n",
      "/wiki/Screen_Actors_Guild_Award_for_Outstanding_Performance_by_a_Male_Actor_in_a_Miniseries_or_Television_Movie\n",
      "/wiki/Matthew_Vaughn\n",
      "/wiki/Sebastian_Shaw_(comics)\n",
      "/wiki/Dustin_Lance_Black\n",
      "/wiki/8_(play)\n",
      "/wiki/Perry_v._Brown\n",
      "/wiki/Proposition_8\n",
      "/wiki/Charles_J._Cooper\n",
      "/wiki/Wilshire_Ebell_Theatre\n",
      "/wiki/American_Foundation_for_Equal_Rights\n",
      "/wiki/The_Following\n",
      "/wiki/Saturn_Award_for_Best_Actor_on_Television\n",
      "/wiki/Huffington_Post\n",
      "/wiki/Tremors_(film)\n",
      "/wiki/EE_(telecommunications_company)\n",
      "/wiki/United_Kingdom\n",
      "/wiki/Egg\n",
      "/wiki/Kyra_Sedgwick\n",
      "/wiki/PBS\n",
      "/wiki/Lanford_Wilson\n",
      "/wiki/Lemon_Sky\n",
      "/wiki/Pyrates\n",
      "/wiki/Murder_in_the_First_(film)\n",
      "/wiki/The_Woodsman_(2004_film)\n",
      "/wiki/Loverboy_(2005_film)\n",
      "/wiki/Sosie_Bacon\n",
      "/wiki/Upper_West_Side\n",
      "/wiki/Manhattan\n",
      "/wiki/Tracy_Pollan\n",
      "/wiki/The_Times\n",
      "/wiki/Will.i.am\n",
      "/wiki/It%27s_a_New_Day_(Will.i.am_song)\n",
      "/wiki/Barack_Obama\n",
      "/wiki/Ponzi_scheme\n",
      "/wiki/Bernard_Madoff\n",
      "/wiki/Finding_Your_Roots\n",
      "/wiki/Henry_Louis_Gates\n",
      "/wiki/Six_Degrees_of_Kevin_Bacon\n",
      "/wiki/Trivia\n",
      "/wiki/Big_screen\n",
      "/wiki/Six_degrees_of_separation\n",
      "/wiki/Meme\n",
      "/wiki/SixDegrees.org\n",
      "/wiki/Bacon_number\n",
      "/wiki/Internet_Movie_Database\n",
      "/wiki/Paul_Erd%C5%91s\n",
      "/wiki/Erd%C5%91s_number\n",
      "/wiki/Paul_Erd%C5%91s\n",
      "/wiki/Bacon_number\n",
      "/wiki/Erd%C5%91s_number\n",
      "/wiki/Erd%C5%91s%E2%80%93Bacon_number\n",
      "/wiki/The_Bacon_Brothers\n",
      "/wiki/Michael_Bacon_(musician)\n",
      "/wiki/Music_album\n",
      "/wiki/Golden_Globe_Awards\n",
      "/wiki/Golden_Globe_Award_for_Best_Supporting_Actor_%E2%80%93_Motion_Picture\n",
      "/wiki/The_River_Wild\n",
      "/wiki/Broadcast_Film_Critics_Association_Awards\n",
      "/wiki/Broadcast_Film_Critics_Association_Award_for_Best_Actor\n",
      "/wiki/Murder_in_the_First_(film)\n",
      "/wiki/Screen_Actors_Guild_Awards\n",
      "/wiki/Screen_Actors_Guild_Award_for_Outstanding_Performance_by_a_Cast_in_a_Motion_Picture\n",
      "/wiki/Apollo_13_(film)\n",
      "/wiki/Screen_Actors_Guild_Awards\n",
      "/wiki/Screen_Actors_Guild_Award_for_Outstanding_Performance_by_a_Male_Actor_in_a_Supporting_Role\n",
      "/wiki/Murder_in_the_First_(film)\n",
      "/wiki/MTV_Movie_Awards\n",
      "/wiki/MTV_Movie_Award_for_Best_Villain\n",
      "/wiki/Hollow_Man\n",
      "/wiki/Boston_Society_of_Film_Critics_Awards\n",
      "/wiki/Boston_Society_of_Film_Critics_Award_for_Best_Cast\n",
      "/wiki/Mystic_River_(film)\n",
      "/wiki/Screen_Actors_Guild_Awards\n",
      "/wiki/Screen_Actors_Guild_Award_for_Outstanding_Performance_by_a_Cast_in_a_Motion_Picture\n",
      "/wiki/Mystic_River_(film)\n",
      "/wiki/Satellite_Awards\n",
      "/wiki/Satellite_Award_for_Best_Actor_%E2%80%93_Motion_Picture_Drama\n",
      "/wiki/The_Woodsman_(2004_film)\n",
      "/wiki/Teen_Choice_Awards\n",
      "/wiki/Teen_Choice_Awards\n",
      "/wiki/Beauty_Shop\n",
      "/wiki/Primetime_Emmy_Awards\n",
      "/wiki/Primetime_Emmy_Award_for_Outstanding_Lead_Actor_in_a_Miniseries_or_a_Movie\n",
      "/wiki/Taking_Chance\n",
      "/wiki/Satellite_Awards\n",
      "/wiki/Satellite_Award_for_Best_Actor_%E2%80%93_Miniseries_or_Television_Film\n",
      "/wiki/Taking_Chance\n",
      "/wiki/Screen_Actors_Guild_Awards\n",
      "/wiki/Screen_Actors_Guild_Award_for_Outstanding_Performance_by_a_Cast_in_a_Motion_Picture\n",
      "/wiki/Frost/Nixon_(film)\n",
      "/wiki/Golden_Globe_Awards\n",
      "/wiki/Golden_Globe_Award_for_Best_Actor_%E2%80%93_Miniseries_or_Television_Film\n",
      "/wiki/Taking_Chance\n",
      "/wiki/Screen_Actors_Guild_Awards\n",
      "/wiki/Screen_Actors_Guild_Award_for_Outstanding_Performance_by_a_Male_Actor_in_a_Miniseries_or_Television_Movie\n",
      "/wiki/Taking_Chance\n",
      "/wiki/Teen_Choice_Awards\n",
      "/wiki/Teen_Choice_Awards\n",
      "/wiki/Saturn_Awards\n",
      "/wiki/Saturn_Award_for_Best_Actor_on_Television\n",
      "/wiki/The_Following\n",
      "/wiki/People%27s_Choice_Awards\n",
      "/wiki/People%27s_Choice_Awards\n",
      "/wiki/The_Following\n",
      "/wiki/Saturn_Awards\n",
      "/wiki/Saturn_Award_for_Best_Actor_on_Television\n",
      "/wiki/The_Following\n",
      "/wiki/List_of_actors_with_Hollywood_Walk_of_Fame_motion_picture_stars\n",
      "/wiki/The_Austin_Chronicle\n",
      "/wiki/Access_Hollywood\n",
      "/wiki/IMDb\n",
      "/wiki/Internet_Broadway_Database\n",
      "/wiki/Lortel_Archives\n",
      "/wiki/AllMovie\n",
      "/wiki/Critics%27_Choice_Movie_Award_for_Best_Actor\n",
      "/wiki/Geoffrey_Rush\n",
      "/wiki/Jack_Nicholson\n",
      "/wiki/Ian_McKellen\n",
      "/wiki/Russell_Crowe\n",
      "/wiki/Russell_Crowe\n",
      "/wiki/Russell_Crowe\n",
      "/wiki/Daniel_Day-Lewis\n",
      "/wiki/Jack_Nicholson\n",
      "/wiki/Sean_Penn\n",
      "/wiki/Jamie_Foxx\n",
      "/wiki/Philip_Seymour_Hoffman\n",
      "/wiki/Forest_Whitaker\n",
      "/wiki/Daniel_Day-Lewis\n",
      "/wiki/Sean_Penn\n",
      "/wiki/Jeff_Bridges\n",
      "/wiki/Colin_Firth\n",
      "/wiki/George_Clooney\n",
      "/wiki/Daniel_Day-Lewis\n",
      "/wiki/Matthew_McConaughey\n",
      "/wiki/Michael_Keaton\n",
      "/wiki/Leonardo_DiCaprio\n",
      "/wiki/Casey_Affleck\n",
      "/wiki/Golden_Globe_Award_for_Best_Actor_%E2%80%93_Miniseries_or_Television_Film\n",
      "/wiki/Mickey_Rooney\n",
      "/wiki/Anthony_Andrews\n",
      "/wiki/Richard_Chamberlain\n",
      "/wiki/Ted_Danson\n",
      "/wiki/Dustin_Hoffman\n",
      "/wiki/James_Woods\n",
      "/wiki/Randy_Quaid\n",
      "/wiki/Michael_Caine\n",
      "/wiki/Stacy_Keach\n",
      "/wiki/Robert_Duvall\n",
      "/wiki/James_Garner\n",
      "/wiki/Beau_Bridges\n",
      "/wiki/Robert_Duvall\n",
      "/wiki/James_Garner\n",
      "/wiki/Ra%C3%BAl_Juli%C3%A1\n",
      "/wiki/Gary_Sinise\n",
      "/wiki/Alan_Rickman\n",
      "/wiki/Ving_Rhames\n",
      "/wiki/Stanley_Tucci\n",
      "/wiki/Jack_Lemmon\n",
      "/wiki/Brian_Dennehy\n",
      "/wiki/James_Franco\n",
      "/wiki/Albert_Finney\n",
      "/wiki/Al_Pacino\n",
      "/wiki/Geoffrey_Rush\n",
      "/wiki/Jonathan_Rhys_Meyers\n",
      "/wiki/Bill_Nighy\n",
      "/wiki/Jim_Broadbent\n",
      "/wiki/Paul_Giamatti\n",
      "/wiki/Al_Pacino\n",
      "/wiki/Idris_Elba\n",
      "/wiki/Kevin_Costner\n",
      "/wiki/Michael_Douglas\n",
      "/wiki/Billy_Bob_Thornton\n",
      "/wiki/Oscar_Isaac\n",
      "/wiki/Tom_Hiddleston\n",
      "/wiki/Saturn_Award_for_Best_Actor_on_Television\n",
      "/wiki/Kyle_Chandler\n",
      "/wiki/Steven_Weber_(actor)\n",
      "/wiki/Richard_Dean_Anderson\n",
      "/wiki/David_Boreanaz\n",
      "/wiki/Robert_Patrick\n",
      "/wiki/Ben_Browder\n",
      "/wiki/David_Boreanaz\n",
      "/wiki/David_Boreanaz\n",
      "/wiki/Ben_Browder\n",
      "/wiki/Matthew_Fox\n",
      "/wiki/Michael_C._Hall\n",
      "/wiki/Matthew_Fox\n",
      "/wiki/Edward_James_Olmos\n",
      "/wiki/Josh_Holloway\n",
      "/wiki/Stephen_Moyer\n",
      "/wiki/Bryan_Cranston\n",
      "/wiki/Bryan_Cranston\n",
      "/wiki/Mads_Mikkelsen\n",
      "/wiki/Hugh_Dancy\n",
      "/wiki/Andrew_Lincoln\n",
      "/wiki/Bruce_Campbell\n",
      "/wiki/Andrew_Lincoln\n",
      "/wiki/Screen_Actors_Guild_Award_for_Outstanding_Performance_by_a_Male_Actor_in_a_Miniseries_or_Television_Movie\n",
      "/wiki/Ra%C3%BAl_Juli%C3%A1\n",
      "/wiki/Gary_Sinise\n",
      "/wiki/Alan_Rickman\n",
      "/wiki/Gary_Sinise\n",
      "/wiki/Christopher_Reeve\n",
      "/wiki/Jack_Lemmon\n",
      "/wiki/Brian_Dennehy\n",
      "/wiki/Ben_Kingsley\n",
      "/wiki/William_H._Macy\n",
      "/wiki/Al_Pacino\n",
      "/wiki/Geoffrey_Rush\n",
      "/wiki/Paul_Newman\n",
      "/wiki/Jeremy_Irons\n",
      "/wiki/Kevin_Kline\n",
      "/wiki/Paul_Giamatti\n",
      "/wiki/Al_Pacino\n",
      "/wiki/Paul_Giamatti\n",
      "/wiki/Kevin_Costner\n",
      "/wiki/Michael_Douglas\n",
      "/wiki/Mark_Ruffalo\n",
      "/wiki/Idris_Elba\n",
      "/wiki/Bryan_Cranston\n",
      "/wiki/Screen_Actors_Guild_Award_for_Outstanding_Performance_by_a_Cast_in_a_Motion_Picture\n",
      "/wiki/Apollo_13_(film)\n",
      "/wiki/Tom_Hanks\n",
      "/wiki/Ed_Harris\n",
      "/wiki/Bill_Paxton\n",
      "/wiki/Kathleen_Quinlan\n",
      "/wiki/Gary_Sinise\n",
      "/wiki/The_Birdcage\n",
      "/wiki/Hank_Azaria\n",
      "/wiki/Christine_Baranski\n",
      "/wiki/Dan_Futterman\n",
      "/wiki/Gene_Hackman\n",
      "/wiki/Nathan_Lane\n",
      "/wiki/Dianne_Wiest\n",
      "/wiki/Robin_Williams\n",
      "/wiki/The_Full_Monty\n",
      "/wiki/Mark_Addy\n",
      "/wiki/Paul_Barber_(actor)\n",
      "/wiki/Robert_Carlyle\n",
      "/wiki/Steve_Huison\n",
      "/wiki/Bruce_Jones_(actor)\n",
      "/wiki/Lesley_Sharp\n",
      "/wiki/William_Snape\n",
      "/wiki/Hugo_Speer\n",
      "/wiki/Tom_Wilkinson\n",
      "/wiki/Emily_Woof\n",
      "/wiki/Shakespeare_in_Love\n",
      "/wiki/Ben_Affleck\n",
      "/wiki/Simon_Callow\n",
      "/wiki/Jim_Carter_(actor)\n",
      "/wiki/Martin_Clunes\n",
      "/wiki/Judi_Dench\n",
      "/wiki/Joseph_Fiennes\n",
      "/wiki/Colin_Firth\n",
      "/wiki/Gwyneth_Paltrow\n",
      "/wiki/Geoffrey_Rush\n",
      "/wiki/Antony_Sher\n",
      "/wiki/Imelda_Staunton\n",
      "/wiki/American_Beauty_(1999_film)\n",
      "/wiki/Annette_Bening\n",
      "/wiki/Wes_Bentley\n",
      "/wiki/Thora_Birch\n",
      "/wiki/Chris_Cooper\n",
      "/wiki/Peter_Gallagher\n",
      "/wiki/Allison_Janney\n",
      "/wiki/Kevin_Spacey\n",
      "/wiki/Mena_Suvari\n",
      "/wiki/Traffic_(2000_film)\n",
      "/wiki/Steven_Bauer\n",
      "/wiki/Benjamin_Bratt\n",
      "/wiki/James_Brolin\n",
      "/wiki/Don_Cheadle\n",
      "/wiki/Erika_Christensen\n",
      "/wiki/Clifton_Collins_Jr.\n",
      "/wiki/Benicio_del_Toro\n",
      "/wiki/Michael_Douglas\n",
      "/wiki/Miguel_Ferrer\n",
      "/wiki/Albert_Finney\n",
      "/wiki/Topher_Grace\n",
      "/wiki/Luis_Guzm%C3%A1n\n",
      "/wiki/Amy_Irving\n",
      "/wiki/Tomas_Milian\n",
      "/wiki/D._W._Moffett\n",
      "/wiki/Dennis_Quaid\n",
      "/wiki/Peter_Riegert\n",
      "/wiki/Jacob_Vargas\n",
      "/wiki/Catherine_Zeta-Jones\n",
      "/wiki/Screen_Actors_Guild_Award_for_Outstanding_Performance_by_a_Cast_in_a_Motion_Picture\n",
      "/wiki/Virtual_International_Authority_File\n",
      "/wiki/Library_of_Congress_Control_Number\n",
      "/wiki/International_Standard_Name_Identifier\n",
      "/wiki/Integrated_Authority_File\n",
      "/wiki/Syst%C3%A8me_universitaire_de_documentation\n",
      "/wiki/Biblioth%C3%A8que_nationale_de_France\n",
      "/wiki/MusicBrainz\n"
     ]
    }
   ],
   "source": [
    "from urllib.request import urlopen\n",
    "from bs4 import BeautifulSoup\n",
    "import re\n",
    "\n",
    "html = urlopen(\"http://en.wikipedia.org/wiki/Kevin_Bacon\")\n",
    "bsobj = BeautifulSoup(html)\n",
    "for link in bsobj.find(\"div\", {\"id\":\"bodyContent\"}).\\\n",
    "        findAll(\"a\", href=re.compile(\"^(/wiki/)((?!:).)*$\")):\n",
    "    if \"href\" in link.attrs:\n",
    "        print(link.attrs[\"href\"])"
   ]
  },
  {
   "cell_type": "code",
   "execution_count": 32,
   "metadata": {},
   "outputs": [
    {
     "name": "stdout",
     "output_type": "stream",
     "text": [
      "<a id=\"top\"></a>\n",
      "<a href=\"/wiki/Wikipedia:Protection_policy#semi\" title=\"This article is semi-protected to promote compliance with the policy on biographies of living people\"><img alt=\"Page semi-protected\" data-file-height=\"128\" data-file-width=\"128\" height=\"20\" src=\"//upload.wikimedia.org/wikipedia/commons/thumb/f/fc/Padlock-silver.svg/20px-Padlock-silver.svg.png\" srcset=\"//upload.wikimedia.org/wikipedia/commons/thumb/f/fc/Padlock-silver.svg/30px-Padlock-silver.svg.png 1.5x, //upload.wikimedia.org/wikipedia/commons/thumb/f/fc/Padlock-silver.svg/40px-Padlock-silver.svg.png 2x\" width=\"20\"/></a>\n",
      "<a href=\"#mw-head\">navigation</a>\n",
      "<a href=\"#p-search\">search</a>\n",
      "<a class=\"mw-disambig\" href=\"/wiki/Kevin_Bacon_(disambiguation)\" title=\"Kevin Bacon (disambiguation)\">Kevin Bacon (disambiguation)</a>\n",
      "<a class=\"image\" href=\"/wiki/File:Kevin_Bacon_SDCC_2014.jpg\"><img alt=\"Kevin Bacon SDCC 2014.jpg\" data-file-height=\"2649\" data-file-width=\"1907\" height=\"306\" src=\"//upload.wikimedia.org/wikipedia/commons/thumb/d/d7/Kevin_Bacon_SDCC_2014.jpg/220px-Kevin_Bacon_SDCC_2014.jpg\" srcset=\"//upload.wikimedia.org/wikipedia/commons/thumb/d/d7/Kevin_Bacon_SDCC_2014.jpg/330px-Kevin_Bacon_SDCC_2014.jpg 1.5x, //upload.wikimedia.org/wikipedia/commons/thumb/d/d7/Kevin_Bacon_SDCC_2014.jpg/440px-Kevin_Bacon_SDCC_2014.jpg 2x\" width=\"220\"/></a>\n",
      "<a href=\"/wiki/San_Diego_Comic-Con\" title=\"San Diego Comic-Con\">San Diego Comic-Con</a>\n",
      "<a href=\"/wiki/Philadelphia\" title=\"Philadelphia\">Philadelphia</a>\n",
      "<a href=\"/wiki/Pennsylvania\" title=\"Pennsylvania\">Pennsylvania</a>\n",
      "<a href=\"/wiki/Kyra_Sedgwick\" title=\"Kyra Sedgwick\">Kyra Sedgwick</a>\n",
      "<a href=\"/wiki/Sosie_Bacon\" title=\"Sosie Bacon\">Sosie Bacon</a>\n",
      "<a href=\"/wiki/Edmund_Bacon_(architect)\" title=\"Edmund Bacon (architect)\">Edmund Bacon</a>\n",
      "<a href=\"/wiki/Michael_Bacon_(musician)\" title=\"Michael Bacon (musician)\">Michael Bacon</a>\n",
      "<a class=\"external text\" href=\"http://baconbros.com/\" rel=\"nofollow\">baconbros<wbr/>.com</a>\n",
      "<a href=\"#cite_note-1\">[1]</a>\n",
      "<a href=\"#cite_note-actor-2\">[2]</a>\n",
      "<a href=\"/wiki/Footloose_(1984_film)\" title=\"Footloose (1984 film)\">Footloose</a>\n",
      "<a href=\"/wiki/JFK_(film)\" title=\"JFK (film)\">JFK</a>\n",
      "<a href=\"/wiki/A_Few_Good_Men\" title=\"A Few Good Men\">A Few Good Men</a>\n",
      "<a href=\"/wiki/Apollo_13_(film)\" title=\"Apollo 13 (film)\">Apollo 13</a>\n",
      "<a href=\"/wiki/Mystic_River_(film)\" title=\"Mystic River (film)\">Mystic River</a>\n",
      "<a href=\"/wiki/Sleepers\" title=\"Sleepers\">Sleepers</a>\n",
      "<a href=\"/wiki/The_Woodsman_(2004_film)\" title=\"The Woodsman (2004 film)\">The Woodsman</a>\n",
      "<a href=\"/wiki/Fox_Broadcasting_Company\" title=\"Fox Broadcasting Company\">Fox</a>\n",
      "<a href=\"/wiki/The_Following\" title=\"The Following\">The Following</a>\n",
      "<a href=\"/wiki/HBO\" title=\"HBO\">HBO</a>\n",
      "<a href=\"/wiki/Taking_Chance\" title=\"Taking Chance\">Taking Chance</a>\n",
      "<a href=\"/wiki/Golden_Globe_Award\" title=\"Golden Globe Award\">Golden Globe Award</a>\n",
      "<a href=\"/wiki/Screen_Actors_Guild_Award\" title=\"Screen Actors Guild Award\">Screen Actors Guild Award</a>\n",
      "<a href=\"/wiki/Primetime_Emmy_Award\" title=\"Primetime Emmy Award\">Primetime Emmy Award</a>\n",
      "<a href=\"/wiki/The_Guardian\" title=\"The Guardian\">The Guardian</a>\n",
      "<a class=\"mw-redirect\" href=\"/wiki/Academy_Award\" title=\"Academy Award\">Academy Award</a>\n",
      "<a href=\"#cite_note-3\">[3]</a>\n",
      "<a href=\"/wiki/Hollywood_Walk_of_Fame\" title=\"Hollywood Walk of Fame\">Hollywood Walk of Fame</a>\n",
      "<a href=\"#cite_note-4\">[4]</a>\n",
      "<a class=\"mw-redirect\" href=\"/wiki/Social_networks\" title=\"Social networks\">social networks</a>\n",
      "<a href=\"/wiki/Six_Degrees_of_Kevin_Bacon\" title=\"Six Degrees of Kevin Bacon\">Six Degrees of Kevin Bacon</a>\n",
      "<a href=\"/wiki/SixDegrees.org\" title=\"SixDegrees.org\">SixDegrees.org</a>\n",
      "<a href=\"#cite_note-walk-5\">[5]</a>\n",
      "<a href=\"#Early_life_and_education\"><span class=\"tocnumber\">1</span> <span class=\"toctext\">Early life and education</span></a>\n",
      "<a href=\"#Acting_career\"><span class=\"tocnumber\">2</span> <span class=\"toctext\">Acting career</span></a>\n",
      "<a href=\"#Early_work\"><span class=\"tocnumber\">2.1</span> <span class=\"toctext\">Early work</span></a>\n",
      "<a href=\"#1980s\"><span class=\"tocnumber\">2.2</span> <span class=\"toctext\">1980s</span></a>\n",
      "<a href=\"#1990s\"><span class=\"tocnumber\">2.3</span> <span class=\"toctext\">1990s</span></a>\n",
      "<a href=\"#2000s\"><span class=\"tocnumber\">2.4</span> <span class=\"toctext\">2000s</span></a>\n",
      "<a href=\"#2010s\"><span class=\"tocnumber\">2.5</span> <span class=\"toctext\">2010s</span></a>\n",
      "<a href=\"#Advertising_work\"><span class=\"tocnumber\">2.6</span> <span class=\"toctext\">Advertising work</span></a>\n",
      "<a href=\"#Personal_life\"><span class=\"tocnumber\">3</span> <span class=\"toctext\">Personal life</span></a>\n",
      "<a href=\"#Six_Degrees_of_Kevin_Bacon\"><span class=\"tocnumber\">4</span> <span class=\"toctext\">Six Degrees of Kevin Bacon</span></a>\n",
      "<a href=\"#Music\"><span class=\"tocnumber\">5</span> <span class=\"toctext\">Music</span></a>\n",
      "<a href=\"#Awards_and_nominations\"><span class=\"tocnumber\">6</span> <span class=\"toctext\">Awards and nominations</span></a>\n",
      "<a href=\"#See_also\"><span class=\"tocnumber\">7</span> <span class=\"toctext\">See also</span></a>\n",
      "<a href=\"#References\"><span class=\"tocnumber\">8</span> <span class=\"toctext\">References</span></a>\n",
      "<a href=\"#External_links\"><span class=\"tocnumber\">9</span> <span class=\"toctext\">External links</span></a>\n",
      "<a href=\"/wiki/Philadelphia\" title=\"Philadelphia\">Philadelphia</a>\n",
      "<a href=\"#cite_note-actor-2\">[2]</a>\n",
      "<a href=\"#cite_note-actor-2\">[2]</a>\n",
      "<a href=\"/wiki/Edmund_Bacon_(architect)\" title=\"Edmund Bacon (architect)\">Edmund Norwood Bacon</a>\n",
      "<a href=\"#cite_note-bacon-6\">[6]</a>\n",
      "<a href=\"/wiki/Pennsylvania_Governor%27s_School_for_the_Arts\" title=\"Pennsylvania Governor's School for the Arts\">Pennsylvania Governor's School for the Arts</a>\n",
      "<a href=\"/wiki/Bucknell_University\" title=\"Bucknell University\">Bucknell University</a>\n",
      "<a href=\"#cite_note-7\">[7]</a>\n",
      "<a href=\"/wiki/Glory_Van_Scott\" title=\"Glory Van Scott\">Glory Van Scott</a>\n",
      "<a href=\"#cite_note-walk-5\">[5]</a>\n",
      "<a href=\"#cite_note-bacon-6\">[6]</a>\n",
      "<a href=\"/wiki/Kevin_Bacon_filmography\" title=\"Kevin Bacon filmography\">Kevin Bacon filmography</a>\n",
      "<a class=\"mw-redirect\" href=\"/wiki/Circle_in_the_Square\" title=\"Circle in the Square\">Circle in the Square Theater School</a>\n",
      "<a class=\"mw-redirect\" href=\"/wiki/Nancy_Mills\" title=\"Nancy Mills\">Nancy Mills</a>\n",
      "<a href=\"/wiki/Cosmopolitan_(magazine)\" title=\"Cosmopolitan (magazine)\">Cosmopolitan</a>\n",
      "<a href=\"#cite_note-cosmo91-8\">[8]</a>\n",
      "<a href=\"/wiki/Fraternities_and_sororities\" title=\"Fraternities and sororities\">fraternity</a>\n",
      "<a href=\"/wiki/Animal_House\" title=\"Animal House\">National Lampoon's Animal House</a>\n",
      "<a href=\"#cite_note-bacon-6\">[6]</a>\n",
      "<a href=\"/wiki/Search_for_Tomorrow\" title=\"Search for Tomorrow\">Search for Tomorrow</a>\n",
      "<a href=\"/wiki/Guiding_Light\" title=\"Guiding Light\">Guiding Light</a>\n",
      "<a href=\"/wiki/Friday_the_13th_(1980_film)\" title=\"Friday the 13th (1980 film)\"><i>Friday the 13th</i></a>\n",
      "<a href=\"#cite_note-9\">[9]</a>\n",
      "<a href=\"/wiki/Phoenix_Theater\" title=\"Phoenix Theater\">Phoenix Theater</a>\n",
      "<a href=\"/wiki/Flux\" title=\"Flux\">Flux</a>\n",
      "<a href=\"/wiki/Second_Stage_Theatre\" title=\"Second Stage Theatre\">Second Stage Theatre</a>\n",
      "<a href=\"#cite_note-bio-10\">[10]</a>\n",
      "<a href=\"/wiki/Obie_Award\" title=\"Obie Award\">Obie Award</a>\n",
      "<a href=\"/wiki/Forty_Deuce\" title=\"Forty Deuce\">Forty Deuce</a>\n",
      "<a href=\"#cite_note-kevin-11\">[11]</a>\n",
      "<a class=\"mw-redirect\" href=\"/wiki/Slab_Boys\" title=\"Slab Boys\">Slab Boys</a>\n",
      "<a href=\"/wiki/Sean_Penn\" title=\"Sean Penn\">Sean Penn</a>\n",
      "<a href=\"/wiki/Val_Kilmer\" title=\"Val Kilmer\">Val Kilmer</a>\n",
      "<a href=\"/wiki/Barry_Levinson\" title=\"Barry Levinson\">Barry Levinson</a>\n",
      "<a href=\"/wiki/Diner_(film)\" title=\"Diner (film)\">Diner</a>\n",
      "<a href=\"/wiki/Steve_Guttenberg\" title=\"Steve Guttenberg\">Steve Guttenberg</a>\n",
      "<a href=\"/wiki/Daniel_Stern_(actor)\" title=\"Daniel Stern (actor)\">Daniel Stern</a>\n",
      "<a href=\"/wiki/Mickey_Rourke\" title=\"Mickey Rourke\">Mickey Rourke</a>\n",
      "<a href=\"/wiki/Tim_Daly\" title=\"Tim Daly\">Tim Daly</a>\n",
      "<a href=\"/wiki/Ellen_Barkin\" title=\"Ellen Barkin\">Ellen Barkin</a>\n",
      "<a href=\"#cite_note-12\">[12]</a>\n",
      "<a href=\"/wiki/Footloose_(1984_film)\" title=\"Footloose (1984 film)\">Footloose</a>\n",
      "<a href=\"#cite_note-bio-10\">[10]</a>\n",
      "<a href=\"/wiki/James_Dean\" title=\"James Dean\">James Dean</a>\n",
      "<a href=\"/wiki/Rebel_Without_a_Cause\" title=\"Rebel Without a Cause\">Rebel Without a Cause</a>\n",
      "<a href=\"/wiki/Mickey_Rooney\" title=\"Mickey Rooney\">Mickey Rooney</a>\n",
      "<a href=\"/wiki/Judy_Garland\" title=\"Judy Garland\">Judy Garland</a>\n",
      "<a href=\"#cite_note-time84-13\">[13]</a>\n",
      "<a href=\"#cite_note-bacon-6\">[6]</a>\n",
      "<a href=\"#cite_note-14\">[14]</a>\n",
      "<a href=\"#cite_note-15\">[15]</a>\n",
      "<a class=\"mw-redirect\" href=\"/wiki/People_(American_magazine)\" title=\"People (American magazine)\">People</a>\n",
      "<a href=\"/wiki/Typecasting_(acting)\" title=\"Typecasting (acting)\">typecasting</a>\n",
      "<a href=\"/wiki/John_Hughes_(filmmaker)\" title=\"John Hughes (filmmaker)\">John Hughes</a>\n",
      "<a href=\"/wiki/She%27s_Having_a_Baby\" title=\"She's Having a Baby\">She's Having a Baby</a>\n",
      "<a href=\"#cite_note-bio-10\">[10]</a>\n",
      "<a href=\"/wiki/The_Big_Picture_(1989_film)\" title=\"The Big Picture (1989 film)\">The Big Picture</a>\n",
      "<a href=\"#cite_note-16\">[16]</a>\n",
      "<a href=\"/wiki/Tremors_(film)\" title=\"Tremors (film)\">Tremors</a>\n",
      "<a href=\"#cite_note-17\">[17]</a>\n",
      "<a href=\"/wiki/Joel_Schumacher\" title=\"Joel Schumacher\">Joel Schumacher</a>\n",
      "<a href=\"/wiki/Flatliners\" title=\"Flatliners\">Flatliners</a>\n",
      "<a href=\"#cite_note-bio-10\">[10]</a>\n",
      "<a href=\"/wiki/Elizabeth_Perkins\" title=\"Elizabeth Perkins\">Elizabeth Perkins</a>\n",
      "<a href=\"/wiki/He_Said,_She_Said\" title=\"He Said, She Said\">He Said, She Said</a>\n",
      "<a href=\"#cite_note-bio-10\">[10]</a>\n",
      "<a href=\"/wiki/The_New_York_Times\" title=\"The New York Times\">The New York Times</a>\n",
      "<a href=\"#cite_note-nyt94-18\">[18]</a>\n",
      "<a href=\"/wiki/Oliver_Stone\" title=\"Oliver Stone\">Oliver Stone</a>\n",
      "<a href=\"/wiki/JFK_(film)\" title=\"JFK (film)\">JFK</a>\n",
      "<a href=\"#cite_note-19\">[19]</a>\n",
      "<a class=\"mw-redirect\" href=\"/wiki/A_Few_Good_Men_(film)\" title=\"A Few Good Men (film)\">A Few Good Men</a>\n",
      "<a href=\"#cite_note-20\">[20]</a>\n",
      "<a href=\"/wiki/Michael_Greif\" title=\"Michael Greif\">Michael Greif</a>\n",
      "<a href=\"#cite_note-bio-10\">[10]</a>\n",
      "<a href=\"/wiki/Golden_Globe_Award\" title=\"Golden Globe Award\">Golden Globe</a>\n",
      "<a href=\"/wiki/The_River_Wild\" title=\"The River Wild\">The River Wild</a>\n",
      "<a href=\"#cite_note-bio-10\">[10]</a>\n",
      "<a href=\"/wiki/Meryl_Streep\" title=\"Meryl Streep\">Meryl Streep</a>\n",
      "<a href=\"/wiki/Murder_in_the_First_(film)\" title=\"Murder in the First (film)\">Murder in the First</a>\n",
      "<a href=\"#cite_note-bio-10\">[10]</a>\n",
      "<a href=\"/wiki/Blockbuster_(entertainment)\" title=\"Blockbuster (entertainment)\">blockbuster</a>\n",
      "<a href=\"/wiki/Apollo_13_(film)\" title=\"Apollo 13 (film)\">Apollo 13</a>\n",
      "<a href=\"#cite_note-21\">[21]</a>\n",
      "<a class=\"mw-redirect\" href=\"/wiki/Sleepers_(film)\" title=\"Sleepers (film)\">Sleepers</a>\n",
      "<a href=\"#cite_note-22\">[22]</a>\n",
      "<a href=\"/wiki/Picture_Perfect_(1997_film)\" title=\"Picture Perfect (1997 film)\">Picture Perfect</a>\n",
      "<a href=\"#cite_note-bio-10\">[10]</a>\n",
      "<a href=\"/wiki/Losing_Chase\" title=\"Losing Chase\">Losing Chase</a>\n",
      "<a href=\"#cite_note-austin-23\">[23]</a>\n",
      "<a href=\"/wiki/Digging_to_China\" title=\"Digging to China\">Digging to China</a>\n",
      "<a href=\"#cite_note-bio-10\">[10]</a>\n",
      "<a href=\"/wiki/Payola\" title=\"Payola\">payola</a>\n",
      "<a class=\"mw-redirect\" href=\"/wiki/Telling_Lies_in_America_(film)\" title=\"Telling Lies in America (film)\">Telling Lies in America</a>\n",
      "<a href=\"#cite_note-bio-10\">[10]</a>\n",
      "<a href=\"/wiki/Wild_Things_(film)\" title=\"Wild Things (film)\">Wild Things</a>\n",
      "<a href=\"/wiki/Stir_of_Echoes\" title=\"Stir of Echoes\">Stir of Echoes</a>\n",
      "<a href=\"/wiki/David_Koepp\" title=\"David Koepp\">David Koepp</a>\n",
      "<a href=\"#cite_note-24\">[24]</a>\n",
      "<a class=\"image\" href=\"/wiki/File:KevinBaconTakingChanceFeb09.jpg\"><img alt=\"\" class=\"thumbimage\" data-file-height=\"2194\" data-file-width=\"2333\" height=\"207\" src=\"//upload.wikimedia.org/wikipedia/commons/thumb/2/21/KevinBaconTakingChanceFeb09.jpg/220px-KevinBaconTakingChanceFeb09.jpg\" srcset=\"//upload.wikimedia.org/wikipedia/commons/thumb/2/21/KevinBaconTakingChanceFeb09.jpg/330px-KevinBaconTakingChanceFeb09.jpg 1.5x, //upload.wikimedia.org/wikipedia/commons/thumb/2/21/KevinBaconTakingChanceFeb09.jpg/440px-KevinBaconTakingChanceFeb09.jpg 2x\" width=\"220\"/></a>\n",
      "<a class=\"internal\" href=\"/wiki/File:KevinBaconTakingChanceFeb09.jpg\" title=\"Enlarge\"></a>\n",
      "<a href=\"/wiki/Taking_Chance\" title=\"Taking Chance\">Taking Chance</a>\n",
      "<a href=\"/wiki/Paul_Verhoeven\" title=\"Paul Verhoeven\">Paul Verhoeven</a>\n",
      "<a href=\"/wiki/Hollow_Man\" title=\"Hollow Man\">Hollow Man</a>\n",
      "<a href=\"#cite_note-25\">[25]</a>\n",
      "<a href=\"/wiki/Colin_Firth\" title=\"Colin Firth\">Colin Firth</a>\n",
      "<a href=\"/wiki/Rachel_Blanchard\" title=\"Rachel Blanchard\">Rachel Blanchard</a>\n",
      "<a href=\"/wiki/M%C3%A9nage_%C3%A0_trois\" title=\"Ménage à trois\">ménage à trois</a>\n",
      "<a href=\"/wiki/Where_the_Truth_Lies\" title=\"Where the Truth Lies\">Where the Truth Lies</a>\n",
      "<a href=\"#cite_note-26\">[26]</a>\n",
      "<a href=\"/wiki/Atom_Egoyan\" title=\"Atom Egoyan\">Atom Egoyan</a>\n",
      "<a class=\"mw-redirect\" href=\"/wiki/MPAA\" title=\"MPAA\">MPAA</a>\n",
      "<a class=\"mw-redirect\" href=\"/wiki/MPAA_film_rating_system\" title=\"MPAA film rating system\">NC-17</a>\n",
      "<a href=\"#cite_note-27\">[27]</a>\n",
      "<a class=\"mw-redirect\" href=\"/wiki/Pedophile\" title=\"Pedophile\">pedophile</a>\n",
      "<a href=\"/wiki/The_Woodsman_(2004_film)\" title=\"The Woodsman (2004 film)\">The Woodsman</a>\n",
      "<a href=\"#cite_note-28\">[28]</a>\n",
      "<a href=\"/wiki/HBO_Films\" title=\"HBO Films\">HBO Films</a>\n",
      "<a href=\"/wiki/Taking_Chance\" title=\"Taking Chance\">Taking Chance</a>\n",
      "<a href=\"/wiki/Michael_Strobl\" title=\"Michael Strobl\">Michael Strobl</a>\n",
      "<a class=\"mw-redirect\" href=\"/wiki/Desert_Storm\" title=\"Desert Storm\">Desert Storm</a>\n",
      "<a href=\"#cite_note-29\">[29]</a>\n",
      "<a href=\"/wiki/Screen_Actors_Guild_Award_for_Outstanding_Performance_by_a_Male_Actor_in_a_Miniseries_or_Television_Movie\" title=\"Screen Actors Guild Award for Outstanding Performance by a Male Actor in a Miniseries or Television Movie\">Screen Actors Guild Award for Outstanding Performance by a Male Actor in a Miniseries or Television Movie</a>\n",
      "<a href=\"/wiki/Matthew_Vaughn\" title=\"Matthew Vaughn\">Matthew Vaughn</a>\n",
      "<a href=\"/wiki/X-Men:_First_Class\" title=\"X-Men: First Class\">X-Men: First Class</a>\n",
      "<a href=\"#cite_note-30\">[30]</a>\n",
      "<a href=\"/wiki/Sebastian_Shaw_(comics)\" title=\"Sebastian Shaw (comics)\">Sebastian Shaw</a>\n",
      "<a href=\"#cite_note-31\">[31]</a>\n",
      "<a href=\"/wiki/Dustin_Lance_Black\" title=\"Dustin Lance Black\">Dustin Lance Black</a>\n",
      "<a href=\"/wiki/8_(play)\" title=\"8 (play)\">8</a>\n",
      "<a class=\"mw-redirect\" href=\"/wiki/Perry_v._Brown\" title=\"Perry v. Brown\">federal trial</a>\n",
      "<a class=\"mw-redirect\" href=\"/wiki/Proposition_8\" title=\"Proposition 8\">Prop 8 ban</a>\n",
      "<a href=\"/wiki/Charles_J._Cooper\" title=\"Charles J. Cooper\">Charles J. Cooper</a>\n",
      "<a href=\"#cite_note-8_the_play-32\">[32]</a>\n",
      "<a class=\"mw-redirect\" href=\"/wiki/Wilshire_Ebell_Theatre\" title=\"Wilshire Ebell Theatre\">Wilshire Ebell Theatre</a>\n",
      "<a href=\"/wiki/American_Foundation_for_Equal_Rights\" title=\"American Foundation for Equal Rights\">American Foundation for Equal Rights</a>\n",
      "<a href=\"#cite_note-8_play_video-33\">[33]</a>\n",
      "<a href=\"#cite_note-34\">[34]</a>\n",
      "<a href=\"/wiki/The_Following\" title=\"The Following\">The Following</a>\n",
      "<a href=\"#cite_note-35\">[35]</a>\n",
      "<a href=\"/wiki/Saturn_Award_for_Best_Actor_on_Television\" title=\"Saturn Award for Best Actor on Television\">Saturn Award for Best Actor on Television</a>\n",
      "<a href=\"#cite_note-36\">[36]</a>\n",
      "<a class=\"mw-redirect\" href=\"/wiki/Huffington_Post\" title=\"Huffington Post\">Huffington Post</a>\n",
      "<a href=\"/wiki/Wikipedia:Citation_needed\" title=\"Wikipedia:Citation needed\"><span title=\"This claim needs references to reliable sources. (January 2016)\">citation needed</span></a>\n",
      "<a href=\"/wiki/Tremors_(film)\" title=\"Tremors (film)\"><i>Tremors</i> franchise</a>\n",
      "<a href=\"/wiki/Wikipedia:Citation_needed\" title=\"Wikipedia:Citation needed\"><span title=\"This claim needs references to reliable sources. (January 2016)\">citation needed</span></a>\n",
      "<a class=\"mw-redirect\" href=\"/wiki/Tremors_5:_Bloodline\" title=\"Tremors 5: Bloodline\">Tremors 5: Bloodline</a>\n",
      "<a class=\"mw-redirect\" href=\"/wiki/EE_(telecommunications_company)\" title=\"EE (telecommunications company)\">EE mobile network</a>\n",
      "<a href=\"/wiki/United_Kingdom\" title=\"United Kingdom\">United Kingdom</a>\n",
      "<a href=\"#cite_note-37\">[37]</a>\n",
      "<a href=\"#cite_note-38\">[38]</a>\n",
      "<a href=\"/wiki/Egg\" title=\"Egg\">egg</a>\n",
      "<a href=\"#cite_note-39\">[39]</a>\n",
      "<a href=\"/wiki/Kyra_Sedgwick\" title=\"Kyra Sedgwick\">Kyra Sedgwick</a>\n",
      "<a href=\"/wiki/PBS\" title=\"PBS\">PBS</a>\n",
      "<a href=\"/wiki/Lanford_Wilson\" title=\"Lanford Wilson\">Lanford Wilson</a>\n",
      "<a href=\"/wiki/Lemon_Sky\" title=\"Lemon Sky\">Lemon Sky</a>\n",
      "<a href=\"#cite_note-cosmo91-8\">[8]</a>\n",
      "<a href=\"/wiki/Pyrates\" title=\"Pyrates\">Pyrates</a>\n",
      "<a href=\"/wiki/Murder_in_the_First_(film)\" title=\"Murder in the First (film)\">Murder in the First</a>\n",
      "<a href=\"/wiki/The_Woodsman_(2004_film)\" title=\"The Woodsman (2004 film)\">The Woodsman</a>\n",
      "<a href=\"/wiki/Loverboy_(2005_film)\" title=\"Loverboy (2005 film)\">Loverboy</a>\n",
      "<a href=\"/wiki/Sosie_Bacon\" title=\"Sosie Bacon\">Sosie Ruth</a>\n",
      "<a href=\"/wiki/Upper_West_Side\" title=\"Upper West Side\">Upper West Side</a>\n",
      "<a href=\"/wiki/Manhattan\" title=\"Manhattan\">Manhattan</a>\n",
      "<a href=\"#cite_note-40\">[40]</a>\n",
      "<a href=\"/wiki/Tracy_Pollan\" title=\"Tracy Pollan\">Tracy Pollan</a>\n",
      "<a href=\"#cite_note-41\">[41]</a>\n",
      "<a href=\"#cite_note-42\">[42]</a>\n",
      "<a href=\"#cite_note-43\">[43]</a>\n",
      "<a href=\"/wiki/The_Times\" title=\"The Times\">The Times</a>\n",
      "<a href=\"#cite_note-44\">[44]</a>\n",
      "<a href=\"#cite_note-45\">[45]</a>\n",
      "<a href=\"/wiki/Will.i.am\" title=\"Will.i.am\">will.i.am</a>\n",
      "<a href=\"/wiki/It%27s_a_New_Day_(Will.i.am_song)\" title=\"It's a New Day (Will.i.am song)\">\"It's a New Day\"</a>\n",
      "<a href=\"/wiki/Barack_Obama\" title=\"Barack Obama\">Barack Obama</a>\n",
      "<a href=\"/wiki/Ponzi_scheme\" title=\"Ponzi scheme\">Ponzi scheme</a>\n",
      "<a href=\"/wiki/Bernard_Madoff\" title=\"Bernard Madoff\">Bernard Madoff</a>\n",
      "<a href=\"#cite_note-financialpost-46\">[46]</a>\n",
      "<a href=\"#cite_note-47\">[47]</a>\n",
      "<a href=\"/wiki/Finding_Your_Roots\" title=\"Finding Your Roots\">Finding Your Roots</a>\n",
      "<a class=\"mw-redirect\" href=\"/wiki/Henry_Louis_Gates\" title=\"Henry Louis Gates\">Henry Louis Gates</a>\n",
      "<a href=\"#cite_note-48\">[48]</a>\n",
      "<a href=\"#cite_note-49\">[49]</a>\n",
      "<a href=\"#cite_note-50\">[50]</a>\n",
      "<a href=\"/wiki/Six_Degrees_of_Kevin_Bacon\" title=\"Six Degrees of Kevin Bacon\">Six Degrees of Kevin Bacon</a>\n",
      "<a href=\"/wiki/Trivia\" title=\"Trivia\">trivia</a>\n",
      "<a class=\"mw-redirect\" href=\"/wiki/Big_screen\" title=\"Big screen\">screen</a>\n",
      "<a href=\"/wiki/Six_degrees_of_separation\" title=\"Six degrees of separation\">six degrees of separation</a>\n",
      "<a href=\"/wiki/Meme\" title=\"Meme\">meme</a>\n",
      "<a href=\"/wiki/SixDegrees.org\" title=\"SixDegrees.org\">SixDegrees.org</a>\n",
      "<a href=\"#cite_note-51\">[51]</a>\n",
      "<a class=\"mw-redirect\" href=\"/wiki/Bacon_number\" title=\"Bacon number\">Bacon Index</a>\n",
      "<a class=\"mw-redirect\" href=\"/wiki/Internet_Movie_Database\" title=\"Internet Movie Database\">Internet Movie Database</a>\n",
      "<a href=\"#cite_note-52\">[52]</a>\n",
      "<a href=\"/wiki/Paul_Erd%C5%91s\" title=\"Paul Erdős\">Paul Erdős</a>\n",
      "<a href=\"/wiki/Erd%C5%91s_number\" title=\"Erdős number\">Erdős number</a>\n",
      "<a href=\"/wiki/Paul_Erd%C5%91s\" title=\"Paul Erdős\">Paul Erdős</a>\n",
      "<a class=\"mw-redirect\" href=\"/wiki/Bacon_number\" title=\"Bacon number\">Bacon Index</a>\n",
      "<a href=\"/wiki/Erd%C5%91s_number\" title=\"Erdős number\">Erdős number</a>\n",
      "<a href=\"/wiki/Erd%C5%91s%E2%80%93Bacon_number\" title=\"Erdős–Bacon number\">Erdős–Bacon number</a>\n",
      "<a href=\"#cite_note-53\">[53]</a>\n",
      "<a href=\"/wiki/The_Bacon_Brothers\" title=\"The Bacon Brothers\">The Bacon Brothers</a>\n",
      "<a href=\"/wiki/Michael_Bacon_(musician)\" title=\"Michael Bacon (musician)\">Michael</a>\n",
      "<a class=\"mw-redirect\" href=\"/wiki/Music_album\" title=\"Music album\">albums</a>\n",
      "<a href=\"#cite_note-54\">[54]</a>\n",
      "<a class=\"mw-redirect\" href=\"/wiki/Golden_Globe_Awards\" title=\"Golden Globe Awards\">Golden Globe Awards</a>\n",
      "<a href=\"/wiki/Golden_Globe_Award_for_Best_Supporting_Actor_%E2%80%93_Motion_Picture\" title=\"Golden Globe Award for Best Supporting Actor – Motion Picture\">Best Supporting Actor – Motion Picture</a>\n",
      "<a href=\"/wiki/The_River_Wild\" title=\"The River Wild\">The River Wild</a>\n",
      "<a class=\"mw-redirect\" href=\"/wiki/Broadcast_Film_Critics_Association_Awards\" title=\"Broadcast Film Critics Association Awards\">Broadcast Film Critics Association Awards</a>\n",
      "<a class=\"mw-redirect\" href=\"/wiki/Broadcast_Film_Critics_Association_Award_for_Best_Actor\" title=\"Broadcast Film Critics Association Award for Best Actor\">Best Actor</a>\n",
      "<a href=\"/wiki/Murder_in_the_First_(film)\" title=\"Murder in the First (film)\">Murder in the First</a>\n",
      "<a class=\"mw-redirect\" href=\"/wiki/Screen_Actors_Guild_Awards\" title=\"Screen Actors Guild Awards\">Screen Actors Guild Awards</a>\n",
      "<a href=\"/wiki/Screen_Actors_Guild_Award_for_Outstanding_Performance_by_a_Cast_in_a_Motion_Picture\" title=\"Screen Actors Guild Award for Outstanding Performance by a Cast in a Motion Picture\">Outstanding Performance by a Cast in a Motion Picture</a>\n",
      "<a href=\"/wiki/Apollo_13_(film)\" title=\"Apollo 13 (film)\">Apollo 13</a>\n",
      "<a class=\"mw-redirect\" href=\"/wiki/Screen_Actors_Guild_Awards\" title=\"Screen Actors Guild Awards\">Screen Actors Guild Awards</a>\n",
      "<a href=\"/wiki/Screen_Actors_Guild_Award_for_Outstanding_Performance_by_a_Male_Actor_in_a_Supporting_Role\" title=\"Screen Actors Guild Award for Outstanding Performance by a Male Actor in a Supporting Role\">Outstanding Performance by a Male Actor in a Supporting Role</a>\n",
      "<a href=\"/wiki/Murder_in_the_First_(film)\" title=\"Murder in the First (film)\">Murder in the First</a>\n",
      "<a class=\"mw-redirect\" href=\"/wiki/MTV_Movie_Awards\" title=\"MTV Movie Awards\">MTV Movie Awards</a>\n",
      "<a href=\"/wiki/MTV_Movie_Award_for_Best_Villain\" title=\"MTV Movie Award for Best Villain\">Best Villain</a>\n",
      "<a href=\"/wiki/Hollow_Man\" title=\"Hollow Man\">Hollow Man</a>\n",
      "<a class=\"mw-redirect\" href=\"/wiki/Boston_Society_of_Film_Critics_Awards\" title=\"Boston Society of Film Critics Awards\">Boston Society of Film Critics Awards</a>\n",
      "<a href=\"/wiki/Boston_Society_of_Film_Critics_Award_for_Best_Cast\" title=\"Boston Society of Film Critics Award for Best Cast\">Best Cast</a>\n",
      "<a href=\"/wiki/Mystic_River_(film)\" title=\"Mystic River (film)\">Mystic River</a>\n",
      "<a class=\"mw-redirect\" href=\"/wiki/Screen_Actors_Guild_Awards\" title=\"Screen Actors Guild Awards\">Screen Actors Guild Awards</a>\n",
      "<a href=\"/wiki/Screen_Actors_Guild_Award_for_Outstanding_Performance_by_a_Cast_in_a_Motion_Picture\" title=\"Screen Actors Guild Award for Outstanding Performance by a Cast in a Motion Picture\">Outstanding Performance by a Cast in a Motion Picture</a>\n",
      "<a href=\"/wiki/Mystic_River_(film)\" title=\"Mystic River (film)\">Mystic River</a>\n",
      "<a href=\"/wiki/Satellite_Awards\" title=\"Satellite Awards\">Satellite Awards</a>\n",
      "<a class=\"mw-redirect\" href=\"/wiki/Satellite_Award_for_Best_Actor_%E2%80%93_Motion_Picture_Drama\" title=\"Satellite Award for Best Actor – Motion Picture Drama\">Best Actor – Motion Picture Drama</a>\n",
      "<a href=\"/wiki/The_Woodsman_(2004_film)\" title=\"The Woodsman (2004 film)\">The Woodsman</a>\n",
      "<a href=\"/wiki/Teen_Choice_Awards\" title=\"Teen Choice Awards\">Teen Choice Awards</a>\n",
      "<a href=\"/wiki/Teen_Choice_Awards\" title=\"Teen Choice Awards\">Choice Movie Sleazebag</a>\n",
      "<a href=\"/wiki/Beauty_Shop\" title=\"Beauty Shop\">Beauty Shop</a>\n",
      "<a class=\"mw-redirect\" href=\"/wiki/Primetime_Emmy_Awards\" title=\"Primetime Emmy Awards\">Primetime Emmy Awards</a>\n",
      "<a class=\"mw-redirect\" href=\"/wiki/Primetime_Emmy_Award_for_Outstanding_Lead_Actor_in_a_Miniseries_or_a_Movie\" title=\"Primetime Emmy Award for Outstanding Lead Actor in a Miniseries or a Movie\">Outstanding Lead Actor in a Miniseries or a Movie</a>\n",
      "<a href=\"/wiki/Taking_Chance\" title=\"Taking Chance\">Taking Chance</a>\n",
      "<a href=\"/wiki/Satellite_Awards\" title=\"Satellite Awards\">Satellite Awards</a>\n",
      "<a href=\"/wiki/Satellite_Award_for_Best_Actor_%E2%80%93_Miniseries_or_Television_Film\" title=\"Satellite Award for Best Actor – Miniseries or Television Film\">Best Actor – Miniseries or Television Film</a>\n",
      "<a href=\"/wiki/Taking_Chance\" title=\"Taking Chance\">Taking Chance</a>\n",
      "<a class=\"mw-redirect\" href=\"/wiki/Screen_Actors_Guild_Awards\" title=\"Screen Actors Guild Awards\">Screen Actors Guild Awards</a>\n",
      "<a href=\"/wiki/Screen_Actors_Guild_Award_for_Outstanding_Performance_by_a_Cast_in_a_Motion_Picture\" title=\"Screen Actors Guild Award for Outstanding Performance by a Cast in a Motion Picture\">Outstanding Performance by a Cast in a Motion Picture</a>\n",
      "<a href=\"/wiki/Frost/Nixon_(film)\" title=\"Frost/Nixon (film)\">Frost/Nixon</a>\n",
      "<a class=\"mw-redirect\" href=\"/wiki/Golden_Globe_Awards\" title=\"Golden Globe Awards\">Golden Globe Awards</a>\n",
      "<a href=\"/wiki/Golden_Globe_Award_for_Best_Actor_%E2%80%93_Miniseries_or_Television_Film\" title=\"Golden Globe Award for Best Actor – Miniseries or Television Film\">Best Actor – Miniseries or Television Film</a>\n",
      "<a href=\"/wiki/Taking_Chance\" title=\"Taking Chance\">Taking Chance</a>\n",
      "<a class=\"mw-redirect\" href=\"/wiki/Screen_Actors_Guild_Awards\" title=\"Screen Actors Guild Awards\">Screen Actors Guild Awards</a>\n",
      "<a href=\"/wiki/Screen_Actors_Guild_Award_for_Outstanding_Performance_by_a_Male_Actor_in_a_Miniseries_or_Television_Movie\" title=\"Screen Actors Guild Award for Outstanding Performance by a Male Actor in a Miniseries or Television Movie\">Outstanding Performance by a Male Actor in a Miniseries or Television Movie</a>\n",
      "<a href=\"/wiki/Taking_Chance\" title=\"Taking Chance\">Taking Chance</a>\n",
      "<a href=\"/wiki/Teen_Choice_Awards\" title=\"Teen Choice Awards\">Teen Choice Awards</a>\n",
      "<a href=\"/wiki/Teen_Choice_Awards\" title=\"Teen Choice Awards\">Choice Movie Villain</a>\n",
      "<a href=\"/wiki/X-Men:_First_Class\" title=\"X-Men: First Class\">X-Men: First Class</a>\n",
      "<a class=\"mw-redirect\" href=\"/wiki/Saturn_Awards\" title=\"Saturn Awards\">Saturn Awards</a>\n",
      "<a href=\"/wiki/Saturn_Award_for_Best_Actor_on_Television\" title=\"Saturn Award for Best Actor on Television\">Best Actor on Television</a>\n",
      "<a href=\"/wiki/The_Following\" title=\"The Following\">The Following</a>\n",
      "<a href=\"/wiki/People%27s_Choice_Awards\" title=\"People's Choice Awards\">People's Choice Awards</a>\n",
      "<a href=\"/wiki/People%27s_Choice_Awards\" title=\"People's Choice Awards\">Favorite Dramatic TV Actor</a>\n",
      "<a href=\"/wiki/The_Following\" title=\"The Following\">The Following</a>\n",
      "<a class=\"mw-redirect\" href=\"/wiki/Saturn_Awards\" title=\"Saturn Awards\">Saturn Awards</a>\n",
      "<a href=\"/wiki/Saturn_Award_for_Best_Actor_on_Television\" title=\"Saturn Award for Best Actor on Television\">Best Actor on Television</a>\n",
      "<a href=\"/wiki/The_Following\" title=\"The Following\">The Following</a>\n",
      "<a href=\"/wiki/List_of_actors_with_Hollywood_Walk_of_Fame_motion_picture_stars\" title=\"List of actors with Hollywood Walk of Fame motion picture stars\">List of actors with Hollywood Walk of Fame motion picture stars</a>\n",
      "<a href=\"#cite_ref-1\">^</a>\n",
      "<a class=\"external text\" href=\"https://web.archive.org/web/20090113222205/http://www.newenglandancestors.org/research/services/articles_gbr78.asp\" rel=\"nofollow\">\"Ten Further Hollywood Figures (or Groups Thereof)\"</a>\n",
      "<a class=\"external text\" href=\"http://www.newenglandancestors.org/research/services/articles_gbr78.asp\" rel=\"nofollow\">the original</a>\n",
      "<a href=\"#cite_ref-actor_2-0\"><sup><i><b>a</b></i></sup></a>\n",
      "<a href=\"#cite_ref-actor_2-1\"><sup><i><b>b</b></i></sup></a>\n",
      "<a href=\"#cite_ref-actor_2-2\"><sup><i><b>c</b></i></sup></a>\n",
      "<a class=\"external text\" href=\"http://www.biography.com/people/kevin-bacon-9542173\" rel=\"nofollow\">\"Kevin Bacon\"</a>\n",
      "<a href=\"#cite_ref-3\">^</a>\n",
      "<a class=\"external text\" href=\"https://www.theguardian.com/film/filmblog/2009/feb/19/best-actors-never-nominated-for-oscars\" rel=\"nofollow\">\"Oscars: the best actors never to have been nominated\"</a>\n",
      "<a href=\"#cite_ref-4\">^</a>\n",
      "<a class=\"external text\" href=\"http://www.walkoffame.com/kevin-bacon\" rel=\"nofollow\">\"Hollywood Walk of Fame - Kevin Bacon\"</a>\n",
      "<a href=\"#cite_ref-walk_5-0\"><sup><i><b>a</b></i></sup></a>\n",
      "<a href=\"#cite_ref-walk_5-1\"><sup><i><b>b</b></i></sup></a>\n",
      "<a class=\"external text\" href=\"https://web.archive.org/web/20141016202657/http://www.thebiographychannel.co.uk/biographies/kevin-bacon.html\" rel=\"nofollow\">\"Kevin Bacon biography\"</a>\n",
      "<a class=\"external text\" href=\"http://www.thebiographychannel.co.uk/biographies/kevin-bacon.html\" rel=\"nofollow\">the original</a>\n",
      "<a href=\"#cite_ref-bacon_6-0\"><sup><i><b>a</b></i></sup></a>\n",
      "<a href=\"#cite_ref-bacon_6-1\"><sup><i><b>b</b></i></sup></a>\n",
      "<a href=\"#cite_ref-bacon_6-2\"><sup><i><b>c</b></i></sup></a>\n",
      "<a href=\"#cite_ref-bacon_6-3\"><sup><i><b>d</b></i></sup></a>\n",
      "<a class=\"external text\" href=\"http://www.biography.com/news/kevin-bacon-biography-facts\" rel=\"nofollow\">\"Kevin Bacon: 6 Things You Didn’t Know\"</a>\n",
      "<a href=\"#cite_ref-7\">^</a>\n",
      "<a class=\"external text\" href=\"https://movies.yahoo.com/person/kevin-bacon/biography.html\" rel=\"nofollow\">\"ABOUT KEVIN BACON\"</a>\n",
      "<a href=\"#cite_ref-cosmo91_8-0\"><sup><i><b>a</b></i></sup></a>\n",
      "<a href=\"#cite_ref-cosmo91_8-1\"><sup><i><b>b</b></i></sup></a>\n",
      "<a href=\"#cite_ref-9\">^</a>\n",
      "<a class=\"external text\" href=\"http://www.nydailynews.com/entertainment/happy-halloween-superstars-start-horror-flick-gallery-1.98345\" rel=\"nofollow\">\"Happy Halloween: Stars who got their start in horror flicks\"</a>\n",
      "<a href=\"#cite_ref-bio_10-0\"><sup><i><b>a</b></i></sup></a>\n",
      "<a href=\"#cite_ref-bio_10-1\"><sup><i><b>b</b></i></sup></a>\n",
      "<a href=\"#cite_ref-bio_10-2\"><sup><i><b>c</b></i></sup></a>\n",
      "<a href=\"#cite_ref-bio_10-3\"><sup><i><b>d</b></i></sup></a>\n",
      "<a href=\"#cite_ref-bio_10-4\"><sup><i><b>e</b></i></sup></a>\n",
      "<a href=\"#cite_ref-bio_10-5\"><sup><i><b>f</b></i></sup></a>\n",
      "<a href=\"#cite_ref-bio_10-6\"><sup><i><b>g</b></i></sup></a>\n",
      "<a href=\"#cite_ref-bio_10-7\"><sup><i><b>h</b></i></sup></a>\n",
      "<a href=\"#cite_ref-bio_10-8\"><sup><i><b>i</b></i></sup></a>\n",
      "<a href=\"#cite_ref-bio_10-9\"><sup><i><b>j</b></i></sup></a>\n",
      "<a href=\"#cite_ref-bio_10-10\"><sup><i><b>k</b></i></sup></a>\n",
      "<a class=\"external text\" href=\"http://www.pbs.org/wnet/finding-your-roots/profiles/kevin-bacon%C2%A0/\" rel=\"nofollow\">\"Kevin Bacon\"</a>\n",
      "<a href=\"#cite_ref-kevin_11-0\">^</a>\n",
      "<a class=\"external text\" href=\"http://www.tvguide.com/celebrities/kevin-bacon/bio/160550\" rel=\"nofollow\">\"Kevin Bacon biography\"</a>\n",
      "<a href=\"#cite_ref-12\">^</a>\n",
      "<a class=\"external text\" href=\"http://news.moviefone.com/2012/03/02/diner-30th-anniversary/\" rel=\"nofollow\">\"Diner' 30th Anniversary: 25 Things You Didn't Know About The Guys-and-Fries Classic\"</a>\n",
      "<a href=\"#cite_ref-time84_13-0\">^</a>\n",
      "<a class=\"external text\" href=\"http://www.time.com/time/magazine/article/0,9171,950019,00.html\" rel=\"nofollow\">\"Revel Without a Cause\"</a>\n",
      "<a href=\"#cite_ref-14\">^</a>\n",
      "<a class=\"external text\" href=\"http://www.huffingtonpost.com/2014/08/25/kevin-bacon-footloose_n_5710413.html\" rel=\"nofollow\">\"Kevin Bacon Got Bullied By High Schoolers While Prepping For 'Footloose<span style=\"padding-right:0.2em;\">'</span>\"</a>\n",
      "<a href=\"#cite_ref-15\">^</a>\n",
      "<a class=\"external text\" href=\"https://web.archive.org/web/20090109152125/http://www.thebiographychannel.co.uk/biography_story/522%3A492/1/Kevin_Bacon.htm\" rel=\"nofollow\">\"Kevin Bacon\"</a>\n",
      "<a class=\"external text\" href=\"http://www.thebiographychannel.co.uk/biography_story/522:492/1/Kevin_Bacon.htm\" rel=\"nofollow\">the original</a>\n",
      "<a href=\"#cite_ref-16\">^</a>\n",
      "<a class=\"external text\" href=\"https://www.nytimes.com/1994/09/25/movies/a-second-wind-is-blowing-for-kevin-bacon.html\" rel=\"nofollow\">\"A Second Wind Is Blowing For Kevin Bacon\"</a>\n",
      "<a href=\"#cite_ref-17\">^</a>\n",
      "<a class=\"external text\" href=\"https://www.nytimes.com/movie/review?res=9C0CE2DE1631F93AA25752C0A966958260\" rel=\"nofollow\">\"Tremors Review\"</a>\n",
      "<a href=\"#cite_ref-nyt94_18-0\">^</a>\n",
      "<a class=\"external text\" href=\"https://query.nytimes.com/gst/fullpage.html?res=9C07E6D91F3BF936A1575AC0A962958260&amp;sec=&amp;spon=&amp;pagewanted=all\" rel=\"nofollow\">\"A Second Wind Is Blowing For Kevin Bacon\"</a>\n",
      "<a href=\"#cite_ref-19\">^</a>\n",
      "<a class=\"external text\" href=\"http://www.jfk-online.com/jfkbacon.html\" rel=\"nofollow\">\"Kevin Bacon\"</a>\n",
      "<a href=\"#cite_ref-20\">^</a>\n",
      "<a class=\"external text\" href=\"http://www.tcm.com/this-month/article/143158%7C0/A-Few-Good-Men.html\" rel=\"nofollow\">\"A few good men\"</a>\n",
      "<a href=\"#cite_ref-21\">^</a>\n",
      "<a class=\"external text\" href=\"http://collider.com/kevin-bacon-commercials-footloose/\" rel=\"nofollow\">\"Kevin Bacon Reprises His Roles from FOOTLOOSE, A FEW GOOD MEN, APOLLO 13, and More in UK Commercials\"</a>\n",
      "<a href=\"#cite_ref-22\">^</a>\n",
      "<a class=\"external text\" href=\"http://www.rogerebert.com/reviews/sleepers-1996\" rel=\"nofollow\">\"Sleepers\"</a>\n",
      "<a href=\"#cite_ref-austin_23-0\">^</a>\n",
      "<a class=\"external text\" href=\"http://www.austinchronicle.com/calendar/film/1997-02-07/283342/\" rel=\"nofollow\">\"Losing Chase\"</a>\n",
      "<a href=\"/wiki/The_Austin_Chronicle\" title=\"The Austin Chronicle\">The Austin Chronicle</a>\n",
      "<a href=\"#cite_ref-24\">^</a>\n",
      "<a class=\"external text\" href=\"http://www.criminalelement.com/blogs/2013/09/under-the-raderhorror-movies-you-may-have-missed-stir-of-echoes\" rel=\"nofollow\">\"Under the Radar—Horror Movies You May Have Missed: Stir of Echoes\"</a>\n",
      "<a href=\"#cite_ref-25\">^</a>\n",
      "<a class=\"external text\" href=\"http://www.rogerebert.com/reviews/hollow-man-2000\" rel=\"nofollow\">\"The hollow man\"</a>\n",
      "<a href=\"#cite_ref-26\">^</a>\n",
      "<a class=\"external text\" href=\"http://movies.about.com/od/wherethetruthlies/a/truthkb101305.htm\" rel=\"nofollow\">\"Kevin Bacon Talks About \"Where the Truth Lies<span style=\"padding-right:0.2em;\">\"</span>\"</a>\n",
      "<a href=\"#cite_ref-27\">^</a>\n",
      "<a class=\"external text\" href=\"http://jam.canoe.ca/Movies/2005/09/14/1216527.html\" rel=\"nofollow\">\"Kevin Bacon irked over movie rating\"</a>\n",
      "<a href=\"#cite_ref-28\">^</a>\n",
      "<a class=\"external text\" href=\"http://www.latimes.com/entertainment/la-et-kevin-bacon-photo6-photo.html\" rel=\"nofollow\">\"The Woodsman' (2004)\"</a>\n",
      "<a href=\"#cite_ref-29\">^</a>\n",
      "<a class=\"external text\" href=\"http://www.nydailynews.com/entertainment/tv-movies/kevin-bacon-chance-body-fallen-marine-home-article-1.392226\" rel=\"nofollow\">\"Kevin Bacon 'Taking Chance' body of fallen Marine home\"</a>\n",
      "<a href=\"#cite_ref-30\">^</a>\n",
      "<a class=\"external text\" href=\"https://web.archive.org/web/20100722010545/http://heatvision.hollywoodreporter.com/2010/07/winters-bone-star-cast-as-mystique-in-xmen-first-class.html\" rel=\"nofollow\">\"<span style=\"padding-left:0.2em;\">'</span>Winter's Bone' star cast in 'X-Men: First Class' (exclusive)\"</a>\n",
      "<a class=\"external text\" href=\"http://heatvision.hollywoodreporter.com/2010/07/winters-bone-star-cast-as-mystique-in-xmen-first-class.html\" rel=\"nofollow\">the original</a>\n",
      "<a href=\"#cite_ref-31\">^</a>\n",
      "<a class=\"external text\" href=\"https://web.archive.org/web/20100720060214/http://www.forcesofgeek.com/2010/07/kevin-bacon-playing-sebastian-shaw-in-x.html\" rel=\"nofollow\">\"KEVIN BACON Playing SEBASTIAN SHAW in X-MEN: FIRST CLASS\"</a>\n",
      "<a class=\"external text\" href=\"http://www.forcesofgeek.com/2010/07/kevin-bacon-playing-sebastian-shaw-in-x.html\" rel=\"nofollow\">the original</a>\n",
      "<a href=\"#cite_ref-8_the_play_32-0\">^</a>\n",
      "<a class=\"external text\" href=\"http://www.accesshollywood.com/jesse-tyler-ferguson/glee-stars-touched-by-brad-pitt-and-george-clooneys-support-of-8_article_61543\" rel=\"nofollow\">\"<span style=\"padding-left:0.2em;\">'</span>Glee' Stars 'Touched' By Pitt &amp; Clooney's Support Of '8<span style=\"padding-right:0.2em;\">'</span>\"</a>\n",
      "<a href=\"/wiki/Access_Hollywood\" title=\"Access Hollywood\">Access Hollywood</a>\n",
      "<a href=\"#cite_ref-8_play_video_33-0\">^</a>\n",
      "<a class=\"external text\" href=\"https://www.youtube.com/watch?v=qlUG8F9uVgM\" rel=\"nofollow\">\"<span style=\"padding-left:0.2em;\">\"</span>8\": A Play about the Fight for Marriage Equality\"</a>\n",
      "<a href=\"#cite_ref-34\">^</a>\n",
      "<a class=\"external text\" href=\"http://www.pinknews.co.uk/2012/03/01/youtube-to-broadcast-proposition-8-play-live/\" rel=\"nofollow\">\"YouTube to broadcast Proposition 8 play live\"</a>\n",
      "<a href=\"#cite_ref-35\">^</a>\n",
      "<a class=\"external text\" href=\"http://www.fox.com/the-following/\" rel=\"nofollow\">\"The Following\"</a>\n",
      "<a href=\"#cite_ref-36\">^</a>\n",
      "<a class=\"external text\" href=\"https://news.yahoo.com/blogs/trending-now/kevin-bacon-gives-millennials-a-history-lesson-about-the--80s-162525915.html\" rel=\"nofollow\">\"Kevin Bacon Gives Millennials a History Lesson About the '80s\"</a>\n",
      "<a href=\"#cite_ref-37\">^</a>\n",
      "<a class=\"external text\" href=\"http://www.campaignlive.co.uk/news/1294856/\" rel=\"nofollow\">\"Kevin Bacon rides UK's biggest rollercoaster in EE spot\"</a>\n",
      "<a href=\"#cite_ref-38\">^</a>\n",
      "<a class=\"external text\" href=\"http://parade.condenast.com/269380/ashleighschmitz/kevin-bacon-reprises-his-most-iconic-film-roles-in-british-commercial/\" rel=\"nofollow\">\"Kevin Bacon Reprises His Most Iconic Film Roles in British Commercial\"</a>\n",
      "<a href=\"#cite_ref-39\">^</a>\n",
      "<a class=\"external text\" href=\"http://money.cnn.com/2015/03/13/media/kevin-bacon-eggs/index.html?iid=HP_LN\" rel=\"nofollow\">\"New egg ad comes with a side of Kevin Bacon\"</a>\n",
      "<a href=\"#cite_ref-40\">^</a>\n",
      "<a class=\"external text\" href=\"http://www.nydailynews.com/entertainment/tv-movies/kevin-bacon-loyalty-nyc-philly-origins-peace-bustling-city-article-1.147197\" rel=\"nofollow\">\"Kevin Bacon has loyalty to NYC despite Philly origins, says he's 'most at peace' in bustling city\"</a>\n",
      "<a href=\"#cite_ref-41\">^</a>\n",
      "<a class=\"external text\" href=\"http://www.people.com/people/archive/article/0,,20093025,00.html\" rel=\"nofollow\">\"America's Sweethearts\"</a>\n",
      "<a href=\"#cite_ref-42\">^</a>\n",
      "<a class=\"external text\" href=\"http://www.au.org/media/church-and-state/archives/2008/05/two-thumbs-up.html\" rel=\"nofollow\">\"Media &amp; Press | Americans United\"</a>\n",
      "<a href=\"#cite_ref-43\">^</a>\n",
      "<a class=\"external text\" href=\"http://www.washingtonpost.com/wp-dyn/content/article/2008/03/25/AR2008032503852.html\" rel=\"nofollow\">\"Amy Argetsinger and Roxanne Roberts\"</a>\n",
      "<a href=\"#cite_ref-44\">^</a>\n",
      "<a href=\"#cite_ref-45\">^</a>\n",
      "<a class=\"external text\" href=\"http://www.foxnews.com/story/0,2933,343589,00.html\" rel=\"nofollow\">\"The Bacon Brothers Go 'On the Record<span style=\"padding-right:0.2em;\">'</span>\"</a>\n",
      "<a href=\"#cite_ref-financialpost_46-0\">^</a>\n",
      "<a class=\"external text\" href=\"https://web.archive.org/web/20140314085857/http://economiccrisis.us/2009/06/may-god-spare-mercy-victim-tells-madoff/\" rel=\"nofollow\">\"<span style=\"padding-left:0.2em;\">'</span>May God spare you no mercy', victim tells Madoff\"</a>\n",
      "<a class=\"external text\" href=\"http://economiccrisis.us/2009/06/may-god-spare-mercy-victim-tells-madoff/\" rel=\"nofollow\">the original</a>\n",
      "<a href=\"#cite_ref-47\">^</a>\n",
      "<a href=\"#cite_ref-48\">^</a>\n",
      "<a class=\"external text\" href=\"http://www.huffingtonpost.com/megan-smolenyak-smolenyak/6-degrees-of-separation-k_b_900707.html\" rel=\"nofollow\">\"6 Degrees of Separation: Kyra Sedgwick and Kevin Bacon Are Cousins\"</a>\n",
      "<a href=\"#cite_ref-49\">^</a>\n",
      "<a class=\"external text\" href=\"https://web.archive.org/web/20130405182304/http://www.drawtheline.org/watch-stuff/\" rel=\"nofollow\">\"Watch Stuff – Bill of Reproductive Rights\"</a>\n",
      "<a class=\"external text\" href=\"http://www.drawtheline.org/watch-stuff\" rel=\"nofollow\">the original</a>\n",
      "<a href=\"#cite_ref-50\">^</a>\n",
      "<a class=\"external text\" href=\"http://www.drawtheline.org/sign-now/\" rel=\"nofollow\">\"Bill of Reproductive Rights\"</a>\n",
      "<a href=\"#cite_ref-51\">^</a>\n",
      "<a class=\"external text\" href=\"http://www.sixdegrees.org/\" rel=\"nofollow\">\"Six Degrees\"</a>\n",
      "<a href=\"#cite_ref-52\">^</a>\n",
      "<a class=\"external text\" href=\"http://www.webmonkey.com/2012/09/easter-egg-google-connects-the-dots-for-bacon-number-search/\" rel=\"nofollow\">\"Easter Egg: Google Connects the Dots for ‘Bacon Number’ Search\"</a>\n",
      "<a href=\"#cite_ref-53\">^</a>\n",
      "<a class=\"external text\" href=\"http://www.telegraph.co.uk/science/science-news/4768389/And-the-winner-tonight-is.html\" rel=\"nofollow\">\"And the winner tonight is\"</a>\n",
      "<a href=\"#cite_ref-54\">^</a>\n",
      "<a class=\"external text\" href=\"http://baconbros.com/\" rel=\"nofollow\">\"The Bacon Brothers\"</a>\n",
      "<a class=\"extiw\" href=\"https://commons.wikimedia.org/wiki/Category:Kevin_Bacon\" title=\"commons:Category:Kevin Bacon\">Kevin Bacon</a>\n",
      "<a class=\"external text\" href=\"http://www.imdb.com/name/nm0000102/\" rel=\"nofollow\">Kevin Bacon</a>\n",
      "<a href=\"/wiki/IMDb\" title=\"IMDb\">Internet Movie Database</a>\n",
      "<a class=\"external text\" href=\"https://www.ibdb.com/Person/View/90569\" rel=\"nofollow\">Kevin Bacon</a>\n",
      "<a href=\"/wiki/Internet_Broadway_Database\" title=\"Internet Broadway Database\">Internet Broadway Database</a>\n",
      "<a href=\"https://www.wikidata.org/wiki/Q3454165#P1220\" title=\"Edit this at Wikidata\"><img alt=\"Edit this at Wikidata\" data-file-height=\"600\" data-file-width=\"600\" height=\"10\" src=\"//upload.wikimedia.org/wikipedia/commons/thumb/7/73/Blue_pencil.svg/10px-Blue_pencil.svg.png\" srcset=\"//upload.wikimedia.org/wikipedia/commons/thumb/7/73/Blue_pencil.svg/15px-Blue_pencil.svg.png 1.5x, //upload.wikimedia.org/wikipedia/commons/thumb/7/73/Blue_pencil.svg/20px-Blue_pencil.svg.png 2x\" style=\"vertical-align: text-top\" width=\"10\"/></a>\n",
      "<a class=\"external text\" href=\"http://www.lortel.org/Archives/CreditableEntity/5597\" rel=\"nofollow\">Kevin Bacon</a>\n",
      "<a href=\"/wiki/Lortel_Archives\" title=\"Lortel Archives\">Internet Off-Broadway Database</a>\n",
      "<a class=\"external text\" href=\"http://www.allmovie.com/artist/p3164\" rel=\"nofollow\">Kevin Bacon</a>\n",
      "<a href=\"/wiki/AllMovie\" title=\"AllMovie\">AllMovie</a>\n",
      "<a class=\"external text\" href=\"http://oracleofbacon.org\" rel=\"nofollow\">Oracle of Bacon</a>\n",
      "<a href=\"/wiki/Template:Critics%27_Choice_Movie_Award_for_Best_Actor\" title=\"Template:Critics' Choice Movie Award for Best Actor\"><abbr style=\";;background:none transparent;border:none;-moz-box-shadow:none;-webkit-box-shadow:none;box-shadow:none;\" title=\"View this template\">v</abbr></a>\n",
      "<a href=\"/wiki/Template_talk:Critics%27_Choice_Movie_Award_for_Best_Actor\" title=\"Template talk:Critics' Choice Movie Award for Best Actor\"><abbr style=\";;background:none transparent;border:none;-moz-box-shadow:none;-webkit-box-shadow:none;box-shadow:none;\" title=\"Discuss this template\">t</abbr></a>\n",
      "<a class=\"external text\" href=\"//en.wikipedia.org/w/index.php?title=Template:Critics%27_Choice_Movie_Award_for_Best_Actor&amp;action=edit\"><abbr style=\";;background:none transparent;border:none;-moz-box-shadow:none;-webkit-box-shadow:none;box-shadow:none;\" title=\"Edit this template\">e</abbr></a>\n",
      "<a href=\"/wiki/Critics%27_Choice_Movie_Award_for_Best_Actor\" title=\"Critics' Choice Movie Award for Best Actor\">Critics' Choice Movie Award for Best Actor</a>\n",
      "<a class=\"mw-selflink selflink\">Kevin Bacon</a>\n",
      "<a href=\"/wiki/Geoffrey_Rush\" title=\"Geoffrey Rush\">Geoffrey Rush</a>\n",
      "<a href=\"/wiki/Jack_Nicholson\" title=\"Jack Nicholson\">Jack Nicholson</a>\n",
      "<a href=\"/wiki/Ian_McKellen\" title=\"Ian McKellen\">Ian McKellen</a>\n",
      "<a href=\"/wiki/Russell_Crowe\" title=\"Russell Crowe\">Russell Crowe</a>\n",
      "<a href=\"/wiki/Russell_Crowe\" title=\"Russell Crowe\">Russell Crowe</a>\n",
      "<a href=\"/wiki/Russell_Crowe\" title=\"Russell Crowe\">Russell Crowe</a>\n",
      "<a href=\"/wiki/Daniel_Day-Lewis\" title=\"Daniel Day-Lewis\">Daniel Day-Lewis</a>\n",
      "<a href=\"/wiki/Jack_Nicholson\" title=\"Jack Nicholson\">Jack Nicholson</a>\n",
      "<a href=\"/wiki/Sean_Penn\" title=\"Sean Penn\">Sean Penn</a>\n",
      "<a href=\"/wiki/Jamie_Foxx\" title=\"Jamie Foxx\">Jamie Foxx</a>\n",
      "<a href=\"/wiki/Philip_Seymour_Hoffman\" title=\"Philip Seymour Hoffman\">Philip Seymour Hoffman</a>\n",
      "<a href=\"/wiki/Forest_Whitaker\" title=\"Forest Whitaker\">Forest Whitaker</a>\n",
      "<a href=\"/wiki/Daniel_Day-Lewis\" title=\"Daniel Day-Lewis\">Daniel Day-Lewis</a>\n",
      "<a href=\"/wiki/Sean_Penn\" title=\"Sean Penn\">Sean Penn</a>\n",
      "<a href=\"/wiki/Jeff_Bridges\" title=\"Jeff Bridges\">Jeff Bridges</a>\n",
      "<a href=\"/wiki/Colin_Firth\" title=\"Colin Firth\">Colin Firth</a>\n",
      "<a href=\"/wiki/George_Clooney\" title=\"George Clooney\">George Clooney</a>\n",
      "<a href=\"/wiki/Daniel_Day-Lewis\" title=\"Daniel Day-Lewis\">Daniel Day-Lewis</a>\n",
      "<a href=\"/wiki/Matthew_McConaughey\" title=\"Matthew McConaughey\">Matthew McConaughey</a>\n",
      "<a href=\"/wiki/Michael_Keaton\" title=\"Michael Keaton\">Michael Keaton</a>\n",
      "<a href=\"/wiki/Leonardo_DiCaprio\" title=\"Leonardo DiCaprio\">Leonardo DiCaprio</a>\n",
      "<a href=\"/wiki/Casey_Affleck\" title=\"Casey Affleck\">Casey Affleck</a>\n",
      "<a href=\"/wiki/Template:GoldenGlobeBestActorTVMiniseriesFilm\" title=\"Template:GoldenGlobeBestActorTVMiniseriesFilm\"><abbr style=\";background: #CFB53B;background:none transparent;border:none;-moz-box-shadow:none;-webkit-box-shadow:none;box-shadow:none;\" title=\"View this template\">v</abbr></a>\n",
      "<a href=\"/wiki/Template_talk:GoldenGlobeBestActorTVMiniseriesFilm\" title=\"Template talk:GoldenGlobeBestActorTVMiniseriesFilm\"><abbr style=\";background: #CFB53B;background:none transparent;border:none;-moz-box-shadow:none;-webkit-box-shadow:none;box-shadow:none;\" title=\"Discuss this template\">t</abbr></a>\n",
      "<a class=\"external text\" href=\"//en.wikipedia.org/w/index.php?title=Template:GoldenGlobeBestActorTVMiniseriesFilm&amp;action=edit\"><abbr style=\";background: #CFB53B;background:none transparent;border:none;-moz-box-shadow:none;-webkit-box-shadow:none;box-shadow:none;\" title=\"Edit this template\">e</abbr></a>\n",
      "<a href=\"/wiki/Golden_Globe_Award_for_Best_Actor_%E2%80%93_Miniseries_or_Television_Film\" title=\"Golden Globe Award for Best Actor – Miniseries or Television Film\">Golden Globe Award for Best Actor – Miniseries or Television Film</a>\n",
      "<a href=\"/wiki/Mickey_Rooney\" title=\"Mickey Rooney\">Mickey Rooney</a>\n",
      "<a href=\"/wiki/Anthony_Andrews\" title=\"Anthony Andrews\">Anthony Andrews</a>\n",
      "<a href=\"/wiki/Richard_Chamberlain\" title=\"Richard Chamberlain\">Richard Chamberlain</a>\n",
      "<a href=\"/wiki/Ted_Danson\" title=\"Ted Danson\">Ted Danson</a>\n",
      "<a href=\"/wiki/Dustin_Hoffman\" title=\"Dustin Hoffman\">Dustin Hoffman</a>\n",
      "<a href=\"/wiki/James_Woods\" title=\"James Woods\">James Woods</a>\n",
      "<a href=\"/wiki/Randy_Quaid\" title=\"Randy Quaid\">Randy Quaid</a>\n",
      "<a href=\"/wiki/Michael_Caine\" title=\"Michael Caine\">Michael Caine</a>\n",
      "<a href=\"/wiki/Stacy_Keach\" title=\"Stacy Keach\">Stacy Keach</a>\n",
      "<a href=\"/wiki/Robert_Duvall\" title=\"Robert Duvall\">Robert Duvall</a>\n",
      "<a href=\"/wiki/James_Garner\" title=\"James Garner\">James Garner</a>\n",
      "<a href=\"/wiki/Beau_Bridges\" title=\"Beau Bridges\">Beau Bridges</a>\n",
      "<a href=\"/wiki/Robert_Duvall\" title=\"Robert Duvall\">Robert Duvall</a>\n",
      "<a href=\"/wiki/James_Garner\" title=\"James Garner\">James Garner</a>\n",
      "<a href=\"/wiki/Ra%C3%BAl_Juli%C3%A1\" title=\"Raúl Juliá\">Raúl Juliá</a>\n",
      "<a href=\"/wiki/Gary_Sinise\" title=\"Gary Sinise\">Gary Sinise</a>\n",
      "<a href=\"/wiki/Alan_Rickman\" title=\"Alan Rickman\">Alan Rickman</a>\n",
      "<a href=\"/wiki/Ving_Rhames\" title=\"Ving Rhames\">Ving Rhames</a>\n",
      "<a href=\"/wiki/Stanley_Tucci\" title=\"Stanley Tucci\">Stanley Tucci</a>\n",
      "<a href=\"/wiki/Jack_Lemmon\" title=\"Jack Lemmon\">Jack Lemmon</a>\n",
      "<a href=\"/wiki/Brian_Dennehy\" title=\"Brian Dennehy\">Brian Dennehy</a>\n",
      "<a href=\"/wiki/James_Franco\" title=\"James Franco\">James Franco</a>\n",
      "<a href=\"/wiki/Albert_Finney\" title=\"Albert Finney\">Albert Finney</a>\n",
      "<a href=\"/wiki/Al_Pacino\" title=\"Al Pacino\">Al Pacino</a>\n",
      "<a href=\"/wiki/Geoffrey_Rush\" title=\"Geoffrey Rush\">Geoffrey Rush</a>\n",
      "<a href=\"/wiki/Jonathan_Rhys_Meyers\" title=\"Jonathan Rhys Meyers\">Jonathan Rhys Meyers</a>\n",
      "<a href=\"/wiki/Bill_Nighy\" title=\"Bill Nighy\">Bill Nighy</a>\n",
      "<a href=\"/wiki/Jim_Broadbent\" title=\"Jim Broadbent\">Jim Broadbent</a>\n",
      "<a href=\"/wiki/Paul_Giamatti\" title=\"Paul Giamatti\">Paul Giamatti</a>\n",
      "<a class=\"mw-selflink selflink\">Kevin Bacon</a>\n",
      "<a href=\"/wiki/Al_Pacino\" title=\"Al Pacino\">Al Pacino</a>\n",
      "<a href=\"/wiki/Idris_Elba\" title=\"Idris Elba\">Idris Elba</a>\n",
      "<a href=\"/wiki/Kevin_Costner\" title=\"Kevin Costner\">Kevin Costner</a>\n",
      "<a href=\"/wiki/Michael_Douglas\" title=\"Michael Douglas\">Michael Douglas</a>\n",
      "<a href=\"/wiki/Billy_Bob_Thornton\" title=\"Billy Bob Thornton\">Billy Bob Thornton</a>\n",
      "<a href=\"/wiki/Oscar_Isaac\" title=\"Oscar Isaac\">Oscar Isaac</a>\n",
      "<a href=\"/wiki/Tom_Hiddleston\" title=\"Tom Hiddleston\">Tom Hiddleston</a>\n",
      "<a href=\"/wiki/Template:Saturn_Award_for_Best_Actor_on_Television\" title=\"Template:Saturn Award for Best Actor on Television\"><abbr style=\";;background:none transparent;border:none;-moz-box-shadow:none;-webkit-box-shadow:none;box-shadow:none;\" title=\"View this template\">v</abbr></a>\n",
      "<a href=\"/wiki/Template_talk:Saturn_Award_for_Best_Actor_on_Television\" title=\"Template talk:Saturn Award for Best Actor on Television\"><abbr style=\";;background:none transparent;border:none;-moz-box-shadow:none;-webkit-box-shadow:none;box-shadow:none;\" title=\"Discuss this template\">t</abbr></a>\n",
      "<a class=\"external text\" href=\"//en.wikipedia.org/w/index.php?title=Template:Saturn_Award_for_Best_Actor_on_Television&amp;action=edit\"><abbr style=\";;background:none transparent;border:none;-moz-box-shadow:none;-webkit-box-shadow:none;box-shadow:none;\" title=\"Edit this template\">e</abbr></a>\n",
      "<a href=\"/wiki/Saturn_Award_for_Best_Actor_on_Television\" title=\"Saturn Award for Best Actor on Television\">Saturn Award for Best Actor on Television</a>\n",
      "<a href=\"/wiki/Kyle_Chandler\" title=\"Kyle Chandler\">Kyle Chandler</a>\n",
      "<a href=\"/wiki/Steven_Weber_(actor)\" title=\"Steven Weber (actor)\">Steven Weber</a>\n",
      "<a href=\"/wiki/Richard_Dean_Anderson\" title=\"Richard Dean Anderson\">Richard Dean Anderson</a>\n",
      "<a href=\"/wiki/David_Boreanaz\" title=\"David Boreanaz\">David Boreanaz</a>\n",
      "<a href=\"/wiki/Robert_Patrick\" title=\"Robert Patrick\">Robert Patrick</a>\n",
      "<a href=\"/wiki/Ben_Browder\" title=\"Ben Browder\">Ben Browder</a>\n",
      "<a href=\"/wiki/David_Boreanaz\" title=\"David Boreanaz\">David Boreanaz</a>\n",
      "<a href=\"/wiki/David_Boreanaz\" title=\"David Boreanaz\">David Boreanaz</a>\n",
      "<a href=\"/wiki/Ben_Browder\" title=\"Ben Browder\">Ben Browder</a>\n",
      "<a href=\"/wiki/Matthew_Fox\" title=\"Matthew Fox\">Matthew Fox</a>\n",
      "<a href=\"/wiki/Michael_C._Hall\" title=\"Michael C. Hall\">Michael C. Hall</a>\n",
      "<a href=\"/wiki/Matthew_Fox\" title=\"Matthew Fox\">Matthew Fox</a>\n",
      "<a href=\"/wiki/Edward_James_Olmos\" title=\"Edward James Olmos\">Edward James Olmos</a>\n",
      "<a href=\"/wiki/Josh_Holloway\" title=\"Josh Holloway\">Josh Holloway</a>\n",
      "<a href=\"/wiki/Stephen_Moyer\" title=\"Stephen Moyer\">Stephen Moyer</a>\n",
      "<a href=\"/wiki/Bryan_Cranston\" title=\"Bryan Cranston\">Bryan Cranston</a>\n",
      "<a class=\"mw-selflink selflink\">Kevin Bacon</a>\n",
      "<a href=\"/wiki/Bryan_Cranston\" title=\"Bryan Cranston\">Bryan Cranston</a>\n",
      "<a href=\"/wiki/Mads_Mikkelsen\" title=\"Mads Mikkelsen\">Mads Mikkelsen</a>\n",
      "<a href=\"/wiki/Hugh_Dancy\" title=\"Hugh Dancy\">Hugh Dancy</a>\n",
      "<a href=\"/wiki/Andrew_Lincoln\" title=\"Andrew Lincoln\">Andrew Lincoln</a>\n",
      "<a href=\"/wiki/Bruce_Campbell\" title=\"Bruce Campbell\">Bruce Campbell</a>\n",
      "<a href=\"/wiki/Andrew_Lincoln\" title=\"Andrew Lincoln\">Andrew Lincoln</a>\n",
      "<a href=\"/wiki/Template:ScreenActorsGuildAward_MaleTVMiniseriesMovie\" title=\"Template:ScreenActorsGuildAward MaleTVMiniseriesMovie\"><abbr style=\"background: #ABCDEF;;background:none transparent;border:none;-moz-box-shadow:none;-webkit-box-shadow:none;box-shadow:none;\" title=\"View this template\">v</abbr></a>\n",
      "<a href=\"/wiki/Template_talk:ScreenActorsGuildAward_MaleTVMiniseriesMovie\" title=\"Template talk:ScreenActorsGuildAward MaleTVMiniseriesMovie\"><abbr style=\"background: #ABCDEF;;background:none transparent;border:none;-moz-box-shadow:none;-webkit-box-shadow:none;box-shadow:none;\" title=\"Discuss this template\">t</abbr></a>\n",
      "<a class=\"external text\" href=\"//en.wikipedia.org/w/index.php?title=Template:ScreenActorsGuildAward_MaleTVMiniseriesMovie&amp;action=edit\"><abbr style=\"background: #ABCDEF;;background:none transparent;border:none;-moz-box-shadow:none;-webkit-box-shadow:none;box-shadow:none;\" title=\"Edit this template\">e</abbr></a>\n",
      "<a href=\"/wiki/Screen_Actors_Guild_Award_for_Outstanding_Performance_by_a_Male_Actor_in_a_Miniseries_or_Television_Movie\" title=\"Screen Actors Guild Award for Outstanding Performance by a Male Actor in a Miniseries or Television Movie\">Screen Actors Guild Award for Outstanding Performance by a Male Actor in a Miniseries or Television Movie</a>\n",
      "<a href=\"/wiki/Ra%C3%BAl_Juli%C3%A1\" title=\"Raúl Juliá\">Raúl Juliá</a>\n",
      "<a href=\"/wiki/Gary_Sinise\" title=\"Gary Sinise\">Gary Sinise</a>\n",
      "<a href=\"/wiki/Alan_Rickman\" title=\"Alan Rickman\">Alan Rickman</a>\n",
      "<a href=\"/wiki/Gary_Sinise\" title=\"Gary Sinise\">Gary Sinise</a>\n",
      "<a href=\"/wiki/Christopher_Reeve\" title=\"Christopher Reeve\">Christopher Reeve</a>\n",
      "<a href=\"/wiki/Jack_Lemmon\" title=\"Jack Lemmon\">Jack Lemmon</a>\n",
      "<a href=\"/wiki/Brian_Dennehy\" title=\"Brian Dennehy\">Brian Dennehy</a>\n",
      "<a href=\"/wiki/Ben_Kingsley\" title=\"Ben Kingsley\">Ben Kingsley</a>\n",
      "<a href=\"/wiki/William_H._Macy\" title=\"William H. Macy\">William H. Macy</a>\n",
      "<a href=\"/wiki/Al_Pacino\" title=\"Al Pacino\">Al Pacino</a>\n",
      "<a href=\"/wiki/Geoffrey_Rush\" title=\"Geoffrey Rush\">Geoffrey Rush</a>\n",
      "<a href=\"/wiki/Paul_Newman\" title=\"Paul Newman\">Paul Newman</a>\n",
      "<a href=\"/wiki/Jeremy_Irons\" title=\"Jeremy Irons\">Jeremy Irons</a>\n",
      "<a href=\"/wiki/Kevin_Kline\" title=\"Kevin Kline\">Kevin Kline</a>\n",
      "<a href=\"/wiki/Paul_Giamatti\" title=\"Paul Giamatti\">Paul Giamatti</a>\n",
      "<a class=\"mw-selflink selflink\">Kevin Bacon</a>\n",
      "<a href=\"/wiki/Al_Pacino\" title=\"Al Pacino\">Al Pacino</a>\n",
      "<a href=\"/wiki/Paul_Giamatti\" title=\"Paul Giamatti\">Paul Giamatti</a>\n",
      "<a href=\"/wiki/Kevin_Costner\" title=\"Kevin Costner\">Kevin Costner</a>\n",
      "<a href=\"/wiki/Michael_Douglas\" title=\"Michael Douglas\">Michael Douglas</a>\n",
      "<a href=\"/wiki/Mark_Ruffalo\" title=\"Mark Ruffalo\">Mark Ruffalo</a>\n",
      "<a href=\"/wiki/Idris_Elba\" title=\"Idris Elba\">Idris Elba</a>\n",
      "<a href=\"/wiki/Bryan_Cranston\" title=\"Bryan Cranston\">Bryan Cranston</a>\n",
      "<a href=\"/wiki/Template:ScreenActorsGuildAward_CastMotionPicture_1995%E2%80%932000\" title=\"Template:ScreenActorsGuildAward CastMotionPicture 1995–2000\"><abbr style=\"background: #ABCDEF;;background:none transparent;border:none;-moz-box-shadow:none;-webkit-box-shadow:none;box-shadow:none;\" title=\"View this template\">v</abbr></a>\n",
      "<a href=\"/wiki/Template_talk:ScreenActorsGuildAward_CastMotionPicture_1995%E2%80%932000\" title=\"Template talk:ScreenActorsGuildAward CastMotionPicture 1995–2000\"><abbr style=\"background: #ABCDEF;;background:none transparent;border:none;-moz-box-shadow:none;-webkit-box-shadow:none;box-shadow:none;\" title=\"Discuss this template\">t</abbr></a>\n",
      "<a class=\"external text\" href=\"//en.wikipedia.org/w/index.php?title=Template:ScreenActorsGuildAward_CastMotionPicture_1995%E2%80%932000&amp;action=edit\"><abbr style=\"background: #ABCDEF;;background:none transparent;border:none;-moz-box-shadow:none;-webkit-box-shadow:none;box-shadow:none;\" title=\"Edit this template\">e</abbr></a>\n",
      "<a href=\"/wiki/Screen_Actors_Guild_Award_for_Outstanding_Performance_by_a_Cast_in_a_Motion_Picture\" title=\"Screen Actors Guild Award for Outstanding Performance by a Cast in a Motion Picture\">Screen Actors Guild Award for Outstanding Performance by a Cast in a Motion Picture</a>\n",
      "<a href=\"/wiki/Apollo_13_(film)\" title=\"Apollo 13 (film)\">Apollo 13</a>\n",
      "<a class=\"mw-selflink selflink\">Kevin Bacon</a>\n",
      "<a href=\"/wiki/Tom_Hanks\" title=\"Tom Hanks\">Tom Hanks</a>\n",
      "<a href=\"/wiki/Ed_Harris\" title=\"Ed Harris\">Ed Harris</a>\n",
      "<a href=\"/wiki/Bill_Paxton\" title=\"Bill Paxton\">Bill Paxton</a>\n",
      "<a href=\"/wiki/Kathleen_Quinlan\" title=\"Kathleen Quinlan\">Kathleen Quinlan</a>\n",
      "<a href=\"/wiki/Gary_Sinise\" title=\"Gary Sinise\">Gary Sinise</a>\n",
      "<a href=\"/wiki/The_Birdcage\" title=\"The Birdcage\">The Birdcage</a>\n",
      "<a href=\"/wiki/Hank_Azaria\" title=\"Hank Azaria\">Hank Azaria</a>\n",
      "<a href=\"/wiki/Christine_Baranski\" title=\"Christine Baranski\">Christine Baranski</a>\n",
      "<a href=\"/wiki/Dan_Futterman\" title=\"Dan Futterman\">Dan Futterman</a>\n",
      "<a href=\"/wiki/Gene_Hackman\" title=\"Gene Hackman\">Gene Hackman</a>\n",
      "<a href=\"/wiki/Nathan_Lane\" title=\"Nathan Lane\">Nathan Lane</a>\n",
      "<a href=\"/wiki/Dianne_Wiest\" title=\"Dianne Wiest\">Dianne Wiest</a>\n",
      "<a href=\"/wiki/Robin_Williams\" title=\"Robin Williams\">Robin Williams</a>\n",
      "<a href=\"/wiki/The_Full_Monty\" title=\"The Full Monty\">The Full Monty</a>\n",
      "<a href=\"/wiki/Mark_Addy\" title=\"Mark Addy\">Mark Addy</a>\n",
      "<a href=\"/wiki/Paul_Barber_(actor)\" title=\"Paul Barber (actor)\">Paul Barber</a>\n",
      "<a href=\"/wiki/Robert_Carlyle\" title=\"Robert Carlyle\">Robert Carlyle</a>\n",
      "<a class=\"new\" href=\"/w/index.php?title=Deirdre_Costello_(actress)&amp;action=edit&amp;redlink=1\" title=\"Deirdre Costello (actress) (page does not exist)\">Deirdre Costello</a>\n",
      "<a href=\"/wiki/Steve_Huison\" title=\"Steve Huison\">Steve Huison</a>\n",
      "<a href=\"/wiki/Bruce_Jones_(actor)\" title=\"Bruce Jones (actor)\">Bruce Jones</a>\n",
      "<a href=\"/wiki/Lesley_Sharp\" title=\"Lesley Sharp\">Lesley Sharp</a>\n",
      "<a href=\"/wiki/William_Snape\" title=\"William Snape\">William Snape</a>\n",
      "<a href=\"/wiki/Hugo_Speer\" title=\"Hugo Speer\">Hugo Speer</a>\n",
      "<a href=\"/wiki/Tom_Wilkinson\" title=\"Tom Wilkinson\">Tom Wilkinson</a>\n",
      "<a href=\"/wiki/Emily_Woof\" title=\"Emily Woof\">Emily Woof</a>\n",
      "<a href=\"/wiki/Shakespeare_in_Love\" title=\"Shakespeare in Love\">Shakespeare in Love</a>\n",
      "<a href=\"/wiki/Ben_Affleck\" title=\"Ben Affleck\">Ben Affleck</a>\n",
      "<a href=\"/wiki/Simon_Callow\" title=\"Simon Callow\">Simon Callow</a>\n",
      "<a href=\"/wiki/Jim_Carter_(actor)\" title=\"Jim Carter (actor)\">Jim Carter</a>\n",
      "<a href=\"/wiki/Martin_Clunes\" title=\"Martin Clunes\">Martin Clunes</a>\n",
      "<a href=\"/wiki/Judi_Dench\" title=\"Judi Dench\">Judi Dench</a>\n",
      "<a href=\"/wiki/Joseph_Fiennes\" title=\"Joseph Fiennes\">Joseph Fiennes</a>\n",
      "<a href=\"/wiki/Colin_Firth\" title=\"Colin Firth\">Colin Firth</a>\n",
      "<a href=\"/wiki/Gwyneth_Paltrow\" title=\"Gwyneth Paltrow\">Gwyneth Paltrow</a>\n",
      "<a href=\"/wiki/Geoffrey_Rush\" title=\"Geoffrey Rush\">Geoffrey Rush</a>\n",
      "<a href=\"/wiki/Antony_Sher\" title=\"Antony Sher\">Antony Sher</a>\n",
      "<a href=\"/wiki/Imelda_Staunton\" title=\"Imelda Staunton\">Imelda Staunton</a>\n",
      "<a href=\"/wiki/American_Beauty_(1999_film)\" title=\"American Beauty (1999 film)\">American Beauty</a>\n",
      "<a href=\"/wiki/Annette_Bening\" title=\"Annette Bening\">Annette Bening</a>\n",
      "<a href=\"/wiki/Wes_Bentley\" title=\"Wes Bentley\">Wes Bentley</a>\n",
      "<a href=\"/wiki/Thora_Birch\" title=\"Thora Birch\">Thora Birch</a>\n",
      "<a href=\"/wiki/Chris_Cooper\" title=\"Chris Cooper\">Chris Cooper</a>\n",
      "<a href=\"/wiki/Peter_Gallagher\" title=\"Peter Gallagher\">Peter Gallagher</a>\n",
      "<a href=\"/wiki/Allison_Janney\" title=\"Allison Janney\">Allison Janney</a>\n",
      "<a href=\"/wiki/Kevin_Spacey\" title=\"Kevin Spacey\">Kevin Spacey</a>\n",
      "<a href=\"/wiki/Mena_Suvari\" title=\"Mena Suvari\">Mena Suvari</a>\n",
      "<a href=\"/wiki/Traffic_(2000_film)\" title=\"Traffic (2000 film)\">Traffic</a>\n",
      "<a href=\"/wiki/Steven_Bauer\" title=\"Steven Bauer\">Steven Bauer</a>\n",
      "<a href=\"/wiki/Benjamin_Bratt\" title=\"Benjamin Bratt\">Benjamin Bratt</a>\n",
      "<a href=\"/wiki/James_Brolin\" title=\"James Brolin\">James Brolin</a>\n",
      "<a href=\"/wiki/Don_Cheadle\" title=\"Don Cheadle\">Don Cheadle</a>\n",
      "<a href=\"/wiki/Erika_Christensen\" title=\"Erika Christensen\">Erika Christensen</a>\n",
      "<a href=\"/wiki/Clifton_Collins_Jr.\" title=\"Clifton Collins Jr.\">Clifton Collins Jr.</a>\n",
      "<a href=\"/wiki/Benicio_del_Toro\" title=\"Benicio del Toro\">Benicio del Toro</a>\n",
      "<a href=\"/wiki/Michael_Douglas\" title=\"Michael Douglas\">Michael Douglas</a>\n",
      "<a href=\"/wiki/Miguel_Ferrer\" title=\"Miguel Ferrer\">Miguel Ferrer</a>\n",
      "<a href=\"/wiki/Albert_Finney\" title=\"Albert Finney\">Albert Finney</a>\n",
      "<a href=\"/wiki/Topher_Grace\" title=\"Topher Grace\">Topher Grace</a>\n",
      "<a href=\"/wiki/Luis_Guzm%C3%A1n\" title=\"Luis Guzmán\">Luis Guzmán</a>\n",
      "<a href=\"/wiki/Amy_Irving\" title=\"Amy Irving\">Amy Irving</a>\n",
      "<a href=\"/wiki/Tomas_Milian\" title=\"Tomas Milian\">Tomas Milian</a>\n",
      "<a href=\"/wiki/D._W._Moffett\" title=\"D. W. Moffett\">D. W. Moffett</a>\n",
      "<a href=\"/wiki/Dennis_Quaid\" title=\"Dennis Quaid\">Dennis Quaid</a>\n",
      "<a href=\"/wiki/Peter_Riegert\" title=\"Peter Riegert\">Peter Riegert</a>\n",
      "<a href=\"/wiki/Jacob_Vargas\" title=\"Jacob Vargas\">Jacob Vargas</a>\n",
      "<a href=\"/wiki/Catherine_Zeta-Jones\" title=\"Catherine Zeta-Jones\">Catherine Zeta-Jones</a>\n",
      "<a href=\"/wiki/Screen_Actors_Guild_Award_for_Outstanding_Performance_by_a_Cast_in_a_Motion_Picture\" title=\"Screen Actors Guild Award for Outstanding Performance by a Cast in a Motion Picture\">Complete list</a>\n",
      "<a href=\"/wiki/Template:ScreenActorsGuildAward_CastMotionPicture_1995%E2%80%932000\" title=\"Template:ScreenActorsGuildAward CastMotionPicture 1995–2000\">(1995–2000)</a>\n",
      "<a href=\"/wiki/Template:ScreenActorsGuildAward_CastMotionPicture_2001%E2%80%932010\" title=\"Template:ScreenActorsGuildAward CastMotionPicture 2001–2010\">(2001–2010)</a>\n",
      "<a href=\"/wiki/Template:ScreenActorsGuildAward_CastMotionPicture_2011%E2%80%932020\" title=\"Template:ScreenActorsGuildAward CastMotionPicture 2011–2020\">(2011–2020)</a>\n",
      "<a href=\"/wiki/Help:Authority_control\" title=\"Help:Authority control\">Authority control</a>\n",
      "<a class=\"external text\" href=\"//www.worldcat.org/identities/containsVIAFID/39570812\" rel=\"nofollow\">WorldCat Identities</a>\n",
      "<a href=\"/wiki/Virtual_International_Authority_File\" title=\"Virtual International Authority File\">VIAF</a>\n",
      "<a class=\"external text\" href=\"https://viaf.org/viaf/39570812\" rel=\"nofollow\">39570812</a>\n",
      "<a href=\"/wiki/Library_of_Congress_Control_Number\" title=\"Library of Congress Control Number\">LCCN</a>\n",
      "<a class=\"external text\" href=\"http://id.loc.gov/authorities/names/n88034930\" rel=\"nofollow\">n88034930</a>\n",
      "<a href=\"/wiki/International_Standard_Name_Identifier\" title=\"International Standard Name Identifier\">ISNI</a>\n",
      "<a class=\"external text\" href=\"http://isni.org/isni/0000000121291300\" rel=\"nofollow\">0000 0001 2129 1300</a>\n",
      "<a href=\"/wiki/Integrated_Authority_File\" title=\"Integrated Authority File\">GND</a>\n",
      "<a class=\"external text\" href=\"http://d-nb.info/gnd/124109659\" rel=\"nofollow\">124109659</a>\n",
      "<a href=\"/wiki/Syst%C3%A8me_universitaire_de_documentation\" title=\"Système universitaire de documentation\">SUDOC</a>\n",
      "<a class=\"external text\" href=\"https://www.idref.fr/084292652\" rel=\"nofollow\">084292652</a>\n",
      "<a href=\"/wiki/Biblioth%C3%A8que_nationale_de_France\" title=\"Bibliothèque nationale de France\">BNF</a>\n",
      "<a class=\"external text\" href=\"http://catalogue.bnf.fr/ark:/12148/cb139817766\" rel=\"nofollow\">cb139817766</a>\n",
      "<a class=\"external text\" href=\"http://data.bnf.fr/ark:/12148/cb139817766\" rel=\"nofollow\">(data)</a>\n",
      "<a href=\"/wiki/MusicBrainz\" title=\"MusicBrainz\">MusicBrainz</a>\n",
      "<a class=\"external text\" href=\"//musicbrainz.org/artist/cc0dbdfc-9b2c-4e31-8448-808412388406\" rel=\"nofollow\">cc0dbdfc-9b2c-4e31-8448-808412388406</a>\n",
      "<a dir=\"ltr\" href=\"https://en.wikipedia.org/w/index.php?title=Kevin_Bacon&amp;oldid=789132598\">https://en.wikipedia.org/w/index.php?title=Kevin_Bacon&amp;oldid=789132598</a>\n",
      "<a href=\"/wiki/Help:Category\" title=\"Help:Category\">Categories</a>\n",
      "<a href=\"/wiki/Category:1958_births\" title=\"Category:1958 births\">1958 births</a>\n",
      "<a href=\"/wiki/Category:20th-century_American_male_actors\" title=\"Category:20th-century American male actors\">20th-century American male actors</a>\n",
      "<a href=\"/wiki/Category:21st-century_American_male_actors\" title=\"Category:21st-century American male actors\">21st-century American male actors</a>\n",
      "<a href=\"/wiki/Category:American_atheists\" title=\"Category:American atheists\">American atheists</a>\n",
      "<a href=\"/wiki/Category:American_male_film_actors\" title=\"Category:American male film actors\">American male film actors</a>\n",
      "<a href=\"/wiki/Category:American_male_soap_opera_actors\" title=\"Category:American male soap opera actors\">American male soap opera actors</a>\n",
      "<a href=\"/wiki/Category:American_male_television_actors\" title=\"Category:American male television actors\">American male television actors</a>\n",
      "<a href=\"/wiki/Category:American_male_voice_actors\" title=\"Category:American male voice actors\">American male voice actors</a>\n",
      "<a href=\"/wiki/Category:The_Bacon_Brothers_members\" title=\"Category:The Bacon Brothers members\">The Bacon Brothers members</a>\n",
      "<a href=\"/wiki/Category:Best_Miniseries_or_Television_Movie_Actor_Golden_Globe_winners\" title=\"Category:Best Miniseries or Television Movie Actor Golden Globe winners\">Best Miniseries or Television Movie Actor Golden Globe winners</a>\n",
      "<a href=\"/wiki/Category:Circle_in_the_Square_Theatre_School_alumni\" title=\"Category:Circle in the Square Theatre School alumni\">Circle in the Square Theatre School alumni</a>\n",
      "<a href=\"/wiki/Category:Living_people\" title=\"Category:Living people\">Living people</a>\n",
      "<a href=\"/wiki/Category:Male_actors_from_Philadelphia\" title=\"Category:Male actors from Philadelphia\">Male actors from Philadelphia</a>\n",
      "<a href=\"/wiki/Category:Obie_Award_recipients\" title=\"Category:Obie Award recipients\">Obie Award recipients</a>\n",
      "<a href=\"/wiki/Category:Outstanding_Performance_by_a_Cast_in_a_Motion_Picture_Screen_Actors_Guild_Award_winners\" title=\"Category:Outstanding Performance by a Cast in a Motion Picture Screen Actors Guild Award winners\">Outstanding Performance by a Cast in a Motion Picture Screen Actors Guild Award winners</a>\n",
      "<a href=\"/wiki/Category:Sedgwick_family\" title=\"Category:Sedgwick family\">Sedgwick family</a>\n",
      "<a href=\"/wiki/Category:Wikipedia_indefinitely_semi-protected_biographies_of_living_people\" title=\"Category:Wikipedia indefinitely semi-protected biographies of living people\">Wikipedia indefinitely semi-protected biographies of living people</a>\n",
      "<a href=\"/wiki/Category:Use_mdy_dates_from_October_2016\" title=\"Category:Use mdy dates from October 2016\">Use mdy dates from October 2016</a>\n",
      "<a href=\"/wiki/Category:Articles_with_hCards\" title=\"Category:Articles with hCards\">Articles with hCards</a>\n",
      "<a href=\"/wiki/Category:All_articles_with_unsourced_statements\" title=\"Category:All articles with unsourced statements\">All articles with unsourced statements</a>\n",
      "<a href=\"/wiki/Category:Articles_with_unsourced_statements_from_January_2016\" title=\"Category:Articles with unsourced statements from January 2016\">Articles with unsourced statements from January 2016</a>\n",
      "<a href=\"/wiki/Category:Articles_with_IBDb_links\" title=\"Category:Articles with IBDb links\">Articles with IBDb links</a>\n",
      "<a href=\"/wiki/Category:Wikipedia_articles_with_VIAF_identifiers\" title=\"Category:Wikipedia articles with VIAF identifiers\">Wikipedia articles with VIAF identifiers</a>\n",
      "<a href=\"/wiki/Category:Wikipedia_articles_with_LCCN_identifiers\" title=\"Category:Wikipedia articles with LCCN identifiers\">Wikipedia articles with LCCN identifiers</a>\n",
      "<a href=\"/wiki/Category:Wikipedia_articles_with_ISNI_identifiers\" title=\"Category:Wikipedia articles with ISNI identifiers\">Wikipedia articles with ISNI identifiers</a>\n",
      "<a href=\"/wiki/Category:Wikipedia_articles_with_GND_identifiers\" title=\"Category:Wikipedia articles with GND identifiers\">Wikipedia articles with GND identifiers</a>\n",
      "<a href=\"/wiki/Category:Wikipedia_articles_with_BNF_identifiers\" title=\"Category:Wikipedia articles with BNF identifiers\">Wikipedia articles with BNF identifiers</a>\n",
      "<a href=\"/wiki/Category:Wikipedia_articles_with_MusicBrainz_identifiers\" title=\"Category:Wikipedia articles with MusicBrainz identifiers\">Wikipedia articles with MusicBrainz identifiers</a>\n",
      "<a accesskey=\"n\" href=\"/wiki/Special:MyTalk\" title=\"Discussion about edits from this IP address [n]\">Talk</a>\n",
      "<a accesskey=\"y\" href=\"/wiki/Special:MyContributions\" title=\"A list of edits made from this IP address [y]\">Contributions</a>\n",
      "<a href=\"/w/index.php?title=Special:CreateAccount&amp;returnto=Kevin+Bacon\" title=\"You are encouraged to create an account and log in; however, it is not mandatory\">Create account</a>\n",
      "<a accesskey=\"o\" href=\"/w/index.php?title=Special:UserLogin&amp;returnto=Kevin+Bacon\" title=\"You're encouraged to log in; however, it's not mandatory. [o]\">Log in</a>\n",
      "<a accesskey=\"c\" href=\"/wiki/Kevin_Bacon\" title=\"View the content page [c]\">Article</a>\n",
      "<a accesskey=\"t\" href=\"/wiki/Talk:Kevin_Bacon\" rel=\"discussion\" title=\"Discussion about the content page [t]\">Talk</a>\n",
      "<a href=\"/wiki/Kevin_Bacon\">Read</a>\n",
      "<a accesskey=\"e\" href=\"/w/index.php?title=Kevin_Bacon&amp;action=edit\" title=\"This page is protected.\n",
      "You can view its source [e]\">View source</a>\n",
      "<a accesskey=\"h\" href=\"/w/index.php?title=Kevin_Bacon&amp;action=history\" title=\"Past revisions of this page [h]\">View history</a>\n",
      "<a class=\"mw-wiki-logo\" href=\"/wiki/Main_Page\" title=\"Visit the main page\"></a>\n",
      "<a accesskey=\"z\" href=\"/wiki/Main_Page\" title=\"Visit the main page [z]\">Main page</a>\n",
      "<a href=\"/wiki/Portal:Contents\" title=\"Guides to browsing Wikipedia\">Contents</a>\n",
      "<a href=\"/wiki/Portal:Featured_content\" title=\"Featured content – the best of Wikipedia\">Featured content</a>\n",
      "<a href=\"/wiki/Portal:Current_events\" title=\"Find background information on current events\">Current events</a>\n",
      "<a accesskey=\"x\" href=\"/wiki/Special:Random\" title=\"Load a random article [x]\">Random article</a>\n",
      "<a href=\"https://donate.wikimedia.org/wiki/Special:FundraiserRedirector?utm_source=donate&amp;utm_medium=sidebar&amp;utm_campaign=C13_en.wikipedia.org&amp;uselang=en\" title=\"Support us\">Donate to Wikipedia</a>\n",
      "<a href=\"//shop.wikimedia.org\" title=\"Visit the Wikipedia store\">Wikipedia store</a>\n",
      "<a href=\"/wiki/Help:Contents\" title=\"Guidance on how to use and edit Wikipedia\">Help</a>\n",
      "<a href=\"/wiki/Wikipedia:About\" title=\"Find out about Wikipedia\">About Wikipedia</a>\n",
      "<a href=\"/wiki/Wikipedia:Community_portal\" title=\"About the project, what you can do, where to find things\">Community portal</a>\n",
      "<a accesskey=\"r\" href=\"/wiki/Special:RecentChanges\" title=\"A list of recent changes in the wiki [r]\">Recent changes</a>\n",
      "<a href=\"//en.wikipedia.org/wiki/Wikipedia:Contact_us\" title=\"How to contact Wikipedia\">Contact page</a>\n",
      "<a accesskey=\"j\" href=\"/wiki/Special:WhatLinksHere/Kevin_Bacon\" title=\"List of all English Wikipedia pages containing links to this page [j]\">What links here</a>\n",
      "<a accesskey=\"k\" href=\"/wiki/Special:RecentChangesLinked/Kevin_Bacon\" rel=\"nofollow\" title=\"Recent changes in pages linked from this page [k]\">Related changes</a>\n",
      "<a accesskey=\"u\" href=\"/wiki/Wikipedia:File_Upload_Wizard\" title=\"Upload files [u]\">Upload file</a>\n",
      "<a accesskey=\"q\" href=\"/wiki/Special:SpecialPages\" title=\"A list of all special pages [q]\">Special pages</a>\n",
      "<a href=\"/w/index.php?title=Kevin_Bacon&amp;oldid=789132598\" title=\"Permanent link to this revision of the page\">Permanent link</a>\n",
      "<a href=\"/w/index.php?title=Kevin_Bacon&amp;action=info\" title=\"More information about this page\">Page information</a>\n",
      "<a accesskey=\"g\" href=\"https://www.wikidata.org/wiki/Special:EntityPage/Q3454165\" title=\"Link to connected data repository item [g]\">Wikidata item</a>\n",
      "<a href=\"/w/index.php?title=Special:CiteThisPage&amp;page=Kevin_Bacon&amp;id=789132598\" title=\"Information on how to cite this page\">Cite this page</a>\n",
      "<a href=\"/w/index.php?title=Special:Book&amp;bookcmd=book_creator&amp;referer=Kevin+Bacon\">Create a book</a>\n",
      "<a href=\"/w/index.php?title=Special:ElectronPdf&amp;page=Kevin+Bacon&amp;action=show-selection-screen&amp;coll-download-url=%2Fw%2Findex.php%3Ftitle%3DSpecial%3ABook%26bookcmd%3Drender_article%26arttitle%3DKevin%2BBacon%26returnto%3DKevin%2BBacon%26oldid%3D789132598%26writer%3Drdf2latex\">Download as PDF</a>\n",
      "<a accesskey=\"p\" href=\"/w/index.php?title=Kevin_Bacon&amp;printable=yes\" title=\"Printable version of this page [p]\">Printable version</a>\n",
      "<a href=\"https://commons.wikimedia.org/wiki/Category:Kevin_Bacon\" hreflang=\"en\">Wikimedia Commons</a>\n",
      "<a class=\"interlanguage-link-target\" href=\"https://af.wikipedia.org/wiki/Kevin_Bacon\" hreflang=\"af\" lang=\"af\" title=\"Kevin Bacon – Afrikaans\">Afrikaans</a>\n",
      "<a class=\"interlanguage-link-target\" href=\"https://ar.wikipedia.org/wiki/%D9%83%D9%8A%D9%81%D9%8A%D9%86_%D8%A8%D9%8A%D9%83%D9%86\" hreflang=\"ar\" lang=\"ar\" title=\"كيفين بيكن – Arabic\">العربية</a>\n",
      "<a class=\"interlanguage-link-target\" href=\"https://an.wikipedia.org/wiki/Kevin_Bacon\" hreflang=\"an\" lang=\"an\" title=\"Kevin Bacon – Aragonese\">Aragonés</a>\n",
      "<a class=\"interlanguage-link-target\" href=\"https://ast.wikipedia.org/wiki/Kevin_Bacon\" hreflang=\"ast\" lang=\"ast\" title=\"Kevin Bacon – Asturian\">Asturianu</a>\n",
      "<a class=\"interlanguage-link-target\" href=\"https://zh-min-nan.wikipedia.org/wiki/Kevin_Bacon\" hreflang=\"zh-min-nan\" lang=\"zh-min-nan\" title=\"Kevin Bacon – Chinese (Min Nan)\">Bân-lâm-gú</a>\n",
      "<a class=\"interlanguage-link-target\" href=\"https://bi.wikipedia.org/wiki/Kevin_Bacon\" hreflang=\"bi\" lang=\"bi\" title=\"Kevin Bacon – Bislama\">Bislama</a>\n",
      "<a class=\"interlanguage-link-target\" href=\"https://bg.wikipedia.org/wiki/%D0%9A%D0%B5%D0%B2%D0%B8%D0%BD_%D0%91%D0%B5%D0%B9%D0%BA%D1%8A%D0%BD\" hreflang=\"bg\" lang=\"bg\" title=\"Кевин Бейкън – Bulgarian\">Български</a>\n",
      "<a class=\"interlanguage-link-target\" href=\"https://bs.wikipedia.org/wiki/Kevin_Bacon\" hreflang=\"bs\" lang=\"bs\" title=\"Kevin Bacon – Bosnian\">Bosanski</a>\n",
      "<a class=\"interlanguage-link-target\" href=\"https://ca.wikipedia.org/wiki/Kevin_Bacon\" hreflang=\"ca\" lang=\"ca\" title=\"Kevin Bacon – Catalan\">Català</a>\n",
      "<a class=\"interlanguage-link-target\" href=\"https://cs.wikipedia.org/wiki/Kevin_Bacon\" hreflang=\"cs\" lang=\"cs\" title=\"Kevin Bacon – Czech\">Čeština</a>\n",
      "<a class=\"interlanguage-link-target\" href=\"https://da.wikipedia.org/wiki/Kevin_Bacon\" hreflang=\"da\" lang=\"da\" title=\"Kevin Bacon – Danish\">Dansk</a>\n",
      "<a class=\"interlanguage-link-target\" href=\"https://de.wikipedia.org/wiki/Kevin_Bacon\" hreflang=\"de\" lang=\"de\" title=\"Kevin Bacon – German\">Deutsch</a>\n",
      "<a class=\"interlanguage-link-target\" href=\"https://el.wikipedia.org/wiki/%CE%9A%CE%AD%CE%B2%CE%B9%CE%BD_%CE%9C%CF%80%CE%AD%CE%B9%CE%BA%CE%BF%CE%BD\" hreflang=\"el\" lang=\"el\" title=\"Κέβιν Μπέικον – Greek\">Ελληνικά</a>\n",
      "<a class=\"interlanguage-link-target\" href=\"https://eml.wikipedia.org/wiki/Kevin_Bacon\" hreflang=\"eml\" lang=\"eml\" title=\"Kevin Bacon – Emiliano-Romagnolo\">Emiliàn e rumagnòl</a>\n",
      "<a class=\"interlanguage-link-target\" href=\"https://es.wikipedia.org/wiki/Kevin_Bacon\" hreflang=\"es\" lang=\"es\" title=\"Kevin Bacon – Spanish\">Español</a>\n",
      "<a class=\"interlanguage-link-target\" href=\"https://eu.wikipedia.org/wiki/Kevin_Bacon\" hreflang=\"eu\" lang=\"eu\" title=\"Kevin Bacon – Basque\">Euskara</a>\n",
      "<a class=\"interlanguage-link-target\" href=\"https://fa.wikipedia.org/wiki/%DA%A9%D9%88%DB%8C%D9%86_%D8%A8%DB%8C%DA%A9%D9%86\" hreflang=\"fa\" lang=\"fa\" title=\"کوین بیکن – Persian\">فارسی</a>\n",
      "<a class=\"interlanguage-link-target\" href=\"https://fr.wikipedia.org/wiki/Kevin_Bacon\" hreflang=\"fr\" lang=\"fr\" title=\"Kevin Bacon – French\">Français</a>\n",
      "<a class=\"interlanguage-link-target\" href=\"https://gl.wikipedia.org/wiki/Kevin_Bacon\" hreflang=\"gl\" lang=\"gl\" title=\"Kevin Bacon – Galician\">Galego</a>\n",
      "<a class=\"interlanguage-link-target\" href=\"https://ko.wikipedia.org/wiki/%EC%BC%80%EB%B9%88_%EB%B2%A0%EC%9D%B4%EC%BB%A8\" hreflang=\"ko\" lang=\"ko\" title=\"케빈 베이컨 – Korean\">한국어</a>\n",
      "<a class=\"interlanguage-link-target\" href=\"https://hy.wikipedia.org/wiki/%D5%94%D6%87%D5%AB%D5%B6_%D4%B2%D5%A5%D5%B5%D6%84%D5%B8%D5%B6\" hreflang=\"hy\" lang=\"hy\" title=\"Քևին Բեյքոն – Armenian\">Հայերեն</a>\n",
      "<a class=\"interlanguage-link-target\" href=\"https://hr.wikipedia.org/wiki/Kevin_Bacon\" hreflang=\"hr\" lang=\"hr\" title=\"Kevin Bacon – Croatian\">Hrvatski</a>\n",
      "<a class=\"interlanguage-link-target\" href=\"https://io.wikipedia.org/wiki/Kevin_Bacon\" hreflang=\"io\" lang=\"io\" title=\"Kevin Bacon – Ido\">Ido</a>\n",
      "<a class=\"interlanguage-link-target\" href=\"https://id.wikipedia.org/wiki/Kevin_Bacon\" hreflang=\"id\" lang=\"id\" title=\"Kevin Bacon – Indonesian\">Bahasa Indonesia</a>\n",
      "<a class=\"interlanguage-link-target\" href=\"https://it.wikipedia.org/wiki/Kevin_Bacon\" hreflang=\"it\" lang=\"it\" title=\"Kevin Bacon – Italian\">Italiano</a>\n",
      "<a class=\"interlanguage-link-target\" href=\"https://he.wikipedia.org/wiki/%D7%A7%D7%95%D7%95%D7%99%D7%9F_%D7%91%D7%99%D7%99%D7%A7%D7%95%D7%9F\" hreflang=\"he\" lang=\"he\" title=\"קווין בייקון – Hebrew\">עברית</a>\n",
      "<a class=\"interlanguage-link-target\" href=\"https://ka.wikipedia.org/wiki/%E1%83%99%E1%83%94%E1%83%95%E1%83%98%E1%83%9C_%E1%83%91%E1%83%94%E1%83%98%E1%83%99%E1%83%9D%E1%83%9C%E1%83%98\" hreflang=\"ka\" lang=\"ka\" title=\"კევინ ბეიკონი – Georgian\">ქართული</a>\n",
      "<a class=\"interlanguage-link-target\" href=\"https://kk.wikipedia.org/wiki/%D0%9A%D0%B5%D0%B2%D0%B8%D0%BD_%D0%91%D1%8D%D0%B9%D0%BA%D0%BE%D0%BD\" hreflang=\"kk\" lang=\"kk\" title=\"Кевин Бэйкон – Kazakh\">Қазақша</a>\n",
      "<a class=\"interlanguage-link-target\" href=\"https://lv.wikipedia.org/wiki/Kevins_B%C4%93kons\" hreflang=\"lv\" lang=\"lv\" title=\"Kevins Bēkons – Latvian\">Latviešu</a>\n",
      "<a class=\"interlanguage-link-target\" href=\"https://hu.wikipedia.org/wiki/Kevin_Bacon\" hreflang=\"hu\" lang=\"hu\" title=\"Kevin Bacon – Hungarian\">Magyar</a>\n",
      "<a class=\"interlanguage-link-target\" href=\"https://xmf.wikipedia.org/wiki/%E1%83%99%E1%83%94%E1%83%95%E1%83%98%E1%83%9C_%E1%83%91%E1%83%94%E1%83%98%E1%83%99%E1%83%9D%E1%83%9C%E1%83%98\" hreflang=\"xmf\" lang=\"xmf\" title=\"კევინ ბეიკონი – Mingrelian\">მარგალური</a>\n",
      "<a class=\"interlanguage-link-target\" href=\"https://mn.wikipedia.org/wiki/%D0%9A%D0%B5%D0%B2%D0%B8%D0%BD_%D0%91%D1%8D%D0%B9%D0%BA%D0%BE%D0%BD\" hreflang=\"mn\" lang=\"mn\" title=\"Кевин Бэйкон – Mongolian\">Монгол</a>\n",
      "<a class=\"interlanguage-link-target\" href=\"https://nl.wikipedia.org/wiki/Kevin_Bacon\" hreflang=\"nl\" lang=\"nl\" title=\"Kevin Bacon – Dutch\">Nederlands</a>\n",
      "<a class=\"interlanguage-link-target\" href=\"https://ja.wikipedia.org/wiki/%E3%82%B1%E3%83%B4%E3%82%A3%E3%83%B3%E3%83%BB%E3%83%99%E3%83%BC%E3%82%B3%E3%83%B3\" hreflang=\"ja\" lang=\"ja\" title=\"ケヴィン・ベーコン – Japanese\">日本語</a>\n",
      "<a class=\"interlanguage-link-target\" href=\"https://no.wikipedia.org/wiki/Kevin_Bacon\" hreflang=\"no\" lang=\"no\" title=\"Kevin Bacon – Norwegian\">Norsk bokmål</a>\n",
      "<a class=\"interlanguage-link-target\" href=\"https://oc.wikipedia.org/wiki/Kevin_Bacon\" hreflang=\"oc\" lang=\"oc\" title=\"Kevin Bacon – Occitan\">Occitan</a>\n",
      "<a class=\"interlanguage-link-target\" href=\"https://pl.wikipedia.org/wiki/Kevin_Bacon\" hreflang=\"pl\" lang=\"pl\" title=\"Kevin Bacon – Polish\">Polski</a>\n",
      "<a class=\"interlanguage-link-target\" href=\"https://pt.wikipedia.org/wiki/Kevin_Bacon\" hreflang=\"pt\" lang=\"pt\" title=\"Kevin Bacon – Portuguese\">Português</a>\n",
      "<a class=\"interlanguage-link-target\" href=\"https://ro.wikipedia.org/wiki/Kevin_Bacon\" hreflang=\"ro\" lang=\"ro\" title=\"Kevin Bacon – Romanian\">Română</a>\n",
      "<a class=\"interlanguage-link-target\" href=\"https://ru.wikipedia.org/wiki/%D0%91%D1%8D%D0%B9%D0%BA%D0%BE%D0%BD,_%D0%9A%D0%B5%D0%B2%D0%B8%D0%BD\" hreflang=\"ru\" lang=\"ru\" title=\"Бэйкон, Кевин – Russian\">Русский</a>\n",
      "<a class=\"interlanguage-link-target\" href=\"https://sco.wikipedia.org/wiki/Kevin_Bacon\" hreflang=\"sco\" lang=\"sco\" title=\"Kevin Bacon – Scots\">Scots</a>\n",
      "<a class=\"interlanguage-link-target\" href=\"https://simple.wikipedia.org/wiki/Kevin_Bacon\" hreflang=\"simple\" lang=\"simple\" title=\"Kevin Bacon – Simple English\">Simple English</a>\n",
      "<a class=\"interlanguage-link-target\" href=\"https://sk.wikipedia.org/wiki/Kevin_Bacon\" hreflang=\"sk\" lang=\"sk\" title=\"Kevin Bacon – Slovak\">Slovenčina</a>\n",
      "<a class=\"interlanguage-link-target\" href=\"https://ckb.wikipedia.org/wiki/%DA%A9%DB%8E%DA%A4%D9%86_%D8%A8%DB%95%DB%8C%DA%A9%D9%86\" hreflang=\"ckb\" lang=\"ckb\" title=\"کێڤن بەیکن – Central Kurdish\">کوردیی ناوەندی</a>\n",
      "<a class=\"interlanguage-link-target\" href=\"https://sr.wikipedia.org/wiki/%D0%9A%D0%B5%D0%B2%D0%B8%D0%BD_%D0%91%D0%B5%D1%98%D0%BA%D0%BE%D0%BD\" hreflang=\"sr\" lang=\"sr\" title=\"Кевин Бејкон – Serbian\">Српски / srpski</a>\n",
      "<a class=\"interlanguage-link-target\" href=\"https://sh.wikipedia.org/wiki/Kevin_Bacon\" hreflang=\"sh\" lang=\"sh\" title=\"Kevin Bacon – Serbo-Croatian\">Srpskohrvatski / српскохрватски</a>\n",
      "<a class=\"interlanguage-link-target\" href=\"https://fi.wikipedia.org/wiki/Kevin_Bacon\" hreflang=\"fi\" lang=\"fi\" title=\"Kevin Bacon – Finnish\">Suomi</a>\n",
      "<a class=\"interlanguage-link-target\" href=\"https://sv.wikipedia.org/wiki/Kevin_Bacon\" hreflang=\"sv\" lang=\"sv\" title=\"Kevin Bacon – Swedish\">Svenska</a>\n",
      "<a class=\"interlanguage-link-target\" href=\"https://th.wikipedia.org/wiki/%E0%B9%80%E0%B8%84%E0%B8%A7%E0%B8%B4%E0%B8%99_%E0%B9%80%E0%B8%9A%E0%B8%84%E0%B8%AD%E0%B8%99\" hreflang=\"th\" lang=\"th\" title=\"เควิน เบคอน – Thai\">ไทย</a>\n",
      "<a class=\"interlanguage-link-target\" href=\"https://tr.wikipedia.org/wiki/Kevin_Bacon\" hreflang=\"tr\" lang=\"tr\" title=\"Kevin Bacon – Turkish\">Türkçe</a>\n",
      "<a class=\"interlanguage-link-target\" href=\"https://uk.wikipedia.org/wiki/%D0%9A%D0%B5%D0%B2%D1%96%D0%BD_%D0%91%D0%B5%D0%B9%D0%BA%D0%BE%D0%BD\" hreflang=\"uk\" lang=\"uk\" title=\"Кевін Бейкон – Ukrainian\">Українська</a>\n",
      "<a class=\"interlanguage-link-target\" href=\"https://vi.wikipedia.org/wiki/Kevin_Bacon\" hreflang=\"vi\" lang=\"vi\" title=\"Kevin Bacon – Vietnamese\">Tiếng Việt</a>\n",
      "<a class=\"interlanguage-link-target\" href=\"https://zh.wikipedia.org/wiki/%E5%87%AF%E6%96%87%C2%B7%E8%B4%9D%E8%82%AF\" hreflang=\"zh\" lang=\"zh\" title=\"凯文·贝肯 – Chinese\">中文</a>\n",
      "<a class=\"wbc-editpage\" href=\"https://www.wikidata.org/wiki/Special:EntityPage/Q3454165#sitelinks-wikipedia\" title=\"Edit interlanguage links\">Edit links</a>\n",
      "<a href=\"//en.wikipedia.org/wiki/Wikipedia:Text_of_Creative_Commons_Attribution-ShareAlike_3.0_Unported_License\" rel=\"license\">Creative Commons Attribution-ShareAlike License</a>\n",
      "<a href=\"//creativecommons.org/licenses/by-sa/3.0/\" rel=\"license\" style=\"display:none;\"></a>\n",
      "<a href=\"//wikimediafoundation.org/wiki/Terms_of_Use\">Terms of Use</a>\n",
      "<a href=\"//wikimediafoundation.org/wiki/Privacy_policy\">Privacy Policy</a>\n",
      "<a href=\"//www.wikimediafoundation.org/\">Wikimedia Foundation, Inc.</a>\n",
      "<a class=\"extiw\" href=\"https://wikimediafoundation.org/wiki/Privacy_policy\" title=\"wmf:Privacy policy\">Privacy policy</a>\n",
      "<a href=\"/wiki/Wikipedia:About\" title=\"Wikipedia:About\">About Wikipedia</a>\n",
      "<a href=\"/wiki/Wikipedia:General_disclaimer\" title=\"Wikipedia:General disclaimer\">Disclaimers</a>\n",
      "<a href=\"//en.wikipedia.org/wiki/Wikipedia:Contact_us\">Contact Wikipedia</a>\n",
      "<a href=\"https://www.mediawiki.org/wiki/Special:MyLanguage/How_to_contribute\">Developers</a>\n",
      "<a href=\"https://wikimediafoundation.org/wiki/Cookie_statement\">Cookie statement</a>\n",
      "<a class=\"noprint stopMobileRedirectToggle\" href=\"//en.m.wikipedia.org/w/index.php?title=Kevin_Bacon&amp;mobileaction=toggle_view_mobile\">Mobile view</a>\n",
      "<a href=\"https://wikimediafoundation.org/\"><img alt=\"Wikimedia Foundation\" height=\"31\" src=\"/static/images/wikimedia-button.png\" srcset=\"/static/images/wikimedia-button-1.5x.png 1.5x, /static/images/wikimedia-button-2x.png 2x\" width=\"88\"/></a>\n",
      "<a href=\"//www.mediawiki.org/\"><img alt=\"Powered by MediaWiki\" height=\"31\" src=\"/static/images/poweredby_mediawiki_88x31.png\" srcset=\"/static/images/poweredby_mediawiki_132x47.png 1.5x, /static/images/poweredby_mediawiki_176x62.png 2x\" width=\"88\"/></a>\n"
     ]
    }
   ],
   "source": [
    "for link  in bsobj.findAll(\"a\"):\n",
    "    print(link)"
   ]
  },
  {
   "cell_type": "code",
   "execution_count": 22,
   "metadata": {
    "collapsed": true
   },
   "outputs": [],
   "source": [
    "from urllib.request  import urlopen\n",
    "from bs4 import BeautifulSoup\n",
    "\n",
    "html = urlopen(\"http://www.pythonscraping.com/pages/page1.html\")"
   ]
  },
  {
   "cell_type": "code",
   "execution_count": 23,
   "metadata": {
    "collapsed": true
   },
   "outputs": [],
   "source": [
    "bsobj = BeautifulSoup(html.read(), \"lxml\")"
   ]
  },
  {
   "cell_type": "code",
   "execution_count": 24,
   "metadata": {},
   "outputs": [
    {
     "data": {
      "text/plain": [
       "<h1>An Interesting Title</h1>"
      ]
     },
     "execution_count": 24,
     "metadata": {},
     "output_type": "execute_result"
    }
   ],
   "source": [
    "bsobj.h1"
   ]
  },
  {
   "cell_type": "code",
   "execution_count": 21,
   "metadata": {},
   "outputs": [
    {
     "data": {
      "text/plain": [
       "b''"
      ]
     },
     "execution_count": 21,
     "metadata": {},
     "output_type": "execute_result"
    }
   ],
   "source": [
    "html.read()"
   ]
  },
  {
   "cell_type": "code",
   "execution_count": 28,
   "metadata": {
    "collapsed": true
   },
   "outputs": [],
   "source": [
    "from urllib.request import urlopen\n",
    "from urllib.error import HTTPError\n",
    "from bs4 import BeautifulSoup\n",
    "\n",
    "def getTitle(url):\n",
    "    try:\n",
    "        html = urlopen(url)\n",
    "    except HTTPError as e:\n",
    "        print(e)\n",
    "        return None\n",
    "    try:\n",
    "        bsobj = BeautifulSoup(html.read(), 'lxml')\n",
    "        title = bsobj.body.h1\n",
    "    except AttributeError as e:\n",
    "        return  None\n",
    "    return  title"
   ]
  },
  {
   "cell_type": "code",
   "execution_count": 29,
   "metadata": {},
   "outputs": [
    {
     "name": "stdout",
     "output_type": "stream",
     "text": [
      "HTTP Error 404: Not Found\n"
     ]
    }
   ],
   "source": [
    "getTitle(\"http://www.pythonscraping.com/pages/fuck.html\")"
   ]
  },
  {
   "cell_type": "code",
   "execution_count": 38,
   "metadata": {},
   "outputs": [
    {
     "ename": "SyntaxError",
     "evalue": "unexpected character after line continuation character (<ipython-input-38-9a6f0d4939ce>, line 1)",
     "output_type": "error",
     "traceback": [
      "\u001b[0;36m  File \u001b[0;32m\"<ipython-input-38-9a6f0d4939ce>\"\u001b[0;36m, line \u001b[0;32m1\u001b[0m\n\u001b[0;31m    [A-Za-z0-9\\._]+@[A-Za-z]+\\.(com|org|edu|net)\u001b[0m\n\u001b[0m                                                ^\u001b[0m\n\u001b[0;31mSyntaxError\u001b[0m\u001b[0;31m:\u001b[0m unexpected character after line continuation character\n"
     ]
    }
   ],
   "source": [
    "[A-Za-z0-9\\._]+@[A-Za-z]+\\.(com|org|edu|net)"
   ]
  },
  {
   "cell_type": "code",
   "execution_count": 46,
   "metadata": {
    "collapsed": true
   },
   "outputs": [],
   "source": [
    "from urllib.request import urlopen\n",
    "from bs4 import BeautifulSoup\n",
    "import re\n",
    "\n",
    "pages = set()\n",
    "def getLinks(pageUrl):\n",
    "    global pages\n",
    "    html = urlopen(\"http://en.wikipedia.org\"+pageUrl)\n",
    "    bsobj = BeautifulSoup(html)\n",
    "    try:\n",
    "        print(bsobj.h1.get_text())\n",
    "        print(bsobj.find(id=\"mw-content-text\").findAll(\"p\")[0])\n",
    "        print(bsobj.find(id=\"ca-edit\").find(\"span\").find(\"a\").attrs[\"href\"])\n",
    "    except AttributeError:\n",
    "        print(\"this page is missing something\")\n",
    "    for link in  bsobj.findAll(\"a\", href=re.compile(\"^(/wiki/)\")):\n",
    "        if link.attrs[\"href\"] not in pages:\n",
    "            newPage = link.attrs[\"href\"]\n",
    "            print(newPage)\n",
    "            pages.add(newPage)\n",
    "            getLinks(newPage)"
   ]
  },
  {
   "cell_type": "code",
   "execution_count": 47,
   "metadata": {},
   "outputs": [
    {
     "name": "stderr",
     "output_type": "stream",
     "text": [
      "/home/tomoaki/anaconda3/lib/python3.6/site-packages/bs4/__init__.py:181: UserWarning: No parser was explicitly specified, so I'm using the best available HTML parser for this system (\"lxml\"). This usually isn't a problem, but if you run this code on another system, or in a different virtual environment, it may use a different parser and behave differently.\n",
      "\n",
      "The code that caused this warning is on line 193 of the file /home/tomoaki/anaconda3/lib/python3.6/runpy.py. To get rid of this warning, change code that looks like this:\n",
      "\n",
      " BeautifulSoup(YOUR_MARKUP})\n",
      "\n",
      "to this:\n",
      "\n",
      " BeautifulSoup(YOUR_MARKUP, \"lxml\")\n",
      "\n",
      "  markup_type=markup_type))\n"
     ]
    },
    {
     "name": "stdout",
     "output_type": "stream",
     "text": [
      "Main Page\n",
      "<p><i><b><a href=\"/wiki/Weird_Tales\" title=\"Weird Tales\">Weird Tales</a></b></i> is an American <a href=\"/wiki/Fantasy\" title=\"Fantasy\">fantasy</a> and <a href=\"/wiki/Horror_fiction\" title=\"Horror fiction\">horror fiction</a> <a href=\"/wiki/Pulp_magazine\" title=\"Pulp magazine\">pulp magazine</a> founded by J. C. Henneberger and J. M. Lansinger in March 1923. The first editor, <a href=\"/wiki/Edwin_Baird\" title=\"Edwin Baird\">Edwin Baird</a>, printed early work by <a href=\"/wiki/H._P._Lovecraft\" title=\"H. P. Lovecraft\">H. P. Lovecraft</a>, <a href=\"/wiki/Seabury_Quinn\" title=\"Seabury Quinn\">Seabury Quinn</a>, and <a href=\"/wiki/Clark_Ashton_Smith\" title=\"Clark Ashton Smith\">Clark Ashton Smith</a>, all of whom would go on to be popular writers. Under its second editor, <a href=\"/wiki/Farnsworth_Wright\" title=\"Farnsworth Wright\">Farnsworth Wright</a>, its fiction included Lovecraft's <a href=\"/wiki/Cthulhu_Mythos\" title=\"Cthulhu Mythos\">Cthulhu mythos</a> stories, some of <a href=\"/wiki/Robert_E._Howard\" title=\"Robert E. Howard\">Robert E. Howard</a>'s <a href=\"/wiki/Conan_the_Barbarian\" title=\"Conan the Barbarian\">Conan the Barbarian</a> stories, and Seabury Quinn's series about <a href=\"/wiki/Jules_de_Grandin\" title=\"Jules de Grandin\">Jules de Grandin</a>, a detective who specialized in the supernatural. When the magazine was launched there were none specializing in <a href=\"/wiki/Science_fiction\" title=\"Science fiction\">science fiction</a>, and Wright included stories in that genre by <a href=\"/wiki/Edmond_Hamilton\" title=\"Edmond Hamilton\">Edmond Hamilton</a> and others. After William Delaney took over as publisher, replacing Wright with Dorothy McIlwraith as editor in 1940, some successful new authors and artists, such as <a href=\"/wiki/Ray_Bradbury\" title=\"Ray Bradbury\">Ray Bradbury</a> and <a href=\"/wiki/Hannes_Bok\" title=\"Hannes Bok\">Hannes Bok</a>, continued to appear, but the magazine ceased publication in 1954. It was relaunched many times, including for one run of over 20 years that started in 1988. The magazine is regarded by historians of fantasy as one of the most influential in the genre. (<a href=\"/wiki/Weird_Tales\" title=\"Weird Tales\"><b>Full article...</b></a>)</p>\n",
      "this page is missing something\n",
      "/wiki/Wikipedia\n",
      "Wikipedia\n",
      "<p><b>Wikipedia</b> (<span class=\"nowrap\"><span class=\"IPA nopopups noexcerpt\"><a href=\"/wiki/Help:IPA_for_English\" title=\"Help:IPA for English\">/<span style=\"border-bottom:1px dotted\"><span title=\"/ˌ/ secondary stress follows\">ˌ</span><span title=\"'w' in 'wind'\">w</span><span title=\"/ɪ/ short 'i' in 'bid'\">ɪ</span><span title=\"'k' in 'kind'\">k</span><span title=\"/ɪ/ or /ə/ 'e' in 'roses'\">ᵻ</span><span title=\"/ˈ/ primary stress follows\">ˈ</span><span title=\"'p' in 'pie'\">p</span><span title=\"/iː/ long 'e' in 'seed'\">iː</span><span title=\"'d' in 'dye'\">d</span><span title=\"/i/ 'y' in 'happy'\">i</span><span title=\"/ə/ 'a' in 'about'\">ə</span></span>/</a></span><small class=\"nowrap metadata\"> (<span class=\"unicode haudio\"><span class=\"fn\"><span style=\"white-space:nowrap\"><a href=\"/wiki/File:GT_Wikipedia_BE.ogg\" title=\"About this sound\"><img alt=\"About this sound\" data-file-height=\"20\" data-file-width=\"20\" height=\"11\" src=\"//upload.wikimedia.org/wikipedia/commons/thumb/8/8a/Loudspeaker.svg/11px-Loudspeaker.svg.png\" srcset=\"//upload.wikimedia.org/wikipedia/commons/thumb/8/8a/Loudspeaker.svg/17px-Loudspeaker.svg.png 1.5x, //upload.wikimedia.org/wikipedia/commons/thumb/8/8a/Loudspeaker.svg/22px-Loudspeaker.svg.png 2x\" width=\"11\"/></a> </span><a class=\"internal\" href=\"//upload.wikimedia.org/wikipedia/commons/0/01/GT_Wikipedia_BE.ogg\" title=\"GT Wikipedia BE.ogg\">listen</a></span></span>)</small></span> or <span class=\"nowrap\"><span class=\"IPA nopopups noexcerpt\"><a href=\"/wiki/Help:IPA_for_English\" title=\"Help:IPA for English\">/<span style=\"border-bottom:1px dotted\"><span title=\"/ˌ/ secondary stress follows\">ˌ</span><span title=\"'w' in 'wind'\">w</span><span title=\"/ɪ/ short 'i' in 'bid'\">ɪ</span><span title=\"'k' in 'kind'\">k</span><span title=\"/i/ 'y' in 'happy'\">i</span><span title=\"/ˈ/ primary stress follows\">ˈ</span><span title=\"'p' in 'pie'\">p</span><span title=\"/iː/ long 'e' in 'seed'\">iː</span><span title=\"'d' in 'dye'\">d</span><span title=\"/i/ 'y' in 'happy'\">i</span><span title=\"/ə/ 'a' in 'about'\">ə</span></span>/</a></span><small class=\"nowrap metadata\"> (<span class=\"unicode haudio\"><span class=\"fn\"><span style=\"white-space:nowrap\"><a href=\"/wiki/File:GT_Wikipedia_AE.ogg\" title=\"About this sound\"><img alt=\"About this sound\" data-file-height=\"20\" data-file-width=\"20\" height=\"11\" src=\"//upload.wikimedia.org/wikipedia/commons/thumb/8/8a/Loudspeaker.svg/11px-Loudspeaker.svg.png\" srcset=\"//upload.wikimedia.org/wikipedia/commons/thumb/8/8a/Loudspeaker.svg/17px-Loudspeaker.svg.png 1.5x, //upload.wikimedia.org/wikipedia/commons/thumb/8/8a/Loudspeaker.svg/22px-Loudspeaker.svg.png 2x\" width=\"11\"/></a> </span><a class=\"internal\" href=\"//upload.wikimedia.org/wikipedia/commons/4/4c/GT_Wikipedia_AE.ogg\" title=\"GT Wikipedia AE.ogg\">listen</a></span></span>)</small></span> <a href=\"/wiki/Help:Pronunciation_respelling_key\" title=\"Help:Pronunciation respelling key\"><small title=\"English pronunciation respelling\"><i><b>WIK</b>-i-<b>PEE</b>-dee-ə</i></small></a>) is a free <a href=\"/wiki/Online_encyclopedia\" title=\"Online encyclopedia\">online encyclopedia</a> with the aim to allow anyone to edit articles.<sup class=\"reference\" id=\"cite_ref-6\"><a href=\"#cite_note-6\">[3]</a></sup> Wikipedia is the largest and most popular general <a href=\"/wiki/Reference_work\" title=\"Reference work\">reference work</a> on the Internet<sup class=\"reference\" id=\"cite_ref-Tancer_7-0\"><a href=\"#cite_note-Tancer-7\">[4]</a></sup><sup class=\"reference\" id=\"cite_ref-Woodson_8-0\"><a href=\"#cite_note-Woodson-8\">[5]</a></sup><sup class=\"reference\" id=\"cite_ref-9\"><a href=\"#cite_note-9\">[6]</a></sup> and is ranked among the ten most popular websites.<sup class=\"reference\" id=\"cite_ref-Alexa_siteinfo_10-0\"><a href=\"#cite_note-Alexa_siteinfo-10\">[7]</a></sup> Wikipedia is owned by the nonprofit <a href=\"/wiki/Wikimedia_Foundation\" title=\"Wikimedia Foundation\">Wikimedia Foundation</a>.<sup class=\"reference\" id=\"cite_ref-11\"><a href=\"#cite_note-11\">[8]</a></sup><sup class=\"reference\" id=\"cite_ref-12\"><a href=\"#cite_note-12\">[9]</a></sup><sup class=\"reference\" id=\"cite_ref-13\"><a href=\"#cite_note-13\">[10]</a></sup></p>\n",
      "this page is missing something\n",
      "/wiki/Wikipedia:Protection_policy#semi\n",
      "Wikipedia:Protection policy\n",
      "<p><br/></p>\n",
      "this page is missing something\n",
      "/wiki/Wikipedia:Requests_for_page_protection\n",
      "Wikipedia:Requests for page protection\n",
      "<p>This page is for requesting that a page, file or template be <b>fully protected</b>, <b>create protected</b> (<a href=\"/wiki/Wikipedia:Protection_policy#Creation_protection\" title=\"Wikipedia:Protection policy\">salted</a>), <b>extended confirmed protected</b>, <b>semi-protected</b>, added to <b>pending changes</b>, <b>move-protected</b>, <b>template protected</b> (template-specific), <b>upload protected</b> (file-specific), or <b>unprotected</b>. Please read up on the <a href=\"/wiki/Wikipedia:Protection_policy\" title=\"Wikipedia:Protection policy\">protection policy</a>. Full protection is used to stop edit warring between multiple users or to prevent vandalism to <a href=\"/wiki/Wikipedia:High-risk_templates\" title=\"Wikipedia:High-risk templates\">high-risk templates</a>, semi-protection and pending changes are usually used only to prevent IP and new user vandalism (see the <a href=\"/wiki/Wikipedia:Rough_guide_to_semi-protection\" title=\"Wikipedia:Rough guide to semi-protection\">rough guide to semi-protection</a>), and move protection is used to stop <a href=\"/wiki/Wikipedia:Moving_a_page\" title=\"Wikipedia:Moving a page\">pagemove</a> revert wars.</p>\n",
      "/w/index.php?title=Wikipedia:Requests_for_page_protection&action=edit\n",
      "/wiki/Wikipedia:Requests_for_permissions\n",
      "Wikipedia:Requests for permissions\n",
      "<p><span class=\"sysop-show\" id=\"coordinates\"><a href=\"/wiki/Wikipedia:Requests_for_permissions/Administrator_instructions\" title=\"Wikipedia:Requests for permissions/Administrator instructions\">Administrator instructions</a></span></p>\n",
      "this page is missing something\n",
      "/wiki/Wikipedia:Requesting_copyright_permission\n"
     ]
    },
    {
     "name": "stdout",
     "output_type": "stream",
     "text": [
      "Wikipedia:Requesting copyright permission\n",
      "<p>To use copyrighted material on Wikipedia, it is <i>not enough</i> that we have permission to use it on Wikipedia alone. That's because Wikipedia itself states all its material may be used by anyone, for any purpose. So we have to be sure all material is in fact licensed for that purpose, whoever provided it.</p>\n",
      "/w/index.php?title=Wikipedia:Requesting_copyright_permission&action=edit\n",
      "/wiki/Wikipedia:User_access_levels\n",
      "Wikipedia:User access levels\n",
      "<p>The <b>user access level</b> of an editor affects their ability to perform certain actions on Wikipedia; it depends on which <i>rights</i> (also called <i>permissions</i>, <i><a href=\"/wiki/Internet_forum#User_groups\" title=\"Internet forum\">user groups</a></i>, <a class=\"mw-redirect\" href=\"/wiki/Bit_(computing)\" title=\"Bit (computing)\"><i>bits</i></a> or <a class=\"mw-redirect\" href=\"/wiki/Flag_(computing)\" title=\"Flag (computing)\"><i>flags</i></a>) are assigned to accounts. This is determined by whether the editor is <a class=\"mw-redirect\" href=\"/wiki/Wikipedia:Logging_in\" title=\"Wikipedia:Logging in\">logged into</a> an account, and whether the account has a sufficient age and number of edits for certain automatic rights, and what additional rights have been assigned manually to the account.</p>\n",
      "this page is missing something\n",
      "/wiki/Wikipedia:Requests_for_adminship\n",
      "Wikipedia:Requests for adminship\n",
      "<p><input class=\"mw-inputbox-input searchboxInput mw-ui-input mw-ui-input-inline\" dir=\"ltr\" name=\"search\" placeholder=\"\" size=\"30\" type=\"text\" value=\"\"/><input name=\"prefix\" type=\"hidden\" value=\"Wikipedia:Requests for adminship/\"/><br/>\n",
      "<input class=\"mw-ui-button\" name=\"fulltext\" type=\"submit\" value=\"Search RfA\"/><input name=\"fulltext\" type=\"hidden\" value=\"Search\"/></p>\n",
      "this page is missing something\n",
      "/wiki/Wikipedia:Requested_articles\n",
      "Wikipedia:Requested articles\n",
      "<p>First, check that the article you're looking for doesn't already exist:</p>\n",
      "this page is missing something\n",
      "/wiki/Wikipedia:Recent_additions\n",
      "Wikipedia:Recent additions\n",
      "<p>This is a record of material that was recently featured on the <a href=\"/wiki/Main_Page\" title=\"Main Page\">Main Page</a> as part of <a href=\"/wiki/Template:Did_you_know\" title=\"Template:Did you know\">Did you know?</a>. Recently created <a href=\"/wiki/Special:NewPages\" title=\"Special:NewPages\">new articles</a>, greatly expanded former <a href=\"/wiki/Wikipedia:Stub\" title=\"Wikipedia:Stub\">stub articles</a>, and recently promoted <a class=\"mw-redirect\" href=\"/wiki/Wikipedia:GA\" title=\"Wikipedia:GA\">Good Articles</a> are eligible, and you can <b><a href=\"/wiki/Template_talk:Did_you_know\" title=\"Template talk:Did you know\">submit them for consideration</a></b>.</p>\n",
      "this page is missing something\n",
      "/wiki/Wikipedia:Shortcut\n",
      "Wikipedia:Shortcut\n",
      "<p>A <b>shortcut</b> is a specialized type of <a href=\"/wiki/Wikipedia:Redirect\" title=\"Wikipedia:Redirect\">redirect page</a> that provides an abbreviated <a class=\"mw-redirect\" href=\"/wiki/Wikilink\" title=\"Wikilink\">wikilink</a> to a project page or one of its sections, usually from the <b><a href=\"/wiki/Wikipedia:Project_namespace\" title=\"Wikipedia:Project namespace\">Wikipedia namespace</a></b> and <b><a href=\"/wiki/Wikipedia:Help_namespace\" title=\"Wikipedia:Help namespace\">Help namespace</a></b>. They are commonly used on community pages and talk pages, but should not be used in articles themselves. If there is a shortcut for a page or section, it is usually displayed in an information box labelled <i>Shortcuts:</i>, as can be seen at the top of this page.</p>\n",
      "this page is missing something\n",
      "/wiki/Wikipedia:Keyboard_shortcuts\n",
      "Wikipedia:Keyboard shortcuts\n",
      "<p>The <a href=\"/wiki/MediaWiki\" title=\"MediaWiki\">MediaWiki</a> software contains many <a href=\"/wiki/Keyboard_shortcut\" title=\"Keyboard shortcut\">keyboard shortcuts</a>. You can use them to access certain features of Wikipedia more quickly.</p>\n",
      "this page is missing something\n",
      "/wiki/Wikipedia:WikiProject_Kansas\n",
      "Wikipedia:WikiProject Kansas\n",
      "<p><span style=\"font-size:100%;font-weight:bold;border: none; margin: 0; padding:0; padding-bottom:.1em; color:#FFD700;\"><a class=\"image\" href=\"/wiki/File:Seal_of_Kansas.svg\"><img alt=\"Seal of Kansas.svg\" data-file-height=\"600\" data-file-width=\"600\" height=\"48\" src=\"//upload.wikimedia.org/wikipedia/commons/thumb/4/45/Seal_of_Kansas.svg/48px-Seal_of_Kansas.svg.png\" srcset=\"//upload.wikimedia.org/wikipedia/commons/thumb/4/45/Seal_of_Kansas.svg/72px-Seal_of_Kansas.svg.png 1.5x, //upload.wikimedia.org/wikipedia/commons/thumb/4/45/Seal_of_Kansas.svg/96px-Seal_of_Kansas.svg.png 2x\" width=\"48\"/></a><br/>\n",
      "<i>Welcome</i></span></p>\n",
      "/w/index.php?title=Wikipedia:WikiProject_Kansas&action=edit\n",
      "/wiki/File:Seal_of_Kansas.svg\n",
      "File:Seal of Kansas.svg\n",
      "<p>The Great Seal of the State of Kansas</p>\n",
      "this page is missing something\n",
      "/wiki/Special:WhatLinksHere/File:Seal_of_Kansas.svg\n",
      "Pages that link to \"File:Seal of Kansas.svg\"\n",
      "<p>The following pages link to <b><span id=\"specialDeleteTarget\"><a href=\"/wiki/File:Seal_of_Kansas.svg\" title=\"File:Seal of Kansas.svg\">File:Seal of Kansas.svg</a></span></b>\n",
      "<span id=\"specialDeleteLink\"></span>\n",
      "</p>\n",
      "this page is missing something\n",
      "/wiki/Help:What_links_here\n",
      "Help:What links here\n",
      "<p>Within the Toolbox section on the left-hand side of every page is a link labeled \"<b>What links here</b>\". This is used to see a list of the pages that <a href=\"/wiki/Help:Link\" title=\"Help:Link\">link</a> to (or <a href=\"/wiki/Wikipedia:Redirect\" title=\"Wikipedia:Redirect\">redirect</a> to, or <a href=\"/wiki/Wikipedia:Transclusion\" title=\"Wikipedia:Transclusion\">transclude</a>) the current page. These are sometimes referred to as <b><a href=\"/wiki/Backlink\" title=\"Backlink\">backlinks</a></b>.</p>\n",
      "this page is missing something\n",
      "/wiki/Wikipedia:Information_pages\n",
      "Wikipedia:Project namespace\n",
      "<p>Project pages are for information or discussion about Wikipedia. They should be used to allow Wikipedians to better participate in the community, and not used to excess for unrelated purposes nor to bring the project into disrepute.</p>\n",
      "this page is missing something\n",
      "/wiki/Wikipedia:Policies_and_guidelines\n",
      "Wikipedia:Policies and guidelines\n",
      "<p>Wikipedia <b>policies and guidelines</b> are developed by the community to describe best practices, clarify principles, resolve conflicts, and otherwise further our goal of creating a free, reliable encyclopedia. There is no need to read any policy or guideline pages to start editing. The <a href=\"/wiki/Wikipedia:Five_pillars\" title=\"Wikipedia:Five pillars\">five pillars</a> is a popular summary of the most pertinent principles.</p>\n",
      "this page is missing something\n",
      "/wiki/Category:Wikipedia_procedural_policies\n",
      "Category:Wikipedia procedural policies\n",
      "<p>The following 17 pages are in this category, out of 17 total. This list may not reflect recent changes (<a href=\"/wiki/Wikipedia:FAQ/Categorization#Why_might_a_category_list_not_be_up_to_date.3F\" title=\"Wikipedia:FAQ/Categorization\">learn more</a>).\n",
      "</p>\n",
      "/w/index.php?title=Category:Wikipedia_procedural_policies&action=edit\n",
      "/wiki/Wikipedia:List_of_policies#Procedural\n",
      "Wikipedia:List of policies\n",
      "<p>Where <a href=\"/wiki/Wikipedia:Policies_and_guidelines#Conflicts_between_advice_pages\" title=\"Wikipedia:Policies and guidelines\">a discrepancy exists</a>, the policy page itself overrides. Changing this page does not change policy. Likewise, adding a page to this summary does not elevate it to policy status. Policies are promoted through consensus. See <a href=\"/wiki/Wikipedia:Policies_and_guidelines\" title=\"Wikipedia:Policies and guidelines\">Wikipedia:Policies and guidelines</a> for more.</p>\n",
      "this page is missing something\n",
      "/wiki/Template:Nutshell\n",
      "Template:Nutshell\n",
      "<p>This template presents a <a class=\"mw-redirect\" href=\"/wiki/Wikipedia:TRITE\" title=\"Wikipedia:TRITE\">concise</a> summary at the top of <a href=\"/wiki/Wikipedia:Administration#Data_structure_and_development\" title=\"Wikipedia:Administration\">administration pages</a>. It is placed below the title and other infoboxes and above the first paragraph of the main body.</p>\n",
      "this page is missing something\n",
      "/wiki/Wikipedia:Protection_policy#template\n",
      "Wikipedia:Protection policy\n",
      "<p><br/></p>\n",
      "this page is missing something\n",
      "/wiki/Wikipedia:Lists_of_protected_pages\n"
     ]
    },
    {
     "name": "stdout",
     "output_type": "stream",
     "text": [
      "Wikipedia:Lists of protected pages\n",
      "<p>This is a list of resources available that list pages that are <b><a href=\"/wiki/Wikipedia:Protection_policy\" title=\"Wikipedia:Protection policy\">protected</a></b>, <b><a href=\"/wiki/Wikipedia:Protection_policy#Semi-protection\" title=\"Wikipedia:Protection policy\">semi-protected</a></b> or <b><a href=\"/wiki/Wikipedia:Protection_policy#Move_protected\" title=\"Wikipedia:Protection policy\">move protected</a>.</b></p>\n",
      "this page is missing something\n",
      "/wiki/Wikipedia:Protection_policy\n",
      "Wikipedia:Protection policy\n",
      "<p><br/></p>\n",
      "this page is missing something\n",
      "/wiki/Wikipedia:Perennial_proposals\n",
      "Wikipedia:Perennial proposals\n",
      "<p>This is a list of things that are frequently proposed on Wikipedia, and have been <a class=\"mw-redirect\" href=\"/wiki/Wikipedia:Rejected_proposals\" title=\"Wikipedia:Rejected proposals\">rejected by the community</a> several times in the past. It should be noted that merely listing something on this page does not mean it will never happen, but that it has been discussed before and never met consensus. <a class=\"mw-redirect\" href=\"/wiki/Wikipedia:Consensus_can_change\" title=\"Wikipedia:Consensus can change\">Consensus can change</a>, and some proposals that remained on this page for a long time have finally been proposed in a way that reached consensus, but you should address rebuttals raised in the past if you make a proposal along these lines. If you feel you would still like to do one of these proposals, then raise it at the <a href=\"/wiki/Wikipedia:Village_pump\" title=\"Wikipedia:Village pump\">Wikipedia:Village pump</a>.</p>\n",
      "/w/index.php?title=Wikipedia:Perennial_proposals&action=edit\n",
      "/wiki/Wikipedia:Consensus\n",
      "Wikipedia:Consensus\n",
      "<p><b>Consensus</b> refers to the primary way decisions are made on Wikipedia, and it is accepted as the best method to achieve <a class=\"mw-redirect\" href=\"/wiki/Wikipedia:Goals\" title=\"Wikipedia:Goals\">our goals</a>; i.e., to achieve our five pillars. <i>Consensus</i> on Wikipedia does not mean unanimity (which, although an ideal result, is not always achievable); nor is it the result of a <a href=\"/wiki/Wikipedia:Polling_is_not_a_substitute_for_discussion\" title=\"Wikipedia:Polling is not a substitute for discussion\">vote</a>. Decision-making involves an effort to incorporate all editors' legitimate concerns, while respecting Wikipedia's <a href=\"/wiki/Wikipedia:Policies_and_guidelines\" title=\"Wikipedia:Policies and guidelines\">policies and guidelines</a>.</p>\n",
      "this page is missing something\n",
      "/wiki/Wikipedia:Conflict_of_interest\n",
      "Wikipedia:Conflict of interest\n",
      "<p><b>Conflict of interest</b> (<b>COI</b>) <b>editing</b> involves contributing to Wikipedia about yourself, family, friends, clients, employers, or your financial and other relationships. Any <a href=\"#What_is_conflict_of_interest.3F\">external relationship</a> can trigger a <a href=\"/wiki/Conflict_of_interest\" title=\"Conflict of interest\">conflict of interest</a>.<sup class=\"reference\" id=\"cite_ref-4\"><a href=\"#cite_note-4\">[a]</a></sup> That someone has a conflict of interest is a description of a situation, not a judgment about that person's opinions or integrity.<sup class=\"reference\" id=\"cite_ref-7\"><a href=\"#cite_note-7\">[b]</a></sup></p>\n",
      "/w/index.php?title=Wikipedia:Conflict_of_interest&action=edit\n",
      "/wiki/Wikipedia:Protection_policy#move\n",
      "Wikipedia:Protection policy\n",
      "<p><br/></p>\n",
      "this page is missing something\n",
      "/wiki/Wikipedia:WPPP\n",
      "Wikipedia:WikiProject Parliamentary Procedure\n",
      "<p><b>WikiProject Parliamentary Procedure</b> is devoted to improving the quality and comprehensiveness of articles on topics related to <a href=\"/wiki/Parliamentary_procedure\" title=\"Parliamentary procedure\">parliamentary procedure</a>.</p>\n",
      "/w/index.php?title=Wikipedia:WikiProject_Parliamentary_Procedure&action=edit\n",
      "/wiki/File:People_icon.svg\n",
      "File:People icon.svg\n",
      "<p>People icon</p>\n",
      "this page is missing something\n",
      "/wiki/Special:WhatLinksHere/File:People_icon.svg\n",
      "Pages that link to \"File:People icon.svg\"\n",
      "<p>The following pages link to <b><span id=\"specialDeleteTarget\"><a href=\"/wiki/File:People_icon.svg\" title=\"File:People icon.svg\">File:People icon.svg</a></span></b>\n",
      "<span id=\"specialDeleteLink\"></span>\n",
      "</p>\n",
      "this page is missing something\n",
      "/wiki/Anarchism\n",
      "Anarchism\n",
      "<p><b>Anarchism</b> is a <a href=\"/wiki/Political_philosophy\" title=\"Political philosophy\">political philosophy</a> that advocates <a href=\"/wiki/Self-governance\" title=\"Self-governance\">self-governed</a> societies based on voluntary institutions. These are often described as <a href=\"/wiki/Stateless_society\" title=\"Stateless society\">stateless societies</a>,<sup class=\"reference\" id=\"cite_ref-1\"><a href=\"#cite_note-1\">[1]</a></sup><sup class=\"reference\" id=\"cite_ref-2\"><a href=\"#cite_note-2\">[2]</a></sup><sup class=\"reference\" id=\"cite_ref-3\"><a href=\"#cite_note-3\">[3]</a></sup><sup class=\"reference\" id=\"cite_ref-4\"><a href=\"#cite_note-4\">[4]</a></sup> although several authors have defined them more specifically as institutions based on non-<a href=\"/wiki/Hierarchy\" title=\"Hierarchy\">hierarchical</a> <a href=\"/wiki/Free_association_(communism_and_anarchism)\" title=\"Free association (communism and anarchism)\">free associations</a>.<sup class=\"reference\" id=\"cite_ref-5\"><a href=\"#cite_note-5\">[5]</a></sup><sup class=\"reference\" id=\"cite_ref-iaf-ifa.org_6-0\"><a href=\"#cite_note-iaf-ifa.org-6\">[6]</a></sup><sup class=\"reference\" id=\"cite_ref-7\"><a href=\"#cite_note-7\">[7]</a></sup><sup class=\"reference\" id=\"cite_ref-8\"><a href=\"#cite_note-8\">[8]</a></sup> Anarchism holds the <a href=\"/wiki/State_(polity)\" title=\"State (polity)\">state</a> to be undesirable, unnecessary, and harmful.<sup class=\"reference\" id=\"cite_ref-definition_9-0\"><a href=\"#cite_note-definition-9\">[9]</a></sup><sup class=\"reference\" id=\"cite_ref-slevin_10-0\"><a href=\"#cite_note-slevin-10\">[10]</a></sup></p>\n",
      "/w/index.php?title=Anarchism&action=edit\n",
      "/wiki/Wikipedia:Good_articles\n",
      "Wikipedia:Good articles\n",
      "<p><span style=\"font-size:16pt\">Good articles in Wikipedia</span><br/></p>\n",
      "this page is missing something\n",
      "/wiki/Wikipedia_talk:Good_article_nominations\n",
      "Wikipedia talk:Good article nominations\n",
      "<p>This is the <b>discussion</b> page of the <a href=\"/wiki/Wikipedia:Good_article_nominations\" title=\"Wikipedia:Good article nominations\">good article nominations</a> (GAN). To ask a question or start a discussion about the good article nomination process, click the New section link above. Questions may also be asked at the <a href=\"/wiki/Wikipedia:Good_article_help\" title=\"Wikipedia:Good article help\">GA Help desk</a>. To check and see if your question may already be answered, click to show the frequently asked questions below or search the archives below.</p>\n",
      "/w/index.php?title=Wikipedia_talk:Good_article_nominations&action=edit\n",
      "/wiki/Wikipedia:Good_article_nominations\n",
      "Wikipedia:Good article nominations\n",
      "<p><span id=\"checklinks-generator\" title=\"all\"></span><span id=\"checklinks-convert\" title=\"None\"></span><span id=\"checklinks-namespaces\" title=\"0\"></span><span id=\"checklinks-redirects\" title=\"\"></span></p>\n",
      "this page is missing something\n",
      "/wiki/Wikipedia:Good_article_reassessment\n",
      "Wikipedia:Good article reassessment\n",
      "<p><b>Good article reassessment</b> (GAR) is a process primarily used to determine whether an article that is listed as <a class=\"mw-redirect\" href=\"/wiki/Wikipedia:Good_article\" title=\"Wikipedia:Good article\">good article</a> (GA) still merits its good article status according to the <a href=\"/wiki/Wikipedia:Good_article_criteria\" title=\"Wikipedia:Good article criteria\">good article criteria</a>, and to <b>delist</b> it if not. There are two types of reassessment: <b>individual reassessment</b> and <b>community reassessment</b>. An individual reassessment is discussed on the article talk page and concluded by a single user in much the same way as a review of a <a class=\"mw-redirect\" href=\"/wiki/Wikipedia:GAN\" title=\"Wikipedia:GAN\">good article nomination</a>. Community reassessments are listed for discussion <a href=\"#Articles_listed_for_community_reassessment\">on this page</a> and are concluded according to consensus. Where possible, editors should conduct an individual reassessment, while community reassessment should be used if delisting is likely to be controversial. Community reassessments can also be used to challenge a previous delisting or a fail during a good article nomination. This is not a peer review process; for that use <a href=\"/wiki/Wikipedia:Peer_review\" title=\"Wikipedia:Peer review\">Wikipedia:Peer review</a>. The outcome of a reassessment should <i>only</i> depend on whether the article being reassessed meets the good article criteria or not.</p>\n",
      "/w/index.php?title=Wikipedia:Good_article_reassessment&action=edit\n",
      "/wiki/Wikipedia:WikiProject_Good_articles/GA_Cup\n"
     ]
    },
    {
     "name": "stdout",
     "output_type": "stream",
     "text": [
      "Wikipedia:WikiProject Good articles/GA Cup\n",
      "<p>The <b>GA Cup</b> is a championship on Wikipedia focusing solely on Good Articles. Established in 2014, the 2016–2017 GA Cup is our fourth competition. The Cup will be played and won by <a class=\"mw-redirect\" href=\"/wiki/Wikipedia:GAC\" title=\"Wikipedia:GAC\">reviewing</a> <a class=\"mw-redirect\" href=\"/wiki/Wikipedia:GA\" title=\"Wikipedia:GA\">Good article</a> nominations and being part of <a class=\"mw-redirect\" href=\"/wiki/Wikipedia:GAR\" title=\"Wikipedia:GAR\">Good article reassessments</a>. The purpose of the GA Cup is to encourage high-quality reviews and promotions of Good Articles, and to help decrease the traditionally long queue of <a href=\"/wiki/Wikipedia:Good_article_nominations\" title=\"Wikipedia:Good article nominations\">good article nominations</a>. The competition is open to all editors, new and old, although it is recommended they have a <b>good knowledge</b> about the process of reviewing articles. For newer editors, you can read <a href=\"/wiki/Wikipedia:Good_article_nominations/Instructions\" title=\"Wikipedia:Good article nominations/Instructions\">these instructions</a> that may help you while reviewing articles. If you are interested in following the GA Cup, please add your name to <a href=\"/wiki/Wikipedia:WikiProject_Good_articles/GA_Cup/Newsletter/Send\" title=\"Wikipedia:WikiProject Good articles/GA Cup/Newsletter/Send\">this list.</a> All participants will be added automatically.</p>\n",
      "/w/index.php?title=Wikipedia:WikiProject_Good_articles/GA_Cup&action=edit\n",
      "/wiki/Wikipedia:WikiProject_Good_articles\n",
      "Wikipedia:WikiProject Good articles\n",
      "<p><br/></p>\n",
      "/w/index.php?title=Wikipedia:WikiProject_Good_articles&action=edit\n",
      "/wiki/Wikipedia:WikiProject\n",
      "Wikipedia:WikiProject\n",
      "<p><input class=\"mw-inputbox-input searchboxInput mw-ui-input mw-ui-input-inline\" dir=\"ltr\" name=\"search\" placeholder=\"\" size=\"15\" type=\"text\" value=\"\"/><input name=\"prefix\" type=\"hidden\" value=\"Wikipedia:WikiProject\"/><br/>\n",
      "<input class=\"mw-ui-button\" name=\"fulltext\" type=\"submit\" value=\"Search\"/><input name=\"fulltext\" type=\"hidden\" value=\"Search\"/></p>\n",
      "this page is missing something\n",
      "/wiki/Wikipedia:Wikimedia_sister_projects\n",
      "Wikipedia:Wikimedia sister projects\n",
      "<p><b>Wikimedia sister projects</b> are all the publicly available <a href=\"/wiki/Wiki\" title=\"Wiki\">wikis</a> operated by the <a href=\"/wiki/Wikimedia_Foundation\" title=\"Wikimedia Foundation\">Wikimedia Foundation</a>, including Wikipedia. This guideline covers Wikipedia's relations to the sister projects, including linking and copying content between a Wikipedia article and a sister project's article.</p>\n",
      "this page is missing something\n",
      "/wiki/Help:Interwikimedia_links\n",
      "Help:Interwikimedia links\n",
      "<p>An <b>interwikimedia link</b> is a <a class=\"mw-redirect\" href=\"/wiki/Help:Contents/Links\" title=\"Help:Contents/Links\">link</a> from a <a href=\"/wiki/Wikipedia:Wikimedia_Foundation\" title=\"Wikipedia:Wikimedia Foundation\">Wikimedia Foundation</a>-supported project to another one (e.g., from <a href=\"/wiki/Wikipedia\" title=\"Wikipedia\">Wikipedia</a> to <a href=\"/wiki/Wiktionary\" title=\"Wiktionary\">Wiktionary</a>).</p>\n",
      "/w/index.php?title=Help:Interwikimedia_links&action=edit\n",
      "/wiki/Help:Interlanguage_links\n",
      "Help:Interlanguage links\n",
      "<p><b>Interlanguage links</b> are links from a page in one <a href=\"/wiki/Wikipedia\" title=\"Wikipedia\">Wikipedia</a> language to an equivalent page in another language. These links can appear in two places:</p>\n",
      "/w/index.php?title=Help:Interlanguage_links&action=edit\n",
      "/wiki/List_of_ISO_639-1_codes\n",
      "List of ISO 639-1 codes\n",
      "<p><a href=\"/wiki/ISO_639\" title=\"ISO 639\">ISO 639</a> is a standardized nomenclature used to classify <a href=\"/wiki/Language\" title=\"Language\">languages</a>. Each language is assigned a two-letter (639-1) and three-letter (639-2 and 639-3), lowercase abbreviation, amended in later versions of the nomenclature. The system is highly useful for linguists and ethnographers to categorize the languages spoken on a regional basis, and to compute analysis in the field of <a href=\"/wiki/Lexicostatistics\" title=\"Lexicostatistics\">lexicostatistics</a>.</p>\n",
      "/w/index.php?title=List_of_ISO_639-1_codes&action=edit\n",
      "/wiki/File:Question_book-new.svg\n",
      "File:Question book-new.svg\n",
      "<p><b>English:</b>  A new incarnation of <a href=\"/wiki/File:Question_book-3.svg\" title=\"File:Question book-3.svg\">Image:Question_book-3.svg</a>, which was uploaded by user <a href=\"/wiki/User:AzaToth\" title=\"User:AzaToth\">AzaToth</a></p>\n",
      "/w/index.php?title=File:Question_book-new.svg&action=edit\n",
      "/wiki/Wikipedia:Protection_policy#full\n",
      "Wikipedia:Protection policy\n",
      "<p><br/></p>\n",
      "this page is missing something\n",
      "/wiki/Wikipedia:Child_protection\n",
      "Wikipedia:Child protection\n",
      "<p>Wikipedia regards the safety of children using the site as a key issue. Editors who attempt to use Wikipedia to pursue or facilitate inappropriate adult–child relationships, who advocate inappropriate adult–child relationships on- or off-wiki (e.g. by expressing the view that inappropriate relationships are not harmful to children), or who identify themselves as <a href=\"/wiki/Pedophilia\" title=\"Pedophilia\">pedophiles</a>, will be <a class=\"mw-redirect\" href=\"/wiki/Wikipedia:BLOCK\" title=\"Wikipedia:BLOCK\">blocked</a> indefinitely.</p>\n",
      "/w/index.php?title=Wikipedia:Child_protection&action=edit\n",
      "/wiki/Wikipedia:Biographies_of_living_people\n",
      "Wikipedia:Biographies of living persons\n",
      "<p>Editors must take particular care when adding <b>information about living persons</b> to <i>any</i> Wikipedia page.<sup class=\"reference\" id=\"cite_ref-1\"><a href=\"#cite_note-1\">[a]</a></sup> Such material requires a high degree of sensitivity, and must adhere <i>strictly</i> to all applicable laws in the United States, to this policy, and to Wikipedia's three core content policies:</p>\n",
      "this page is missing something\n",
      "/wiki/Wikipedia:Biographies_of_living_persons/Noticeboard\n",
      "Wikipedia:Biographies of living persons/Noticeboard\n",
      "<p><input class=\"mw-inputbox-input searchboxInput mw-ui-input mw-ui-input-inline\" dir=\"ltr\" name=\"search\" placeholder=\"\" size=\"40\" type=\"text\" value=\"\"/><input name=\"prefix\" type=\"hidden\" value=\"Wikipedia:Biographies of living persons/Noticeboard/\"/><br/>\n",
      "<input class=\"mw-ui-button\" name=\"fulltext\" type=\"submit\" value=\"Search\"/><input name=\"fulltext\" type=\"hidden\" value=\"Search\"/></p>\n",
      "/w/index.php?title=Wikipedia:Biographies_of_living_persons/Noticeboard&action=edit\n",
      "/wiki/Wikipedia:Biographies_of_living_persons\n",
      "Wikipedia:Biographies of living persons\n",
      "<p>Editors must take particular care when adding <b>information about living persons</b> to <i>any</i> Wikipedia page.<sup class=\"reference\" id=\"cite_ref-1\"><a href=\"#cite_note-1\">[a]</a></sup> Such material requires a high degree of sensitivity, and must adhere <i>strictly</i> to all applicable laws in the United States, to this policy, and to Wikipedia's three core content policies:</p>\n",
      "this page is missing something\n",
      "/wiki/Wikipedia:ALIVE\n",
      "Wikipedia:Biographies of living persons\n",
      "<p>Editors must take particular care when adding <b>information about living persons</b> to <i>any</i> Wikipedia page.<sup class=\"reference\" id=\"cite_ref-1\"><a href=\"#cite_note-1\">[a]</a></sup> Such material requires a high degree of sensitivity, and must adhere <i>strictly</i> to all applicable laws in the United States, to this policy, and to Wikipedia's three core content policies:</p>\n",
      "this page is missing something\n",
      "/wiki/Wikipedia:BLP\n",
      "Wikipedia:Biographies of living persons\n",
      "<p>Editors must take particular care when adding <b>information about living persons</b> to <i>any</i> Wikipedia page.<sup class=\"reference\" id=\"cite_ref-1\"><a href=\"#cite_note-1\">[a]</a></sup> Such material requires a high degree of sensitivity, and must adhere <i>strictly</i> to all applicable laws in the United States, to this policy, and to Wikipedia's three core content policies:</p>\n",
      "this page is missing something\n",
      "/wiki/Wikipedia:LIVE\n",
      "Wikipedia:Biographies of living persons\n",
      "<p>Editors must take particular care when adding <b>information about living persons</b> to <i>any</i> Wikipedia page.<sup class=\"reference\" id=\"cite_ref-1\"><a href=\"#cite_note-1\">[a]</a></sup> Such material requires a high degree of sensitivity, and must adhere <i>strictly</i> to all applicable laws in the United States, to this policy, and to Wikipedia's three core content policies:</p>\n",
      "this page is missing something\n",
      "/wiki/Wikipedia:What_%22Ignore_all_rules%22_means#Use_common_sense\n"
     ]
    },
    {
     "name": "stdout",
     "output_type": "stream",
     "text": [
      "Wikipedia:What \"Ignore all rules\" means\n",
      "<p></p>\n",
      "this page is missing something\n",
      "/wiki/File:Essay.svg\n",
      "File:Essay.svg\n",
      "<p><span class=\"licensetpl_link\" style=\"display:none;\">http://creativecommons.org/licenses/by-sa/2.5</span> <span class=\"licensetpl_short\" style=\"display:none;\">CC BY-SA 2.5</span> <span class=\"licensetpl_long\" style=\"display:none;\">Creative Commons Attribution-Share Alike 2.5</span> <span class=\"licensetpl_link_req\" style=\"display:none;\">true</span><span class=\"licensetpl_attr_req\" style=\"display:none;\">true</span></p>\n",
      "this page is missing something\n",
      "/wiki/File:Essay.png\n",
      "File:Wikipedia Essay icon.png\n",
      "<p>Any user may perform this transfer, refer to <a href=\"/wiki/Wikipedia:Moving_files_to_Commons\" title=\"Wikipedia:Moving files to Commons\">Wikipedia:Moving files to Commons</a> for details.</p>\n",
      "/w/index.php?title=File:Wikipedia_Essay_icon.png&action=edit\n",
      "/wiki/File:To_Commons.svg\n",
      "File:To Commons.svg\n",
      "<p><span class=\"description en\" lang=\"en\">This file is (or includes) one of the official logos or designs used by the <a href=\"//commons.wikimedia.org/wiki/Wikimedia_Foundation\" title=\"Wikimedia Foundation\">Wikimedia Foundation</a> or by one of its <a href=\"//commons.wikimedia.org/wiki/Wikimedia_project\" title=\"Wikimedia project\">projects</a>. <i>Use of the Wikimedia logos and trademarks is subject to the Wikimedia <b><a class=\"extiw\" href=\"https://wikimediafoundation.org/wiki/Trademark_policy\" title=\"wikimedia:Trademark policy\">trademark policy</a></b> and <b><a class=\"extiw\" href=\"https://wikimediafoundation.org/wiki/Wikimedia_visual_identity_guidelines\" title=\"wikimedia:Wikimedia visual identity guidelines\">visual identity guidelines</a></b>, and may require permission.</i></span><i><br/></i> <small>This tag does not indicate the copyright status of the attached work. A normal <a href=\"//commons.wikimedia.org/wiki/Special:MyLanguage/Commons:Copyright_tags\" title=\"Special:MyLanguage/Commons:Copyright tags\">copyright tag</a> is still required. See <a href=\"//commons.wikimedia.org/wiki/Special:MyLanguage/Commons:Licensing\" title=\"Special:MyLanguage/Commons:Licensing\">Commons:Licensing</a> for more information. </small></p>\n",
      "this page is missing something\n",
      "/wiki/Special:WhatLinksHere/File:To_Commons.svg\n",
      "Pages that link to \"File:To Commons.svg\"\n",
      "<p>The following pages link to <b><span id=\"specialDeleteTarget\"><a href=\"/wiki/File:To_Commons.svg\" title=\"File:To Commons.svg\">File:To Commons.svg</a></span></b>\n",
      "<span id=\"specialDeleteLink\"></span>\n",
      "</p>\n",
      "this page is missing something\n",
      "/wiki/User_talk:Robert_Merkel\n",
      "User talk:Robert Merkel\n",
      "<p><a href=\"/wiki/User_talk:Robert_Merkel/ancient\" title=\"User talk:Robert Merkel/ancient\">User talk:Robert Merkel/ancient</a> <a href=\"/wiki/User_talk:Robert_Merkel/archive_1\" title=\"User talk:Robert Merkel/archive 1\">User talk:Robert Merkel/archive 1</a> <a href=\"/wiki/User_talk:Robert_Merkel/archive_2\" title=\"User talk:Robert Merkel/archive 2\">User talk:Robert Merkel/archive 2</a> <a href=\"/wiki/User_talk:Robert_Merkel/archive_3\" title=\"User talk:Robert Merkel/archive 3\">User talk:Robert Merkel/archive 3</a> <a href=\"/wiki/User_talk:Robert_Merkel/archive_4\" title=\"User talk:Robert Merkel/archive 4\">User talk:Robert Merkel/archive 4</a></p>\n",
      "/w/index.php?title=User_talk:Robert_Merkel&action=edit\n",
      "/wiki/User_talk:Robert_Merkel/ancient\n",
      "User talk:Robert Merkel/ancient\n",
      "<p>Did you write the Bradman article? If so, good work.</p>\n",
      "/w/index.php?title=User_talk:Robert_Merkel/ancient&action=edit\n",
      "/wiki/User:RjLesch\n",
      "User:RjLesch\n",
      "<p>Database developer and project manager, <a href=\"/wiki/Des_Moines,_Iowa\" title=\"Des Moines, Iowa\">Des Moines, Iowa</a>, <a class=\"mw-redirect\" href=\"/wiki/United_States_of_America\" title=\"United States of America\">United States of America</a>.</p>\n",
      "/w/index.php?title=User:RjLesch&action=edit\n",
      "/wiki/Des_Moines,_Iowa\n",
      "Des Moines, Iowa\n",
      "<p><b>Des Moines</b> <span class=\"nowrap\"><span class=\"IPA nopopups noexcerpt\"><a href=\"/wiki/Help:IPA_for_English\" title=\"Help:IPA for English\">/<span style=\"border-bottom:1px dotted\"><span title=\"'d' in 'dye'\">d</span><span title=\"/ɪ/ or /ə/ 'e' in 'roses'\">ᵻ</span><span title=\"/ˈ/ primary stress follows\">ˈ</span><span title=\"'m' in 'my'\">m</span><span title=\"/ɔɪ/ 'oy' in 'boy'\">ɔɪ</span><span title=\"'n' in 'no'\">n</span></span>/</a></span><small class=\"nowrap metadata\"> (<span class=\"unicode haudio\"><span class=\"fn\"><span style=\"white-space:nowrap\"><a href=\"/wiki/File:DesMoines.ogg\" title=\"About this sound\"><img alt=\"About this sound\" data-file-height=\"20\" data-file-width=\"20\" height=\"11\" src=\"//upload.wikimedia.org/wikipedia/commons/thumb/8/8a/Loudspeaker.svg/11px-Loudspeaker.svg.png\" srcset=\"//upload.wikimedia.org/wikipedia/commons/thumb/8/8a/Loudspeaker.svg/17px-Loudspeaker.svg.png 1.5x, //upload.wikimedia.org/wikipedia/commons/thumb/8/8a/Loudspeaker.svg/22px-Loudspeaker.svg.png 2x\" width=\"11\"/></a> </span><a class=\"internal\" href=\"//upload.wikimedia.org/wikipedia/commons/7/79/DesMoines.ogg\" title=\"DesMoines.ogg\">listen</a></span></span>)</small></span> is the <a href=\"/wiki/Capital_city\" title=\"Capital city\">capital</a> and the <a href=\"/wiki/List_of_largest_Iowa_cities_by_population\" title=\"List of largest Iowa cities by population\">most populous</a> city in the <a href=\"/wiki/U.S._state\" title=\"U.S. state\">U.S. state</a> of <a href=\"/wiki/Iowa\" title=\"Iowa\">Iowa</a>. It is also the <a href=\"/wiki/County_seat\" title=\"County seat\">county seat</a> of <a href=\"/wiki/Polk_County,_Iowa\" title=\"Polk County, Iowa\">Polk County</a>. A small part of the city extends into <a href=\"/wiki/Warren_County,_Iowa\" title=\"Warren County, Iowa\">Warren County</a>.<sup class=\"reference\" id=\"cite_ref-7\"><a href=\"#cite_note-7\">[7]</a></sup> It was incorporated on September 22, 1851, as <b>Fort Des Moines</b>, which was shortened to \"Des Moines\" in 1857.<sup class=\"reference\" id=\"cite_ref-8\"><a href=\"#cite_note-8\">[8]</a></sup> It is on and named after the <a href=\"/wiki/Des_Moines_River\" title=\"Des Moines River\">Des Moines River</a>, which likely was adapted from the French colonial name, <i>Rivière des Moines,</i> meaning \"River of the <a href=\"/wiki/Monk\" title=\"Monk\">Monks</a>.\" The city's population was 203,433 as of the <a href=\"/wiki/2010_United_States_Census\" title=\"2010 United States Census\">2010 census</a>.<sup class=\"reference\" id=\"cite_ref-2010pop_9-0\"><a href=\"#cite_note-2010pop-9\">[9]</a></sup> The five-county <a href=\"/wiki/Des_Moines_metropolitan_area\" title=\"Des Moines metropolitan area\">metropolitan area</a> is ranked 89th in terms of population in the <a href=\"/wiki/United_States\" title=\"United States\">United States</a> with 634,725 residents according to the 2016 estimate by the <a href=\"/wiki/United_States_Census_Bureau\" title=\"United States Census Bureau\">United States Census Bureau</a>.<sup class=\"reference\" id=\"cite_ref-msapop_10-0\"><a href=\"#cite_note-msapop-10\">[10]</a></sup></p>\n",
      "/w/index.php?title=Des_Moines,_Iowa&action=edit\n",
      "/wiki/Des_Moines_(disambiguation)\n",
      "Des Moines (disambiguation)\n",
      "<p><b><a href=\"/wiki/Des_Moines,_Iowa\" title=\"Des Moines, Iowa\">Des Moines</a></b> is the capital of the state of Iowa in the United States.</p>\n",
      "/w/index.php?title=Des_Moines_(disambiguation)&action=edit\n",
      "/wiki/Des_Moines_metropolitan_area\n",
      "Des Moines metropolitan area\n",
      "<p><span style=\"font-size: small;\"><span id=\"coordinates\"><a href=\"/wiki/Geographic_coordinate_system\" title=\"Geographic coordinate system\">Coordinates</a>: <span class=\"plainlinks nourlexpansion\"><a class=\"external text\" href=\"//tools.wmflabs.org/geohack/geohack.php?pagename=Des_Moines_metropolitan_area&amp;params=41.555147_N_-93.835831_E_type:adm2nd\"><span class=\"geo-nondefault\"><span class=\"geo-dms\" title=\"Maps, aerial photos, and other data for this location\"><span class=\"latitude\">41°33′19″N</span> <span class=\"longitude\">93°50′09″W</span></span></span><span class=\"geo-multi-punct\">﻿ / ﻿</span><span class=\"geo-default\"><span class=\"geo-dec\" title=\"Maps, aerial photos, and other data for this location\">41.555147°N 93.835831°W</span><span style=\"display:none\">﻿ / <span class=\"geo\">41.555147; -93.835831</span></span></span></a></span></span></span></p>\n",
      "/w/index.php?title=Des_Moines_metropolitan_area&action=edit\n",
      "/wiki/Geographic_coordinate_system\n"
     ]
    },
    {
     "name": "stdout",
     "output_type": "stream",
     "text": [
      "Geographic coordinate system\n",
      "<p>A <b>geographic coordinate system</b> is a <a href=\"/wiki/Coordinate_system\" title=\"Coordinate system\">coordinate system</a> used in <a href=\"/wiki/Geography\" title=\"Geography\">geography</a> that enables every location on Earth to be specified by a set of numbers, letters or symbols.<sup class=\"reference\" id=\"cite_ref-1\"><a href=\"#cite_note-1\">[n 1]</a></sup> The coordinates are often chosen such that one of the numbers represents a <a href=\"/wiki/Altitude\" title=\"Altitude\">vertical position</a>, and two <a href=\"/wiki/N-vector\" title=\"N-vector\">or three</a> of the numbers represent a <a href=\"/wiki/Horizontal_position_representation\" title=\"Horizontal position representation\">horizontal position</a>. A common choice of coordinates is <a href=\"/wiki/Latitude\" title=\"Latitude\">latitude</a>, <a href=\"/wiki/Longitude\" title=\"Longitude\">longitude</a> and <a href=\"/wiki/Elevation\" title=\"Elevation\">elevation</a>.<sup class=\"reference\" id=\"cite_ref-OSGB_2-0\"><a href=\"#cite_note-OSGB-2\">[1]</a></sup></p>\n",
      "/w/index.php?title=Geographic_coordinate_system&action=edit\n",
      "/wiki/File:FedStats_Lat_long.png\n",
      "File:FedStats Lat long.png\n",
      "<p><span class=\"description en\" lang=\"en\" xml:lang=\"en\"><small><b><u>Note</u>: This only applies to original works of the Federal Government and not to the work of any individual <a class=\"extiw\" href=\"https://en.wikipedia.org/wiki/U.S._state\" title=\"en:U.S. state\">U.S. state</a>, <a class=\"extiw\" href=\"https://en.wikipedia.org/wiki/United_States_Territory\" title=\"w:United States Territory\">territory</a>, commonwealth, county, municipality, or any other subdivision. This template also does not apply to postage stamp designs published by the <a class=\"extiw\" href=\"https://en.wikipedia.org/wiki/United_States_Postal_Service\" title=\"w:United States Postal Service\">United States Postal Service</a> <a href=\"//commons.wikimedia.org/wiki/Stamps_of_the_United_States#Copyright-Note_up_to_1978\" title=\"Stamps of the United States\">since 1978</a>. (See § <a class=\"external text\" href=\"http://copyright.gov/comp3/chap300/ch300-copyrightable-authorship.pdf\" rel=\"nofollow\">313.6(C)(1)</a> of Compendium of U.S. Copyright Office Practices). It also does not apply to certain US coins; see <a class=\"external text\" href=\"http://www.usmint.gov/policy/?action=TermsOfUse\" rel=\"nofollow\">The US Mint Terms of Use</a>.</b></small></span></p>\n",
      "this page is missing something\n",
      "/wiki/Special:MyTalk\n",
      "User talk:24.185.40.79\n",
      "<p><b>Other reasons this message may be displayed:</b>\n",
      "</p>\n",
      "/w/index.php?title=User_talk:24.185.40.79&action=edit\n",
      "/wiki/Case_sensitivity\n",
      "Case sensitivity\n",
      "<p>Text sometimes exhibits <b>case sensitivity</b>; that is, words can differ in meaning, or can be distinguished in a computer search, based on differing use of <a href=\"/wiki/Letter_case\" title=\"Letter case\">capital and lowercase letters</a>. Words usually mean the same when written with capital and with lowercase letters, but not always; for example:</p>\n",
      "/w/index.php?title=Case_sensitivity&action=edit\n",
      "/wiki/File:Case-sensitive.webm\n",
      "File:Case-sensitive.webm\n",
      "<p><span class=\"licensetpl_link\" style=\"display:none;\">http://creativecommons.org/publicdomain/zero/1.0/deed.en</span><span class=\"licensetpl_short\" style=\"display:none;\">CC0</span><span class=\"licensetpl_long\" style=\"display:none;\">Creative Commons Zero, Public Domain Dedication</span><span class=\"licensetpl_link_req\" style=\"display:none;\">false</span><span class=\"licensetpl_attr_req\" style=\"display:none;\">false</span></p>\n",
      "this page is missing something\n",
      "/wiki/User:Harunst21\n",
      "User:Harunst21\n",
      "<p>Text sometimes exhibits <b>case sensitivity</b>; that is, words can differ in meaning based on differing use of <a href=\"/wiki/Letter_case\" title=\"Letter case\">uppercase and lowercase letters</a>. Words with capital letters do not always have the same meaning when written with lowercase letters. For example, :</p>\n",
      "/w/index.php?title=User:Harunst21&action=edit\n",
      "/wiki/Wikipedia:Verifiability\n",
      "Wikipedia:Verifiability\n",
      "<p>In Wikipedia, <b>verifiability</b> means that other people using the encyclopedia can check that the information comes from a <a href=\"#What_counts_as_a_reliable_source\">reliable source</a>. Wikipedia does not publish <a href=\"/wiki/Wikipedia:No_original_research\" title=\"Wikipedia:No original research\">original research</a>. Its content is determined by previously published information rather than the beliefs or experiences of its editors. Even if you're sure something is true, it must be verifiable before you can add it.<sup class=\"reference\" id=\"cite_ref-1\"><a href=\"#cite_note-1\">[1]</a></sup> When reliable sources disagree, maintain a <a href=\"/wiki/Wikipedia:Neutral_point_of_view\" title=\"Wikipedia:Neutral point of view\">neutral point of view</a> and present what the various sources say, giving each side its <a href=\"/wiki/Wikipedia:Neutral_point_of_view#Undue_weight\" title=\"Wikipedia:Neutral point of view\">due weight</a>.</p>\n",
      "this page is missing something\n",
      "/wiki/Wikipedia:Reliable_sources/Noticeboard\n",
      "Wikipedia:Reliable sources/Noticeboard\n",
      "<p><input class=\"mw-inputbox-input searchboxInput mw-ui-input mw-ui-input-inline\" dir=\"ltr\" name=\"search\" placeholder=\"\" size=\"40\" type=\"text\" value=\"\"/><input name=\"prefix\" type=\"hidden\" value=\"Wikipedia:Reliable sources/Noticeboard\"/><br/>\n",
      "<input class=\"mw-ui-button\" name=\"fulltext\" type=\"submit\" value=\"Search\"/><input name=\"fulltext\" type=\"hidden\" value=\"Search\"/></p>\n",
      "/w/index.php?title=Wikipedia:Reliable_sources/Noticeboard&action=edit\n",
      "/wiki/Wikipedia:Reliable_sources\n",
      "Wikipedia:Identifying reliable sources\n",
      "<p>Wikipedia articles should be based on <b><a href=\"/wiki/Wikipedia:Verifiability#Reliable_sources\" title=\"Wikipedia:Verifiability\">reliable, published sources</a></b>, making sure that <b>all majority and significant minority views</b> that have appeared in those sources are covered (see <a href=\"/wiki/Wikipedia:Neutral_point_of_view\" title=\"Wikipedia:Neutral point of view\">Wikipedia:Neutral point of view</a>). If no reliable sources can be found on a topic, <a href=\"/wiki/Wikipedia:Notability\" title=\"Wikipedia:Notability\">Wikipedia should not have an article on it</a>.</p>\n",
      "this page is missing something\n",
      "/wiki/Wikipedia:WikiProject_Taxation\n",
      "Wikipedia:WikiProject Taxation\n",
      "<p>Welcome! The broad objective of the <b>Taxation Wikiproject</b> is to improve Wikipedia's coverage of taxation related topics.</p>\n",
      "/w/index.php?title=Wikipedia:WikiProject_Taxation&action=edit\n",
      "/wiki/File:Calculator_icon.svg\n",
      "File:Calculator icon.svg\n",
      "<p><span class=\"licensetpl_link\" style=\"display:none;\">http://creativecommons.org/licenses/by-sa/3.0</span> <span class=\"licensetpl_short\" style=\"display:none;\">CC BY-SA 3.0</span> <span class=\"licensetpl_long\" style=\"display:none;\">Creative Commons Attribution-Share Alike 3.0</span> <span class=\"licensetpl_link_req\" style=\"display:none;\">true</span><span class=\"licensetpl_attr_req\" style=\"display:none;\">true</span></p>\n",
      "this page is missing something\n",
      "/wiki/User_talk:DanielPenfield\n",
      "User talk:DanielPenfield\n",
      "<p><input class=\"mw-inputbox-input searchboxInput mw-ui-input mw-ui-input-inline\" dir=\"ltr\" name=\"search\" placeholder=\"\" size=\"20\" type=\"text\" value=\"\"/><input name=\"prefix\" type=\"hidden\" value=\"User talk:DanielPenfield/\"/><br/>\n",
      "<input class=\"mw-ui-button\" name=\"fulltext\" type=\"submit\" value=\"Search archives\"/><input name=\"fulltext\" type=\"hidden\" value=\"Search\"/></p>\n",
      "/w/index.php?title=User_talk:DanielPenfield&action=edit\n",
      "/wiki/Help:Archiving_a_talk_page\n",
      "Help:Archiving a talk page\n",
      "<p>It is customary to periodically <b>archive old discussions on a talk page</b> when that page becomes too large. Bulky <a href=\"/wiki/Help:Using_talk_pages\" title=\"Help:Using talk pages\">talk pages</a> may be hard to navigate, contain obsolete discussion, or become a burden for users with slow Internet connections or computers. Notices are placed at the beginning of the talk page to inform all editors of an archive.</p>\n",
      "this page is missing something\n",
      "/wiki/Wikipedia:Historical_archive\n",
      "Wikipedia:Historical archive\n",
      "<p>This page is a co-ordination point for pages that were previously in the Wikipedia: namespace, but have become obsolete and archived. Regular articles are not archived here or elsewhere because their previous versions may be viewed in the <i>history</i> tab.</p>\n",
      "/w/index.php?title=Wikipedia:Historical_archive&action=edit\n",
      "/wiki/Wikipedia:Historical_archive/Refreshing_brilliant_prose\n"
     ]
    },
    {
     "name": "stdout",
     "output_type": "stream",
     "text": [
      "Wikipedia:Historical archive/Refreshing brilliant prose\n",
      "<p>Beginning mid-June of 2003, a <a class=\"mw-redirect\" href=\"/wiki/Wikipedia:Brilliant_prose_candidates\" title=\"Wikipedia:Brilliant prose candidates\">nomination process</a> for <a class=\"mw-redirect\" href=\"/wiki/Brilliant_prose\" title=\"Brilliant prose\">Brilliant prose</a> was implemented. Before this process existed, articles were added to <i>Brilliant prose</i> by individuals, and no system of debate, voting, or discussion took place.</p>\n",
      "/w/index.php?title=Wikipedia:Historical_archive/Refreshing_brilliant_prose&action=edit\n",
      "/wiki/Wikipedia_talk:Historical_archive\n",
      "Wikipedia talk:Historical archive\n",
      "<p>I hve redicit here but this rediciton was the archive below. So that the talk page was that archive. Those are not right. It should be these archives right. To a curret verzion page. I just get these redicits are broken.--<a href=\"/wiki/Special:Contributions/70.225.141.61\" title=\"Special:Contributions/70.225.141.61\">70.225.141.61</a> (<a href=\"/wiki/User_talk:70.225.141.61\" title=\"User talk:70.225.141.61\">talk</a>) 23:50, 11 January 2008 (UTC)</p>\n",
      "/w/index.php?title=Wikipedia_talk:Historical_archive&action=edit\n",
      "/wiki/Special:Contributions/70.225.141.61\n",
      "User contributions\n",
      "<p></p>\n",
      "this page is missing something\n",
      "/wiki/Help:User_contributions\n",
      "Help:User contributions\n",
      "<p><b>User contributions pages</b> are automatically generated pages that list any change, deletion or addition that an individual user has made in any <a href=\"/wiki/Wikipedia:Namespace\" title=\"Wikipedia:Namespace\">namespace</a> on the English <a href=\"/wiki/Wikipedia\" title=\"Wikipedia\">Wikipedia</a>.</p>\n",
      "this page is missing something\n",
      "/wiki/File:Twemoji_1f527.svg\n",
      "File:Twemoji 1f527.svg\n",
      "<p><span class=\"licensetpl_link\" style=\"display:none;\">http://creativecommons.org/licenses/by/4.0</span> <span class=\"licensetpl_short\" style=\"display:none;\">CC BY 4.0</span> <span class=\"licensetpl_long\" style=\"display:none;\">Creative Commons Attribution 4.0</span> <span class=\"licensetpl_link_req\" style=\"display:none;\">true</span><span class=\"licensetpl_attr_req\" style=\"display:none;\">true</span></p>\n",
      "this page is missing something\n",
      "/wiki/Special:WhatLinksHere/File:Twemoji_1f527.svg\n",
      "Pages that link to \"File:Twemoji 1f527.svg\"\n",
      "<p>The following pages link to <b><span id=\"specialDeleteTarget\"><a href=\"/wiki/File:Twemoji_1f527.svg\" title=\"File:Twemoji 1f527.svg\">File:Twemoji 1f527.svg</a></span></b>\n",
      "<span id=\"specialDeleteLink\"></span>\n",
      "</p>\n",
      "this page is missing something\n",
      "/wiki/Help:Editing\n",
      "Help:Editing\n",
      "<p><a href=\"/wiki/Wikipedia\" title=\"Wikipedia\">Wikipedia</a> is a <a href=\"/wiki/Wiki\" title=\"Wiki\">wiki</a>, meaning that anyone can edit any <a href=\"/wiki/Wikipedia:Protection_policy\" title=\"Wikipedia:Protection policy\">unprotected page</a> and improve articles immediately for all readers. You do not need to register to do this. Anyone who has edited is known as a \"<a class=\"mw-redirect\" href=\"/wiki/Wikipedia:Wikipedian\" title=\"Wikipedia:Wikipedian\"><i>Wikipedian</i></a>\" and, no matter how trivial the edit may seem, can be proud that they have helped make Wikipedia what it is. All of these edits add up! Wikipedia uses two methods of editing: the new <a href=\"/wiki/Wikipedia:VisualEditor\" title=\"Wikipedia:VisualEditor\">VisualEditor</a> (VE), and classic editing through <a href=\"/wiki/Help:Wiki_markup\" title=\"Help:Wiki markup\">wiki markup</a> (wikitext).</p>\n",
      "this page is missing something\n",
      "/wiki/Wikipedia:Editing_policy\n",
      "Wikipedia:Editing policy\n",
      "<p><a href=\"/wiki/Wikipedia:About\" title=\"Wikipedia:About\">Wikipedia</a> is the product of millions of <b>editors' contributions</b>, each one bringing something different to the table, whether it be: researching skills, technical expertise, writing prowess or tidbits of information, but most importantly a willingness to help. Even the <a href=\"/wiki/Wikipedia:Featured_articles\" title=\"Wikipedia:Featured articles\">best</a> articles should not be considered complete, as each new editor can offer new insights on how to enhance the content in it at any time.</p>\n",
      "this page is missing something\n",
      "/wiki/Wikipedia:List_of_guidelines#Editing\n",
      "Wikipedia:List of guidelines\n",
      "<p></p>\n",
      "this page is missing something\n",
      "/wiki/Wikipedia:List_of_policies\n",
      "Wikipedia:List of policies\n",
      "<p>Where <a href=\"/wiki/Wikipedia:Policies_and_guidelines#Conflicts_between_advice_pages\" title=\"Wikipedia:Policies and guidelines\">a discrepancy exists</a>, the policy page itself overrides. Changing this page does not change policy. Likewise, adding a page to this summary does not elevate it to policy status. Policies are promoted through consensus. See <a href=\"/wiki/Wikipedia:Policies_and_guidelines\" title=\"Wikipedia:Policies and guidelines\">Wikipedia:Policies and guidelines</a> for more.</p>\n",
      "this page is missing something\n",
      "/wiki/Wikipedia_talk:List_of_policies\n",
      "Wikipedia talk:List of policies and guidelines\n",
      "<p>This page was recently added to <a href=\"/wiki/Category:Wikipedia_conduct_policies\" title=\"Category:Wikipedia conduct policies\">Category:Wikipedia conduct policies</a>. Should this policy be added to this list? <a href=\"/wiki/User:Jarble\" title=\"User:Jarble\">Jarble</a> (<a href=\"/wiki/User_talk:Jarble\" title=\"User talk:Jarble\">talk</a>) 03:53, 25 March 2015 (UTC)</p>\n",
      "/w/index.php?title=Wikipedia_talk:List_of_policies_and_guidelines&action=edit\n",
      "/wiki/File:Peacedove.svg\n",
      "File:Peacedove.svg\n",
      "<p><span class=\"licensetpl_link\" style=\"display:none;\">http://creativecommons.org/licenses/by-sa/3.0</span> <span class=\"licensetpl_short\" style=\"display:none;\">CC BY-SA 3.0</span> <span class=\"licensetpl_long\" style=\"display:none;\">Creative Commons Attribution-Share Alike 3.0</span> <span class=\"licensetpl_link_req\" style=\"display:none;\">true</span><span class=\"licensetpl_attr_req\" style=\"display:none;\">true</span></p>\n",
      "this page is missing something\n",
      "/wiki/Special:WhatLinksHere/File:Peacedove.svg\n",
      "Pages that link to \"File:Peacedove.svg\"\n",
      "<p>The following pages link to <b><span id=\"specialDeleteTarget\"><a href=\"/wiki/File:Peacedove.svg\" title=\"File:Peacedove.svg\">File:Peacedove.svg</a></span></b>\n",
      "<span id=\"specialDeleteLink\"></span>\n",
      "</p>\n",
      "this page is missing something\n",
      "/wiki/Talk:Kashmir\n",
      "Talk:Kashmir\n",
      "<p><input class=\"searchboxInput mw-ui-input mw-ui-input-inline\" dir=\"ltr\" name=\"search\" placeholder=\"\" size=\"50\" type=\"text\" value=\"\"/><input name=\"prefix\" type=\"hidden\" value=\"Talk:Kashmir/\"/> <input class=\"mw-ui-button\" name=\"fulltext\" type=\"submit\" value=\"Search archives\"/><input name=\"fulltext\" type=\"hidden\" value=\"Search\"/></p>\n",
      "/w/index.php?title=Talk:Kashmir&action=edit\n",
      "/wiki/Wikipedia:Talk_page_guidelines\n",
      "Wikipedia:Talk page guidelines\n",
      "<p>The purpose of an article's <b><a href=\"/wiki/Help:Using_talk_pages\" title=\"Help:Using talk pages\">talk page</a></b> (accessible via the <b>talk</b> or <b>discussion</b> tab) is to provide space for editors to discuss changes to its associated article or <a href=\"/wiki/Wikipedia:WikiProject\" title=\"Wikipedia:WikiProject\">WikiProject</a>. Article talk pages should not be used by editors as platforms for their personal views on a subject. When talk pages in other <a href=\"/wiki/Wikipedia:Namespace\" title=\"Wikipedia:Namespace\">namespaces</a> and <a class=\"mw-redirect\" href=\"/wiki/Wikipedia:Userspace\" title=\"Wikipedia:Userspace\">userspaces</a> are used for discussion and communication between users, discussion should be directed solely toward the improvement of the encyclopedia.</p>\n",
      "this page is missing something\n",
      "/wiki/Help:Using_talk_pages\n",
      "Help:Using talk pages\n",
      "<p><b>Talk pages</b> (also known as <b>discussion pages</b>) are <a href=\"/wiki/Wikipedia:Administration#Data_structure_and_development\" title=\"Wikipedia:Administration\">administration pages</a> where editors can discuss improvements to articles or other Wikipedia pages. When viewing an article (or any other non-talk page), a link to the corresponding talk page appears on the \"Talk\" tab at the top of the page. Click this tab to switch to the talk page.</p>\n",
      "this page is missing something\n",
      "/wiki/Wikipedia:User_pages\n",
      "Wikipedia:User pages\n",
      "<p>User pages are for communication and collaboration. While considerable leeway is allowed in personalizing and managing your user pages, they are community project pages, <a href=\"/wiki/Wikipedia:What_Wikipedia_is_not#WEBHOST\" title=\"Wikipedia:What Wikipedia is not\">not a personal website, blog, or social networking medium</a>. They should be used to better participate in the community, and not used to excess for unrelated purposes nor to bring the project into disrepute.</p>\n",
      "this page is missing something\n",
      "/wiki/Wikipedia:FUW\n"
     ]
    },
    {
     "name": "stdout",
     "output_type": "stream",
     "text": [
      "Wikipedia:File Upload Wizard\n",
      "<p>Welcome to the File Upload Wizard. This page is for uploading images and other media files to Wikipedia. When you click the link below, the wizard will guide you through a questionnaire prompting you for the appropriate copyright and sourcing information for each file. Please ensure you understand <a href=\"/wiki/Wikipedia:Copyrights\" title=\"Wikipedia:Copyrights\">copyright</a> and the <a href=\"/wiki/Wikipedia:Image_use_policy\" title=\"Wikipedia:Image use policy\">image use policy</a> before proceeding.</p>\n",
      "this page is missing something\n",
      "/wiki/Wikipedia:Copyrights\n",
      "Wikipedia:Copyrights\n",
      "<p><b>Important note:</b> The Wikimedia Foundation does not own copyright on Wikipedia article texts or illustrations. <b>It is therefore pointless to email our contact addresses asking for permission to reproduce articles or images</b>, even if rules at your company, school, or organization mandate that you ask web site operators before copying their content.</p>\n",
      "this page is missing something\n",
      "/wiki/Category:Wikipedia_legal_policies\n",
      "Category:Wikipedia legal policies\n",
      "<p>This category has only the following subcategory.\n",
      "</p>\n",
      "/w/index.php?title=Category:Wikipedia_legal_policies&action=edit\n",
      "/wiki/Wikipedia:Maintenance\n",
      "Wikipedia:Maintenance\n",
      "<p>Wikipedia maintenance</p>\n",
      "this page is missing something\n",
      "/wiki/Wikipedia:Task_Center\n",
      "Wikipedia:Task Center\n",
      "<p><b>What do Wikipedians do?</b></p>\n",
      "/w/index.php?title=Wikipedia:Task_Center&action=edit\n",
      "/wiki/Wikipedia:Community_portal/Opentask\n",
      "Wikipedia:Community portal/Opentask\n",
      "<p>You can help improve the articles listed below! This list updates frequently, so check back here for more tasks to try. (See <b><a href=\"/wiki/Wikipedia:Task_Center\" title=\"Wikipedia:Task Center\">Wikipedia:Task Center</a></b> for brief guides.)</p>\n",
      "this page is missing something\n",
      "/wiki/Wikipedia:Community_portal\n",
      "Wikipedia:Community portal\n",
      "<p>This page provides a listing of current collaborations, tasks, and news about English Wikipedia. New to Wikipedia? See the <a href=\"/wiki/Wikipedia:Contributing_to_Wikipedia\" title=\"Wikipedia:Contributing to Wikipedia\">contributing to Wikipedia</a> page for everything you need to know to get started. For a listing of <a class=\"mw-redirect\" href=\"/wiki/Wikipedia:ADMINP\" title=\"Wikipedia:ADMINP\">internal project pages</a> of interest, see the <a href=\"/wiki/Wikipedia:Department_directory\" title=\"Wikipedia:Department directory\">department directory</a>.</p>\n",
      "this page is missing something\n",
      "/wiki/Wikipedia:Dashboard\n",
      "Wikipedia:Dashboard\n",
      "<p>Welcome to the Wikipedia Dashboard!</p>\n",
      "this page is missing something\n",
      "/wiki/Wikipedia:Department_directory\n",
      "Wikipedia:Department directory\n",
      "<p><br/></p>\n",
      "this page is missing something\n",
      "/wiki/Wikipedia:IRC\n",
      "Wikipedia:IRC\n",
      "<p>The <a href=\"/wiki/Freenode\" title=\"Freenode\">freenode</a> network (chat.freenode.net) has \"chat rooms\" dedicated to Wikipedia 24 hours a day, in which Wikipedians can engage in real-time discussions with each other. Many Wikipedians have chatting open in one window and hop back and forth between it and other windows in which they are working on Wikipedia. The chat rooms most relevant to English Wikipedia are <a href=\"#List_of_useful_channels\">listed hereafter</a>; a more complete list of channels (for other language Wikipedias, other languages, and recent changes feeds) exists at <a class=\"extiw\" href=\"https://meta.wikimedia.org/wiki/IRC/Channels\" title=\"m:IRC/Channels\">m:IRC/Channels</a>.</p>\n",
      "/w/index.php?title=Wikipedia:IRC&action=edit\n",
      "/wiki/Wikipedia:FORUM\n",
      "Wikipedia:What Wikipedia is not\n",
      "<p>Wikipedia is an online <a href=\"/wiki/Encyclopedia\" title=\"Encyclopedia\">encyclopedia</a> and, as a means to that end, an <a class=\"extiw\" href=\"https://meta.wikimedia.org/wiki/The_Wikipedia_Community\" title=\"meta:The Wikipedia Community\">online community</a> of individuals interested in building and using a high-quality encyclopedia in a spirit of mutual respect. Therefore, <b>there are certain things that Wikipedia is <i>not</i></b>.</p>\n",
      "this page is missing something\n",
      "/wiki/Wikipedia:Notability\n",
      "Wikipedia:Notability\n",
      "<p>On Wikipedia, <b>notability</b> is a test used by editors to decide whether a given topic warrants its own article.</p>\n",
      "this page is missing something\n",
      "/wiki/Wikipedia:Neutral_point_of_view\n",
      "Wikipedia:Neutral point of view\n",
      "<p>All encyclopedic content on Wikipedia must be written from a <b>neutral point of view</b> (<b>NPOV</b>), which means representing fairly, proportionately, and, as far as possible, without editorial bias, all of the significant views that have been <a href=\"/wiki/Wikipedia:Verifiability\" title=\"Wikipedia:Verifiability\">published by reliable sources</a> on a topic.</p>\n",
      "this page is missing something\n",
      "/wiki/Wikipedia:Describing_points_of_view\n",
      "Wikipedia:Describing points of view\n",
      "<p>At Wikipedia, <b>points of view</b> (<b>POVs</b>) – <a class=\"mw-redirect\" href=\"/wiki/Perspective_(cognitive)\" title=\"Perspective (cognitive)\">cognitive perspectives</a> – are often essential to articles which treat controversial subjects. Wikipedia's official \"<a class=\"mw-redirect\" href=\"/wiki/Wikipedia:NPOV\" title=\"Wikipedia:NPOV\">Neutral Point of View</a>\" (NPOV) policy does not mean that all the POVs of all the Wikipedia editors have to be represented. Rather, the article should represent the POVs of the main scholars and specialists who have produced reliable sources on the issue.</p>\n",
      "/w/index.php?title=Wikipedia:Describing_points_of_view&action=edit\n",
      "/wiki/Wikipedia:NOTOPINION\n",
      "Wikipedia:What Wikipedia is not\n",
      "<p>Wikipedia is an online <a href=\"/wiki/Encyclopedia\" title=\"Encyclopedia\">encyclopedia</a> and, as a means to that end, an <a class=\"extiw\" href=\"https://meta.wikimedia.org/wiki/The_Wikipedia_Community\" title=\"meta:The Wikipedia Community\">online community</a> of individuals interested in building and using a high-quality encyclopedia in a spirit of mutual respect. Therefore, <b>there are certain things that Wikipedia is <i>not</i></b>.</p>\n",
      "this page is missing something\n",
      "/wiki/Wikipedia:Glossary\n",
      "Wikipedia:Glossary\n",
      "<p>Glossary of terms</p>\n",
      "/w/index.php?title=Wikipedia:Glossary&action=edit\n",
      "/wiki/Wikipedia:Wikipedia_abbreviations\n",
      "Wikipedia:Wikipedia abbreviations\n",
      "<p>Wikipedia abbreviations</p>\n",
      "/w/index.php?title=Wikipedia:Wikipedia_abbreviations&action=edit\n",
      "/wiki/Wikipedia:Edit_summary_legend\n",
      "Wikipedia:Edit summary legend\n",
      "<p><br/></p>\n",
      "/w/index.php?title=Wikipedia:Edit_summary_legend&action=edit\n",
      "/wiki/Wikipedia:Shortcut_directory\n",
      "Wikipedia:Shortcut directory\n",
      "<p>Shortcut directory</p>\n",
      "/w/index.php?title=Wikipedia:Shortcut_directory&action=edit\n",
      "/wiki/Wikipedia:About\n",
      "Wikipedia:About\n",
      "<p><a href=\"/wiki/Wikipedia\" title=\"Wikipedia\">Wikipedia</a> (<span class=\"nowrap\"><span class=\"IPA nopopups noexcerpt\"><a href=\"/wiki/Help:IPA_for_English\" title=\"Help:IPA for English\">/<span style=\"border-bottom:1px dotted\"><span title=\"/ˌ/ secondary stress follows\">ˌ</span><span title=\"'w' in 'wind'\">w</span><span title=\"/ɪ/ short 'i' in 'bid'\">ɪ</span><span title=\"'k' in 'kind'\">k</span><span title=\"/ɪ/ or /ə/ 'e' in 'roses'\">ᵻ</span><span title=\"/ˈ/ primary stress follows\">ˈ</span><span title=\"'p' in 'pie'\">p</span><span title=\"/iː/ long 'e' in 'seed'\">iː</span><span title=\"'d' in 'dye'\">d</span><span title=\"/i/ 'y' in 'happy'\">i</span><span title=\"/./ syllable break\">.</span><span title=\"/ə/ 'a' in 'about'\">ə</span></span>/</a></span><small class=\"nowrap metadata\"> (<span class=\"unicode haudio\"><span class=\"fn\"><span style=\"white-space:nowrap\"><a href=\"/wiki/File:En-uk-Wikipedia.ogg\" title=\"About this sound\"><img alt=\"About this sound\" data-file-height=\"20\" data-file-width=\"20\" height=\"11\" src=\"//upload.wikimedia.org/wikipedia/commons/thumb/8/8a/Loudspeaker.svg/11px-Loudspeaker.svg.png\" srcset=\"//upload.wikimedia.org/wikipedia/commons/thumb/8/8a/Loudspeaker.svg/17px-Loudspeaker.svg.png 1.5x, //upload.wikimedia.org/wikipedia/commons/thumb/8/8a/Loudspeaker.svg/22px-Loudspeaker.svg.png 2x\" width=\"11\"/></a> </span><a class=\"internal\" href=\"//upload.wikimedia.org/wikipedia/commons/c/c5/En-uk-Wikipedia.ogg\" title=\"En-uk-Wikipedia.ogg\">listen</a></span></span>)</small></span> or <span class=\"nowrap\"><span class=\"IPA nopopups noexcerpt\"><a href=\"/wiki/Help:IPA_for_English\" title=\"Help:IPA for English\">/<span style=\"border-bottom:1px dotted\"><span title=\"/ˌ/ secondary stress follows\">ˌ</span><span title=\"'w' in 'wind'\">w</span><span title=\"/ɪ/ short 'i' in 'bid'\">ɪ</span><span title=\"'k' in 'kind'\">k</span><span title=\"/i/ 'y' in 'happy'\">i</span><span title=\"/ˈ/ primary stress follows\">ˈ</span><span title=\"'p' in 'pie'\">p</span><span title=\"/iː/ long 'e' in 'seed'\">iː</span><span title=\"'d' in 'dye'\">d</span><span title=\"/i/ 'y' in 'happy'\">i</span><span title=\"/./ syllable break\">.</span><span title=\"/ə/ 'a' in 'about'\">ə</span></span>/</a></span><small class=\"nowrap metadata\"> (<span class=\"unicode haudio\"><span class=\"fn\"><span style=\"white-space:nowrap\"><a href=\"/wiki/File:En-us-Wikipedia.ogg\" title=\"About this sound\"><img alt=\"About this sound\" data-file-height=\"20\" data-file-width=\"20\" height=\"11\" src=\"//upload.wikimedia.org/wikipedia/commons/thumb/8/8a/Loudspeaker.svg/11px-Loudspeaker.svg.png\" srcset=\"//upload.wikimedia.org/wikipedia/commons/thumb/8/8a/Loudspeaker.svg/17px-Loudspeaker.svg.png 1.5x, //upload.wikimedia.org/wikipedia/commons/thumb/8/8a/Loudspeaker.svg/22px-Loudspeaker.svg.png 2x\" width=\"11\"/></a> </span><a class=\"internal\" href=\"//upload.wikimedia.org/wikipedia/commons/2/2e/En-us-Wikipedia.ogg\" title=\"En-us-Wikipedia.ogg\">listen</a></span></span>)</small></span> <a href=\"/wiki/Help:Pronunciation_respelling_key\" title=\"Help:Pronunciation respelling key\"><small title=\"English pronunciation respelling\"><i><b>WIK</b>-i-<b>PEE</b>-dee-ə</i></small></a>) is a <a href=\"/wiki/Multilingualism\" title=\"Multilingualism\">multilingual</a>, <a href=\"/wiki/Web_application\" title=\"Web application\">web-based</a>, <a href=\"/wiki/Free_content\" title=\"Free content\">free-content</a> <a href=\"/wiki/Encyclopedia\" title=\"Encyclopedia\">encyclopedia</a> project supported by the <a href=\"/wiki/Wikipedia:Wikimedia_Foundation\" title=\"Wikipedia:Wikimedia Foundation\">Wikimedia Foundation</a> and based on a model of <a class=\"mw-redirect\" href=\"/wiki/Wikipedia:How_to_edit_a_page\" title=\"Wikipedia:How to edit a page\">openly editable</a> content. The name \"Wikipedia\" is a <a href=\"/wiki/Portmanteau\" title=\"Portmanteau\">portmanteau</a> of the words <i><a href=\"/wiki/Wiki\" title=\"Wiki\">wiki</a></i> (a technology for creating collaborative <a href=\"/wiki/Website\" title=\"Website\">websites</a>, from the <a href=\"/wiki/Hawaiian_language\" title=\"Hawaiian language\">Hawaiian</a> word <i><a class=\"extiw\" href=\"https://en.wiktionary.org/wiki/wiki#Hawaiian\" title=\"wikt:wiki\"><span lang=\"haw\" xml:lang=\"haw\">wiki</span></a></i>, meaning \"quick\") and <i><a href=\"/wiki/Encyclopedia\" title=\"Encyclopedia\">encyclopedia</a></i>. Wikipedia's articles provide links designed to guide the user to related pages with additional information.</p>\n",
      "this page is missing something\n",
      "/wiki/Outline_of_Wikipedia\n"
     ]
    },
    {
     "name": "stdout",
     "output_type": "stream",
     "text": [
      "Outline of Wikipedia\n",
      "<p><b><a href=\"/wiki/Wikipedia\" title=\"Wikipedia\">Wikipedia</a></b> – a <a href=\"/wiki/Free_content\" title=\"Free content\">free</a>, <a href=\"/wiki/World_Wide_Web\" title=\"World Wide Web\">web-based</a>, <a href=\"/wiki/Collaborative_writing\" title=\"Collaborative writing\">collaborative</a> and <a href=\"/wiki/Multilingualism\" title=\"Multilingualism\">multilingual</a> <a href=\"/wiki/Encyclopedia\" title=\"Encyclopedia\">encyclopedia</a> project supported by the non-profit <a href=\"/wiki/Wikimedia_Foundation\" title=\"Wikimedia Foundation\">Wikimedia Foundation</a>. Its more than 20 million articles (<a href=\"/wiki/Wikipedia:Size_of_Wikipedia\" title=\"Wikipedia:Size of Wikipedia\">over 5.43 million</a> in <a href=\"/wiki/English_Wikipedia\" title=\"English Wikipedia\">English</a>) have been written collaboratively by <a class=\"mw-redirect\" href=\"/wiki/Community_of_Wikipedia\" title=\"Community of Wikipedia\">volunteers</a> around the world. Almost all of its articles can be edited by anyone with access to the site,<sup class=\"reference\" id=\"cite_ref-anyone_1-0\"><a href=\"#cite_note-anyone-1\">[1]</a></sup> and it has about 100,000 regularly active contributors.<sup class=\"reference\" id=\"cite_ref-2\"><a href=\"#cite_note-2\">[2]</a></sup></p>\n",
      "/w/index.php?title=Outline_of_Wikipedia&action=edit\n",
      "/wiki/Portal:Contents/Outlines\n",
      "Portal:Contents/Outlines\n",
      "<p><span class=\"plainlinks\"><a href=\"/wiki/Portal:Contents\" title=\"Portal:Contents\"><span class=\"mw-ui-button mw-ui-constructive\" role=\"button\" style=\"padding:0 0.5em;\">Contents</span></a></span> <span class=\"plainlinks\"><a href=\"/wiki/Portal:Contents/Overviews\" title=\"Portal:Contents/Overviews\"><span class=\"mw-ui-button mw-ui-constructive\" role=\"button\" style=\"padding:0 0.5em;\">Overview</span></a></span> <span class=\"plainlinks\"><a class=\"mw-selflink selflink\"><span class=\"mw-ui-button mw-ui-constructive\" role=\"button\" style=\"background-color:#2962CB;padding:0 0.5em;\">Outlines</span></a></span> <span class=\"plainlinks\"><a href=\"/wiki/Portal:Contents/Lists\" title=\"Portal:Contents/Lists\"><span class=\"mw-ui-button mw-ui-constructive\" role=\"button\" style=\"padding:0 0.5em;\">Lists</span></a></span> <span class=\"plainlinks\"><a href=\"/wiki/Portal:Contents/Portals\" title=\"Portal:Contents/Portals\"><span class=\"mw-ui-button mw-ui-constructive\" role=\"button\" style=\"padding:0 0.5em;\">Portals</span></a></span> <span class=\"plainlinks\"><a href=\"/wiki/Portal:Contents/Glossaries\" title=\"Portal:Contents/Glossaries\"><span class=\"mw-ui-button mw-ui-constructive\" role=\"button\" style=\"padding:0 0.5em;\">Glossaries</span></a></span> <span class=\"plainlinks\"><a href=\"/wiki/Portal:Contents/Categories\" title=\"Portal:Contents/Categories\"><span class=\"mw-ui-button mw-ui-constructive\" role=\"button\" style=\"padding:0 0.5em;\">Categories</span></a></span> <span class=\"plainlinks\"><a href=\"/wiki/Portal:Contents/Indices\" title=\"Portal:Contents/Indices\"><span class=\"mw-ui-button mw-ui-constructive\" role=\"button\" style=\"padding:0 0.5em;\">Indices</span></a></span></p>\n",
      "this page is missing something\n",
      "/wiki/Portal:Contents\n",
      "Portal:Contents\n",
      "<p><span class=\"plainlinks\"><a class=\"mw-selflink selflink\"><span class=\"mw-ui-button mw-ui-constructive\" role=\"button\" style=\"background-color:#2962CB;padding:0 0.5em;\">Contents</span></a></span> <span class=\"plainlinks\"><a href=\"/wiki/Portal:Contents/Overviews\" title=\"Portal:Contents/Overviews\"><span class=\"mw-ui-button mw-ui-constructive\" role=\"button\" style=\"padding:0 0.5em;\">Overview</span></a></span> <span class=\"plainlinks\"><a href=\"/wiki/Portal:Contents/Outlines\" title=\"Portal:Contents/Outlines\"><span class=\"mw-ui-button mw-ui-constructive\" role=\"button\" style=\"padding:0 0.5em;\">Outlines</span></a></span> <span class=\"plainlinks\"><a href=\"/wiki/Portal:Contents/Lists\" title=\"Portal:Contents/Lists\"><span class=\"mw-ui-button mw-ui-constructive\" role=\"button\" style=\"padding:0 0.5em;\">Lists</span></a></span> <span class=\"plainlinks\"><a href=\"/wiki/Portal:Contents/Portals\" title=\"Portal:Contents/Portals\"><span class=\"mw-ui-button mw-ui-constructive\" role=\"button\" style=\"padding:0 0.5em;\">Portals</span></a></span> <span class=\"plainlinks\"><a href=\"/wiki/Portal:Contents/Glossaries\" title=\"Portal:Contents/Glossaries\"><span class=\"mw-ui-button mw-ui-constructive\" role=\"button\" style=\"padding:0 0.5em;\">Glossaries</span></a></span> <span class=\"plainlinks\"><a href=\"/wiki/Portal:Contents/Categories\" title=\"Portal:Contents/Categories\"><span class=\"mw-ui-button mw-ui-constructive\" role=\"button\" style=\"padding:0 0.5em;\">Categories</span></a></span> <span class=\"plainlinks\"><a href=\"/wiki/Portal:Contents/Indices\" title=\"Portal:Contents/Indices\"><span class=\"mw-ui-button mw-ui-constructive\" role=\"button\" style=\"padding:0 0.5em;\">Indices</span></a></span></p>\n",
      "this page is missing something\n",
      "/wiki/Portal:Contents/Overviews\n",
      "Portal:Contents/Overviews\n",
      "<p><span class=\"plainlinks\"><a href=\"/wiki/Portal:Contents\" title=\"Portal:Contents\"><span class=\"mw-ui-button mw-ui-constructive\" role=\"button\" style=\"padding:0 0.5em;\">Contents</span></a></span> <span class=\"plainlinks\"><a class=\"mw-selflink selflink\"><span class=\"mw-ui-button mw-ui-constructive\" role=\"button\" style=\"background-color:#2962CB;padding:0 0.5em;\">Overview</span></a></span> <span class=\"plainlinks\"><a href=\"/wiki/Portal:Contents/Outlines\" title=\"Portal:Contents/Outlines\"><span class=\"mw-ui-button mw-ui-constructive\" role=\"button\" style=\"padding:0 0.5em;\">Outlines</span></a></span> <span class=\"plainlinks\"><a href=\"/wiki/Portal:Contents/Lists\" title=\"Portal:Contents/Lists\"><span class=\"mw-ui-button mw-ui-constructive\" role=\"button\" style=\"padding:0 0.5em;\">Lists</span></a></span> <span class=\"plainlinks\"><a href=\"/wiki/Portal:Contents/Portals\" title=\"Portal:Contents/Portals\"><span class=\"mw-ui-button mw-ui-constructive\" role=\"button\" style=\"padding:0 0.5em;\">Portals</span></a></span> <span class=\"plainlinks\"><a href=\"/wiki/Portal:Contents/Glossaries\" title=\"Portal:Contents/Glossaries\"><span class=\"mw-ui-button mw-ui-constructive\" role=\"button\" style=\"padding:0 0.5em;\">Glossaries</span></a></span> <span class=\"plainlinks\"><a href=\"/wiki/Portal:Contents/Categories\" title=\"Portal:Contents/Categories\"><span class=\"mw-ui-button mw-ui-constructive\" role=\"button\" style=\"padding:0 0.5em;\">Categories</span></a></span> <span class=\"plainlinks\"><a href=\"/wiki/Portal:Contents/Indices\" title=\"Portal:Contents/Indices\"><span class=\"mw-ui-button mw-ui-constructive\" role=\"button\" style=\"padding:0 0.5em;\">Indices</span></a></span></p>\n",
      "this page is missing something\n",
      "/wiki/Portal:Contents/Lists\n",
      "Portal:Contents/Lists\n",
      "<p><span class=\"plainlinks\"><a href=\"/wiki/Portal:Contents\" title=\"Portal:Contents\"><span class=\"mw-ui-button mw-ui-constructive\" role=\"button\" style=\"padding:0 0.5em;\">Contents</span></a></span> <span class=\"plainlinks\"><a href=\"/wiki/Portal:Contents/Overviews\" title=\"Portal:Contents/Overviews\"><span class=\"mw-ui-button mw-ui-constructive\" role=\"button\" style=\"padding:0 0.5em;\">Overview</span></a></span> <span class=\"plainlinks\"><a href=\"/wiki/Portal:Contents/Outlines\" title=\"Portal:Contents/Outlines\"><span class=\"mw-ui-button mw-ui-constructive\" role=\"button\" style=\"padding:0 0.5em;\">Outlines</span></a></span> <span class=\"plainlinks\"><a class=\"mw-selflink selflink\"><span class=\"mw-ui-button mw-ui-constructive\" role=\"button\" style=\"background-color:#2962CB;padding:0 0.5em;\">Lists</span></a></span> <span class=\"plainlinks\"><a href=\"/wiki/Portal:Contents/Portals\" title=\"Portal:Contents/Portals\"><span class=\"mw-ui-button mw-ui-constructive\" role=\"button\" style=\"padding:0 0.5em;\">Portals</span></a></span> <span class=\"plainlinks\"><a href=\"/wiki/Portal:Contents/Glossaries\" title=\"Portal:Contents/Glossaries\"><span class=\"mw-ui-button mw-ui-constructive\" role=\"button\" style=\"padding:0 0.5em;\">Glossaries</span></a></span> <span class=\"plainlinks\"><a href=\"/wiki/Portal:Contents/Categories\" title=\"Portal:Contents/Categories\"><span class=\"mw-ui-button mw-ui-constructive\" role=\"button\" style=\"padding:0 0.5em;\">Categories</span></a></span> <span class=\"plainlinks\"><a href=\"/wiki/Portal:Contents/Indices\" title=\"Portal:Contents/Indices\"><span class=\"mw-ui-button mw-ui-constructive\" role=\"button\" style=\"padding:0 0.5em;\">Indices</span></a></span></p>\n",
      "this page is missing something\n",
      "/wiki/Portal:Contents/Portals\n"
     ]
    },
    {
     "name": "stdout",
     "output_type": "stream",
     "text": [
      "Portal:Contents/Portals\n",
      "<p><br/></p>\n",
      "this page is missing something\n",
      "/wiki/Portal:Contents/Glossaries\n",
      "Portal:Contents/Glossaries\n",
      "<p><span class=\"plainlinks\"><a href=\"/wiki/Portal:Contents\" title=\"Portal:Contents\"><span class=\"mw-ui-button mw-ui-constructive\" role=\"button\" style=\"padding:0 0.5em;\">Contents</span></a></span> <span class=\"plainlinks\"><a href=\"/wiki/Portal:Contents/Overviews\" title=\"Portal:Contents/Overviews\"><span class=\"mw-ui-button mw-ui-constructive\" role=\"button\" style=\"padding:0 0.5em;\">Overview</span></a></span> <span class=\"plainlinks\"><a href=\"/wiki/Portal:Contents/Outlines\" title=\"Portal:Contents/Outlines\"><span class=\"mw-ui-button mw-ui-constructive\" role=\"button\" style=\"padding:0 0.5em;\">Outlines</span></a></span> <span class=\"plainlinks\"><a href=\"/wiki/Portal:Contents/Lists\" title=\"Portal:Contents/Lists\"><span class=\"mw-ui-button mw-ui-constructive\" role=\"button\" style=\"padding:0 0.5em;\">Lists</span></a></span> <span class=\"plainlinks\"><a href=\"/wiki/Portal:Contents/Portals\" title=\"Portal:Contents/Portals\"><span class=\"mw-ui-button mw-ui-constructive\" role=\"button\" style=\"padding:0 0.5em;\">Portals</span></a></span> <span class=\"plainlinks\"><a class=\"mw-selflink selflink\"><span class=\"mw-ui-button mw-ui-constructive\" role=\"button\" style=\"background-color:#2962CB;padding:0 0.5em;\">Glossaries</span></a></span> <span class=\"plainlinks\"><a href=\"/wiki/Portal:Contents/Categories\" title=\"Portal:Contents/Categories\"><span class=\"mw-ui-button mw-ui-constructive\" role=\"button\" style=\"padding:0 0.5em;\">Categories</span></a></span> <span class=\"plainlinks\"><a href=\"/wiki/Portal:Contents/Indices\" title=\"Portal:Contents/Indices\"><span class=\"mw-ui-button mw-ui-constructive\" role=\"button\" style=\"padding:0 0.5em;\">Indices</span></a></span></p>\n",
      "this page is missing something\n",
      "/wiki/Portal:Contents/Categories\n",
      "Portal:Contents/Categories\n",
      "<p><span class=\"plainlinks\"><a href=\"/wiki/Portal:Contents\" title=\"Portal:Contents\"><span class=\"mw-ui-button mw-ui-constructive\" role=\"button\" style=\"padding:0 0.5em;\">Contents</span></a></span> <span class=\"plainlinks\"><a href=\"/wiki/Portal:Contents/Overviews\" title=\"Portal:Contents/Overviews\"><span class=\"mw-ui-button mw-ui-constructive\" role=\"button\" style=\"padding:0 0.5em;\">Overview</span></a></span> <span class=\"plainlinks\"><a href=\"/wiki/Portal:Contents/Outlines\" title=\"Portal:Contents/Outlines\"><span class=\"mw-ui-button mw-ui-constructive\" role=\"button\" style=\"padding:0 0.5em;\">Outlines</span></a></span> <span class=\"plainlinks\"><a href=\"/wiki/Portal:Contents/Lists\" title=\"Portal:Contents/Lists\"><span class=\"mw-ui-button mw-ui-constructive\" role=\"button\" style=\"padding:0 0.5em;\">Lists</span></a></span> <span class=\"plainlinks\"><a href=\"/wiki/Portal:Contents/Portals\" title=\"Portal:Contents/Portals\"><span class=\"mw-ui-button mw-ui-constructive\" role=\"button\" style=\"padding:0 0.5em;\">Portals</span></a></span> <span class=\"plainlinks\"><a href=\"/wiki/Portal:Contents/Glossaries\" title=\"Portal:Contents/Glossaries\"><span class=\"mw-ui-button mw-ui-constructive\" role=\"button\" style=\"padding:0 0.5em;\">Glossaries</span></a></span> <span class=\"plainlinks\"><a class=\"mw-selflink selflink\"><span class=\"mw-ui-button mw-ui-constructive\" role=\"button\" style=\"background-color:#2962CB;padding:0 0.5em;\">Categories</span></a></span> <span class=\"plainlinks\"><a href=\"/wiki/Portal:Contents/Indices\" title=\"Portal:Contents/Indices\"><span class=\"mw-ui-button mw-ui-constructive\" role=\"button\" style=\"padding:0 0.5em;\">Indices</span></a></span></p>\n",
      "this page is missing something\n",
      "/wiki/Portal:Contents/Indices\n",
      "Portal:Contents/Indices\n",
      "<p><span class=\"plainlinks\"><a href=\"/wiki/Portal:Contents\" title=\"Portal:Contents\"><span class=\"mw-ui-button mw-ui-constructive\" role=\"button\" style=\"padding:0 0.5em;\">Contents</span></a></span> <span class=\"plainlinks\"><a href=\"/wiki/Portal:Contents/Overviews\" title=\"Portal:Contents/Overviews\"><span class=\"mw-ui-button mw-ui-constructive\" role=\"button\" style=\"padding:0 0.5em;\">Overview</span></a></span> <span class=\"plainlinks\"><a href=\"/wiki/Portal:Contents/Outlines\" title=\"Portal:Contents/Outlines\"><span class=\"mw-ui-button mw-ui-constructive\" role=\"button\" style=\"padding:0 0.5em;\">Outlines</span></a></span> <span class=\"plainlinks\"><a href=\"/wiki/Portal:Contents/Lists\" title=\"Portal:Contents/Lists\"><span class=\"mw-ui-button mw-ui-constructive\" role=\"button\" style=\"padding:0 0.5em;\">Lists</span></a></span> <span class=\"plainlinks\"><a href=\"/wiki/Portal:Contents/Portals\" title=\"Portal:Contents/Portals\"><span class=\"mw-ui-button mw-ui-constructive\" role=\"button\" style=\"padding:0 0.5em;\">Portals</span></a></span> <span class=\"plainlinks\"><a href=\"/wiki/Portal:Contents/Glossaries\" title=\"Portal:Contents/Glossaries\"><span class=\"mw-ui-button mw-ui-constructive\" role=\"button\" style=\"padding:0 0.5em;\">Glossaries</span></a></span> <span class=\"plainlinks\"><a href=\"/wiki/Portal:Contents/Categories\" title=\"Portal:Contents/Categories\"><span class=\"mw-ui-button mw-ui-constructive\" role=\"button\" style=\"padding:0 0.5em;\">Categories</span></a></span> <span class=\"plainlinks\"><a class=\"mw-selflink selflink\"><span class=\"mw-ui-button mw-ui-constructive\" role=\"button\" style=\"background-color:#2962CB;padding:0 0.5em;\">Indices</span></a></span></p>\n",
      "this page is missing something\n",
      "/wiki/Portal:Contents/Reference\n",
      "Portal:Contents/Reference\n",
      "<p><span class=\"plainlinks\"><a href=\"/wiki/Portal:Contents\" title=\"Portal:Contents\"><span class=\"mw-ui-button mw-ui-constructive\" role=\"button\" style=\"padding:0 0.5em;\">Contents</span></a></span> <span class=\"plainlinks\"><a href=\"/wiki/Portal:Contents/Overviews\" title=\"Portal:Contents/Overviews\"><span class=\"mw-ui-button mw-ui-constructive\" role=\"button\" style=\"padding:0 0.5em;\">Overview</span></a></span> <span class=\"plainlinks\"><a href=\"/wiki/Portal:Contents/Outlines\" title=\"Portal:Contents/Outlines\"><span class=\"mw-ui-button mw-ui-constructive\" role=\"button\" style=\"padding:0 0.5em;\">Outlines</span></a></span> <span class=\"plainlinks\"><a href=\"/wiki/Portal:Contents/Lists\" title=\"Portal:Contents/Lists\"><span class=\"mw-ui-button mw-ui-constructive\" role=\"button\" style=\"padding:0 0.5em;\">Lists</span></a></span> <span class=\"plainlinks\"><a href=\"/wiki/Portal:Contents/Portals\" title=\"Portal:Contents/Portals\"><span class=\"mw-ui-button mw-ui-constructive\" role=\"button\" style=\"padding:0 0.5em;\">Portals</span></a></span> <span class=\"plainlinks\"><a href=\"/wiki/Portal:Contents/Glossaries\" title=\"Portal:Contents/Glossaries\"><span class=\"mw-ui-button mw-ui-constructive\" role=\"button\" style=\"padding:0 0.5em;\">Glossaries</span></a></span> <span class=\"plainlinks\"><a href=\"/wiki/Portal:Contents/Categories\" title=\"Portal:Contents/Categories\"><span class=\"mw-ui-button mw-ui-constructive\" role=\"button\" style=\"padding:0 0.5em;\">Categories</span></a></span> <span class=\"plainlinks\"><a href=\"/wiki/Portal:Contents/Indices\" title=\"Portal:Contents/Indices\"><span class=\"mw-ui-button mw-ui-constructive\" role=\"button\" style=\"padding:0 0.5em;\">Indices</span></a></span></p>\n",
      "this page is missing something\n",
      "/wiki/Portal:Contents/Culture_and_the_arts\n",
      "Portal:Contents/Culture and the arts\n",
      "<p><span class=\"plainlinks\"><a href=\"/wiki/Portal:Contents\" title=\"Portal:Contents\"><span class=\"mw-ui-button mw-ui-constructive\" role=\"button\" style=\"padding:0 0.5em;\">Contents</span></a></span> <span class=\"plainlinks\"><a href=\"/wiki/Portal:Contents/Overviews\" title=\"Portal:Contents/Overviews\"><span class=\"mw-ui-button mw-ui-constructive\" role=\"button\" style=\"padding:0 0.5em;\">Overview</span></a></span> <span class=\"plainlinks\"><a href=\"/wiki/Portal:Contents/Outlines\" title=\"Portal:Contents/Outlines\"><span class=\"mw-ui-button mw-ui-constructive\" role=\"button\" style=\"padding:0 0.5em;\">Outlines</span></a></span> <span class=\"plainlinks\"><a href=\"/wiki/Portal:Contents/Lists\" title=\"Portal:Contents/Lists\"><span class=\"mw-ui-button mw-ui-constructive\" role=\"button\" style=\"padding:0 0.5em;\">Lists</span></a></span> <span class=\"plainlinks\"><a href=\"/wiki/Portal:Contents/Portals\" title=\"Portal:Contents/Portals\"><span class=\"mw-ui-button mw-ui-constructive\" role=\"button\" style=\"padding:0 0.5em;\">Portals</span></a></span> <span class=\"plainlinks\"><a href=\"/wiki/Portal:Contents/Glossaries\" title=\"Portal:Contents/Glossaries\"><span class=\"mw-ui-button mw-ui-constructive\" role=\"button\" style=\"padding:0 0.5em;\">Glossaries</span></a></span> <span class=\"plainlinks\"><a href=\"/wiki/Portal:Contents/Categories\" title=\"Portal:Contents/Categories\"><span class=\"mw-ui-button mw-ui-constructive\" role=\"button\" style=\"padding:0 0.5em;\">Categories</span></a></span> <span class=\"plainlinks\"><a href=\"/wiki/Portal:Contents/Indices\" title=\"Portal:Contents/Indices\"><span class=\"mw-ui-button mw-ui-constructive\" role=\"button\" style=\"padding:0 0.5em;\">Indices</span></a></span></p>\n",
      "this page is missing something\n",
      "/wiki/Portal:Contents/Geography_and_places\n"
     ]
    },
    {
     "name": "stdout",
     "output_type": "stream",
     "text": [
      "Portal:Contents/Geography and places\n",
      "<p><span class=\"plainlinks\"><a href=\"/wiki/Portal:Contents\" title=\"Portal:Contents\"><span class=\"mw-ui-button mw-ui-constructive\" role=\"button\" style=\"padding:0 0.5em;\">Contents</span></a></span> <span class=\"plainlinks\"><a href=\"/wiki/Portal:Contents/Overviews\" title=\"Portal:Contents/Overviews\"><span class=\"mw-ui-button mw-ui-constructive\" role=\"button\" style=\"padding:0 0.5em;\">Overview</span></a></span> <span class=\"plainlinks\"><a href=\"/wiki/Portal:Contents/Outlines\" title=\"Portal:Contents/Outlines\"><span class=\"mw-ui-button mw-ui-constructive\" role=\"button\" style=\"padding:0 0.5em;\">Outlines</span></a></span> <span class=\"plainlinks\"><a href=\"/wiki/Portal:Contents/Lists\" title=\"Portal:Contents/Lists\"><span class=\"mw-ui-button mw-ui-constructive\" role=\"button\" style=\"padding:0 0.5em;\">Lists</span></a></span> <span class=\"plainlinks\"><a href=\"/wiki/Portal:Contents/Portals\" title=\"Portal:Contents/Portals\"><span class=\"mw-ui-button mw-ui-constructive\" role=\"button\" style=\"padding:0 0.5em;\">Portals</span></a></span> <span class=\"plainlinks\"><a href=\"/wiki/Portal:Contents/Glossaries\" title=\"Portal:Contents/Glossaries\"><span class=\"mw-ui-button mw-ui-constructive\" role=\"button\" style=\"padding:0 0.5em;\">Glossaries</span></a></span> <span class=\"plainlinks\"><a href=\"/wiki/Portal:Contents/Categories\" title=\"Portal:Contents/Categories\"><span class=\"mw-ui-button mw-ui-constructive\" role=\"button\" style=\"padding:0 0.5em;\">Categories</span></a></span> <span class=\"plainlinks\"><a href=\"/wiki/Portal:Contents/Indices\" title=\"Portal:Contents/Indices\"><span class=\"mw-ui-button mw-ui-constructive\" role=\"button\" style=\"padding:0 0.5em;\">Indices</span></a></span></p>\n",
      "this page is missing something\n",
      "/wiki/Special:Nearby\n",
      "Nearby\n",
      "<p>Try a different browser or enable JavaScript if you've disabled it.</p>\n",
      "this page is missing something\n",
      "/wiki/Special:MyContributions\n",
      "User contributions\n",
      "<p>No changes were found matching these criteria.\n",
      "</p>\n",
      "this page is missing something\n",
      "/wiki/Special:ListFiles/24.185.40.79\n",
      "File list\n",
      "<p>This special page shows all uploaded files of the <a href=\"/wiki/English_Wikipedia\" title=\"English Wikipedia\">English Wikipedia</a> (See also the list for <a class=\"extiw\" href=\"https://commons.wikimedia.org/wiki/Special:ListFiles/24.185.40.79\" title=\"commons:Special:ListFiles/24.185.40.79\">Wikimedia Commons</a>). \n",
      "By default the last uploaded files are shown at top of the list.\n",
      "A click on a column header changes the sorting.\n",
      "Deleted files are not shown here but are included in the <span class=\"plainlinks\"><a class=\"external text\" href=\"//en.wikipedia.org/w/index.php?title=Special:Log/upload&amp;user=24.185.40.79\">upload log</a></span>.\n",
      "</p>\n",
      "this page is missing something\n",
      "/wiki/English_Wikipedia\n",
      "English Wikipedia\n",
      "<p>The <b>English Wikipedia</b> is the <a href=\"/wiki/English_language\" title=\"English language\">English-language</a> edition of the free online encyclopedia <a href=\"/wiki/Wikipedia\" title=\"Wikipedia\">Wikipedia</a>. Founded on 15 January 2001, it is the first edition of Wikipedia and, as of June 2017<sup class=\"plainlinks noprint asof-tag update\" style=\"display:none;\"><a class=\"external text\" href=\"//en.wikipedia.org/w/index.php?title=English_Wikipedia&amp;action=edit\">[update]</a></sup>, has <a href=\"/wiki/List_of_Wikipedias\" title=\"List of Wikipedias\">the most articles of any of the editions</a>.<sup class=\"reference\" id=\"cite_ref-2\"><a href=\"#cite_note-2\">[2]</a></sup> As of July 2017, <span class=\"sortkey\" style=\"display:none\">7001120000000000000♠</span>12% of articles in all Wikipedias belong to the English-language edition. This share has gradually declined from more than 50 percent in 2003, due to the growth of Wikipedias in other languages.<sup class=\"reference\" id=\"cite_ref-3\"><a href=\"#cite_note-3\">[3]</a></sup> There are <a href=\"/wiki/Special:Statistics\" title=\"Special:Statistics\">5,438,050</a> articles on the site (live count).<sup class=\"reference\" id=\"cite_ref-4\"><a href=\"#cite_note-4\">[4]</a></sup> In October 2015, the combined text of the English Wikipedia's articles totalled 11.5 <a href=\"/wiki/Gigabyte\" title=\"Gigabyte\">gigabytes</a> when compressed.<sup class=\"reference\" id=\"cite_ref-5\"><a href=\"#cite_note-5\">[5]</a></sup> On 1 November 2015, the English Wikipedia announced it had reached 5,000,000 articles<sup class=\"reference\" id=\"cite_ref-6\"><a href=\"#cite_note-6\">[6]</a></sup> and ran a special logo to reflect the milestone.<sup class=\"reference\" id=\"cite_ref-7\"><a href=\"#cite_note-7\">[7]</a></sup></p>\n",
      "this page is missing something\n",
      "/wiki/File:Wikipedia-logo-v2-en.svg\n",
      "File:Wikipedia-logo-v2-en.svg\n",
      "<p>Wikipedia logo 2.0</p>\n",
      "this page is missing something\n",
      "/wiki/Special:WhatLinksHere/File:Wikipedia-logo-v2-en.svg\n",
      "Pages that link to \"File:Wikipedia-logo-v2-en.svg\"\n",
      "<p>The following pages link to <b><span id=\"specialDeleteTarget\"><a href=\"/wiki/File:Wikipedia-logo-v2-en.svg\" title=\"File:Wikipedia-logo-v2-en.svg\">File:Wikipedia-logo-v2-en.svg</a></span></b>\n",
      "<span id=\"specialDeleteLink\"></span>\n",
      "</p>\n",
      "this page is missing something\n",
      "/wiki/Wikipedia:Slogans\n",
      "Wikipedia:Slogans\n",
      "<p><a href=\"/wiki/Wikipedia\" title=\"Wikipedia\">Wikipedia</a>'s semi-official slogan is \"the free encyclopedia,\" and here is a list of some of the translations of the slogan:</p>\n",
      "/w/index.php?title=Wikipedia:Slogans&action=edit\n",
      "/wiki/File:Wikipedia-logo-v2-af.svg\n",
      "File:Wikipedia-logo-v2-af.svg\n",
      "<p><span class=\"licensetpl_link\" style=\"display:none;\">http://creativecommons.org/licenses/by-sa/3.0</span> <span class=\"licensetpl_short\" style=\"display:none;\">CC BY-SA 3.0</span> <span class=\"licensetpl_long\" style=\"display:none;\">Creative Commons Attribution-Share Alike 3.0</span> <span class=\"licensetpl_link_req\" style=\"display:none;\">true</span><span class=\"licensetpl_attr_req\" style=\"display:none;\">true</span></p>\n",
      "this page is missing something\n",
      "/wiki/User:AGrobler\n",
      "User:AGrobler\n",
      "<p><br/>\n",
      "Useful links:</p>\n",
      "/w/index.php?title=User:AGrobler&action=edit\n",
      "/wiki/Wikipedia:Babel\n",
      "Wikipedia:Babel\n",
      "<p>On Wikimedia projects, the noun <b>Babel</b> (an <a href=\"/wiki/Allusion\" title=\"Allusion\">allusion</a> to the <a href=\"/wiki/Tower_of_Babel\" title=\"Tower of Babel\">Tower of Babel</a>) refers to the <b>user language templates</b> aiding multilingual communication by making it easier to contact someone who speaks a certain language. The idea originated on the <a class=\"extiw\" href=\"https://commons.wikimedia.org/wiki/Commons:Babel\" title=\"commons:Commons:Babel\">Wikimedia Commons</a> and has also been implemented on <a class=\"extiw\" href=\"https://meta.wikimedia.org/wiki/Meta:Babel_templates\" title=\"meta:Meta:Babel templates\">Meta-Wiki</a> and some of the other Wikipedias to varying extents. To participate, you can add the Babel template to your user page by following these instructions:</p>\n",
      "/w/index.php?title=Wikipedia:Babel&action=edit\n",
      "/wiki/Wikipedia:Babel/List\n",
      "Wikipedia:Babel/List\n",
      "<p>Category: <b><a href=\"/wiki/Category:User_aa\" title=\"Category:User aa\">user aa</a></b></p>\n",
      "/w/index.php?title=Wikipedia:Babel/List&action=edit\n",
      "/wiki/Afar_language\n",
      "Afar language\n",
      "<p>The <b>Afar language</b> (Afar: <b>Qafaraf</b>) (also known as <b>’Afar Af</b>, <b>Afaraf</b>, <b>Qafar af</b>) is an <a href=\"/wiki/Afroasiatic_languages\" title=\"Afroasiatic languages\">Afroasiatic</a> language, belonging to the family's <a href=\"/wiki/Cushitic_languages\" title=\"Cushitic languages\">Cushitic</a> branch. It is spoken by the <a href=\"/wiki/Afar_people\" title=\"Afar people\">Afar people</a> in <a href=\"/wiki/Djibouti\" title=\"Djibouti\">Djibouti</a>, <a href=\"/wiki/Eritrea\" title=\"Eritrea\">Eritrea</a> and <a href=\"/wiki/Ethiopia\" title=\"Ethiopia\">Ethiopia</a>.</p>\n",
      "/w/index.php?title=Afar_language&action=edit\n",
      "/wiki/Qafar,_Iran\n",
      "Qafar, Iran\n",
      "<p><b>Qafar</b> (<a href=\"/wiki/Persian_language\" title=\"Persian language\">Persian</a>: <span dir=\"rtl\" lang=\"fa\" xml:lang=\"fa\">قفر</span>‎‎; also known as <b>Ghafr</b>)<sup class=\"reference\" id=\"cite_ref-1\"><a href=\"#cite_note-1\">[1]</a></sup> is a village in <a href=\"/wiki/Dalankuh_Rural_District\" title=\"Dalankuh Rural District\">Dalankuh Rural District</a>, in the <a href=\"/wiki/Central_District_(Faridan_County)\" title=\"Central District (Faridan County)\">Central District</a> of <a href=\"/wiki/Faridan_County\" title=\"Faridan County\">Faridan County</a>, <a href=\"/wiki/Isfahan_Province\" title=\"Isfahan Province\">Isfahan Province</a>, <a href=\"/wiki/Iran\" title=\"Iran\">Iran</a>. At the 2006 census, its population was 954, in 228 families.<sup class=\"reference\" id=\"cite_ref-2\"><a href=\"#cite_note-2\">[2]</a></sup></p>\n",
      "/w/index.php?title=Qafar,_Iran&action=edit\n",
      "/wiki/File:Iran_location_map.svg\n"
     ]
    },
    {
     "name": "stdout",
     "output_type": "stream",
     "text": [
      "File:Iran location map.svg\n",
      "<p>Equirectangular projection. Strechted by 118.0%. Geographic limits of the map:</p>\n",
      "this page is missing something\n",
      "/wiki/Special:WhatLinksHere/File:Iran_location_map.svg\n",
      "Pages that link to \"File:Iran location map.svg\"\n",
      "<p>The following pages link to <b><span id=\"specialDeleteTarget\"><a href=\"/wiki/File:Iran_location_map.svg\" title=\"File:Iran location map.svg\">File:Iran location map.svg</a></span></b>\n",
      "<span id=\"specialDeleteLink\"></span>\n",
      "</p>\n",
      "this page is missing something\n",
      "/wiki/Abadan,_Iran\n",
      "Abadan, Iran\n",
      "<p><b>Abadan</b> (<a href=\"/wiki/Persian_language\" title=\"Persian language\">Persian</a>: <span dir=\"rtl\" lang=\"fa\" xml:lang=\"fa\">آبادان</span>‎‎ <i>Ābādān</i>) is a city in and the capital of <a href=\"/wiki/Abadan_County\" title=\"Abadan County\">Abadan County</a>, <a href=\"/wiki/Khuzestan_Province\" title=\"Khuzestan Province\">Khuzestan Province</a> which is located in central west of Iran. It lies on <a href=\"/wiki/Abadan_Island\" title=\"Abadan Island\">Abadan Island</a> (68 km or 42 mi long, 3–19 km or 2–12 miles wide), the island is bounded in the west by the <a href=\"/wiki/Shatt_al-Arab\" title=\"Shatt al-Arab\">Arvand</a> waterway and to the east by the <a href=\"/wiki/Bahmanshir\" title=\"Bahmanshir\">Bahmanshir</a> outlet of the <a class=\"mw-redirect\" href=\"/wiki/Karun_River\" title=\"Karun River\">Karun River</a> (the <a href=\"/wiki/Shatt_al-Arab\" title=\"Shatt al-Arab\">Shatt al-Arab</a>), 53 kilometres (33 mi) from the <a href=\"/wiki/Persian_Gulf\" title=\"Persian Gulf\">Persian Gulf</a>,<sup class=\"reference\" id=\"cite_ref-eb_1-0\"><a href=\"#cite_note-eb-1\">[1]</a></sup> near the Iraqi-Iran border.</p>\n",
      "/w/index.php?title=Abadan,_Iran&action=edit\n",
      "/wiki/Ibadan\n",
      "Ibadan\n",
      "<p><b>Ibadan</b> (<a href=\"/wiki/Yoruba_language\" title=\"Yoruba language\">Yoruba</a>: <span lang=\"yo\" xml:lang=\"yo\"><i>Ìbàdàn</i></span>) is the <a href=\"/wiki/Capital_city\" title=\"Capital city\">capital</a> of <a href=\"/wiki/Oyo_State\" title=\"Oyo State\">Oyo State</a>, <a href=\"/wiki/Nigeria\" title=\"Nigeria\">Nigeria</a> and the most populous city in the state with a population of over 3 million. It is the third most populous city in <a href=\"/wiki/Nigeria\" title=\"Nigeria\">Nigeria</a>, after <a href=\"/wiki/Lagos\" title=\"Lagos\">Lagos</a> and <a href=\"/wiki/Kano\" title=\"Kano\">Kano</a>; it is the country's largest city by <a class=\"mw-redirect\" href=\"/wiki/Geographical_area\" title=\"Geographical area\">geographical area</a>. At the time Nigeria's independence in 1960, Ibadan was the largest and most populous city in the country, and the second most populous in Africa after <a href=\"/wiki/Cairo\" title=\"Cairo\">Cairo</a>.</p>\n",
      "/w/index.php?title=Ibadan&action=edit\n",
      "/wiki/Abadan\n",
      "Abadan, Iran\n",
      "<p><b>Abadan</b> (<a href=\"/wiki/Persian_language\" title=\"Persian language\">Persian</a>: <span dir=\"rtl\" lang=\"fa\" xml:lang=\"fa\">آبادان</span>‎‎ <i>Ābādān</i>) is a city in and the capital of <a href=\"/wiki/Abadan_County\" title=\"Abadan County\">Abadan County</a>, <a href=\"/wiki/Khuzestan_Province\" title=\"Khuzestan Province\">Khuzestan Province</a> which is located in central west of Iran. It lies on <a href=\"/wiki/Abadan_Island\" title=\"Abadan Island\">Abadan Island</a> (68 km or 42 mi long, 3–19 km or 2–12 miles wide), the island is bounded in the west by the <a href=\"/wiki/Shatt_al-Arab\" title=\"Shatt al-Arab\">Arvand</a> waterway and to the east by the <a href=\"/wiki/Bahmanshir\" title=\"Bahmanshir\">Bahmanshir</a> outlet of the <a class=\"mw-redirect\" href=\"/wiki/Karun_River\" title=\"Karun River\">Karun River</a> (the <a href=\"/wiki/Shatt_al-Arab\" title=\"Shatt al-Arab\">Shatt al-Arab</a>), 53 kilometres (33 mi) from the <a href=\"/wiki/Persian_Gulf\" title=\"Persian Gulf\">Persian Gulf</a>,<sup class=\"reference\" id=\"cite_ref-eb_1-0\"><a href=\"#cite_note-eb-1\">[1]</a></sup> near the Iraqi-Iran border.</p>\n",
      "/w/index.php?title=Abadan,_Iran&action=edit\n",
      "/wiki/Abadan_(disambiguation)\n",
      "Abadan (disambiguation)\n",
      "<p><b>Abadan</b> may refer to:</p>\n",
      "/w/index.php?title=Abadan_(disambiguation)&action=edit\n",
      "/wiki/Abadan_Airport\n",
      "Abadan Airport\n",
      "<p><b>Abadan International Airport</b> (<a href=\"/wiki/International_Air_Transport_Association_airport_code\" title=\"International Air Transport Association airport code\">IATA</a>: <b>ABD</b>, <a href=\"/wiki/International_Civil_Aviation_Organization_airport_code\" title=\"International Civil Aviation Organization airport code\">ICAO</a>: <b>OIAA</b>) is situated 12 kilometers away from the city of <a href=\"/wiki/Abadan,_Iran\" title=\"Abadan, Iran\">Abadan</a>, <a href=\"/wiki/Iran\" title=\"Iran\">Iran</a>.</p>\n",
      "/w/index.php?title=Abadan_Airport&action=edit\n",
      "/wiki/Ibadan_Airport\n",
      "Ibadan Airport\n",
      "<p><b>Ibadan Airport</b> (<a href=\"/wiki/International_Air_Transport_Association_airport_code\" title=\"International Air Transport Association airport code\">IATA</a>: <b>IBA</b>, <a href=\"/wiki/International_Civil_Aviation_Organization_airport_code\" title=\"International Civil Aviation Organization airport code\">ICAO</a>: <b>DNIB</b>) is an airport serving <a href=\"/wiki/Ibadan\" title=\"Ibadan\">Ibadan</a>, the capital of the <a href=\"/wiki/Oyo_State\" title=\"Oyo State\">Oyo State</a> of <a href=\"/wiki/Nigeria\" title=\"Nigeria\">Nigeria</a>.</p>\n",
      "/w/index.php?title=Ibadan_Airport&action=edit\n",
      "/wiki/International_Air_Transport_Association_airport_code\n",
      "International Air Transport Association airport code\n",
      "<p>An <b>IATA airport code</b>, also known as an <b>IATA location identifier</b>, <b>IATA station code</b> or simply a <b>location identifier</b>,<sup class=\"reference\" id=\"cite_ref-1\"><a href=\"#cite_note-1\">[1]</a></sup> is a three-letter code designating many <a href=\"/wiki/Airport\" title=\"Airport\">airports</a> around the world, defined by the <a href=\"/wiki/International_Air_Transport_Association\" title=\"International Air Transport Association\">International Air Transport Association</a> (IATA). The characters prominently displayed on <a href=\"/wiki/Bag_tag\" title=\"Bag tag\">baggage tags</a> attached at airport check-in desks are an example of a way these codes are used.</p>\n",
      "/w/index.php?title=International_Air_Transport_Association_airport_code&action=edit\n",
      "/wiki/International_Civil_Aviation_Organization_airport_code\n",
      "International Civil Aviation Organization airport code\n",
      "<p>The <b>ICAO</b> (<span class=\"nowrap\"><span class=\"IPA nopopups noexcerpt\"><a href=\"/wiki/Help:IPA_for_English\" title=\"Help:IPA for English\">/<span style=\"border-bottom:1px dotted\"><span title=\"/ˌ/ secondary stress follows\">ˌ</span><span title=\"/aɪ/ long 'i' in 'tide'\">aɪ</span><span title=\"/ˌ/ secondary stress follows\">ˌ</span><span title=\"'k' in 'kind'\">k</span><span title=\"/eɪ/ long 'a' in 'base'\">eɪ</span><span title=\"/ˈ/ primary stress follows\">ˈ</span><span title=\"/oʊ/ long 'o' in 'code'\">oʊ</span></span>/</a></span></span>, <a href=\"/wiki/Help:Pronunciation_respelling_key\" title=\"Help:Pronunciation respelling key\"><small title=\"English pronunciation respelling\"><i>eye-<b>KAY</b>-oh</i></small></a>) <b>airport code</b> or <b>location indicator</b> is a four-character <a href=\"/wiki/Alphanumeric\" title=\"Alphanumeric\">alphanumeric</a> <a href=\"/wiki/Code\" title=\"Code\">code</a> designating <a class=\"mw-redirect\" href=\"/wiki/Aerodromes\" title=\"Aerodromes\">aerodromes</a> around the world. These codes are defined by the <a href=\"/wiki/International_Civil_Aviation_Organization\" title=\"International Civil Aviation Organization\">International Civil Aviation Organization</a>, and published in ICAO Document 7910: <i>Location Indicators</i> are used by <a href=\"/wiki/Air_traffic_control\" title=\"Air traffic control\">air traffic control</a> and airline operations such as <a href=\"/wiki/Flight_planning\" title=\"Flight planning\">flight planning</a>.</p>\n",
      "/w/index.php?title=International_Civil_Aviation_Organization_airport_code&action=edit\n",
      "/wiki/Help:Introduction_to_referencing_with_Wiki_Markup/1\n",
      "Help:Introduction to referencing with Wiki Markup/1\n",
      "<p><br/></p>\n",
      "this page is missing something\n",
      "/wiki/Help:Introduction_to_referencing_with_Wiki_Markup\n",
      "Help:Introduction to referencing with Wiki Markup/1\n",
      "<p><br/></p>\n",
      "this page is missing something\n",
      "/wiki/File:Markup-logo.svg\n",
      "File:Markup-logo.svg\n",
      "<p><span class=\"licensetpl_link\" style=\"display:none;\">http://creativecommons.org/licenses/by-sa/4.0</span> <span class=\"licensetpl_short\" style=\"display:none;\">CC BY-SA 4.0</span> <span class=\"licensetpl_long\" style=\"display:none;\">Creative Commons Attribution-Share Alike 4.0</span> <span class=\"licensetpl_link_req\" style=\"display:none;\">true</span><span class=\"licensetpl_attr_req\" style=\"display:none;\">true</span></p>\n",
      "this page is missing something\n",
      "/wiki/User:Saranoon\n"
     ]
    },
    {
     "name": "stdout",
     "output_type": "stream",
     "text": [
      "User:Saranoon\n",
      "<p><a class=\"mw-redirect\" href=\"/wiki/Help:Introduction_to\" title=\"Help:Introduction to\">These tutorials</a> explain how to edit with <a href=\"/wiki/Wikipedia:VisualEditor\" title=\"Wikipedia:VisualEditor\">VisualEditor</a> (a user-friendly interface) and <a class=\"mw-redirect\" href=\"/wiki/Help:Wiki_Markup\" title=\"Help:Wiki Markup\">Wiki Markup</a> (Wikipedia's source code)</p>\n",
      "/w/index.php?title=User:Saranoon&action=edit\n",
      "/wiki/Wikipedia:Welcoming_committee/Welcome_to_Wikipedia\n",
      "Wikipedia:Welcoming committee/Welcome to Wikipedia\n",
      "<p><b>Welcome aboard!</b> We're glad you wish to help develop <a href=\"/wiki/Wikipedia\" title=\"Wikipedia\">Wikipedia</a>, and we hope you enjoy participating in this <a href=\"/wiki/Virtual_community\" title=\"Virtual community\">virtual community</a> as much as we do. As a new contributor, you may feel a little overwhelmed by the sheer size and scope of this project (which includes over 100,000 regular participants)...</p>\n",
      "this page is missing something\n",
      "/wiki/Wikipedia:Welcoming_committee\n",
      "Wikipedia:Welcoming committee\n",
      "<p><b>Welcoming committee</b> members welcome new users who have <i>already made constructive edits</i>, and help them get started in various ways. There are no requirements for joining us except a good attitude and a willingness to help newcomers get started on Wikipedia.</p>\n",
      "/w/index.php?title=Wikipedia:Welcoming_committee&action=edit\n",
      "/wiki/Wikipedia:WikiCup\n",
      "Wikipedia:WikiCup\n",
      "<p>The <b>WikiCup</b> is a championship that has taken place every year on Wikipedia since 2007. The Cup is played and won by skill of editing. The purpose of the Cup is to encourage content improvement and make editing on Wikipedia more fun. The 2017 WikiCup begins on January 1; signups close on February 5. The competition is open to all editors, new and old. If you are interested in following the WikiCup but do not wish to take part, please add your name to <a href=\"/wiki/Wikipedia:WikiCup/Newsletter/Send\" title=\"Wikipedia:WikiCup/Newsletter/Send\">Wikipedia:WikiCup/Newsletter/Send</a>. All contestants will be added automatically.</p>\n",
      "/w/index.php?title=Wikipedia:WikiCup&action=edit\n",
      "/wiki/Wikipedia:Cambridge\n",
      "Wikipedia:Cambridge\n",
      "<p><br/></p>\n",
      "/w/index.php?title=Wikipedia:Cambridge&action=edit\n",
      "/wiki/Wikipedia:Cambridge_University_Wikipedia_Society\n",
      "Wikipedia:Cambridge University Wikipedia Society\n",
      "<p>The <b>Cambridge University Wikipedia Society (CUWPS)</b> is an effort to coordinate staff, students and alumni of <a class=\"mw-redirect\" href=\"/wiki/Cambridge_University\" title=\"Cambridge University\">University of Cambridge</a> on Wikipedia outreach efforts within the university. In its present form, it exists primarily as a mailing list used to communicate events of interest to Wikipedians in and around the University. In the past, it has organised talks and other activities for members, occasionally in collaboration with other University societies. Members regularly attend the <a class=\"extiw\" href=\"https://meta.wikimedia.org/wiki/Meetup/Cambridge\" title=\"m:Meetup/Cambridge\">Cambridge Wikimedia meetups</a>. Ultimately, we hope to gather as many Wikipedians who are current members of the university, or alumni living in the nearby area, as possible.</p>\n",
      "/w/index.php?title=Wikipedia:Cambridge_University_Wikipedia_Society&action=edit\n",
      "/wiki/Cambridge_University\n",
      "University of Cambridge\n",
      "<p>The <b>University of Cambridge</b> (informally <b>Cambridge University</b>)<sup class=\"reference\" id=\"cite_ref-8\"><a href=\"#cite_note-8\">[note 1]</a></sup> is a <a href=\"/wiki/Collegiate_university\" title=\"Collegiate university\">collegiate</a> <a href=\"/wiki/Public_university\" title=\"Public university\">public</a> <a href=\"/wiki/Research_university\" title=\"Research university\">research university</a> in <a href=\"/wiki/Cambridge\" title=\"Cambridge\">Cambridge</a>, <a href=\"/wiki/England\" title=\"England\">England</a>. Founded in 1209 and granted a <a href=\"/wiki/Royal_charter\" title=\"Royal charter\">royal charter</a> by <a href=\"/wiki/Henry_III_of_England\" title=\"Henry III of England\">King Henry III</a> in 1231, Cambridge is the second-oldest university in the <a href=\"/wiki/English-speaking_world\" title=\"English-speaking world\">English-speaking world</a> and the world's <a href=\"/wiki/List_of_oldest_universities_in_continuous_operation\" title=\"List of oldest universities in continuous operation\">third-oldest surviving university</a>.<sup class=\"reference\" id=\"cite_ref-9\"><a href=\"#cite_note-9\">[8]</a></sup> The university grew out of an association of scholars who left the <a href=\"/wiki/University_of_Oxford\" title=\"University of Oxford\">University of Oxford</a> after a dispute with the townspeople.<sup class=\"reference\" id=\"cite_ref-10\"><a href=\"#cite_note-10\">[9]</a></sup> The two ancient universities share many common features and are often referred to jointly as \"<a href=\"/wiki/Oxbridge\" title=\"Oxbridge\">Oxbridge</a>\".</p>\n",
      "/w/index.php?title=University_of_Cambridge&action=edit\n",
      "/wiki/File:University_of_Cambridge_coat_of_arms_official.svg\n",
      "File:University of Cambridge coat of arms official.svg\n",
      "<p><span class=\"description en\" lang=\"en\">This work includes material that may be protected as a <a class=\"extiw\" href=\"https://en.wikipedia.org/wiki/en:trademark\" title=\"w:en:trademark\">trademark</a> in some jurisdictions. If you want to use it, you have to ensure that you have the legal right to do so and that you do not infringe any trademark rights. See our <a href=\"//commons.wikimedia.org/wiki/Commons:General_disclaimer\" title=\"Commons:General disclaimer\">general disclaimer</a>.<br/>\n",
      "<small>This tag does not indicate the copyright status of the attached work. A normal <a href=\"//commons.wikimedia.org/wiki/Special:MyLanguage/Commons:Copyright_tags\" title=\"Special:MyLanguage/Commons:Copyright tags\">copyright tag</a> is still required. See <a href=\"//commons.wikimedia.org/wiki/Special:MyLanguage/Commons:Licensing\" title=\"Special:MyLanguage/Commons:Licensing\">Commons:Licensing</a> for more information.</small></span></p>\n",
      "this page is missing something\n",
      "/wiki/Special:WhatLinksHere/File:University_of_Cambridge_coat_of_arms_official.svg\n",
      "Pages that link to \"File:University of Cambridge coat of arms official.svg\"\n",
      "<p>The following pages link to <b><span id=\"specialDeleteTarget\"><a href=\"/wiki/File:University_of_Cambridge_coat_of_arms_official.svg\" title=\"File:University of Cambridge coat of arms official.svg\">File:University of Cambridge coat of arms official.svg</a></span></b>\n",
      "<span id=\"specialDeleteLink\"></span>\n",
      "</p>\n",
      "this page is missing something\n",
      "/wiki/Pembroke_College,_Cambridge\n",
      "Pembroke College, Cambridge\n",
      "<p><b>Pembroke College</b> is a <a href=\"/wiki/Colleges_of_the_University_of_Cambridge\" title=\"Colleges of the University of Cambridge\">constituent college</a> of the <a href=\"/wiki/University_of_Cambridge\" title=\"University of Cambridge\">University of Cambridge</a>, <a href=\"/wiki/England\" title=\"England\">England</a>. The college is the third-oldest college of the university and has over seven hundred students and <a href=\"/wiki/Fellow\" title=\"Fellow\">fellows</a>. Physically, it is one of the university's larger colleges, with buildings from almost every century since its founding, as well as extensive gardens.</p>\n",
      "/w/index.php?title=Pembroke_College,_Cambridge&action=edit\n",
      "/wiki/Help:Maintenance_template_removal\n",
      "Help:Maintenance template removal\n",
      "<p>All problems on Wikipedia are resolved through the efforts of volunteers like you. If you understand the problem that the template highlights, such as by reading the explanatory links it contains or found guidance through this page – and have <i>reasonably fixed the issues</i> – you may simply remove the maintenance template; it will <u>not</u> be removed automatically.</p>\n",
      "this page is missing something\n",
      "/wiki/Wikipedia:Responsible_tagging\n",
      "Wikipedia:Responsible tagging\n",
      "<p>When a <a class=\"mw-redirect\" href=\"/wiki/Wikipedia:WIKIPEDIAN\" title=\"Wikipedia:WIKIPEDIAN\">Wikipedian</a> who practices <b>responsible tagging</b> sees a problem with a Wikipedia article, he or she clearly labels the problem with the appropriate tag. As needed he or she then leaves information clarifying what should be done on the talk page. The outcome is a communication protocol that minimizes the use of reviewer's valuable time while maximizing the likelihood that the article's maintainers will improve the article.</p>\n",
      "/w/index.php?title=Wikipedia:Responsible_tagging&action=edit\n",
      "/wiki/Wikipedia:Tags\n"
     ]
    },
    {
     "name": "stdout",
     "output_type": "stream",
     "text": [
      "Wikipedia:Tags\n",
      "<p>For the purpose of Wikipedia maintenance and administration, <b>tags</b> are brief messages that <a href=\"/wiki/MediaWiki\" title=\"MediaWiki\">MediaWiki</a> automatically places next to certain edits (or <a class=\"mw-redirect\" href=\"/wiki/Wikipedia:Log\" title=\"Wikipedia:Log\">logged</a> action). (Depending on the context, edits are sometimes called <i>changes</i> to a particular article or the <i>contributions</i> of a particular editor.) Edit tags are visible on <a href=\"/wiki/Help:Page_history\" title=\"Help:Page history\">histories</a>, <a class=\"extiw\" href=\"https://meta.wikimedia.org/wiki/Help:Recent_changes\" title=\"m:Help:Recent changes\">recent changes</a> and certain <a href=\"/wiki/Special:SpecialPages\" title=\"Special:SpecialPages\">special pages</a>.</p>\n",
      "/w/index.php?title=Wikipedia:Tags&action=edit\n",
      "/wiki/Wikipedia:Template_messages\n",
      "Wikipedia:Template messages\n",
      "<p>This page provides an <b>index of <a href=\"/wiki/Help:Template\" title=\"Help:Template\">templates</a></b> used within Wikipedia, many of which convey <i>messages</i>; they are grouped into topic-specific headings. For information on what templates are, and how the template namespace is intended to be used, see <a href=\"/wiki/Wikipedia:Template_namespace\" title=\"Wikipedia:Template namespace\">WP:Template namespace</a>. For information on template use and development, see <a href=\"/wiki/Help:Template\" title=\"Help:Template\">Help:Template</a>. For the project team looking after templates on Wikipedia, see <a href=\"/wiki/Wikipedia:WikiProject_Templates\" title=\"Wikipedia:WikiProject Templates\">WP:WikiProject Templates</a>.</p>\n",
      "this page is missing something\n",
      "/wiki/MOS:TM\n",
      "Wikipedia:Manual of Style/Trademarks\n",
      "<p><input class=\"searchboxInput mw-ui-input mw-ui-input-inline\" dir=\"ltr\" name=\"search\" placeholder=\"\" size=\"25\" type=\"text\" value=\"\"/><input name=\"prefix\" type=\"hidden\" value=\"Wikipedia:Manual of Style\"/> <input class=\"mw-ui-button\" name=\"fulltext\" type=\"submit\" value=\"Search the MoS\"/><input name=\"fulltext\" type=\"hidden\" value=\"Search\"/></p>\n",
      "/w/index.php?title=Wikipedia:Manual_of_Style/Trademarks&action=edit\n",
      "/wiki/Wikipedia:Manual_of_Style\n",
      "Wikipedia:Manual of Style\n",
      "<p><input class=\"searchboxInput mw-ui-input mw-ui-input-inline\" dir=\"ltr\" name=\"search\" placeholder=\"\" size=\"25\" type=\"text\" value=\"\"/><input name=\"prefix\" type=\"hidden\" value=\"Wikipedia:Manual of Style\"/> <input class=\"mw-ui-button\" name=\"fulltext\" type=\"submit\" value=\"Search the MoS\"/><input name=\"fulltext\" type=\"hidden\" value=\"Search\"/></p>\n",
      "/w/index.php?title=Wikipedia:Manual_of_Style&action=edit\n",
      "/wiki/Wikipedia:NOTMANUAL\n",
      "Wikipedia:What Wikipedia is not\n",
      "<p>Wikipedia is an online <a href=\"/wiki/Encyclopedia\" title=\"Encyclopedia\">encyclopedia</a> and, as a means to that end, an <a class=\"extiw\" href=\"https://meta.wikimedia.org/wiki/The_Wikipedia_Community\" title=\"meta:The Wikipedia Community\">online community</a> of individuals interested in building and using a high-quality encyclopedia in a spirit of mutual respect. Therefore, <b>there are certain things that Wikipedia is <i>not</i></b>.</p>\n",
      "this page is missing something\n",
      "/wiki/Wikipedia:WikiProject_Democracy\n",
      "Wikipedia:WikiProject Democracy\n",
      "<p>Welcome to <b>WikiProject Democracy</b>! This <a href=\"/wiki/Wikipedia:WikiProject\" title=\"Wikipedia:WikiProject\">project</a> aims at improving Wikipedia by helping the <a href=\"/wiki/Democracy\" title=\"Democracy\">democratic</a> structures within the Wikipedia movement by:</p>\n",
      "/w/index.php?title=Wikipedia:WikiProject_Democracy&action=edit\n",
      "/wiki/Wikipedia:WikiProject_Democracy/Development\n",
      "Wikipedia:WikiProject Democracy/Development\n",
      "<p><small>&gt; <i>This page <a class=\"extiw\" href=\"https://meta.wikimedia.org/wiki/Democracy/Development\" title=\"m:Democracy/Development\">on Meta</a>.</i></small></p>\n",
      "/w/index.php?title=Wikipedia:WikiProject_Democracy/Development&action=edit\n",
      "/wiki/Wikipedia:Principles\n",
      "Wikipedia:Principles\n",
      "<p>The <a href=\"/wiki/English_Wikipedia\" title=\"English Wikipedia\">English Wikipedia</a> does not have a single, definitive statement of the community's values and principles. Over the years, several editors have written <a class=\"mw-redirect\" href=\"/wiki/Wikipedia:INFOPAGES\" title=\"Wikipedia:INFOPAGES\">summaries</a> of these values and principles as well as <a href=\"/wiki/Wikipedia:Essays\" title=\"Wikipedia:Essays\">essays</a> expressing their ideas about what is important. Here's a list of some of these popular pages:</p>\n",
      "/w/index.php?title=Wikipedia:Principles&action=edit\n",
      "/wiki/Wikipedia:INFOPAGES\n",
      "Wikipedia:Project namespace\n",
      "<p>Project pages are for information or discussion about Wikipedia. They should be used to allow Wikipedians to better participate in the community, and not used to excess for unrelated purposes nor to bring the project into disrepute.</p>\n",
      "this page is missing something\n",
      "/wiki/Wikipedia:WikipediaSpace\n",
      "Wikipedia:WikipediaSpace\n",
      "<p><b>Wikipedia Space</b> is a project to create physical learning spaces to promote the use of open content technologies such as Wikipedia and Wikimedia projects, aimed at cultural professionals in the <a href=\"/wiki/Wikipedia:GLAM\" title=\"Wikipedia:GLAM\">GLAM</a> sector (galleries, , archives and museums).</p>\n",
      "/w/index.php?title=Wikipedia:WikipediaSpace&action=edit\n",
      "/wiki/File:WikipediaSpace-WS1-Introduction-v1.pdf\n",
      "File:WikipediaSpace-WS1-Introduction-v1.pdf\n",
      "<p><span class=\"licensetpl_link\" style=\"display:none;\">http://creativecommons.org/licenses/by-sa/4.0</span> <span class=\"licensetpl_short\" style=\"display:none;\">CC BY-SA 4.0</span> <span class=\"licensetpl_long\" style=\"display:none;\">Creative Commons Attribution-Share Alike 4.0</span> <span class=\"licensetpl_link_req\" style=\"display:none;\">true</span><span class=\"licensetpl_attr_req\" style=\"display:none;\">true</span></p>\n",
      "this page is missing something\n",
      "/wiki/Main_Page\n",
      "Main Page\n",
      "<p><i><b><a href=\"/wiki/Weird_Tales\" title=\"Weird Tales\">Weird Tales</a></b></i> is an American <a href=\"/wiki/Fantasy\" title=\"Fantasy\">fantasy</a> and <a href=\"/wiki/Horror_fiction\" title=\"Horror fiction\">horror fiction</a> <a href=\"/wiki/Pulp_magazine\" title=\"Pulp magazine\">pulp magazine</a> founded by J. C. Henneberger and J. M. Lansinger in March 1923. The first editor, <a href=\"/wiki/Edwin_Baird\" title=\"Edwin Baird\">Edwin Baird</a>, printed early work by <a href=\"/wiki/H._P._Lovecraft\" title=\"H. P. Lovecraft\">H. P. Lovecraft</a>, <a href=\"/wiki/Seabury_Quinn\" title=\"Seabury Quinn\">Seabury Quinn</a>, and <a href=\"/wiki/Clark_Ashton_Smith\" title=\"Clark Ashton Smith\">Clark Ashton Smith</a>, all of whom would go on to be popular writers. Under its second editor, <a href=\"/wiki/Farnsworth_Wright\" title=\"Farnsworth Wright\">Farnsworth Wright</a>, its fiction included Lovecraft's <a href=\"/wiki/Cthulhu_Mythos\" title=\"Cthulhu Mythos\">Cthulhu mythos</a> stories, some of <a href=\"/wiki/Robert_E._Howard\" title=\"Robert E. Howard\">Robert E. Howard</a>'s <a href=\"/wiki/Conan_the_Barbarian\" title=\"Conan the Barbarian\">Conan the Barbarian</a> stories, and Seabury Quinn's series about <a href=\"/wiki/Jules_de_Grandin\" title=\"Jules de Grandin\">Jules de Grandin</a>, a detective who specialized in the supernatural. When the magazine was launched there were none specializing in <a href=\"/wiki/Science_fiction\" title=\"Science fiction\">science fiction</a>, and Wright included stories in that genre by <a href=\"/wiki/Edmond_Hamilton\" title=\"Edmond Hamilton\">Edmond Hamilton</a> and others. After William Delaney took over as publisher, replacing Wright with Dorothy McIlwraith as editor in 1940, some successful new authors and artists, such as <a href=\"/wiki/Ray_Bradbury\" title=\"Ray Bradbury\">Ray Bradbury</a> and <a href=\"/wiki/Hannes_Bok\" title=\"Hannes Bok\">Hannes Bok</a>, continued to appear, but the magazine ceased publication in 1954. It was relaunched many times, including for one run of over 20 years that started in 1988. The magazine is regarded by historians of fantasy as one of the most influential in the genre. (<a href=\"/wiki/Weird_Tales\" title=\"Weird Tales\"><b>Full article...</b></a>)</p>\n",
      "this page is missing something\n",
      "/wiki/Free_content\n",
      "Free content\n",
      "<p><b>Free content</b>, <b><a href=\"/wiki/Gratis_versus_libre\" title=\"Gratis versus libre\">libre</a> content</b>, or <b>free information</b>, is any kind of functional work, <a href=\"/wiki/Work_of_art\" title=\"Work of art\">work of art</a>, or other creative <a class=\"mw-redirect\" href=\"/wiki/Content_(media_and_publishing)\" title=\"Content (media and publishing)\">content</a> that meets the definition of a <a href=\"/wiki/Definition_of_Free_Cultural_Works\" title=\"Definition of Free Cultural Works\">free cultural work</a>.</p>\n",
      "/w/index.php?title=Free_content&action=edit\n",
      "/wiki/Wikipedia:Free_content\n"
     ]
    },
    {
     "name": "stdout",
     "output_type": "stream",
     "text": [
      "Wikipedia:Free content\n",
      "<p>The use of <b>free content</b> on Wikipedia:</p>\n",
      "/w/index.php?title=Wikipedia:Free_content&action=edit\n",
      "/wiki/Wikipedia:Wikipedia_is_free_content\n",
      "Wikipedia:Wikipedia is free content\n",
      "<p>Wikipedia is <a href=\"/wiki/Free_content\" title=\"Free content\">free content</a> that anyone can edit, use, modify, and distribute.</p>\n",
      "/w/index.php?title=Wikipedia:Wikipedia_is_free_content&action=edit\n",
      "/wiki/Wikipedia:Copyright_violations\n",
      "Wikipedia:Copyright violations\n",
      "<p>One of the most important aspects of Wikipedia is that its text (not media; but that will be discussed shortly) may be <a href=\"/wiki/Free_content\" title=\"Free content\">freely</a> redistributed, reused and built upon by anyone, under the terms of the <a href=\"/wiki/Wikipedia:Text_of_Creative_Commons_Attribution-ShareAlike_3.0_Unported_License\" title=\"Wikipedia:Text of Creative Commons Attribution-ShareAlike 3.0 Unported License\">Creative Commons Attribution-ShareAlike 3.0 Unported License</a> (CC BY-SA) and, except where otherwise noted, the <a href=\"/wiki/Wikipedia:Text_of_the_GNU_Free_Documentation_License\" title=\"Wikipedia:Text of the GNU Free Documentation License\">GNU Free Documentation License</a> (GFDL) (unversioned, with no invariant sections, front-cover texts, or back-cover texts). Contributors agree to release their original content under both licenses when they submit it, and material from public domain sources or other compatibly licensed sources may also be used in accordance with the <a class=\"mw-redirect\" href=\"/wiki/Wikipedia:Copyright\" title=\"Wikipedia:Copyright\">copyright policy</a>, provided correct attribution is given.</p>\n",
      "this page is missing something\n",
      "/wiki/Wikipedia:Close_paraphrasing\n",
      "Wikipedia:Close paraphrasing\n",
      "<p><b>Close paraphrasing</b> is the superficial modification of material from another source. Editors should generally <em>summarize source material in their own words</em>, adding <a class=\"mw-redirect\" href=\"/wiki/Wikipedia:INCITE\" title=\"Wikipedia:INCITE\">inline citations</a> as required by the <a class=\"mw-redirect\" href=\"/wiki/Wikipedia:V\" title=\"Wikipedia:V\">sourcing policy</a>.</p>\n",
      "/w/index.php?title=Wikipedia:Close_paraphrasing&action=edit\n",
      "/wiki/Wikipedia:Copyright_violation\n",
      "Wikipedia:Copyright violations\n",
      "<p>One of the most important aspects of Wikipedia is that its text (not media; but that will be discussed shortly) may be <a href=\"/wiki/Free_content\" title=\"Free content\">freely</a> redistributed, reused and built upon by anyone, under the terms of the <a href=\"/wiki/Wikipedia:Text_of_Creative_Commons_Attribution-ShareAlike_3.0_Unported_License\" title=\"Wikipedia:Text of Creative Commons Attribution-ShareAlike 3.0 Unported License\">Creative Commons Attribution-ShareAlike 3.0 Unported License</a> (CC BY-SA) and, except where otherwise noted, the <a href=\"/wiki/Wikipedia:Text_of_the_GNU_Free_Documentation_License\" title=\"Wikipedia:Text of the GNU Free Documentation License\">GNU Free Documentation License</a> (GFDL) (unversioned, with no invariant sections, front-cover texts, or back-cover texts). Contributors agree to release their original content under both licenses when they submit it, and material from public domain sources or other compatibly licensed sources may also be used in accordance with the <a class=\"mw-redirect\" href=\"/wiki/Wikipedia:Copyright\" title=\"Wikipedia:Copyright\">copyright policy</a>, provided correct attribution is given.</p>\n",
      "this page is missing something\n",
      "/wiki/Wikipedia:Courtesy_vanishing\n",
      "Wikipedia:Courtesy vanishing\n",
      "<p>The usual way to leave Wikipedia is simply to stop editing and abandon your account. A <b>courtesy vanishing</b> may be implemented when a user in good standing decides not to return, and for whatever reason wishes to make their contributions harder to find or to remove their association with their edits. When there is no administrative need to retain the information, a permanently departing user may request that a wide range of user pages, and other pages that affect him or her alone, be deleted on departure. The user account is renamed; <a class=\"mw-redirect\" href=\"/wiki/Wikipedia:User_page\" title=\"Wikipedia:User page\">user pages</a> are blanked or deleted; and pages related to the user's conduct may be deleted, blanked, or moved. Contributions, logs, signatures, and user-page templates (for example, templates related to blocks or bans) are usually not removed. <a class=\"mw-redirect\" href=\"/wiki/Wikipedia:USERTALK\" title=\"Wikipedia:USERTALK\">User talk pages</a> are usually not deleted.</p>\n",
      "/w/index.php?title=Wikipedia:Courtesy_vanishing&action=edit\n",
      "/wiki/MOS:RTL\n",
      "Wikipedia:Manual of Style/Text formatting\n",
      "<p><input class=\"searchboxInput mw-ui-input mw-ui-input-inline\" dir=\"ltr\" name=\"search\" placeholder=\"\" size=\"25\" type=\"text\" value=\"\"/><input name=\"prefix\" type=\"hidden\" value=\"Wikipedia:Manual of Style\"/> <input class=\"mw-ui-button\" name=\"fulltext\" type=\"submit\" value=\"Search the MoS\"/><input name=\"fulltext\" type=\"hidden\" value=\"Search\"/></p>\n",
      "/w/index.php?title=Wikipedia:Manual_of_Style/Text_formatting&action=edit\n",
      "/wiki/Help:Wiki_markup\n",
      "Help:Wiki markup\n",
      "<p><b>Wiki markup</b>, also known as <i>wikitext</i> or <i>wikicode</i>, consists of the syntax and keywords used by the <a href=\"/wiki/MediaWiki\" title=\"MediaWiki\">MediaWiki</a> software to format a page. To learn how to see this markup, and to save an edit, see: <a href=\"/wiki/Help:Editing\" title=\"Help:Editing\">Help:Editing</a>. There is a short list of markup and tips at <a href=\"/wiki/Help:Cheatsheet\" title=\"Help:Cheatsheet\">Help:Cheatsheet</a>.</p>\n",
      "this page is missing something\n",
      "/wiki/Wiki_markup\n",
      "Wiki\n",
      "<p>A <b>wiki</b> (<span class=\"nowrap\"><span class=\"IPA nopopups noexcerpt\"><a href=\"/wiki/Help:IPA_for_English\" title=\"Help:IPA for English\">/<span style=\"border-bottom:1px dotted\"><span title=\"/ˈ/ primary stress follows\">ˈ</span><span title=\"'w' in 'wind'\">w</span><span title=\"/ɪ/ short 'i' in 'bid'\">ɪ</span><span title=\"'k' in 'kind'\">k</span><span title=\"/i/ 'y' in 'happy'\">i</span></span>/</a></span><small class=\"nowrap metadata\"> (<span class=\"unicode haudio\"><span class=\"fn\"><span style=\"white-space:nowrap\"><a href=\"/wiki/File:En-us-wiki.ogg\" title=\"About this sound\"><img alt=\"About this sound\" data-file-height=\"20\" data-file-width=\"20\" height=\"11\" src=\"//upload.wikimedia.org/wikipedia/commons/thumb/8/8a/Loudspeaker.svg/11px-Loudspeaker.svg.png\" srcset=\"//upload.wikimedia.org/wikipedia/commons/thumb/8/8a/Loudspeaker.svg/17px-Loudspeaker.svg.png 1.5x, //upload.wikimedia.org/wikipedia/commons/thumb/8/8a/Loudspeaker.svg/22px-Loudspeaker.svg.png 2x\" width=\"11\"/></a> </span><a class=\"internal\" href=\"//upload.wikimedia.org/wikipedia/commons/4/46/En-us-wiki.ogg\" title=\"En-us-wiki.ogg\">listen</a></span></span>)</small></span> <a href=\"/wiki/Help:Pronunciation_respelling_key\" title=\"Help:Pronunciation respelling key\"><small title=\"English pronunciation respelling\"><i><b>WIK</b>-ee</i></small></a>) is a <a href=\"/wiki/Website\" title=\"Website\">website</a> on which users <a href=\"/wiki/Collaborative_software\" title=\"Collaborative software\">collaboratively</a> modify content and structure directly from the <a href=\"/wiki/Web_browser\" title=\"Web browser\">web browser</a>. In a typical wiki, text is written using a simplified <a href=\"/wiki/Markup_language\" title=\"Markup language\">markup language</a> and often edited with the help of a <a href=\"/wiki/Online_rich-text_editor\" title=\"Online rich-text editor\">rich-text editor</a>.<sup class=\"reference\" id=\"cite_ref-Britannica_1-0\"><a href=\"#cite_note-Britannica-1\">[1]</a></sup></p>\n",
      "this page is missing something\n",
      "/wiki/File:En-Wiki2.ogg\n",
      "File:En-Wiki2.ogg\n",
      "<p>This is a spoken word version of the Wikipedia article: <b><span class=\"plainlinks\"><a class=\"external text\" href=\"https://en.wikipedia.org/wiki/Wiki?oldid=115104476\">Wiki</a></span></b><br/>\n",
      "<span class=\"audiolink\"><a class=\"internal\" href=\"https://upload.wikimedia.org/wikipedia/commons/a/a3/En-Wiki2.ogg\" title=\"En-Wiki2.ogg\">Listen to this article</a></span> <small>(<a href=\"//commons.wikimedia.org/wiki/Commons:Media_help\" title=\"Commons:Media help\">audio help</a>)</small></p>\n",
      "this page is missing something\n",
      "/wiki/User:Dmcdevit\n",
      "User:Dominic\n",
      "<p><br/></p>\n",
      "/w/index.php?title=User:Dominic&action=edit\n",
      "/wiki/National_Archives_and_Records_Administration\n"
     ]
    },
    {
     "name": "stdout",
     "output_type": "stream",
     "text": [
      "National Archives and Records Administration\n",
      "<p>June 19, 1934<span class=\"noprint\">; 83 years ago</span><span style=\"display:none\"> (<span class=\"bday dtstart published updated\">1934-06-19</span>)</span></p>\n",
      "/w/index.php?title=National_Archives_and_Records_Administration&action=edit\n",
      "/wiki/National_Alien_Registration_Authority\n",
      "National Alien Registration Authority\n",
      "<p>The <b>National Alien Registration Authority</b> (<b>NARA</b>), was an institution of the <a href=\"/wiki/Government_of_Pakistan\" title=\"Government of Pakistan\">Government of Pakistan</a>, under the <a class=\"mw-redirect\" href=\"/wiki/Ministry_of_Interior_and_Narcotics_Control_(Pakistan)\" title=\"Ministry of Interior and Narcotics Control (Pakistan)\">Ministry of Interior and Narcotics Control</a>, for the main purpose of legally registering and documenting <a href=\"/wiki/Immigration_to_Pakistan\" title=\"Immigration to Pakistan\">immigrants and other foreign residents</a> in the country.<sup class=\"reference\" id=\"cite_ref-NARA_via_NADRA_1-0\"><a href=\"#cite_note-NARA_via_NADRA-1\">[1]</a></sup></p>\n",
      "/w/index.php?title=National_Alien_Registration_Authority&action=edit\n",
      "/wiki/File:State_emblem_of_Pakistan.svg\n",
      "File:State emblem of Pakistan.svg\n",
      "<p>State emblem of <a class=\"extiw\" href=\"https://en.wikipedia.org/wiki/Pakistan\" title=\"en:Pakistan\">en:Pakistan</a>.</p>\n",
      "this page is missing something\n",
      "/wiki/Special:WhatLinksHere/File:State_emblem_of_Pakistan.svg\n",
      "Pages that link to \"File:State emblem of Pakistan.svg\"\n",
      "<p>The following pages link to <b><span id=\"specialDeleteTarget\"><a href=\"/wiki/File:State_emblem_of_Pakistan.svg\" title=\"File:State emblem of Pakistan.svg\">File:State emblem of Pakistan.svg</a></span></b>\n",
      "<span id=\"specialDeleteLink\"></span>\n",
      "</p>\n",
      "this page is missing something\n",
      "/wiki/Aga_Khan_III\n",
      "Aga Khan III\n",
      "<p><b>Sir Sultan Muhammed Shah, Aga Khan III</b> <span style=\"font-size:85%;\"><a class=\"mw-redirect\" href=\"/wiki/Knight_Grand_Commander_of_the_Order_of_the_Star_of_India\" title=\"Knight Grand Commander of the Order of the Star of India\">GCSI</a> <a class=\"mw-redirect\" href=\"/wiki/Knight_Grand_Cross_of_the_Order_of_St_Michael_and_St_George\" title=\"Knight Grand Cross of the Order of St Michael and St George\">GCMG</a> <a class=\"mw-redirect\" href=\"/wiki/Knight_Grand_Commander_of_the_Order_of_the_Indian_Empire\" title=\"Knight Grand Commander of the Order of the Indian Empire\">GCIE</a> <a class=\"mw-redirect\" href=\"/wiki/Knight_Grand_Cross_of_the_Royal_Victorian_Order\" title=\"Knight Grand Cross of the Royal Victorian Order\">GCVO</a> <a href=\"/wiki/Privy_Council_of_the_United_Kingdom\" title=\"Privy Council of the United Kingdom\">PC</a></span> (2 November 1877 – 11 July 1957) was the 48th <a class=\"mw-redirect\" href=\"/wiki/Shia_Imam\" title=\"Shia Imam\">Imam</a> of the <a href=\"/wiki/Nizari\" title=\"Nizari\">Nizari Ismaili</a> community. He was one of the founders and the first president of the <a href=\"/wiki/All-India_Muslim_League\" title=\"All-India Muslim League\">All-India Muslim League</a> (AIML). His goal was the advancement of Muslim agendas and protection of Muslim rights in India. The League, until the late 1930s, was not a mass organisation but represented the landed and commercial Muslim interests of the British-ruled 'United Provinces' (today's <a href=\"/wiki/Uttar_Pradesh\" title=\"Uttar Pradesh\">Uttar Pradesh</a>).<sup class=\"reference\" id=\"cite_ref-2\"><a href=\"#cite_note-2\">[2]</a></sup> He shared Sir <a href=\"/wiki/Syed_Ahmad_Khan\" title=\"Syed Ahmad Khan\">Syed Ahmad Khan</a>'s belief that Muslims should first build up their <a href=\"/wiki/Social_capital\" title=\"Social capital\">social capital</a> through advanced education before engaging in politics. Aga Khan called on the <a href=\"/wiki/British_Raj\" title=\"British Raj\">British Raj</a> to consider Muslims to be a separate nation within India, then so-called 'Two Nation Theory'. Even after he resigned as president of the AIML in 1912, he still exerted major influence on its policies and agendas. He was nominated to represent India to the League of Nations in 1932 and served as President of the <a href=\"/wiki/League_of_Nations\" title=\"League of Nations\">League of Nations</a> from 1937–38.<sup class=\"reference\" id=\"cite_ref-findpk_3-0\"><a href=\"#cite_note-findpk-3\">[3]</a></sup></p>\n",
      "/w/index.php?title=Aga_Khan_III&action=edit\n",
      "/wiki/File:HH_the_AGA_KHAN_1936.jpg\n",
      "File:HH the AGA KHAN 1936.jpg\n",
      "<p>Photo Taken more than 50 years ago and the photographer likely to be deceased</p>\n",
      "/w/index.php?title=File:HH_the_AGA_KHAN_1936.jpg&action=edit\n",
      "/wiki/File:CC_some_rights_reserved.svg\n",
      "File:CC some rights reserved.svg\n",
      "<p><span class=\"licensetpl_short\">PD</span> <span class=\"licensetpl_long\">Public domain</span> <span class=\"licensetpl_link_req\">false</span> <span class=\"licensetpl_attr_req\">false</span></p>\n",
      "/w/index.php?title=File:CC_some_rights_reserved.svg&action=edit\n",
      "/wiki/Wikipedia:Criteria_for_speedy_deletion#F8\n",
      "Wikipedia:Criteria for speedy deletion\n",
      "<p>The <b>criteria for speedy deletion</b> (<b>CSD</b>) specify the only cases in which <a href=\"/wiki/Wikipedia:Administrators\" title=\"Wikipedia:Administrators\">administrators</a> have broad <a href=\"/wiki/Wikipedia:Consensus\" title=\"Wikipedia:Consensus\">consensus</a> to bypass <a href=\"/wiki/Wikipedia:Deletion_process\" title=\"Wikipedia:Deletion process\">deletion discussion</a>, at their discretion, and immediately delete Wikipedia pages or media. They cover only the cases specified in the rules here.</p>\n",
      "this page is missing something\n",
      "/wiki/Help:Edit_summary\n",
      "Help:Edit summary\n",
      "<p>An <b>edit summary</b> is a brief explanation of an <a href=\"/wiki/Help:Editing\" title=\"Help:Editing\">edit</a> to a Wikipedia page. When you edit a page, there is a small text entry field labeled <i>Edit summary</i> located under the main edit box and above the <i>Save page</i> button:</p>\n",
      "this page is missing something\n",
      "/wiki/Help:Minor_edit\n",
      "Help:Minor edit\n",
      "<p>A check to the <b>minor edit</b> box signifies that only superficial differences exist between the current and previous versions. Examples include typographical corrections, formatting and presentational changes, and rearrangements of text without modification of its content. A <i>minor edit</i> is one that the editor believes requires no review and could never be the subject of a dispute. An edit of this kind is marked in its page's <a href=\"/wiki/Help:Page_history\" title=\"Help:Page history\">revision history</a> with a lower case, bolded \"m\" character (<b>m</b>).</p>\n",
      "this page is missing something\n",
      "/wiki/Wikipedia:WikiProject_Maine\n",
      "Wikipedia:WikiProject Maine\n",
      "<p>Welcome to WikiProject Maine! We are a group dedicated to improving Wikipedia's coverage of articles related to the state of Maine.</p>\n",
      "/w/index.php?title=Wikipedia:WikiProject_Maine&action=edit\n",
      "/wiki/Special:RecentChangesLinked/Wikipedia:WikiProject_Maine/Related\n"
     ]
    },
    {
     "ename": "HTTPError",
     "evalue": "HTTP Error 404: Not Found",
     "output_type": "error",
     "traceback": [
      "\u001b[0;31m---------------------------------------------------------------------------\u001b[0m",
      "\u001b[0;31mHTTPError\u001b[0m                                 Traceback (most recent call last)",
      "\u001b[0;32m<ipython-input-47-4514db5be33c>\u001b[0m in \u001b[0;36m<module>\u001b[0;34m()\u001b[0m\n\u001b[0;32m----> 1\u001b[0;31m \u001b[0mgetLinks\u001b[0m\u001b[0;34m(\u001b[0m\u001b[0;34m\"\"\u001b[0m\u001b[0;34m)\u001b[0m\u001b[0;34m\u001b[0m\u001b[0m\n\u001b[0m",
      "\u001b[0;32m<ipython-input-46-df13bdcf1212>\u001b[0m in \u001b[0;36mgetLinks\u001b[0;34m(pageUrl)\u001b[0m\n\u001b[1;32m     19\u001b[0m             \u001b[0mprint\u001b[0m\u001b[0;34m(\u001b[0m\u001b[0mnewPage\u001b[0m\u001b[0;34m)\u001b[0m\u001b[0;34m\u001b[0m\u001b[0m\n\u001b[1;32m     20\u001b[0m             \u001b[0mpages\u001b[0m\u001b[0;34m.\u001b[0m\u001b[0madd\u001b[0m\u001b[0;34m(\u001b[0m\u001b[0mnewPage\u001b[0m\u001b[0;34m)\u001b[0m\u001b[0;34m\u001b[0m\u001b[0m\n\u001b[0;32m---> 21\u001b[0;31m             \u001b[0mgetLinks\u001b[0m\u001b[0;34m(\u001b[0m\u001b[0mnewPage\u001b[0m\u001b[0;34m)\u001b[0m\u001b[0;34m\u001b[0m\u001b[0m\n\u001b[0m",
      "\u001b[0;32m<ipython-input-46-df13bdcf1212>\u001b[0m in \u001b[0;36mgetLinks\u001b[0;34m(pageUrl)\u001b[0m\n\u001b[1;32m     19\u001b[0m             \u001b[0mprint\u001b[0m\u001b[0;34m(\u001b[0m\u001b[0mnewPage\u001b[0m\u001b[0;34m)\u001b[0m\u001b[0;34m\u001b[0m\u001b[0m\n\u001b[1;32m     20\u001b[0m             \u001b[0mpages\u001b[0m\u001b[0;34m.\u001b[0m\u001b[0madd\u001b[0m\u001b[0;34m(\u001b[0m\u001b[0mnewPage\u001b[0m\u001b[0;34m)\u001b[0m\u001b[0;34m\u001b[0m\u001b[0m\n\u001b[0;32m---> 21\u001b[0;31m             \u001b[0mgetLinks\u001b[0m\u001b[0;34m(\u001b[0m\u001b[0mnewPage\u001b[0m\u001b[0;34m)\u001b[0m\u001b[0;34m\u001b[0m\u001b[0m\n\u001b[0m",
      "\u001b[0;32m<ipython-input-46-df13bdcf1212>\u001b[0m in \u001b[0;36mgetLinks\u001b[0;34m(pageUrl)\u001b[0m\n\u001b[1;32m     19\u001b[0m             \u001b[0mprint\u001b[0m\u001b[0;34m(\u001b[0m\u001b[0mnewPage\u001b[0m\u001b[0;34m)\u001b[0m\u001b[0;34m\u001b[0m\u001b[0m\n\u001b[1;32m     20\u001b[0m             \u001b[0mpages\u001b[0m\u001b[0;34m.\u001b[0m\u001b[0madd\u001b[0m\u001b[0;34m(\u001b[0m\u001b[0mnewPage\u001b[0m\u001b[0;34m)\u001b[0m\u001b[0;34m\u001b[0m\u001b[0m\n\u001b[0;32m---> 21\u001b[0;31m             \u001b[0mgetLinks\u001b[0m\u001b[0;34m(\u001b[0m\u001b[0mnewPage\u001b[0m\u001b[0;34m)\u001b[0m\u001b[0;34m\u001b[0m\u001b[0m\n\u001b[0m",
      "\u001b[0;32m<ipython-input-46-df13bdcf1212>\u001b[0m in \u001b[0;36mgetLinks\u001b[0;34m(pageUrl)\u001b[0m\n\u001b[1;32m     19\u001b[0m             \u001b[0mprint\u001b[0m\u001b[0;34m(\u001b[0m\u001b[0mnewPage\u001b[0m\u001b[0;34m)\u001b[0m\u001b[0;34m\u001b[0m\u001b[0m\n\u001b[1;32m     20\u001b[0m             \u001b[0mpages\u001b[0m\u001b[0;34m.\u001b[0m\u001b[0madd\u001b[0m\u001b[0;34m(\u001b[0m\u001b[0mnewPage\u001b[0m\u001b[0;34m)\u001b[0m\u001b[0;34m\u001b[0m\u001b[0m\n\u001b[0;32m---> 21\u001b[0;31m             \u001b[0mgetLinks\u001b[0m\u001b[0;34m(\u001b[0m\u001b[0mnewPage\u001b[0m\u001b[0;34m)\u001b[0m\u001b[0;34m\u001b[0m\u001b[0m\n\u001b[0m",
      "\u001b[0;32m<ipython-input-46-df13bdcf1212>\u001b[0m in \u001b[0;36mgetLinks\u001b[0;34m(pageUrl)\u001b[0m\n\u001b[1;32m     19\u001b[0m             \u001b[0mprint\u001b[0m\u001b[0;34m(\u001b[0m\u001b[0mnewPage\u001b[0m\u001b[0;34m)\u001b[0m\u001b[0;34m\u001b[0m\u001b[0m\n\u001b[1;32m     20\u001b[0m             \u001b[0mpages\u001b[0m\u001b[0;34m.\u001b[0m\u001b[0madd\u001b[0m\u001b[0;34m(\u001b[0m\u001b[0mnewPage\u001b[0m\u001b[0;34m)\u001b[0m\u001b[0;34m\u001b[0m\u001b[0m\n\u001b[0;32m---> 21\u001b[0;31m             \u001b[0mgetLinks\u001b[0m\u001b[0;34m(\u001b[0m\u001b[0mnewPage\u001b[0m\u001b[0;34m)\u001b[0m\u001b[0;34m\u001b[0m\u001b[0m\n\u001b[0m",
      "\u001b[0;32m<ipython-input-46-df13bdcf1212>\u001b[0m in \u001b[0;36mgetLinks\u001b[0;34m(pageUrl)\u001b[0m\n\u001b[1;32m     19\u001b[0m             \u001b[0mprint\u001b[0m\u001b[0;34m(\u001b[0m\u001b[0mnewPage\u001b[0m\u001b[0;34m)\u001b[0m\u001b[0;34m\u001b[0m\u001b[0m\n\u001b[1;32m     20\u001b[0m             \u001b[0mpages\u001b[0m\u001b[0;34m.\u001b[0m\u001b[0madd\u001b[0m\u001b[0;34m(\u001b[0m\u001b[0mnewPage\u001b[0m\u001b[0;34m)\u001b[0m\u001b[0;34m\u001b[0m\u001b[0m\n\u001b[0;32m---> 21\u001b[0;31m             \u001b[0mgetLinks\u001b[0m\u001b[0;34m(\u001b[0m\u001b[0mnewPage\u001b[0m\u001b[0;34m)\u001b[0m\u001b[0;34m\u001b[0m\u001b[0m\n\u001b[0m",
      "\u001b[0;32m<ipython-input-46-df13bdcf1212>\u001b[0m in \u001b[0;36mgetLinks\u001b[0;34m(pageUrl)\u001b[0m\n\u001b[1;32m     19\u001b[0m             \u001b[0mprint\u001b[0m\u001b[0;34m(\u001b[0m\u001b[0mnewPage\u001b[0m\u001b[0;34m)\u001b[0m\u001b[0;34m\u001b[0m\u001b[0m\n\u001b[1;32m     20\u001b[0m             \u001b[0mpages\u001b[0m\u001b[0;34m.\u001b[0m\u001b[0madd\u001b[0m\u001b[0;34m(\u001b[0m\u001b[0mnewPage\u001b[0m\u001b[0;34m)\u001b[0m\u001b[0;34m\u001b[0m\u001b[0m\n\u001b[0;32m---> 21\u001b[0;31m             \u001b[0mgetLinks\u001b[0m\u001b[0;34m(\u001b[0m\u001b[0mnewPage\u001b[0m\u001b[0;34m)\u001b[0m\u001b[0;34m\u001b[0m\u001b[0m\n\u001b[0m",
      "\u001b[0;32m<ipython-input-46-df13bdcf1212>\u001b[0m in \u001b[0;36mgetLinks\u001b[0;34m(pageUrl)\u001b[0m\n\u001b[1;32m     19\u001b[0m             \u001b[0mprint\u001b[0m\u001b[0;34m(\u001b[0m\u001b[0mnewPage\u001b[0m\u001b[0;34m)\u001b[0m\u001b[0;34m\u001b[0m\u001b[0m\n\u001b[1;32m     20\u001b[0m             \u001b[0mpages\u001b[0m\u001b[0;34m.\u001b[0m\u001b[0madd\u001b[0m\u001b[0;34m(\u001b[0m\u001b[0mnewPage\u001b[0m\u001b[0;34m)\u001b[0m\u001b[0;34m\u001b[0m\u001b[0m\n\u001b[0;32m---> 21\u001b[0;31m             \u001b[0mgetLinks\u001b[0m\u001b[0;34m(\u001b[0m\u001b[0mnewPage\u001b[0m\u001b[0;34m)\u001b[0m\u001b[0;34m\u001b[0m\u001b[0m\n\u001b[0m",
      "\u001b[0;32m<ipython-input-46-df13bdcf1212>\u001b[0m in \u001b[0;36mgetLinks\u001b[0;34m(pageUrl)\u001b[0m\n\u001b[1;32m     19\u001b[0m             \u001b[0mprint\u001b[0m\u001b[0;34m(\u001b[0m\u001b[0mnewPage\u001b[0m\u001b[0;34m)\u001b[0m\u001b[0;34m\u001b[0m\u001b[0m\n\u001b[1;32m     20\u001b[0m             \u001b[0mpages\u001b[0m\u001b[0;34m.\u001b[0m\u001b[0madd\u001b[0m\u001b[0;34m(\u001b[0m\u001b[0mnewPage\u001b[0m\u001b[0;34m)\u001b[0m\u001b[0;34m\u001b[0m\u001b[0m\n\u001b[0;32m---> 21\u001b[0;31m             \u001b[0mgetLinks\u001b[0m\u001b[0;34m(\u001b[0m\u001b[0mnewPage\u001b[0m\u001b[0;34m)\u001b[0m\u001b[0;34m\u001b[0m\u001b[0m\n\u001b[0m",
      "\u001b[0;32m<ipython-input-46-df13bdcf1212>\u001b[0m in \u001b[0;36mgetLinks\u001b[0;34m(pageUrl)\u001b[0m\n\u001b[1;32m     19\u001b[0m             \u001b[0mprint\u001b[0m\u001b[0;34m(\u001b[0m\u001b[0mnewPage\u001b[0m\u001b[0;34m)\u001b[0m\u001b[0;34m\u001b[0m\u001b[0m\n\u001b[1;32m     20\u001b[0m             \u001b[0mpages\u001b[0m\u001b[0;34m.\u001b[0m\u001b[0madd\u001b[0m\u001b[0;34m(\u001b[0m\u001b[0mnewPage\u001b[0m\u001b[0;34m)\u001b[0m\u001b[0;34m\u001b[0m\u001b[0m\n\u001b[0;32m---> 21\u001b[0;31m             \u001b[0mgetLinks\u001b[0m\u001b[0;34m(\u001b[0m\u001b[0mnewPage\u001b[0m\u001b[0;34m)\u001b[0m\u001b[0;34m\u001b[0m\u001b[0m\n\u001b[0m",
      "\u001b[0;32m<ipython-input-46-df13bdcf1212>\u001b[0m in \u001b[0;36mgetLinks\u001b[0;34m(pageUrl)\u001b[0m\n\u001b[1;32m     19\u001b[0m             \u001b[0mprint\u001b[0m\u001b[0;34m(\u001b[0m\u001b[0mnewPage\u001b[0m\u001b[0;34m)\u001b[0m\u001b[0;34m\u001b[0m\u001b[0m\n\u001b[1;32m     20\u001b[0m             \u001b[0mpages\u001b[0m\u001b[0;34m.\u001b[0m\u001b[0madd\u001b[0m\u001b[0;34m(\u001b[0m\u001b[0mnewPage\u001b[0m\u001b[0;34m)\u001b[0m\u001b[0;34m\u001b[0m\u001b[0m\n\u001b[0;32m---> 21\u001b[0;31m             \u001b[0mgetLinks\u001b[0m\u001b[0;34m(\u001b[0m\u001b[0mnewPage\u001b[0m\u001b[0;34m)\u001b[0m\u001b[0;34m\u001b[0m\u001b[0m\n\u001b[0m",
      "\u001b[0;32m<ipython-input-46-df13bdcf1212>\u001b[0m in \u001b[0;36mgetLinks\u001b[0;34m(pageUrl)\u001b[0m\n\u001b[1;32m     19\u001b[0m             \u001b[0mprint\u001b[0m\u001b[0;34m(\u001b[0m\u001b[0mnewPage\u001b[0m\u001b[0;34m)\u001b[0m\u001b[0;34m\u001b[0m\u001b[0m\n\u001b[1;32m     20\u001b[0m             \u001b[0mpages\u001b[0m\u001b[0;34m.\u001b[0m\u001b[0madd\u001b[0m\u001b[0;34m(\u001b[0m\u001b[0mnewPage\u001b[0m\u001b[0;34m)\u001b[0m\u001b[0;34m\u001b[0m\u001b[0m\n\u001b[0;32m---> 21\u001b[0;31m             \u001b[0mgetLinks\u001b[0m\u001b[0;34m(\u001b[0m\u001b[0mnewPage\u001b[0m\u001b[0;34m)\u001b[0m\u001b[0;34m\u001b[0m\u001b[0m\n\u001b[0m",
      "\u001b[0;32m<ipython-input-46-df13bdcf1212>\u001b[0m in \u001b[0;36mgetLinks\u001b[0;34m(pageUrl)\u001b[0m\n\u001b[1;32m     19\u001b[0m             \u001b[0mprint\u001b[0m\u001b[0;34m(\u001b[0m\u001b[0mnewPage\u001b[0m\u001b[0;34m)\u001b[0m\u001b[0;34m\u001b[0m\u001b[0m\n\u001b[1;32m     20\u001b[0m             \u001b[0mpages\u001b[0m\u001b[0;34m.\u001b[0m\u001b[0madd\u001b[0m\u001b[0;34m(\u001b[0m\u001b[0mnewPage\u001b[0m\u001b[0;34m)\u001b[0m\u001b[0;34m\u001b[0m\u001b[0m\n\u001b[0;32m---> 21\u001b[0;31m             \u001b[0mgetLinks\u001b[0m\u001b[0;34m(\u001b[0m\u001b[0mnewPage\u001b[0m\u001b[0;34m)\u001b[0m\u001b[0;34m\u001b[0m\u001b[0m\n\u001b[0m",
      "\u001b[0;32m<ipython-input-46-df13bdcf1212>\u001b[0m in \u001b[0;36mgetLinks\u001b[0;34m(pageUrl)\u001b[0m\n\u001b[1;32m     19\u001b[0m             \u001b[0mprint\u001b[0m\u001b[0;34m(\u001b[0m\u001b[0mnewPage\u001b[0m\u001b[0;34m)\u001b[0m\u001b[0;34m\u001b[0m\u001b[0m\n\u001b[1;32m     20\u001b[0m             \u001b[0mpages\u001b[0m\u001b[0;34m.\u001b[0m\u001b[0madd\u001b[0m\u001b[0;34m(\u001b[0m\u001b[0mnewPage\u001b[0m\u001b[0;34m)\u001b[0m\u001b[0;34m\u001b[0m\u001b[0m\n\u001b[0;32m---> 21\u001b[0;31m             \u001b[0mgetLinks\u001b[0m\u001b[0;34m(\u001b[0m\u001b[0mnewPage\u001b[0m\u001b[0;34m)\u001b[0m\u001b[0;34m\u001b[0m\u001b[0m\n\u001b[0m",
      "\u001b[0;32m<ipython-input-46-df13bdcf1212>\u001b[0m in \u001b[0;36mgetLinks\u001b[0;34m(pageUrl)\u001b[0m\n\u001b[1;32m     19\u001b[0m             \u001b[0mprint\u001b[0m\u001b[0;34m(\u001b[0m\u001b[0mnewPage\u001b[0m\u001b[0;34m)\u001b[0m\u001b[0;34m\u001b[0m\u001b[0m\n\u001b[1;32m     20\u001b[0m             \u001b[0mpages\u001b[0m\u001b[0;34m.\u001b[0m\u001b[0madd\u001b[0m\u001b[0;34m(\u001b[0m\u001b[0mnewPage\u001b[0m\u001b[0;34m)\u001b[0m\u001b[0;34m\u001b[0m\u001b[0m\n\u001b[0;32m---> 21\u001b[0;31m             \u001b[0mgetLinks\u001b[0m\u001b[0;34m(\u001b[0m\u001b[0mnewPage\u001b[0m\u001b[0;34m)\u001b[0m\u001b[0;34m\u001b[0m\u001b[0m\n\u001b[0m",
      "\u001b[0;32m<ipython-input-46-df13bdcf1212>\u001b[0m in \u001b[0;36mgetLinks\u001b[0;34m(pageUrl)\u001b[0m\n\u001b[1;32m     19\u001b[0m             \u001b[0mprint\u001b[0m\u001b[0;34m(\u001b[0m\u001b[0mnewPage\u001b[0m\u001b[0;34m)\u001b[0m\u001b[0;34m\u001b[0m\u001b[0m\n\u001b[1;32m     20\u001b[0m             \u001b[0mpages\u001b[0m\u001b[0;34m.\u001b[0m\u001b[0madd\u001b[0m\u001b[0;34m(\u001b[0m\u001b[0mnewPage\u001b[0m\u001b[0;34m)\u001b[0m\u001b[0;34m\u001b[0m\u001b[0m\n\u001b[0;32m---> 21\u001b[0;31m             \u001b[0mgetLinks\u001b[0m\u001b[0;34m(\u001b[0m\u001b[0mnewPage\u001b[0m\u001b[0;34m)\u001b[0m\u001b[0;34m\u001b[0m\u001b[0m\n\u001b[0m",
      "\u001b[0;32m<ipython-input-46-df13bdcf1212>\u001b[0m in \u001b[0;36mgetLinks\u001b[0;34m(pageUrl)\u001b[0m\n\u001b[1;32m     19\u001b[0m             \u001b[0mprint\u001b[0m\u001b[0;34m(\u001b[0m\u001b[0mnewPage\u001b[0m\u001b[0;34m)\u001b[0m\u001b[0;34m\u001b[0m\u001b[0m\n\u001b[1;32m     20\u001b[0m             \u001b[0mpages\u001b[0m\u001b[0;34m.\u001b[0m\u001b[0madd\u001b[0m\u001b[0;34m(\u001b[0m\u001b[0mnewPage\u001b[0m\u001b[0;34m)\u001b[0m\u001b[0;34m\u001b[0m\u001b[0m\n\u001b[0;32m---> 21\u001b[0;31m             \u001b[0mgetLinks\u001b[0m\u001b[0;34m(\u001b[0m\u001b[0mnewPage\u001b[0m\u001b[0;34m)\u001b[0m\u001b[0;34m\u001b[0m\u001b[0m\n\u001b[0m",
      "\u001b[0;32m<ipython-input-46-df13bdcf1212>\u001b[0m in \u001b[0;36mgetLinks\u001b[0;34m(pageUrl)\u001b[0m\n\u001b[1;32m     19\u001b[0m             \u001b[0mprint\u001b[0m\u001b[0;34m(\u001b[0m\u001b[0mnewPage\u001b[0m\u001b[0;34m)\u001b[0m\u001b[0;34m\u001b[0m\u001b[0m\n\u001b[1;32m     20\u001b[0m             \u001b[0mpages\u001b[0m\u001b[0;34m.\u001b[0m\u001b[0madd\u001b[0m\u001b[0;34m(\u001b[0m\u001b[0mnewPage\u001b[0m\u001b[0;34m)\u001b[0m\u001b[0;34m\u001b[0m\u001b[0m\n\u001b[0;32m---> 21\u001b[0;31m             \u001b[0mgetLinks\u001b[0m\u001b[0;34m(\u001b[0m\u001b[0mnewPage\u001b[0m\u001b[0;34m)\u001b[0m\u001b[0;34m\u001b[0m\u001b[0m\n\u001b[0m",
      "\u001b[0;32m<ipython-input-46-df13bdcf1212>\u001b[0m in \u001b[0;36mgetLinks\u001b[0;34m(pageUrl)\u001b[0m\n\u001b[1;32m     19\u001b[0m             \u001b[0mprint\u001b[0m\u001b[0;34m(\u001b[0m\u001b[0mnewPage\u001b[0m\u001b[0;34m)\u001b[0m\u001b[0;34m\u001b[0m\u001b[0m\n\u001b[1;32m     20\u001b[0m             \u001b[0mpages\u001b[0m\u001b[0;34m.\u001b[0m\u001b[0madd\u001b[0m\u001b[0;34m(\u001b[0m\u001b[0mnewPage\u001b[0m\u001b[0;34m)\u001b[0m\u001b[0;34m\u001b[0m\u001b[0m\n\u001b[0;32m---> 21\u001b[0;31m             \u001b[0mgetLinks\u001b[0m\u001b[0;34m(\u001b[0m\u001b[0mnewPage\u001b[0m\u001b[0;34m)\u001b[0m\u001b[0;34m\u001b[0m\u001b[0m\n\u001b[0m",
      "\u001b[0;32m<ipython-input-46-df13bdcf1212>\u001b[0m in \u001b[0;36mgetLinks\u001b[0;34m(pageUrl)\u001b[0m\n\u001b[1;32m     19\u001b[0m             \u001b[0mprint\u001b[0m\u001b[0;34m(\u001b[0m\u001b[0mnewPage\u001b[0m\u001b[0;34m)\u001b[0m\u001b[0;34m\u001b[0m\u001b[0m\n\u001b[1;32m     20\u001b[0m             \u001b[0mpages\u001b[0m\u001b[0;34m.\u001b[0m\u001b[0madd\u001b[0m\u001b[0;34m(\u001b[0m\u001b[0mnewPage\u001b[0m\u001b[0;34m)\u001b[0m\u001b[0;34m\u001b[0m\u001b[0m\n\u001b[0;32m---> 21\u001b[0;31m             \u001b[0mgetLinks\u001b[0m\u001b[0;34m(\u001b[0m\u001b[0mnewPage\u001b[0m\u001b[0;34m)\u001b[0m\u001b[0;34m\u001b[0m\u001b[0m\n\u001b[0m",
      "\u001b[0;32m<ipython-input-46-df13bdcf1212>\u001b[0m in \u001b[0;36mgetLinks\u001b[0;34m(pageUrl)\u001b[0m\n\u001b[1;32m     19\u001b[0m             \u001b[0mprint\u001b[0m\u001b[0;34m(\u001b[0m\u001b[0mnewPage\u001b[0m\u001b[0;34m)\u001b[0m\u001b[0;34m\u001b[0m\u001b[0m\n\u001b[1;32m     20\u001b[0m             \u001b[0mpages\u001b[0m\u001b[0;34m.\u001b[0m\u001b[0madd\u001b[0m\u001b[0;34m(\u001b[0m\u001b[0mnewPage\u001b[0m\u001b[0;34m)\u001b[0m\u001b[0;34m\u001b[0m\u001b[0m\n\u001b[0;32m---> 21\u001b[0;31m             \u001b[0mgetLinks\u001b[0m\u001b[0;34m(\u001b[0m\u001b[0mnewPage\u001b[0m\u001b[0;34m)\u001b[0m\u001b[0;34m\u001b[0m\u001b[0m\n\u001b[0m",
      "\u001b[0;32m<ipython-input-46-df13bdcf1212>\u001b[0m in \u001b[0;36mgetLinks\u001b[0;34m(pageUrl)\u001b[0m\n\u001b[1;32m     19\u001b[0m             \u001b[0mprint\u001b[0m\u001b[0;34m(\u001b[0m\u001b[0mnewPage\u001b[0m\u001b[0;34m)\u001b[0m\u001b[0;34m\u001b[0m\u001b[0m\n\u001b[1;32m     20\u001b[0m             \u001b[0mpages\u001b[0m\u001b[0;34m.\u001b[0m\u001b[0madd\u001b[0m\u001b[0;34m(\u001b[0m\u001b[0mnewPage\u001b[0m\u001b[0;34m)\u001b[0m\u001b[0;34m\u001b[0m\u001b[0m\n\u001b[0;32m---> 21\u001b[0;31m             \u001b[0mgetLinks\u001b[0m\u001b[0;34m(\u001b[0m\u001b[0mnewPage\u001b[0m\u001b[0;34m)\u001b[0m\u001b[0;34m\u001b[0m\u001b[0m\n\u001b[0m",
      "\u001b[0;32m<ipython-input-46-df13bdcf1212>\u001b[0m in \u001b[0;36mgetLinks\u001b[0;34m(pageUrl)\u001b[0m\n\u001b[1;32m     19\u001b[0m             \u001b[0mprint\u001b[0m\u001b[0;34m(\u001b[0m\u001b[0mnewPage\u001b[0m\u001b[0;34m)\u001b[0m\u001b[0;34m\u001b[0m\u001b[0m\n\u001b[1;32m     20\u001b[0m             \u001b[0mpages\u001b[0m\u001b[0;34m.\u001b[0m\u001b[0madd\u001b[0m\u001b[0;34m(\u001b[0m\u001b[0mnewPage\u001b[0m\u001b[0;34m)\u001b[0m\u001b[0;34m\u001b[0m\u001b[0m\n\u001b[0;32m---> 21\u001b[0;31m             \u001b[0mgetLinks\u001b[0m\u001b[0;34m(\u001b[0m\u001b[0mnewPage\u001b[0m\u001b[0;34m)\u001b[0m\u001b[0;34m\u001b[0m\u001b[0m\n\u001b[0m",
      "\u001b[0;32m<ipython-input-46-df13bdcf1212>\u001b[0m in \u001b[0;36mgetLinks\u001b[0;34m(pageUrl)\u001b[0m\n\u001b[1;32m     19\u001b[0m             \u001b[0mprint\u001b[0m\u001b[0;34m(\u001b[0m\u001b[0mnewPage\u001b[0m\u001b[0;34m)\u001b[0m\u001b[0;34m\u001b[0m\u001b[0m\n\u001b[1;32m     20\u001b[0m             \u001b[0mpages\u001b[0m\u001b[0;34m.\u001b[0m\u001b[0madd\u001b[0m\u001b[0;34m(\u001b[0m\u001b[0mnewPage\u001b[0m\u001b[0;34m)\u001b[0m\u001b[0;34m\u001b[0m\u001b[0m\n\u001b[0;32m---> 21\u001b[0;31m             \u001b[0mgetLinks\u001b[0m\u001b[0;34m(\u001b[0m\u001b[0mnewPage\u001b[0m\u001b[0;34m)\u001b[0m\u001b[0;34m\u001b[0m\u001b[0m\n\u001b[0m",
      "\u001b[0;32m<ipython-input-46-df13bdcf1212>\u001b[0m in \u001b[0;36mgetLinks\u001b[0;34m(pageUrl)\u001b[0m\n\u001b[1;32m     19\u001b[0m             \u001b[0mprint\u001b[0m\u001b[0;34m(\u001b[0m\u001b[0mnewPage\u001b[0m\u001b[0;34m)\u001b[0m\u001b[0;34m\u001b[0m\u001b[0m\n\u001b[1;32m     20\u001b[0m             \u001b[0mpages\u001b[0m\u001b[0;34m.\u001b[0m\u001b[0madd\u001b[0m\u001b[0;34m(\u001b[0m\u001b[0mnewPage\u001b[0m\u001b[0;34m)\u001b[0m\u001b[0;34m\u001b[0m\u001b[0m\n\u001b[0;32m---> 21\u001b[0;31m             \u001b[0mgetLinks\u001b[0m\u001b[0;34m(\u001b[0m\u001b[0mnewPage\u001b[0m\u001b[0;34m)\u001b[0m\u001b[0;34m\u001b[0m\u001b[0m\n\u001b[0m",
      "\u001b[0;32m<ipython-input-46-df13bdcf1212>\u001b[0m in \u001b[0;36mgetLinks\u001b[0;34m(pageUrl)\u001b[0m\n\u001b[1;32m     19\u001b[0m             \u001b[0mprint\u001b[0m\u001b[0;34m(\u001b[0m\u001b[0mnewPage\u001b[0m\u001b[0;34m)\u001b[0m\u001b[0;34m\u001b[0m\u001b[0m\n\u001b[1;32m     20\u001b[0m             \u001b[0mpages\u001b[0m\u001b[0;34m.\u001b[0m\u001b[0madd\u001b[0m\u001b[0;34m(\u001b[0m\u001b[0mnewPage\u001b[0m\u001b[0;34m)\u001b[0m\u001b[0;34m\u001b[0m\u001b[0m\n\u001b[0;32m---> 21\u001b[0;31m             \u001b[0mgetLinks\u001b[0m\u001b[0;34m(\u001b[0m\u001b[0mnewPage\u001b[0m\u001b[0;34m)\u001b[0m\u001b[0;34m\u001b[0m\u001b[0m\n\u001b[0m",
      "\u001b[0;32m<ipython-input-46-df13bdcf1212>\u001b[0m in \u001b[0;36mgetLinks\u001b[0;34m(pageUrl)\u001b[0m\n\u001b[1;32m     19\u001b[0m             \u001b[0mprint\u001b[0m\u001b[0;34m(\u001b[0m\u001b[0mnewPage\u001b[0m\u001b[0;34m)\u001b[0m\u001b[0;34m\u001b[0m\u001b[0m\n\u001b[1;32m     20\u001b[0m             \u001b[0mpages\u001b[0m\u001b[0;34m.\u001b[0m\u001b[0madd\u001b[0m\u001b[0;34m(\u001b[0m\u001b[0mnewPage\u001b[0m\u001b[0;34m)\u001b[0m\u001b[0;34m\u001b[0m\u001b[0m\n\u001b[0;32m---> 21\u001b[0;31m             \u001b[0mgetLinks\u001b[0m\u001b[0;34m(\u001b[0m\u001b[0mnewPage\u001b[0m\u001b[0;34m)\u001b[0m\u001b[0;34m\u001b[0m\u001b[0m\n\u001b[0m",
      "\u001b[0;32m<ipython-input-46-df13bdcf1212>\u001b[0m in \u001b[0;36mgetLinks\u001b[0;34m(pageUrl)\u001b[0m\n\u001b[1;32m     19\u001b[0m             \u001b[0mprint\u001b[0m\u001b[0;34m(\u001b[0m\u001b[0mnewPage\u001b[0m\u001b[0;34m)\u001b[0m\u001b[0;34m\u001b[0m\u001b[0m\n\u001b[1;32m     20\u001b[0m             \u001b[0mpages\u001b[0m\u001b[0;34m.\u001b[0m\u001b[0madd\u001b[0m\u001b[0;34m(\u001b[0m\u001b[0mnewPage\u001b[0m\u001b[0;34m)\u001b[0m\u001b[0;34m\u001b[0m\u001b[0m\n\u001b[0;32m---> 21\u001b[0;31m             \u001b[0mgetLinks\u001b[0m\u001b[0;34m(\u001b[0m\u001b[0mnewPage\u001b[0m\u001b[0;34m)\u001b[0m\u001b[0;34m\u001b[0m\u001b[0m\n\u001b[0m",
      "\u001b[0;32m<ipython-input-46-df13bdcf1212>\u001b[0m in \u001b[0;36mgetLinks\u001b[0;34m(pageUrl)\u001b[0m\n\u001b[1;32m     19\u001b[0m             \u001b[0mprint\u001b[0m\u001b[0;34m(\u001b[0m\u001b[0mnewPage\u001b[0m\u001b[0;34m)\u001b[0m\u001b[0;34m\u001b[0m\u001b[0m\n\u001b[1;32m     20\u001b[0m             \u001b[0mpages\u001b[0m\u001b[0;34m.\u001b[0m\u001b[0madd\u001b[0m\u001b[0;34m(\u001b[0m\u001b[0mnewPage\u001b[0m\u001b[0;34m)\u001b[0m\u001b[0;34m\u001b[0m\u001b[0m\n\u001b[0;32m---> 21\u001b[0;31m             \u001b[0mgetLinks\u001b[0m\u001b[0;34m(\u001b[0m\u001b[0mnewPage\u001b[0m\u001b[0;34m)\u001b[0m\u001b[0;34m\u001b[0m\u001b[0m\n\u001b[0m",
      "\u001b[0;32m<ipython-input-46-df13bdcf1212>\u001b[0m in \u001b[0;36mgetLinks\u001b[0;34m(pageUrl)\u001b[0m\n\u001b[1;32m     19\u001b[0m             \u001b[0mprint\u001b[0m\u001b[0;34m(\u001b[0m\u001b[0mnewPage\u001b[0m\u001b[0;34m)\u001b[0m\u001b[0;34m\u001b[0m\u001b[0m\n\u001b[1;32m     20\u001b[0m             \u001b[0mpages\u001b[0m\u001b[0;34m.\u001b[0m\u001b[0madd\u001b[0m\u001b[0;34m(\u001b[0m\u001b[0mnewPage\u001b[0m\u001b[0;34m)\u001b[0m\u001b[0;34m\u001b[0m\u001b[0m\n\u001b[0;32m---> 21\u001b[0;31m             \u001b[0mgetLinks\u001b[0m\u001b[0;34m(\u001b[0m\u001b[0mnewPage\u001b[0m\u001b[0;34m)\u001b[0m\u001b[0;34m\u001b[0m\u001b[0m\n\u001b[0m",
      "\u001b[0;32m<ipython-input-46-df13bdcf1212>\u001b[0m in \u001b[0;36mgetLinks\u001b[0;34m(pageUrl)\u001b[0m\n\u001b[1;32m     19\u001b[0m             \u001b[0mprint\u001b[0m\u001b[0;34m(\u001b[0m\u001b[0mnewPage\u001b[0m\u001b[0;34m)\u001b[0m\u001b[0;34m\u001b[0m\u001b[0m\n\u001b[1;32m     20\u001b[0m             \u001b[0mpages\u001b[0m\u001b[0;34m.\u001b[0m\u001b[0madd\u001b[0m\u001b[0;34m(\u001b[0m\u001b[0mnewPage\u001b[0m\u001b[0;34m)\u001b[0m\u001b[0;34m\u001b[0m\u001b[0m\n\u001b[0;32m---> 21\u001b[0;31m             \u001b[0mgetLinks\u001b[0m\u001b[0;34m(\u001b[0m\u001b[0mnewPage\u001b[0m\u001b[0;34m)\u001b[0m\u001b[0;34m\u001b[0m\u001b[0m\n\u001b[0m",
      "\u001b[0;32m<ipython-input-46-df13bdcf1212>\u001b[0m in \u001b[0;36mgetLinks\u001b[0;34m(pageUrl)\u001b[0m\n\u001b[1;32m     19\u001b[0m             \u001b[0mprint\u001b[0m\u001b[0;34m(\u001b[0m\u001b[0mnewPage\u001b[0m\u001b[0;34m)\u001b[0m\u001b[0;34m\u001b[0m\u001b[0m\n\u001b[1;32m     20\u001b[0m             \u001b[0mpages\u001b[0m\u001b[0;34m.\u001b[0m\u001b[0madd\u001b[0m\u001b[0;34m(\u001b[0m\u001b[0mnewPage\u001b[0m\u001b[0;34m)\u001b[0m\u001b[0;34m\u001b[0m\u001b[0m\n\u001b[0;32m---> 21\u001b[0;31m             \u001b[0mgetLinks\u001b[0m\u001b[0;34m(\u001b[0m\u001b[0mnewPage\u001b[0m\u001b[0;34m)\u001b[0m\u001b[0;34m\u001b[0m\u001b[0m\n\u001b[0m",
      "\u001b[0;32m<ipython-input-46-df13bdcf1212>\u001b[0m in \u001b[0;36mgetLinks\u001b[0;34m(pageUrl)\u001b[0m\n\u001b[1;32m     19\u001b[0m             \u001b[0mprint\u001b[0m\u001b[0;34m(\u001b[0m\u001b[0mnewPage\u001b[0m\u001b[0;34m)\u001b[0m\u001b[0;34m\u001b[0m\u001b[0m\n\u001b[1;32m     20\u001b[0m             \u001b[0mpages\u001b[0m\u001b[0;34m.\u001b[0m\u001b[0madd\u001b[0m\u001b[0;34m(\u001b[0m\u001b[0mnewPage\u001b[0m\u001b[0;34m)\u001b[0m\u001b[0;34m\u001b[0m\u001b[0m\n\u001b[0;32m---> 21\u001b[0;31m             \u001b[0mgetLinks\u001b[0m\u001b[0;34m(\u001b[0m\u001b[0mnewPage\u001b[0m\u001b[0;34m)\u001b[0m\u001b[0;34m\u001b[0m\u001b[0m\n\u001b[0m",
      "\u001b[0;32m<ipython-input-46-df13bdcf1212>\u001b[0m in \u001b[0;36mgetLinks\u001b[0;34m(pageUrl)\u001b[0m\n\u001b[1;32m     19\u001b[0m             \u001b[0mprint\u001b[0m\u001b[0;34m(\u001b[0m\u001b[0mnewPage\u001b[0m\u001b[0;34m)\u001b[0m\u001b[0;34m\u001b[0m\u001b[0m\n\u001b[1;32m     20\u001b[0m             \u001b[0mpages\u001b[0m\u001b[0;34m.\u001b[0m\u001b[0madd\u001b[0m\u001b[0;34m(\u001b[0m\u001b[0mnewPage\u001b[0m\u001b[0;34m)\u001b[0m\u001b[0;34m\u001b[0m\u001b[0m\n\u001b[0;32m---> 21\u001b[0;31m             \u001b[0mgetLinks\u001b[0m\u001b[0;34m(\u001b[0m\u001b[0mnewPage\u001b[0m\u001b[0;34m)\u001b[0m\u001b[0;34m\u001b[0m\u001b[0m\n\u001b[0m",
      "\u001b[0;32m<ipython-input-46-df13bdcf1212>\u001b[0m in \u001b[0;36mgetLinks\u001b[0;34m(pageUrl)\u001b[0m\n\u001b[1;32m     19\u001b[0m             \u001b[0mprint\u001b[0m\u001b[0;34m(\u001b[0m\u001b[0mnewPage\u001b[0m\u001b[0;34m)\u001b[0m\u001b[0;34m\u001b[0m\u001b[0m\n\u001b[1;32m     20\u001b[0m             \u001b[0mpages\u001b[0m\u001b[0;34m.\u001b[0m\u001b[0madd\u001b[0m\u001b[0;34m(\u001b[0m\u001b[0mnewPage\u001b[0m\u001b[0;34m)\u001b[0m\u001b[0;34m\u001b[0m\u001b[0m\n\u001b[0;32m---> 21\u001b[0;31m             \u001b[0mgetLinks\u001b[0m\u001b[0;34m(\u001b[0m\u001b[0mnewPage\u001b[0m\u001b[0;34m)\u001b[0m\u001b[0;34m\u001b[0m\u001b[0m\n\u001b[0m",
      "\u001b[0;32m<ipython-input-46-df13bdcf1212>\u001b[0m in \u001b[0;36mgetLinks\u001b[0;34m(pageUrl)\u001b[0m\n\u001b[1;32m     19\u001b[0m             \u001b[0mprint\u001b[0m\u001b[0;34m(\u001b[0m\u001b[0mnewPage\u001b[0m\u001b[0;34m)\u001b[0m\u001b[0;34m\u001b[0m\u001b[0m\n\u001b[1;32m     20\u001b[0m             \u001b[0mpages\u001b[0m\u001b[0;34m.\u001b[0m\u001b[0madd\u001b[0m\u001b[0;34m(\u001b[0m\u001b[0mnewPage\u001b[0m\u001b[0;34m)\u001b[0m\u001b[0;34m\u001b[0m\u001b[0m\n\u001b[0;32m---> 21\u001b[0;31m             \u001b[0mgetLinks\u001b[0m\u001b[0;34m(\u001b[0m\u001b[0mnewPage\u001b[0m\u001b[0;34m)\u001b[0m\u001b[0;34m\u001b[0m\u001b[0m\n\u001b[0m",
      "\u001b[0;32m<ipython-input-46-df13bdcf1212>\u001b[0m in \u001b[0;36mgetLinks\u001b[0;34m(pageUrl)\u001b[0m\n\u001b[1;32m     19\u001b[0m             \u001b[0mprint\u001b[0m\u001b[0;34m(\u001b[0m\u001b[0mnewPage\u001b[0m\u001b[0;34m)\u001b[0m\u001b[0;34m\u001b[0m\u001b[0m\n\u001b[1;32m     20\u001b[0m             \u001b[0mpages\u001b[0m\u001b[0;34m.\u001b[0m\u001b[0madd\u001b[0m\u001b[0;34m(\u001b[0m\u001b[0mnewPage\u001b[0m\u001b[0;34m)\u001b[0m\u001b[0;34m\u001b[0m\u001b[0m\n\u001b[0;32m---> 21\u001b[0;31m             \u001b[0mgetLinks\u001b[0m\u001b[0;34m(\u001b[0m\u001b[0mnewPage\u001b[0m\u001b[0;34m)\u001b[0m\u001b[0;34m\u001b[0m\u001b[0m\n\u001b[0m",
      "\u001b[0;32m<ipython-input-46-df13bdcf1212>\u001b[0m in \u001b[0;36mgetLinks\u001b[0;34m(pageUrl)\u001b[0m\n\u001b[1;32m     19\u001b[0m             \u001b[0mprint\u001b[0m\u001b[0;34m(\u001b[0m\u001b[0mnewPage\u001b[0m\u001b[0;34m)\u001b[0m\u001b[0;34m\u001b[0m\u001b[0m\n\u001b[1;32m     20\u001b[0m             \u001b[0mpages\u001b[0m\u001b[0;34m.\u001b[0m\u001b[0madd\u001b[0m\u001b[0;34m(\u001b[0m\u001b[0mnewPage\u001b[0m\u001b[0;34m)\u001b[0m\u001b[0;34m\u001b[0m\u001b[0m\n\u001b[0;32m---> 21\u001b[0;31m             \u001b[0mgetLinks\u001b[0m\u001b[0;34m(\u001b[0m\u001b[0mnewPage\u001b[0m\u001b[0;34m)\u001b[0m\u001b[0;34m\u001b[0m\u001b[0m\n\u001b[0m",
      "\u001b[0;32m<ipython-input-46-df13bdcf1212>\u001b[0m in \u001b[0;36mgetLinks\u001b[0;34m(pageUrl)\u001b[0m\n\u001b[1;32m     19\u001b[0m             \u001b[0mprint\u001b[0m\u001b[0;34m(\u001b[0m\u001b[0mnewPage\u001b[0m\u001b[0;34m)\u001b[0m\u001b[0;34m\u001b[0m\u001b[0m\n\u001b[1;32m     20\u001b[0m             \u001b[0mpages\u001b[0m\u001b[0;34m.\u001b[0m\u001b[0madd\u001b[0m\u001b[0;34m(\u001b[0m\u001b[0mnewPage\u001b[0m\u001b[0;34m)\u001b[0m\u001b[0;34m\u001b[0m\u001b[0m\n\u001b[0;32m---> 21\u001b[0;31m             \u001b[0mgetLinks\u001b[0m\u001b[0;34m(\u001b[0m\u001b[0mnewPage\u001b[0m\u001b[0;34m)\u001b[0m\u001b[0;34m\u001b[0m\u001b[0m\n\u001b[0m",
      "\u001b[0;32m<ipython-input-46-df13bdcf1212>\u001b[0m in \u001b[0;36mgetLinks\u001b[0;34m(pageUrl)\u001b[0m\n\u001b[1;32m     19\u001b[0m             \u001b[0mprint\u001b[0m\u001b[0;34m(\u001b[0m\u001b[0mnewPage\u001b[0m\u001b[0;34m)\u001b[0m\u001b[0;34m\u001b[0m\u001b[0m\n\u001b[1;32m     20\u001b[0m             \u001b[0mpages\u001b[0m\u001b[0;34m.\u001b[0m\u001b[0madd\u001b[0m\u001b[0;34m(\u001b[0m\u001b[0mnewPage\u001b[0m\u001b[0;34m)\u001b[0m\u001b[0;34m\u001b[0m\u001b[0m\n\u001b[0;32m---> 21\u001b[0;31m             \u001b[0mgetLinks\u001b[0m\u001b[0;34m(\u001b[0m\u001b[0mnewPage\u001b[0m\u001b[0;34m)\u001b[0m\u001b[0;34m\u001b[0m\u001b[0m\n\u001b[0m",
      "\u001b[0;32m<ipython-input-46-df13bdcf1212>\u001b[0m in \u001b[0;36mgetLinks\u001b[0;34m(pageUrl)\u001b[0m\n\u001b[1;32m     19\u001b[0m             \u001b[0mprint\u001b[0m\u001b[0;34m(\u001b[0m\u001b[0mnewPage\u001b[0m\u001b[0;34m)\u001b[0m\u001b[0;34m\u001b[0m\u001b[0m\n\u001b[1;32m     20\u001b[0m             \u001b[0mpages\u001b[0m\u001b[0;34m.\u001b[0m\u001b[0madd\u001b[0m\u001b[0;34m(\u001b[0m\u001b[0mnewPage\u001b[0m\u001b[0;34m)\u001b[0m\u001b[0;34m\u001b[0m\u001b[0m\n\u001b[0;32m---> 21\u001b[0;31m             \u001b[0mgetLinks\u001b[0m\u001b[0;34m(\u001b[0m\u001b[0mnewPage\u001b[0m\u001b[0;34m)\u001b[0m\u001b[0;34m\u001b[0m\u001b[0m\n\u001b[0m",
      "\u001b[0;32m<ipython-input-46-df13bdcf1212>\u001b[0m in \u001b[0;36mgetLinks\u001b[0;34m(pageUrl)\u001b[0m\n\u001b[1;32m     19\u001b[0m             \u001b[0mprint\u001b[0m\u001b[0;34m(\u001b[0m\u001b[0mnewPage\u001b[0m\u001b[0;34m)\u001b[0m\u001b[0;34m\u001b[0m\u001b[0m\n\u001b[1;32m     20\u001b[0m             \u001b[0mpages\u001b[0m\u001b[0;34m.\u001b[0m\u001b[0madd\u001b[0m\u001b[0;34m(\u001b[0m\u001b[0mnewPage\u001b[0m\u001b[0;34m)\u001b[0m\u001b[0;34m\u001b[0m\u001b[0m\n\u001b[0;32m---> 21\u001b[0;31m             \u001b[0mgetLinks\u001b[0m\u001b[0;34m(\u001b[0m\u001b[0mnewPage\u001b[0m\u001b[0;34m)\u001b[0m\u001b[0;34m\u001b[0m\u001b[0m\n\u001b[0m",
      "\u001b[0;32m<ipython-input-46-df13bdcf1212>\u001b[0m in \u001b[0;36mgetLinks\u001b[0;34m(pageUrl)\u001b[0m\n\u001b[1;32m     19\u001b[0m             \u001b[0mprint\u001b[0m\u001b[0;34m(\u001b[0m\u001b[0mnewPage\u001b[0m\u001b[0;34m)\u001b[0m\u001b[0;34m\u001b[0m\u001b[0m\n\u001b[1;32m     20\u001b[0m             \u001b[0mpages\u001b[0m\u001b[0;34m.\u001b[0m\u001b[0madd\u001b[0m\u001b[0;34m(\u001b[0m\u001b[0mnewPage\u001b[0m\u001b[0;34m)\u001b[0m\u001b[0;34m\u001b[0m\u001b[0m\n\u001b[0;32m---> 21\u001b[0;31m             \u001b[0mgetLinks\u001b[0m\u001b[0;34m(\u001b[0m\u001b[0mnewPage\u001b[0m\u001b[0;34m)\u001b[0m\u001b[0;34m\u001b[0m\u001b[0m\n\u001b[0m",
      "\u001b[0;32m<ipython-input-46-df13bdcf1212>\u001b[0m in \u001b[0;36mgetLinks\u001b[0;34m(pageUrl)\u001b[0m\n\u001b[1;32m     19\u001b[0m             \u001b[0mprint\u001b[0m\u001b[0;34m(\u001b[0m\u001b[0mnewPage\u001b[0m\u001b[0;34m)\u001b[0m\u001b[0;34m\u001b[0m\u001b[0m\n\u001b[1;32m     20\u001b[0m             \u001b[0mpages\u001b[0m\u001b[0;34m.\u001b[0m\u001b[0madd\u001b[0m\u001b[0;34m(\u001b[0m\u001b[0mnewPage\u001b[0m\u001b[0;34m)\u001b[0m\u001b[0;34m\u001b[0m\u001b[0m\n\u001b[0;32m---> 21\u001b[0;31m             \u001b[0mgetLinks\u001b[0m\u001b[0;34m(\u001b[0m\u001b[0mnewPage\u001b[0m\u001b[0;34m)\u001b[0m\u001b[0;34m\u001b[0m\u001b[0m\n\u001b[0m",
      "\u001b[0;32m<ipython-input-46-df13bdcf1212>\u001b[0m in \u001b[0;36mgetLinks\u001b[0;34m(pageUrl)\u001b[0m\n\u001b[1;32m     19\u001b[0m             \u001b[0mprint\u001b[0m\u001b[0;34m(\u001b[0m\u001b[0mnewPage\u001b[0m\u001b[0;34m)\u001b[0m\u001b[0;34m\u001b[0m\u001b[0m\n\u001b[1;32m     20\u001b[0m             \u001b[0mpages\u001b[0m\u001b[0;34m.\u001b[0m\u001b[0madd\u001b[0m\u001b[0;34m(\u001b[0m\u001b[0mnewPage\u001b[0m\u001b[0;34m)\u001b[0m\u001b[0;34m\u001b[0m\u001b[0m\n\u001b[0;32m---> 21\u001b[0;31m             \u001b[0mgetLinks\u001b[0m\u001b[0;34m(\u001b[0m\u001b[0mnewPage\u001b[0m\u001b[0;34m)\u001b[0m\u001b[0;34m\u001b[0m\u001b[0m\n\u001b[0m",
      "\u001b[0;32m<ipython-input-46-df13bdcf1212>\u001b[0m in \u001b[0;36mgetLinks\u001b[0;34m(pageUrl)\u001b[0m\n\u001b[1;32m     19\u001b[0m             \u001b[0mprint\u001b[0m\u001b[0;34m(\u001b[0m\u001b[0mnewPage\u001b[0m\u001b[0;34m)\u001b[0m\u001b[0;34m\u001b[0m\u001b[0m\n\u001b[1;32m     20\u001b[0m             \u001b[0mpages\u001b[0m\u001b[0;34m.\u001b[0m\u001b[0madd\u001b[0m\u001b[0;34m(\u001b[0m\u001b[0mnewPage\u001b[0m\u001b[0;34m)\u001b[0m\u001b[0;34m\u001b[0m\u001b[0m\n\u001b[0;32m---> 21\u001b[0;31m             \u001b[0mgetLinks\u001b[0m\u001b[0;34m(\u001b[0m\u001b[0mnewPage\u001b[0m\u001b[0;34m)\u001b[0m\u001b[0;34m\u001b[0m\u001b[0m\n\u001b[0m",
      "\u001b[0;32m<ipython-input-46-df13bdcf1212>\u001b[0m in \u001b[0;36mgetLinks\u001b[0;34m(pageUrl)\u001b[0m\n\u001b[1;32m     19\u001b[0m             \u001b[0mprint\u001b[0m\u001b[0;34m(\u001b[0m\u001b[0mnewPage\u001b[0m\u001b[0;34m)\u001b[0m\u001b[0;34m\u001b[0m\u001b[0m\n\u001b[1;32m     20\u001b[0m             \u001b[0mpages\u001b[0m\u001b[0;34m.\u001b[0m\u001b[0madd\u001b[0m\u001b[0;34m(\u001b[0m\u001b[0mnewPage\u001b[0m\u001b[0;34m)\u001b[0m\u001b[0;34m\u001b[0m\u001b[0m\n\u001b[0;32m---> 21\u001b[0;31m             \u001b[0mgetLinks\u001b[0m\u001b[0;34m(\u001b[0m\u001b[0mnewPage\u001b[0m\u001b[0;34m)\u001b[0m\u001b[0;34m\u001b[0m\u001b[0m\n\u001b[0m",
      "\u001b[0;32m<ipython-input-46-df13bdcf1212>\u001b[0m in \u001b[0;36mgetLinks\u001b[0;34m(pageUrl)\u001b[0m\n\u001b[1;32m     19\u001b[0m             \u001b[0mprint\u001b[0m\u001b[0;34m(\u001b[0m\u001b[0mnewPage\u001b[0m\u001b[0;34m)\u001b[0m\u001b[0;34m\u001b[0m\u001b[0m\n\u001b[1;32m     20\u001b[0m             \u001b[0mpages\u001b[0m\u001b[0;34m.\u001b[0m\u001b[0madd\u001b[0m\u001b[0;34m(\u001b[0m\u001b[0mnewPage\u001b[0m\u001b[0;34m)\u001b[0m\u001b[0;34m\u001b[0m\u001b[0m\n\u001b[0;32m---> 21\u001b[0;31m             \u001b[0mgetLinks\u001b[0m\u001b[0;34m(\u001b[0m\u001b[0mnewPage\u001b[0m\u001b[0;34m)\u001b[0m\u001b[0;34m\u001b[0m\u001b[0m\n\u001b[0m",
      "\u001b[0;32m<ipython-input-46-df13bdcf1212>\u001b[0m in \u001b[0;36mgetLinks\u001b[0;34m(pageUrl)\u001b[0m\n\u001b[1;32m     19\u001b[0m             \u001b[0mprint\u001b[0m\u001b[0;34m(\u001b[0m\u001b[0mnewPage\u001b[0m\u001b[0;34m)\u001b[0m\u001b[0;34m\u001b[0m\u001b[0m\n\u001b[1;32m     20\u001b[0m             \u001b[0mpages\u001b[0m\u001b[0;34m.\u001b[0m\u001b[0madd\u001b[0m\u001b[0;34m(\u001b[0m\u001b[0mnewPage\u001b[0m\u001b[0;34m)\u001b[0m\u001b[0;34m\u001b[0m\u001b[0m\n\u001b[0;32m---> 21\u001b[0;31m             \u001b[0mgetLinks\u001b[0m\u001b[0;34m(\u001b[0m\u001b[0mnewPage\u001b[0m\u001b[0;34m)\u001b[0m\u001b[0;34m\u001b[0m\u001b[0m\n\u001b[0m",
      "\u001b[0;32m<ipython-input-46-df13bdcf1212>\u001b[0m in \u001b[0;36mgetLinks\u001b[0;34m(pageUrl)\u001b[0m\n\u001b[1;32m     19\u001b[0m             \u001b[0mprint\u001b[0m\u001b[0;34m(\u001b[0m\u001b[0mnewPage\u001b[0m\u001b[0;34m)\u001b[0m\u001b[0;34m\u001b[0m\u001b[0m\n\u001b[1;32m     20\u001b[0m             \u001b[0mpages\u001b[0m\u001b[0;34m.\u001b[0m\u001b[0madd\u001b[0m\u001b[0;34m(\u001b[0m\u001b[0mnewPage\u001b[0m\u001b[0;34m)\u001b[0m\u001b[0;34m\u001b[0m\u001b[0m\n\u001b[0;32m---> 21\u001b[0;31m             \u001b[0mgetLinks\u001b[0m\u001b[0;34m(\u001b[0m\u001b[0mnewPage\u001b[0m\u001b[0;34m)\u001b[0m\u001b[0;34m\u001b[0m\u001b[0m\n\u001b[0m",
      "\u001b[0;32m<ipython-input-46-df13bdcf1212>\u001b[0m in \u001b[0;36mgetLinks\u001b[0;34m(pageUrl)\u001b[0m\n\u001b[1;32m     19\u001b[0m             \u001b[0mprint\u001b[0m\u001b[0;34m(\u001b[0m\u001b[0mnewPage\u001b[0m\u001b[0;34m)\u001b[0m\u001b[0;34m\u001b[0m\u001b[0m\n\u001b[1;32m     20\u001b[0m             \u001b[0mpages\u001b[0m\u001b[0;34m.\u001b[0m\u001b[0madd\u001b[0m\u001b[0;34m(\u001b[0m\u001b[0mnewPage\u001b[0m\u001b[0;34m)\u001b[0m\u001b[0;34m\u001b[0m\u001b[0m\n\u001b[0;32m---> 21\u001b[0;31m             \u001b[0mgetLinks\u001b[0m\u001b[0;34m(\u001b[0m\u001b[0mnewPage\u001b[0m\u001b[0;34m)\u001b[0m\u001b[0;34m\u001b[0m\u001b[0m\n\u001b[0m",
      "\u001b[0;32m<ipython-input-46-df13bdcf1212>\u001b[0m in \u001b[0;36mgetLinks\u001b[0;34m(pageUrl)\u001b[0m\n\u001b[1;32m     19\u001b[0m             \u001b[0mprint\u001b[0m\u001b[0;34m(\u001b[0m\u001b[0mnewPage\u001b[0m\u001b[0;34m)\u001b[0m\u001b[0;34m\u001b[0m\u001b[0m\n\u001b[1;32m     20\u001b[0m             \u001b[0mpages\u001b[0m\u001b[0;34m.\u001b[0m\u001b[0madd\u001b[0m\u001b[0;34m(\u001b[0m\u001b[0mnewPage\u001b[0m\u001b[0;34m)\u001b[0m\u001b[0;34m\u001b[0m\u001b[0m\n\u001b[0;32m---> 21\u001b[0;31m             \u001b[0mgetLinks\u001b[0m\u001b[0;34m(\u001b[0m\u001b[0mnewPage\u001b[0m\u001b[0;34m)\u001b[0m\u001b[0;34m\u001b[0m\u001b[0m\n\u001b[0m",
      "\u001b[0;32m<ipython-input-46-df13bdcf1212>\u001b[0m in \u001b[0;36mgetLinks\u001b[0;34m(pageUrl)\u001b[0m\n\u001b[1;32m     19\u001b[0m             \u001b[0mprint\u001b[0m\u001b[0;34m(\u001b[0m\u001b[0mnewPage\u001b[0m\u001b[0;34m)\u001b[0m\u001b[0;34m\u001b[0m\u001b[0m\n\u001b[1;32m     20\u001b[0m             \u001b[0mpages\u001b[0m\u001b[0;34m.\u001b[0m\u001b[0madd\u001b[0m\u001b[0;34m(\u001b[0m\u001b[0mnewPage\u001b[0m\u001b[0;34m)\u001b[0m\u001b[0;34m\u001b[0m\u001b[0m\n\u001b[0;32m---> 21\u001b[0;31m             \u001b[0mgetLinks\u001b[0m\u001b[0;34m(\u001b[0m\u001b[0mnewPage\u001b[0m\u001b[0;34m)\u001b[0m\u001b[0;34m\u001b[0m\u001b[0m\n\u001b[0m",
      "\u001b[0;32m<ipython-input-46-df13bdcf1212>\u001b[0m in \u001b[0;36mgetLinks\u001b[0;34m(pageUrl)\u001b[0m\n\u001b[1;32m     19\u001b[0m             \u001b[0mprint\u001b[0m\u001b[0;34m(\u001b[0m\u001b[0mnewPage\u001b[0m\u001b[0;34m)\u001b[0m\u001b[0;34m\u001b[0m\u001b[0m\n\u001b[1;32m     20\u001b[0m             \u001b[0mpages\u001b[0m\u001b[0;34m.\u001b[0m\u001b[0madd\u001b[0m\u001b[0;34m(\u001b[0m\u001b[0mnewPage\u001b[0m\u001b[0;34m)\u001b[0m\u001b[0;34m\u001b[0m\u001b[0m\n\u001b[0;32m---> 21\u001b[0;31m             \u001b[0mgetLinks\u001b[0m\u001b[0;34m(\u001b[0m\u001b[0mnewPage\u001b[0m\u001b[0;34m)\u001b[0m\u001b[0;34m\u001b[0m\u001b[0m\n\u001b[0m",
      "\u001b[0;32m<ipython-input-46-df13bdcf1212>\u001b[0m in \u001b[0;36mgetLinks\u001b[0;34m(pageUrl)\u001b[0m\n\u001b[1;32m     19\u001b[0m             \u001b[0mprint\u001b[0m\u001b[0;34m(\u001b[0m\u001b[0mnewPage\u001b[0m\u001b[0;34m)\u001b[0m\u001b[0;34m\u001b[0m\u001b[0m\n\u001b[1;32m     20\u001b[0m             \u001b[0mpages\u001b[0m\u001b[0;34m.\u001b[0m\u001b[0madd\u001b[0m\u001b[0;34m(\u001b[0m\u001b[0mnewPage\u001b[0m\u001b[0;34m)\u001b[0m\u001b[0;34m\u001b[0m\u001b[0m\n\u001b[0;32m---> 21\u001b[0;31m             \u001b[0mgetLinks\u001b[0m\u001b[0;34m(\u001b[0m\u001b[0mnewPage\u001b[0m\u001b[0;34m)\u001b[0m\u001b[0;34m\u001b[0m\u001b[0m\n\u001b[0m",
      "\u001b[0;32m<ipython-input-46-df13bdcf1212>\u001b[0m in \u001b[0;36mgetLinks\u001b[0;34m(pageUrl)\u001b[0m\n\u001b[1;32m     19\u001b[0m             \u001b[0mprint\u001b[0m\u001b[0;34m(\u001b[0m\u001b[0mnewPage\u001b[0m\u001b[0;34m)\u001b[0m\u001b[0;34m\u001b[0m\u001b[0m\n\u001b[1;32m     20\u001b[0m             \u001b[0mpages\u001b[0m\u001b[0;34m.\u001b[0m\u001b[0madd\u001b[0m\u001b[0;34m(\u001b[0m\u001b[0mnewPage\u001b[0m\u001b[0;34m)\u001b[0m\u001b[0;34m\u001b[0m\u001b[0m\n\u001b[0;32m---> 21\u001b[0;31m             \u001b[0mgetLinks\u001b[0m\u001b[0;34m(\u001b[0m\u001b[0mnewPage\u001b[0m\u001b[0;34m)\u001b[0m\u001b[0;34m\u001b[0m\u001b[0m\n\u001b[0m",
      "\u001b[0;32m<ipython-input-46-df13bdcf1212>\u001b[0m in \u001b[0;36mgetLinks\u001b[0;34m(pageUrl)\u001b[0m\n\u001b[1;32m     19\u001b[0m             \u001b[0mprint\u001b[0m\u001b[0;34m(\u001b[0m\u001b[0mnewPage\u001b[0m\u001b[0;34m)\u001b[0m\u001b[0;34m\u001b[0m\u001b[0m\n\u001b[1;32m     20\u001b[0m             \u001b[0mpages\u001b[0m\u001b[0;34m.\u001b[0m\u001b[0madd\u001b[0m\u001b[0;34m(\u001b[0m\u001b[0mnewPage\u001b[0m\u001b[0;34m)\u001b[0m\u001b[0;34m\u001b[0m\u001b[0m\n\u001b[0;32m---> 21\u001b[0;31m             \u001b[0mgetLinks\u001b[0m\u001b[0;34m(\u001b[0m\u001b[0mnewPage\u001b[0m\u001b[0;34m)\u001b[0m\u001b[0;34m\u001b[0m\u001b[0m\n\u001b[0m",
      "\u001b[0;32m<ipython-input-46-df13bdcf1212>\u001b[0m in \u001b[0;36mgetLinks\u001b[0;34m(pageUrl)\u001b[0m\n\u001b[1;32m     19\u001b[0m             \u001b[0mprint\u001b[0m\u001b[0;34m(\u001b[0m\u001b[0mnewPage\u001b[0m\u001b[0;34m)\u001b[0m\u001b[0;34m\u001b[0m\u001b[0m\n\u001b[1;32m     20\u001b[0m             \u001b[0mpages\u001b[0m\u001b[0;34m.\u001b[0m\u001b[0madd\u001b[0m\u001b[0;34m(\u001b[0m\u001b[0mnewPage\u001b[0m\u001b[0;34m)\u001b[0m\u001b[0;34m\u001b[0m\u001b[0m\n\u001b[0;32m---> 21\u001b[0;31m             \u001b[0mgetLinks\u001b[0m\u001b[0;34m(\u001b[0m\u001b[0mnewPage\u001b[0m\u001b[0;34m)\u001b[0m\u001b[0;34m\u001b[0m\u001b[0m\n\u001b[0m",
      "\u001b[0;32m<ipython-input-46-df13bdcf1212>\u001b[0m in \u001b[0;36mgetLinks\u001b[0;34m(pageUrl)\u001b[0m\n\u001b[1;32m     19\u001b[0m             \u001b[0mprint\u001b[0m\u001b[0;34m(\u001b[0m\u001b[0mnewPage\u001b[0m\u001b[0;34m)\u001b[0m\u001b[0;34m\u001b[0m\u001b[0m\n\u001b[1;32m     20\u001b[0m             \u001b[0mpages\u001b[0m\u001b[0;34m.\u001b[0m\u001b[0madd\u001b[0m\u001b[0;34m(\u001b[0m\u001b[0mnewPage\u001b[0m\u001b[0;34m)\u001b[0m\u001b[0;34m\u001b[0m\u001b[0m\n\u001b[0;32m---> 21\u001b[0;31m             \u001b[0mgetLinks\u001b[0m\u001b[0;34m(\u001b[0m\u001b[0mnewPage\u001b[0m\u001b[0;34m)\u001b[0m\u001b[0;34m\u001b[0m\u001b[0m\n\u001b[0m",
      "\u001b[0;32m<ipython-input-46-df13bdcf1212>\u001b[0m in \u001b[0;36mgetLinks\u001b[0;34m(pageUrl)\u001b[0m\n\u001b[1;32m     19\u001b[0m             \u001b[0mprint\u001b[0m\u001b[0;34m(\u001b[0m\u001b[0mnewPage\u001b[0m\u001b[0;34m)\u001b[0m\u001b[0;34m\u001b[0m\u001b[0m\n\u001b[1;32m     20\u001b[0m             \u001b[0mpages\u001b[0m\u001b[0;34m.\u001b[0m\u001b[0madd\u001b[0m\u001b[0;34m(\u001b[0m\u001b[0mnewPage\u001b[0m\u001b[0;34m)\u001b[0m\u001b[0;34m\u001b[0m\u001b[0m\n\u001b[0;32m---> 21\u001b[0;31m             \u001b[0mgetLinks\u001b[0m\u001b[0;34m(\u001b[0m\u001b[0mnewPage\u001b[0m\u001b[0;34m)\u001b[0m\u001b[0;34m\u001b[0m\u001b[0m\n\u001b[0m",
      "\u001b[0;32m<ipython-input-46-df13bdcf1212>\u001b[0m in \u001b[0;36mgetLinks\u001b[0;34m(pageUrl)\u001b[0m\n\u001b[1;32m     19\u001b[0m             \u001b[0mprint\u001b[0m\u001b[0;34m(\u001b[0m\u001b[0mnewPage\u001b[0m\u001b[0;34m)\u001b[0m\u001b[0;34m\u001b[0m\u001b[0m\n\u001b[1;32m     20\u001b[0m             \u001b[0mpages\u001b[0m\u001b[0;34m.\u001b[0m\u001b[0madd\u001b[0m\u001b[0;34m(\u001b[0m\u001b[0mnewPage\u001b[0m\u001b[0;34m)\u001b[0m\u001b[0;34m\u001b[0m\u001b[0m\n\u001b[0;32m---> 21\u001b[0;31m             \u001b[0mgetLinks\u001b[0m\u001b[0;34m(\u001b[0m\u001b[0mnewPage\u001b[0m\u001b[0;34m)\u001b[0m\u001b[0;34m\u001b[0m\u001b[0m\n\u001b[0m",
      "\u001b[0;32m<ipython-input-46-df13bdcf1212>\u001b[0m in \u001b[0;36mgetLinks\u001b[0;34m(pageUrl)\u001b[0m\n\u001b[1;32m     19\u001b[0m             \u001b[0mprint\u001b[0m\u001b[0;34m(\u001b[0m\u001b[0mnewPage\u001b[0m\u001b[0;34m)\u001b[0m\u001b[0;34m\u001b[0m\u001b[0m\n\u001b[1;32m     20\u001b[0m             \u001b[0mpages\u001b[0m\u001b[0;34m.\u001b[0m\u001b[0madd\u001b[0m\u001b[0;34m(\u001b[0m\u001b[0mnewPage\u001b[0m\u001b[0;34m)\u001b[0m\u001b[0;34m\u001b[0m\u001b[0m\n\u001b[0;32m---> 21\u001b[0;31m             \u001b[0mgetLinks\u001b[0m\u001b[0;34m(\u001b[0m\u001b[0mnewPage\u001b[0m\u001b[0;34m)\u001b[0m\u001b[0;34m\u001b[0m\u001b[0m\n\u001b[0m",
      "\u001b[0;32m<ipython-input-46-df13bdcf1212>\u001b[0m in \u001b[0;36mgetLinks\u001b[0;34m(pageUrl)\u001b[0m\n\u001b[1;32m     19\u001b[0m             \u001b[0mprint\u001b[0m\u001b[0;34m(\u001b[0m\u001b[0mnewPage\u001b[0m\u001b[0;34m)\u001b[0m\u001b[0;34m\u001b[0m\u001b[0m\n\u001b[1;32m     20\u001b[0m             \u001b[0mpages\u001b[0m\u001b[0;34m.\u001b[0m\u001b[0madd\u001b[0m\u001b[0;34m(\u001b[0m\u001b[0mnewPage\u001b[0m\u001b[0;34m)\u001b[0m\u001b[0;34m\u001b[0m\u001b[0m\n\u001b[0;32m---> 21\u001b[0;31m             \u001b[0mgetLinks\u001b[0m\u001b[0;34m(\u001b[0m\u001b[0mnewPage\u001b[0m\u001b[0;34m)\u001b[0m\u001b[0;34m\u001b[0m\u001b[0m\n\u001b[0m",
      "\u001b[0;32m<ipython-input-46-df13bdcf1212>\u001b[0m in \u001b[0;36mgetLinks\u001b[0;34m(pageUrl)\u001b[0m\n\u001b[1;32m     19\u001b[0m             \u001b[0mprint\u001b[0m\u001b[0;34m(\u001b[0m\u001b[0mnewPage\u001b[0m\u001b[0;34m)\u001b[0m\u001b[0;34m\u001b[0m\u001b[0m\n\u001b[1;32m     20\u001b[0m             \u001b[0mpages\u001b[0m\u001b[0;34m.\u001b[0m\u001b[0madd\u001b[0m\u001b[0;34m(\u001b[0m\u001b[0mnewPage\u001b[0m\u001b[0;34m)\u001b[0m\u001b[0;34m\u001b[0m\u001b[0m\n\u001b[0;32m---> 21\u001b[0;31m             \u001b[0mgetLinks\u001b[0m\u001b[0;34m(\u001b[0m\u001b[0mnewPage\u001b[0m\u001b[0;34m)\u001b[0m\u001b[0;34m\u001b[0m\u001b[0m\n\u001b[0m",
      "\u001b[0;32m<ipython-input-46-df13bdcf1212>\u001b[0m in \u001b[0;36mgetLinks\u001b[0;34m(pageUrl)\u001b[0m\n\u001b[1;32m     19\u001b[0m             \u001b[0mprint\u001b[0m\u001b[0;34m(\u001b[0m\u001b[0mnewPage\u001b[0m\u001b[0;34m)\u001b[0m\u001b[0;34m\u001b[0m\u001b[0m\n\u001b[1;32m     20\u001b[0m             \u001b[0mpages\u001b[0m\u001b[0;34m.\u001b[0m\u001b[0madd\u001b[0m\u001b[0;34m(\u001b[0m\u001b[0mnewPage\u001b[0m\u001b[0;34m)\u001b[0m\u001b[0;34m\u001b[0m\u001b[0m\n\u001b[0;32m---> 21\u001b[0;31m             \u001b[0mgetLinks\u001b[0m\u001b[0;34m(\u001b[0m\u001b[0mnewPage\u001b[0m\u001b[0;34m)\u001b[0m\u001b[0;34m\u001b[0m\u001b[0m\n\u001b[0m",
      "\u001b[0;32m<ipython-input-46-df13bdcf1212>\u001b[0m in \u001b[0;36mgetLinks\u001b[0;34m(pageUrl)\u001b[0m\n\u001b[1;32m     19\u001b[0m             \u001b[0mprint\u001b[0m\u001b[0;34m(\u001b[0m\u001b[0mnewPage\u001b[0m\u001b[0;34m)\u001b[0m\u001b[0;34m\u001b[0m\u001b[0m\n\u001b[1;32m     20\u001b[0m             \u001b[0mpages\u001b[0m\u001b[0;34m.\u001b[0m\u001b[0madd\u001b[0m\u001b[0;34m(\u001b[0m\u001b[0mnewPage\u001b[0m\u001b[0;34m)\u001b[0m\u001b[0;34m\u001b[0m\u001b[0m\n\u001b[0;32m---> 21\u001b[0;31m             \u001b[0mgetLinks\u001b[0m\u001b[0;34m(\u001b[0m\u001b[0mnewPage\u001b[0m\u001b[0;34m)\u001b[0m\u001b[0;34m\u001b[0m\u001b[0m\n\u001b[0m",
      "\u001b[0;32m<ipython-input-46-df13bdcf1212>\u001b[0m in \u001b[0;36mgetLinks\u001b[0;34m(pageUrl)\u001b[0m\n\u001b[1;32m     19\u001b[0m             \u001b[0mprint\u001b[0m\u001b[0;34m(\u001b[0m\u001b[0mnewPage\u001b[0m\u001b[0;34m)\u001b[0m\u001b[0;34m\u001b[0m\u001b[0m\n\u001b[1;32m     20\u001b[0m             \u001b[0mpages\u001b[0m\u001b[0;34m.\u001b[0m\u001b[0madd\u001b[0m\u001b[0;34m(\u001b[0m\u001b[0mnewPage\u001b[0m\u001b[0;34m)\u001b[0m\u001b[0;34m\u001b[0m\u001b[0m\n\u001b[0;32m---> 21\u001b[0;31m             \u001b[0mgetLinks\u001b[0m\u001b[0;34m(\u001b[0m\u001b[0mnewPage\u001b[0m\u001b[0;34m)\u001b[0m\u001b[0;34m\u001b[0m\u001b[0m\n\u001b[0m",
      "\u001b[0;32m<ipython-input-46-df13bdcf1212>\u001b[0m in \u001b[0;36mgetLinks\u001b[0;34m(pageUrl)\u001b[0m\n\u001b[1;32m     19\u001b[0m             \u001b[0mprint\u001b[0m\u001b[0;34m(\u001b[0m\u001b[0mnewPage\u001b[0m\u001b[0;34m)\u001b[0m\u001b[0;34m\u001b[0m\u001b[0m\n\u001b[1;32m     20\u001b[0m             \u001b[0mpages\u001b[0m\u001b[0;34m.\u001b[0m\u001b[0madd\u001b[0m\u001b[0;34m(\u001b[0m\u001b[0mnewPage\u001b[0m\u001b[0;34m)\u001b[0m\u001b[0;34m\u001b[0m\u001b[0m\n\u001b[0;32m---> 21\u001b[0;31m             \u001b[0mgetLinks\u001b[0m\u001b[0;34m(\u001b[0m\u001b[0mnewPage\u001b[0m\u001b[0;34m)\u001b[0m\u001b[0;34m\u001b[0m\u001b[0m\n\u001b[0m",
      "\u001b[0;32m<ipython-input-46-df13bdcf1212>\u001b[0m in \u001b[0;36mgetLinks\u001b[0;34m(pageUrl)\u001b[0m\n\u001b[1;32m     19\u001b[0m             \u001b[0mprint\u001b[0m\u001b[0;34m(\u001b[0m\u001b[0mnewPage\u001b[0m\u001b[0;34m)\u001b[0m\u001b[0;34m\u001b[0m\u001b[0m\n\u001b[1;32m     20\u001b[0m             \u001b[0mpages\u001b[0m\u001b[0;34m.\u001b[0m\u001b[0madd\u001b[0m\u001b[0;34m(\u001b[0m\u001b[0mnewPage\u001b[0m\u001b[0;34m)\u001b[0m\u001b[0;34m\u001b[0m\u001b[0m\n\u001b[0;32m---> 21\u001b[0;31m             \u001b[0mgetLinks\u001b[0m\u001b[0;34m(\u001b[0m\u001b[0mnewPage\u001b[0m\u001b[0;34m)\u001b[0m\u001b[0;34m\u001b[0m\u001b[0m\n\u001b[0m",
      "\u001b[0;32m<ipython-input-46-df13bdcf1212>\u001b[0m in \u001b[0;36mgetLinks\u001b[0;34m(pageUrl)\u001b[0m\n\u001b[1;32m     19\u001b[0m             \u001b[0mprint\u001b[0m\u001b[0;34m(\u001b[0m\u001b[0mnewPage\u001b[0m\u001b[0;34m)\u001b[0m\u001b[0;34m\u001b[0m\u001b[0m\n\u001b[1;32m     20\u001b[0m             \u001b[0mpages\u001b[0m\u001b[0;34m.\u001b[0m\u001b[0madd\u001b[0m\u001b[0;34m(\u001b[0m\u001b[0mnewPage\u001b[0m\u001b[0;34m)\u001b[0m\u001b[0;34m\u001b[0m\u001b[0m\n\u001b[0;32m---> 21\u001b[0;31m             \u001b[0mgetLinks\u001b[0m\u001b[0;34m(\u001b[0m\u001b[0mnewPage\u001b[0m\u001b[0;34m)\u001b[0m\u001b[0;34m\u001b[0m\u001b[0m\n\u001b[0m",
      "\u001b[0;32m<ipython-input-46-df13bdcf1212>\u001b[0m in \u001b[0;36mgetLinks\u001b[0;34m(pageUrl)\u001b[0m\n\u001b[1;32m     19\u001b[0m             \u001b[0mprint\u001b[0m\u001b[0;34m(\u001b[0m\u001b[0mnewPage\u001b[0m\u001b[0;34m)\u001b[0m\u001b[0;34m\u001b[0m\u001b[0m\n\u001b[1;32m     20\u001b[0m             \u001b[0mpages\u001b[0m\u001b[0;34m.\u001b[0m\u001b[0madd\u001b[0m\u001b[0;34m(\u001b[0m\u001b[0mnewPage\u001b[0m\u001b[0;34m)\u001b[0m\u001b[0;34m\u001b[0m\u001b[0m\n\u001b[0;32m---> 21\u001b[0;31m             \u001b[0mgetLinks\u001b[0m\u001b[0;34m(\u001b[0m\u001b[0mnewPage\u001b[0m\u001b[0;34m)\u001b[0m\u001b[0;34m\u001b[0m\u001b[0m\n\u001b[0m",
      "\u001b[0;32m<ipython-input-46-df13bdcf1212>\u001b[0m in \u001b[0;36mgetLinks\u001b[0;34m(pageUrl)\u001b[0m\n\u001b[1;32m     19\u001b[0m             \u001b[0mprint\u001b[0m\u001b[0;34m(\u001b[0m\u001b[0mnewPage\u001b[0m\u001b[0;34m)\u001b[0m\u001b[0;34m\u001b[0m\u001b[0m\n\u001b[1;32m     20\u001b[0m             \u001b[0mpages\u001b[0m\u001b[0;34m.\u001b[0m\u001b[0madd\u001b[0m\u001b[0;34m(\u001b[0m\u001b[0mnewPage\u001b[0m\u001b[0;34m)\u001b[0m\u001b[0;34m\u001b[0m\u001b[0m\n\u001b[0;32m---> 21\u001b[0;31m             \u001b[0mgetLinks\u001b[0m\u001b[0;34m(\u001b[0m\u001b[0mnewPage\u001b[0m\u001b[0;34m)\u001b[0m\u001b[0;34m\u001b[0m\u001b[0m\n\u001b[0m",
      "\u001b[0;32m<ipython-input-46-df13bdcf1212>\u001b[0m in \u001b[0;36mgetLinks\u001b[0;34m(pageUrl)\u001b[0m\n\u001b[1;32m     19\u001b[0m             \u001b[0mprint\u001b[0m\u001b[0;34m(\u001b[0m\u001b[0mnewPage\u001b[0m\u001b[0;34m)\u001b[0m\u001b[0;34m\u001b[0m\u001b[0m\n\u001b[1;32m     20\u001b[0m             \u001b[0mpages\u001b[0m\u001b[0;34m.\u001b[0m\u001b[0madd\u001b[0m\u001b[0;34m(\u001b[0m\u001b[0mnewPage\u001b[0m\u001b[0;34m)\u001b[0m\u001b[0;34m\u001b[0m\u001b[0m\n\u001b[0;32m---> 21\u001b[0;31m             \u001b[0mgetLinks\u001b[0m\u001b[0;34m(\u001b[0m\u001b[0mnewPage\u001b[0m\u001b[0;34m)\u001b[0m\u001b[0;34m\u001b[0m\u001b[0m\n\u001b[0m",
      "\u001b[0;32m<ipython-input-46-df13bdcf1212>\u001b[0m in \u001b[0;36mgetLinks\u001b[0;34m(pageUrl)\u001b[0m\n\u001b[1;32m     19\u001b[0m             \u001b[0mprint\u001b[0m\u001b[0;34m(\u001b[0m\u001b[0mnewPage\u001b[0m\u001b[0;34m)\u001b[0m\u001b[0;34m\u001b[0m\u001b[0m\n\u001b[1;32m     20\u001b[0m             \u001b[0mpages\u001b[0m\u001b[0;34m.\u001b[0m\u001b[0madd\u001b[0m\u001b[0;34m(\u001b[0m\u001b[0mnewPage\u001b[0m\u001b[0;34m)\u001b[0m\u001b[0;34m\u001b[0m\u001b[0m\n\u001b[0;32m---> 21\u001b[0;31m             \u001b[0mgetLinks\u001b[0m\u001b[0;34m(\u001b[0m\u001b[0mnewPage\u001b[0m\u001b[0;34m)\u001b[0m\u001b[0;34m\u001b[0m\u001b[0m\n\u001b[0m",
      "\u001b[0;32m<ipython-input-46-df13bdcf1212>\u001b[0m in \u001b[0;36mgetLinks\u001b[0;34m(pageUrl)\u001b[0m\n\u001b[1;32m     19\u001b[0m             \u001b[0mprint\u001b[0m\u001b[0;34m(\u001b[0m\u001b[0mnewPage\u001b[0m\u001b[0;34m)\u001b[0m\u001b[0;34m\u001b[0m\u001b[0m\n\u001b[1;32m     20\u001b[0m             \u001b[0mpages\u001b[0m\u001b[0;34m.\u001b[0m\u001b[0madd\u001b[0m\u001b[0;34m(\u001b[0m\u001b[0mnewPage\u001b[0m\u001b[0;34m)\u001b[0m\u001b[0;34m\u001b[0m\u001b[0m\n\u001b[0;32m---> 21\u001b[0;31m             \u001b[0mgetLinks\u001b[0m\u001b[0;34m(\u001b[0m\u001b[0mnewPage\u001b[0m\u001b[0;34m)\u001b[0m\u001b[0;34m\u001b[0m\u001b[0m\n\u001b[0m",
      "\u001b[0;32m<ipython-input-46-df13bdcf1212>\u001b[0m in \u001b[0;36mgetLinks\u001b[0;34m(pageUrl)\u001b[0m\n\u001b[1;32m     19\u001b[0m             \u001b[0mprint\u001b[0m\u001b[0;34m(\u001b[0m\u001b[0mnewPage\u001b[0m\u001b[0;34m)\u001b[0m\u001b[0;34m\u001b[0m\u001b[0m\n\u001b[1;32m     20\u001b[0m             \u001b[0mpages\u001b[0m\u001b[0;34m.\u001b[0m\u001b[0madd\u001b[0m\u001b[0;34m(\u001b[0m\u001b[0mnewPage\u001b[0m\u001b[0;34m)\u001b[0m\u001b[0;34m\u001b[0m\u001b[0m\n\u001b[0;32m---> 21\u001b[0;31m             \u001b[0mgetLinks\u001b[0m\u001b[0;34m(\u001b[0m\u001b[0mnewPage\u001b[0m\u001b[0;34m)\u001b[0m\u001b[0;34m\u001b[0m\u001b[0m\n\u001b[0m",
      "\u001b[0;32m<ipython-input-46-df13bdcf1212>\u001b[0m in \u001b[0;36mgetLinks\u001b[0;34m(pageUrl)\u001b[0m\n\u001b[1;32m     19\u001b[0m             \u001b[0mprint\u001b[0m\u001b[0;34m(\u001b[0m\u001b[0mnewPage\u001b[0m\u001b[0;34m)\u001b[0m\u001b[0;34m\u001b[0m\u001b[0m\n\u001b[1;32m     20\u001b[0m             \u001b[0mpages\u001b[0m\u001b[0;34m.\u001b[0m\u001b[0madd\u001b[0m\u001b[0;34m(\u001b[0m\u001b[0mnewPage\u001b[0m\u001b[0;34m)\u001b[0m\u001b[0;34m\u001b[0m\u001b[0m\n\u001b[0;32m---> 21\u001b[0;31m             \u001b[0mgetLinks\u001b[0m\u001b[0;34m(\u001b[0m\u001b[0mnewPage\u001b[0m\u001b[0;34m)\u001b[0m\u001b[0;34m\u001b[0m\u001b[0m\n\u001b[0m",
      "\u001b[0;32m<ipython-input-46-df13bdcf1212>\u001b[0m in \u001b[0;36mgetLinks\u001b[0;34m(pageUrl)\u001b[0m\n\u001b[1;32m     19\u001b[0m             \u001b[0mprint\u001b[0m\u001b[0;34m(\u001b[0m\u001b[0mnewPage\u001b[0m\u001b[0;34m)\u001b[0m\u001b[0;34m\u001b[0m\u001b[0m\n\u001b[1;32m     20\u001b[0m             \u001b[0mpages\u001b[0m\u001b[0;34m.\u001b[0m\u001b[0madd\u001b[0m\u001b[0;34m(\u001b[0m\u001b[0mnewPage\u001b[0m\u001b[0;34m)\u001b[0m\u001b[0;34m\u001b[0m\u001b[0m\n\u001b[0;32m---> 21\u001b[0;31m             \u001b[0mgetLinks\u001b[0m\u001b[0;34m(\u001b[0m\u001b[0mnewPage\u001b[0m\u001b[0;34m)\u001b[0m\u001b[0;34m\u001b[0m\u001b[0m\n\u001b[0m",
      "\u001b[0;32m<ipython-input-46-df13bdcf1212>\u001b[0m in \u001b[0;36mgetLinks\u001b[0;34m(pageUrl)\u001b[0m\n\u001b[1;32m     19\u001b[0m             \u001b[0mprint\u001b[0m\u001b[0;34m(\u001b[0m\u001b[0mnewPage\u001b[0m\u001b[0;34m)\u001b[0m\u001b[0;34m\u001b[0m\u001b[0m\n\u001b[1;32m     20\u001b[0m             \u001b[0mpages\u001b[0m\u001b[0;34m.\u001b[0m\u001b[0madd\u001b[0m\u001b[0;34m(\u001b[0m\u001b[0mnewPage\u001b[0m\u001b[0;34m)\u001b[0m\u001b[0;34m\u001b[0m\u001b[0m\n\u001b[0;32m---> 21\u001b[0;31m             \u001b[0mgetLinks\u001b[0m\u001b[0;34m(\u001b[0m\u001b[0mnewPage\u001b[0m\u001b[0;34m)\u001b[0m\u001b[0;34m\u001b[0m\u001b[0m\n\u001b[0m",
      "\u001b[0;32m<ipython-input-46-df13bdcf1212>\u001b[0m in \u001b[0;36mgetLinks\u001b[0;34m(pageUrl)\u001b[0m\n\u001b[1;32m     19\u001b[0m             \u001b[0mprint\u001b[0m\u001b[0;34m(\u001b[0m\u001b[0mnewPage\u001b[0m\u001b[0;34m)\u001b[0m\u001b[0;34m\u001b[0m\u001b[0m\n\u001b[1;32m     20\u001b[0m             \u001b[0mpages\u001b[0m\u001b[0;34m.\u001b[0m\u001b[0madd\u001b[0m\u001b[0;34m(\u001b[0m\u001b[0mnewPage\u001b[0m\u001b[0;34m)\u001b[0m\u001b[0;34m\u001b[0m\u001b[0m\n\u001b[0;32m---> 21\u001b[0;31m             \u001b[0mgetLinks\u001b[0m\u001b[0;34m(\u001b[0m\u001b[0mnewPage\u001b[0m\u001b[0;34m)\u001b[0m\u001b[0;34m\u001b[0m\u001b[0m\n\u001b[0m",
      "\u001b[0;32m<ipython-input-46-df13bdcf1212>\u001b[0m in \u001b[0;36mgetLinks\u001b[0;34m(pageUrl)\u001b[0m\n\u001b[1;32m     19\u001b[0m             \u001b[0mprint\u001b[0m\u001b[0;34m(\u001b[0m\u001b[0mnewPage\u001b[0m\u001b[0;34m)\u001b[0m\u001b[0;34m\u001b[0m\u001b[0m\n\u001b[1;32m     20\u001b[0m             \u001b[0mpages\u001b[0m\u001b[0;34m.\u001b[0m\u001b[0madd\u001b[0m\u001b[0;34m(\u001b[0m\u001b[0mnewPage\u001b[0m\u001b[0;34m)\u001b[0m\u001b[0;34m\u001b[0m\u001b[0m\n\u001b[0;32m---> 21\u001b[0;31m             \u001b[0mgetLinks\u001b[0m\u001b[0;34m(\u001b[0m\u001b[0mnewPage\u001b[0m\u001b[0;34m)\u001b[0m\u001b[0;34m\u001b[0m\u001b[0m\n\u001b[0m",
      "\u001b[0;32m<ipython-input-46-df13bdcf1212>\u001b[0m in \u001b[0;36mgetLinks\u001b[0;34m(pageUrl)\u001b[0m\n\u001b[1;32m     19\u001b[0m             \u001b[0mprint\u001b[0m\u001b[0;34m(\u001b[0m\u001b[0mnewPage\u001b[0m\u001b[0;34m)\u001b[0m\u001b[0;34m\u001b[0m\u001b[0m\n\u001b[1;32m     20\u001b[0m             \u001b[0mpages\u001b[0m\u001b[0;34m.\u001b[0m\u001b[0madd\u001b[0m\u001b[0;34m(\u001b[0m\u001b[0mnewPage\u001b[0m\u001b[0;34m)\u001b[0m\u001b[0;34m\u001b[0m\u001b[0m\n\u001b[0;32m---> 21\u001b[0;31m             \u001b[0mgetLinks\u001b[0m\u001b[0;34m(\u001b[0m\u001b[0mnewPage\u001b[0m\u001b[0;34m)\u001b[0m\u001b[0;34m\u001b[0m\u001b[0m\n\u001b[0m",
      "\u001b[0;32m<ipython-input-46-df13bdcf1212>\u001b[0m in \u001b[0;36mgetLinks\u001b[0;34m(pageUrl)\u001b[0m\n\u001b[1;32m     19\u001b[0m             \u001b[0mprint\u001b[0m\u001b[0;34m(\u001b[0m\u001b[0mnewPage\u001b[0m\u001b[0;34m)\u001b[0m\u001b[0;34m\u001b[0m\u001b[0m\n\u001b[1;32m     20\u001b[0m             \u001b[0mpages\u001b[0m\u001b[0;34m.\u001b[0m\u001b[0madd\u001b[0m\u001b[0;34m(\u001b[0m\u001b[0mnewPage\u001b[0m\u001b[0;34m)\u001b[0m\u001b[0;34m\u001b[0m\u001b[0m\n\u001b[0;32m---> 21\u001b[0;31m             \u001b[0mgetLinks\u001b[0m\u001b[0;34m(\u001b[0m\u001b[0mnewPage\u001b[0m\u001b[0;34m)\u001b[0m\u001b[0;34m\u001b[0m\u001b[0m\n\u001b[0m",
      "\u001b[0;32m<ipython-input-46-df13bdcf1212>\u001b[0m in \u001b[0;36mgetLinks\u001b[0;34m(pageUrl)\u001b[0m\n\u001b[1;32m     19\u001b[0m             \u001b[0mprint\u001b[0m\u001b[0;34m(\u001b[0m\u001b[0mnewPage\u001b[0m\u001b[0;34m)\u001b[0m\u001b[0;34m\u001b[0m\u001b[0m\n\u001b[1;32m     20\u001b[0m             \u001b[0mpages\u001b[0m\u001b[0;34m.\u001b[0m\u001b[0madd\u001b[0m\u001b[0;34m(\u001b[0m\u001b[0mnewPage\u001b[0m\u001b[0;34m)\u001b[0m\u001b[0;34m\u001b[0m\u001b[0m\n\u001b[0;32m---> 21\u001b[0;31m             \u001b[0mgetLinks\u001b[0m\u001b[0;34m(\u001b[0m\u001b[0mnewPage\u001b[0m\u001b[0;34m)\u001b[0m\u001b[0;34m\u001b[0m\u001b[0m\n\u001b[0m",
      "\u001b[0;32m<ipython-input-46-df13bdcf1212>\u001b[0m in \u001b[0;36mgetLinks\u001b[0;34m(pageUrl)\u001b[0m\n\u001b[1;32m     19\u001b[0m             \u001b[0mprint\u001b[0m\u001b[0;34m(\u001b[0m\u001b[0mnewPage\u001b[0m\u001b[0;34m)\u001b[0m\u001b[0;34m\u001b[0m\u001b[0m\n\u001b[1;32m     20\u001b[0m             \u001b[0mpages\u001b[0m\u001b[0;34m.\u001b[0m\u001b[0madd\u001b[0m\u001b[0;34m(\u001b[0m\u001b[0mnewPage\u001b[0m\u001b[0;34m)\u001b[0m\u001b[0;34m\u001b[0m\u001b[0m\n\u001b[0;32m---> 21\u001b[0;31m             \u001b[0mgetLinks\u001b[0m\u001b[0;34m(\u001b[0m\u001b[0mnewPage\u001b[0m\u001b[0;34m)\u001b[0m\u001b[0;34m\u001b[0m\u001b[0m\n\u001b[0m",
      "\u001b[0;32m<ipython-input-46-df13bdcf1212>\u001b[0m in \u001b[0;36mgetLinks\u001b[0;34m(pageUrl)\u001b[0m\n\u001b[1;32m     19\u001b[0m             \u001b[0mprint\u001b[0m\u001b[0;34m(\u001b[0m\u001b[0mnewPage\u001b[0m\u001b[0;34m)\u001b[0m\u001b[0;34m\u001b[0m\u001b[0m\n\u001b[1;32m     20\u001b[0m             \u001b[0mpages\u001b[0m\u001b[0;34m.\u001b[0m\u001b[0madd\u001b[0m\u001b[0;34m(\u001b[0m\u001b[0mnewPage\u001b[0m\u001b[0;34m)\u001b[0m\u001b[0;34m\u001b[0m\u001b[0m\n\u001b[0;32m---> 21\u001b[0;31m             \u001b[0mgetLinks\u001b[0m\u001b[0;34m(\u001b[0m\u001b[0mnewPage\u001b[0m\u001b[0;34m)\u001b[0m\u001b[0;34m\u001b[0m\u001b[0m\n\u001b[0m",
      "\u001b[0;32m<ipython-input-46-df13bdcf1212>\u001b[0m in \u001b[0;36mgetLinks\u001b[0;34m(pageUrl)\u001b[0m\n\u001b[1;32m     19\u001b[0m             \u001b[0mprint\u001b[0m\u001b[0;34m(\u001b[0m\u001b[0mnewPage\u001b[0m\u001b[0;34m)\u001b[0m\u001b[0;34m\u001b[0m\u001b[0m\n\u001b[1;32m     20\u001b[0m             \u001b[0mpages\u001b[0m\u001b[0;34m.\u001b[0m\u001b[0madd\u001b[0m\u001b[0;34m(\u001b[0m\u001b[0mnewPage\u001b[0m\u001b[0;34m)\u001b[0m\u001b[0;34m\u001b[0m\u001b[0m\n\u001b[0;32m---> 21\u001b[0;31m             \u001b[0mgetLinks\u001b[0m\u001b[0;34m(\u001b[0m\u001b[0mnewPage\u001b[0m\u001b[0;34m)\u001b[0m\u001b[0;34m\u001b[0m\u001b[0m\n\u001b[0m",
      "\u001b[0;32m<ipython-input-46-df13bdcf1212>\u001b[0m in \u001b[0;36mgetLinks\u001b[0;34m(pageUrl)\u001b[0m\n\u001b[1;32m     19\u001b[0m             \u001b[0mprint\u001b[0m\u001b[0;34m(\u001b[0m\u001b[0mnewPage\u001b[0m\u001b[0;34m)\u001b[0m\u001b[0;34m\u001b[0m\u001b[0m\n\u001b[1;32m     20\u001b[0m             \u001b[0mpages\u001b[0m\u001b[0;34m.\u001b[0m\u001b[0madd\u001b[0m\u001b[0;34m(\u001b[0m\u001b[0mnewPage\u001b[0m\u001b[0;34m)\u001b[0m\u001b[0;34m\u001b[0m\u001b[0m\n\u001b[0;32m---> 21\u001b[0;31m             \u001b[0mgetLinks\u001b[0m\u001b[0;34m(\u001b[0m\u001b[0mnewPage\u001b[0m\u001b[0;34m)\u001b[0m\u001b[0;34m\u001b[0m\u001b[0m\n\u001b[0m",
      "\u001b[0;32m<ipython-input-46-df13bdcf1212>\u001b[0m in \u001b[0;36mgetLinks\u001b[0;34m(pageUrl)\u001b[0m\n\u001b[1;32m     19\u001b[0m             \u001b[0mprint\u001b[0m\u001b[0;34m(\u001b[0m\u001b[0mnewPage\u001b[0m\u001b[0;34m)\u001b[0m\u001b[0;34m\u001b[0m\u001b[0m\n\u001b[1;32m     20\u001b[0m             \u001b[0mpages\u001b[0m\u001b[0;34m.\u001b[0m\u001b[0madd\u001b[0m\u001b[0;34m(\u001b[0m\u001b[0mnewPage\u001b[0m\u001b[0;34m)\u001b[0m\u001b[0;34m\u001b[0m\u001b[0m\n\u001b[0;32m---> 21\u001b[0;31m             \u001b[0mgetLinks\u001b[0m\u001b[0;34m(\u001b[0m\u001b[0mnewPage\u001b[0m\u001b[0;34m)\u001b[0m\u001b[0;34m\u001b[0m\u001b[0m\n\u001b[0m",
      "\u001b[0;32m<ipython-input-46-df13bdcf1212>\u001b[0m in \u001b[0;36mgetLinks\u001b[0;34m(pageUrl)\u001b[0m\n\u001b[1;32m     19\u001b[0m             \u001b[0mprint\u001b[0m\u001b[0;34m(\u001b[0m\u001b[0mnewPage\u001b[0m\u001b[0;34m)\u001b[0m\u001b[0;34m\u001b[0m\u001b[0m\n\u001b[1;32m     20\u001b[0m             \u001b[0mpages\u001b[0m\u001b[0;34m.\u001b[0m\u001b[0madd\u001b[0m\u001b[0;34m(\u001b[0m\u001b[0mnewPage\u001b[0m\u001b[0;34m)\u001b[0m\u001b[0;34m\u001b[0m\u001b[0m\n\u001b[0;32m---> 21\u001b[0;31m             \u001b[0mgetLinks\u001b[0m\u001b[0;34m(\u001b[0m\u001b[0mnewPage\u001b[0m\u001b[0;34m)\u001b[0m\u001b[0;34m\u001b[0m\u001b[0m\n\u001b[0m",
      "\u001b[0;32m<ipython-input-46-df13bdcf1212>\u001b[0m in \u001b[0;36mgetLinks\u001b[0;34m(pageUrl)\u001b[0m\n\u001b[1;32m     19\u001b[0m             \u001b[0mprint\u001b[0m\u001b[0;34m(\u001b[0m\u001b[0mnewPage\u001b[0m\u001b[0;34m)\u001b[0m\u001b[0;34m\u001b[0m\u001b[0m\n\u001b[1;32m     20\u001b[0m             \u001b[0mpages\u001b[0m\u001b[0;34m.\u001b[0m\u001b[0madd\u001b[0m\u001b[0;34m(\u001b[0m\u001b[0mnewPage\u001b[0m\u001b[0;34m)\u001b[0m\u001b[0;34m\u001b[0m\u001b[0m\n\u001b[0;32m---> 21\u001b[0;31m             \u001b[0mgetLinks\u001b[0m\u001b[0;34m(\u001b[0m\u001b[0mnewPage\u001b[0m\u001b[0;34m)\u001b[0m\u001b[0;34m\u001b[0m\u001b[0m\n\u001b[0m",
      "\u001b[0;32m<ipython-input-46-df13bdcf1212>\u001b[0m in \u001b[0;36mgetLinks\u001b[0;34m(pageUrl)\u001b[0m\n\u001b[1;32m     19\u001b[0m             \u001b[0mprint\u001b[0m\u001b[0;34m(\u001b[0m\u001b[0mnewPage\u001b[0m\u001b[0;34m)\u001b[0m\u001b[0;34m\u001b[0m\u001b[0m\n\u001b[1;32m     20\u001b[0m             \u001b[0mpages\u001b[0m\u001b[0;34m.\u001b[0m\u001b[0madd\u001b[0m\u001b[0;34m(\u001b[0m\u001b[0mnewPage\u001b[0m\u001b[0;34m)\u001b[0m\u001b[0;34m\u001b[0m\u001b[0m\n\u001b[0;32m---> 21\u001b[0;31m             \u001b[0mgetLinks\u001b[0m\u001b[0;34m(\u001b[0m\u001b[0mnewPage\u001b[0m\u001b[0;34m)\u001b[0m\u001b[0;34m\u001b[0m\u001b[0m\n\u001b[0m",
      "\u001b[0;32m<ipython-input-46-df13bdcf1212>\u001b[0m in \u001b[0;36mgetLinks\u001b[0;34m(pageUrl)\u001b[0m\n\u001b[1;32m     19\u001b[0m             \u001b[0mprint\u001b[0m\u001b[0;34m(\u001b[0m\u001b[0mnewPage\u001b[0m\u001b[0;34m)\u001b[0m\u001b[0;34m\u001b[0m\u001b[0m\n\u001b[1;32m     20\u001b[0m             \u001b[0mpages\u001b[0m\u001b[0;34m.\u001b[0m\u001b[0madd\u001b[0m\u001b[0;34m(\u001b[0m\u001b[0mnewPage\u001b[0m\u001b[0;34m)\u001b[0m\u001b[0;34m\u001b[0m\u001b[0m\n\u001b[0;32m---> 21\u001b[0;31m             \u001b[0mgetLinks\u001b[0m\u001b[0;34m(\u001b[0m\u001b[0mnewPage\u001b[0m\u001b[0;34m)\u001b[0m\u001b[0;34m\u001b[0m\u001b[0m\n\u001b[0m",
      "\u001b[0;32m<ipython-input-46-df13bdcf1212>\u001b[0m in \u001b[0;36mgetLinks\u001b[0;34m(pageUrl)\u001b[0m\n\u001b[1;32m     19\u001b[0m             \u001b[0mprint\u001b[0m\u001b[0;34m(\u001b[0m\u001b[0mnewPage\u001b[0m\u001b[0;34m)\u001b[0m\u001b[0;34m\u001b[0m\u001b[0m\n\u001b[1;32m     20\u001b[0m             \u001b[0mpages\u001b[0m\u001b[0;34m.\u001b[0m\u001b[0madd\u001b[0m\u001b[0;34m(\u001b[0m\u001b[0mnewPage\u001b[0m\u001b[0;34m)\u001b[0m\u001b[0;34m\u001b[0m\u001b[0m\n\u001b[0;32m---> 21\u001b[0;31m             \u001b[0mgetLinks\u001b[0m\u001b[0;34m(\u001b[0m\u001b[0mnewPage\u001b[0m\u001b[0;34m)\u001b[0m\u001b[0;34m\u001b[0m\u001b[0m\n\u001b[0m",
      "\u001b[0;32m<ipython-input-46-df13bdcf1212>\u001b[0m in \u001b[0;36mgetLinks\u001b[0;34m(pageUrl)\u001b[0m\n\u001b[1;32m     19\u001b[0m             \u001b[0mprint\u001b[0m\u001b[0;34m(\u001b[0m\u001b[0mnewPage\u001b[0m\u001b[0;34m)\u001b[0m\u001b[0;34m\u001b[0m\u001b[0m\n\u001b[1;32m     20\u001b[0m             \u001b[0mpages\u001b[0m\u001b[0;34m.\u001b[0m\u001b[0madd\u001b[0m\u001b[0;34m(\u001b[0m\u001b[0mnewPage\u001b[0m\u001b[0;34m)\u001b[0m\u001b[0;34m\u001b[0m\u001b[0m\n\u001b[0;32m---> 21\u001b[0;31m             \u001b[0mgetLinks\u001b[0m\u001b[0;34m(\u001b[0m\u001b[0mnewPage\u001b[0m\u001b[0;34m)\u001b[0m\u001b[0;34m\u001b[0m\u001b[0m\n\u001b[0m",
      "\u001b[0;32m<ipython-input-46-df13bdcf1212>\u001b[0m in \u001b[0;36mgetLinks\u001b[0;34m(pageUrl)\u001b[0m\n\u001b[1;32m     19\u001b[0m             \u001b[0mprint\u001b[0m\u001b[0;34m(\u001b[0m\u001b[0mnewPage\u001b[0m\u001b[0;34m)\u001b[0m\u001b[0;34m\u001b[0m\u001b[0m\n\u001b[1;32m     20\u001b[0m             \u001b[0mpages\u001b[0m\u001b[0;34m.\u001b[0m\u001b[0madd\u001b[0m\u001b[0;34m(\u001b[0m\u001b[0mnewPage\u001b[0m\u001b[0;34m)\u001b[0m\u001b[0;34m\u001b[0m\u001b[0m\n\u001b[0;32m---> 21\u001b[0;31m             \u001b[0mgetLinks\u001b[0m\u001b[0;34m(\u001b[0m\u001b[0mnewPage\u001b[0m\u001b[0;34m)\u001b[0m\u001b[0;34m\u001b[0m\u001b[0m\n\u001b[0m",
      "\u001b[0;32m<ipython-input-46-df13bdcf1212>\u001b[0m in \u001b[0;36mgetLinks\u001b[0;34m(pageUrl)\u001b[0m\n\u001b[1;32m     19\u001b[0m             \u001b[0mprint\u001b[0m\u001b[0;34m(\u001b[0m\u001b[0mnewPage\u001b[0m\u001b[0;34m)\u001b[0m\u001b[0;34m\u001b[0m\u001b[0m\n\u001b[1;32m     20\u001b[0m             \u001b[0mpages\u001b[0m\u001b[0;34m.\u001b[0m\u001b[0madd\u001b[0m\u001b[0;34m(\u001b[0m\u001b[0mnewPage\u001b[0m\u001b[0;34m)\u001b[0m\u001b[0;34m\u001b[0m\u001b[0m\n\u001b[0;32m---> 21\u001b[0;31m             \u001b[0mgetLinks\u001b[0m\u001b[0;34m(\u001b[0m\u001b[0mnewPage\u001b[0m\u001b[0;34m)\u001b[0m\u001b[0;34m\u001b[0m\u001b[0m\n\u001b[0m",
      "\u001b[0;32m<ipython-input-46-df13bdcf1212>\u001b[0m in \u001b[0;36mgetLinks\u001b[0;34m(pageUrl)\u001b[0m\n\u001b[1;32m     19\u001b[0m             \u001b[0mprint\u001b[0m\u001b[0;34m(\u001b[0m\u001b[0mnewPage\u001b[0m\u001b[0;34m)\u001b[0m\u001b[0;34m\u001b[0m\u001b[0m\n\u001b[1;32m     20\u001b[0m             \u001b[0mpages\u001b[0m\u001b[0;34m.\u001b[0m\u001b[0madd\u001b[0m\u001b[0;34m(\u001b[0m\u001b[0mnewPage\u001b[0m\u001b[0;34m)\u001b[0m\u001b[0;34m\u001b[0m\u001b[0m\n\u001b[0;32m---> 21\u001b[0;31m             \u001b[0mgetLinks\u001b[0m\u001b[0;34m(\u001b[0m\u001b[0mnewPage\u001b[0m\u001b[0;34m)\u001b[0m\u001b[0;34m\u001b[0m\u001b[0m\n\u001b[0m",
      "\u001b[0;32m<ipython-input-46-df13bdcf1212>\u001b[0m in \u001b[0;36mgetLinks\u001b[0;34m(pageUrl)\u001b[0m\n\u001b[1;32m     19\u001b[0m             \u001b[0mprint\u001b[0m\u001b[0;34m(\u001b[0m\u001b[0mnewPage\u001b[0m\u001b[0;34m)\u001b[0m\u001b[0;34m\u001b[0m\u001b[0m\n\u001b[1;32m     20\u001b[0m             \u001b[0mpages\u001b[0m\u001b[0;34m.\u001b[0m\u001b[0madd\u001b[0m\u001b[0;34m(\u001b[0m\u001b[0mnewPage\u001b[0m\u001b[0;34m)\u001b[0m\u001b[0;34m\u001b[0m\u001b[0m\n\u001b[0;32m---> 21\u001b[0;31m             \u001b[0mgetLinks\u001b[0m\u001b[0;34m(\u001b[0m\u001b[0mnewPage\u001b[0m\u001b[0;34m)\u001b[0m\u001b[0;34m\u001b[0m\u001b[0m\n\u001b[0m",
      "\u001b[0;32m<ipython-input-46-df13bdcf1212>\u001b[0m in \u001b[0;36mgetLinks\u001b[0;34m(pageUrl)\u001b[0m\n\u001b[1;32m     19\u001b[0m             \u001b[0mprint\u001b[0m\u001b[0;34m(\u001b[0m\u001b[0mnewPage\u001b[0m\u001b[0;34m)\u001b[0m\u001b[0;34m\u001b[0m\u001b[0m\n\u001b[1;32m     20\u001b[0m             \u001b[0mpages\u001b[0m\u001b[0;34m.\u001b[0m\u001b[0madd\u001b[0m\u001b[0;34m(\u001b[0m\u001b[0mnewPage\u001b[0m\u001b[0;34m)\u001b[0m\u001b[0;34m\u001b[0m\u001b[0m\n\u001b[0;32m---> 21\u001b[0;31m             \u001b[0mgetLinks\u001b[0m\u001b[0;34m(\u001b[0m\u001b[0mnewPage\u001b[0m\u001b[0;34m)\u001b[0m\u001b[0;34m\u001b[0m\u001b[0m\n\u001b[0m",
      "\u001b[0;32m<ipython-input-46-df13bdcf1212>\u001b[0m in \u001b[0;36mgetLinks\u001b[0;34m(pageUrl)\u001b[0m\n\u001b[1;32m     19\u001b[0m             \u001b[0mprint\u001b[0m\u001b[0;34m(\u001b[0m\u001b[0mnewPage\u001b[0m\u001b[0;34m)\u001b[0m\u001b[0;34m\u001b[0m\u001b[0m\n\u001b[1;32m     20\u001b[0m             \u001b[0mpages\u001b[0m\u001b[0;34m.\u001b[0m\u001b[0madd\u001b[0m\u001b[0;34m(\u001b[0m\u001b[0mnewPage\u001b[0m\u001b[0;34m)\u001b[0m\u001b[0;34m\u001b[0m\u001b[0m\n\u001b[0;32m---> 21\u001b[0;31m             \u001b[0mgetLinks\u001b[0m\u001b[0;34m(\u001b[0m\u001b[0mnewPage\u001b[0m\u001b[0;34m)\u001b[0m\u001b[0;34m\u001b[0m\u001b[0m\n\u001b[0m",
      "\u001b[0;32m<ipython-input-46-df13bdcf1212>\u001b[0m in \u001b[0;36mgetLinks\u001b[0;34m(pageUrl)\u001b[0m\n\u001b[1;32m     19\u001b[0m             \u001b[0mprint\u001b[0m\u001b[0;34m(\u001b[0m\u001b[0mnewPage\u001b[0m\u001b[0;34m)\u001b[0m\u001b[0;34m\u001b[0m\u001b[0m\n\u001b[1;32m     20\u001b[0m             \u001b[0mpages\u001b[0m\u001b[0;34m.\u001b[0m\u001b[0madd\u001b[0m\u001b[0;34m(\u001b[0m\u001b[0mnewPage\u001b[0m\u001b[0;34m)\u001b[0m\u001b[0;34m\u001b[0m\u001b[0m\n\u001b[0;32m---> 21\u001b[0;31m             \u001b[0mgetLinks\u001b[0m\u001b[0;34m(\u001b[0m\u001b[0mnewPage\u001b[0m\u001b[0;34m)\u001b[0m\u001b[0;34m\u001b[0m\u001b[0m\n\u001b[0m",
      "\u001b[0;32m<ipython-input-46-df13bdcf1212>\u001b[0m in \u001b[0;36mgetLinks\u001b[0;34m(pageUrl)\u001b[0m\n\u001b[1;32m     19\u001b[0m             \u001b[0mprint\u001b[0m\u001b[0;34m(\u001b[0m\u001b[0mnewPage\u001b[0m\u001b[0;34m)\u001b[0m\u001b[0;34m\u001b[0m\u001b[0m\n\u001b[1;32m     20\u001b[0m             \u001b[0mpages\u001b[0m\u001b[0;34m.\u001b[0m\u001b[0madd\u001b[0m\u001b[0;34m(\u001b[0m\u001b[0mnewPage\u001b[0m\u001b[0;34m)\u001b[0m\u001b[0;34m\u001b[0m\u001b[0m\n\u001b[0;32m---> 21\u001b[0;31m             \u001b[0mgetLinks\u001b[0m\u001b[0;34m(\u001b[0m\u001b[0mnewPage\u001b[0m\u001b[0;34m)\u001b[0m\u001b[0;34m\u001b[0m\u001b[0m\n\u001b[0m",
      "\u001b[0;32m<ipython-input-46-df13bdcf1212>\u001b[0m in \u001b[0;36mgetLinks\u001b[0;34m(pageUrl)\u001b[0m\n\u001b[1;32m     19\u001b[0m             \u001b[0mprint\u001b[0m\u001b[0;34m(\u001b[0m\u001b[0mnewPage\u001b[0m\u001b[0;34m)\u001b[0m\u001b[0;34m\u001b[0m\u001b[0m\n\u001b[1;32m     20\u001b[0m             \u001b[0mpages\u001b[0m\u001b[0;34m.\u001b[0m\u001b[0madd\u001b[0m\u001b[0;34m(\u001b[0m\u001b[0mnewPage\u001b[0m\u001b[0;34m)\u001b[0m\u001b[0;34m\u001b[0m\u001b[0m\n\u001b[0;32m---> 21\u001b[0;31m             \u001b[0mgetLinks\u001b[0m\u001b[0;34m(\u001b[0m\u001b[0mnewPage\u001b[0m\u001b[0;34m)\u001b[0m\u001b[0;34m\u001b[0m\u001b[0m\n\u001b[0m",
      "\u001b[0;32m<ipython-input-46-df13bdcf1212>\u001b[0m in \u001b[0;36mgetLinks\u001b[0;34m(pageUrl)\u001b[0m\n\u001b[1;32m     19\u001b[0m             \u001b[0mprint\u001b[0m\u001b[0;34m(\u001b[0m\u001b[0mnewPage\u001b[0m\u001b[0;34m)\u001b[0m\u001b[0;34m\u001b[0m\u001b[0m\n\u001b[1;32m     20\u001b[0m             \u001b[0mpages\u001b[0m\u001b[0;34m.\u001b[0m\u001b[0madd\u001b[0m\u001b[0;34m(\u001b[0m\u001b[0mnewPage\u001b[0m\u001b[0;34m)\u001b[0m\u001b[0;34m\u001b[0m\u001b[0m\n\u001b[0;32m---> 21\u001b[0;31m             \u001b[0mgetLinks\u001b[0m\u001b[0;34m(\u001b[0m\u001b[0mnewPage\u001b[0m\u001b[0;34m)\u001b[0m\u001b[0;34m\u001b[0m\u001b[0m\n\u001b[0m",
      "\u001b[0;32m<ipython-input-46-df13bdcf1212>\u001b[0m in \u001b[0;36mgetLinks\u001b[0;34m(pageUrl)\u001b[0m\n\u001b[1;32m     19\u001b[0m             \u001b[0mprint\u001b[0m\u001b[0;34m(\u001b[0m\u001b[0mnewPage\u001b[0m\u001b[0;34m)\u001b[0m\u001b[0;34m\u001b[0m\u001b[0m\n\u001b[1;32m     20\u001b[0m             \u001b[0mpages\u001b[0m\u001b[0;34m.\u001b[0m\u001b[0madd\u001b[0m\u001b[0;34m(\u001b[0m\u001b[0mnewPage\u001b[0m\u001b[0;34m)\u001b[0m\u001b[0;34m\u001b[0m\u001b[0m\n\u001b[0;32m---> 21\u001b[0;31m             \u001b[0mgetLinks\u001b[0m\u001b[0;34m(\u001b[0m\u001b[0mnewPage\u001b[0m\u001b[0;34m)\u001b[0m\u001b[0;34m\u001b[0m\u001b[0m\n\u001b[0m",
      "\u001b[0;32m<ipython-input-46-df13bdcf1212>\u001b[0m in \u001b[0;36mgetLinks\u001b[0;34m(pageUrl)\u001b[0m\n\u001b[1;32m     19\u001b[0m             \u001b[0mprint\u001b[0m\u001b[0;34m(\u001b[0m\u001b[0mnewPage\u001b[0m\u001b[0;34m)\u001b[0m\u001b[0;34m\u001b[0m\u001b[0m\n\u001b[1;32m     20\u001b[0m             \u001b[0mpages\u001b[0m\u001b[0;34m.\u001b[0m\u001b[0madd\u001b[0m\u001b[0;34m(\u001b[0m\u001b[0mnewPage\u001b[0m\u001b[0;34m)\u001b[0m\u001b[0;34m\u001b[0m\u001b[0m\n\u001b[0;32m---> 21\u001b[0;31m             \u001b[0mgetLinks\u001b[0m\u001b[0;34m(\u001b[0m\u001b[0mnewPage\u001b[0m\u001b[0;34m)\u001b[0m\u001b[0;34m\u001b[0m\u001b[0m\n\u001b[0m",
      "\u001b[0;32m<ipython-input-46-df13bdcf1212>\u001b[0m in \u001b[0;36mgetLinks\u001b[0;34m(pageUrl)\u001b[0m\n\u001b[1;32m     19\u001b[0m             \u001b[0mprint\u001b[0m\u001b[0;34m(\u001b[0m\u001b[0mnewPage\u001b[0m\u001b[0;34m)\u001b[0m\u001b[0;34m\u001b[0m\u001b[0m\n\u001b[1;32m     20\u001b[0m             \u001b[0mpages\u001b[0m\u001b[0;34m.\u001b[0m\u001b[0madd\u001b[0m\u001b[0;34m(\u001b[0m\u001b[0mnewPage\u001b[0m\u001b[0;34m)\u001b[0m\u001b[0;34m\u001b[0m\u001b[0m\n\u001b[0;32m---> 21\u001b[0;31m             \u001b[0mgetLinks\u001b[0m\u001b[0;34m(\u001b[0m\u001b[0mnewPage\u001b[0m\u001b[0;34m)\u001b[0m\u001b[0;34m\u001b[0m\u001b[0m\n\u001b[0m",
      "\u001b[0;32m<ipython-input-46-df13bdcf1212>\u001b[0m in \u001b[0;36mgetLinks\u001b[0;34m(pageUrl)\u001b[0m\n\u001b[1;32m     19\u001b[0m             \u001b[0mprint\u001b[0m\u001b[0;34m(\u001b[0m\u001b[0mnewPage\u001b[0m\u001b[0;34m)\u001b[0m\u001b[0;34m\u001b[0m\u001b[0m\n\u001b[1;32m     20\u001b[0m             \u001b[0mpages\u001b[0m\u001b[0;34m.\u001b[0m\u001b[0madd\u001b[0m\u001b[0;34m(\u001b[0m\u001b[0mnewPage\u001b[0m\u001b[0;34m)\u001b[0m\u001b[0;34m\u001b[0m\u001b[0m\n\u001b[0;32m---> 21\u001b[0;31m             \u001b[0mgetLinks\u001b[0m\u001b[0;34m(\u001b[0m\u001b[0mnewPage\u001b[0m\u001b[0;34m)\u001b[0m\u001b[0;34m\u001b[0m\u001b[0m\n\u001b[0m",
      "\u001b[0;32m<ipython-input-46-df13bdcf1212>\u001b[0m in \u001b[0;36mgetLinks\u001b[0;34m(pageUrl)\u001b[0m\n\u001b[1;32m     19\u001b[0m             \u001b[0mprint\u001b[0m\u001b[0;34m(\u001b[0m\u001b[0mnewPage\u001b[0m\u001b[0;34m)\u001b[0m\u001b[0;34m\u001b[0m\u001b[0m\n\u001b[1;32m     20\u001b[0m             \u001b[0mpages\u001b[0m\u001b[0;34m.\u001b[0m\u001b[0madd\u001b[0m\u001b[0;34m(\u001b[0m\u001b[0mnewPage\u001b[0m\u001b[0;34m)\u001b[0m\u001b[0;34m\u001b[0m\u001b[0m\n\u001b[0;32m---> 21\u001b[0;31m             \u001b[0mgetLinks\u001b[0m\u001b[0;34m(\u001b[0m\u001b[0mnewPage\u001b[0m\u001b[0;34m)\u001b[0m\u001b[0;34m\u001b[0m\u001b[0m\n\u001b[0m",
      "\u001b[0;32m<ipython-input-46-df13bdcf1212>\u001b[0m in \u001b[0;36mgetLinks\u001b[0;34m(pageUrl)\u001b[0m\n\u001b[1;32m     19\u001b[0m             \u001b[0mprint\u001b[0m\u001b[0;34m(\u001b[0m\u001b[0mnewPage\u001b[0m\u001b[0;34m)\u001b[0m\u001b[0;34m\u001b[0m\u001b[0m\n\u001b[1;32m     20\u001b[0m             \u001b[0mpages\u001b[0m\u001b[0;34m.\u001b[0m\u001b[0madd\u001b[0m\u001b[0;34m(\u001b[0m\u001b[0mnewPage\u001b[0m\u001b[0;34m)\u001b[0m\u001b[0;34m\u001b[0m\u001b[0m\n\u001b[0;32m---> 21\u001b[0;31m             \u001b[0mgetLinks\u001b[0m\u001b[0;34m(\u001b[0m\u001b[0mnewPage\u001b[0m\u001b[0;34m)\u001b[0m\u001b[0;34m\u001b[0m\u001b[0m\n\u001b[0m",
      "\u001b[0;32m<ipython-input-46-df13bdcf1212>\u001b[0m in \u001b[0;36mgetLinks\u001b[0;34m(pageUrl)\u001b[0m\n\u001b[1;32m     19\u001b[0m             \u001b[0mprint\u001b[0m\u001b[0;34m(\u001b[0m\u001b[0mnewPage\u001b[0m\u001b[0;34m)\u001b[0m\u001b[0;34m\u001b[0m\u001b[0m\n\u001b[1;32m     20\u001b[0m             \u001b[0mpages\u001b[0m\u001b[0;34m.\u001b[0m\u001b[0madd\u001b[0m\u001b[0;34m(\u001b[0m\u001b[0mnewPage\u001b[0m\u001b[0;34m)\u001b[0m\u001b[0;34m\u001b[0m\u001b[0m\n\u001b[0;32m---> 21\u001b[0;31m             \u001b[0mgetLinks\u001b[0m\u001b[0;34m(\u001b[0m\u001b[0mnewPage\u001b[0m\u001b[0;34m)\u001b[0m\u001b[0;34m\u001b[0m\u001b[0m\n\u001b[0m",
      "\u001b[0;32m<ipython-input-46-df13bdcf1212>\u001b[0m in \u001b[0;36mgetLinks\u001b[0;34m(pageUrl)\u001b[0m\n\u001b[1;32m     19\u001b[0m             \u001b[0mprint\u001b[0m\u001b[0;34m(\u001b[0m\u001b[0mnewPage\u001b[0m\u001b[0;34m)\u001b[0m\u001b[0;34m\u001b[0m\u001b[0m\n\u001b[1;32m     20\u001b[0m             \u001b[0mpages\u001b[0m\u001b[0;34m.\u001b[0m\u001b[0madd\u001b[0m\u001b[0;34m(\u001b[0m\u001b[0mnewPage\u001b[0m\u001b[0;34m)\u001b[0m\u001b[0;34m\u001b[0m\u001b[0m\n\u001b[0;32m---> 21\u001b[0;31m             \u001b[0mgetLinks\u001b[0m\u001b[0;34m(\u001b[0m\u001b[0mnewPage\u001b[0m\u001b[0;34m)\u001b[0m\u001b[0;34m\u001b[0m\u001b[0m\n\u001b[0m",
      "\u001b[0;32m<ipython-input-46-df13bdcf1212>\u001b[0m in \u001b[0;36mgetLinks\u001b[0;34m(pageUrl)\u001b[0m\n\u001b[1;32m     19\u001b[0m             \u001b[0mprint\u001b[0m\u001b[0;34m(\u001b[0m\u001b[0mnewPage\u001b[0m\u001b[0;34m)\u001b[0m\u001b[0;34m\u001b[0m\u001b[0m\n\u001b[1;32m     20\u001b[0m             \u001b[0mpages\u001b[0m\u001b[0;34m.\u001b[0m\u001b[0madd\u001b[0m\u001b[0;34m(\u001b[0m\u001b[0mnewPage\u001b[0m\u001b[0;34m)\u001b[0m\u001b[0;34m\u001b[0m\u001b[0m\n\u001b[0;32m---> 21\u001b[0;31m             \u001b[0mgetLinks\u001b[0m\u001b[0;34m(\u001b[0m\u001b[0mnewPage\u001b[0m\u001b[0;34m)\u001b[0m\u001b[0;34m\u001b[0m\u001b[0m\n\u001b[0m",
      "\u001b[0;32m<ipython-input-46-df13bdcf1212>\u001b[0m in \u001b[0;36mgetLinks\u001b[0;34m(pageUrl)\u001b[0m\n\u001b[1;32m     19\u001b[0m             \u001b[0mprint\u001b[0m\u001b[0;34m(\u001b[0m\u001b[0mnewPage\u001b[0m\u001b[0;34m)\u001b[0m\u001b[0;34m\u001b[0m\u001b[0m\n\u001b[1;32m     20\u001b[0m             \u001b[0mpages\u001b[0m\u001b[0;34m.\u001b[0m\u001b[0madd\u001b[0m\u001b[0;34m(\u001b[0m\u001b[0mnewPage\u001b[0m\u001b[0;34m)\u001b[0m\u001b[0;34m\u001b[0m\u001b[0m\n\u001b[0;32m---> 21\u001b[0;31m             \u001b[0mgetLinks\u001b[0m\u001b[0;34m(\u001b[0m\u001b[0mnewPage\u001b[0m\u001b[0;34m)\u001b[0m\u001b[0;34m\u001b[0m\u001b[0m\n\u001b[0m",
      "\u001b[0;32m<ipython-input-46-df13bdcf1212>\u001b[0m in \u001b[0;36mgetLinks\u001b[0;34m(pageUrl)\u001b[0m\n\u001b[1;32m     19\u001b[0m             \u001b[0mprint\u001b[0m\u001b[0;34m(\u001b[0m\u001b[0mnewPage\u001b[0m\u001b[0;34m)\u001b[0m\u001b[0;34m\u001b[0m\u001b[0m\n\u001b[1;32m     20\u001b[0m             \u001b[0mpages\u001b[0m\u001b[0;34m.\u001b[0m\u001b[0madd\u001b[0m\u001b[0;34m(\u001b[0m\u001b[0mnewPage\u001b[0m\u001b[0;34m)\u001b[0m\u001b[0;34m\u001b[0m\u001b[0m\n\u001b[0;32m---> 21\u001b[0;31m             \u001b[0mgetLinks\u001b[0m\u001b[0;34m(\u001b[0m\u001b[0mnewPage\u001b[0m\u001b[0;34m)\u001b[0m\u001b[0;34m\u001b[0m\u001b[0m\n\u001b[0m",
      "\u001b[0;32m<ipython-input-46-df13bdcf1212>\u001b[0m in \u001b[0;36mgetLinks\u001b[0;34m(pageUrl)\u001b[0m\n\u001b[1;32m     19\u001b[0m             \u001b[0mprint\u001b[0m\u001b[0;34m(\u001b[0m\u001b[0mnewPage\u001b[0m\u001b[0;34m)\u001b[0m\u001b[0;34m\u001b[0m\u001b[0m\n\u001b[1;32m     20\u001b[0m             \u001b[0mpages\u001b[0m\u001b[0;34m.\u001b[0m\u001b[0madd\u001b[0m\u001b[0;34m(\u001b[0m\u001b[0mnewPage\u001b[0m\u001b[0;34m)\u001b[0m\u001b[0;34m\u001b[0m\u001b[0m\n\u001b[0;32m---> 21\u001b[0;31m             \u001b[0mgetLinks\u001b[0m\u001b[0;34m(\u001b[0m\u001b[0mnewPage\u001b[0m\u001b[0;34m)\u001b[0m\u001b[0;34m\u001b[0m\u001b[0m\n\u001b[0m",
      "\u001b[0;32m<ipython-input-46-df13bdcf1212>\u001b[0m in \u001b[0;36mgetLinks\u001b[0;34m(pageUrl)\u001b[0m\n\u001b[1;32m     19\u001b[0m             \u001b[0mprint\u001b[0m\u001b[0;34m(\u001b[0m\u001b[0mnewPage\u001b[0m\u001b[0;34m)\u001b[0m\u001b[0;34m\u001b[0m\u001b[0m\n\u001b[1;32m     20\u001b[0m             \u001b[0mpages\u001b[0m\u001b[0;34m.\u001b[0m\u001b[0madd\u001b[0m\u001b[0;34m(\u001b[0m\u001b[0mnewPage\u001b[0m\u001b[0;34m)\u001b[0m\u001b[0;34m\u001b[0m\u001b[0m\n\u001b[0;32m---> 21\u001b[0;31m             \u001b[0mgetLinks\u001b[0m\u001b[0;34m(\u001b[0m\u001b[0mnewPage\u001b[0m\u001b[0;34m)\u001b[0m\u001b[0;34m\u001b[0m\u001b[0m\n\u001b[0m",
      "\u001b[0;32m<ipython-input-46-df13bdcf1212>\u001b[0m in \u001b[0;36mgetLinks\u001b[0;34m(pageUrl)\u001b[0m\n\u001b[1;32m     19\u001b[0m             \u001b[0mprint\u001b[0m\u001b[0;34m(\u001b[0m\u001b[0mnewPage\u001b[0m\u001b[0;34m)\u001b[0m\u001b[0;34m\u001b[0m\u001b[0m\n\u001b[1;32m     20\u001b[0m             \u001b[0mpages\u001b[0m\u001b[0;34m.\u001b[0m\u001b[0madd\u001b[0m\u001b[0;34m(\u001b[0m\u001b[0mnewPage\u001b[0m\u001b[0;34m)\u001b[0m\u001b[0;34m\u001b[0m\u001b[0m\n\u001b[0;32m---> 21\u001b[0;31m             \u001b[0mgetLinks\u001b[0m\u001b[0;34m(\u001b[0m\u001b[0mnewPage\u001b[0m\u001b[0;34m)\u001b[0m\u001b[0;34m\u001b[0m\u001b[0m\n\u001b[0m",
      "\u001b[0;32m<ipython-input-46-df13bdcf1212>\u001b[0m in \u001b[0;36mgetLinks\u001b[0;34m(pageUrl)\u001b[0m\n\u001b[1;32m     19\u001b[0m             \u001b[0mprint\u001b[0m\u001b[0;34m(\u001b[0m\u001b[0mnewPage\u001b[0m\u001b[0;34m)\u001b[0m\u001b[0;34m\u001b[0m\u001b[0m\n\u001b[1;32m     20\u001b[0m             \u001b[0mpages\u001b[0m\u001b[0;34m.\u001b[0m\u001b[0madd\u001b[0m\u001b[0;34m(\u001b[0m\u001b[0mnewPage\u001b[0m\u001b[0;34m)\u001b[0m\u001b[0;34m\u001b[0m\u001b[0m\n\u001b[0;32m---> 21\u001b[0;31m             \u001b[0mgetLinks\u001b[0m\u001b[0;34m(\u001b[0m\u001b[0mnewPage\u001b[0m\u001b[0;34m)\u001b[0m\u001b[0;34m\u001b[0m\u001b[0m\n\u001b[0m",
      "\u001b[0;32m<ipython-input-46-df13bdcf1212>\u001b[0m in \u001b[0;36mgetLinks\u001b[0;34m(pageUrl)\u001b[0m\n\u001b[1;32m     19\u001b[0m             \u001b[0mprint\u001b[0m\u001b[0;34m(\u001b[0m\u001b[0mnewPage\u001b[0m\u001b[0;34m)\u001b[0m\u001b[0;34m\u001b[0m\u001b[0m\n\u001b[1;32m     20\u001b[0m             \u001b[0mpages\u001b[0m\u001b[0;34m.\u001b[0m\u001b[0madd\u001b[0m\u001b[0;34m(\u001b[0m\u001b[0mnewPage\u001b[0m\u001b[0;34m)\u001b[0m\u001b[0;34m\u001b[0m\u001b[0m\n\u001b[0;32m---> 21\u001b[0;31m             \u001b[0mgetLinks\u001b[0m\u001b[0;34m(\u001b[0m\u001b[0mnewPage\u001b[0m\u001b[0;34m)\u001b[0m\u001b[0;34m\u001b[0m\u001b[0m\n\u001b[0m",
      "\u001b[0;32m<ipython-input-46-df13bdcf1212>\u001b[0m in \u001b[0;36mgetLinks\u001b[0;34m(pageUrl)\u001b[0m\n\u001b[1;32m     19\u001b[0m             \u001b[0mprint\u001b[0m\u001b[0;34m(\u001b[0m\u001b[0mnewPage\u001b[0m\u001b[0;34m)\u001b[0m\u001b[0;34m\u001b[0m\u001b[0m\n\u001b[1;32m     20\u001b[0m             \u001b[0mpages\u001b[0m\u001b[0;34m.\u001b[0m\u001b[0madd\u001b[0m\u001b[0;34m(\u001b[0m\u001b[0mnewPage\u001b[0m\u001b[0;34m)\u001b[0m\u001b[0;34m\u001b[0m\u001b[0m\n\u001b[0;32m---> 21\u001b[0;31m             \u001b[0mgetLinks\u001b[0m\u001b[0;34m(\u001b[0m\u001b[0mnewPage\u001b[0m\u001b[0;34m)\u001b[0m\u001b[0;34m\u001b[0m\u001b[0m\n\u001b[0m",
      "\u001b[0;32m<ipython-input-46-df13bdcf1212>\u001b[0m in \u001b[0;36mgetLinks\u001b[0;34m(pageUrl)\u001b[0m\n\u001b[1;32m     19\u001b[0m             \u001b[0mprint\u001b[0m\u001b[0;34m(\u001b[0m\u001b[0mnewPage\u001b[0m\u001b[0;34m)\u001b[0m\u001b[0;34m\u001b[0m\u001b[0m\n\u001b[1;32m     20\u001b[0m             \u001b[0mpages\u001b[0m\u001b[0;34m.\u001b[0m\u001b[0madd\u001b[0m\u001b[0;34m(\u001b[0m\u001b[0mnewPage\u001b[0m\u001b[0;34m)\u001b[0m\u001b[0;34m\u001b[0m\u001b[0m\n\u001b[0;32m---> 21\u001b[0;31m             \u001b[0mgetLinks\u001b[0m\u001b[0;34m(\u001b[0m\u001b[0mnewPage\u001b[0m\u001b[0;34m)\u001b[0m\u001b[0;34m\u001b[0m\u001b[0m\n\u001b[0m",
      "\u001b[0;32m<ipython-input-46-df13bdcf1212>\u001b[0m in \u001b[0;36mgetLinks\u001b[0;34m(pageUrl)\u001b[0m\n\u001b[1;32m     19\u001b[0m             \u001b[0mprint\u001b[0m\u001b[0;34m(\u001b[0m\u001b[0mnewPage\u001b[0m\u001b[0;34m)\u001b[0m\u001b[0;34m\u001b[0m\u001b[0m\n\u001b[1;32m     20\u001b[0m             \u001b[0mpages\u001b[0m\u001b[0;34m.\u001b[0m\u001b[0madd\u001b[0m\u001b[0;34m(\u001b[0m\u001b[0mnewPage\u001b[0m\u001b[0;34m)\u001b[0m\u001b[0;34m\u001b[0m\u001b[0m\n\u001b[0;32m---> 21\u001b[0;31m             \u001b[0mgetLinks\u001b[0m\u001b[0;34m(\u001b[0m\u001b[0mnewPage\u001b[0m\u001b[0;34m)\u001b[0m\u001b[0;34m\u001b[0m\u001b[0m\n\u001b[0m",
      "\u001b[0;32m<ipython-input-46-df13bdcf1212>\u001b[0m in \u001b[0;36mgetLinks\u001b[0;34m(pageUrl)\u001b[0m\n\u001b[1;32m     19\u001b[0m             \u001b[0mprint\u001b[0m\u001b[0;34m(\u001b[0m\u001b[0mnewPage\u001b[0m\u001b[0;34m)\u001b[0m\u001b[0;34m\u001b[0m\u001b[0m\n\u001b[1;32m     20\u001b[0m             \u001b[0mpages\u001b[0m\u001b[0;34m.\u001b[0m\u001b[0madd\u001b[0m\u001b[0;34m(\u001b[0m\u001b[0mnewPage\u001b[0m\u001b[0;34m)\u001b[0m\u001b[0;34m\u001b[0m\u001b[0m\n\u001b[0;32m---> 21\u001b[0;31m             \u001b[0mgetLinks\u001b[0m\u001b[0;34m(\u001b[0m\u001b[0mnewPage\u001b[0m\u001b[0;34m)\u001b[0m\u001b[0;34m\u001b[0m\u001b[0m\n\u001b[0m",
      "\u001b[0;32m<ipython-input-46-df13bdcf1212>\u001b[0m in \u001b[0;36mgetLinks\u001b[0;34m(pageUrl)\u001b[0m\n\u001b[1;32m     19\u001b[0m             \u001b[0mprint\u001b[0m\u001b[0;34m(\u001b[0m\u001b[0mnewPage\u001b[0m\u001b[0;34m)\u001b[0m\u001b[0;34m\u001b[0m\u001b[0m\n\u001b[1;32m     20\u001b[0m             \u001b[0mpages\u001b[0m\u001b[0;34m.\u001b[0m\u001b[0madd\u001b[0m\u001b[0;34m(\u001b[0m\u001b[0mnewPage\u001b[0m\u001b[0;34m)\u001b[0m\u001b[0;34m\u001b[0m\u001b[0m\n\u001b[0;32m---> 21\u001b[0;31m             \u001b[0mgetLinks\u001b[0m\u001b[0;34m(\u001b[0m\u001b[0mnewPage\u001b[0m\u001b[0;34m)\u001b[0m\u001b[0;34m\u001b[0m\u001b[0m\n\u001b[0m",
      "\u001b[0;32m<ipython-input-46-df13bdcf1212>\u001b[0m in \u001b[0;36mgetLinks\u001b[0;34m(pageUrl)\u001b[0m\n\u001b[1;32m     19\u001b[0m             \u001b[0mprint\u001b[0m\u001b[0;34m(\u001b[0m\u001b[0mnewPage\u001b[0m\u001b[0;34m)\u001b[0m\u001b[0;34m\u001b[0m\u001b[0m\n\u001b[1;32m     20\u001b[0m             \u001b[0mpages\u001b[0m\u001b[0;34m.\u001b[0m\u001b[0madd\u001b[0m\u001b[0;34m(\u001b[0m\u001b[0mnewPage\u001b[0m\u001b[0;34m)\u001b[0m\u001b[0;34m\u001b[0m\u001b[0m\n\u001b[0;32m---> 21\u001b[0;31m             \u001b[0mgetLinks\u001b[0m\u001b[0;34m(\u001b[0m\u001b[0mnewPage\u001b[0m\u001b[0;34m)\u001b[0m\u001b[0;34m\u001b[0m\u001b[0m\n\u001b[0m",
      "\u001b[0;32m<ipython-input-46-df13bdcf1212>\u001b[0m in \u001b[0;36mgetLinks\u001b[0;34m(pageUrl)\u001b[0m\n\u001b[1;32m     19\u001b[0m             \u001b[0mprint\u001b[0m\u001b[0;34m(\u001b[0m\u001b[0mnewPage\u001b[0m\u001b[0;34m)\u001b[0m\u001b[0;34m\u001b[0m\u001b[0m\n\u001b[1;32m     20\u001b[0m             \u001b[0mpages\u001b[0m\u001b[0;34m.\u001b[0m\u001b[0madd\u001b[0m\u001b[0;34m(\u001b[0m\u001b[0mnewPage\u001b[0m\u001b[0;34m)\u001b[0m\u001b[0;34m\u001b[0m\u001b[0m\n\u001b[0;32m---> 21\u001b[0;31m             \u001b[0mgetLinks\u001b[0m\u001b[0;34m(\u001b[0m\u001b[0mnewPage\u001b[0m\u001b[0;34m)\u001b[0m\u001b[0;34m\u001b[0m\u001b[0m\n\u001b[0m",
      "\u001b[0;32m<ipython-input-46-df13bdcf1212>\u001b[0m in \u001b[0;36mgetLinks\u001b[0;34m(pageUrl)\u001b[0m\n\u001b[1;32m     19\u001b[0m             \u001b[0mprint\u001b[0m\u001b[0;34m(\u001b[0m\u001b[0mnewPage\u001b[0m\u001b[0;34m)\u001b[0m\u001b[0;34m\u001b[0m\u001b[0m\n\u001b[1;32m     20\u001b[0m             \u001b[0mpages\u001b[0m\u001b[0;34m.\u001b[0m\u001b[0madd\u001b[0m\u001b[0;34m(\u001b[0m\u001b[0mnewPage\u001b[0m\u001b[0;34m)\u001b[0m\u001b[0;34m\u001b[0m\u001b[0m\n\u001b[0;32m---> 21\u001b[0;31m             \u001b[0mgetLinks\u001b[0m\u001b[0;34m(\u001b[0m\u001b[0mnewPage\u001b[0m\u001b[0;34m)\u001b[0m\u001b[0;34m\u001b[0m\u001b[0m\n\u001b[0m",
      "\u001b[0;32m<ipython-input-46-df13bdcf1212>\u001b[0m in \u001b[0;36mgetLinks\u001b[0;34m(pageUrl)\u001b[0m\n\u001b[1;32m     19\u001b[0m             \u001b[0mprint\u001b[0m\u001b[0;34m(\u001b[0m\u001b[0mnewPage\u001b[0m\u001b[0;34m)\u001b[0m\u001b[0;34m\u001b[0m\u001b[0m\n\u001b[1;32m     20\u001b[0m             \u001b[0mpages\u001b[0m\u001b[0;34m.\u001b[0m\u001b[0madd\u001b[0m\u001b[0;34m(\u001b[0m\u001b[0mnewPage\u001b[0m\u001b[0;34m)\u001b[0m\u001b[0;34m\u001b[0m\u001b[0m\n\u001b[0;32m---> 21\u001b[0;31m             \u001b[0mgetLinks\u001b[0m\u001b[0;34m(\u001b[0m\u001b[0mnewPage\u001b[0m\u001b[0;34m)\u001b[0m\u001b[0;34m\u001b[0m\u001b[0m\n\u001b[0m",
      "\u001b[0;32m<ipython-input-46-df13bdcf1212>\u001b[0m in \u001b[0;36mgetLinks\u001b[0;34m(pageUrl)\u001b[0m\n\u001b[1;32m     19\u001b[0m             \u001b[0mprint\u001b[0m\u001b[0;34m(\u001b[0m\u001b[0mnewPage\u001b[0m\u001b[0;34m)\u001b[0m\u001b[0;34m\u001b[0m\u001b[0m\n\u001b[1;32m     20\u001b[0m             \u001b[0mpages\u001b[0m\u001b[0;34m.\u001b[0m\u001b[0madd\u001b[0m\u001b[0;34m(\u001b[0m\u001b[0mnewPage\u001b[0m\u001b[0;34m)\u001b[0m\u001b[0;34m\u001b[0m\u001b[0m\n\u001b[0;32m---> 21\u001b[0;31m             \u001b[0mgetLinks\u001b[0m\u001b[0;34m(\u001b[0m\u001b[0mnewPage\u001b[0m\u001b[0;34m)\u001b[0m\u001b[0;34m\u001b[0m\u001b[0m\n\u001b[0m",
      "\u001b[0;32m<ipython-input-46-df13bdcf1212>\u001b[0m in \u001b[0;36mgetLinks\u001b[0;34m(pageUrl)\u001b[0m\n\u001b[1;32m     19\u001b[0m             \u001b[0mprint\u001b[0m\u001b[0;34m(\u001b[0m\u001b[0mnewPage\u001b[0m\u001b[0;34m)\u001b[0m\u001b[0;34m\u001b[0m\u001b[0m\n\u001b[1;32m     20\u001b[0m             \u001b[0mpages\u001b[0m\u001b[0;34m.\u001b[0m\u001b[0madd\u001b[0m\u001b[0;34m(\u001b[0m\u001b[0mnewPage\u001b[0m\u001b[0;34m)\u001b[0m\u001b[0;34m\u001b[0m\u001b[0m\n\u001b[0;32m---> 21\u001b[0;31m             \u001b[0mgetLinks\u001b[0m\u001b[0;34m(\u001b[0m\u001b[0mnewPage\u001b[0m\u001b[0;34m)\u001b[0m\u001b[0;34m\u001b[0m\u001b[0m\n\u001b[0m",
      "\u001b[0;32m<ipython-input-46-df13bdcf1212>\u001b[0m in \u001b[0;36mgetLinks\u001b[0;34m(pageUrl)\u001b[0m\n\u001b[1;32m     19\u001b[0m             \u001b[0mprint\u001b[0m\u001b[0;34m(\u001b[0m\u001b[0mnewPage\u001b[0m\u001b[0;34m)\u001b[0m\u001b[0;34m\u001b[0m\u001b[0m\n\u001b[1;32m     20\u001b[0m             \u001b[0mpages\u001b[0m\u001b[0;34m.\u001b[0m\u001b[0madd\u001b[0m\u001b[0;34m(\u001b[0m\u001b[0mnewPage\u001b[0m\u001b[0;34m)\u001b[0m\u001b[0;34m\u001b[0m\u001b[0m\n\u001b[0;32m---> 21\u001b[0;31m             \u001b[0mgetLinks\u001b[0m\u001b[0;34m(\u001b[0m\u001b[0mnewPage\u001b[0m\u001b[0;34m)\u001b[0m\u001b[0;34m\u001b[0m\u001b[0m\n\u001b[0m",
      "\u001b[0;32m<ipython-input-46-df13bdcf1212>\u001b[0m in \u001b[0;36mgetLinks\u001b[0;34m(pageUrl)\u001b[0m\n\u001b[1;32m     19\u001b[0m             \u001b[0mprint\u001b[0m\u001b[0;34m(\u001b[0m\u001b[0mnewPage\u001b[0m\u001b[0;34m)\u001b[0m\u001b[0;34m\u001b[0m\u001b[0m\n\u001b[1;32m     20\u001b[0m             \u001b[0mpages\u001b[0m\u001b[0;34m.\u001b[0m\u001b[0madd\u001b[0m\u001b[0;34m(\u001b[0m\u001b[0mnewPage\u001b[0m\u001b[0;34m)\u001b[0m\u001b[0;34m\u001b[0m\u001b[0m\n\u001b[0;32m---> 21\u001b[0;31m             \u001b[0mgetLinks\u001b[0m\u001b[0;34m(\u001b[0m\u001b[0mnewPage\u001b[0m\u001b[0;34m)\u001b[0m\u001b[0;34m\u001b[0m\u001b[0m\n\u001b[0m",
      "\u001b[0;32m<ipython-input-46-df13bdcf1212>\u001b[0m in \u001b[0;36mgetLinks\u001b[0;34m(pageUrl)\u001b[0m\n\u001b[1;32m     19\u001b[0m             \u001b[0mprint\u001b[0m\u001b[0;34m(\u001b[0m\u001b[0mnewPage\u001b[0m\u001b[0;34m)\u001b[0m\u001b[0;34m\u001b[0m\u001b[0m\n\u001b[1;32m     20\u001b[0m             \u001b[0mpages\u001b[0m\u001b[0;34m.\u001b[0m\u001b[0madd\u001b[0m\u001b[0;34m(\u001b[0m\u001b[0mnewPage\u001b[0m\u001b[0;34m)\u001b[0m\u001b[0;34m\u001b[0m\u001b[0m\n\u001b[0;32m---> 21\u001b[0;31m             \u001b[0mgetLinks\u001b[0m\u001b[0;34m(\u001b[0m\u001b[0mnewPage\u001b[0m\u001b[0;34m)\u001b[0m\u001b[0;34m\u001b[0m\u001b[0m\n\u001b[0m",
      "\u001b[0;32m<ipython-input-46-df13bdcf1212>\u001b[0m in \u001b[0;36mgetLinks\u001b[0;34m(pageUrl)\u001b[0m\n\u001b[1;32m     19\u001b[0m             \u001b[0mprint\u001b[0m\u001b[0;34m(\u001b[0m\u001b[0mnewPage\u001b[0m\u001b[0;34m)\u001b[0m\u001b[0;34m\u001b[0m\u001b[0m\n\u001b[1;32m     20\u001b[0m             \u001b[0mpages\u001b[0m\u001b[0;34m.\u001b[0m\u001b[0madd\u001b[0m\u001b[0;34m(\u001b[0m\u001b[0mnewPage\u001b[0m\u001b[0;34m)\u001b[0m\u001b[0;34m\u001b[0m\u001b[0m\n\u001b[0;32m---> 21\u001b[0;31m             \u001b[0mgetLinks\u001b[0m\u001b[0;34m(\u001b[0m\u001b[0mnewPage\u001b[0m\u001b[0;34m)\u001b[0m\u001b[0;34m\u001b[0m\u001b[0m\n\u001b[0m",
      "\u001b[0;32m<ipython-input-46-df13bdcf1212>\u001b[0m in \u001b[0;36mgetLinks\u001b[0;34m(pageUrl)\u001b[0m\n\u001b[1;32m     19\u001b[0m             \u001b[0mprint\u001b[0m\u001b[0;34m(\u001b[0m\u001b[0mnewPage\u001b[0m\u001b[0;34m)\u001b[0m\u001b[0;34m\u001b[0m\u001b[0m\n\u001b[1;32m     20\u001b[0m             \u001b[0mpages\u001b[0m\u001b[0;34m.\u001b[0m\u001b[0madd\u001b[0m\u001b[0;34m(\u001b[0m\u001b[0mnewPage\u001b[0m\u001b[0;34m)\u001b[0m\u001b[0;34m\u001b[0m\u001b[0m\n\u001b[0;32m---> 21\u001b[0;31m             \u001b[0mgetLinks\u001b[0m\u001b[0;34m(\u001b[0m\u001b[0mnewPage\u001b[0m\u001b[0;34m)\u001b[0m\u001b[0;34m\u001b[0m\u001b[0m\n\u001b[0m",
      "\u001b[0;32m<ipython-input-46-df13bdcf1212>\u001b[0m in \u001b[0;36mgetLinks\u001b[0;34m(pageUrl)\u001b[0m\n\u001b[1;32m     19\u001b[0m             \u001b[0mprint\u001b[0m\u001b[0;34m(\u001b[0m\u001b[0mnewPage\u001b[0m\u001b[0;34m)\u001b[0m\u001b[0;34m\u001b[0m\u001b[0m\n\u001b[1;32m     20\u001b[0m             \u001b[0mpages\u001b[0m\u001b[0;34m.\u001b[0m\u001b[0madd\u001b[0m\u001b[0;34m(\u001b[0m\u001b[0mnewPage\u001b[0m\u001b[0;34m)\u001b[0m\u001b[0;34m\u001b[0m\u001b[0m\n\u001b[0;32m---> 21\u001b[0;31m             \u001b[0mgetLinks\u001b[0m\u001b[0;34m(\u001b[0m\u001b[0mnewPage\u001b[0m\u001b[0;34m)\u001b[0m\u001b[0;34m\u001b[0m\u001b[0m\n\u001b[0m",
      "\u001b[0;32m<ipython-input-46-df13bdcf1212>\u001b[0m in \u001b[0;36mgetLinks\u001b[0;34m(pageUrl)\u001b[0m\n\u001b[1;32m     19\u001b[0m             \u001b[0mprint\u001b[0m\u001b[0;34m(\u001b[0m\u001b[0mnewPage\u001b[0m\u001b[0;34m)\u001b[0m\u001b[0;34m\u001b[0m\u001b[0m\n\u001b[1;32m     20\u001b[0m             \u001b[0mpages\u001b[0m\u001b[0;34m.\u001b[0m\u001b[0madd\u001b[0m\u001b[0;34m(\u001b[0m\u001b[0mnewPage\u001b[0m\u001b[0;34m)\u001b[0m\u001b[0;34m\u001b[0m\u001b[0m\n\u001b[0;32m---> 21\u001b[0;31m             \u001b[0mgetLinks\u001b[0m\u001b[0;34m(\u001b[0m\u001b[0mnewPage\u001b[0m\u001b[0;34m)\u001b[0m\u001b[0;34m\u001b[0m\u001b[0m\n\u001b[0m",
      "\u001b[0;32m<ipython-input-46-df13bdcf1212>\u001b[0m in \u001b[0;36mgetLinks\u001b[0;34m(pageUrl)\u001b[0m\n\u001b[1;32m     19\u001b[0m             \u001b[0mprint\u001b[0m\u001b[0;34m(\u001b[0m\u001b[0mnewPage\u001b[0m\u001b[0;34m)\u001b[0m\u001b[0;34m\u001b[0m\u001b[0m\n\u001b[1;32m     20\u001b[0m             \u001b[0mpages\u001b[0m\u001b[0;34m.\u001b[0m\u001b[0madd\u001b[0m\u001b[0;34m(\u001b[0m\u001b[0mnewPage\u001b[0m\u001b[0;34m)\u001b[0m\u001b[0;34m\u001b[0m\u001b[0m\n\u001b[0;32m---> 21\u001b[0;31m             \u001b[0mgetLinks\u001b[0m\u001b[0;34m(\u001b[0m\u001b[0mnewPage\u001b[0m\u001b[0;34m)\u001b[0m\u001b[0;34m\u001b[0m\u001b[0m\n\u001b[0m",
      "\u001b[0;32m<ipython-input-46-df13bdcf1212>\u001b[0m in \u001b[0;36mgetLinks\u001b[0;34m(pageUrl)\u001b[0m\n\u001b[1;32m     19\u001b[0m             \u001b[0mprint\u001b[0m\u001b[0;34m(\u001b[0m\u001b[0mnewPage\u001b[0m\u001b[0;34m)\u001b[0m\u001b[0;34m\u001b[0m\u001b[0m\n\u001b[1;32m     20\u001b[0m             \u001b[0mpages\u001b[0m\u001b[0;34m.\u001b[0m\u001b[0madd\u001b[0m\u001b[0;34m(\u001b[0m\u001b[0mnewPage\u001b[0m\u001b[0;34m)\u001b[0m\u001b[0;34m\u001b[0m\u001b[0m\n\u001b[0;32m---> 21\u001b[0;31m             \u001b[0mgetLinks\u001b[0m\u001b[0;34m(\u001b[0m\u001b[0mnewPage\u001b[0m\u001b[0;34m)\u001b[0m\u001b[0;34m\u001b[0m\u001b[0m\n\u001b[0m",
      "\u001b[0;32m<ipython-input-46-df13bdcf1212>\u001b[0m in \u001b[0;36mgetLinks\u001b[0;34m(pageUrl)\u001b[0m\n\u001b[1;32m     19\u001b[0m             \u001b[0mprint\u001b[0m\u001b[0;34m(\u001b[0m\u001b[0mnewPage\u001b[0m\u001b[0;34m)\u001b[0m\u001b[0;34m\u001b[0m\u001b[0m\n\u001b[1;32m     20\u001b[0m             \u001b[0mpages\u001b[0m\u001b[0;34m.\u001b[0m\u001b[0madd\u001b[0m\u001b[0;34m(\u001b[0m\u001b[0mnewPage\u001b[0m\u001b[0;34m)\u001b[0m\u001b[0;34m\u001b[0m\u001b[0m\n\u001b[0;32m---> 21\u001b[0;31m             \u001b[0mgetLinks\u001b[0m\u001b[0;34m(\u001b[0m\u001b[0mnewPage\u001b[0m\u001b[0;34m)\u001b[0m\u001b[0;34m\u001b[0m\u001b[0m\n\u001b[0m",
      "\u001b[0;32m<ipython-input-46-df13bdcf1212>\u001b[0m in \u001b[0;36mgetLinks\u001b[0;34m(pageUrl)\u001b[0m\n\u001b[1;32m     19\u001b[0m             \u001b[0mprint\u001b[0m\u001b[0;34m(\u001b[0m\u001b[0mnewPage\u001b[0m\u001b[0;34m)\u001b[0m\u001b[0;34m\u001b[0m\u001b[0m\n\u001b[1;32m     20\u001b[0m             \u001b[0mpages\u001b[0m\u001b[0;34m.\u001b[0m\u001b[0madd\u001b[0m\u001b[0;34m(\u001b[0m\u001b[0mnewPage\u001b[0m\u001b[0;34m)\u001b[0m\u001b[0;34m\u001b[0m\u001b[0m\n\u001b[0;32m---> 21\u001b[0;31m             \u001b[0mgetLinks\u001b[0m\u001b[0;34m(\u001b[0m\u001b[0mnewPage\u001b[0m\u001b[0;34m)\u001b[0m\u001b[0;34m\u001b[0m\u001b[0m\n\u001b[0m",
      "\u001b[0;32m<ipython-input-46-df13bdcf1212>\u001b[0m in \u001b[0;36mgetLinks\u001b[0;34m(pageUrl)\u001b[0m\n\u001b[1;32m     19\u001b[0m             \u001b[0mprint\u001b[0m\u001b[0;34m(\u001b[0m\u001b[0mnewPage\u001b[0m\u001b[0;34m)\u001b[0m\u001b[0;34m\u001b[0m\u001b[0m\n\u001b[1;32m     20\u001b[0m             \u001b[0mpages\u001b[0m\u001b[0;34m.\u001b[0m\u001b[0madd\u001b[0m\u001b[0;34m(\u001b[0m\u001b[0mnewPage\u001b[0m\u001b[0;34m)\u001b[0m\u001b[0;34m\u001b[0m\u001b[0m\n\u001b[0;32m---> 21\u001b[0;31m             \u001b[0mgetLinks\u001b[0m\u001b[0;34m(\u001b[0m\u001b[0mnewPage\u001b[0m\u001b[0;34m)\u001b[0m\u001b[0;34m\u001b[0m\u001b[0m\n\u001b[0m",
      "\u001b[0;32m<ipython-input-46-df13bdcf1212>\u001b[0m in \u001b[0;36mgetLinks\u001b[0;34m(pageUrl)\u001b[0m\n\u001b[1;32m     19\u001b[0m             \u001b[0mprint\u001b[0m\u001b[0;34m(\u001b[0m\u001b[0mnewPage\u001b[0m\u001b[0;34m)\u001b[0m\u001b[0;34m\u001b[0m\u001b[0m\n\u001b[1;32m     20\u001b[0m             \u001b[0mpages\u001b[0m\u001b[0;34m.\u001b[0m\u001b[0madd\u001b[0m\u001b[0;34m(\u001b[0m\u001b[0mnewPage\u001b[0m\u001b[0;34m)\u001b[0m\u001b[0;34m\u001b[0m\u001b[0m\n\u001b[0;32m---> 21\u001b[0;31m             \u001b[0mgetLinks\u001b[0m\u001b[0;34m(\u001b[0m\u001b[0mnewPage\u001b[0m\u001b[0;34m)\u001b[0m\u001b[0;34m\u001b[0m\u001b[0m\n\u001b[0m",
      "\u001b[0;32m<ipython-input-46-df13bdcf1212>\u001b[0m in \u001b[0;36mgetLinks\u001b[0;34m(pageUrl)\u001b[0m\n\u001b[1;32m     19\u001b[0m             \u001b[0mprint\u001b[0m\u001b[0;34m(\u001b[0m\u001b[0mnewPage\u001b[0m\u001b[0;34m)\u001b[0m\u001b[0;34m\u001b[0m\u001b[0m\n\u001b[1;32m     20\u001b[0m             \u001b[0mpages\u001b[0m\u001b[0;34m.\u001b[0m\u001b[0madd\u001b[0m\u001b[0;34m(\u001b[0m\u001b[0mnewPage\u001b[0m\u001b[0;34m)\u001b[0m\u001b[0;34m\u001b[0m\u001b[0m\n\u001b[0;32m---> 21\u001b[0;31m             \u001b[0mgetLinks\u001b[0m\u001b[0;34m(\u001b[0m\u001b[0mnewPage\u001b[0m\u001b[0;34m)\u001b[0m\u001b[0;34m\u001b[0m\u001b[0m\n\u001b[0m",
      "\u001b[0;32m<ipython-input-46-df13bdcf1212>\u001b[0m in \u001b[0;36mgetLinks\u001b[0;34m(pageUrl)\u001b[0m\n\u001b[1;32m     19\u001b[0m             \u001b[0mprint\u001b[0m\u001b[0;34m(\u001b[0m\u001b[0mnewPage\u001b[0m\u001b[0;34m)\u001b[0m\u001b[0;34m\u001b[0m\u001b[0m\n\u001b[1;32m     20\u001b[0m             \u001b[0mpages\u001b[0m\u001b[0;34m.\u001b[0m\u001b[0madd\u001b[0m\u001b[0;34m(\u001b[0m\u001b[0mnewPage\u001b[0m\u001b[0;34m)\u001b[0m\u001b[0;34m\u001b[0m\u001b[0m\n\u001b[0;32m---> 21\u001b[0;31m             \u001b[0mgetLinks\u001b[0m\u001b[0;34m(\u001b[0m\u001b[0mnewPage\u001b[0m\u001b[0;34m)\u001b[0m\u001b[0;34m\u001b[0m\u001b[0m\n\u001b[0m",
      "\u001b[0;32m<ipython-input-46-df13bdcf1212>\u001b[0m in \u001b[0;36mgetLinks\u001b[0;34m(pageUrl)\u001b[0m\n\u001b[1;32m     19\u001b[0m             \u001b[0mprint\u001b[0m\u001b[0;34m(\u001b[0m\u001b[0mnewPage\u001b[0m\u001b[0;34m)\u001b[0m\u001b[0;34m\u001b[0m\u001b[0m\n\u001b[1;32m     20\u001b[0m             \u001b[0mpages\u001b[0m\u001b[0;34m.\u001b[0m\u001b[0madd\u001b[0m\u001b[0;34m(\u001b[0m\u001b[0mnewPage\u001b[0m\u001b[0;34m)\u001b[0m\u001b[0;34m\u001b[0m\u001b[0m\n\u001b[0;32m---> 21\u001b[0;31m             \u001b[0mgetLinks\u001b[0m\u001b[0;34m(\u001b[0m\u001b[0mnewPage\u001b[0m\u001b[0;34m)\u001b[0m\u001b[0;34m\u001b[0m\u001b[0m\n\u001b[0m",
      "\u001b[0;32m<ipython-input-46-df13bdcf1212>\u001b[0m in \u001b[0;36mgetLinks\u001b[0;34m(pageUrl)\u001b[0m\n\u001b[1;32m     19\u001b[0m             \u001b[0mprint\u001b[0m\u001b[0;34m(\u001b[0m\u001b[0mnewPage\u001b[0m\u001b[0;34m)\u001b[0m\u001b[0;34m\u001b[0m\u001b[0m\n\u001b[1;32m     20\u001b[0m             \u001b[0mpages\u001b[0m\u001b[0;34m.\u001b[0m\u001b[0madd\u001b[0m\u001b[0;34m(\u001b[0m\u001b[0mnewPage\u001b[0m\u001b[0;34m)\u001b[0m\u001b[0;34m\u001b[0m\u001b[0m\n\u001b[0;32m---> 21\u001b[0;31m             \u001b[0mgetLinks\u001b[0m\u001b[0;34m(\u001b[0m\u001b[0mnewPage\u001b[0m\u001b[0;34m)\u001b[0m\u001b[0;34m\u001b[0m\u001b[0m\n\u001b[0m",
      "\u001b[0;32m<ipython-input-46-df13bdcf1212>\u001b[0m in \u001b[0;36mgetLinks\u001b[0;34m(pageUrl)\u001b[0m\n\u001b[1;32m     19\u001b[0m             \u001b[0mprint\u001b[0m\u001b[0;34m(\u001b[0m\u001b[0mnewPage\u001b[0m\u001b[0;34m)\u001b[0m\u001b[0;34m\u001b[0m\u001b[0m\n\u001b[1;32m     20\u001b[0m             \u001b[0mpages\u001b[0m\u001b[0;34m.\u001b[0m\u001b[0madd\u001b[0m\u001b[0;34m(\u001b[0m\u001b[0mnewPage\u001b[0m\u001b[0;34m)\u001b[0m\u001b[0;34m\u001b[0m\u001b[0m\n\u001b[0;32m---> 21\u001b[0;31m             \u001b[0mgetLinks\u001b[0m\u001b[0;34m(\u001b[0m\u001b[0mnewPage\u001b[0m\u001b[0;34m)\u001b[0m\u001b[0;34m\u001b[0m\u001b[0m\n\u001b[0m",
      "\u001b[0;32m<ipython-input-46-df13bdcf1212>\u001b[0m in \u001b[0;36mgetLinks\u001b[0;34m(pageUrl)\u001b[0m\n\u001b[1;32m     19\u001b[0m             \u001b[0mprint\u001b[0m\u001b[0;34m(\u001b[0m\u001b[0mnewPage\u001b[0m\u001b[0;34m)\u001b[0m\u001b[0;34m\u001b[0m\u001b[0m\n\u001b[1;32m     20\u001b[0m             \u001b[0mpages\u001b[0m\u001b[0;34m.\u001b[0m\u001b[0madd\u001b[0m\u001b[0;34m(\u001b[0m\u001b[0mnewPage\u001b[0m\u001b[0;34m)\u001b[0m\u001b[0;34m\u001b[0m\u001b[0m\n\u001b[0;32m---> 21\u001b[0;31m             \u001b[0mgetLinks\u001b[0m\u001b[0;34m(\u001b[0m\u001b[0mnewPage\u001b[0m\u001b[0;34m)\u001b[0m\u001b[0;34m\u001b[0m\u001b[0m\n\u001b[0m",
      "\u001b[0;32m<ipython-input-46-df13bdcf1212>\u001b[0m in \u001b[0;36mgetLinks\u001b[0;34m(pageUrl)\u001b[0m\n\u001b[1;32m     19\u001b[0m             \u001b[0mprint\u001b[0m\u001b[0;34m(\u001b[0m\u001b[0mnewPage\u001b[0m\u001b[0;34m)\u001b[0m\u001b[0;34m\u001b[0m\u001b[0m\n\u001b[1;32m     20\u001b[0m             \u001b[0mpages\u001b[0m\u001b[0;34m.\u001b[0m\u001b[0madd\u001b[0m\u001b[0;34m(\u001b[0m\u001b[0mnewPage\u001b[0m\u001b[0;34m)\u001b[0m\u001b[0;34m\u001b[0m\u001b[0m\n\u001b[0;32m---> 21\u001b[0;31m             \u001b[0mgetLinks\u001b[0m\u001b[0;34m(\u001b[0m\u001b[0mnewPage\u001b[0m\u001b[0;34m)\u001b[0m\u001b[0;34m\u001b[0m\u001b[0m\n\u001b[0m",
      "\u001b[0;32m<ipython-input-46-df13bdcf1212>\u001b[0m in \u001b[0;36mgetLinks\u001b[0;34m(pageUrl)\u001b[0m\n\u001b[1;32m     19\u001b[0m             \u001b[0mprint\u001b[0m\u001b[0;34m(\u001b[0m\u001b[0mnewPage\u001b[0m\u001b[0;34m)\u001b[0m\u001b[0;34m\u001b[0m\u001b[0m\n\u001b[1;32m     20\u001b[0m             \u001b[0mpages\u001b[0m\u001b[0;34m.\u001b[0m\u001b[0madd\u001b[0m\u001b[0;34m(\u001b[0m\u001b[0mnewPage\u001b[0m\u001b[0;34m)\u001b[0m\u001b[0;34m\u001b[0m\u001b[0m\n\u001b[0;32m---> 21\u001b[0;31m             \u001b[0mgetLinks\u001b[0m\u001b[0;34m(\u001b[0m\u001b[0mnewPage\u001b[0m\u001b[0;34m)\u001b[0m\u001b[0;34m\u001b[0m\u001b[0m\n\u001b[0m",
      "\u001b[0;32m<ipython-input-46-df13bdcf1212>\u001b[0m in \u001b[0;36mgetLinks\u001b[0;34m(pageUrl)\u001b[0m\n\u001b[1;32m     19\u001b[0m             \u001b[0mprint\u001b[0m\u001b[0;34m(\u001b[0m\u001b[0mnewPage\u001b[0m\u001b[0;34m)\u001b[0m\u001b[0;34m\u001b[0m\u001b[0m\n\u001b[1;32m     20\u001b[0m             \u001b[0mpages\u001b[0m\u001b[0;34m.\u001b[0m\u001b[0madd\u001b[0m\u001b[0;34m(\u001b[0m\u001b[0mnewPage\u001b[0m\u001b[0;34m)\u001b[0m\u001b[0;34m\u001b[0m\u001b[0m\n\u001b[0;32m---> 21\u001b[0;31m             \u001b[0mgetLinks\u001b[0m\u001b[0;34m(\u001b[0m\u001b[0mnewPage\u001b[0m\u001b[0;34m)\u001b[0m\u001b[0;34m\u001b[0m\u001b[0m\n\u001b[0m",
      "\u001b[0;32m<ipython-input-46-df13bdcf1212>\u001b[0m in \u001b[0;36mgetLinks\u001b[0;34m(pageUrl)\u001b[0m\n\u001b[1;32m     19\u001b[0m             \u001b[0mprint\u001b[0m\u001b[0;34m(\u001b[0m\u001b[0mnewPage\u001b[0m\u001b[0;34m)\u001b[0m\u001b[0;34m\u001b[0m\u001b[0m\n\u001b[1;32m     20\u001b[0m             \u001b[0mpages\u001b[0m\u001b[0;34m.\u001b[0m\u001b[0madd\u001b[0m\u001b[0;34m(\u001b[0m\u001b[0mnewPage\u001b[0m\u001b[0;34m)\u001b[0m\u001b[0;34m\u001b[0m\u001b[0m\n\u001b[0;32m---> 21\u001b[0;31m             \u001b[0mgetLinks\u001b[0m\u001b[0;34m(\u001b[0m\u001b[0mnewPage\u001b[0m\u001b[0;34m)\u001b[0m\u001b[0;34m\u001b[0m\u001b[0m\n\u001b[0m",
      "\u001b[0;32m<ipython-input-46-df13bdcf1212>\u001b[0m in \u001b[0;36mgetLinks\u001b[0;34m(pageUrl)\u001b[0m\n\u001b[1;32m     19\u001b[0m             \u001b[0mprint\u001b[0m\u001b[0;34m(\u001b[0m\u001b[0mnewPage\u001b[0m\u001b[0;34m)\u001b[0m\u001b[0;34m\u001b[0m\u001b[0m\n\u001b[1;32m     20\u001b[0m             \u001b[0mpages\u001b[0m\u001b[0;34m.\u001b[0m\u001b[0madd\u001b[0m\u001b[0;34m(\u001b[0m\u001b[0mnewPage\u001b[0m\u001b[0;34m)\u001b[0m\u001b[0;34m\u001b[0m\u001b[0m\n\u001b[0;32m---> 21\u001b[0;31m             \u001b[0mgetLinks\u001b[0m\u001b[0;34m(\u001b[0m\u001b[0mnewPage\u001b[0m\u001b[0;34m)\u001b[0m\u001b[0;34m\u001b[0m\u001b[0m\n\u001b[0m",
      "\u001b[0;32m<ipython-input-46-df13bdcf1212>\u001b[0m in \u001b[0;36mgetLinks\u001b[0;34m(pageUrl)\u001b[0m\n\u001b[1;32m     19\u001b[0m             \u001b[0mprint\u001b[0m\u001b[0;34m(\u001b[0m\u001b[0mnewPage\u001b[0m\u001b[0;34m)\u001b[0m\u001b[0;34m\u001b[0m\u001b[0m\n\u001b[1;32m     20\u001b[0m             \u001b[0mpages\u001b[0m\u001b[0;34m.\u001b[0m\u001b[0madd\u001b[0m\u001b[0;34m(\u001b[0m\u001b[0mnewPage\u001b[0m\u001b[0;34m)\u001b[0m\u001b[0;34m\u001b[0m\u001b[0m\n\u001b[0;32m---> 21\u001b[0;31m             \u001b[0mgetLinks\u001b[0m\u001b[0;34m(\u001b[0m\u001b[0mnewPage\u001b[0m\u001b[0;34m)\u001b[0m\u001b[0;34m\u001b[0m\u001b[0m\n\u001b[0m",
      "\u001b[0;32m<ipython-input-46-df13bdcf1212>\u001b[0m in \u001b[0;36mgetLinks\u001b[0;34m(pageUrl)\u001b[0m\n\u001b[1;32m     19\u001b[0m             \u001b[0mprint\u001b[0m\u001b[0;34m(\u001b[0m\u001b[0mnewPage\u001b[0m\u001b[0;34m)\u001b[0m\u001b[0;34m\u001b[0m\u001b[0m\n\u001b[1;32m     20\u001b[0m             \u001b[0mpages\u001b[0m\u001b[0;34m.\u001b[0m\u001b[0madd\u001b[0m\u001b[0;34m(\u001b[0m\u001b[0mnewPage\u001b[0m\u001b[0;34m)\u001b[0m\u001b[0;34m\u001b[0m\u001b[0m\n\u001b[0;32m---> 21\u001b[0;31m             \u001b[0mgetLinks\u001b[0m\u001b[0;34m(\u001b[0m\u001b[0mnewPage\u001b[0m\u001b[0;34m)\u001b[0m\u001b[0;34m\u001b[0m\u001b[0m\n\u001b[0m",
      "\u001b[0;32m<ipython-input-46-df13bdcf1212>\u001b[0m in \u001b[0;36mgetLinks\u001b[0;34m(pageUrl)\u001b[0m\n\u001b[1;32m     19\u001b[0m             \u001b[0mprint\u001b[0m\u001b[0;34m(\u001b[0m\u001b[0mnewPage\u001b[0m\u001b[0;34m)\u001b[0m\u001b[0;34m\u001b[0m\u001b[0m\n\u001b[1;32m     20\u001b[0m             \u001b[0mpages\u001b[0m\u001b[0;34m.\u001b[0m\u001b[0madd\u001b[0m\u001b[0;34m(\u001b[0m\u001b[0mnewPage\u001b[0m\u001b[0;34m)\u001b[0m\u001b[0;34m\u001b[0m\u001b[0m\n\u001b[0;32m---> 21\u001b[0;31m             \u001b[0mgetLinks\u001b[0m\u001b[0;34m(\u001b[0m\u001b[0mnewPage\u001b[0m\u001b[0;34m)\u001b[0m\u001b[0;34m\u001b[0m\u001b[0m\n\u001b[0m",
      "\u001b[0;32m<ipython-input-46-df13bdcf1212>\u001b[0m in \u001b[0;36mgetLinks\u001b[0;34m(pageUrl)\u001b[0m\n\u001b[1;32m     19\u001b[0m             \u001b[0mprint\u001b[0m\u001b[0;34m(\u001b[0m\u001b[0mnewPage\u001b[0m\u001b[0;34m)\u001b[0m\u001b[0;34m\u001b[0m\u001b[0m\n\u001b[1;32m     20\u001b[0m             \u001b[0mpages\u001b[0m\u001b[0;34m.\u001b[0m\u001b[0madd\u001b[0m\u001b[0;34m(\u001b[0m\u001b[0mnewPage\u001b[0m\u001b[0;34m)\u001b[0m\u001b[0;34m\u001b[0m\u001b[0m\n\u001b[0;32m---> 21\u001b[0;31m             \u001b[0mgetLinks\u001b[0m\u001b[0;34m(\u001b[0m\u001b[0mnewPage\u001b[0m\u001b[0;34m)\u001b[0m\u001b[0;34m\u001b[0m\u001b[0m\n\u001b[0m",
      "\u001b[0;32m<ipython-input-46-df13bdcf1212>\u001b[0m in \u001b[0;36mgetLinks\u001b[0;34m(pageUrl)\u001b[0m\n\u001b[1;32m     19\u001b[0m             \u001b[0mprint\u001b[0m\u001b[0;34m(\u001b[0m\u001b[0mnewPage\u001b[0m\u001b[0;34m)\u001b[0m\u001b[0;34m\u001b[0m\u001b[0m\n\u001b[1;32m     20\u001b[0m             \u001b[0mpages\u001b[0m\u001b[0;34m.\u001b[0m\u001b[0madd\u001b[0m\u001b[0;34m(\u001b[0m\u001b[0mnewPage\u001b[0m\u001b[0;34m)\u001b[0m\u001b[0;34m\u001b[0m\u001b[0m\n\u001b[0;32m---> 21\u001b[0;31m             \u001b[0mgetLinks\u001b[0m\u001b[0;34m(\u001b[0m\u001b[0mnewPage\u001b[0m\u001b[0;34m)\u001b[0m\u001b[0;34m\u001b[0m\u001b[0m\n\u001b[0m",
      "\u001b[0;32m<ipython-input-46-df13bdcf1212>\u001b[0m in \u001b[0;36mgetLinks\u001b[0;34m(pageUrl)\u001b[0m\n\u001b[1;32m     19\u001b[0m             \u001b[0mprint\u001b[0m\u001b[0;34m(\u001b[0m\u001b[0mnewPage\u001b[0m\u001b[0;34m)\u001b[0m\u001b[0;34m\u001b[0m\u001b[0m\n\u001b[1;32m     20\u001b[0m             \u001b[0mpages\u001b[0m\u001b[0;34m.\u001b[0m\u001b[0madd\u001b[0m\u001b[0;34m(\u001b[0m\u001b[0mnewPage\u001b[0m\u001b[0;34m)\u001b[0m\u001b[0;34m\u001b[0m\u001b[0m\n\u001b[0;32m---> 21\u001b[0;31m             \u001b[0mgetLinks\u001b[0m\u001b[0;34m(\u001b[0m\u001b[0mnewPage\u001b[0m\u001b[0;34m)\u001b[0m\u001b[0;34m\u001b[0m\u001b[0m\n\u001b[0m",
      "\u001b[0;32m<ipython-input-46-df13bdcf1212>\u001b[0m in \u001b[0;36mgetLinks\u001b[0;34m(pageUrl)\u001b[0m\n\u001b[1;32m     19\u001b[0m             \u001b[0mprint\u001b[0m\u001b[0;34m(\u001b[0m\u001b[0mnewPage\u001b[0m\u001b[0;34m)\u001b[0m\u001b[0;34m\u001b[0m\u001b[0m\n\u001b[1;32m     20\u001b[0m             \u001b[0mpages\u001b[0m\u001b[0;34m.\u001b[0m\u001b[0madd\u001b[0m\u001b[0;34m(\u001b[0m\u001b[0mnewPage\u001b[0m\u001b[0;34m)\u001b[0m\u001b[0;34m\u001b[0m\u001b[0m\n\u001b[0;32m---> 21\u001b[0;31m             \u001b[0mgetLinks\u001b[0m\u001b[0;34m(\u001b[0m\u001b[0mnewPage\u001b[0m\u001b[0;34m)\u001b[0m\u001b[0;34m\u001b[0m\u001b[0m\n\u001b[0m",
      "\u001b[0;32m<ipython-input-46-df13bdcf1212>\u001b[0m in \u001b[0;36mgetLinks\u001b[0;34m(pageUrl)\u001b[0m\n\u001b[1;32m     19\u001b[0m             \u001b[0mprint\u001b[0m\u001b[0;34m(\u001b[0m\u001b[0mnewPage\u001b[0m\u001b[0;34m)\u001b[0m\u001b[0;34m\u001b[0m\u001b[0m\n\u001b[1;32m     20\u001b[0m             \u001b[0mpages\u001b[0m\u001b[0;34m.\u001b[0m\u001b[0madd\u001b[0m\u001b[0;34m(\u001b[0m\u001b[0mnewPage\u001b[0m\u001b[0;34m)\u001b[0m\u001b[0;34m\u001b[0m\u001b[0m\n\u001b[0;32m---> 21\u001b[0;31m             \u001b[0mgetLinks\u001b[0m\u001b[0;34m(\u001b[0m\u001b[0mnewPage\u001b[0m\u001b[0;34m)\u001b[0m\u001b[0;34m\u001b[0m\u001b[0m\n\u001b[0m",
      "\u001b[0;32m<ipython-input-46-df13bdcf1212>\u001b[0m in \u001b[0;36mgetLinks\u001b[0;34m(pageUrl)\u001b[0m\n\u001b[1;32m     19\u001b[0m             \u001b[0mprint\u001b[0m\u001b[0;34m(\u001b[0m\u001b[0mnewPage\u001b[0m\u001b[0;34m)\u001b[0m\u001b[0;34m\u001b[0m\u001b[0m\n\u001b[1;32m     20\u001b[0m             \u001b[0mpages\u001b[0m\u001b[0;34m.\u001b[0m\u001b[0madd\u001b[0m\u001b[0;34m(\u001b[0m\u001b[0mnewPage\u001b[0m\u001b[0;34m)\u001b[0m\u001b[0;34m\u001b[0m\u001b[0m\n\u001b[0;32m---> 21\u001b[0;31m             \u001b[0mgetLinks\u001b[0m\u001b[0;34m(\u001b[0m\u001b[0mnewPage\u001b[0m\u001b[0;34m)\u001b[0m\u001b[0;34m\u001b[0m\u001b[0m\n\u001b[0m",
      "\u001b[0;32m<ipython-input-46-df13bdcf1212>\u001b[0m in \u001b[0;36mgetLinks\u001b[0;34m(pageUrl)\u001b[0m\n\u001b[1;32m     19\u001b[0m             \u001b[0mprint\u001b[0m\u001b[0;34m(\u001b[0m\u001b[0mnewPage\u001b[0m\u001b[0;34m)\u001b[0m\u001b[0;34m\u001b[0m\u001b[0m\n\u001b[1;32m     20\u001b[0m             \u001b[0mpages\u001b[0m\u001b[0;34m.\u001b[0m\u001b[0madd\u001b[0m\u001b[0;34m(\u001b[0m\u001b[0mnewPage\u001b[0m\u001b[0;34m)\u001b[0m\u001b[0;34m\u001b[0m\u001b[0m\n\u001b[0;32m---> 21\u001b[0;31m             \u001b[0mgetLinks\u001b[0m\u001b[0;34m(\u001b[0m\u001b[0mnewPage\u001b[0m\u001b[0;34m)\u001b[0m\u001b[0;34m\u001b[0m\u001b[0m\n\u001b[0m",
      "\u001b[0;32m<ipython-input-46-df13bdcf1212>\u001b[0m in \u001b[0;36mgetLinks\u001b[0;34m(pageUrl)\u001b[0m\n\u001b[1;32m     19\u001b[0m             \u001b[0mprint\u001b[0m\u001b[0;34m(\u001b[0m\u001b[0mnewPage\u001b[0m\u001b[0;34m)\u001b[0m\u001b[0;34m\u001b[0m\u001b[0m\n\u001b[1;32m     20\u001b[0m             \u001b[0mpages\u001b[0m\u001b[0;34m.\u001b[0m\u001b[0madd\u001b[0m\u001b[0;34m(\u001b[0m\u001b[0mnewPage\u001b[0m\u001b[0;34m)\u001b[0m\u001b[0;34m\u001b[0m\u001b[0m\n\u001b[0;32m---> 21\u001b[0;31m             \u001b[0mgetLinks\u001b[0m\u001b[0;34m(\u001b[0m\u001b[0mnewPage\u001b[0m\u001b[0;34m)\u001b[0m\u001b[0;34m\u001b[0m\u001b[0m\n\u001b[0m",
      "\u001b[0;32m<ipython-input-46-df13bdcf1212>\u001b[0m in \u001b[0;36mgetLinks\u001b[0;34m(pageUrl)\u001b[0m\n\u001b[1;32m     19\u001b[0m             \u001b[0mprint\u001b[0m\u001b[0;34m(\u001b[0m\u001b[0mnewPage\u001b[0m\u001b[0;34m)\u001b[0m\u001b[0;34m\u001b[0m\u001b[0m\n\u001b[1;32m     20\u001b[0m             \u001b[0mpages\u001b[0m\u001b[0;34m.\u001b[0m\u001b[0madd\u001b[0m\u001b[0;34m(\u001b[0m\u001b[0mnewPage\u001b[0m\u001b[0;34m)\u001b[0m\u001b[0;34m\u001b[0m\u001b[0m\n\u001b[0;32m---> 21\u001b[0;31m             \u001b[0mgetLinks\u001b[0m\u001b[0;34m(\u001b[0m\u001b[0mnewPage\u001b[0m\u001b[0;34m)\u001b[0m\u001b[0;34m\u001b[0m\u001b[0m\n\u001b[0m",
      "\u001b[0;32m<ipython-input-46-df13bdcf1212>\u001b[0m in \u001b[0;36mgetLinks\u001b[0;34m(pageUrl)\u001b[0m\n\u001b[1;32m     19\u001b[0m             \u001b[0mprint\u001b[0m\u001b[0;34m(\u001b[0m\u001b[0mnewPage\u001b[0m\u001b[0;34m)\u001b[0m\u001b[0;34m\u001b[0m\u001b[0m\n\u001b[1;32m     20\u001b[0m             \u001b[0mpages\u001b[0m\u001b[0;34m.\u001b[0m\u001b[0madd\u001b[0m\u001b[0;34m(\u001b[0m\u001b[0mnewPage\u001b[0m\u001b[0;34m)\u001b[0m\u001b[0;34m\u001b[0m\u001b[0m\n\u001b[0;32m---> 21\u001b[0;31m             \u001b[0mgetLinks\u001b[0m\u001b[0;34m(\u001b[0m\u001b[0mnewPage\u001b[0m\u001b[0;34m)\u001b[0m\u001b[0;34m\u001b[0m\u001b[0m\n\u001b[0m",
      "\u001b[0;32m<ipython-input-46-df13bdcf1212>\u001b[0m in \u001b[0;36mgetLinks\u001b[0;34m(pageUrl)\u001b[0m\n\u001b[1;32m     19\u001b[0m             \u001b[0mprint\u001b[0m\u001b[0;34m(\u001b[0m\u001b[0mnewPage\u001b[0m\u001b[0;34m)\u001b[0m\u001b[0;34m\u001b[0m\u001b[0m\n\u001b[1;32m     20\u001b[0m             \u001b[0mpages\u001b[0m\u001b[0;34m.\u001b[0m\u001b[0madd\u001b[0m\u001b[0;34m(\u001b[0m\u001b[0mnewPage\u001b[0m\u001b[0;34m)\u001b[0m\u001b[0;34m\u001b[0m\u001b[0m\n\u001b[0;32m---> 21\u001b[0;31m             \u001b[0mgetLinks\u001b[0m\u001b[0;34m(\u001b[0m\u001b[0mnewPage\u001b[0m\u001b[0;34m)\u001b[0m\u001b[0;34m\u001b[0m\u001b[0m\n\u001b[0m",
      "\u001b[0;32m<ipython-input-46-df13bdcf1212>\u001b[0m in \u001b[0;36mgetLinks\u001b[0;34m(pageUrl)\u001b[0m\n\u001b[1;32m     19\u001b[0m             \u001b[0mprint\u001b[0m\u001b[0;34m(\u001b[0m\u001b[0mnewPage\u001b[0m\u001b[0;34m)\u001b[0m\u001b[0;34m\u001b[0m\u001b[0m\n\u001b[1;32m     20\u001b[0m             \u001b[0mpages\u001b[0m\u001b[0;34m.\u001b[0m\u001b[0madd\u001b[0m\u001b[0;34m(\u001b[0m\u001b[0mnewPage\u001b[0m\u001b[0;34m)\u001b[0m\u001b[0;34m\u001b[0m\u001b[0m\n\u001b[0;32m---> 21\u001b[0;31m             \u001b[0mgetLinks\u001b[0m\u001b[0;34m(\u001b[0m\u001b[0mnewPage\u001b[0m\u001b[0;34m)\u001b[0m\u001b[0;34m\u001b[0m\u001b[0m\n\u001b[0m",
      "\u001b[0;32m<ipython-input-46-df13bdcf1212>\u001b[0m in \u001b[0;36mgetLinks\u001b[0;34m(pageUrl)\u001b[0m\n\u001b[1;32m     19\u001b[0m             \u001b[0mprint\u001b[0m\u001b[0;34m(\u001b[0m\u001b[0mnewPage\u001b[0m\u001b[0;34m)\u001b[0m\u001b[0;34m\u001b[0m\u001b[0m\n\u001b[1;32m     20\u001b[0m             \u001b[0mpages\u001b[0m\u001b[0;34m.\u001b[0m\u001b[0madd\u001b[0m\u001b[0;34m(\u001b[0m\u001b[0mnewPage\u001b[0m\u001b[0;34m)\u001b[0m\u001b[0;34m\u001b[0m\u001b[0m\n\u001b[0;32m---> 21\u001b[0;31m             \u001b[0mgetLinks\u001b[0m\u001b[0;34m(\u001b[0m\u001b[0mnewPage\u001b[0m\u001b[0;34m)\u001b[0m\u001b[0;34m\u001b[0m\u001b[0m\n\u001b[0m",
      "\u001b[0;32m<ipython-input-46-df13bdcf1212>\u001b[0m in \u001b[0;36mgetLinks\u001b[0;34m(pageUrl)\u001b[0m\n\u001b[1;32m     19\u001b[0m             \u001b[0mprint\u001b[0m\u001b[0;34m(\u001b[0m\u001b[0mnewPage\u001b[0m\u001b[0;34m)\u001b[0m\u001b[0;34m\u001b[0m\u001b[0m\n\u001b[1;32m     20\u001b[0m             \u001b[0mpages\u001b[0m\u001b[0;34m.\u001b[0m\u001b[0madd\u001b[0m\u001b[0;34m(\u001b[0m\u001b[0mnewPage\u001b[0m\u001b[0;34m)\u001b[0m\u001b[0;34m\u001b[0m\u001b[0m\n\u001b[0;32m---> 21\u001b[0;31m             \u001b[0mgetLinks\u001b[0m\u001b[0;34m(\u001b[0m\u001b[0mnewPage\u001b[0m\u001b[0;34m)\u001b[0m\u001b[0;34m\u001b[0m\u001b[0m\n\u001b[0m",
      "\u001b[0;32m<ipython-input-46-df13bdcf1212>\u001b[0m in \u001b[0;36mgetLinks\u001b[0;34m(pageUrl)\u001b[0m\n\u001b[1;32m     19\u001b[0m             \u001b[0mprint\u001b[0m\u001b[0;34m(\u001b[0m\u001b[0mnewPage\u001b[0m\u001b[0;34m)\u001b[0m\u001b[0;34m\u001b[0m\u001b[0m\n\u001b[1;32m     20\u001b[0m             \u001b[0mpages\u001b[0m\u001b[0;34m.\u001b[0m\u001b[0madd\u001b[0m\u001b[0;34m(\u001b[0m\u001b[0mnewPage\u001b[0m\u001b[0;34m)\u001b[0m\u001b[0;34m\u001b[0m\u001b[0m\n\u001b[0;32m---> 21\u001b[0;31m             \u001b[0mgetLinks\u001b[0m\u001b[0;34m(\u001b[0m\u001b[0mnewPage\u001b[0m\u001b[0;34m)\u001b[0m\u001b[0;34m\u001b[0m\u001b[0m\n\u001b[0m",
      "\u001b[0;32m<ipython-input-46-df13bdcf1212>\u001b[0m in \u001b[0;36mgetLinks\u001b[0;34m(pageUrl)\u001b[0m\n\u001b[1;32m     19\u001b[0m             \u001b[0mprint\u001b[0m\u001b[0;34m(\u001b[0m\u001b[0mnewPage\u001b[0m\u001b[0;34m)\u001b[0m\u001b[0;34m\u001b[0m\u001b[0m\n\u001b[1;32m     20\u001b[0m             \u001b[0mpages\u001b[0m\u001b[0;34m.\u001b[0m\u001b[0madd\u001b[0m\u001b[0;34m(\u001b[0m\u001b[0mnewPage\u001b[0m\u001b[0;34m)\u001b[0m\u001b[0;34m\u001b[0m\u001b[0m\n\u001b[0;32m---> 21\u001b[0;31m             \u001b[0mgetLinks\u001b[0m\u001b[0;34m(\u001b[0m\u001b[0mnewPage\u001b[0m\u001b[0;34m)\u001b[0m\u001b[0;34m\u001b[0m\u001b[0m\n\u001b[0m",
      "\u001b[0;32m<ipython-input-46-df13bdcf1212>\u001b[0m in \u001b[0;36mgetLinks\u001b[0;34m(pageUrl)\u001b[0m\n\u001b[1;32m     19\u001b[0m             \u001b[0mprint\u001b[0m\u001b[0;34m(\u001b[0m\u001b[0mnewPage\u001b[0m\u001b[0;34m)\u001b[0m\u001b[0;34m\u001b[0m\u001b[0m\n\u001b[1;32m     20\u001b[0m             \u001b[0mpages\u001b[0m\u001b[0;34m.\u001b[0m\u001b[0madd\u001b[0m\u001b[0;34m(\u001b[0m\u001b[0mnewPage\u001b[0m\u001b[0;34m)\u001b[0m\u001b[0;34m\u001b[0m\u001b[0m\n\u001b[0;32m---> 21\u001b[0;31m             \u001b[0mgetLinks\u001b[0m\u001b[0;34m(\u001b[0m\u001b[0mnewPage\u001b[0m\u001b[0;34m)\u001b[0m\u001b[0;34m\u001b[0m\u001b[0m\n\u001b[0m",
      "\u001b[0;32m<ipython-input-46-df13bdcf1212>\u001b[0m in \u001b[0;36mgetLinks\u001b[0;34m(pageUrl)\u001b[0m\n\u001b[1;32m     19\u001b[0m             \u001b[0mprint\u001b[0m\u001b[0;34m(\u001b[0m\u001b[0mnewPage\u001b[0m\u001b[0;34m)\u001b[0m\u001b[0;34m\u001b[0m\u001b[0m\n\u001b[1;32m     20\u001b[0m             \u001b[0mpages\u001b[0m\u001b[0;34m.\u001b[0m\u001b[0madd\u001b[0m\u001b[0;34m(\u001b[0m\u001b[0mnewPage\u001b[0m\u001b[0;34m)\u001b[0m\u001b[0;34m\u001b[0m\u001b[0m\n\u001b[0;32m---> 21\u001b[0;31m             \u001b[0mgetLinks\u001b[0m\u001b[0;34m(\u001b[0m\u001b[0mnewPage\u001b[0m\u001b[0;34m)\u001b[0m\u001b[0;34m\u001b[0m\u001b[0m\n\u001b[0m",
      "\u001b[0;32m<ipython-input-46-df13bdcf1212>\u001b[0m in \u001b[0;36mgetLinks\u001b[0;34m(pageUrl)\u001b[0m\n\u001b[1;32m     19\u001b[0m             \u001b[0mprint\u001b[0m\u001b[0;34m(\u001b[0m\u001b[0mnewPage\u001b[0m\u001b[0;34m)\u001b[0m\u001b[0;34m\u001b[0m\u001b[0m\n\u001b[1;32m     20\u001b[0m             \u001b[0mpages\u001b[0m\u001b[0;34m.\u001b[0m\u001b[0madd\u001b[0m\u001b[0;34m(\u001b[0m\u001b[0mnewPage\u001b[0m\u001b[0;34m)\u001b[0m\u001b[0;34m\u001b[0m\u001b[0m\n\u001b[0;32m---> 21\u001b[0;31m             \u001b[0mgetLinks\u001b[0m\u001b[0;34m(\u001b[0m\u001b[0mnewPage\u001b[0m\u001b[0;34m)\u001b[0m\u001b[0;34m\u001b[0m\u001b[0m\n\u001b[0m",
      "\u001b[0;32m<ipython-input-46-df13bdcf1212>\u001b[0m in \u001b[0;36mgetLinks\u001b[0;34m(pageUrl)\u001b[0m\n\u001b[1;32m     19\u001b[0m             \u001b[0mprint\u001b[0m\u001b[0;34m(\u001b[0m\u001b[0mnewPage\u001b[0m\u001b[0;34m)\u001b[0m\u001b[0;34m\u001b[0m\u001b[0m\n\u001b[1;32m     20\u001b[0m             \u001b[0mpages\u001b[0m\u001b[0;34m.\u001b[0m\u001b[0madd\u001b[0m\u001b[0;34m(\u001b[0m\u001b[0mnewPage\u001b[0m\u001b[0;34m)\u001b[0m\u001b[0;34m\u001b[0m\u001b[0m\n\u001b[0;32m---> 21\u001b[0;31m             \u001b[0mgetLinks\u001b[0m\u001b[0;34m(\u001b[0m\u001b[0mnewPage\u001b[0m\u001b[0;34m)\u001b[0m\u001b[0;34m\u001b[0m\u001b[0m\n\u001b[0m",
      "\u001b[0;32m<ipython-input-46-df13bdcf1212>\u001b[0m in \u001b[0;36mgetLinks\u001b[0;34m(pageUrl)\u001b[0m\n\u001b[1;32m     19\u001b[0m             \u001b[0mprint\u001b[0m\u001b[0;34m(\u001b[0m\u001b[0mnewPage\u001b[0m\u001b[0;34m)\u001b[0m\u001b[0;34m\u001b[0m\u001b[0m\n\u001b[1;32m     20\u001b[0m             \u001b[0mpages\u001b[0m\u001b[0;34m.\u001b[0m\u001b[0madd\u001b[0m\u001b[0;34m(\u001b[0m\u001b[0mnewPage\u001b[0m\u001b[0;34m)\u001b[0m\u001b[0;34m\u001b[0m\u001b[0m\n\u001b[0;32m---> 21\u001b[0;31m             \u001b[0mgetLinks\u001b[0m\u001b[0;34m(\u001b[0m\u001b[0mnewPage\u001b[0m\u001b[0;34m)\u001b[0m\u001b[0;34m\u001b[0m\u001b[0m\n\u001b[0m",
      "\u001b[0;32m<ipython-input-46-df13bdcf1212>\u001b[0m in \u001b[0;36mgetLinks\u001b[0;34m(pageUrl)\u001b[0m\n\u001b[1;32m     19\u001b[0m             \u001b[0mprint\u001b[0m\u001b[0;34m(\u001b[0m\u001b[0mnewPage\u001b[0m\u001b[0;34m)\u001b[0m\u001b[0;34m\u001b[0m\u001b[0m\n\u001b[1;32m     20\u001b[0m             \u001b[0mpages\u001b[0m\u001b[0;34m.\u001b[0m\u001b[0madd\u001b[0m\u001b[0;34m(\u001b[0m\u001b[0mnewPage\u001b[0m\u001b[0;34m)\u001b[0m\u001b[0;34m\u001b[0m\u001b[0m\n\u001b[0;32m---> 21\u001b[0;31m             \u001b[0mgetLinks\u001b[0m\u001b[0;34m(\u001b[0m\u001b[0mnewPage\u001b[0m\u001b[0;34m)\u001b[0m\u001b[0;34m\u001b[0m\u001b[0m\n\u001b[0m",
      "\u001b[0;32m<ipython-input-46-df13bdcf1212>\u001b[0m in \u001b[0;36mgetLinks\u001b[0;34m(pageUrl)\u001b[0m\n\u001b[1;32m     19\u001b[0m             \u001b[0mprint\u001b[0m\u001b[0;34m(\u001b[0m\u001b[0mnewPage\u001b[0m\u001b[0;34m)\u001b[0m\u001b[0;34m\u001b[0m\u001b[0m\n\u001b[1;32m     20\u001b[0m             \u001b[0mpages\u001b[0m\u001b[0;34m.\u001b[0m\u001b[0madd\u001b[0m\u001b[0;34m(\u001b[0m\u001b[0mnewPage\u001b[0m\u001b[0;34m)\u001b[0m\u001b[0;34m\u001b[0m\u001b[0m\n\u001b[0;32m---> 21\u001b[0;31m             \u001b[0mgetLinks\u001b[0m\u001b[0;34m(\u001b[0m\u001b[0mnewPage\u001b[0m\u001b[0;34m)\u001b[0m\u001b[0;34m\u001b[0m\u001b[0m\n\u001b[0m",
      "\u001b[0;32m<ipython-input-46-df13bdcf1212>\u001b[0m in \u001b[0;36mgetLinks\u001b[0;34m(pageUrl)\u001b[0m\n\u001b[1;32m     19\u001b[0m             \u001b[0mprint\u001b[0m\u001b[0;34m(\u001b[0m\u001b[0mnewPage\u001b[0m\u001b[0;34m)\u001b[0m\u001b[0;34m\u001b[0m\u001b[0m\n\u001b[1;32m     20\u001b[0m             \u001b[0mpages\u001b[0m\u001b[0;34m.\u001b[0m\u001b[0madd\u001b[0m\u001b[0;34m(\u001b[0m\u001b[0mnewPage\u001b[0m\u001b[0;34m)\u001b[0m\u001b[0;34m\u001b[0m\u001b[0m\n\u001b[0;32m---> 21\u001b[0;31m             \u001b[0mgetLinks\u001b[0m\u001b[0;34m(\u001b[0m\u001b[0mnewPage\u001b[0m\u001b[0;34m)\u001b[0m\u001b[0;34m\u001b[0m\u001b[0m\n\u001b[0m",
      "\u001b[0;32m<ipython-input-46-df13bdcf1212>\u001b[0m in \u001b[0;36mgetLinks\u001b[0;34m(pageUrl)\u001b[0m\n\u001b[1;32m     19\u001b[0m             \u001b[0mprint\u001b[0m\u001b[0;34m(\u001b[0m\u001b[0mnewPage\u001b[0m\u001b[0;34m)\u001b[0m\u001b[0;34m\u001b[0m\u001b[0m\n\u001b[1;32m     20\u001b[0m             \u001b[0mpages\u001b[0m\u001b[0;34m.\u001b[0m\u001b[0madd\u001b[0m\u001b[0;34m(\u001b[0m\u001b[0mnewPage\u001b[0m\u001b[0;34m)\u001b[0m\u001b[0;34m\u001b[0m\u001b[0m\n\u001b[0;32m---> 21\u001b[0;31m             \u001b[0mgetLinks\u001b[0m\u001b[0;34m(\u001b[0m\u001b[0mnewPage\u001b[0m\u001b[0;34m)\u001b[0m\u001b[0;34m\u001b[0m\u001b[0m\n\u001b[0m",
      "\u001b[0;32m<ipython-input-46-df13bdcf1212>\u001b[0m in \u001b[0;36mgetLinks\u001b[0;34m(pageUrl)\u001b[0m\n\u001b[1;32m     19\u001b[0m             \u001b[0mprint\u001b[0m\u001b[0;34m(\u001b[0m\u001b[0mnewPage\u001b[0m\u001b[0;34m)\u001b[0m\u001b[0;34m\u001b[0m\u001b[0m\n\u001b[1;32m     20\u001b[0m             \u001b[0mpages\u001b[0m\u001b[0;34m.\u001b[0m\u001b[0madd\u001b[0m\u001b[0;34m(\u001b[0m\u001b[0mnewPage\u001b[0m\u001b[0;34m)\u001b[0m\u001b[0;34m\u001b[0m\u001b[0m\n\u001b[0;32m---> 21\u001b[0;31m             \u001b[0mgetLinks\u001b[0m\u001b[0;34m(\u001b[0m\u001b[0mnewPage\u001b[0m\u001b[0;34m)\u001b[0m\u001b[0;34m\u001b[0m\u001b[0m\n\u001b[0m",
      "\u001b[0;32m<ipython-input-46-df13bdcf1212>\u001b[0m in \u001b[0;36mgetLinks\u001b[0;34m(pageUrl)\u001b[0m\n\u001b[1;32m     19\u001b[0m             \u001b[0mprint\u001b[0m\u001b[0;34m(\u001b[0m\u001b[0mnewPage\u001b[0m\u001b[0;34m)\u001b[0m\u001b[0;34m\u001b[0m\u001b[0m\n\u001b[1;32m     20\u001b[0m             \u001b[0mpages\u001b[0m\u001b[0;34m.\u001b[0m\u001b[0madd\u001b[0m\u001b[0;34m(\u001b[0m\u001b[0mnewPage\u001b[0m\u001b[0;34m)\u001b[0m\u001b[0;34m\u001b[0m\u001b[0m\n\u001b[0;32m---> 21\u001b[0;31m             \u001b[0mgetLinks\u001b[0m\u001b[0;34m(\u001b[0m\u001b[0mnewPage\u001b[0m\u001b[0;34m)\u001b[0m\u001b[0;34m\u001b[0m\u001b[0m\n\u001b[0m",
      "\u001b[0;32m<ipython-input-46-df13bdcf1212>\u001b[0m in \u001b[0;36mgetLinks\u001b[0;34m(pageUrl)\u001b[0m\n\u001b[1;32m     19\u001b[0m             \u001b[0mprint\u001b[0m\u001b[0;34m(\u001b[0m\u001b[0mnewPage\u001b[0m\u001b[0;34m)\u001b[0m\u001b[0;34m\u001b[0m\u001b[0m\n\u001b[1;32m     20\u001b[0m             \u001b[0mpages\u001b[0m\u001b[0;34m.\u001b[0m\u001b[0madd\u001b[0m\u001b[0;34m(\u001b[0m\u001b[0mnewPage\u001b[0m\u001b[0;34m)\u001b[0m\u001b[0;34m\u001b[0m\u001b[0m\n\u001b[0;32m---> 21\u001b[0;31m             \u001b[0mgetLinks\u001b[0m\u001b[0;34m(\u001b[0m\u001b[0mnewPage\u001b[0m\u001b[0;34m)\u001b[0m\u001b[0;34m\u001b[0m\u001b[0m\n\u001b[0m",
      "\u001b[0;32m<ipython-input-46-df13bdcf1212>\u001b[0m in \u001b[0;36mgetLinks\u001b[0;34m(pageUrl)\u001b[0m\n\u001b[1;32m     19\u001b[0m             \u001b[0mprint\u001b[0m\u001b[0;34m(\u001b[0m\u001b[0mnewPage\u001b[0m\u001b[0;34m)\u001b[0m\u001b[0;34m\u001b[0m\u001b[0m\n\u001b[1;32m     20\u001b[0m             \u001b[0mpages\u001b[0m\u001b[0;34m.\u001b[0m\u001b[0madd\u001b[0m\u001b[0;34m(\u001b[0m\u001b[0mnewPage\u001b[0m\u001b[0;34m)\u001b[0m\u001b[0;34m\u001b[0m\u001b[0m\n\u001b[0;32m---> 21\u001b[0;31m             \u001b[0mgetLinks\u001b[0m\u001b[0;34m(\u001b[0m\u001b[0mnewPage\u001b[0m\u001b[0;34m)\u001b[0m\u001b[0;34m\u001b[0m\u001b[0m\n\u001b[0m",
      "\u001b[0;32m<ipython-input-46-df13bdcf1212>\u001b[0m in \u001b[0;36mgetLinks\u001b[0;34m(pageUrl)\u001b[0m\n\u001b[1;32m     19\u001b[0m             \u001b[0mprint\u001b[0m\u001b[0;34m(\u001b[0m\u001b[0mnewPage\u001b[0m\u001b[0;34m)\u001b[0m\u001b[0;34m\u001b[0m\u001b[0m\n\u001b[1;32m     20\u001b[0m             \u001b[0mpages\u001b[0m\u001b[0;34m.\u001b[0m\u001b[0madd\u001b[0m\u001b[0;34m(\u001b[0m\u001b[0mnewPage\u001b[0m\u001b[0;34m)\u001b[0m\u001b[0;34m\u001b[0m\u001b[0m\n\u001b[0;32m---> 21\u001b[0;31m             \u001b[0mgetLinks\u001b[0m\u001b[0;34m(\u001b[0m\u001b[0mnewPage\u001b[0m\u001b[0;34m)\u001b[0m\u001b[0;34m\u001b[0m\u001b[0m\n\u001b[0m",
      "\u001b[0;32m<ipython-input-46-df13bdcf1212>\u001b[0m in \u001b[0;36mgetLinks\u001b[0;34m(pageUrl)\u001b[0m\n\u001b[1;32m     19\u001b[0m             \u001b[0mprint\u001b[0m\u001b[0;34m(\u001b[0m\u001b[0mnewPage\u001b[0m\u001b[0;34m)\u001b[0m\u001b[0;34m\u001b[0m\u001b[0m\n\u001b[1;32m     20\u001b[0m             \u001b[0mpages\u001b[0m\u001b[0;34m.\u001b[0m\u001b[0madd\u001b[0m\u001b[0;34m(\u001b[0m\u001b[0mnewPage\u001b[0m\u001b[0;34m)\u001b[0m\u001b[0;34m\u001b[0m\u001b[0m\n\u001b[0;32m---> 21\u001b[0;31m             \u001b[0mgetLinks\u001b[0m\u001b[0;34m(\u001b[0m\u001b[0mnewPage\u001b[0m\u001b[0;34m)\u001b[0m\u001b[0;34m\u001b[0m\u001b[0m\n\u001b[0m",
      "\u001b[0;32m<ipython-input-46-df13bdcf1212>\u001b[0m in \u001b[0;36mgetLinks\u001b[0;34m(pageUrl)\u001b[0m\n\u001b[1;32m     19\u001b[0m             \u001b[0mprint\u001b[0m\u001b[0;34m(\u001b[0m\u001b[0mnewPage\u001b[0m\u001b[0;34m)\u001b[0m\u001b[0;34m\u001b[0m\u001b[0m\n\u001b[1;32m     20\u001b[0m             \u001b[0mpages\u001b[0m\u001b[0;34m.\u001b[0m\u001b[0madd\u001b[0m\u001b[0;34m(\u001b[0m\u001b[0mnewPage\u001b[0m\u001b[0;34m)\u001b[0m\u001b[0;34m\u001b[0m\u001b[0m\n\u001b[0;32m---> 21\u001b[0;31m             \u001b[0mgetLinks\u001b[0m\u001b[0;34m(\u001b[0m\u001b[0mnewPage\u001b[0m\u001b[0;34m)\u001b[0m\u001b[0;34m\u001b[0m\u001b[0m\n\u001b[0m",
      "\u001b[0;32m<ipython-input-46-df13bdcf1212>\u001b[0m in \u001b[0;36mgetLinks\u001b[0;34m(pageUrl)\u001b[0m\n\u001b[1;32m     19\u001b[0m             \u001b[0mprint\u001b[0m\u001b[0;34m(\u001b[0m\u001b[0mnewPage\u001b[0m\u001b[0;34m)\u001b[0m\u001b[0;34m\u001b[0m\u001b[0m\n\u001b[1;32m     20\u001b[0m             \u001b[0mpages\u001b[0m\u001b[0;34m.\u001b[0m\u001b[0madd\u001b[0m\u001b[0;34m(\u001b[0m\u001b[0mnewPage\u001b[0m\u001b[0;34m)\u001b[0m\u001b[0;34m\u001b[0m\u001b[0m\n\u001b[0;32m---> 21\u001b[0;31m             \u001b[0mgetLinks\u001b[0m\u001b[0;34m(\u001b[0m\u001b[0mnewPage\u001b[0m\u001b[0;34m)\u001b[0m\u001b[0;34m\u001b[0m\u001b[0m\n\u001b[0m",
      "\u001b[0;32m<ipython-input-46-df13bdcf1212>\u001b[0m in \u001b[0;36mgetLinks\u001b[0;34m(pageUrl)\u001b[0m\n\u001b[1;32m     19\u001b[0m             \u001b[0mprint\u001b[0m\u001b[0;34m(\u001b[0m\u001b[0mnewPage\u001b[0m\u001b[0;34m)\u001b[0m\u001b[0;34m\u001b[0m\u001b[0m\n\u001b[1;32m     20\u001b[0m             \u001b[0mpages\u001b[0m\u001b[0;34m.\u001b[0m\u001b[0madd\u001b[0m\u001b[0;34m(\u001b[0m\u001b[0mnewPage\u001b[0m\u001b[0;34m)\u001b[0m\u001b[0;34m\u001b[0m\u001b[0m\n\u001b[0;32m---> 21\u001b[0;31m             \u001b[0mgetLinks\u001b[0m\u001b[0;34m(\u001b[0m\u001b[0mnewPage\u001b[0m\u001b[0;34m)\u001b[0m\u001b[0;34m\u001b[0m\u001b[0m\n\u001b[0m",
      "\u001b[0;32m<ipython-input-46-df13bdcf1212>\u001b[0m in \u001b[0;36mgetLinks\u001b[0;34m(pageUrl)\u001b[0m\n\u001b[1;32m     19\u001b[0m             \u001b[0mprint\u001b[0m\u001b[0;34m(\u001b[0m\u001b[0mnewPage\u001b[0m\u001b[0;34m)\u001b[0m\u001b[0;34m\u001b[0m\u001b[0m\n\u001b[1;32m     20\u001b[0m             \u001b[0mpages\u001b[0m\u001b[0;34m.\u001b[0m\u001b[0madd\u001b[0m\u001b[0;34m(\u001b[0m\u001b[0mnewPage\u001b[0m\u001b[0;34m)\u001b[0m\u001b[0;34m\u001b[0m\u001b[0m\n\u001b[0;32m---> 21\u001b[0;31m             \u001b[0mgetLinks\u001b[0m\u001b[0;34m(\u001b[0m\u001b[0mnewPage\u001b[0m\u001b[0;34m)\u001b[0m\u001b[0;34m\u001b[0m\u001b[0m\n\u001b[0m",
      "\u001b[0;32m<ipython-input-46-df13bdcf1212>\u001b[0m in \u001b[0;36mgetLinks\u001b[0;34m(pageUrl)\u001b[0m\n\u001b[1;32m     19\u001b[0m             \u001b[0mprint\u001b[0m\u001b[0;34m(\u001b[0m\u001b[0mnewPage\u001b[0m\u001b[0;34m)\u001b[0m\u001b[0;34m\u001b[0m\u001b[0m\n\u001b[1;32m     20\u001b[0m             \u001b[0mpages\u001b[0m\u001b[0;34m.\u001b[0m\u001b[0madd\u001b[0m\u001b[0;34m(\u001b[0m\u001b[0mnewPage\u001b[0m\u001b[0;34m)\u001b[0m\u001b[0;34m\u001b[0m\u001b[0m\n\u001b[0;32m---> 21\u001b[0;31m             \u001b[0mgetLinks\u001b[0m\u001b[0;34m(\u001b[0m\u001b[0mnewPage\u001b[0m\u001b[0;34m)\u001b[0m\u001b[0;34m\u001b[0m\u001b[0m\n\u001b[0m",
      "\u001b[0;32m<ipython-input-46-df13bdcf1212>\u001b[0m in \u001b[0;36mgetLinks\u001b[0;34m(pageUrl)\u001b[0m\n\u001b[1;32m     19\u001b[0m             \u001b[0mprint\u001b[0m\u001b[0;34m(\u001b[0m\u001b[0mnewPage\u001b[0m\u001b[0;34m)\u001b[0m\u001b[0;34m\u001b[0m\u001b[0m\n\u001b[1;32m     20\u001b[0m             \u001b[0mpages\u001b[0m\u001b[0;34m.\u001b[0m\u001b[0madd\u001b[0m\u001b[0;34m(\u001b[0m\u001b[0mnewPage\u001b[0m\u001b[0;34m)\u001b[0m\u001b[0;34m\u001b[0m\u001b[0m\n\u001b[0;32m---> 21\u001b[0;31m             \u001b[0mgetLinks\u001b[0m\u001b[0;34m(\u001b[0m\u001b[0mnewPage\u001b[0m\u001b[0;34m)\u001b[0m\u001b[0;34m\u001b[0m\u001b[0m\n\u001b[0m",
      "\u001b[0;32m<ipython-input-46-df13bdcf1212>\u001b[0m in \u001b[0;36mgetLinks\u001b[0;34m(pageUrl)\u001b[0m\n\u001b[1;32m     19\u001b[0m             \u001b[0mprint\u001b[0m\u001b[0;34m(\u001b[0m\u001b[0mnewPage\u001b[0m\u001b[0;34m)\u001b[0m\u001b[0;34m\u001b[0m\u001b[0m\n\u001b[1;32m     20\u001b[0m             \u001b[0mpages\u001b[0m\u001b[0;34m.\u001b[0m\u001b[0madd\u001b[0m\u001b[0;34m(\u001b[0m\u001b[0mnewPage\u001b[0m\u001b[0;34m)\u001b[0m\u001b[0;34m\u001b[0m\u001b[0m\n\u001b[0;32m---> 21\u001b[0;31m             \u001b[0mgetLinks\u001b[0m\u001b[0;34m(\u001b[0m\u001b[0mnewPage\u001b[0m\u001b[0;34m)\u001b[0m\u001b[0;34m\u001b[0m\u001b[0m\n\u001b[0m",
      "\u001b[0;32m<ipython-input-46-df13bdcf1212>\u001b[0m in \u001b[0;36mgetLinks\u001b[0;34m(pageUrl)\u001b[0m\n\u001b[1;32m     19\u001b[0m             \u001b[0mprint\u001b[0m\u001b[0;34m(\u001b[0m\u001b[0mnewPage\u001b[0m\u001b[0;34m)\u001b[0m\u001b[0;34m\u001b[0m\u001b[0m\n\u001b[1;32m     20\u001b[0m             \u001b[0mpages\u001b[0m\u001b[0;34m.\u001b[0m\u001b[0madd\u001b[0m\u001b[0;34m(\u001b[0m\u001b[0mnewPage\u001b[0m\u001b[0;34m)\u001b[0m\u001b[0;34m\u001b[0m\u001b[0m\n\u001b[0;32m---> 21\u001b[0;31m             \u001b[0mgetLinks\u001b[0m\u001b[0;34m(\u001b[0m\u001b[0mnewPage\u001b[0m\u001b[0;34m)\u001b[0m\u001b[0;34m\u001b[0m\u001b[0m\n\u001b[0m",
      "\u001b[0;32m<ipython-input-46-df13bdcf1212>\u001b[0m in \u001b[0;36mgetLinks\u001b[0;34m(pageUrl)\u001b[0m\n\u001b[1;32m     19\u001b[0m             \u001b[0mprint\u001b[0m\u001b[0;34m(\u001b[0m\u001b[0mnewPage\u001b[0m\u001b[0;34m)\u001b[0m\u001b[0;34m\u001b[0m\u001b[0m\n\u001b[1;32m     20\u001b[0m             \u001b[0mpages\u001b[0m\u001b[0;34m.\u001b[0m\u001b[0madd\u001b[0m\u001b[0;34m(\u001b[0m\u001b[0mnewPage\u001b[0m\u001b[0;34m)\u001b[0m\u001b[0;34m\u001b[0m\u001b[0m\n\u001b[0;32m---> 21\u001b[0;31m             \u001b[0mgetLinks\u001b[0m\u001b[0;34m(\u001b[0m\u001b[0mnewPage\u001b[0m\u001b[0;34m)\u001b[0m\u001b[0;34m\u001b[0m\u001b[0m\n\u001b[0m",
      "\u001b[0;32m<ipython-input-46-df13bdcf1212>\u001b[0m in \u001b[0;36mgetLinks\u001b[0;34m(pageUrl)\u001b[0m\n\u001b[1;32m      6\u001b[0m \u001b[0;32mdef\u001b[0m \u001b[0mgetLinks\u001b[0m\u001b[0;34m(\u001b[0m\u001b[0mpageUrl\u001b[0m\u001b[0;34m)\u001b[0m\u001b[0;34m:\u001b[0m\u001b[0;34m\u001b[0m\u001b[0m\n\u001b[1;32m      7\u001b[0m     \u001b[0;32mglobal\u001b[0m \u001b[0mpages\u001b[0m\u001b[0;34m\u001b[0m\u001b[0m\n\u001b[0;32m----> 8\u001b[0;31m     \u001b[0mhtml\u001b[0m \u001b[0;34m=\u001b[0m \u001b[0murlopen\u001b[0m\u001b[0;34m(\u001b[0m\u001b[0;34m\"http://en.wikipedia.org\"\u001b[0m\u001b[0;34m+\u001b[0m\u001b[0mpageUrl\u001b[0m\u001b[0;34m)\u001b[0m\u001b[0;34m\u001b[0m\u001b[0m\n\u001b[0m\u001b[1;32m      9\u001b[0m     \u001b[0mbsobj\u001b[0m \u001b[0;34m=\u001b[0m \u001b[0mBeautifulSoup\u001b[0m\u001b[0;34m(\u001b[0m\u001b[0mhtml\u001b[0m\u001b[0;34m)\u001b[0m\u001b[0;34m\u001b[0m\u001b[0m\n\u001b[1;32m     10\u001b[0m     \u001b[0;32mtry\u001b[0m\u001b[0;34m:\u001b[0m\u001b[0;34m\u001b[0m\u001b[0m\n",
      "\u001b[0;32m/home/tomoaki/anaconda3/lib/python3.6/urllib/request.py\u001b[0m in \u001b[0;36murlopen\u001b[0;34m(url, data, timeout, cafile, capath, cadefault, context)\u001b[0m\n\u001b[1;32m    221\u001b[0m     \u001b[0;32melse\u001b[0m\u001b[0;34m:\u001b[0m\u001b[0;34m\u001b[0m\u001b[0m\n\u001b[1;32m    222\u001b[0m         \u001b[0mopener\u001b[0m \u001b[0;34m=\u001b[0m \u001b[0m_opener\u001b[0m\u001b[0;34m\u001b[0m\u001b[0m\n\u001b[0;32m--> 223\u001b[0;31m     \u001b[0;32mreturn\u001b[0m \u001b[0mopener\u001b[0m\u001b[0;34m.\u001b[0m\u001b[0mopen\u001b[0m\u001b[0;34m(\u001b[0m\u001b[0murl\u001b[0m\u001b[0;34m,\u001b[0m \u001b[0mdata\u001b[0m\u001b[0;34m,\u001b[0m \u001b[0mtimeout\u001b[0m\u001b[0;34m)\u001b[0m\u001b[0;34m\u001b[0m\u001b[0m\n\u001b[0m\u001b[1;32m    224\u001b[0m \u001b[0;34m\u001b[0m\u001b[0m\n\u001b[1;32m    225\u001b[0m \u001b[0;32mdef\u001b[0m \u001b[0minstall_opener\u001b[0m\u001b[0;34m(\u001b[0m\u001b[0mopener\u001b[0m\u001b[0;34m)\u001b[0m\u001b[0;34m:\u001b[0m\u001b[0;34m\u001b[0m\u001b[0m\n",
      "\u001b[0;32m/home/tomoaki/anaconda3/lib/python3.6/urllib/request.py\u001b[0m in \u001b[0;36mopen\u001b[0;34m(self, fullurl, data, timeout)\u001b[0m\n\u001b[1;32m    530\u001b[0m         \u001b[0;32mfor\u001b[0m \u001b[0mprocessor\u001b[0m \u001b[0;32min\u001b[0m \u001b[0mself\u001b[0m\u001b[0;34m.\u001b[0m\u001b[0mprocess_response\u001b[0m\u001b[0;34m.\u001b[0m\u001b[0mget\u001b[0m\u001b[0;34m(\u001b[0m\u001b[0mprotocol\u001b[0m\u001b[0;34m,\u001b[0m \u001b[0;34m[\u001b[0m\u001b[0;34m]\u001b[0m\u001b[0;34m)\u001b[0m\u001b[0;34m:\u001b[0m\u001b[0;34m\u001b[0m\u001b[0m\n\u001b[1;32m    531\u001b[0m             \u001b[0mmeth\u001b[0m \u001b[0;34m=\u001b[0m \u001b[0mgetattr\u001b[0m\u001b[0;34m(\u001b[0m\u001b[0mprocessor\u001b[0m\u001b[0;34m,\u001b[0m \u001b[0mmeth_name\u001b[0m\u001b[0;34m)\u001b[0m\u001b[0;34m\u001b[0m\u001b[0m\n\u001b[0;32m--> 532\u001b[0;31m             \u001b[0mresponse\u001b[0m \u001b[0;34m=\u001b[0m \u001b[0mmeth\u001b[0m\u001b[0;34m(\u001b[0m\u001b[0mreq\u001b[0m\u001b[0;34m,\u001b[0m \u001b[0mresponse\u001b[0m\u001b[0;34m)\u001b[0m\u001b[0;34m\u001b[0m\u001b[0m\n\u001b[0m\u001b[1;32m    533\u001b[0m \u001b[0;34m\u001b[0m\u001b[0m\n\u001b[1;32m    534\u001b[0m         \u001b[0;32mreturn\u001b[0m \u001b[0mresponse\u001b[0m\u001b[0;34m\u001b[0m\u001b[0m\n",
      "\u001b[0;32m/home/tomoaki/anaconda3/lib/python3.6/urllib/request.py\u001b[0m in \u001b[0;36mhttp_response\u001b[0;34m(self, request, response)\u001b[0m\n\u001b[1;32m    640\u001b[0m         \u001b[0;32mif\u001b[0m \u001b[0;32mnot\u001b[0m \u001b[0;34m(\u001b[0m\u001b[0;36m200\u001b[0m \u001b[0;34m<=\u001b[0m \u001b[0mcode\u001b[0m \u001b[0;34m<\u001b[0m \u001b[0;36m300\u001b[0m\u001b[0;34m)\u001b[0m\u001b[0;34m:\u001b[0m\u001b[0;34m\u001b[0m\u001b[0m\n\u001b[1;32m    641\u001b[0m             response = self.parent.error(\n\u001b[0;32m--> 642\u001b[0;31m                 'http', request, response, code, msg, hdrs)\n\u001b[0m\u001b[1;32m    643\u001b[0m \u001b[0;34m\u001b[0m\u001b[0m\n\u001b[1;32m    644\u001b[0m         \u001b[0;32mreturn\u001b[0m \u001b[0mresponse\u001b[0m\u001b[0;34m\u001b[0m\u001b[0m\n",
      "\u001b[0;32m/home/tomoaki/anaconda3/lib/python3.6/urllib/request.py\u001b[0m in \u001b[0;36merror\u001b[0;34m(self, proto, *args)\u001b[0m\n\u001b[1;32m    562\u001b[0m             \u001b[0mhttp_err\u001b[0m \u001b[0;34m=\u001b[0m \u001b[0;36m0\u001b[0m\u001b[0;34m\u001b[0m\u001b[0m\n\u001b[1;32m    563\u001b[0m         \u001b[0margs\u001b[0m \u001b[0;34m=\u001b[0m \u001b[0;34m(\u001b[0m\u001b[0mdict\u001b[0m\u001b[0;34m,\u001b[0m \u001b[0mproto\u001b[0m\u001b[0;34m,\u001b[0m \u001b[0mmeth_name\u001b[0m\u001b[0;34m)\u001b[0m \u001b[0;34m+\u001b[0m \u001b[0margs\u001b[0m\u001b[0;34m\u001b[0m\u001b[0m\n\u001b[0;32m--> 564\u001b[0;31m         \u001b[0mresult\u001b[0m \u001b[0;34m=\u001b[0m \u001b[0mself\u001b[0m\u001b[0;34m.\u001b[0m\u001b[0m_call_chain\u001b[0m\u001b[0;34m(\u001b[0m\u001b[0;34m*\u001b[0m\u001b[0margs\u001b[0m\u001b[0;34m)\u001b[0m\u001b[0;34m\u001b[0m\u001b[0m\n\u001b[0m\u001b[1;32m    565\u001b[0m         \u001b[0;32mif\u001b[0m \u001b[0mresult\u001b[0m\u001b[0;34m:\u001b[0m\u001b[0;34m\u001b[0m\u001b[0m\n\u001b[1;32m    566\u001b[0m             \u001b[0;32mreturn\u001b[0m \u001b[0mresult\u001b[0m\u001b[0;34m\u001b[0m\u001b[0m\n",
      "\u001b[0;32m/home/tomoaki/anaconda3/lib/python3.6/urllib/request.py\u001b[0m in \u001b[0;36m_call_chain\u001b[0;34m(self, chain, kind, meth_name, *args)\u001b[0m\n\u001b[1;32m    502\u001b[0m         \u001b[0;32mfor\u001b[0m \u001b[0mhandler\u001b[0m \u001b[0;32min\u001b[0m \u001b[0mhandlers\u001b[0m\u001b[0;34m:\u001b[0m\u001b[0;34m\u001b[0m\u001b[0m\n\u001b[1;32m    503\u001b[0m             \u001b[0mfunc\u001b[0m \u001b[0;34m=\u001b[0m \u001b[0mgetattr\u001b[0m\u001b[0;34m(\u001b[0m\u001b[0mhandler\u001b[0m\u001b[0;34m,\u001b[0m \u001b[0mmeth_name\u001b[0m\u001b[0;34m)\u001b[0m\u001b[0;34m\u001b[0m\u001b[0m\n\u001b[0;32m--> 504\u001b[0;31m             \u001b[0mresult\u001b[0m \u001b[0;34m=\u001b[0m \u001b[0mfunc\u001b[0m\u001b[0;34m(\u001b[0m\u001b[0;34m*\u001b[0m\u001b[0margs\u001b[0m\u001b[0;34m)\u001b[0m\u001b[0;34m\u001b[0m\u001b[0m\n\u001b[0m\u001b[1;32m    505\u001b[0m             \u001b[0;32mif\u001b[0m \u001b[0mresult\u001b[0m \u001b[0;32mis\u001b[0m \u001b[0;32mnot\u001b[0m \u001b[0;32mNone\u001b[0m\u001b[0;34m:\u001b[0m\u001b[0;34m\u001b[0m\u001b[0m\n\u001b[1;32m    506\u001b[0m                 \u001b[0;32mreturn\u001b[0m \u001b[0mresult\u001b[0m\u001b[0;34m\u001b[0m\u001b[0m\n",
      "\u001b[0;32m/home/tomoaki/anaconda3/lib/python3.6/urllib/request.py\u001b[0m in \u001b[0;36mhttp_error_302\u001b[0;34m(self, req, fp, code, msg, headers)\u001b[0m\n\u001b[1;32m    754\u001b[0m         \u001b[0mfp\u001b[0m\u001b[0;34m.\u001b[0m\u001b[0mclose\u001b[0m\u001b[0;34m(\u001b[0m\u001b[0;34m)\u001b[0m\u001b[0;34m\u001b[0m\u001b[0m\n\u001b[1;32m    755\u001b[0m \u001b[0;34m\u001b[0m\u001b[0m\n\u001b[0;32m--> 756\u001b[0;31m         \u001b[0;32mreturn\u001b[0m \u001b[0mself\u001b[0m\u001b[0;34m.\u001b[0m\u001b[0mparent\u001b[0m\u001b[0;34m.\u001b[0m\u001b[0mopen\u001b[0m\u001b[0;34m(\u001b[0m\u001b[0mnew\u001b[0m\u001b[0;34m,\u001b[0m \u001b[0mtimeout\u001b[0m\u001b[0;34m=\u001b[0m\u001b[0mreq\u001b[0m\u001b[0;34m.\u001b[0m\u001b[0mtimeout\u001b[0m\u001b[0;34m)\u001b[0m\u001b[0;34m\u001b[0m\u001b[0m\n\u001b[0m\u001b[1;32m    757\u001b[0m \u001b[0;34m\u001b[0m\u001b[0m\n\u001b[1;32m    758\u001b[0m     \u001b[0mhttp_error_301\u001b[0m \u001b[0;34m=\u001b[0m \u001b[0mhttp_error_303\u001b[0m \u001b[0;34m=\u001b[0m \u001b[0mhttp_error_307\u001b[0m \u001b[0;34m=\u001b[0m \u001b[0mhttp_error_302\u001b[0m\u001b[0;34m\u001b[0m\u001b[0m\n",
      "\u001b[0;32m/home/tomoaki/anaconda3/lib/python3.6/urllib/request.py\u001b[0m in \u001b[0;36mopen\u001b[0;34m(self, fullurl, data, timeout)\u001b[0m\n\u001b[1;32m    530\u001b[0m         \u001b[0;32mfor\u001b[0m \u001b[0mprocessor\u001b[0m \u001b[0;32min\u001b[0m \u001b[0mself\u001b[0m\u001b[0;34m.\u001b[0m\u001b[0mprocess_response\u001b[0m\u001b[0;34m.\u001b[0m\u001b[0mget\u001b[0m\u001b[0;34m(\u001b[0m\u001b[0mprotocol\u001b[0m\u001b[0;34m,\u001b[0m \u001b[0;34m[\u001b[0m\u001b[0;34m]\u001b[0m\u001b[0;34m)\u001b[0m\u001b[0;34m:\u001b[0m\u001b[0;34m\u001b[0m\u001b[0m\n\u001b[1;32m    531\u001b[0m             \u001b[0mmeth\u001b[0m \u001b[0;34m=\u001b[0m \u001b[0mgetattr\u001b[0m\u001b[0;34m(\u001b[0m\u001b[0mprocessor\u001b[0m\u001b[0;34m,\u001b[0m \u001b[0mmeth_name\u001b[0m\u001b[0;34m)\u001b[0m\u001b[0;34m\u001b[0m\u001b[0m\n\u001b[0;32m--> 532\u001b[0;31m             \u001b[0mresponse\u001b[0m \u001b[0;34m=\u001b[0m \u001b[0mmeth\u001b[0m\u001b[0;34m(\u001b[0m\u001b[0mreq\u001b[0m\u001b[0;34m,\u001b[0m \u001b[0mresponse\u001b[0m\u001b[0;34m)\u001b[0m\u001b[0;34m\u001b[0m\u001b[0m\n\u001b[0m\u001b[1;32m    533\u001b[0m \u001b[0;34m\u001b[0m\u001b[0m\n\u001b[1;32m    534\u001b[0m         \u001b[0;32mreturn\u001b[0m \u001b[0mresponse\u001b[0m\u001b[0;34m\u001b[0m\u001b[0m\n",
      "\u001b[0;32m/home/tomoaki/anaconda3/lib/python3.6/urllib/request.py\u001b[0m in \u001b[0;36mhttp_response\u001b[0;34m(self, request, response)\u001b[0m\n\u001b[1;32m    640\u001b[0m         \u001b[0;32mif\u001b[0m \u001b[0;32mnot\u001b[0m \u001b[0;34m(\u001b[0m\u001b[0;36m200\u001b[0m \u001b[0;34m<=\u001b[0m \u001b[0mcode\u001b[0m \u001b[0;34m<\u001b[0m \u001b[0;36m300\u001b[0m\u001b[0;34m)\u001b[0m\u001b[0;34m:\u001b[0m\u001b[0;34m\u001b[0m\u001b[0m\n\u001b[1;32m    641\u001b[0m             response = self.parent.error(\n\u001b[0;32m--> 642\u001b[0;31m                 'http', request, response, code, msg, hdrs)\n\u001b[0m\u001b[1;32m    643\u001b[0m \u001b[0;34m\u001b[0m\u001b[0m\n\u001b[1;32m    644\u001b[0m         \u001b[0;32mreturn\u001b[0m \u001b[0mresponse\u001b[0m\u001b[0;34m\u001b[0m\u001b[0m\n",
      "\u001b[0;32m/home/tomoaki/anaconda3/lib/python3.6/urllib/request.py\u001b[0m in \u001b[0;36merror\u001b[0;34m(self, proto, *args)\u001b[0m\n\u001b[1;32m    568\u001b[0m         \u001b[0;32mif\u001b[0m \u001b[0mhttp_err\u001b[0m\u001b[0;34m:\u001b[0m\u001b[0;34m\u001b[0m\u001b[0m\n\u001b[1;32m    569\u001b[0m             \u001b[0margs\u001b[0m \u001b[0;34m=\u001b[0m \u001b[0;34m(\u001b[0m\u001b[0mdict\u001b[0m\u001b[0;34m,\u001b[0m \u001b[0;34m'default'\u001b[0m\u001b[0;34m,\u001b[0m \u001b[0;34m'http_error_default'\u001b[0m\u001b[0;34m)\u001b[0m \u001b[0;34m+\u001b[0m \u001b[0morig_args\u001b[0m\u001b[0;34m\u001b[0m\u001b[0m\n\u001b[0;32m--> 570\u001b[0;31m             \u001b[0;32mreturn\u001b[0m \u001b[0mself\u001b[0m\u001b[0;34m.\u001b[0m\u001b[0m_call_chain\u001b[0m\u001b[0;34m(\u001b[0m\u001b[0;34m*\u001b[0m\u001b[0margs\u001b[0m\u001b[0;34m)\u001b[0m\u001b[0;34m\u001b[0m\u001b[0m\n\u001b[0m\u001b[1;32m    571\u001b[0m \u001b[0;34m\u001b[0m\u001b[0m\n\u001b[1;32m    572\u001b[0m \u001b[0;31m# XXX probably also want an abstract factory that knows when it makes\u001b[0m\u001b[0;34m\u001b[0m\u001b[0;34m\u001b[0m\u001b[0m\n",
      "\u001b[0;32m/home/tomoaki/anaconda3/lib/python3.6/urllib/request.py\u001b[0m in \u001b[0;36m_call_chain\u001b[0;34m(self, chain, kind, meth_name, *args)\u001b[0m\n\u001b[1;32m    502\u001b[0m         \u001b[0;32mfor\u001b[0m \u001b[0mhandler\u001b[0m \u001b[0;32min\u001b[0m \u001b[0mhandlers\u001b[0m\u001b[0;34m:\u001b[0m\u001b[0;34m\u001b[0m\u001b[0m\n\u001b[1;32m    503\u001b[0m             \u001b[0mfunc\u001b[0m \u001b[0;34m=\u001b[0m \u001b[0mgetattr\u001b[0m\u001b[0;34m(\u001b[0m\u001b[0mhandler\u001b[0m\u001b[0;34m,\u001b[0m \u001b[0mmeth_name\u001b[0m\u001b[0;34m)\u001b[0m\u001b[0;34m\u001b[0m\u001b[0m\n\u001b[0;32m--> 504\u001b[0;31m             \u001b[0mresult\u001b[0m \u001b[0;34m=\u001b[0m \u001b[0mfunc\u001b[0m\u001b[0;34m(\u001b[0m\u001b[0;34m*\u001b[0m\u001b[0margs\u001b[0m\u001b[0;34m)\u001b[0m\u001b[0;34m\u001b[0m\u001b[0m\n\u001b[0m\u001b[1;32m    505\u001b[0m             \u001b[0;32mif\u001b[0m \u001b[0mresult\u001b[0m \u001b[0;32mis\u001b[0m \u001b[0;32mnot\u001b[0m \u001b[0;32mNone\u001b[0m\u001b[0;34m:\u001b[0m\u001b[0;34m\u001b[0m\u001b[0m\n\u001b[1;32m    506\u001b[0m                 \u001b[0;32mreturn\u001b[0m \u001b[0mresult\u001b[0m\u001b[0;34m\u001b[0m\u001b[0m\n",
      "\u001b[0;32m/home/tomoaki/anaconda3/lib/python3.6/urllib/request.py\u001b[0m in \u001b[0;36mhttp_error_default\u001b[0;34m(self, req, fp, code, msg, hdrs)\u001b[0m\n\u001b[1;32m    648\u001b[0m \u001b[0;32mclass\u001b[0m \u001b[0mHTTPDefaultErrorHandler\u001b[0m\u001b[0;34m(\u001b[0m\u001b[0mBaseHandler\u001b[0m\u001b[0;34m)\u001b[0m\u001b[0;34m:\u001b[0m\u001b[0;34m\u001b[0m\u001b[0m\n\u001b[1;32m    649\u001b[0m     \u001b[0;32mdef\u001b[0m \u001b[0mhttp_error_default\u001b[0m\u001b[0;34m(\u001b[0m\u001b[0mself\u001b[0m\u001b[0;34m,\u001b[0m \u001b[0mreq\u001b[0m\u001b[0;34m,\u001b[0m \u001b[0mfp\u001b[0m\u001b[0;34m,\u001b[0m \u001b[0mcode\u001b[0m\u001b[0;34m,\u001b[0m \u001b[0mmsg\u001b[0m\u001b[0;34m,\u001b[0m \u001b[0mhdrs\u001b[0m\u001b[0;34m)\u001b[0m\u001b[0;34m:\u001b[0m\u001b[0;34m\u001b[0m\u001b[0m\n\u001b[0;32m--> 650\u001b[0;31m         \u001b[0;32mraise\u001b[0m \u001b[0mHTTPError\u001b[0m\u001b[0;34m(\u001b[0m\u001b[0mreq\u001b[0m\u001b[0;34m.\u001b[0m\u001b[0mfull_url\u001b[0m\u001b[0;34m,\u001b[0m \u001b[0mcode\u001b[0m\u001b[0;34m,\u001b[0m \u001b[0mmsg\u001b[0m\u001b[0;34m,\u001b[0m \u001b[0mhdrs\u001b[0m\u001b[0;34m,\u001b[0m \u001b[0mfp\u001b[0m\u001b[0;34m)\u001b[0m\u001b[0;34m\u001b[0m\u001b[0m\n\u001b[0m\u001b[1;32m    651\u001b[0m \u001b[0;34m\u001b[0m\u001b[0m\n\u001b[1;32m    652\u001b[0m \u001b[0;32mclass\u001b[0m \u001b[0mHTTPRedirectHandler\u001b[0m\u001b[0;34m(\u001b[0m\u001b[0mBaseHandler\u001b[0m\u001b[0;34m)\u001b[0m\u001b[0;34m:\u001b[0m\u001b[0;34m\u001b[0m\u001b[0m\n",
      "\u001b[0;31mHTTPError\u001b[0m: HTTP Error 404: Not Found"
     ]
    }
   ],
   "source": [
    "getLinks(\"\")"
   ]
  },
  {
   "cell_type": "code",
   "execution_count": null,
   "metadata": {
    "collapsed": true
   },
   "outputs": [],
   "source": [
    "import random\n",
    "import datetime\n",
    "\n",
    "pages = set()\n",
    "random.seed(datetime.datetime.now())\n",
    "\n",
    "def getInternalLinks(bsobj, includeUrl):\n",
    "    internalLinks = []\n",
    "    for link in bsobj.findAll(\"a\", href=re.compile(\"^(/|.*\"+includeUrl+\")\")):\n",
    "        if link.attrs[\"href\"] is not None:\n",
    "            if link.attrs[\"href\"] not in internalLinks:\n",
    "                internalLinks.append(link.attrs[\"href\"])\n",
    "    return internalLinks\n",
    "\n"
   ]
  }
 ],
 "metadata": {
  "kernelspec": {
   "display_name": "Python 3",
   "language": "python",
   "name": "python3"
  },
  "language_info": {
   "codemirror_mode": {
    "name": "ipython",
    "version": 3
   },
   "file_extension": ".py",
   "mimetype": "text/x-python",
   "name": "python",
   "nbconvert_exporter": "python",
   "pygments_lexer": "ipython3",
   "version": "3.6.1"
  }
 },
 "nbformat": 4,
 "nbformat_minor": 2
}
