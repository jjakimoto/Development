{
 "cells": [
  {
   "cell_type": "code",
   "execution_count": 1,
   "metadata": {
    "collapsed": true
   },
   "outputs": [],
   "source": [
    "import pyspark.sql.types as typ\n",
    "\n",
    "labels = [\n",
    "    ('step', typ.IntegerType()),\n",
    "    ('type', typ.StringType()),\n",
    "    ('amount', typ.FloatType()),\n",
    "    ('nameOrig', typ.StringType()),\n",
    "    ('oldbalanceOrg', typ.FloatType()),\n",
    "    ('newbalanceOrig', typ.FloatType()),\n",
    "    ('nameDest', typ.StringType()),\n",
    "    ('oldbalanceDest', typ.FloatType()),\n",
    "    ('newbalanceDest', typ.FloatType()),\n",
    "    ('isFraud', typ.IntegerType()),\n",
    "    ('isFlaggedFraud', typ.IntegerType())\n",
    "]\n",
    "\n",
    "schema = typ.StructType([\n",
    "    typ.StructField(e[0], e[1], True) for e in labels\n",
    "])\n",
    "\n",
    "df = spark.read.csv('data/PS_20174392719_1491204439457_log.csv.gz',\n",
    "                    header=True,\n",
    "                    schema=schema)"
   ]
  },
  {
   "cell_type": "code",
   "execution_count": 2,
   "metadata": {},
   "outputs": [
    {
     "name": "stdout",
     "output_type": "stream",
     "text": [
      "+----+--------+--------+-----------+-------------+--------------+-----------+--------------+--------------+-------+--------------+\n",
      "|step|    type|  amount|   nameOrig|oldbalanceOrg|newbalanceOrig|   nameDest|oldbalanceDest|newbalanceDest|isFraud|isFlaggedFraud|\n",
      "+----+--------+--------+-----------+-------------+--------------+-----------+--------------+--------------+-------+--------------+\n",
      "|   1| PAYMENT| 9839.64|C1231006815|     170136.0|     160296.36|M1979787155|           0.0|           0.0|      0|             0|\n",
      "|   1| PAYMENT| 1864.28|C1666544295|      21249.0|      19384.72|M2044282225|           0.0|           0.0|      0|             0|\n",
      "|   1|TRANSFER|   181.0|C1305486145|        181.0|           0.0| C553264065|           0.0|           0.0|      1|             0|\n",
      "|   1|CASH_OUT|   181.0| C840083671|        181.0|           0.0|  C38997010|       21182.0|           0.0|      1|             0|\n",
      "|   1| PAYMENT|11668.14|C2048537720|      41554.0|      29885.86|M1230701703|           0.0|           0.0|      0|             0|\n",
      "+----+--------+--------+-----------+-------------+--------------+-----------+--------------+--------------+-------+--------------+\n",
      "only showing top 5 rows\n",
      "\n"
     ]
    }
   ],
   "source": [
    "df.show(5)"
   ]
  },
  {
   "cell_type": "code",
   "execution_count": 3,
   "metadata": {
    "collapsed": true
   },
   "outputs": [],
   "source": [
    "import pandas as pd\n",
    "import numpy as np\n",
    "%matplotlib inline\n",
    "import matplotlib.pyplot as plt\n",
    "import seaborn as sns\n",
    "import xgboost as xgb"
   ]
  },
  {
   "cell_type": "code",
   "execution_count": 4,
   "metadata": {
    "collapsed": true
   },
   "outputs": [],
   "source": [
    "import warnings\n",
    "warnings.filterwarnings(\"ignore\", category=DeprecationWarning)"
   ]
  },
  {
   "cell_type": "code",
   "execution_count": 6,
   "metadata": {},
   "outputs": [
    {
     "name": "stdout",
     "output_type": "stream",
     "text": [
      "+----+----+------+--------+-------------+--------------+--------+--------------+--------------+-------+--------------+\n",
      "|step|type|amount|nameOrig|oldbalanceOrg|newbalanceOrig|nameDest|oldbalanceDest|newbalanceDest|isFraud|isFlaggedFraud|\n",
      "+----+----+------+--------+-------------+--------------+--------+--------------+--------------+-------+--------------+\n",
      "|   0|   0|     0|       0|            0|             0|       0|             0|             0|      0|             0|\n",
      "+----+----+------+--------+-------------+--------------+--------+--------------+--------------+-------+--------------+\n",
      "\n",
      "CPU times: user 29.6 ms, sys: 6.31 ms, total: 35.9 ms\n",
      "Wall time: 34.5 s\n"
     ]
    }
   ],
   "source": [
    "%%time\n",
    "import pyspark.sql.functions as fn\n",
    "df = spark.read.csv('data/PS_20174392719_1491204439457_log.csv.gz',\n",
    "                    header=True,\n",
    "                    schema=schema)\n",
    "df_nan = df.select([fn.count(fn.when(fn.isnan(c), c)).alias(c) for c in df.columns])\n",
    "df_nan.show()"
   ]
  },
  {
   "cell_type": "code",
   "execution_count": 14,
   "metadata": {},
   "outputs": [
    {
     "name": "stdout",
     "output_type": "stream",
     "text": [
      "+----+----+------+--------+-------------+--------------+--------+--------------+--------------+-------+--------------+\n",
      "|step|type|amount|nameOrig|oldbalanceOrg|newbalanceOrig|nameDest|oldbalanceDest|newbalanceDest|isFraud|isFlaggedFraud|\n",
      "+----+----+------+--------+-------------+--------------+--------+--------------+--------------+-------+--------------+\n",
      "|   0|   0|     0|       0|            0|             0|       0|             0|             0|      0|             0|\n",
      "+----+----+------+--------+-------------+--------------+--------+--------------+--------------+-------+--------------+\n",
      "\n",
      "CPU times: user 16.3 ms, sys: 1.56 ms, total: 17.9 ms\n",
      "Wall time: 24.2 s\n"
     ]
    }
   ],
   "source": [
    "%%time\n",
    "import multiprocessing\n",
    "\n",
    "num_cpu = multiprocessing.cpu_count()\n",
    "df = spark.read.csv('data/PS_20174392719_1491204439457_log.csv.gz',\n",
    "                    header=True,\n",
    "                    schema=schema)\n",
    "df = df.repartition(4 * num_cpu)\n",
    "df_nan = df.select([fn.count(fn.when(fn.isnan(c), c)).alias(c) for c in df.columns])\n",
    "\n",
    "df_nan.show()"
   ]
  },
  {
   "cell_type": "code",
   "execution_count": 15,
   "metadata": {},
   "outputs": [
    {
     "name": "stdout",
     "output_type": "stream",
     "text": [
      "+--------+\n",
      "|    type|\n",
      "+--------+\n",
      "|TRANSFER|\n",
      "| CASH_IN|\n",
      "|CASH_OUT|\n",
      "| PAYMENT|\n",
      "|   DEBIT|\n",
      "+--------+\n",
      "\n"
     ]
    }
   ],
   "source": [
    "df.select([\"type\"]).distinct().show()"
   ]
  },
  {
   "cell_type": "code",
   "execution_count": 16,
   "metadata": {},
   "outputs": [
    {
     "name": "stdout",
     "output_type": "stream",
     "text": [
      "+--------+\n",
      "|    type|\n",
      "+--------+\n",
      "|TRANSFER|\n",
      "|CASH_OUT|\n",
      "+--------+\n",
      "\n"
     ]
    }
   ],
   "source": [
    "df_fraud = df.filter(\"isFraud = 1\")\n",
    "df_fraud.select([\"type\"]).distinct().show()"
   ]
  },
  {
   "cell_type": "code",
   "execution_count": 17,
   "metadata": {},
   "outputs": [
    {
     "name": "stdout",
     "output_type": "stream",
     "text": [
      "4097 4116\n"
     ]
    }
   ],
   "source": [
    "num_transfer = df_fraud.filter(\"type = 'TRANSFER'\").count()\n",
    "num_cashout = df_fraud.filter(\"type = 'CASH_OUT'\").count()\n",
    "print(num_transfer, num_cashout)"
   ]
  },
  {
   "cell_type": "code",
   "execution_count": 109,
   "metadata": {
    "collapsed": true
   },
   "outputs": [],
   "source": [
    "X = df.where((fn.col(\"type\") == 'TRANSFER') | (fn.col(\"type\") == 'CASH_OUT'))\n",
    "X = X.select([c for c in X.columns if c not in ['nameOrig', 'nameDest', 'isFlaggedFraud']])\n",
    "\n",
    "\n",
    "map_dict = {\"TRANSFER\": 0, \"CASH_OUT\": 1}\n",
    "def type_map(type_):\n",
    "    return map_dict[type_]\n",
    "    \n",
    "type_map_int = fn.udf(type_map, typ.IntegerType())\n",
    "\n",
    "X = X.select(X.columns + [type_map_int(\"type\").alias(\"type_integer\"),])"
   ]
  },
  {
   "cell_type": "code",
   "execution_count": 46,
   "metadata": {},
   "outputs": [
    {
     "name": "stdout",
     "output_type": "stream",
     "text": [
      "+------------+\n",
      "|type_integer|\n",
      "+------------+\n",
      "|           1|\n",
      "|           0|\n",
      "+------------+\n",
      "\n"
     ]
    }
   ],
   "source": [
    "X.select(\"type_integer\").distinct().show()"
   ]
  },
  {
   "cell_type": "code",
   "execution_count": 49,
   "metadata": {
    "collapsed": true
   },
   "outputs": [],
   "source": [
    "Xfraud = X.where(\"isFraud = 1\")\n",
    "Xnonfraud = X.where(\"isFraud = 0\")"
   ]
  },
  {
   "cell_type": "code",
   "execution_count": 57,
   "metadata": {},
   "outputs": [
    {
     "data": {
      "text/plain": [
       "0.4955558261293072"
      ]
     },
     "execution_count": 57,
     "metadata": {},
     "output_type": "execute_result"
    }
   ],
   "source": [
    "Xfraud.where((fn.col(\"oldBalanceDest\") == 0) &\\\n",
    "             (fn.col(\"newBalanceDest\") == 0) &\\\n",
    "             (fn.col(\"amount\") != 0))\\\n",
    "    .count()\\\n",
    "    / Xfraud.count()"
   ]
  },
  {
   "cell_type": "code",
   "execution_count": 58,
   "metadata": {},
   "outputs": [
    {
     "data": {
      "text/plain": [
       "0.0006176245277308345"
      ]
     },
     "execution_count": 58,
     "metadata": {},
     "output_type": "execute_result"
    }
   ],
   "source": [
    "Xnonfraud.where((fn.col(\"oldBalanceDest\") == 0) &\\\n",
    "             (fn.col(\"newBalanceDest\") == 0) &\\\n",
    "             (fn.col(\"amount\") != 0))\\\n",
    "    .count()\\\n",
    "    / Xnonfraud.count()"
   ]
  },
  {
   "cell_type": "code",
   "execution_count": 110,
   "metadata": {
    "collapsed": true
   },
   "outputs": [],
   "source": [
    "def make_flag(x, y, z):\n",
    "    if x == 0 and y == 0 and z != 0:\n",
    "        return -1.\n",
    "    else:\n",
    "        return x\n",
    "make_flag = fn.udf(make_flag, typ.FloatType())"
   ]
  },
  {
   "cell_type": "code",
   "execution_count": 111,
   "metadata": {
    "collapsed": true
   },
   "outputs": [],
   "source": [
    "rep_col = ['oldbalanceDest', 'newbalanceDest', \"type\"]\n",
    "cols = [c for c in X.columns if c not in rep_col]\\\n",
    "    + [make_flag('oldbalanceDest', 'newbalanceDest', \"amount\").alias(\"oldBalanceDest\"),]\\\n",
    "    + [make_flag('newbalanceDest', 'oldbalanceDest', \"amount\").alias(\"newBalanceDest\"),]\n",
    "\n",
    "X = X.select(cols)"
   ]
  },
  {
   "cell_type": "code",
   "execution_count": 112,
   "metadata": {},
   "outputs": [
    {
     "data": {
      "text/plain": [
       "['step',\n",
       " 'amount',\n",
       " 'oldbalanceOrg',\n",
       " 'newbalanceOrig',\n",
       " 'isFraud',\n",
       " 'type_integer',\n",
       " 'oldBalanceDest',\n",
       " 'newBalanceDest']"
      ]
     },
     "execution_count": 112,
     "metadata": {},
     "output_type": "execute_result"
    }
   ],
   "source": [
    "X.columns"
   ]
  },
  {
   "cell_type": "code",
   "execution_count": 113,
   "metadata": {
    "collapsed": true
   },
   "outputs": [],
   "source": [
    "import numpy as np\n",
    "\n",
    "def make_nan(x, y, z):\n",
    "    if x == 0 and y == 0 and z != 0:\n",
    "        return np.nan\n",
    "    else:\n",
    "        return x\n",
    "make_nan = fn.udf(make_nan, typ.FloatType())"
   ]
  },
  {
   "cell_type": "code",
   "execution_count": 114,
   "metadata": {
    "collapsed": true
   },
   "outputs": [],
   "source": [
    "rep_col = ['oldbalanceOrg', 'newbalanceOrig']\n",
    "cols = [c for c in X.columns if c not in rep_col]\\\n",
    "    + [make_nan('oldbalanceOrg', 'newbalanceOrig', \"amount\").alias(\"oldBalanceOrig\")]\\\n",
    "    + [make_nan('newbalanceOrig', 'oldbalanceOrg', \"amount\").alias(\"newBalanceOrig\")]\n",
    "    \n",
    "X = X.select(cols)"
   ]
  },
  {
   "cell_type": "code",
   "execution_count": 115,
   "metadata": {},
   "outputs": [
    {
     "name": "stdout",
     "output_type": "stream",
     "text": [
      "+----+---------+-------+------------+--------------+--------------+--------------+--------------+\n",
      "|step|   amount|isFraud|type_integer|oldBalanceDest|newBalanceDest|oldBalanceOrig|newBalanceOrig|\n",
      "+----+---------+-------+------------+--------------+--------------+--------------+--------------+\n",
      "|   1|    181.0|      1|           0|          -1.0|          -1.0|         181.0|           0.0|\n",
      "|   1|    181.0|      1|           1|       21182.0|           0.0|         181.0|           0.0|\n",
      "|   1|229133.94|      0|           1|        5083.0|      51513.44|       15325.0|           0.0|\n",
      "|   1| 215310.3|      0|           0|       22425.0|           0.0|         705.0|           0.0|\n",
      "|   1|311685.88|      0|           0|        6267.0|     2719173.0|       10835.0|           0.0|\n",
      "|   1|110414.71|      0|           1|      288800.0|       2415.16|      26845.41|           0.0|\n",
      "|   1|  56953.9|      0|           1|       70253.0|      64106.18|       1942.02|           0.0|\n",
      "|   1|  5346.89|      0|           1|      652637.0|     6453431.0|           NaN|           NaN|\n",
      "|   1|  23261.3|      0|           1|       25742.0|           0.0|      20411.53|           0.0|\n",
      "|   1|  62610.8|      0|           0|         517.0|       8383.29|       79114.0|       16503.2|\n",
      "|   1| 82940.31|      0|           1|      132372.0|      49864.36|       3017.87|           0.0|\n",
      "|   1| 47458.86|      0|           1|       52120.0|           0.0|     209534.84|     162075.98|\n",
      "|   1|136872.92|      0|           1|      217806.0|           0.0|     162075.98|      25203.05|\n",
      "|   1| 94253.33|      0|           1|       99773.0|     965870.06|      25203.05|           0.0|\n",
      "|   1| 42712.39|      0|           0|      57901.66|      24044.18|      10363.39|           0.0|\n",
      "|   1| 77957.68|      0|           0|       94900.0|      22233.65|           NaN|           NaN|\n",
      "|   1| 17231.46|      0|           0|       24672.0|           0.0|           NaN|           NaN|\n",
      "|   1| 78766.03|      0|           0|      103772.0|     277515.06|           NaN|           NaN|\n",
      "|   1|224606.64|      0|           0|      354678.9|           0.0|           NaN|           NaN|\n",
      "|   1|125872.53|      0|           0|      348512.0|     3420103.0|           NaN|           NaN|\n",
      "+----+---------+-------+------------+--------------+--------------+--------------+--------------+\n",
      "only showing top 20 rows\n",
      "\n"
     ]
    }
   ],
   "source": [
    "X.show()"
   ]
  },
  {
   "cell_type": "markdown",
   "metadata": {},
   "source": [
    "[new columns](https://stackoverflow.com/questions/33681487/how-do-i-add-a-new-column-to-a-spark-dataframe-using-pyspark/33683462)"
   ]
  },
  {
   "cell_type": "code",
   "execution_count": 118,
   "metadata": {
    "collapsed": true
   },
   "outputs": [],
   "source": [
    "X = X.withColumn(\"errorBalanceOrig\",  X.newBalanceOrig + X.amount - X.oldBalanceOrig)\n",
    "X = X.withColumn(\"errorBalanceDest\",  X.newBalanceDest + X.amount - X.oldBalanceDest)"
   ]
  },
  {
   "cell_type": "markdown",
   "metadata": {},
   "source": [
    "[Build Estimator](https://spark.apache.org/docs/preview/ml-guide.html)"
   ]
  },
  {
   "cell_type": "code",
   "execution_count": null,
   "metadata": {
    "collapsed": true
   },
   "outputs": [],
   "source": []
  }
 ],
 "metadata": {
  "kernelspec": {
   "display_name": "Python 3",
   "language": "python",
   "name": "python3"
  },
  "language_info": {
   "codemirror_mode": {
    "name": "ipython",
    "version": 3
   },
   "file_extension": ".py",
   "mimetype": "text/x-python",
   "name": "python",
   "nbconvert_exporter": "python",
   "pygments_lexer": "ipython3",
   "version": "3.6.1"
  }
 },
 "nbformat": 4,
 "nbformat_minor": 2
}
