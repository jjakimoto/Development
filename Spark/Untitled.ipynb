{
 "cells": [
  {
   "cell_type": "code",
   "execution_count": 1,
   "metadata": {
    "collapsed": true
   },
   "outputs": [],
   "source": [
    "import pandas as pd\n",
    "import numpy as np"
   ]
  },
  {
   "cell_type": "code",
   "execution_count": 9,
   "metadata": {},
   "outputs": [
    {
     "name": "stdout",
     "output_type": "stream",
     "text": [
      "   trans_id  account_id    date    type operation  amount  balance k_symbol  \\\n",
      "0    695247        2378  930101  PRIJEM     VKLAD   700.0    700.0      NaN   \n",
      "1    171812         576  930101  PRIJEM     VKLAD   900.0    900.0      NaN   \n",
      "2    207264         704  930101  PRIJEM     VKLAD  1000.0   1000.0      NaN   \n",
      "3   1117247        3818  930101  PRIJEM     VKLAD   600.0    600.0      NaN   \n",
      "4    579373        1972  930102  PRIJEM     VKLAD   400.0    400.0      NaN   \n",
      "\n",
      "  bank  account  \n",
      "0  NaN      NaN  \n",
      "1  NaN      NaN  \n",
      "2  NaN      NaN  \n",
      "3  NaN      NaN  \n",
      "4  NaN      NaN  \n"
     ]
    },
    {
     "name": "stderr",
     "output_type": "stream",
     "text": [
      "/home/tomoaki/anaconda3/lib/python3.6/site-packages/IPython/core/interactiveshell.py:2717: DtypeWarning: Columns (8) have mixed types. Specify dtype option on import or set low_memory=False.\n",
      "  interactivity=interactivity, compiler=compiler, result=result)\n"
     ]
    },
    {
     "data": {
      "text/plain": [
       "(1056320, 10)"
      ]
     },
     "execution_count": 9,
     "metadata": {},
     "output_type": "execute_result"
    }
   ],
   "source": [
    "df_trans = pd.read_table('data/trans.asc', sep=\";\")\n",
    "print(df_trans.head())\n",
    "df_trans.shape"
   ]
  },
  {
   "cell_type": "code",
   "execution_count": 10,
   "metadata": {},
   "outputs": [
    {
     "name": "stdout",
     "output_type": "stream",
     "text": [
      "   order_id  account_id bank_to  account_to  amount k_symbol\n",
      "0     29401           1      YZ    87144583  2452.0     SIPO\n",
      "1     29402           2      ST    89597016  3372.7     UVER\n",
      "2     29403           2      QR    13943797  7266.0     SIPO\n",
      "3     29404           3      WX    83084338  1135.0     SIPO\n",
      "4     29405           3      CD    24485939   327.0         \n"
     ]
    },
    {
     "data": {
      "text/plain": [
       "(6471, 6)"
      ]
     },
     "execution_count": 10,
     "metadata": {},
     "output_type": "execute_result"
    }
   ],
   "source": [
    "df_order = pd.read_table('data/order.asc', sep=\";\")\n",
    "print(df_order.head())\n",
    "df_order.shape"
   ]
  },
  {
   "cell_type": "code",
   "execution_count": 12,
   "metadata": {},
   "outputs": [
    {
     "name": "stdout",
     "output_type": "stream",
     "text": [
      "   loan_id  account_id    date  amount  duration  payments status\n",
      "0     5314        1787  930705   96396        12    8033.0      B\n",
      "1     5316        1801  930711  165960        36    4610.0      A\n",
      "2     6863        9188  930728  127080        60    2118.0      A\n",
      "3     5325        1843  930803  105804        36    2939.0      A\n",
      "4     7240       11013  930906  274740        60    4579.0      A\n"
     ]
    },
    {
     "data": {
      "text/plain": [
       "(682, 7)"
      ]
     },
     "execution_count": 12,
     "metadata": {},
     "output_type": "execute_result"
    }
   ],
   "source": [
    "df_loan = pd.read_table('data/loan.asc', sep=\";\")\n",
    "print(df_loan.head())\n",
    "df_loan.shape"
   ]
  },
  {
   "cell_type": "code",
   "execution_count": 13,
   "metadata": {},
   "outputs": [
    {
     "name": "stdout",
     "output_type": "stream",
     "text": [
      "   A1           A2               A3       A4  A5  A6  A7  A8  A9    A10  \\\n",
      "0   1  Hl.m. Praha           Prague  1204953   0   0   0   1   1  100.0   \n",
      "1   2      Benesov  central Bohemia    88884  80  26   6   2   5   46.7   \n",
      "2   3       Beroun  central Bohemia    75232  55  26   4   1   5   41.7   \n",
      "3   4       Kladno  central Bohemia   149893  63  29   6   2   6   67.4   \n",
      "4   5        Kolin  central Bohemia    95616  65  30   4   1   6   51.4   \n",
      "\n",
      "     A11   A12   A13  A14    A15    A16  \n",
      "0  12541  0.29  0.43  167  85677  99107  \n",
      "1   8507  1.67  1.85  132   2159   2674  \n",
      "2   8980  1.95  2.21  111   2824   2813  \n",
      "3   9753  4.64  5.05  109   5244   5892  \n",
      "4   9307  3.85  4.43  118   2616   3040  \n"
     ]
    },
    {
     "data": {
      "text/plain": [
       "(77, 16)"
      ]
     },
     "execution_count": 13,
     "metadata": {},
     "output_type": "execute_result"
    }
   ],
   "source": [
    "df_district = pd.read_table('data/district.asc', sep=\";\")\n",
    "print(df_district.head())\n",
    "df_district.shape"
   ]
  },
  {
   "cell_type": "code",
   "execution_count": null,
   "metadata": {
    "collapsed": true
   },
   "outputs": [],
   "source": [
    "df_district = pd.read_table('data/district.asc', sep=\";\")\n",
    "print(df_district.head())\n",
    "df_district.shape"
   ]
  }
 ],
 "metadata": {
  "kernelspec": {
   "display_name": "Python 3",
   "language": "python",
   "name": "python3"
  },
  "language_info": {
   "codemirror_mode": {
    "name": "ipython",
    "version": 3
   },
   "file_extension": ".py",
   "mimetype": "text/x-python",
   "name": "python",
   "nbconvert_exporter": "python",
   "pygments_lexer": "ipython3",
   "version": "3.6.1"
  }
 },
 "nbformat": 4,
 "nbformat_minor": 2
}
