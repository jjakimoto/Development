{
 "cells": [
  {
   "cell_type": "markdown",
   "metadata": {},
   "source": [
    "Choosing the right hyperparameters is sort of annoying but necessary process for any data science projects. Some model may be more sensitive to some hyperparameters. "
   ]
  },
  {
   "cell_type": "code",
   "execution_count": null,
   "metadata": {
    "collapsed": true
   },
   "outputs": [],
   "source": []
  },
  {
   "cell_type": "code",
   "execution_count": null,
   "metadata": {
    "collapsed": true
   },
   "outputs": [],
   "source": [
    "def run_experiemnts(config,)"
   ]
  },
  {
   "cell_type": "code",
   "execution_count": null,
   "metadata": {
    "collapsed": true
   },
   "outputs": [],
   "source": []
  },
  {
   "cell_type": "code",
   "execution_count": null,
   "metadata": {
    "collapsed": true
   },
   "outputs": [],
   "source": []
  },
  {
   "cell_type": "code",
   "execution_count": 2,
   "metadata": {},
   "outputs": [
    {
     "name": "stderr",
     "output_type": "stream",
     "text": [
      "/home/tom/anaconda3/lib/python3.6/site-packages/h5py/__init__.py:34: FutureWarning: Conversion of the second argument of issubdtype from `float` to `np.floating` is deprecated. In future, it will be treated as `np.float64 == np.dtype(float).type`.\n",
      "  from ._conv import register_converters as _register_converters\n"
     ]
    }
   ],
   "source": [
    "from hedgeable_ai.optimizer.tuner.space import DesignSpace"
   ]
  },
  {
   "cell_type": "code",
   "execution_count": 3,
   "metadata": {},
   "outputs": [
    {
     "name": "stdout",
     "output_type": "stream",
     "text": [
      "<hedgeable_ai.optimizer.tuner.variables.ContinuousVariable object at 0x7f5245b7cc18>\n",
      "{'name': 'var1', 'type': 'continuous', 'domain': (-5, 5), 'dimensionality': 3}\n",
      "3\n",
      "<hedgeable_ai.optimizer.tuner.variables.DiscreteVariable object at 0x7f5245b7cef0>\n",
      "{'name': 'var3', 'type': 'discrete', 'domain': (3, 8, 10), 'dimensionality': 2}\n",
      "2\n",
      "<hedgeable_ai.optimizer.tuner.variables.CategoricalVariable object at 0x7f5245b870f0>\n",
      "{'name': 'var4', 'type': 'categorical', 'domain': ('hey', 'what up', 'oops'), 'dimensionality': 1}\n",
      "1\n",
      "<hedgeable_ai.optimizer.tuner.variables.IntegerVariable object at 0x7f5245b872b0>\n",
      "{'name': 'var5', 'type': 'integer', 'domain': (1, 10), 'scale': 'log'}\n",
      "1\n"
     ]
    }
   ],
   "source": [
    "\n",
    "mixed_domain =[{'name': 'var1', 'type': 'continuous', 'domain': (-5,5),'dimensionality': 3},\n",
    "               {'name': 'var3', 'type': 'discrete', 'domain': (3,8,10),'dimensionality': 2},\n",
    "               {'name': 'var4', 'type': 'categorical', 'domain': ('hey', 'what up', 'oops'),'dimensionality': 1},\n",
    "               {'name': 'var5', 'type': 'integer', 'domain': (1, 10), 'scale':'log'}]\n",
    "\n",
    "space = DesignSpace(mixed_domain)"
   ]
  },
  {
   "cell_type": "code",
   "execution_count": 15,
   "metadata": {},
   "outputs": [
    {
     "data": {
      "text/plain": [
       "[(-5, 5),\n",
       " (-5, 5),\n",
       " (-5, 5),\n",
       " (3, 10),\n",
       " (3, 10),\n",
       " (0, 1),\n",
       " (0, 1),\n",
       " (0, 1),\n",
       " (0.0, 1.0)]"
      ]
     },
     "execution_count": 15,
     "metadata": {},
     "output_type": "execute_result"
    }
   ],
   "source": [
    "space.get_bounds()"
   ]
  },
  {
   "cell_type": "code",
   "execution_count": 14,
   "metadata": {},
   "outputs": [
    {
     "data": {
      "text/plain": [
       "7"
      ]
     },
     "execution_count": 14,
     "metadata": {},
     "output_type": "execute_result"
    }
   ],
   "source": [
    "len(space.config_space_expanded)"
   ]
  },
  {
   "cell_type": "code",
   "execution_count": null,
   "metadata": {
    "collapsed": true
   },
   "outputs": [],
   "source": []
  },
  {
   "cell_type": "code",
   "execution_count": 4,
   "metadata": {},
   "outputs": [
    {
     "name": "stdout",
     "output_type": "stream",
     "text": [
      "[0. 0. 0. 8. 1. 1. 0. 0. 1.]\n",
      "[0.0, 0.0, 0.0, 8, 3, 'hey', 2]\n"
     ]
    }
   ],
   "source": [
    "x = [0, 0, 0, 8, 1, 'hey', 10]\n",
    "\n",
    "model_x = space.objective_to_model([x])\n",
    "print(model_x)\n",
    "obj_x = space.model_to_objective([model_x])\n",
    "print(obj_x)"
   ]
  },
  {
   "cell_type": "code",
   "execution_count": 5,
   "metadata": {
    "collapsed": true
   },
   "outputs": [],
   "source": [
    "x = space.space_expanded[-1]"
   ]
  },
  {
   "cell_type": "code",
   "execution_count": 6,
   "metadata": {
    "collapsed": true
   },
   "outputs": [],
   "source": [
    "x.scale"
   ]
  },
  {
   "cell_type": "code",
   "execution_count": 14,
   "metadata": {},
   "outputs": [
    {
     "data": {
      "text/plain": [
       "'log'"
      ]
     },
     "execution_count": 14,
     "metadata": {},
     "output_type": "execute_result"
    }
   ],
   "source": [
    "x.get('scale', None)"
   ]
  },
  {
   "cell_type": "code",
   "execution_count": 6,
   "metadata": {},
   "outputs": [
    {
     "data": {
      "text/plain": [
       "0.3010299956639812"
      ]
     },
     "execution_count": 6,
     "metadata": {},
     "output_type": "execute_result"
    }
   ],
   "source": [
    "import math\n",
    "math.log10(2)"
   ]
  },
  {
   "cell_type": "code",
   "execution_count": 5,
   "metadata": {},
   "outputs": [
    {
     "data": {
      "text/plain": [
       "1e-05"
      ]
     },
     "execution_count": 5,
     "metadata": {},
     "output_type": "execute_result"
    }
   ],
   "source": [
    "1e-5"
   ]
  },
  {
   "cell_type": "code",
   "execution_count": 1,
   "metadata": {},
   "outputs": [
    {
     "name": "stderr",
     "output_type": "stream",
     "text": [
      "/home/tom/anaconda3/lib/python3.6/site-packages/h5py/__init__.py:34: FutureWarning: Conversion of the second argument of issubdtype from `float` to `np.floating` is deprecated. In future, it will be treated as `np.float64 == np.dtype(float).type`.\n",
      "  from ._conv import register_converters as _register_converters\n"
     ]
    },
    {
     "name": "stdout",
     "output_type": "stream",
     "text": [
      "<hedgeable_ai.optimizer.tuner.variables.ContinuousVariable object at 0x7f513b731908>\n",
      "{'name': 'var1', 'type': 'continuous', 'domain': (-5, 5), 'dimensionality': 3}\n",
      "3\n",
      "<hedgeable_ai.optimizer.tuner.variables.DiscreteVariable object at 0x7f513b7477b8>\n",
      "{'name': 'var3', 'type': 'discrete', 'domain': (3, 8, 10), 'dimensionality': 2}\n",
      "2\n",
      "<hedgeable_ai.optimizer.tuner.variables.CategoricalVariable object at 0x7f513b747978>\n",
      "{'name': 'var4', 'type': 'categorical', 'domain': ('hey', 'what up', 'oops'), 'dimensionality': 1}\n",
      "1\n",
      "<hedgeable_ai.optimizer.tuner.variables.IntegerVariable object at 0x7f513b747b38>\n",
      "{'name': 'var5', 'type': 'integer', 'domain': (1, 10), 'scale': 'log'}\n",
      "1\n"
     ]
    }
   ],
   "source": [
    "from hedgeable_ai.optimizer.tuner import RandomOptimizer\n",
    "\n",
    "\n",
    "mixed_domain =[{'name': 'var1', 'type': 'continuous', 'domain': (-5,5),'dimensionality': 3},\n",
    "               {'name': 'var3', 'type': 'discrete', 'domain': (3,8,10),'dimensionality': 2},\n",
    "               {'name': 'var4', 'type': 'categorical', 'domain': ('hey', 'what up', 'oops'),'dimensionality': 1},\n",
    "               {'name': 'var5', 'type': 'integer', 'domain': (1, 10), 'scale':'log'}]\n",
    "\n",
    "opt = RandomOptimizer(score_func=lambda x: x, params_conf=mixed_domain)"
   ]
  },
  {
   "cell_type": "code",
   "execution_count": 2,
   "metadata": {},
   "outputs": [
    {
     "name": "stdout",
     "output_type": "stream",
     "text": [
      "[0.0, 0.0, 0.0, 8, 3, 'hey', 10]\n"
     ]
    }
   ],
   "source": [
    "x = [0., 0., 0., 8., 1., 1., 0., 0., 1.]\n",
    "param = opt.vec2params(x)"
   ]
  },
  {
   "cell_type": "code",
   "execution_count": 3,
   "metadata": {},
   "outputs": [
    {
     "data": {
      "text/plain": [
       "{'var1_1': 0.0,\n",
       " 'var1_2': 0.0,\n",
       " 'var1_3': 0.0,\n",
       " 'var3_1': 8,\n",
       " 'var3_2': 3,\n",
       " 'var4_1': 'hey',\n",
       " 'var5': 10}"
      ]
     },
     "execution_count": 3,
     "metadata": {},
     "output_type": "execute_result"
    }
   ],
   "source": [
    "param"
   ]
  },
  {
   "cell_type": "code",
   "execution_count": 4,
   "metadata": {},
   "outputs": [
    {
     "data": {
      "text/plain": [
       "array([0., 0., 0., 8., 3., 1., 0., 0., 1.])"
      ]
     },
     "execution_count": 4,
     "metadata": {},
     "output_type": "execute_result"
    }
   ],
   "source": [
    "opt.params2vec(param)"
   ]
  },
  {
   "cell_type": "code",
   "execution_count": 5,
   "metadata": {},
   "outputs": [
    {
     "data": {
      "text/plain": [
       "7"
      ]
     },
     "execution_count": 5,
     "metadata": {},
     "output_type": "execute_result"
    }
   ],
   "source": [
    "opt.design_space.dimensionality"
   ]
  },
  {
   "cell_type": "code",
   "execution_count": 6,
   "metadata": {},
   "outputs": [
    {
     "data": {
      "text/plain": [
       "9"
      ]
     },
     "execution_count": 6,
     "metadata": {},
     "output_type": "execute_result"
    }
   ],
   "source": [
    "opt.design_space.model_dimensionality"
   ]
  },
  {
   "cell_type": "code",
   "execution_count": null,
   "metadata": {
    "collapsed": true
   },
   "outputs": [],
   "source": []
  }
 ],
 "metadata": {
  "kernelspec": {
   "display_name": "Python 3",
   "language": "python",
   "name": "python3"
  },
  "language_info": {
   "codemirror_mode": {
    "name": "ipython",
    "version": 3
   },
   "file_extension": ".py",
   "mimetype": "text/x-python",
   "name": "python",
   "nbconvert_exporter": "python",
   "pygments_lexer": "ipython3",
   "version": "3.6.3"
  }
 },
 "nbformat": 4,
 "nbformat_minor": 2
}
