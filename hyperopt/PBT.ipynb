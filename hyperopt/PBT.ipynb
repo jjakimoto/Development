{
 "cells": [
  {
   "cell_type": "markdown",
   "metadata": {},
   "source": [
    "Deep Mind has publihsed a new method of hyperparameter optimizaion in the paper titiled [\"Population Based Training of Neural Networks\"](https://arxiv.org/pdf/1711.09846.pdf). Its overview is explained concisely in [their blog post](https://deepmind.com/blog/population-based-training-neural-networks/).\n",
    "\n",
    "In this article, after going through the concept briefly, I would like to demonstrate how to implement PBT with tensorflow.\n",
    "\n",
    "Let's start from figuring out the concept!!"
   ]
  },
  {
   "cell_type": "markdown",
   "metadata": {},
   "source": [
    "# Population Based Training\n",
    "\n",
    "###  What is different from the other optimization algorithms?\n",
    "\n",
    "Roughly speaking, PBT(population based training) provides the way to optimize parameters with the only single execution. More specifically speaking for neural network, we do not necessary have to set the number of epochs of gradient decsent algorithms. \n",
    "\n",
    "Let's see how it works by compaison with others.\n",
    "As most typical optimization algorithms, we have grid-, random-, and Bayesian optimization.\n",
    "\n",
    "Grid optimization is well-known the most basic method. Although it may work well on small dimensional space, but the execution time blows up exponentially as the dimension increases. \n",
    "\n",
    "Random optimization is considered as one of the effective methods to optimize high dimensional space like hyperparameters of neural network [paper1](http://www.jmlr.org/papers/volume13/bergstra12a/bergstra12a.pdf).\n",
    "Besdes that this method is easily parallelizable. The combination of many-armed bandit, hyperband, achieves state-of-art result[paper3](https://arxiv.org/pdf/1603.06560.pdf). \n",
    "\n",
    "Bayesian optimization is a method to sample trial parameters [paper2](https://papers.nips.cc/paper/4522-practical-bayesian-optimization-of-machine-learning-algorithms.pdf). This method iterates estimate of defined cost functions over search spaces and try the primising parameters. Seqential optimization like Bayesian optimization will in general provide the best solution. This method can be sped up by parallelizations [paper4](https://arxiv.org/pdf/1606.04414.pdf). \n",
    "\n",
    "Hyperband and parallel Bayesian optimization can be considered as two of the best ways to optimize hyperparameters.\n",
    "\n",
    "The drawback that these methods above have in common needs to run multiple training, which requires huge computational resources. \n",
    "PBT inpired by genetic algorithm comes in to solve this problem. As long as a candidate keeps good performance, PBT allows it to keep run training. Besides that, we can adapt hyperparameters like learning rate during training. This is helpful when dealing with transitional distribution data like reinforcement learning.\n",
    "Here is the figure from the original paper:\n",
    "\n",
    "![PBT](PBT.pnb)\n",
    "\n",
    "To clear the difference more, let's consider random and Bayesian optimization with the same number of parallerization as that of population of PBT. First, becuase of greedy search, we can expect PBT to have better perfomance than random optimization. Bayesian method may sample parameters more effectively. Even if it finds the good set of hyperparameters, we have to restart training from scratch if we try to rain modles with longer trining execution(i.e., the number of epochs for grdienct descent. Thus, we consider PBT as an effective method to optimize neural network.\n",
    "\n",
    "\n",
    "### How to implement PBT?\n",
    "PBT is implemented in the following procedures:\n",
    "\n",
    "\n",
    "1. Build population, in which each candidates is set up with randomly generated hyperparameters.\n",
    "2. Run up to a certain period for each candidate.\n",
    "3. Compare its performance with others'\n",
    "4. Replace it with the better paramters if necessary and add noise to the new setting\n",
    "\n",
    "Repeat 3. and 4. procedures. According to the original paper, resampling instead of just adding noise is also allowed to have explore more other options. Comparison also not necessary happen at the same time over all wokers.\n",
    "The size of population is typically from 10 to 40 acccording to the original paper. run multiple agents with parameters \n",
    "\n",
    "\n",
    "Here is the pseudo code from the paper.\n",
    "![pbt_algo](ewr)"
   ]
  },
  {
   "cell_type": "markdown",
   "metadata": {},
   "source": [
    "# Toy Models\n",
    "\n",
    "\n",
    "To show how to implement it in the simple way, we start from a toy model used in the original paper. Here is the problem. We consider optimizing the following two dimensional function:\n",
    "$$ Q(\\theta) = 1.2 - (\\theta_0^2 + \\theta_1^2)$$"
   ]
  },
  {
   "cell_type": "code",
   "execution_count": 2,
   "metadata": {},
   "outputs": [
    {
     "name": "stderr",
     "output_type": "stream",
     "text": [
      "/home/tom/anaconda3/lib/python3.6/site-packages/h5py/__init__.py:34: FutureWarning: Conversion of the second argument of issubdtype from `float` to `np.floating` is deprecated. In future, it will be treated as `np.float64 == np.dtype(float).type`.\n",
      "  from ._conv import register_converters as _register_converters\n"
     ]
    }
   ],
   "source": [
    "import tensorflow as tf\n",
    "\n",
    "def objective(theta): \n",
    "    return 1.2 - tf.reduce_sum(theta ** 2)"
   ]
  },
  {
   "cell_type": "markdown",
   "metadata": {},
   "source": [
    "We assume here that we are unable to access to the information about how the fucntion acutually looks like, which mean this is black box optimization problems. As an approximation, we propose the following surrogate function:\n",
    "$$ \\hat{Q}(\\theta | h) = 1.2 - (h_0 \\theta_0^2 + h_1 \\theta_1^2)$$"
   ]
  },
  {
   "cell_type": "code",
   "execution_count": 3,
   "metadata": {
    "collapsed": true
   },
   "outputs": [],
   "source": [
    "def surrogate_objective(theta, h):\n",
    "    return 1.2 - tf.reduce_sum((h * theta) ** 2)"
   ]
  },
  {
   "cell_type": "markdown",
   "metadata": {},
   "source": [
    "First, we have to implement each agent, which has step, explore and exploit functions.\n",
    "\n",
    "In the step function, we optimize traininable parameters given hyperparameters, $\\theta$ in this example.\n",
    "The exploit function chooses workers according to a certain criteria. For the sake of simplicity, this example chooses a worker with the best performance. \n",
    "The explore function adds the noise to hyperparameter $h$ by gaussian noise. \n",
    "\n",
    "\n",
    "Implementation referenced [this repository](https://github.com/bkj/pbt/blob/master/pbt.ipynb)"
   ]
  },
  {
   "cell_type": "code",
   "execution_count": 4,
   "metadata": {
    "collapsed": true
   },
   "outputs": [],
   "source": [
    "import numpy as np\n",
    "import tensorflow as tf\n",
    "import tensorflow.contrib.eager as tfe\n",
    "\n",
    "tfe.enable_eager_execution()"
   ]
  },
  {
   "cell_type": "code",
   "execution_count": 5,
   "metadata": {
    "collapsed": true
   },
   "outputs": [],
   "source": [
    "class Worker(object):\n",
    "    def __init__(self, theta, h, objective, surrogate_objective, id):\n",
    "        self.theta = theta\n",
    "        self.h = h\n",
    "        self.objective = objective\n",
    "        self.surrogate_objective = surrogate_objective\n",
    "        self.id = id\n",
    "        \n",
    "        self._lr = 1e-2\n",
    "        self._grad = tfe.gradients_function(self.surrogate_objective)\n",
    "        self._history = dict(theta=[], h=[], score=[])\n",
    "        \n",
    "    @property\n",
    "    def history(self):\n",
    "        return dict(theta=np.vstack(self._history[\"theta\"]),\n",
    "                    h=np.vstack(self._history[\"h\"]),\n",
    "                    score=np.vstack(self._history[\"score\"]))\n",
    "    \n",
    "    def _log(self):\n",
    "        self._history['theta'].append(self.theta.copy())\n",
    "        self._history['h'].append(self.h.copy())\n",
    "        self._history['score'].append(self.eval())\n",
    "        \n",
    "    def step(self):\n",
    "        self._log()\n",
    "        grad_theta, grad_h = self._grad(self.theta, self.h)\n",
    "        # Update tunable parameters by GD\n",
    "        d_theta = self._lr * grad_theta\n",
    "        self.theta += d_theta.numpy()\n",
    "        \n",
    "    def eval(self):\n",
    "        return self.objective(self.theta).numpy()\n",
    "    \n",
    "    def exploit(self, population):\n",
    "        current_scores = [dict(id=woker.id, score=woker.eval()) for woker in population]\n",
    "        best_worker = sorted(current_scores, key=lambda x: x[\"score\"])[-1]\n",
    "        \n",
    "        if best_worker[\"id\"] != self.id:\n",
    "            best_worker = population[best_worker[\"id\"]]\n",
    "            self.theta = best_worker.theta.copy()\n",
    "            # We do not copy hyperparameters in this example\n",
    "            # self.h = population[best_worker[\"id\"]].h.copy()\n",
    "            \n",
    "    def explore(self, sd=0.1):\n",
    "        self.h += np.random.normal(0, sd, size=[2])"
   ]
  },
  {
   "cell_type": "code",
   "execution_count": 6,
   "metadata": {
    "collapsed": true
   },
   "outputs": [],
   "source": [
    "def run_experiment(do_explore=False, do_exploit=False, interval=5, n_steps=200):\n",
    "    \n",
    "    # Create population\n",
    "    population = [\n",
    "        Worker(\n",
    "            theta=np.array([0.9, 0.9]),\n",
    "            h=np.array([1.0, 0.0]),\n",
    "            objective=objective,\n",
    "            surrogate_objective=surrogate_objective,\n",
    "            id=0,\n",
    "        ),\n",
    "        Worker(\n",
    "            theta=np.array([0.9, 0.9]),\n",
    "            h=np.array([0.0, 1.0]),\n",
    "            objective=objective,\n",
    "            surrogate_objective=surrogate_objective,\n",
    "            id=1,\n",
    "        ),\n",
    "    ]\n",
    "    \n",
    "    # Training part can be parallelized\n",
    "    # Train\n",
    "    for step in range(n_steps):\n",
    "        for worker in population:\n",
    "            if not (step + 1) % interval:\n",
    "                \n",
    "                if do_exploit:\n",
    "                    worker.exploit(population)\n",
    "                    \n",
    "                if do_explore:\n",
    "                    worker.explore()\n",
    "            \n",
    "            worker.step()\n",
    "    \n",
    "    return population"
   ]
  },
  {
   "cell_type": "code",
   "execution_count": 14,
   "metadata": {
    "collapsed": true
   },
   "outputs": [],
   "source": [
    "# Run experiments w/ various PBT settings\n",
    "np.random.seed(0)\n",
    "pbt = run_experiment(do_explore=True, do_exploit=True) # Explore and exploit\n",
    "explore = run_experiment(do_explore=True, do_exploit=False) # Explore only\n",
    "exploit = run_experiment(do_explore=False, do_exploit=True) # Exploit only\n",
    "grid = run_experiment(do_explore=False, do_exploit=False) # regular grid search"
   ]
  },
  {
   "cell_type": "code",
   "execution_count": 17,
   "metadata": {},
   "outputs": [
    {
     "data": {
      "image/png": "[encoded data removed]",
      "text/plain": [
       "<matplotlib.figure.Figure at 0x7f2b7c3e1208>"
      ]
     },
     "metadata": {},
     "output_type": "display_data"
    }
   ],
   "source": [
    "import matplotlib.pyplot as plt\n",
    "%matplotlib inline\n",
    "\n",
    "\n",
    "def plot_score(ax, workers, run_name):\n",
    "    \"\"\" Plot performance \"\"\"\n",
    "    for worker in workers:\n",
    "        history = worker.history\n",
    "        _ = ax.plot(history['score'], label=\"%s worker %d\" % (run_name, worker.id), alpha=0.5)\n",
    "    \n",
    "    _ = ax.set_title(run_name)\n",
    "    _ = ax.set_ylim(-1, 1.3)\n",
    "    _ = ax.axhline(1.2, c='lightgrey')\n",
    "\n",
    "fig, ((ax1, ax2), (ax3, ax4)) = plt.subplots(nrows=2, ncols=2, figsize=(12, 8))\n",
    "plot_score(ax1, pbt, 'pbt')\n",
    "plot_score(ax2, explore, 'explore only')\n",
    "plot_score(ax3, exploit, 'exploit only')\n",
    "plot_score(ax4, grid, 'grid')\n",
    "_ = plt.tight_layout(pad=1)\n",
    "plt.show()"
   ]
  },
  {
   "cell_type": "code",
   "execution_count": 16,
   "metadata": {},
   "outputs": [
    {
     "data": {
      "image/png": "[encoded data removed]",
      "text/plain": [
       "<matplotlib.figure.Figure at 0x7f2b7c2fe7b8>"
      ]
     },
     "metadata": {},
     "output_type": "display_data"
    }
   ],
   "source": [
    "def plot_theta(ax, workers, run_name):\n",
    "    \"\"\" Plot values of theta \"\"\"\n",
    "    for worker in workers:\n",
    "        history = worker.history\n",
    "        _ = ax.scatter(history['theta'][:,0], history['theta'][:,1], \n",
    "            s=2, alpha=0.5, label=\"%s worker %d\" % (run_name, worker.id))\n",
    "    \n",
    "    _ = ax.set_title(run_name)\n",
    "    _ = ax.set_xlim(0, 1)\n",
    "    _ = ax.set_ylim(0, 1)\n",
    "\n",
    "fig, ((ax1, ax2), (ax3, ax4)) = plt.subplots(nrows=2, ncols=2, figsize=(12, 8))\n",
    "plot_theta(ax1, pbt, 'pbt')\n",
    "plot_theta(ax2, explore, 'explore only')\n",
    "plot_theta(ax3, exploit, 'exploit only')\n",
    "plot_theta(ax4, grid, 'grid')\n",
    "_ = plt.tight_layout(pad=1)\n",
    "plt.show()"
   ]
  },
  {
   "cell_type": "markdown",
   "metadata": {},
   "source": [
    "As you see in the above figures, the main improvement comes from the exploitation and the exploration adds only small modification. "
   ]
  },
  {
   "cell_type": "markdown",
   "metadata": {},
   "source": [
    "# Optimize Neural Network\n",
    "\n",
    "Implementation comes form [this repository](https://github.com/MattKleinsmith/pbt) and [this repository](https://github.com/saschaschramm/PopulationBasedTraining). \n"
   ]
  },
  {
   "cell_type": "code",
   "execution_count": 14,
   "metadata": {
    "collapsed": true
   },
   "outputs": [],
   "source": [
    "import numpy as np\n",
    "\n",
    "def transform(x, conf):\n",
    "    if conf == \"log_continuous\":\n",
    "        x = 10**x\n",
    "    elif conf == \"integer\":\n",
    "        x = int(np.ceil(x))\n",
    "    elif conf == \"log_integer\":\n",
    "        x = int(np.ceil(10**x))\n",
    "    return x\n",
    "\n",
    "\n",
    "def inverse_transform(x, conf):\n",
    "    if conf == \"log_continuous\":\n",
    "        x = np.log10(x)\n",
    "    elif conf == \"log_integer\":\n",
    "        x = np.log10(x)\n",
    "    return x\n",
    "\n",
    "\n",
    "def _random_sample(params_conf):\n",
    "    \"\"\"Sample parameters at random with dictionary format\n",
    "\n",
    "    Parameters\n",
    "    ----------\n",
    "    params_conf: list(dict) or dict\n",
    "\n",
    "    Returns\n",
    "    -------\n",
    "    params_dict : dict\n",
    "        key is a name of each parameter\n",
    "    \"\"\"\n",
    "    if len(params_conf) == 0 or not isinstance(params_conf[0], list):\n",
    "        params_conf = [params_conf]\n",
    "    params_conf = random.sample(params_conf, k=1)[0]\n",
    "    params_dict = {}\n",
    "    for conf in params_conf:\n",
    "        name = conf[\"name\"]\n",
    "        domain = conf[\"domain\"]\n",
    "        type_ = conf[\"type\"]\n",
    "        if type_ == \"log_continuous\":\n",
    "            param = 10 ** np.random.uniform(domain[0], domain[1])\n",
    "        elif type_ == \"continuous\":\n",
    "            param = np.random.uniform(domain[0], domain[1])\n",
    "        elif type_ == \"log_integer\":\n",
    "            param = int(10 ** np.random.uniform(domain[0], domain[1]))\n",
    "        elif type_ == \"integer\":\n",
    "            param = np.random.randint(domain[0], domain[1] + 1)\n",
    "        elif type_ == \"categorical\":\n",
    "            param = random.sample(domain, k=1)[0]\n",
    "        param = inverse_transform(param, type_)\n",
    "        params_dict[name] = param\n",
    "    return params_dict\n",
    "\n",
    "\n",
    "def random_sample(params_conf, x=None):\n",
    "    if x is None:\n",
    "        x = defaultdict(lambda: None)\n",
    "    if isinstance(params_conf, dict):\n",
    "        for key, conf in params_conf.items():\n",
    "            x[key] = random_sample(conf, x[key])\n",
    "    else:\n",
    "        x = _random_sample(params_conf)\n",
    "    return x"
   ]
  },
  {
   "cell_type": "code",
   "execution_count": 13,
   "metadata": {},
   "outputs": [
    {
     "ename": "SyntaxError",
     "evalue": "invalid syntax (<ipython-input-13-1b79d9d27f45>, line 11)",
     "output_type": "error",
     "traceback": [
      "\u001b[0;36m  File \u001b[0;32m\"<ipython-input-13-1b79d9d27f45>\"\u001b[0;36m, line \u001b[0;32m11\u001b[0m\n\u001b[0;31m    if name = \"dense\":\u001b[0m\n\u001b[0m            ^\u001b[0m\n\u001b[0;31mSyntaxError\u001b[0m\u001b[0;31m:\u001b[0m invalid syntax\n"
     ]
    }
   ],
   "source": [
    "from tensorflow.contrib import keras\n",
    "from copy import deepcopy\n",
    "import gc\n",
    "\n",
    "def build_model(params):\n",
    "    model = keras.models.Sequential()\n",
    "    for param in params:\n",
    "        param = deepcopy(param)\n",
    "        name = param[\"name\"].lower()\n",
    "        del param[\"name\"]\n",
    "        if name = \"dense\":\n",
    "            model.add(keras.layers.Dense(**param))\n",
    "        elif name == \"conv2d\":\n",
    "            model.add(keras.layers.Conv2D(**param))\n",
    "    model.compile(optimizer='rmsprop',\n",
    "                  loss='categorical_crossentropy',\n",
    "                  metrics=['accuracy'])\n",
    "    return model\n",
    "            \n",
    "            \n",
    "\n",
    "class Worker:\n",
    "    def __init__(self, id, params, performance=None):\n",
    "        self.id = id\n",
    "        self.performance = performance\n",
    "        self.build_model(params)\n",
    "        \n",
    "    def build_model(self, params):\n",
    "        self.model = build_model(params)\n",
    "        \n",
    "    def fit(self, X, y, resource):\n",
    "        self.model.fit(X, y, batch_size=self.batch_size, epochs=resource)\n",
    "        \n",
    "    def eval(self, X, y):\n",
    "        score = self.model.evaluate(X, y, batch_size=self.batch_size)\n",
    "        return score\n",
    "    \n",
    "    \n",
    "        \n",
    "        \n",
    "class Manager:\n",
    "    def __init__(self, save_dir, population):\n",
    "        self.save_dir = save_dir\n",
    "        \n",
    "    def resume_model(self, id):\n",
    "        pass\n",
    "    \n",
    "    def save_model(self, id):\n",
    "        pass\n",
    "    \n",
    "    def train_model(self, id, resource):\n",
    "        worker = population[id]\n",
    "        worker.fit(self.X, self.y, epochs=resource)\n",
    "    \n",
    "    \n",
    "def generate_parmas():\n",
    "    params_conf = [{\"name\": \"num_layer\", \"type\": \"integer\", \"domain\": (1, 10)},\n",
    "                   {\"name\": \"num_units\", \"type\": \"log_integer\", \"domain\": (0, 3)},\n",
    "                   {\"name\": \"learning_rate\", \"type\": \"log_continuous\", \"domain\": (-1, -5)}]\n",
    "    params = random_sample(params_conf)\n",
    "    return params\n",
    "\n",
    "\n",
    "def generate_noise():\n",
    "    params_conf = [{\"name\": \"num_layer\", \"type\": \"integer\", \"domain\": (-1, 1)},\n",
    "                   {\"name\": \"num_units\", \"type\": \"integer\", \"domain\": (-200, 200)},\n",
    "                   {\"name\": \"learning_rate\", \"type\": \"log_continuous\", \"domain\": (-5, -1)}]\n",
    "    params = random_sample(params_conf)\n",
    "    return params\n",
    "\n",
    "\n",
    "def explore(config, mutations, resample_probability, custom_explore_fn):\n",
    "    \"\"\"Return a config perturbed as specified.\n",
    "    Args:\n",
    "        config (dict): Original hyperparameter configuration.\n",
    "        mutations (dict): Specification of mutations to perform as documented\n",
    "            in the PopulationBasedTraining scheduler.\n",
    "        resample_probability (float): Probability of allowing resampling of a\n",
    "            particular variable.\n",
    "        custom_explore_fn (func): Custom explore fn applied after built-in\n",
    "            config perturbations are.\n",
    "    \"\"\"\n",
    "    new_config = copy.deepcopy(config)\n",
    "    for key, distribution in mutations.items():\n",
    "        if isinstance(distribution, list):\n",
    "            if random.random() < resample_probability or \\\n",
    "                    config[key] not in distribution:\n",
    "                new_config[key] = random.choice(distribution)\n",
    "            elif random.random() > 0.5:\n",
    "                new_config[key] = distribution[\n",
    "                    max(0, distribution.index(config[key]) - 1)]\n",
    "            else:\n",
    "                new_config[key] = distribution[\n",
    "                    min(len(distribution) - 1,\n",
    "                        distribution.index(config[key]) + 1)]\n",
    "        else:\n",
    "            if random.random() < resample_probability:\n",
    "                new_config[key] = distribution()\n",
    "            elif random.random() > 0.5:\n",
    "                new_config[key] = config[key] * 1.2\n",
    "            else:\n",
    "                new_config[key] = config[key] * 0.8\n",
    "            if type(config[key]) is int:\n",
    "                new_config[key] = int(new_config[key])\n",
    "    if custom_explore_fn:\n",
    "        new_config = custom_explore_fn(new_config)\n",
    "        assert new_config is not None, \\\n",
    "            \"Custom explore fn failed to return new config\"\n",
    "    print(\n",
    "        \"[explore] perturbed config from {} -> {}\".format(config, new_config))\n",
    "    return new_config\n",
    "\n",
    "def run_experiment(X, y, validate_X, validate_y, num_popualtion=20,\n",
    "                   num_epochs=100, interval=10, ratio=0.2):\n",
    "    # Initialize population\n",
    "    population = dict()\n",
    "    for i in range(num_popualtion):\n",
    "        params = generate_params()\n",
    "        worker = Worker(id=i, params=params)\n",
    "        population[i] = worker\n",
    "    \n",
    "    num_try = num_epochs // interval\n",
    "    for i in range(num_try):\n",
    "        accuracies = dict()\n",
    "        for key, worker in population.items():\n",
    "            worker.fit(X, y, interval)\n",
    "            accuracies[key] = worker.eval(validate_X, validate_y)\n",
    "        num_survive = max(1, int(ratio * num_population))\n",
    "        srot_idx = np.argsort(list(accuracies.values()))[::-1]\n",
    "        top_idx = sort_idx[:num_survive]\n",
    "        top_keys = list(population.keys())[top_idx]\n",
    "        bottom_idx = sort_idx[num_survive:]\n",
    "        bottom_keys = list(population.keys())[bottom_idx]\n",
    "        for key in bottom_keys:\n",
    "            # Exploitation\n",
    "            worker = population[key]\n",
    "            del worker.model\n",
    "            gc.collect()\n",
    "            best_key = np.random.choice(top_keys)\n",
    "            best_params = population[best_key].get_params()\n",
    "            worker.build_model(best_params)\n",
    "            # Exploration\n",
    "            "
   ]
  },
  {
   "cell_type": "code",
   "execution_count": 56,
   "metadata": {},
   "outputs": [
    {
     "data": {
      "text/plain": [
       "0"
      ]
     },
     "execution_count": 56,
     "metadata": {},
     "output_type": "execute_result"
    }
   ],
   "source": [
    "import numpy as np\n",
    "\n",
    "np.random.choice([-1, 0, 1], p=[0.25, 0.5, 0.25])"
   ]
  },
  {
   "cell_type": "code",
   "execution_count": 10,
   "metadata": {
    "collapsed": true
   },
   "outputs": [],
   "source": [
    "tf.reset_default_graph()"
   ]
  },
  {
   "cell_type": "code",
   "execution_count": 5,
   "metadata": {
    "collapsed": true
   },
   "outputs": [],
   "source": [
    "def square(x):\n",
    "    return tf.multiply(x, x)"
   ]
  },
  {
   "cell_type": "code",
   "execution_count": 6,
   "metadata": {},
   "outputs": [
    {
     "data": {
      "text/plain": [
       "[<tf.Tensor: id=11, shape=(), dtype=float32, numpy=6.0>]"
      ]
     },
     "execution_count": 6,
     "metadata": {},
     "output_type": "execute_result"
    }
   ],
   "source": [
    "grad = tfe.gradients_function(square)\n",
    "grad(3.)"
   ]
  },
  {
   "cell_type": "code",
   "execution_count": 13,
   "metadata": {},
   "outputs": [
    {
     "data": {
      "text/plain": [
       "array([[4.]], dtype=float32)"
      ]
     },
     "execution_count": 13,
     "metadata": {},
     "output_type": "execute_result"
    }
   ],
   "source": [
    "m.numpy()"
   ]
  },
  {
   "cell_type": "code",
   "execution_count": 14,
   "metadata": {},
   "outputs": [
    {
     "data": {
      "text/plain": [
       "<tf.Tensor: id=2, shape=(1, 1), dtype=float32, numpy=array([[4.]], dtype=float32)>"
      ]
     },
     "execution_count": 14,
     "metadata": {},
     "output_type": "execute_result"
    }
   ],
   "source": [
    "m\n"
   ]
  },
  {
   "cell_type": "code",
   "execution_count": null,
   "metadata": {
    "collapsed": true
   },
   "outputs": [],
   "source": []
  },
  {
   "cell_type": "code",
   "execution_count": 18,
   "metadata": {
    "collapsed": true
   },
   "outputs": [],
   "source": [
    "def test_func(x, y):\n",
    "    return(x + y)**2"
   ]
  },
  {
   "cell_type": "code",
   "execution_count": 21,
   "metadata": {},
   "outputs": [
    {
     "ename": "RuntimeError",
     "evalue": "tf.placeholder() is not compatible with eager execution.",
     "output_type": "error",
     "traceback": [
      "\u001b[0;31m---------------------------------------------------------------------------\u001b[0m",
      "\u001b[0;31mRuntimeError\u001b[0m                              Traceback (most recent call last)",
      "\u001b[0;32m<ipython-input-21-a8b6a04f053f>\u001b[0m in \u001b[0;36m<module>\u001b[0;34m()\u001b[0m\n\u001b[1;32m      1\u001b[0m \u001b[0mgrad\u001b[0m \u001b[0;34m=\u001b[0m \u001b[0mtfe\u001b[0m\u001b[0;34m.\u001b[0m\u001b[0mgradients_function\u001b[0m\u001b[0;34m(\u001b[0m\u001b[0mtest_func\u001b[0m\u001b[0;34m)\u001b[0m\u001b[0;34m\u001b[0m\u001b[0m\n\u001b[0;32m----> 2\u001b[0;31m \u001b[0mx\u001b[0m \u001b[0;34m=\u001b[0m \u001b[0mtf\u001b[0m\u001b[0;34m.\u001b[0m\u001b[0mplaceholder\u001b[0m\u001b[0;34m(\u001b[0m\u001b[0mtf\u001b[0m\u001b[0;34m.\u001b[0m\u001b[0mfloat32\u001b[0m\u001b[0;34m)\u001b[0m\u001b[0;34m\u001b[0m\u001b[0m\n\u001b[0m\u001b[1;32m      3\u001b[0m \u001b[0my\u001b[0m \u001b[0;34m=\u001b[0m \u001b[0mtf\u001b[0m\u001b[0;34m.\u001b[0m\u001b[0mpalcehodler\u001b[0m\u001b[0;34m(\u001b[0m\u001b[0mtf\u001b[0m\u001b[0;34m.\u001b[0m\u001b[0mfloat32\u001b[0m\u001b[0;34m)\u001b[0m\u001b[0;34m\u001b[0m\u001b[0m\n\u001b[1;32m      4\u001b[0m \u001b[0mgrad\u001b[0m\u001b[0;34m(\u001b[0m\u001b[0mx\u001b[0m\u001b[0;34m,\u001b[0m \u001b[0my\u001b[0m\u001b[0;34m)\u001b[0m\u001b[0;34m\u001b[0m\u001b[0m\n",
      "\u001b[0;32m~/anaconda3/lib/python3.6/site-packages/tensorflow/python/ops/array_ops.py\u001b[0m in \u001b[0;36mplaceholder\u001b[0;34m(dtype, shape, name)\u001b[0m\n\u001b[1;32m   1675\u001b[0m   \"\"\"\n\u001b[1;32m   1676\u001b[0m   \u001b[0;32mif\u001b[0m \u001b[0mcontext\u001b[0m\u001b[0;34m.\u001b[0m\u001b[0min_eager_mode\u001b[0m\u001b[0;34m(\u001b[0m\u001b[0;34m)\u001b[0m\u001b[0;34m:\u001b[0m\u001b[0;34m\u001b[0m\u001b[0m\n\u001b[0;32m-> 1677\u001b[0;31m     raise RuntimeError(\"tf.placeholder() is not compatible with \"\n\u001b[0m\u001b[1;32m   1678\u001b[0m                        \"eager execution.\")\n\u001b[1;32m   1679\u001b[0m \u001b[0;34m\u001b[0m\u001b[0m\n",
      "\u001b[0;31mRuntimeError\u001b[0m: tf.placeholder() is not compatible with eager execution."
     ]
    }
   ],
   "source": [
    "grad = tfe.gradients_function(test_func)\n",
    "x = tf.placeholder(tf.float32)\n",
    "y = tf.palcehodler(tf.float32)\n",
    "grad(x, y)"
   ]
  },
  {
   "cell_type": "code",
   "execution_count": 1,
   "metadata": {
    "collapsed": true
   },
   "outputs": [],
   "source": [
    "import numpy as np"
   ]
  },
  {
   "cell_type": "code",
   "execution_count": 18,
   "metadata": {},
   "outputs": [
    {
     "data": {
      "text/plain": [
       "0.6853389164238846"
      ]
     },
     "execution_count": 18,
     "metadata": {},
     "output_type": "execute_result"
    }
   ],
   "source": [
    "import random\n",
    "random.random()"
   ]
  },
  {
   "cell_type": "code",
   "execution_count": 14,
   "metadata": {
    "collapsed": true
   },
   "outputs": [],
   "source": [
    "from sklearn import datasets\n",
    "\n",
    "data = datasets.load_iris()"
   ]
  },
  {
   "cell_type": "code",
   "execution_count": 16,
   "metadata": {},
   "outputs": [
    {
     "data": {
      "text/plain": [
       "array([0, 0, 0, 0, 0, 0, 0, 0, 0, 0, 0, 0, 0, 0, 0, 0, 0, 0, 0, 0, 0, 0,\n",
       "       0, 0, 0, 0, 0, 0, 0, 0, 0, 0, 0, 0, 0, 0, 0, 0, 0, 0, 0, 0, 0, 0,\n",
       "       0, 0, 0, 0, 0, 0, 1, 1, 1, 1, 1, 1, 1, 1, 1, 1, 1, 1, 1, 1, 1, 1,\n",
       "       1, 1, 1, 1, 1, 1, 1, 1, 1, 1, 1, 1, 1, 1, 1, 1, 1, 1, 1, 1, 1, 1,\n",
       "       1, 1, 1, 1, 1, 1, 1, 1, 1, 1, 1, 1, 2, 2, 2, 2, 2, 2, 2, 2, 2, 2,\n",
       "       2, 2, 2, 2, 2, 2, 2, 2, 2, 2, 2, 2, 2, 2, 2, 2, 2, 2, 2, 2, 2, 2,\n",
       "       2, 2, 2, 2, 2, 2, 2, 2, 2, 2, 2, 2, 2, 2, 2, 2, 2, 2])"
      ]
     },
     "execution_count": 16,
     "metadata": {},
     "output_type": "execute_result"
    }
   ],
   "source": [
    "data.target"
   ]
  },
  {
   "cell_type": "code",
   "execution_count": 2,
   "metadata": {},
   "outputs": [
    {
     "ename": "SyntaxError",
     "evalue": "invalid syntax (<ipython-input-2-938a4ea820c4>, line 1)",
     "output_type": "error",
     "traceback": [
      "\u001b[0;36m  File \u001b[0;32m\"<ipython-input-2-938a4ea820c4>\"\u001b[0;36m, line \u001b[0;32m1\u001b[0m\n\u001b[0;31m    X = |\u001b[0m\n\u001b[0m        ^\u001b[0m\n\u001b[0;31mSyntaxError\u001b[0m\u001b[0;31m:\u001b[0m invalid syntax\n"
     ]
    }
   ],
   "source": [
    "X = |"
   ]
  },
  {
   "cell_type": "code",
   "execution_count": 3,
   "metadata": {
    "collapsed": true
   },
   "outputs": [],
   "source": [
    "from hedgeable_ai.functions.preprocessing import Imputer"
   ]
  },
  {
   "cell_type": "code",
   "execution_count": 4,
   "metadata": {
    "collapsed": true
   },
   "outputs": [],
   "source": [
    "imp = Imputer()"
   ]
  },
  {
   "cell_type": "code",
   "execution_count": 5,
   "metadata": {},
   "outputs": [
    {
     "data": {
      "text/plain": [
       "'Imputer'"
      ]
     },
     "execution_count": 5,
     "metadata": {},
     "output_type": "execute_result"
    }
   ],
   "source": [
    "imp.model_type"
   ]
  },
  {
   "cell_type": "code",
   "execution_count": 6,
   "metadata": {
    "collapsed": true
   },
   "outputs": [],
   "source": [
    "[].insert(0, 3)"
   ]
  },
  {
   "cell_type": "code",
   "execution_count": 9,
   "metadata": {},
   "outputs": [
    {
     "data": {
      "text/plain": [
       "[3]"
      ]
     },
     "execution_count": 9,
     "metadata": {},
     "output_type": "execute_result"
    }
   ],
   "source": [
    "x = []\n",
    "x.insert(0, 3)\n",
    "x"
   ]
  },
  {
   "cell_type": "code",
   "execution_count": 13,
   "metadata": {},
   "outputs": [
    {
     "data": {
      "text/plain": [
       "False"
      ]
     },
     "execution_count": 13,
     "metadata": {},
     "output_type": "execute_result"
    }
   ],
   "source": [
    "import numpy as np\n",
    "X[0][0] = np.nan\n",
    "np.isfinite(X).all()"
   ]
  },
  {
   "cell_type": "code",
   "execution_count": 3,
   "metadata": {},
   "outputs": [
    {
     "ename": "ValueError",
     "evalue": "all the input array dimensions except for the concatenation axis must match exactly",
     "output_type": "error",
     "traceback": [
      "\u001b[0;31m---------------------------------------------------------------------------\u001b[0m",
      "\u001b[0;31mValueError\u001b[0m                                Traceback (most recent call last)",
      "\u001b[0;32m<ipython-input-3-ec477ee8485a>\u001b[0m in \u001b[0;36m<module>\u001b[0;34m()\u001b[0m\n\u001b[1;32m      1\u001b[0m \u001b[0;32mimport\u001b[0m \u001b[0mnumpy\u001b[0m \u001b[0;32mas\u001b[0m \u001b[0mnp\u001b[0m\u001b[0;34m\u001b[0m\u001b[0m\n\u001b[1;32m      2\u001b[0m \u001b[0;34m\u001b[0m\u001b[0m\n\u001b[0;32m----> 3\u001b[0;31m \u001b[0mnp\u001b[0m\u001b[0;34m.\u001b[0m\u001b[0mvstack\u001b[0m\u001b[0;34m(\u001b[0m\u001b[0;34m(\u001b[0m\u001b[0;34m[\u001b[0m\u001b[0;34m[\u001b[0m\u001b[0;36m1\u001b[0m\u001b[0;34m,\u001b[0m\u001b[0;36m2\u001b[0m\u001b[0;34m]\u001b[0m\u001b[0;34m,\u001b[0m \u001b[0;34m[\u001b[0m\u001b[0;36m3\u001b[0m\u001b[0;34m,\u001b[0m \u001b[0;36m4\u001b[0m\u001b[0;34m]\u001b[0m\u001b[0;34m]\u001b[0m\u001b[0;34m,\u001b[0m \u001b[0;34m[\u001b[0m\u001b[0;34m[\u001b[0m\u001b[0;36m1\u001b[0m\u001b[0;34m]\u001b[0m\u001b[0;34m,\u001b[0m \u001b[0;34m[\u001b[0m\u001b[0;36m3\u001b[0m\u001b[0;34m]\u001b[0m\u001b[0;34m,\u001b[0m \u001b[0;34m[\u001b[0m\u001b[0;36m5\u001b[0m\u001b[0;34m]\u001b[0m\u001b[0;34m]\u001b[0m\u001b[0;34m)\u001b[0m\u001b[0;34m)\u001b[0m\u001b[0;34m\u001b[0m\u001b[0m\n\u001b[0m",
      "\u001b[0;32m~/anaconda3/lib/python3.6/site-packages/numpy/core/shape_base.py\u001b[0m in \u001b[0;36mvstack\u001b[0;34m(tup)\u001b[0m\n\u001b[1;32m    232\u001b[0m \u001b[0;34m\u001b[0m\u001b[0m\n\u001b[1;32m    233\u001b[0m     \"\"\"\n\u001b[0;32m--> 234\u001b[0;31m     \u001b[0;32mreturn\u001b[0m \u001b[0m_nx\u001b[0m\u001b[0;34m.\u001b[0m\u001b[0mconcatenate\u001b[0m\u001b[0;34m(\u001b[0m\u001b[0;34m[\u001b[0m\u001b[0matleast_2d\u001b[0m\u001b[0;34m(\u001b[0m\u001b[0m_m\u001b[0m\u001b[0;34m)\u001b[0m \u001b[0;32mfor\u001b[0m \u001b[0m_m\u001b[0m \u001b[0;32min\u001b[0m \u001b[0mtup\u001b[0m\u001b[0;34m]\u001b[0m\u001b[0;34m,\u001b[0m \u001b[0;36m0\u001b[0m\u001b[0;34m)\u001b[0m\u001b[0;34m\u001b[0m\u001b[0m\n\u001b[0m\u001b[1;32m    235\u001b[0m \u001b[0;34m\u001b[0m\u001b[0m\n\u001b[1;32m    236\u001b[0m \u001b[0;32mdef\u001b[0m \u001b[0mhstack\u001b[0m\u001b[0;34m(\u001b[0m\u001b[0mtup\u001b[0m\u001b[0;34m)\u001b[0m\u001b[0;34m:\u001b[0m\u001b[0;34m\u001b[0m\u001b[0m\n",
      "\u001b[0;31mValueError\u001b[0m: all the input array dimensions except for the concatenation axis must match exactly"
     ]
    }
   ],
   "source": [
    "import numpy as np\n",
    "\n",
    "np.vstack(([[1,2], [3, 4]], [[1], [3], [5]]))"
   ]
  },
  {
   "cell_type": "code",
   "execution_count": null,
   "metadata": {
    "collapsed": true
   },
   "outputs": [],
   "source": []
  }
 ],
 "metadata": {
  "kernelspec": {
   "display_name": "Python 3",
   "language": "python",
   "name": "python3"
  },
  "language_info": {
   "codemirror_mode": {
    "name": "ipython",
    "version": 3
   },
   "file_extension": ".py",
   "mimetype": "text/x-python",
   "name": "python",
   "nbconvert_exporter": "python",
   "pygments_lexer": "ipython3",
   "version": "3.6.3"
  }
 },
 "nbformat": 4,
 "nbformat_minor": 2
}
