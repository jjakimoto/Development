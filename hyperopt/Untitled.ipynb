{
 "cells": [
  {
   "cell_type": "code",
   "execution_count": 1,
   "metadata": {},
   "outputs": [
    {
     "name": "stdout",
     "output_type": "stream",
     "text": [
      "Populating the interactive namespace from numpy and matplotlib\n"
     ]
    }
   ],
   "source": [
    "\n",
    "%pylab inline  \n",
    "import GPyOpt\n",
    "from numpy.random import seed\n",
    "import numpy as np\n",
    "seed(123)"
   ]
  },
  {
   "cell_type": "code",
   "execution_count": 2,
   "metadata": {},
   "outputs": [],
   "source": [
    "func  = GPyOpt.objective_examples.experimentsNd.alpine1(input_dim=9)"
   ]
  },
  {
   "cell_type": "code",
   "execution_count": 10,
   "metadata": {},
   "outputs": [],
   "source": [
    "\n",
    "mixed_domain =[{'name': 'var1', 'type': 'continuous', 'domain': (-5,5),'dimensionality': 3},\n",
    "               {'name': 'var3', 'type': 'discrete', 'domain': (3,8,10),'dimensionality': 2},\n",
    "               {'name': 'var4', 'type': 'categorical', 'domain': (0,1,2),'dimensionality': 1},\n",
    "               {'name': 'var5', 'type': 'integer', 'domain': (-1,2)}]"
   ]
  },
  {
   "cell_type": "code",
   "execution_count": 11,
   "metadata": {},
   "outputs": [],
   "source": [
    "myBopt = GPyOpt.methods.BayesianOptimization(f=func.f,                     # Objective function       \n",
    "                                             domain=mixed_domain,          # Box-constraints of the problem\n",
    "                                             initial_design_numdata = 5,   # Number data initial design\n",
    "                                             acquisition_type='EI',        # Expected Improvement\n",
    "                                             exact_feval = True)           # True evaluations, no sample noise"
   ]
  },
  {
   "cell_type": "code",
   "execution_count": 12,
   "metadata": {},
   "outputs": [],
   "source": [
    "max_iter = 20       ## maximum number of iterations\n",
    "max_time = 60       ## maximum allowed time\n",
    "eps      = 1e-6     ## tolerance, max distance between consicutive evaluations.\n",
    "\n",
    "myBopt.run_optimization(max_iter,eps=0)"
   ]
  },
  {
   "cell_type": "code",
   "execution_count": 9,
   "metadata": {
    "collapsed": true
   },
   "outputs": [],
   "source": [
    "import numpy as np\n",
    "from sklearn import datasets\n",
    "\n",
    "data = datasets.load_iris()\n",
    "X = data.data\n",
    "y = data.target\n",
    "\n",
    "dim = X.shape[1]\n",
    "num_data = X.shape[0]\n",
    "new_Xs = []\n",
    "index = np.arange(num_data)\n",
    "for j in range(dim):\n",
    "    nan_idx = np.random.choice(index, int(0.5 * num_data))\n",
    "    for i in nan_idx:\n",
    "        X[i][j] = np.nan"
   ]
  },
  {
   "cell_type": "code",
   "execution_count": 17,
   "metadata": {},
   "outputs": [
    {
     "data": {
      "text/plain": [
       "array([[5.1       , 3.07701149, 3.82444444, 1.2032967 ],\n",
       "       [5.80222222, 3.07701149, 1.4       , 0.2       ],\n",
       "       [5.80222222, 3.2       , 1.3       , 1.2032967 ],\n",
       "       [4.6       , 3.1       , 1.5       , 1.2032967 ],\n",
       "       [5.80222222, 3.07701149, 3.82444444, 0.2       ],\n",
       "       [5.80222222, 3.9       , 3.82444444, 1.2032967 ],\n",
       "       [4.6       , 3.4       , 1.4       , 0.3       ],\n",
       "       [5.        , 3.4       , 1.5       , 0.2       ],\n",
       "       [4.4       , 3.07701149, 1.4       , 0.2       ],\n",
       "       [4.9       , 3.07701149, 3.82444444, 0.1       ],\n",
       "       [5.80222222, 3.07701149, 1.5       , 0.2       ],\n",
       "       [5.80222222, 3.07701149, 1.6       , 0.2       ],\n",
       "       [5.80222222, 3.        , 3.82444444, 0.1       ],\n",
       "       [5.80222222, 3.        , 1.1       , 0.1       ],\n",
       "       [5.80222222, 4.        , 3.82444444, 0.2       ],\n",
       "       [5.80222222, 3.07701149, 1.5       , 0.4       ],\n",
       "       [5.4       , 3.07701149, 1.3       , 1.2032967 ],\n",
       "       [5.1       , 3.5       , 3.82444444, 0.3       ],\n",
       "       [5.80222222, 3.07701149, 1.7       , 1.2032967 ],\n",
       "       [5.1       , 3.8       , 1.5       , 1.2032967 ],\n",
       "       [5.4       , 3.4       , 1.7       , 0.2       ],\n",
       "       [5.1       , 3.7       , 3.82444444, 0.4       ],\n",
       "       [4.6       , 3.6       , 1.        , 0.2       ],\n",
       "       [5.80222222, 3.3       , 3.82444444, 1.2032967 ],\n",
       "       [4.8       , 3.4       , 3.82444444, 0.2       ],\n",
       "       [5.80222222, 3.07701149, 3.82444444, 0.2       ],\n",
       "       [5.        , 3.4       , 3.82444444, 1.2032967 ],\n",
       "       [5.2       , 3.07701149, 3.82444444, 0.2       ],\n",
       "       [5.2       , 3.07701149, 1.4       , 1.2032967 ],\n",
       "       [4.7       , 3.2       , 1.6       , 0.2       ],\n",
       "       [4.8       , 3.1       , 1.6       , 0.2       ],\n",
       "       [5.4       , 3.4       , 3.82444444, 0.4       ],\n",
       "       [5.80222222, 3.07701149, 1.5       , 1.2032967 ],\n",
       "       [5.5       , 4.2       , 1.4       , 1.2032967 ],\n",
       "       [5.80222222, 3.1       , 1.5       , 1.2032967 ],\n",
       "       [5.        , 3.2       , 1.2       , 1.2032967 ],\n",
       "       [5.5       , 3.5       , 3.82444444, 1.2032967 ],\n",
       "       [4.9       , 3.1       , 1.5       , 1.2032967 ],\n",
       "       [5.80222222, 3.        , 3.82444444, 0.2       ],\n",
       "       [5.1       , 3.4       , 1.5       , 1.2032967 ],\n",
       "       [5.        , 3.5       , 3.82444444, 0.3       ],\n",
       "       [4.5       , 2.3       , 3.82444444, 0.3       ],\n",
       "       [4.4       , 3.2       , 3.82444444, 1.2032967 ],\n",
       "       [5.        , 3.07701149, 3.82444444, 0.6       ],\n",
       "       [5.1       , 3.07701149, 1.9       , 1.2032967 ],\n",
       "       [4.8       , 3.07701149, 1.4       , 1.2032967 ],\n",
       "       [5.80222222, 3.8       , 1.6       , 0.2       ],\n",
       "       [4.6       , 3.2       , 1.4       , 0.2       ],\n",
       "       [5.80222222, 3.07701149, 3.82444444, 0.2       ],\n",
       "       [5.        , 3.3       , 1.4       , 0.2       ],\n",
       "       [7.        , 3.2       , 3.82444444, 1.4       ],\n",
       "       [6.4       , 3.2       , 4.5       , 1.5       ],\n",
       "       [5.80222222, 3.07701149, 4.9       , 1.2032967 ],\n",
       "       [5.5       , 2.3       , 4.        , 1.3       ],\n",
       "       [6.5       , 2.8       , 4.6       , 1.5       ],\n",
       "       [5.7       , 3.07701149, 3.82444444, 1.3       ],\n",
       "       [5.80222222, 3.3       , 4.7       , 1.2032967 ],\n",
       "       [4.9       , 3.07701149, 3.82444444, 1.2032967 ],\n",
       "       [6.6       , 3.07701149, 4.6       , 1.3       ],\n",
       "       [5.80222222, 3.07701149, 3.9       , 1.4       ],\n",
       "       [5.        , 2.        , 3.82444444, 1.        ],\n",
       "       [5.9       , 3.07701149, 4.2       , 1.2032967 ],\n",
       "       [5.80222222, 3.07701149, 4.        , 1.2032967 ],\n",
       "       [6.1       , 2.9       , 4.7       , 1.4       ],\n",
       "       [5.6       , 2.9       , 3.82444444, 1.2032967 ],\n",
       "       [5.80222222, 3.07701149, 4.4       , 1.2032967 ],\n",
       "       [5.6       , 3.        , 4.5       , 1.2032967 ],\n",
       "       [5.8       , 2.7       , 4.1       , 1.        ],\n",
       "       [5.80222222, 3.07701149, 3.82444444, 1.2032967 ],\n",
       "       [5.80222222, 2.5       , 3.82444444, 1.1       ],\n",
       "       [5.9       , 3.07701149, 4.8       , 1.8       ],\n",
       "       [6.1       , 2.8       , 3.82444444, 1.2032967 ],\n",
       "       [6.3       , 2.5       , 4.9       , 1.5       ],\n",
       "       [6.1       , 3.07701149, 3.82444444, 1.2       ],\n",
       "       [5.80222222, 3.07701149, 3.82444444, 1.3       ],\n",
       "       [6.6       , 3.07701149, 3.82444444, 1.2032967 ],\n",
       "       [6.8       , 2.8       , 3.82444444, 1.4       ],\n",
       "       [5.80222222, 3.        , 5.        , 1.7       ],\n",
       "       [5.80222222, 3.07701149, 4.5       , 1.5       ],\n",
       "       [5.7       , 3.07701149, 3.5       , 1.        ],\n",
       "       [5.80222222, 3.07701149, 3.8       , 1.2032967 ],\n",
       "       [5.80222222, 3.07701149, 3.7       , 1.        ],\n",
       "       [5.8       , 3.07701149, 3.9       , 1.2       ],\n",
       "       [6.        , 2.7       , 5.1       , 1.6       ],\n",
       "       [5.80222222, 3.07701149, 3.82444444, 1.5       ],\n",
       "       [5.80222222, 3.07701149, 4.5       , 1.6       ],\n",
       "       [6.7       , 3.1       , 4.7       , 1.5       ],\n",
       "       [6.3       , 2.3       , 4.4       , 1.3       ],\n",
       "       [5.80222222, 3.07701149, 3.82444444, 1.2032967 ],\n",
       "       [5.5       , 3.07701149, 4.        , 1.3       ],\n",
       "       [5.5       , 2.6       , 3.82444444, 1.2       ],\n",
       "       [5.80222222, 3.        , 4.6       , 1.2032967 ],\n",
       "       [5.80222222, 3.07701149, 3.82444444, 1.2032967 ],\n",
       "       [5.        , 2.3       , 3.82444444, 1.        ],\n",
       "       [5.6       , 2.7       , 4.2       , 1.2032967 ],\n",
       "       [5.80222222, 3.07701149, 3.82444444, 1.2       ],\n",
       "       [5.80222222, 2.9       , 3.82444444, 1.2032967 ],\n",
       "       [5.80222222, 2.9       , 3.82444444, 1.3       ],\n",
       "       [5.1       , 3.07701149, 3.        , 1.2032967 ],\n",
       "       [5.80222222, 2.8       , 3.82444444, 1.3       ],\n",
       "       [6.3       , 3.07701149, 6.        , 1.2032967 ],\n",
       "       [5.8       , 3.07701149, 3.82444444, 1.2032967 ],\n",
       "       [5.80222222, 3.        , 5.9       , 2.1       ],\n",
       "       [5.80222222, 3.07701149, 3.82444444, 1.8       ],\n",
       "       [6.5       , 3.        , 3.82444444, 2.2       ],\n",
       "       [7.6       , 3.        , 6.6       , 1.2032967 ],\n",
       "       [4.9       , 2.5       , 4.5       , 1.2032967 ],\n",
       "       [5.80222222, 3.07701149, 6.3       , 1.8       ],\n",
       "       [6.7       , 2.5       , 5.8       , 1.2032967 ],\n",
       "       [7.2       , 3.6       , 3.82444444, 2.5       ],\n",
       "       [6.5       , 3.2       , 5.1       , 2.        ],\n",
       "       [6.4       , 3.07701149, 3.82444444, 1.2032967 ],\n",
       "       [5.80222222, 3.07701149, 5.5       , 2.1       ],\n",
       "       [5.7       , 3.07701149, 3.82444444, 1.2032967 ],\n",
       "       [5.80222222, 2.8       , 5.1       , 2.4       ],\n",
       "       [5.80222222, 3.2       , 5.3       , 1.2032967 ],\n",
       "       [6.5       , 3.        , 5.5       , 1.2032967 ],\n",
       "       [5.80222222, 3.8       , 3.82444444, 2.2       ],\n",
       "       [7.7       , 2.6       , 3.82444444, 2.3       ],\n",
       "       [5.80222222, 3.07701149, 5.        , 1.5       ],\n",
       "       [6.9       , 3.2       , 5.7       , 1.2032967 ],\n",
       "       [5.80222222, 2.8       , 4.9       , 1.2032967 ],\n",
       "       [7.7       , 2.8       , 3.82444444, 1.2032967 ],\n",
       "       [6.3       , 3.07701149, 3.82444444, 1.8       ],\n",
       "       [6.7       , 3.3       , 5.7       , 2.1       ],\n",
       "       [5.80222222, 3.2       , 6.        , 1.8       ],\n",
       "       [5.80222222, 3.07701149, 4.8       , 1.2032967 ],\n",
       "       [5.80222222, 3.        , 4.9       , 1.8       ],\n",
       "       [6.4       , 3.07701149, 3.82444444, 2.1       ],\n",
       "       [5.80222222, 3.07701149, 5.8       , 1.6       ],\n",
       "       [7.4       , 3.07701149, 3.82444444, 1.9       ],\n",
       "       [7.9       , 3.8       , 6.4       , 1.2032967 ],\n",
       "       [5.80222222, 2.8       , 5.6       , 1.2032967 ],\n",
       "       [5.80222222, 3.07701149, 3.82444444, 1.5       ],\n",
       "       [6.1       , 2.6       , 5.6       , 1.2032967 ],\n",
       "       [7.7       , 3.        , 6.1       , 2.3       ],\n",
       "       [6.3       , 3.4       , 3.82444444, 2.4       ],\n",
       "       [5.80222222, 3.1       , 5.5       , 1.2032967 ],\n",
       "       [6.        , 3.        , 3.82444444, 1.8       ],\n",
       "       [5.80222222, 3.1       , 5.4       , 2.1       ],\n",
       "       [6.7       , 3.07701149, 3.82444444, 2.4       ],\n",
       "       [5.80222222, 3.1       , 3.82444444, 2.3       ],\n",
       "       [5.8       , 3.07701149, 5.1       , 1.2032967 ],\n",
       "       [5.80222222, 3.07701149, 5.9       , 2.3       ],\n",
       "       [6.7       , 3.07701149, 5.7       , 2.5       ],\n",
       "       [6.7       , 3.        , 5.2       , 1.2032967 ],\n",
       "       [5.80222222, 2.5       , 5.        , 1.9       ],\n",
       "       [6.5       , 3.        , 5.2       , 1.2032967 ],\n",
       "       [6.2       , 3.07701149, 3.82444444, 2.3       ],\n",
       "       [5.80222222, 3.07701149, 5.1       , 1.2032967 ]])"
      ]
     },
     "execution_count": 17,
     "metadata": {},
     "output_type": "execute_result"
    }
   ],
   "source": [
    "from sklearn.preprocessing import Imputer\n",
    "\n",
    "imp = Imputer()\n",
    "imp.fit_transform(X)"
   ]
  },
  {
   "cell_type": "code",
   "execution_count": 10,
   "metadata": {},
   "outputs": [
    {
     "data": {
      "text/plain": [
       "array([  0,   1,   2,   3,   4,   5,   6,   7,   8,   9,  10,  11,  12,\n",
       "        13,  14,  15,  16,  17,  18,  19,  20,  21,  22,  23,  24,  25,\n",
       "        26,  27,  28,  29,  30,  31,  32,  33,  34,  35,  36,  37,  38,\n",
       "        39,  40,  41,  42,  43,  44,  45,  46,  47,  48,  49,  50,  51,\n",
       "        52,  53,  54,  55,  56,  57,  58,  59,  60,  61,  62,  63,  64,\n",
       "        65,  66,  67,  68,  69,  70,  71,  72,  73,  74,  75,  76,  77,\n",
       "        78,  79,  80,  81,  82,  83,  84,  85,  86,  87,  88,  89,  90,\n",
       "        91,  92,  93,  94,  95,  96,  97,  98,  99, 100, 101, 102, 103,\n",
       "       104, 105, 106, 107, 108, 109, 110, 111, 112, 113, 114, 115, 116,\n",
       "       117, 118, 119, 120, 121, 122, 123, 124, 125, 126, 127, 128, 129,\n",
       "       130, 131, 132, 133, 134, 135, 136, 137, 138, 139, 140, 141, 142,\n",
       "       143, 144, 145, 146, 147, 148, 149])"
      ]
     },
     "execution_count": 10,
     "metadata": {},
     "output_type": "execute_result"
    }
   ],
   "source": [
    "index"
   ]
  },
  {
   "cell_type": "code",
   "execution_count": 8,
   "metadata": {},
   "outputs": [
    {
     "name": "stdout",
     "output_type": "stream",
     "text": [
      "Help on method sample in module random:\n",
      "\n",
      "sample(population, k) method of random.Random instance\n",
      "    Chooses k unique random elements from a population sequence or set.\n",
      "    \n",
      "    Returns a new list containing elements from the population while\n",
      "    leaving the original population unchanged.  The resulting list is\n",
      "    in selection order so that all sub-slices will also be valid random\n",
      "    samples.  This allows raffle winners (the sample) to be partitioned\n",
      "    into grand prize and second place winners (the subslices).\n",
      "    \n",
      "    Members of the population need not be hashable or unique.  If the\n",
      "    population contains repeats, then each occurrence is a possible\n",
      "    selection in the sample.\n",
      "    \n",
      "    To choose a sample in a range of integers, use range as an argument.\n",
      "    This is especially fast and space efficient for sampling from a\n",
      "    large population:   sample(range(10000000), 60)\n",
      "\n"
     ]
    }
   ],
   "source": [
    "import random\n",
    "\n",
    "help(random.sample)"
   ]
  },
  {
   "cell_type": "code",
   "execution_count": 2,
   "metadata": {},
   "outputs": [
    {
     "data": {
      "text/plain": [
       "1"
      ]
     },
     "execution_count": 2,
     "metadata": {},
     "output_type": "execute_result"
    }
   ],
   "source": [
    "round(.501)"
   ]
  },
  {
   "cell_type": "code",
   "execution_count": null,
   "metadata": {
    "collapsed": true
   },
   "outputs": [],
   "source": []
  }
 ],
 "metadata": {
  "kernelspec": {
   "display_name": "Python 3",
   "language": "python",
   "name": "python3"
  },
  "language_info": {
   "codemirror_mode": {
    "name": "ipython",
    "version": 3
   },
   "file_extension": ".py",
   "mimetype": "text/x-python",
   "name": "python",
   "nbconvert_exporter": "python",
   "pygments_lexer": "ipython3",
   "version": "3.6.3"
  }
 },
 "nbformat": 4,
 "nbformat_minor": 2
}
