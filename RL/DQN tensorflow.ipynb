{
 "cells": [
  {
   "cell_type": "code",
   "execution_count": 1,
   "metadata": {
    "scrolled": false
   },
   "outputs": [
    {
     "name": "stderr",
     "output_type": "stream",
     "text": [
      "/home/tomoaki/anaconda3/lib/python3.6/importlib/_bootstrap.py:205: RuntimeWarning: compiletime version 3.5 of module 'tensorflow.python.framework.fast_tensor_util' does not match runtime version 3.6\n",
      "  return f(*args, **kwds)\n",
      "[2017-12-25 21:50:17,457] Making new env: Breakout-v0\n"
     ]
    },
    {
     "name": "stdout",
     "output_type": "stream",
     "text": [
      "Building tensorflow graph...\n",
      "INFO:tensorflow:Restoring parameters from ./params_20171225/model.ckpt\n"
     ]
    },
    {
     "name": "stderr",
     "output_type": "stream",
     "text": [
      "[2017-12-25 21:50:18,440] Restoring parameters from ./params_20171225/model.ckpt\n"
     ]
    },
    {
     "name": "stdout",
     "output_type": "stream",
     "text": [
      "Model restored.\n",
      "Finished building tensorflow graph, spent time: 0.5267200469970703\n"
     ]
    }
   ],
   "source": [
    "import tensorflow as tf\n",
    "import gym\n",
    "\n",
    "from rltensor.agents import DQN\n",
    "from rltensor.processors import AtariProcessor\n",
    "from rltensor.configs import dqn_config, fit_config\n",
    "from rltensor.environments import GymEnvWrapper\n",
    "\n",
    "env_name = 'Breakout-v0'\n",
    "env = gym.make(env_name)\n",
    "repeat_actions = 4\n",
    "env = GymEnvWrapper(env, repeat_actions)\n",
    "\n",
    "conf = dict(\n",
    "    action_spec={\"type\": \"int\", \"shape\": env.action_space.n},\n",
    ")\n",
    "default_config = dqn_config()\n",
    "conf.update(default_config)\n",
    "\n",
    "_fit_config = fit_config()\n",
    "# _fit_config[\"log_freq\"] = 1\n",
    "# conf[\"t_learn_start\"] = 10\n",
    "# conf[\"t_target_q_update_freq\"] = 100\n",
    "# conf[\"double_q\"] = False\n",
    "conf[\"load_file_path\"] = \"./params_20171225/model.ckpt\"\n",
    "# save_file_path = \"./debug_params/model.ckpt\"\n",
    "    \n",
    "tf.reset_default_graph()\n",
    "dqn = DQN(env=env, is_debug=False, **conf)\n",
    "# dqn.fit(save_file_path=None, **_fit_config)"
   ]
  },
  {
   "cell_type": "code",
   "execution_count": 2,
   "metadata": {
    "collapsed": true
   },
   "outputs": [],
   "source": [
    "load_file_path = \"./params/model.ckpt\"\n",
    "# runner = Runner(agent=dqn, env=env, env_name=env_name,\n",
    "#                 load_file_path=load_file_path, tensorboard_dir=\"./test_logs\")\n",
    "dqn.play(5, render_freq=1, ep=0.05)"
   ]
  },
  {
   "cell_type": "code",
   "execution_count": 3,
   "metadata": {
    "scrolled": true
   },
   "outputs": [
    {
     "name": "stderr",
     "output_type": "stream",
     "text": [
      "\n",
      "  0%|          | 0/42804072 [00:00<?, ?it/s]\u001b[A\n",
      "  0%|          | 7/42804072 [00:00<183:04:34, 64.95it/s]"
     ]
    },
    {
     "name": "stdout",
     "output_type": "stream",
     "text": [
      "Model saved in file: params/model.ckpt\n"
     ]
    },
    {
     "name": "stderr",
     "output_type": "stream",
     "text": [
      "\u001b[A\n",
      "  0%|          | 16/42804072 [00:00<172:09:48, 69.06it/s]\u001b[A\n",
      "  0%|          | 24/42804072 [00:00<165:41:42, 71.76it/s]\u001b[A\n",
      "  0%|          | 33/42804072 [00:00<156:17:31, 76.08it/s]\u001b[A\n",
      "  0%|          | 42/42804072 [00:00<152:16:57, 78.08it/s]\u001b[A\n",
      "  0%|          | 51/42804072 [00:00<150:05:15, 79.22it/s]\u001b[A\n",
      "  0%|          | 60/42804072 [00:00<147:12:49, 80.77it/s]\u001b[A\n",
      "  0%|          | 69/42804072 [00:00<143:41:00, 82.75it/s]\u001b[A\n",
      "  0%|          | 79/42804072 [00:00<142:28:23, 83.45it/s]\u001b[A\n",
      "  0%|          | 88/42804072 [00:01<141:42:10, 83.91it/s]\u001b[A\n",
      "  0%|          | 97/42804072 [00:01<140:22:34, 84.70it/s]\u001b[A\n",
      "  0%|          | 106/42804072 [00:01<138:36:34, 85.78it/s]\u001b[A\n",
      "  0%|          | 115/42804072 [00:01<142:44:31, 83.30it/s]\u001b[A\n",
      "  0%|          | 124/42804072 [00:01<153:25:46, 77.49it/s]\u001b[A\n",
      "  0%|          | 133/42804072 [00:01<148:13:46, 80.21it/s]\u001b[A\n",
      "  0%|          | 143/42804072 [00:01<144:58:18, 82.02it/s]\u001b[A\n",
      "  0%|          | 152/42804072 [00:01<142:38:18, 83.36it/s]\u001b[A\n",
      "  0%|          | 162/42804072 [00:01<138:04:17, 86.11it/s]\u001b[A\n",
      "  0%|          | 171/42804072 [00:02<138:46:17, 85.68it/s]\u001b[A\n",
      "  0%|          | 181/42804072 [00:02<135:46:52, 87.57it/s]\u001b[A\n",
      "  0%|          | 190/42804072 [00:02<135:44:38, 87.59it/s]\u001b[A\n",
      "  0%|          | 199/42804072 [00:02<140:02:26, 84.90it/s]\u001b[A\n",
      "  0%|          | 208/42804072 [00:02<140:04:05, 84.89it/s]\u001b[A\n",
      "  0%|          | 217/42804072 [00:02<140:05:36, 84.87it/s]\u001b[A\n",
      "  0%|          | 226/42804072 [00:02<139:21:42, 85.32it/s]\u001b[A\n",
      "  0%|          | 235/42804072 [00:02<143:11:13, 83.04it/s]\u001b[A\n",
      "  0%|          | 244/42804072 [00:02<141:52:26, 83.81it/s]\u001b[A\n",
      "  0%|          | 253/42804072 [00:03<141:37:51, 83.95it/s]\u001b[A\n",
      "  0%|          | 262/42804072 [00:03<144:59:12, 82.01it/s]\u001b[A\n",
      "  0%|          | 271/42804072 [00:03<149:15:27, 79.66it/s]\u001b[A\n",
      "  0%|          | 279/42804072 [00:03<173:48:26, 68.41it/s]\u001b[A\n",
      "  0%|          | 289/42804072 [00:03<160:27:15, 74.10it/s]\u001b[A\n",
      "  0%|          | 298/42804072 [00:03<152:15:39, 78.09it/s]\u001b[A\n",
      "  0%|          | 307/42804072 [00:03<148:35:39, 80.02it/s]\u001b[A\n",
      "  0%|          | 317/42804072 [00:03<142:05:50, 83.67it/s]\u001b[A\n",
      "  0%|          | 326/42804072 [00:03<140:11:26, 84.81it/s]\u001b[A\n",
      "  0%|          | 335/42804072 [00:04<141:32:34, 84.00it/s]\u001b[A\n",
      "  0%|          | 344/42804072 [00:04<139:27:28, 85.26it/s]\u001b[A\n",
      "  0%|          | 353/42804072 [00:04<137:48:30, 86.28it/s]\u001b[A\n",
      "  0%|          | 362/42804072 [00:04<139:01:47, 85.52it/s]\u001b[A\n",
      "  0%|          | 371/42804072 [00:04<139:43:50, 85.09it/s]\u001b[A\n",
      "  0%|          | 380/42804072 [00:04<140:04:24, 84.88it/s]\u001b[A\n",
      "  0%|          | 389/42804072 [00:04<157:01:52, 75.72it/s]\u001b[A\n",
      "  0%|          | 398/42804072 [00:04<149:37:53, 79.46it/s]\u001b[A\n",
      "  0%|          | 407/42804072 [00:04<147:56:11, 80.37it/s]\u001b[A\n",
      "  0%|          | 416/42804072 [00:05<143:18:38, 82.97it/s]\u001b[A\n",
      "  0%|          | 425/42804072 [00:05<140:11:12, 84.81it/s]\u001b[A\n",
      "  0%|          | 434/42804072 [00:05<140:06:02, 84.87it/s]\u001b[A\n",
      "  0%|          | 443/42804072 [00:05<142:27:22, 83.46it/s]\u001b[A\n",
      "  0%|          | 452/42804072 [00:05<140:02:51, 84.90it/s]\u001b[A\n",
      "  0%|          | 462/42804072 [00:05<137:10:00, 86.68it/s]\u001b[A\n",
      "  0%|          | 471/42804072 [00:05<139:29:39, 85.24it/s]\u001b[A\n",
      "  0%|          | 480/42804072 [00:05<137:55:00, 86.21it/s]\u001b[A\n",
      "  0%|          | 489/42804072 [00:05<137:48:53, 86.27it/s]\u001b[A\n",
      "  0%|          | 498/42804072 [00:05<136:55:29, 86.84it/s]\u001b[A\n",
      "  0%|          | 507/42804072 [00:06<139:26:22, 85.27it/s]\u001b[A\n",
      "  0%|          | 517/42804072 [00:06<136:21:48, 87.19it/s]\u001b[A\n",
      "  0%|          | 526/42804072 [00:06<137:29:37, 86.48it/s]\u001b[A\n",
      "  0%|          | 535/42804072 [00:06<139:10:26, 85.43it/s]\u001b[A\n",
      "  0%|          | 544/42804072 [00:06<157:28:57, 75.50it/s]\u001b[A\n",
      "  0%|          | 553/42804072 [00:06<150:57:19, 78.76it/s]\u001b[A\n",
      "  0%|          | 562/42804072 [00:06<146:29:42, 81.16it/s]\u001b[A\n",
      "  0%|          | 571/42804072 [00:06<144:45:22, 82.14it/s]\u001b[A\n",
      "  0%|          | 581/42804072 [00:06<139:35:03, 85.18it/s]\u001b[A\n",
      "  0%|          | 591/42804072 [00:07<139:19:57, 85.33it/s]\u001b[A\n",
      "  0%|          | 601/42804072 [00:07<135:58:20, 87.44it/s]\u001b[A\n",
      "  0%|          | 611/42804072 [00:07<136:47:11, 86.92it/s]\u001b[A\n",
      "  0%|          | 620/42804072 [00:07<135:48:47, 87.55it/s]\u001b[A\n",
      "  0%|          | 630/42804072 [00:07<134:10:06, 88.62it/s]\u001b[A\n",
      "  0%|          | 639/42804072 [00:07<138:21:42, 85.93it/s]\u001b[A\n",
      "  0%|          | 649/42804072 [00:07<135:47:12, 87.56it/s]\u001b[A\n",
      "  0%|          | 39190/42804072 [07:46<133:25:50, 89.03it/s]"
     ]
    },
    {
     "name": "stdout",
     "output_type": "stream",
     "text": [
      "Model saved in file: params/model.ckpt\n"
     ]
    }
   ],
   "source": [
    "save_file_path = \"./params/model.ckpt\"\n",
    "# runner = Runner(agent=dqn, env=env, env_name=env_name, is_initialize=False,\n",
    "#                 load_file_path=load_file_path, tensorboard_dir=\"./logs\")\n",
    "dqn.fit(**_fit_config)"
   ]
  },
  {
   "cell_type": "code",
   "execution_count": null,
   "metadata": {
    "collapsed": true
   },
   "outputs": [],
   "source": []
  },
  {
   "cell_type": "code",
   "execution_count": 10,
   "metadata": {},
   "outputs": [
    {
     "name": "stderr",
     "output_type": "stream",
     "text": [
      "[2017-12-23 20:23:53,443] Making new env: Breakout-v0\n"
     ]
    }
   ],
   "source": [
    "env_name = 'Breakout-v0'\n",
    "env = gym.make(env_name)"
   ]
  },
  {
   "cell_type": "code",
   "execution_count": 11,
   "metadata": {},
   "outputs": [
    {
     "data": {
      "text/plain": [
       "5"
      ]
     },
     "execution_count": 11,
     "metadata": {},
     "output_type": "execute_result"
    }
   ],
   "source": [
    "env.env.ale.lives()"
   ]
  },
  {
   "cell_type": "code",
   "execution_count": 1,
   "metadata": {
    "collapsed": true
   },
   "outputs": [],
   "source": [
    "import numpy as np"
   ]
  },
  {
   "cell_type": "code",
   "execution_count": 2,
   "metadata": {},
   "outputs": [
    {
     "data": {
      "text/plain": [
       "array([ 0.28553309,  0.03097907,  0.7546686 ,  0.57570028,  0.07251853,\n",
       "        0.081413  ,  0.00215794,  0.2438711 ,  0.19629214,  0.38388589])"
      ]
     },
     "execution_count": 2,
     "metadata": {},
     "output_type": "execute_result"
    }
   ],
   "source": [
    "np.random.uniform(size=10)"
   ]
  },
  {
   "cell_type": "code",
   "execution_count": null,
   "metadata": {
    "collapsed": true
   },
   "outputs": [],
   "source": []
  }
 ],
 "metadata": {
  "kernelspec": {
   "display_name": "Python 3",
   "language": "python",
   "name": "python3"
  },
  "language_info": {
   "codemirror_mode": {
    "name": "ipython",
    "version": 3
   },
   "file_extension": ".py",
   "mimetype": "text/x-python",
   "name": "python",
   "nbconvert_exporter": "python",
   "pygments_lexer": "ipython3",
   "version": "3.6.4"
  }
 },
 "nbformat": 4,
 "nbformat_minor": 2
}
