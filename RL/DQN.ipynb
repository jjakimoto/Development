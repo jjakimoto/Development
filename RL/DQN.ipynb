{
 "cells": [
  {
   "cell_type": "code",
   "execution_count": null,
   "metadata": {
    "scrolled": false
   },
   "outputs": [
    {
     "name": "stderr",
     "output_type": "stream",
     "text": [
      "[2017-12-21 08:33:27,387] Making new env: Breakout-v0\n",
      "[2017-12-21 08:33:27,511] Making new env: Breakout-v0\n"
     ]
    },
    {
     "name": "stdout",
     "output_type": "stream",
     "text": [
      "Building tensorflow graph...\n",
      "Finished building tensorflow graph, spent time: 0.2716519832611084\n"
     ]
    },
    {
     "name": "stderr",
     "output_type": "stream",
     "text": [
      "  0%|          | 37/50000000 [00:00<37:51:25, 366.88it/s]"
     ]
    },
    {
     "name": "stdout",
     "output_type": "stream",
     "text": [
      "Model saved in file: params/model.ckpt\n"
     ]
    },
    {
     "name": "stderr",
     "output_type": "stream",
     "text": [
      "  0%|          | 84918/50000000 [07:31<134:04:38, 103.41it/s]"
     ]
    }
   ],
   "source": [
    "import tensorflow as tf\n",
    "import gym\n",
    "\n",
    "from rltensor.agents import DQN\n",
    "from rltensor.processors import AtariProcessor\n",
    "from rltensor.executions import Runner\n",
    "from rltensor.configs import dqn_config, fit_config\n",
    "\n",
    "\n",
    "env = gym.make('Breakout-v0')\n",
    "\n",
    "conf = dict(\n",
    "    action_spec={\"type\": \"int\", \"shape\": env.action_space.n},\n",
    ")\n",
    "default_config = dqn_config()\n",
    "conf.update(default_config)\n",
    "\n",
    "_fit_config = fit_config()\n",
    "# _fit_config[\"log_freq\"] = 10\n",
    "# conf[\"t_learn_start\"] = 10\n",
    "conf[\"deep_q\"] = False\n",
    "env_name = 'Breakout-v0'\n",
    "env = gym.make(env_name)\n",
    "save_file_path = \"./params/model.ckpt\"\n",
    "    \n",
    "tf.reset_default_graph()\n",
    "dqn = DQN(**conf)\n",
    "runner = Runner(agent=dqn, env=env, env_name=env_name,\n",
    "                tensorboard_dir=\"./logs\")\n",
    "runner.fit(save_video_path=None, **_fit_config)"
   ]
  },
  {
   "cell_type": "code",
   "execution_count": 14,
   "metadata": {},
   "outputs": [],
   "source": [
    "load_file_path = \"./params/model.ckpt\"\n",
    "# runner = Runner(agent=dqn, env=env, env_name=env_name,\n",
    "#                 load_file_path=load_file_path, tensorboard_dir=\"./test_logs\")\n",
    "runner.play(5, render_freq=2, ep=0.05, log_freq=10)"
   ]
  },
  {
   "cell_type": "code",
   "execution_count": 12,
   "metadata": {
    "scrolled": true
   },
   "outputs": [
    {
     "name": "stderr",
     "output_type": "stream",
     "text": [
      "\n",
      "  0%|          | 0/49261573 [00:00<?, ?it/s]\u001b[A\n",
      "  0%|          | 9/49261573 [00:00<153:57:51, 88.88it/s]"
     ]
    },
    {
     "name": "stdout",
     "output_type": "stream",
     "text": [
      "Model saved in file: params/model.ckpt\n"
     ]
    },
    {
     "name": "stderr",
     "output_type": "stream",
     "text": [
      "\u001b[A\n",
      "  0%|          | 19/49261573 [00:00<151:54:13, 90.08it/s]\u001b[A\n",
      "  0%|          | 28/49261573 [00:00<153:41:17, 89.04it/s]\u001b[A\n",
      "  0%|          | 39/49261573 [00:00<147:08:51, 92.99it/s]\u001b[A\n",
      "  0%|          | 49/49261573 [00:00<147:17:13, 92.91it/s]\u001b[A\n",
      "  0%|          | 60/49261573 [00:00<145:53:01, 93.80it/s]\u001b[A\n",
      "  0%|          | 70/49261573 [00:00<143:59:30, 95.03it/s]\u001b[A\n",
      "  0%|          | 80/49261573 [00:00<145:32:55, 94.01it/s]\u001b[A\n",
      "  0%|          | 90/49261573 [00:00<143:22:02, 95.45it/s]\u001b[A\n",
      "  0%|          | 100/49261573 [00:01<144:49:36, 94.48it/s]\u001b[A\n",
      "  0%|          | 111/49261573 [00:01<141:40:39, 96.58it/s]\u001b[A\n",
      "  0%|          | 121/49261573 [00:01<143:49:08, 95.15it/s]\u001b[A\n",
      "  0%|          | 132/49261573 [00:01<143:59:52, 95.03it/s]\u001b[A\n",
      "  0%|          | 142/49261573 [00:01<142:12:08, 96.23it/s]\u001b[A\n",
      "  0%|          | 152/49261573 [00:01<143:21:09, 95.45it/s]\u001b[A\n",
      "  0%|          | 163/49261573 [00:01<140:48:59, 97.17it/s]\u001b[A\n",
      "  0%|          | 173/49261573 [00:01<143:53:43, 95.09it/s]\u001b[A\n",
      "  0%|          | 184/49261573 [00:01<143:34:02, 95.31it/s]\u001b[A\n",
      "  0%|          | 195/49261573 [00:02<140:21:48, 97.49it/s]\u001b[A\n",
      "  0%|          | 205/49261573 [00:02<141:30:56, 96.69it/s]\u001b[A\n",
      "  0%|          | 215/49261573 [00:02<145:48:25, 93.85it/s]\u001b[A\n",
      "  0%|          | 225/49261573 [00:02<148:30:38, 92.14it/s]\u001b[A\n",
      "  0%|          | 236/49261573 [00:02<146:02:14, 93.70it/s]\u001b[A\n",
      "  0%|          | 247/49261573 [00:02<141:50:17, 96.47it/s]\u001b[A\n",
      "  0%|          | 257/49261573 [00:02<142:46:22, 95.84it/s]\u001b[A\n",
      "  0%|          | 268/49261573 [00:02<142:34:27, 95.98it/s]\u001b[A\n",
      "  0%|          | 278/49261573 [00:02<140:53:33, 97.12it/s]\u001b[A\n",
      "  0%|          | 288/49261573 [00:03<141:17:19, 96.85it/s]\u001b[A\n",
      "  0%|          | 299/49261573 [00:03<138:58:19, 98.46it/s]\u001b[A\n",
      "  0%|          | 309/49261573 [00:03<141:08:27, 96.95it/s]\u001b[A\n",
      "  0%|          | 319/49261573 [00:03<141:09:12, 96.94it/s]\u001b[A\n",
      "  0%|          | 329/49261573 [00:03<142:39:36, 95.92it/s]\u001b[A\n",
      "  0%|          | 340/49261573 [00:03<143:19:47, 95.47it/s]\u001b[A\n",
      "  0%|          | 350/49261573 [00:03<141:33:54, 96.66it/s]\u001b[A\n",
      "  0%|          | 360/49261573 [00:03<144:19:39, 94.81it/s]\u001b[A\n",
      "  0%|          | 370/49261573 [00:03<142:25:12, 96.08it/s]\u001b[A\n",
      "  0%|          | 380/49261573 [00:03<143:51:52, 95.11it/s]\u001b[A\n",
      "  0%|          | 390/49261573 [00:04<143:05:29, 95.63it/s]\u001b[A\n",
      "  0%|          | 400/49261573 [00:04<144:25:03, 94.75it/s]\u001b[A\n",
      "  0%|          | 410/49261573 [00:04<143:54:01, 95.09it/s]\u001b[A\n",
      "  0%|          | 420/49261573 [00:04<145:15:42, 94.20it/s]\u001b[A\n",
      "  0%|          | 431/49261573 [00:04<141:39:46, 96.59it/s]\u001b[A\n",
      "  0%|          | 441/49261573 [00:04<142:15:16, 96.19it/s]\u001b[A\n",
      "  0%|          | 452/49261573 [00:04<143:07:37, 95.60it/s]\u001b[A\n",
      "  0%|          | 463/49261573 [00:04<139:46:18, 97.90it/s]\u001b[A\n",
      "  0%|          | 473/49261573 [00:04<140:57:54, 97.07it/s]\u001b[A\n",
      "  0%|          | 484/49261573 [00:05<141:07:54, 96.96it/s]\u001b[A\n",
      "  0%|          | 495/49261573 [00:05<138:29:29, 98.80it/s]\u001b[A\n",
      "  0%|          | 505/49261573 [00:05<143:45:43, 95.18it/s]\u001b[A\n",
      "  0%|          | 515/49261573 [00:05<141:53:07, 96.44it/s]\u001b[A\n",
      "  0%|          | 525/49261573 [00:05<143:04:06, 95.64it/s]\u001b[A\n",
      "  0%|          | 536/49261573 [00:05<142:44:11, 95.87it/s]\u001b[A\n",
      "  0%|          | 547/49261573 [00:05<139:49:58, 97.86it/s]\u001b[A\n",
      "  0%|          | 557/49261573 [00:05<141:35:17, 96.64it/s]\u001b[A\n",
      "  0%|          | 568/49261573 [00:05<142:29:39, 96.03it/s]\u001b[A\n",
      "  0%|          | 578/49261573 [00:06<142:51:16, 95.79it/s]\u001b[A\n",
      "  0%|          | 588/49261573 [00:06<155:47:17, 87.83it/s]\u001b[A\n",
      "  0%|          | 598/49261573 [00:06<150:13:20, 91.09it/s]\u001b[A\n",
      "  0%|          | 608/49261573 [00:06<148:54:23, 91.89it/s]\u001b[A\n",
      "  0%|          | 619/49261573 [00:06<144:27:04, 94.73it/s]\u001b[A\n",
      "  0%|          | 629/49261573 [00:06<145:59:45, 93.73it/s]\u001b[A\n",
      "  0%|          | 639/49261573 [00:06<146:07:17, 93.65it/s]\u001b[A\n",
      "  0%|          | 649/49261573 [00:06<146:39:15, 93.31it/s]\u001b[A\n",
      "  0%|          | 660/49261573 [00:06<145:16:58, 94.19it/s]\u001b[A\n",
      "  0%|          | 671/49261573 [00:07<141:54:59, 96.42it/s]\u001b[A\n",
      "  0%|          | 681/49261573 [00:07<143:25:07, 95.41it/s]\u001b[A\n",
      "  0%|          | 692/49261573 [00:07<142:38:55, 95.92it/s]\u001b[A\n",
      "  0%|          | 702/49261573 [00:07<140:58:09, 97.07it/s]\u001b[A\n",
      "  0%|          | 712/49261573 [00:07<141:45:44, 96.52it/s]\u001b[A\n",
      "  0%|          | 723/49261573 [00:07<139:19:55, 98.21it/s]\u001b[A\n",
      "  0%|          | 733/49261573 [00:07<141:22:28, 96.79it/s]\u001b[A\n",
      "  0%|          | 744/49261573 [00:07<141:05:55, 96.98it/s]\u001b[A\n",
      "  0%|          | 755/49261573 [00:07<138:24:59, 98.86it/s]\u001b[A\n",
      "  0%|          | 765/49261573 [00:07<140:08:28, 97.64it/s]\u001b[A\n",
      "  0%|          | 776/49261573 [00:08<141:02:02, 97.02it/s]\u001b[A\n",
      "  0%|          | 787/49261573 [00:08<137:50:51, 99.27it/s]\u001b[A\n",
      "  0%|          | 797/49261573 [00:08<141:59:31, 96.37it/s]\u001b[A\n",
      "  0%|          | 808/49261573 [00:08<141:43:48, 96.55it/s]\u001b[A\n",
      "  0%|          | 819/49261573 [00:08<137:35:27, 99.45it/s]\u001b[A\n",
      "  0%|          | 829/49261573 [00:08<139:36:54, 98.01it/s]\u001b[A\n",
      "  1%|          | 361623/49261573 [1:03:26<143:15:57, 94.81it/s] "
     ]
    },
    {
     "name": "stdout",
     "output_type": "stream",
     "text": [
      "Model saved in file: params/model.ckpt\n"
     ]
    }
   ],
   "source": [
    "save_file_path = \"./params/model.ckpt\"\n",
    "# runner = Runner(agent=dqn, env=env, env_name=env_name, is_initialize=False,\n",
    "#                 load_file_path=load_file_path, tensorboard_dir=\"./logs\")\n",
    "runner.fit(save_video_path=None, **_fit_config)"
   ]
  },
  {
   "cell_type": "code",
   "execution_count": null,
   "metadata": {
    "collapsed": true
   },
   "outputs": [],
   "source": []
  },
  {
   "cell_type": "code",
   "execution_count": null,
   "metadata": {
    "collapsed": true
   },
   "outputs": [],
   "source": []
  },
  {
   "cell_type": "code",
   "execution_count": null,
   "metadata": {
    "collapsed": true
   },
   "outputs": [],
   "source": []
  },
  {
   "cell_type": "code",
   "execution_count": null,
   "metadata": {
    "collapsed": true
   },
   "outputs": [],
   "source": []
  }
 ],
 "metadata": {
  "kernelspec": {
   "display_name": "Python 3",
   "language": "python",
   "name": "python3"
  },
  "language_info": {
   "codemirror_mode": {
    "name": "ipython",
    "version": 3
   },
   "file_extension": ".py",
   "mimetype": "text/x-python",
   "name": "python",
   "nbconvert_exporter": "python",
   "pygments_lexer": "ipython3",
   "version": "3.6.1"
  }
 },
 "nbformat": 4,
 "nbformat_minor": 2
}
