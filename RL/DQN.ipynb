{
 "cells": [
  {
   "cell_type": "code",
   "execution_count": 1,
   "metadata": {
    "scrolled": false
   },
   "outputs": [
    {
     "name": "stderr",
     "output_type": "stream",
     "text": [
      "/home/tomoaki/anaconda3/lib/python3.6/importlib/_bootstrap.py:205: RuntimeWarning: compiletime version 3.5 of module 'tensorflow.python.framework.fast_tensor_util' does not match runtime version 3.6\n",
      "  return f(*args, **kwds)\n",
      "[2017-12-22 06:52:19,554] Making new env: Breakout-v0\n"
     ]
    },
    {
     "name": "stdout",
     "output_type": "stream",
     "text": [
      "Building tensorflow graph...\n",
      "Finished building tensorflow graph, spent time: 0.2579231262207031\n"
     ]
    },
    {
     "name": "stderr",
     "output_type": "stream",
     "text": [
      "  0%|          | 16/50000000 [00:00<88:39:18, 156.66it/s]"
     ]
    },
    {
     "name": "stdout",
     "output_type": "stream",
     "text": [
      "Model saved in file: params/model.ckpt\n"
     ]
    },
    {
     "name": "stderr",
     "output_type": "stream",
     "text": [
      "  0%|          | 60735/50000000 [04:42<161:20:24, 85.98it/s] "
     ]
    },
    {
     "name": "stdout",
     "output_type": "stream",
     "text": [
      "Model saved in file: params/model.ckpt\n"
     ]
    }
   ],
   "source": [
    "import tensorflow as tf\n",
    "import gym\n",
    "\n",
    "from rltensor.agents import DQN\n",
    "from rltensor.processors import AtariProcessor\n",
    "from rltensor.executions import Runner\n",
    "from rltensor.configs import dqn_config, fit_config\n",
    "from rltensor.environments import RepeatEnvWrapper\n",
    "\n",
    "env_name = 'Breakout-v0'\n",
    "env = gym.make(env_name)\n",
    "repeat_actions = 4\n",
    "env = RepeatEnvWrapper(env, repeat_actions)\n",
    "\n",
    "conf = dict(\n",
    "    action_spec={\"type\": \"int\", \"shape\": env.action_space.n},\n",
    ")\n",
    "default_config = dqn_config()\n",
    "conf.update(default_config)\n",
    "\n",
    "_fit_config = fit_config()\n",
    "# _fit_config[\"log_freq\"] = 10\n",
    "# conf[\"t_learn_start\"] = 10\n",
    "conf[\"deep_q\"] = False\n",
    "save_file_path = \"./params/model.ckpt\"\n",
    "    \n",
    "tf.reset_default_graph()\n",
    "dqn = DQN(**conf)\n",
    "runner = Runner(agent=dqn, env=env, env_name=env_name,\n",
    "                tensorboard_dir=\"./logs\")\n",
    "runner.fit(save_video_path=None, **_fit_config)"
   ]
  },
  {
   "cell_type": "code",
   "execution_count": 18,
   "metadata": {},
   "outputs": [],
   "source": [
    "load_file_path = \"./params/model.ckpt\"\n",
    "# runner = Runner(agent=dqn, env=env, env_name=env_name,\n",
    "#                 load_file_path=load_file_path, tensorboard_dir=\"./test_logs\")\n",
    "runner.play(5, render_freq=1, ep=.05, log_freq=10)"
   ]
  },
  {
   "cell_type": "code",
   "execution_count": null,
   "metadata": {
    "scrolled": true
   },
   "outputs": [
    {
     "name": "stderr",
     "output_type": "stream",
     "text": [
      "\n",
      "  0%|          | 0/49349831 [00:00<?, ?it/s]\u001b[A\n",
      "  0%|          | 4/49349831 [00:00<345:27:54, 39.68it/s]"
     ]
    },
    {
     "name": "stdout",
     "output_type": "stream",
     "text": [
      "Model saved in file: params/model.ckpt\n"
     ]
    },
    {
     "name": "stderr",
     "output_type": "stream",
     "text": [
      "\u001b[A\n",
      "  0%|          | 12/49349831 [00:00<293:35:01, 46.69it/s]\u001b[A\n",
      "  0%|          | 21/49349831 [00:00<255:30:00, 53.65it/s]\u001b[A\n",
      "  0%|          | 30/49349831 [00:00<229:20:44, 59.77it/s]\u001b[A\n",
      "  0%|          | 40/49349831 [00:00<206:52:32, 66.26it/s]\u001b[A\n",
      "  0%|          | 49/49349831 [00:00<191:21:35, 71.64it/s]\u001b[A\n",
      "  0%|          | 58/49349831 [00:00<184:27:14, 74.32it/s]\u001b[A\n",
      "  0%|          | 66/49349831 [00:00<202:37:35, 67.65it/s]\u001b[A\n",
      "  0%|          | 75/49349831 [00:00<187:56:07, 72.94it/s]\u001b[A\n",
      "  0%|          | 84/49349831 [00:01<177:18:30, 77.31it/s]\u001b[A\n",
      "  0%|          | 93/49349831 [00:01<170:23:23, 80.45it/s]\u001b[A\n",
      "  0%|          | 102/49349831 [00:01<168:03:18, 81.57it/s]\u001b[A\n",
      "  0%|          | 111/49349831 [00:01<164:00:45, 83.58it/s]\u001b[A\n",
      "  0%|          | 120/49349831 [00:01<161:42:59, 84.77it/s]\u001b[A\n",
      "  0%|          | 129/49349831 [00:01<183:29:21, 74.71it/s]\u001b[A\n",
      "  0%|          | 138/49349831 [00:01<179:07:53, 76.53it/s]\u001b[A\n",
      "  0%|          | 147/49349831 [00:01<173:56:11, 78.81it/s]\u001b[A\n",
      "  0%|          | 156/49349831 [00:02<184:00:32, 74.50it/s]\u001b[A\n",
      "  0%|          | 165/49349831 [00:02<175:48:58, 77.97it/s]\u001b[A\n",
      "  0%|          | 174/49349831 [00:02<173:50:11, 78.86it/s]\u001b[A\n",
      "  0%|          | 183/49349831 [00:02<169:37:02, 80.82it/s]\u001b[A\n",
      "  0%|          | 192/49349831 [00:02<168:18:28, 81.45it/s]\u001b[A\n",
      "  0%|          | 201/49349831 [00:02<177:45:28, 77.12it/s]\u001b[A\n",
      "  0%|          | 209/49349831 [00:02<179:32:57, 76.35it/s]\u001b[A\n",
      "  0%|          | 217/49349831 [00:02<177:53:36, 77.06it/s]\u001b[A\n",
      "  0%|          | 226/49349831 [00:02<178:24:30, 76.84it/s]\u001b[A\n",
      "  0%|          | 235/49349831 [00:03<173:45:47, 78.89it/s]\u001b[A\n",
      "  0%|          | 243/49349831 [00:03<173:36:27, 78.96it/s]\u001b[A\n",
      "  0%|          | 252/49349831 [00:03<170:56:01, 80.20it/s]\u001b[A\n",
      "  0%|          | 261/49349831 [00:03<170:57:03, 80.19it/s]\u001b[A\n",
      "  0%|          | 270/49349831 [00:03<171:35:17, 79.89it/s]\u001b[A\n",
      "  0%|          | 279/49349831 [00:03<167:43:13, 81.73it/s]\u001b[A\n",
      "  0%|          | 288/49349831 [00:03<164:36:15, 83.28it/s]\u001b[A\n",
      "  0%|          | 297/49349831 [00:03<166:31:51, 82.32it/s]\u001b[A\n",
      "  0%|          | 306/49349831 [00:03<169:19:33, 80.96it/s]\u001b[A\n",
      "  0%|          | 315/49349831 [00:03<164:19:44, 83.42it/s]\u001b[A\n",
      "  0%|          | 324/49349831 [00:04<161:05:42, 85.09it/s]\u001b[A\n",
      "  0%|          | 333/49349831 [00:04<159:17:50, 86.05it/s]\u001b[A\n",
      "  0%|          | 342/49349831 [00:04<161:29:14, 84.89it/s]\u001b[A\n",
      "  0%|          | 351/49349831 [00:04<160:44:29, 85.28it/s]\u001b[A\n",
      "  0%|          | 360/49349831 [00:04<180:55:50, 75.76it/s]\u001b[A\n",
      "  0%|          | 369/49349831 [00:04<174:12:52, 78.69it/s]\u001b[A\n",
      "  0%|          | 378/49349831 [00:04<173:27:05, 79.03it/s]\u001b[A\n",
      "  0%|          | 387/49349831 [00:04<167:08:46, 82.01it/s]\u001b[A\n",
      "  0%|          | 397/49349831 [00:04<161:41:46, 84.78it/s]\u001b[A\n",
      "  0%|          | 406/49349831 [00:05<186:10:29, 73.63it/s]\u001b[A\n",
      "  0%|          | 416/49349831 [00:05<174:37:56, 78.50it/s]\u001b[A\n",
      "  0%|          | 426/49349831 [00:05<170:46:13, 80.27it/s]\u001b[A\n",
      "  0%|          | 435/49349831 [00:05<165:58:47, 82.59it/s]\u001b[A\n",
      "  0%|          | 444/49349831 [00:05<167:44:16, 81.72it/s]\u001b[A\n",
      "  0%|          | 453/49349831 [00:05<165:15:03, 82.95it/s]\u001b[A\n",
      "  0%|          | 462/49349831 [00:05<186:08:53, 73.64it/s]\u001b[A\n",
      "  0%|          | 16183/49349831 [03:11<163:30:43, 83.81it/s]"
     ]
    }
   ],
   "source": [
    "save_file_path = \"./params/model.ckpt\"\n",
    "# runner = Runner(agent=dqn, env=env, env_name=env_name, is_initialize=False,\n",
    "#                 load_file_path=load_file_path, tensorboard_dir=\"./logs\")\n",
    "runner.fit(save_video_path=None, **_fit_config)"
   ]
  },
  {
   "cell_type": "code",
   "execution_count": null,
   "metadata": {
    "collapsed": true
   },
   "outputs": [],
   "source": []
  },
  {
   "cell_type": "code",
   "execution_count": null,
   "metadata": {
    "collapsed": true
   },
   "outputs": [],
   "source": []
  },
  {
   "cell_type": "code",
   "execution_count": null,
   "metadata": {
    "collapsed": true
   },
   "outputs": [],
   "source": []
  },
  {
   "cell_type": "code",
   "execution_count": null,
   "metadata": {
    "collapsed": true
   },
   "outputs": [],
   "source": []
  }
 ],
 "metadata": {
  "kernelspec": {
   "display_name": "Python 3",
   "language": "python",
   "name": "python3"
  },
  "language_info": {
   "codemirror_mode": {
    "name": "ipython",
    "version": 3
   },
   "file_extension": ".py",
   "mimetype": "text/x-python",
   "name": "python",
   "nbconvert_exporter": "python",
   "pygments_lexer": "ipython3",
   "version": "3.6.1"
  }
 },
 "nbformat": 4,
 "nbformat_minor": 2
}
