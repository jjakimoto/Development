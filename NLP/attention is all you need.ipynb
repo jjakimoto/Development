{
 "cells": [
  {
   "cell_type": "code",
   "execution_count": 1,
   "metadata": {},
   "outputs": [
    {
     "name": "stdout",
     "output_type": "stream",
     "text": [
      "CPU times: user 304 ms, sys: 384 ms, total: 688 ms\n",
      "Wall time: 307 ms\n"
     ]
    }
   ],
   "source": [
    "%%time\n",
    "import pandas as pd\n",
    "# texts = clean_movie_data(data)\n",
    "df = pd.read_csv(\"data/All-seasons.csv\")"
   ]
  },
  {
   "cell_type": "code",
   "execution_count": 2,
   "metadata": {},
   "outputs": [
    {
     "data": {
      "text/html": [
       "<div>\n",
       "<style>\n",
       "    .dataframe thead tr:only-child th {\n",
       "        text-align: right;\n",
       "    }\n",
       "\n",
       "    .dataframe thead th {\n",
       "        text-align: left;\n",
       "    }\n",
       "\n",
       "    .dataframe tbody tr th {\n",
       "        vertical-align: top;\n",
       "    }\n",
       "</style>\n",
       "<table border=\"1\" class=\"dataframe\">\n",
       "  <thead>\n",
       "    <tr style=\"text-align: right;\">\n",
       "      <th></th>\n",
       "      <th>Season</th>\n",
       "      <th>Episode</th>\n",
       "      <th>Character</th>\n",
       "      <th>Line</th>\n",
       "    </tr>\n",
       "  </thead>\n",
       "  <tbody>\n",
       "    <tr>\n",
       "      <th>0</th>\n",
       "      <td>10</td>\n",
       "      <td>1</td>\n",
       "      <td>Stan</td>\n",
       "      <td>You guys, you guys! Chef is going away. \\n</td>\n",
       "    </tr>\n",
       "    <tr>\n",
       "      <th>1</th>\n",
       "      <td>10</td>\n",
       "      <td>1</td>\n",
       "      <td>Kyle</td>\n",
       "      <td>Going away? For how long?\\n</td>\n",
       "    </tr>\n",
       "    <tr>\n",
       "      <th>2</th>\n",
       "      <td>10</td>\n",
       "      <td>1</td>\n",
       "      <td>Stan</td>\n",
       "      <td>Forever.\\n</td>\n",
       "    </tr>\n",
       "    <tr>\n",
       "      <th>3</th>\n",
       "      <td>10</td>\n",
       "      <td>1</td>\n",
       "      <td>Chef</td>\n",
       "      <td>I'm sorry boys.\\n</td>\n",
       "    </tr>\n",
       "    <tr>\n",
       "      <th>4</th>\n",
       "      <td>10</td>\n",
       "      <td>1</td>\n",
       "      <td>Stan</td>\n",
       "      <td>Chef said he's been bored, so he joining a gro...</td>\n",
       "    </tr>\n",
       "  </tbody>\n",
       "</table>\n",
       "</div>"
      ],
      "text/plain": [
       "  Season Episode Character                                               Line\n",
       "0     10       1      Stan         You guys, you guys! Chef is going away. \\n\n",
       "1     10       1      Kyle                        Going away? For how long?\\n\n",
       "2     10       1      Stan                                         Forever.\\n\n",
       "3     10       1      Chef                                  I'm sorry boys.\\n\n",
       "4     10       1      Stan  Chef said he's been bored, so he joining a gro..."
      ]
     },
     "execution_count": 2,
     "metadata": {},
     "output_type": "execute_result"
    }
   ],
   "source": [
    "df.head()"
   ]
  },
  {
   "cell_type": "code",
   "execution_count": 3,
   "metadata": {
    "collapsed": true
   },
   "outputs": [],
   "source": [
    "texts = df[\"Line\"].values"
   ]
  },
  {
   "cell_type": "code",
   "execution_count": 4,
   "metadata": {},
   "outputs": [
    {
     "data": {
      "text/plain": [
       "array(['You guys, you guys! Chef is going away. \\n',\n",
       "       'Going away? For how long?\\n', 'Forever.\\n', \"I'm sorry boys.\\n\",\n",
       "       \"Chef said he's been bored, so he joining a group called the Super Adventure Club. \\n\",\n",
       "       'Wow!\\n',\n",
       "       'Chef?? What kind of questions do you think adventuring around the world is gonna answer?!\\n',\n",
       "       \"What's the meaning of life? Why are we here?\\n\",\n",
       "       \"I hope you're making the right choice.\\n\",\n",
       "       \"I'm gonna miss him.  I'm gonna miss Chef and I...and I don't know how to tell him! \\n\"], dtype=object)"
      ]
     },
     "execution_count": 4,
     "metadata": {},
     "output_type": "execute_result"
    }
   ],
   "source": [
    "texts[:10]"
   ]
  },
  {
   "cell_type": "code",
   "execution_count": 5,
   "metadata": {},
   "outputs": [
    {
     "name": "stderr",
     "output_type": "stream",
     "text": [
      "Using TensorFlow backend.\n"
     ]
    },
    {
     "name": "stdout",
     "output_type": "stream",
     "text": [
      "CPU times: user 44min 55s, sys: 16.1 s, total: 45min 11s\n",
      "Wall time: 45min 12s\n"
     ]
    }
   ],
   "source": [
    "%%time\n",
    "from hedgeable_ai.functions.preprocessing.word2index import Word2IndexProcessor\n",
    "\n",
    "processor = Word2IndexProcessor(texts[:], is_processed=False)"
   ]
  },
  {
   "cell_type": "code",
   "execution_count": 6,
   "metadata": {
    "collapsed": true
   },
   "outputs": [],
   "source": [
    "import tensorflow as tf"
   ]
  },
  {
   "cell_type": "code",
   "execution_count": null,
   "metadata": {
    "collapsed": true
   },
   "outputs": [],
   "source": [
    "from __future__ import print_function\n",
    "import tensorflow as tf\n",
    "\n",
    "def layer_normalization(inputs, epsilon=1e-8, scope=\"layer_normalization\", reuse=None):\n",
    "    '''Applies layer normalization.\n",
    "    \n",
    "    Args:\n",
    "      inputs: A tensor with 2 or more dimensions, where the first dimension has\n",
    "        `batch_size`.\n",
    "      epsilon: A floating number. A very small number for preventing ZeroDivision Error.\n",
    "      scope: Optional scope for `variable_scope`.\n",
    "      reuse: Boolean, whether to reuse the weights of a previous layer\n",
    "        by the same name.\n",
    "      \n",
    "    Returns:\n",
    "      A tensor with the same shape and data dtype as `inputs`.\n",
    "    '''\n",
    "    with tf.variable_scope(scope, reuse=reuse):\n",
    "        shape = inputs.get_shape().as_list()\n",
    "        hidden_dim = shape[-1]\n",
    "        mean, variance = tf.nn.moments(inputs, [-1], keep_dims=True)\n",
    "        gamma = tf.get_variable(\"gamma\", hidden_dim, initializer=tf.ones_initializer(tf.float32))\n",
    "        beta = tf.get_variable(\"beta\", hidden_dim, initializer=tf.zeros_initializer(tf.float32))\n",
    "        normalized_inputs = (inputs - mean) / tf.sqrt(variance + epsilon)\n",
    "        outputs = gamma * normalized_inputs + beta\n",
    "    return outputs\n",
    "\n",
    "def embedding(inputs,vocab_size, num_units, \n",
    "              zero_pad=True, scale=True,\n",
    "              scope=\"embedding\", reuse=None):\n",
    "    '''Embeds a given tensor.\n",
    "    Args:\n",
    "      inputs: A `Tensor` with type `int32` or `int64` containing the ids\n",
    "         to be looked up in `lookup table`.\n",
    "      vocab_size: An int. Vocabulary size.\n",
    "      num_units: An int. Number of embedding hidden units.\n",
    "      zero_pad: A boolean. If True, all the values of the fist row (id 0)\n",
    "        should be constant zeros.\n",
    "      scale: A boolean. If True. the outputs is multiplied by sqrt num_units.\n",
    "      scope: Optional scope for `variable_scope`.\n",
    "      reuse: Boolean, whether to reuse the weights of a previous layer\n",
    "        by the same name.\n",
    "    Returns:\n",
    "      A `Tensor` with one more rank than inputs's. The last dimensionality\n",
    "        should be `num_units`.\n",
    "        \n",
    "    For example,\n",
    "    \n",
    "    ```\n",
    "    import tensorflow as tf\n",
    "    \n",
    "    inputs = tf.to_int32(tf.reshape(tf.range(2*3), (2, 3)))\n",
    "    outputs = embedding(inputs, 6, 2, zero_pad=True)\n",
    "    with tf.Session() as sess:\n",
    "        sess.run(tf.global_variables_initializer())\n",
    "        print sess.run(outputs)\n",
    "    >>\n",
    "    [[[ 0.          0.        ]\n",
    "      [ 0.09754146  0.67385566]\n",
    "      [ 0.37864095 -0.35689294]]\n",
    "     [[-1.01329422 -1.09939694]\n",
    "      [ 0.7521342   0.38203377]\n",
    "      [-0.04973143 -0.06210355]]]\n",
    "    ```\n",
    "    \n",
    "    ```\n",
    "    import tensorflow as tf\n",
    "    \n",
    "    inputs = tf.to_int32(tf.reshape(tf.range(2*3), (2, 3)))\n",
    "    outputs = embedding(inputs, 6, 2, zero_pad=False)\n",
    "    with tf.Session() as sess:\n",
    "        sess.run(tf.global_variables_initializer())\n",
    "        print sess.run(outputs)\n",
    "    >>\n",
    "    [[[-0.19172323 -0.39159766]\n",
    "      [-0.43212751 -0.66207761]\n",
    "      [ 1.03452027 -0.26704335]]\n",
    "     [[-0.11634696 -0.35983452]\n",
    "      [ 0.50208133  0.53509563]\n",
    "      [ 1.22204471 -0.96587461]]]    \n",
    "    ```    \n",
    "    '''\n",
    "    with tf.variable_scope(scope, reuse=reuse):\n",
    "        lookup_table = tf.get_variable('lookup_table',\n",
    "                                       dtype=tf.float32,\n",
    "                                       shape=[vocab_size, num_units],\n",
    "                                       initializer=tf.contrib.layers.xavier_initializer())\n",
    "        if zero_pad:\n",
    "            lookup_table = tf.concat((tf.zeros(shape=[1, num_units]),\n",
    "                                      lookup_table[1:, :]), 0)\n",
    "        outputs = tf.nn.embedding_lookup(lookup_table, inputs)\n",
    "        \n",
    "        if scale:\n",
    "            outputs = outputs * tf.sqrt(num_units) \n",
    "            \n",
    "    return outputs\n",
    "    \n",
    "def multihead_attention(queries, \n",
    "                        keys,\n",
    "                        values,\n",
    "                        num_units=None, \n",
    "                        num_heads=8, \n",
    "                        drop_rate=0,\n",
    "                        training=True,\n",
    "                        causality=False,\n",
    "                        scope=\"multihead_attention\", \n",
    "                        reuse=None):\n",
    "    '''Applies multihead attention.\n",
    "    \n",
    "    Args:\n",
    "      queries: A 3d tensor with shape of [N, T_q, C_q].\n",
    "      keys: A 3d tensor with shape of [N, T_k, C_k].\n",
    "      values: A 3d tensor with shape of [N, T_k, C_k].\n",
    "      num_units: A scalar. Attention size.\n",
    "      drop_rate: A floating point number.\n",
    "      training: Boolean. Controller of mechanism for dropout.\n",
    "      causality: Boolean. If true, units that reference the future are masked. \n",
    "      num_heads: An int. Number of heads.\n",
    "      scope: Optional scope for `variable_scope`.\n",
    "      reuse: Boolean, whether to reuse the weights of a previous layer\n",
    "        by the same name.\n",
    "        \n",
    "    Returns\n",
    "      A 3d tensor with shape of (N, T_q, C)  \n",
    "    '''\n",
    "    with tf.variable_scope(scope, reuse=reuse):\n",
    "        # Set the fall back option for num_units\n",
    "        if num_units is None:\n",
    "            num_units = queries.get_shape().as_list()[-1]\n",
    "        \n",
    "        # Linear projections\n",
    "        Q = tf.layers.dense(queries, num_units, activation=None) # (N, T_q, C)\n",
    "        K = tf.layers.dense(keys, num_units, activation=None) # (N, T_k, C)\n",
    "        V = tf.layers.dense(values, num_units, activation=None) # (N, T_k, C)\n",
    "        \n",
    "        # Split and concat\n",
    "        # The size will be [N * num_heads, T_k, C_k/num_heads]\n",
    "        Q_ = tf.concat(tf.split(Q, num_heads, axis=2), axis=0) # (h*N, T_q, C/h) \n",
    "        K_ = tf.concat(tf.split(K, num_heads, axis=2), axis=0) # (h*N, T_k, C/h) \n",
    "        V_ = tf.concat(tf.split(V, num_heads, axis=2), axis=0) # (h*N, T_k, C/h) \n",
    "\n",
    "        # Multiplication\n",
    "        alignments = tf.matmul(Q_, tf.transpose(K_, [0, 2, 1])) # (h*N, T_q, T_k)\n",
    "        \n",
    "        # Scale\n",
    "        d = K_.get_shape().as_list()[-1]\n",
    "        alignments = tf.softmax(alignments / tf.sqrt(d))\n",
    "  \n",
    "        # Causality = Future blinding\n",
    "        if causality:\n",
    "            shape = tf.shape(outputs)\n",
    "            masks = tf.ones(shape[1:]) # (T_q, T_k)\n",
    "            masks = tf.contrib.linalg.LinearOperatorTriL(masks).to_dense() # (T_q, T_k)\n",
    "            masks = tf.tile(tf.expand_dims(masks, 0), [shape[0], 1, 1]) # (h*N, T_q, T_k)\n",
    "            alignments = alignments * masks\n",
    "            sum_alignments = tf.reduce_sum(alignments, -1, keep_dims=True)\n",
    "            sum_alignments = tf.tile(sum_alignments, [1, 1, shape[-1]])\n",
    "            alingments = alignments / sum_alignments\n",
    "          \n",
    "        # Dropouts\n",
    "        alignments = tf.layers.dropout(alignments, rate=drop_rate, training=training)\n",
    "               \n",
    "        # Weighted sum\n",
    "        outputs = tf.matmul(alignments, V_) # ( h*N, T_q, C/h)\n",
    "        \n",
    "        # Restore shape\n",
    "        outputs = tf.concat(tf.split(outputs, num_heads, axis=0), axis=2) # (N, T_q, C)\n",
    "              \n",
    "        # Residual connection\n",
    "        outputs += queries\n",
    "              \n",
    "        # Normalize\n",
    "        outputs = layer_normalization(outputs) # (N, T_q, C)\n",
    " \n",
    "    return outputs\n",
    "\n",
    "def feedforward(inputs, \n",
    "                num_units=[2048, 512],\n",
    "                scope=\"multihead_attention\", \n",
    "                reuse=None):\n",
    "    '''Point-wise feed forward net.\n",
    "    \n",
    "    Args:\n",
    "      inputs: A 3d tensor with shape of [N, T, C].\n",
    "      num_units: A list of two integers.\n",
    "      scope: Optional scope for `variable_scope`.\n",
    "      reuse: Boolean, whether to reuse the weights of a previous layer\n",
    "        by the same name.\n",
    "        \n",
    "    Returns:\n",
    "      A 3d tensor with the same shape and dtype as inputs\n",
    "    '''\n",
    "    with tf.variable_scope(scope, reuse=reuse):\n",
    "        # Inner layer\n",
    "        params = {\"inputs\": inputs, \"filters\": num_units[0], \"kernel_size\": 1,\n",
    "                  \"activation\": tf.nn.relu, \"use_bias\": True}\n",
    "        outputs = tf.layers.conv1d(**params)\n",
    "        \n",
    "        # Readout layer\n",
    "        params = {\"inputs\": outputs, \"filters\": num_units[1], \"kernel_size\": 1,\n",
    "                  \"activation\": None, \"use_bias\": True}\n",
    "        outputs = tf.layers.conv1d(**params)\n",
    "        \n",
    "        # Residual connection\n",
    "        outputs += inputs\n",
    "        \n",
    "        # Normalize\n",
    "        outputs = layer_normalization(outputs)\n",
    "    \n",
    "    return outputs\n",
    "\n",
    "def label_smoothing(inputs, epsilon=0.1):\n",
    "    '''Applies label smoothing. See https://arxiv.org/abs/1512.00567.\n",
    "    \n",
    "    Args:\n",
    "      inputs: A 3d tensor with shape of [N, T, V], where V is the number of vocabulary.\n",
    "      epsilon: Smoothing rate.\n",
    "    \n",
    "    For example,\n",
    "    \n",
    "    ```\n",
    "    import tensorflow as tf\n",
    "    inputs = tf.convert_to_tensor([[[0, 0, 1], \n",
    "       [0, 1, 0],\n",
    "       [1, 0, 0]],\n",
    "      [[1, 0, 0],\n",
    "       [1, 0, 0],\n",
    "       [0, 1, 0]]], tf.float32)\n",
    "       \n",
    "    outputs = label_smoothing(inputs)\n",
    "    \n",
    "    with tf.Session() as sess:\n",
    "        print(sess.run([outputs]))\n",
    "    \n",
    "    >>\n",
    "    [array([[[ 0.03333334,  0.03333334,  0.93333334],\n",
    "        [ 0.03333334,  0.93333334,  0.03333334],\n",
    "        [ 0.93333334,  0.03333334,  0.03333334]],\n",
    "       [[ 0.93333334,  0.03333334,  0.03333334],\n",
    "        [ 0.93333334,  0.03333334,  0.03333334],\n",
    "        [ 0.03333334,  0.93333334,  0.03333334]]], dtype=float32)]   \n",
    "    ```    \n",
    "    '''\n",
    "    K = inputs.get_shape().as_list()[-1] # number of channels\n",
    "    return ((1-epsilon) * inputs) + (epsilon / K)"
   ]
  },
  {
   "cell_type": "code",
   "execution_count": null,
   "metadata": {
    "collapsed": true
   },
   "outputs": [],
   "source": [
    "import tensorflow as tf\n",
    "from tensorflow.contrib.layers import fully_connected, conv2d\n",
    "from tensorflow.contrib.layers import conv2d_transpose, flatten\n",
    "\n",
    "from hedgeable_ai.models.nn import BaseModel\n",
    "        \n",
    "class FeedForward(BaseModel):\n",
    "    def __init__(self, model_params, scope_name, *args, **kwargs):\n",
    "        super().__init__(model_params, scope_name, *args, **kwargs)\n",
    "    \n",
    "    def __call__(self, x, training=True):\n",
    "        with tf.variable_scope(self.scope_name, reuse=self.reuse):\n",
    "            for i, params in enumerate(self.model_params):\n",
    "                with tf.variable_scope('layer_' + str(i)):\n",
    "                    if \"is_flatten\" in params and params[\"is_flatten\"]:\n",
    "                        x = flatten(x)\n",
    "                    if \"drop_rate\" in params:\n",
    "                        x = tf.layers.dropout(x, rate=params[\"drop_rate\"], training=training)\n",
    "                    # demtermine which layer to use\n",
    "                    if params[\"name\"] == \"dense\":\n",
    "                        x = fully_connected(x, params[\"num_hidden\"], activation_fn=None)\n",
    "                    elif params[\"name\"] == \"conv2d\":\n",
    "                        x =  conv2d(x, params[\"num_filter\"], params[\"kernel_size\"],\n",
    "                                          params[\"stride\"], params[\"padding\"], activation_fn=None)\n",
    "                    elif params[\"name\"] == \"deconv2d\":\n",
    "                        x =  conv2d_transpose(x, params[\"num_filter\"], params[\"kernel_size\"],\n",
    "                                          params[\"stride\"], params[\"padding\"], activation_fn=None)\n",
    "                    elif params[\"name\"] == \"reshape\":\n",
    "                        x = tf.reshape(x, (-1,) + params[\"reshape_size\"])\n",
    "                    elif params[\"name\"] == \"pooling\":\n",
    "                        del params[\"name\"]\n",
    "                        x = tf.nn.pool(x, **params)\n",
    "                    else:\n",
    "                        raise NotImplementedError(\"No implementation for 'name'={}\".format(params[\"name\"]))         \n",
    "                    if \"is_batch\" in params and params[\"is_batch\"]:\n",
    "                        x = tf.layers.batch_normalization(x, training=training, momentum=0.9)\n",
    "                    if \"activation\" in params:\n",
    "                        x = params[\"activation\"](x)\n",
    "            if self.reuse is False:\n",
    "                self.global_scope_name = tf.get_variable_scope().name\n",
    "                self.variables = tf.get_collection(tf.GraphKeys.TRAINABLE_VARIABLES, scope=self.global_scope_name)\n",
    "        self.reuse = True\n",
    "        return x"
   ]
  },
  {
   "cell_type": "code",
   "execution_count": null,
   "metadata": {
    "collapsed": true
   },
   "outputs": [],
   "source": []
  },
  {
   "cell_type": "code",
   "execution_count": null,
   "metadata": {
    "collapsed": true
   },
   "outputs": [],
   "source": []
  },
  {
   "cell_type": "code",
   "execution_count": 96,
   "metadata": {
    "collapsed": true
   },
   "outputs": [],
   "source": [
    "from hedgeable_ai.models.nn.ff.core import FeedForward\n",
    "\n",
    "class BaseAttention(object):\n",
    "    def __init__(self, conf=None):\n",
    "        if conf is None:\n",
    "            conf = {}\n",
    "        for key in self.default_conf.keys():\n",
    "            if key not in conf.keys():\n",
    "                conf[key] = self.default_conf[key]\n",
    "        self.conf = conf\n",
    "        \n",
    "    def __call__(self, query, source_outputs, source_inputs, training=True):\n",
    "        attentions, alignments = self._get_attentions(query, source_outputs, source_inputs, training)\n",
    "        return attentions, alignments\n",
    "    \n",
    "    def _get_attentions(self, query, source_outputs, source_inputs, trainig):\n",
    "        raise NotImplementedError()\n",
    "    \n",
    "class LuongAttention(BaseAttention):\n",
    "    default_conf = {\"local_scale\":5, \"attention_size\":300}\n",
    "    def __init__(self, conf=None):\n",
    "        super().__init__(conf)\n",
    "        self.local_scale = self.conf[\"local_scale\"]\n",
    "        self.attention_size = self.conf[\"attention_size\"]\n",
    "        self.middle_hidden = int(0.5 * self.attention_size)\n",
    "        model_params = [{\"name\":\"dense\", \"num_hidden\":self.middle_hidden, \"activation\":tf.tanh}]\n",
    "        self.local_ff = FeedForward(model_params, scope_name=\"local_ff\")\n",
    "        model_params = [{\"name\":\"dense\", \"num_hidden\":self.attention_size, \"activation\":tf.tanh}]\n",
    "        self.attention_ff = FeedForward(model_params, scope_name=\"attention_ff\")   \n",
    "    \n",
    "    def _get_global_attentions(self, query, source_outputs, source_inputs, training):\n",
    "        \"\"\"Calulate global alignments\n",
    "        \n",
    "        Args:\n",
    "            query: tensor with shape=(batch, output_size), decoder RNN output\n",
    "            source_outputs: tensor with shape=(batch, time_length, output_size), \n",
    "                entire outputs of encoder RNN\n",
    "            source_inputs: tensor with shape=(batch, time_length)\n",
    "            training: tensor bool\n",
    "            \n",
    "        Returns:\n",
    "            alignments with shape = (batch, time_length)\n",
    "        \"\"\"\n",
    "        query = tf.expand_dims(query, 1)\n",
    "        scale = get_variable(\"global_scale\", [],\n",
    "                                     dtype=tf.float32,\n",
    "                                     initializer=tf.ones_initializer)\n",
    "        scale = scale / tf.constant(np.sqrt(self.attention_size))\n",
    "        _score = tf.matmul(query, source_outputs, transpose_b=True)\n",
    "        _score = tf.squeeze(_score, [1]) #shape=(batch, output_size)\n",
    "        _alignments = tf.nn.softmax(_score)\n",
    "        # We will not put attention to padded input\n",
    "        weights = tf.cast(source_inputs >= 1, tf.float32)\n",
    "        _alignments = weights * _alignments\n",
    "        length = tf.shape(_alignments)[1]\n",
    "        alignments = _alignments / tf.tile(tf.reduce_sum(_alignments, 1, keep_dims=True), [1, length])\n",
    "        return alignments\n",
    "    \n",
    "    def _get_local_attentions(self, query, source_outputs, source_inputs, training):\n",
    "        \"\"\"Calulate local alignments\n",
    "        \n",
    "        Args:\n",
    "            query: tensor with shape=(batch, output_size), decoder RNN output\n",
    "            source_outputs: tensor with shape=(batch, time_length, output_size), \n",
    "                entire outputs of encoder RNN\n",
    "            source_inputs: tensor with shape=(batch, time_length)\n",
    "            training: tensor bool\n",
    "            \n",
    "        Returns:\n",
    "            alignments with shape = (batch, time_length)\n",
    "        \"\"\"\n",
    "        batch_size, length, output_size = tf.unstack(tf.shape(source_outputs))\n",
    "        scale = get_variable(\"local_scale\", [],\n",
    "                             dtype=tf.float32,\n",
    "                             initializer=tf.ones_initializer)\n",
    "        scale = scale / tf.constant(np.sqrt(self.middle_hidden))\n",
    "        u = self.local_ff(query, training) / scale\n",
    "        # Consider only non zero index range, the size will be (batch, 1)\n",
    "        S = tf.cast(tf.reduce_sum(tf.cast(source_inputs >= 1, tf.float32), axis=1, keep_dims=True), tf.float32)\n",
    "        v_local = tf.get_variable(\"v_local\", [self.middle_hidden], dtype=tf.float32)\n",
    "        v_local = tf.expand_dims(v_local, [1])\n",
    "        # Size will be [batch_size, 1]\n",
    "        pt = S * tf.nn.sigmoid(tf.matmul(u, v_local))\n",
    "        pt = tf.tile(pt, [1, length])\n",
    "        # pt has shap=(batch, length) and values are the same along time axis\n",
    "        sig = tf.constant(0.5) * self.local_scale\n",
    "        # Index value will be in [1, S]\n",
    "        index = tf.cast(tf.range(tf.constant(1), length + tf.constant(1)), tf.float32)\n",
    "        index = tf.expand_dims(index, [0])\n",
    "        index = tf.tile(index, [batch_size, 1])\n",
    "        # Size of pt and  index has to be [batch_size, length]\n",
    "        alignments = tf.exp(-0.5 * (pt - index)**2 / sig**2)\n",
    "        return alignments\n",
    "    \n",
    "    def _get_attentions(self, query, source_outputs, source_inputs, training):\n",
    "        local_alignments = self._get_local_attentions(query, source_outputs, source_inputs, training)\n",
    "        global_alignments = self._get_global_attentions(query, source_outputs, source_inputs, training)\n",
    "        alignments = global_alignments * local_alignments\n",
    "        _alignments = tf.expand_dims(alignments, 1)\n",
    "        context = tf.matmul(_alignments, source_outputs)\n",
    "        # context shape is (batch_size, 1, output_size)\n",
    "        context = tf.squeeze(context, [1])\n",
    "        pre_attentions = tf.concat((context, query), axis=1)\n",
    "        attentions = self.attention_ff(pre_attentions, training)\n",
    "        return attentions, alignments"
   ]
  },
  {
   "cell_type": "code",
   "execution_count": 97,
   "metadata": {
    "collapsed": true
   },
   "outputs": [],
   "source": [
    "import tensorflow as tf\n",
    "import tensorflow.contrib.rnn as rnn\n",
    "import tensorflow.contrib.seq2seq as seq2seq\n",
    "from hedgeable_ai.models.nn import BaseModel, get_shape, get_length\n",
    "import tensorflow.contrib.rnn as rnn\n",
    "\n",
    "import tensorflow as tf\n",
    "\n",
    "from hedgeable_ai.models.nn.params import nn_is_logit\n",
    "from hedgeable_ai.models.nn import BaseNN, get_shape\n",
    "\n",
    "from hedgeable_ai.models.nn.rnn import get_cell\n",
    "\n",
    "count = 0\n",
    "class DialogueAgent(BaseNN):\n",
    "    def __init__(self, processor, emb_size=300, maxlen=20,\n",
    "                 conf=None, additional_length=3, clip_val=5.0, \n",
    "                 is_attention=False, *args, **kwargs):\n",
    "        self.emb_size = emb_size\n",
    "        self.clip_val = clip_val\n",
    "        # leave index 0 for padding and 1 for  <eos>\n",
    "        self.vocab_size = processor.vocab_size + 2\n",
    "        self.maxlen = maxlen\n",
    "        self.additional_length = additional_length\n",
    "        self.is_attention = is_attention\n",
    "        super().__init__(processor=processor, conf=conf, *args, **kwargs)\n",
    "        \n",
    "    def _build_graph(self):\n",
    "        \"\"\"Build tensorflow graph\n",
    "        \n",
    "        Note:\n",
    "            You build graphs for output and input, which will be used \n",
    "            for training and prediction.\n",
    "        \"\"\"\n",
    "        # Build Basic Netwoiork\n",
    "        self.attention_model = LuongAttention(self.conf)\n",
    "        W_output = tf.Variable(\n",
    "            tf.random_uniform([self.attention_model.attention_size, self.vocab_size], -0.1, 0.1), dtype=tf.float32)\n",
    "        b_output = tf.Variable(tf.zeros([self.vocab_size]), dtype=tf.float32)\n",
    "        \n",
    "        self.encoder_input = tf.placeholder(tf.int32, shape=(None, None), name=\"encoder_input\")\n",
    "        self.decoder_target = tf.placeholder(tf.int32, shape=(None, None), name=\"decoder_target\")\n",
    "        self.training = tf.placeholder(tf.bool, (), name=\"trainig\")\n",
    "        encoder_length = get_length(self.encoder_input)\n",
    "        decoder_length = get_length(self.decoder_target)\n",
    "        # Encoder\n",
    "        encoder_cell = get_cell(self.conf[\"model\"])\n",
    "        embeddings = tf.Variable(\n",
    "            tf.random_uniform([self.vocab_size, self.emb_size], -0.1, 0.1, dtype=tf.float32))\n",
    "        encoder_input_embedded = tf.nn.embedding_lookup(embeddings, self.encoder_input)\n",
    "        encoder_outputs, encoder_final_state = tf.nn.dynamic_rnn(\n",
    "            encoder_cell, encoder_input_embedded, sequence_length=encoder_length, \n",
    "            dtype=tf.float32, time_major=False, scope=\"encoder\")\n",
    "\n",
    "        # Decoder\n",
    "        decoder_cell = get_cell(self.conf[\"model\"])\n",
    "        batch_size, encoder_max_time = tf.unstack(tf.shape(self.encoder_input))\n",
    "        decoder_output_size = self._get_output_size(self.conf[\"model\"])\n",
    "        # We use a decoder length 10 words longer than encoder\n",
    "        max_decoder_length = encoder_length + tf.constant(self.additional_length)\n",
    "        self.max_decoder_length = max_decoder_length\n",
    "        # Prepare for padding and EOS\n",
    "        eos_time_slice = tf.ones([batch_size], dtype=tf.int32, name='EOS')\n",
    "        eos_step_embedded = tf.nn.embedding_lookup(embeddings, eos_time_slice)\n",
    "        pad_time_slice = tf.ones([batch_size], dtype=tf.int32, name='PAD')\n",
    "        pad_step_embedded = tf.zeros_like(eos_step_embedded)\n",
    "        \n",
    "        def loop_fn_initial():\n",
    "            initial_elements_finished = (0 >= max_decoder_length)\n",
    "            initial_input = eos_step_embedded\n",
    "            initial_cell_state = encoder_final_state\n",
    "            initial_cell_output  = None\n",
    "            initial_loop_state = None\n",
    "            return (initial_elements_finished,\n",
    "                initial_input,\n",
    "                initial_cell_state,\n",
    "                initial_cell_output,\n",
    "                initial_loop_state)\n",
    "        \n",
    "        def loop_fn_transition(time, previous_output, previous_state, previous_loop_state):\n",
    "            if self.is_attention:\n",
    "                previous_output, alignment = self.attention_model(\n",
    "                    previous_output, encoder_outputs, self.encoder_input, self.training)\n",
    "            output_logits = tf.matmul(previous_output, W_output) + b_output\n",
    "            prediction  = tf.argmax(output_logits, axis=1)\n",
    "            def get_next_input():\n",
    "                next_input = tf.nn.embedding_lookup(embeddings,  prediction)\n",
    "                return next_input\n",
    "            elements_finished = (time >= max_decoder_length)\n",
    "            finished = tf.reduce_all(elements_finished)\n",
    "            next_input = tf.cond(finished, lambda: pad_step_embedded, get_next_input)\n",
    "            state  = previous_state\n",
    "            loop_state = previous_loop_state\n",
    "            output = previous_output\n",
    "            return (elements_finished, \n",
    "                next_input,\n",
    "                state,\n",
    "                output,\n",
    "                loop_state)\n",
    "        \n",
    "        def loop_fn(time, previous_output, previous_state,  previous_loop_state):\n",
    "            if previous_state is None:\n",
    "                assert previous_output is None and previous_state is None\n",
    "                return loop_fn_initial()\n",
    "            else:\n",
    "                return loop_fn_transition(time, previous_output, previous_state,  previous_loop_state)\n",
    "        \n",
    "        decoder_outputs_ta, decoder_final_state, _ = tf.nn.raw_rnn(decoder_cell, loop_fn)\n",
    "        decoder_outputs = decoder_outputs_ta.stack()\n",
    "        decoder_max_steps, decoder_batch_size, decoder_outputs_size = tf.unstack(tf.shape(decoder_outputs))\n",
    "        self.max_steps = decoder_max_steps\n",
    "        self.decoder_batch_size = decoder_batch_size\n",
    "        decoder_outputs_size = self.attention_model.attention_size\n",
    "        self.decoder_outputs = decoder_outputs\n",
    "        decoder_outputs_flat = tf.reshape(decoder_outputs, (-1, decoder_outputs_size))\n",
    "        decoder_logits_flat = tf.matmul(decoder_outputs_flat, W_output) + b_output\n",
    "        decoder_logits = tf.reshape(decoder_logits_flat, (decoder_max_steps, decoder_batch_size, self.vocab_size))\n",
    "        decoder_logits = tf.transpose(decoder_logits, [1, 0, 2])\n",
    "        self.decoder_prediction = tf.argmax(decoder_logits, 2)\n",
    "        self.decoder_logits = decoder_logits\n",
    "        \n",
    "        # Optimization\n",
    "        cross_entropy = tf.nn.softmax_cross_entropy_with_logits(\n",
    "            labels=tf.one_hot(self.decoder_target, depth=self.vocab_size, dtype=tf.float32),\n",
    "            logits=decoder_logits)\n",
    "        # cross_entropy = (tf.nn.softmax(self.decoder_logits) - tf.one_hot(self.decoder_target, depth=self.vocab_size, dtype=tf.float32))**2\n",
    "        # We do not optimize for negative labels\n",
    "        # weights = tf.cast(self.decoder_target >= 0, tf.float32)\n",
    "        # self.weights = weights\n",
    "        # self.loss = tf.reduce_mean(cross_entropy * weights)\n",
    "        self.loss = tf.reduce_mean(cross_entropy)\n",
    "        \n",
    "        self.learning_rate_op = self._get_learning_rate()\n",
    "        update_ops = tf.get_collection(tf.GraphKeys.UPDATE_OPS)\n",
    "        with tf.control_dependencies(update_ops):\n",
    "            self.optimizer = self._get_optimizer(self.optimizer_name, self.learning_rate_op, self.optimizer_conf)\n",
    "            grads_vars = self.optimizer.compute_gradients(self.loss)\n",
    "            clipped_grads_vars = [\n",
    "                (tf.clip_by_norm(gv[0], clip_norm=self.clip_val), gv[1]) \n",
    "                for gv in grads_vars]\n",
    "            self.train_step = self.optimizer.apply_gradients(clipped_grads_vars)\n",
    "        \n",
    "    def _optimize(self, batch_X, batch_y, *args, **kwargs):\n",
    "        global count\n",
    "        batch_X = [x[::-1] for x in batch_X[0]]\n",
    "        batch_X, Xlen = self.processor.batch_padding(batch_X, self.maxlen)\n",
    "        length = np.max(Xlen) + self.additional_length\n",
    "        batch_y = self._batch_padding(batch_y, length)\n",
    "        feed_dict = {self.encoder_input: batch_X,\n",
    "                     self.decoder_target: batch_y,\n",
    "                     self.training: False}\n",
    "        \n",
    "        # print(np.argmax(logits, 2))\n",
    "        # print(\"batch_y\", batch_y)\n",
    "        # print(decoder_batch)\n",
    "        # print(one_hot)\n",
    "        if count % 1000 == 0:\n",
    "            logits = self.sess.run(self.decoder_logits, feed_dict=feed_dict)\n",
    "            # alignments = self.sess.run(self.alignments, feed_dict=feed_dict)\n",
    "            decoder_batch = self.sess.run(self.decoder_batch_size, feed_dict=feed_dict)\n",
    "            print(\"predition\", np.argmax(logits, 2))\n",
    "            print(\"max\", np.max(np.argmax(logits, 2)))\n",
    "        # print(\"alignments\", logits)\n",
    "        # print(\"logits\", logits)\n",
    "        # print(np.max(np.argmax(logits, 2)))\n",
    "        count += 1\n",
    "        _, loss = self.sess.run([self.train_step, self.loss], feed_dict=feed_dict)\n",
    "        return loss\n",
    "    \n",
    "    def _get_output_size(self, conf):\n",
    "        if isinstance(conf, list) or isinstance(conf, tuple):\n",
    "            x = conf[-1]\n",
    "        else:\n",
    "            x = conf\n",
    "        return x[\"num_units\"]\n",
    "    \n",
    "    def generate_sentences(self, sentences):\n",
    "        X = [self.processor.encode(sentence) for sentence in sentences]\n",
    "        # X = sentences\n",
    "        X = [x_[::-1] for x_ in X]\n",
    "        X, Xlen = self.processor.batch_padding(X, self.maxlen)\n",
    "        feed_dict = {self.encoder_input: X,\n",
    "                     self.training: True}\n",
    "        word_idx = self.sess.run(self.decoder_prediction, feed_dict=feed_dict)\n",
    "        logits =  self.sess.run(self.decoder_logits, feed_dict=feed_dict)\n",
    "        print(word_idx)\n",
    "        return [self.processor.decode(i) for i in word_idx], logits\n",
    "    \n",
    "    def _batch_padding(self, batch, length):\n",
    "        EOS = 1\n",
    "        PAD = 0\n",
    "        padded_batch = []\n",
    "        for x in batch:\n",
    "            x = list(x)\n",
    "            if len(x) > length:\n",
    "                x = x[:length]\n",
    "            elif len(x) < length:\n",
    "                x.append(EOS)\n",
    "            while len(x) < length:\n",
    "                x.append(PAD)\n",
    "            padded_batch.append(x)\n",
    "        return np.array(padded_batch)"
   ]
  },
  {
   "cell_type": "code",
   "execution_count": 99,
   "metadata": {},
   "outputs": [
    {
     "name": "stderr",
     "output_type": "stream",
     "text": [
      "/home/tomoaki/anaconda3/lib/python3.6/site-packages/tensorflow/python/ops/gradients_impl.py:93: UserWarning: Converting sparse IndexedSlices to a dense Tensor of unknown shape. This may consume a large amount of memory.\n",
      "  \"Converting sparse IndexedSlices to a dense Tensor of unknown shape. \"\n",
      "\n",
      "\n",
      "\n",
      "\n",
      "  0%|          | 0/10000 [00:00<?, ?it/s]"
     ]
    },
    {
     "name": "stdout",
     "output_type": "stream",
     "text": [
      "Model saved in file: params/model.ckpt\n"
     ]
    },
    {
     "name": "stderr",
     "output_type": "stream",
     "text": [
      "\u001b[A\u001b[A\u001b[A\u001b[A\n",
      "\n",
      "\n",
      "\n",
      "  0%|          | 1/10000 [01:01<170:37:50, 61.43s/it]\u001b[A\u001b[A\u001b[A\u001b[A"
     ]
    },
    {
     "name": "stdout",
     "output_type": "stream",
     "text": [
      "predition [[10738    36     1 ...,     0     0     0]\n",
      " [17914 17914     1 ...,     0     0     0]\n",
      " [10738    36     1 ...,     0     0     0]\n",
      " ..., \n",
      " [    0     1     1 ...,     0     0     0]\n",
      " [10738    36     1 ...,     0     0     0]\n",
      " [10738 17914     1 ...,     0     0     0]]\n",
      "max 17914\n"
     ]
    },
    {
     "name": "stderr",
     "output_type": "stream",
     "text": [
      "\n",
      "\n",
      "\n",
      "\n",
      "  0%|          | 2/10000 [02:03<170:50:01, 61.51s/it]\u001b[A\u001b[A\u001b[A\u001b[A"
     ]
    },
    {
     "name": "stdout",
     "output_type": "stream",
     "text": [
      "predition [[10738  8492     1 ...,     0     0     0]\n",
      " [   36    36     1 ...,     0     0     0]\n",
      " [10738  8492     1 ...,     0     0     0]\n",
      " ..., \n",
      " [10738  8492     1 ...,     0     0     0]\n",
      " [10738  8492     1 ...,     0     0     0]\n",
      " [10738  8492     1 ...,     0     0     0]]\n",
      "max 10738\n"
     ]
    },
    {
     "name": "stderr",
     "output_type": "stream",
     "text": [
      "\n",
      "\n",
      "\n",
      "\n",
      "  0%|          | 3/10000 [03:04<170:55:10, 61.55s/it]\u001b[A\u001b[A\u001b[A\u001b[A\n",
      "\n",
      "\n",
      "\n",
      "  0%|          | 4/10000 [04:06<170:40:12, 61.47s/it]\u001b[A\u001b[A\u001b[A\u001b[A"
     ]
    },
    {
     "name": "stdout",
     "output_type": "stream",
     "text": [
      "predition [[7949    1    1 ...,    0    0    0]\n",
      " [7949    1    1 ...,    0    0    0]\n",
      " [  36    1    0 ...,    0    0    0]\n",
      " ..., \n",
      " [  36    1    0 ...,    0    0    0]\n",
      " [7949    1    1 ...,    0    0    0]\n",
      " [7949    1    1 ...,    0    0    0]]\n",
      "max 7949\n"
     ]
    },
    {
     "name": "stderr",
     "output_type": "stream",
     "text": [
      "\n",
      "\n",
      "\n",
      "\n",
      "  0%|          | 5/10000 [05:07<170:34:47, 61.44s/it]\u001b[A\u001b[A\u001b[A\u001b[A\n",
      "\n",
      "\n",
      "\n",
      "  0%|          | 6/10000 [06:08<170:26:37, 61.40s/it]\u001b[A\u001b[A\u001b[A\u001b[A"
     ]
    },
    {
     "name": "stdout",
     "output_type": "stream",
     "text": [
      "predition [[10738  8492     0 ...,     0     0     0]\n",
      " [10738  8492     0 ...,     0     0     0]\n",
      " [ 7949  8492     0 ...,     0     0     0]\n",
      " ..., \n",
      " [10738  8492     0 ...,     0     0     0]\n",
      " [10738  8492     0 ...,     0     0     0]\n",
      " [10738  8492     0 ...,     0     0     0]]\n",
      "max 17914\n"
     ]
    },
    {
     "name": "stderr",
     "output_type": "stream",
     "text": [
      "\n",
      "\n",
      "\n",
      "\n",
      "  0%|          | 7/10000 [07:10<170:34:12, 61.45s/it]\u001b[A\u001b[A\u001b[A\u001b[A\n",
      "\n",
      "\n",
      "\n",
      "  0%|          | 8/10000 [08:11<170:28:05, 61.42s/it]\u001b[A\u001b[A\u001b[A\u001b[A"
     ]
    },
    {
     "name": "stdout",
     "output_type": "stream",
     "text": [
      "predition [[7949 8492    0 ...,    0    0    0]\n",
      " [7949 8492    0 ...,    0    0    0]\n",
      " [7949 8492    0 ...,    0    0    0]\n",
      " ..., \n",
      " [7949 8492    0 ...,    0    0    0]\n",
      " [7949 8492    0 ...,    0    0    0]\n",
      " [7949 8492    0 ...,    0    0    0]]\n",
      "max 8492\n"
     ]
    },
    {
     "name": "stderr",
     "output_type": "stream",
     "text": [
      "\n",
      "\n",
      "\n",
      "\n",
      "  0%|          | 9/10000 [09:13<170:27:39, 61.42s/it]\u001b[A\u001b[A\u001b[A\u001b[A\n",
      "\n",
      "\n",
      "\n",
      "  0%|          | 10/10000 [10:14<170:15:36, 61.35s/it]\u001b[A\u001b[A\u001b[A\u001b[A"
     ]
    },
    {
     "name": "stdout",
     "output_type": "stream",
     "text": [
      "predition [[7949 8492    1 ...,    0    0    0]\n",
      " [7949 8492   36 ...,    0    0    0]\n",
      " [7949 8492    1 ...,    0    0    0]\n",
      " ..., \n",
      " [7949 8492    1 ...,    0    0    0]\n",
      " [7949 8492    1 ...,    0    0    0]\n",
      " [7949 8492   36 ...,    0    0    0]]\n",
      "max 8492\n"
     ]
    },
    {
     "name": "stderr",
     "output_type": "stream",
     "text": [
      "\n",
      "\n",
      "\n",
      "\n",
      "  0%|          | 11/10000 [11:15<170:25:21, 61.42s/it]\u001b[A\u001b[A\u001b[A\u001b[A\n",
      "\n",
      "\n",
      "\n",
      "  0%|          | 12/10000 [12:17<170:20:08, 61.39s/it]\u001b[A\u001b[A\u001b[A\u001b[A"
     ]
    },
    {
     "name": "stdout",
     "output_type": "stream",
     "text": [
      "predition [[ 7949  8492    36 ...,     0     0     0]\n",
      " [10738  8492     1 ...,     0     0     0]\n",
      " [10738  8492    36 ...,     0     0     0]\n",
      " ..., \n",
      " [ 7949  8492    36 ...,     0     0     0]\n",
      " [ 7949  8492     1 ...,     0     0     0]\n",
      " [ 7949  8492     1 ...,     0     0     0]]\n",
      "max 10738\n"
     ]
    },
    {
     "name": "stderr",
     "output_type": "stream",
     "text": [
      "\n",
      "\n",
      "\n",
      "\n",
      "  0%|          | 13/10000 [13:19<171:15:30, 61.73s/it]\u001b[A\u001b[A\u001b[A\u001b[A\n",
      "\n",
      "\n",
      "\n",
      "  0%|          | 14/10000 [14:23<172:34:51, 62.22s/it]\u001b[A\u001b[A\u001b[A\u001b[A"
     ]
    },
    {
     "name": "stdout",
     "output_type": "stream",
     "text": [
      "predition [[7949 8492    1 ...,    0    0    0]\n",
      " [7949    1    1 ...,    0    0    0]\n",
      " [7949 8492    1 ...,    0    0    0]\n",
      " ..., \n",
      " [7949 8492    1 ...,    0    0    0]\n",
      " [7949 8492    1 ...,    0    0    0]\n",
      " [7949 8492    1 ...,    0    0    0]]\n",
      "max 8492\n"
     ]
    },
    {
     "name": "stderr",
     "output_type": "stream",
     "text": [
      "\n",
      "\n",
      "\n",
      "\n",
      "  0%|          | 15/10000 [15:25<173:10:51, 62.44s/it]\u001b[A\u001b[A\u001b[A\u001b[A\n",
      "\n",
      "\n",
      "\n",
      "  0%|          | 16/10000 [16:28<173:37:28, 62.61s/it]\u001b[A\u001b[A\u001b[A\u001b[A"
     ]
    },
    {
     "name": "stdout",
     "output_type": "stream",
     "text": [
      "predition [[7949 8492    1 ...,    0    0    0]\n",
      " [7949 8492    0 ...,    0    0    0]\n",
      " [7949 8492    0 ...,    0    0    0]\n",
      " ..., \n",
      " [7949 8492    0 ...,    0    0    0]\n",
      " [7949 8492    0 ...,    0    0    0]\n",
      " [7949 8492    0 ...,    0    0    0]]\n",
      "max 8492\n"
     ]
    },
    {
     "name": "stderr",
     "output_type": "stream",
     "text": [
      "\n",
      "\n",
      "\n",
      "\n",
      "  0%|          | 17/10000 [17:32<174:08:47, 62.80s/it]\u001b[A\u001b[A\u001b[A\u001b[A"
     ]
    },
    {
     "name": "stdout",
     "output_type": "stream",
     "text": [
      "predition [[ 7949     1     1 ...,     0     0     0]\n",
      " [ 7949     1     1 ...,     0     0     0]\n",
      " [ 7949     1     1 ...,     0     0     0]\n",
      " ..., \n",
      " [ 7949     1     1 ...,     0     0     0]\n",
      " [10738  8492     1 ...,     0     0     0]\n",
      " [ 7949  8492     0 ...,     0     0     0]]\n",
      "max 10738\n"
     ]
    },
    {
     "name": "stderr",
     "output_type": "stream",
     "text": [
      "\n",
      "\n",
      "\n",
      "\n",
      "  0%|          | 18/10000 [18:34<173:58:32, 62.74s/it]\u001b[A\u001b[A\u001b[A\u001b[A\n",
      "\n",
      "\n",
      "\n",
      "  0%|          | 19/10000 [19:37<173:55:14, 62.73s/it]\u001b[A\u001b[A\u001b[A\u001b[A"
     ]
    },
    {
     "name": "stdout",
     "output_type": "stream",
     "text": [
      "predition [[7949    1    1 ...,    0    0    0]\n",
      " [7949    1    1 ...,    0    0    0]\n",
      " [7949 8492    0 ...,    0    0    0]\n",
      " ..., \n",
      " [7949 8492    0 ...,    0    0    0]\n",
      " [7949    1    1 ...,    0    0    0]\n",
      " [7949    1    1 ...,    0    0    0]]\n",
      "max 17914\n"
     ]
    },
    {
     "name": "stderr",
     "output_type": "stream",
     "text": [
      "\n",
      "\n",
      "\n",
      "\n",
      "  0%|          | 20/10000 [20:39<173:15:38, 62.50s/it]\u001b[A\u001b[A\u001b[A\u001b[A\n",
      "\n",
      "\n",
      "\n",
      "  0%|          | 21/10000 [21:41<172:49:15, 62.35s/it]\u001b[A\u001b[A\u001b[A\u001b[A"
     ]
    },
    {
     "name": "stdout",
     "output_type": "stream",
     "text": [
      "predition [[10738  8492  8492 ...,     0     0     0]\n",
      " [10738  8492     1 ...,     0     0     0]\n",
      " [10738  8492     1 ...,     0     0     0]\n",
      " ..., \n",
      " [10738  8492  8492 ...,     0     0     0]\n",
      " [10738  8492  8492 ...,     0     0     0]\n",
      " [ 7949  8492     1 ...,     0     0     0]]\n",
      "max 10738\n"
     ]
    },
    {
     "name": "stderr",
     "output_type": "stream",
     "text": [
      "\n",
      "\n",
      "\n",
      "\n",
      "  0%|          | 22/10000 [22:43<172:35:32, 62.27s/it]\u001b[A\u001b[A\u001b[A\u001b[A\n",
      "\n",
      "\n",
      "\n",
      "  0%|          | 23/10000 [23:47<173:37:41, 62.65s/it]\u001b[A\u001b[A\u001b[A\u001b[A"
     ]
    },
    {
     "name": "stdout",
     "output_type": "stream",
     "text": [
      "predition [[ 7949  8492 17914 ...,     0     0     0]\n",
      " [ 7949  8492     1 ...,     0     0     0]\n",
      " [ 7949  8492     1 ...,     0     0     0]\n",
      " ..., \n",
      " [ 7949     1     1 ...,     0     0     0]\n",
      " [ 7949  8492     1 ...,     0     0     0]\n",
      " [ 7949    36     1 ...,     0     0     0]]\n",
      "max 17914\n"
     ]
    },
    {
     "name": "stderr",
     "output_type": "stream",
     "text": [
      "\n",
      "\n",
      "\n",
      "\n",
      "  0%|          | 24/10000 [24:50<174:06:41, 62.83s/it]\u001b[A\u001b[A\u001b[A\u001b[A\n",
      "\n",
      "\n",
      "\n",
      "  0%|          | 25/10000 [25:52<173:25:28, 62.59s/it]\u001b[A\u001b[A\u001b[A\u001b[A"
     ]
    },
    {
     "name": "stdout",
     "output_type": "stream",
     "text": [
      "predition [[ 7949     1     0 ...,     0     0     0]\n",
      " [ 7949     1     0 ...,     0     0     0]\n",
      " [ 7949    36     0 ...,     0     0     0]\n",
      " ..., \n",
      " [ 7949     1     0 ...,     0     0     0]\n",
      " [ 7949     1 17914 ...,     0     0     0]\n",
      " [ 7949    36     0 ...,     0     0     0]]\n",
      "max 17914\n"
     ]
    },
    {
     "name": "stderr",
     "output_type": "stream",
     "text": [
      "\n",
      "\n",
      "\n",
      "\n",
      "  0%|          | 26/10000 [26:57<175:07:22, 63.21s/it]\u001b[A\u001b[A\u001b[A\u001b[A\n",
      "\n",
      "\n",
      "\n",
      "  0%|          | 27/10000 [28:02<176:47:42, 63.82s/it]\u001b[A\u001b[A\u001b[A\u001b[A"
     ]
    },
    {
     "name": "stdout",
     "output_type": "stream",
     "text": [
      "predition [[ 7949     1     0 ...,     0     0     0]\n",
      " [10738     1     0 ...,     0     0     0]\n",
      " [ 7949  8492 10552 ...,     0     0     0]\n",
      " ..., \n",
      " [10738  8492     0 ...,     0     0     0]\n",
      " [10738  8492     0 ...,     0     0     0]\n",
      " [10738    36     0 ...,     0     0     0]]\n",
      "max 10738\n"
     ]
    },
    {
     "name": "stderr",
     "output_type": "stream",
     "text": [
      "\n",
      "\n",
      "\n",
      "\n",
      "  0%|          | 28/10000 [29:04<175:50:09, 63.48s/it]\u001b[A\u001b[A\u001b[A\u001b[A\n",
      "\n",
      "\n",
      "\n",
      "  0%|          | 29/10000 [30:08<176:00:38, 63.55s/it]\u001b[A\u001b[A\u001b[A\u001b[A"
     ]
    },
    {
     "name": "stdout",
     "output_type": "stream",
     "text": [
      "predition [[ 7949     1     1 ...,     0     0     0]\n",
      " [ 7949  8492     1 ...,     0     0     0]\n",
      " [10738    36     1 ...,     0     0     0]\n",
      " ..., \n",
      " [ 7949  8492     1 ...,     0     0     0]\n",
      " [ 7949  8492     1 ...,     0     0     0]\n",
      " [ 7949  8492     1 ...,     0     0     0]]\n",
      "max 10738\n"
     ]
    },
    {
     "name": "stderr",
     "output_type": "stream",
     "text": [
      "\n",
      "\n",
      "\n",
      "\n",
      "  0%|          | 30/10000 [31:12<175:49:23, 63.49s/it]\u001b[A\u001b[A\u001b[A\u001b[A"
     ]
    },
    {
     "name": "stdout",
     "output_type": "stream",
     "text": [
      "predition [[ 7949  8492     1 ...,     0     0     0]\n",
      " [ 7949  8492     1 ...,     0     0     0]\n",
      " [ 7949  8492     1 ...,     0     0     0]\n",
      " ..., \n",
      " [ 7949  8492     1 ...,     0     0     0]\n",
      " [ 7949  8492     1 ...,     0     0     0]\n",
      " [ 7949  8492 10552 ...,     0     0     0]]\n",
      "max 10552\n"
     ]
    },
    {
     "name": "stderr",
     "output_type": "stream",
     "text": [
      "\n",
      "\n",
      "\n",
      "\n",
      "  0%|          | 31/10000 [32:14<174:54:19, 63.16s/it]\u001b[A\u001b[A\u001b[A\u001b[A\n",
      "\n",
      "\n",
      "\n",
      "  0%|          | 32/10000 [33:18<175:59:26, 63.56s/it]\u001b[A\u001b[A\u001b[A\u001b[A"
     ]
    },
    {
     "name": "stdout",
     "output_type": "stream",
     "text": [
      "predition [[10738  8492     0 ...,     0     0     0]\n",
      " [10738  8492     0 ...,     0     0     0]\n",
      " [10738  8492     0 ...,     0     0     0]\n",
      " ..., \n",
      " [10738  8492     0 ...,     0     0     0]\n",
      " [ 7949  8492     0 ...,     0     0     0]\n",
      " [10738  8492     0 ...,     0     0     0]]\n",
      "max 10738\n"
     ]
    },
    {
     "name": "stderr",
     "output_type": "stream",
     "text": [
      "\n",
      "\n",
      "\n",
      "\n",
      "  0%|          | 33/10000 [34:22<175:46:53, 63.49s/it]\u001b[A\u001b[A\u001b[A\u001b[A\n",
      "\n",
      "\n",
      "\n",
      "  0%|          | 34/10000 [35:27<177:07:11, 63.98s/it]\u001b[A\u001b[A\u001b[A\u001b[A"
     ]
    },
    {
     "name": "stdout",
     "output_type": "stream",
     "text": [
      "predition [[ 7949  8492     1 ...,     0     0     0]\n",
      " [ 7949  8492 10552 ...,     0     0     0]\n",
      " [10738    36     1 ...,     0     0     0]\n",
      " ..., \n",
      " [10738    36     0 ...,     0     0     0]\n",
      " [ 7949  8492 10552 ...,     0     0     0]\n",
      " [10738  8492     1 ...,     0     0     0]]\n",
      "max 17914\n"
     ]
    },
    {
     "name": "stderr",
     "output_type": "stream",
     "text": [
      "\n",
      "\n",
      "\n",
      "\n",
      "  0%|          | 35/10000 [36:29<175:22:40, 63.36s/it]\u001b[A\u001b[A\u001b[A\u001b[A\n",
      "\n",
      "\n",
      "\n",
      "  0%|          | 36/10000 [37:33<175:42:15, 63.48s/it]\u001b[A\u001b[A\u001b[A\u001b[A"
     ]
    },
    {
     "name": "stdout",
     "output_type": "stream",
     "text": [
      "predition [[ 7949  8492     0 ...,     0     0     0]\n",
      " [ 7949  8492 10552 ...,     0     0     0]\n",
      " [10738     1     1 ...,     0     0     0]\n",
      " ..., \n",
      " [10738     1     1 ...,     0     0     0]\n",
      " [ 7949  8492     0 ...,     0     0     0]\n",
      " [ 7949     1     1 ...,     0     0     0]]\n",
      "max 10738\n"
     ]
    },
    {
     "name": "stderr",
     "output_type": "stream",
     "text": [
      "\n",
      "\n",
      "\n",
      "\n",
      "  0%|          | 37/10000 [38:35<174:36:26, 63.09s/it]\u001b[A\u001b[A\u001b[A\u001b[A\n",
      "\n",
      "\n",
      "\n",
      "  0%|          | 38/10000 [39:39<175:20:21, 63.36s/it]\u001b[A\u001b[A\u001b[A\u001b[A"
     ]
    },
    {
     "name": "stdout",
     "output_type": "stream",
     "text": [
      "predition [[ 7949  8492     0 ...,     0     0     0]\n",
      " [ 7949     1     1 ...,     0     0     0]\n",
      " [ 7949  8492     0 ...,     0     0     0]\n",
      " ..., \n",
      " [10738     1     1 ...,     0     0     0]\n",
      " [ 7949     1     0 ...,     0     0     0]\n",
      " [ 7949     1     0 ...,     0     0     0]]\n",
      "max 17877\n"
     ]
    },
    {
     "name": "stderr",
     "output_type": "stream",
     "text": [
      "\n",
      "\n",
      "\n",
      "\n",
      "  0%|          | 39/10000 [40:41<174:32:00, 63.08s/it]\u001b[A\u001b[A\u001b[A\u001b[A\n",
      "\n",
      "\n",
      "\n",
      "  0%|          | 40/10000 [41:43<173:53:48, 62.85s/it]\u001b[A\u001b[A\u001b[A\u001b[A"
     ]
    },
    {
     "name": "stdout",
     "output_type": "stream",
     "text": [
      "predition [[ 7949     1     1 ...,     0     0     0]\n",
      " [ 7949     1     1 ...,     0     0     0]\n",
      " [ 7949     1     1 ...,     0     0     0]\n",
      " ..., \n",
      " [ 7949  8492     1 ...,     0     0     0]\n",
      " [ 7949  8492     1 ...,     0     0     0]\n",
      " [ 7949  8492 10552 ...,     0     0     0]]\n",
      "max 10738\n"
     ]
    },
    {
     "name": "stderr",
     "output_type": "stream",
     "text": [
      "\n",
      "\n",
      "\n",
      "\n",
      "  0%|          | 41/10000 [42:46<173:27:34, 62.70s/it]\u001b[A\u001b[A\u001b[A\u001b[A\n",
      "\n",
      "\n",
      "\n",
      "  0%|          | 42/10000 [43:47<172:28:54, 62.36s/it]\u001b[A\u001b[A\u001b[A\u001b[A"
     ]
    },
    {
     "name": "stdout",
     "output_type": "stream",
     "text": [
      "predition [[10738    36    36 ...,     0     0     0]\n",
      " [ 7949    36    36 ...,     0     0     0]\n",
      " [ 7949    36     1 ...,     0     0     0]\n",
      " ..., \n",
      " [ 7949  8492 10552 ...,     0     0     0]\n",
      " [ 7949    36    36 ...,     0     0     0]\n",
      " [ 7949    36    36 ...,     0     0     0]]\n",
      "max 10738\n"
     ]
    },
    {
     "name": "stderr",
     "output_type": "stream",
     "text": [
      "\n",
      "\n",
      "\n",
      "\n",
      "  0%|          | 43/10000 [44:49<172:07:35, 62.23s/it]\u001b[A\u001b[A\u001b[A\u001b[A"
     ]
    },
    {
     "name": "stdout",
     "output_type": "stream",
     "text": [
      "predition [[ 7949  8492 10552 ...,     0     0     0]\n",
      " [ 7949     1     1 ...,     0     0     0]\n",
      " [ 7949  8492     1 ...,     0     0     0]\n",
      " ..., \n",
      " [ 7949  8492     1 ...,     0     0     0]\n",
      " [ 7949  8492 10552 ...,     0     0     0]\n",
      " [ 7949  8492 10552 ...,     0     0     0]]\n",
      "max 17496\n"
     ]
    },
    {
     "name": "stderr",
     "output_type": "stream",
     "text": [
      "\n",
      "\n",
      "\n",
      "\n",
      "  0%|          | 44/10000 [45:51<171:48:12, 62.12s/it]\u001b[A\u001b[A\u001b[A\u001b[A\n",
      "\n",
      "\n",
      "\n",
      "  0%|          | 45/10000 [46:54<172:37:59, 62.43s/it]\u001b[A\u001b[A\u001b[A\u001b[A"
     ]
    },
    {
     "name": "stdout",
     "output_type": "stream",
     "text": [
      "predition [[ 7949  8492 10552 ...,     0     0     0]\n",
      " [ 7949  8492 10552 ...,     0     0     0]\n",
      " [ 7949     1     1 ...,     0     0     0]\n",
      " ..., \n",
      " [ 7949  8492 17914 ...,     0     0     0]\n",
      " [ 7949  8492 10552 ...,     0     0     0]\n",
      " [ 7949  8492 10552 ...,     0     0     0]]\n",
      "max 17914\n"
     ]
    },
    {
     "name": "stderr",
     "output_type": "stream",
     "text": [
      "\n",
      "\n",
      "\n",
      "\n",
      "  0%|          | 46/10000 [47:57<172:36:00, 62.42s/it]\u001b[A\u001b[A\u001b[A\u001b[A\n",
      "\n",
      "\n",
      "\n",
      "  0%|          | 47/10000 [48:59<172:06:23, 62.25s/it]\u001b[A\u001b[A\u001b[A\u001b[A"
     ]
    },
    {
     "name": "stdout",
     "output_type": "stream",
     "text": [
      "predition [[ 7949    36     0 ...,     0     0     0]\n",
      " [ 7949  8492 10552 ...,     0     0     0]\n",
      " [ 7949    36     0 ...,     0     0     0]\n",
      " ..., \n",
      " [ 7949     1     0 ...,     0     0     0]\n",
      " [ 7949    36     0 ...,     0     0     0]\n",
      " [ 7949  8492     0 ...,     0     0     0]]\n",
      "max 10738\n"
     ]
    },
    {
     "name": "stderr",
     "output_type": "stream",
     "text": [
      "\n",
      "\n",
      "\n",
      "\n",
      "  0%|          | 48/10000 [50:00<171:43:29, 62.12s/it]\u001b[A\u001b[A\u001b[A\u001b[A\n",
      "\n",
      "\n",
      "\n",
      "  0%|          | 49/10000 [51:02<171:35:34, 62.08s/it]\u001b[A\u001b[A\u001b[A\u001b[A"
     ]
    },
    {
     "name": "stdout",
     "output_type": "stream",
     "text": [
      "predition [[7949    1    1 ...,    0    0    0]\n",
      " [7949 8492    1 ...,    0    0    0]\n",
      " [7949    1    1 ...,    0    0    0]\n",
      " ..., \n",
      " [7949 8492    1 ...,    0    0    0]\n",
      " [7949 8492    1 ...,    0    0    0]\n",
      " [7949 8492    1 ...,    0    0    0]]\n",
      "max 17914\n"
     ]
    },
    {
     "name": "stderr",
     "output_type": "stream",
     "text": [
      "\n",
      "\n",
      "\n",
      "\n",
      "  0%|          | 50/10000 [52:04<171:19:21, 61.99s/it]\u001b[A\u001b[A\u001b[A\u001b[A\n",
      "\n",
      "\n",
      "\n",
      "  1%|          | 51/10000 [53:06<170:57:23, 61.86s/it]\u001b[A\u001b[A\u001b[A\u001b[A"
     ]
    },
    {
     "name": "stdout",
     "output_type": "stream",
     "text": [
      "predition [[ 7949  7949 10552 ...,     0     0     0]\n",
      " [ 7949  8492 10552 ...,     0     0     0]\n",
      " [ 7949    36     1 ...,     0     0     0]\n",
      " ..., \n",
      " [10738     1     1 ...,     0     0     0]\n",
      " [10738     1     0 ...,     0     0     0]\n",
      " [ 7949  7949    36 ...,     0     0     0]]\n",
      "max 10738\n"
     ]
    },
    {
     "name": "stderr",
     "output_type": "stream",
     "text": [
      "\n",
      "\n",
      "\n",
      "\n",
      "  1%|          | 52/10000 [54:07<170:51:36, 61.83s/it]\u001b[A\u001b[A\u001b[A\u001b[A\n",
      "\n",
      "\n",
      "\n",
      "  1%|          | 53/10000 [55:10<171:27:45, 62.06s/it]\u001b[A\u001b[A\u001b[A\u001b[A"
     ]
    },
    {
     "name": "stdout",
     "output_type": "stream",
     "text": [
      "predition [[ 7949  8492 10552 ...,     0     0     0]\n",
      " [10738    36     1 ...,     0     0     0]\n",
      " [ 7949  8492 10552 ...,     0     0     0]\n",
      " ..., \n",
      " [10738    36     1 ...,     0     0     0]\n",
      " [10738     1     1 ...,     0     0     0]\n",
      " [ 7949  8492 10552 ...,     0     0     0]]\n",
      "max 10738\n"
     ]
    },
    {
     "name": "stderr",
     "output_type": "stream",
     "text": [
      "\n",
      "\n",
      "\n",
      "\n",
      "  1%|          | 54/10000 [56:12<171:43:04, 62.15s/it]\u001b[A\u001b[A\u001b[A\u001b[A\n",
      "\n",
      "\n",
      "\n",
      "  1%|          | 55/10000 [57:14<171:31:30, 62.09s/it]\u001b[A\u001b[A\u001b[A\u001b[A"
     ]
    },
    {
     "name": "stdout",
     "output_type": "stream",
     "text": [
      "predition [[10738     1     0 ...,     0     0     0]\n",
      " [10738    36    36 ...,     0     0     0]\n",
      " [ 7949  8492     0 ...,     0     0     0]\n",
      " ..., \n",
      " [ 7949  8492 10552 ...,     0     0     0]\n",
      " [10738     1     0 ...,     0     0     0]\n",
      " [ 7949  8492  8492 ...,     0     0     0]]\n",
      "max 17496\n"
     ]
    },
    {
     "name": "stderr",
     "output_type": "stream",
     "text": [
      "\n",
      "\n",
      "\n",
      "\n",
      "  1%|          | 56/10000 [58:18<172:39:01, 62.50s/it]\u001b[A\u001b[A\u001b[A\u001b[A"
     ]
    },
    {
     "name": "stdout",
     "output_type": "stream",
     "text": [
      "predition [[ 7949  8492     0 ...,     0     0     0]\n",
      " [ 7949  8492     0 ...,     0     0     0]\n",
      " [10738  8492     0 ...,     0     0     0]\n",
      " ..., \n",
      " [10738  8492 17914 ...,     0     0     0]\n",
      " [ 7949  8492 10552 ...,     0     0     0]\n",
      " [ 7949  8492     0 ...,     0     0     0]]\n",
      "max 17914\n"
     ]
    },
    {
     "name": "stderr",
     "output_type": "stream",
     "text": [
      "\n",
      "\n",
      "\n",
      "\n",
      "  1%|          | 57/10000 [59:22<174:10:15, 63.06s/it]\u001b[A\u001b[A\u001b[A\u001b[A\n",
      "\n",
      "\n",
      "\n",
      "  1%|          | 58/10000 [1:00:29<176:50:57, 64.04s/it]\u001b[A\u001b[A\u001b[A\u001b[A"
     ]
    },
    {
     "name": "stdout",
     "output_type": "stream",
     "text": [
      "predition [[10738    36     0 ...,     0     0     0]\n",
      " [10738     1     1 ...,     0     0     0]\n",
      " [10738     1     1 ...,     0     0     0]\n",
      " ..., \n",
      " [10738     1     0 ...,     0     0     0]\n",
      " [10738     1     0 ...,     0     0     0]\n",
      " [ 7949  8492     0 ...,     0     0     0]]\n",
      "max 10738\n"
     ]
    },
    {
     "name": "stderr",
     "output_type": "stream",
     "text": [
      "\n",
      "\n",
      "\n",
      "\n",
      "  1%|          | 59/10000 [1:01:31<175:15:12, 63.47s/it]\u001b[A\u001b[A\u001b[A\u001b[A\n",
      "\n",
      "\n",
      "\n",
      "  1%|          | 60/10000 [1:02:33<173:58:34, 63.01s/it]\u001b[A\u001b[A\u001b[A\u001b[A"
     ]
    },
    {
     "name": "stdout",
     "output_type": "stream",
     "text": [
      "predition [[ 7949  8492     1 ...,     0     0     0]\n",
      " [17496     1     1 ...,     0     0     0]\n",
      " [ 7949  8492  8492 ...,     0     0     0]\n",
      " ..., \n",
      " [10738  8492     1 ...,     0     0     0]\n",
      " [ 7949  8492  8492 ...,     0     0     0]\n",
      " [ 7949    36     1 ...,     0     0     0]]\n",
      "max 17914\n"
     ]
    },
    {
     "name": "stderr",
     "output_type": "stream",
     "text": [
      "\n",
      "\n",
      "\n",
      "\n",
      "  1%|          | 61/10000 [1:03:35<173:25:36, 62.82s/it]\u001b[A\u001b[A\u001b[A\u001b[A\n",
      "\n",
      "\n",
      "\n",
      "  1%|          | 62/10000 [1:04:37<172:51:43, 62.62s/it]\u001b[A\u001b[A\u001b[A\u001b[A"
     ]
    },
    {
     "name": "stdout",
     "output_type": "stream",
     "text": [
      "predition [[10738     1     0 ...,     0     0     0]\n",
      " [ 7949    36     0 ...,     0     0     0]\n",
      " [ 7949  8492 10552 ...,     0     0     0]\n",
      " ..., \n",
      " [ 7949    36     0 ...,     0     0     0]\n",
      " [ 7949  8492     0 ...,     0     0     0]\n",
      " [ 7949  8492     0 ...,     0     0     0]]\n",
      "max 10738\n"
     ]
    },
    {
     "name": "stderr",
     "output_type": "stream",
     "text": [
      "\n",
      "\n",
      "\n",
      "\n",
      "  1%|          | 63/10000 [1:05:40<172:49:51, 62.61s/it]\u001b[A\u001b[A\u001b[A\u001b[A\n",
      "\n",
      "\n",
      "\n",
      "  1%|          | 64/10000 [1:06:41<171:48:35, 62.25s/it]\u001b[A\u001b[A\u001b[A\u001b[A"
     ]
    },
    {
     "name": "stdout",
     "output_type": "stream",
     "text": [
      "predition [[ 7949     1     1 ...,     0     0     0]\n",
      " [17496     1     1 ...,     0     0     0]\n",
      " [ 7949     1     0 ...,     0     0     0]\n",
      " ..., \n",
      " [ 7949  7949 10552 ...,     0     0     0]\n",
      " [ 7949     1     1 ...,     0     0     0]\n",
      " [ 7949  8492 10552 ...,     0     0     0]]\n",
      "max 17914\n"
     ]
    },
    {
     "name": "stderr",
     "output_type": "stream",
     "text": [
      "\n",
      "\n",
      "\n",
      "\n",
      "  1%|          | 65/10000 [1:07:43<171:21:33, 62.09s/it]\u001b[A\u001b[A\u001b[A\u001b[A\n",
      "\n",
      "\n",
      "\n",
      "  1%|          | 66/10000 [1:08:46<172:29:28, 62.51s/it]\u001b[A\u001b[A\u001b[A\u001b[A"
     ]
    },
    {
     "name": "stdout",
     "output_type": "stream",
     "text": [
      "predition [[ 7949  8492  8492 ...,     0     0     0]\n",
      " [ 7949  8492  8492 ...,     0     0     0]\n",
      " [10738  8492     0 ...,     0     0     0]\n",
      " ..., \n",
      " [10738  8492     0 ...,     0     0     0]\n",
      " [ 7949  8492     0 ...,     0     0     0]\n",
      " [ 7949     1     0 ...,     0     0     0]]\n",
      "max 17914\n"
     ]
    },
    {
     "name": "stderr",
     "output_type": "stream",
     "text": [
      "\n",
      "\n",
      "\n",
      "\n",
      "  1%|          | 67/10000 [1:09:49<172:14:13, 62.42s/it]\u001b[A\u001b[A\u001b[A\u001b[A\n",
      "\n",
      "\n",
      "\n",
      "  1%|          | 68/10000 [1:10:52<172:43:22, 62.61s/it]\u001b[A\u001b[A\u001b[A\u001b[A"
     ]
    },
    {
     "name": "stdout",
     "output_type": "stream",
     "text": [
      "predition [[ 7949  8492     1 ...,     0     0     0]\n",
      " [10738    36     1 ...,     0     0     0]\n",
      " [ 7949     1     0 ...,     0     0     0]\n",
      " ..., \n",
      " [10738    36     1 ...,     0     0     0]\n",
      " [ 7949     1     0 ...,     0     0     0]\n",
      " [ 7949  8492 10552 ...,     0     0     0]]\n",
      "max 17496\n"
     ]
    },
    {
     "name": "stderr",
     "output_type": "stream",
     "text": [
      "\n",
      "\n",
      "\n",
      "\n",
      "  1%|          | 69/10000 [1:11:56<174:34:35, 63.28s/it]\u001b[A\u001b[A\u001b[A\u001b[A\n",
      "\n",
      "\n",
      "\n",
      "  1%|          | 70/10000 [1:13:02<176:43:14, 64.07s/it]\u001b[A\u001b[A\u001b[A\u001b[A"
     ]
    },
    {
     "name": "stdout",
     "output_type": "stream",
     "text": [
      "predition [[10738    36    36 ...,     0     0     0]\n",
      " [ 7949  8492    36 ...,     0     0     0]\n",
      " [ 7949  8492 10552 ...,     0     0     0]\n",
      " ..., \n",
      " [10738  8492     0 ...,     0     0     0]\n",
      " [ 7949  8492 10552 ...,     0     0     0]\n",
      " [10738  8492    36 ...,     0     0     0]]\n",
      "max 17496\n"
     ]
    },
    {
     "name": "stderr",
     "output_type": "stream",
     "text": [
      "\n",
      "\n",
      "\n",
      "\n",
      "  1%|          | 71/10000 [1:14:04<174:45:55, 63.37s/it]\u001b[A\u001b[A\u001b[A\u001b[A"
     ]
    },
    {
     "name": "stdout",
     "output_type": "stream",
     "text": [
      "predition [[ 7949  8492  8492 ...,     0     0     0]\n",
      " [ 7949  8492     1 ...,     0     0     0]\n",
      " [ 7949  8492     1 ...,     0     0     0]\n",
      " ..., \n",
      " [ 7949  8492 10552 ...,     0     0     0]\n",
      " [10738    36     1 ...,     0     0     0]\n",
      " [ 7949  8492     1 ...,     0     0     0]]\n",
      "max 17914\n"
     ]
    },
    {
     "name": "stderr",
     "output_type": "stream",
     "text": [
      "\n",
      "\n",
      "\n",
      "\n",
      "  1%|          | 72/10000 [1:15:07<174:29:07, 63.27s/it]\u001b[A\u001b[A\u001b[A\u001b[A\n",
      "\n",
      "\n",
      "\n",
      "  1%|          | 73/10000 [1:16:09<173:03:52, 62.76s/it]\u001b[A\u001b[A\u001b[A\u001b[A"
     ]
    },
    {
     "name": "stdout",
     "output_type": "stream",
     "text": [
      "predition [[ 7949     1     1 ...,     0     0     0]\n",
      " [ 7949  8492 10552 ...,     0     0     0]\n",
      " [ 7949  8492 10552 ...,     0     0     0]\n",
      " ..., \n",
      " [ 7949  8492  8492 ...,     0     0     0]\n",
      " [ 7949  8492 10552 ...,     0     0     0]\n",
      " [ 7949  8492 10552 ...,     0     0     0]]\n",
      "max 17914\n"
     ]
    },
    {
     "name": "stderr",
     "output_type": "stream",
     "text": [
      "\n",
      "\n",
      "\n",
      "\n",
      "  1%|          | 74/10000 [1:17:11<172:30:05, 62.56s/it]\u001b[A\u001b[A\u001b[A\u001b[A\n",
      "\n",
      "\n",
      "\n",
      "  1%|          | 75/10000 [1:18:13<172:16:54, 62.49s/it]\u001b[A\u001b[A\u001b[A\u001b[A"
     ]
    },
    {
     "name": "stdout",
     "output_type": "stream",
     "text": [
      "predition [[ 7949  8492  8492 ...,     0     0     0]\n",
      " [ 7949     1     1 ...,     0     0     0]\n",
      " [ 7949  8492 10552 ...,     0     0     0]\n",
      " ..., \n",
      " [10738     1     1 ...,     0     0     0]\n",
      " [10738    36     1 ...,     0     0     0]\n",
      " [10738     1     1 ...,     0     0     0]]\n",
      "max 17914\n"
     ]
    },
    {
     "name": "stderr",
     "output_type": "stream",
     "text": [
      "\n",
      "\n",
      "\n",
      "\n",
      "  1%|          | 76/10000 [1:19:15<171:56:50, 62.38s/it]\u001b[A\u001b[A\u001b[A\u001b[A\n",
      "\n",
      "\n",
      "\n",
      "  1%|          | 77/10000 [1:20:18<171:52:13, 62.35s/it]\u001b[A\u001b[A\u001b[A\u001b[A"
     ]
    },
    {
     "name": "stdout",
     "output_type": "stream",
     "text": [
      "predition [[ 7949  8492    36 ...,     0     0     0]\n",
      " [ 7949     1    36 ...,     0     0     0]\n",
      " [ 7949  7949 10552 ...,     0     0     0]\n",
      " ..., \n",
      " [ 7949  8492 10552 ...,     0     0     0]\n",
      " [ 7949  8492 10552 ...,     0     0     0]\n",
      " [ 7949     1     1 ...,     0     0     0]]\n",
      "max 17914\n"
     ]
    },
    {
     "name": "stderr",
     "output_type": "stream",
     "text": [
      "\n",
      "\n",
      "\n",
      "\n",
      "  1%|          | 78/10000 [1:21:20<171:49:29, 62.34s/it]\u001b[A\u001b[A\u001b[A\u001b[A\n",
      "\n",
      "\n",
      "\n",
      "  1%|          | 79/10000 [1:22:22<171:29:03, 62.23s/it]\u001b[A\u001b[A\u001b[A\u001b[A"
     ]
    },
    {
     "name": "stdout",
     "output_type": "stream",
     "text": [
      "predition [[10738    36     1 ...,     0     0     0]\n",
      " [10738    36    36 ...,     0     0     0]\n",
      " [ 7949  8492 10552 ...,     0     0     0]\n",
      " ..., \n",
      " [10738    36     0 ...,     0     0     0]\n",
      " [10738    36    36 ...,     0     0     0]\n",
      " [ 7949  8492     0 ...,     0     0     0]]\n",
      "max 17914\n"
     ]
    },
    {
     "name": "stderr",
     "output_type": "stream",
     "text": [
      "\n",
      "\n",
      "\n",
      "\n",
      "  1%|          | 80/10000 [1:23:25<171:54:06, 62.38s/it]\u001b[A\u001b[A\u001b[A\u001b[A\n",
      "\n",
      "\n",
      "\n",
      "  1%|          | 81/10000 [1:24:27<171:38:56, 62.30s/it]\u001b[A\u001b[A\u001b[A\u001b[A"
     ]
    },
    {
     "name": "stdout",
     "output_type": "stream",
     "text": [
      "predition [[ 7949  8492     1 ...,     0     0     0]\n",
      " [10738    36    36 ...,     0     0     0]\n",
      " [10738     1     0 ...,     0     0     0]\n",
      " ..., \n",
      " [ 7949     1     0 ...,     0     0     0]\n",
      " [ 7949  8492     1 ...,     0     0     0]\n",
      " [ 7949  8492 10552 ...,     0     0     0]]\n",
      "max 17914\n"
     ]
    },
    {
     "name": "stderr",
     "output_type": "stream",
     "text": [
      "\n",
      "\n",
      "\n",
      "\n",
      "  1%|          | 82/10000 [1:25:29<171:19:01, 62.18s/it]\u001b[A\u001b[A\u001b[A\u001b[A\n",
      "\n",
      "\n",
      "\n",
      "  1%|          | 83/10000 [1:26:30<171:03:43, 62.10s/it]\u001b[A\u001b[A\u001b[A\u001b[A"
     ]
    },
    {
     "name": "stdout",
     "output_type": "stream",
     "text": [
      "predition [[ 7949     1     0 ...,     0     0     0]\n",
      " [17496     1     1 ...,     0     0     0]\n",
      " [10738  8492    36 ...,     0     0     0]\n",
      " ..., \n",
      " [ 7949     1     0 ...,     0     0     0]\n",
      " [ 7949  8492 10552 ...,     0     0     0]\n",
      " [10738  8492     0 ...,     0     0     0]]\n",
      "max 17914\n"
     ]
    },
    {
     "name": "stderr",
     "output_type": "stream",
     "text": [
      "\n",
      "\n",
      "\n",
      "\n",
      "  1%|          | 84/10000 [1:27:32<170:58:19, 62.07s/it]\u001b[A\u001b[A\u001b[A\u001b[A"
     ]
    },
    {
     "name": "stdout",
     "output_type": "stream",
     "text": [
      "predition [[ 7949    36    36 ...,     0     0     0]\n",
      " [10738    36     0 ...,     0     0     0]\n",
      " [ 7949     1     0 ...,     0     0     0]\n",
      " ..., \n",
      " [ 7949    36     0 ...,     0     0     0]\n",
      " [ 7949     1     0 ...,     0     0     0]\n",
      " [ 7949  8492     1 ...,     0     0     0]]\n",
      "max 17914\n"
     ]
    },
    {
     "name": "stderr",
     "output_type": "stream",
     "text": [
      "\n",
      "\n",
      "\n",
      "\n",
      "  1%|          | 85/10000 [1:28:35<170:54:18, 62.05s/it]\u001b[A\u001b[A\u001b[A\u001b[A\n",
      "\n",
      "\n",
      "\n",
      "  1%|          | 86/10000 [1:29:36<170:41:20, 61.98s/it]\u001b[A\u001b[A\u001b[A\u001b[A"
     ]
    },
    {
     "name": "stdout",
     "output_type": "stream",
     "text": [
      "predition [[10738     1     1 ...,     0     0     0]\n",
      " [10738  8492     1 ...,     0     0     0]\n",
      " [10738     1     1 ...,     0     0     0]\n",
      " ..., \n",
      " [10738     1     1 ...,     0     0     0]\n",
      " [10738     1     1 ...,     0     0     0]\n",
      " [ 7949     1     1 ...,     0     0     0]]\n",
      "max 17496\n"
     ]
    },
    {
     "name": "stderr",
     "output_type": "stream",
     "text": [
      "\n",
      "\n",
      "\n",
      "\n",
      "  1%|          | 87/10000 [1:30:39<171:36:58, 62.32s/it]\u001b[A\u001b[A\u001b[A\u001b[A\n",
      "\n",
      "\n",
      "\n",
      "  1%|          | 88/10000 [1:31:42<172:01:58, 62.48s/it]\u001b[A\u001b[A\u001b[A\u001b[A"
     ]
    },
    {
     "name": "stdout",
     "output_type": "stream",
     "text": [
      "predition [[ 7949  8492     0 ...,     0     0     0]\n",
      " [10738     1     0 ...,     0     0     0]\n",
      " [10738     1     0 ...,     0     0     0]\n",
      " ..., \n",
      " [10738     1     0 ...,     0     0     0]\n",
      " [17496     1     0 ...,     0     0     0]\n",
      " [ 7949  8492     0 ...,     0     0     0]]\n",
      "max 17914\n"
     ]
    },
    {
     "name": "stderr",
     "output_type": "stream",
     "text": [
      "\n",
      "\n",
      "\n",
      "\n",
      "  1%|          | 89/10000 [1:32:46<173:01:03, 62.85s/it]\u001b[A\u001b[A\u001b[A\u001b[A\n",
      "\n",
      "\n",
      "\n",
      "  1%|          | 90/10000 [1:33:50<173:42:30, 63.10s/it]\u001b[A\u001b[A\u001b[A\u001b[A"
     ]
    },
    {
     "name": "stdout",
     "output_type": "stream",
     "text": [
      "predition [[17496  8492     1 ...,     0     0     0]\n",
      " [ 7949  8492    36 ...,     0     0     0]\n",
      " [ 7949  8492    36 ...,     0     0     0]\n",
      " ..., \n",
      " [17496     1     1 ...,     0     0     0]\n",
      " [ 7949  8492 17914 ...,     0     0     0]\n",
      " [17496  8492     1 ...,     0     0     0]]\n",
      "max 17914\n"
     ]
    },
    {
     "name": "stderr",
     "output_type": "stream",
     "text": [
      "\n",
      "\n",
      "\n",
      "\n",
      "  1%|          | 91/10000 [1:34:56<176:16:30, 64.04s/it]\u001b[A\u001b[A\u001b[A\u001b[A\n",
      "\n",
      "\n",
      "\n",
      "  1%|          | 92/10000 [1:36:00<176:05:45, 63.98s/it]\u001b[A\u001b[A\u001b[A\u001b[A"
     ]
    },
    {
     "name": "stdout",
     "output_type": "stream",
     "text": [
      "predition [[10738     1     1 ...,     0     0     0]\n",
      " [ 7949  8492    36 ...,     0     0     0]\n",
      " [ 7949  8492     1 ...,     0     0     0]\n",
      " ..., \n",
      " [10738    36     1 ...,     0     0     0]\n",
      " [17496     1     1 ...,     0     0     0]\n",
      " [ 7949  8492 10552 ...,     0     0     0]]\n",
      "max 17496\n"
     ]
    },
    {
     "name": "stderr",
     "output_type": "stream",
     "text": [
      "\n",
      "\n",
      "\n",
      "\n",
      "  1%|          | 93/10000 [1:37:02<174:56:03, 63.57s/it]\u001b[A\u001b[A\u001b[A\u001b[A\n",
      "\n",
      "\n",
      "\n",
      "  1%|          | 94/10000 [1:38:06<174:38:44, 63.47s/it]\u001b[A\u001b[A\u001b[A\u001b[A"
     ]
    },
    {
     "name": "stdout",
     "output_type": "stream",
     "text": [
      "predition [[10738  8492    36 ...,     0     0     0]\n",
      " [ 7949    36    36 ...,     0     0     0]\n",
      " [ 7949  8492 10552 ...,     0     0     0]\n",
      " ..., \n",
      " [ 7949  8492     1 ...,     0     0     0]\n",
      " [10738     1     1 ...,     0     0     0]\n",
      " [10738  8492     0 ...,     0     0     0]]\n",
      "max 17914\n"
     ]
    },
    {
     "name": "stderr",
     "output_type": "stream",
     "text": [
      "\n",
      "\n",
      "\n",
      "\n",
      "  1%|          | 95/10000 [1:39:09<174:25:48, 63.40s/it]\u001b[A\u001b[A\u001b[A\u001b[A\n",
      "\n",
      "\n",
      "\n",
      "  1%|          | 96/10000 [1:40:17<178:34:35, 64.91s/it]\u001b[A\u001b[A\u001b[A\u001b[A"
     ]
    },
    {
     "name": "stdout",
     "output_type": "stream",
     "text": [
      "predition [[ 7949     1     1 ...,     0     0     0]\n",
      " [ 7949  8492  8492 ...,     0     0     0]\n",
      " [10738  8492     1 ...,     0     0     0]\n",
      " ..., \n",
      " [17496     1     1 ...,     0     0     0]\n",
      " [ 7949  8492     1 ...,     0     0     0]\n",
      " [ 7949  8492  8492 ...,     0     0     0]]\n",
      "max 17914\n"
     ]
    },
    {
     "name": "stderr",
     "output_type": "stream",
     "text": [
      "\n",
      "\n",
      "\n",
      "\n",
      "  1%|          | 97/10000 [1:41:22<178:28:49, 64.88s/it]\u001b[A\u001b[A\u001b[A\u001b[A"
     ]
    },
    {
     "name": "stdout",
     "output_type": "stream",
     "text": [
      "predition [[ 7949  7949 10552 ...,     0     0     0]\n",
      " [ 7949  8492 17914 ...,     0     0     0]\n",
      " [ 7949  8492 17914 ...,     0     0     0]\n",
      " ..., \n",
      " [10738    36     1 ...,     0     0     0]\n",
      " [10738     1     1 ...,     0     0     0]\n",
      " [ 7949     1     1 ...,     0     0     0]]\n",
      "max 17914\n"
     ]
    },
    {
     "name": "stderr",
     "output_type": "stream",
     "text": [
      "\n",
      "\n",
      "\n",
      "\n",
      "  1%|          | 98/10000 [1:42:28<178:59:16, 65.07s/it]\u001b[A\u001b[A\u001b[A\u001b[A\n",
      "\n",
      "\n",
      "\n",
      "  1%|          | 99/10000 [1:43:30<176:36:56, 64.22s/it]\u001b[A\u001b[A\u001b[A\u001b[A"
     ]
    },
    {
     "name": "stdout",
     "output_type": "stream",
     "text": [
      "predition [[ 7949  8492 10552 ...,     0     0     0]\n",
      " [10738    36    36 ...,     0     0     0]\n",
      " [10738     1     1 ...,     0     0     0]\n",
      " ..., \n",
      " [ 7949     1     1 ...,     0     0     0]\n",
      " [ 7949  8492  8492 ...,     0     0     0]\n",
      " [ 7949  8492 10552 ...,     0     0     0]]\n",
      "max 17496\n"
     ]
    },
    {
     "name": "stderr",
     "output_type": "stream",
     "text": [
      "\n",
      "\n",
      "\n",
      "\n",
      "  1%|          | 100/10000 [1:44:32<175:09:03, 63.69s/it]\u001b[A\u001b[A\u001b[A\u001b[A\n",
      "\n",
      "\n",
      "\n",
      "  1%|          | 101/10000 [1:45:34<173:48:42, 63.21s/it]\u001b[A\u001b[A\u001b[A\u001b[A"
     ]
    },
    {
     "name": "stdout",
     "output_type": "stream",
     "text": [
      "predition [[10738  8492  8492 ...,     0     0     0]\n",
      " [ 7949     1     0 ...,     0     0     0]\n",
      " [ 7949  8492     0 ...,     0     0     0]\n",
      " ..., \n",
      " [10738     1     1 ...,     0     0     0]\n",
      " [ 7949  8492  8492 ...,     0     0     0]\n",
      " [17496     1     0 ...,     0     0     0]]\n",
      "max 17914\n"
     ]
    },
    {
     "name": "stderr",
     "output_type": "stream",
     "text": [
      "\n",
      "\n",
      "\n",
      "\n",
      "  1%|          | 102/10000 [1:46:37<173:04:49, 62.95s/it]\u001b[A\u001b[A\u001b[A\u001b[A\n",
      "\n",
      "\n",
      "\n",
      "  1%|          | 103/10000 [1:47:39<172:25:01, 62.72s/it]\u001b[A\u001b[A\u001b[A\u001b[A"
     ]
    },
    {
     "name": "stdout",
     "output_type": "stream",
     "text": [
      "predition [[10738    36    36 ...,     0     0     0]\n",
      " [10738    36     0 ...,     0     0     0]\n",
      " [ 7949  7949 10552 ...,     0     0     0]\n",
      " ..., \n",
      " [10738     1     1 ...,     0     0     0]\n",
      " [10738    36  8492 ...,     0     0     0]\n",
      " [ 7949    36    36 ...,     0     0     0]]\n",
      "max 17914\n"
     ]
    },
    {
     "name": "stderr",
     "output_type": "stream",
     "text": [
      "\n",
      "\n",
      "\n",
      "\n",
      "  1%|          | 104/10000 [1:48:41<172:10:54, 62.64s/it]\u001b[A\u001b[A\u001b[A\u001b[A\n",
      "\n",
      "\n",
      "\n",
      "  1%|          | 105/10000 [1:49:44<171:52:39, 62.53s/it]\u001b[A\u001b[A\u001b[A\u001b[A"
     ]
    },
    {
     "name": "stdout",
     "output_type": "stream",
     "text": [
      "predition [[ 7949  8492     1 ...,     0     0     0]\n",
      " [ 7949     1     0 ...,     0     0     0]\n",
      " [ 7949  7949 10552 ...,     0     0     0]\n",
      " ..., \n",
      " [ 7949  8492 10552 ...,     0     0     0]\n",
      " [ 7949    36    36 ...,     0     0     0]\n",
      " [10738    36    36 ...,     0     0     0]]\n",
      "max 17914\n"
     ]
    },
    {
     "name": "stderr",
     "output_type": "stream",
     "text": [
      "\n",
      "\n",
      "\n",
      "\n",
      "  1%|          | 106/10000 [1:50:46<171:39:30, 62.46s/it]\u001b[A\u001b[A\u001b[A\u001b[A\n",
      "\n",
      "\n",
      "\n",
      "  1%|          | 107/10000 [1:51:48<171:34:05, 62.43s/it]\u001b[A\u001b[A\u001b[A\u001b[A"
     ]
    },
    {
     "name": "stdout",
     "output_type": "stream",
     "text": [
      "predition [[10738     1     1 ...,     0     0     0]\n",
      " [10738     1     0 ...,     0     0     0]\n",
      " [10738     1     0 ...,     0     0     0]\n",
      " ..., \n",
      " [ 7949     1     0 ...,     0     0     0]\n",
      " [10738     1     1 ...,     0     0     0]\n",
      " [10738    36     1 ...,     0     0     0]]\n",
      "max 17914\n"
     ]
    },
    {
     "name": "stderr",
     "output_type": "stream",
     "text": [
      "\n",
      "\n",
      "\n",
      "\n",
      "  1%|          | 108/10000 [1:52:51<171:29:06, 62.41s/it]\u001b[A\u001b[A\u001b[A\u001b[A\n",
      "\n",
      "\n",
      "\n",
      "  1%|          | 109/10000 [1:53:53<171:24:35, 62.39s/it]\u001b[A\u001b[A\u001b[A\u001b[A"
     ]
    },
    {
     "name": "stdout",
     "output_type": "stream",
     "text": [
      "predition [[ 7949  8492  8492 ...,     0     0     0]\n",
      " [17496    36     1 ...,     0     0     0]\n",
      " [17496     1     1 ...,     0     0     0]\n",
      " ..., \n",
      " [ 7949  8492     1 ...,     0     0     0]\n",
      " [ 7949  8492  8492 ...,    36     1     0]\n",
      " [17496     1     1 ...,     0     0     0]]\n",
      "max 17914\n"
     ]
    },
    {
     "name": "stderr",
     "output_type": "stream",
     "text": [
      "\n",
      "\n",
      "\n",
      "\n",
      "  1%|          | 110/10000 [1:54:55<171:27:53, 62.41s/it]\u001b[A\u001b[A\u001b[A\u001b[A"
     ]
    },
    {
     "name": "stdout",
     "output_type": "stream",
     "text": [
      "predition [[ 7949  8492     1 ...,     0     0     0]\n",
      " [10738  8492  8492 ...,     0     0     0]\n",
      " [10738  8492  8492 ...,     0     0     0]\n",
      " ..., \n",
      " [10738  8492     1 ...,     0     0     0]\n",
      " [10738  8492     1 ...,     0     0     0]\n",
      " [10738  8492     1 ...,     0     0     0]]\n",
      "max 17914\n"
     ]
    },
    {
     "name": "stderr",
     "output_type": "stream",
     "text": [
      "\n",
      "\n",
      "\n",
      "\n",
      "  1%|          | 111/10000 [1:55:58<171:26:44, 62.41s/it]\u001b[A\u001b[A\u001b[A\u001b[A\n",
      "\n",
      "\n",
      "\n",
      "  1%|          | 112/10000 [1:57:00<171:24:03, 62.40s/it]\u001b[A\u001b[A\u001b[A\u001b[A"
     ]
    },
    {
     "name": "stdout",
     "output_type": "stream",
     "text": [
      "predition [[ 7949  8492  8492 ...,     0     0     0]\n",
      " [ 7949  8492 10552 ...,     0     0     0]\n",
      " [ 7949  8492     1 ...,     0     0     0]\n",
      " ..., \n",
      " [17914    36    36 ...,     0     0     0]\n",
      " [17496  8492     1 ...,     0     0     0]\n",
      " [ 7949  8492     0 ...,     0     0     0]]\n",
      "max 17914\n"
     ]
    },
    {
     "name": "stderr",
     "output_type": "stream",
     "text": [
      "\n",
      "\n",
      "\n",
      "\n",
      "  1%|          | 113/10000 [1:58:03<171:26:35, 62.42s/it]\u001b[A\u001b[A\u001b[A\u001b[A\n",
      "\n",
      "\n",
      "\n",
      "  1%|          | 114/10000 [1:59:05<171:16:21, 62.37s/it]\u001b[A\u001b[A\u001b[A\u001b[A"
     ]
    },
    {
     "name": "stdout",
     "output_type": "stream",
     "text": [
      "predition [[ 7949  8492 10552 ...,     0     0     0]\n",
      " [ 7949  7949 10552 ...,    36    36     0]\n",
      " [ 7949  8492     0 ...,     0     0     0]\n",
      " ..., \n",
      " [ 7949    36     1 ...,     0     0     0]\n",
      " [ 7949  8492 10552 ...,     0     0     0]\n",
      " [ 7949  8492     1 ...,     0     0     0]]\n",
      "max 17914\n"
     ]
    },
    {
     "name": "stderr",
     "output_type": "stream",
     "text": [
      "\n",
      "\n",
      "\n",
      "\n",
      "  1%|          | 115/10000 [2:00:08<171:24:01, 62.42s/it]\u001b[A\u001b[A\u001b[A\u001b[A\n",
      "\n",
      "\n",
      "\n",
      "  1%|          | 116/10000 [2:01:10<171:21:30, 62.41s/it]\u001b[A\u001b[A\u001b[A\u001b[A"
     ]
    },
    {
     "name": "stdout",
     "output_type": "stream",
     "text": [
      "predition [[ 7949     1     1 ...,     0     0     0]\n",
      " [17496     1     0 ...,     0     0     0]\n",
      " [ 7949  8492     0 ...,     0     0     0]\n",
      " ..., \n",
      " [ 7949  8492  8492 ...,    36     0     0]\n",
      " [17496     1     0 ...,     0     0     0]\n",
      " [ 7949  8492     1 ...,     0     0     0]]\n",
      "max 17496\n"
     ]
    },
    {
     "name": "stderr",
     "output_type": "stream",
     "text": [
      "\n",
      "\n",
      "\n",
      "\n",
      "  1%|          | 117/10000 [2:02:12<171:27:14, 62.45s/it]\u001b[A\u001b[A\u001b[A\u001b[A\n",
      "\n",
      "\n",
      "\n",
      "  1%|          | 118/10000 [2:03:15<171:22:50, 62.43s/it]\u001b[A\u001b[A\u001b[A\u001b[A"
     ]
    },
    {
     "name": "stdout",
     "output_type": "stream",
     "text": [
      "predition [[10738  8492  8492 ...,     0     0     0]\n",
      " [ 7949     1     0 ...,     0     0     0]\n",
      " [ 7949  8492 10552 ...,     0     0     0]\n",
      " ..., \n",
      " [10738    36     0 ...,     0     0     0]\n",
      " [10738     1     0 ...,     0     0     0]\n",
      " [ 7949  8492     0 ...,     0     0     0]]\n",
      "max 17496\n"
     ]
    },
    {
     "name": "stderr",
     "output_type": "stream",
     "text": [
      "\n",
      "\n",
      "\n",
      "\n",
      "  1%|          | 119/10000 [2:04:17<171:22:13, 62.44s/it]\u001b[A\u001b[A\u001b[A\u001b[A\n",
      "\n",
      "\n",
      "\n",
      "  1%|          | 120/10000 [2:05:20<171:14:03, 62.39s/it]\u001b[A\u001b[A\u001b[A\u001b[A"
     ]
    },
    {
     "name": "stdout",
     "output_type": "stream",
     "text": [
      "predition [[10738     1     0 ...,     0     0     0]\n",
      " [17914    36     1 ...,     0     0     0]\n",
      " [ 7949  8492 10552 ...,     0     0     0]\n",
      " ..., \n",
      " [ 7949    36     1 ...,     0     0     0]\n",
      " [ 7949  8492     0 ...,     0     0     0]\n",
      " [17877  8492     0 ...,     0     0     0]]\n",
      "max 17914\n"
     ]
    },
    {
     "name": "stderr",
     "output_type": "stream",
     "text": [
      "\n",
      "\n",
      "\n",
      "\n",
      "  1%|          | 121/10000 [2:06:22<171:13:51, 62.40s/it]\u001b[A\u001b[A\u001b[A\u001b[A\n",
      "\n",
      "\n",
      "\n",
      "  1%|          | 122/10000 [2:07:24<171:11:08, 62.39s/it]\u001b[A\u001b[A\u001b[A\u001b[A"
     ]
    },
    {
     "name": "stdout",
     "output_type": "stream",
     "text": [
      "predition [[17496     1     1 ...,     0     0     0]\n",
      " [ 7949 17914    36 ...,     0     0     0]\n",
      " [ 7949  8492     0 ...,     0     0     0]\n",
      " ..., \n",
      " [10738     1     0 ...,     0     0     0]\n",
      " [ 7949  7949 10552 ...,     0     0     0]\n",
      " [10738     1     1 ...,     0     0     0]]\n",
      "max 17914\n"
     ]
    },
    {
     "name": "stderr",
     "output_type": "stream",
     "text": [
      "\n",
      "\n",
      "\n",
      "\n",
      "  1%|          | 123/10000 [2:08:27<171:18:31, 62.44s/it]\u001b[A\u001b[A\u001b[A\u001b[A\n",
      "\n",
      "\n",
      "\n",
      "  1%|          | 124/10000 [2:09:29<171:12:04, 62.41s/it]\u001b[A\u001b[A\u001b[A\u001b[A"
     ]
    },
    {
     "name": "stdout",
     "output_type": "stream",
     "text": [
      "predition [[ 7949  7949  7949 ...,     0     0     0]\n",
      " [ 7949  8492 17914 ...,     0     0     0]\n",
      " [ 7949  8492     0 ...,     0     0     0]\n",
      " ..., \n",
      " [ 7949  8492     0 ...,     0     0     0]\n",
      " [10738  8492  8492 ...,     0     0     0]\n",
      " [ 7949  8492     0 ...,     0     0     0]]\n",
      "max 17914\n"
     ]
    },
    {
     "name": "stderr",
     "output_type": "stream",
     "text": [
      "\n",
      "\n",
      "\n",
      "\n",
      "  1%|▏         | 125/10000 [2:10:32<171:06:40, 62.38s/it]\u001b[A\u001b[A\u001b[A\u001b[A"
     ]
    },
    {
     "name": "stdout",
     "output_type": "stream",
     "text": [
      "predition [[ 7949  8492     1 ...,     0     0     0]\n",
      " [ 7949  8492     0 ...,     0     0     0]\n",
      " [17496  8492     0 ...,     0     0     0]\n",
      " ..., \n",
      " [17496     1     0 ...,     0     0     0]\n",
      " [ 7949    36    36 ...,     0     0     0]\n",
      " [17496     1     0 ...,     0     0     0]]\n",
      "max 17914\n"
     ]
    },
    {
     "name": "stderr",
     "output_type": "stream",
     "text": [
      "\n",
      "\n",
      "\n",
      "\n",
      "  1%|▏         | 126/10000 [2:11:34<171:17:27, 62.45s/it]\u001b[A\u001b[A\u001b[A\u001b[A\n",
      "\n",
      "\n",
      "\n",
      "  1%|▏         | 127/10000 [2:12:37<171:17:03, 62.46s/it]\u001b[A\u001b[A\u001b[A\u001b[A"
     ]
    },
    {
     "name": "stdout",
     "output_type": "stream",
     "text": [
      "predition [[10738    36  8492 ...,     1     0     0]\n",
      " [ 7949  8492 10552 ...,     0     0     0]\n",
      " [ 7949     1 17914 ...,     0     0     0]\n",
      " ..., \n",
      " [10738    36     0 ...,     0     0     0]\n",
      " [ 7949  8492     0 ...,     0     0     0]\n",
      " [10738     1     1 ...,     0     0     0]]\n",
      "max 17914\n"
     ]
    },
    {
     "name": "stderr",
     "output_type": "stream",
     "text": [
      "\n",
      "\n",
      "\n",
      "\n",
      "  1%|▏         | 128/10000 [2:13:39<171:18:15, 62.47s/it]\u001b[A\u001b[A\u001b[A\u001b[A\n",
      "\n",
      "\n",
      "\n",
      "  1%|▏         | 129/10000 [2:14:41<171:08:03, 62.41s/it]\u001b[A\u001b[A\u001b[A\u001b[A"
     ]
    },
    {
     "name": "stdout",
     "output_type": "stream",
     "text": [
      "predition [[10738  8492  8492 ...,    36    36     0]\n",
      " [10738  8492  8492 ...,     0     0     0]\n",
      " [ 7949  8492  8492 ...,    36    36    36]\n",
      " ..., \n",
      " [10738  8492  8492 ...,     0     0     0]\n",
      " [ 7949  8492     1 ...,     0     0     0]\n",
      " [10738  8492  8492 ...,     0     0     0]]\n",
      "max 17914\n"
     ]
    },
    {
     "name": "stderr",
     "output_type": "stream",
     "text": [
      "\n",
      "\n",
      "\n",
      "\n",
      "  1%|▏         | 130/10000 [2:15:44<171:13:15, 62.45s/it]\u001b[A\u001b[A\u001b[A\u001b[A\n",
      "\n",
      "\n",
      "\n",
      "  1%|▏         | 131/10000 [2:16:46<171:06:24, 62.42s/it]\u001b[A\u001b[A\u001b[A\u001b[A"
     ]
    },
    {
     "name": "stdout",
     "output_type": "stream",
     "text": [
      "predition [[ 7949  7949 10552 ...,     0     0     0]\n",
      " [ 7949  7949  7949 ...,    36    36     0]\n",
      " [17496     1     0 ...,     0     0     0]\n",
      " ..., \n",
      " [ 7949  8492     1 ...,     0     0     0]\n",
      " [10738  8492  8492 ...,     1     0     0]\n",
      " [ 7949  8492    36 ...,     0     0     0]]\n",
      "max 17496\n"
     ]
    },
    {
     "name": "stderr",
     "output_type": "stream",
     "text": [
      "\n",
      "\n",
      "\n",
      "\n",
      "  1%|▏         | 132/10000 [2:17:49<171:11:22, 62.45s/it]\u001b[A\u001b[A\u001b[A\u001b[A\n",
      "\n",
      "\n",
      "\n",
      "  1%|▏         | 133/10000 [2:18:51<171:07:28, 62.44s/it]\u001b[A\u001b[A\u001b[A\u001b[A"
     ]
    },
    {
     "name": "stdout",
     "output_type": "stream",
     "text": [
      "predition [[ 7949  8492 10552 ...,    36    36    36]\n",
      " [ 7949  8492     1 ...,     0     0     0]\n",
      " [ 7949  8492     1 ...,     0     0     0]\n",
      " ..., \n",
      " [17496     1     0 ...,     0     0     0]\n",
      " [10738     1     1 ...,     0     0     0]\n",
      " [10738    36     1 ...,     0     0     0]]\n",
      "max 17914\n"
     ]
    },
    {
     "name": "stderr",
     "output_type": "stream",
     "text": [
      "\n",
      "\n",
      "\n",
      "\n",
      "  1%|▏         | 134/10000 [2:19:54<171:10:03, 62.46s/it]\u001b[A\u001b[A\u001b[A\u001b[A\n",
      "\n",
      "\n",
      "\n",
      "  1%|▏         | 135/10000 [2:20:56<171:01:11, 62.41s/it]\u001b[A\u001b[A\u001b[A\u001b[A"
     ]
    },
    {
     "name": "stdout",
     "output_type": "stream",
     "text": [
      "predition [[17496     1     1 ...,     0     0     0]\n",
      " [10738  8492     0 ...,     0     0     0]\n",
      " [ 7949    36    36 ...,     0     0     0]\n",
      " ..., \n",
      " [ 7949  8492     1 ...,     0     0     0]\n",
      " [10738     1     0 ...,     0     0     0]\n",
      " [17496     1     0 ...,     0     0     0]]\n",
      "max 17914\n"
     ]
    },
    {
     "name": "stderr",
     "output_type": "stream",
     "text": [
      "\n",
      "\n",
      "\n",
      "\n",
      "  1%|▏         | 136/10000 [2:21:58<171:01:25, 62.42s/it]\u001b[A\u001b[A\u001b[A\u001b[A\n",
      "\n",
      "\n",
      "\n",
      "  1%|▏         | 137/10000 [2:23:01<170:57:12, 62.40s/it]\u001b[A\u001b[A\u001b[A\u001b[A"
     ]
    },
    {
     "name": "stdout",
     "output_type": "stream",
     "text": [
      "predition [[17496     1     1 ...,     0     0     0]\n",
      " [ 7949  8492 10552 ...,     0     0     0]\n",
      " [ 7949  8492 10552 ...,     0     0     0]\n",
      " ..., \n",
      " [ 7949  8492 10552 ...,     0     0     0]\n",
      " [ 7949     1     0 ...,     0     0     0]\n",
      " [ 7949  8492  8492 ...,     0     0     0]]\n",
      "max 17914\n"
     ]
    },
    {
     "name": "stderr",
     "output_type": "stream",
     "text": [
      "\n",
      "\n",
      "\n",
      "\n",
      "  1%|▏         | 138/10000 [2:24:03<170:55:48, 62.40s/it]\u001b[A\u001b[A\u001b[A\u001b[A"
     ]
    },
    {
     "name": "stdout",
     "output_type": "stream",
     "text": [
      "predition [[10738  8492  8492 ...,     0     0     0]\n",
      " [ 7949  8492  8492 ...,     0     0     0]\n",
      " [ 7949  8492 17914 ...,     0     0     0]\n",
      " ..., \n",
      " [10738     1     1 ...,     0     0     0]\n",
      " [ 7949  8492     1 ...,     0     0     0]\n",
      " [ 7949     1     1 ...,     0     0     0]]\n",
      "max 17914\n"
     ]
    },
    {
     "name": "stderr",
     "output_type": "stream",
     "text": [
      "\n",
      "\n",
      "\n",
      "\n",
      "  1%|▏         | 139/10000 [2:25:06<171:03:43, 62.45s/it]\u001b[A\u001b[A\u001b[A\u001b[A\n",
      "\n",
      "\n",
      "\n",
      "  1%|▏         | 140/10000 [2:26:08<170:51:05, 62.38s/it]\u001b[A\u001b[A\u001b[A\u001b[A"
     ]
    },
    {
     "name": "stdout",
     "output_type": "stream",
     "text": [
      "predition [[ 7949  7949  7949 ...,     0     0     0]\n",
      " [ 7949     1     0 ...,     0     0     0]\n",
      " [ 7949  7949 10552 ...,     0     0     0]\n",
      " ..., \n",
      " [ 7949  8492 17914 ...,     0     0     0]\n",
      " [ 7949     1     1 ...,     0     0     0]\n",
      " [10738    36     1 ...,     0     0     0]]\n",
      "max 17914\n"
     ]
    },
    {
     "name": "stderr",
     "output_type": "stream",
     "text": [
      "\n",
      "\n",
      "\n",
      "\n",
      "  1%|▏         | 141/10000 [2:27:10<170:50:35, 62.38s/it]\u001b[A\u001b[A\u001b[A\u001b[A\n",
      "\n",
      "\n",
      "\n",
      "  1%|▏         | 142/10000 [2:28:13<170:49:07, 62.38s/it]\u001b[A\u001b[A\u001b[A\u001b[A"
     ]
    },
    {
     "name": "stdout",
     "output_type": "stream",
     "text": [
      "predition [[ 7949  8492 10552 ...,     0     0     0]\n",
      " [ 7949  8492 10552 ...,     1     0     0]\n",
      " [ 7949    36     0 ...,     0     0     0]\n",
      " ..., \n",
      " [ 7949     1     0 ...,     0     0     0]\n",
      " [ 7949  7949 10552 ...,     0     0     0]\n",
      " [ 7949  8492  8492 ...,     0     0     0]]\n",
      "max 17914\n"
     ]
    },
    {
     "name": "stderr",
     "output_type": "stream",
     "text": [
      "\n",
      "\n",
      "\n",
      "\n",
      "  1%|▏         | 143/10000 [2:29:15<170:57:24, 62.44s/it]\u001b[A\u001b[A\u001b[A\u001b[A\n",
      "\n",
      "\n",
      "\n",
      "  1%|▏         | 144/10000 [2:30:18<170:55:09, 62.43s/it]\u001b[A\u001b[A\u001b[A\u001b[A"
     ]
    },
    {
     "name": "stdout",
     "output_type": "stream",
     "text": [
      "predition [[10738     1     0 ...,     0     0     0]\n",
      " [ 7949     1     1 ...,     0     0     0]\n",
      " [17496     1    36 ...,     0     0     0]\n",
      " ..., \n",
      " [10738 17914    36 ...,     0     0     0]\n",
      " [10738  8492  8492 ...,    36    36     0]\n",
      " [10738     1     1 ...,     0     0     0]]\n",
      "max 17914\n"
     ]
    },
    {
     "name": "stderr",
     "output_type": "stream",
     "text": [
      "\n",
      "\n",
      "\n",
      "\n",
      "  1%|▏         | 145/10000 [2:31:20<170:51:23, 62.41s/it]\u001b[A\u001b[A\u001b[A\u001b[A\n",
      "\n",
      "\n",
      "\n",
      "  1%|▏         | 146/10000 [2:32:23<170:57:59, 62.46s/it]\u001b[A\u001b[A\u001b[A\u001b[A"
     ]
    },
    {
     "name": "stdout",
     "output_type": "stream",
     "text": [
      "predition [[ 7949    36     1 ...,     0     0     0]\n",
      " [10738  8492  8492 ...,     0     0     0]\n",
      " [10738     1     0 ...,     0     0     0]\n",
      " ..., \n",
      " [17496     1 17914 ...,     0     0     0]\n",
      " [10738  8492  8492 ...,    36     1     0]\n",
      " [ 7949  8492     0 ...,     0     0     0]]\n",
      "max 17914\n"
     ]
    },
    {
     "name": "stderr",
     "output_type": "stream",
     "text": [
      "\n",
      "\n",
      "\n",
      "\n",
      "  1%|▏         | 147/10000 [2:33:25<170:49:00, 62.41s/it]\u001b[A\u001b[A\u001b[A\u001b[A\n",
      "\n",
      "\n",
      "\n",
      "  1%|▏         | 148/10000 [2:34:27<170:40:01, 62.36s/it]\u001b[A\u001b[A\u001b[A\u001b[A"
     ]
    },
    {
     "name": "stdout",
     "output_type": "stream",
     "text": [
      "predition [[10738  8492  8492 ...,     0     0     0]\n",
      " [10738     1     0 ...,     0     0     0]\n",
      " [10738     1     1 ...,     0     0     0]\n",
      " ..., \n",
      " [17496     1     0 ...,     0     0     0]\n",
      " [ 7949  7949 10552 ...,     0     0     0]\n",
      " [ 7949  8492 10552 ...,    36    36     0]]\n",
      "max 17914\n"
     ]
    },
    {
     "name": "stderr",
     "output_type": "stream",
     "text": [
      "\n",
      "\n",
      "\n",
      "\n",
      "  1%|▏         | 149/10000 [2:35:30<170:41:42, 62.38s/it]\u001b[A\u001b[A\u001b[A\u001b[A\n",
      "\n",
      "\n",
      "\n",
      "  2%|▏         | 150/10000 [2:36:32<170:43:00, 62.39s/it]\u001b[A\u001b[A\u001b[A\u001b[A"
     ]
    },
    {
     "name": "stdout",
     "output_type": "stream",
     "text": [
      "predition [[ 7949  8492     1 ...,     0     0     0]\n",
      " [ 7949  8492  8492 ...,    36    36     1]\n",
      " [ 7949  8492 17914 ...,     0     0     0]\n",
      " ..., \n",
      " [10738 17914     0 ...,     0     0     0]\n",
      " [17496     1     1 ...,     0     0     0]\n",
      " [17496     1     1 ...,     0     0     0]]\n",
      "max 17914\n"
     ]
    },
    {
     "name": "stderr",
     "output_type": "stream",
     "text": [
      "\n",
      "\n",
      "\n",
      "\n",
      "  2%|▏         | 151/10000 [2:37:35<170:51:41, 62.45s/it]\u001b[A\u001b[A\u001b[A\u001b[A"
     ]
    },
    {
     "name": "stdout",
     "output_type": "stream",
     "text": [
      "predition [[10738     1     1 ...,     0     0     0]\n",
      " [ 7949  8492 10552 ...,     0     0     0]\n",
      " [ 7949  8492  8492 ...,     0     0     0]\n",
      " ..., \n",
      " [17496     1     1 ...,     0     0     0]\n",
      " [ 7949  7949 10552 ...,     0     0     0]\n",
      " [ 7949  8492     0 ...,     0     0     0]]\n",
      "max 17914\n"
     ]
    },
    {
     "name": "stderr",
     "output_type": "stream",
     "text": [
      "\n",
      "\n",
      "\n",
      "\n",
      "  2%|▏         | 152/10000 [2:38:37<170:41:00, 62.39s/it]\u001b[A\u001b[A\u001b[A\u001b[A\n",
      "\n",
      "\n",
      "\n",
      "  2%|▏         | 153/10000 [2:39:39<170:35:10, 62.37s/it]\u001b[A\u001b[A\u001b[A\u001b[A"
     ]
    },
    {
     "name": "stdout",
     "output_type": "stream",
     "text": [
      "predition [[ 7949     1     0 ...,     0     0     0]\n",
      " [ 7949   899 10552 ...,     0     0     0]\n",
      " [ 7949     1     0 ...,     0     0     0]\n",
      " ..., \n",
      " [10738     1     0 ...,     0     0     0]\n",
      " [ 7949  8492 10552 ...,     0     0     0]\n",
      " [17496     1     0 ...,     0     0     0]]\n",
      "max 17914\n"
     ]
    },
    {
     "name": "stderr",
     "output_type": "stream",
     "text": [
      "\n",
      "\n",
      "\n",
      "\n",
      "  2%|▏         | 154/10000 [2:40:42<170:43:35, 62.42s/it]\u001b[A\u001b[A\u001b[A\u001b[A\n",
      "\n",
      "\n",
      "\n",
      "  2%|▏         | 155/10000 [2:41:44<170:39:54, 62.41s/it]\u001b[A\u001b[A\u001b[A\u001b[A"
     ]
    },
    {
     "name": "stdout",
     "output_type": "stream",
     "text": [
      "predition [[10738     1 10552 ...,     0     0     0]\n",
      " [17496     1     1 ...,     0     0     0]\n",
      " [ 7949  8492  8492 ...,    36     1     0]\n",
      " ..., \n",
      " [ 7949  8492 10552 ...,     0     0     0]\n",
      " [ 7949  7949 10552 ...,     0     0     0]\n",
      " [ 7949  7949 10552 ...,    36    36     0]]\n",
      "max 17914\n"
     ]
    },
    {
     "name": "stderr",
     "output_type": "stream",
     "text": [
      "\n",
      "\n",
      "\n",
      "\n",
      "  2%|▏         | 156/10000 [2:42:47<170:48:05, 62.46s/it]\u001b[A\u001b[A\u001b[A\u001b[A\n",
      "\n",
      "\n",
      "\n",
      "  2%|▏         | 157/10000 [2:43:49<170:36:35, 62.40s/it]\u001b[A\u001b[A\u001b[A\u001b[A"
     ]
    },
    {
     "name": "stdout",
     "output_type": "stream",
     "text": [
      "predition [[ 7949  8492 17914 ...,     0     0     0]\n",
      " [ 7949  8492 10552 ...,     0     0     0]\n",
      " [10738     1     0 ...,     0     0     0]\n",
      " ..., \n",
      " [ 7949  8492     1 ...,     0     0     0]\n",
      " [10738  8492  8492 ...,     0     0     0]\n",
      " [ 7949  8492 17914 ...,     0     0     0]]\n",
      "max 17914\n"
     ]
    },
    {
     "name": "stderr",
     "output_type": "stream",
     "text": [
      "\n",
      "\n",
      "\n",
      "\n",
      "  2%|▏         | 158/10000 [2:44:52<170:46:03, 62.46s/it]\u001b[A\u001b[A\u001b[A\u001b[A\n",
      "\n",
      "\n",
      "\n",
      "  2%|▏         | 159/10000 [2:45:54<170:40:22, 62.43s/it]\u001b[A\u001b[A\u001b[A\u001b[A"
     ]
    },
    {
     "name": "stdout",
     "output_type": "stream",
     "text": [
      "predition [[10738  8492  8492 ...,     0     0     0]\n",
      " [10738     1     0 ...,     0     0     0]\n",
      " [17496     1     1 ...,     0     0     0]\n",
      " ..., \n",
      " [10738  8492     0 ...,     0     0     0]\n",
      " [ 7949   899 10552 ...,     0     0     0]\n",
      " [ 7949  8492 10552 ...,     0     0     0]]\n",
      "max 17914\n"
     ]
    },
    {
     "name": "stderr",
     "output_type": "stream",
     "text": [
      "\n",
      "\n",
      "\n",
      "\n",
      "  2%|▏         | 160/10000 [2:46:56<170:41:47, 62.45s/it]\u001b[A\u001b[A\u001b[A\u001b[A\n",
      "\n",
      "\n",
      "\n",
      "  2%|▏         | 161/10000 [2:47:59<170:36:50, 62.43s/it]\u001b[A\u001b[A\u001b[A\u001b[A"
     ]
    },
    {
     "name": "stdout",
     "output_type": "stream",
     "text": [
      "predition [[ 7949  8492 10552 ...,     0     0     0]\n",
      " [17496     1     0 ...,     0     0     0]\n",
      " [ 7949  8492 10552 ...,     0     0     0]\n",
      " ..., \n",
      " [ 7949  8492  8492 ...,     0     0     0]\n",
      " [ 7949  8492 10552 ...,     0     0     0]\n",
      " [10738  8492     1 ...,     0     0     0]]\n",
      "max 17914\n"
     ]
    },
    {
     "name": "stderr",
     "output_type": "stream",
     "text": [
      "\n",
      "\n",
      "\n",
      "\n",
      "  2%|▏         | 162/10000 [2:49:01<170:42:22, 62.47s/it]\u001b[A\u001b[A\u001b[A\u001b[A\n",
      "\n",
      "\n",
      "\n",
      "  2%|▏         | 163/10000 [2:50:04<170:34:26, 62.42s/it]\u001b[A\u001b[A\u001b[A\u001b[A"
     ]
    },
    {
     "name": "stdout",
     "output_type": "stream",
     "text": [
      "predition [[17496     1     1 ...,     0     0     0]\n",
      " [ 7949  7949     0 ...,     0     0     0]\n",
      " [ 7949  7949  7949 ...,    36     1     0]\n",
      " ..., \n",
      " [10738     1     1 ...,     0     0     0]\n",
      " [ 7949     1     1 ...,     0     0     0]\n",
      " [ 7949  8492  8492 ...,    36    36    36]]\n",
      "max 17914\n"
     ]
    },
    {
     "name": "stderr",
     "output_type": "stream",
     "text": [
      "\n",
      "\n",
      "\n",
      "\n",
      "  2%|▏         | 164/10000 [2:51:06<170:41:05, 62.47s/it]\u001b[A\u001b[A\u001b[A\u001b[A"
     ]
    },
    {
     "name": "stdout",
     "output_type": "stream",
     "text": [
      "predition [[ 7949  7949     1 ...,     0     0     0]\n",
      " [ 7949     1 10552 ...,     0     0     0]\n",
      " [ 7949    36    36 ...,     0     0     0]\n",
      " ..., \n",
      " [17496     1     0 ...,     0     0     0]\n",
      " [ 7949  8492    36 ...,     0     0     0]\n",
      " [ 7949  8492 10552 ...,    36     0     0]]\n",
      "max 17914\n"
     ]
    },
    {
     "name": "stderr",
     "output_type": "stream",
     "text": [
      "\n",
      "\n",
      "\n",
      "\n",
      "  2%|▏         | 165/10000 [2:52:09<170:42:44, 62.49s/it]\u001b[A\u001b[A\u001b[A\u001b[A\n",
      "\n",
      "\n",
      "\n",
      "  2%|▏         | 166/10000 [2:53:11<170:41:47, 62.49s/it]\u001b[A\u001b[A\u001b[A\u001b[A"
     ]
    },
    {
     "name": "stdout",
     "output_type": "stream",
     "text": [
      "predition [[ 7949     1     0 ...,     0     0     0]\n",
      " [ 7949    36     1 ...,     0     0     0]\n",
      " [ 7949  8492  8492 ...,     0     0     0]\n",
      " ..., \n",
      " [ 7949  8492 10552 ...,     0     0     0]\n",
      " [10738  8492  8492 ...,     0     0     0]\n",
      " [ 7949  8492    36 ...,     0     0     0]]\n",
      "max 17914\n"
     ]
    },
    {
     "name": "stderr",
     "output_type": "stream",
     "text": [
      "\n",
      "\n",
      "\n",
      "\n",
      "  2%|▏         | 167/10000 [2:54:14<170:48:19, 62.53s/it]\u001b[A\u001b[A\u001b[A\u001b[A\n",
      "\n",
      "\n",
      "\n",
      "  2%|▏         | 168/10000 [2:55:16<170:39:36, 62.49s/it]\u001b[A\u001b[A\u001b[A\u001b[A"
     ]
    },
    {
     "name": "stdout",
     "output_type": "stream",
     "text": [
      "predition [[ 7949  8492     1 ...,     0     0     0]\n",
      " [17496     1     0 ...,     0     0     0]\n",
      " [ 7949  8492 10552 ...,     0     0     0]\n",
      " ..., \n",
      " [17496     1     1 ...,     0     0     0]\n",
      " [ 7949  8492 10552 ...,    36    36    36]\n",
      " [ 7949  7949  7949 ...,     1     0     0]]\n",
      "max 17914\n"
     ]
    },
    {
     "name": "stderr",
     "output_type": "stream",
     "text": [
      "\n",
      "\n",
      "\n",
      "\n",
      "  2%|▏         | 169/10000 [2:56:19<170:35:47, 62.47s/it]\u001b[A\u001b[A\u001b[A\u001b[A\n",
      "\n",
      "\n",
      "\n",
      "  2%|▏         | 170/10000 [2:57:21<170:29:21, 62.44s/it]\u001b[A\u001b[A\u001b[A\u001b[A"
     ]
    },
    {
     "name": "stdout",
     "output_type": "stream",
     "text": [
      "predition [[ 7949     1     0 ...,     0     0     0]\n",
      " [ 7949  8492     1 ...,     0     0     0]\n",
      " [ 7949  8492 10552 ...,     0     0     0]\n",
      " ..., \n",
      " [ 7949     1     0 ...,     0     0     0]\n",
      " [ 7949     1     1 ...,     0     0     0]\n",
      " [ 7949  8492 10552 ...,    36    36     1]]\n",
      "max 17914\n"
     ]
    },
    {
     "name": "stderr",
     "output_type": "stream",
     "text": [
      "\n",
      "\n",
      "\n",
      "\n",
      "  2%|▏         | 171/10000 [2:58:24<170:33:11, 62.47s/it]\u001b[A\u001b[A\u001b[A\u001b[A\n",
      "\n",
      "\n",
      "\n",
      "  2%|▏         | 172/10000 [2:59:26<170:30:12, 62.46s/it]\u001b[A\u001b[A\u001b[A\u001b[A"
     ]
    },
    {
     "name": "stdout",
     "output_type": "stream",
     "text": [
      "predition [[10738    36    36 ...,     0     0     0]\n",
      " [10738     1     0 ...,     0     0     0]\n",
      " [ 7949  7949 10552 ...,     0     0     0]\n",
      " ..., \n",
      " [ 7949  8492 10552 ...,    36    36    36]\n",
      " [10738  8492  8492 ...,     0     0     0]\n",
      " [ 7949  7949 10552 ...,    36    36    36]]\n",
      "max 17914\n"
     ]
    },
    {
     "name": "stderr",
     "output_type": "stream",
     "text": [
      "\n",
      "\n",
      "\n",
      "\n",
      "  2%|▏         | 173/10000 [3:00:29<170:27:32, 62.45s/it]\u001b[A\u001b[A\u001b[A\u001b[A\n",
      "\n",
      "\n",
      "\n",
      "  2%|▏         | 174/10000 [3:01:31<170:24:36, 62.43s/it]\u001b[A\u001b[A\u001b[A\u001b[A"
     ]
    },
    {
     "name": "stdout",
     "output_type": "stream",
     "text": [
      "predition [[ 7949    36 17914 ...,     0     0     0]\n",
      " [10738    36     1 ...,     0     0     0]\n",
      " [17914  8492  8492 ...,     0     0     0]\n",
      " ..., \n",
      " [ 7949  8492     1 ...,     0     0     0]\n",
      " [17496     1     0 ...,     0     0     0]\n",
      " [17914  8492  8492 ...,     0     0     0]]\n",
      "max 17914\n"
     ]
    },
    {
     "name": "stderr",
     "output_type": "stream",
     "text": [
      "\n",
      "\n",
      "\n",
      "\n",
      "  2%|▏         | 175/10000 [3:02:34<170:29:55, 62.47s/it]\u001b[A\u001b[A\u001b[A\u001b[A\n",
      "\n",
      "\n",
      "\n",
      "  2%|▏         | 176/10000 [3:03:36<170:20:42, 62.42s/it]\u001b[A\u001b[A\u001b[A\u001b[A"
     ]
    },
    {
     "name": "stdout",
     "output_type": "stream",
     "text": [
      "predition [[10738  8492  8492 ...,    36     0     0]\n",
      " [10738  8492  8492 ...,     0     0     0]\n",
      " [ 7949     1     1 ...,     0     0     0]\n",
      " ..., \n",
      " [ 7949  8492 10552 ...,     0     0     0]\n",
      " [10738     1     0 ...,     0     0     0]\n",
      " [10738  8492     1 ...,     0     0     0]]\n",
      "max 17914\n"
     ]
    },
    {
     "name": "stderr",
     "output_type": "stream",
     "text": [
      "\n",
      "\n",
      "\n",
      "\n",
      "  2%|▏         | 177/10000 [3:04:38<170:26:57, 62.47s/it]\u001b[A\u001b[A\u001b[A\u001b[A\n",
      "\n",
      "\n",
      "\n",
      "  2%|▏         | 178/10000 [3:05:41<170:15:41, 62.40s/it]\u001b[A\u001b[A\u001b[A\u001b[A"
     ]
    },
    {
     "name": "stdout",
     "output_type": "stream",
     "text": [
      "predition [[ 7949     1     1 ...,     0     0     0]\n",
      " [ 7949  7949  7949 ...,     1     0     0]\n",
      " [10738  8492 17914 ...,     0     0     0]\n",
      " ..., \n",
      " [ 7949  8492 17914 ...,     0     0     0]\n",
      " [10738     1     1 ...,     0     0     0]\n",
      " [ 7949  8492 10552 ...,     0     0     0]]\n",
      "max 17914\n"
     ]
    },
    {
     "name": "stderr",
     "output_type": "stream",
     "text": [
      "\n",
      "\n",
      "\n",
      "\n",
      "  2%|▏         | 179/10000 [3:06:43<170:19:51, 62.44s/it]\u001b[A\u001b[A\u001b[A\u001b[A"
     ]
    },
    {
     "name": "stdout",
     "output_type": "stream",
     "text": [
      "predition [[ 7949  8492     1 ...,     0     0     0]\n",
      " [ 7949  8492 10552 ...,     0     0     0]\n",
      " [17496     1     0 ...,     0     0     0]\n",
      " ..., \n",
      " [ 7949  8492 10552 ...,     0     0     0]\n",
      " [   36     1     0 ...,     0     0     0]\n",
      " [10738  8492     1 ...,     0     0     0]]\n",
      "max 17914\n"
     ]
    },
    {
     "name": "stderr",
     "output_type": "stream",
     "text": [
      "\n",
      "\n",
      "\n",
      "\n",
      "  2%|▏         | 180/10000 [3:07:46<170:20:18, 62.45s/it]\u001b[A\u001b[A\u001b[A\u001b[A\n",
      "\n",
      "\n",
      "\n",
      "  2%|▏         | 181/10000 [3:08:48<170:21:10, 62.46s/it]\u001b[A\u001b[A\u001b[A\u001b[A"
     ]
    },
    {
     "name": "stdout",
     "output_type": "stream",
     "text": [
      "predition [[17914 17914 17914 ...,     0     0     0]\n",
      " [10738     1     1 ...,     0     0     0]\n",
      " [ 7949    36    36 ...,     0     0     0]\n",
      " ..., \n",
      " [ 7949  8492 10552 ...,    36     1     0]\n",
      " [17496     1     1 ...,     0     0     0]\n",
      " [ 7949     1    36 ...,     0     0     0]]\n",
      "max 17914\n"
     ]
    },
    {
     "name": "stderr",
     "output_type": "stream",
     "text": [
      "\n",
      "\n",
      "\n",
      "\n",
      "  2%|▏         | 182/10000 [3:09:51<170:22:00, 62.47s/it]\u001b[A\u001b[A\u001b[A\u001b[A\n",
      "\n",
      "\n",
      "\n",
      "  2%|▏         | 183/10000 [3:10:53<170:16:32, 62.44s/it]\u001b[A\u001b[A\u001b[A\u001b[A"
     ]
    },
    {
     "name": "stdout",
     "output_type": "stream",
     "text": [
      "predition [[10738     1     0 ...,     0     0     0]\n",
      " [ 7949  8492 10552 ...,    36     0     0]\n",
      " [ 7949  8492 10552 ...,    36    36     1]\n",
      " ..., \n",
      " [ 7949  8492     0 ...,     0     0     0]\n",
      " [ 7949  8492 10552 ...,     0     0     0]\n",
      " [ 7949  8492     0 ...,     0     0     0]]\n",
      "max 17914\n"
     ]
    },
    {
     "name": "stderr",
     "output_type": "stream",
     "text": [
      "\n",
      "\n",
      "\n",
      "\n",
      "  2%|▏         | 184/10000 [3:11:56<170:20:42, 62.47s/it]\u001b[A\u001b[A\u001b[A\u001b[A\n",
      "\n",
      "\n",
      "\n",
      "  2%|▏         | 185/10000 [3:12:58<170:20:54, 62.48s/it]\u001b[A\u001b[A\u001b[A\u001b[A"
     ]
    },
    {
     "name": "stdout",
     "output_type": "stream",
     "text": [
      "predition [[ 7949  8492  8492 ...,     0     0     0]\n",
      " [ 7949  7949 10552 ...,     0     0     0]\n",
      " [10738  8492     1 ...,     0     0     0]\n",
      " ..., \n",
      " [ 7949  8492 10552 ...,     0     0     0]\n",
      " [ 7949  7949 10552 ...,     0     0     0]\n",
      " [ 7949     1     0 ...,     0     0     0]]\n",
      "max 17914\n"
     ]
    },
    {
     "name": "stderr",
     "output_type": "stream",
     "text": [
      "\n",
      "\n",
      "\n",
      "\n",
      "  2%|▏         | 186/10000 [3:14:00<170:19:09, 62.48s/it]\u001b[A\u001b[A\u001b[A\u001b[A\n",
      "\n",
      "\n",
      "\n",
      "  2%|▏         | 187/10000 [3:15:03<170:13:15, 62.45s/it]\u001b[A\u001b[A\u001b[A\u001b[A"
     ]
    },
    {
     "name": "stdout",
     "output_type": "stream",
     "text": [
      "predition [[ 7949  8492 10552 ...,    36    36    36]\n",
      " [ 7949  8492     1 ...,     0     0     0]\n",
      " [ 7949  7949    36 ...,    36    36     0]\n",
      " ..., \n",
      " [ 7949  7949 10552 ...,     0     0     0]\n",
      " [ 7949  8492 10552 ...,    36    36     1]\n",
      " [ 7949  8492 10552 ...,     0     0     0]]\n",
      "max 17914\n"
     ]
    },
    {
     "name": "stderr",
     "output_type": "stream",
     "text": [
      "\n",
      "\n",
      "\n",
      "\n",
      "  2%|▏         | 188/10000 [3:16:05<170:08:58, 62.43s/it]\u001b[A\u001b[A\u001b[A\u001b[A\n",
      "\n",
      "\n",
      "\n",
      "  2%|▏         | 189/10000 [3:17:08<169:59:24, 62.38s/it]\u001b[A\u001b[A\u001b[A\u001b[A"
     ]
    },
    {
     "name": "stdout",
     "output_type": "stream",
     "text": [
      "predition [[ 7949   899 10552 ...,     0     0     0]\n",
      " [ 7949    36     1 ...,     0     0     0]\n",
      " [ 7949  8492 17914 ...,     0     0     0]\n",
      " ..., \n",
      " [17496     1     0 ...,     0     0     0]\n",
      " [ 7949  8492 17914 ...,     0     0     0]\n",
      " [17496     1     0 ...,     0     0     0]]\n",
      "max 17914\n"
     ]
    },
    {
     "name": "stderr",
     "output_type": "stream",
     "text": [
      "\n",
      "\n",
      "\n",
      "\n",
      "  2%|▏         | 190/10000 [3:18:10<170:08:16, 62.44s/it]\u001b[A\u001b[A\u001b[A\u001b[A\n",
      "\n",
      "\n",
      "\n",
      "  2%|▏         | 191/10000 [3:19:12<169:59:42, 62.39s/it]\u001b[A\u001b[A\u001b[A\u001b[A"
     ]
    },
    {
     "name": "stdout",
     "output_type": "stream",
     "text": [
      "predition [[ 7949  8492     0 ...,     0     0     0]\n",
      " [ 7949  8492 10552 ...,     0     0     0]\n",
      " [ 7949     1     1 ...,     0     0     0]\n",
      " ..., \n",
      " [ 7949  7949 10552 ...,     0     0     0]\n",
      " [ 7949  8492 10552 ...,     0     0     0]\n",
      " [17496     1     0 ...,     0     0     0]]\n",
      "max 17914\n"
     ]
    },
    {
     "name": "stderr",
     "output_type": "stream",
     "text": [
      "\n",
      "\n",
      "\n",
      "\n",
      "  2%|▏         | 192/10000 [3:20:15<170:00:45, 62.40s/it]\u001b[A\u001b[A\u001b[A\u001b[A"
     ]
    },
    {
     "name": "stdout",
     "output_type": "stream",
     "text": [
      "predition [[ 7949  7949 10552 ...,     0     0     0]\n",
      " [ 7949     1     0 ...,     0     0     0]\n",
      " [10738     1     0 ...,     0     0     0]\n",
      " ..., \n",
      " [ 7949  8492  8492 ...,     0     0     0]\n",
      " [ 7949  8492 10552 ...,     0     0     0]\n",
      " [ 7949    36    36 ...,     0     0     0]]\n",
      "max 17914\n"
     ]
    },
    {
     "name": "stderr",
     "output_type": "stream",
     "text": [
      "\n",
      "\n",
      "\n",
      "\n",
      "  2%|▏         | 193/10000 [3:21:17<170:09:02, 62.46s/it]\u001b[A\u001b[A\u001b[A\u001b[A\n",
      "\n",
      "\n",
      "\n",
      "  2%|▏         | 194/10000 [3:22:20<170:06:12, 62.45s/it]\u001b[A\u001b[A\u001b[A\u001b[A"
     ]
    },
    {
     "name": "stdout",
     "output_type": "stream",
     "text": [
      "predition [[ 7949  8492     1 ...,     0     0     0]\n",
      " [ 7949     1 17914 ...,     0     0     0]\n",
      " [10738  8492  8492 ...,     0     0     0]\n",
      " ..., \n",
      " [ 7949    36 17914 ...,     0     0     0]\n",
      " [10738    36     1 ...,     0     0     0]\n",
      " [ 7949     1     0 ...,     0     0     0]]\n",
      "max 17914\n"
     ]
    },
    {
     "name": "stderr",
     "output_type": "stream",
     "text": [
      "\n",
      "\n",
      "\n",
      "\n",
      "  2%|▏         | 195/10000 [3:23:22<170:08:25, 62.47s/it]\u001b[A\u001b[A\u001b[A\u001b[A\n",
      "\n",
      "\n",
      "\n",
      "  2%|▏         | 196/10000 [3:24:25<170:04:21, 62.45s/it]\u001b[A\u001b[A\u001b[A\u001b[A"
     ]
    },
    {
     "name": "stdout",
     "output_type": "stream",
     "text": [
      "predition [[10738  8492  8492 ...,     0     0     0]\n",
      " [17496     1     0 ...,     0     0     0]\n",
      " [17461  7949 10552 ...,    36     0     0]\n",
      " ..., \n",
      " [17496     1     0 ...,     0     0     0]\n",
      " [ 7949  7949 10552 ...,     0     0     0]\n",
      " [ 7949  8492     0 ...,     0     0     0]]\n",
      "max 17914\n"
     ]
    },
    {
     "name": "stderr",
     "output_type": "stream",
     "text": [
      "\n",
      "\n",
      "\n",
      "\n",
      "  2%|▏         | 197/10000 [3:25:27<170:10:17, 62.49s/it]\u001b[A\u001b[A\u001b[A\u001b[A\n",
      "\n",
      "\n",
      "\n",
      "  2%|▏         | 198/10000 [3:26:30<169:58:34, 62.43s/it]\u001b[A\u001b[A\u001b[A\u001b[A"
     ]
    },
    {
     "name": "stdout",
     "output_type": "stream",
     "text": [
      "predition [[ 7949     1 10552 ...,     0     0     0]\n",
      " [17914  8492  8492 ...,     0     0     0]\n",
      " [ 7949  7949 10552 ...,     0     0     0]\n",
      " ..., \n",
      " [ 7949    36     1 ...,     0     0     0]\n",
      " [ 7949  8492 10552 ...,     0     0     0]\n",
      " [ 7949    36     1 ...,     0     0     0]]\n",
      "max 17914\n"
     ]
    },
    {
     "name": "stderr",
     "output_type": "stream",
     "text": [
      "\n",
      "\n",
      "\n",
      "\n",
      "  2%|▏         | 199/10000 [3:27:32<170:01:27, 62.45s/it]\u001b[A\u001b[A\u001b[A\u001b[A\n",
      "\n",
      "\n",
      "\n",
      "  2%|▏         | 200/10000 [3:28:35<170:01:08, 62.46s/it]\u001b[A\u001b[A\u001b[A\u001b[A"
     ]
    },
    {
     "name": "stdout",
     "output_type": "stream",
     "text": [
      "predition [[17496     1     0 ...,     0     0     0]\n",
      " [ 7949  8492 17914 ...,     0     0     0]\n",
      " [10738  8492  8492 ...,     0     0     0]\n",
      " ..., \n",
      " [ 7949  8492 10552 ...,     0     0     0]\n",
      " [ 7949  8492     1 ...,     0     0     0]\n",
      " [ 7949  8492  8492 ...,     0     0     0]]\n",
      "max 17914\n"
     ]
    },
    {
     "name": "stderr",
     "output_type": "stream",
     "text": [
      "\n",
      "\n",
      "\n",
      "\n",
      "  2%|▏         | 201/10000 [3:29:37<170:01:51, 62.47s/it]\u001b[A\u001b[A\u001b[A\u001b[A\n",
      "\n",
      "\n",
      "\n",
      "  2%|▏         | 202/10000 [3:30:39<169:55:22, 62.43s/it]\u001b[A\u001b[A\u001b[A\u001b[A"
     ]
    },
    {
     "name": "stdout",
     "output_type": "stream",
     "text": [
      "predition [[ 7949  8492 17914 ...,     0     0     0]\n",
      " [ 7949    36 10552 ...,     0     0     0]\n",
      " [10738  8492  8492 ...,     0     0     0]\n",
      " ..., \n",
      " [17496     1     0 ...,     0     0     0]\n",
      " [10738     1     0 ...,     0     0     0]\n",
      " [ 7949  7949 10552 ...,    36     0     0]]\n",
      "max 17914\n"
     ]
    },
    {
     "name": "stderr",
     "output_type": "stream",
     "text": [
      "\n",
      "\n",
      "\n",
      "\n",
      "  2%|▏         | 203/10000 [3:31:42<169:58:44, 62.46s/it]\u001b[A\u001b[A\u001b[A\u001b[A\n",
      "\n",
      "\n",
      "\n",
      "  2%|▏         | 204/10000 [3:32:44<169:55:32, 62.45s/it]\u001b[A\u001b[A\u001b[A\u001b[A"
     ]
    },
    {
     "name": "stdout",
     "output_type": "stream",
     "text": [
      "predition [[17496     1     0 ...,     0     0     0]\n",
      " [ 7949  7949 10552 ...,     0     0     0]\n",
      " [ 7949  8492 10552 ...,     0     0     0]\n",
      " ..., \n",
      " [ 7949  7949 10552 ...,  7949    36    36]\n",
      " [17914  8492    36 ...,     0     0     0]\n",
      " [ 7949  8492     1 ...,     0     0     0]]\n",
      "max 17914\n"
     ]
    },
    {
     "name": "stderr",
     "output_type": "stream",
     "text": [
      "\n",
      "\n",
      "\n",
      "\n",
      "  2%|▏         | 205/10000 [3:33:47<169:58:27, 62.47s/it]\u001b[A\u001b[A\u001b[A\u001b[A"
     ]
    },
    {
     "name": "stdout",
     "output_type": "stream",
     "text": [
      "predition [[ 7949  8492  8492 ...,     0     0     0]\n",
      " [17496     1     0 ...,     0     0     0]\n",
      " [ 7949  8492 10552 ...,     0     0     0]\n",
      " ..., \n",
      " [ 7949  8492     1 ...,     0     0     0]\n",
      " [ 7949  8492 17914 ...,     0     0     0]\n",
      " [ 7949     1     0 ...,     0     0     0]]\n",
      "max 17914\n"
     ]
    },
    {
     "name": "stderr",
     "output_type": "stream",
     "text": [
      "\n",
      "\n",
      "\n",
      "\n",
      "  2%|▏         | 206/10000 [3:34:50<170:05:51, 62.52s/it]\u001b[A\u001b[A\u001b[A\u001b[A\n",
      "\n",
      "\n",
      "\n",
      "  2%|▏         | 207/10000 [3:35:52<169:50:19, 62.43s/it]\u001b[A\u001b[A\u001b[A\u001b[A"
     ]
    },
    {
     "name": "stdout",
     "output_type": "stream",
     "text": [
      "predition [[17496  8492  8492 ...,     0     0     0]\n",
      " [17496  8492    36 ...,     0     0     0]\n",
      " [10738  8492  8492 ...,     0     0     0]\n",
      " ..., \n",
      " [17496     1 10552 ...,     0     0     0]\n",
      " [ 7949  8492 10552 ...,     0     0     0]\n",
      " [ 7949  8492     1 ...,     0     0     0]]\n",
      "max 17914\n"
     ]
    },
    {
     "name": "stderr",
     "output_type": "stream",
     "text": [
      "\n",
      "\n",
      "\n",
      "\n",
      "  2%|▏         | 208/10000 [3:36:54<169:53:42, 62.46s/it]\u001b[A\u001b[A\u001b[A\u001b[A\n",
      "\n",
      "\n",
      "\n",
      "  2%|▏         | 209/10000 [3:37:57<169:47:38, 62.43s/it]\u001b[A\u001b[A\u001b[A\u001b[A"
     ]
    },
    {
     "name": "stdout",
     "output_type": "stream",
     "text": [
      "predition [[17877  8492     1 ...,     0     0     0]\n",
      " [ 7949    36     1 ...,     0     0     0]\n",
      " [ 7949  7949    36 ...,    36    36     1]\n",
      " ..., \n",
      " [10738     1     1 ...,     0     0     0]\n",
      " [17496     1     1 ...,     0     0     0]\n",
      " [10738     1     0 ...,     0     0     0]]\n",
      "max 17914\n"
     ]
    },
    {
     "name": "stderr",
     "output_type": "stream",
     "text": [
      "\n",
      "\n",
      "\n",
      "\n",
      "  2%|▏         | 210/10000 [3:38:59<169:53:08, 62.47s/it]\u001b[A\u001b[A\u001b[A\u001b[A\n",
      "\n",
      "\n",
      "\n",
      "  2%|▏         | 211/10000 [3:40:02<169:45:57, 62.43s/it]\u001b[A\u001b[A\u001b[A\u001b[A"
     ]
    },
    {
     "name": "stdout",
     "output_type": "stream",
     "text": [
      "predition [[ 7949    36  8492 ...,     0     0     0]\n",
      " [10738  8492     1 ...,     0     0     0]\n",
      " [10738  8492  8492 ...,     0     0     0]\n",
      " ..., \n",
      " [ 7949  8492 10552 ...,     0     0     0]\n",
      " [ 7949  8492     1 ...,     0     0     0]\n",
      " [ 7949  8492    36 ...,     0     0     0]]\n",
      "max 17914\n"
     ]
    },
    {
     "name": "stderr",
     "output_type": "stream",
     "text": [
      "\n",
      "\n",
      "\n",
      "\n",
      "  2%|▏         | 212/10000 [3:41:04<169:47:41, 62.45s/it]\u001b[A\u001b[A\u001b[A\u001b[A\n",
      "\n",
      "\n",
      "\n",
      "  2%|▏         | 213/10000 [3:42:06<169:41:19, 62.42s/it]\u001b[A\u001b[A\u001b[A\u001b[A"
     ]
    },
    {
     "name": "stdout",
     "output_type": "stream",
     "text": [
      "predition [[17914  8492  8492 ...,     0     0     0]\n",
      " [ 7949  8492  8492 ...,    36    36    36]\n",
      " [ 7949  8492  8492 ...,     0     0     0]\n",
      " ..., \n",
      " [ 7949  8492    36 ...,     0     0     0]\n",
      " [ 7949  8492  8492 ...,    36    36     1]\n",
      " [ 7949  8492 10552 ...,     0     0     0]]\n",
      "max 17914\n"
     ]
    },
    {
     "name": "stderr",
     "output_type": "stream",
     "text": [
      "\n",
      "\n",
      "\n",
      "\n",
      "  2%|▏         | 214/10000 [3:43:09<169:52:49, 62.49s/it]\u001b[A\u001b[A\u001b[A\u001b[A\n",
      "\n",
      "\n",
      "\n",
      "  2%|▏         | 215/10000 [3:44:12<169:53:44, 62.51s/it]\u001b[A\u001b[A\u001b[A\u001b[A"
     ]
    },
    {
     "name": "stdout",
     "output_type": "stream",
     "text": [
      "predition [[ 7949  8492     1 ...,     0     0     0]\n",
      " [ 7949  8492 10552 ...,    36     0     0]\n",
      " [10738  8492    36 ...,    36    36    36]\n",
      " ..., \n",
      " [ 7949     1     0 ...,     0     0     0]\n",
      " [ 7949     1     0 ...,     0     0     0]\n",
      " [ 7949  8492     1 ...,     0     0     0]]\n",
      "max 17914\n"
     ]
    },
    {
     "name": "stderr",
     "output_type": "stream",
     "text": [
      "\n",
      "\n",
      "\n",
      "\n",
      "  2%|▏         | 216/10000 [3:45:14<170:00:06, 62.55s/it]\u001b[A\u001b[A\u001b[A\u001b[A\n",
      "\n",
      "\n",
      "\n",
      "  2%|▏         | 217/10000 [3:46:17<169:47:29, 62.48s/it]\u001b[A\u001b[A\u001b[A\u001b[A"
     ]
    },
    {
     "name": "stdout",
     "output_type": "stream",
     "text": [
      "predition [[10738     1     0 ...,     0     0     0]\n",
      " [17914 17914 17914 ...,     0     0     0]\n",
      " [ 7949  8492     1 ...,     0     0     0]\n",
      " ..., \n",
      " [17496     1     1 ...,     0     0     0]\n",
      " [17496     1     1 ...,     0     0     0]\n",
      " [ 7949  8492 10552 ...,    36    36     1]]\n",
      "max 17914\n"
     ]
    },
    {
     "name": "stderr",
     "output_type": "stream",
     "text": [
      "\n",
      "\n",
      "\n",
      "\n",
      "  2%|▏         | 218/10000 [3:47:19<169:50:30, 62.51s/it]\u001b[A\u001b[A\u001b[A\u001b[A"
     ]
    },
    {
     "name": "stdout",
     "output_type": "stream",
     "text": [
      "predition [[ 7949    36    36 ...,     0     0     0]\n",
      " [17496     1     1 ...,     0     0     0]\n",
      " [ 7949  8492     1 ...,     0     0     0]\n",
      " ..., \n",
      " [ 7949    36     1 ...,     0     0     0]\n",
      " [ 7949     1     1 ...,     0     0     0]\n",
      " [ 7949     1     0 ...,     0     0     0]]\n",
      "max 17914\n"
     ]
    },
    {
     "name": "stderr",
     "output_type": "stream",
     "text": [
      "\n",
      "\n",
      "\n",
      "\n",
      "  2%|▏         | 219/10000 [3:48:22<169:51:03, 62.52s/it]\u001b[A\u001b[A\u001b[A\u001b[A\n",
      "\n",
      "\n",
      "\n",
      "  2%|▏         | 220/10000 [3:49:24<169:44:15, 62.48s/it]\u001b[A\u001b[A\u001b[A\u001b[A"
     ]
    },
    {
     "name": "stdout",
     "output_type": "stream",
     "text": [
      "predition [[17914 17914 17914 ...,     0     0     0]\n",
      " [ 7949    36     1 ...,     0     0     0]\n",
      " [10738     1    36 ...,     0     0     0]\n",
      " ..., \n",
      " [ 7949  8492  8492 ...,     0     0     0]\n",
      " [10738  8492     0 ...,     0     0     0]\n",
      " [10738 17914 17914 ...,     0     0     0]]\n",
      "max 17914\n"
     ]
    },
    {
     "name": "stderr",
     "output_type": "stream",
     "text": [
      "\n",
      "\n",
      "\n",
      "\n",
      "  2%|▏         | 221/10000 [3:50:27<169:46:30, 62.50s/it]\u001b[A\u001b[A\u001b[A\u001b[A\n",
      "\n",
      "\n",
      "\n",
      "  2%|▏         | 222/10000 [3:51:29<169:40:17, 62.47s/it]\u001b[A\u001b[A\u001b[A\u001b[A"
     ]
    },
    {
     "name": "stdout",
     "output_type": "stream",
     "text": [
      "predition [[ 7949  8492     0 ...,     0     0     0]\n",
      " [ 7949  8492 10552 ...,    36     1     0]\n",
      " [10738     1 17914 ...,     0     0     0]\n",
      " ..., \n",
      " [ 7949  7949 10552 ..., 16139    36    36]\n",
      " [17914 17914 17914 ...,     0     0     0]\n",
      " [ 7949  8492  8492 ...,     0     0     0]]\n",
      "max 17914\n"
     ]
    },
    {
     "name": "stderr",
     "output_type": "stream",
     "text": [
      "\n",
      "\n",
      "\n",
      "\n",
      "  2%|▏         | 223/10000 [3:52:31<169:39:44, 62.47s/it]\u001b[A\u001b[A\u001b[A\u001b[A\n",
      "\n",
      "\n",
      "\n",
      "  2%|▏         | 224/10000 [3:53:34<169:34:59, 62.45s/it]\u001b[A\u001b[A\u001b[A\u001b[A"
     ]
    },
    {
     "name": "stdout",
     "output_type": "stream",
     "text": [
      "predition [[ 7949  8492  8492 ...,     0     0     0]\n",
      " [10738  8492 10552 ..., 15868    36    36]\n",
      " [ 7949  8492  8492 ...,    36    36     1]\n",
      " ..., \n",
      " [10738    36    36 ...,     0     0     0]\n",
      " [ 7949  8492     0 ...,     0     0     0]\n",
      " [17914    36     0 ...,     0     0     0]]\n",
      "max 17914\n"
     ]
    },
    {
     "name": "stderr",
     "output_type": "stream",
     "text": [
      "\n",
      "\n",
      "\n",
      "\n",
      "  2%|▏         | 225/10000 [3:54:36<169:37:00, 62.47s/it]\u001b[A\u001b[A\u001b[A\u001b[A\n",
      "\n",
      "\n",
      "\n",
      "  2%|▏         | 226/10000 [3:55:39<169:35:01, 62.46s/it]\u001b[A\u001b[A\u001b[A\u001b[A"
     ]
    },
    {
     "name": "stdout",
     "output_type": "stream",
     "text": [
      "predition [[ 7949 17914 10552 ...,     0     0     0]\n",
      " [17914 17914 10552 ...,     0     0     0]\n",
      " [10738  8492     1 ...,     0     0     0]\n",
      " ..., \n",
      " [10738     1    36 ...,     0     0     0]\n",
      " [ 7949  7949  7949 ...,     0     0     0]\n",
      " [ 7949    36     1 ...,     0     0     0]]\n",
      "max 17914\n"
     ]
    },
    {
     "name": "stderr",
     "output_type": "stream",
     "text": [
      "\n",
      "\n",
      "\n",
      "\n",
      "  2%|▏         | 227/10000 [3:56:41<169:33:18, 62.46s/it]\u001b[A\u001b[A\u001b[A\u001b[A\n",
      "\n",
      "\n",
      "\n",
      "  2%|▏         | 228/10000 [3:57:44<169:30:46, 62.45s/it]\u001b[A\u001b[A\u001b[A\u001b[A"
     ]
    },
    {
     "name": "stdout",
     "output_type": "stream",
     "text": [
      "predition [[ 7949  8492 10552 ...,     0     0     0]\n",
      " [ 7949 17914 17914 ...,     0     0     0]\n",
      " [17496     1 17914 ...,     0     0     0]\n",
      " ..., \n",
      " [ 7949    36     1 ...,     0     0     0]\n",
      " [ 7949     1 17914 ...,     0     0     0]\n",
      " [ 7949    36 17914 ...,     0     0     0]]\n",
      "max 17914\n"
     ]
    },
    {
     "name": "stderr",
     "output_type": "stream",
     "text": [
      "\n",
      "\n",
      "\n",
      "\n",
      "  2%|▏         | 229/10000 [3:58:46<169:41:57, 62.52s/it]\u001b[A\u001b[A\u001b[A\u001b[A\n",
      "\n",
      "\n",
      "\n",
      "  2%|▏         | 230/10000 [3:59:49<169:35:15, 62.49s/it]\u001b[A\u001b[A\u001b[A\u001b[A"
     ]
    },
    {
     "name": "stdout",
     "output_type": "stream",
     "text": [
      "predition [[ 7949  8492     1 ...,     0     0     0]\n",
      " [17496     1  7949 ...,     0     0     0]\n",
      " [17496     1     1 ...,     0     0     0]\n",
      " ..., \n",
      " [ 7949  8492  8492 ...,    36    36    36]\n",
      " [10738  8492  8492 ...,     0     0     0]\n",
      " [10738  8492  8492 ...,     0     0     0]]\n",
      "max 17914\n"
     ]
    },
    {
     "name": "stderr",
     "output_type": "stream",
     "text": [
      "\n",
      "\n",
      "\n",
      "\n",
      "  2%|▏         | 231/10000 [4:00:51<169:38:58, 62.52s/it]\u001b[A\u001b[A\u001b[A\u001b[A\n",
      "\n",
      "\n",
      "\n",
      "  2%|▏         | 232/10000 [4:01:54<169:30:39, 62.47s/it]\u001b[A\u001b[A\u001b[A\u001b[A"
     ]
    },
    {
     "name": "stdout",
     "output_type": "stream",
     "text": [
      "predition [[ 7949  7949 10552 ...,    36    36     1]\n",
      " [10738  8492 10552 ...,     0     0     0]\n",
      " [ 7949  8492  8492 ...,     0     0     0]\n",
      " ..., \n",
      " [17496     1     1 ...,     0     0     0]\n",
      " [10738  8492     1 ...,     0     0     0]\n",
      " [10738     1     0 ...,     0     0     0]]\n",
      "max 17914\n"
     ]
    },
    {
     "name": "stderr",
     "output_type": "stream",
     "text": [
      "\n",
      "\n",
      "\n",
      "\n",
      "  2%|▏         | 233/10000 [4:02:56<169:35:17, 62.51s/it]\u001b[A\u001b[A\u001b[A\u001b[A"
     ]
    },
    {
     "name": "stdout",
     "output_type": "stream",
     "text": [
      "predition [[10738    36     1 ...,     0     0     0]\n",
      " [ 7949  8492 10552 ...,     0     0     0]\n",
      " [ 7949  8492     0 ...,     0     0     0]\n",
      " ..., \n",
      " [10472  8492  8492 ...,     0     0     0]\n",
      " [ 7949     1     0 ...,     0     0     0]\n",
      " [ 7949    36 10552 ...,     1     1     0]]\n",
      "max 17914\n"
     ]
    },
    {
     "name": "stderr",
     "output_type": "stream",
     "text": [
      "\n",
      "\n",
      "\n",
      "\n",
      "  2%|▏         | 234/10000 [4:03:59<169:30:12, 62.48s/it]\u001b[A\u001b[A\u001b[A\u001b[A\n",
      "\n",
      "\n",
      "\n",
      "  2%|▏         | 235/10000 [4:05:01<169:29:06, 62.48s/it]\u001b[A\u001b[A\u001b[A\u001b[A"
     ]
    },
    {
     "name": "stdout",
     "output_type": "stream",
     "text": [
      "predition [[ 7949  8492     1 ...,     0     0     0]\n",
      " [ 7949  8492 10552 ...,     0     0     0]\n",
      " [10738     1     0 ...,     0     0     0]\n",
      " ..., \n",
      " [ 7949    36     1 ...,     0     0     0]\n",
      " [10738  8492  8492 ...,     0     0     0]\n",
      " [ 7949  7949 10552 ...,    36     0     0]]\n",
      "max 17914\n"
     ]
    },
    {
     "name": "stderr",
     "output_type": "stream",
     "text": [
      "\n",
      "\n",
      "\n",
      "\n",
      "  2%|▏         | 236/10000 [4:06:04<169:31:42, 62.51s/it]\u001b[A\u001b[A\u001b[A\u001b[A\n",
      "\n",
      "\n",
      "\n",
      "  2%|▏         | 237/10000 [4:07:06<169:26:25, 62.48s/it]\u001b[A\u001b[A\u001b[A\u001b[A"
     ]
    },
    {
     "name": "stdout",
     "output_type": "stream",
     "text": [
      "predition [[ 7949  8492  8492 ...,    36     0     0]\n",
      " [17496     1     1 ...,     0     0     0]\n",
      " [ 7949     1     1 ...,     0     0     0]\n",
      " ..., \n",
      " [ 7949  7949 10552 ...,     0     0     0]\n",
      " [17496  8492  8492 ...,     0     0     0]\n",
      " [ 7949  8492 10552 ...,     0     0     0]]\n",
      "max 17914\n"
     ]
    },
    {
     "name": "stderr",
     "output_type": "stream",
     "text": [
      "\n",
      "\n",
      "\n",
      "\n",
      "  2%|▏         | 238/10000 [4:08:09<169:28:45, 62.50s/it]\u001b[A\u001b[A\u001b[A\u001b[A\n",
      "\n",
      "\n",
      "\n",
      "  2%|▏         | 239/10000 [4:09:11<169:20:39, 62.46s/it]\u001b[A\u001b[A\u001b[A\u001b[A"
     ]
    },
    {
     "name": "stdout",
     "output_type": "stream",
     "text": [
      "predition [[ 7949  8492     1 ...,     0     0     0]\n",
      " [ 7949  8492 17914 ...,     0     0     0]\n",
      " [17496  8492 10552 ...,     0     0     0]\n",
      " ..., \n",
      " [10738  8492 10552 ..., 15868 15868    36]\n",
      " [ 7949  8492 10552 ...,     0     0     0]\n",
      " [10738    36    36 ...,     0     0     0]]\n",
      "max 17914\n"
     ]
    },
    {
     "name": "stderr",
     "output_type": "stream",
     "text": [
      "\n",
      "\n",
      "\n",
      "\n",
      "  2%|▏         | 240/10000 [4:10:14<169:22:46, 62.48s/it]\u001b[A\u001b[A\u001b[A\u001b[A\n",
      "\n",
      "\n",
      "\n",
      "  2%|▏         | 241/10000 [4:11:16<169:16:44, 62.45s/it]\u001b[A\u001b[A\u001b[A\u001b[A"
     ]
    },
    {
     "name": "stdout",
     "output_type": "stream",
     "text": [
      "predition [[ 7949  8492 10552 ..., 15868    36    36]\n",
      " [17496     1     1 ...,     0     0     0]\n",
      " [10738  8492 10552 ...,     0     0     0]\n",
      " ..., \n",
      " [10738  8492    36 ...,     0     0     0]\n",
      " [10738  8492    36 ...,     0     0     0]\n",
      " [ 7949     1     0 ...,     0     0     0]]\n",
      "max 17914\n"
     ]
    },
    {
     "name": "stderr",
     "output_type": "stream",
     "text": [
      "\n",
      "\n",
      "\n",
      "\n",
      "  2%|▏         | 242/10000 [4:12:19<169:18:36, 62.46s/it]\u001b[A\u001b[A\u001b[A\u001b[A\n",
      "\n",
      "\n",
      "\n",
      "  2%|▏         | 243/10000 [4:13:21<169:13:17, 62.44s/it]\u001b[A\u001b[A\u001b[A\u001b[A"
     ]
    },
    {
     "name": "stdout",
     "output_type": "stream",
     "text": [
      "predition [[ 7949  8492     1 ...,     0     0     0]\n",
      " [10738  8492     0 ...,     0     0     0]\n",
      " [ 7949    36    36 ...,     0     0     0]\n",
      " ..., \n",
      " [10738  8492     1 ...,     0     0     0]\n",
      " [ 7949  8492  8492 ...,    36     1     0]\n",
      " [17496  8492     1 ...,     0     0     0]]\n",
      "max 17914\n"
     ]
    },
    {
     "name": "stderr",
     "output_type": "stream",
     "text": [
      "\n",
      "\n",
      "\n",
      "\n",
      "  2%|▏         | 244/10000 [4:14:23<169:15:14, 62.46s/it]\u001b[A\u001b[A\u001b[A\u001b[A\n",
      "\n",
      "\n",
      "\n",
      "  2%|▏         | 245/10000 [4:15:26<169:05:37, 62.40s/it]\u001b[A\u001b[A\u001b[A\u001b[A"
     ]
    },
    {
     "name": "stdout",
     "output_type": "stream",
     "text": [
      "predition [[ 7949  8492 10552 ...,    36    36    36]\n",
      " [ 7949  8492  8492 ...,     0     0     0]\n",
      " [ 7949  8492     1 ...,     0     0     0]\n",
      " ..., \n",
      " [17914  8492    36 ...,     0     0     0]\n",
      " [10738    36     1 ...,     0     0     0]\n",
      " [10738  8492     1 ...,     0     0     0]]\n",
      "max 17914\n"
     ]
    },
    {
     "name": "stderr",
     "output_type": "stream",
     "text": [
      "\n",
      "\n",
      "\n",
      "\n",
      "  2%|▏         | 246/10000 [4:16:28<169:05:34, 62.41s/it]\u001b[A\u001b[A\u001b[A\u001b[A"
     ]
    },
    {
     "name": "stdout",
     "output_type": "stream",
     "text": [
      "predition [[ 7949  8492     1 ...,     0     0     0]\n",
      " [ 7949  7949     1 ...,     0     0     0]\n",
      " [ 7949  7949  7949 ..., 16139    36    36]\n",
      " ..., \n",
      " [ 7949 17914 10552 ...,     0     0     0]\n",
      " [17496     1     1 ...,     0     0     0]\n",
      " [17496     1 10552 ...,     0     0     0]]\n",
      "max 17914\n"
     ]
    },
    {
     "name": "stderr",
     "output_type": "stream",
     "text": [
      "\n",
      "\n",
      "\n",
      "\n",
      "  2%|▏         | 247/10000 [4:17:30<168:58:44, 62.37s/it]\u001b[A\u001b[A\u001b[A\u001b[A\n",
      "\n",
      "\n",
      "\n",
      "  2%|▏         | 248/10000 [4:18:33<169:07:30, 62.43s/it]\u001b[A\u001b[A\u001b[A\u001b[A"
     ]
    },
    {
     "name": "stdout",
     "output_type": "stream",
     "text": [
      "predition [[10738  8492     0 ...,     0     0     0]\n",
      " [ 7949  8492  8492 ...,     0     0     0]\n",
      " [10738     1     0 ...,     0     0     0]\n",
      " ..., \n",
      " [ 7949  8492 10552 ...,     0     0     0]\n",
      " [17496     1     1 ...,     0     0     0]\n",
      " [10738     1     0 ...,     0     0     0]]\n",
      "max 17914\n"
     ]
    },
    {
     "name": "stderr",
     "output_type": "stream",
     "text": [
      "\n",
      "\n",
      "\n",
      "\n",
      "  2%|▏         | 249/10000 [4:19:36<169:13:06, 62.47s/it]\u001b[A\u001b[A\u001b[A\u001b[A\n",
      "\n",
      "\n",
      "\n",
      "  2%|▎         | 250/10000 [4:20:38<169:01:45, 62.41s/it]\u001b[A\u001b[A\u001b[A\u001b[A"
     ]
    },
    {
     "name": "stdout",
     "output_type": "stream",
     "text": [
      "predition [[ 7949    36     0 ...,     0     0     0]\n",
      " [17496    36    36 ...,     0     0     0]\n",
      " [ 7949     1     1 ...,     0     0     0]\n",
      " ..., \n",
      " [10738    36     1 ...,     0     0     0]\n",
      " [ 7949  8492  8492 ..., 15868    36    36]\n",
      " [17496     1     0 ...,     0     0     0]]\n",
      "max 17914\n"
     ]
    },
    {
     "name": "stderr",
     "output_type": "stream",
     "text": [
      "\n",
      "\n",
      "\n",
      "\n",
      "  3%|▎         | 251/10000 [4:21:40<169:09:50, 62.47s/it]\u001b[A\u001b[A\u001b[A\u001b[A\n",
      "\n",
      "\n",
      "\n",
      "  3%|▎         | 252/10000 [4:22:43<169:04:44, 62.44s/it]\u001b[A\u001b[A\u001b[A\u001b[A"
     ]
    },
    {
     "name": "stdout",
     "output_type": "stream",
     "text": [
      "predition [[ 7949  8492 10552 ...,    36     1     1]\n",
      " [ 7949  8492 17914 ...,     0     0     0]\n",
      " [17496     1     1 ...,     0     0     0]\n",
      " ..., \n",
      " [ 7949  8492 10552 ...,     0     0     0]\n",
      " [10738    36    36 ...,     0     0     0]\n",
      " [ 7949     1     0 ...,     0     0     0]]\n",
      "max 17914\n"
     ]
    },
    {
     "name": "stderr",
     "output_type": "stream",
     "text": [
      "\n",
      "\n",
      "\n",
      "\n",
      "  3%|▎         | 253/10000 [4:23:45<169:05:10, 62.45s/it]\u001b[A\u001b[A\u001b[A\u001b[A\n",
      "\n",
      "\n",
      "\n",
      "  3%|▎         | 254/10000 [4:24:48<169:03:29, 62.45s/it]\u001b[A\u001b[A\u001b[A\u001b[A"
     ]
    },
    {
     "name": "stdout",
     "output_type": "stream",
     "text": [
      "predition [[ 7949  8492     1 ...,     0     0     0]\n",
      " [ 7949     1     0 ...,     0     0     0]\n",
      " [ 7949  8492 10552 ...,     0     0     0]\n",
      " ..., \n",
      " [10738     1     1 ...,     0     0     0]\n",
      " [17877  7949  7949 ...,     1     1     0]\n",
      " [ 7949  8492 17914 ...,     0     0     0]]\n",
      "max 17914\n"
     ]
    },
    {
     "name": "stderr",
     "output_type": "stream",
     "text": [
      "\n",
      "\n",
      "\n",
      "\n",
      "  3%|▎         | 255/10000 [4:25:50<169:01:54, 62.44s/it]\u001b[A\u001b[A\u001b[A\u001b[A\n",
      "\n",
      "\n",
      "\n",
      "  3%|▎         | 256/10000 [4:26:53<168:56:38, 62.42s/it]\u001b[A\u001b[A\u001b[A\u001b[A"
     ]
    },
    {
     "name": "stdout",
     "output_type": "stream",
     "text": [
      "predition [[ 7949     1     1 ...,     0     0     0]\n",
      " [17496  8492    36 ...,     0     0     0]\n",
      " [ 7949  8492 17914 ...,     0     0     0]\n",
      " ..., \n",
      " [ 7949  7949  7949 ...,    36     0     0]\n",
      " [ 7949  8492  8492 ...,    36    36     0]\n",
      " [ 7949  8492 10552 ...,     0     0     0]]\n",
      "max 17914\n"
     ]
    },
    {
     "name": "stderr",
     "output_type": "stream",
     "text": [
      "\n",
      "\n",
      "\n",
      "\n",
      "  3%|▎         | 257/10000 [4:27:55<168:58:54, 62.44s/it]\u001b[A\u001b[A\u001b[A\u001b[A\n",
      "\n",
      "\n",
      "\n",
      "  3%|▎         | 258/10000 [4:28:57<168:53:12, 62.41s/it]\u001b[A\u001b[A\u001b[A\u001b[A"
     ]
    },
    {
     "name": "stdout",
     "output_type": "stream",
     "text": [
      "predition [[17496  8492  8492 ...,     0     0     0]\n",
      " [ 7949  8492     1 ...,     0     0     0]\n",
      " [ 7949  8492 10552 ...,     0     0     0]\n",
      " ..., \n",
      " [ 7949  8492     1 ...,     0     0     0]\n",
      " [ 7949  8492 17914 ...,     0     0     0]\n",
      " [ 7949  8492 10552 ...,     0     0     0]]\n",
      "max 17914\n"
     ]
    },
    {
     "name": "stderr",
     "output_type": "stream",
     "text": [
      "\n",
      "\n",
      "\n",
      "\n",
      "  3%|▎         | 259/10000 [4:30:00<169:01:46, 62.47s/it]\u001b[A\u001b[A\u001b[A\u001b[A"
     ]
    },
    {
     "name": "stdout",
     "output_type": "stream",
     "text": [
      "predition [[17914 17914 17914 ...,     0     0     0]\n",
      " [17496     1     0 ...,     0     0     0]\n",
      " [ 7949 17914 17914 ...,    36    36    36]\n",
      " ..., \n",
      " [ 7949  7949  7949 ...,     0     0     0]\n",
      " [17496  8492    36 ...,     0     0     0]\n",
      " [17395  8492 10552 ...,     0     0     0]]\n",
      "max 17914\n"
     ]
    },
    {
     "name": "stderr",
     "output_type": "stream",
     "text": [
      "\n",
      "\n",
      "\n",
      "\n",
      "  3%|▎         | 260/10000 [4:31:02<169:04:41, 62.49s/it]\u001b[A\u001b[A\u001b[A\u001b[A\n",
      "\n",
      "\n",
      "\n",
      "  3%|▎         | 261/10000 [4:32:05<168:52:39, 62.43s/it]\u001b[A\u001b[A\u001b[A\u001b[A"
     ]
    },
    {
     "name": "stdout",
     "output_type": "stream",
     "text": [
      "predition [[17496     1     0 ...,     0     0     0]\n",
      " [ 7949    36 17914 ...,     0     0     0]\n",
      " [ 7949    36    36 ...,     0     0     0]\n",
      " ..., \n",
      " [10738  8492  8492 ...,     0     0     0]\n",
      " [ 7949    36     0 ...,     0     0     0]\n",
      " [17877  8492     1 ...,     0     0     0]]\n",
      "max 17914\n"
     ]
    },
    {
     "name": "stderr",
     "output_type": "stream",
     "text": [
      "\n",
      "\n",
      "\n",
      "\n",
      "  3%|▎         | 262/10000 [4:33:07<168:47:05, 62.40s/it]\u001b[A\u001b[A\u001b[A\u001b[A\n",
      "\n",
      "\n",
      "\n",
      "  3%|▎         | 263/10000 [4:34:09<168:40:11, 62.36s/it]\u001b[A\u001b[A\u001b[A\u001b[A"
     ]
    },
    {
     "name": "stdout",
     "output_type": "stream",
     "text": [
      "predition [[ 7949  8492 10552 ...,     0     0     0]\n",
      " [ 7949  8492  8492 ...,    36    36    36]\n",
      " [17496     1     0 ...,     0     0     0]\n",
      " ..., \n",
      " [ 7949  8492 10552 ...,     0     0     0]\n",
      " [17877  8492 15868 ...,     0     0     0]\n",
      " [ 7949  8492     1 ...,     0     0     0]]\n",
      "max 17914\n"
     ]
    },
    {
     "name": "stderr",
     "output_type": "stream",
     "text": [
      "\n",
      "\n",
      "\n",
      "\n",
      "  3%|▎         | 264/10000 [4:35:12<168:45:47, 62.40s/it]\u001b[A\u001b[A\u001b[A\u001b[A\n",
      "\n",
      "\n",
      "\n",
      "  3%|▎         | 265/10000 [4:36:14<168:39:06, 62.37s/it]\u001b[A\u001b[A\u001b[A\u001b[A"
     ]
    },
    {
     "name": "stdout",
     "output_type": "stream",
     "text": [
      "predition [[ 7949    36     1 ...,     0     0     0]\n",
      " [ 7949  8492     1 ...,     0     0     0]\n",
      " [10738  8492  8492 ...,     0     0     0]\n",
      " ..., \n",
      " [ 7949     1     0 ...,     0     0     0]\n",
      " [ 7949  8492     1 ...,     0     0     0]\n",
      " [17914     1    36 ...,     0     0     0]]\n",
      "max 17914\n"
     ]
    },
    {
     "name": "stderr",
     "output_type": "stream",
     "text": [
      "\n",
      "\n",
      "\n",
      "\n",
      "  3%|▎         | 266/10000 [4:37:17<168:44:52, 62.41s/it]\u001b[A\u001b[A\u001b[A\u001b[A\n",
      "\n",
      "\n",
      "\n",
      "  3%|▎         | 267/10000 [4:38:19<168:40:21, 62.39s/it]\u001b[A\u001b[A\u001b[A\u001b[A"
     ]
    },
    {
     "name": "stdout",
     "output_type": "stream",
     "text": [
      "predition [[ 7949  8492  8492 ...,     0     0     0]\n",
      " [17496  8492  8492 ...,     0     0     0]\n",
      " [ 7949    36     1 ...,     0     0     0]\n",
      " ..., \n",
      " [ 7949     1     1 ...,     0     0     0]\n",
      " [ 7949     1     0 ...,     0     0     0]\n",
      " [10738    36    36 ...,     0     0     0]]\n",
      "max 17914\n"
     ]
    },
    {
     "name": "stderr",
     "output_type": "stream",
     "text": [
      "\n",
      "\n",
      "\n",
      "\n",
      "  3%|▎         | 268/10000 [4:39:22<168:47:52, 62.44s/it]\u001b[A\u001b[A\u001b[A\u001b[A\n",
      "\n",
      "\n",
      "\n",
      "  3%|▎         | 269/10000 [4:40:24<168:39:14, 62.39s/it]\u001b[A\u001b[A\u001b[A\u001b[A"
     ]
    },
    {
     "name": "stdout",
     "output_type": "stream",
     "text": [
      "predition [[10738    36     1 ...,     0     0     0]\n",
      " [17914     1     1 ...,     0     0     0]\n",
      " [17914     1     0 ...,     0     0     0]\n",
      " ..., \n",
      " [10738    36     1 ...,     0     0     0]\n",
      " [ 7949    36    36 ...,     0     0     0]\n",
      " [10738    36  8492 ...,     0     0     0]]\n",
      "max 17914\n"
     ]
    },
    {
     "name": "stderr",
     "output_type": "stream",
     "text": [
      "\n",
      "\n",
      "\n",
      "\n",
      "  3%|▎         | 270/10000 [4:41:27<168:54:23, 62.49s/it]\u001b[A\u001b[A\u001b[A\u001b[A\n",
      "\n",
      "\n",
      "\n",
      "  3%|▎         | 271/10000 [4:42:29<168:46:02, 62.45s/it]\u001b[A\u001b[A\u001b[A\u001b[A"
     ]
    },
    {
     "name": "stdout",
     "output_type": "stream",
     "text": [
      "predition [[ 7949  8492  8492 ...,    36    36     0]\n",
      " [17496    36     1 ...,     0     0     0]\n",
      " [ 7949    36     1 ...,     0     0     0]\n",
      " ..., \n",
      " [ 7949     1     0 ...,     0     0     0]\n",
      " [ 7949  8492  8492 ...,    36     1     0]\n",
      " [10738  8492     0 ...,     0     0     0]]\n",
      "max 17914\n"
     ]
    },
    {
     "name": "stderr",
     "output_type": "stream",
     "text": [
      "\n",
      "\n",
      "\n",
      "\n",
      "  3%|▎         | 272/10000 [4:43:31<168:44:12, 62.44s/it]\u001b[A\u001b[A\u001b[A\u001b[A\n",
      "\n",
      "\n",
      "\n",
      "  3%|▎         | 273/10000 [4:44:34<168:45:28, 62.46s/it]"
     ]
    },
    {
     "name": "stdout",
     "output_type": "stream",
     "text": [
      "predition [[ 7949  8492 10552 ...,     0     0     0]\n",
      " [10738     1     0 ...,     0     0     0]\n",
      " [ 7949     1     0 ...,     0     0     0]\n",
      " ..., \n",
      " [ 7949  8492 10552 ..., 15868  8492    36]\n",
      " [17877  8492  8492 ...,     0     0     0]\n",
      " [ 7949  8492  8492 ...,     0     0     0]]\n",
      "max 17914\n"
     ]
    },
    {
     "name": "stderr",
     "output_type": "stream",
     "text": [
      "\u001b[A\u001b[A\u001b[A\u001b[A\n",
      "\n",
      "\n",
      "\n",
      "  3%|▎         | 274/10000 [4:45:36<168:41:29, 62.44s/it]\u001b[A\u001b[A\u001b[A\u001b[A"
     ]
    },
    {
     "name": "stdout",
     "output_type": "stream",
     "text": [
      "predition [[ 7949  8492 10552 ..., 15868    36     1]\n",
      " [10738    36     1 ...,     0     0     0]\n",
      " [ 7949  8492  8492 ...,     0     0     0]\n",
      " ..., \n",
      " [17496     1     1 ...,     0     0     0]\n",
      " [   36     1     0 ...,     0     0     0]\n",
      " [ 7949     1     0 ...,     0     0     0]]\n",
      "max 17914\n"
     ]
    },
    {
     "name": "stderr",
     "output_type": "stream",
     "text": [
      "\n",
      "\n",
      "\n",
      "\n",
      "  3%|▎         | 275/10000 [4:46:39<168:42:30, 62.45s/it]\u001b[A\u001b[A\u001b[A\u001b[A\n",
      "\n",
      "\n",
      "\n",
      "  3%|▎         | 276/10000 [4:47:41<168:30:18, 62.38s/it]\u001b[A\u001b[A\u001b[A\u001b[A"
     ]
    },
    {
     "name": "stdout",
     "output_type": "stream",
     "text": [
      "predition [[10738  8492  8492 ...,    36 15868    36]\n",
      " [17496  8492    36 ...,     0     0     0]\n",
      " [17914 17914 17914 ...,    36     1     0]\n",
      " ..., \n",
      " [ 7949    36     0 ...,     0     0     0]\n",
      " [17496  8492    36 ...,     0     0     0]\n",
      " [ 7949  8492 17914 ...,     0     0     0]]\n",
      "max 17914\n"
     ]
    },
    {
     "name": "stderr",
     "output_type": "stream",
     "text": [
      "\n",
      "\n",
      "\n",
      "\n",
      "  3%|▎         | 277/10000 [4:48:43<168:32:47, 62.41s/it]\u001b[A\u001b[A\u001b[A\u001b[A\n",
      "\n",
      "\n",
      "\n",
      "  3%|▎         | 278/10000 [4:49:46<168:24:14, 62.36s/it]\u001b[A\u001b[A\u001b[A\u001b[A"
     ]
    },
    {
     "name": "stdout",
     "output_type": "stream",
     "text": [
      "predition [[ 7949  7949  7949 ...,     0     0     0]\n",
      " [ 7949  8492 10552 ...,     0     0     0]\n",
      " [ 7949  8492 10552 ...,     0     0     0]\n",
      " ..., \n",
      " [ 7949  8492     1 ...,     0     0     0]\n",
      " [ 7949  7949 10552 ...,    36    36     0]\n",
      " [ 7949  8492 10552 ...,     0     0     0]]\n",
      "max 17914\n"
     ]
    },
    {
     "name": "stderr",
     "output_type": "stream",
     "text": [
      "\n",
      "\n",
      "\n",
      "\n",
      "  3%|▎         | 279/10000 [4:50:48<168:32:50, 62.42s/it]\u001b[A\u001b[A\u001b[A\u001b[A\n",
      "\n",
      "\n",
      "\n",
      "  3%|▎         | 280/10000 [4:51:51<168:33:29, 62.43s/it]\u001b[A\u001b[A\u001b[A\u001b[A"
     ]
    },
    {
     "name": "stdout",
     "output_type": "stream",
     "text": [
      "predition [[10738     1     0 ...,     0     0     0]\n",
      " [ 7949 17914 17914 ...,     0     0     0]\n",
      " [ 7949  8492    36 ...,     0     0     0]\n",
      " ..., \n",
      " [10738     1     1 ...,     0     0     0]\n",
      " [10738     1     0 ...,     0     0     0]\n",
      " [10738  8492     1 ...,     0     0     0]]\n",
      "max 17914\n"
     ]
    },
    {
     "name": "stderr",
     "output_type": "stream",
     "text": [
      "\n",
      "\n",
      "\n",
      "\n",
      "  3%|▎         | 281/10000 [4:52:53<168:39:37, 62.47s/it]\u001b[A\u001b[A\u001b[A\u001b[A\n",
      "\n",
      "\n",
      "\n",
      "  3%|▎         | 282/10000 [4:53:56<168:30:44, 62.42s/it]\u001b[A\u001b[A\u001b[A\u001b[A"
     ]
    },
    {
     "name": "stdout",
     "output_type": "stream",
     "text": [
      "predition [[ 7949    36  8492 ...,     0     0     0]\n",
      " [ 7949  8492  8492 ...,    36     0     0]\n",
      " [ 7949  8492 10552 ...,    36    36    36]\n",
      " ..., \n",
      " [10738  8492    36 ...,     0     0     0]\n",
      " [17496    36    36 ...,     0     0     0]\n",
      " [ 7949  8492  8492 ...,     0     0     0]]\n",
      "max 17914\n"
     ]
    },
    {
     "name": "stderr",
     "output_type": "stream",
     "text": [
      "\n",
      "\n",
      "\n",
      "\n",
      "  3%|▎         | 283/10000 [4:54:58<168:36:19, 62.47s/it]\u001b[A\u001b[A\u001b[A\u001b[A\n",
      "\n",
      "\n",
      "\n",
      "  3%|▎         | 284/10000 [4:56:00<168:24:20, 62.40s/it]\u001b[A\u001b[A\u001b[A\u001b[A"
     ]
    },
    {
     "name": "stdout",
     "output_type": "stream",
     "text": [
      "predition [[ 7949   899 10552 ...,     0     0     0]\n",
      " [ 7949  8492 10552 ...,     0     0     0]\n",
      " [ 7949  7949  7949 ...,     0     0     0]\n",
      " ..., \n",
      " [ 7949    36     1 ...,    36    36     0]\n",
      " [ 7949     1 17914 ...,     0     0     0]\n",
      " [ 7949  7949 10552 ...,     0     0     0]]\n",
      "max 17914\n"
     ]
    },
    {
     "name": "stderr",
     "output_type": "stream",
     "text": [
      "\n",
      "\n",
      "\n",
      "\n",
      "  3%|▎         | 285/10000 [4:57:03<168:28:53, 62.43s/it]\u001b[A\u001b[A\u001b[A\u001b[A\n",
      "\n",
      "\n",
      "\n",
      "  3%|▎         | 286/10000 [4:58:05<168:26:38, 62.43s/it]\u001b[A\u001b[A\u001b[A\u001b[A"
     ]
    },
    {
     "name": "stdout",
     "output_type": "stream",
     "text": [
      "predition [[ 7949  8492 10552 ...,     0     0     0]\n",
      " [ 7949  8492  8492 ..., 15868    36    36]\n",
      " [ 7949    36     1 ...,     0     0     0]\n",
      " ..., \n",
      " [ 7949  7949  7949 ...,     0     0     0]\n",
      " [ 7949  7949 10552 ...,     0     0     0]\n",
      " [ 7949    36     1 ...,     0     0     0]]\n",
      "max 17914\n"
     ]
    },
    {
     "name": "stderr",
     "output_type": "stream",
     "text": [
      "\n",
      "\n",
      "\n",
      "\n",
      "  3%|▎         | 287/10000 [4:59:08<168:31:48, 62.46s/it]\u001b[A\u001b[A\u001b[A\u001b[A"
     ]
    },
    {
     "name": "stdout",
     "output_type": "stream",
     "text": [
      "predition [[ 7949  7949  7949 ...,     0     0     0]\n",
      " [ 7949  8492 10552 ...,     0     0     0]\n",
      " [10738  8492    36 ...,    36     0     0]\n",
      " ..., \n",
      " [10738  8492  8492 ...,     1     1     0]\n",
      " [17877  8492  8492 ...,     0     0     0]\n",
      " [10738    36    36 ...,     0     0     0]]\n",
      "max 17914\n"
     ]
    },
    {
     "name": "stderr",
     "output_type": "stream",
     "text": [
      "\n",
      "\n",
      "\n",
      "\n",
      "  3%|▎         | 288/10000 [5:00:10<168:30:19, 62.46s/it]\u001b[A\u001b[A\u001b[A\u001b[A\n",
      "\n",
      "\n",
      "\n",
      "  3%|▎         | 289/10000 [5:01:13<168:20:52, 62.41s/it]\u001b[A\u001b[A\u001b[A\u001b[A"
     ]
    },
    {
     "name": "stdout",
     "output_type": "stream",
     "text": [
      "predition [[10738     1     0 ...,     0     0     0]\n",
      " [ 7949  7949 10552 ...,     0     0     0]\n",
      " [17914 17914 17914 ...,     0     0     0]\n",
      " ..., \n",
      " [ 7949  8492  8492 ...,    36    36     1]\n",
      " [ 7949  8492 10552 ...,     0     0     0]\n",
      " [17914 17914 17914 ...,     0     0     0]]\n",
      "max 17914\n"
     ]
    },
    {
     "name": "stderr",
     "output_type": "stream",
     "text": [
      "\n",
      "\n",
      "\n",
      "\n",
      "  3%|▎         | 290/10000 [5:02:15<168:26:05, 62.45s/it]\u001b[A\u001b[A\u001b[A\u001b[A\n",
      "\n",
      "\n",
      "\n",
      "  3%|▎         | 291/10000 [5:03:17<168:19:12, 62.41s/it]\u001b[A\u001b[A\u001b[A\u001b[A"
     ]
    },
    {
     "name": "stdout",
     "output_type": "stream",
     "text": [
      "predition [[ 7949  8492  8492 ...,     0     0     0]\n",
      " [ 7949    36     1 ...,     0     0     0]\n",
      " [ 7949  8492  8492 ..., 15868 15868 15868]\n",
      " ..., \n",
      " [17914     1     0 ...,     0     0     0]\n",
      " [17496     1    36 ...,     0     0     0]\n",
      " [10738  8492    36 ...,     0     0     0]]\n",
      "max 17914\n"
     ]
    },
    {
     "name": "stderr",
     "output_type": "stream",
     "text": [
      "\n",
      "\n",
      "\n",
      "\n",
      "  3%|▎         | 292/10000 [5:04:20<168:22:01, 62.44s/it]\u001b[A\u001b[A\u001b[A\u001b[A\n",
      "\n",
      "\n",
      "\n",
      "  3%|▎         | 293/10000 [5:05:22<168:20:16, 62.43s/it]\u001b[A\u001b[A\u001b[A\u001b[A"
     ]
    },
    {
     "name": "stdout",
     "output_type": "stream",
     "text": [
      "predition [[10738    36    36 ...,     0     0     0]\n",
      " [10738  8492  8492 ..., 15868 15868 15868]\n",
      " [17914 17914 17914 ...,     0     0     0]\n",
      " ..., \n",
      " [ 7949     1     0 ...,     0     0     0]\n",
      " [ 7949    36    36 ...,     0     0     0]\n",
      " [ 7949  8492 10552 ...,     0     0     0]]\n",
      "max 17914\n"
     ]
    },
    {
     "name": "stderr",
     "output_type": "stream",
     "text": [
      "\n",
      "\n",
      "\n",
      "\n",
      "  3%|▎         | 294/10000 [5:06:25<168:19:49, 62.43s/it]\u001b[A\u001b[A\u001b[A\u001b[A\n",
      "\n",
      "\n",
      "\n",
      "  3%|▎         | 295/10000 [5:07:27<168:20:57, 62.45s/it]\u001b[A\u001b[A\u001b[A\u001b[A"
     ]
    },
    {
     "name": "stdout",
     "output_type": "stream",
     "text": [
      "predition [[ 7949     1 17914 ...,     0     0     0]\n",
      " [17496     1    36 ...,     0     0     0]\n",
      " [17496     1    36 ...,     0     0     0]\n",
      " ..., \n",
      " [10738  8492 15868 ...,     0     0     0]\n",
      " [10738    36  8492 ...,     0     0     0]\n",
      " [ 7949  8492 10552 ...,     0     0     0]]\n",
      "max 17914\n"
     ]
    },
    {
     "name": "stderr",
     "output_type": "stream",
     "text": [
      "\n",
      "\n",
      "\n",
      "\n",
      "  3%|▎         | 296/10000 [5:08:30<168:22:14, 62.46s/it]\u001b[A\u001b[A\u001b[A\u001b[A\n",
      "\n",
      "\n",
      "\n",
      "  3%|▎         | 297/10000 [5:09:32<168:10:20, 62.40s/it]\u001b[A\u001b[A\u001b[A\u001b[A"
     ]
    },
    {
     "name": "stdout",
     "output_type": "stream",
     "text": [
      "predition [[17496  8492    36 ...,     0     0     0]\n",
      " [17496  8492    36 ...,     0     0     0]\n",
      " [ 7949  8492     0 ...,     0     0     0]\n",
      " ..., \n",
      " [ 7949     1     0 ...,     0     0     0]\n",
      " [17496  8492    36 ...,     0     0     0]\n",
      " [ 7949    36    36 ...,     0     0     0]]\n",
      "max 17914\n"
     ]
    },
    {
     "name": "stderr",
     "output_type": "stream",
     "text": [
      "\n",
      "\n",
      "\n",
      "\n",
      "  3%|▎         | 298/10000 [5:10:35<168:16:16, 62.44s/it]\u001b[A\u001b[A\u001b[A\u001b[A\n",
      "\n",
      "\n",
      "\n",
      "  3%|▎         | 299/10000 [5:11:37<168:11:31, 62.42s/it]\u001b[A\u001b[A\u001b[A\u001b[A"
     ]
    },
    {
     "name": "stdout",
     "output_type": "stream",
     "text": [
      "predition [[ 7949    36     0 ...,     0     0     0]\n",
      " [ 7949  7949    36 ...,     0     0     0]\n",
      " [ 7949     1    36 ...,     0     0     0]\n",
      " ..., \n",
      " [ 7949  8492 10552 ...,     0     0     0]\n",
      " [17496     1     1 ...,     0     0     0]\n",
      " [ 7949  8492 10552 ...,     0     0     0]]\n",
      "max 17914\n"
     ]
    },
    {
     "name": "stderr",
     "output_type": "stream",
     "text": [
      "\n",
      "\n",
      "\n",
      "\n",
      "  3%|▎         | 300/10000 [5:12:39<168:13:13, 62.43s/it]\u001b[A\u001b[A\u001b[A\u001b[A"
     ]
    },
    {
     "name": "stdout",
     "output_type": "stream",
     "text": [
      "predition [[10738  8492 17914 ...,     0     0     0]\n",
      " [ 7949  7949  7949 ...,  8492    36    36]\n",
      " [ 7949  8492  8492 ..., 15868    36    36]\n",
      " ..., \n",
      " [10738     1     1 ...,     0     0     0]\n",
      " [10738     1     1 ...,     0     0     0]\n",
      " [ 7949  8492    36 ...,     0     0     0]]\n",
      "max 17914\n"
     ]
    },
    {
     "name": "stderr",
     "output_type": "stream",
     "text": [
      "\n",
      "\n",
      "\n",
      "\n",
      "  3%|▎         | 301/10000 [5:13:42<168:15:48, 62.45s/it]\u001b[A\u001b[A\u001b[A\u001b[A\n",
      "\n",
      "\n",
      "\n",
      "  3%|▎         | 302/10000 [5:14:44<168:12:09, 62.44s/it]\u001b[A\u001b[A\u001b[A\u001b[A"
     ]
    },
    {
     "name": "stdout",
     "output_type": "stream",
     "text": [
      "predition [[10738     1     0 ...,     0     0     0]\n",
      " [17914 17914    36 ...,    36    36     1]\n",
      " [ 7949    36    36 ...,     0     0     0]\n",
      " ..., \n",
      " [ 7949  8492 17914 ...,     0     0     0]\n",
      " [ 7949  8492 10552 ...,     0     0     0]\n",
      " [17496     1     0 ...,     0     0     0]]\n",
      "max 17914\n"
     ]
    },
    {
     "name": "stderr",
     "output_type": "stream",
     "text": [
      "\n",
      "\n",
      "\n",
      "\n",
      "  3%|▎         | 303/10000 [5:15:47<168:18:27, 62.48s/it]\u001b[A\u001b[A\u001b[A\u001b[A\n",
      "\n",
      "\n",
      "\n",
      "  3%|▎         | 304/10000 [5:16:49<168:13:44, 62.46s/it]\u001b[A\u001b[A\u001b[A\u001b[A"
     ]
    },
    {
     "name": "stdout",
     "output_type": "stream",
     "text": [
      "predition [[ 7949  8492    36 ...,  8492    36    36]\n",
      " [ 7949  8492 10552 ...,     0     0     0]\n",
      " [17496     1     1 ...,     0     0     0]\n",
      " ..., \n",
      " [ 7949  8492 10552 ...,    36    36    36]\n",
      " [ 7949  7949    36 ...,    36    36     1]\n",
      " [ 7949  7949 10552 ...,     0     0     0]]\n",
      "max 17914\n"
     ]
    },
    {
     "name": "stderr",
     "output_type": "stream",
     "text": [
      "\n",
      "\n",
      "\n",
      "\n",
      "  3%|▎         | 305/10000 [5:17:52<168:15:50, 62.48s/it]\u001b[A\u001b[A\u001b[A\u001b[A\n",
      "\n",
      "\n",
      "\n",
      "  3%|▎         | 306/10000 [5:18:54<168:09:26, 62.45s/it]\u001b[A\u001b[A\u001b[A\u001b[A"
     ]
    },
    {
     "name": "stdout",
     "output_type": "stream",
     "text": [
      "predition [[10738  8492  8492 ..., 15868 15868 15868]\n",
      " [17496  8492 17914 ...,     0     0     0]\n",
      " [17877     1     0 ...,     0     0     0]\n",
      " ..., \n",
      " [10738    36     1 ...,     0     0     0]\n",
      " [ 7949  7949    36 ..., 16139 16139    36]\n",
      " [ 7949  8492     0 ...,     0     0     0]]\n",
      "max 17914\n"
     ]
    },
    {
     "name": "stderr",
     "output_type": "stream",
     "text": [
      "\n",
      "\n",
      "\n",
      "\n",
      "  3%|▎         | 307/10000 [5:19:57<168:11:05, 62.46s/it]\u001b[A\u001b[A\u001b[A\u001b[A\n",
      "\n",
      "\n",
      "\n",
      "  3%|▎         | 308/10000 [5:20:59<168:01:15, 62.41s/it]\u001b[A\u001b[A\u001b[A\u001b[A"
     ]
    },
    {
     "name": "stdout",
     "output_type": "stream",
     "text": [
      "predition [[10738    36     1 ...,     0     0     0]\n",
      " [ 7949  8492 10552 ...,    36     1     0]\n",
      " [ 7949  8492 10552 ...,     0     0     0]\n",
      " ..., \n",
      " [ 7949  8492    36 ...,     0     0     0]\n",
      " [17914  8492 17914 ...,     0     0     0]\n",
      " [ 7949  8492  8492 ...,     0     0     0]]\n",
      "max 17914\n"
     ]
    },
    {
     "name": "stderr",
     "output_type": "stream",
     "text": [
      "\n",
      "\n",
      "\n",
      "\n",
      "  3%|▎         | 309/10000 [5:22:02<168:06:24, 62.45s/it]\u001b[A\u001b[A\u001b[A\u001b[A\n",
      "\n",
      "\n",
      "\n",
      "  3%|▎         | 310/10000 [5:23:04<168:10:17, 62.48s/it]\u001b[A\u001b[A\u001b[A\u001b[A"
     ]
    },
    {
     "name": "stdout",
     "output_type": "stream",
     "text": [
      "predition [[10738  8492     0 ...,     0     0     0]\n",
      " [10738  8492     0 ...,     0     0     0]\n",
      " [10738  8492  8492 ...,     0     0     0]\n",
      " ..., \n",
      " [17914 17914 17914 ...,     0     0     0]\n",
      " [ 7949  7949 10552 ...,     0     0     0]\n",
      " [ 7949  8492     1 ...,     0     0     0]]\n",
      "max 17914\n"
     ]
    },
    {
     "name": "stderr",
     "output_type": "stream",
     "text": [
      "\n",
      "\n",
      "\n",
      "\n",
      "  3%|▎         | 311/10000 [5:24:06<168:04:32, 62.45s/it]\u001b[A\u001b[A\u001b[A\u001b[A\n",
      "\n",
      "\n",
      "\n",
      "  3%|▎         | 312/10000 [5:25:09<167:57:52, 62.41s/it]\u001b[A\u001b[A\u001b[A\u001b[A"
     ]
    },
    {
     "name": "stdout",
     "output_type": "stream",
     "text": [
      "predition [[ 7949  8492    36 ...,     0     0     0]\n",
      " [ 7949  8492     1 ...,     0     0     0]\n",
      " [10738  8492 17914 ...,     0     0     0]\n",
      " ..., \n",
      " [ 7949  8492 17914 ...,     0     0     0]\n",
      " [ 7949  7949 10552 ...,    36    36     0]\n",
      " [10738  7949    36 ...,    36    36     1]]\n",
      "max 17914\n"
     ]
    },
    {
     "name": "stderr",
     "output_type": "stream",
     "text": [
      "\n",
      "\n",
      "\n",
      "\n",
      "  3%|▎         | 313/10000 [5:26:11<168:04:30, 62.46s/it]\u001b[A\u001b[A\u001b[A\u001b[A"
     ]
    },
    {
     "name": "stdout",
     "output_type": "stream",
     "text": [
      "predition [[17496     1     0 ...,     0     0     0]\n",
      " [17496     1     0 ...,     0     0     0]\n",
      " [17395  8492 10552 ...,     0     0     0]\n",
      " ..., \n",
      " [ 7949    36     1 ...,     0     0     0]\n",
      " [10738 17914 17914 ...,     0     0     0]\n",
      " [17914 17914 17914 ...,     0     0     0]]\n",
      "max 17914\n"
     ]
    },
    {
     "name": "stderr",
     "output_type": "stream",
     "text": [
      "\n",
      "\n",
      "\n",
      "\n",
      "  3%|▎         | 314/10000 [5:27:14<168:01:33, 62.45s/it]\u001b[A\u001b[A\u001b[A\u001b[A\n",
      "\n",
      "\n",
      "\n",
      "  3%|▎         | 315/10000 [5:28:16<167:58:10, 62.44s/it]\u001b[A\u001b[A\u001b[A\u001b[A"
     ]
    },
    {
     "name": "stdout",
     "output_type": "stream",
     "text": [
      "predition [[ 7949 17914 10552 ...,     0     0     0]\n",
      " [ 7949  8492 10552 ...,     0     0     0]\n",
      " [17461  8492 17914 ...,    36    36    36]\n",
      " ..., \n",
      " [ 7949     1     1 ...,     0     0     0]\n",
      " [ 7949    36 17914 ...,     0     0     0]\n",
      " [ 7949  8492     1 ...,     0     0     0]]\n",
      "max 17914\n"
     ]
    },
    {
     "name": "stderr",
     "output_type": "stream",
     "text": [
      "\n",
      "\n",
      "\n",
      "\n",
      "  3%|▎         | 316/10000 [5:29:19<168:00:04, 62.45s/it]\u001b[A\u001b[A\u001b[A\u001b[A\n",
      "\n",
      "\n",
      "\n",
      "  3%|▎         | 317/10000 [5:30:21<168:01:07, 62.47s/it]\u001b[A\u001b[A\u001b[A\u001b[A"
     ]
    },
    {
     "name": "stdout",
     "output_type": "stream",
     "text": [
      "predition [[ 7949  8492 10552 ..., 15868 15868    36]\n",
      " [ 7949  8492     1 ...,     0     0     0]\n",
      " [10738  8492  8492 ...,     1     0     0]\n",
      " ..., \n",
      " [10738     1     0 ...,     0     0     0]\n",
      " [ 7949  8492  8492 ...,    36    36     1]\n",
      " [ 7949     1     0 ...,     0     0     0]]\n",
      "max 17914\n"
     ]
    },
    {
     "name": "stderr",
     "output_type": "stream",
     "text": [
      "\n",
      "\n",
      "\n",
      "\n",
      "  3%|▎         | 318/10000 [5:31:24<167:58:07, 62.45s/it]\u001b[A\u001b[A\u001b[A\u001b[A\n",
      "\n",
      "\n",
      "\n",
      "  3%|▎         | 319/10000 [5:32:26<167:55:37, 62.45s/it]\u001b[A\u001b[A\u001b[A\u001b[A"
     ]
    },
    {
     "name": "stdout",
     "output_type": "stream",
     "text": [
      "predition [[10738  8492     1 ...,     0     0     0]\n",
      " [10738    36     0 ...,     0     0     0]\n",
      " [ 7949  7949 10552 ...,     0     0     0]\n",
      " ..., \n",
      " [10738    36    36 ...,     0     0     0]\n",
      " [10738  8492  8492 ...,     0     0     0]\n",
      " [ 7949  7949 10552 ...,     0     0     0]]\n",
      "max 17914\n"
     ]
    },
    {
     "name": "stderr",
     "output_type": "stream",
     "text": [
      "\n",
      "\n",
      "\n",
      "\n",
      "  3%|▎         | 320/10000 [5:33:28<167:55:55, 62.45s/it]\u001b[A\u001b[A\u001b[A\u001b[A\n",
      "\n",
      "\n",
      "\n",
      "  3%|▎         | 321/10000 [5:34:31<167:55:08, 62.46s/it]\u001b[A\u001b[A\u001b[A\u001b[A"
     ]
    },
    {
     "name": "stdout",
     "output_type": "stream",
     "text": [
      "predition [[17496    36    36 ...,     0     0     0]\n",
      " [ 7949  8492     1 ...,     0     0     0]\n",
      " [ 7949  8492  8492 ...,    36     1     0]\n",
      " ..., \n",
      " [ 7949     1 17914 ...,     0     0     0]\n",
      " [ 7949  8492     0 ...,     0     0     0]\n",
      " [ 7949  8492     0 ...,     0     0     0]]\n",
      "max 17914\n"
     ]
    },
    {
     "name": "stderr",
     "output_type": "stream",
     "text": [
      "\n",
      "\n",
      "\n",
      "\n",
      "  3%|▎         | 322/10000 [5:35:33<167:50:24, 62.43s/it]\u001b[A\u001b[A\u001b[A\u001b[A\n",
      "\n",
      "\n",
      "\n",
      "  3%|▎         | 323/10000 [5:36:36<167:50:36, 62.44s/it]\u001b[A\u001b[A\u001b[A\u001b[A"
     ]
    },
    {
     "name": "stdout",
     "output_type": "stream",
     "text": [
      "predition [[ 7949 17914 10552 ...,    36    36     0]\n",
      " [10738  8492  8492 ...,     0     0     0]\n",
      " [ 7949  8492     1 ...,     0     0     0]\n",
      " ..., \n",
      " [ 7949  8492 10552 ...,     0     0     0]\n",
      " [ 7949  7949 10552 ...,    36    36     1]\n",
      " [17496  8492 17914 ...,     0     0     0]]\n",
      "max 17914\n"
     ]
    },
    {
     "name": "stderr",
     "output_type": "stream",
     "text": [
      "\n",
      "\n",
      "\n",
      "\n",
      "  3%|▎         | 324/10000 [5:37:38<167:49:51, 62.44s/it]\u001b[A\u001b[A\u001b[A\u001b[A\n",
      "\n",
      "\n",
      "\n",
      "  3%|▎         | 325/10000 [5:38:41<167:46:00, 62.42s/it]\u001b[A\u001b[A\u001b[A\u001b[A"
     ]
    },
    {
     "name": "stdout",
     "output_type": "stream",
     "text": [
      "predition [[17496     1     0 ...,     0     0     0]\n",
      " [ 7949    36     1 ...,     0     0     0]\n",
      " [17496  8492 17914 ...,     0     0     0]\n",
      " ..., \n",
      " [ 7949  7949 10552 ..., 16139 15868    36]\n",
      " [17496    36     0 ...,     0     0     0]\n",
      " [ 7949  8492 10552 ...,     0     0     0]]\n",
      "max 17914\n"
     ]
    },
    {
     "name": "stderr",
     "output_type": "stream",
     "text": [
      "\n",
      "\n",
      "\n",
      "\n",
      "  3%|▎         | 326/10000 [5:39:43<167:53:18, 62.48s/it]\u001b[A\u001b[A\u001b[A\u001b[A\n",
      "\n",
      "\n",
      "\n",
      "  3%|▎         | 327/10000 [5:40:45<167:39:19, 62.40s/it]\u001b[A\u001b[A\u001b[A\u001b[A"
     ]
    },
    {
     "name": "stdout",
     "output_type": "stream",
     "text": [
      "predition [[ 7949  7949  7949 ...,    36     1     1]\n",
      " [ 7949  8492 10552 ...,    36     0     0]\n",
      " [ 7949  8492  8492 ...,    36     0     0]\n",
      " ..., \n",
      " [17877  8492     1 ...,     0     0     0]\n",
      " [17496     1     1 ...,     0     0     0]\n",
      " [ 7949  8492    36 ...,     0     0     0]]\n",
      "max 17914\n"
     ]
    },
    {
     "name": "stderr",
     "output_type": "stream",
     "text": [
      "\n",
      "\n",
      "\n",
      "\n",
      "  3%|▎         | 328/10000 [5:41:48<167:42:55, 62.43s/it]\u001b[A\u001b[A\u001b[A\u001b[A"
     ]
    },
    {
     "name": "stdout",
     "output_type": "stream",
     "text": [
      "predition [[ 7949  8492  8492 ...,    36    36     1]\n",
      " [ 7949    36    36 ...,     0     0     0]\n",
      " [17877    36     1 ...,     0     0     0]\n",
      " ..., \n",
      " [17496     1     0 ...,     0     0     0]\n",
      " [17496  8492  8492 ...,     0     0     0]\n",
      " [10738  8492  8492 ...,     0     0     0]]\n",
      "max 17914\n"
     ]
    },
    {
     "name": "stderr",
     "output_type": "stream",
     "text": [
      "\n",
      "\n",
      "\n",
      "\n",
      "  3%|▎         | 329/10000 [5:42:50<167:42:13, 62.43s/it]\u001b[A\u001b[A\u001b[A\u001b[A\n",
      "\n",
      "\n",
      "\n",
      "  3%|▎         | 330/10000 [5:43:53<167:39:58, 62.42s/it]\u001b[A\u001b[A\u001b[A\u001b[A"
     ]
    },
    {
     "name": "stdout",
     "output_type": "stream",
     "text": [
      "predition [[10738  8492    36 ...,     0     0     0]\n",
      " [ 7949  8492  8492 ...,    36    36     1]\n",
      " [17496     1    36 ...,     0     0     0]\n",
      " ..., \n",
      " [17914 17914     1 ...,     0     0     0]\n",
      " [ 7949 17914 17914 ...,     0     0     0]\n",
      " [10738  8492  8492 ...,     0     0     0]]\n",
      "max 17914\n"
     ]
    },
    {
     "name": "stderr",
     "output_type": "stream",
     "text": [
      "\n",
      "\n",
      "\n",
      "\n",
      "  3%|▎         | 331/10000 [5:44:55<167:43:06, 62.45s/it]\u001b[A\u001b[A\u001b[A\u001b[A\n",
      "\n",
      "\n",
      "\n",
      "  3%|▎         | 332/10000 [5:45:58<167:38:26, 62.42s/it]\u001b[A\u001b[A\u001b[A\u001b[A"
     ]
    },
    {
     "name": "stdout",
     "output_type": "stream",
     "text": [
      "predition [[10738    36    36 ...,     0     0     0]\n",
      " [ 7949     1     0 ...,     0     0     0]\n",
      " [ 7949  7949 10552 ...,    36    36    36]\n",
      " ..., \n",
      " [17914    36 17914 ...,     0     0     0]\n",
      " [ 7949  7949    36 ..., 15868    36    36]\n",
      " [ 7949    36     0 ...,     0     0     0]]\n",
      "max 17914\n"
     ]
    },
    {
     "name": "stderr",
     "output_type": "stream",
     "text": [
      "\n",
      "\n",
      "\n",
      "\n",
      "  3%|▎         | 333/10000 [5:47:00<167:38:55, 62.43s/it]\u001b[A\u001b[A\u001b[A\u001b[A\n",
      "\n",
      "\n",
      "\n",
      "  3%|▎         | 334/10000 [5:48:02<167:34:08, 62.41s/it]\u001b[A\u001b[A\u001b[A\u001b[A"
     ]
    },
    {
     "name": "stdout",
     "output_type": "stream",
     "text": [
      "predition [[ 7949  8492 10552 ...,     0     0     0]\n",
      " [ 7949  7949    36 ...,     0     0     0]\n",
      " [ 7949    36    36 ...,     0     0     0]\n",
      " ..., \n",
      " [17914 17914     1 ...,     0     0     0]\n",
      " [17496    36     1 ...,     0     0     0]\n",
      " [10738  8492     0 ...,     0     0     0]]\n",
      "max 17914\n"
     ]
    },
    {
     "name": "stderr",
     "output_type": "stream",
     "text": [
      "\n",
      "\n",
      "\n",
      "\n",
      "  3%|▎         | 335/10000 [5:49:05<167:36:36, 62.43s/it]\u001b[A\u001b[A\u001b[A\u001b[A\n",
      "\n",
      "\n",
      "\n",
      "  3%|▎         | 336/10000 [5:50:07<167:33:05, 62.42s/it]\u001b[A\u001b[A\u001b[A\u001b[A"
     ]
    },
    {
     "name": "stdout",
     "output_type": "stream",
     "text": [
      "predition [[ 7949  8492  8492 ...,     0     0     0]\n",
      " [ 7949  7949 10552 ...,     0     0     0]\n",
      " [ 7949  8492     0 ...,     0     0     0]\n",
      " ..., \n",
      " [ 7949  8492 10552 ...,    36    36     1]\n",
      " [ 7949    36    36 ...,     0     0     0]\n",
      " [17914 17914 17914 ...,     0     0     0]]\n",
      "max 17914\n"
     ]
    },
    {
     "name": "stderr",
     "output_type": "stream",
     "text": [
      "\n",
      "\n",
      "\n",
      "\n",
      "  3%|▎         | 337/10000 [5:51:10<167:38:49, 62.46s/it]\u001b[A\u001b[A\u001b[A\u001b[A\n",
      "\n",
      "\n",
      "\n",
      "  3%|▎         | 338/10000 [5:52:12<167:30:17, 62.41s/it]\u001b[A\u001b[A\u001b[A\u001b[A"
     ]
    },
    {
     "name": "stdout",
     "output_type": "stream",
     "text": [
      "predition [[17496     1     0 ...,     0     0     0]\n",
      " [ 7949  8492  8492 ...,     0     0     0]\n",
      " [ 7949  8492     0 ...,     0     0     0]\n",
      " ..., \n",
      " [17877     1     0 ...,     0     0     0]\n",
      " [ 7949  7949 10552 ...,     0     0     0]\n",
      " [17496  8492    36 ...,     0     0     0]]\n",
      "max 17914\n"
     ]
    },
    {
     "name": "stderr",
     "output_type": "stream",
     "text": [
      "\n",
      "\n",
      "\n",
      "\n",
      "  3%|▎         | 339/10000 [5:53:15<167:32:59, 62.43s/it]\u001b[A\u001b[A\u001b[A\u001b[A\n",
      "\n",
      "\n",
      "\n",
      "  3%|▎         | 340/10000 [5:54:17<167:33:43, 62.45s/it]\u001b[A\u001b[A\u001b[A\u001b[A"
     ]
    },
    {
     "name": "stdout",
     "output_type": "stream",
     "text": [
      "predition [[ 7949  8492    36 ...,     0     0     0]\n",
      " [ 7949  8492 10552 ...,     0     0     0]\n",
      " [10738     1    36 ...,     0     0     0]\n",
      " ..., \n",
      " [17877     1     0 ...,     0     0     0]\n",
      " [10738  8492  8492 ...,     0     0     0]\n",
      " [10738    36     1 ...,     0     0     0]]\n",
      "max 17914\n"
     ]
    },
    {
     "name": "stderr",
     "output_type": "stream",
     "text": [
      "\n",
      "\n",
      "\n",
      "\n",
      "  3%|▎         | 341/10000 [5:55:20<167:38:21, 62.48s/it]\u001b[A\u001b[A\u001b[A\u001b[A"
     ]
    },
    {
     "name": "stdout",
     "output_type": "stream",
     "text": [
      "predition [[ 7949     1     1 ...,     0     0     0]\n",
      " [10738  8492    36 ...,     0     0     0]\n",
      " [17914 17914    36 ...,    36     0     0]\n",
      " ..., \n",
      " [10738     1     0 ...,     0     0     0]\n",
      " [17496  8492 17914 ...,     0     0     0]\n",
      " [10738  8492  8492 ...,     0     0     0]]\n",
      "max 17914\n"
     ]
    },
    {
     "name": "stderr",
     "output_type": "stream",
     "text": [
      "\n",
      "\n",
      "\n",
      "\n",
      "  3%|▎         | 342/10000 [5:56:22<167:31:40, 62.45s/it]\u001b[A\u001b[A\u001b[A\u001b[A\n",
      "\n",
      "\n",
      "\n",
      "  3%|▎         | 343/10000 [5:57:24<167:28:10, 62.43s/it]\u001b[A\u001b[A\u001b[A\u001b[A"
     ]
    },
    {
     "name": "stdout",
     "output_type": "stream",
     "text": [
      "predition [[ 7949  8492 10552 ...,     0     0     0]\n",
      " [ 7949  7949    36 ...,     0     0     0]\n",
      " [ 7949  8492     1 ...,     0     0     0]\n",
      " ..., \n",
      " [ 7949  7949  8492 ...,     0     0     0]\n",
      " [ 7949  8492 10552 ...,     0     0     0]\n",
      " [10738  8492     1 ...,     0     0     0]]\n",
      "max 17914\n"
     ]
    },
    {
     "name": "stderr",
     "output_type": "stream",
     "text": [
      "\n",
      "\n",
      "\n",
      "\n",
      "  3%|▎         | 344/10000 [5:58:27<167:30:35, 62.45s/it]\u001b[A\u001b[A\u001b[A\u001b[A\n",
      "\n",
      "\n",
      "\n",
      "  3%|▎         | 345/10000 [5:59:29<167:31:42, 62.47s/it]\u001b[A\u001b[A\u001b[A\u001b[A"
     ]
    },
    {
     "name": "stdout",
     "output_type": "stream",
     "text": [
      "predition [[17877  8492     1 ...,     0     0     0]\n",
      " [ 7949  8492 10552 ...,     0     0     0]\n",
      " [ 7949    36    36 ...,     0     0     0]\n",
      " ..., \n",
      " [ 7949  8492 10552 ...,    36    36     0]\n",
      " [ 7949  8492 10552 ...,     0     0     0]\n",
      " [ 7949  8492 10552 ...,     0     0     0]]\n",
      "max 17914\n"
     ]
    },
    {
     "name": "stderr",
     "output_type": "stream",
     "text": [
      "\n",
      "\n",
      "\n",
      "\n",
      "  3%|▎         | 346/10000 [6:00:32<167:25:44, 62.43s/it]\u001b[A\u001b[A\u001b[A\u001b[A\n",
      "\n",
      "\n",
      "\n",
      "  3%|▎         | 347/10000 [6:01:34<167:23:52, 62.43s/it]\u001b[A\u001b[A\u001b[A\u001b[A"
     ]
    },
    {
     "name": "stdout",
     "output_type": "stream",
     "text": [
      "predition [[ 7949    36    36 ...,     0     0     0]\n",
      " [ 7949  8492  8492 ..., 15868 15868     0]\n",
      " [ 7949  8492 10552 ...,    36     0     0]\n",
      " ..., \n",
      " [10738  8492  8492 ...,     0     0     0]\n",
      " [17914 17914 17914 ...,     0     0     0]\n",
      " [ 7949  7949 10552 ...,     0     0     0]]\n",
      "max 17914\n"
     ]
    },
    {
     "name": "stderr",
     "output_type": "stream",
     "text": [
      "\n",
      "\n",
      "\n",
      "\n",
      "  3%|▎         | 348/10000 [6:02:37<167:32:08, 62.49s/it]\u001b[A\u001b[A\u001b[A\u001b[A\n",
      "\n",
      "\n",
      "\n",
      "  3%|▎         | 349/10000 [6:03:39<167:25:03, 62.45s/it]\u001b[A\u001b[A\u001b[A\u001b[A"
     ]
    },
    {
     "name": "stdout",
     "output_type": "stream",
     "text": [
      "predition [[ 7949  8492 10552 ...,     0     0     0]\n",
      " [ 7949    36    36 ...,     0     0     0]\n",
      " [ 7949  8492    36 ...,     0     0     0]\n",
      " ..., \n",
      " [ 7949  8492    36 ...,     0     0     0]\n",
      " [17496    36     0 ...,     0     0     0]\n",
      " [ 7949     1     0 ...,     0     0     0]]\n",
      "max 17914\n"
     ]
    },
    {
     "name": "stderr",
     "output_type": "stream",
     "text": [
      "\n",
      "\n",
      "\n",
      "\n",
      "  4%|▎         | 350/10000 [6:04:42<167:27:03, 62.47s/it]\u001b[A\u001b[A\u001b[A\u001b[A\n",
      "\n",
      "\n",
      "\n",
      "  4%|▎         | 351/10000 [6:05:44<167:26:43, 62.47s/it]\u001b[A\u001b[A\u001b[A\u001b[A"
     ]
    },
    {
     "name": "stdout",
     "output_type": "stream",
     "text": [
      "predition [[ 7949  8492 10552 ...,     0     0     0]\n",
      " [17877  8492  8492 ...,     0     0     0]\n",
      " [ 7949  8492 17914 ...,     1     0     0]\n",
      " ..., \n",
      " [10738  8492  8492 ...,     0     0     0]\n",
      " [ 7949  8492     0 ...,     0     0     0]\n",
      " [ 7949  8492  8492 ...,    36    36     1]]\n",
      "max 17914\n"
     ]
    },
    {
     "name": "stderr",
     "output_type": "stream",
     "text": [
      "\n",
      "\n",
      "\n",
      "\n",
      "  4%|▎         | 352/10000 [6:06:47<167:31:08, 62.51s/it]\u001b[A\u001b[A\u001b[A\u001b[A\n",
      "\n",
      "\n",
      "\n",
      "  4%|▎         | 353/10000 [6:07:49<167:24:10, 62.47s/it]\u001b[A\u001b[A\u001b[A\u001b[A"
     ]
    },
    {
     "name": "stdout",
     "output_type": "stream",
     "text": [
      "predition [[ 7949  8492     0 ...,     0     0     0]\n",
      " [17877     1     0 ...,     0     0     0]\n",
      " [ 7949     1     1 ...,     0     0     0]\n",
      " ..., \n",
      " [ 7949  8492 10552 ..., 15868 15868 15868]\n",
      " [ 7949    36     1 ...,     0     0     0]\n",
      " [17496     1     0 ...,     0     0     0]]\n",
      "max 17914\n"
     ]
    },
    {
     "name": "stderr",
     "output_type": "stream",
     "text": [
      "\n",
      "\n",
      "\n",
      "\n",
      "  4%|▎         | 354/10000 [6:08:52<167:23:20, 62.47s/it]\u001b[A\u001b[A\u001b[A\u001b[A"
     ]
    },
    {
     "name": "stdout",
     "output_type": "stream",
     "text": [
      "predition [[ 7949  8492  8492 ...,     0     0     0]\n",
      " [ 7949  8492 10552 ...,     0     0     0]\n",
      " [10738    36     1 ...,     0     0     0]\n",
      " ..., \n",
      " [ 7949     1    36 ...,     0     0     0]\n",
      " [ 7949  8492  8492 ...,     0     0     0]\n",
      " [ 7949  8492    36 ...,  8492    36    36]]\n",
      "max 17914\n"
     ]
    },
    {
     "name": "stderr",
     "output_type": "stream",
     "text": [
      "\n",
      "\n",
      "\n",
      "\n",
      "  4%|▎         | 355/10000 [6:09:54<167:24:54, 62.49s/it]\u001b[A\u001b[A\u001b[A\u001b[A\n",
      "\n",
      "\n",
      "\n",
      "  4%|▎         | 356/10000 [6:10:57<167:30:15, 62.53s/it]\u001b[A\u001b[A\u001b[A\u001b[A"
     ]
    },
    {
     "name": "stdout",
     "output_type": "stream",
     "text": [
      "predition [[ 7949 17914 10552 ...,     0     0     0]\n",
      " [ 7949  8492     1 ...,     0     0     0]\n",
      " [ 7949  8492 10552 ...,     0     0     0]\n",
      " ..., \n",
      " [17496     1     1 ...,     0     0     0]\n",
      " [ 7949 17914    36 ...,    36    36     0]\n",
      " [10738     1     0 ...,     0     0     0]]\n",
      "max 17914\n"
     ]
    },
    {
     "name": "stderr",
     "output_type": "stream",
     "text": [
      "\n",
      "\n",
      "\n",
      "\n",
      "  4%|▎         | 357/10000 [6:11:59<167:25:15, 62.50s/it]\u001b[A\u001b[A\u001b[A\u001b[A\n",
      "\n",
      "\n",
      "\n",
      "  4%|▎         | 358/10000 [6:13:02<167:26:57, 62.52s/it]\u001b[A\u001b[A\u001b[A\u001b[A"
     ]
    },
    {
     "name": "stdout",
     "output_type": "stream",
     "text": [
      "predition [[17914 17914 10552 ..., 17914    36     1]\n",
      " [ 7949  8492     1 ...,     0     0     0]\n",
      " [17496  8492 17914 ...,     0     0     0]\n",
      " ..., \n",
      " [10738  8492  8492 ..., 15868 15868 15868]\n",
      " [ 7949  8492 10552 ...,    36    36     1]\n",
      " [ 7949  8492 10552 ...,     0     0     0]]\n",
      "max 17914\n"
     ]
    },
    {
     "name": "stderr",
     "output_type": "stream",
     "text": [
      "\n",
      "\n",
      "\n",
      "\n",
      "  4%|▎         | 359/10000 [6:14:04<167:23:42, 62.51s/it]\u001b[A\u001b[A\u001b[A\u001b[A\n",
      "\n",
      "\n",
      "\n",
      "  4%|▎         | 360/10000 [6:15:07<167:25:29, 62.52s/it]\u001b[A\u001b[A\u001b[A\u001b[A"
     ]
    },
    {
     "name": "stdout",
     "output_type": "stream",
     "text": [
      "predition [[ 7949    36 10552 ...,     0     0     0]\n",
      " [10738    36     1 ...,     0     0     0]\n",
      " [17877     1     0 ...,     0     0     0]\n",
      " ..., \n",
      " [ 7949    36     1 ...,     0     0     0]\n",
      " [ 7949  8492    36 ...,     0     0     0]\n",
      " [ 7949  8492  8492 ...,    36     1     1]]\n",
      "max 17914\n"
     ]
    },
    {
     "name": "stderr",
     "output_type": "stream",
     "text": [
      "\n",
      "\n",
      "\n",
      "\n",
      "  4%|▎         | 361/10000 [6:16:09<167:18:13, 62.49s/it]\u001b[A\u001b[A\u001b[A\u001b[A\n",
      "\n",
      "\n",
      "\n",
      "  4%|▎         | 362/10000 [6:17:12<167:14:26, 62.47s/it]\u001b[A\u001b[A\u001b[A\u001b[A"
     ]
    },
    {
     "name": "stdout",
     "output_type": "stream",
     "text": [
      "predition [[ 7949  8492  8492 ..., 15868 15868 15868]\n",
      " [10738  8492  8492 ...,     0     0     0]\n",
      " [ 7949  8492     1 ...,     0     0     0]\n",
      " ..., \n",
      " [17914 17914     1 ...,     0     0     0]\n",
      " [ 7949    36    36 ...,     0     0     0]\n",
      " [17914 17914 10552 ...,     0     0     0]]\n",
      "max 17914\n"
     ]
    },
    {
     "name": "stderr",
     "output_type": "stream",
     "text": [
      "\n",
      "\n",
      "\n",
      "\n",
      "  4%|▎         | 363/10000 [6:18:14<167:25:23, 62.54s/it]\u001b[A\u001b[A\u001b[A\u001b[A\n",
      "\n",
      "\n",
      "\n",
      "  4%|▎         | 364/10000 [6:19:17<167:13:13, 62.47s/it]\u001b[A\u001b[A\u001b[A\u001b[A"
     ]
    },
    {
     "name": "stdout",
     "output_type": "stream",
     "text": [
      "predition [[10738  8492    36 ...,     0     0     0]\n",
      " [17877  8492  8492 ...,     0     0     0]\n",
      " [ 7949  8492  8492 ...,    36    36     1]\n",
      " ..., \n",
      " [10738  8492 17914 ...,     0     0     0]\n",
      " [10738  8492 10552 ...,     0     0     0]\n",
      " [17877     1     1 ...,     0     0     0]]\n",
      "max 17914\n"
     ]
    },
    {
     "name": "stderr",
     "output_type": "stream",
     "text": [
      "\n",
      "\n",
      "\n",
      "\n",
      "  4%|▎         | 365/10000 [6:20:19<167:15:34, 62.49s/it]\u001b[A\u001b[A\u001b[A\u001b[A\n",
      "\n",
      "\n",
      "\n",
      "  4%|▎         | 366/10000 [6:21:22<167:15:50, 62.50s/it]\u001b[A\u001b[A\u001b[A\u001b[A"
     ]
    },
    {
     "name": "stdout",
     "output_type": "stream",
     "text": [
      "predition [[ 7949  8492     1 ...,     0     0     0]\n",
      " [17877    36     1 ...,     0     0     0]\n",
      " [10738  8492     0 ...,     0     0     0]\n",
      " ..., \n",
      " [17496     1     0 ...,     0     0     0]\n",
      " [ 7949    36     0 ...,     0     0     0]\n",
      " [ 7949  7949 10552 ...,     0     0     0]]\n",
      "max 17914\n"
     ]
    },
    {
     "name": "stderr",
     "output_type": "stream",
     "text": [
      "\n",
      "\n",
      "\n",
      "\n",
      "  4%|▎         | 367/10000 [6:22:24<167:17:25, 62.52s/it]\u001b[A\u001b[A\u001b[A\u001b[A"
     ]
    },
    {
     "name": "stdout",
     "output_type": "stream",
     "text": [
      "predition [[ 7949     1     0 ...,     0     0     0]\n",
      " [17496     1     0 ...,     0     0     0]\n",
      " [17914  8492  8492 ...,     0     0     0]\n",
      " ..., \n",
      " [ 7949  8492  8492 ...,     0     0     0]\n",
      " [17496     1     1 ...,     0     0     0]\n",
      " [   36     1     0 ...,     0     0     0]]\n",
      "max 17914\n"
     ]
    },
    {
     "name": "stderr",
     "output_type": "stream",
     "text": [
      "\n",
      "\n",
      "\n",
      "\n",
      "  4%|▎         | 368/10000 [6:23:27<167:18:11, 62.53s/it]\u001b[A\u001b[A\u001b[A\u001b[A\n",
      "\n",
      "\n",
      "\n",
      "  4%|▎         | 369/10000 [6:24:29<167:05:39, 62.46s/it]\u001b[A\u001b[A\u001b[A\u001b[A"
     ]
    },
    {
     "name": "stdout",
     "output_type": "stream",
     "text": [
      "predition [[ 7949    36     1 ...,     0     0     0]\n",
      " [ 7949  8492 10552 ...,    36    36    36]\n",
      " [10738  8492  8492 ...,     1     0     0]\n",
      " ..., \n",
      " [10738    36 17914 ...,    36    36    36]\n",
      " [10738  8492  8492 ..., 15868 15868    36]\n",
      " [17496  8492 17914 ...,     0     0     0]]\n",
      "max 17914\n"
     ]
    },
    {
     "name": "stderr",
     "output_type": "stream",
     "text": [
      "\n",
      "\n",
      "\n",
      "\n",
      "  4%|▎         | 370/10000 [6:25:32<167:12:53, 62.51s/it]\u001b[A\u001b[A\u001b[A\u001b[A\n",
      "\n",
      "\n",
      "\n",
      "  4%|▎         | 371/10000 [6:26:34<167:08:40, 62.49s/it]\u001b[A\u001b[A\u001b[A\u001b[A"
     ]
    },
    {
     "name": "stdout",
     "output_type": "stream",
     "text": [
      "predition [[17496  8492  8492 ...,     0     0     0]\n",
      " [17496     1     1 ...,     0     0     0]\n",
      " [ 7949  7949 10552 ...,    36    36    36]\n",
      " ..., \n",
      " [ 7949  8492 10552 ...,    36    36     0]\n",
      " [ 7949  8492     0 ...,     0     0     0]\n",
      " [17496     1     1 ...,     0     0     0]]\n",
      "max 17914\n"
     ]
    },
    {
     "name": "stderr",
     "output_type": "stream",
     "text": [
      "\n",
      "\n",
      "\n",
      "\n",
      "  4%|▎         | 372/10000 [6:27:37<167:15:14, 62.54s/it]\u001b[A\u001b[A\u001b[A\u001b[A\n",
      "\n",
      "\n",
      "\n",
      "  4%|▎         | 373/10000 [6:28:39<167:03:05, 62.47s/it]\u001b[A\u001b[A\u001b[A\u001b[A"
     ]
    },
    {
     "name": "stdout",
     "output_type": "stream",
     "text": [
      "predition [[ 7949  8492 10552 ...,     0     0     0]\n",
      " [ 7949  8492  8492 ...,     0     0     0]\n",
      " [ 7949  8492 17914 ...,     0     0     0]\n",
      " ..., \n",
      " [ 7949  8492     0 ...,     0     0     0]\n",
      " [ 7949     1     0 ...,     0     0     0]\n",
      " [10738  8492  8492 ...,     0     0     0]]\n",
      "max 17914\n"
     ]
    },
    {
     "name": "stderr",
     "output_type": "stream",
     "text": [
      "\n",
      "\n",
      "\n",
      "\n",
      "  4%|▎         | 374/10000 [6:29:42<167:11:47, 62.53s/it]\u001b[A\u001b[A\u001b[A\u001b[A\n",
      "\n",
      "\n",
      "\n",
      "  4%|▍         | 375/10000 [6:30:44<167:04:19, 62.49s/it]\u001b[A\u001b[A\u001b[A\u001b[A"
     ]
    },
    {
     "name": "stdout",
     "output_type": "stream",
     "text": [
      "predition [[17496    36  8492 ...,     0     0     0]\n",
      " [17461  8492  8492 ...,     0     0     0]\n",
      " [17496     1 17914 ...,     0     0     0]\n",
      " ..., \n",
      " [17877     1    36 ...,     0     0     0]\n",
      " [ 7949  8492    36 ...,     0     0     0]\n",
      " [10738  8492  8492 ...,     0     0     0]]\n",
      "max 17914\n"
     ]
    },
    {
     "name": "stderr",
     "output_type": "stream",
     "text": [
      "\n",
      "\n",
      "\n",
      "\n",
      "  4%|▍         | 376/10000 [6:31:47<167:02:15, 62.48s/it]\u001b[A\u001b[A\u001b[A\u001b[A\n",
      "\n",
      "\n",
      "\n",
      "  4%|▍         | 377/10000 [6:32:49<167:06:29, 62.52s/it]\u001b[A\u001b[A\u001b[A\u001b[A"
     ]
    },
    {
     "name": "stdout",
     "output_type": "stream",
     "text": [
      "predition [[ 7949  8492  8492 ..., 15868 15868 15868]\n",
      " [17496  8492 17914 ...,     0     0     0]\n",
      " [10738  8492     0 ...,     0     0     0]\n",
      " ..., \n",
      " [17496     1     0 ...,     0     0     0]\n",
      " [ 7949  7949 10552 ...,    36     1     0]\n",
      " [ 7949  8492    36 ...,     0     0     0]]\n",
      "max 17914\n"
     ]
    },
    {
     "name": "stderr",
     "output_type": "stream",
     "text": [
      "\n",
      "\n",
      "\n",
      "\n",
      "  4%|▍         | 378/10000 [6:33:52<167:06:13, 62.52s/it]\u001b[A\u001b[A\u001b[A\u001b[A\n",
      "\n",
      "\n",
      "\n",
      "  4%|▍         | 379/10000 [6:34:54<167:00:14, 62.49s/it]\u001b[A\u001b[A\u001b[A\u001b[A"
     ]
    },
    {
     "name": "stdout",
     "output_type": "stream",
     "text": [
      "predition [[17914    36     1 ...,     0     0     0]\n",
      " [17914  7949 10552 ...,     0     0     0]\n",
      " [17914 17914 17914 ...,     0     0     0]\n",
      " ..., \n",
      " [ 7949  7949 10552 ...,     0     0     0]\n",
      " [ 7949  8492     0 ...,     0     0     0]\n",
      " [ 7949  7949 10552 ...,     0     0     0]]\n",
      "max 17914\n"
     ]
    },
    {
     "name": "stderr",
     "output_type": "stream",
     "text": [
      "\n",
      "\n",
      "\n",
      "\n",
      "  4%|▍         | 380/10000 [6:35:57<166:53:58, 62.46s/it]\u001b[A\u001b[A\u001b[A\u001b[A\n",
      "\n",
      "\n",
      "\n",
      "  4%|▍         | 381/10000 [6:36:59<166:45:29, 62.41s/it]\u001b[A\u001b[A\u001b[A\u001b[A"
     ]
    },
    {
     "name": "stdout",
     "output_type": "stream",
     "text": [
      "predition [[17395  8492 10552 ...,     0     0     0]\n",
      " [17496  8492  8492 ...,     0     0     0]\n",
      " [17496    36     0 ...,     0     0     0]\n",
      " ..., \n",
      " [ 7949  8492 10552 ...,     0     0     0]\n",
      " [10738    36     1 ...,     0     0     0]\n",
      " [ 7949    36     1 ...,     0     0     0]]\n",
      "max 17914\n"
     ]
    },
    {
     "name": "stderr",
     "output_type": "stream",
     "text": [
      "\n",
      "\n",
      "\n",
      "\n",
      "  4%|▍         | 382/10000 [6:38:02<166:55:31, 62.48s/it]\u001b[A\u001b[A\u001b[A\u001b[A"
     ]
    },
    {
     "name": "stdout",
     "output_type": "stream",
     "text": [
      "predition [[ 7949  8492     1 ...,     0     0     0]\n",
      " [ 7949  8492 10552 ...,     0     0     0]\n",
      " [ 7949  8492 17914 ...,     0     0     0]\n",
      " ..., \n",
      " [ 7949  7949     0 ...,     0     0     0]\n",
      " [ 7949     1     1 ...,     0     0     0]\n",
      " [ 7949  7949    36 ...,    36     0     0]]\n",
      "max 17914\n"
     ]
    },
    {
     "name": "stderr",
     "output_type": "stream",
     "text": [
      "\n",
      "\n",
      "\n",
      "\n",
      "  4%|▍         | 383/10000 [6:39:04<166:51:05, 62.46s/it]\u001b[A\u001b[A\u001b[A\u001b[A\n",
      "\n",
      "\n",
      "\n",
      "  4%|▍         | 384/10000 [6:40:06<166:45:51, 62.43s/it]\u001b[A\u001b[A\u001b[A\u001b[A"
     ]
    },
    {
     "name": "stdout",
     "output_type": "stream",
     "text": [
      "predition [[ 7949  7949 10552 ...,     0     0     0]\n",
      " [10738    36 17914 ...,     0     0     0]\n",
      " [ 7949     1     0 ...,     0     0     0]\n",
      " ..., \n",
      " [17496     1     0 ...,     0     0     0]\n",
      " [ 7949  8492 10552 ...,     0     0     0]\n",
      " [17496  8492  8492 ...,     0     0     0]]\n",
      "max 17914\n"
     ]
    },
    {
     "name": "stderr",
     "output_type": "stream",
     "text": [
      "\n",
      "\n",
      "\n",
      "\n",
      "  4%|▍         | 385/10000 [6:41:09<166:48:44, 62.46s/it]\u001b[A\u001b[A\u001b[A\u001b[A\n",
      "\n",
      "\n",
      "\n",
      "  4%|▍         | 386/10000 [6:42:11<166:41:13, 62.42s/it]\u001b[A\u001b[A\u001b[A\u001b[A"
     ]
    },
    {
     "name": "stdout",
     "output_type": "stream",
     "text": [
      "predition [[10738  8492  8492 ...,     0     0     0]\n",
      " [17461  8492 17914 ...,     0     0     0]\n",
      " [17496  8492 17914 ...,    36    36    36]\n",
      " ..., \n",
      " [ 7949  8492    36 ...,     0     0     0]\n",
      " [10738    36     1 ...,     0     0     0]\n",
      " [17914  8492  8492 ...,     0     0     0]]\n",
      "max 17914\n"
     ]
    },
    {
     "name": "stderr",
     "output_type": "stream",
     "text": [
      "\n",
      "\n",
      "\n",
      "\n",
      "  4%|▍         | 387/10000 [6:43:14<166:44:33, 62.44s/it]\u001b[A\u001b[A\u001b[A\u001b[A\n",
      "\n",
      "\n",
      "\n",
      "  4%|▍         | 388/10000 [6:44:16<166:35:17, 62.39s/it]\u001b[A\u001b[A\u001b[A\u001b[A"
     ]
    },
    {
     "name": "stdout",
     "output_type": "stream",
     "text": [
      "predition [[17496  8492    36 ...,     0     0     0]\n",
      " [ 7949  8492 10552 ..., 15868 15868 15868]\n",
      " [ 7949  7949  8492 ...,    36     1     0]\n",
      " ..., \n",
      " [ 7949  8492  8492 ...,     0     0     0]\n",
      " [ 7949  8492 10552 ...,    36    36     0]\n",
      " [ 7949  8492 10552 ...,     0     0     0]]\n",
      "max 17914\n"
     ]
    },
    {
     "name": "stderr",
     "output_type": "stream",
     "text": [
      "\n",
      "\n",
      "\n",
      "\n",
      "  4%|▍         | 389/10000 [6:45:18<166:36:49, 62.41s/it]\u001b[A\u001b[A\u001b[A\u001b[A\n",
      "\n",
      "\n",
      "\n",
      "  4%|▍         | 390/10000 [6:46:21<166:32:18, 62.39s/it]\u001b[A\u001b[A\u001b[A\u001b[A"
     ]
    },
    {
     "name": "stdout",
     "output_type": "stream",
     "text": [
      "predition [[ 7949  8492 10552 ...,     0     0     0]\n",
      " [17496    36    36 ...,     0     0     0]\n",
      " [ 7949    36    36 ...,     0     0     0]\n",
      " ..., \n",
      " [10738  8492  8492 ...,     0     0     0]\n",
      " [ 7949  7949 10552 ...,     0     0     0]\n",
      " [ 7949  8492 17914 ...,     0     0     0]]\n",
      "max 17914\n"
     ]
    },
    {
     "name": "stderr",
     "output_type": "stream",
     "text": [
      "\n",
      "\n",
      "\n",
      "\n",
      "  4%|▍         | 391/10000 [6:47:23<166:32:13, 62.39s/it]\u001b[A\u001b[A\u001b[A\u001b[A\n",
      "\n",
      "\n",
      "\n",
      "  4%|▍         | 392/10000 [6:48:25<166:27:03, 62.37s/it]\u001b[A\u001b[A\u001b[A\u001b[A"
     ]
    },
    {
     "name": "stdout",
     "output_type": "stream",
     "text": [
      "predition [[10738    36     1 ...,     0     0     0]\n",
      " [17496     1     1 ...,     0     0     0]\n",
      " [10738 17914 17914 ...,     0     0     0]\n",
      " ..., \n",
      " [ 7949    36     1 ...,     0     0     0]\n",
      " [ 7949  7949 10552 ..., 16139    36    36]\n",
      " [10738     1     0 ...,     0     0     0]]\n",
      "max 17914\n"
     ]
    },
    {
     "name": "stderr",
     "output_type": "stream",
     "text": [
      "\n",
      "\n",
      "\n",
      "\n",
      "  4%|▍         | 393/10000 [6:49:28<166:26:50, 62.37s/it]\u001b[A\u001b[A\u001b[A\u001b[A\n",
      "\n",
      "\n",
      "\n",
      "  4%|▍         | 394/10000 [6:50:30<166:24:24, 62.36s/it]\u001b[A\u001b[A\u001b[A\u001b[A"
     ]
    },
    {
     "name": "stdout",
     "output_type": "stream",
     "text": [
      "predition [[ 7949  7949 10552 ...,    36    36    36]\n",
      " [10738  8492 17914 ...,    36     1     0]\n",
      " [17461  8492 10552 ...,    36    36     0]\n",
      " ..., \n",
      " [10738  8492 17914 ...,     0     0     0]\n",
      " [ 7949  7949 10552 ..., 16139 16139    36]\n",
      " [ 7949    36     1 ...,     0     0     0]]\n",
      "max 17914\n"
     ]
    },
    {
     "name": "stderr",
     "output_type": "stream",
     "text": [
      "\n",
      "\n",
      "\n",
      "\n",
      "  4%|▍         | 395/10000 [6:51:33<166:35:51, 62.44s/it]\u001b[A\u001b[A\u001b[A\u001b[A"
     ]
    },
    {
     "name": "stdout",
     "output_type": "stream",
     "text": [
      "predition [[10738  8492 10552 ...,     0     0     0]\n",
      " [ 7949  7949  7949 ..., 16139 16139 15868]\n",
      " [ 7949     1     1 ...,     0     0     0]\n",
      " ..., \n",
      " [10472  7949  7949 ...,     0     0     0]\n",
      " [ 7949 17914 17914 ...,     0     0     0]\n",
      " [10738  8492 17914 ...,     0     0     0]]\n",
      "max 17914\n"
     ]
    },
    {
     "name": "stderr",
     "output_type": "stream",
     "text": [
      "\n",
      "\n",
      "\n",
      "\n",
      "  4%|▍         | 396/10000 [6:52:35<166:40:22, 62.48s/it]\u001b[A\u001b[A\u001b[A\u001b[A\n",
      "\n",
      "\n",
      "\n",
      "  4%|▍         | 397/10000 [6:53:38<166:32:42, 62.43s/it]\u001b[A\u001b[A\u001b[A\u001b[A"
     ]
    },
    {
     "name": "stdout",
     "output_type": "stream",
     "text": [
      "predition [[10738    36    36 ...,     0     0     0]\n",
      " [ 7949    36     1 ...,     0     0     0]\n",
      " [10738     1     1 ...,     0     0     0]\n",
      " ..., \n",
      " [ 7949  8492 10552 ...,     0     0     0]\n",
      " [17496  8492     1 ...,     0     0     0]\n",
      " [ 7949  7949 17914 ...,     0     0     0]]\n",
      "max 17914\n"
     ]
    },
    {
     "name": "stderr",
     "output_type": "stream",
     "text": [
      "\n",
      "\n",
      "\n",
      "\n",
      "  4%|▍         | 398/10000 [6:54:40<166:37:38, 62.47s/it]\u001b[A\u001b[A\u001b[A\u001b[A\n",
      "\n",
      "\n",
      "\n",
      "  4%|▍         | 399/10000 [6:55:43<166:35:58, 62.47s/it]\u001b[A\u001b[A\u001b[A\u001b[A"
     ]
    },
    {
     "name": "stdout",
     "output_type": "stream",
     "text": [
      "predition [[ 7949  8492     1 ...,     0     0     0]\n",
      " [ 7949  8492     0 ...,     0     0     0]\n",
      " [10738  8492     1 ...,     0     0     0]\n",
      " ..., \n",
      " [17496  8492    36 ...,     0     0     0]\n",
      " [17496    36    36 ...,     0     0     0]\n",
      " [ 7949     1  8492 ...,     0     0     0]]\n",
      "max 17914\n"
     ]
    },
    {
     "name": "stderr",
     "output_type": "stream",
     "text": [
      "\n",
      "\n",
      "\n",
      "\n",
      "  4%|▍         | 400/10000 [6:56:45<166:36:20, 62.48s/it]\u001b[A\u001b[A\u001b[A\u001b[A\n",
      "\n",
      "\n",
      "\n",
      "  4%|▍         | 401/10000 [6:57:47<166:21:00, 62.39s/it]\u001b[A\u001b[A\u001b[A\u001b[A"
     ]
    },
    {
     "name": "stdout",
     "output_type": "stream",
     "text": [
      "predition [[10738     1     1 ...,     0     0     0]\n",
      " [17496    36     1 ...,     0     0     0]\n",
      " [17914 17914 17914 ...,     0     0     0]\n",
      " ..., \n",
      " [ 7949  8492 10552 ...,     1     0     0]\n",
      " [17496  8492     0 ...,     0     0     0]\n",
      " [17496     1     0 ...,     0     0     0]]\n",
      "max 17914\n"
     ]
    },
    {
     "name": "stderr",
     "output_type": "stream",
     "text": [
      "\n",
      "\n",
      "\n",
      "\n",
      "  4%|▍         | 402/10000 [6:58:50<166:24:50, 62.42s/it]\u001b[A\u001b[A\u001b[A\u001b[A\n",
      "\n",
      "\n",
      "\n",
      "  4%|▍         | 403/10000 [6:59:52<166:24:44, 62.42s/it]\u001b[A\u001b[A\u001b[A\u001b[A"
     ]
    },
    {
     "name": "stdout",
     "output_type": "stream",
     "text": [
      "predition [[17496     1     1 ...,     0     0     0]\n",
      " [10738  8492  8492 ...,     0     0     0]\n",
      " [ 7949     1     0 ...,     0     0     0]\n",
      " ..., \n",
      " [10738    36     1 ...,     0     0     0]\n",
      " [17496     1 17914 ...,     0     0     0]\n",
      " [10738  8492    36 ...,     0     0     0]]\n",
      "max 17914\n"
     ]
    },
    {
     "name": "stderr",
     "output_type": "stream",
     "text": [
      "\n",
      "\n",
      "\n",
      "\n",
      "  4%|▍         | 404/10000 [7:00:55<166:29:40, 62.46s/it]\u001b[A\u001b[A\u001b[A\u001b[A\n",
      "\n",
      "\n",
      "\n",
      "  4%|▍         | 405/10000 [7:01:57<166:27:11, 62.45s/it]\u001b[A\u001b[A\u001b[A\u001b[A"
     ]
    },
    {
     "name": "stdout",
     "output_type": "stream",
     "text": [
      "predition [[ 7949  7949 10552 ...,     0     0     0]\n",
      " [ 7949  7949 10552 ...,     0     0     0]\n",
      " [17496  8492  8492 ...,     0     0     0]\n",
      " ..., \n",
      " [ 7949    36     1 ...,     0     0     0]\n",
      " [ 7949  7949 10552 ...,     0     0     0]\n",
      " [10738 17914 17914 ...,     0     0     0]]\n",
      "max 17914\n"
     ]
    },
    {
     "name": "stderr",
     "output_type": "stream",
     "text": [
      "\n",
      "\n",
      "\n",
      "\n",
      "  4%|▍         | 406/10000 [7:03:00<166:24:08, 62.44s/it]\u001b[A\u001b[A\u001b[A\u001b[A\n",
      "\n",
      "\n",
      "\n",
      "  4%|▍         | 407/10000 [7:04:02<166:14:58, 62.39s/it]\u001b[A\u001b[A\u001b[A\u001b[A"
     ]
    },
    {
     "name": "stdout",
     "output_type": "stream",
     "text": [
      "predition [[17496    36     1 ...,     0     0     0]\n",
      " [ 7949  7949 10552 ...,    36    36     1]\n",
      " [10738  8492 15868 ...,     0     0     0]\n",
      " ..., \n",
      " [ 7949    36    36 ...,     0     0     0]\n",
      " [ 7949     1     1 ...,     0     0     0]\n",
      " [17877     1    36 ...,     0     0     0]]\n",
      "max 17914\n"
     ]
    },
    {
     "name": "stderr",
     "output_type": "stream",
     "text": [
      "\n",
      "\n",
      "\n",
      "\n",
      "  4%|▍         | 408/10000 [7:05:05<166:21:02, 62.43s/it]\u001b[A\u001b[A\u001b[A\u001b[A"
     ]
    },
    {
     "name": "stdout",
     "output_type": "stream",
     "text": [
      "predition [[ 7949  8492  8492 ..., 16139    36    36]\n",
      " [10738  8492 17914 ...,     0     0     0]\n",
      " [ 7949  8492 17914 ...,     0     0     0]\n",
      " ..., \n",
      " [   36     1     1 ...,     0     0     0]\n",
      " [10738     1     1 ...,     0     0     0]\n",
      " [10738  8492  8492 ...,     0     0     0]]\n",
      "max 17914\n"
     ]
    },
    {
     "name": "stderr",
     "output_type": "stream",
     "text": [
      "\n",
      "\n",
      "\n",
      "\n",
      "  4%|▍         | 409/10000 [7:06:07<166:21:13, 62.44s/it]\u001b[A\u001b[A\u001b[A\u001b[A\n",
      "\n",
      "\n",
      "\n",
      "  4%|▍         | 410/10000 [7:07:09<166:14:28, 62.41s/it]\u001b[A\u001b[A\u001b[A\u001b[A"
     ]
    },
    {
     "name": "stdout",
     "output_type": "stream",
     "text": [
      "predition [[10738  8492  8492 ...,     0     0     0]\n",
      " [17914 17914 17914 ...,     0     0     0]\n",
      " [10738  8492     0 ...,     0     0     0]\n",
      " ..., \n",
      " [10738  8492  8492 ...,     0     0     0]\n",
      " [ 7949  8492  8492 ..., 15868    36    36]\n",
      " [ 7949  8492     1 ...,     0     0     0]]\n",
      "max 17914\n"
     ]
    },
    {
     "name": "stderr",
     "output_type": "stream",
     "text": [
      "\n",
      "\n",
      "\n",
      "\n",
      "  4%|▍         | 411/10000 [7:08:12<166:22:41, 62.46s/it]\u001b[A\u001b[A\u001b[A\u001b[A\n",
      "\n",
      "\n",
      "\n",
      "  4%|▍         | 412/10000 [7:09:14<166:17:30, 62.44s/it]\u001b[A\u001b[A\u001b[A\u001b[A"
     ]
    },
    {
     "name": "stdout",
     "output_type": "stream",
     "text": [
      "predition [[ 7949  8492 10552 ...,    36    36     1]\n",
      " [ 7949  8492    36 ...,     0     0     0]\n",
      " [10738  8492 17914 ...,     0     0     0]\n",
      " ..., \n",
      " [ 7949  8492 10552 ..., 15868    36    36]\n",
      " [ 7949  8492     1 ...,     0     0     0]\n",
      " [   36     1     0 ...,     0     0     0]]\n",
      "max 17914\n"
     ]
    },
    {
     "name": "stderr",
     "output_type": "stream",
     "text": [
      "\n",
      "\n",
      "\n",
      "\n",
      "  4%|▍         | 413/10000 [7:10:17<166:17:46, 62.45s/it]\u001b[A\u001b[A\u001b[A\u001b[A\n",
      "\n",
      "\n",
      "\n",
      "  4%|▍         | 414/10000 [7:11:19<166:12:07, 62.42s/it]\u001b[A\u001b[A\u001b[A\u001b[A"
     ]
    },
    {
     "name": "stdout",
     "output_type": "stream",
     "text": [
      "predition [[10738    36     1 ...,     0     0     0]\n",
      " [17914    36     1 ...,     0     0     0]\n",
      " [ 7949  7949 10552 ...,     0     0     0]\n",
      " ..., \n",
      " [ 7949  7949     0 ...,     0     0     0]\n",
      " [10738  8492     0 ...,    36    36     0]\n",
      " [ 7949 17914 17914 ...,     0     0     0]]\n",
      "max 17914\n"
     ]
    },
    {
     "name": "stderr",
     "output_type": "stream",
     "text": [
      "\n",
      "\n",
      "\n",
      "\n",
      "  4%|▍         | 415/10000 [7:12:22<166:12:22, 62.42s/it]\u001b[A\u001b[A\u001b[A\u001b[A\n",
      "\n",
      "\n",
      "\n",
      "  4%|▍         | 416/10000 [7:13:24<166:09:00, 62.41s/it]\u001b[A\u001b[A\u001b[A\u001b[A"
     ]
    },
    {
     "name": "stdout",
     "output_type": "stream",
     "text": [
      "predition [[17496  8492 17914 ...,     0     0     0]\n",
      " [17496     1     0 ...,     0     0     0]\n",
      " [ 7949  8492 10552 ...,    36    36     0]\n",
      " ..., \n",
      " [10738  8492    36 ...,     0     0     0]\n",
      " [ 7949  8492  8492 ...,     0     0     0]\n",
      " [ 7949 17914     1 ...,     0     0     0]]\n",
      "max 17914\n"
     ]
    },
    {
     "name": "stderr",
     "output_type": "stream",
     "text": [
      "\n",
      "\n",
      "\n",
      "\n",
      "  4%|▍         | 417/10000 [7:14:26<166:04:57, 62.39s/it]\u001b[A\u001b[A\u001b[A\u001b[A\n",
      "\n",
      "\n",
      "\n",
      "  4%|▍         | 418/10000 [7:15:29<166:01:17, 62.38s/it]\u001b[A\u001b[A\u001b[A\u001b[A"
     ]
    },
    {
     "name": "stdout",
     "output_type": "stream",
     "text": [
      "predition [[ 7949  7949 10552 ...,     0     0     0]\n",
      " [   36     1     0 ...,     0     0     0]\n",
      " [ 7949  8492 10552 ...,     0     0     0]\n",
      " ..., \n",
      " [10738     1     0 ...,     0     0     0]\n",
      " [17496    36     1 ...,     0     0     0]\n",
      " [17914  8492     1 ...,     0     0     0]]\n",
      "max 17914\n"
     ]
    },
    {
     "name": "stderr",
     "output_type": "stream",
     "text": [
      "\n",
      "\n",
      "\n",
      "\n",
      "  4%|▍         | 419/10000 [7:16:31<165:44:00, 62.27s/it]\u001b[A\u001b[A\u001b[A\u001b[A\n",
      "\n",
      "\n",
      "\n",
      "  4%|▍         | 420/10000 [7:17:33<165:29:05, 62.19s/it]\u001b[A\u001b[A\u001b[A\u001b[A"
     ]
    },
    {
     "name": "stdout",
     "output_type": "stream",
     "text": [
      "predition [[17877     1     0 ...,     0     0     0]\n",
      " [ 7949  7949 10552 ...,     0     0     0]\n",
      " [ 7949  8492 10552 ...,    36     1     1]\n",
      " ..., \n",
      " [ 7949 17914 10552 ...,     0     0     0]\n",
      " [ 7949  8492     0 ...,     0     0     0]\n",
      " [10738  8492     1 ...,     0     0     0]]\n",
      "max 17914\n"
     ]
    },
    {
     "name": "stderr",
     "output_type": "stream",
     "text": [
      "\n",
      "\n",
      "\n",
      "\n",
      "  4%|▍         | 421/10000 [7:18:35<165:24:47, 62.17s/it]\u001b[A\u001b[A\u001b[A\u001b[A"
     ]
    },
    {
     "name": "stdout",
     "output_type": "stream",
     "text": [
      "predition [[10738  8492  8492 ...,     0     0     0]\n",
      " [10738     1     0 ...,     0     0     0]\n",
      " [ 7949  8492  8492 ...,    36    36     1]\n",
      " ..., \n",
      " [10738     1     1 ...,     0     0     0]\n",
      " [ 7949  8492  8492 ...,     1     0     0]\n",
      " [17496  8492    36 ...,     0     0     0]]\n",
      "max 17914\n"
     ]
    },
    {
     "name": "stderr",
     "output_type": "stream",
     "text": [
      "\n",
      "\n",
      "\n",
      "\n",
      "  4%|▍         | 422/10000 [7:19:37<165:21:47, 62.15s/it]\u001b[A\u001b[A\u001b[A\u001b[A\n",
      "\n",
      "\n",
      "\n",
      "  4%|▍         | 423/10000 [7:20:39<165:09:48, 62.09s/it]\u001b[A\u001b[A\u001b[A\u001b[A"
     ]
    },
    {
     "name": "stdout",
     "output_type": "stream",
     "text": [
      "predition [[10738  8492    36 ...,     1     0     0]\n",
      " [10738  8492     0 ...,     0     0     0]\n",
      " [17877  8492  8492 ...,     0     0     0]\n",
      " ..., \n",
      " [ 7949    36     1 ...,     0     0     0]\n",
      " [ 7949  8492 10552 ..., 16139    36    36]\n",
      " [17496     1     0 ...,     0     0     0]]\n",
      "max 17914\n"
     ]
    },
    {
     "name": "stderr",
     "output_type": "stream",
     "text": [
      "\n",
      "\n",
      "\n",
      "\n",
      "  4%|▍         | 424/10000 [7:21:41<165:07:59, 62.08s/it]\u001b[A\u001b[A\u001b[A\u001b[A\n",
      "\n",
      "\n",
      "\n",
      "  4%|▍         | 425/10000 [7:22:43<165:04:11, 62.06s/it]\u001b[A\u001b[A\u001b[A\u001b[A"
     ]
    },
    {
     "name": "stdout",
     "output_type": "stream",
     "text": [
      "predition [[10738 17914    36 ...,     0     0     0]\n",
      " [ 7949  8492     0 ...,     0     0     0]\n",
      " [ 7949  8492     0 ...,     0     0     0]\n",
      " ..., \n",
      " [17496    36    36 ...,     0     0     0]\n",
      " [ 7949 17914    36 ...,     0     0     0]\n",
      " [ 7949  7949 10552 ...,     0     0     0]]\n",
      "max 17914\n"
     ]
    },
    {
     "name": "stderr",
     "output_type": "stream",
     "text": [
      "\n",
      "\n",
      "\n",
      "\n",
      "  4%|▍         | 426/10000 [7:23:45<165:10:21, 62.11s/it]\u001b[A\u001b[A\u001b[A\u001b[A\n",
      "\n",
      "\n",
      "\n",
      "  4%|▍         | 427/10000 [7:24:47<165:08:32, 62.10s/it]\u001b[A\u001b[A\u001b[A\u001b[A"
     ]
    },
    {
     "name": "stdout",
     "output_type": "stream",
     "text": [
      "predition [[10738  8492 17914 ...,    36    36    36]\n",
      " [ 7949    36     1 ...,     0     0     0]\n",
      " [17914    36     1 ...,     0     0     0]\n",
      " ..., \n",
      " [17914  8492 10552 ...,    36    36     1]\n",
      " [10738  8492 10552 ...,     0     0     0]\n",
      " [ 7949  8492 10552 ...,    36    36    36]]\n",
      "max 17914\n"
     ]
    },
    {
     "name": "stderr",
     "output_type": "stream",
     "text": [
      "\n",
      "\n",
      "\n",
      "\n",
      "  4%|▍         | 428/10000 [7:25:49<165:02:33, 62.07s/it]\u001b[A\u001b[A\u001b[A\u001b[A\n",
      "\n",
      "\n",
      "\n",
      "  4%|▍         | 429/10000 [7:26:51<165:00:54, 62.07s/it]\u001b[A\u001b[A\u001b[A\u001b[A"
     ]
    },
    {
     "name": "stdout",
     "output_type": "stream",
     "text": [
      "predition [[10738  8492 17914 ...,    36     1     1]\n",
      " [ 7949  7949     0 ...,     0     0     0]\n",
      " [ 7949     1     0 ...,     0     0     0]\n",
      " ..., \n",
      " [17914 17914    36 ...,     0     0     0]\n",
      " [10738     1    36 ...,     0     0     0]\n",
      " [ 7949    36 10552 ..., 17914    36    36]]\n",
      "max 17914\n"
     ]
    },
    {
     "name": "stderr",
     "output_type": "stream",
     "text": [
      "\n",
      "\n",
      "\n",
      "\n",
      "  4%|▍         | 430/10000 [7:27:53<165:07:21, 62.12s/it]\u001b[A\u001b[A\u001b[A\u001b[A\n",
      "\n",
      "\n",
      "\n",
      "  4%|▍         | 431/10000 [7:28:56<165:02:46, 62.09s/it]\u001b[A\u001b[A\u001b[A\u001b[A"
     ]
    },
    {
     "name": "stdout",
     "output_type": "stream",
     "text": [
      "predition [[10738  8492  8492 ...,    36    36     1]\n",
      " [ 7949     1     0 ...,     0     0     0]\n",
      " [ 7949  8492 17914 ...,     0     0     0]\n",
      " ..., \n",
      " [ 7949  8492 10552 ...,    36    36     0]\n",
      " [10738  8492  8492 ...,     0     0     0]\n",
      " [17496     1     1 ...,     0     0     0]]\n",
      "max 17914\n"
     ]
    },
    {
     "name": "stderr",
     "output_type": "stream",
     "text": [
      "\n",
      "\n",
      "\n",
      "\n",
      "  4%|▍         | 432/10000 [7:29:58<165:05:23, 62.12s/it]\u001b[A\u001b[A\u001b[A\u001b[A\n",
      "\n",
      "\n",
      "\n",
      "  4%|▍         | 433/10000 [7:31:00<165:04:33, 62.12s/it]\u001b[A\u001b[A\u001b[A\u001b[A"
     ]
    },
    {
     "name": "stdout",
     "output_type": "stream",
     "text": [
      "predition [[ 7949  8492 10552 ...,    36    36    36]\n",
      " [17496     1     0 ...,     0     0     0]\n",
      " [10738  8492     1 ...,     0     0     0]\n",
      " ..., \n",
      " [ 7949  8492 10552 ...,     0     0     0]\n",
      " [ 7949  8492 10552 ...,    36    36     1]\n",
      " [   36     1     0 ...,     0     0     0]]\n",
      "max 17914\n"
     ]
    },
    {
     "name": "stderr",
     "output_type": "stream",
     "text": [
      "\n",
      "\n",
      "\n",
      "\n",
      "  4%|▍         | 434/10000 [7:32:02<165:07:29, 62.14s/it]\u001b[A\u001b[A\u001b[A\u001b[A\n",
      "\n",
      "\n",
      "\n",
      "  4%|▍         | 435/10000 [7:33:04<164:54:31, 62.07s/it]\u001b[A\u001b[A\u001b[A\u001b[A"
     ]
    },
    {
     "name": "stdout",
     "output_type": "stream",
     "text": [
      "predition [[10738  8492  8492 ...,     0     0     0]\n",
      " [17877     1     1 ...,     0     0     0]\n",
      " [ 7949  8492  8492 ...,     0     0     0]\n",
      " ..., \n",
      " [ 7949  7949    36 ...,     1     0     0]\n",
      " [17461  8492  8492 ...,     0     0     0]\n",
      " [10738  7949 10552 ...,    36    36     0]]\n",
      "max 17914\n"
     ]
    },
    {
     "name": "stderr",
     "output_type": "stream",
     "text": [
      "\n",
      "\n",
      "\n",
      "\n",
      "  4%|▍         | 436/10000 [7:34:06<165:00:15, 62.11s/it]\u001b[A\u001b[A\u001b[A\u001b[A"
     ]
    },
    {
     "name": "stdout",
     "output_type": "stream",
     "text": [
      "predition [[ 7949    36     0 ...,     0     0     0]\n",
      " [ 7949  7949 10552 ...,     0     0     0]\n",
      " [10738 17914  8492 ...,     1     0     0]\n",
      " ..., \n",
      " [17914  8492     1 ...,     0     0     0]\n",
      " [ 7949  7949 10552 ...,    36     0     0]\n",
      " [17877    36     1 ...,     0     0     0]]\n",
      "max 17914\n"
     ]
    },
    {
     "name": "stderr",
     "output_type": "stream",
     "text": [
      "\n",
      "\n",
      "\n",
      "\n",
      "  4%|▍         | 437/10000 [7:35:08<165:09:02, 62.17s/it]\u001b[A\u001b[A\u001b[A\u001b[A\n",
      "\n",
      "\n",
      "\n",
      "  4%|▍         | 438/10000 [7:36:11<165:06:20, 62.16s/it]\u001b[A\u001b[A\u001b[A\u001b[A"
     ]
    },
    {
     "name": "stdout",
     "output_type": "stream",
     "text": [
      "predition [[ 7949 17914 10552 ...,     0     0     0]\n",
      " [10738     1 17914 ...,     0     0     0]\n",
      " [17914 17914 10552 ...,     0     0     0]\n",
      " ..., \n",
      " [10738  8492  8492 ...,     0     0     0]\n",
      " [ 7949  8492     0 ...,     0     0     0]\n",
      " [ 7949  7949 10552 ...,    36    36     1]]\n",
      "max 17914\n"
     ]
    },
    {
     "name": "stderr",
     "output_type": "stream",
     "text": [
      "\n",
      "\n",
      "\n",
      "\n",
      "  4%|▍         | 439/10000 [7:37:13<165:13:07, 62.21s/it]\u001b[A\u001b[A\u001b[A\u001b[A\n",
      "\n",
      "\n",
      "\n",
      "  4%|▍         | 440/10000 [7:38:15<165:04:11, 62.16s/it]\u001b[A\u001b[A\u001b[A\u001b[A"
     ]
    },
    {
     "name": "stdout",
     "output_type": "stream",
     "text": [
      "predition [[ 7949    36     1 ...,     0     0     0]\n",
      " [ 7949  8492 10552 ...,     1     0     0]\n",
      " [10738    36 17914 ...,     0     0     0]\n",
      " ..., \n",
      " [10738  8492 17914 ...,    36    36     1]\n",
      " [ 7949  7949 10552 ..., 15868    36    36]\n",
      " [ 7949  8492 17914 ...,     0     0     0]]\n",
      "max 17914\n"
     ]
    },
    {
     "name": "stderr",
     "output_type": "stream",
     "text": [
      "\n",
      "\n",
      "\n",
      "\n",
      "  4%|▍         | 441/10000 [7:39:17<165:07:11, 62.19s/it]\u001b[A\u001b[A\u001b[A\u001b[A\n",
      "\n",
      "\n",
      "\n",
      "  4%|▍         | 442/10000 [7:40:19<165:06:25, 62.19s/it]\u001b[A\u001b[A\u001b[A\u001b[A"
     ]
    },
    {
     "name": "stdout",
     "output_type": "stream",
     "text": [
      "predition [[ 7949    36    36 ...,     0     0     0]\n",
      " [10738  8492    36 ...,     0     0     0]\n",
      " [ 7949  8492  8492 ...,     0     0     0]\n",
      " ..., \n",
      " [10738  8492 17914 ...,     0     0     0]\n",
      " [ 7949    36     0 ...,     0     0     0]\n",
      " [10738  8492     1 ...,     0     0     0]]\n",
      "max 17914\n"
     ]
    },
    {
     "name": "stderr",
     "output_type": "stream",
     "text": [
      "\n",
      "\n",
      "\n",
      "\n",
      "  4%|▍         | 443/10000 [7:41:22<165:13:40, 62.24s/it]\u001b[A\u001b[A\u001b[A\u001b[A\n",
      "\n",
      "\n",
      "\n",
      "  4%|▍         | 444/10000 [7:42:24<165:11:29, 62.23s/it]\u001b[A\u001b[A\u001b[A\u001b[A"
     ]
    },
    {
     "name": "stdout",
     "output_type": "stream",
     "text": [
      "predition [[ 7949  7949  7949 ...,     0     0     0]\n",
      " [10738  8492  8492 ...,     1     1     0]\n",
      " [10738     1     0 ...,     0     0     0]\n",
      " ..., \n",
      " [17461  8492 10552 ...,    36     0     0]\n",
      " [ 7949  8492 10552 ...,     0     0     0]\n",
      " [10738     1     0 ...,     0     0     0]]\n",
      "max 17914\n"
     ]
    },
    {
     "name": "stderr",
     "output_type": "stream",
     "text": [
      "\n",
      "\n",
      "\n",
      "\n",
      "  4%|▍         | 445/10000 [7:43:26<165:14:13, 62.26s/it]\u001b[A\u001b[A\u001b[A\u001b[A\n",
      "\n",
      "\n",
      "\n",
      "  4%|▍         | 446/10000 [7:44:28<165:10:55, 62.24s/it]\u001b[A\u001b[A\u001b[A\u001b[A"
     ]
    },
    {
     "name": "stdout",
     "output_type": "stream",
     "text": [
      "predition [[17496  8492    36 ...,     0     0     0]\n",
      " [ 7949  8492 10552 ...,     0     0     0]\n",
      " [ 7949    36     1 ...,     0     0     0]\n",
      " ..., \n",
      " [10738    36     0 ...,     0     0     0]\n",
      " [ 7949  8492 10552 ...,     0     0     0]\n",
      " [ 7949  7949 10552 ...,    36    36     0]]\n",
      "max 17914\n"
     ]
    },
    {
     "name": "stderr",
     "output_type": "stream",
     "text": [
      "\n",
      "\n",
      "\n",
      "\n",
      "  4%|▍         | 447/10000 [7:45:31<165:07:58, 62.23s/it]\u001b[A\u001b[A\u001b[A\u001b[A\n",
      "\n",
      "\n",
      "\n",
      "  4%|▍         | 448/10000 [7:46:33<165:08:36, 62.24s/it]\u001b[A\u001b[A\u001b[A\u001b[A"
     ]
    },
    {
     "name": "stdout",
     "output_type": "stream",
     "text": [
      "predition [[17496    36     1 ...,     0     0     0]\n",
      " [ 7949  8492  8492 ...,     0     0     0]\n",
      " [ 7949  7949  8492 ...,     0     0     0]\n",
      " ..., \n",
      " [10738    36     1 ...,     0     0     0]\n",
      " [ 7949  7949 10552 ...,    36    36     0]\n",
      " [ 7949     1     0 ...,     0     0     0]]\n",
      "max 17914\n"
     ]
    },
    {
     "name": "stderr",
     "output_type": "stream",
     "text": [
      "\n",
      "\n",
      "\n",
      "\n",
      "  4%|▍         | 449/10000 [7:47:35<165:17:13, 62.30s/it]\u001b[A\u001b[A\u001b[A\u001b[A"
     ]
    },
    {
     "name": "stdout",
     "output_type": "stream",
     "text": [
      "predition [[ 7949  8492     1 ...,     0     0     0]\n",
      " [ 7949  8492     1 ...,     0     0     0]\n",
      " [17395     1     0 ...,     0     0     0]\n",
      " ..., \n",
      " [ 7949  8492     1 ...,     0     0     0]\n",
      " [10738  7949  8492 ...,     0     0     0]\n",
      " [17914  8492    36 ...,     0     0     0]]\n",
      "max 17914\n"
     ]
    },
    {
     "name": "stderr",
     "output_type": "stream",
     "text": [
      "\n",
      "\n",
      "\n",
      "\n",
      "  4%|▍         | 450/10000 [7:48:38<165:13:18, 62.28s/it]\u001b[A\u001b[A\u001b[A\u001b[A\n",
      "\n",
      "\n",
      "\n",
      "  5%|▍         | 451/10000 [7:49:40<165:12:08, 62.28s/it]\u001b[A\u001b[A\u001b[A\u001b[A"
     ]
    },
    {
     "name": "stdout",
     "output_type": "stream",
     "text": [
      "predition [[10738  8492 10552 ..., 15868 15868     0]\n",
      " [ 7949  8492  8492 ...,     0     0     0]\n",
      " [ 7949 17914 10552 ...,     0     0     0]\n",
      " ..., \n",
      " [17496  8492     0 ...,     0     0     0]\n",
      " [10738  8492 17914 ...,     0     0     0]\n",
      " [17496  8492 17914 ...,     0     0     0]]\n",
      "max 17914\n"
     ]
    },
    {
     "name": "stderr",
     "output_type": "stream",
     "text": [
      "\n",
      "\n",
      "\n",
      "\n",
      "  5%|▍         | 452/10000 [7:50:42<165:16:57, 62.32s/it]\u001b[A\u001b[A\u001b[A\u001b[A\n",
      "\n",
      "\n",
      "\n",
      "  5%|▍         | 453/10000 [7:51:45<165:13:12, 62.30s/it]\u001b[A\u001b[A\u001b[A\u001b[A"
     ]
    },
    {
     "name": "stdout",
     "output_type": "stream",
     "text": [
      "predition [[17496  8492    36 ...,     0     0     0]\n",
      " [10738 17914 17914 ...,     0     0     0]\n",
      " [ 7949  7949  7949 ...,    36     1     0]\n",
      " ..., \n",
      " [ 7949  8492     1 ...,     0     0     0]\n",
      " [ 7949  7949 10552 ...,    36    36    36]\n",
      " [ 7949  8492  8492 ...,     0     0     0]]\n",
      "max 17914\n"
     ]
    },
    {
     "name": "stderr",
     "output_type": "stream",
     "text": [
      "\n",
      "\n",
      "\n",
      "\n",
      "  5%|▍         | 454/10000 [7:52:47<165:15:33, 62.32s/it]\u001b[A\u001b[A\u001b[A\u001b[A\n",
      "\n",
      "\n",
      "\n",
      "  5%|▍         | 455/10000 [7:53:49<165:11:55, 62.31s/it]\u001b[A\u001b[A\u001b[A\u001b[A"
     ]
    },
    {
     "name": "stdout",
     "output_type": "stream",
     "text": [
      "predition [[17877     1     0 ...,     0     0     0]\n",
      " [   36     1     1 ...,     0     0     0]\n",
      " [17914 17914    36 ...,     0     0     0]\n",
      " ..., \n",
      " [17914 17914    36 ...,     0     0     0]\n",
      " [ 7949     1     0 ...,     0     0     0]\n",
      " [17395     1     1 ...,     0     0     0]]\n",
      "max 17914\n"
     ]
    },
    {
     "name": "stderr",
     "output_type": "stream",
     "text": [
      "\n",
      "\n",
      "\n",
      "\n",
      "  5%|▍         | 456/10000 [7:54:52<165:15:58, 62.34s/it]\u001b[A\u001b[A\u001b[A\u001b[A\n",
      "\n",
      "\n",
      "\n",
      "  5%|▍         | 457/10000 [7:55:54<165:14:06, 62.33s/it]\u001b[A\u001b[A\u001b[A\u001b[A"
     ]
    },
    {
     "name": "stdout",
     "output_type": "stream",
     "text": [
      "predition [[ 7949  7949 10552 ...,    36     1     0]\n",
      " [10738    36    36 ..., 17914    36    36]\n",
      " [17496  8492 15868 ...,     0     0     0]\n",
      " ..., \n",
      " [ 7949  8492  8492 ..., 17914    36    36]\n",
      " [10738  8492  8492 ..., 15868 15868 15868]\n",
      " [ 7949  8492     0 ...,     0     0     0]]\n",
      "max 17914\n"
     ]
    },
    {
     "name": "stderr",
     "output_type": "stream",
     "text": [
      "\n",
      "\n",
      "\n",
      "\n",
      "  5%|▍         | 458/10000 [7:56:56<165:10:51, 62.32s/it]\u001b[A\u001b[A\u001b[A\u001b[A\n",
      "\n",
      "\n",
      "\n",
      "  5%|▍         | 459/10000 [7:57:59<165:10:53, 62.33s/it]\u001b[A\u001b[A\u001b[A\u001b[A"
     ]
    },
    {
     "name": "stdout",
     "output_type": "stream",
     "text": [
      "predition [[17496     1     0 ...,     0     0     0]\n",
      " [17496     1     0 ...,     0     0     0]\n",
      " [17496     1     1 ...,     0     0     0]\n",
      " ..., \n",
      " [10738  8492  8492 ...,     0     0     0]\n",
      " [10738    36    36 ..., 17914 17914     0]\n",
      " [ 7949  8492 10552 ...,     0     0     0]]\n",
      "max 17914\n"
     ]
    },
    {
     "name": "stderr",
     "output_type": "stream",
     "text": [
      "\n",
      "\n",
      "\n",
      "\n",
      "  5%|▍         | 460/10000 [7:59:01<165:17:37, 62.38s/it]\u001b[A\u001b[A\u001b[A\u001b[A\n",
      "\n",
      "\n",
      "\n",
      "  5%|▍         | 461/10000 [8:00:03<165:11:08, 62.34s/it]\u001b[A\u001b[A\u001b[A\u001b[A"
     ]
    },
    {
     "name": "stdout",
     "output_type": "stream",
     "text": [
      "predition [[ 7949     1     0 ...,     0     0     0]\n",
      " [17877    36    36 ...,     0     0     0]\n",
      " [ 7949  8492 10552 ...,    36    36    36]\n",
      " ..., \n",
      " [10738    36     1 ...,     0     0     0]\n",
      " [10738  8492  8492 ...,     0     0     0]\n",
      " [ 7949    36    36 ...,     0     0     0]]\n",
      "max 17914\n"
     ]
    },
    {
     "name": "stderr",
     "output_type": "stream",
     "text": [
      "\n",
      "\n",
      "\n",
      "\n",
      "  5%|▍         | 462/10000 [8:01:06<165:13:34, 62.36s/it]\u001b[A\u001b[A\u001b[A\u001b[A"
     ]
    },
    {
     "name": "stdout",
     "output_type": "stream",
     "text": [
      "predition [[17496     1     0 ...,     0     0     0]\n",
      " [ 7949  8492 10552 ..., 16139    36    36]\n",
      " [ 7949     1 17914 ...,     0     0     0]\n",
      " ..., \n",
      " [17496  8492 17914 ...,     0     0     0]\n",
      " [ 7949  8492     1 ...,     0     0     0]\n",
      " [17914 17914    36 ...,     0     0     0]]\n",
      "max 17914\n"
     ]
    },
    {
     "name": "stderr",
     "output_type": "stream",
     "text": [
      "\n",
      "\n",
      "\n",
      "\n",
      "  5%|▍         | 463/10000 [8:02:08<165:06:18, 62.32s/it]\u001b[A\u001b[A\u001b[A\u001b[A\n",
      "\n",
      "\n",
      "\n",
      "  5%|▍         | 464/10000 [8:03:10<165:00:35, 62.29s/it]\u001b[A\u001b[A\u001b[A\u001b[A"
     ]
    },
    {
     "name": "stdout",
     "output_type": "stream",
     "text": [
      "predition [[ 7949  8492 17914 ...,     0     0     0]\n",
      " [10738    36    36 ...,     0     0     0]\n",
      " [ 7949  7949 10552 ...,     0     0     0]\n",
      " ..., \n",
      " [10738 17914 17914 ...,     0     0     0]\n",
      " [10738 17914 17914 ...,     0     0     0]\n",
      " [10738  8492 17914 ...,     0     0     0]]\n",
      "max 17914\n"
     ]
    },
    {
     "name": "stderr",
     "output_type": "stream",
     "text": [
      "\n",
      "\n",
      "\n",
      "\n",
      "  5%|▍         | 465/10000 [8:04:13<165:00:29, 62.30s/it]\u001b[A\u001b[A\u001b[A\u001b[A\n",
      "\n",
      "\n",
      "\n",
      "  5%|▍         | 466/10000 [8:05:15<164:58:54, 62.30s/it]\u001b[A\u001b[A\u001b[A\u001b[A"
     ]
    },
    {
     "name": "stdout",
     "output_type": "stream",
     "text": [
      "predition [[ 7949  8492 10552 ...,     0     0     0]\n",
      " [ 7949 17914    36 ...,    36    36     1]\n",
      " [ 7949 17914 17914 ...,    36    36     1]\n",
      " ..., \n",
      " [10738  8492  8492 ...,     0     0     0]\n",
      " [10738  8492     1 ...,     0     0     0]\n",
      " [ 7949  8492    36 ...,     0     0     0]]\n",
      "max 17914\n"
     ]
    },
    {
     "name": "stderr",
     "output_type": "stream",
     "text": [
      "\n",
      "\n",
      "\n",
      "\n",
      "  5%|▍         | 467/10000 [8:06:17<165:08:23, 62.36s/it]\u001b[A\u001b[A\u001b[A\u001b[A\n",
      "\n",
      "\n",
      "\n",
      "  5%|▍         | 468/10000 [8:07:20<165:04:54, 62.35s/it]\u001b[A\u001b[A\u001b[A\u001b[A"
     ]
    },
    {
     "name": "stdout",
     "output_type": "stream",
     "text": [
      "predition [[ 7949  8492     0 ...,     0     0     0]\n",
      " [ 7949 17914 17914 ...,     0     0     0]\n",
      " [ 7949    36     0 ...,     0     0     0]\n",
      " ..., \n",
      " [ 7949  8492  8492 ..., 16139     0     0]\n",
      " [10738  8492    36 ...,     0     0     0]\n",
      " [10738    36     1 ...,     0     0     0]]\n",
      "max 17914\n"
     ]
    },
    {
     "name": "stderr",
     "output_type": "stream",
     "text": [
      "\n",
      "\n",
      "\n",
      "\n",
      "  5%|▍         | 469/10000 [8:08:22<165:01:02, 62.33s/it]\u001b[A\u001b[A\u001b[A\u001b[A\n",
      "\n",
      "\n",
      "\n",
      "  5%|▍         | 470/10000 [8:09:24<164:51:07, 62.27s/it]\u001b[A\u001b[A\u001b[A\u001b[A"
     ]
    },
    {
     "name": "stdout",
     "output_type": "stream",
     "text": [
      "predition [[17395  8492 10552 ...,     0     0     0]\n",
      " [10738    36    36 ...,     0     0     0]\n",
      " [10738  7949  7949 ...,     0     0     0]\n",
      " ..., \n",
      " [ 7949    36     1 ...,     0     0     0]\n",
      " [ 7949  8492 10552 ...,    36    36     1]\n",
      " [ 7949  8492  8492 ...,     1     0     0]]\n",
      "max 17914\n"
     ]
    },
    {
     "name": "stderr",
     "output_type": "stream",
     "text": [
      "\n",
      "\n",
      "\n",
      "\n",
      "  5%|▍         | 471/10000 [8:10:26<164:48:27, 62.26s/it]\u001b[A\u001b[A\u001b[A\u001b[A\n",
      "\n",
      "\n",
      "\n",
      "  5%|▍         | 472/10000 [8:11:29<164:46:54, 62.26s/it]\u001b[A\u001b[A\u001b[A\u001b[A"
     ]
    },
    {
     "name": "stdout",
     "output_type": "stream",
     "text": [
      "predition [[10738  8492  8492 ..., 15868 15868    36]\n",
      " [17496  8492  8509 ...,     0     0     0]\n",
      " [ 7949  8492 10552 ...,     0     0     0]\n",
      " ..., \n",
      " [17914  8492    36 ...,     0     0     0]\n",
      " [10738  8492  8492 ...,     1     0     0]\n",
      " [ 7949  7949 10552 ..., 15868    36    36]]\n",
      "max 17914\n"
     ]
    },
    {
     "name": "stderr",
     "output_type": "stream",
     "text": [
      "\n",
      "\n",
      "\n",
      "\n",
      "  5%|▍         | 473/10000 [8:12:31<164:49:55, 62.29s/it]\u001b[A\u001b[A\u001b[A\u001b[A\n",
      "\n",
      "\n",
      "\n",
      "  5%|▍         | 474/10000 [8:13:33<164:44:31, 62.26s/it]\u001b[A\u001b[A\u001b[A\u001b[A"
     ]
    },
    {
     "name": "stdout",
     "output_type": "stream",
     "text": [
      "predition [[17496  8492    36 ...,     0     0     0]\n",
      " [10738     1     0 ...,     0     0     0]\n",
      " [ 7949  8492 10552 ...,  8492    36    36]\n",
      " ..., \n",
      " [ 7949     1     0 ...,     0     0     0]\n",
      " [17496  8492    36 ...,     0     0     0]\n",
      " [ 7949  7949 10552 ...,     0     0     0]]\n",
      "max 17914\n"
     ]
    },
    {
     "name": "stderr",
     "output_type": "stream",
     "text": [
      "\n",
      "\n",
      "\n",
      "\n",
      "  5%|▍         | 475/10000 [8:14:35<164:37:59, 62.22s/it]\u001b[A\u001b[A\u001b[A\u001b[A"
     ]
    },
    {
     "name": "stdout",
     "output_type": "stream",
     "text": [
      "predition [[ 7949    36    36 ...,     0     0     0]\n",
      " [17496     1     1 ...,     0     0     0]\n",
      " [10738     1     1 ...,     0     0     0]\n",
      " ..., \n",
      " [17496     1     1 ...,     0     0     0]\n",
      " [17496    36     1 ...,     0     0     0]\n",
      " [ 7949     1     0 ...,     0     0     0]]\n",
      "max 17914\n"
     ]
    },
    {
     "name": "stderr",
     "output_type": "stream",
     "text": [
      "\n",
      "\n",
      "\n",
      "\n",
      "  5%|▍         | 476/10000 [8:15:37<164:26:11, 62.16s/it]\u001b[A\u001b[A\u001b[A\u001b[A\n",
      "\n",
      "\n",
      "\n",
      "  5%|▍         | 477/10000 [8:16:39<164:17:46, 62.11s/it]\u001b[A\u001b[A\u001b[A\u001b[A"
     ]
    },
    {
     "name": "stdout",
     "output_type": "stream",
     "text": [
      "predition [[17496  8492  8492 ...,     0     0     0]\n",
      " [ 7949  7949 10552 ...,    36    36     1]\n",
      " [17496     1     0 ...,     0     0     0]\n",
      " ..., \n",
      " [ 7949    36     1 ...,     0     0     0]\n",
      " [17496    36    36 ...,     0     0     0]\n",
      " [ 7949  7949 10552 ...,    36     0     0]]\n",
      "max 17914\n"
     ]
    },
    {
     "name": "stderr",
     "output_type": "stream",
     "text": [
      "\n",
      "\n",
      "\n",
      "\n",
      "  5%|▍         | 478/10000 [8:17:41<164:14:55, 62.10s/it]\u001b[A\u001b[A\u001b[A\u001b[A\n",
      "\n",
      "\n",
      "\n",
      "  5%|▍         | 479/10000 [8:18:43<164:08:10, 62.06s/it]\u001b[A\u001b[A\u001b[A\u001b[A"
     ]
    },
    {
     "name": "stdout",
     "output_type": "stream",
     "text": [
      "predition [[ 7949  8492 10552 ...,     0     0     0]\n",
      " [ 7949   899 10552 ...,     0     0     0]\n",
      " [ 7949  8492  8492 ..., 15868 15868 15868]\n",
      " ..., \n",
      " [17496  8492  8509 ...,     0     0     0]\n",
      " [17496     1     0 ...,     0     0     0]\n",
      " [10738  8492     1 ...,     0     0     0]]\n",
      "max 17914\n"
     ]
    },
    {
     "name": "stderr",
     "output_type": "stream",
     "text": [
      "\n",
      "\n",
      "\n",
      "\n",
      "  5%|▍         | 480/10000 [8:19:45<164:13:23, 62.10s/it]\u001b[A\u001b[A\u001b[A\u001b[A\n",
      "\n",
      "\n",
      "\n",
      "  5%|▍         | 481/10000 [8:20:47<164:01:44, 62.03s/it]\u001b[A\u001b[A\u001b[A\u001b[A"
     ]
    },
    {
     "name": "stdout",
     "output_type": "stream",
     "text": [
      "predition [[ 7949  8492    36 ...,     0     0     0]\n",
      " [17914 17914     1 ...,     0     0     0]\n",
      " [ 7949  7949 10552 ..., 16139    36    36]\n",
      " ..., \n",
      " [17496    36 17914 ...,     0     0     0]\n",
      " [ 7949  8492    36 ...,     0     0     0]\n",
      " [ 7949    36    36 ...,     0     0     0]]\n",
      "max 17914\n"
     ]
    },
    {
     "name": "stderr",
     "output_type": "stream",
     "text": [
      "\n",
      "\n",
      "\n",
      "\n",
      "  5%|▍         | 482/10000 [8:21:50<164:14:02, 62.12s/it]\u001b[A\u001b[A\u001b[A\u001b[A\n",
      "\n",
      "\n",
      "\n",
      "  5%|▍         | 483/10000 [8:22:51<163:52:36, 61.99s/it]\u001b[A\u001b[A\u001b[A\u001b[A"
     ]
    },
    {
     "name": "stdout",
     "output_type": "stream",
     "text": [
      "predition [[ 7949  8492 10552 ...,     0     0     0]\n",
      " [17877    36 17914 ...,     0     0     0]\n",
      " [17496     1     0 ...,     0     0     0]\n",
      " ..., \n",
      " [ 7949  8492 10552 ...,     0     0     0]\n",
      " [17496  8492  8492 ...,     0     0     0]\n",
      " [ 7949     1 10552 ...,     0     0     0]]\n",
      "max 17914\n"
     ]
    },
    {
     "name": "stderr",
     "output_type": "stream",
     "text": [
      "\n",
      "\n",
      "\n",
      "\n",
      "  5%|▍         | 484/10000 [8:23:53<163:45:11, 61.95s/it]\u001b[A\u001b[A\u001b[A\u001b[A\n",
      "\n",
      "\n",
      "\n",
      "  5%|▍         | 485/10000 [8:24:55<163:54:46, 62.02s/it]\u001b[A\u001b[A\u001b[A\u001b[A"
     ]
    },
    {
     "name": "stdout",
     "output_type": "stream",
     "text": [
      "predition [[17877     1     0 ...,     0     0     0]\n",
      " [ 7949  8492     0 ...,     0     0     0]\n",
      " [ 7949  8492  8492 ...,    36    36     0]\n",
      " ..., \n",
      " [17496     1     0 ...,     0     0     0]\n",
      " [ 7949    36 17914 ...,     0     0     0]\n",
      " [ 7949  8492     0 ...,     0     0     0]]\n",
      "max 17914\n"
     ]
    },
    {
     "name": "stderr",
     "output_type": "stream",
     "text": [
      "\n",
      "\n",
      "\n",
      "\n",
      "  5%|▍         | 486/10000 [8:25:58<164:12:18, 62.13s/it]\u001b[A\u001b[A\u001b[A\u001b[A\n",
      "\n",
      "\n",
      "\n",
      "  5%|▍         | 487/10000 [8:27:00<163:53:19, 62.02s/it]\u001b[A\u001b[A\u001b[A\u001b[A"
     ]
    },
    {
     "name": "stdout",
     "output_type": "stream",
     "text": [
      "predition [[17914 17914 17914 ...,     1     1     0]\n",
      " [ 7949  7949 10552 ...,     0     0     0]\n",
      " [ 7949  8492 10552 ...,     0     0     0]\n",
      " ..., \n",
      " [   36     1     0 ...,     0     0     0]\n",
      " [17496     1     0 ...,     0     0     0]\n",
      " [ 7949  7949    36 ...,     0     0     0]]\n",
      "max 17914\n"
     ]
    },
    {
     "name": "stderr",
     "output_type": "stream",
     "text": [
      "\n",
      "\n",
      "\n",
      "\n",
      "  5%|▍         | 488/10000 [8:28:01<163:41:45, 61.95s/it]\u001b[A\u001b[A\u001b[A\u001b[A\n",
      "\n",
      "\n",
      "\n",
      "  5%|▍         | 489/10000 [8:29:03<163:25:26, 61.86s/it]\u001b[A\u001b[A\u001b[A\u001b[A"
     ]
    },
    {
     "name": "stdout",
     "output_type": "stream",
     "text": [
      "predition [[ 7949  7949 10552 ..., 16139    36    36]\n",
      " [ 7949  8492     1 ...,     0     0     0]\n",
      " [17914 17914 17914 ...,     0     0     0]\n",
      " ..., \n",
      " [17496  8492 17914 ...,     0     0     0]\n",
      " [ 7949  8492     1 ...,     0     0     0]\n",
      " [17496    36    36 ...,     0     0     0]]\n",
      "max 17914\n"
     ]
    },
    {
     "name": "stderr",
     "output_type": "stream",
     "text": [
      "\n",
      "\n",
      "\n",
      "\n",
      "  5%|▍         | 490/10000 [8:30:05<163:15:07, 61.80s/it]\u001b[A\u001b[A\u001b[A\u001b[A"
     ]
    },
    {
     "name": "stdout",
     "output_type": "stream",
     "text": [
      "predition [[17496    36     1 ...,     0     0     0]\n",
      " [10738  8492 17914 ...,    36     1     1]\n",
      " [10738     1     0 ...,     0     0     0]\n",
      " ..., \n",
      " [10738     1     0 ...,     0     0     0]\n",
      " [ 7949     1     0 ...,     0     0     0]\n",
      " [ 7949  8492 15868 ..., 15868    36    36]]\n",
      "max 17914\n"
     ]
    },
    {
     "name": "stderr",
     "output_type": "stream",
     "text": [
      "\n",
      "\n",
      "\n",
      "\n",
      "  5%|▍         | 491/10000 [8:31:06<163:11:06, 61.78s/it]\u001b[A\u001b[A\u001b[A\u001b[A\n",
      "\n",
      "\n",
      "\n",
      "  5%|▍         | 492/10000 [8:32:08<162:57:59, 61.70s/it]\u001b[A\u001b[A\u001b[A\u001b[A"
     ]
    },
    {
     "name": "stdout",
     "output_type": "stream",
     "text": [
      "predition [[ 7949  7949 10552 ...,     0     0     0]\n",
      " [10738  8492  8492 ...,     0     0     0]\n",
      " [10738    36    36 ...,     0     0     0]\n",
      " ..., \n",
      " [17914 17914  8492 ...,     0     0     0]\n",
      " [ 7949  8492 17914 ...,     0     0     0]\n",
      " [ 7949  7949 17914 ...,     0     0     0]]\n",
      "max 17914\n"
     ]
    },
    {
     "name": "stderr",
     "output_type": "stream",
     "text": [
      "\n",
      "\n",
      "\n",
      "\n",
      "  5%|▍         | 493/10000 [8:33:10<162:57:41, 61.71s/it]\u001b[A\u001b[A\u001b[A\u001b[A\n",
      "\n",
      "\n",
      "\n",
      "  5%|▍         | 494/10000 [8:34:11<162:48:12, 61.66s/it]\u001b[A\u001b[A\u001b[A\u001b[A"
     ]
    },
    {
     "name": "stdout",
     "output_type": "stream",
     "text": [
      "predition [[17496  8492  8492 ...,     0     0     0]\n",
      " [ 7949     1     0 ...,     0     0     0]\n",
      " [10738  8492    36 ...,     0     0     0]\n",
      " ..., \n",
      " [17914 17914 17914 ...,     0     0     0]\n",
      " [17395  8492 17914 ...,     0     0     0]\n",
      " [ 7949  8492 10552 ...,     0     0     0]]\n",
      "max 17914\n"
     ]
    },
    {
     "name": "stderr",
     "output_type": "stream",
     "text": [
      "\n",
      "\n",
      "\n",
      "\n",
      "  5%|▍         | 495/10000 [8:35:13<162:48:22, 61.66s/it]\u001b[A\u001b[A\u001b[A\u001b[A\n",
      "\n",
      "\n",
      "\n",
      "  5%|▍         | 496/10000 [8:36:14<162:43:58, 61.64s/it]\u001b[A\u001b[A\u001b[A\u001b[A"
     ]
    },
    {
     "name": "stdout",
     "output_type": "stream",
     "text": [
      "predition [[ 7949  8492  8492 ...,  8492    36    36]\n",
      " [ 7949  7949     0 ...,     0     0     0]\n",
      " [10738  7949 17914 ...,     0     0     0]\n",
      " ..., \n",
      " [ 7949  7949 10552 ...,     0     0     0]\n",
      " [ 7949  7949    36 ...,    36     0     0]\n",
      " [10738    36     1 ...,     0     0     0]]\n",
      "max 17914\n"
     ]
    },
    {
     "name": "stderr",
     "output_type": "stream",
     "text": [
      "\n",
      "\n",
      "\n",
      "\n",
      "  5%|▍         | 497/10000 [8:37:16<162:42:34, 61.64s/it]\u001b[A\u001b[A\u001b[A\u001b[A\n",
      "\n",
      "\n",
      "\n",
      "  5%|▍         | 498/10000 [8:38:18<162:37:35, 61.61s/it]\u001b[A\u001b[A\u001b[A\u001b[A"
     ]
    },
    {
     "name": "stdout",
     "output_type": "stream",
     "text": [
      "predition [[ 7949  8492     0 ...,     0     0     0]\n",
      " [ 7949  7949  7949 ...,     0     0     0]\n",
      " [ 7949  7949    36 ..., 16139 16139    36]\n",
      " ..., \n",
      " [10738  8492  8492 ..., 16139    36    36]\n",
      " [ 7949  8492 17914 ...,     0     0     0]\n",
      " [ 7949  7949  7949 ...,     0     0     0]]\n",
      "max 17914\n"
     ]
    },
    {
     "name": "stderr",
     "output_type": "stream",
     "text": [
      "\n",
      "\n",
      "\n",
      "\n",
      "  5%|▍         | 499/10000 [8:39:19<162:38:58, 61.63s/it]\u001b[A\u001b[A\u001b[A\u001b[A\n",
      "\n",
      "\n",
      "\n",
      "  5%|▌         | 500/10000 [8:40:21<162:28:41, 61.57s/it]\u001b[A\u001b[A\u001b[A\u001b[A"
     ]
    },
    {
     "name": "stdout",
     "output_type": "stream",
     "text": [
      "predition [[ 7949  8492 10552 ...,     0     0     0]\n",
      " [ 7949  8492 10552 ...,    36     0     0]\n",
      " [ 7949  8492 17914 ...,     0     0     0]\n",
      " ..., \n",
      " [17496  8492  8492 ...,     1     0     0]\n",
      " [17914  8492 17914 ...,    36    36    36]\n",
      " [ 7949  8492  8492 ..., 15868    36    36]]\n",
      "max 17914\n"
     ]
    },
    {
     "name": "stderr",
     "output_type": "stream",
     "text": [
      "\n",
      "\n",
      "\n",
      "\n",
      "  5%|▌         | 501/10000 [8:41:22<162:37:47, 61.63s/it]\u001b[A\u001b[A\u001b[A\u001b[A\n",
      "\n",
      "\n",
      "\n",
      "  5%|▌         | 502/10000 [8:42:24<162:36:50, 61.64s/it]\u001b[A\u001b[A\u001b[A\u001b[A"
     ]
    },
    {
     "name": "stdout",
     "output_type": "stream",
     "text": [
      "predition [[ 7949  8492    36 ...,     0     0     0]\n",
      " [17877     1 10552 ...,    36    36     1]\n",
      " [17496    36     1 ...,     0     0     0]\n",
      " ..., \n",
      " [ 7949  8492     0 ...,     0     0     0]\n",
      " [ 7949     1     0 ...,     0     0     0]\n",
      " [10738  8492     0 ...,     0     0     0]]\n",
      "max 17914\n"
     ]
    },
    {
     "name": "stderr",
     "output_type": "stream",
     "text": [
      "\n",
      "\n",
      "\n",
      "\n",
      "  5%|▌         | 503/10000 [8:43:26<162:58:14, 61.78s/it]\u001b[A\u001b[A\u001b[A\u001b[A"
     ]
    },
    {
     "name": "stdout",
     "output_type": "stream",
     "text": [
      "predition [[17496    36     1 ...,     0     0     0]\n",
      " [ 7949   899 10552 ...,     0     0     0]\n",
      " [ 7949  8492     0 ...,     0     0     0]\n",
      " ..., \n",
      " [10738  8492  8492 ...,    36    36    36]\n",
      " [10738  8492  8492 ...,     0     0     0]\n",
      " [ 7949    36    36 ...,     0     0     0]]\n",
      "max 17914\n"
     ]
    },
    {
     "name": "stderr",
     "output_type": "stream",
     "text": [
      "\n",
      "\n",
      "\n",
      "\n",
      "  5%|▌         | 504/10000 [8:44:28<162:58:06, 61.78s/it]\u001b[A\u001b[A\u001b[A\u001b[A\n",
      "\n",
      "\n",
      "\n",
      "  5%|▌         | 505/10000 [8:45:30<162:51:02, 61.74s/it]\u001b[A\u001b[A\u001b[A\u001b[A"
     ]
    },
    {
     "name": "stdout",
     "output_type": "stream",
     "text": [
      "predition [[10738  8492    36 ...,     0     0     0]\n",
      " [ 7949   899 10552 ...,     0     0     0]\n",
      " [17877     1     0 ...,     0     0     0]\n",
      " ..., \n",
      " [ 7949  8492  8492 ...,    36    36     1]\n",
      " [ 7949    36 10552 ...,     0     0     0]\n",
      " [ 7949  8492  8492 ..., 16139    36    36]]\n",
      "max 17914\n"
     ]
    },
    {
     "name": "stderr",
     "output_type": "stream",
     "text": [
      "\n",
      "\n",
      "\n",
      "\n",
      "  5%|▌         | 506/10000 [8:46:32<162:55:26, 61.78s/it]\u001b[A\u001b[A\u001b[A\u001b[A\n",
      "\n",
      "\n",
      "\n",
      "  5%|▌         | 507/10000 [8:47:34<163:05:44, 61.85s/it]\u001b[A\u001b[A\u001b[A\u001b[A"
     ]
    },
    {
     "name": "stdout",
     "output_type": "stream",
     "text": [
      "predition [[ 7949  8492 17914 ...,     0     0     0]\n",
      " [17877     1    36 ...,     0     0     0]\n",
      " [17496     1     1 ...,     0     0     0]\n",
      " ..., \n",
      " [ 7949  8492 10552 ...,     0     0     0]\n",
      " [ 7949  7949 10552 ...,     0     0     0]\n",
      " [17496     1     0 ...,     0     0     0]]\n",
      "max 17914\n"
     ]
    },
    {
     "name": "stderr",
     "output_type": "stream",
     "text": [
      "\n",
      "\n",
      "\n",
      "\n",
      "  5%|▌         | 508/10000 [8:48:35<163:04:08, 61.85s/it]\u001b[A\u001b[A\u001b[A\u001b[A\n",
      "\n",
      "\n",
      "\n",
      "  5%|▌         | 509/10000 [8:49:37<162:50:31, 61.77s/it]\u001b[A\u001b[A\u001b[A\u001b[A"
     ]
    },
    {
     "name": "stdout",
     "output_type": "stream",
     "text": [
      "predition [[17496  8492     0 ...,     0     0     0]\n",
      " [ 7949  7949 10552 ...,    36     1     1]\n",
      " [ 7949  7949    36 ...,     0     0     0]\n",
      " ..., \n",
      " [10738  8492  8492 ...,     0     0     0]\n",
      " [10738    36    36 ..., 15868    36     0]\n",
      " [ 7949  8492     1 ...,     0     0     0]]\n",
      "max 17914\n"
     ]
    },
    {
     "name": "stderr",
     "output_type": "stream",
     "text": [
      "\n",
      "\n",
      "\n",
      "\n",
      "  5%|▌         | 510/10000 [8:50:39<162:56:39, 61.81s/it]\u001b[A\u001b[A\u001b[A\u001b[A\n",
      "\n",
      "\n",
      "\n",
      "  5%|▌         | 511/10000 [8:51:40<162:44:43, 61.74s/it]\u001b[A\u001b[A\u001b[A\u001b[A"
     ]
    },
    {
     "name": "stdout",
     "output_type": "stream",
     "text": [
      "predition [[ 7949    36 10552 ...,    36    36    36]\n",
      " [10738     1     1 ...,     0     0     0]\n",
      " [17496     1     1 ...,     0     0     0]\n",
      " ..., \n",
      " [ 8509  8492  8492 ...,     0     0     0]\n",
      " [10738  8492 17914 ...,     0     0     0]\n",
      " [10738    36     1 ...,     0     0     0]]\n",
      "max 17914\n"
     ]
    },
    {
     "name": "stderr",
     "output_type": "stream",
     "text": [
      "\n",
      "\n",
      "\n",
      "\n",
      "  5%|▌         | 512/10000 [8:52:42<162:43:01, 61.74s/it]\u001b[A\u001b[A\u001b[A\u001b[A\n",
      "\n",
      "\n",
      "\n",
      "  5%|▌         | 513/10000 [8:53:44<162:40:05, 61.73s/it]\u001b[A\u001b[A\u001b[A\u001b[A"
     ]
    },
    {
     "name": "stdout",
     "output_type": "stream",
     "text": [
      "predition [[ 7949  8492  8492 ..., 16139    36    36]\n",
      " [ 7949     1     0 ...,     0     0     0]\n",
      " [10738  8492    36 ...,    36     1     0]\n",
      " ..., \n",
      " [ 7949  8492 10552 ...,     0     0     0]\n",
      " [ 7949     1 10552 ...,     0     0     0]\n",
      " [ 7949  8492  8492 ...,     1     0     0]]\n",
      "max 17914\n"
     ]
    },
    {
     "name": "stderr",
     "output_type": "stream",
     "text": [
      "\n",
      "\n",
      "\n",
      "\n",
      "  5%|▌         | 514/10000 [8:54:46<162:42:03, 61.75s/it]\u001b[A\u001b[A\u001b[A\u001b[A\n",
      "\n",
      "\n",
      "\n",
      "  5%|▌         | 515/10000 [8:55:47<162:33:36, 61.70s/it]\u001b[A\u001b[A\u001b[A\u001b[A"
     ]
    },
    {
     "name": "stdout",
     "output_type": "stream",
     "text": [
      "predition [[10738    36     1 ...,     0     0     0]\n",
      " [ 7949     1     0 ...,     0     0     0]\n",
      " [17496  8492    36 ...,     0     0     0]\n",
      " ..., \n",
      " [17496     1     1 ...,     0     0     0]\n",
      " [ 7949  7949 10552 ...,     0     0     0]\n",
      " [ 7949  8492     0 ...,     0     0     0]]\n",
      "max 17914\n"
     ]
    },
    {
     "name": "stderr",
     "output_type": "stream",
     "text": [
      "\n",
      "\n",
      "\n",
      "\n",
      "  5%|▌         | 516/10000 [8:56:49<162:43:55, 61.77s/it]\u001b[A\u001b[A\u001b[A\u001b[A"
     ]
    },
    {
     "name": "stdout",
     "output_type": "stream",
     "text": [
      "predition [[17877  7949  8492 ...,     0     0     0]\n",
      " [ 7949  7949 10552 ...,    36    36     1]\n",
      " [10738    36  8492 ...,     1     0     0]\n",
      " ..., \n",
      " [ 7949    36 10552 ...,     0     0     0]\n",
      " [ 7949  8492    36 ...,     0     0     0]\n",
      " [ 7949  8492     0 ...,     0     0     0]]\n",
      "max 17914\n"
     ]
    },
    {
     "name": "stderr",
     "output_type": "stream",
     "text": [
      "\n",
      "\n",
      "\n",
      "\n",
      "  5%|▌         | 517/10000 [8:57:51<162:46:45, 61.80s/it]\u001b[A\u001b[A\u001b[A\u001b[A\n",
      "\n",
      "\n",
      "\n",
      "  5%|▌         | 518/10000 [8:58:53<162:41:46, 61.77s/it]\u001b[A\u001b[A\u001b[A\u001b[A"
     ]
    },
    {
     "name": "stdout",
     "output_type": "stream",
     "text": [
      "predition [[10738  8492 17914 ...,     0     0     0]\n",
      " [ 7949  8492     1 ...,     0     0     0]\n",
      " [17496  8492    36 ...,     0     0     0]\n",
      " ..., \n",
      " [10738  8492  8492 ...,     0     0     0]\n",
      " [ 7949    36     0 ...,     0     0     0]\n",
      " [ 7949     1 10552 ...,     0     0     0]]\n",
      "max 17914\n"
     ]
    },
    {
     "name": "stderr",
     "output_type": "stream",
     "text": [
      "\n",
      "\n",
      "\n",
      "\n",
      "  5%|▌         | 519/10000 [8:59:55<162:41:40, 61.78s/it]\u001b[A\u001b[A\u001b[A\u001b[A\n",
      "\n",
      "\n",
      "\n",
      "  5%|▌         | 520/10000 [9:00:56<162:35:20, 61.74s/it]\u001b[A\u001b[A\u001b[A\u001b[A"
     ]
    },
    {
     "name": "stdout",
     "output_type": "stream",
     "text": [
      "predition [[ 7949  7949 10552 ...,    36    36     0]\n",
      " [17877    36     1 ...,     0     0     0]\n",
      " [10738    36    36 ...,     1     0     0]\n",
      " ..., \n",
      " [10738     1     0 ...,     0     0     0]\n",
      " [ 7949  8492 10552 ...,     0     0     0]\n",
      " [ 7949     1     0 ...,     0     0     0]]\n",
      "max 17914\n"
     ]
    },
    {
     "name": "stderr",
     "output_type": "stream",
     "text": [
      "\n",
      "\n",
      "\n",
      "\n",
      "  5%|▌         | 521/10000 [9:01:58<162:35:53, 61.75s/it]\u001b[A\u001b[A\u001b[A\u001b[A\n",
      "\n",
      "\n",
      "\n",
      "  5%|▌         | 522/10000 [9:03:00<162:29:15, 61.72s/it]\u001b[A\u001b[A\u001b[A\u001b[A"
     ]
    },
    {
     "name": "stdout",
     "output_type": "stream",
     "text": [
      "predition [[17496  8492  8492 ...,     0     0     0]\n",
      " [17395  8492 10552 ..., 15868 15868 15868]\n",
      " [17914 17914 17914 ...,     0     0     0]\n",
      " ..., \n",
      " [ 7949  7949 10552 ...,  7949    36    36]\n",
      " [ 7949     1 10552 ...,     0     0     0]\n",
      " [17395  8492 10552 ...,     0     0     0]]\n",
      "max 17914\n"
     ]
    },
    {
     "name": "stderr",
     "output_type": "stream",
     "text": [
      "\n",
      "\n",
      "\n",
      "\n",
      "  5%|▌         | 523/10000 [9:04:02<162:35:30, 61.76s/it]\u001b[A\u001b[A\u001b[A\u001b[A\n",
      "\n",
      "\n",
      "\n",
      "  5%|▌         | 524/10000 [9:05:03<162:36:19, 61.77s/it]\u001b[A\u001b[A\u001b[A\u001b[A"
     ]
    },
    {
     "name": "stdout",
     "output_type": "stream",
     "text": [
      "predition [[ 7949  7949    36 ...,    36    36    36]\n",
      " [17914 17914 17914 ...,     0     0     0]\n",
      " [17914  8492  8492 ...,     0     0     0]\n",
      " ..., \n",
      " [ 7949  7949    36 ...,    36    36     0]\n",
      " [10738    36  8492 ...,    36    36    36]\n",
      " [10738  8492 17914 ...,     0     0     0]]\n",
      "max 17914\n"
     ]
    },
    {
     "name": "stderr",
     "output_type": "stream",
     "text": [
      "\n",
      "\n",
      "\n",
      "\n",
      "  5%|▌         | 525/10000 [9:06:05<162:41:27, 61.81s/it]\u001b[A\u001b[A\u001b[A\u001b[A\n",
      "\n",
      "\n",
      "\n",
      "  5%|▌         | 526/10000 [9:07:07<162:45:03, 61.84s/it]\u001b[A\u001b[A\u001b[A\u001b[A"
     ]
    },
    {
     "name": "stdout",
     "output_type": "stream",
     "text": [
      "predition [[ 7949  8492     1 ...,     0     0     0]\n",
      " [ 7949    36    36 ...,     0     0     0]\n",
      " [17496     1     0 ...,     0     0     0]\n",
      " ..., \n",
      " [17914 17914     1 ...,     0     0     0]\n",
      " [ 7949  8492 17914 ...,     0     0     0]\n",
      " [17914     1     0 ...,     0     0     0]]\n",
      "max 17914\n"
     ]
    },
    {
     "name": "stderr",
     "output_type": "stream",
     "text": [
      "\n",
      "\n",
      "\n",
      "\n",
      "  5%|▌         | 527/10000 [9:08:09<162:44:38, 61.85s/it]\u001b[A\u001b[A\u001b[A\u001b[A\n",
      "\n",
      "\n",
      "\n",
      "  5%|▌         | 528/10000 [9:09:11<162:40:41, 61.83s/it]\u001b[A\u001b[A\u001b[A\u001b[A"
     ]
    },
    {
     "name": "stdout",
     "output_type": "stream",
     "text": [
      "predition [[ 7949  8492 10552 ...,     0     0     0]\n",
      " [ 7949     1     0 ...,     0     0     0]\n",
      " [ 7949  8492 10552 ...,     0     0     0]\n",
      " ..., \n",
      " [ 7949  8492     1 ...,     0     0     0]\n",
      " [17461  8492 10552 ...,    36    36    36]\n",
      " [17914  8492     1 ...,     0     0     0]]\n",
      "max 17914\n"
     ]
    },
    {
     "name": "stderr",
     "output_type": "stream",
     "text": [
      "\n",
      "\n",
      "\n",
      "\n",
      "  5%|▌         | 529/10000 [9:10:13<162:46:13, 61.87s/it]\u001b[A\u001b[A\u001b[A\u001b[A"
     ]
    },
    {
     "name": "stdout",
     "output_type": "stream",
     "text": [
      "predition [[10738    36     1 ...,     0     0     0]\n",
      " [10738    36 17914 ...,     0     0     0]\n",
      " [17877     1     1 ...,     0     0     0]\n",
      " ..., \n",
      " [ 7949  8492 10552 ...,     0     0     0]\n",
      " [10738     1     1 ...,     0     0     0]\n",
      " [ 7949  7949  7949 ..., 17914    36    36]]\n",
      "max 17914\n"
     ]
    },
    {
     "name": "stderr",
     "output_type": "stream",
     "text": [
      "\n",
      "\n",
      "\n",
      "\n",
      "  5%|▌         | 530/10000 [9:11:15<162:49:02, 61.89s/it]\u001b[A\u001b[A\u001b[A\u001b[A\n",
      "\n",
      "\n",
      "\n",
      "  5%|▌         | 531/10000 [9:12:16<162:39:14, 61.84s/it]\u001b[A\u001b[A\u001b[A\u001b[A"
     ]
    },
    {
     "name": "stdout",
     "output_type": "stream",
     "text": [
      "predition [[17496    36     1 ...,     0     0     0]\n",
      " [ 7949  7949     1 ...,     0     0     0]\n",
      " [ 7949     1     0 ...,     0     0     0]\n",
      " ..., \n",
      " [ 7949  8492  8492 ...,  8492    36    36]\n",
      " [10738  8492 10552 ...,     1     0     0]\n",
      " [10738  8492 17914 ...,     0     0     0]]\n",
      "max 17914\n"
     ]
    },
    {
     "name": "stderr",
     "output_type": "stream",
     "text": [
      "\n",
      "\n",
      "\n",
      "\n",
      "  5%|▌         | 532/10000 [9:13:18<162:43:21, 61.87s/it]\u001b[A\u001b[A\u001b[A\u001b[A\n",
      "\n",
      "\n",
      "\n",
      "  5%|▌         | 533/10000 [9:14:20<162:31:43, 61.80s/it]\u001b[A\u001b[A\u001b[A\u001b[A"
     ]
    },
    {
     "name": "stdout",
     "output_type": "stream",
     "text": [
      "predition [[ 7949  8492 10552 ...,     0     0     0]\n",
      " [ 7949  8492  8492 ..., 16139    36    36]\n",
      " [ 7949  8492 10552 ...,     1     0     0]\n",
      " ..., \n",
      " [ 7949  8492  8492 ...,     0     0     0]\n",
      " [10738  8492    36 ...,    36 15868 15868]\n",
      " [17496  8492  8492 ..., 16139 17914    36]]\n",
      "max 17914\n"
     ]
    },
    {
     "name": "stderr",
     "output_type": "stream",
     "text": [
      "\n",
      "\n",
      "\n",
      "\n",
      "  5%|▌         | 534/10000 [9:15:22<162:37:51, 61.85s/it]\u001b[A\u001b[A\u001b[A\u001b[A\n",
      "\n",
      "\n",
      "\n",
      "  5%|▌         | 535/10000 [9:16:24<162:38:54, 61.86s/it]\u001b[A\u001b[A\u001b[A\u001b[A"
     ]
    },
    {
     "name": "stdout",
     "output_type": "stream",
     "text": [
      "predition [[17496     1     1 ...,     0     0     0]\n",
      " [ 7949  7949 10552 ...,     0     0     0]\n",
      " [ 7949  8492 10552 ...,     0     0     0]\n",
      " ..., \n",
      " [ 7949  8492     1 ...,     0     0     0]\n",
      " [17496     1     0 ...,     0     0     0]\n",
      " [17877    36    36 ...,     0     0     0]]\n",
      "max 17914\n"
     ]
    },
    {
     "name": "stderr",
     "output_type": "stream",
     "text": [
      "\n",
      "\n",
      "\n",
      "\n",
      "  5%|▌         | 536/10000 [9:17:26<162:43:59, 61.90s/it]\u001b[A\u001b[A\u001b[A\u001b[A\n",
      "\n",
      "\n",
      "\n",
      "  5%|▌         | 537/10000 [9:18:28<162:37:22, 61.87s/it]\u001b[A\u001b[A\u001b[A\u001b[A"
     ]
    },
    {
     "name": "stdout",
     "output_type": "stream",
     "text": [
      "predition [[ 7949     1     0 ...,     0     0     0]\n",
      " [ 7949  8492  8492 ...,     0     0     0]\n",
      " [17496     1     1 ...,     0     0     0]\n",
      " ..., \n",
      " [17914 17914  8492 ...,    36    36     1]\n",
      " [ 7949  7949     0 ...,     0     0     0]\n",
      " [ 7949    36    36 ...,     0     0     0]]\n",
      "max 17914\n"
     ]
    },
    {
     "name": "stderr",
     "output_type": "stream",
     "text": [
      "\n",
      "\n",
      "\n",
      "\n",
      "  5%|▌         | 538/10000 [9:19:30<162:42:00, 61.90s/it]\u001b[A\u001b[A\u001b[A\u001b[A\n",
      "\n",
      "\n",
      "\n",
      "  5%|▌         | 539/10000 [9:20:32<162:41:14, 61.90s/it]\u001b[A\u001b[A\u001b[A\u001b[A"
     ]
    },
    {
     "name": "stdout",
     "output_type": "stream",
     "text": [
      "predition [[17914 17914    36 ...,     0     0     0]\n",
      " [10738     1     1 ...,     0     0     0]\n",
      " [ 7949  7949 10552 ..., 15868  8492    36]\n",
      " ..., \n",
      " [ 7949  8492  8492 ...,     0     0     0]\n",
      " [ 7949  7949  8492 ...,     1     0     0]\n",
      " [10738  8492  8492 ...,  8492    36    36]]\n",
      "max 17914\n"
     ]
    },
    {
     "name": "stderr",
     "output_type": "stream",
     "text": [
      "\n",
      "\n",
      "\n",
      "\n",
      "  5%|▌         | 540/10000 [9:21:34<162:45:32, 61.94s/it]\u001b[A\u001b[A\u001b[A\u001b[A\n",
      "\n",
      "\n",
      "\n",
      "  5%|▌         | 541/10000 [9:22:35<162:35:39, 61.88s/it]\u001b[A\u001b[A\u001b[A\u001b[A"
     ]
    },
    {
     "name": "stdout",
     "output_type": "stream",
     "text": [
      "predition [[10738  8492  8492 ...,     0     0     0]\n",
      " [10738  7949 10552 ...,    36     0     0]\n",
      " [ 7949  8492 17914 ...,     0     0     0]\n",
      " ..., \n",
      " [ 7949  7949 17914 ...,     0     0     0]\n",
      " [10738  8492  8492 ...,     0     0     0]\n",
      " [ 7949  7949 10552 ...,     0     0     0]]\n",
      "max 17914\n"
     ]
    },
    {
     "name": "stderr",
     "output_type": "stream",
     "text": [
      "\n",
      "\n",
      "\n",
      "\n",
      "  5%|▌         | 542/10000 [9:23:37<162:41:25, 61.92s/it]\u001b[A\u001b[A\u001b[A\u001b[A\n",
      "\n",
      "\n",
      "\n",
      "  5%|▌         | 543/10000 [9:24:39<162:33:29, 61.88s/it]\u001b[A\u001b[A\u001b[A\u001b[A"
     ]
    },
    {
     "name": "stdout",
     "output_type": "stream",
     "text": [
      "predition [[10738  8492     1 ...,     0     0     0]\n",
      " [17877  8492 17914 ...,     0     0     0]\n",
      " [17914 17914 10552 ...,     0     0     0]\n",
      " ..., \n",
      " [17496     1     0 ...,     0     0     0]\n",
      " [10738  8492     1 ...,     0     0     0]\n",
      " [ 7949    36    36 ...,    36     1     1]]\n",
      "max 17914\n"
     ]
    },
    {
     "name": "stderr",
     "output_type": "stream",
     "text": [
      "\n",
      "\n",
      "\n",
      "\n",
      "  5%|▌         | 544/10000 [9:25:41<162:37:11, 61.91s/it]\u001b[A\u001b[A\u001b[A\u001b[A"
     ]
    },
    {
     "name": "stdout",
     "output_type": "stream",
     "text": [
      "predition [[ 7949  7949  7949 ..., 16139    36    36]\n",
      " [ 7949  7949     1 ...,     0     0     0]\n",
      " [10738  8492    36 ...,     0     0     0]\n",
      " ..., \n",
      " [ 7949  8492 10552 ..., 15868    36    36]\n",
      " [17496  8492    36 ...,     0     0     0]\n",
      " [10738     1     0 ...,     0     0     0]]\n",
      "max 17914\n"
     ]
    },
    {
     "name": "stderr",
     "output_type": "stream",
     "text": [
      "\n",
      "\n",
      "\n",
      "\n",
      "  5%|▌         | 545/10000 [9:26:43<162:40:19, 61.94s/it]\u001b[A\u001b[A\u001b[A\u001b[A\n",
      "\n",
      "\n",
      "\n",
      "  5%|▌         | 546/10000 [9:27:45<162:32:12, 61.89s/it]\u001b[A\u001b[A\u001b[A\u001b[A"
     ]
    },
    {
     "name": "stdout",
     "output_type": "stream",
     "text": [
      "predition [[   36     1     0 ...,     0     0     0]\n",
      " [ 7949  7949 10552 ...,    36    36    36]\n",
      " [17496    36    36 ...,     0     0     0]\n",
      " ..., \n",
      " [ 7949  8492     1 ...,     0     0     0]\n",
      " [10738     1     1 ...,     0     0     0]\n",
      " [10738  8492     0 ...,     0     0     0]]\n",
      "max 17914\n"
     ]
    },
    {
     "name": "stderr",
     "output_type": "stream",
     "text": [
      "\n",
      "\n",
      "\n",
      "\n",
      "  5%|▌         | 547/10000 [9:28:47<162:37:17, 61.93s/it]\u001b[A\u001b[A\u001b[A\u001b[A\n",
      "\n",
      "\n",
      "\n",
      "  5%|▌         | 548/10000 [9:29:49<162:34:35, 61.92s/it]\u001b[A\u001b[A\u001b[A\u001b[A"
     ]
    },
    {
     "name": "stdout",
     "output_type": "stream",
     "text": [
      "predition [[10738  8492    36 ...,     0     0     0]\n",
      " [17496    36    36 ...,     0     0     0]\n",
      " [ 7949  8492     1 ...,     0     0     0]\n",
      " ..., \n",
      " [ 7949   899     0 ...,     0     0     0]\n",
      " [ 7949  7949 17914 ...,     0     0     0]\n",
      " [10738  8492 17914 ..., 16139    36    36]]\n",
      "max 17914\n"
     ]
    },
    {
     "name": "stderr",
     "output_type": "stream",
     "text": [
      "\n",
      "\n",
      "\n",
      "\n",
      "  5%|▌         | 549/10000 [9:30:51<162:30:15, 61.90s/it]\u001b[A\u001b[A\u001b[A\u001b[A\n",
      "\n",
      "\n",
      "\n",
      "  6%|▌         | 550/10000 [9:31:52<162:24:52, 61.87s/it]\u001b[A\u001b[A\u001b[A\u001b[A"
     ]
    },
    {
     "name": "stdout",
     "output_type": "stream",
     "text": [
      "predition [[17496  8492    36 ...,     0     0     0]\n",
      " [10738    36     1 ...,     0     0     0]\n",
      " [ 7949  8492 10552 ...,     1     0     0]\n",
      " ..., \n",
      " [ 7949  7949 17914 ...,     0     0     0]\n",
      " [10738    36     1 ...,     0     0     0]\n",
      " [   36     1     0 ...,     0     0     0]]\n",
      "max 17914\n"
     ]
    },
    {
     "name": "stderr",
     "output_type": "stream",
     "text": [
      "\n",
      "\n",
      "\n",
      "\n",
      "  6%|▌         | 551/10000 [9:32:54<162:30:55, 61.92s/it]\u001b[A\u001b[A\u001b[A\u001b[A\n",
      "\n",
      "\n",
      "\n",
      "  6%|▌         | 552/10000 [9:33:56<162:30:06, 61.92s/it]\u001b[A\u001b[A\u001b[A\u001b[A"
     ]
    },
    {
     "name": "stdout",
     "output_type": "stream",
     "text": [
      "predition [[10738  8492     1 ...,     0     0     0]\n",
      " [10738  8492     0 ...,     0     0     0]\n",
      " [ 7949     1     0 ...,     0     0     0]\n",
      " ..., \n",
      " [ 7949  8492 10552 ...,    36    36    36]\n",
      " [10738     1     1 ...,     0     0     0]\n",
      " [10738    36     1 ...,     0     0     0]]\n",
      "max 17914\n"
     ]
    },
    {
     "name": "stderr",
     "output_type": "stream",
     "text": [
      "\n",
      "\n",
      "\n",
      "\n",
      "  6%|▌         | 553/10000 [9:34:58<162:30:50, 61.93s/it]\u001b[A\u001b[A\u001b[A\u001b[A\n",
      "\n",
      "\n",
      "\n",
      "  6%|▌         | 554/10000 [9:36:00<162:25:16, 61.90s/it]\u001b[A\u001b[A\u001b[A\u001b[A"
     ]
    },
    {
     "name": "stdout",
     "output_type": "stream",
     "text": [
      "predition [[ 7949  8492 10552 ...,     0     0     0]\n",
      " [17496     1     0 ...,     0     0     0]\n",
      " [ 7949     1     0 ...,     0     0     0]\n",
      " ..., \n",
      " [ 7949  8492    36 ...,     0     0     0]\n",
      " [ 7949     1     0 ...,     0     0     0]\n",
      " [ 7949  7949 10552 ...,     1     0     0]]\n",
      "max 17914\n"
     ]
    },
    {
     "name": "stderr",
     "output_type": "stream",
     "text": [
      "\n",
      "\n",
      "\n",
      "\n",
      "  6%|▌         | 555/10000 [9:37:02<162:26:26, 61.91s/it]\u001b[A\u001b[A\u001b[A\u001b[A\n",
      "\n",
      "\n",
      "\n",
      "  6%|▌         | 556/10000 [9:38:04<162:18:18, 61.87s/it]\u001b[A\u001b[A\u001b[A\u001b[A"
     ]
    },
    {
     "name": "stdout",
     "output_type": "stream",
     "text": [
      "predition [[ 7949  7949 10552 ...,     0     0     0]\n",
      " [10738  8492  8492 ...,     0     0     0]\n",
      " [17496     1     0 ...,     0     0     0]\n",
      " ..., \n",
      " [ 7949  7949 10552 ...,     0     0     0]\n",
      " [ 7949     1     0 ...,     0     0     0]\n",
      " [ 7949  7949     0 ...,     0     0     0]]\n",
      "max 17914\n"
     ]
    },
    {
     "name": "stderr",
     "output_type": "stream",
     "text": [
      "\n",
      "\n",
      "\n",
      "\n",
      "  6%|▌         | 557/10000 [9:39:06<162:31:44, 61.96s/it]\u001b[A\u001b[A\u001b[A\u001b[A"
     ]
    },
    {
     "name": "stdout",
     "output_type": "stream",
     "text": [
      "predition [[10738    36     1 ...,     0     0     0]\n",
      " [ 7949  8492     1 ...,     0     0     0]\n",
      " [17914  8492    36 ...,     0     0     0]\n",
      " ..., \n",
      " [ 7949    36  8492 ...,     0     0     0]\n",
      " [ 7949  7949  7949 ...,  7949  7949 15868]\n",
      " [ 7949     1     0 ...,     0     0     0]]\n",
      "max 17914\n"
     ]
    },
    {
     "name": "stderr",
     "output_type": "stream",
     "text": [
      "\n",
      "\n",
      "\n",
      "\n",
      "  6%|▌         | 558/10000 [9:40:08<162:30:35, 61.96s/it]\u001b[A\u001b[A\u001b[A\u001b[A\n",
      "\n",
      "\n",
      "\n",
      "  6%|▌         | 559/10000 [9:41:10<162:24:48, 61.93s/it]\u001b[A\u001b[A\u001b[A\u001b[A"
     ]
    },
    {
     "name": "stdout",
     "output_type": "stream",
     "text": [
      "predition [[ 7949  8492  8492 ...,    36    36     1]\n",
      " [10738    36    36 ...,     0     0     0]\n",
      " [   36     1     0 ...,     0     0     0]\n",
      " ..., \n",
      " [ 7949    36 10552 ...,     0     0     0]\n",
      " [10738  8492  8492 ...,     0     0     0]\n",
      " [17496    36     0 ...,     0     0     0]]\n",
      "max 17914\n"
     ]
    },
    {
     "name": "stderr",
     "output_type": "stream",
     "text": [
      "\n",
      "\n",
      "\n",
      "\n",
      "  6%|▌         | 560/10000 [9:42:12<162:31:45, 61.98s/it]\u001b[A\u001b[A\u001b[A\u001b[A\n",
      "\n",
      "\n",
      "\n",
      "  6%|▌         | 561/10000 [9:43:14<162:19:25, 61.91s/it]\u001b[A\u001b[A\u001b[A\u001b[A"
     ]
    },
    {
     "name": "stdout",
     "output_type": "stream",
     "text": [
      "predition [[ 7949     1 17914 ...,     0     0     0]\n",
      " [ 7949     1     0 ...,     0     0     0]\n",
      " [10738  8492 17914 ...,     0     0     0]\n",
      " ..., \n",
      " [10738    36     1 ...,     0     0     0]\n",
      " [ 7949  7949  7949 ..., 16139  8492  8492]\n",
      " [ 7949    36    36 ...,     0     0     0]]\n",
      "max 17914\n"
     ]
    },
    {
     "name": "stderr",
     "output_type": "stream",
     "text": [
      "\n",
      "\n",
      "\n",
      "\n",
      "  6%|▌         | 562/10000 [9:44:16<162:22:01, 61.93s/it]\u001b[A\u001b[A\u001b[A\u001b[A\n",
      "\n",
      "\n",
      "\n",
      "  6%|▌         | 563/10000 [9:45:18<162:16:33, 61.90s/it]\u001b[A\u001b[A\u001b[A\u001b[A"
     ]
    },
    {
     "name": "stdout",
     "output_type": "stream",
     "text": [
      "predition [[10738    36     1 ...,     0     0     0]\n",
      " [ 7949     1     0 ...,     0     0     0]\n",
      " [17496  8492  8492 ...,     0     0     0]\n",
      " ..., \n",
      " [ 7949   899     0 ...,     0     0     0]\n",
      " [ 7949  7949 10552 ...,     0     0     0]\n",
      " [ 7949  8492 10552 ...,     0     0     0]]\n",
      "max 17914\n"
     ]
    },
    {
     "name": "stderr",
     "output_type": "stream",
     "text": [
      "\n",
      "\n",
      "\n",
      "\n",
      "  6%|▌         | 564/10000 [9:46:19<162:10:06, 61.87s/it]\u001b[A\u001b[A\u001b[A\u001b[A\n",
      "\n",
      "\n",
      "\n",
      "  6%|▌         | 565/10000 [9:47:21<162:11:15, 61.88s/it]\u001b[A\u001b[A\u001b[A\u001b[A"
     ]
    },
    {
     "name": "stdout",
     "output_type": "stream",
     "text": [
      "predition [[ 7949  7949  8492 ...,  7949 16139    36]\n",
      " [ 7949  7949 10552 ...,     0     0     0]\n",
      " [ 7949  7949     0 ...,     0     0     0]\n",
      " ..., \n",
      " [10738  8492 17914 ...,     0     0     0]\n",
      " [ 7949  8492 10552 ..., 15868    36    36]\n",
      " [17496     1     0 ...,     0     0     0]]\n",
      "max 17914\n"
     ]
    },
    {
     "name": "stderr",
     "output_type": "stream",
     "text": [
      "\n",
      "\n",
      "\n",
      "\n",
      "  6%|▌         | 566/10000 [9:48:23<162:16:57, 61.93s/it]\u001b[A\u001b[A\u001b[A\u001b[A\n",
      "\n",
      "\n",
      "\n",
      "  6%|▌         | 567/10000 [9:49:25<162:14:51, 61.92s/it]\u001b[A\u001b[A\u001b[A\u001b[A"
     ]
    },
    {
     "name": "stdout",
     "output_type": "stream",
     "text": [
      "predition [[10738  8492     1 ...,     0     0     0]\n",
      " [10738  8492  8492 ...,     0     0     0]\n",
      " [ 7949  8492     1 ...,     0     0     0]\n",
      " ..., \n",
      " [ 7949  8492  8492 ...,    36     1     0]\n",
      " [ 7949  8492     1 ...,     0     0     0]\n",
      " [10738  8492 10552 ...,     0     0     0]]\n",
      "max 17914\n"
     ]
    },
    {
     "name": "stderr",
     "output_type": "stream",
     "text": [
      "\n",
      "\n",
      "\n",
      "\n",
      "  6%|▌         | 568/10000 [9:50:27<162:16:37, 61.94s/it]\u001b[A\u001b[A\u001b[A\u001b[A\n",
      "\n",
      "\n",
      "\n",
      "  6%|▌         | 569/10000 [9:51:29<162:13:50, 61.93s/it]\u001b[A\u001b[A\u001b[A\u001b[A"
     ]
    },
    {
     "name": "stdout",
     "output_type": "stream",
     "text": [
      "predition [[ 7949    36     1 ...,     0     0     0]\n",
      " [ 7949  7949 10552 ...,    36    36     1]\n",
      " [ 7949  8492 10552 ...,     0     0     0]\n",
      " ..., \n",
      " [ 7949  8492     1 ...,     0     0     0]\n",
      " [ 7949  7949 10552 ..., 15868    36    36]\n",
      " [17914 17914 10552 ...,     0     0     0]]\n",
      "max 17914\n"
     ]
    },
    {
     "name": "stderr",
     "output_type": "stream",
     "text": [
      "\n",
      "\n",
      "\n",
      "\n",
      "  6%|▌         | 570/10000 [9:52:31<162:15:35, 61.94s/it]\u001b[A\u001b[A\u001b[A\u001b[A"
     ]
    },
    {
     "name": "stdout",
     "output_type": "stream",
     "text": [
      "predition [[17496     1     0 ...,     0     0     0]\n",
      " [17914 17914 10552 ...,     0     0     0]\n",
      " [17496  8492 17914 ...,     0     0     0]\n",
      " ..., \n",
      " [ 7949   899 10552 ...,     0     0     0]\n",
      " [ 7949  8492 17914 ...,     0     0     0]\n",
      " [ 7949    36    36 ...,     0     0     0]]\n",
      "max 17914\n"
     ]
    },
    {
     "name": "stderr",
     "output_type": "stream",
     "text": [
      "\n",
      "\n",
      "\n",
      "\n",
      "  6%|▌         | 571/10000 [9:53:33<162:19:02, 61.97s/it]\u001b[A\u001b[A\u001b[A\u001b[A\n",
      "\n",
      "\n",
      "\n",
      "  6%|▌         | 572/10000 [9:54:35<162:19:53, 61.98s/it]\u001b[A\u001b[A\u001b[A\u001b[A"
     ]
    },
    {
     "name": "stdout",
     "output_type": "stream",
     "text": [
      "predition [[   36     1     0 ...,     0     0     0]\n",
      " [10738    36    36 ...,     0     0     0]\n",
      " [ 7949     1     0 ...,     0     0     0]\n",
      " ..., \n",
      " [ 7949  8492     1 ...,     0     0     0]\n",
      " [10738  8492 17914 ...,     0     0     0]\n",
      " [17496  8492    36 ...,     0     0     0]]\n",
      "max 17914\n"
     ]
    },
    {
     "name": "stderr",
     "output_type": "stream",
     "text": [
      "\n",
      "\n",
      "\n",
      "\n",
      "  6%|▌         | 573/10000 [9:55:37<162:21:06, 62.00s/it]\u001b[A\u001b[A\u001b[A\u001b[A\n",
      "\n",
      "\n",
      "\n",
      "  6%|▌         | 574/10000 [9:56:39<162:11:41, 61.95s/it]\u001b[A\u001b[A\u001b[A\u001b[A"
     ]
    },
    {
     "name": "stdout",
     "output_type": "stream",
     "text": [
      "predition [[10738  8492 10552 ...,     1     0     0]\n",
      " [ 7949  8492     1 ...,     0     0     0]\n",
      " [ 7949  8492    36 ...,     0     0     0]\n",
      " ..., \n",
      " [17496     1     1 ...,     0     0     0]\n",
      " [ 7949  8492 10552 ...,     0     0     0]\n",
      " [ 7949  8492     1 ...,     0     0     0]]\n",
      "max 17914\n"
     ]
    },
    {
     "name": "stderr",
     "output_type": "stream",
     "text": [
      "\n",
      "\n",
      "\n",
      "\n",
      "  6%|▌         | 575/10000 [9:57:41<162:13:48, 61.97s/it]\u001b[A\u001b[A\u001b[A\u001b[A\n",
      "\n",
      "\n",
      "\n",
      "  6%|▌         | 576/10000 [9:58:43<162:04:19, 61.91s/it]\u001b[A\u001b[A\u001b[A\u001b[A"
     ]
    },
    {
     "name": "stdout",
     "output_type": "stream",
     "text": [
      "predition [[ 7949  8492  8492 ...,     0     0     0]\n",
      " [10738  8492  8492 ...,    36    36     1]\n",
      " [17496  8492 17914 ...,     0     0     0]\n",
      " ..., \n",
      " [ 7949  8492  8492 ...,     0     0     0]\n",
      " [   36    36    36 ...,     0     0     0]\n",
      " [10738  8492     1 ...,     0     0     0]]\n",
      "max 17914\n"
     ]
    },
    {
     "name": "stderr",
     "output_type": "stream",
     "text": [
      "\n",
      "\n",
      "\n",
      "\n",
      "  6%|▌         | 577/10000 [9:59:45<162:06:49, 61.93s/it]\u001b[A\u001b[A\u001b[A\u001b[A\n",
      "\n",
      "\n",
      "\n",
      "  6%|▌         | 578/10000 [10:00:47<162:08:20, 61.95s/it]\u001b[A\u001b[A\u001b[A\u001b[A"
     ]
    },
    {
     "name": "stdout",
     "output_type": "stream",
     "text": [
      "predition [[17496  8492    36 ...,     0     0     0]\n",
      " [10738  8492  8492 ...,     0     0     0]\n",
      " [ 7949  8492 10552 ...,    36    36     0]\n",
      " ..., \n",
      " [ 7949  8492 10552 ...,    36     0     0]\n",
      " [17914 17914  8492 ...,    36    36    36]\n",
      " [ 7949    36  8492 ...,     0     0     0]]\n",
      "max 17914\n"
     ]
    },
    {
     "name": "stderr",
     "output_type": "stream",
     "text": [
      "\n",
      "\n",
      "\n",
      "\n",
      "  6%|▌         | 579/10000 [10:01:49<162:06:41, 61.95s/it]\u001b[A\u001b[A\u001b[A\u001b[A\n",
      "\n",
      "\n",
      "\n",
      "  6%|▌         | 580/10000 [10:02:51<162:03:19, 61.93s/it]\u001b[A\u001b[A\u001b[A\u001b[A"
     ]
    },
    {
     "name": "stdout",
     "output_type": "stream",
     "text": [
      "predition [[ 7949 17914  8492 ...,     1     0     0]\n",
      " [ 7949    36     1 ...,     0     0     0]\n",
      " [10738  8492    36 ...,     0     0     0]\n",
      " ..., \n",
      " [17496     1     0 ...,     0     0     0]\n",
      " [10738     1     1 ...,     0     0     0]\n",
      " [ 7949  8492    36 ...,     0     0     0]]\n",
      "max 17914\n"
     ]
    },
    {
     "name": "stderr",
     "output_type": "stream",
     "text": [
      "\n",
      "\n",
      "\n",
      "\n",
      "  6%|▌         | 581/10000 [10:03:53<162:05:25, 61.95s/it]\u001b[A\u001b[A\u001b[A\u001b[A\n",
      "\n",
      "\n",
      "\n",
      "  6%|▌         | 582/10000 [10:04:54<161:58:14, 61.91s/it]\u001b[A\u001b[A\u001b[A\u001b[A"
     ]
    },
    {
     "name": "stdout",
     "output_type": "stream",
     "text": [
      "predition [[17496     1     0 ...,     0     0     0]\n",
      " [17496    36    36 ...,     0     0     0]\n",
      " [ 7949  8492 10552 ...,     0     0     0]\n",
      " ..., \n",
      " [17877  8492    36 ...,     0     0     0]\n",
      " [17496    36     1 ...,     0     0     0]\n",
      " [ 7949    36 10552 ...,     0     0     0]]\n",
      "max 17914\n"
     ]
    },
    {
     "name": "stderr",
     "output_type": "stream",
     "text": [
      "\n",
      "\n",
      "\n",
      "\n",
      "  6%|▌         | 583/10000 [10:05:57<162:06:38, 61.97s/it]\u001b[A\u001b[A\u001b[A\u001b[A"
     ]
    },
    {
     "name": "stdout",
     "output_type": "stream",
     "text": [
      "predition [[ 7949  7949 10552 ...,     0     0     0]\n",
      " [10738  8492     1 ...,     0     0     0]\n",
      " [ 7949   899 10552 ...,     0     0     0]\n",
      " ..., \n",
      " [17496     1    36 ...,     0     0     0]\n",
      " [ 7949  8492     1 ...,     0     0     0]\n",
      " [10738    36     1 ...,     0     0     0]]\n",
      "max 17914\n"
     ]
    },
    {
     "name": "stderr",
     "output_type": "stream",
     "text": [
      "\n",
      "\n",
      "\n",
      "\n",
      "  6%|▌         | 584/10000 [10:06:58<162:06:31, 61.98s/it]\u001b[A\u001b[A\u001b[A\u001b[A\n",
      "\n",
      "\n",
      "\n",
      "  6%|▌         | 585/10000 [10:08:00<162:01:00, 61.95s/it]\u001b[A\u001b[A\u001b[A\u001b[A"
     ]
    },
    {
     "name": "stdout",
     "output_type": "stream",
     "text": [
      "predition [[17877    36    36 ...,     0     0     0]\n",
      " [ 7949  8492 10552 ...,     0     0     0]\n",
      " [ 7949  8492 10552 ...,     0     0     0]\n",
      " ..., \n",
      " [10738  8492     1 ...,     0     0     0]\n",
      " [ 7949  8492 10552 ...,    36    36    36]\n",
      " [ 7949  8492     1 ...,     0     0     0]]\n",
      "max 17914\n"
     ]
    },
    {
     "name": "stderr",
     "output_type": "stream",
     "text": [
      "\n",
      "\n",
      "\n",
      "\n",
      "  6%|▌         | 586/10000 [10:09:02<162:02:15, 61.96s/it]\u001b[A\u001b[A\u001b[A\u001b[A\n",
      "\n",
      "\n",
      "\n",
      "  6%|▌         | 587/10000 [10:10:04<161:56:30, 61.93s/it]\u001b[A\u001b[A\u001b[A\u001b[A"
     ]
    },
    {
     "name": "stdout",
     "output_type": "stream",
     "text": [
      "predition [[ 7949     1     1 ...,     0     0     0]\n",
      " [ 7949  8492 10552 ...,     0     0     0]\n",
      " [ 7562     1     1 ...,     0     0     0]\n",
      " ..., \n",
      " [10738  8492 17914 ...,    36     1     0]\n",
      " [ 7949     1     0 ...,     0     0     0]\n",
      " [10738  8492  8492 ...,     0     0     0]]\n",
      "max 17914\n"
     ]
    },
    {
     "name": "stderr",
     "output_type": "stream",
     "text": [
      "\n",
      "\n",
      "\n",
      "\n",
      "  6%|▌         | 588/10000 [10:11:06<161:58:22, 61.95s/it]\u001b[A\u001b[A\u001b[A\u001b[A\n",
      "\n",
      "\n",
      "\n",
      "  6%|▌         | 589/10000 [10:12:08<161:49:10, 61.90s/it]\u001b[A\u001b[A\u001b[A\u001b[A"
     ]
    },
    {
     "name": "stdout",
     "output_type": "stream",
     "text": [
      "predition [[ 7949  8492 10552 ...,    36    36    36]\n",
      " [17914  8492 17914 ...,     0     0     0]\n",
      " [10738  8492  8492 ...,     0     0     0]\n",
      " ..., \n",
      " [17496     1     0 ...,     0     0     0]\n",
      " [ 7949    36    36 ...,     0     0     0]\n",
      " [ 7949  8492     1 ...,     0     0     0]]\n",
      "max 17914\n"
     ]
    },
    {
     "name": "stderr",
     "output_type": "stream",
     "text": [
      "\n",
      "\n",
      "\n",
      "\n",
      "  6%|▌         | 590/10000 [10:13:10<161:56:32, 61.95s/it]\u001b[A\u001b[A\u001b[A\u001b[A\n",
      "\n",
      "\n",
      "\n",
      "  6%|▌         | 591/10000 [10:14:12<161:51:08, 61.93s/it]\u001b[A\u001b[A\u001b[A\u001b[A"
     ]
    },
    {
     "name": "stdout",
     "output_type": "stream",
     "text": [
      "predition [[ 7949     1     1 ...,     0     0     0]\n",
      " [10738    36  8492 ...,     1     1     0]\n",
      " [10738    36    36 ...,     0     0     0]\n",
      " ..., \n",
      " [10738  8492  8492 ...,     0     0     0]\n",
      " [10738  8492     1 ...,     0     0     0]\n",
      " [10738    36    36 ...,     0     0     0]]\n",
      "max 17914\n"
     ]
    },
    {
     "name": "stderr",
     "output_type": "stream",
     "text": [
      "\n",
      "\n",
      "\n",
      "\n",
      "  6%|▌         | 592/10000 [10:15:14<161:57:01, 61.97s/it]\u001b[A\u001b[A\u001b[A\u001b[A\n",
      "\n",
      "\n",
      "\n",
      "  6%|▌         | 593/10000 [10:16:16<161:45:24, 61.90s/it]\u001b[A\u001b[A\u001b[A\u001b[A"
     ]
    },
    {
     "name": "stdout",
     "output_type": "stream",
     "text": [
      "predition [[ 7949  8492     1 ...,     0     0     0]\n",
      " [ 7949     1    36 ...,     0     0     0]\n",
      " [ 7949  7949 10552 ..., 16139 17914    36]\n",
      " ..., \n",
      " [ 7949     1     1 ...,     0     0     0]\n",
      " [ 7949  8492 10552 ...,     0     0     0]\n",
      " [ 7949  8492 17914 ...,     0     0     0]]\n",
      "max 17914\n"
     ]
    },
    {
     "name": "stderr",
     "output_type": "stream",
     "text": [
      "\n",
      "\n",
      "\n",
      "\n",
      "  6%|▌         | 594/10000 [10:17:18<161:45:52, 61.91s/it]\u001b[A\u001b[A\u001b[A\u001b[A\n",
      "\n",
      "\n",
      "\n",
      "  6%|▌         | 595/10000 [10:18:19<161:36:43, 61.86s/it]\u001b[A\u001b[A\u001b[A\u001b[A"
     ]
    },
    {
     "name": "stdout",
     "output_type": "stream",
     "text": [
      "predition [[10738    36    36 ...,     0     0     0]\n",
      " [ 7949  7949 10552 ...,     0     0     0]\n",
      " [10738  8492 17914 ...,     0     0     0]\n",
      " ..., \n",
      " [10738    36     1 ...,     0     0     0]\n",
      " [ 7949 17914     0 ...,     0     0     0]\n",
      " [ 7949    36     1 ...,     0     0     0]]\n",
      "max 17914\n"
     ]
    },
    {
     "name": "stderr",
     "output_type": "stream",
     "text": [
      "\n",
      "\n",
      "\n",
      "\n",
      "  6%|▌         | 596/10000 [10:19:21<161:41:35, 61.90s/it]\u001b[A\u001b[A\u001b[A\u001b[A\n",
      "\n",
      "\n",
      "\n",
      "  6%|▌         | 597/10000 [10:20:23<161:38:13, 61.88s/it]\u001b[A\u001b[A\u001b[A\u001b[A"
     ]
    },
    {
     "name": "stdout",
     "output_type": "stream",
     "text": [
      "predition [[ 7949  8492     1 ...,     0     0     0]\n",
      " [ 7949     1    36 ...,     0     0     0]\n",
      " [17496  8492 17914 ...,    36    36     0]\n",
      " ..., \n",
      " [10738  8492  8492 ...,     0     0     0]\n",
      " [ 7949  8492     1 ...,     0     0     0]\n",
      " [ 7949  7949 10552 ...,     0     0     0]]\n",
      "max 17914\n"
     ]
    },
    {
     "name": "stderr",
     "output_type": "stream",
     "text": [
      "\n",
      "\n",
      "\n",
      "\n",
      "  6%|▌         | 598/10000 [10:21:25<161:43:08, 61.92s/it]\u001b[A\u001b[A\u001b[A\u001b[A"
     ]
    },
    {
     "name": "stdout",
     "output_type": "stream",
     "text": [
      "predition [[ 7949  8492     1 ...,     0     0     0]\n",
      " [10738    36    36 ...,     0     0     0]\n",
      " [   36     1     0 ...,     0     0     0]\n",
      " ..., \n",
      " [ 7949  8492 10552 ...,     0     0     0]\n",
      " [17914 17914     1 ...,     0     0     0]\n",
      " [ 7949  8492 10552 ...,     0     0     0]]\n",
      "max 17914\n"
     ]
    },
    {
     "name": "stderr",
     "output_type": "stream",
     "text": [
      "\n",
      "\n",
      "\n",
      "\n",
      "  6%|▌         | 599/10000 [10:22:27<161:40:56, 61.91s/it]\u001b[A\u001b[A\u001b[A\u001b[A\n",
      "\n",
      "\n",
      "\n",
      "  6%|▌         | 600/10000 [10:23:29<161:39:49, 61.91s/it]\u001b[A\u001b[A\u001b[A\u001b[A"
     ]
    },
    {
     "name": "stdout",
     "output_type": "stream",
     "text": [
      "predition [[ 7949  7949     0 ...,     0     0     0]\n",
      " [17496     1     0 ...,     0     0     0]\n",
      " [17914 17914    36 ...,     0     0     0]\n",
      " ..., \n",
      " [10738    36     1 ...,     0     0     0]\n",
      " [10738    36     1 ...,     0     0     0]\n",
      " [10738  8492 17914 ...,     0     0     0]]\n",
      "max 17914\n"
     ]
    },
    {
     "name": "stderr",
     "output_type": "stream",
     "text": [
      "\n",
      "\n",
      "\n",
      "\n",
      "  6%|▌         | 601/10000 [10:24:31<161:45:12, 61.95s/it]\u001b[A\u001b[A\u001b[A\u001b[A\n",
      "\n",
      "\n",
      "\n",
      "  6%|▌         | 602/10000 [10:25:33<161:41:36, 61.94s/it]\u001b[A\u001b[A\u001b[A\u001b[A"
     ]
    },
    {
     "name": "stdout",
     "output_type": "stream",
     "text": [
      "predition [[17496  8492    36 ...,     0     0     0]\n",
      " [ 7949     1     1 ...,     0     0     0]\n",
      " [ 7949  8492 10552 ...,     0     0     0]\n",
      " ..., \n",
      " [ 7949 17914 10552 ...,     0     0     0]\n",
      " [17914 17914     1 ...,     0     0     0]\n",
      " [10738  8492  8492 ...,    36    36    36]]\n",
      "max 17914\n"
     ]
    },
    {
     "name": "stderr",
     "output_type": "stream",
     "text": [
      "\n",
      "\n",
      "\n",
      "\n",
      "  6%|▌         | 603/10000 [10:26:35<161:40:41, 61.94s/it]\u001b[A\u001b[A\u001b[A\u001b[A\n",
      "\n",
      "\n",
      "\n",
      "  6%|▌         | 604/10000 [10:27:37<161:29:44, 61.88s/it]\u001b[A\u001b[A\u001b[A\u001b[A"
     ]
    },
    {
     "name": "stdout",
     "output_type": "stream",
     "text": [
      "predition [[10738  8492     1 ...,     0     0     0]\n",
      " [10738  8492  8492 ...,     0     0     0]\n",
      " [ 7949    36 17914 ...,    36    36     1]\n",
      " ..., \n",
      " [ 7949  8492 10552 ...,    36     1     0]\n",
      " [   36     1     1 ...,     0     0     0]\n",
      " [10738    36     1 ...,     0     0     0]]\n",
      "max 17914\n"
     ]
    },
    {
     "name": "stderr",
     "output_type": "stream",
     "text": [
      "\n",
      "\n",
      "\n",
      "\n",
      "  6%|▌         | 605/10000 [10:28:39<161:37:31, 61.93s/it]\u001b[A\u001b[A\u001b[A\u001b[A\n",
      "\n",
      "\n",
      "\n",
      "  6%|▌         | 606/10000 [10:29:41<161:33:16, 61.91s/it]\u001b[A\u001b[A\u001b[A\u001b[A"
     ]
    },
    {
     "name": "stdout",
     "output_type": "stream",
     "text": [
      "predition [[17496     1     1 ...,     0     0     0]\n",
      " [ 7949  7949 10552 ...,     0     0     0]\n",
      " [10738  8492     1 ...,     0     0     0]\n",
      " ..., \n",
      " [ 7949     1     1 ...,     0     0     0]\n",
      " [17496  8492  8492 ...,    36     1     0]\n",
      " [ 7949    36 10552 ...,  7949 16139    36]]\n",
      "max 17914\n"
     ]
    },
    {
     "name": "stderr",
     "output_type": "stream",
     "text": [
      "\n",
      "\n",
      "\n",
      "\n",
      "  6%|▌         | 607/10000 [10:30:43<161:31:29, 61.91s/it]\u001b[A\u001b[A\u001b[A\u001b[A\n",
      "\n",
      "\n",
      "\n",
      "  6%|▌         | 608/10000 [10:31:45<161:34:00, 61.93s/it]\u001b[A\u001b[A\u001b[A\u001b[A"
     ]
    },
    {
     "name": "stdout",
     "output_type": "stream",
     "text": [
      "predition [[10738    36     0 ...,     0     0     0]\n",
      " [10738  8492  8492 ...,    36    36     1]\n",
      " [ 7949  8492 10552 ...,     0     0     0]\n",
      " ..., \n",
      " [17496  8492  8492 ...,     0     0     0]\n",
      " [ 7949  8492     0 ...,     0     0     0]\n",
      " [ 7949  8492    36 ...,     0     0     0]]\n",
      "max 17914\n"
     ]
    },
    {
     "name": "stderr",
     "output_type": "stream",
     "text": [
      "\n",
      "\n",
      "\n",
      "\n",
      "  6%|▌         | 609/10000 [10:32:47<161:38:22, 61.96s/it]\u001b[A\u001b[A\u001b[A\u001b[A\n",
      "\n",
      "\n",
      "\n",
      "  6%|▌         | 610/10000 [10:33:48<161:31:38, 61.93s/it]\u001b[A\u001b[A\u001b[A\u001b[A"
     ]
    },
    {
     "name": "stdout",
     "output_type": "stream",
     "text": [
      "predition [[ 7949  8492     1 ...,     0     0     0]\n",
      " [10738    36     1 ...,     0     0     0]\n",
      " [17914  8492     1 ...,     0     0     0]\n",
      " ..., \n",
      " [10738  8492    36 ...,     0     0     0]\n",
      " [10738     1     0 ...,     0     0     0]\n",
      " [10738  8492  8492 ...,    36     1     0]]\n",
      "max 17914\n"
     ]
    },
    {
     "name": "stderr",
     "output_type": "stream",
     "text": [
      "\n",
      "\n",
      "\n",
      "\n",
      "  6%|▌         | 611/10000 [10:34:50<161:34:54, 61.95s/it]\u001b[A\u001b[A\u001b[A\u001b[A"
     ]
    },
    {
     "name": "stdout",
     "output_type": "stream",
     "text": [
      "predition [[10738  8492 17914 ...,     0     0     0]\n",
      " [17496  8492    36 ...,     0     0     0]\n",
      " [ 7949  8492 17914 ...,     0     0     0]\n",
      " ..., \n",
      " [ 7949    36    36 ...,    36    36     1]\n",
      " [17914 17914     1 ...,     0     0     0]\n",
      " [ 7949  8492     1 ...,     0     0     0]]\n",
      "max 17914\n"
     ]
    },
    {
     "name": "stderr",
     "output_type": "stream",
     "text": [
      "\n",
      "\n",
      "\n",
      "\n",
      "  6%|▌         | 612/10000 [10:35:52<161:34:05, 61.96s/it]\u001b[A\u001b[A\u001b[A\u001b[A\n",
      "\n",
      "\n",
      "\n",
      "  6%|▌         | 613/10000 [10:36:54<161:30:47, 61.94s/it]\u001b[A\u001b[A\u001b[A\u001b[A"
     ]
    },
    {
     "name": "stdout",
     "output_type": "stream",
     "text": [
      "predition [[10738    36     1 ...,     0     0     0]\n",
      " [ 7949  8492 17914 ...,     0     0     0]\n",
      " [17496  8492 17914 ...,    36     1     1]\n",
      " ..., \n",
      " [ 7949  8492     0 ...,     0     0     0]\n",
      " [   36     1     1 ...,     0     0     0]\n",
      " [ 7949  8492 10552 ...,     0     0     0]]\n",
      "max 17914\n"
     ]
    },
    {
     "name": "stderr",
     "output_type": "stream",
     "text": [
      "\n",
      "\n",
      "\n",
      "\n",
      "  6%|▌         | 614/10000 [10:37:56<161:33:38, 61.97s/it]\u001b[A\u001b[A\u001b[A\u001b[A\n",
      "\n",
      "\n",
      "\n",
      "  6%|▌         | 615/10000 [10:38:58<161:24:27, 61.91s/it]\u001b[A\u001b[A\u001b[A\u001b[A"
     ]
    },
    {
     "name": "stdout",
     "output_type": "stream",
     "text": [
      "predition [[ 7949  8492     1 ...,     0     0     0]\n",
      " [10738  8492     0 ...,     0     0     0]\n",
      " [ 7949  8492 17914 ...,     0     0     0]\n",
      " ..., \n",
      " [ 7949  8492 17914 ...,     0     0     0]\n",
      " [10738    36     1 ...,     0     0     0]\n",
      " [10738  8492  8492 ...,     0     0     0]]\n",
      "max 17914\n"
     ]
    },
    {
     "name": "stderr",
     "output_type": "stream",
     "text": [
      "\n",
      "\n",
      "\n",
      "\n",
      "  6%|▌         | 616/10000 [10:40:00<161:25:09, 61.93s/it]\u001b[A\u001b[A\u001b[A\u001b[A\n",
      "\n",
      "\n",
      "\n",
      "  6%|▌         | 617/10000 [10:41:02<161:24:09, 61.93s/it]\u001b[A\u001b[A\u001b[A\u001b[A"
     ]
    },
    {
     "name": "stdout",
     "output_type": "stream",
     "text": [
      "predition [[17914 17914 17914 ...,     1     1     1]\n",
      " [10738    36     1 ...,     0     0     0]\n",
      " [ 7949    36    36 ..., 17914    36    36]\n",
      " ..., \n",
      " [ 7949  8492 10552 ...,     0     0     0]\n",
      " [ 7949  7949 10552 ...,  7949  7949    36]\n",
      " [10738  8492  8492 ...,     0     0     0]]\n",
      "max 17914\n"
     ]
    },
    {
     "name": "stderr",
     "output_type": "stream",
     "text": [
      "\n",
      "\n",
      "\n",
      "\n",
      "  6%|▌         | 618/10000 [10:42:04<161:27:11, 61.95s/it]\u001b[A\u001b[A\u001b[A\u001b[A\n",
      "\n",
      "\n",
      "\n",
      "  6%|▌         | 619/10000 [10:43:06<161:24:52, 61.94s/it]\u001b[A\u001b[A\u001b[A\u001b[A"
     ]
    },
    {
     "name": "stdout",
     "output_type": "stream",
     "text": [
      "predition [[ 7949  7949  8492 ...,    36    36     1]\n",
      " [17914 17914 17914 ...,     0     0     0]\n",
      " [ 7949  8492 17914 ...,     0     0     0]\n",
      " ..., \n",
      " [17461  8492 10552 ...,    36    36    36]\n",
      " [ 7949  7949 10552 ...,     0     0     0]\n",
      " [17914  8492     1 ...,     0     0     0]]\n",
      "max 17914\n"
     ]
    },
    {
     "name": "stderr",
     "output_type": "stream",
     "text": [
      "\n",
      "\n",
      "\n",
      "\n",
      "  6%|▌         | 620/10000 [10:44:08<161:24:48, 61.95s/it]\u001b[A\u001b[A\u001b[A\u001b[A\n",
      "\n",
      "\n",
      "\n",
      "  6%|▌         | 621/10000 [10:45:10<161:19:12, 61.92s/it]\u001b[A\u001b[A\u001b[A\u001b[A"
     ]
    },
    {
     "name": "stdout",
     "output_type": "stream",
     "text": [
      "predition [[ 7949    36     1 ...,     0     0     0]\n",
      " [17914 17914 17914 ...,     0     0     0]\n",
      " [ 7949  8492     1 ...,     0     0     0]\n",
      " ..., \n",
      " [17914    36    36 ...,     0     0     0]\n",
      " [ 7949  7949 10552 ...,     1     0     0]\n",
      " [ 7949  8492 10552 ...,     0     0     0]]\n",
      "max 17914\n"
     ]
    },
    {
     "name": "stderr",
     "output_type": "stream",
     "text": [
      "\n",
      "\n",
      "\n",
      "\n",
      "  6%|▌         | 622/10000 [10:46:12<161:25:18, 61.97s/it]\u001b[A\u001b[A\u001b[A\u001b[A\n",
      "\n",
      "\n",
      "\n",
      "  6%|▌         | 623/10000 [10:47:14<161:17:41, 61.92s/it]\u001b[A\u001b[A\u001b[A\u001b[A"
     ]
    },
    {
     "name": "stdout",
     "output_type": "stream",
     "text": [
      "predition [[ 7949  8492 17914 ...,     0     0     0]\n",
      " [17496  8492    36 ...,     0     0     0]\n",
      " [ 7949  7949 10552 ...,    36    36     1]\n",
      " ..., \n",
      " [ 7949     1 10552 ..., 15868    36    36]\n",
      " [ 7949  8492 10552 ...,    36    36    36]\n",
      " [ 7949  7949 10552 ...,    36    36     1]]\n",
      "max 17914\n"
     ]
    },
    {
     "name": "stderr",
     "output_type": "stream",
     "text": [
      "\n",
      "\n",
      "\n",
      "\n",
      "  6%|▌         | 624/10000 [10:48:16<161:16:12, 61.92s/it]\u001b[A\u001b[A\u001b[A\u001b[A"
     ]
    },
    {
     "name": "stdout",
     "output_type": "stream",
     "text": [
      "predition [[10738    36    36 ...,     0     0     0]\n",
      " [ 7949  7949    36 ...,    36    36     1]\n",
      " [10738    36     1 ...,     0     0     0]\n",
      " ..., \n",
      " [10738  7949 17914 ...,     0     0     0]\n",
      " [ 7949  8492 10552 ...,     0     0     0]\n",
      " [ 7949  8492 10552 ...,     0     0     0]]\n",
      "max 17914\n"
     ]
    },
    {
     "name": "stderr",
     "output_type": "stream",
     "text": [
      "\n",
      "\n",
      "\n",
      "\n",
      "  6%|▋         | 625/10000 [10:49:18<161:18:48, 61.94s/it]\u001b[A\u001b[A\u001b[A\u001b[A\n",
      "\n",
      "\n",
      "\n",
      "  6%|▋         | 626/10000 [10:50:19<161:11:54, 61.91s/it]\u001b[A\u001b[A\u001b[A\u001b[A"
     ]
    },
    {
     "name": "stdout",
     "output_type": "stream",
     "text": [
      "predition [[10738  8492 10552 ...,     0     0     0]\n",
      " [17496     1     1 ...,     0     0     0]\n",
      " [ 7949     1     0 ...,     0     0     0]\n",
      " ..., \n",
      " [17496  8492     0 ...,    36    36     1]\n",
      " [17914 17914    36 ...,     0     0     0]\n",
      " [10738    36    36 ...,     0     0     0]]\n",
      "max 17914\n"
     ]
    },
    {
     "name": "stderr",
     "output_type": "stream",
     "text": [
      "\n",
      "\n",
      "\n",
      "\n",
      "  6%|▋         | 627/10000 [10:51:21<161:14:45, 61.93s/it]\u001b[A\u001b[A\u001b[A\u001b[A\n",
      "\n",
      "\n",
      "\n",
      "  6%|▋         | 628/10000 [10:52:23<161:08:23, 61.90s/it]\u001b[A\u001b[A\u001b[A\u001b[A"
     ]
    },
    {
     "name": "stdout",
     "output_type": "stream",
     "text": [
      "predition [[ 7949  7949  8492 ...,    36     1     1]\n",
      " [17877  8492 10552 ...,  7949    36    36]\n",
      " [10738  8492 10552 ...,    36    36    36]\n",
      " ..., \n",
      " [10738     1     1 ...,     0     0     0]\n",
      " [   36     1     0 ...,     0     0     0]\n",
      " [17496  8492 10552 ...,     0     0     0]]\n",
      "max 17914\n"
     ]
    },
    {
     "name": "stderr",
     "output_type": "stream",
     "text": [
      "\n",
      "\n",
      "\n",
      "\n",
      "  6%|▋         | 629/10000 [10:53:25<161:08:17, 61.90s/it]\u001b[A\u001b[A\u001b[A\u001b[A\n",
      "\n",
      "\n",
      "\n",
      "  6%|▋         | 630/10000 [10:54:27<161:07:02, 61.90s/it]\u001b[A\u001b[A\u001b[A\u001b[A"
     ]
    },
    {
     "name": "stdout",
     "output_type": "stream",
     "text": [
      "predition [[ 7949  8492 10552 ...,    36    36    36]\n",
      " [ 7949  8492     0 ...,     0     0     0]\n",
      " [ 7949  8492 10552 ...,     0     0     0]\n",
      " ..., \n",
      " [ 7949 17914 10552 ..., 17914    36    36]\n",
      " [ 7949  8492 10552 ..., 16139 16139    36]\n",
      " [17877     1 10552 ...,     0     0     0]]\n",
      "max 17914\n"
     ]
    },
    {
     "name": "stderr",
     "output_type": "stream",
     "text": [
      "\n",
      "\n",
      "\n",
      "\n",
      "  6%|▋         | 631/10000 [10:55:29<161:10:13, 61.93s/it]\u001b[A\u001b[A\u001b[A\u001b[A\n",
      "\n",
      "\n",
      "\n",
      "  6%|▋         | 632/10000 [10:56:31<161:04:20, 61.90s/it]\u001b[A\u001b[A\u001b[A\u001b[A"
     ]
    },
    {
     "name": "stdout",
     "output_type": "stream",
     "text": [
      "predition [[ 7949  7949  7949 ...,     0     0     0]\n",
      " [ 7949  7949 10552 ...,    36     1     0]\n",
      " [10738  8492 10552 ...,    36    36    36]\n",
      " ..., \n",
      " [ 7949  8492  8492 ...,     0     0     0]\n",
      " [10738  8492  8492 ...,     0     0     0]\n",
      " [17877     1    36 ...,     0     0     0]]\n",
      "max 17914\n"
     ]
    },
    {
     "name": "stderr",
     "output_type": "stream",
     "text": [
      "\n",
      "\n",
      "\n",
      "\n",
      "  6%|▋         | 633/10000 [10:57:33<161:10:54, 61.95s/it]\u001b[A\u001b[A\u001b[A\u001b[A\n",
      "\n",
      "\n",
      "\n",
      "  6%|▋         | 634/10000 [10:58:35<160:57:03, 61.86s/it]\u001b[A\u001b[A\u001b[A\u001b[A"
     ]
    },
    {
     "name": "stdout",
     "output_type": "stream",
     "text": [
      "predition [[17496  8492  8492 ...,    36     1     0]\n",
      " [ 7949  7949 10552 ...,     0     0     0]\n",
      " [ 7949  8492 10552 ...,    36    36     1]\n",
      " ..., \n",
      " [ 7949    36  8492 ..., 17914  8492    36]\n",
      " [17877  8492     0 ...,     0     0     0]\n",
      " [ 7949 17914 17914 ...,     0     0     0]]\n",
      "max 17914\n"
     ]
    },
    {
     "name": "stderr",
     "output_type": "stream",
     "text": [
      "\n",
      "\n",
      "\n",
      "\n",
      "  6%|▋         | 635/10000 [10:59:37<161:07:47, 61.94s/it]\u001b[A\u001b[A\u001b[A\u001b[A\n",
      "\n",
      "\n",
      "\n",
      "  6%|▋         | 636/10000 [11:00:39<161:07:48, 61.95s/it]\u001b[A\u001b[A\u001b[A\u001b[A"
     ]
    },
    {
     "name": "stdout",
     "output_type": "stream",
     "text": [
      "predition [[ 7949  8492  8492 ...,    36     1     0]\n",
      " [ 7949  8492  8492 ..., 15868 15868 15868]\n",
      " [17914  8492    36 ...,     0     0     0]\n",
      " ..., \n",
      " [ 7949     1     0 ...,     0     0     0]\n",
      " [17877  8492  8492 ...,     0     0     0]\n",
      " [ 7949  8492 10552 ...,    36    36     0]]\n",
      "max 17914\n"
     ]
    },
    {
     "name": "stderr",
     "output_type": "stream",
     "text": [
      "\n",
      "\n",
      "\n",
      "\n",
      "  6%|▋         | 637/10000 [11:01:41<161:08:38, 61.96s/it]\u001b[A\u001b[A\u001b[A\u001b[A"
     ]
    },
    {
     "name": "stdout",
     "output_type": "stream",
     "text": [
      "predition [[ 7949  7949 10552 ...,    36     0     0]\n",
      " [17461 17914 10552 ...,    36    36    36]\n",
      " [17914  8492  8492 ...,     0     0     0]\n",
      " ..., \n",
      " [17914  8492 17914 ...,     0     0     0]\n",
      " [ 7949  8492     0 ...,     0     0     0]\n",
      " [17914  8492 17914 ...,    36    36    36]]\n",
      "max 17914\n"
     ]
    },
    {
     "name": "stderr",
     "output_type": "stream",
     "text": [
      "\n",
      "\n",
      "\n",
      "\n",
      "  6%|▋         | 638/10000 [11:02:43<161:13:00, 61.99s/it]\u001b[A\u001b[A\u001b[A\u001b[A\n",
      "\n",
      "\n",
      "\n",
      "  6%|▋         | 639/10000 [11:03:44<161:00:35, 61.92s/it]\u001b[A\u001b[A\u001b[A\u001b[A"
     ]
    },
    {
     "name": "stdout",
     "output_type": "stream",
     "text": [
      "predition [[ 7949  8492     0 ...,     0     0     0]\n",
      " [ 7949  7949  7949 ...,    36     0     0]\n",
      " [17877     1    36 ...,     0     0     0]\n",
      " ..., \n",
      " [ 7949  8492  8492 ...,  7949 15868    36]\n",
      " [ 7949  7949  8492 ...,    36    36     1]\n",
      " [ 7949  7949  8492 ...,     0     0     0]]\n",
      "max 17914\n"
     ]
    },
    {
     "name": "stderr",
     "output_type": "stream",
     "text": [
      "\n",
      "\n",
      "\n",
      "\n",
      "  6%|▋         | 640/10000 [11:04:46<161:01:04, 61.93s/it]\u001b[A\u001b[A\u001b[A\u001b[A\n",
      "\n",
      "\n",
      "\n",
      "  6%|▋         | 641/10000 [11:05:48<160:59:42, 61.93s/it]\u001b[A\u001b[A\u001b[A\u001b[A"
     ]
    },
    {
     "name": "stdout",
     "output_type": "stream",
     "text": [
      "predition [[ 7949  7949 10552 ...,    36    36     1]\n",
      " [ 7949  8492 17914 ...,    36     1     1]\n",
      " [17496     1     1 ...,     0     0     0]\n",
      " ..., \n",
      " [17877     1     0 ...,     0     0     0]\n",
      " [10738    36     1 ...,     0     0     0]\n",
      " [17877  8492     0 ...,     0     0     0]]\n",
      "max 17914\n"
     ]
    },
    {
     "name": "stderr",
     "output_type": "stream",
     "text": [
      "\n",
      "\n",
      "\n",
      "\n",
      "  6%|▋         | 642/10000 [11:06:50<161:06:39, 61.98s/it]\u001b[A\u001b[A\u001b[A\u001b[A\n",
      "\n",
      "\n",
      "\n",
      "  6%|▋         | 643/10000 [11:07:52<161:03:33, 61.97s/it]\u001b[A\u001b[A\u001b[A\u001b[A"
     ]
    },
    {
     "name": "stdout",
     "output_type": "stream",
     "text": [
      "predition [[ 7949  8492 17914 ...,     0     0     0]\n",
      " [17496    36     0 ...,     0     0     0]\n",
      " [ 7949    36    36 ...,     0     0     0]\n",
      " ..., \n",
      " [17877     1     1 ...,     0     0     0]\n",
      " [17496     1     0 ...,     0     0     0]\n",
      " [ 7949  7949 17914 ...,     0     0     0]]\n",
      "max 17914\n"
     ]
    },
    {
     "name": "stderr",
     "output_type": "stream",
     "text": [
      "\n",
      "\n",
      "\n",
      "\n",
      "  6%|▋         | 644/10000 [11:08:54<161:02:02, 61.96s/it]\u001b[A\u001b[A\u001b[A\u001b[A\n",
      "\n",
      "\n",
      "\n",
      "  6%|▋         | 645/10000 [11:09:56<160:59:49, 61.96s/it]\u001b[A\u001b[A\u001b[A\u001b[A"
     ]
    },
    {
     "name": "stdout",
     "output_type": "stream",
     "text": [
      "predition [[ 7949  8492 17914 ...,     0     0     0]\n",
      " [17877     1     0 ...,     0     0     0]\n",
      " [10738     1     1 ...,     0     0     0]\n",
      " ..., \n",
      " [ 7949  7949  8492 ..., 15868     0     0]\n",
      " [10738    36     1 ...,     0     0     0]\n",
      " [ 7949    36 10552 ..., 17914     0     0]]\n",
      "max 17914\n"
     ]
    },
    {
     "name": "stderr",
     "output_type": "stream",
     "text": [
      "\n",
      "\n",
      "\n",
      "\n",
      "  6%|▋         | 646/10000 [11:10:58<161:03:50, 61.99s/it]\u001b[A\u001b[A\u001b[A\u001b[A\n",
      "\n",
      "\n",
      "\n",
      "  6%|▋         | 647/10000 [11:12:00<160:55:47, 61.94s/it]\u001b[A\u001b[A\u001b[A\u001b[A"
     ]
    },
    {
     "name": "stdout",
     "output_type": "stream",
     "text": [
      "predition [[10738  8492  8492 ...,     0     0     0]\n",
      " [17877  8492  8492 ...,     0     0     0]\n",
      " [17877  8492  8492 ...,    36    36     1]\n",
      " ..., \n",
      " [10738  8492  8492 ...,     0     0     0]\n",
      " [ 7949  7949  8492 ...,     0     0     0]\n",
      " [ 7949 17914    36 ...,    36    36     0]]\n",
      "max 17914\n"
     ]
    },
    {
     "name": "stderr",
     "output_type": "stream",
     "text": [
      "\n",
      "\n",
      "\n",
      "\n",
      "  6%|▋         | 648/10000 [11:13:02<161:01:21, 61.98s/it]\u001b[A\u001b[A\u001b[A\u001b[A\n",
      "\n",
      "\n",
      "\n",
      "  6%|▋         | 649/10000 [11:14:04<160:55:51, 61.96s/it]\u001b[A\u001b[A\u001b[A\u001b[A"
     ]
    },
    {
     "name": "stdout",
     "output_type": "stream",
     "text": [
      "predition [[10738  8492    36 ...,     0     0     0]\n",
      " [ 7949    36    36 ...,     0     0     0]\n",
      " [10738    36  8492 ...,     0     0     0]\n",
      " ..., \n",
      " [ 7949  8492 17914 ...,     0     0     0]\n",
      " [10738  8492  8492 ...,    36    36    36]\n",
      " [10738  8492  8492 ...,     0     0     0]]\n",
      "max 17914\n"
     ]
    },
    {
     "name": "stderr",
     "output_type": "stream",
     "text": [
      "\n",
      "\n",
      "\n",
      "\n",
      "  6%|▋         | 650/10000 [11:15:06<161:05:09, 62.02s/it]\u001b[A\u001b[A\u001b[A\u001b[A\n",
      "\n",
      "\n",
      "\n",
      "  7%|▋         | 651/10000 [11:16:08<160:52:51, 61.95s/it]\u001b[A\u001b[A\u001b[A\u001b[A"
     ]
    },
    {
     "name": "stdout",
     "output_type": "stream",
     "text": [
      "predition [[17496     1     0 ...,     0     0     0]\n",
      " [10738  8492  8492 ...,     0     0     0]\n",
      " [ 7949     1     1 ...,     0     0     0]\n",
      " ..., \n",
      " [17914 17914    36 ...,     0     0     0]\n",
      " [10738    36    36 ...,     0     0     0]\n",
      " [10738  8492  8492 ...,     0     0     0]]\n",
      "max 17914\n"
     ]
    },
    {
     "name": "stderr",
     "output_type": "stream",
     "text": [
      "\n",
      "\n",
      "\n",
      "\n",
      "  7%|▋         | 652/10000 [11:17:10<160:57:47, 61.99s/it]\u001b[A\u001b[A\u001b[A\u001b[A"
     ]
    },
    {
     "name": "stdout",
     "output_type": "stream",
     "text": [
      "predition [[ 7949   899 10552 ...,     0     0     0]\n",
      " [10738    36     0 ...,     0     0     0]\n",
      " [ 7949  8492  8492 ..., 16139    36    36]\n",
      " ..., \n",
      " [ 7949  7949 10552 ...,    36    36     0]\n",
      " [10738     1     1 ...,     0     0     0]\n",
      " [ 7949  8492  8492 ...,     0     0     0]]\n",
      "max 17914\n"
     ]
    },
    {
     "name": "stderr",
     "output_type": "stream",
     "text": [
      "\n",
      "\n",
      "\n",
      "\n",
      "  7%|▋         | 653/10000 [11:18:12<160:55:16, 61.98s/it]\u001b[A\u001b[A\u001b[A\u001b[A\n",
      "\n",
      "\n",
      "\n",
      "  7%|▋         | 654/10000 [11:19:14<160:46:22, 61.93s/it]\u001b[A\u001b[A\u001b[A\u001b[A"
     ]
    },
    {
     "name": "stdout",
     "output_type": "stream",
     "text": [
      "predition [[17496     1  8492 ..., 17914     0     0]\n",
      " [17914 17914     1 ...,     0     0     0]\n",
      " [ 7949     1     0 ...,     0     0     0]\n",
      " ..., \n",
      " [10738  8492 10552 ...,     0     0     0]\n",
      " [ 7949     1     0 ...,     0     0     0]\n",
      " [10738  8492  8492 ...,     0     0     0]]\n",
      "max 17914\n"
     ]
    },
    {
     "name": "stderr",
     "output_type": "stream",
     "text": [
      "\n",
      "\n",
      "\n",
      "\n",
      "  7%|▋         | 655/10000 [11:20:16<160:56:47, 62.00s/it]\u001b[A\u001b[A\u001b[A\u001b[A\n",
      "\n",
      "\n",
      "\n",
      "  7%|▋         | 656/10000 [11:21:18<160:45:04, 61.93s/it]\u001b[A\u001b[A\u001b[A\u001b[A"
     ]
    },
    {
     "name": "stdout",
     "output_type": "stream",
     "text": [
      "predition [[10738  8492  8492 ...,    36     1     0]\n",
      " [17914 17914  8492 ...,     1     0     0]\n",
      " [17461  8492  8492 ...,     0     0     0]\n",
      " ..., \n",
      " [10738  8492  8492 ...,     0     0     0]\n",
      " [17461  8492 10552 ...,    36    36     1]\n",
      " [17496  8492 17914 ...,     0     0     0]]\n",
      "max 17914\n"
     ]
    },
    {
     "name": "stderr",
     "output_type": "stream",
     "text": [
      "\n",
      "\n",
      "\n",
      "\n",
      "  7%|▋         | 657/10000 [11:22:20<160:45:20, 61.94s/it]\u001b[A\u001b[A\u001b[A\u001b[A\n",
      "\n",
      "\n",
      "\n",
      "  7%|▋         | 658/10000 [11:23:22<160:35:54, 61.89s/it]\u001b[A\u001b[A\u001b[A\u001b[A"
     ]
    },
    {
     "name": "stdout",
     "output_type": "stream",
     "text": [
      "predition [[ 7949  8492 10552 ...,     0     0     0]\n",
      " [ 7949  7949 10552 ..., 17914    36    36]\n",
      " [ 7949  7949    36 ...,     0     0     0]\n",
      " ..., \n",
      " [ 7949    36    36 ...,     0     0     0]\n",
      " [17914 17914 17914 ...,     0     0     0]\n",
      " [10738    36     0 ...,     0     0     0]]\n",
      "max 17914\n"
     ]
    },
    {
     "name": "stderr",
     "output_type": "stream",
     "text": [
      "\n",
      "\n",
      "\n",
      "\n",
      "  7%|▋         | 659/10000 [11:24:24<160:39:42, 61.92s/it]\u001b[A\u001b[A\u001b[A\u001b[A\n",
      "\n",
      "\n",
      "\n",
      "  7%|▋         | 660/10000 [11:25:26<160:39:51, 61.93s/it]\u001b[A\u001b[A\u001b[A\u001b[A"
     ]
    },
    {
     "name": "stdout",
     "output_type": "stream",
     "text": [
      "predition [[17914 17914 17914 ...,     0     0     0]\n",
      " [17496     1     1 ...,     0     0     0]\n",
      " [ 7949  7949     0 ...,     0     0     0]\n",
      " ..., \n",
      " [10738  8492 17914 ...,     0     0     0]\n",
      " [ 7949    36     1 ...,     0     0     0]\n",
      " [10738    36     1 ...,     0     0     0]]\n",
      "max 17914\n"
     ]
    },
    {
     "name": "stderr",
     "output_type": "stream",
     "text": [
      "\n",
      "\n",
      "\n",
      "\n",
      "  7%|▋         | 661/10000 [11:26:28<160:48:25, 61.99s/it]\u001b[A\u001b[A\u001b[A\u001b[A\n",
      "\n",
      "\n",
      "\n",
      "  7%|▋         | 662/10000 [11:27:29<160:39:42, 61.94s/it]\u001b[A\u001b[A\u001b[A\u001b[A"
     ]
    },
    {
     "name": "stdout",
     "output_type": "stream",
     "text": [
      "predition [[10738  8492  8492 ...,     0     0     0]\n",
      " [10738    36     1 ...,     1     0     0]\n",
      " [ 7949  8492  8492 ...,     0     0     0]\n",
      " ..., \n",
      " [17496     1     0 ...,     0     0     0]\n",
      " [17914 17914 10552 ...,     0     0     0]\n",
      " [17461  8492  8492 ...,    36     1     0]]\n",
      "max 17914\n"
     ]
    },
    {
     "name": "stderr",
     "output_type": "stream",
     "text": [
      "\n",
      "\n",
      "\n",
      "\n",
      "  7%|▋         | 663/10000 [11:28:32<160:44:05, 61.97s/it]\u001b[A\u001b[A\u001b[A\u001b[A\n",
      "\n",
      "\n",
      "\n",
      "  7%|▋         | 664/10000 [11:29:33<160:35:26, 61.92s/it]\u001b[A\u001b[A\u001b[A\u001b[A"
     ]
    },
    {
     "name": "stdout",
     "output_type": "stream",
     "text": [
      "predition [[ 7949  7949    36 ...,    36    36     1]\n",
      " [17914 17914 17914 ...,     0     0     0]\n",
      " [ 7949  7949 10552 ...,    36    36    36]\n",
      " ..., \n",
      " [17496     1     0 ...,     0     0     0]\n",
      " [ 7949  8492  8492 ...,     0     0     0]\n",
      " [10738  8492  8492 ...,     0     0     0]]\n",
      "max 17914\n"
     ]
    },
    {
     "name": "stderr",
     "output_type": "stream",
     "text": [
      "\n",
      "\n",
      "\n",
      "\n",
      "  7%|▋         | 665/10000 [11:30:36<160:45:04, 61.99s/it]\u001b[A\u001b[A\u001b[A\u001b[A"
     ]
    },
    {
     "name": "stdout",
     "output_type": "stream",
     "text": [
      "predition [[10738  8492  8492 ...,     0     0     0]\n",
      " [ 7949     1     1 ...,     0     0     0]\n",
      " [ 7949  8492 17914 ...,  7949    36     1]\n",
      " ..., \n",
      " [ 7949  8492 17914 ...,     0     0     0]\n",
      " [17496  8492    36 ...,     0     0     0]\n",
      " [ 7949  7949 10552 ...,     0     0     0]]\n",
      "max 17914\n"
     ]
    },
    {
     "name": "stderr",
     "output_type": "stream",
     "text": [
      "\n",
      "\n",
      "\n",
      "\n",
      "  7%|▋         | 666/10000 [11:31:37<160:40:32, 61.97s/it]\u001b[A\u001b[A\u001b[A\u001b[A\n",
      "\n",
      "\n",
      "\n",
      "  7%|▋         | 667/10000 [11:32:39<160:37:54, 61.96s/it]\u001b[A\u001b[A\u001b[A\u001b[A"
     ]
    },
    {
     "name": "stdout",
     "output_type": "stream",
     "text": [
      "predition [[ 7949     1     1 ...,     0     0     0]\n",
      " [17496  8492  8492 ...,     1     0     0]\n",
      " [17496     1     1 ...,     0     0     0]\n",
      " ..., \n",
      " [17914  8492  8492 ...,     0     0     0]\n",
      " [   36    36     1 ...,     0     0     0]\n",
      " [ 7949  8492 10552 ...,    36     0     0]]\n",
      "max 17914\n"
     ]
    },
    {
     "name": "stderr",
     "output_type": "stream",
     "text": [
      "\n",
      "\n",
      "\n",
      "\n",
      "  7%|▋         | 668/10000 [11:33:41<160:41:18, 61.99s/it]\u001b[A\u001b[A\u001b[A\u001b[A\n",
      "\n",
      "\n",
      "\n",
      "  7%|▋         | 669/10000 [11:34:43<160:37:06, 61.97s/it]\u001b[A\u001b[A\u001b[A\u001b[A"
     ]
    },
    {
     "name": "stdout",
     "output_type": "stream",
     "text": [
      "predition [[ 7949  8492  8492 ...,     0     0     0]\n",
      " [10738  8492  8492 ...,     0     0     0]\n",
      " [ 7949     1     0 ...,     0     0     0]\n",
      " ..., \n",
      " [ 7949  8492     1 ...,     0     0     0]\n",
      " [ 7949  8492 10552 ...,     0     0     0]\n",
      " [ 7949  7949 10552 ...,     0     0     0]]\n",
      "max 17914\n"
     ]
    },
    {
     "name": "stderr",
     "output_type": "stream",
     "text": [
      "\n",
      "\n",
      "\n",
      "\n",
      "  7%|▋         | 670/10000 [11:35:45<160:37:33, 61.98s/it]\u001b[A\u001b[A\u001b[A\u001b[A\n",
      "\n",
      "\n",
      "\n",
      "  7%|▋         | 671/10000 [11:36:47<160:37:48, 61.99s/it]\u001b[A\u001b[A\u001b[A\u001b[A"
     ]
    },
    {
     "name": "stdout",
     "output_type": "stream",
     "text": [
      "predition [[ 7949  8492 17914 ...,     0     0     0]\n",
      " [ 7949  8492 10552 ...,    36    36     0]\n",
      " [   36    36     1 ...,     0     0     0]\n",
      " ..., \n",
      " [10472     1     1 ...,     0     0     0]\n",
      " [17877     1    36 ...,     0     0     0]\n",
      " [10738  8492    36 ...,     0     0     0]]\n",
      "max 17914\n"
     ]
    },
    {
     "name": "stderr",
     "output_type": "stream",
     "text": [
      "\n",
      "\n",
      "\n",
      "\n",
      "  7%|▋         | 672/10000 [11:37:49<160:33:46, 61.97s/it]\u001b[A\u001b[A\u001b[A\u001b[A\n",
      "\n",
      "\n",
      "\n",
      "  7%|▋         | 673/10000 [11:38:51<160:26:10, 61.92s/it]\u001b[A\u001b[A\u001b[A\u001b[A"
     ]
    },
    {
     "name": "stdout",
     "output_type": "stream",
     "text": [
      "predition [[ 7949  8492 17914 ...,     0     0     0]\n",
      " [10738     1     0 ...,     0     0     0]\n",
      " [10738     1     1 ...,     0     0     0]\n",
      " ..., \n",
      " [ 7949     1     0 ...,     0     0     0]\n",
      " [17914 17914     1 ...,     0     0     0]\n",
      " [ 7949  7949    36 ...,    36     1     0]]\n",
      "max 17914\n"
     ]
    },
    {
     "name": "stderr",
     "output_type": "stream",
     "text": [
      "\n",
      "\n",
      "\n",
      "\n",
      "  7%|▋         | 674/10000 [11:39:53<160:27:28, 61.94s/it]\u001b[A\u001b[A\u001b[A\u001b[A\n",
      "\n",
      "\n",
      "\n",
      "  7%|▋         | 675/10000 [11:40:55<160:23:17, 61.92s/it]\u001b[A\u001b[A\u001b[A\u001b[A"
     ]
    },
    {
     "name": "stdout",
     "output_type": "stream",
     "text": [
      "predition [[17496     1     0 ...,     0     0     0]\n",
      " [17914     1     0 ...,     0     0     0]\n",
      " [ 7949  7949 17914 ...,     0     0     0]\n",
      " ..., \n",
      " [17496  8492 17914 ...,     0     0     0]\n",
      " [ 7949 17914  8492 ...,     1     1     0]\n",
      " [ 7949    36 10552 ...,     0     0     0]]\n",
      "max 17914\n"
     ]
    },
    {
     "name": "stderr",
     "output_type": "stream",
     "text": [
      "\n",
      "\n",
      "\n",
      "\n",
      "  7%|▋         | 676/10000 [11:41:57<160:28:08, 61.96s/it]\u001b[A\u001b[A\u001b[A\u001b[A\n",
      "\n",
      "\n",
      "\n",
      "  7%|▋         | 677/10000 [11:42:59<160:26:28, 61.95s/it]\u001b[A\u001b[A\u001b[A\u001b[A"
     ]
    },
    {
     "name": "stdout",
     "output_type": "stream",
     "text": [
      "predition [[ 7949    36    36 ...,     0     0     0]\n",
      " [10738    36    36 ...,     0     0     0]\n",
      " [17461  8492 17914 ...,    36    36     0]\n",
      " ..., \n",
      " [ 7949  7949 10552 ...,     0     0     0]\n",
      " [17877    36     1 ...,     0     0     0]\n",
      " [ 7949  7949  8492 ...,     0     0     0]]\n",
      "max 17914\n"
     ]
    },
    {
     "name": "stderr",
     "output_type": "stream",
     "text": [
      "\n",
      "\n",
      "\n",
      "\n",
      "  7%|▋         | 678/10000 [11:44:01<160:31:07, 61.99s/it]\u001b[A\u001b[A\u001b[A\u001b[A"
     ]
    },
    {
     "name": "stdout",
     "output_type": "stream",
     "text": [
      "predition [[17496    36     1 ...,     0     0     0]\n",
      " [10738  8492  8492 ...,     0     0     0]\n",
      " [ 7949     1     0 ...,     0     0     0]\n",
      " ..., \n",
      " [17877  8492 10552 ...,     0     0     0]\n",
      " [17496  8492  8492 ...,     0     0     0]\n",
      " [17496     1     1 ...,     0     0     0]]\n",
      "max 17914\n"
     ]
    },
    {
     "name": "stderr",
     "output_type": "stream",
     "text": [
      "\n",
      "\n",
      "\n",
      "\n",
      "  7%|▋         | 679/10000 [11:45:03<160:31:05, 62.00s/it]\u001b[A\u001b[A\u001b[A\u001b[A\n",
      "\n",
      "\n",
      "\n",
      "  7%|▋         | 680/10000 [11:46:05<160:18:32, 61.92s/it]\u001b[A\u001b[A\u001b[A\u001b[A"
     ]
    },
    {
     "name": "stdout",
     "output_type": "stream",
     "text": [
      "predition [[17877     1     0 ...,     0     0     0]\n",
      " [ 7949  8492 17914 ...,     0     0     0]\n",
      " [ 7949     1     0 ...,     0     0     0]\n",
      " ..., \n",
      " [17496     1     1 ...,     0     0     0]\n",
      " [17496     1     0 ...,     0     0     0]\n",
      " [10738     1    36 ...,     0     0     0]]\n",
      "max 17914\n"
     ]
    },
    {
     "name": "stderr",
     "output_type": "stream",
     "text": [
      "\n",
      "\n",
      "\n",
      "\n",
      "  7%|▋         | 681/10000 [11:47:07<160:28:11, 61.99s/it]\u001b[A\u001b[A\u001b[A\u001b[A\n",
      "\n",
      "\n",
      "\n",
      "  7%|▋         | 682/10000 [11:48:09<160:22:17, 61.96s/it]\u001b[A\u001b[A\u001b[A\u001b[A"
     ]
    },
    {
     "name": "stdout",
     "output_type": "stream",
     "text": [
      "predition [[ 7949  7949 10552 ..., 17914    36    36]\n",
      " [17914 17914     1 ...,     0     0     0]\n",
      " [   36     1     0 ...,     0     0     0]\n",
      " ..., \n",
      " [ 7949  8492  8492 ...,  8492    36  7949]\n",
      " [ 7949    36     1 ...,     0     0     0]\n",
      " [17496     1     0 ...,     0     0     0]]\n",
      "max 17914\n"
     ]
    },
    {
     "name": "stderr",
     "output_type": "stream",
     "text": [
      "\n",
      "\n",
      "\n",
      "\n",
      "  7%|▋         | 683/10000 [11:49:11<160:27:16, 62.00s/it]\u001b[A\u001b[A\u001b[A\u001b[A\n",
      "\n",
      "\n",
      "\n",
      "  7%|▋         | 684/10000 [11:50:13<160:20:11, 61.96s/it]\u001b[A\u001b[A\u001b[A\u001b[A"
     ]
    },
    {
     "name": "stdout",
     "output_type": "stream",
     "text": [
      "predition [[ 7949    36 10552 ...,     0     0     0]\n",
      " [17914 17914 17914 ...,     0     0     0]\n",
      " [ 7949  7949 17914 ...,     0     0     0]\n",
      " ..., \n",
      " [ 7949 17914 17914 ..., 17914 17914    36]\n",
      " [ 7949  8492 10552 ..., 15868 15868    36]\n",
      " [17496  8492     1 ...,     0     0     0]]\n",
      "max 17914\n"
     ]
    },
    {
     "name": "stderr",
     "output_type": "stream",
     "text": [
      "\n",
      "\n",
      "\n",
      "\n",
      "  7%|▋         | 685/10000 [11:51:15<160:25:53, 62.00s/it]\u001b[A\u001b[A\u001b[A\u001b[A\n",
      "\n",
      "\n",
      "\n",
      "  7%|▋         | 686/10000 [11:52:17<160:15:03, 61.94s/it]\u001b[A\u001b[A\u001b[A\u001b[A"
     ]
    },
    {
     "name": "stdout",
     "output_type": "stream",
     "text": [
      "predition [[10738 17914 17914 ...,     0     0     0]\n",
      " [ 7949  7949 10552 ...,     0     0     0]\n",
      " [10738    36    36 ...,     0     0     0]\n",
      " ..., \n",
      " [ 7949  8492 10552 ...,     0     0     0]\n",
      " [ 7949  7949  7949 ...,    36     1     1]\n",
      " [ 7949  8492 10552 ...,     0     0     0]]\n",
      "max 17914\n"
     ]
    },
    {
     "name": "stderr",
     "output_type": "stream",
     "text": [
      "\n",
      "\n",
      "\n",
      "\n",
      "  7%|▋         | 687/10000 [11:53:19<160:20:54, 61.98s/it]\u001b[A\u001b[A\u001b[A\u001b[A\n",
      "\n",
      "\n",
      "\n",
      "  7%|▋         | 688/10000 [11:54:21<160:14:05, 61.95s/it]\u001b[A\u001b[A\u001b[A\u001b[A"
     ]
    },
    {
     "name": "stdout",
     "output_type": "stream",
     "text": [
      "predition [[10738  8492 17914 ...,     0     0     0]\n",
      " [ 7949  8492     1 ...,     0     0     0]\n",
      " [ 7949  7949  8492 ...,    36    36     1]\n",
      " ..., \n",
      " [10738  8492  8492 ...,     0     0     0]\n",
      " [10738 17914    36 ...,     0     0     0]\n",
      " [ 7949    36    36 ...,     0     0     0]]\n",
      "max 17914\n"
     ]
    },
    {
     "name": "stderr",
     "output_type": "stream",
     "text": [
      "\n",
      "\n",
      "\n",
      "\n",
      "  7%|▋         | 689/10000 [11:55:23<160:16:03, 61.97s/it]\u001b[A\u001b[A\u001b[A\u001b[A\n",
      "\n",
      "\n",
      "\n",
      "  7%|▋         | 690/10000 [11:56:24<160:09:46, 61.93s/it]\u001b[A\u001b[A\u001b[A\u001b[A"
     ]
    },
    {
     "name": "stdout",
     "output_type": "stream",
     "text": [
      "predition [[ 7949    36    36 ...,     0     0     0]\n",
      " [10738  8492  8492 ...,     0     0     0]\n",
      " [ 7949    36     1 ...,     0     0     0]\n",
      " ..., \n",
      " [ 7949 17914 17914 ...,     0     0     0]\n",
      " [10738  8492  8492 ...,     0     0     0]\n",
      " [ 7949  8492 17914 ...,     0     0     0]]\n",
      "max 17914\n"
     ]
    },
    {
     "name": "stderr",
     "output_type": "stream",
     "text": [
      "\n",
      "\n",
      "\n",
      "\n",
      "  7%|▋         | 691/10000 [11:57:26<160:11:09, 61.95s/it]\u001b[A\u001b[A\u001b[A\u001b[A"
     ]
    },
    {
     "name": "stdout",
     "output_type": "stream",
     "text": [
      "predition [[17496     1     1 ...,     0     0     0]\n",
      " [ 7949  8492     1 ...,     0     0     0]\n",
      " [ 7949  8492  8492 ...,    36    36     1]\n",
      " ..., \n",
      " [ 7949  8492 10552 ...,     0     0     0]\n",
      " [17496     1     1 ...,     0     0     0]\n",
      " [17914  8492 17914 ...,     0     0     0]]\n",
      "max 17914\n"
     ]
    },
    {
     "name": "stderr",
     "output_type": "stream",
     "text": [
      "\n",
      "\n",
      "\n",
      "\n",
      "  7%|▋         | 692/10000 [11:58:28<160:14:28, 61.98s/it]\u001b[A\u001b[A\u001b[A\u001b[A\n",
      "\n",
      "\n",
      "\n",
      "  7%|▋         | 693/10000 [11:59:30<160:14:17, 61.98s/it]\u001b[A\u001b[A\u001b[A\u001b[A"
     ]
    },
    {
     "name": "stdout",
     "output_type": "stream",
     "text": [
      "predition [[10738  8492  8492 ...,     0     0     0]\n",
      " [ 7949     1     0 ...,     0     0     0]\n",
      " [ 7949  7949 10552 ...,     1     0     0]\n",
      " ..., \n",
      " [ 7949  7949  7949 ...,    36     1     0]\n",
      " [ 7949  8492     1 ...,     0     0     0]\n",
      " [ 7949  7949 10552 ..., 16139    36    36]]\n",
      "max 17914\n"
     ]
    },
    {
     "name": "stderr",
     "output_type": "stream",
     "text": [
      "\n",
      "\n",
      "\n",
      "\n",
      "  7%|▋         | 694/10000 [12:00:32<160:11:59, 61.97s/it]\u001b[A\u001b[A\u001b[A\u001b[A\n",
      "\n",
      "\n",
      "\n",
      "  7%|▋         | 695/10000 [12:01:34<160:12:26, 61.98s/it]\u001b[A\u001b[A\u001b[A\u001b[A"
     ]
    },
    {
     "name": "stdout",
     "output_type": "stream",
     "text": [
      "predition [[17496  8492  8492 ...,     0     0     0]\n",
      " [10738    36     1 ...,     0     0     0]\n",
      " [ 7949  8492    36 ..., 16139    36    36]\n",
      " ..., \n",
      " [10738  8492  8492 ...,     0     0     0]\n",
      " [ 7949  8492  8492 ...,    36    36    36]\n",
      " [17877     1     0 ...,     0     0     0]]\n",
      "max 17914\n"
     ]
    },
    {
     "name": "stderr",
     "output_type": "stream",
     "text": [
      "\n",
      "\n",
      "\n",
      "\n",
      "  7%|▋         | 696/10000 [12:02:36<160:06:00, 61.95s/it]\u001b[A\u001b[A\u001b[A\u001b[A\n",
      "\n",
      "\n",
      "\n",
      "  7%|▋         | 697/10000 [12:03:38<159:56:53, 61.90s/it]\u001b[A\u001b[A\u001b[A\u001b[A"
     ]
    },
    {
     "name": "stdout",
     "output_type": "stream",
     "text": [
      "predition [[17914  8492    36 ...,     0     0     0]\n",
      " [ 7949  8492  8492 ...,     0     0     0]\n",
      " [ 7949  7949 10552 ...,     1     0     0]\n",
      " ..., \n",
      " [ 7949  7949 17914 ..., 16139 16139 15868]\n",
      " [10738  8492 17914 ...,     0     0     0]\n",
      " [17496    36    36 ...,     0     0     0]]\n",
      "max 17914\n"
     ]
    },
    {
     "name": "stderr",
     "output_type": "stream",
     "text": [
      "\n",
      "\n",
      "\n",
      "\n",
      "  7%|▋         | 698/10000 [12:04:40<159:59:57, 61.92s/it]\u001b[A\u001b[A\u001b[A\u001b[A\n",
      "\n",
      "\n",
      "\n",
      "  7%|▋         | 699/10000 [12:05:42<159:57:03, 61.91s/it]\u001b[A\u001b[A\u001b[A\u001b[A"
     ]
    },
    {
     "name": "stdout",
     "output_type": "stream",
     "text": [
      "predition [[ 7949  8492 10552 ...,  8492     0     0]\n",
      " [10738  8492  8492 ...,     0     0     0]\n",
      " [10738  8492  8492 ...,     0     0     0]\n",
      " ..., \n",
      " [ 7949  8492 17914 ...,     0     0     0]\n",
      " [ 7949    36    36 ...,     0     0     0]\n",
      " [10738     1     0 ...,     0     0     0]]\n",
      "max 17914\n"
     ]
    },
    {
     "name": "stderr",
     "output_type": "stream",
     "text": [
      "\n",
      "\n",
      "\n",
      "\n",
      "  7%|▋         | 700/10000 [12:06:44<160:02:06, 61.95s/it]\u001b[A\u001b[A\u001b[A\u001b[A\n",
      "\n",
      "\n",
      "\n",
      "  7%|▋         | 701/10000 [12:07:46<160:01:27, 61.95s/it]\u001b[A\u001b[A\u001b[A\u001b[A"
     ]
    },
    {
     "name": "stdout",
     "output_type": "stream",
     "text": [
      "predition [[10738  8492  8492 ...,    36    36     1]\n",
      " [17914  8492     0 ...,     0     0     0]\n",
      " [17496  8492     0 ...,     0     0     0]\n",
      " ..., \n",
      " [ 7949    36    36 ...,     0     0     0]\n",
      " [10738    36     1 ...,     0     0     0]\n",
      " [ 7949  8492     1 ...,     0     0     0]]\n",
      "max 17914\n"
     ]
    },
    {
     "name": "stderr",
     "output_type": "stream",
     "text": [
      "\n",
      "\n",
      "\n",
      "\n",
      "  7%|▋         | 702/10000 [12:08:48<160:03:27, 61.97s/it]\u001b[A\u001b[A\u001b[A\u001b[A\n",
      "\n",
      "\n",
      "\n",
      "  7%|▋         | 703/10000 [12:09:50<159:57:41, 61.94s/it]\u001b[A\u001b[A\u001b[A\u001b[A"
     ]
    },
    {
     "name": "stdout",
     "output_type": "stream",
     "text": [
      "predition [[ 7949  8492     0 ...,     0     0     0]\n",
      " [10738  8492     0 ...,     0     0     0]\n",
      " [ 7949  8492  8492 ...,     0     0     0]\n",
      " ..., \n",
      " [ 7949  7949     0 ...,     0     0     0]\n",
      " [ 7949  8492  8492 ...,    36    36     1]\n",
      " [ 7949  8492     0 ...,     0     0     0]]\n",
      "max 17914\n"
     ]
    },
    {
     "name": "stderr",
     "output_type": "stream",
     "text": [
      "\n",
      "\n",
      "\n",
      "\n",
      "  7%|▋         | 704/10000 [12:10:52<160:01:14, 61.97s/it]\u001b[A\u001b[A\u001b[A\u001b[A\n",
      "\n",
      "\n",
      "\n",
      "  7%|▋         | 705/10000 [12:11:54<159:56:50, 61.95s/it]\u001b[A\u001b[A\u001b[A\u001b[A"
     ]
    },
    {
     "name": "stdout",
     "output_type": "stream",
     "text": [
      "predition [[17914  8492  8492 ...,     0     0     0]\n",
      " [ 7949  8492 10552 ...,     0     0     0]\n",
      " [10738  8492    36 ..., 15868    36    36]\n",
      " ..., \n",
      " [ 7949     1     0 ...,     0     0     0]\n",
      " [ 7949  7949 10552 ...,  8492  8492    36]\n",
      " [ 7949    36    36 ...,    36    36     1]]\n",
      "max 17914\n"
     ]
    },
    {
     "name": "stderr",
     "output_type": "stream",
     "text": [
      "\n",
      "\n",
      "\n",
      "\n",
      "  7%|▋         | 706/10000 [12:12:56<160:04:55, 62.01s/it]\u001b[A\u001b[A\u001b[A\u001b[A"
     ]
    },
    {
     "name": "stdout",
     "output_type": "stream",
     "text": [
      "predition [[10738  8492  8492 ...,     1     1     0]\n",
      " [   36    36     1 ...,     0     0     0]\n",
      " [17496  8492 17914 ...,     0     0     0]\n",
      " ..., \n",
      " [ 7949  7949 10552 ...,     0     0     0]\n",
      " [ 7949  8492    36 ...,     0     0     0]\n",
      " [ 7949  8492 17914 ...,     0     0     0]]\n",
      "max 17914\n"
     ]
    },
    {
     "name": "stderr",
     "output_type": "stream",
     "text": [
      "\n",
      "\n",
      "\n",
      "\n",
      "  7%|▋         | 707/10000 [12:13:58<159:58:36, 61.97s/it]\u001b[A\u001b[A\u001b[A\u001b[A\n",
      "\n",
      "\n",
      "\n",
      "  7%|▋         | 708/10000 [12:15:00<159:55:18, 61.96s/it]\u001b[A\u001b[A\u001b[A\u001b[A"
     ]
    },
    {
     "name": "stdout",
     "output_type": "stream",
     "text": [
      "predition [[17914 17914    36 ...,     0     0     0]\n",
      " [17496     1    36 ...,     0     0     0]\n",
      " [ 7949  8492    36 ...,     0     0     0]\n",
      " ..., \n",
      " [17877     1  8492 ...,     0     0     0]\n",
      " [10738  7949 17914 ...,  7949     1     0]\n",
      " [ 7949 17914    36 ...,    36    36     1]]\n",
      "max 17914\n"
     ]
    },
    {
     "name": "stderr",
     "output_type": "stream",
     "text": [
      "\n",
      "\n",
      "\n",
      "\n",
      "  7%|▋         | 709/10000 [12:16:02<159:55:34, 61.97s/it]\u001b[A\u001b[A\u001b[A\u001b[A\n",
      "\n",
      "\n",
      "\n",
      "  7%|▋         | 710/10000 [12:17:04<159:47:37, 61.92s/it]\u001b[A\u001b[A\u001b[A\u001b[A"
     ]
    },
    {
     "name": "stdout",
     "output_type": "stream",
     "text": [
      "predition [[ 7949  8492 10552 ...,     0     0     0]\n",
      " [ 7949     1     0 ...,     0     0     0]\n",
      " [ 7949     1     0 ...,     0     0     0]\n",
      " ..., \n",
      " [ 7949  8492     0 ...,     0     0     0]\n",
      " [10738  8492     1 ...,     0     0     0]\n",
      " [10738  8492  8492 ...,    36 15868 15868]]\n",
      "max 17914\n"
     ]
    },
    {
     "name": "stderr",
     "output_type": "stream",
     "text": [
      "\n",
      "\n",
      "\n",
      "\n",
      "  7%|▋         | 711/10000 [12:18:06<159:48:44, 61.94s/it]\u001b[A\u001b[A\u001b[A\u001b[A\n",
      "\n",
      "\n",
      "\n",
      "  7%|▋         | 712/10000 [12:19:07<159:44:42, 61.92s/it]\u001b[A\u001b[A\u001b[A\u001b[A"
     ]
    },
    {
     "name": "stdout",
     "output_type": "stream",
     "text": [
      "predition [[10738     1     1 ...,     0     0     0]\n",
      " [ 7949  8492  8492 ..., 15868 15868 15868]\n",
      " [ 7949  7949 10552 ...,    36     0     0]\n",
      " ..., \n",
      " [ 7949  8492  8492 ...,     0     0     0]\n",
      " [ 7949     1     0 ...,     0     0     0]\n",
      " [17496    36     1 ...,     0     0     0]]\n",
      "max 17914\n"
     ]
    },
    {
     "name": "stderr",
     "output_type": "stream",
     "text": [
      "\n",
      "\n",
      "\n",
      "\n",
      "  7%|▋         | 713/10000 [12:20:09<159:50:49, 61.96s/it]\u001b[A\u001b[A\u001b[A\u001b[A\n",
      "\n",
      "\n",
      "\n",
      "  7%|▋         | 714/10000 [12:21:11<159:47:54, 61.95s/it]\u001b[A\u001b[A\u001b[A\u001b[A"
     ]
    },
    {
     "name": "stdout",
     "output_type": "stream",
     "text": [
      "predition [[ 7949  8492     1 ...,     0     0     0]\n",
      " [ 7949  8492 10552 ...,     0     0     0]\n",
      " [ 7949  7949 10552 ...,     0     0     0]\n",
      " ..., \n",
      " [   36     1     0 ...,     0     0     0]\n",
      " [ 7949  8492 10552 ...,    36    36    36]\n",
      " [17877  8492 17914 ...,     0     0     0]]\n",
      "max 17914\n"
     ]
    },
    {
     "name": "stderr",
     "output_type": "stream",
     "text": [
      "\n",
      "\n",
      "\n",
      "\n",
      "  7%|▋         | 715/10000 [12:22:13<159:51:42, 61.98s/it]\u001b[A\u001b[A\u001b[A\u001b[A\n",
      "\n",
      "\n",
      "\n",
      "  7%|▋         | 716/10000 [12:23:15<159:46:55, 61.96s/it]\u001b[A\u001b[A\u001b[A\u001b[A"
     ]
    },
    {
     "name": "stdout",
     "output_type": "stream",
     "text": [
      "predition [[17496    36     1 ...,     0     0     0]\n",
      " [17496  8492    36 ...,     0     0     0]\n",
      " [ 7949  8492  8492 ...,    36     1     0]\n",
      " ..., \n",
      " [17496  8492    36 ...,     0     0     0]\n",
      " [ 7949  8492 10552 ...,     0     0     0]\n",
      " [ 7949  8492  8492 ..., 16139    36    36]]\n",
      "max 17914\n"
     ]
    },
    {
     "name": "stderr",
     "output_type": "stream",
     "text": [
      "\n",
      "\n",
      "\n",
      "\n",
      "  7%|▋         | 717/10000 [12:24:17<159:47:45, 61.97s/it]\u001b[A\u001b[A\u001b[A\u001b[A\n",
      "\n",
      "\n",
      "\n",
      "  7%|▋         | 718/10000 [12:25:19<159:37:32, 61.91s/it]\u001b[A\u001b[A\u001b[A\u001b[A"
     ]
    },
    {
     "name": "stdout",
     "output_type": "stream",
     "text": [
      "predition [[17877     1     0 ...,     0     0     0]\n",
      " [ 7949  8492  8492 ..., 15868 15868    36]\n",
      " [ 7949  7949 10552 ...,    36    36     1]\n",
      " ..., \n",
      " [17914    36  8492 ...,     0     0     0]\n",
      " [ 7949  8492    36 ...,     0     0     0]\n",
      " [ 7949  8492     1 ...,     0     0     0]]\n",
      "max 17914\n"
     ]
    },
    {
     "name": "stderr",
     "output_type": "stream",
     "text": [
      "\n",
      "\n",
      "\n",
      "\n",
      "  7%|▋         | 719/10000 [12:26:21<159:42:51, 61.95s/it]\u001b[A\u001b[A\u001b[A\u001b[A"
     ]
    },
    {
     "name": "stdout",
     "output_type": "stream",
     "text": [
      "predition [[10738  8492 17914 ...,     1     0     0]\n",
      " [ 7949     1     1 ...,     0     0     0]\n",
      " [ 7949  7949     0 ...,     0     0     0]\n",
      " ..., \n",
      " [17496     1     1 ...,     0     0     0]\n",
      " [17914 17914 17914 ...,     0     0     0]\n",
      " [10738  8492  8492 ...,    36    36     1]]\n",
      "max 17914\n"
     ]
    },
    {
     "name": "stderr",
     "output_type": "stream",
     "text": [
      "\n",
      "\n",
      "\n",
      "\n",
      "  7%|▋         | 720/10000 [12:27:23<159:47:59, 61.99s/it]\u001b[A\u001b[A\u001b[A\u001b[A\n",
      "\n",
      "\n",
      "\n",
      "  7%|▋         | 721/10000 [12:28:25<159:41:04, 61.95s/it]\u001b[A\u001b[A\u001b[A\u001b[A"
     ]
    },
    {
     "name": "stdout",
     "output_type": "stream",
     "text": [
      "predition [[ 7949    36     1 ...,     0     0     0]\n",
      " [ 7949  8492    36 ...,     0     0     0]\n",
      " [ 7949  8492     1 ...,     0     0     0]\n",
      " ..., \n",
      " [ 7949  8492 17914 ...,     0     0     0]\n",
      " [ 7949    36     1 ...,     0     0     0]\n",
      " [17496    36     1 ...,     0     0     0]]\n",
      "max 17914\n"
     ]
    },
    {
     "name": "stderr",
     "output_type": "stream",
     "text": [
      "\n",
      "\n",
      "\n",
      "\n",
      "  7%|▋         | 722/10000 [12:29:27<159:40:41, 61.96s/it]\u001b[A\u001b[A\u001b[A\u001b[A\n",
      "\n",
      "\n",
      "\n",
      "  7%|▋         | 723/10000 [12:30:29<159:37:10, 61.94s/it]\u001b[A\u001b[A\u001b[A\u001b[A"
     ]
    },
    {
     "name": "stdout",
     "output_type": "stream",
     "text": [
      "predition [[ 7949  8492 10552 ...,  8492    36     1]\n",
      " [ 7949  7949     0 ...,     0     0     0]\n",
      " [17877     1    36 ...,     0     0     0]\n",
      " ..., \n",
      " [ 7949  8492     1 ...,     0     0     0]\n",
      " [ 7949  8492 10552 ...,     0     0     0]\n",
      " [ 7949  7949  8492 ..., 16139 16139 15868]]\n",
      "max 17914\n"
     ]
    },
    {
     "name": "stderr",
     "output_type": "stream",
     "text": [
      "\n",
      "\n",
      "\n",
      "\n",
      "  7%|▋         | 724/10000 [12:31:31<159:40:20, 61.97s/it]\u001b[A\u001b[A\u001b[A\u001b[A\n",
      "\n",
      "\n",
      "\n",
      "  7%|▋         | 725/10000 [12:32:33<159:32:56, 61.93s/it]\u001b[A\u001b[A\u001b[A\u001b[A"
     ]
    },
    {
     "name": "stdout",
     "output_type": "stream",
     "text": [
      "predition [[ 7949  8492     0 ...,     0     0     0]\n",
      " [ 7949  8492 10552 ...,     0     0     0]\n",
      " [ 7949  8492 10552 ...,     0     0     0]\n",
      " ..., \n",
      " [ 7949  7949 10552 ...,     0     0     0]\n",
      " [ 7949 17914    36 ...,    36    36     1]\n",
      " [ 7949  8492    36 ...,     0     0     0]]\n",
      "max 17914\n"
     ]
    },
    {
     "name": "stderr",
     "output_type": "stream",
     "text": [
      "\n",
      "\n",
      "\n",
      "\n",
      "  7%|▋         | 726/10000 [12:33:35<159:35:14, 61.95s/it]\u001b[A\u001b[A\u001b[A\u001b[A\n",
      "\n",
      "\n",
      "\n",
      "  7%|▋         | 727/10000 [12:34:37<159:36:58, 61.97s/it]\u001b[A\u001b[A\u001b[A\u001b[A"
     ]
    },
    {
     "name": "stdout",
     "output_type": "stream",
     "text": [
      "predition [[ 7949  8492     0 ...,     0     0     0]\n",
      " [10738  8492     1 ...,     0     0     0]\n",
      " [10738    36 17914 ...,     0     0     0]\n",
      " ..., \n",
      " [17914  8492 17914 ...,     0     0     0]\n",
      " [17914 17914     1 ...,     0     0     0]\n",
      " [ 7949  7949  7949 ...,    36    36     1]]\n",
      "max 17914\n"
     ]
    },
    {
     "name": "stderr",
     "output_type": "stream",
     "text": [
      "\n",
      "\n",
      "\n",
      "\n",
      "  7%|▋         | 728/10000 [12:35:39<159:32:22, 61.94s/it]\u001b[A\u001b[A\u001b[A\u001b[A\n",
      "\n",
      "\n",
      "\n",
      "  7%|▋         | 729/10000 [12:36:41<159:27:03, 61.92s/it]\u001b[A\u001b[A\u001b[A\u001b[A"
     ]
    },
    {
     "name": "stdout",
     "output_type": "stream",
     "text": [
      "predition [[17914    36    36 ...,     0     0     0]\n",
      " [10738  8492 17914 ...,     0     0     0]\n",
      " [10738  7949  8492 ...,     0     0     0]\n",
      " ..., \n",
      " [ 7949  7949  7949 ...,     0     0     0]\n",
      " [10738    36     0 ...,     0     0     0]\n",
      " [ 7949  7949 10552 ...,    36    36    36]]\n",
      "max 17914\n"
     ]
    },
    {
     "name": "stderr",
     "output_type": "stream",
     "text": [
      "\n",
      "\n",
      "\n",
      "\n",
      "  7%|▋         | 730/10000 [12:37:43<159:33:10, 61.96s/it]\u001b[A\u001b[A\u001b[A\u001b[A\n",
      "\n",
      "\n",
      "\n",
      "  7%|▋         | 731/10000 [12:38:45<159:27:43, 61.93s/it]\u001b[A\u001b[A\u001b[A\u001b[A"
     ]
    },
    {
     "name": "stdout",
     "output_type": "stream",
     "text": [
      "predition [[10738  7949    36 ...,    36    36     1]\n",
      " [ 7949  8492  8492 ..., 15868    36    36]\n",
      " [ 7949  8492 10552 ...,    36    36     1]\n",
      " ..., \n",
      " [ 7949  8492     1 ...,     0     0     0]\n",
      " [10738  8492 17914 ...,     0     0     0]\n",
      " [ 7949  8492  8492 ..., 15868    36    36]]\n",
      "max 17914\n"
     ]
    },
    {
     "name": "stderr",
     "output_type": "stream",
     "text": [
      "\n",
      "\n",
      "\n",
      "\n",
      "  7%|▋         | 732/10000 [12:39:47<159:31:13, 61.96s/it]\u001b[A\u001b[A\u001b[A\u001b[A"
     ]
    },
    {
     "name": "stdout",
     "output_type": "stream",
     "text": [
      "predition [[ 7949  8492  8492 ...,     1     0     0]\n",
      " [ 7949  8492 10552 ...,     0     0     0]\n",
      " [ 7949  7949 10552 ...,     0     0     0]\n",
      " ..., \n",
      " [17914 17914 10552 ...,     0     0     0]\n",
      " [ 7949  8492  8492 ..., 15868 15868 10712]\n",
      " [17914 17914     0 ...,     0     0     0]]\n",
      "max 17914\n"
     ]
    },
    {
     "name": "stderr",
     "output_type": "stream",
     "text": [
      "\n",
      "\n",
      "\n",
      "\n",
      "  7%|▋         | 733/10000 [12:40:49<159:32:00, 61.97s/it]\u001b[A\u001b[A\u001b[A\u001b[A\n",
      "\n",
      "\n",
      "\n",
      "  7%|▋         | 734/10000 [12:41:50<159:27:26, 61.95s/it]\u001b[A\u001b[A\u001b[A\u001b[A"
     ]
    },
    {
     "name": "stdout",
     "output_type": "stream",
     "text": [
      "predition [[10738  8492    36 ...,    36     1     0]\n",
      " [ 7949  8492 17914 ...,     0     0     0]\n",
      " [17914  8492 17914 ...,     0     0     0]\n",
      " ..., \n",
      " [17496  8492    36 ...,     0     0     0]\n",
      " [ 7949  8492     1 ...,     0     0     0]\n",
      " [17496  8492  8492 ...,     0     0     0]]\n",
      "max 17914\n"
     ]
    },
    {
     "name": "stderr",
     "output_type": "stream",
     "text": [
      "\n",
      "\n",
      "\n",
      "\n",
      "  7%|▋         | 735/10000 [12:42:52<159:25:53, 61.95s/it]\u001b[A\u001b[A\u001b[A\u001b[A\n",
      "\n",
      "\n",
      "\n",
      "  7%|▋         | 736/10000 [12:43:54<159:28:08, 61.97s/it]\u001b[A\u001b[A\u001b[A\u001b[A"
     ]
    },
    {
     "name": "stdout",
     "output_type": "stream",
     "text": [
      "predition [[17496  8492  8492 ...,     0     0     0]\n",
      " [ 7949  8492 10552 ...,  8492    36     1]\n",
      " [10738  8492  8492 ...,    36    36    36]\n",
      " ..., \n",
      " [ 7949  8492     0 ...,     0     0     0]\n",
      " [17914 17914 10552 ...,    36    36     1]\n",
      " [ 7949  8492 10552 ...,     0     0     0]]\n",
      "max 17914\n"
     ]
    },
    {
     "name": "stderr",
     "output_type": "stream",
     "text": [
      "\n",
      "\n",
      "\n",
      "\n",
      "  7%|▋         | 737/10000 [12:44:56<159:28:07, 61.98s/it]\u001b[A\u001b[A\u001b[A\u001b[A\n",
      "\n",
      "\n",
      "\n",
      "  7%|▋         | 738/10000 [12:45:58<159:20:53, 61.94s/it]\u001b[A\u001b[A\u001b[A\u001b[A"
     ]
    },
    {
     "name": "stdout",
     "output_type": "stream",
     "text": [
      "predition [[ 7949  8492 17914 ...,     0     0     0]\n",
      " [ 7949  7949  7949 ..., 16139    36    36]\n",
      " [ 7949  8492 10552 ...,     0     0     0]\n",
      " ..., \n",
      " [ 7949  8492     1 ...,     0     0     0]\n",
      " [10738     1     0 ...,     0     0     0]\n",
      " [17496  8492 17914 ...,     0     0     0]]\n",
      "max 17914\n"
     ]
    },
    {
     "name": "stderr",
     "output_type": "stream",
     "text": [
      "\n",
      "\n",
      "\n",
      "\n",
      "  7%|▋         | 739/10000 [12:47:00<159:29:47, 62.00s/it]\u001b[A\u001b[A\u001b[A\u001b[A\n",
      "\n",
      "\n",
      "\n",
      "  7%|▋         | 740/10000 [12:48:02<159:19:22, 61.94s/it]\u001b[A\u001b[A\u001b[A\u001b[A"
     ]
    },
    {
     "name": "stdout",
     "output_type": "stream",
     "text": [
      "predition [[17496    36     1 ...,     0     0     0]\n",
      " [17461  8492 10552 ...,    36    36    36]\n",
      " [17914  8492  8492 ...,     0     0     0]\n",
      " ..., \n",
      " [ 7949  8492     0 ...,     0     0     0]\n",
      " [ 7949     1     1 ...,     0     0     0]\n",
      " [17496  8492     0 ...,     0     0     0]]\n",
      "max 17914\n"
     ]
    },
    {
     "name": "stderr",
     "output_type": "stream",
     "text": [
      "\n",
      "\n",
      "\n",
      "\n",
      "  7%|▋         | 741/10000 [12:49:04<159:20:23, 61.95s/it]\u001b[A\u001b[A\u001b[A\u001b[A\n",
      "\n",
      "\n",
      "\n",
      "  7%|▋         | 742/10000 [12:50:06<159:14:23, 61.92s/it]\u001b[A\u001b[A\u001b[A\u001b[A"
     ]
    },
    {
     "name": "stdout",
     "output_type": "stream",
     "text": [
      "predition [[10738    36  8492 ...,     0     0     0]\n",
      " [ 7949  7949 10552 ...,     0     0     0]\n",
      " [10738    36     1 ...,     0     0     0]\n",
      " ..., \n",
      " [ 7949    36     1 ...,    36    36     0]\n",
      " [17496  8492 17914 ...,     0     0     0]\n",
      " [ 7949  8492     1 ...,     0     0     0]]\n",
      "max 17914\n"
     ]
    },
    {
     "name": "stderr",
     "output_type": "stream",
     "text": [
      "\n",
      "\n",
      "\n",
      "\n",
      "  7%|▋         | 743/10000 [12:51:08<159:20:19, 61.97s/it]\u001b[A\u001b[A\u001b[A\u001b[A\n",
      "\n",
      "\n",
      "\n",
      "  7%|▋         | 744/10000 [12:52:10<159:18:39, 61.96s/it]\u001b[A\u001b[A\u001b[A\u001b[A"
     ]
    },
    {
     "name": "stdout",
     "output_type": "stream",
     "text": [
      "predition [[10738  8492 10552 ...,     1     0     0]\n",
      " [ 7949     1     1 ...,     0     0     0]\n",
      " [ 7949    36     1 ...,     0     0     0]\n",
      " ..., \n",
      " [10738     1     1 ...,     0     0     0]\n",
      " [10738  8492  8492 ...,     0     0     0]\n",
      " [ 7949  8492 17914 ...,     0     0     0]]\n",
      "max 17914\n"
     ]
    },
    {
     "name": "stderr",
     "output_type": "stream",
     "text": [
      "\n",
      "\n",
      "\n",
      "\n",
      "  7%|▋         | 745/10000 [12:53:12<159:16:56, 61.96s/it]\u001b[A\u001b[A\u001b[A\u001b[A"
     ]
    },
    {
     "name": "stdout",
     "output_type": "stream",
     "text": [
      "predition [[10738  8492  8492 ...,     0     0     0]\n",
      " [ 7949  8492  8492 ...,     0     0     0]\n",
      " [ 7949  8492 10552 ...,    36     1     1]\n",
      " ..., \n",
      " [ 7949  8492  8492 ...,    36    36    36]\n",
      " [ 7949  8492  8492 ..., 16139 16139    36]\n",
      " [17877     1     1 ...,     0     0     0]]\n",
      "max 17914\n"
     ]
    },
    {
     "name": "stderr",
     "output_type": "stream",
     "text": [
      "\n",
      "\n",
      "\n",
      "\n",
      "  7%|▋         | 746/10000 [12:54:14<159:23:21, 62.01s/it]\u001b[A\u001b[A\u001b[A\u001b[A\n",
      "\n",
      "\n",
      "\n",
      "  7%|▋         | 747/10000 [12:55:16<159:13:42, 61.95s/it]\u001b[A\u001b[A\u001b[A\u001b[A"
     ]
    },
    {
     "name": "stdout",
     "output_type": "stream",
     "text": [
      "predition [[10738    36     1 ...,     0     0     0]\n",
      " [ 7949  8492  8492 ..., 15868 15868    36]\n",
      " [17496     1     0 ...,    36     1     0]\n",
      " ..., \n",
      " [10738  8492    36 ...,     1     0     0]\n",
      " [ 7949  7949  7949 ...,     0     0     0]\n",
      " [ 7949  8492     0 ...,     0     0     0]]\n",
      "max 17914\n"
     ]
    },
    {
     "name": "stderr",
     "output_type": "stream",
     "text": [
      "\n",
      "\n",
      "\n",
      "\n",
      "  7%|▋         | 748/10000 [12:56:18<159:18:59, 61.99s/it]\u001b[A\u001b[A\u001b[A\u001b[A\n",
      "\n",
      "\n",
      "\n",
      "  7%|▋         | 749/10000 [12:57:20<159:17:16, 61.99s/it]\u001b[A\u001b[A\u001b[A\u001b[A"
     ]
    },
    {
     "name": "stdout",
     "output_type": "stream",
     "text": [
      "predition [[ 7949    36    36 ...,     0     0     0]\n",
      " [17877     1 10552 ...,     0     0     0]\n",
      " [ 7949  8492 10552 ...,     1     0     0]\n",
      " ..., \n",
      " [10738     1     1 ...,     0     0     0]\n",
      " [ 7949  7949 10552 ...,    36    36    36]\n",
      " [ 7949  8492     1 ...,     0     0     0]]\n",
      "max 17914\n"
     ]
    },
    {
     "name": "stderr",
     "output_type": "stream",
     "text": [
      "\n",
      "\n",
      "\n",
      "\n",
      "  8%|▊         | 750/10000 [12:58:22<159:10:12, 61.95s/it]\u001b[A\u001b[A\u001b[A\u001b[A\n",
      "\n",
      "\n",
      "\n",
      "  8%|▊         | 751/10000 [12:59:24<159:05:14, 61.92s/it]\u001b[A\u001b[A\u001b[A\u001b[A"
     ]
    },
    {
     "name": "stdout",
     "output_type": "stream",
     "text": [
      "predition [[ 7949     1     0 ...,     0     0     0]\n",
      " [ 7949  7949 10552 ...,    36    36     1]\n",
      " [ 7949    36  8492 ..., 17914     0     0]\n",
      " ..., \n",
      " [17496    36    36 ...,     0     0     0]\n",
      " [10738  8492  8492 ...,     0     0     0]\n",
      " [17914 17914     0 ...,    36    36     1]]\n",
      "max 17914\n"
     ]
    },
    {
     "name": "stderr",
     "output_type": "stream",
     "text": [
      "\n",
      "\n",
      "\n",
      "\n",
      "  8%|▊         | 752/10000 [13:00:26<159:03:36, 61.92s/it]\u001b[A\u001b[A\u001b[A\u001b[A\n",
      "\n",
      "\n",
      "\n",
      "  8%|▊         | 753/10000 [13:01:27<158:57:34, 61.89s/it]\u001b[A\u001b[A\u001b[A\u001b[A"
     ]
    },
    {
     "name": "stdout",
     "output_type": "stream",
     "text": [
      "predition [[10738     1 17914 ...,    36    36    36]\n",
      " [17496     1     0 ...,     0     0     0]\n",
      " [ 7949  8492  8492 ...,     0     0     0]\n",
      " ..., \n",
      " [10738    36    36 ...,     0     0     0]\n",
      " [ 7949 17914 17914 ...,     0     0     0]\n",
      " [10738  8492     1 ...,     0     0     0]]\n",
      "max 17914\n"
     ]
    },
    {
     "name": "stderr",
     "output_type": "stream",
     "text": [
      "\n",
      "\n",
      "\n",
      "\n",
      "  8%|▊         | 754/10000 [13:02:30<159:08:34, 61.96s/it]\u001b[A\u001b[A\u001b[A\u001b[A\n",
      "\n",
      "\n",
      "\n",
      "  8%|▊         | 755/10000 [13:03:31<158:59:14, 61.91s/it]\u001b[A\u001b[A\u001b[A\u001b[A"
     ]
    },
    {
     "name": "stdout",
     "output_type": "stream",
     "text": [
      "predition [[ 7949  8492 10552 ..., 15868 16139    36]\n",
      " [17877  8492     1 ...,     0     0     0]\n",
      " [17914 17914     1 ...,     0     0     0]\n",
      " ..., \n",
      " [17496    36     1 ...,     0     0     0]\n",
      " [17496     1     1 ...,     0     0     0]\n",
      " [ 7949  8492  8492 ...,     0     0     0]]\n",
      "max 17914\n"
     ]
    },
    {
     "name": "stderr",
     "output_type": "stream",
     "text": [
      "\n",
      "\n",
      "\n",
      "\n",
      "  8%|▊         | 756/10000 [13:04:33<159:07:02, 61.97s/it]\u001b[A\u001b[A\u001b[A\u001b[A\n",
      "\n",
      "\n",
      "\n",
      "  8%|▊         | 757/10000 [13:05:35<159:05:23, 61.96s/it]\u001b[A\u001b[A\u001b[A\u001b[A"
     ]
    },
    {
     "name": "stdout",
     "output_type": "stream",
     "text": [
      "predition [[ 7949  8492  8492 ..., 16139 15868    36]\n",
      " [17496     1     1 ...,     0     0     0]\n",
      " [ 7949  8492  8492 ...,    36     1     0]\n",
      " ..., \n",
      " [ 7949  8492  8492 ...,     0     0     0]\n",
      " [ 7949 17914 17914 ...,     0     0     0]\n",
      " [10738  8492 17914 ...,     0     0     0]]\n",
      "max 17914\n"
     ]
    },
    {
     "name": "stderr",
     "output_type": "stream",
     "text": [
      "\n",
      "\n",
      "\n",
      "\n",
      "  8%|▊         | 758/10000 [13:06:37<159:04:57, 61.97s/it]\u001b[A\u001b[A\u001b[A\u001b[A\n",
      "\n",
      "\n",
      "\n",
      "  8%|▊         | 759/10000 [13:07:39<159:00:24, 61.94s/it]\u001b[A\u001b[A\u001b[A\u001b[A"
     ]
    },
    {
     "name": "stdout",
     "output_type": "stream",
     "text": [
      "predition [[ 7949  8492  8492 ...,     0     0     0]\n",
      " [10738     1    36 ...,     0     0     0]\n",
      " [   36     1     0 ...,     0     0     0]\n",
      " ..., \n",
      " [ 7949    36  8492 ...,     0     0     0]\n",
      " [ 7949  7949  8492 ...,     0     0     0]\n",
      " [ 7949  8492     1 ...,     0     0     0]]\n",
      "max 17914\n"
     ]
    },
    {
     "name": "stderr",
     "output_type": "stream",
     "text": [
      "\n",
      "\n",
      "\n",
      "\n",
      "  8%|▊         | 760/10000 [13:08:41<159:04:44, 61.98s/it]\u001b[A\u001b[A\u001b[A\u001b[A"
     ]
    },
    {
     "name": "stdout",
     "output_type": "stream",
     "text": [
      "predition [[ 7949  8492     1 ...,     0     0     0]\n",
      " [17914 17914 10552 ...,     0     0     0]\n",
      " [17496     1 17914 ...,     0     0     0]\n",
      " ..., \n",
      " [ 7949  7949     0 ...,     0     0     0]\n",
      " [10738    36     1 ...,     0     0     0]\n",
      " [10738  8492  8492 ...,    36    36     1]]\n",
      "max 17914\n"
     ]
    },
    {
     "name": "stderr",
     "output_type": "stream",
     "text": [
      "\n",
      "\n",
      "\n",
      "\n",
      "  8%|▊         | 761/10000 [13:09:43<159:07:56, 62.01s/it]\u001b[A\u001b[A\u001b[A\u001b[A\n",
      "\n",
      "\n",
      "\n",
      "  8%|▊         | 762/10000 [13:10:45<158:57:39, 61.95s/it]\u001b[A\u001b[A\u001b[A\u001b[A"
     ]
    },
    {
     "name": "stdout",
     "output_type": "stream",
     "text": [
      "predition [[10738     1     1 ...,     0     0     0]\n",
      " [17914 17914     1 ...,     0     0     0]\n",
      " [17496  8492 10552 ...,     0     0     0]\n",
      " ..., \n",
      " [17914  8492    36 ...,     0     0     0]\n",
      " [ 7949  8492 10552 ...,    36    36    36]\n",
      " [10738     1 10552 ...,    36    36     1]]\n",
      "max 17914\n"
     ]
    },
    {
     "name": "stderr",
     "output_type": "stream",
     "text": [
      "\n",
      "\n",
      "\n",
      "\n",
      "  8%|▊         | 763/10000 [13:11:47<159:00:54, 61.97s/it]\u001b[A\u001b[A\u001b[A\u001b[A\n",
      "\n",
      "\n",
      "\n",
      "  8%|▊         | 764/10000 [13:12:49<158:59:26, 61.97s/it]\u001b[A\u001b[A\u001b[A\u001b[A"
     ]
    },
    {
     "name": "stdout",
     "output_type": "stream",
     "text": [
      "predition [[ 7949  8492     0 ...,     0     0     0]\n",
      " [ 7949     1     0 ...,     0     0     0]\n",
      " [ 7949    36    36 ...,     0     0     0]\n",
      " ..., \n",
      " [ 7949    36     0 ...,     0     0     0]\n",
      " [10738    36    36 ...,     0     0     0]\n",
      " [17496  8492    36 ...,     0     0     0]]\n",
      "max 17914\n"
     ]
    },
    {
     "name": "stderr",
     "output_type": "stream",
     "text": [
      "\n",
      "\n",
      "\n",
      "\n",
      "  8%|▊         | 765/10000 [13:13:51<158:59:12, 61.98s/it]\u001b[A\u001b[A\u001b[A\u001b[A\n",
      "\n",
      "\n",
      "\n",
      "  8%|▊         | 766/10000 [13:14:53<158:55:24, 61.96s/it]\u001b[A\u001b[A\u001b[A\u001b[A"
     ]
    },
    {
     "name": "stdout",
     "output_type": "stream",
     "text": [
      "predition [[17496  8492    36 ...,     0     0     0]\n",
      " [10738    36     1 ...,     0     0     0]\n",
      " [17496  8492    36 ...,     0     0     0]\n",
      " ..., \n",
      " [ 7949  7949 10552 ...,    36     0     0]\n",
      " [ 7949  7949 10552 ...,     0     0     0]\n",
      " [17496    36     1 ...,     0     0     0]]\n",
      "max 17914\n"
     ]
    },
    {
     "name": "stderr",
     "output_type": "stream",
     "text": [
      "\n",
      "\n",
      "\n",
      "\n",
      "  8%|▊         | 767/10000 [13:15:55<159:04:10, 62.02s/it]\u001b[A\u001b[A\u001b[A\u001b[A\n",
      "\n",
      "\n",
      "\n",
      "  8%|▊         | 768/10000 [13:16:57<158:51:35, 61.95s/it]\u001b[A\u001b[A\u001b[A\u001b[A"
     ]
    },
    {
     "name": "stdout",
     "output_type": "stream",
     "text": [
      "predition [[ 7949  8492     1 ...,     0     0     0]\n",
      " [ 7949  8492     1 ...,     0     0     0]\n",
      " [ 7949  8492 10552 ...,     0     0     0]\n",
      " ..., \n",
      " [ 7949 17914 17914 ..., 16139    36    36]\n",
      " [10738    36    36 ...,     0     0     0]\n",
      " [17877  8492 17395 ...,     0     0     0]]\n",
      "max 17914\n"
     ]
    },
    {
     "name": "stderr",
     "output_type": "stream",
     "text": [
      "\n",
      "\n",
      "\n",
      "\n",
      "  8%|▊         | 769/10000 [13:17:59<158:55:18, 61.98s/it]\u001b[A\u001b[A\u001b[A\u001b[A\n",
      "\n",
      "\n",
      "\n",
      "  8%|▊         | 770/10000 [13:19:01<158:49:10, 61.94s/it]\u001b[A\u001b[A\u001b[A\u001b[A"
     ]
    },
    {
     "name": "stdout",
     "output_type": "stream",
     "text": [
      "predition [[ 7949  8492  8492 ...,     1     0     0]\n",
      " [17496  8492  8492 ...,     0     0     0]\n",
      " [17496     1    36 ...,     0     0     0]\n",
      " ..., \n",
      " [ 7949  7949 10552 ...,     1     0     0]\n",
      " [10738  8492 10552 ...,    36    36    36]\n",
      " [ 7949  8492    36 ..., 16139 16139 15868]]\n",
      "max 17914\n"
     ]
    },
    {
     "name": "stderr",
     "output_type": "stream",
     "text": [
      "\n",
      "\n",
      "\n",
      "\n",
      "  8%|▊         | 771/10000 [13:20:03<158:54:19, 61.98s/it]\u001b[A\u001b[A\u001b[A\u001b[A\n",
      "\n",
      "\n",
      "\n",
      "  8%|▊         | 772/10000 [13:21:05<158:45:46, 61.94s/it]\u001b[A\u001b[A\u001b[A\u001b[A"
     ]
    },
    {
     "name": "stdout",
     "output_type": "stream",
     "text": [
      "predition [[ 7949  8492     1 ...,     0     0     0]\n",
      " [17496     1     1 ...,     0     0     0]\n",
      " [ 7949    36     1 ...,     0     0     0]\n",
      " ..., \n",
      " [ 7949    36    36 ...,     0     0     0]\n",
      " [   36     1     0 ...,     0     0     0]\n",
      " [ 7949  7949 10552 ...,     0     0     0]]\n",
      "max 17914\n"
     ]
    },
    {
     "name": "stderr",
     "output_type": "stream",
     "text": [
      "\n",
      "\n",
      "\n",
      "\n",
      "  8%|▊         | 773/10000 [13:22:07<158:52:27, 61.99s/it]\u001b[A\u001b[A\u001b[A\u001b[A"
     ]
    },
    {
     "name": "stdout",
     "output_type": "stream",
     "text": [
      "predition [[ 7949    36    36 ...,     0     0     0]\n",
      " [17496  8492 17914 ...,     0     0     0]\n",
      " [   36     1     1 ...,     0     0     0]\n",
      " ..., \n",
      " [10738    36     1 ...,     0     0     0]\n",
      " [17496  8492 17914 ...,     0     0     0]\n",
      " [ 7949  8492     1 ...,     0     0     0]]\n",
      "max 17914\n"
     ]
    },
    {
     "name": "stderr",
     "output_type": "stream",
     "text": [
      "\n",
      "\n",
      "\n",
      "\n",
      "  8%|▊         | 774/10000 [13:23:09<158:49:05, 61.97s/it]\u001b[A\u001b[A\u001b[A\u001b[A\n",
      "\n",
      "\n",
      "\n",
      "  8%|▊         | 775/10000 [13:24:11<158:43:09, 61.94s/it]\u001b[A\u001b[A\u001b[A\u001b[A"
     ]
    },
    {
     "name": "stdout",
     "output_type": "stream",
     "text": [
      "predition [[17496    36     1 ...,     0     0     0]\n",
      " [ 7949  8492  8492 ...,     0     0     0]\n",
      " [ 7949     1     0 ...,     0     0     0]\n",
      " ..., \n",
      " [17496    36     1 ...,     0     0     0]\n",
      " [ 7949   899 10552 ...,     0     0     0]\n",
      " [17496     1     0 ...,     0     0     0]]\n",
      "max 17914\n"
     ]
    },
    {
     "name": "stderr",
     "output_type": "stream",
     "text": [
      "\n",
      "\n",
      "\n",
      "\n",
      "  8%|▊         | 776/10000 [13:25:13<158:55:29, 62.03s/it]\u001b[A\u001b[A\u001b[A\u001b[A\n",
      "\n",
      "\n",
      "\n",
      "  8%|▊         | 777/10000 [13:26:15<158:48:34, 61.99s/it]\u001b[A\u001b[A\u001b[A\u001b[A"
     ]
    },
    {
     "name": "stdout",
     "output_type": "stream",
     "text": [
      "predition [[10738    36 17914 ...,     0     0     0]\n",
      " [ 7949  8492  8492 ...,     0     0     0]\n",
      " [ 7949  8492  8492 ...,     0     0     0]\n",
      " ..., \n",
      " [ 7949  8492  8492 ..., 15868 15868 15868]\n",
      " [ 7949  8492 10552 ...,    36     1     0]\n",
      " [10738  8492     1 ...,     0     0     0]]\n",
      "max 17914\n"
     ]
    },
    {
     "name": "stderr",
     "output_type": "stream",
     "text": [
      "\n",
      "\n",
      "\n",
      "\n",
      "  8%|▊         | 778/10000 [13:27:17<158:51:07, 62.01s/it]\u001b[A\u001b[A\u001b[A\u001b[A\n",
      "\n",
      "\n",
      "\n",
      "  8%|▊         | 779/10000 [13:28:19<158:44:46, 61.98s/it]\u001b[A\u001b[A\u001b[A\u001b[A"
     ]
    },
    {
     "name": "stdout",
     "output_type": "stream",
     "text": [
      "predition [[10738  8492 10552 ...,    36 15868 15868]\n",
      " [10738    36    36 ...,     0     0     0]\n",
      " [ 7949  7949 10552 ...,     0     0     0]\n",
      " ..., \n",
      " [ 7949  7949 10552 ...,     0     0     0]\n",
      " [17914  8492  8492 ...,    36    36    36]\n",
      " [ 7949     1     0 ...,     0     0     0]]\n",
      "max 17914\n"
     ]
    },
    {
     "name": "stderr",
     "output_type": "stream",
     "text": [
      "\n",
      "\n",
      "\n",
      "\n",
      "  8%|▊         | 780/10000 [13:29:21<158:44:07, 61.98s/it]\u001b[A\u001b[A\u001b[A\u001b[A\n",
      "\n",
      "\n",
      "\n",
      "  8%|▊         | 781/10000 [13:30:23<158:34:36, 61.92s/it]\u001b[A\u001b[A\u001b[A\u001b[A"
     ]
    },
    {
     "name": "stdout",
     "output_type": "stream",
     "text": [
      "predition [[ 7949 17914    36 ...,     0     0     0]\n",
      " [ 7949  8492  8492 ...,     0     0     0]\n",
      " [17496     1     0 ...,     0     0     0]\n",
      " ..., \n",
      " [17461  8492 17914 ...,    36    36     1]\n",
      " [ 7949  7949     0 ...,     0     0     0]\n",
      " [17914  8492 17914 ...,     0     0     0]]\n",
      "max 17914\n"
     ]
    },
    {
     "name": "stderr",
     "output_type": "stream",
     "text": [
      "\n",
      "\n",
      "\n",
      "\n",
      "  8%|▊         | 782/10000 [13:31:25<158:37:05, 61.95s/it]\u001b[A\u001b[A\u001b[A\u001b[A\n",
      "\n",
      "\n",
      "\n",
      "  8%|▊         | 783/10000 [13:32:27<158:38:15, 61.96s/it]\u001b[A\u001b[A\u001b[A\u001b[A"
     ]
    },
    {
     "name": "stdout",
     "output_type": "stream",
     "text": [
      "predition [[10738  8492    36 ...,     1     1     0]\n",
      " [ 7949  8492    36 ...,     0     0     0]\n",
      " [ 7949  8492    36 ...,     0     0     0]\n",
      " ..., \n",
      " [17395  8492 10552 ..., 15868 15868 15868]\n",
      " [ 7949  8492 10552 ...,     0     0     0]\n",
      " [ 7949  8492 10552 ...,     0     0     0]]\n",
      "max 17914\n"
     ]
    },
    {
     "name": "stderr",
     "output_type": "stream",
     "text": [
      "\n",
      "\n",
      "\n",
      "\n",
      "  8%|▊         | 784/10000 [13:33:29<158:42:38, 62.00s/it]\u001b[A\u001b[A\u001b[A\u001b[A\n",
      "\n",
      "\n",
      "\n",
      "  8%|▊         | 785/10000 [13:34:31<158:33:44, 61.95s/it]\u001b[A\u001b[A\u001b[A\u001b[A"
     ]
    },
    {
     "name": "stdout",
     "output_type": "stream",
     "text": [
      "predition [[ 7949  8492 10552 ...,     0     0     0]\n",
      " [10738  8492     1 ...,     0     0     0]\n",
      " [ 7949    36 10552 ...,     1     1     0]\n",
      " ..., \n",
      " [17496  8492     0 ...,     0     0     0]\n",
      " [ 7949  7949 10552 ...,    36    36     1]\n",
      " [17496     1     0 ...,     0     0     0]]\n",
      "max 17914\n"
     ]
    },
    {
     "name": "stderr",
     "output_type": "stream",
     "text": [
      "\n",
      "\n",
      "\n",
      "\n",
      "  8%|▊         | 786/10000 [13:35:33<158:39:20, 61.99s/it]\u001b[A\u001b[A\u001b[A\u001b[A"
     ]
    },
    {
     "name": "stdout",
     "output_type": "stream",
     "text": [
      "predition [[ 7949  8492     1 ...,     0     0     0]\n",
      " [17496  8492    36 ...,     0     0     0]\n",
      " [17877     1     0 ..., 15868    36    36]\n",
      " ..., \n",
      " [ 7949  8492 10552 ...,    36    36    36]\n",
      " [17877    36    36 ...,     0     0     0]\n",
      " [ 7949  8492  8492 ...,     0     0     0]]\n",
      "max 17914\n"
     ]
    },
    {
     "name": "stderr",
     "output_type": "stream",
     "text": [
      "\n",
      "\n",
      "\n",
      "\n",
      "  8%|▊         | 787/10000 [13:36:35<158:43:59, 62.03s/it]\u001b[A\u001b[A\u001b[A\u001b[A\n",
      "\n",
      "\n",
      "\n",
      "  8%|▊         | 788/10000 [13:37:37<158:32:25, 61.96s/it]\u001b[A\u001b[A\u001b[A\u001b[A"
     ]
    },
    {
     "name": "stdout",
     "output_type": "stream",
     "text": [
      "predition [[17496     1     0 ...,     0     0     0]\n",
      " [ 7949  8492     1 ...,     0     0     0]\n",
      " [ 7949  7949     0 ...,     0     0     0]\n",
      " ..., \n",
      " [ 7949  7949 10552 ...,    36    36     0]\n",
      " [ 7949  8492     1 ...,     0     0     0]\n",
      " [10738    36     1 ...,     0     0     0]]\n",
      "max 17914\n"
     ]
    },
    {
     "name": "stderr",
     "output_type": "stream",
     "text": [
      "\n",
      "\n",
      "\n",
      "\n",
      "  8%|▊         | 789/10000 [13:38:39<158:32:23, 61.96s/it]\u001b[A\u001b[A\u001b[A\u001b[A\n",
      "\n",
      "\n",
      "\n",
      "  8%|▊         | 790/10000 [13:39:40<158:24:30, 61.92s/it]\u001b[A\u001b[A\u001b[A\u001b[A"
     ]
    },
    {
     "name": "stdout",
     "output_type": "stream",
     "text": [
      "predition [[ 7949  8492     0 ...,     0     0     0]\n",
      " [17496  8492    36 ...,     0     0     0]\n",
      " [ 7949  8492 17914 ...,     0     0     0]\n",
      " ..., \n",
      " [ 7949  8492     1 ...,     0     0     0]\n",
      " [10738  8492    36 ...,     0     0     0]\n",
      " [17877     1     0 ..., 15868    36    36]]\n",
      "max 17914\n"
     ]
    },
    {
     "name": "stderr",
     "output_type": "stream",
     "text": [
      "\n",
      "\n",
      "\n",
      "\n",
      "  8%|▊         | 791/10000 [13:40:42<158:31:22, 61.97s/it]\u001b[A\u001b[A\u001b[A\u001b[A\n",
      "\n",
      "\n",
      "\n",
      "  8%|▊         | 792/10000 [13:41:44<158:27:35, 61.95s/it]\u001b[A\u001b[A\u001b[A\u001b[A"
     ]
    },
    {
     "name": "stdout",
     "output_type": "stream",
     "text": [
      "predition [[ 7949  7949  7949 ...,     0     0     0]\n",
      " [ 7949 17914 17914 ...,    36    36    36]\n",
      " [   36    36     1 ...,     0     0     0]\n",
      " ..., \n",
      " [17914 17914 10552 ...,     1     0     0]\n",
      " [17496     1     0 ...,     0     0     0]\n",
      " [ 7949  8492     1 ...,     0     0     0]]\n",
      "max 17914\n"
     ]
    },
    {
     "name": "stderr",
     "output_type": "stream",
     "text": [
      "\n",
      "\n",
      "\n",
      "\n",
      "  8%|▊         | 793/10000 [13:42:46<158:34:06, 62.00s/it]\u001b[A\u001b[A\u001b[A\u001b[A\n",
      "\n",
      "\n",
      "\n",
      "  8%|▊         | 794/10000 [13:43:48<158:30:08, 61.98s/it]\u001b[A\u001b[A\u001b[A\u001b[A"
     ]
    },
    {
     "name": "stdout",
     "output_type": "stream",
     "text": [
      "predition [[ 7949  8492  8492 ..., 16139    36    36]\n",
      " [ 7949  8492 10552 ...,     0     0     0]\n",
      " [17496    36    36 ...,     0     0     0]\n",
      " ..., \n",
      " [ 7949  7949  7949 ...,     0     0     0]\n",
      " [ 7949    36 10552 ...,     0     0     0]\n",
      " [ 7949  7949 10552 ..., 16139    36    36]]\n",
      "max 17914\n"
     ]
    },
    {
     "name": "stderr",
     "output_type": "stream",
     "text": [
      "\n",
      "\n",
      "\n",
      "\n",
      "  8%|▊         | 795/10000 [13:44:50<158:31:31, 62.00s/it]\u001b[A\u001b[A\u001b[A\u001b[A\n",
      "\n",
      "\n",
      "\n",
      "  8%|▊         | 796/10000 [13:45:52<158:21:47, 61.94s/it]\u001b[A\u001b[A\u001b[A\u001b[A"
     ]
    },
    {
     "name": "stdout",
     "output_type": "stream",
     "text": [
      "predition [[ 7949  8492     1 ...,     0     0     0]\n",
      " [17496     1     1 ...,     0     0     0]\n",
      " [ 7949     1     0 ...,     0     0     0]\n",
      " ..., \n",
      " [17496    36     1 ...,     0     0     0]\n",
      " [17914  8492 17914 ...,     0     0     0]\n",
      " [ 7949  8492  8492 ...,    36    36     1]]\n",
      "max 17914\n"
     ]
    },
    {
     "name": "stderr",
     "output_type": "stream",
     "text": [
      "\n",
      "\n",
      "\n",
      "\n",
      "  8%|▊         | 797/10000 [13:46:54<158:27:10, 61.98s/it]\u001b[A\u001b[A\u001b[A\u001b[A\n",
      "\n",
      "\n",
      "\n",
      "  8%|▊         | 798/10000 [13:47:56<158:20:41, 61.95s/it]\u001b[A\u001b[A\u001b[A\u001b[A"
     ]
    },
    {
     "name": "stdout",
     "output_type": "stream",
     "text": [
      "predition [[10738  8492     1 ...,     0     0     0]\n",
      " [ 7949  8492 10552 ...,     0     0     0]\n",
      " [17914 17914     0 ...,     0     0     0]\n",
      " ..., \n",
      " [17496     1     0 ...,     0     0     0]\n",
      " [17395  8492 10552 ...,     0     0     0]\n",
      " [ 7949  8492 17914 ...,     0     0     0]]\n",
      "max 17914\n"
     ]
    },
    {
     "name": "stderr",
     "output_type": "stream",
     "text": [
      "\n",
      "\n",
      "\n",
      "\n",
      "  8%|▊         | 799/10000 [13:48:58<158:31:00, 62.02s/it]\u001b[A\u001b[A\u001b[A\u001b[A\n",
      "\n",
      "\n",
      "\n",
      "  8%|▊         | 800/10000 [13:50:00<158:21:52, 61.97s/it]\u001b[A\u001b[A\u001b[A\u001b[A"
     ]
    },
    {
     "name": "stdout",
     "output_type": "stream",
     "text": [
      "predition [[ 7949  8492  8492 ...,    36    36    36]\n",
      " [10738  8492  8492 ...,     0     0     0]\n",
      " [10738  8492  8492 ...,     0     0     0]\n",
      " ..., \n",
      " [ 7949  8492     1 ...,     0     0     0]\n",
      " [17496     1     0 ...,     0     0     0]\n",
      " [10738  8492    36 ...,    36     1     0]]\n",
      "max 17914\n"
     ]
    },
    {
     "name": "stderr",
     "output_type": "stream",
     "text": [
      "\n",
      "\n",
      "\n",
      "\n",
      "  8%|▊         | 801/10000 [13:51:02<158:20:37, 61.97s/it]\u001b[A\u001b[A\u001b[A\u001b[A"
     ]
    },
    {
     "name": "stdout",
     "output_type": "stream",
     "text": [
      "predition [[17496     1     0 ...,     0     0     0]\n",
      " [ 7949  8492 10552 ..., 17914 17914    36]\n",
      " [ 7949  8492    36 ...,     0     0     0]\n",
      " ..., \n",
      " [10738    36    36 ...,     0     0     0]\n",
      " [ 7949  8492 10552 ...,     0     0     0]\n",
      " [17496    36     1 ...,     0     0     0]]\n",
      "max 17914\n"
     ]
    },
    {
     "name": "stderr",
     "output_type": "stream",
     "text": [
      "\n",
      "\n",
      "\n",
      "\n",
      "  8%|▊         | 802/10000 [13:52:04<158:14:25, 61.93s/it]\u001b[A\u001b[A\u001b[A\u001b[A\n",
      "\n",
      "\n",
      "\n",
      "  8%|▊         | 803/10000 [13:53:06<158:08:19, 61.90s/it]\u001b[A\u001b[A\u001b[A\u001b[A"
     ]
    },
    {
     "name": "stdout",
     "output_type": "stream",
     "text": [
      "predition [[ 7949  7949  7949 ...,    36    36    36]\n",
      " [ 7949    36    36 ...,     0     0     0]\n",
      " [ 7949  8492  8492 ...,    36    36     1]\n",
      " ..., \n",
      " [ 7949     1     0 ...,     0     0     0]\n",
      " [ 7949  8492     1 ...,     0     0     0]\n",
      " [17496     1     1 ...,     0     0     0]]\n",
      "max 17914\n"
     ]
    },
    {
     "name": "stderr",
     "output_type": "stream",
     "text": [
      "\n",
      "\n",
      "\n",
      "\n",
      "  8%|▊         | 804/10000 [13:54:08<158:03:32, 61.88s/it]\u001b[A\u001b[A\u001b[A\u001b[A\n",
      "\n",
      "\n",
      "\n",
      "  8%|▊         | 805/10000 [13:55:10<158:06:53, 61.90s/it]\u001b[A\u001b[A\u001b[A\u001b[A"
     ]
    },
    {
     "name": "stdout",
     "output_type": "stream",
     "text": [
      "predition [[17914    36    36 ...,     0     0     0]\n",
      " [10738 17914 17914 ..., 17914    36    36]\n",
      " [17496     1     0 ...,     0     0     0]\n",
      " ..., \n",
      " [ 7949  7949 10552 ...,    36    36    36]\n",
      " [17496  8492  8492 ...,    36    36    36]\n",
      " [ 7949  8492     1 ...,     0     0     0]]\n",
      "max 17914\n"
     ]
    },
    {
     "name": "stderr",
     "output_type": "stream",
     "text": [
      "\n",
      "\n",
      "\n",
      "\n",
      "  8%|▊         | 806/10000 [13:56:12<158:09:24, 61.93s/it]\u001b[A\u001b[A\u001b[A\u001b[A\n",
      "\n",
      "\n",
      "\n",
      "  8%|▊         | 807/10000 [13:57:14<158:06:33, 61.92s/it]\u001b[A\u001b[A\u001b[A\u001b[A"
     ]
    },
    {
     "name": "stdout",
     "output_type": "stream",
     "text": [
      "predition [[ 7949  8492 10552 ..., 15868 15868    36]\n",
      " [17496  8492  8492 ...,     0     0     0]\n",
      " [17496  8492    36 ...,     0     0     0]\n",
      " ..., \n",
      " [17461  8492 10552 ..., 15868 15868    36]\n",
      " [ 7949  8492  8492 ...,    36    36     0]\n",
      " [ 7949  8492     1 ...,     0     0     0]]\n",
      "max 17914\n"
     ]
    },
    {
     "name": "stderr",
     "output_type": "stream",
     "text": [
      "\n",
      "\n",
      "\n",
      "\n",
      "  8%|▊         | 808/10000 [13:58:16<158:09:28, 61.94s/it]\u001b[A\u001b[A\u001b[A\u001b[A\n",
      "\n",
      "\n",
      "\n",
      "  8%|▊         | 809/10000 [13:59:17<158:08:04, 61.94s/it]\u001b[A\u001b[A\u001b[A\u001b[A"
     ]
    },
    {
     "name": "stdout",
     "output_type": "stream",
     "text": [
      "predition [[ 7949     1     1 ...,     0     0     0]\n",
      " [17496  8492    36 ...,     0     0     0]\n",
      " [10738     1    36 ...,     0     0     0]\n",
      " ..., \n",
      " [ 7949    36    36 ...,     0     0     0]\n",
      " [ 7949     1     1 ...,     0     0     0]\n",
      " [17914  8492     1 ...,     0     0     0]]\n",
      "max 17914\n"
     ]
    },
    {
     "name": "stderr",
     "output_type": "stream",
     "text": [
      "\n",
      "\n",
      "\n",
      "\n",
      "  8%|▊         | 810/10000 [14:00:20<158:12:24, 61.97s/it]\u001b[A\u001b[A\u001b[A\u001b[A\n",
      "\n",
      "\n",
      "\n",
      "  8%|▊         | 811/10000 [14:01:21<158:08:35, 61.96s/it]\u001b[A\u001b[A\u001b[A\u001b[A"
     ]
    },
    {
     "name": "stdout",
     "output_type": "stream",
     "text": [
      "predition [[17496  8492  8492 ...,     0     0     0]\n",
      " [10738     1     1 ...,     0     0     0]\n",
      " [10738  8492 17914 ...,     0     0     0]\n",
      " ..., \n",
      " [ 7949  7949  7949 ...,     0     0     0]\n",
      " [ 7949  8492 10552 ...,    36    36     1]\n",
      " [ 7949  8492     0 ...,     0     0     0]]\n",
      "max 17914\n"
     ]
    },
    {
     "name": "stderr",
     "output_type": "stream",
     "text": [
      "\n",
      "\n",
      "\n",
      "\n",
      "  8%|▊         | 812/10000 [14:02:23<158:10:23, 61.97s/it]\u001b[A\u001b[A\u001b[A\u001b[A\n",
      "\n",
      "\n",
      "\n",
      "  8%|▊         | 813/10000 [14:03:25<158:04:44, 61.94s/it]\u001b[A\u001b[A\u001b[A\u001b[A"
     ]
    },
    {
     "name": "stdout",
     "output_type": "stream",
     "text": [
      "predition [[10738    36     1 ...,     0     0     0]\n",
      " [ 7949  8492 10552 ...,     0     0     0]\n",
      " [ 7949  7949 10552 ...,    36    36     0]\n",
      " ..., \n",
      " [10738  8492    36 ...,     0     0     0]\n",
      " [17496     1     1 ...,     0     0     0]\n",
      " [ 7949  8492     1 ...,     0     0     0]]\n",
      "max 17914\n"
     ]
    },
    {
     "name": "stderr",
     "output_type": "stream",
     "text": [
      "\n",
      "\n",
      "\n",
      "\n",
      "  8%|▊         | 814/10000 [14:04:27<158:11:05, 61.99s/it]\u001b[A\u001b[A\u001b[A\u001b[A"
     ]
    },
    {
     "name": "stdout",
     "output_type": "stream",
     "text": [
      "predition [[10738  8492 10552 ...,  7949  7949 16139]\n",
      " [ 7949  8492 10552 ...,     0     0     0]\n",
      " [ 7949  8492     0 ...,     0     0     0]\n",
      " ..., \n",
      " [ 7949  7949  7949 ...,     0     0     0]\n",
      " [ 7949  7949 10552 ...,    36    36    36]\n",
      " [ 7949   899 10552 ...,     0     0     0]]\n",
      "max 17914\n"
     ]
    },
    {
     "name": "stderr",
     "output_type": "stream",
     "text": [
      "\n",
      "\n",
      "\n",
      "\n",
      "  8%|▊         | 815/10000 [14:05:29<158:11:21, 62.00s/it]\u001b[A\u001b[A\u001b[A\u001b[A\n",
      "\n",
      "\n",
      "\n",
      "  8%|▊         | 816/10000 [14:06:31<157:58:57, 61.93s/it]\u001b[A\u001b[A\u001b[A\u001b[A"
     ]
    },
    {
     "name": "stdout",
     "output_type": "stream",
     "text": [
      "predition [[10738    36    36 ...,     0     0     0]\n",
      " [17496     1     0 ...,     0     0     0]\n",
      " [ 7949  7949  7949 ...,     0     0     0]\n",
      " ..., \n",
      " [ 7949  7949 10552 ...,     1     0     0]\n",
      " [10738  8492  8492 ...,     0     0     0]\n",
      " [ 7949  7949 10552 ...,    36    36    36]]\n",
      "max 17914\n"
     ]
    },
    {
     "name": "stderr",
     "output_type": "stream",
     "text": [
      "\n",
      "\n",
      "\n",
      "\n",
      "  8%|▊         | 817/10000 [14:07:33<158:10:02, 62.01s/it]\u001b[A\u001b[A\u001b[A\u001b[A\n",
      "\n",
      "\n",
      "\n",
      "  8%|▊         | 818/10000 [14:08:35<157:59:48, 61.95s/it]\u001b[A\u001b[A\u001b[A\u001b[A"
     ]
    },
    {
     "name": "stdout",
     "output_type": "stream",
     "text": [
      "predition [[ 7949     1     0 ...,     0     0     0]\n",
      " [17461  8492 10552 ..., 15868    36    36]\n",
      " [ 7949  7949 17914 ...,     0     0     0]\n",
      " ..., \n",
      " [ 7949  8492 10552 ...,     0     0     0]\n",
      " [ 7949  7949 10552 ...,    36     1     0]\n",
      " [ 7949  8492 10552 ...,     0     0     0]]\n",
      "max 17914\n"
     ]
    },
    {
     "name": "stderr",
     "output_type": "stream",
     "text": [
      "\n",
      "\n",
      "\n",
      "\n",
      "  8%|▊         | 819/10000 [14:09:37<158:08:12, 62.01s/it]\u001b[A\u001b[A\u001b[A\u001b[A\n",
      "\n",
      "\n",
      "\n",
      "  8%|▊         | 820/10000 [14:10:39<158:02:04, 61.97s/it]\u001b[A\u001b[A\u001b[A\u001b[A"
     ]
    },
    {
     "name": "stdout",
     "output_type": "stream",
     "text": [
      "predition [[17914     1     1 ...,     0     0     0]\n",
      " [ 7949  7949 10552 ..., 17914  7949    36]\n",
      " [ 7949  7949 10552 ..., 16139    36    36]\n",
      " ..., \n",
      " [ 7949  7949 10552 ...,     0     0     0]\n",
      " [10738    36     1 ...,     0     0     0]\n",
      " [10738  8492  8492 ...,     0     0     0]]\n",
      "max 17914\n"
     ]
    },
    {
     "name": "stderr",
     "output_type": "stream",
     "text": [
      "\n",
      "\n",
      "\n",
      "\n",
      "  8%|▊         | 821/10000 [14:11:41<158:04:43, 62.00s/it]\u001b[A\u001b[A\u001b[A\u001b[A\n",
      "\n",
      "\n",
      "\n",
      "  8%|▊         | 822/10000 [14:12:43<157:54:49, 61.94s/it]\u001b[A\u001b[A\u001b[A\u001b[A"
     ]
    },
    {
     "name": "stdout",
     "output_type": "stream",
     "text": [
      "predition [[ 7949  7949 10552 ...,    36    36    36]\n",
      " [17877  8492  8492 ..., 15868    36    36]\n",
      " [ 7949  8492  8492 ...,     0     0     0]\n",
      " ..., \n",
      " [ 7949  8492 17914 ...,     0     0     0]\n",
      " [17496  8492  8492 ...,     0     0     0]\n",
      " [ 7949  7949    36 ...,     0     0     0]]\n",
      "max 17914\n"
     ]
    },
    {
     "name": "stderr",
     "output_type": "stream",
     "text": [
      "\n",
      "\n",
      "\n",
      "\n",
      "  8%|▊         | 823/10000 [14:13:45<157:54:25, 61.94s/it]\u001b[A\u001b[A\u001b[A\u001b[A\n",
      "\n",
      "\n",
      "\n",
      "  8%|▊         | 824/10000 [14:14:47<157:52:41, 61.94s/it]\u001b[A\u001b[A\u001b[A\u001b[A"
     ]
    },
    {
     "name": "stdout",
     "output_type": "stream",
     "text": [
      "predition [[17496  8492    36 ...,     0     0     0]\n",
      " [10738  8492  8492 ...,    36     1     1]\n",
      " [17496  8492 10552 ...,     0     0     0]\n",
      " ..., \n",
      " [ 7949  8492     1 ...,     0     0     0]\n",
      " [10738    36     1 ...,     0     0     0]\n",
      " [ 7949  8492  8492 ...,     0     0     0]]\n",
      "max 17914\n"
     ]
    },
    {
     "name": "stderr",
     "output_type": "stream",
     "text": [
      "\n",
      "\n",
      "\n",
      "\n",
      "  8%|▊         | 825/10000 [14:15:49<157:58:16, 61.98s/it]\u001b[A\u001b[A\u001b[A\u001b[A\n",
      "\n",
      "\n",
      "\n",
      "  8%|▊         | 826/10000 [14:16:51<157:50:10, 61.94s/it]\u001b[A\u001b[A\u001b[A\u001b[A"
     ]
    },
    {
     "name": "stdout",
     "output_type": "stream",
     "text": [
      "predition [[ 7949   899 10552 ...,     0     0     0]\n",
      " [ 7949  8492 10552 ..., 15868    36    36]\n",
      " [ 7949  8492     0 ...,     0     0     0]\n",
      " ..., \n",
      " [ 7949  8492 10552 ...,    36    36     1]\n",
      " [ 7949  8492 10552 ...,     0     0     0]\n",
      " [ 7949     1     1 ...,     0     0     0]]\n",
      "max 17914\n"
     ]
    },
    {
     "name": "stderr",
     "output_type": "stream",
     "text": [
      "\n",
      "\n",
      "\n",
      "\n",
      "  8%|▊         | 827/10000 [14:17:53<157:42:03, 61.89s/it]\u001b[A\u001b[A\u001b[A\u001b[A"
     ]
    },
    {
     "name": "stdout",
     "output_type": "stream",
     "text": [
      "predition [[17914    36    36 ...,     0     0     0]\n",
      " [17496  8492  8492 ...,     0     0     0]\n",
      " [10738    36    36 ...,     0     0     0]\n",
      " ..., \n",
      " [ 7949  8492  8492 ...,  7949 15868    36]\n",
      " [ 7949  8492     1 ...,     0     0     0]\n",
      " [17496  8492    36 ...,     0     0     0]]\n",
      "max 17914\n"
     ]
    },
    {
     "name": "stderr",
     "output_type": "stream",
     "text": [
      "\n",
      "\n",
      "\n",
      "\n",
      "  8%|▊         | 828/10000 [14:18:55<157:46:48, 61.93s/it]\u001b[A\u001b[A\u001b[A\u001b[A\n",
      "\n",
      "\n",
      "\n",
      "  8%|▊         | 829/10000 [14:19:57<157:44:58, 61.92s/it]\u001b[A\u001b[A\u001b[A\u001b[A"
     ]
    },
    {
     "name": "stdout",
     "output_type": "stream",
     "text": [
      "predition [[17496  8492  8492 ...,     0     0     0]\n",
      " [10738  8492 17914 ..., 16139 17914 15868]\n",
      " [ 7949    36     1 ...,     0     0     0]\n",
      " ..., \n",
      " [ 7949  8492  8492 ...,    36    36     1]\n",
      " [ 7949  8492  8492 ...,     0     0     0]\n",
      " [17914  8492     1 ...,     0     0     0]]\n",
      "max 17914\n"
     ]
    },
    {
     "name": "stderr",
     "output_type": "stream",
     "text": [
      "\n",
      "\n",
      "\n",
      "\n",
      "  8%|▊         | 830/10000 [14:20:59<157:46:37, 61.94s/it]\u001b[A\u001b[A\u001b[A\u001b[A\n",
      "\n",
      "\n",
      "\n",
      "  8%|▊         | 831/10000 [14:22:00<157:43:20, 61.93s/it]\u001b[A\u001b[A\u001b[A\u001b[A"
     ]
    },
    {
     "name": "stdout",
     "output_type": "stream",
     "text": [
      "predition [[ 7949  8492 10552 ...,     0     0     0]\n",
      " [10738    36     1 ...,     0     0     0]\n",
      " [17496  8492    36 ...,     0     0     0]\n",
      " ..., \n",
      " [ 7949  8492 10552 ...,    36     1     0]\n",
      " [10738  8492  8492 ...,     0     0     0]\n",
      " [17877     1     1 ...,     0     0     0]]\n",
      "max 17914\n"
     ]
    },
    {
     "name": "stderr",
     "output_type": "stream",
     "text": [
      "\n",
      "\n",
      "\n",
      "\n",
      "  8%|▊         | 832/10000 [14:23:03<157:49:05, 61.97s/it]\u001b[A\u001b[A\u001b[A\u001b[A\n",
      "\n",
      "\n",
      "\n",
      "  8%|▊         | 833/10000 [14:24:04<157:37:38, 61.90s/it]\u001b[A\u001b[A\u001b[A\u001b[A"
     ]
    },
    {
     "name": "stdout",
     "output_type": "stream",
     "text": [
      "predition [[10738  7949  8492 ...,     0     0     0]\n",
      " [10738  8492     1 ...,     0     0     0]\n",
      " [17877     1     1 ...,     0     0     0]\n",
      " ..., \n",
      " [ 7949  7949 10552 ...,     0     0     0]\n",
      " [10738  8492  8492 ...,    36    36     0]\n",
      " [ 7949  8492     1 ...,     0     0     0]]\n",
      "max 17914\n"
     ]
    },
    {
     "name": "stderr",
     "output_type": "stream",
     "text": [
      "\n",
      "\n",
      "\n",
      "\n",
      "  8%|▊         | 834/10000 [14:25:06<157:38:18, 61.91s/it]\u001b[A\u001b[A\u001b[A\u001b[A\n",
      "\n",
      "\n",
      "\n",
      "  8%|▊         | 835/10000 [14:26:08<157:35:35, 61.90s/it]\u001b[A\u001b[A\u001b[A\u001b[A"
     ]
    },
    {
     "name": "stdout",
     "output_type": "stream",
     "text": [
      "predition [[ 7949  8492 10552 ...,     1     0     0]\n",
      " [ 7949    36     1 ...,     0     0     0]\n",
      " [17914  8492 17914 ..., 16139    36    36]\n",
      " ..., \n",
      " [ 7949  8492    36 ...,     0     0     0]\n",
      " [17496  8492  8492 ...,    36     0     0]\n",
      " [   36     1     1 ...,     0     0     0]]\n",
      "max 17914\n"
     ]
    },
    {
     "name": "stderr",
     "output_type": "stream",
     "text": [
      "\n",
      "\n",
      "\n",
      "\n",
      "  8%|▊         | 836/10000 [14:27:10<157:42:47, 61.96s/it]\u001b[A\u001b[A\u001b[A\u001b[A\n",
      "\n",
      "\n",
      "\n",
      "  8%|▊         | 837/10000 [14:28:12<157:35:52, 61.92s/it]\u001b[A\u001b[A\u001b[A\u001b[A"
     ]
    },
    {
     "name": "stdout",
     "output_type": "stream",
     "text": [
      "predition [[10738  8492  8492 ...,     0     0     0]\n",
      " [17496  8492 17914 ...,     0     0     0]\n",
      " [ 7949     1     0 ...,     0     0     0]\n",
      " ..., \n",
      " [17496  8492  8492 ...,     0     0     0]\n",
      " [ 7949  8492     1 ...,     0     0     0]\n",
      " [ 7949  8492 10552 ...,     0     0     0]]\n",
      "max 17914\n"
     ]
    },
    {
     "name": "stderr",
     "output_type": "stream",
     "text": [
      "\n",
      "\n",
      "\n",
      "\n",
      "  8%|▊         | 838/10000 [14:29:14<157:42:48, 61.97s/it]\u001b[A\u001b[A\u001b[A\u001b[A\n",
      "\n",
      "\n",
      "\n",
      "  8%|▊         | 839/10000 [14:30:16<157:32:18, 61.91s/it]\u001b[A\u001b[A\u001b[A\u001b[A"
     ]
    },
    {
     "name": "stdout",
     "output_type": "stream",
     "text": [
      "predition [[ 7949  7949 10552 ...,    36     1     1]\n",
      " [ 7949  8492 17914 ...,     0     0     0]\n",
      " [ 7949  7949 17914 ...,     0     0     0]\n",
      " ..., \n",
      " [17877     1 17914 ...,    36     1     1]\n",
      " [17914  8492    36 ...,     0     0     0]\n",
      " [ 7949  8492 10552 ...,     0     0     0]]\n",
      "max 17914\n"
     ]
    },
    {
     "name": "stderr",
     "output_type": "stream",
     "text": [
      "\n",
      "\n",
      "\n",
      "\n",
      "  8%|▊         | 840/10000 [14:31:18<157:33:55, 61.93s/it]\u001b[A\u001b[A\u001b[A\u001b[A"
     ]
    },
    {
     "name": "stdout",
     "output_type": "stream",
     "text": [
      "predition [[17914  8492 10552 ...,     0     0     0]\n",
      " [ 7949  7949  7949 ...,     0     0     0]\n",
      " [17914 17914     0 ...,     0     0     0]\n",
      " ..., \n",
      " [10738    36     1 ...,     0     0     0]\n",
      " [10738    36    36 ...,     0     0     0]\n",
      " [10738  8492  8492 ...,     0     0     0]]\n",
      "max 17914\n"
     ]
    },
    {
     "name": "stderr",
     "output_type": "stream",
     "text": [
      "\n",
      "\n",
      "\n",
      "\n",
      "  8%|▊         | 841/10000 [14:32:20<157:33:03, 61.93s/it]\u001b[A\u001b[A\u001b[A\u001b[A\n",
      "\n",
      "\n",
      "\n",
      "  8%|▊         | 842/10000 [14:33:22<157:24:39, 61.88s/it]\u001b[A\u001b[A\u001b[A\u001b[A"
     ]
    },
    {
     "name": "stdout",
     "output_type": "stream",
     "text": [
      "predition [[17914 17914 17914 ...,     0     0     0]\n",
      " [ 7949  8492    36 ...,    36     1     0]\n",
      " [17914 17914 17914 ...,     0     0     0]\n",
      " ..., \n",
      " [ 7949    36     1 ...,     0     0     0]\n",
      " [10738  8492     0 ...,     0     0     0]\n",
      " [ 7949  8492  8492 ...,     0     0     0]]\n",
      "max 17914\n"
     ]
    },
    {
     "name": "stderr",
     "output_type": "stream",
     "text": [
      "\n",
      "\n",
      "\n",
      "\n",
      "  8%|▊         | 843/10000 [14:34:24<157:28:24, 61.91s/it]\u001b[A\u001b[A\u001b[A\u001b[A\n",
      "\n",
      "\n",
      "\n",
      "  8%|▊         | 844/10000 [14:35:26<157:41:30, 62.00s/it]\u001b[A\u001b[A\u001b[A\u001b[A"
     ]
    },
    {
     "name": "stdout",
     "output_type": "stream",
     "text": [
      "predition [[ 7949  8492 10552 ...,     0     0     0]\n",
      " [ 7949  8492     1 ...,     0     0     0]\n",
      " [ 7949  7949  7949 ...,     0     0     0]\n",
      " ..., \n",
      " [10738  8492  8492 ...,     0     0     0]\n",
      " [ 7949     1     1 ...,     0     0     0]\n",
      " [ 7949  8492 10552 ...,    36     1     1]]\n",
      "max 17914\n"
     ]
    },
    {
     "name": "stderr",
     "output_type": "stream",
     "text": [
      "\n",
      "\n",
      "\n",
      "\n",
      "  8%|▊         | 845/10000 [14:36:28<157:40:01, 62.00s/it]\u001b[A\u001b[A\u001b[A\u001b[A\n",
      "\n",
      "\n",
      "\n",
      "  8%|▊         | 846/10000 [14:37:29<157:27:02, 61.92s/it]\u001b[A\u001b[A\u001b[A\u001b[A"
     ]
    },
    {
     "name": "stdout",
     "output_type": "stream",
     "text": [
      "predition [[17496    36    36 ...,     0     0     0]\n",
      " [17914 17914     1 ...,     0     0     0]\n",
      " [ 7949  7949 10552 ...,     1     0     0]\n",
      " ..., \n",
      " [10738  8492     1 ...,     0     0     0]\n",
      " [ 7949  8492 10552 ...,     0     0     0]\n",
      " [17496  8492    36 ...,     0     0     0]]\n",
      "max 17914\n"
     ]
    },
    {
     "name": "stderr",
     "output_type": "stream",
     "text": [
      "\n",
      "\n",
      "\n",
      "\n",
      "  8%|▊         | 847/10000 [14:38:31<157:23:09, 61.90s/it]\u001b[A\u001b[A\u001b[A\u001b[A\n",
      "\n",
      "\n",
      "\n",
      "  8%|▊         | 848/10000 [14:39:33<157:22:33, 61.90s/it]\u001b[A\u001b[A\u001b[A\u001b[A"
     ]
    },
    {
     "name": "stdout",
     "output_type": "stream",
     "text": [
      "predition [[ 7949  8492     1 ...,     0     0     0]\n",
      " [ 7949  8492 10552 ...,     0     0     0]\n",
      " [10738    36     1 ...,     0     0     0]\n",
      " ..., \n",
      " [ 7949 17914 10552 ..., 17914 17914    36]\n",
      " [17496     1     0 ...,     0     0     0]\n",
      " [17496     1     0 ...,     0     0     0]]\n",
      "max 17914\n"
     ]
    },
    {
     "name": "stderr",
     "output_type": "stream",
     "text": [
      "\n",
      "\n",
      "\n",
      "\n",
      "  8%|▊         | 849/10000 [14:40:35<157:31:10, 61.97s/it]\u001b[A\u001b[A\u001b[A\u001b[A\n",
      "\n",
      "\n",
      "\n",
      "  8%|▊         | 850/10000 [14:41:37<157:24:25, 61.93s/it]\u001b[A\u001b[A\u001b[A\u001b[A"
     ]
    },
    {
     "name": "stdout",
     "output_type": "stream",
     "text": [
      "predition [[ 7949  8492 15868 ...,     0     0     0]\n",
      " [17914 17914    36 ...,     0     0     0]\n",
      " [10738  8492 17914 ...,     0     0     0]\n",
      " ..., \n",
      " [ 7949  8492 10552 ...,     0     0     0]\n",
      " [ 7949    36 17914 ...,     0     0     0]\n",
      " [   36     1     1 ...,     0     0     0]]\n",
      "max 17914\n"
     ]
    },
    {
     "name": "stderr",
     "output_type": "stream",
     "text": [
      "\n",
      "\n",
      "\n",
      "\n",
      "  9%|▊         | 851/10000 [14:42:39<157:21:18, 61.92s/it]\u001b[A\u001b[A\u001b[A\u001b[A\n",
      "\n",
      "\n",
      "\n",
      "  9%|▊         | 852/10000 [14:43:41<157:14:30, 61.88s/it]\u001b[A\u001b[A\u001b[A\u001b[A"
     ]
    },
    {
     "name": "stdout",
     "output_type": "stream",
     "text": [
      "predition [[ 7949     1     1 ...,     0     0     0]\n",
      " [ 7949  8492 10552 ...,     0     0     0]\n",
      " [10738 17914 17914 ...,     0     0     0]\n",
      " ..., \n",
      " [10738     1     1 ...,     0     0     0]\n",
      " [ 7949  8492 10552 ...,     0     0     0]\n",
      " [17877  8492 17914 ...,     0     0     0]]\n",
      "max 17914\n"
     ]
    },
    {
     "name": "stderr",
     "output_type": "stream",
     "text": [
      "\n",
      "\n",
      "\n",
      "\n",
      "  9%|▊         | 853/10000 [14:44:43<157:27:06, 61.97s/it]\u001b[A\u001b[A\u001b[A\u001b[A\n",
      "\n",
      "\n",
      "\n",
      "  9%|▊         | 854/10000 [14:45:45<157:20:02, 61.93s/it]\u001b[A\u001b[A\u001b[A\u001b[A"
     ]
    },
    {
     "name": "stdout",
     "output_type": "stream",
     "text": [
      "predition [[ 7949  7949     0 ...,     0     0     0]\n",
      " [17496  8492  8492 ...,     0     0     0]\n",
      " [ 7949  7949    36 ...,     0     0     0]\n",
      " ..., \n",
      " [10738  7949     0 ...,     0     0     0]\n",
      " [ 7949  7949 10552 ...,     0     0     0]\n",
      " [ 7949    36     1 ...,     0     0     0]]\n",
      "max 17914\n"
     ]
    },
    {
     "name": "stderr",
     "output_type": "stream",
     "text": [
      "\n",
      "\n",
      "\n",
      "\n",
      "  9%|▊         | 855/10000 [14:46:47<157:20:43, 61.94s/it]\u001b[A\u001b[A\u001b[A\u001b[A"
     ]
    },
    {
     "name": "stdout",
     "output_type": "stream",
     "text": [
      "predition [[17914    36    36 ...,     0     0     0]\n",
      " [ 7949  8492  8492 ...,     0     0     0]\n",
      " [ 7949  8492     1 ...,     0     0     0]\n",
      " ..., \n",
      " [17395  8492 10552 ...,    36    36     1]\n",
      " [10738  8492  8492 ...,     0     0     0]\n",
      " [10738    36 17914 ...,     0     0     0]]\n",
      "max 17914\n"
     ]
    },
    {
     "name": "stderr",
     "output_type": "stream",
     "text": [
      "\n",
      "\n",
      "\n",
      "\n",
      "  9%|▊         | 856/10000 [14:47:49<157:24:40, 61.97s/it]\u001b[A\u001b[A\u001b[A\u001b[A\n",
      "\n",
      "\n",
      "\n",
      "  9%|▊         | 857/10000 [14:48:51<157:19:25, 61.95s/it]\u001b[A\u001b[A\u001b[A\u001b[A"
     ]
    },
    {
     "name": "stdout",
     "output_type": "stream",
     "text": [
      "predition [[10738  8492  8492 ...,     0     0     0]\n",
      " [ 7949  8492  8492 ...,     0     0     0]\n",
      " [10738  8492  8492 ...,     0     0     0]\n",
      " ..., \n",
      " [17914  8492 17914 ...,     0     0     0]\n",
      " [ 7949  8492  8492 ...,     1    36     0]\n",
      " [ 7949  8492 10552 ...,     0     0     0]]\n",
      "max 17914\n"
     ]
    },
    {
     "name": "stderr",
     "output_type": "stream",
     "text": [
      "\n",
      "\n",
      "\n",
      "\n",
      "  9%|▊         | 858/10000 [14:49:53<157:19:12, 61.95s/it]\u001b[A\u001b[A\u001b[A\u001b[A\n",
      "\n",
      "\n",
      "\n",
      "  9%|▊         | 859/10000 [14:50:55<157:14:37, 61.93s/it]\u001b[A\u001b[A\u001b[A\u001b[A"
     ]
    },
    {
     "name": "stdout",
     "output_type": "stream",
     "text": [
      "predition [[ 7949  8492 15868 ..., 15868    36    36]\n",
      " [ 7949  8492  8492 ..., 16139 15868    36]\n",
      " [10738    36     1 ...,     0     0     0]\n",
      " ..., \n",
      " [ 7949  8492 10552 ...,    36    36    36]\n",
      " [ 7949     1    36 ...,     0     0     0]\n",
      " [ 7949  8492  8492 ...,    36    36    36]]\n",
      "max 17914\n"
     ]
    },
    {
     "name": "stderr",
     "output_type": "stream",
     "text": [
      "\n",
      "\n",
      "\n",
      "\n",
      "  9%|▊         | 860/10000 [14:51:57<157:13:32, 61.93s/it]\u001b[A\u001b[A\u001b[A\u001b[A\n",
      "\n",
      "\n",
      "\n",
      "  9%|▊         | 861/10000 [14:52:58<157:04:43, 61.88s/it]\u001b[A\u001b[A\u001b[A\u001b[A"
     ]
    },
    {
     "name": "stdout",
     "output_type": "stream",
     "text": [
      "predition [[ 7949  8492 10552 ...,     0     0     0]\n",
      " [ 7949    36 17914 ...,     0     0     0]\n",
      " [ 7949  8492 10552 ...,     0     0     0]\n",
      " ..., \n",
      " [ 7949  7949 10552 ...,     0     0     0]\n",
      " [ 7949  8492  8492 ...,     0     0     0]\n",
      " [ 7949  7949    36 ...,  7949 16139    36]]\n",
      "max 17914\n"
     ]
    },
    {
     "name": "stderr",
     "output_type": "stream",
     "text": [
      "\n",
      "\n",
      "\n",
      "\n",
      "  9%|▊         | 862/10000 [14:54:00<157:10:28, 61.92s/it]\u001b[A\u001b[A\u001b[A\u001b[A\n",
      "\n",
      "\n",
      "\n",
      "  9%|▊         | 863/10000 [14:55:02<157:04:35, 61.89s/it]\u001b[A\u001b[A\u001b[A\u001b[A"
     ]
    },
    {
     "name": "stdout",
     "output_type": "stream",
     "text": [
      "predition [[ 7949 17914    36 ...,     0     0     0]\n",
      " [17496     1     0 ...,     0     0     0]\n",
      " [ 7949    36     1 ...,    36    36    36]\n",
      " ..., \n",
      " [ 7949  8492     1 ...,     0     0     0]\n",
      " [10738    36     1 ...,     0     0     0]\n",
      " [ 7949  8492  8492 ...,     0     0     0]]\n",
      "max 17914\n"
     ]
    },
    {
     "name": "stderr",
     "output_type": "stream",
     "text": [
      "\n",
      "\n",
      "\n",
      "\n",
      "  9%|▊         | 864/10000 [14:56:04<157:08:17, 61.92s/it]\u001b[A\u001b[A\u001b[A\u001b[A\n",
      "\n",
      "\n",
      "\n",
      "  9%|▊         | 865/10000 [14:57:06<157:09:30, 61.93s/it]\u001b[A\u001b[A\u001b[A\u001b[A"
     ]
    },
    {
     "name": "stdout",
     "output_type": "stream",
     "text": [
      "predition [[ 7949     1 10552 ...,     0     0     0]\n",
      " [ 7949  8492    36 ...,     0     0     0]\n",
      " [ 7949    36 17914 ...,     0     0     0]\n",
      " ..., \n",
      " [ 7949  8492 10552 ...,     0     0     0]\n",
      " [10738 17914    36 ...,     0     0     0]\n",
      " [17877  8492  8492 ...,     0     0     0]]\n",
      "max 17914\n"
     ]
    },
    {
     "name": "stderr",
     "output_type": "stream",
     "text": [
      "\n",
      "\n",
      "\n",
      "\n",
      "  9%|▊         | 866/10000 [14:58:08<157:10:01, 61.94s/it]\u001b[A\u001b[A\u001b[A\u001b[A\n",
      "\n",
      "\n",
      "\n",
      "  9%|▊         | 867/10000 [14:59:10<157:05:01, 61.92s/it]\u001b[A\u001b[A\u001b[A\u001b[A"
     ]
    },
    {
     "name": "stdout",
     "output_type": "stream",
     "text": [
      "predition [[10738  8492    36 ...,     0     0     0]\n",
      " [ 7949  8492 10552 ...,    36     0     0]\n",
      " [ 7949  8492     0 ...,     0     0     0]\n",
      " ..., \n",
      " [10738    36     1 ...,     0     0     0]\n",
      " [ 7949 17914 17914 ...,     1     0     0]\n",
      " [ 7949  8492     1 ...,     0     0     0]]\n",
      "max 17914\n"
     ]
    },
    {
     "name": "stderr",
     "output_type": "stream",
     "text": [
      "\n",
      "\n",
      "\n",
      "\n",
      "  9%|▊         | 868/10000 [15:00:12<157:07:51, 61.94s/it]\u001b[A\u001b[A\u001b[A\u001b[A"
     ]
    },
    {
     "name": "stdout",
     "output_type": "stream",
     "text": [
      "predition [[17496     1     0 ...,     1     0     0]\n",
      " [17914    36    36 ...,     0     0     0]\n",
      " [ 7949  8492  8492 ...,     0     0     0]\n",
      " ..., \n",
      " [ 7949  8492 10552 ...,     0     0     0]\n",
      " [ 7949  7949 10552 ...,     0     0     0]\n",
      " [ 7949  8492 10552 ...,    36    36     0]]\n",
      "max 17914\n"
     ]
    },
    {
     "name": "stderr",
     "output_type": "stream",
     "text": [
      "\n",
      "\n",
      "\n",
      "\n",
      "  9%|▊         | 869/10000 [15:01:14<157:12:01, 61.98s/it]\u001b[A\u001b[A\u001b[A\u001b[A\n",
      "\n",
      "\n",
      "\n",
      "  9%|▊         | 870/10000 [15:02:16<157:10:09, 61.97s/it]\u001b[A\u001b[A\u001b[A\u001b[A"
     ]
    },
    {
     "name": "stdout",
     "output_type": "stream",
     "text": [
      "predition [[17496    36     1 ...,     0     0     0]\n",
      " [17914 17914    36 ...,     0     0     0]\n",
      " [10738  8492  8492 ...,     0     0     0]\n",
      " ..., \n",
      " [ 7949  7949  7949 ...,     0     0     0]\n",
      " [17496     1     0 ...,     0     0     0]\n",
      " [ 7949    36 10552 ...,     0     0     0]]\n",
      "max 17914\n"
     ]
    },
    {
     "name": "stderr",
     "output_type": "stream",
     "text": [
      "\n",
      "\n",
      "\n",
      "\n",
      "  9%|▊         | 871/10000 [15:03:18<157:18:21, 62.03s/it]\u001b[A\u001b[A\u001b[A\u001b[A\n",
      "\n",
      "\n",
      "\n",
      "  9%|▊         | 872/10000 [15:04:20<157:13:07, 62.01s/it]\u001b[A\u001b[A\u001b[A\u001b[A"
     ]
    },
    {
     "name": "stdout",
     "output_type": "stream",
     "text": [
      "predition [[10738  8492  8492 ...,     0     0     0]\n",
      " [10738  8492  8492 ...,     1     0     0]\n",
      " [ 7949  8492 10552 ...,     0     0     0]\n",
      " ..., \n",
      " [17914 17914 17914 ...,     0     0     0]\n",
      " [ 7949    36    36 ...,     1     1     1]\n",
      " [ 7949  8492 10552 ...,     0     0     0]]\n",
      "max 17914\n"
     ]
    },
    {
     "name": "stderr",
     "output_type": "stream",
     "text": [
      "\n",
      "\n",
      "\n",
      "\n",
      "  9%|▊         | 873/10000 [15:05:22<157:08:43, 61.98s/it]\u001b[A\u001b[A\u001b[A\u001b[A\n",
      "\n",
      "\n",
      "\n",
      "  9%|▊         | 874/10000 [15:06:24<156:57:42, 61.92s/it]\u001b[A\u001b[A\u001b[A\u001b[A"
     ]
    },
    {
     "name": "stdout",
     "output_type": "stream",
     "text": [
      "predition [[17496    36    36 ...,     0     0     0]\n",
      " [10738     1    36 ...,     0     0     0]\n",
      " [10738  8492 17914 ...,     0     0     0]\n",
      " ..., \n",
      " [ 7949     1     0 ...,     0     0     0]\n",
      " [17496    36 17914 ...,     0     0     0]\n",
      " [ 7949  7949  8492 ...,     0     0     0]]\n",
      "max 17914\n"
     ]
    },
    {
     "name": "stderr",
     "output_type": "stream",
     "text": [
      "\n",
      "\n",
      "\n",
      "\n",
      "  9%|▉         | 875/10000 [15:07:26<157:01:33, 61.95s/it]\u001b[A\u001b[A\u001b[A\u001b[A\n",
      "\n",
      "\n",
      "\n",
      "  9%|▉         | 876/10000 [15:08:28<156:57:00, 61.93s/it]\u001b[A\u001b[A\u001b[A\u001b[A"
     ]
    },
    {
     "name": "stdout",
     "output_type": "stream",
     "text": [
      "predition [[17496     1    36 ...,     0     0     0]\n",
      " [ 7949  8492  8492 ..., 17914    36     1]\n",
      " [ 7949  8492     1 ...,     0     0     0]\n",
      " ..., \n",
      " [10738  8492  8492 ..., 16139 15868    36]\n",
      " [17496  8492  8492 ..., 15868    36    36]\n",
      " [17877     1     1 ...,     0     0     0]]\n",
      "max 17914\n"
     ]
    },
    {
     "name": "stderr",
     "output_type": "stream",
     "text": [
      "\n",
      "\n",
      "\n",
      "\n",
      "  9%|▉         | 877/10000 [15:09:30<156:56:39, 61.93s/it]\u001b[A\u001b[A\u001b[A\u001b[A\n",
      "\n",
      "\n",
      "\n",
      "  9%|▉         | 878/10000 [15:10:32<156:55:40, 61.93s/it]\u001b[A\u001b[A\u001b[A\u001b[A"
     ]
    },
    {
     "name": "stdout",
     "output_type": "stream",
     "text": [
      "predition [[ 7949  8492     0 ...,     0     0     0]\n",
      " [17496     1    36 ...,     0     0     0]\n",
      " [17877     1     0 ...,     0     0     0]\n",
      " ..., \n",
      " [17496     1     0 ...,     0     0     0]\n",
      " [ 7949    36    36 ...,     0     0     0]\n",
      " [ 7949    36     1 ...,     0     0     0]]\n",
      "max 17914\n"
     ]
    },
    {
     "name": "stderr",
     "output_type": "stream",
     "text": [
      "\n",
      "\n",
      "\n",
      "\n",
      "  9%|▉         | 879/10000 [15:11:34<156:57:54, 61.95s/it]\u001b[A\u001b[A\u001b[A\u001b[A\n",
      "\n",
      "\n",
      "\n",
      "  9%|▉         | 880/10000 [15:12:35<156:53:00, 61.93s/it]\u001b[A\u001b[A\u001b[A\u001b[A"
     ]
    },
    {
     "name": "stdout",
     "output_type": "stream",
     "text": [
      "predition [[10738  8492 17914 ...,     0     0     0]\n",
      " [ 7949     1 10552 ...,     0     0     0]\n",
      " [10738  7949 17914 ...,     0     0     0]\n",
      " ..., \n",
      " [ 7949    36    36 ...,     0     0     0]\n",
      " [10738    36     1 ...,     0     0     0]\n",
      " [ 7949  8492 15868 ...,    36     1     0]]\n",
      "max 17914\n"
     ]
    },
    {
     "name": "stderr",
     "output_type": "stream",
     "text": [
      "\n",
      "\n",
      "\n",
      "\n",
      "  9%|▉         | 881/10000 [15:13:37<156:53:49, 61.94s/it]\u001b[A\u001b[A\u001b[A\u001b[A"
     ]
    },
    {
     "name": "stdout",
     "output_type": "stream",
     "text": [
      "predition [[ 7949  8492  8492 ...,     0     0     0]\n",
      " [ 7949  7949 10552 ..., 16139 16139    36]\n",
      " [17496     1     0 ...,     0     0     0]\n",
      " ..., \n",
      " [17877     1     1 ...,     0     0     0]\n",
      " [17914    36     1 ...,     0     0     0]\n",
      " [ 7949  7949 10552 ..., 17914    36    36]]\n",
      "max 17914\n"
     ]
    },
    {
     "name": "stderr",
     "output_type": "stream",
     "text": [
      "\n",
      "\n",
      "\n",
      "\n",
      "  9%|▉         | 882/10000 [15:14:39<156:51:07, 61.93s/it]\u001b[A\u001b[A\u001b[A\u001b[A\n",
      "\n",
      "\n",
      "\n",
      "  9%|▉         | 883/10000 [15:15:41<156:49:08, 61.92s/it]\u001b[A\u001b[A\u001b[A\u001b[A"
     ]
    },
    {
     "name": "stdout",
     "output_type": "stream",
     "text": [
      "predition [[17395  8492 10552 ...,     0     0     0]\n",
      " [17914 17914     1 ..., 17914    36     0]\n",
      " [10738    36     1 ...,     0     0     0]\n",
      " ..., \n",
      " [ 7949  7949 10552 ...,     0     0     0]\n",
      " [   36     1     0 ...,     0     0     0]\n",
      " [10738    36    36 ...,     0     0     0]]\n",
      "max 17914\n"
     ]
    },
    {
     "name": "stderr",
     "output_type": "stream",
     "text": [
      "\n",
      "\n",
      "\n",
      "\n",
      "  9%|▉         | 884/10000 [15:16:43<156:51:40, 61.95s/it]\u001b[A\u001b[A\u001b[A\u001b[A\n",
      "\n",
      "\n",
      "\n",
      "  9%|▉         | 885/10000 [15:17:45<156:50:29, 61.95s/it]\u001b[A\u001b[A\u001b[A\u001b[A"
     ]
    },
    {
     "name": "stdout",
     "output_type": "stream",
     "text": [
      "predition [[ 7949    36     0 ...,     0     0     0]\n",
      " [ 7949  8492 10552 ...,     0     0     0]\n",
      " [10738     1     0 ...,     0     0     0]\n",
      " ..., \n",
      " [ 7949    36     1 ...,     0     0     0]\n",
      " [ 7949  8492  8492 ...,    36     0     0]\n",
      " [17877     1     0 ...,     0     0     0]]\n",
      "max 17914\n"
     ]
    },
    {
     "name": "stderr",
     "output_type": "stream",
     "text": [
      "\n",
      "\n",
      "\n",
      "\n",
      "  9%|▉         | 886/10000 [15:18:47<156:53:19, 61.97s/it]\u001b[A\u001b[A\u001b[A\u001b[A\n",
      "\n",
      "\n",
      "\n",
      "  9%|▉         | 887/10000 [15:19:49<156:46:17, 61.93s/it]\u001b[A\u001b[A\u001b[A\u001b[A"
     ]
    },
    {
     "name": "stdout",
     "output_type": "stream",
     "text": [
      "predition [[ 7949  7949  8492 ...,     0     0     0]\n",
      " [ 7949  8492    36 ...,     0     0     0]\n",
      " [ 7949  7949 10552 ...,     0     0     0]\n",
      " ..., \n",
      " [ 7949  7949  8492 ...,    36     1     1]\n",
      " [10738  8492    36 ...,     1     0     0]\n",
      " [ 7949  8492     1 ...,     0     0     0]]\n",
      "max 17914\n"
     ]
    },
    {
     "name": "stderr",
     "output_type": "stream",
     "text": [
      "\n",
      "\n",
      "\n",
      "\n",
      "  9%|▉         | 888/10000 [15:20:51<156:45:13, 61.93s/it]\u001b[A\u001b[A\u001b[A\u001b[A\n",
      "\n",
      "\n",
      "\n",
      "  9%|▉         | 889/10000 [15:21:53<156:36:28, 61.88s/it]\u001b[A\u001b[A\u001b[A\u001b[A"
     ]
    },
    {
     "name": "stdout",
     "output_type": "stream",
     "text": [
      "predition [[ 7949  7949 17914 ...,     0     0     0]\n",
      " [ 7949  8492  8492 ...,    36    36     1]\n",
      " [ 7949  8492 10552 ...,    36    36     1]\n",
      " ..., \n",
      " [10738    36 17914 ...,    36     1     1]\n",
      " [ 7949  8492 10552 ..., 15868    36    36]\n",
      " [17496     1     0 ...,     0     0     0]]\n",
      "max 17914\n"
     ]
    },
    {
     "name": "stderr",
     "output_type": "stream",
     "text": [
      "\n",
      "\n",
      "\n",
      "\n",
      "  9%|▉         | 890/10000 [15:22:55<156:40:05, 61.91s/it]\u001b[A\u001b[A\u001b[A\u001b[A\n",
      "\n",
      "\n",
      "\n",
      "  9%|▉         | 891/10000 [15:23:56<156:34:44, 61.88s/it]\u001b[A\u001b[A\u001b[A\u001b[A"
     ]
    },
    {
     "name": "stdout",
     "output_type": "stream",
     "text": [
      "predition [[ 7949  8492 10552 ..., 15868    36    36]\n",
      " [ 7949  8492     0 ...,     0     0     0]\n",
      " [10738    36     1 ...,     0     0     0]\n",
      " ..., \n",
      " [ 7949  8492    36 ...,     0     0     0]\n",
      " [10738  8492     1 ...,     0     0     0]\n",
      " [ 7949    36    36 ...,     0     0     0]]\n",
      "max 17914\n"
     ]
    },
    {
     "name": "stderr",
     "output_type": "stream",
     "text": [
      "\n",
      "\n",
      "\n",
      "\n",
      "  9%|▉         | 892/10000 [15:24:58<156:38:31, 61.91s/it]\u001b[A\u001b[A\u001b[A\u001b[A\n",
      "\n",
      "\n",
      "\n",
      "  9%|▉         | 893/10000 [15:26:00<156:33:13, 61.89s/it]\u001b[A\u001b[A\u001b[A\u001b[A"
     ]
    },
    {
     "name": "stdout",
     "output_type": "stream",
     "text": [
      "predition [[15868  8492 15868 ..., 15868    36     0]\n",
      " [ 7949  7949    36 ...,    36    36     1]\n",
      " [ 7949     1     0 ...,     0     0     0]\n",
      " ..., \n",
      " [ 7949  8492 17914 ...,     0     0     0]\n",
      " [17496  8492     1 ...,     0     0     0]\n",
      " [ 7949     1     1 ...,     0     0     0]]\n",
      "max 17914\n"
     ]
    },
    {
     "name": "stderr",
     "output_type": "stream",
     "text": [
      "\n",
      "\n",
      "\n",
      "\n",
      "  9%|▉         | 894/10000 [15:27:02<156:43:47, 61.96s/it]\u001b[A\u001b[A\u001b[A\u001b[A"
     ]
    },
    {
     "name": "stdout",
     "output_type": "stream",
     "text": [
      "predition [[ 7949  8492 10552 ...,     0     0     0]\n",
      " [ 7949     1     0 ...,     0     0     0]\n",
      " [ 7949     1     0 ...,     0     0     0]\n",
      " ..., \n",
      " [17496     1     0 ...,     0     0     0]\n",
      " [ 7949     1     0 ...,     0     0     0]\n",
      " [ 7949  8492    36 ...,     0     0     0]]\n",
      "max 17914\n"
     ]
    },
    {
     "name": "stderr",
     "output_type": "stream",
     "text": [
      "\n",
      "\n",
      "\n",
      "\n",
      "  9%|▉         | 895/10000 [15:28:04<156:43:03, 61.96s/it]\u001b[A\u001b[A\u001b[A\u001b[A\n",
      "\n",
      "\n",
      "\n",
      "  9%|▉         | 896/10000 [15:29:06<156:38:34, 61.94s/it]\u001b[A\u001b[A\u001b[A\u001b[A"
     ]
    },
    {
     "name": "stdout",
     "output_type": "stream",
     "text": [
      "predition [[10738  8492  8492 ...,  8492  7949 16139]\n",
      " [17496  8492  8492 ...,     0     0     0]\n",
      " [10738  8492     1 ...,     0     0     0]\n",
      " ..., \n",
      " [ 7949  7949 10552 ...,     0     0     0]\n",
      " [17496    36    36 ...,     0     0     0]\n",
      " [ 7949  8492  8492 ...,     1     0     0]]\n",
      "max 17914\n"
     ]
    },
    {
     "name": "stderr",
     "output_type": "stream",
     "text": [
      "\n",
      "\n",
      "\n",
      "\n",
      "  9%|▉         | 897/10000 [15:30:08<156:43:28, 61.98s/it]\u001b[A\u001b[A\u001b[A\u001b[A\n",
      "\n",
      "\n",
      "\n",
      "  9%|▉         | 898/10000 [15:31:10<156:40:34, 61.97s/it]\u001b[A\u001b[A\u001b[A\u001b[A"
     ]
    },
    {
     "name": "stdout",
     "output_type": "stream",
     "text": [
      "predition [[17496  8492     1 ...,     0     0     0]\n",
      " [10738     1     0 ...,     0     0     0]\n",
      " [17496     1  8492 ..., 16139     0     0]\n",
      " ..., \n",
      " [ 7949     1     1 ...,     0     0     0]\n",
      " [17496  8492    36 ...,     0     0     0]\n",
      " [17496  8492  8492 ...,     0     0     0]]\n",
      "max 17914\n"
     ]
    },
    {
     "name": "stderr",
     "output_type": "stream",
     "text": [
      "\n",
      "\n",
      "\n",
      "\n",
      "  9%|▉         | 899/10000 [15:32:12<156:40:15, 61.97s/it]\u001b[A\u001b[A\u001b[A\u001b[A\n",
      "\n",
      "\n",
      "\n",
      "  9%|▉         | 900/10000 [15:33:14<156:38:36, 61.97s/it]\u001b[A\u001b[A\u001b[A\u001b[A"
     ]
    },
    {
     "name": "stdout",
     "output_type": "stream",
     "text": [
      "predition [[17496  8492  8492 ...,     0     0     0]\n",
      " [10738  8492     1 ...,     0     0     0]\n",
      " [ 7949  7949 10552 ..., 15868    36    36]\n",
      " ..., \n",
      " [   36     1     0 ...,     0     0     0]\n",
      " [10738  8492  8492 ...,     0     0     0]\n",
      " [ 7949    36     1 ...,     0     0     0]]\n",
      "max 17914\n"
     ]
    },
    {
     "name": "stderr",
     "output_type": "stream",
     "text": [
      "\n",
      "\n",
      "\n",
      "\n",
      "  9%|▉         | 901/10000 [15:34:16<156:39:29, 61.98s/it]\u001b[A\u001b[A\u001b[A\u001b[A\n",
      "\n",
      "\n",
      "\n",
      "  9%|▉         | 902/10000 [15:35:18<156:36:44, 61.97s/it]\u001b[A\u001b[A\u001b[A\u001b[A"
     ]
    },
    {
     "name": "stdout",
     "output_type": "stream",
     "text": [
      "predition [[ 7949     1     1 ...,     0     0     0]\n",
      " [10738  8492     1 ...,     0     0     0]\n",
      " [17877     1     0 ...,     0     0     0]\n",
      " ..., \n",
      " [17496     1     0 ...,     0     0     0]\n",
      " [17496     1    36 ...,     0     0     0]\n",
      " [10738 17914 17914 ...,     0     0     0]]\n",
      "max 17914\n"
     ]
    },
    {
     "name": "stderr",
     "output_type": "stream",
     "text": [
      "\n",
      "\n",
      "\n",
      "\n",
      "  9%|▉         | 903/10000 [15:36:20<156:38:51, 61.99s/it]\u001b[A\u001b[A\u001b[A\u001b[A\n",
      "\n",
      "\n",
      "\n",
      "  9%|▉         | 904/10000 [15:37:22<156:29:40, 61.94s/it]\u001b[A\u001b[A\u001b[A\u001b[A"
     ]
    },
    {
     "name": "stdout",
     "output_type": "stream",
     "text": [
      "predition [[ 7949  8492  8492 ...,    36    36    36]\n",
      " [17877     1     0 ...,     0     0     0]\n",
      " [ 7949  8492 10552 ...,    36    36    36]\n",
      " ..., \n",
      " [ 7949  8492     1 ...,     0     0     0]\n",
      " [ 7949  8492  8492 ...,    36    36     0]\n",
      " [ 7949  7949 10552 ...,    36     0     0]]\n",
      "max 17914\n"
     ]
    },
    {
     "name": "stderr",
     "output_type": "stream",
     "text": [
      "\n",
      "\n",
      "\n",
      "\n",
      "  9%|▉         | 905/10000 [15:38:24<156:30:07, 61.95s/it]\u001b[A\u001b[A\u001b[A\u001b[A\n",
      "\n",
      "\n",
      "\n",
      "  9%|▉         | 906/10000 [15:39:26<156:25:04, 61.92s/it]\u001b[A\u001b[A\u001b[A\u001b[A"
     ]
    },
    {
     "name": "stdout",
     "output_type": "stream",
     "text": [
      "predition [[ 7949    36    36 ...,     0     0     0]\n",
      " [10738  8492  8492 ...,     0     0     0]\n",
      " [10738     1  8492 ..., 17914    36    36]\n",
      " ..., \n",
      " [10738    36  7949 ...,    36    36    36]\n",
      " [ 7949  8492     0 ...,     0     0     0]\n",
      " [ 7949  8492     0 ...,     0     0     0]]\n",
      "max 17914\n"
     ]
    },
    {
     "name": "stderr",
     "output_type": "stream",
     "text": [
      "\n",
      "\n",
      "\n",
      "\n",
      "  9%|▉         | 907/10000 [15:40:28<156:22:57, 61.91s/it]\u001b[A\u001b[A\u001b[A\u001b[A\n",
      "\n",
      "\n",
      "\n",
      "  9%|▉         | 908/10000 [15:41:30<156:15:23, 61.87s/it]\u001b[A\u001b[A\u001b[A\u001b[A"
     ]
    },
    {
     "name": "stdout",
     "output_type": "stream",
     "text": [
      "predition [[10738    36  8492 ...,     0     0     0]\n",
      " [ 7949  7949  8492 ...,     0     0     0]\n",
      " [17496    36     1 ...,     0     0     0]\n",
      " ..., \n",
      " [17914 17914     1 ...,    36    36    36]\n",
      " [ 7949  8492  8492 ..., 16139 15868 15868]\n",
      " [ 7949  8492     0 ...,     0     0     0]]\n",
      "max 17914\n"
     ]
    },
    {
     "name": "stderr",
     "output_type": "stream",
     "text": [
      "\n",
      "\n",
      "\n",
      "\n",
      "  9%|▉         | 909/10000 [15:42:31<156:13:11, 61.86s/it]\u001b[A\u001b[A\u001b[A\u001b[A"
     ]
    },
    {
     "name": "stdout",
     "output_type": "stream",
     "text": [
      "predition [[10738  8492    36 ...,     0     0     0]\n",
      " [17877  8492  8492 ...,     0     0     0]\n",
      " [10738  8492  8492 ...,     0     0     0]\n",
      " ..., \n",
      " [10738  8492     1 ...,     0     0     0]\n",
      " [10472     1     0 ...,     0     0     0]\n",
      " [ 7949  8492 10552 ...,     0     0     0]]\n",
      "max 17914\n"
     ]
    },
    {
     "name": "stderr",
     "output_type": "stream",
     "text": [
      "\n",
      "\n",
      "\n",
      "\n",
      "  9%|▉         | 910/10000 [15:43:33<156:16:02, 61.89s/it]\u001b[A\u001b[A\u001b[A\u001b[A\n",
      "\n",
      "\n",
      "\n",
      "  9%|▉         | 911/10000 [15:44:35<156:14:52, 61.89s/it]\u001b[A\u001b[A\u001b[A\u001b[A"
     ]
    },
    {
     "name": "stdout",
     "output_type": "stream",
     "text": [
      "predition [[ 7949  7949 10552 ...,    36    36     0]\n",
      " [ 7949  7949 10552 ...,     0     0     0]\n",
      " [ 7949  7949     1 ...,     0     0     0]\n",
      " ..., \n",
      " [17496     1     0 ...,     0     0     0]\n",
      " [ 7949  7949 10552 ...,    36    36     1]\n",
      " [10738  8492    36 ...,     0     0     0]]\n",
      "max 17914\n"
     ]
    },
    {
     "name": "stderr",
     "output_type": "stream",
     "text": [
      "\n",
      "\n",
      "\n",
      "\n",
      "  9%|▉         | 912/10000 [15:45:37<156:16:23, 61.90s/it]\u001b[A\u001b[A\u001b[A\u001b[A\n",
      "\n",
      "\n",
      "\n",
      "  9%|▉         | 913/10000 [15:46:39<156:10:00, 61.87s/it]\u001b[A\u001b[A\u001b[A\u001b[A"
     ]
    },
    {
     "name": "stdout",
     "output_type": "stream",
     "text": [
      "predition [[ 7949    36     1 ...,     0     0     0]\n",
      " [10738    36     1 ...,     1     0     0]\n",
      " [17914 17914    36 ...,     0     0     0]\n",
      " ..., \n",
      " [17496    36     1 ...,     0     0     0]\n",
      " [ 7949  8492 17914 ...,     0     0     0]\n",
      " [ 7949  8492 10552 ...,     0     0     0]]\n",
      "max 17914\n"
     ]
    },
    {
     "name": "stderr",
     "output_type": "stream",
     "text": [
      "\n",
      "\n",
      "\n",
      "\n",
      "  9%|▉         | 914/10000 [15:47:41<156:11:15, 61.88s/it]\u001b[A\u001b[A\u001b[A\u001b[A\n",
      "\n",
      "\n",
      "\n",
      "  9%|▉         | 915/10000 [15:48:43<156:06:19, 61.86s/it]\u001b[A\u001b[A\u001b[A\u001b[A"
     ]
    },
    {
     "name": "stdout",
     "output_type": "stream",
     "text": [
      "predition [[10738     1     1 ...,     0     0     0]\n",
      " [ 7949  7949  7949 ...,  7949  7949 15868]\n",
      " [17496  8492  8492 ...,     0     0     0]\n",
      " ..., \n",
      " [10738    36     1 ...,     0     0     0]\n",
      " [ 7949    36    36 ...,     0     0     0]\n",
      " [17496    36     0 ...,     0     0     0]]\n",
      "max 17914\n"
     ]
    },
    {
     "name": "stderr",
     "output_type": "stream",
     "text": [
      "\n",
      "\n",
      "\n",
      "\n",
      "  9%|▉         | 916/10000 [15:49:45<156:09:16, 61.88s/it]\u001b[A\u001b[A\u001b[A\u001b[A\n",
      "\n",
      "\n",
      "\n",
      "  9%|▉         | 917/10000 [15:50:46<156:04:13, 61.86s/it]\u001b[A\u001b[A\u001b[A\u001b[A"
     ]
    },
    {
     "name": "stdout",
     "output_type": "stream",
     "text": [
      "predition [[ 7949  8492 10552 ...,     0     0     0]\n",
      " [10738  8492  8492 ...,     0     0     0]\n",
      " [17496    36     0 ...,     0     0     0]\n",
      " ..., \n",
      " [10738  8492  8492 ...,     0     0     0]\n",
      " [10738  8492     1 ...,     0     0     0]\n",
      " [17877  8492  8492 ...,     0     0     0]]\n",
      "max 17914\n"
     ]
    },
    {
     "name": "stderr",
     "output_type": "stream",
     "text": [
      "\n",
      "\n",
      "\n",
      "\n",
      "  9%|▉         | 918/10000 [15:51:49<156:20:01, 61.97s/it]\u001b[A\u001b[A\u001b[A\u001b[A\n",
      "\n",
      "\n",
      "\n",
      "  9%|▉         | 919/10000 [15:52:51<156:14:23, 61.94s/it]\u001b[A\u001b[A\u001b[A\u001b[A"
     ]
    },
    {
     "name": "stdout",
     "output_type": "stream",
     "text": [
      "predition [[ 7949     1     0 ...,     0     0     0]\n",
      " [10738  8492    36 ...,     0     0     0]\n",
      " [ 7949  8492    36 ..., 15868 15868 15868]\n",
      " ..., \n",
      " [17496     1     0 ...,     0     0     0]\n",
      " [ 7949  8492     0 ...,     0     0     0]\n",
      " [17877     1     0 ...,     0     0     0]]\n",
      "max 17914\n"
     ]
    },
    {
     "name": "stderr",
     "output_type": "stream",
     "text": [
      "\n",
      "\n",
      "\n",
      "\n",
      "  9%|▉         | 920/10000 [15:53:53<156:16:01, 61.96s/it]\u001b[A\u001b[A\u001b[A\u001b[A\n",
      "\n",
      "\n",
      "\n",
      "  9%|▉         | 921/10000 [15:54:54<156:08:24, 61.91s/it]\u001b[A\u001b[A\u001b[A\u001b[A"
     ]
    },
    {
     "name": "stdout",
     "output_type": "stream",
     "text": [
      "predition [[10738  8492 17914 ...,     0     0     0]\n",
      " [ 7949  8492     0 ...,     0     0     0]\n",
      " [10738    36    36 ...,     0     0     0]\n",
      " ..., \n",
      " [10738  8492  8492 ...,    36    36     1]\n",
      " [ 7949  8492 10552 ...,     0     0     0]\n",
      " [10738     1     1 ...,     0     0     0]]\n",
      "max 17914\n"
     ]
    },
    {
     "name": "stderr",
     "output_type": "stream",
     "text": [
      "\n",
      "\n",
      "\n",
      "\n",
      "  9%|▉         | 922/10000 [15:55:56<156:05:45, 61.90s/it]\u001b[A\u001b[A\u001b[A\u001b[A"
     ]
    },
    {
     "name": "stdout",
     "output_type": "stream",
     "text": [
      "predition [[10738  8492 17914 ...,     0     0     0]\n",
      " [ 7949  8492 17914 ...,     0     0     0]\n",
      " [10738  8492  8492 ...,     0     0     0]\n",
      " ..., \n",
      " [10738  8492  8492 ...,     0     0     0]\n",
      " [   36     1     0 ...,     0     0     0]\n",
      " [ 7949    36     1 ...,     0     0     0]]\n",
      "max 17914\n"
     ]
    },
    {
     "name": "stderr",
     "output_type": "stream",
     "text": [
      "\n",
      "\n",
      "\n",
      "\n",
      "  9%|▉         | 923/10000 [15:56:58<156:11:45, 61.95s/it]\u001b[A\u001b[A\u001b[A\u001b[A\n",
      "\n",
      "\n",
      "\n",
      "  9%|▉         | 924/10000 [15:58:00<156:03:11, 61.90s/it]\u001b[A\u001b[A\u001b[A\u001b[A"
     ]
    },
    {
     "name": "stdout",
     "output_type": "stream",
     "text": [
      "predition [[17496  8492 17914 ...,     0     0     0]\n",
      " [10738  7949 10552 ...,    36    36    36]\n",
      " [ 7949     1     1 ...,     0     0     0]\n",
      " ..., \n",
      " [17496    36     0 ...,     0     0     0]\n",
      " [ 7949  8492 17914 ...,     0     0     0]\n",
      " [10738    36     1 ...,     0     0     0]]\n",
      "max 17914\n"
     ]
    },
    {
     "name": "stderr",
     "output_type": "stream",
     "text": [
      "\n",
      "\n",
      "\n",
      "\n",
      "  9%|▉         | 925/10000 [15:59:02<156:06:13, 61.93s/it]\u001b[A\u001b[A\u001b[A\u001b[A\n",
      "\n",
      "\n",
      "\n",
      "  9%|▉         | 926/10000 [16:00:04<156:03:02, 61.91s/it]\u001b[A\u001b[A\u001b[A\u001b[A"
     ]
    },
    {
     "name": "stdout",
     "output_type": "stream",
     "text": [
      "predition [[ 7949     1     0 ...,     0     0     0]\n",
      " [ 7949  7949  7949 ...,    36     1     0]\n",
      " [17461 17914 10552 ...,     0     0     0]\n",
      " ..., \n",
      " [10738  8492 17914 ...,     0     0     0]\n",
      " [ 7949  7949  7949 ...,     0     0     0]\n",
      " [ 7949  8492    36 ...,     0     0     0]]\n",
      "max 17914\n"
     ]
    },
    {
     "name": "stderr",
     "output_type": "stream",
     "text": [
      "\n",
      "\n",
      "\n",
      "\n",
      "  9%|▉         | 927/10000 [16:01:06<156:01:09, 61.91s/it]\u001b[A\u001b[A\u001b[A\u001b[A\n",
      "\n",
      "\n",
      "\n",
      "  9%|▉         | 928/10000 [16:02:08<155:57:25, 61.89s/it]\u001b[A\u001b[A\u001b[A\u001b[A"
     ]
    },
    {
     "name": "stdout",
     "output_type": "stream",
     "text": [
      "predition [[10738  8492  8492 ...,     0     0     0]\n",
      " [ 7949  8492    36 ...,     0     0     0]\n",
      " [17877     1     1 ...,     0     0     0]\n",
      " ..., \n",
      " [ 7949     1     0 ...,     0     0     0]\n",
      " [10738  8492 17914 ...,     0     0     0]\n",
      " [ 7949  7949 10552 ...,     1     0     0]]\n",
      "max 17914\n"
     ]
    },
    {
     "name": "stderr",
     "output_type": "stream",
     "text": [
      "\n",
      "\n",
      "\n",
      "\n",
      "  9%|▉         | 929/10000 [16:03:10<156:00:27, 61.91s/it]\u001b[A\u001b[A\u001b[A\u001b[A\n",
      "\n",
      "\n",
      "\n",
      "  9%|▉         | 930/10000 [16:04:12<155:57:43, 61.90s/it]\u001b[A\u001b[A\u001b[A\u001b[A"
     ]
    },
    {
     "name": "stdout",
     "output_type": "stream",
     "text": [
      "predition [[ 7949    36 10552 ...,     1     0     0]\n",
      " [17496  8492    36 ...,     0     0     0]\n",
      " [17914 17914    36 ...,     0     0     0]\n",
      " ..., \n",
      " [ 7949    36    36 ...,     0     0     0]\n",
      " [ 7949  8492     1 ...,     0     0     0]\n",
      " [17496  8492    36 ...,     0     0     0]]\n",
      "max 17914\n"
     ]
    },
    {
     "name": "stderr",
     "output_type": "stream",
     "text": [
      "\n",
      "\n",
      "\n",
      "\n",
      "  9%|▉         | 931/10000 [16:05:14<156:03:38, 61.95s/it]\u001b[A\u001b[A\u001b[A\u001b[A\n",
      "\n",
      "\n",
      "\n",
      "  9%|▉         | 932/10000 [16:06:15<155:53:25, 61.89s/it]\u001b[A\u001b[A\u001b[A\u001b[A"
     ]
    },
    {
     "name": "stdout",
     "output_type": "stream",
     "text": [
      "predition [[ 7949  8492 10552 ...,     0     0     0]\n",
      " [ 7949  8492     1 ...,     0     0     0]\n",
      " [ 7949  8492 17914 ...,     0     0     0]\n",
      " ..., \n",
      " [ 7949  8492 17914 ...,     0     0     0]\n",
      " [ 7949  7949 10552 ..., 17914    36    36]\n",
      " [ 7949     1     0 ...,     0     0     0]]\n",
      "max 17914\n"
     ]
    },
    {
     "name": "stderr",
     "output_type": "stream",
     "text": [
      "\n",
      "\n",
      "\n",
      "\n",
      "  9%|▉         | 933/10000 [16:07:17<155:59:27, 61.94s/it]\u001b[A\u001b[A\u001b[A\u001b[A\n",
      "\n",
      "\n",
      "\n",
      "  9%|▉         | 934/10000 [16:08:19<155:47:30, 61.86s/it]\u001b[A\u001b[A\u001b[A\u001b[A"
     ]
    },
    {
     "name": "stdout",
     "output_type": "stream",
     "text": [
      "predition [[ 7949  8492 15868 ...,     0     0     0]\n",
      " [ 7949  8492  8492 ...,     0     0     0]\n",
      " [ 7949     1     1 ...,     0     0     0]\n",
      " ..., \n",
      " [17914  8492 17914 ...,     1     0     0]\n",
      " [ 7949     1     0 ...,     0     0     0]\n",
      " [ 7949  7949  7949 ...,     0     0     0]]\n",
      "max 17914\n"
     ]
    },
    {
     "name": "stderr",
     "output_type": "stream",
     "text": [
      "\n",
      "\n",
      "\n",
      "\n",
      "  9%|▉         | 935/10000 [16:09:21<155:53:04, 61.91s/it]\u001b[A\u001b[A\u001b[A\u001b[A"
     ]
    },
    {
     "name": "stdout",
     "output_type": "stream",
     "text": [
      "predition [[ 7949  8492 17914 ...,  7949 16139 16139]\n",
      " [17877    36  8492 ...,     0     0     0]\n",
      " [10738  8492  8492 ...,     0     0     0]\n",
      " ..., \n",
      " [17877    36     0 ...,     1     1     0]\n",
      " [ 7949     1     1 ...,     0     0     0]\n",
      " [ 7949 17914 10552 ..., 17914 17914    36]]\n",
      "max 17914\n"
     ]
    },
    {
     "name": "stderr",
     "output_type": "stream",
     "text": [
      "\n",
      "\n",
      "\n",
      "\n",
      "  9%|▉         | 936/10000 [16:10:23<155:50:27, 61.90s/it]\u001b[A\u001b[A\u001b[A\u001b[A\n",
      "\n",
      "\n",
      "\n",
      "  9%|▉         | 937/10000 [16:11:25<155:54:27, 61.93s/it]\u001b[A\u001b[A\u001b[A\u001b[A"
     ]
    },
    {
     "name": "stdout",
     "output_type": "stream",
     "text": [
      "predition [[ 7949  8492    36 ...,     0     0     0]\n",
      " [ 7949  7949 10552 ..., 16139 16139    36]\n",
      " [17496     1     0 ...,     0     0     0]\n",
      " ..., \n",
      " [17496     1     0 ...,     0     0     0]\n",
      " [ 7949  7949 10552 ...,    36    36     0]\n",
      " [ 7949  8492 10552 ...,     0     0     0]]\n",
      "max 17914\n"
     ]
    },
    {
     "name": "stderr",
     "output_type": "stream",
     "text": [
      "\n",
      "\n",
      "\n",
      "\n",
      "  9%|▉         | 938/10000 [16:12:27<155:55:32, 61.94s/it]\u001b[A\u001b[A\u001b[A\u001b[A\n",
      "\n",
      "\n",
      "\n",
      "  9%|▉         | 939/10000 [16:13:29<155:53:41, 61.94s/it]\u001b[A\u001b[A\u001b[A\u001b[A"
     ]
    },
    {
     "name": "stdout",
     "output_type": "stream",
     "text": [
      "predition [[ 7949  7949 10552 ...,     0     0     0]\n",
      " [ 7949     1     0 ...,     0     0     0]\n",
      " [ 7949  8492     1 ...,     0     0     0]\n",
      " ..., \n",
      " [ 7949  7949     0 ...,     0     0     0]\n",
      " [10738  8492     1 ...,     0     0     0]\n",
      " [ 7949 17914    36 ...,    36     1     1]]\n",
      "max 17914\n"
     ]
    },
    {
     "name": "stderr",
     "output_type": "stream",
     "text": [
      "\n",
      "\n",
      "\n",
      "\n",
      "  9%|▉         | 940/10000 [16:14:31<155:51:11, 61.93s/it]\u001b[A\u001b[A\u001b[A\u001b[A\n",
      "\n",
      "\n",
      "\n",
      "  9%|▉         | 941/10000 [16:15:33<155:52:40, 61.95s/it]\u001b[A\u001b[A\u001b[A\u001b[A"
     ]
    },
    {
     "name": "stdout",
     "output_type": "stream",
     "text": [
      "predition [[ 7949  8492 10552 ...,    36    36    36]\n",
      " [ 7949  7949 10552 ...,    36    36     0]\n",
      " [17496  8492  8492 ...,     0     0     0]\n",
      " ..., \n",
      " [ 7949  8492    36 ...,  8492    36     1]\n",
      " [ 7949  8492  8492 ...,  7949 16139    36]\n",
      " [ 7949  8492 10552 ...,     0     0     0]]\n",
      "max 17914\n"
     ]
    },
    {
     "name": "stderr",
     "output_type": "stream",
     "text": [
      "\n",
      "\n",
      "\n",
      "\n",
      "  9%|▉         | 942/10000 [16:16:34<155:43:45, 61.89s/it]\u001b[A\u001b[A\u001b[A\u001b[A\n",
      "\n",
      "\n",
      "\n",
      "  9%|▉         | 943/10000 [16:17:36<155:36:33, 61.85s/it]\u001b[A\u001b[A\u001b[A\u001b[A"
     ]
    },
    {
     "name": "stdout",
     "output_type": "stream",
     "text": [
      "predition [[17496  8492  8492 ...,     0     0     0]\n",
      " [ 7949  8492 10552 ...,     0     0     0]\n",
      " [ 7949  7949 10552 ...,    36    36    36]\n",
      " ..., \n",
      " [ 7949    36    36 ...,     0     0     0]\n",
      " [ 7949  7949 10552 ...,     1     0     0]\n",
      " [ 7949     1     0 ...,    36    36    36]]\n",
      "max 17914\n"
     ]
    },
    {
     "name": "stderr",
     "output_type": "stream",
     "text": [
      "\n",
      "\n",
      "\n",
      "\n",
      "  9%|▉         | 944/10000 [16:18:38<155:38:11, 61.87s/it]\u001b[A\u001b[A\u001b[A\u001b[A\n",
      "\n",
      "\n",
      "\n",
      "  9%|▉         | 945/10000 [16:19:40<155:45:23, 61.92s/it]\u001b[A\u001b[A\u001b[A\u001b[A"
     ]
    },
    {
     "name": "stdout",
     "output_type": "stream",
     "text": [
      "predition [[ 7949  8492    36 ...,     0     0     0]\n",
      " [ 7949     1     0 ...,     0     0     0]\n",
      " [ 7949  8492 10552 ...,     0     0     0]\n",
      " ..., \n",
      " [10738  8492     1 ...,     0     0     0]\n",
      " [ 7949  7949 10552 ...,     0     0     0]\n",
      " [ 7949 17914 17914 ...,     0     0     0]]\n",
      "max 17914\n"
     ]
    },
    {
     "name": "stderr",
     "output_type": "stream",
     "text": [
      "\n",
      "\n",
      "\n",
      "\n",
      "  9%|▉         | 946/10000 [16:20:42<155:48:45, 61.95s/it]\u001b[A\u001b[A\u001b[A\u001b[A\n",
      "\n",
      "\n",
      "\n",
      "  9%|▉         | 947/10000 [16:21:44<155:46:48, 61.95s/it]\u001b[A\u001b[A\u001b[A\u001b[A"
     ]
    },
    {
     "name": "stdout",
     "output_type": "stream",
     "text": [
      "predition [[17496     1     0 ...,     0     0     0]\n",
      " [ 7949    36    36 ...,     0     0     0]\n",
      " [ 7949  8492     0 ...,    36    36    36]\n",
      " ..., \n",
      " [ 7949  8492 17914 ...,     0     0     0]\n",
      " [ 7949  8492 10552 ...,    36    36    36]\n",
      " [   36     1     0 ...,     0     0     0]]\n",
      "max 17914\n"
     ]
    },
    {
     "name": "stderr",
     "output_type": "stream",
     "text": [
      "\n",
      "\n",
      "\n",
      "\n",
      "  9%|▉         | 948/10000 [16:22:46<155:42:02, 61.92s/it]\u001b[A\u001b[A\u001b[A\u001b[A"
     ]
    },
    {
     "name": "stdout",
     "output_type": "stream",
     "text": [
      "predition [[17877  8492  8492 ...,    36    36    36]\n",
      " [ 7949    36     1 ...,     0     0     0]\n",
      " [ 7949  8492 10552 ...,    36    36    36]\n",
      " ..., \n",
      " [ 7949  8492 10552 ..., 15868 16139 16139]\n",
      " [17496  8492    36 ...,     0     0     0]\n",
      " [ 7949     1     1 ...,     0     0     0]]\n",
      "max 17914\n"
     ]
    },
    {
     "name": "stderr",
     "output_type": "stream",
     "text": [
      "\n",
      "\n",
      "\n",
      "\n",
      "  9%|▉         | 949/10000 [16:23:48<155:39:41, 61.91s/it]\u001b[A\u001b[A\u001b[A\u001b[A\n",
      "\n",
      "\n",
      "\n",
      " 10%|▉         | 950/10000 [16:24:50<155:34:49, 61.89s/it]\u001b[A\u001b[A\u001b[A\u001b[A"
     ]
    },
    {
     "name": "stdout",
     "output_type": "stream",
     "text": [
      "predition [[ 7949  8492  8492 ...,     0     0     0]\n",
      " [17914  8492     0 ...,     0     0     0]\n",
      " [10738  8492  8492 ...,     0     0     0]\n",
      " ..., \n",
      " [ 7949     1     0 ...,     0     0     0]\n",
      " [ 7949     1     0 ...,     0     0     0]\n",
      " [17914  8492     1 ...,     0     0     0]]\n",
      "max 17914\n"
     ]
    },
    {
     "name": "stderr",
     "output_type": "stream",
     "text": [
      "\n",
      "\n",
      "\n",
      "\n",
      " 10%|▉         | 951/10000 [16:25:52<155:34:21, 61.89s/it]\u001b[A\u001b[A\u001b[A\u001b[A\n",
      "\n",
      "\n",
      "\n",
      " 10%|▉         | 952/10000 [16:26:53<155:21:30, 61.81s/it]\u001b[A\u001b[A\u001b[A\u001b[A"
     ]
    },
    {
     "name": "stdout",
     "output_type": "stream",
     "text": [
      "predition [[ 7949  8492 10552 ...,  7949  7949 16139]\n",
      " [10738     1    36 ...,     0     0     0]\n",
      " [17914 17914 17914 ...,     0     0     0]\n",
      " ..., \n",
      " [17914    36 17914 ...,     0     0     0]\n",
      " [ 7949  8492 17914 ...,     0     0     0]\n",
      " [10738  8492     0 ...,     0     0     0]]\n",
      "max 17914\n"
     ]
    },
    {
     "name": "stderr",
     "output_type": "stream",
     "text": [
      "\n",
      "\n",
      "\n",
      "\n",
      " 10%|▉         | 953/10000 [16:27:55<155:29:17, 61.87s/it]\u001b[A\u001b[A\u001b[A\u001b[A\n",
      "\n",
      "\n",
      "\n",
      " 10%|▉         | 954/10000 [16:28:57<155:30:15, 61.89s/it]\u001b[A\u001b[A\u001b[A\u001b[A"
     ]
    },
    {
     "name": "stdout",
     "output_type": "stream",
     "text": [
      "predition [[10472  7949     1 ...,     0     0     0]\n",
      " [ 7949  8492  8492 ...,    36     1     0]\n",
      " [17914 17914 17914 ...,     0     0     0]\n",
      " ..., \n",
      " [10738 17914    36 ...,     0     0     0]\n",
      " [ 7949     1     0 ...,     0     0     0]\n",
      " [ 7949  7949  7949 ...,    36    36    36]]\n",
      "max 17914\n"
     ]
    },
    {
     "name": "stderr",
     "output_type": "stream",
     "text": [
      "\n",
      "\n",
      "\n",
      "\n",
      " 10%|▉         | 955/10000 [16:29:59<155:37:55, 61.94s/it]\u001b[A\u001b[A\u001b[A\u001b[A\n",
      "\n",
      "\n",
      "\n",
      " 10%|▉         | 956/10000 [16:31:01<155:34:35, 61.93s/it]\u001b[A\u001b[A\u001b[A\u001b[A"
     ]
    },
    {
     "name": "stdout",
     "output_type": "stream",
     "text": [
      "predition [[10738  8492  8492 ...,     0     0     0]\n",
      " [ 7949     1     0 ...,     0     0     0]\n",
      " [10738  8492  8492 ...,    36    36 15868]\n",
      " ..., \n",
      " [ 7949  8492     1 ...,     0     0     0]\n",
      " [10738 17914 17395 ...,    36    36     1]\n",
      " [17496  8492 17914 ...,     0     0     0]]\n",
      "max 17914\n"
     ]
    },
    {
     "name": "stderr",
     "output_type": "stream",
     "text": [
      "\n",
      "\n",
      "\n",
      "\n",
      " 10%|▉         | 957/10000 [16:32:03<155:38:42, 61.96s/it]\u001b[A\u001b[A\u001b[A\u001b[A\n",
      "\n",
      "\n",
      "\n",
      " 10%|▉         | 958/10000 [16:33:05<155:34:38, 61.94s/it]\u001b[A\u001b[A\u001b[A\u001b[A"
     ]
    },
    {
     "name": "stdout",
     "output_type": "stream",
     "text": [
      "predition [[ 7949  7949 10552 ...,    36    36    36]\n",
      " [ 7949  8492     0 ...,     0     0     0]\n",
      " [17914 17914 17914 ..., 17914 17914 15868]\n",
      " ..., \n",
      " [10738  8492 10552 ...,     0     0     0]\n",
      " [ 7949  8492 10552 ...,     0     0     0]\n",
      " [ 7949  8492     0 ...,     0     0     0]]\n",
      "max 17914\n"
     ]
    },
    {
     "name": "stderr",
     "output_type": "stream",
     "text": [
      "\n",
      "\n",
      "\n",
      "\n",
      " 10%|▉         | 959/10000 [16:34:07<155:37:39, 61.97s/it]\u001b[A\u001b[A\u001b[A\u001b[A\n",
      "\n",
      "\n",
      "\n",
      " 10%|▉         | 960/10000 [16:35:09<155:29:05, 61.92s/it]\u001b[A\u001b[A\u001b[A\u001b[A"
     ]
    },
    {
     "name": "stdout",
     "output_type": "stream",
     "text": [
      "predition [[10738  8492    36 ...,     0     0     0]\n",
      " [10738    36 17914 ...,     1     1     0]\n",
      " [10738  8492    36 ...,     0     0     0]\n",
      " ..., \n",
      " [   36     1     1 ...,     0     0     0]\n",
      " [10738  8492     1 ...,     0     0     0]\n",
      " [10738  8492 17914 ...,     1     0     0]]\n",
      "max 17914\n"
     ]
    },
    {
     "name": "stderr",
     "output_type": "stream",
     "text": [
      "\n",
      "\n",
      "\n",
      "\n",
      " 10%|▉         | 961/10000 [16:36:11<155:34:40, 61.96s/it]\u001b[A\u001b[A\u001b[A\u001b[A\n",
      "\n",
      "\n",
      "\n",
      " 10%|▉         | 962/10000 [16:37:13<155:29:05, 61.93s/it]\u001b[A\u001b[A\u001b[A\u001b[A"
     ]
    },
    {
     "name": "stdout",
     "output_type": "stream",
     "text": [
      "predition [[17496    36     1 ...,     0     0     0]\n",
      " [17877     1     0 ...,     0     0     0]\n",
      " [ 7949  8492     0 ...,     0     0     0]\n",
      " ..., \n",
      " [10738  8492  8492 ...,     0     0     0]\n",
      " [ 7949     1     0 ...,     0     0     0]\n",
      " [10738  8492  8492 ...,     0     0     0]]\n",
      "max 17914\n"
     ]
    },
    {
     "name": "stderr",
     "output_type": "stream",
     "text": [
      "\n",
      "\n",
      "\n",
      "\n",
      " 10%|▉         | 963/10000 [16:38:15<155:30:06, 61.95s/it]\u001b[A\u001b[A\u001b[A\u001b[A"
     ]
    },
    {
     "name": "stdout",
     "output_type": "stream",
     "text": [
      "predition [[10738  8492     1 ...,     0     0     0]\n",
      " [ 7949  7949 17914 ...,     0     0     0]\n",
      " [17395  8492 10552 ..., 15868 15868 15868]\n",
      " ..., \n",
      " [17914  8492     1 ...,     0     0     0]\n",
      " [ 7949  7949 10552 ..., 16139 16139    36]\n",
      " [ 7949  7949 10552 ...,     0     0     0]]\n",
      "max 17914\n"
     ]
    },
    {
     "name": "stderr",
     "output_type": "stream",
     "text": [
      "\n",
      "\n",
      "\n",
      "\n",
      " 10%|▉         | 964/10000 [16:39:17<155:25:43, 61.92s/it]\u001b[A\u001b[A\u001b[A\u001b[A\n",
      "\n",
      "\n",
      "\n",
      " 10%|▉         | 965/10000 [16:40:19<155:20:47, 61.90s/it]\u001b[A\u001b[A\u001b[A\u001b[A"
     ]
    },
    {
     "name": "stdout",
     "output_type": "stream",
     "text": [
      "predition [[ 7949  8492  8492 ...,     0     0     0]\n",
      " [17496  8492    36 ...,     0     0     0]\n",
      " [ 7949  8492  8492 ...,    36 15868 15868]\n",
      " ..., \n",
      " [ 7949  8492  8492 ...,     0     0     0]\n",
      " [17461  8492  8492 ...,    36    36    36]\n",
      " [17496  8492  8492 ...,     0     0     0]]\n",
      "max 17914\n"
     ]
    },
    {
     "name": "stderr",
     "output_type": "stream",
     "text": [
      "\n",
      "\n",
      "\n",
      "\n",
      " 10%|▉         | 966/10000 [16:41:20<155:21:06, 61.91s/it]\u001b[A\u001b[A\u001b[A\u001b[A\n",
      "\n",
      "\n",
      "\n",
      " 10%|▉         | 967/10000 [16:42:22<155:18:35, 61.90s/it]\u001b[A\u001b[A\u001b[A\u001b[A"
     ]
    },
    {
     "name": "stdout",
     "output_type": "stream",
     "text": [
      "predition [[17914 17914 17914 ...,     0     0     0]\n",
      " [ 7949     1     0 ...,     0     0     0]\n",
      " [ 7949  7949 10552 ..., 17914 17914    36]\n",
      " ..., \n",
      " [ 7949  7949    36 ...,     0     0     0]\n",
      " [ 7949  8492     1 ...,     0     0     0]\n",
      " [10738  8492  8492 ...,     0     0     0]]\n",
      "max 17914\n"
     ]
    },
    {
     "name": "stderr",
     "output_type": "stream",
     "text": [
      "\n",
      "\n",
      "\n",
      "\n",
      " 10%|▉         | 968/10000 [16:43:24<155:22:58, 61.93s/it]\u001b[A\u001b[A\u001b[A\u001b[A\n",
      "\n",
      "\n",
      "\n",
      " 10%|▉         | 969/10000 [16:44:26<155:18:54, 61.91s/it]\u001b[A\u001b[A\u001b[A\u001b[A"
     ]
    },
    {
     "name": "stdout",
     "output_type": "stream",
     "text": [
      "predition [[ 7949  8492     0 ...,     0     0     0]\n",
      " [17461 17914 10552 ...,     0     0     0]\n",
      " [ 7949  7949 10552 ...,    36    36     1]\n",
      " ..., \n",
      " [17914  8492     1 ...,     0     0     0]\n",
      " [ 7949  8492 10552 ...,     0     0     0]\n",
      " [ 7949  8492  8492 ...,     0     0     0]]\n",
      "max 17914\n"
     ]
    },
    {
     "name": "stderr",
     "output_type": "stream",
     "text": [
      "\n",
      "\n",
      "\n",
      "\n",
      " 10%|▉         | 970/10000 [16:45:28<155:19:49, 61.93s/it]\u001b[A\u001b[A\u001b[A\u001b[A\n",
      "\n",
      "\n",
      "\n",
      " 10%|▉         | 971/10000 [16:46:30<155:13:35, 61.89s/it]\u001b[A\u001b[A\u001b[A\u001b[A"
     ]
    },
    {
     "name": "stdout",
     "output_type": "stream",
     "text": [
      "predition [[ 7949  8492     0 ...,     0     0     0]\n",
      " [ 7949  8492 10552 ...,     0     0     0]\n",
      " [ 7949  8492 10552 ...,     0     0     0]\n",
      " ..., \n",
      " [ 7949     1     0 ...,     0     0     0]\n",
      " [ 7949    36     0 ...,     0     0     0]\n",
      " [17496     1    36 ...,     0     0     0]]\n",
      "max 17914\n"
     ]
    },
    {
     "name": "stderr",
     "output_type": "stream",
     "text": [
      "\n",
      "\n",
      "\n",
      "\n",
      " 10%|▉         | 972/10000 [16:47:32<155:11:45, 61.89s/it]\u001b[A\u001b[A\u001b[A\u001b[A\n",
      "\n",
      "\n",
      "\n",
      " 10%|▉         | 973/10000 [16:48:34<155:03:23, 61.84s/it]\u001b[A\u001b[A\u001b[A\u001b[A"
     ]
    },
    {
     "name": "stdout",
     "output_type": "stream",
     "text": [
      "predition [[ 7949  7949  8492 ...,     1     0     0]\n",
      " [ 7949  8492    36 ...,     0     0     0]\n",
      " [ 7949  8492     0 ...,     0     0     0]\n",
      " ..., \n",
      " [10738  8492     0 ...,     0     0     0]\n",
      " [ 7949  8492 17914 ...,     0     0     0]\n",
      " [10738    36 17914 ...,     0     0     0]]\n",
      "max 17914\n"
     ]
    },
    {
     "name": "stderr",
     "output_type": "stream",
     "text": [
      "\n",
      "\n",
      "\n",
      "\n",
      " 10%|▉         | 974/10000 [16:49:36<155:16:27, 61.93s/it]\u001b[A\u001b[A\u001b[A\u001b[A\n",
      "\n",
      "\n",
      "\n",
      " 10%|▉         | 975/10000 [16:50:37<155:05:32, 61.87s/it]\u001b[A\u001b[A\u001b[A\u001b[A"
     ]
    },
    {
     "name": "stdout",
     "output_type": "stream",
     "text": [
      "predition [[10472    36  7949 ...,    36     0     0]\n",
      " [ 7949  8492 10552 ...,     0     0     0]\n",
      " [ 7949  8492     1 ...,     0     0     0]\n",
      " ..., \n",
      " [ 7949  8492 17914 ...,     0     0     0]\n",
      " [ 7949  8492     0 ...,     0     0     0]\n",
      " [10738  8492 17914 ...,     0     0     0]]\n",
      "max 17914\n"
     ]
    },
    {
     "name": "stderr",
     "output_type": "stream",
     "text": [
      "\n",
      "\n",
      "\n",
      "\n",
      " 10%|▉         | 976/10000 [16:51:40<155:13:43, 61.93s/it]\u001b[A\u001b[A\u001b[A\u001b[A"
     ]
    },
    {
     "name": "stdout",
     "output_type": "stream",
     "text": [
      "predition [[ 7949     1    36 ...,     0     0     0]\n",
      " [ 7949     1     1 ...,     0     0     0]\n",
      " [17496    36    36 ...,     0     0     0]\n",
      " ..., \n",
      " [10738  7949 10552 ...,     0     0     0]\n",
      " [ 7949  8492  8492 ..., 16139 16139 15868]\n",
      " [ 7949  7949  8492 ...,     0     0     0]]\n",
      "max 17914\n"
     ]
    },
    {
     "name": "stderr",
     "output_type": "stream",
     "text": [
      "\n",
      "\n",
      "\n",
      "\n",
      " 10%|▉         | 977/10000 [16:52:42<155:17:48, 61.96s/it]\u001b[A\u001b[A\u001b[A\u001b[A\n",
      "\n",
      "\n",
      "\n",
      " 10%|▉         | 978/10000 [16:53:43<155:07:46, 61.90s/it]\u001b[A\u001b[A\u001b[A\u001b[A"
     ]
    },
    {
     "name": "stdout",
     "output_type": "stream",
     "text": [
      "predition [[10738  8492     1 ...,     0     0     0]\n",
      " [ 7949     1     1 ...,     0     0     0]\n",
      " [17877  8492  8492 ...,     0     0     0]\n",
      " ..., \n",
      " [17914  8492  8492 ...,     0     0     0]\n",
      " [ 7949  8492    36 ...,     0     0     0]\n",
      " [ 7949  7949 10552 ...,     1     0     0]]\n",
      "max 17914\n"
     ]
    },
    {
     "name": "stderr",
     "output_type": "stream",
     "text": [
      "\n",
      "\n",
      "\n",
      "\n",
      " 10%|▉         | 979/10000 [16:54:45<155:14:16, 61.95s/it]\u001b[A\u001b[A\u001b[A\u001b[A\n",
      "\n",
      "\n",
      "\n",
      " 10%|▉         | 980/10000 [16:55:47<155:10:01, 61.93s/it]\u001b[A\u001b[A\u001b[A\u001b[A"
     ]
    },
    {
     "name": "stdout",
     "output_type": "stream",
     "text": [
      "predition [[ 7949  8492 10552 ...,     0     0     0]\n",
      " [10738  8492     1 ...,     0     0     0]\n",
      " [ 7949    36 17914 ...,     0     0     0]\n",
      " ..., \n",
      " [ 7949  8492 10552 ..., 17914 17914    36]\n",
      " [10738  8492     1 ...,     0     0     0]\n",
      " [10738    36     0 ...,     0     0     0]]\n",
      "max 17914\n"
     ]
    },
    {
     "name": "stderr",
     "output_type": "stream",
     "text": [
      "\n",
      "\n",
      "\n",
      "\n",
      " 10%|▉         | 981/10000 [16:56:49<155:12:28, 61.95s/it]\u001b[A\u001b[A\u001b[A\u001b[A\n",
      "\n",
      "\n",
      "\n",
      " 10%|▉         | 982/10000 [16:57:51<155:06:33, 61.92s/it]\u001b[A\u001b[A\u001b[A\u001b[A"
     ]
    },
    {
     "name": "stdout",
     "output_type": "stream",
     "text": [
      "predition [[17877  8492  8492 ...,     0     0     0]\n",
      " [10738  8492     1 ...,     0     0     0]\n",
      " [17877     1     0 ...,     0     0     0]\n",
      " ..., \n",
      " [17496  8492     1 ...,     0     0     0]\n",
      " [10738  8492 17914 ..., 16139 16139    36]\n",
      " [17914  8492  8492 ..., 15868 15868 15868]]\n",
      "max 17914\n"
     ]
    },
    {
     "name": "stderr",
     "output_type": "stream",
     "text": [
      "\n",
      "\n",
      "\n",
      "\n",
      " 10%|▉         | 983/10000 [16:58:53<155:03:49, 61.91s/it]\u001b[A\u001b[A\u001b[A\u001b[A\n",
      "\n",
      "\n",
      "\n",
      " 10%|▉         | 984/10000 [16:59:55<154:53:15, 61.85s/it]\u001b[A\u001b[A\u001b[A\u001b[A"
     ]
    },
    {
     "name": "stdout",
     "output_type": "stream",
     "text": [
      "predition [[ 7949     1     0 ...,     0     0     0]\n",
      " [10738  8492    36 ...,     0     0     0]\n",
      " [ 7949  8492    36 ...,     0     0     0]\n",
      " ..., \n",
      " [17914 17914 10552 ...,    36    36     1]\n",
      " [ 7949    36    36 ...,     0     0     0]\n",
      " [ 7949  8492  8492 ...,     0     0     0]]\n",
      "max 17914\n"
     ]
    },
    {
     "name": "stderr",
     "output_type": "stream",
     "text": [
      "\n",
      "\n",
      "\n",
      "\n",
      " 10%|▉         | 985/10000 [17:00:57<154:54:44, 61.86s/it]\u001b[A\u001b[A\u001b[A\u001b[A\n",
      "\n",
      "\n",
      "\n",
      " 10%|▉         | 986/10000 [17:01:58<154:53:53, 61.86s/it]\u001b[A\u001b[A\u001b[A\u001b[A"
     ]
    },
    {
     "name": "stdout",
     "output_type": "stream",
     "text": [
      "predition [[ 7949  8492 10552 ...,     0     0     0]\n",
      " [10738  8492 17914 ...,     1     1     0]\n",
      " [17496     1     0 ...,     0     0     0]\n",
      " ..., \n",
      " [10738     1     0 ...,     0     0     0]\n",
      " [10738  8492 17914 ..., 16139    36    36]\n",
      " [17914 17914 10552 ...,     0     0     0]]\n",
      "max 17914\n"
     ]
    },
    {
     "name": "stderr",
     "output_type": "stream",
     "text": [
      "\n",
      "\n",
      "\n",
      "\n",
      " 10%|▉         | 987/10000 [17:03:00<154:59:23, 61.91s/it]\u001b[A\u001b[A\u001b[A\u001b[A\n",
      "\n",
      "\n",
      "\n",
      " 10%|▉         | 988/10000 [17:04:02<154:56:21, 61.89s/it]\u001b[A\u001b[A\u001b[A\u001b[A"
     ]
    },
    {
     "name": "stdout",
     "output_type": "stream",
     "text": [
      "predition [[ 7949     1     0 ...,     0     0     0]\n",
      " [10738  8492  8492 ...,     0     0     0]\n",
      " [ 7949  7949 10552 ...,    36    36     1]\n",
      " ..., \n",
      " [ 7949     1     0 ...,     0     0     0]\n",
      " [   36     1     0 ...,     0     0     0]\n",
      " [17914  8492 17914 ...,     0     0     0]]\n",
      "max 17914\n"
     ]
    },
    {
     "name": "stderr",
     "output_type": "stream",
     "text": [
      "\n",
      "\n",
      "\n",
      "\n",
      " 10%|▉         | 989/10000 [17:05:04<154:59:41, 61.92s/it]\u001b[A\u001b[A\u001b[A\u001b[A"
     ]
    },
    {
     "name": "stdout",
     "output_type": "stream",
     "text": [
      "predition [[17496  8492    36 ...,     0     0     0]\n",
      " [ 7949  7949    36 ..., 16139    36    36]\n",
      " [ 7949  7949 10552 ...,  7949 17914 15868]\n",
      " ..., \n",
      " [ 7949  8492 10552 ...,     0     0     0]\n",
      " [ 7949  8492 10552 ...,     0     0     0]\n",
      " [10472    36    36 ...,     0     0     0]]\n",
      "max 17914\n"
     ]
    },
    {
     "name": "stderr",
     "output_type": "stream",
     "text": [
      "\n",
      "\n",
      "\n",
      "\n",
      " 10%|▉         | 990/10000 [17:06:06<154:59:53, 61.93s/it]\u001b[A\u001b[A\u001b[A\u001b[A\n",
      "\n",
      "\n",
      "\n",
      " 10%|▉         | 991/10000 [17:07:08<154:57:33, 61.92s/it]\u001b[A\u001b[A\u001b[A\u001b[A"
     ]
    },
    {
     "name": "stdout",
     "output_type": "stream",
     "text": [
      "predition [[ 7949  8492 10552 ...,    36     1     0]\n",
      " [10738    36     1 ...,     0     0     0]\n",
      " [ 7949     1     0 ...,     0     0     0]\n",
      " ..., \n",
      " [ 7949  8492 17914 ...,     0     0     0]\n",
      " [ 7949     1     0 ...,     0     0     0]\n",
      " [17914  8492    36 ...,     0     0     0]]\n",
      "max 17914\n"
     ]
    },
    {
     "name": "stderr",
     "output_type": "stream",
     "text": [
      "\n",
      "\n",
      "\n",
      "\n",
      " 10%|▉         | 992/10000 [17:08:10<154:55:58, 61.92s/it]\u001b[A\u001b[A\u001b[A\u001b[A\n",
      "\n",
      "\n",
      "\n",
      " 10%|▉         | 993/10000 [17:09:12<154:56:26, 61.93s/it]\u001b[A\u001b[A\u001b[A\u001b[A"
     ]
    },
    {
     "name": "stdout",
     "output_type": "stream",
     "text": [
      "predition [[17914 17914 17914 ...,    36    36    36]\n",
      " [ 7949  7949 10552 ...,    36    36    36]\n",
      " [17496  8492  8492 ...,     0     0     0]\n",
      " ..., \n",
      " [17877    36    36 ...,     0     0     0]\n",
      " [10738  8492     1 ...,     0     0     0]\n",
      " [ 7949  7949 10552 ...,    36    36    36]]\n",
      "max 17914\n"
     ]
    },
    {
     "name": "stderr",
     "output_type": "stream",
     "text": [
      "\n",
      "\n",
      "\n",
      "\n",
      " 10%|▉         | 994/10000 [17:10:14<154:56:03, 61.93s/it]\u001b[A\u001b[A\u001b[A\u001b[A\n",
      "\n",
      "\n",
      "\n",
      " 10%|▉         | 995/10000 [17:11:16<154:49:30, 61.90s/it]\u001b[A\u001b[A\u001b[A\u001b[A"
     ]
    },
    {
     "name": "stdout",
     "output_type": "stream",
     "text": [
      "predition [[17496  8492 17914 ...,     0     0     0]\n",
      " [10738  8492  8492 ...,     0     0     0]\n",
      " [10738    36    36 ...,     0     0     0]\n",
      " ..., \n",
      " [17914 17914 17914 ...,     0     0     0]\n",
      " [ 7949  7949    36 ...,     0     0     0]\n",
      " [10738  8492  8492 ...,     0     0     0]]\n",
      "max 17914\n"
     ]
    },
    {
     "name": "stderr",
     "output_type": "stream",
     "text": [
      "\n",
      "\n",
      "\n",
      "\n",
      " 10%|▉         | 996/10000 [17:12:18<154:51:11, 61.91s/it]\u001b[A\u001b[A\u001b[A\u001b[A\n",
      "\n",
      "\n",
      "\n",
      " 10%|▉         | 997/10000 [17:13:20<154:47:39, 61.90s/it]\u001b[A\u001b[A\u001b[A\u001b[A"
     ]
    },
    {
     "name": "stdout",
     "output_type": "stream",
     "text": [
      "predition [[ 7949    36    36 ...,     0     0     0]\n",
      " [ 7949  8492    36 ...,     0     0     0]\n",
      " [ 7949  8492  7949 ...,     0     0     0]\n",
      " ..., \n",
      " [17914  8492 17914 ...,     0     0     0]\n",
      " [10738  8492  8492 ..., 15868    36    36]\n",
      " [ 7949  8492 10552 ..., 16139 15868 15868]]\n",
      "max 17914\n"
     ]
    },
    {
     "name": "stderr",
     "output_type": "stream",
     "text": [
      "\n",
      "\n",
      "\n",
      "\n",
      " 10%|▉         | 998/10000 [17:14:22<154:49:14, 61.91s/it]\u001b[A\u001b[A\u001b[A\u001b[A\n",
      "\n",
      "\n",
      "\n",
      " 10%|▉         | 999/10000 [17:15:24<154:48:28, 61.92s/it]\u001b[A\u001b[A\u001b[A\u001b[A"
     ]
    },
    {
     "name": "stdout",
     "output_type": "stream",
     "text": [
      "predition [[ 7949  8492 17914 ...,     0     0     0]\n",
      " [17395  8492 10552 ...,     0     0     0]\n",
      " [ 7949  8492     0 ...,     0     0     0]\n",
      " ..., \n",
      " [10738  8492 10552 ...,     1     0     0]\n",
      " [ 7949  8492  8492 ..., 15868 15868 15868]\n",
      " [ 7949  8492     1 ...,     0     0     0]]\n",
      "max 17914\n"
     ]
    },
    {
     "name": "stderr",
     "output_type": "stream",
     "text": [
      "\n",
      "\n",
      "\n",
      "\n",
      " 10%|█         | 1000/10000 [17:16:25<154:45:23, 61.90s/it]\u001b[A\u001b[A\u001b[A\u001b[A\n",
      "\n",
      "\n",
      "\n",
      " 10%|█         | 1001/10000 [17:17:27<154:43:19, 61.90s/it]\u001b[A\u001b[A\u001b[A\u001b[A"
     ]
    },
    {
     "name": "stdout",
     "output_type": "stream",
     "text": [
      "predition [[10738 17914    36 ...,     0     0     0]\n",
      " [ 7949  7949 10552 ...,     0     0     0]\n",
      " [17877     1     0 ...,     0     0     0]\n",
      " ..., \n",
      " [ 7949  8492  8492 ...,     0     0     0]\n",
      " [10738  8492  8492 ...,     0     0     0]\n",
      " [17395     1     1 ...,     0     0     0]]\n",
      "max 17914\n"
     ]
    },
    {
     "name": "stderr",
     "output_type": "stream",
     "text": [
      "\n",
      "\n",
      "\n",
      "\n",
      " 10%|█         | 1002/10000 [17:18:29<154:47:20, 61.93s/it]\u001b[A\u001b[A\u001b[A\u001b[A"
     ]
    },
    {
     "name": "stdout",
     "output_type": "stream",
     "text": [
      "predition [[ 7949  8492 10552 ..., 15868 15868     0]\n",
      " [ 7949  8492 10552 ...,     0     0     0]\n",
      " [ 7949  8492 10552 ...,    36    36    36]\n",
      " ..., \n",
      " [ 7949  8492 10552 ...,     0     0     0]\n",
      " [17877     1     1 ...,     0     0     0]\n",
      " [17496     1     1 ...,     0     0     0]]\n",
      "max 17914\n"
     ]
    },
    {
     "name": "stderr",
     "output_type": "stream",
     "text": [
      "\n",
      "\n",
      "\n",
      "\n",
      " 10%|█         | 1003/10000 [17:19:31<154:45:29, 61.92s/it]\u001b[A\u001b[A\u001b[A\u001b[A\n",
      "\n",
      "\n",
      "\n",
      " 10%|█         | 1004/10000 [17:20:33<154:40:33, 61.90s/it]\u001b[A\u001b[A\u001b[A\u001b[A"
     ]
    },
    {
     "name": "stdout",
     "output_type": "stream",
     "text": [
      "predition [[10738  8492  8492 ...,     0     0     0]\n",
      " [ 7949  8492 10552 ...,    36    36    36]\n",
      " [ 7949  7949 10552 ...,     0     0     0]\n",
      " ..., \n",
      " [ 7949  7949 10552 ...,     0     0     0]\n",
      " [17461  8492 10552 ...,    36    36    36]\n",
      " [10738  8492  8492 ...,     0     0     0]]\n",
      "max 17914\n"
     ]
    },
    {
     "name": "stderr",
     "output_type": "stream",
     "text": [
      "\n",
      "\n",
      "\n",
      "\n",
      " 10%|█         | 1005/10000 [17:21:35<154:48:05, 61.96s/it]\u001b[A\u001b[A\u001b[A\u001b[A\n",
      "\n",
      "\n",
      "\n",
      " 10%|█         | 1006/10000 [17:22:37<154:44:19, 61.94s/it]\u001b[A\u001b[A\u001b[A\u001b[A"
     ]
    },
    {
     "name": "stdout",
     "output_type": "stream",
     "text": [
      "predition [[17496  8492  8492 ...,     0     0     0]\n",
      " [17914 17914 17914 ...,     0     0     0]\n",
      " [ 7949  8492  8492 ...,     1     0     0]\n",
      " ..., \n",
      " [10738  8492  8492 ...,     0     0     0]\n",
      " [ 7949    36    36 ...,     0     0     0]\n",
      " [10738     1     0 ...,     0     0     0]]\n",
      "max 17914\n"
     ]
    },
    {
     "name": "stderr",
     "output_type": "stream",
     "text": [
      "\n",
      "\n",
      "\n",
      "\n",
      " 10%|█         | 1007/10000 [17:23:39<154:43:49, 61.94s/it]\u001b[A\u001b[A\u001b[A\u001b[A\n",
      "\n",
      "\n",
      "\n",
      " 10%|█         | 1008/10000 [17:24:41<154:35:30, 61.89s/it]\u001b[A\u001b[A\u001b[A\u001b[A"
     ]
    },
    {
     "name": "stdout",
     "output_type": "stream",
     "text": [
      "predition [[ 7949  8492 10552 ...,     0     0     0]\n",
      " [ 7949  8492     1 ...,     0     0     0]\n",
      " [17914 17914 10552 ...,     0     0     0]\n",
      " ..., \n",
      " [10738  8492     0 ...,     0     0     0]\n",
      " [ 7949 17914 17914 ...,     0     0     0]\n",
      " [17395  8492     0 ...,     0     0     0]]\n",
      "max 17914\n"
     ]
    },
    {
     "name": "stderr",
     "output_type": "stream",
     "text": [
      "\n",
      "\n",
      "\n",
      "\n",
      " 10%|█         | 1009/10000 [17:25:43<154:37:21, 61.91s/it]\u001b[A\u001b[A\u001b[A\u001b[A\n",
      "\n",
      "\n",
      "\n",
      " 10%|█         | 1010/10000 [17:26:45<154:35:13, 61.90s/it]\u001b[A\u001b[A\u001b[A\u001b[A"
     ]
    },
    {
     "name": "stdout",
     "output_type": "stream",
     "text": [
      "predition [[10738    36    36 ...,     0     0     0]\n",
      " [ 7949     1     1 ...,     0     0     0]\n",
      " [ 7949  7949    36 ...,    36    36    36]\n",
      " ..., \n",
      " [17496  8492     1 ...,     0     0     0]\n",
      " [10738    36    36 ...,     0     0     0]\n",
      " [ 7949     1     0 ...,     0     0     0]]\n",
      "max 17914\n"
     ]
    },
    {
     "name": "stderr",
     "output_type": "stream",
     "text": [
      "\n",
      "\n",
      "\n",
      "\n",
      " 10%|█         | 1011/10000 [17:27:46<154:32:38, 61.89s/it]\u001b[A\u001b[A\u001b[A\u001b[A\n",
      "\n",
      "\n",
      "\n",
      " 10%|█         | 1012/10000 [17:28:48<154:27:14, 61.86s/it]\u001b[A\u001b[A\u001b[A\u001b[A"
     ]
    },
    {
     "name": "stdout",
     "output_type": "stream",
     "text": [
      "predition [[ 7949  8492 17914 ...,     0     0     0]\n",
      " [ 7949  8492 10552 ...,     0     0     0]\n",
      " [10738    36 17914 ...,     0     0     0]\n",
      " ..., \n",
      " [ 7949   899 10552 ...,     0     0     0]\n",
      " [17496    36     1 ...,     0     0     0]\n",
      " [17914  8492     1 ...,     0     0     0]]\n",
      "max 17914\n"
     ]
    },
    {
     "name": "stderr",
     "output_type": "stream",
     "text": [
      "\n",
      "\n",
      "\n",
      "\n",
      " 10%|█         | 1013/10000 [17:29:50<154:34:37, 61.92s/it]\u001b[A\u001b[A\u001b[A\u001b[A\n",
      "\n",
      "\n",
      "\n",
      " 10%|█         | 1014/10000 [17:30:52<154:24:04, 61.86s/it]\u001b[A\u001b[A\u001b[A\u001b[A"
     ]
    },
    {
     "name": "stdout",
     "output_type": "stream",
     "text": [
      "predition [[ 7949     1     0 ...,     0     0     0]\n",
      " [17877  8492    36 ...,     0     0     0]\n",
      " [17914  7949    36 ...,     0     0     0]\n",
      " ..., \n",
      " [10738  8492 17914 ...,     1     0     0]\n",
      " [10472     1    36 ...,     0     0     0]\n",
      " [17877  8492 10552 ...,     0     0     0]]\n",
      "max 17914\n"
     ]
    },
    {
     "name": "stderr",
     "output_type": "stream",
     "text": [
      "\n",
      "\n",
      "\n",
      "\n",
      " 10%|█         | 1015/10000 [17:31:54<154:31:39, 61.91s/it]\u001b[A\u001b[A\u001b[A\u001b[A\n",
      "\n",
      "\n",
      "\n",
      " 10%|█         | 1016/10000 [17:32:56<154:28:55, 61.90s/it]\u001b[A\u001b[A\u001b[A\u001b[A"
     ]
    },
    {
     "name": "stdout",
     "output_type": "stream",
     "text": [
      "predition [[17914 17914     1 ...,     0     0     0]\n",
      " [17395  8492    36 ...,     0     0     0]\n",
      " [17461  8492 10552 ...,    36    36    36]\n",
      " ..., \n",
      " [ 7949     1     0 ...,     0     0     0]\n",
      " [10738     1     0 ...,     0     0     0]\n",
      " [ 7949    36     1 ...,     0     0     0]]\n",
      "max 17914\n"
     ]
    },
    {
     "name": "stderr",
     "output_type": "stream",
     "text": [
      "\n",
      "\n",
      "\n",
      "\n",
      " 10%|█         | 1017/10000 [17:33:58<154:32:42, 61.94s/it]\u001b[A\u001b[A\u001b[A\u001b[A"
     ]
    },
    {
     "name": "stdout",
     "output_type": "stream",
     "text": [
      "predition [[ 7949  8492 10552 ...,     0     0     0]\n",
      " [ 7949  7949  8492 ...,     0     0     0]\n",
      " [ 7949  8492 10552 ...,     0     0     0]\n",
      " ..., \n",
      " [ 7949     1     1 ...,     0     0     0]\n",
      " [17877  7949 17914 ...,     0     0     0]\n",
      " [ 7949    36    36 ...,    36    36     1]]\n",
      "max 17914\n"
     ]
    },
    {
     "name": "stderr",
     "output_type": "stream",
     "text": [
      "\n",
      "\n",
      "\n",
      "\n",
      " 10%|█         | 1018/10000 [17:35:00<154:39:34, 61.99s/it]\u001b[A\u001b[A\u001b[A\u001b[A\n",
      "\n",
      "\n",
      "\n",
      " 10%|█         | 1019/10000 [17:36:02<154:35:12, 61.97s/it]\u001b[A\u001b[A\u001b[A\u001b[A"
     ]
    },
    {
     "name": "stdout",
     "output_type": "stream",
     "text": [
      "predition [[ 7949  8492    36 ...,     0     0     0]\n",
      " [ 7949  7949 10552 ...,     0     0     0]\n",
      " [ 7949  8492 17914 ...,     0     0     0]\n",
      " ..., \n",
      " [ 7949     1     0 ...,     0     0     0]\n",
      " [ 7949  8492     0 ...,     0     0     0]\n",
      " [ 7949    36     1 ...,     0     0     0]]\n",
      "max 17914\n"
     ]
    },
    {
     "name": "stderr",
     "output_type": "stream",
     "text": [
      "\n",
      "\n",
      "\n",
      "\n",
      " 10%|█         | 1020/10000 [17:37:04<154:32:27, 61.95s/it]\u001b[A\u001b[A\u001b[A\u001b[A\n",
      "\n",
      "\n",
      "\n",
      " 10%|█         | 1021/10000 [17:38:06<154:21:55, 61.89s/it]\u001b[A\u001b[A\u001b[A\u001b[A"
     ]
    },
    {
     "name": "stdout",
     "output_type": "stream",
     "text": [
      "predition [[ 7949  7949    36 ...,    36    36     1]\n",
      " [ 7949    36     1 ...,    36    36     1]\n",
      " [ 7949  8492 10552 ...,    36     1     0]\n",
      " ..., \n",
      " [10738  8492    36 ...,     0     0     0]\n",
      " [ 7949  8492 10552 ...,    36    36     1]\n",
      " [10738  8492  8492 ...,     0     0     0]]\n",
      "max 17914\n"
     ]
    },
    {
     "name": "stderr",
     "output_type": "stream",
     "text": [
      "\n",
      "\n",
      "\n",
      "\n",
      " 10%|█         | 1022/10000 [17:39:08<154:21:30, 61.89s/it]\u001b[A\u001b[A\u001b[A\u001b[A\n",
      "\n",
      "\n",
      "\n",
      " 10%|█         | 1023/10000 [17:40:09<154:12:58, 61.84s/it]\u001b[A\u001b[A\u001b[A\u001b[A"
     ]
    },
    {
     "name": "stdout",
     "output_type": "stream",
     "text": [
      "predition [[ 7949  8492 10552 ...,     1     0     0]\n",
      " [ 7949  8492 10552 ...,     0     0     0]\n",
      " [ 7949  1136 10552 ...,     0     0     0]\n",
      " ..., \n",
      " [17496  8492 17914 ...,     0     0     0]\n",
      " [17496     1     1 ...,     0     0     0]\n",
      " [ 7949   899 10552 ...,     0     0     0]]\n",
      "max 17914\n"
     ]
    },
    {
     "name": "stderr",
     "output_type": "stream",
     "text": [
      "\n",
      "\n",
      "\n",
      "\n",
      " 10%|█         | 1024/10000 [17:41:11<154:20:54, 61.90s/it]\u001b[A\u001b[A\u001b[A\u001b[A\n",
      "\n",
      "\n",
      "\n",
      " 10%|█         | 1025/10000 [17:42:13<154:12:04, 61.85s/it]\u001b[A\u001b[A\u001b[A\u001b[A"
     ]
    },
    {
     "name": "stdout",
     "output_type": "stream",
     "text": [
      "predition [[ 7949  8492 17914 ...,     0     0     0]\n",
      " [17496     1    36 ...,     0     0     0]\n",
      " [ 7949  7949 10552 ...,    36    36     1]\n",
      " ..., \n",
      " [17877  8492  8492 ...,    36    36    36]\n",
      " [ 7949  7949 10552 ...,     0     0     0]\n",
      " [17914  8492 17914 ...,     0     0     0]]\n",
      "max 17914\n"
     ]
    },
    {
     "name": "stderr",
     "output_type": "stream",
     "text": [
      "\n",
      "\n",
      "\n",
      "\n",
      " 10%|█         | 1026/10000 [17:43:15<154:19:34, 61.91s/it]\u001b[A\u001b[A\u001b[A\u001b[A\n",
      "\n",
      "\n",
      "\n",
      " 10%|█         | 1027/10000 [17:44:17<154:17:05, 61.90s/it]\u001b[A\u001b[A\u001b[A\u001b[A"
     ]
    },
    {
     "name": "stdout",
     "output_type": "stream",
     "text": [
      "predition [[ 7949     1     0 ...,    36    36    36]\n",
      " [17914  8492 17914 ...,     0     0     0]\n",
      " [ 7949  8492 10552 ...,     0     0     0]\n",
      " ..., \n",
      " [17496     1     0 ...,     0     0     0]\n",
      " [10738  8492     0 ...,     0     0     0]\n",
      " [10738    36     1 ...,     0     0     0]]\n",
      "max 17914\n"
     ]
    },
    {
     "name": "stderr",
     "output_type": "stream",
     "text": [
      "\n",
      "\n",
      "\n",
      "\n",
      " 10%|█         | 1028/10000 [17:45:19<154:19:50, 61.92s/it]\u001b[A\u001b[A\u001b[A\u001b[A\n",
      "\n",
      "\n",
      "\n",
      " 10%|█         | 1029/10000 [17:46:21<154:17:21, 61.92s/it]\u001b[A\u001b[A\u001b[A\u001b[A"
     ]
    },
    {
     "name": "stdout",
     "output_type": "stream",
     "text": [
      "predition [[ 7949  8492 10552 ..., 16139    36    36]\n",
      " [ 7949  8492     1 ...,     0     0     0]\n",
      " [ 7949  8492  8492 ...,     0     0     0]\n",
      " ..., \n",
      " [10738  8492  8492 ...,     0     0     0]\n",
      " [17496  8492  8492 ...,     0     0     0]\n",
      " [ 7949  8492     0 ...,     0     0     0]]\n",
      "max 17914\n"
     ]
    },
    {
     "name": "stderr",
     "output_type": "stream",
     "text": [
      "\n",
      "\n",
      "\n",
      "\n",
      " 10%|█         | 1030/10000 [17:47:23<154:17:59, 61.93s/it]\u001b[A\u001b[A\u001b[A\u001b[A"
     ]
    },
    {
     "name": "stdout",
     "output_type": "stream",
     "text": [
      "predition [[ 7949  8492 10552 ...,     0     0     0]\n",
      " [ 7949  7949     0 ...,     0     0     0]\n",
      " [ 7949  8492 17914 ...,     0     0     0]\n",
      " ..., \n",
      " [17496  8492  8492 ..., 15868    36     1]\n",
      " [ 7949  8492 10552 ...,     0     0     0]\n",
      " [ 7949  8492    36 ...,     0     0     0]]\n",
      "max 17914\n"
     ]
    },
    {
     "name": "stderr",
     "output_type": "stream",
     "text": [
      "\n",
      "\n",
      "\n",
      "\n",
      " 10%|█         | 1031/10000 [17:48:25<154:14:40, 61.91s/it]\u001b[A\u001b[A\u001b[A\u001b[A\n",
      "\n",
      "\n",
      "\n",
      " 10%|█         | 1032/10000 [17:49:26<154:07:43, 61.87s/it]\u001b[A\u001b[A\u001b[A\u001b[A"
     ]
    },
    {
     "name": "stdout",
     "output_type": "stream",
     "text": [
      "predition [[ 7949  7949 10552 ...,     0     0     0]\n",
      " [10738  8492    36 ...,     0     0     0]\n",
      " [ 7949  8492     0 ...,     0     0     0]\n",
      " ..., \n",
      " [ 7949  7949 10552 ...,  8492  8492    36]\n",
      " [10738  8492  8492 ...,     0     0     0]\n",
      " [10738  8492     1 ...,     0     0     0]]\n",
      "max 17914\n"
     ]
    },
    {
     "name": "stderr",
     "output_type": "stream",
     "text": [
      "\n",
      "\n",
      "\n",
      "\n",
      " 10%|█         | 1033/10000 [17:50:28<154:11:52, 61.91s/it]\u001b[A\u001b[A\u001b[A\u001b[A\n",
      "\n",
      "\n",
      "\n",
      " 10%|█         | 1034/10000 [17:51:30<154:05:29, 61.87s/it]\u001b[A\u001b[A\u001b[A\u001b[A"
     ]
    },
    {
     "name": "stdout",
     "output_type": "stream",
     "text": [
      "predition [[17496  8492  8492 ...,     0     0     0]\n",
      " [ 7949  8492 10552 ...,     0     0     0]\n",
      " [ 7949   899 10552 ...,     0     0     0]\n",
      " ..., \n",
      " [17496    36     1 ...,     0     0     0]\n",
      " [ 7949   899     0 ...,     0     0     0]\n",
      " [ 7949  8492 10552 ..., 15868 15868    36]]\n",
      "max 17914\n"
     ]
    },
    {
     "name": "stderr",
     "output_type": "stream",
     "text": [
      "\n",
      "\n",
      "\n",
      "\n",
      " 10%|█         | 1035/10000 [17:52:32<154:09:02, 61.90s/it]\u001b[A\u001b[A\u001b[A\u001b[A\n",
      "\n",
      "\n",
      "\n",
      " 10%|█         | 1036/10000 [17:53:34<154:04:25, 61.88s/it]\u001b[A\u001b[A\u001b[A\u001b[A"
     ]
    },
    {
     "name": "stdout",
     "output_type": "stream",
     "text": [
      "predition [[10738  8492 17914 ...,     0     0     0]\n",
      " [17496  8492    36 ...,     0     0     0]\n",
      " [10738    36     1 ...,     0     0     0]\n",
      " ..., \n",
      " [ 7949  8492 10552 ...,     0     0     0]\n",
      " [ 7949  7949  7949 ...,     0     0     0]\n",
      " [10738    36    36 ...,     0     0     0]]\n",
      "max 17914\n"
     ]
    },
    {
     "name": "stderr",
     "output_type": "stream",
     "text": [
      "\n",
      "\n",
      "\n",
      "\n",
      " 10%|█         | 1037/10000 [17:54:36<154:00:05, 61.85s/it]\u001b[A\u001b[A\u001b[A\u001b[A\n",
      "\n",
      "\n",
      "\n",
      " 10%|█         | 1038/10000 [17:55:38<153:58:56, 61.85s/it]\u001b[A\u001b[A\u001b[A\u001b[A"
     ]
    },
    {
     "name": "stdout",
     "output_type": "stream",
     "text": [
      "predition [[17496     1     0 ...,     0     0     0]\n",
      " [17914 17914 10552 ...,     0     0     0]\n",
      " [17877    36     1 ...,     0     0     0]\n",
      " ..., \n",
      " [ 7949     1     0 ...,     0     0     0]\n",
      " [ 7949    36     0 ...,     0     0     0]\n",
      " [17496     1     1 ...,     0     0     0]]\n",
      "max 17914\n"
     ]
    },
    {
     "name": "stderr",
     "output_type": "stream",
     "text": [
      "\n",
      "\n",
      "\n",
      "\n",
      " 10%|█         | 1039/10000 [17:56:40<154:06:45, 61.91s/it]\u001b[A\u001b[A\u001b[A\u001b[A\n",
      "\n",
      "\n",
      "\n",
      " 10%|█         | 1040/10000 [17:57:41<153:57:37, 61.86s/it]\u001b[A\u001b[A\u001b[A\u001b[A"
     ]
    },
    {
     "name": "stdout",
     "output_type": "stream",
     "text": [
      "predition [[ 7949  7949 10552 ...,    36    36    36]\n",
      " [17914 17914    36 ...,     0     0     0]\n",
      " [ 7949  8492 17914 ...,     0     0     0]\n",
      " ..., \n",
      " [17496    36    36 ...,     0     0     0]\n",
      " [ 7949  8492 10552 ...,     0     0     0]\n",
      " [10738  8492     1 ...,     0     0     0]]\n",
      "max 17914\n"
     ]
    },
    {
     "name": "stderr",
     "output_type": "stream",
     "text": [
      "\n",
      "\n",
      "\n",
      "\n",
      " 10%|█         | 1041/10000 [17:58:44<154:09:50, 61.95s/it]\u001b[A\u001b[A\u001b[A\u001b[A\n",
      "\n",
      "\n",
      "\n",
      " 10%|█         | 1042/10000 [17:59:45<153:59:23, 61.88s/it]\u001b[A\u001b[A\u001b[A\u001b[A"
     ]
    },
    {
     "name": "stdout",
     "output_type": "stream",
     "text": [
      "predition [[17914    36 17914 ...,     1     0     0]\n",
      " [17914 17914 17914 ...,     0     0     0]\n",
      " [17496  8492 17914 ...,     0     0     0]\n",
      " ..., \n",
      " [17496    36     1 ...,     0     0     0]\n",
      " [ 7949   899 10552 ...,     0     0     0]\n",
      " [ 7949    36    36 ...,    36     1     0]]\n",
      "max 17914\n"
     ]
    },
    {
     "name": "stderr",
     "output_type": "stream",
     "text": [
      "\n",
      "\n",
      "\n",
      "\n",
      " 10%|█         | 1043/10000 [18:00:47<154:04:00, 61.92s/it]\u001b[A\u001b[A\u001b[A\u001b[A"
     ]
    },
    {
     "name": "stdout",
     "output_type": "stream",
     "text": [
      "predition [[ 7949  8492  8492 ...,     0     0     0]\n",
      " [17914    36     1 ...,     0     0     0]\n",
      " [ 7949  7949 17914 ...,     0     0     0]\n",
      " ..., \n",
      " [17496  8492    36 ...,     0     0     0]\n",
      " [ 7949  8492 10552 ...,     0     0     0]\n",
      " [ 7949  7949  7949 ...,     0     0     0]]\n",
      "max 17914\n"
     ]
    },
    {
     "name": "stderr",
     "output_type": "stream",
     "text": [
      "\n",
      "\n",
      "\n",
      "\n",
      " 10%|█         | 1044/10000 [18:01:49<154:04:11, 61.93s/it]\u001b[A\u001b[A\u001b[A\u001b[A\n",
      "\n",
      "\n",
      "\n",
      " 10%|█         | 1045/10000 [18:02:51<153:58:49, 61.90s/it]\u001b[A\u001b[A\u001b[A\u001b[A"
     ]
    },
    {
     "name": "stdout",
     "output_type": "stream",
     "text": [
      "predition [[17496     1     0 ...,     0     0     0]\n",
      " [17877     1     0 ...,     0     0     0]\n",
      " [ 7949 17914    36 ...,     0     0     0]\n",
      " ..., \n",
      " [ 7949  7949 10552 ...,  8492  8492    36]\n",
      " [ 7949  7949 10552 ...,     0     0     0]\n",
      " [ 7949  7949 10552 ...,    36    36    36]]\n",
      "max 17914\n"
     ]
    },
    {
     "name": "stderr",
     "output_type": "stream",
     "text": [
      "\n",
      "\n",
      "\n",
      "\n",
      " 10%|█         | 1046/10000 [18:03:53<153:54:42, 61.88s/it]\u001b[A\u001b[A\u001b[A\u001b[A\n",
      "\n",
      "\n",
      "\n",
      " 10%|█         | 1047/10000 [18:04:55<153:54:44, 61.89s/it]\u001b[A\u001b[A\u001b[A\u001b[A"
     ]
    },
    {
     "name": "stdout",
     "output_type": "stream",
     "text": [
      "predition [[ 7949  7949 10552 ...,    36  7949  7949]\n",
      " [10738  8492  8492 ...,     0     0     0]\n",
      " [ 7949  8492 10552 ...,    36     0     0]\n",
      " ..., \n",
      " [   36     1     0 ...,     0     0     0]\n",
      " [ 7949    36    36 ...,     0     0     0]\n",
      " [ 7949  8492  8492 ...,     0     0     0]]\n",
      "max 17914\n"
     ]
    },
    {
     "name": "stderr",
     "output_type": "stream",
     "text": [
      "\n",
      "\n",
      "\n",
      "\n",
      " 10%|█         | 1048/10000 [18:05:57<153:54:08, 61.89s/it]\u001b[A\u001b[A\u001b[A\u001b[A\n",
      "\n",
      "\n",
      "\n",
      " 10%|█         | 1049/10000 [18:06:59<153:51:24, 61.88s/it]\u001b[A\u001b[A\u001b[A\u001b[A"
     ]
    },
    {
     "name": "stdout",
     "output_type": "stream",
     "text": [
      "predition [[10738  8492  8492 ...,     0     0     0]\n",
      " [   36     1     1 ...,     0     0     0]\n",
      " [ 7949  7949 10552 ...,    36    36     1]\n",
      " ..., \n",
      " [ 7949    36     1 ...,     0     0     0]\n",
      " [ 7949  8492 17914 ...,     0     0     0]\n",
      " [ 7949    36    36 ...,     0     0     0]]\n",
      "max 17914\n"
     ]
    },
    {
     "name": "stderr",
     "output_type": "stream",
     "text": [
      "\n",
      "\n",
      "\n",
      "\n",
      " 10%|█         | 1050/10000 [18:08:00<153:49:50, 61.88s/it]\u001b[A\u001b[A\u001b[A\u001b[A\n",
      "\n",
      "\n",
      "\n",
      " 11%|█         | 1051/10000 [18:09:02<153:47:35, 61.87s/it]\u001b[A\u001b[A\u001b[A\u001b[A"
     ]
    },
    {
     "name": "stdout",
     "output_type": "stream",
     "text": [
      "predition [[ 7949  8492  8492 ...,    36     1     0]\n",
      " [ 7949    36     1 ...,     0     0     0]\n",
      " [17914 17914 10552 ...,     0     0     0]\n",
      " ..., \n",
      " [ 7949     1     1 ...,     0     0     0]\n",
      " [17496     1     0 ...,     0     0     0]\n",
      " [ 7949    36    36 ...,     0     0     0]]\n",
      "max 17914\n"
     ]
    },
    {
     "name": "stderr",
     "output_type": "stream",
     "text": [
      "\n",
      "\n",
      "\n",
      "\n",
      " 11%|█         | 1052/10000 [18:10:04<153:55:33, 61.93s/it]\u001b[A\u001b[A\u001b[A\u001b[A\n",
      "\n",
      "\n",
      "\n",
      " 11%|█         | 1053/10000 [18:11:06<153:45:19, 61.87s/it]\u001b[A\u001b[A\u001b[A\u001b[A"
     ]
    },
    {
     "name": "stdout",
     "output_type": "stream",
     "text": [
      "predition [[17496    36     1 ...,     0     0     0]\n",
      " [ 7949  8492  8492 ...,     0     0     0]\n",
      " [ 7949  8492     1 ...,     0     0     0]\n",
      " ..., \n",
      " [10738     1     0 ...,     0     0     0]\n",
      " [ 7949     1     0 ...,     0     0     0]\n",
      " [ 7949  7949    36 ...,  8492    36    36]]\n",
      "max 17914\n"
     ]
    },
    {
     "name": "stderr",
     "output_type": "stream",
     "text": [
      "\n",
      "\n",
      "\n",
      "\n",
      " 11%|█         | 1054/10000 [18:12:08<153:46:31, 61.88s/it]\u001b[A\u001b[A\u001b[A\u001b[A\n",
      "\n",
      "\n",
      "\n",
      " 11%|█         | 1055/10000 [18:13:10<153:45:48, 61.88s/it]\u001b[A\u001b[A\u001b[A\u001b[A"
     ]
    },
    {
     "name": "stdout",
     "output_type": "stream",
     "text": [
      "predition [[ 7949  8492 10552 ...,     1     0     0]\n",
      " [ 7949  8492     1 ...,     0     0     0]\n",
      " [17914 17914    36 ...,     0     0     0]\n",
      " ..., \n",
      " [   36     1     0 ...,     0     0     0]\n",
      " [ 7949  7949 10552 ...,     0     0     0]\n",
      " [   36     1     0 ...,     0     0     0]]\n",
      "max 17914\n"
     ]
    },
    {
     "name": "stderr",
     "output_type": "stream",
     "text": [
      "\n",
      "\n",
      "\n",
      "\n",
      " 11%|█         | 1056/10000 [18:14:12<153:47:25, 61.90s/it]\u001b[A\u001b[A\u001b[A\u001b[A"
     ]
    },
    {
     "name": "stdout",
     "output_type": "stream",
     "text": [
      "predition [[ 7949  8492     0 ...,     0     0     0]\n",
      " [17496    36     1 ...,     0     0     0]\n",
      " [10738  8492  8492 ...,     0     0     0]\n",
      " ..., \n",
      " [10738  8492    36 ...,     0     0     0]\n",
      " [ 7949  8492     1 ...,     0     0     0]\n",
      " [ 7949  7949  7949 ...,     0     0     0]]\n",
      "max 17914\n"
     ]
    },
    {
     "name": "stderr",
     "output_type": "stream",
     "text": [
      "\n",
      "\n",
      "\n",
      "\n",
      " 11%|█         | 1057/10000 [18:15:14<153:51:35, 61.94s/it]\u001b[A\u001b[A\u001b[A\u001b[A\n",
      "\n",
      "\n",
      "\n",
      " 11%|█         | 1058/10000 [18:16:16<153:43:13, 61.89s/it]\u001b[A\u001b[A\u001b[A\u001b[A"
     ]
    },
    {
     "name": "stdout",
     "output_type": "stream",
     "text": [
      "predition [[17877  8492  8492 ...,     1     0     0]\n",
      " [ 7949  8492  8492 ...,     0     0     0]\n",
      " [ 7949    36    36 ...,     0     0     0]\n",
      " ..., \n",
      " [10738    36  7949 ..., 16139    36    36]\n",
      " [10738  8492  8492 ...,     0     0     0]\n",
      " [10738  8492  8492 ..., 16139    36     1]]\n",
      "max 17914\n"
     ]
    },
    {
     "name": "stderr",
     "output_type": "stream",
     "text": [
      "\n",
      "\n",
      "\n",
      "\n",
      " 11%|█         | 1059/10000 [18:17:18<153:44:52, 61.90s/it]\u001b[A\u001b[A\u001b[A\u001b[A\n",
      "\n",
      "\n",
      "\n",
      " 11%|█         | 1060/10000 [18:18:19<153:36:09, 61.85s/it]\u001b[A\u001b[A\u001b[A\u001b[A"
     ]
    },
    {
     "name": "stdout",
     "output_type": "stream",
     "text": [
      "predition [[10738  8492  8492 ...,    36    36     1]\n",
      " [10738  8492  8492 ...,     0     0     0]\n",
      " [17914 17914     1 ...,     0     0     0]\n",
      " ..., \n",
      " [10738     1     0 ...,     0     0     0]\n",
      " [ 7949  7949 10552 ...,    36    36     1]\n",
      " [ 7949  8492 10552 ...,     0     0     0]]\n",
      "max 17914\n"
     ]
    },
    {
     "name": "stderr",
     "output_type": "stream",
     "text": [
      "\n",
      "\n",
      "\n",
      "\n",
      " 11%|█         | 1061/10000 [18:19:21<153:44:48, 61.92s/it]\u001b[A\u001b[A\u001b[A\u001b[A\n",
      "\n",
      "\n",
      "\n",
      " 11%|█         | 1062/10000 [18:20:23<153:33:41, 61.85s/it]\u001b[A\u001b[A\u001b[A\u001b[A"
     ]
    },
    {
     "name": "stdout",
     "output_type": "stream",
     "text": [
      "predition [[ 7949     1     0 ...,     0     0     0]\n",
      " [17914  8492     1 ...,    36    36     0]\n",
      " [ 7949  8492     0 ...,     0     0     0]\n",
      " ..., \n",
      " [17877  8492  8492 ...,     1     0     0]\n",
      " [ 7949     1     0 ...,     0     0     0]\n",
      " [17496  8492 17914 ...,     0     0     0]]\n",
      "max 17914\n"
     ]
    },
    {
     "name": "stderr",
     "output_type": "stream",
     "text": [
      "\n",
      "\n",
      "\n",
      "\n",
      " 11%|█         | 1063/10000 [18:21:25<153:38:26, 61.89s/it]\u001b[A\u001b[A\u001b[A\u001b[A\n",
      "\n",
      "\n",
      "\n",
      " 11%|█         | 1064/10000 [18:22:27<153:36:22, 61.88s/it]\u001b[A\u001b[A\u001b[A\u001b[A"
     ]
    },
    {
     "name": "stdout",
     "output_type": "stream",
     "text": [
      "predition [[ 7949  8492 17914 ...,     0     0     0]\n",
      " [10738  8492  8492 ...,     0     0     0]\n",
      " [17496  8492     0 ...,     0     0     0]\n",
      " ..., \n",
      " [ 7949  8492 10552 ..., 16139    36    36]\n",
      " [ 7949    36 17914 ...,     0     0     0]\n",
      " [ 7949  7949 10552 ...,  8492  8492  8492]]\n",
      "max 17914\n"
     ]
    },
    {
     "name": "stderr",
     "output_type": "stream",
     "text": [
      "\n",
      "\n",
      "\n",
      "\n",
      " 11%|█         | 1065/10000 [18:23:29<153:42:22, 61.93s/it]\u001b[A\u001b[A\u001b[A\u001b[A\n",
      "\n",
      "\n",
      "\n",
      " 11%|█         | 1066/10000 [18:24:31<153:34:02, 61.88s/it]\u001b[A\u001b[A\u001b[A\u001b[A"
     ]
    },
    {
     "name": "stdout",
     "output_type": "stream",
     "text": [
      "predition [[17877     1     1 ...,     0     0     0]\n",
      " [10738    36     1 ...,     0     0     0]\n",
      " [ 7949  7949 10552 ...,    36     0     0]\n",
      " ..., \n",
      " [ 7949  7949 10552 ...,  7949    36    36]\n",
      " [ 7949    36    36 ...,     0     0     0]\n",
      " [17496    36     1 ...,     0     0     0]]\n",
      "max 17914\n"
     ]
    },
    {
     "name": "stderr",
     "output_type": "stream",
     "text": [
      "\n",
      "\n",
      "\n",
      "\n",
      " 11%|█         | 1067/10000 [18:25:33<153:41:08, 61.94s/it]\u001b[A\u001b[A\u001b[A\u001b[A\n",
      "\n",
      "\n",
      "\n",
      " 11%|█         | 1068/10000 [18:26:35<153:33:21, 61.89s/it]\u001b[A\u001b[A\u001b[A\u001b[A"
     ]
    },
    {
     "name": "stdout",
     "output_type": "stream",
     "text": [
      "predition [[17877  8492 17914 ...,     0     0     0]\n",
      " [17496    36 17914 ...,     0     0     0]\n",
      " [ 7949  7949  7949 ...,     1     0     0]\n",
      " ..., \n",
      " [ 7949     1     1 ...,     0     0     0]\n",
      " [10738  8492 17914 ...,    36    36     1]\n",
      " [ 7949  7949     0 ...,     0     0     0]]\n",
      "max 17914\n"
     ]
    },
    {
     "name": "stderr",
     "output_type": "stream",
     "text": [
      "\n",
      "\n",
      "\n",
      "\n",
      " 11%|█         | 1069/10000 [18:27:36<153:31:16, 61.88s/it]\u001b[A\u001b[A\u001b[A\u001b[A\n",
      "\n",
      "\n",
      "\n",
      " 11%|█         | 1070/10000 [18:28:38<153:30:29, 61.88s/it]\u001b[A\u001b[A\u001b[A\u001b[A"
     ]
    },
    {
     "name": "stdout",
     "output_type": "stream",
     "text": [
      "predition [[17496     1     1 ...,     0     0     0]\n",
      " [10738    36    36 ...,     0     0     0]\n",
      " [ 7949  7949 10552 ...,     1     0     0]\n",
      " ..., \n",
      " [17496     1     1 ...,     0     0     0]\n",
      " [ 7949    36    36 ...,     0     0     0]\n",
      " [ 7949    36     1 ...,     0     0     0]]\n",
      "max 17914\n"
     ]
    },
    {
     "name": "stderr",
     "output_type": "stream",
     "text": [
      "\n",
      "\n",
      "\n",
      "\n",
      " 11%|█         | 1071/10000 [18:29:40<153:36:02, 61.93s/it]\u001b[A\u001b[A\u001b[A\u001b[A"
     ]
    },
    {
     "name": "stdout",
     "output_type": "stream",
     "text": [
      "predition [[ 7949  8492  8492 ...,    36     0     0]\n",
      " [ 7949  8492 17914 ...,     0     0     0]\n",
      " [10738    36    36 ...,     0     0     0]\n",
      " ..., \n",
      " [ 7949  8492  8492 ...,    36    36     1]\n",
      " [ 7949  8492 17914 ...,     0     0     0]\n",
      " [ 7949  7949  7949 ...,    36     1     0]]\n",
      "max 17914\n"
     ]
    },
    {
     "name": "stderr",
     "output_type": "stream",
     "text": [
      "\n",
      "\n",
      "\n",
      "\n",
      " 11%|█         | 1072/10000 [18:30:42<153:34:02, 61.92s/it]\u001b[A\u001b[A\u001b[A\u001b[A\n",
      "\n",
      "\n",
      "\n",
      " 11%|█         | 1073/10000 [18:31:44<153:27:44, 61.89s/it]\u001b[A\u001b[A\u001b[A\u001b[A"
     ]
    },
    {
     "name": "stdout",
     "output_type": "stream",
     "text": [
      "predition [[ 7949  8492 10552 ...,    36    36    36]\n",
      " [10738  8492  8492 ...,     0     0     0]\n",
      " [ 7949    36  7949 ...,     0     0     0]\n",
      " ..., \n",
      " [ 7949  8492 10552 ...,    36    36     1]\n",
      " [ 7949  8492    36 ...,     0     0     0]\n",
      " [17914  8492     0 ...,     0     0     0]]\n",
      "max 17914\n"
     ]
    },
    {
     "name": "stderr",
     "output_type": "stream",
     "text": [
      "\n",
      "\n",
      "\n",
      "\n",
      " 11%|█         | 1074/10000 [18:32:46<153:33:31, 61.93s/it]\u001b[A\u001b[A\u001b[A\u001b[A\n",
      "\n",
      "\n",
      "\n",
      " 11%|█         | 1075/10000 [18:33:48<153:28:14, 61.90s/it]\u001b[A\u001b[A\u001b[A\u001b[A"
     ]
    },
    {
     "name": "stdout",
     "output_type": "stream",
     "text": [
      "predition [[ 7949     1     0 ...,     0     0     0]\n",
      " [ 7949  7949  7949 ...,     0     0     0]\n",
      " [ 7949  8492 10552 ..., 15868 15868 15868]\n",
      " ..., \n",
      " [ 7949    36     1 ...,     0     0     0]\n",
      " [ 7949  7949 10552 ...,    36    36    36]\n",
      " [17496 17914 10552 ...,     0     0     0]]\n",
      "max 17914\n"
     ]
    },
    {
     "name": "stderr",
     "output_type": "stream",
     "text": [
      "\n",
      "\n",
      "\n",
      "\n",
      " 11%|█         | 1076/10000 [18:34:50<153:33:34, 61.95s/it]\u001b[A\u001b[A\u001b[A\u001b[A\n",
      "\n",
      "\n",
      "\n",
      " 11%|█         | 1077/10000 [18:35:52<153:25:50, 61.90s/it]\u001b[A\u001b[A\u001b[A\u001b[A"
     ]
    },
    {
     "name": "stdout",
     "output_type": "stream",
     "text": [
      "predition [[ 7949  8492 10552 ...,     0     0     0]\n",
      " [ 7949  8492 17914 ...,     0     0     0]\n",
      " [ 7949  8492 10552 ...,     0     0     0]\n",
      " ..., \n",
      " [ 7949  7949 10552 ..., 17914    36    36]\n",
      " [ 7949  8492  8492 ...,     0     0     0]\n",
      " [10738  8492  8492 ...,     0     0     0]]\n",
      "max 17914\n"
     ]
    },
    {
     "name": "stderr",
     "output_type": "stream",
     "text": [
      "\n",
      "\n",
      "\n",
      "\n",
      " 11%|█         | 1078/10000 [18:36:54<153:25:33, 61.91s/it]\u001b[A\u001b[A\u001b[A\u001b[A\n",
      "\n",
      "\n",
      "\n",
      " 11%|█         | 1079/10000 [18:37:56<153:20:45, 61.88s/it]\u001b[A\u001b[A\u001b[A\u001b[A"
     ]
    },
    {
     "name": "stdout",
     "output_type": "stream",
     "text": [
      "predition [[10738  7949  7949 ...,    36    36     1]\n",
      " [ 7949  8492 10552 ..., 15868 15868 10712]\n",
      " [ 7949  8492 10552 ...,  7949  7949 16139]\n",
      " ..., \n",
      " [17877    36     1 ...,     0     0     0]\n",
      " [17914 17914 17914 ...,     1     0     0]\n",
      " [17496     1     0 ...,     0     0     0]]\n",
      "max 17914\n"
     ]
    },
    {
     "name": "stderr",
     "output_type": "stream",
     "text": [
      "\n",
      "\n",
      "\n",
      "\n",
      " 11%|█         | 1080/10000 [18:38:58<153:27:09, 61.93s/it]\u001b[A\u001b[A\u001b[A\u001b[A\n",
      "\n",
      "\n",
      "\n",
      " 11%|█         | 1081/10000 [18:39:59<153:21:10, 61.90s/it]\u001b[A\u001b[A\u001b[A\u001b[A"
     ]
    },
    {
     "name": "stdout",
     "output_type": "stream",
     "text": [
      "predition [[ 7949  8492  8492 ...,     0     0     0]\n",
      " [ 7949  8492 17914 ...,     0     0     0]\n",
      " [ 7949  8492 17914 ...,     0     0     0]\n",
      " ..., \n",
      " [17496  8492    36 ...,     0     0     0]\n",
      " [ 7949    36  7949 ...,     0     0     0]\n",
      " [10738  8492    36 ...,     0     0     0]]\n",
      "max 17914\n"
     ]
    },
    {
     "name": "stderr",
     "output_type": "stream",
     "text": [
      "\n",
      "\n",
      "\n",
      "\n",
      " 11%|█         | 1082/10000 [18:41:01<153:24:35, 61.93s/it]\u001b[A\u001b[A\u001b[A\u001b[A\n",
      "\n",
      "\n",
      "\n",
      " 11%|█         | 1083/10000 [18:42:03<153:23:44, 61.93s/it]\u001b[A\u001b[A\u001b[A\u001b[A"
     ]
    },
    {
     "name": "stdout",
     "output_type": "stream",
     "text": [
      "predition [[10738  8492  8492 ...,     0     0     0]\n",
      " [ 7949  7949    36 ...,    36    36     1]\n",
      " [10738  8492     1 ...,     0     0     0]\n",
      " ..., \n",
      " [17877  8492  8492 ...,     0     0     0]\n",
      " [ 7949  8492     0 ...,     0     0     0]\n",
      " [ 7949  7949 10552 ..., 16139    36    36]]\n",
      "max 17914\n"
     ]
    },
    {
     "name": "stderr",
     "output_type": "stream",
     "text": [
      "\n",
      "\n",
      "\n",
      "\n",
      " 11%|█         | 1084/10000 [18:43:05<153:17:57, 61.90s/it]\u001b[A\u001b[A\u001b[A\u001b[A"
     ]
    },
    {
     "name": "stdout",
     "output_type": "stream",
     "text": [
      "predition [[10738     1     1 ...,     0     0     0]\n",
      " [   36     1     0 ...,     0     0     0]\n",
      " [   36     1     0 ...,     0     0     0]\n",
      " ..., \n",
      " [17496  8492  8492 ...,     0     0     0]\n",
      " [ 7949 17914 17914 ..., 16139 17914    36]\n",
      " [10738  8492  8492 ...,     0     0     0]]\n",
      "max 17914\n"
     ]
    },
    {
     "name": "stderr",
     "output_type": "stream",
     "text": [
      "\n",
      "\n",
      "\n",
      "\n",
      " 11%|█         | 1085/10000 [18:44:07<153:17:59, 61.90s/it]\u001b[A\u001b[A\u001b[A\u001b[A\n",
      "\n",
      "\n",
      "\n",
      " 11%|█         | 1086/10000 [18:45:09<153:16:05, 61.90s/it]\u001b[A\u001b[A\u001b[A\u001b[A"
     ]
    },
    {
     "name": "stdout",
     "output_type": "stream",
     "text": [
      "predition [[ 7949  7949  7949 ...,     0     0     0]\n",
      " [17496    36     1 ...,     0     0     0]\n",
      " [17914 17914    36 ...,     0     0     0]\n",
      " ..., \n",
      " [10738    36     1 ...,     0     0     0]\n",
      " [ 7949  8492     1 ...,     0     0     0]\n",
      " [10738  8492 10552 ...,     0     0     0]]\n",
      "max 17914\n"
     ]
    },
    {
     "name": "stderr",
     "output_type": "stream",
     "text": [
      "\n",
      "\n",
      "\n",
      "\n",
      " 11%|█         | 1087/10000 [18:46:11<153:10:29, 61.87s/it]\u001b[A\u001b[A\u001b[A\u001b[A\n",
      "\n",
      "\n",
      "\n",
      " 11%|█         | 1088/10000 [18:47:13<153:06:29, 61.85s/it]\u001b[A\u001b[A\u001b[A\u001b[A"
     ]
    },
    {
     "name": "stdout",
     "output_type": "stream",
     "text": [
      "predition [[ 7949  7949  8492 ...,    36     1     0]\n",
      " [10738    36    36 ...,     0     0     0]\n",
      " [10738  8492 15868 ...,     0     0     0]\n",
      " ..., \n",
      " [17914  8492 10552 ...,     0     0     0]\n",
      " [ 7949  8492 10552 ...,     0     0     0]\n",
      " [17496     1     1 ...,     0     0     0]]\n",
      "max 17914\n"
     ]
    },
    {
     "name": "stderr",
     "output_type": "stream",
     "text": [
      "\n",
      "\n",
      "\n",
      "\n",
      " 11%|█         | 1089/10000 [18:48:14<153:06:35, 61.86s/it]\u001b[A\u001b[A\u001b[A\u001b[A\n",
      "\n",
      "\n",
      "\n",
      " 11%|█         | 1090/10000 [18:49:16<153:07:36, 61.87s/it]\u001b[A\u001b[A\u001b[A\u001b[A"
     ]
    },
    {
     "name": "stdout",
     "output_type": "stream",
     "text": [
      "predition [[10738    36  8492 ...,     1     0     0]\n",
      " [10738    36     1 ...,     0     0     0]\n",
      " [10738  8492  8492 ...,     0     0     0]\n",
      " ..., \n",
      " [ 7949     1     1 ...,     0     0     0]\n",
      " [ 7949  8492 10552 ...,     0     0     0]\n",
      " [ 7949  8492     1 ...,     0     0     0]]\n",
      "max 17914\n"
     ]
    },
    {
     "name": "stderr",
     "output_type": "stream",
     "text": [
      "\n",
      "\n",
      "\n",
      "\n",
      " 11%|█         | 1091/10000 [18:50:18<153:11:24, 61.90s/it]\u001b[A\u001b[A\u001b[A\u001b[A\n",
      "\n",
      "\n",
      "\n",
      " 11%|█         | 1092/10000 [18:51:20<153:06:18, 61.87s/it]\u001b[A\u001b[A\u001b[A\u001b[A"
     ]
    },
    {
     "name": "stdout",
     "output_type": "stream",
     "text": [
      "predition [[17877    36    36 ...,     0     0     0]\n",
      " [ 7949  8492  8492 ..., 15868 15868 15868]\n",
      " [ 7949  8492 10552 ..., 15868    36    36]\n",
      " ..., \n",
      " [ 7949    36 17914 ..., 15868    36    36]\n",
      " [17496  8492  8492 ...,     0     0     0]\n",
      " [ 7949    36    36 ...,     0     0     0]]\n",
      "max 17914\n"
     ]
    },
    {
     "name": "stderr",
     "output_type": "stream",
     "text": [
      "\n",
      "\n",
      "\n",
      "\n",
      " 11%|█         | 1093/10000 [18:52:22<153:10:46, 61.91s/it]\u001b[A\u001b[A\u001b[A\u001b[A\n",
      "\n",
      "\n",
      "\n",
      " 11%|█         | 1094/10000 [18:53:24<152:58:14, 61.83s/it]\u001b[A\u001b[A\u001b[A\u001b[A"
     ]
    },
    {
     "name": "stdout",
     "output_type": "stream",
     "text": [
      "predition [[ 7949     1     1 ...,     0     0     0]\n",
      " [ 7949  8492     1 ...,     0     0     0]\n",
      " [ 7949     1 10552 ...,     0     0     0]\n",
      " ..., \n",
      " [ 7949  8492  8492 ..., 15868 15868 15868]\n",
      " [ 7949  7949    36 ..., 16139 16139 15868]\n",
      " [ 7949  8492  8492 ...,     0     0     0]]\n",
      "max 17914\n"
     ]
    },
    {
     "name": "stderr",
     "output_type": "stream",
     "text": [
      "\n",
      "\n",
      "\n",
      "\n",
      " 11%|█         | 1095/10000 [18:54:26<152:59:51, 61.85s/it]\u001b[A\u001b[A\u001b[A\u001b[A\n",
      "\n",
      "\n",
      "\n",
      " 11%|█         | 1096/10000 [18:55:27<152:56:39, 61.84s/it]\u001b[A\u001b[A\u001b[A\u001b[A"
     ]
    },
    {
     "name": "stdout",
     "output_type": "stream",
     "text": [
      "predition [[17496  8492 17914 ...,     0     0     0]\n",
      " [ 7949  8492 10552 ...,     1     0     0]\n",
      " [ 7949  8492  8492 ...,    36    36     0]\n",
      " ..., \n",
      " [ 7949  8492  8492 ...,     0     0     0]\n",
      " [10738  8492     0 ...,     0     0     0]\n",
      " [10738  7949 10552 ..., 17914    36     0]]\n",
      "max 17914\n"
     ]
    },
    {
     "name": "stderr",
     "output_type": "stream",
     "text": [
      "\n",
      "\n",
      "\n",
      "\n",
      " 11%|█         | 1097/10000 [18:56:29<152:57:45, 61.85s/it]\u001b[A\u001b[A\u001b[A\u001b[A"
     ]
    },
    {
     "name": "stdout",
     "output_type": "stream",
     "text": [
      "predition [[17461  8492 17914 ...,    36    36    36]\n",
      " [ 7949  8492  8492 ...,     0     0     0]\n",
      " [17461 17914 17914 ...,    36     1     1]\n",
      " ..., \n",
      " [ 7949  7949 10552 ...,    36     1     0]\n",
      " [ 7949  8492  8492 ...,     0     0     0]\n",
      " [17914  8492  8492 ...,     0     0     0]]\n",
      "max 17914\n"
     ]
    },
    {
     "name": "stderr",
     "output_type": "stream",
     "text": [
      "\n",
      "\n",
      "\n",
      "\n",
      " 11%|█         | 1098/10000 [18:57:31<152:57:05, 61.85s/it]\u001b[A\u001b[A\u001b[A\u001b[A\n",
      "\n",
      "\n",
      "\n",
      " 11%|█         | 1099/10000 [18:58:33<152:57:01, 61.86s/it]\u001b[A\u001b[A\u001b[A\u001b[A"
     ]
    },
    {
     "name": "stdout",
     "output_type": "stream",
     "text": [
      "predition [[ 7949  8492 10552 ...,    36    36    36]\n",
      " [ 7949  8492 10552 ...,     0     0     0]\n",
      " [ 7949  8492     0 ...,     0     0     0]\n",
      " ..., \n",
      " [10738    36  8492 ...,  8492    36    36]\n",
      " [ 7949  8492 17914 ...,     0     0     0]\n",
      " [17496    36     1 ...,     0     0     0]]\n",
      "max 17914\n"
     ]
    },
    {
     "name": "stderr",
     "output_type": "stream",
     "text": [
      "\n",
      "\n",
      "\n",
      "\n",
      " 11%|█         | 1100/10000 [18:59:35<152:59:55, 61.89s/it]\u001b[A\u001b[A\u001b[A\u001b[A\n",
      "\n",
      "\n",
      "\n",
      " 11%|█         | 1101/10000 [19:00:37<152:49:13, 61.82s/it]\u001b[A\u001b[A\u001b[A\u001b[A"
     ]
    },
    {
     "name": "stdout",
     "output_type": "stream",
     "text": [
      "predition [[10738  8492  8492 ...,     0     0     0]\n",
      " [ 7949    36    36 ...,     0     0     0]\n",
      " [ 7949  8492  8492 ...,    36    36    36]\n",
      " ..., \n",
      " [17914 17914     1 ...,     0     0     0]\n",
      " [10738  8492  8492 ...,     0     0     0]\n",
      " [ 7949    36     1 ...,    36    36    36]]\n",
      "max 17914\n"
     ]
    },
    {
     "name": "stderr",
     "output_type": "stream",
     "text": [
      "\n",
      "\n",
      "\n",
      "\n",
      " 11%|█         | 1102/10000 [19:01:39<152:53:43, 61.86s/it]\u001b[A\u001b[A\u001b[A\u001b[A\n",
      "\n",
      "\n",
      "\n",
      " 11%|█         | 1103/10000 [19:02:41<152:55:45, 61.88s/it]\u001b[A\u001b[A\u001b[A\u001b[A"
     ]
    },
    {
     "name": "stdout",
     "output_type": "stream",
     "text": [
      "predition [[ 7949  8492 10552 ...,     0     0     0]\n",
      " [   36     1     0 ...,     0     0     0]\n",
      " [10738  8492 17914 ...,     0     0     0]\n",
      " ..., \n",
      " [ 7949  7949 10552 ...,     1     0     0]\n",
      " [ 7949  8492 10552 ...,     0     0     0]\n",
      " [10738  7949 17914 ...,     0     0     0]]\n",
      "max 17914\n"
     ]
    },
    {
     "name": "stderr",
     "output_type": "stream",
     "text": [
      "\n",
      "\n",
      "\n",
      "\n",
      " 11%|█         | 1104/10000 [19:03:42<152:53:13, 61.87s/it]\u001b[A\u001b[A\u001b[A\u001b[A\n",
      "\n",
      "\n",
      "\n",
      " 11%|█         | 1105/10000 [19:04:44<152:52:10, 61.87s/it]\u001b[A\u001b[A\u001b[A\u001b[A"
     ]
    },
    {
     "name": "stdout",
     "output_type": "stream",
     "text": [
      "predition [[17496  8492 10552 ..., 16139     0     0]\n",
      " [10738  8492  8492 ...,     0     0     0]\n",
      " [ 7949    36    36 ...,     0     0     0]\n",
      " ..., \n",
      " [17496  8492  8492 ...,     0     0     0]\n",
      " [17496     1     1 ...,     0     0     0]\n",
      " [ 7949  7949  7949 ...,    36    36     1]]\n",
      "max 17914\n"
     ]
    },
    {
     "name": "stderr",
     "output_type": "stream",
     "text": [
      "\n",
      "\n",
      "\n",
      "\n",
      " 11%|█         | 1106/10000 [19:05:46<152:51:37, 61.87s/it]\u001b[A\u001b[A\u001b[A\u001b[A\n",
      "\n",
      "\n",
      "\n",
      " 11%|█         | 1107/10000 [19:06:48<152:48:56, 61.86s/it]\u001b[A\u001b[A\u001b[A\u001b[A"
     ]
    },
    {
     "name": "stdout",
     "output_type": "stream",
     "text": [
      "predition [[17461 17914 17914 ...,    36  7949    36]\n",
      " [ 7949    36    36 ...,     0     0     0]\n",
      " [ 7949  8492 10552 ...,    36     0     0]\n",
      " ..., \n",
      " [10738  8492  8492 ...,     0     0     0]\n",
      " [17877  8492  8492 ...,     0     0     0]\n",
      " [17496  8492    36 ...,     0     0     0]]\n",
      "max 17914\n"
     ]
    },
    {
     "name": "stderr",
     "output_type": "stream",
     "text": [
      "\n",
      "\n",
      "\n",
      "\n",
      " 11%|█         | 1108/10000 [19:07:50<152:51:40, 61.89s/it]\u001b[A\u001b[A\u001b[A\u001b[A\n",
      "\n",
      "\n",
      "\n",
      " 11%|█         | 1109/10000 [19:08:52<152:49:41, 61.88s/it]\u001b[A\u001b[A\u001b[A\u001b[A"
     ]
    },
    {
     "name": "stdout",
     "output_type": "stream",
     "text": [
      "predition [[ 7949  8492 17914 ...,     0     0     0]\n",
      " [ 7949    36     1 ...,     1     0     0]\n",
      " [ 7949    36    36 ...,     0     0     0]\n",
      " ..., \n",
      " [ 7949  7949 10552 ...,     0     0     0]\n",
      " [ 7949     1 10552 ...,     0     0     0]\n",
      " [ 7949  8492     1 ...,     0     0     0]]\n",
      "max 17914\n"
     ]
    },
    {
     "name": "stderr",
     "output_type": "stream",
     "text": [
      "\n",
      "\n",
      "\n",
      "\n",
      " 11%|█         | 1110/10000 [19:09:54<152:49:15, 61.88s/it]\u001b[A\u001b[A\u001b[A\u001b[A"
     ]
    },
    {
     "name": "stdout",
     "output_type": "stream",
     "text": [
      "predition [[ 7949  8492 10552 ...,     0     0     0]\n",
      " [ 7949     1     1 ...,     0     0     0]\n",
      " [17914 17914     1 ...,     0     0     0]\n",
      " ..., \n",
      " [ 7949    36     1 ...,     0     0     0]\n",
      " [17914 17914 10552 ...,     0     0     0]\n",
      " [10738    36     1 ...,     0     0     0]]\n",
      "max 17914\n"
     ]
    },
    {
     "name": "stderr",
     "output_type": "stream",
     "text": [
      "\n",
      "\n",
      "\n",
      "\n",
      " 11%|█         | 1111/10000 [19:10:56<152:50:33, 61.90s/it]\u001b[A\u001b[A\u001b[A\u001b[A\n",
      "\n",
      "\n",
      "\n",
      " 11%|█         | 1112/10000 [19:11:57<152:41:33, 61.85s/it]\u001b[A\u001b[A\u001b[A\u001b[A"
     ]
    },
    {
     "name": "stdout",
     "output_type": "stream",
     "text": [
      "predition [[17877  8492     0 ...,     0     0     0]\n",
      " [ 7949  8492 10552 ...,    36    36     1]\n",
      " [ 7949  8492     1 ...,     0     0     0]\n",
      " ..., \n",
      " [   36     1     0 ...,     0     0     0]\n",
      " [ 7949  8492    36 ...,     0     0     0]\n",
      " [ 7949  8492 10552 ...,    36    36     1]]\n",
      "max 17914\n"
     ]
    },
    {
     "name": "stderr",
     "output_type": "stream",
     "text": [
      "\n",
      "\n",
      "\n",
      "\n",
      " 11%|█         | 1113/10000 [19:12:59<152:46:47, 61.89s/it]\u001b[A\u001b[A\u001b[A\u001b[A\n",
      "\n",
      "\n",
      "\n",
      " 11%|█         | 1114/10000 [19:14:01<152:39:04, 61.84s/it]\u001b[A\u001b[A\u001b[A\u001b[A"
     ]
    },
    {
     "name": "stdout",
     "output_type": "stream",
     "text": [
      "predition [[ 7949  8492 17914 ...,     0     0     0]\n",
      " [17914 17914 10552 ...,     0     0     0]\n",
      " [17496     1     0 ...,     0     0     0]\n",
      " ..., \n",
      " [17496  8492  8492 ...,     0     0     0]\n",
      " [ 7949  7949  8492 ...,     0     0     0]\n",
      " [ 7949    36    36 ...,     0     0     0]]\n",
      "max 17914\n"
     ]
    },
    {
     "name": "stderr",
     "output_type": "stream",
     "text": [
      "\n",
      "\n",
      "\n",
      "\n",
      " 11%|█         | 1115/10000 [19:15:03<152:39:37, 61.85s/it]\u001b[A\u001b[A\u001b[A\u001b[A\n",
      "\n",
      "\n",
      "\n",
      " 11%|█         | 1116/10000 [19:16:05<152:35:11, 61.83s/it]\u001b[A\u001b[A\u001b[A\u001b[A"
     ]
    },
    {
     "name": "stdout",
     "output_type": "stream",
     "text": [
      "predition [[ 7949  7949  7949 ...,  8492    36    36]\n",
      " [ 7949     1     1 ...,     0     0     0]\n",
      " [ 7949  7949 17914 ...,     0     0     0]\n",
      " ..., \n",
      " [ 7949    36     1 ...,    36    36    36]\n",
      " [ 7949    36    36 ...,     0     0     0]\n",
      " [17877     1  8492 ...,     0     0     0]]\n",
      "max 17914\n"
     ]
    },
    {
     "name": "stderr",
     "output_type": "stream",
     "text": [
      "\n",
      "\n",
      "\n",
      "\n",
      " 11%|█         | 1117/10000 [19:17:07<152:44:26, 61.90s/it]\u001b[A\u001b[A\u001b[A\u001b[A\n",
      "\n",
      "\n",
      "\n",
      " 11%|█         | 1118/10000 [19:18:09<152:40:32, 61.88s/it]\u001b[A\u001b[A\u001b[A\u001b[A"
     ]
    },
    {
     "name": "stdout",
     "output_type": "stream",
     "text": [
      "predition [[ 7949  8492  8492 ..., 16139 15868    36]\n",
      " [17914 17914 17914 ...,     0     0     0]\n",
      " [17914 17914     0 ...,     0     0     0]\n",
      " ..., \n",
      " [17496  8492    36 ...,     0     0     0]\n",
      " [ 7949  8492 10552 ...,     0     0     0]\n",
      " [ 7949  8492    36 ...,   409    36    36]]\n",
      "max 17914\n"
     ]
    },
    {
     "name": "stderr",
     "output_type": "stream",
     "text": [
      "\n",
      "\n",
      "\n",
      "\n",
      " 11%|█         | 1119/10000 [19:19:11<152:40:50, 61.89s/it]\u001b[A\u001b[A\u001b[A\u001b[A\n",
      "\n",
      "\n",
      "\n",
      " 11%|█         | 1120/10000 [19:20:12<152:31:36, 61.84s/it]\u001b[A\u001b[A\u001b[A\u001b[A"
     ]
    },
    {
     "name": "stdout",
     "output_type": "stream",
     "text": [
      "predition [[10738  8492  8492 ...,     0     0     0]\n",
      " [ 7949     1     0 ...,     0     0     0]\n",
      " [17877     1     0 ...,     0     0     0]\n",
      " ..., \n",
      " [17496  8492     0 ...,     0     0     0]\n",
      " [   36     1     1 ...,     0     0     0]\n",
      " [17914    36    36 ...,     0     0     0]]\n",
      "max 17914\n"
     ]
    },
    {
     "name": "stderr",
     "output_type": "stream",
     "text": [
      "\n",
      "\n",
      "\n",
      "\n",
      " 11%|█         | 1121/10000 [19:21:14<152:29:58, 61.83s/it]\u001b[A\u001b[A\u001b[A\u001b[A\n",
      "\n",
      "\n",
      "\n",
      " 11%|█         | 1122/10000 [19:22:16<152:26:33, 61.81s/it]\u001b[A\u001b[A\u001b[A\u001b[A"
     ]
    },
    {
     "name": "stdout",
     "output_type": "stream",
     "text": [
      "predition [[ 7949  8492 10552 ...,     0     0     0]\n",
      " [17914  8492     1 ...,     0     0     0]\n",
      " [10738    36  7949 ...,     0     0     0]\n",
      " ..., \n",
      " [10738     1     0 ...,     0     0     0]\n",
      " [17461  8492     0 ...,     1     0     0]\n",
      " [ 7949  7949    36 ...,     0     0     0]]\n",
      "max 17914\n"
     ]
    },
    {
     "name": "stderr",
     "output_type": "stream",
     "text": [
      "\n",
      "\n",
      "\n",
      "\n",
      " 11%|█         | 1123/10000 [19:23:18<152:34:39, 61.88s/it]\u001b[A\u001b[A\u001b[A\u001b[A\n",
      "\n",
      "\n",
      "\n",
      " 11%|█         | 1124/10000 [19:24:20<152:35:35, 61.89s/it]\u001b[A\u001b[A\u001b[A\u001b[A"
     ]
    },
    {
     "name": "stdout",
     "output_type": "stream",
     "text": [
      "predition [[17877     1     0 ...,     0     0     0]\n",
      " [ 7949  7949     0 ...,     0     0     0]\n",
      " [ 7949    36     1 ...,     0     0     0]\n",
      " ..., \n",
      " [ 7949  7949    36 ...,     0     0     0]\n",
      " [ 7949  7949  8492 ...,     0     0     0]\n",
      " [ 7949    36 10552 ...,     0     0     0]]\n",
      "max 17914\n"
     ]
    },
    {
     "name": "stderr",
     "output_type": "stream",
     "text": [
      "\n",
      "\n",
      "\n",
      "\n",
      " 11%|█▏        | 1125/10000 [19:25:22<152:33:48, 61.88s/it]\u001b[A\u001b[A\u001b[A\u001b[A"
     ]
    },
    {
     "name": "stdout",
     "output_type": "stream",
     "text": [
      "predition [[10738    36    36 ...,     0     0     0]\n",
      " [17914    36     1 ...,     0     0     0]\n",
      " [ 7949  7949 10552 ...,     0     0     0]\n",
      " ..., \n",
      " [ 7949     1     1 ...,     0     0     0]\n",
      " [ 7949  8492 17914 ...,     0     0     0]\n",
      " [ 7949    36     1 ...,     0     0     0]]\n",
      "max 17914\n"
     ]
    },
    {
     "name": "stderr",
     "output_type": "stream",
     "text": [
      "\n",
      "\n",
      "\n",
      "\n",
      " 11%|█▏        | 1126/10000 [19:26:24<152:32:04, 61.88s/it]\u001b[A\u001b[A\u001b[A\u001b[A\n",
      "\n",
      "\n",
      "\n",
      " 11%|█▏        | 1127/10000 [19:27:25<152:28:03, 61.86s/it]\u001b[A\u001b[A\u001b[A\u001b[A"
     ]
    },
    {
     "name": "stdout",
     "output_type": "stream",
     "text": [
      "predition [[ 7949   899 10552 ...,     0     0     0]\n",
      " [ 7949     1     1 ...,     0     0     0]\n",
      " [10738  8492    36 ..., 15868 15868  8492]\n",
      " ..., \n",
      " [ 7949  8492    36 ...,     0     0     0]\n",
      " [ 7949     1     0 ...,     0     0     0]\n",
      " [ 7949  8492  8492 ...,     0     0     0]]\n",
      "max 17914\n"
     ]
    },
    {
     "name": "stderr",
     "output_type": "stream",
     "text": [
      "\n",
      "\n",
      "\n",
      "\n",
      " 11%|█▏        | 1128/10000 [19:28:27<152:27:37, 61.86s/it]\u001b[A\u001b[A\u001b[A\u001b[A\n",
      "\n",
      "\n",
      "\n",
      " 11%|█▏        | 1129/10000 [19:29:29<152:20:34, 61.82s/it]\u001b[A\u001b[A\u001b[A\u001b[A"
     ]
    },
    {
     "name": "stdout",
     "output_type": "stream",
     "text": [
      "predition [[ 7949    36     1 ...,     0     0     0]\n",
      " [ 7949  8492  8492 ...,    36     1     0]\n",
      " [ 7949  8492 10552 ...,     0     0     0]\n",
      " ..., \n",
      " [10738    36     0 ...,     0     0     0]\n",
      " [ 7949  8492 10552 ...,     0     0     0]\n",
      " [10738  8492    36 ...,     0     0     0]]\n",
      "max 17914\n"
     ]
    },
    {
     "name": "stderr",
     "output_type": "stream",
     "text": [
      "\n",
      "\n",
      "\n",
      "\n",
      " 11%|█▏        | 1130/10000 [19:30:31<152:24:04, 61.85s/it]\u001b[A\u001b[A\u001b[A\u001b[A\n",
      "\n",
      "\n",
      "\n",
      " 11%|█▏        | 1131/10000 [19:31:33<152:22:11, 61.85s/it]\u001b[A\u001b[A\u001b[A\u001b[A"
     ]
    },
    {
     "name": "stdout",
     "output_type": "stream",
     "text": [
      "predition [[ 7949  8492 10552 ...,     1     0     0]\n",
      " [17914 17914    36 ...,     0     0     0]\n",
      " [10738    36     1 ...,     0     0     0]\n",
      " ..., \n",
      " [17496     1     0 ...,     0     0     0]\n",
      " [10738  8492    36 ...,     0     0     0]\n",
      " [10738 17914    36 ...,    36    36     1]]\n",
      "max 17914\n"
     ]
    },
    {
     "name": "stderr",
     "output_type": "stream",
     "text": [
      "\n",
      "\n",
      "\n",
      "\n",
      " 11%|█▏        | 1132/10000 [19:32:35<152:28:11, 61.90s/it]\u001b[A\u001b[A\u001b[A\u001b[A\n",
      "\n",
      "\n",
      "\n",
      " 11%|█▏        | 1133/10000 [19:33:37<152:22:29, 61.86s/it]\u001b[A\u001b[A\u001b[A\u001b[A"
     ]
    },
    {
     "name": "stdout",
     "output_type": "stream",
     "text": [
      "predition [[ 7949     1 17914 ...,     0     0     0]\n",
      " [ 7949  8492  8492 ...,     0     0     0]\n",
      " [10738  8492     1 ...,     0     0     0]\n",
      " ..., \n",
      " [ 7949  7949    36 ...,    36    36    36]\n",
      " [ 7949  8492 10552 ...,     0     0     0]\n",
      " [ 7949  7949 10552 ...,     0     0     0]]\n",
      "max 17914\n"
     ]
    },
    {
     "name": "stderr",
     "output_type": "stream",
     "text": [
      "\n",
      "\n",
      "\n",
      "\n",
      " 11%|█▏        | 1134/10000 [19:34:38<152:21:35, 61.87s/it]\u001b[A\u001b[A\u001b[A\u001b[A\n",
      "\n",
      "\n",
      "\n",
      " 11%|█▏        | 1135/10000 [19:35:40<152:20:58, 61.87s/it]\u001b[A\u001b[A\u001b[A\u001b[A"
     ]
    },
    {
     "name": "stdout",
     "output_type": "stream",
     "text": [
      "predition [[ 7949  8492  8492 ..., 15868 15868 15868]\n",
      " [17496    36    36 ...,     0     0     0]\n",
      " [10738  8492    36 ...,     0     0     0]\n",
      " ..., \n",
      " [ 7949  8492     0 ...,     0     0     0]\n",
      " [ 7949     1     1 ...,     0     0     0]\n",
      " [17914 17914 17914 ...,     0     0     0]]\n",
      "max 17914\n"
     ]
    },
    {
     "name": "stderr",
     "output_type": "stream",
     "text": [
      "\n",
      "\n",
      "\n",
      "\n",
      " 11%|█▏        | 1136/10000 [19:36:42<152:21:44, 61.88s/it]\u001b[A\u001b[A\u001b[A\u001b[A\n",
      "\n",
      "\n",
      "\n",
      " 11%|█▏        | 1137/10000 [19:37:44<152:15:02, 61.84s/it]\u001b[A\u001b[A\u001b[A\u001b[A"
     ]
    },
    {
     "name": "stdout",
     "output_type": "stream",
     "text": [
      "predition [[10738  8492     1 ...,     0     0     0]\n",
      " [10738     1     0 ...,     0     0     0]\n",
      " [17496  8492  8492 ..., 16139    36    36]\n",
      " ..., \n",
      " [ 7949  8492     1 ...,     0     0     0]\n",
      " [ 7949  8492     1 ...,     0     0     0]\n",
      " [ 7949  7949  7949 ..., 16139    36    36]]\n",
      "max 17914\n"
     ]
    },
    {
     "name": "stderr",
     "output_type": "stream",
     "text": [
      "\n",
      "\n",
      "\n",
      "\n",
      " 11%|█▏        | 1138/10000 [19:38:46<152:15:53, 61.85s/it]\u001b[A\u001b[A\u001b[A\u001b[A"
     ]
    },
    {
     "name": "stdout",
     "output_type": "stream",
     "text": [
      "predition [[10738    36     1 ...,     0     0     0]\n",
      " [ 7949  8492 17914 ...,     0     0     0]\n",
      " [ 7949  8492     1 ...,     0     0     0]\n",
      " ..., \n",
      " [ 7949  7949  7949 ...,     0     0     0]\n",
      " [17914 17914 17914 ...,     0     0     0]\n",
      " [17914 17914 17914 ...,     0     0     0]]\n",
      "max 17914\n"
     ]
    },
    {
     "name": "stderr",
     "output_type": "stream",
     "text": [
      "\n",
      "\n",
      "\n",
      "\n",
      " 11%|█▏        | 1139/10000 [19:39:48<152:17:04, 61.87s/it]\u001b[A\u001b[A\u001b[A\u001b[A\n",
      "\n",
      "\n",
      "\n",
      " 11%|█▏        | 1140/10000 [19:40:50<152:12:01, 61.84s/it]\u001b[A\u001b[A\u001b[A\u001b[A"
     ]
    },
    {
     "name": "stdout",
     "output_type": "stream",
     "text": [
      "predition [[   36     1     1 ...,     0     0     0]\n",
      " [ 7949  7949 10552 ...,    36    36     0]\n",
      " [17877  8492 10552 ...,    36    36    36]\n",
      " ..., \n",
      " [ 7949  8492 10552 ..., 17914    36    36]\n",
      " [ 7949  8492  8492 ...,     0     0     0]\n",
      " [10738    36     1 ...,     0     0     0]]\n",
      "max 17914\n"
     ]
    },
    {
     "name": "stderr",
     "output_type": "stream",
     "text": [
      "\n",
      "\n",
      "\n",
      "\n",
      " 11%|█▏        | 1141/10000 [19:41:52<152:17:29, 61.89s/it]\u001b[A\u001b[A\u001b[A\u001b[A\n",
      "\n",
      "\n",
      "\n",
      " 11%|█▏        | 1142/10000 [19:42:53<152:11:35, 61.85s/it]\u001b[A\u001b[A\u001b[A\u001b[A"
     ]
    },
    {
     "name": "stdout",
     "output_type": "stream",
     "text": [
      "predition [[   36    36     1 ...,     0     0     0]\n",
      " [17496    36     1 ...,     0     0     0]\n",
      " [ 7949    36     0 ...,     0     0     0]\n",
      " ..., \n",
      " [10738  8492  8492 ...,     0     0     0]\n",
      " [17914 17914     1 ...,     0     0     0]\n",
      " [ 7949  8492  8492 ...,     0     0     0]]\n",
      "max 17914\n"
     ]
    },
    {
     "name": "stderr",
     "output_type": "stream",
     "text": [
      "\n",
      "\n",
      "\n",
      "\n",
      " 11%|█▏        | 1143/10000 [19:43:55<152:09:11, 61.84s/it]\u001b[A\u001b[A\u001b[A\u001b[A\n",
      "\n",
      "\n",
      "\n",
      " 11%|█▏        | 1144/10000 [19:44:57<152:02:31, 61.81s/it]\u001b[A\u001b[A\u001b[A\u001b[A"
     ]
    },
    {
     "name": "stdout",
     "output_type": "stream",
     "text": [
      "predition [[17496  8492    36 ...,     0     0     0]\n",
      " [10738    36     1 ...,     0     0     0]\n",
      " [ 7949  8492 10552 ...,     0     0     0]\n",
      " ..., \n",
      " [17496  8492  8492 ...,     0     0     0]\n",
      " [17877  8492 10552 ...,     0     0     0]\n",
      " [ 7949  8492 10552 ...,    36    36     0]]\n",
      "max 17914\n"
     ]
    },
    {
     "name": "stderr",
     "output_type": "stream",
     "text": [
      "\n",
      "\n",
      "\n",
      "\n",
      " 11%|█▏        | 1145/10000 [19:45:59<152:05:27, 61.83s/it]\u001b[A\u001b[A\u001b[A\u001b[A\n",
      "\n",
      "\n",
      "\n",
      " 11%|█▏        | 1146/10000 [19:47:01<152:03:22, 61.83s/it]\u001b[A\u001b[A\u001b[A\u001b[A"
     ]
    },
    {
     "name": "stdout",
     "output_type": "stream",
     "text": [
      "predition [[ 7949  8492     1 ...,     0     0     0]\n",
      " [17461  8492 17914 ...,     0     0     0]\n",
      " [ 7949     1  7949 ...,    36    36    36]\n",
      " ..., \n",
      " [10738    36 17914 ...,     1     1     0]\n",
      " [17496  8492    36 ...,     0     0     0]\n",
      " [ 7949  7949 10552 ...,    36    36     1]]\n",
      "max 17914\n"
     ]
    },
    {
     "name": "stderr",
     "output_type": "stream",
     "text": [
      "\n",
      "\n",
      "\n",
      "\n",
      " 11%|█▏        | 1147/10000 [19:48:03<152:12:11, 61.89s/it]\u001b[A\u001b[A\u001b[A\u001b[A\n",
      "\n",
      "\n",
      "\n",
      " 11%|█▏        | 1148/10000 [19:49:04<152:07:16, 61.87s/it]\u001b[A\u001b[A\u001b[A\u001b[A"
     ]
    },
    {
     "name": "stdout",
     "output_type": "stream",
     "text": [
      "predition [[ 7949   899 10552 ...,     0     0     0]\n",
      " [ 7949  8492 10552 ..., 15868 15868    36]\n",
      " [ 7949  7949    36 ...,     0     0     0]\n",
      " ..., \n",
      " [ 7949  8492 10552 ...,     0     0     0]\n",
      " [17496     1     0 ...,     0     0     0]\n",
      " [17496  8492    36 ...,     0     0     0]]\n",
      "max 17914\n"
     ]
    },
    {
     "name": "stderr",
     "output_type": "stream",
     "text": [
      "\n",
      "\n",
      "\n",
      "\n",
      " 11%|█▏        | 1149/10000 [19:50:06<152:05:13, 61.86s/it]\u001b[A\u001b[A\u001b[A\u001b[A\n",
      "\n",
      "\n",
      "\n",
      " 12%|█▏        | 1150/10000 [19:51:08<152:01:09, 61.84s/it]\u001b[A\u001b[A\u001b[A\u001b[A"
     ]
    },
    {
     "name": "stdout",
     "output_type": "stream",
     "text": [
      "predition [[ 7949  8492  8492 ...,    36     1     1]\n",
      " [ 7949  7949 10552 ...,    36    36     0]\n",
      " [17496  8492     0 ...,     0     0     0]\n",
      " ..., \n",
      " [ 7949    36     1 ...,     0     0     0]\n",
      " [ 7949     1     1 ...,     0     0     0]\n",
      " [10738  8492     0 ...,     0     0     0]]\n",
      "max 17914\n"
     ]
    },
    {
     "name": "stderr",
     "output_type": "stream",
     "text": [
      "\n",
      "\n",
      "\n",
      "\n",
      " 12%|█▏        | 1151/10000 [19:52:10<152:04:10, 61.87s/it]\u001b[A\u001b[A\u001b[A\u001b[A"
     ]
    },
    {
     "name": "stdout",
     "output_type": "stream",
     "text": [
      "predition [[17496     1     1 ...,     0     0     0]\n",
      " [ 7949  8492  8492 ...,     0     0     0]\n",
      " [ 7949  8492    36 ...,     0     0     0]\n",
      " ..., \n",
      " [ 7949    36 10552 ...,     0     0     0]\n",
      " [ 7949  7949 10552 ...,     1     0     0]\n",
      " [17496     1     0 ...,     0     0     0]]\n",
      "max 17914\n"
     ]
    },
    {
     "name": "stderr",
     "output_type": "stream",
     "text": [
      "\n",
      "\n",
      "\n",
      "\n",
      " 12%|█▏        | 1152/10000 [19:53:12<152:02:47, 61.86s/it]\u001b[A\u001b[A\u001b[A\u001b[A\n",
      "\n",
      "\n",
      "\n",
      " 12%|█▏        | 1153/10000 [19:54:14<152:04:37, 61.88s/it]\u001b[A\u001b[A\u001b[A\u001b[A"
     ]
    },
    {
     "name": "stdout",
     "output_type": "stream",
     "text": [
      "predition [[ 7949  8492 17914 ...,     0     0     0]\n",
      " [17496     1     1 ...,     0     0     0]\n",
      " [ 7949  8492 10552 ...,     0     0     0]\n",
      " ..., \n",
      " [10738  8492  8492 ...,    36    36     1]\n",
      " [17914     1     1 ...,     0     0     0]\n",
      " [ 7949  7949 10552 ...,     0     0     0]]\n",
      "max 17914\n"
     ]
    },
    {
     "name": "stderr",
     "output_type": "stream",
     "text": [
      "\n",
      "\n",
      "\n",
      "\n",
      " 12%|█▏        | 1154/10000 [19:55:16<152:03:24, 61.88s/it]\u001b[A\u001b[A\u001b[A\u001b[A\n",
      "\n",
      "\n",
      "\n",
      " 12%|█▏        | 1155/10000 [19:56:17<151:57:04, 61.85s/it]\u001b[A\u001b[A\u001b[A\u001b[A"
     ]
    },
    {
     "name": "stdout",
     "output_type": "stream",
     "text": [
      "predition [[ 7949  8492     0 ...,     0     0     0]\n",
      " [ 7949  8492    36 ...,     0     0     0]\n",
      " [17877  8492 10552 ...,    36    36     1]\n",
      " ..., \n",
      " [17496    36     1 ...,     0     0     0]\n",
      " [ 7949  7949 10552 ...,     0     0     0]\n",
      " [ 7949  8492    36 ...,     0     0     0]]\n",
      "max 17914\n"
     ]
    },
    {
     "name": "stderr",
     "output_type": "stream",
     "text": [
      "\n",
      "\n",
      "\n",
      "\n",
      " 12%|█▏        | 1156/10000 [19:57:19<152:05:40, 61.91s/it]\u001b[A\u001b[A\u001b[A\u001b[A\n",
      "\n",
      "\n",
      "\n",
      " 12%|█▏        | 1157/10000 [19:58:21<151:57:13, 61.86s/it]\u001b[A\u001b[A\u001b[A\u001b[A"
     ]
    },
    {
     "name": "stdout",
     "output_type": "stream",
     "text": [
      "predition [[ 7949  8492 17914 ...,     0     0     0]\n",
      " [ 7949  7949  7949 ...,    36    36    36]\n",
      " [ 7949  7949    36 ..., 16139    36    36]\n",
      " ..., \n",
      " [ 7949    36     1 ...,     0     0     0]\n",
      " [10738  8492 17914 ...,     0     0     0]\n",
      " [17914 17914    36 ...,     0     0     0]]\n",
      "max 17914\n"
     ]
    },
    {
     "name": "stderr",
     "output_type": "stream",
     "text": [
      "\n",
      "\n",
      "\n",
      "\n",
      " 12%|█▏        | 1158/10000 [19:59:23<151:53:03, 61.84s/it]\u001b[A\u001b[A\u001b[A\u001b[A\n",
      "\n",
      "\n",
      "\n",
      " 12%|█▏        | 1159/10000 [20:00:25<151:49:57, 61.83s/it]\u001b[A\u001b[A\u001b[A\u001b[A"
     ]
    },
    {
     "name": "stdout",
     "output_type": "stream",
     "text": [
      "predition [[10738    36     1 ...,     0     0     0]\n",
      " [ 7949  8492    36 ..., 15868    36    36]\n",
      " [ 7949  8492    36 ...,    36    36     0]\n",
      " ..., \n",
      " [ 7949  8492     0 ...,     0     0     0]\n",
      " [17877     1     0 ...,     0     0     0]\n",
      " [10738    36    36 ...,     1     0     0]]\n",
      "max 17914\n"
     ]
    },
    {
     "name": "stderr",
     "output_type": "stream",
     "text": [
      "\n",
      "\n",
      "\n",
      "\n",
      " 12%|█▏        | 1160/10000 [20:01:27<151:53:40, 61.86s/it]\u001b[A\u001b[A\u001b[A\u001b[A\n",
      "\n",
      "\n",
      "\n",
      " 12%|█▏        | 1161/10000 [20:02:29<151:51:39, 61.85s/it]\u001b[A\u001b[A\u001b[A\u001b[A"
     ]
    },
    {
     "name": "stdout",
     "output_type": "stream",
     "text": [
      "predition [[10738  8492    36 ...,     1     0     0]\n",
      " [17496    36    36 ...,     0     0     0]\n",
      " [ 7949 17914     1 ...,     0     0     0]\n",
      " ..., \n",
      " [ 7949     1     0 ...,     0     0     0]\n",
      " [17496    36 17914 ...,     0     0     0]\n",
      " [10738  8492  8492 ...,     0     0     0]]\n",
      "max 17914\n"
     ]
    },
    {
     "name": "stderr",
     "output_type": "stream",
     "text": [
      "\n",
      "\n",
      "\n",
      "\n",
      " 12%|█▏        | 1162/10000 [20:03:30<151:53:05, 61.87s/it]\u001b[A\u001b[A\u001b[A\u001b[A\n",
      "\n",
      "\n",
      "\n",
      " 12%|█▏        | 1163/10000 [20:04:32<151:46:29, 61.83s/it]\u001b[A\u001b[A\u001b[A\u001b[A"
     ]
    },
    {
     "name": "stdout",
     "output_type": "stream",
     "text": [
      "predition [[10472     1 10552 ...,     0     0     0]\n",
      " [10738  8492  8492 ...,    36     1     0]\n",
      " [17914  8492  8492 ...,     0     0     0]\n",
      " ..., \n",
      " [10738    36    36 ...,     0     0     0]\n",
      " [10738 17914 17914 ...,  8492     0     0]\n",
      " [ 7949  8492 10552 ...,    36     0     0]]\n",
      "max 17914\n"
     ]
    },
    {
     "name": "stderr",
     "output_type": "stream",
     "text": [
      "\n",
      "\n",
      "\n",
      "\n",
      " 12%|█▏        | 1164/10000 [20:05:34<151:52:54, 61.88s/it]\u001b[A\u001b[A\u001b[A\u001b[A"
     ]
    },
    {
     "name": "stdout",
     "output_type": "stream",
     "text": [
      "predition [[10738     1     0 ...,     0     0     0]\n",
      " [17461  8492 17914 ...,    36     1     0]\n",
      " [ 7949  8492    36 ...,     0     0     0]\n",
      " ..., \n",
      " [ 7949  8492    36 ...,    36    36     1]\n",
      " [17496     1     0 ...,     0     0     0]\n",
      " [ 7949  8492    36 ...,     0     0     0]]\n",
      "max 17914\n"
     ]
    },
    {
     "name": "stderr",
     "output_type": "stream",
     "text": [
      "\n",
      "\n",
      "\n",
      "\n",
      " 12%|█▏        | 1165/10000 [20:06:36<151:50:33, 61.87s/it]\u001b[A\u001b[A\u001b[A\u001b[A\n",
      "\n",
      "\n",
      "\n",
      " 12%|█▏        | 1166/10000 [20:07:38<151:43:28, 61.83s/it]\u001b[A\u001b[A\u001b[A\u001b[A"
     ]
    },
    {
     "name": "stdout",
     "output_type": "stream",
     "text": [
      "predition [[10738  8492     1 ...,     0     0     0]\n",
      " [ 7949  8492     1 ...,     0     0     0]\n",
      " [17496     1     0 ...,     0     0     0]\n",
      " ..., \n",
      " [ 7949  8492 17914 ...,     0     0     0]\n",
      " [ 7949     1 10552 ...,     0     0     0]\n",
      " [10738    36    36 ...,     0     0     0]]\n",
      "max 17914\n"
     ]
    },
    {
     "name": "stderr",
     "output_type": "stream",
     "text": [
      "\n",
      "\n",
      "\n",
      "\n",
      " 12%|█▏        | 1167/10000 [20:08:40<151:40:52, 61.82s/it]\u001b[A\u001b[A\u001b[A\u001b[A\n",
      "\n",
      "\n",
      "\n",
      " 12%|█▏        | 1168/10000 [20:09:41<151:40:06, 61.82s/it]\u001b[A\u001b[A\u001b[A\u001b[A"
     ]
    },
    {
     "name": "stdout",
     "output_type": "stream",
     "text": [
      "predition [[ 7949    36    36 ...,     0     0     0]\n",
      " [ 7949  8492  8492 ...,    36    36     1]\n",
      " [17496     1     1 ...,     0     0     0]\n",
      " ..., \n",
      " [17496    36    36 ...,     0     0     0]\n",
      " [ 7949  7949 10552 ...,    36    36     1]\n",
      " [10738  8492  8492 ...,     0     0     0]]\n",
      "max 17914\n"
     ]
    },
    {
     "name": "stderr",
     "output_type": "stream",
     "text": [
      "\n",
      "\n",
      "\n",
      "\n",
      " 12%|█▏        | 1169/10000 [20:10:43<151:41:48, 61.84s/it]\u001b[A\u001b[A\u001b[A\u001b[A\n",
      "\n",
      "\n",
      "\n",
      " 12%|█▏        | 1170/10000 [20:11:45<151:36:59, 61.81s/it]\u001b[A\u001b[A\u001b[A\u001b[A"
     ]
    },
    {
     "name": "stdout",
     "output_type": "stream",
     "text": [
      "predition [[ 7949     1     0 ...,     0     0     0]\n",
      " [17877    36     1 ...,     0     0     0]\n",
      " [ 7949  7949 10552 ...,  7949     0     0]\n",
      " ..., \n",
      " [10738  8492  8492 ...,     0     0     0]\n",
      " [17496     1 15868 ...,     0     0     0]\n",
      " [10738  7949    36 ...,  8492  8492    36]]\n",
      "max 17914\n"
     ]
    },
    {
     "name": "stderr",
     "output_type": "stream",
     "text": [
      "\n",
      "\n",
      "\n",
      "\n",
      " 12%|█▏        | 1171/10000 [20:12:47<151:33:35, 61.80s/it]\u001b[A\u001b[A\u001b[A\u001b[A\n",
      "\n",
      "\n",
      "\n",
      " 12%|█▏        | 1172/10000 [20:13:49<151:32:26, 61.80s/it]\u001b[A\u001b[A\u001b[A\u001b[A"
     ]
    },
    {
     "name": "stdout",
     "output_type": "stream",
     "text": [
      "predition [[ 7949  7949 10552 ...,    36    36     0]\n",
      " [17914     1     0 ...,     0     0     0]\n",
      " [10738     1    36 ...,     0     0     0]\n",
      " ..., \n",
      " [17496     1     1 ...,     0     0     0]\n",
      " [10738  8492 10552 ...,    36    36    36]\n",
      " [ 7949  8492 10552 ..., 16139    36    36]]\n",
      "max 17914\n"
     ]
    },
    {
     "name": "stderr",
     "output_type": "stream",
     "text": [
      "\n",
      "\n",
      "\n",
      "\n",
      " 12%|█▏        | 1173/10000 [20:14:50<151:35:47, 61.83s/it]\u001b[A\u001b[A\u001b[A\u001b[A\n",
      "\n",
      "\n",
      "\n",
      " 12%|█▏        | 1174/10000 [20:15:52<151:28:34, 61.79s/it]\u001b[A\u001b[A\u001b[A\u001b[A"
     ]
    },
    {
     "name": "stdout",
     "output_type": "stream",
     "text": [
      "predition [[ 7949  8492 10552 ...,     1     0     0]\n",
      " [17877  8492  8492 ...,     0     0     0]\n",
      " [17914 17914     1 ...,     0     0     0]\n",
      " ..., \n",
      " [ 7949  8492  8492 ...,     1     0     0]\n",
      " [17914 17914 17914 ...,     0     0     0]\n",
      " [10738  8492  8492 ...,     0     0     0]]\n",
      "max 17914\n"
     ]
    },
    {
     "name": "stderr",
     "output_type": "stream",
     "text": [
      "\n",
      "\n",
      "\n",
      "\n",
      " 12%|█▏        | 1175/10000 [20:16:54<151:29:15, 61.80s/it]\u001b[A\u001b[A\u001b[A\u001b[A\n",
      "\n",
      "\n",
      "\n",
      " 12%|█▏        | 1176/10000 [20:17:56<151:23:18, 61.76s/it]\u001b[A\u001b[A\u001b[A\u001b[A"
     ]
    },
    {
     "name": "stdout",
     "output_type": "stream",
     "text": [
      "predition [[ 7949  7949    36 ...,  7949 16139 16139]\n",
      " [ 7949   899 10552 ...,     0     0     0]\n",
      " [ 7949  8492     1 ...,     0     0     0]\n",
      " ..., \n",
      " [ 7949  7949 10552 ...,     0     0     0]\n",
      " [17496  8492    36 ...,     0     0     0]\n",
      " [17395  8492 10552 ...,    36     1     1]]\n",
      "max 17914\n"
     ]
    },
    {
     "name": "stderr",
     "output_type": "stream",
     "text": [
      "\n",
      "\n",
      "\n",
      "\n",
      " 12%|█▏        | 1177/10000 [20:18:58<151:30:08, 61.82s/it]\u001b[A\u001b[A\u001b[A\u001b[A\n",
      "\n",
      "\n",
      "\n",
      " 12%|█▏        | 1178/10000 [20:19:59<151:24:43, 61.79s/it]\u001b[A\u001b[A\u001b[A\u001b[A"
     ]
    },
    {
     "name": "stdout",
     "output_type": "stream",
     "text": [
      "predition [[10738  8492  8492 ...,     0     0     0]\n",
      " [   36    36    36 ...,     0     0     0]\n",
      " [ 7949  7949     1 ...,     0     0     0]\n",
      " ..., \n",
      " [17496    36     1 ...,     0     0     0]\n",
      " [ 7949  8492 10552 ...,     0     0     0]\n",
      " [10738    36  8492 ...,    36     1     0]]\n",
      "max 17914\n"
     ]
    },
    {
     "name": "stderr",
     "output_type": "stream",
     "text": [
      "\n",
      "\n",
      "\n",
      "\n",
      " 12%|█▏        | 1179/10000 [20:21:01<151:22:07, 61.78s/it]\u001b[A\u001b[A\u001b[A\u001b[A"
     ]
    },
    {
     "name": "stdout",
     "output_type": "stream",
     "text": [
      "predition [[ 7949  8492 10552 ...,    36    36    36]\n",
      " [ 7949    36     1 ...,     0     0     0]\n",
      " [17496  8492  8492 ...,     0     0     0]\n",
      " ..., \n",
      " [10738  8492     1 ...,     0     0     0]\n",
      " [ 7949  7949    36 ..., 16139    36    36]\n",
      " [10738    36 17914 ...,     0     0     0]]\n",
      "max 17914\n"
     ]
    },
    {
     "name": "stderr",
     "output_type": "stream",
     "text": [
      "\n",
      "\n",
      "\n",
      "\n",
      " 12%|█▏        | 1180/10000 [20:22:03<151:25:18, 61.80s/it]\u001b[A\u001b[A\u001b[A\u001b[A\n",
      "\n",
      "\n",
      "\n",
      " 12%|█▏        | 1181/10000 [20:23:05<151:30:22, 61.85s/it]\u001b[A\u001b[A\u001b[A\u001b[A"
     ]
    },
    {
     "name": "stdout",
     "output_type": "stream",
     "text": [
      "predition [[ 7949  7949  7949 ...,  8492  8492    36]\n",
      " [ 7949  8492     0 ...,     0     0     0]\n",
      " [ 7949  8492 10552 ...,     0     0     0]\n",
      " ..., \n",
      " [ 7949  8492     0 ...,    36    36     1]\n",
      " [10738  8492     0 ...,     0     0     0]\n",
      " [ 7949  8492     1 ...,     0     0     0]]\n",
      "max 17914\n"
     ]
    },
    {
     "name": "stderr",
     "output_type": "stream",
     "text": [
      "\n",
      "\n",
      "\n",
      "\n",
      " 12%|█▏        | 1182/10000 [20:24:07<151:28:38, 61.84s/it]\u001b[A\u001b[A\u001b[A\u001b[A\n",
      "\n",
      "\n",
      "\n",
      " 12%|█▏        | 1183/10000 [20:25:08<151:21:36, 61.80s/it]\u001b[A\u001b[A\u001b[A\u001b[A"
     ]
    },
    {
     "name": "stdout",
     "output_type": "stream",
     "text": [
      "predition [[10738  8492 17914 ...,     0     0     0]\n",
      " [10738    36     1 ...,     0     0     0]\n",
      " [10738  8492  8492 ...,     0     0     0]\n",
      " ..., \n",
      " [10738  8492  8492 ...,     0     0     0]\n",
      " [ 7949  8492  8492 ...,     0     0     0]\n",
      " [17496     1     0 ...,     0     0     0]]\n",
      "max 17914\n"
     ]
    },
    {
     "name": "stderr",
     "output_type": "stream",
     "text": [
      "\n",
      "\n",
      "\n",
      "\n",
      " 12%|█▏        | 1184/10000 [20:26:10<151:22:11, 61.81s/it]\u001b[A\u001b[A\u001b[A\u001b[A\n",
      "\n",
      "\n",
      "\n",
      " 12%|█▏        | 1185/10000 [20:27:12<151:15:46, 61.77s/it]\u001b[A\u001b[A\u001b[A\u001b[A"
     ]
    },
    {
     "name": "stdout",
     "output_type": "stream",
     "text": [
      "predition [[10738    36    36 ..., 17914    36    36]\n",
      " [ 7949     1     0 ...,     0     0     0]\n",
      " [ 7949    36     1 ...,     0     0     0]\n",
      " ..., \n",
      " [ 7949    36     1 ...,     0     0     0]\n",
      " [ 7949    36  7949 ...,     0     0     0]\n",
      " [ 7949    36 10552 ...,    36     0     0]]\n",
      "max 17914\n"
     ]
    },
    {
     "name": "stderr",
     "output_type": "stream",
     "text": [
      "\n",
      "\n",
      "\n",
      "\n",
      " 12%|█▏        | 1186/10000 [20:28:14<151:18:18, 61.80s/it]\u001b[A\u001b[A\u001b[A\u001b[A\n",
      "\n",
      "\n",
      "\n",
      " 12%|█▏        | 1187/10000 [20:29:16<151:23:28, 61.84s/it]\u001b[A\u001b[A\u001b[A\u001b[A"
     ]
    },
    {
     "name": "stdout",
     "output_type": "stream",
     "text": [
      "predition [[ 7949    36     0 ...,     0     0     0]\n",
      " [10738    36     1 ...,     0     0     0]\n",
      " [ 7949  8492 17914 ..., 16139 16139    36]\n",
      " ..., \n",
      " [ 7949    36     1 ...,     1     1     0]\n",
      " [10738     1     0 ...,     0     0     0]\n",
      " [ 7949  8492 10552 ...,     0     0     0]]\n",
      "max 17914\n"
     ]
    },
    {
     "name": "stderr",
     "output_type": "stream",
     "text": [
      "\n",
      "\n",
      "\n",
      "\n",
      " 12%|█▏        | 1188/10000 [20:30:18<151:22:23, 61.84s/it]\u001b[A\u001b[A\u001b[A\u001b[A\n",
      "\n",
      "\n",
      "\n",
      " 12%|█▏        | 1189/10000 [20:31:19<151:20:42, 61.84s/it]\u001b[A\u001b[A\u001b[A\u001b[A"
     ]
    },
    {
     "name": "stdout",
     "output_type": "stream",
     "text": [
      "predition [[ 7949 17914    36 ..., 17914    36    36]\n",
      " [17877  8492    36 ...,     0     0     0]\n",
      " [ 7949  8492     1 ...,     0     0     0]\n",
      " ..., \n",
      " [17914  8492  8492 ...,     0     0     0]\n",
      " [ 7949     1     0 ...,     0     0     0]\n",
      " [ 7949  7949  7949 ...,    36    36     1]]\n",
      "max 17914\n"
     ]
    },
    {
     "name": "stderr",
     "output_type": "stream",
     "text": [
      "\n",
      "\n",
      "\n",
      "\n",
      " 12%|█▏        | 1190/10000 [20:32:21<151:23:34, 61.86s/it]\u001b[A\u001b[A\u001b[A\u001b[A\n",
      "\n",
      "\n",
      "\n",
      " 12%|█▏        | 1191/10000 [20:33:23<151:13:07, 61.80s/it]\u001b[A\u001b[A\u001b[A\u001b[A"
     ]
    },
    {
     "name": "stdout",
     "output_type": "stream",
     "text": [
      "predition [[17461  8492 17914 ...,    36    36     1]\n",
      " [ 7949  8492 10552 ..., 16139 16139    36]\n",
      " [ 7949  7949 10552 ...,     0     0     0]\n",
      " ..., \n",
      " [ 7949  8492 10552 ..., 15868    36    36]\n",
      " [10738     1     0 ...,     0     0     0]\n",
      " [ 7949  8492 10552 ...,     0     0     0]]\n",
      "max 17914\n"
     ]
    },
    {
     "name": "stderr",
     "output_type": "stream",
     "text": [
      "\n",
      "\n",
      "\n",
      "\n",
      " 12%|█▏        | 1192/10000 [20:34:25<151:15:48, 61.82s/it]\u001b[A\u001b[A\u001b[A\u001b[A"
     ]
    },
    {
     "name": "stdout",
     "output_type": "stream",
     "text": [
      "predition [[ 7949     1     0 ...,     0     0     0]\n",
      " [17914 17914     1 ...,     0     0     0]\n",
      " [ 7949  8492  8492 ...,     1     0     0]\n",
      " ..., \n",
      " [ 7949  7949 10552 ...,    36     1     0]\n",
      " [ 7949  7949 10552 ...,    36    36     1]\n",
      " [10738    36     1 ...,     0     0     0]]\n",
      "max 17914\n"
     ]
    },
    {
     "name": "stderr",
     "output_type": "stream",
     "text": [
      "\n",
      "\n",
      "\n",
      "\n",
      " 12%|█▏        | 1193/10000 [20:35:27<151:14:01, 61.82s/it]\u001b[A\u001b[A\u001b[A\u001b[A\n",
      "\n",
      "\n",
      "\n",
      " 12%|█▏        | 1194/10000 [20:36:28<151:11:40, 61.81s/it]\u001b[A\u001b[A\u001b[A\u001b[A"
     ]
    },
    {
     "name": "stdout",
     "output_type": "stream",
     "text": [
      "predition [[ 7949  7949  8492 ...,     0     0     0]\n",
      " [17496  8492 17914 ...,     0     0     0]\n",
      " [ 7949     1 10552 ...,     0     0     0]\n",
      " ..., \n",
      " [ 7949  7949 10552 ...,     0     0     0]\n",
      " [17496     1     1 ...,     0     0     0]\n",
      " [ 7949  8492  8492 ...,  7949    36    36]]\n",
      "max 17914\n"
     ]
    },
    {
     "name": "stderr",
     "output_type": "stream",
     "text": [
      "\n",
      "\n",
      "\n",
      "\n",
      " 12%|█▏        | 1195/10000 [20:37:30<151:16:37, 61.85s/it]\u001b[A\u001b[A\u001b[A\u001b[A\n",
      "\n",
      "\n",
      "\n",
      " 12%|█▏        | 1196/10000 [20:38:32<151:12:09, 61.83s/it]\u001b[A\u001b[A\u001b[A\u001b[A"
     ]
    },
    {
     "name": "stdout",
     "output_type": "stream",
     "text": [
      "predition [[ 7949    36 10552 ...,     0     0     0]\n",
      " [ 7949  8492     1 ...,     0     0     0]\n",
      " [ 7949     1     0 ...,     0     0     0]\n",
      " ..., \n",
      " [ 7949  7949     1 ...,     0     0     0]\n",
      " [ 7949  8492 10552 ...,    36    36     0]\n",
      " [17496    36    36 ...,     0     0     0]]\n",
      "max 17914\n"
     ]
    },
    {
     "name": "stderr",
     "output_type": "stream",
     "text": [
      "\n",
      "\n",
      "\n",
      "\n",
      " 12%|█▏        | 1197/10000 [20:39:34<151:25:53, 61.93s/it]\u001b[A\u001b[A\u001b[A\u001b[A\n",
      "\n",
      "\n",
      "\n",
      " 12%|█▏        | 1198/10000 [20:40:36<151:11:06, 61.83s/it]\u001b[A\u001b[A\u001b[A\u001b[A"
     ]
    },
    {
     "name": "stdout",
     "output_type": "stream",
     "text": [
      "predition [[ 7949  7949 10552 ...,     1     0     0]\n",
      " [ 7949  7949 17914 ...,     0     0     0]\n",
      " [10738  7949  7949 ...,     0     0     0]\n",
      " ..., \n",
      " [ 7949  7949  8492 ...,     0     0     0]\n",
      " [ 7949    36     1 ...,     0     0     0]\n",
      " [ 7949  8492     1 ...,     0     0     0]]\n",
      "max 17914\n"
     ]
    },
    {
     "name": "stderr",
     "output_type": "stream",
     "text": [
      "\n",
      "\n",
      "\n",
      "\n",
      " 12%|█▏        | 1199/10000 [20:41:38<151:08:20, 61.82s/it]\u001b[A\u001b[A\u001b[A\u001b[A\n",
      "\n",
      "\n",
      "\n",
      " 12%|█▏        | 1200/10000 [20:42:40<151:12:48, 61.86s/it]\u001b[A\u001b[A\u001b[A\u001b[A"
     ]
    },
    {
     "name": "stdout",
     "output_type": "stream",
     "text": [
      "predition [[ 7949  8492 10552 ...,    36     0     0]\n",
      " [ 7949  8492 17395 ..., 15868 15868 15868]\n",
      " [ 7949  8492 10552 ...,     0     0     0]\n",
      " ..., \n",
      " [ 7949  8492 10552 ...,     0     0     0]\n",
      " [17496     1     0 ...,     0     0     0]\n",
      " [17496  8492    36 ...,     0     0     0]]\n",
      "max 17914\n"
     ]
    },
    {
     "name": "stderr",
     "output_type": "stream",
     "text": [
      "\n",
      "\n",
      "\n",
      "\n",
      " 12%|█▏        | 1201/10000 [20:43:42<151:19:34, 61.91s/it]\u001b[A\u001b[A\u001b[A\u001b[A\n",
      "\n",
      "\n",
      "\n",
      " 12%|█▏        | 1202/10000 [20:44:44<151:12:12, 61.87s/it]\u001b[A\u001b[A\u001b[A\u001b[A"
     ]
    },
    {
     "name": "stdout",
     "output_type": "stream",
     "text": [
      "predition [[17496     1     0 ...,     0     0     0]\n",
      " [ 7949     1     0 ...,     0     0     0]\n",
      " [17496     1     0 ...,     0     0     0]\n",
      " ..., \n",
      " [17496    36     1 ...,     0     0     0]\n",
      " [10738  8492  8492 ...,     0     0     0]\n",
      " [ 7949    36     1 ...,     0     0     0]]\n",
      "max 17914\n"
     ]
    },
    {
     "name": "stderr",
     "output_type": "stream",
     "text": [
      "\n",
      "\n",
      "\n",
      "\n",
      " 12%|█▏        | 1203/10000 [20:45:46<151:16:03, 61.90s/it]\u001b[A\u001b[A\u001b[A\u001b[A\n",
      "\n",
      "\n",
      "\n",
      " 12%|█▏        | 1204/10000 [20:46:47<151:00:47, 61.81s/it]\u001b[A\u001b[A\u001b[A\u001b[A"
     ]
    },
    {
     "name": "stdout",
     "output_type": "stream",
     "text": [
      "predition [[ 7949  8492    36 ...,     0     0     0]\n",
      " [   36     1     1 ...,     0     0     0]\n",
      " [17914  8492 17914 ...,    36    36    36]\n",
      " ..., \n",
      " [ 7949  8492 10552 ...,    36    36     0]\n",
      " [ 7949     1     0 ...,     0     0     0]\n",
      " [ 7949  8492 10552 ...,     0     0     0]]\n",
      "max 17914\n"
     ]
    },
    {
     "name": "stderr",
     "output_type": "stream",
     "text": [
      "\n",
      "\n",
      "\n",
      "\n",
      " 12%|█▏        | 1205/10000 [20:47:49<151:01:22, 61.82s/it]\u001b[A\u001b[A\u001b[A\u001b[A"
     ]
    },
    {
     "name": "stdout",
     "output_type": "stream",
     "text": [
      "predition [[17914  8492  8492 ...,     0     0     0]\n",
      " [17496  8492 17914 ...,    36    36 15868]\n",
      " [ 7949     1     0 ...,     0     0     0]\n",
      " ..., \n",
      " [17914 17914 17914 ...,     0     0     0]\n",
      " [ 7949  8492 10552 ...,    36    36     0]\n",
      " [ 7949  8492 10552 ...,     0     0     0]]\n",
      "max 17914\n"
     ]
    },
    {
     "name": "stderr",
     "output_type": "stream",
     "text": [
      "\n",
      "\n",
      "\n",
      "\n",
      " 12%|█▏        | 1206/10000 [20:48:51<151:10:59, 61.89s/it]\u001b[A\u001b[A\u001b[A\u001b[A\n",
      "\n",
      "\n",
      "\n",
      " 12%|█▏        | 1207/10000 [20:49:53<151:02:14, 61.84s/it]\u001b[A\u001b[A\u001b[A\u001b[A"
     ]
    },
    {
     "name": "stdout",
     "output_type": "stream",
     "text": [
      "predition [[ 7949    36  8492 ...,     1     0     0]\n",
      " [10738    36    36 ...,     0     0     0]\n",
      " [10738  8492     0 ...,     0     0     0]\n",
      " ..., \n",
      " [10738  8492  8492 ...,     0     0     0]\n",
      " [10738  8492 17914 ...,     0     0     0]\n",
      " [ 7949  8492 10552 ...,    36    36    36]]\n",
      "max 17914\n"
     ]
    },
    {
     "name": "stderr",
     "output_type": "stream",
     "text": [
      "\n",
      "\n",
      "\n",
      "\n",
      " 12%|█▏        | 1208/10000 [20:50:55<151:01:46, 61.84s/it]\u001b[A\u001b[A\u001b[A\u001b[A\n",
      "\n",
      "\n",
      "\n",
      " 12%|█▏        | 1209/10000 [20:51:56<150:50:26, 61.77s/it]\u001b[A\u001b[A\u001b[A\u001b[A"
     ]
    },
    {
     "name": "stdout",
     "output_type": "stream",
     "text": [
      "predition [[10738  8492 17914 ..., 15868    36    36]\n",
      " [ 7949  8492 10552 ...,     0     0     0]\n",
      " [ 7949  8492     1 ...,     0     0     0]\n",
      " ..., \n",
      " [ 7949  8492 10552 ...,     0     0     0]\n",
      " [ 7949  8492  8492 ..., 15868 15868 10712]\n",
      " [ 7949     1     0 ...,     0     0     0]]\n",
      "max 17914\n"
     ]
    },
    {
     "name": "stderr",
     "output_type": "stream",
     "text": [
      "\n",
      "\n",
      "\n",
      "\n",
      " 12%|█▏        | 1210/10000 [20:52:58<150:54:36, 61.81s/it]\u001b[A\u001b[A\u001b[A\u001b[A\n",
      "\n",
      "\n",
      "\n",
      " 12%|█▏        | 1211/10000 [20:54:00<150:46:50, 61.76s/it]\u001b[A\u001b[A\u001b[A\u001b[A"
     ]
    },
    {
     "name": "stdout",
     "output_type": "stream",
     "text": [
      "predition [[ 7949  8492  8492 ...,     0     0     0]\n",
      " [ 7949  8492     0 ...,     0     0     0]\n",
      " [ 7949    36     0 ...,     0     0     0]\n",
      " ..., \n",
      " [17496     1     0 ...,     0     0     0]\n",
      " [ 7949     1     1 ...,     0     0     0]\n",
      " [10738    36  8492 ..., 15868    36    36]]\n",
      "max 17914\n"
     ]
    },
    {
     "name": "stderr",
     "output_type": "stream",
     "text": [
      "\n",
      "\n",
      "\n",
      "\n",
      " 12%|█▏        | 1212/10000 [20:55:02<150:57:35, 61.84s/it]\u001b[A\u001b[A\u001b[A\u001b[A\n",
      "\n",
      "\n",
      "\n",
      " 12%|█▏        | 1213/10000 [20:56:03<150:48:48, 61.79s/it]\u001b[A\u001b[A\u001b[A\u001b[A"
     ]
    },
    {
     "name": "stdout",
     "output_type": "stream",
     "text": [
      "predition [[10738  8492    36 ...,     0     0     0]\n",
      " [ 7949  8492 10552 ...,     0     0     0]\n",
      " [ 7949  8492 10552 ...,     0     0     0]\n",
      " ..., \n",
      " [ 7949     1     0 ...,    36    36    36]\n",
      " [ 7949     1     0 ...,     0     0     0]\n",
      " [17914 17914 17914 ...,     0     0     0]]\n",
      "max 17914\n"
     ]
    },
    {
     "name": "stderr",
     "output_type": "stream",
     "text": [
      "\n",
      "\n",
      "\n",
      "\n",
      " 12%|█▏        | 1214/10000 [20:57:05<150:49:00, 61.80s/it]\u001b[A\u001b[A\u001b[A\u001b[A\n",
      "\n",
      "\n",
      "\n",
      " 12%|█▏        | 1215/10000 [20:58:07<150:47:15, 61.79s/it]\u001b[A\u001b[A\u001b[A\u001b[A"
     ]
    },
    {
     "name": "stdout",
     "output_type": "stream",
     "text": [
      "predition [[10738  7949    36 ...,     0     0     0]\n",
      " [10738 17914    36 ...,    36     1     0]\n",
      " [10738  8492 10552 ...,  7949  7949    36]\n",
      " ..., \n",
      " [10738  8492  8492 ...,     0     0     0]\n",
      " [ 7949  8492     1 ...,     0     0     0]\n",
      " [ 7949  7949 10552 ...,     0     0     0]]\n",
      "max 17914\n"
     ]
    },
    {
     "name": "stderr",
     "output_type": "stream",
     "text": [
      "\n",
      "\n",
      "\n",
      "\n",
      " 12%|█▏        | 1216/10000 [20:59:09<150:51:33, 61.83s/it]\u001b[A\u001b[A\u001b[A\u001b[A\n",
      "\n",
      "\n",
      "\n",
      " 12%|█▏        | 1217/10000 [21:00:11<150:46:33, 61.80s/it]\u001b[A\u001b[A\u001b[A\u001b[A"
     ]
    },
    {
     "name": "stdout",
     "output_type": "stream",
     "text": [
      "predition [[ 7949  8492 10552 ...,    36     0     0]\n",
      " [ 7949  8492 10552 ...,     0     0     0]\n",
      " [ 7949    36  8492 ...,     1     0     0]\n",
      " ..., \n",
      " [ 7949     1     0 ...,     0     0     0]\n",
      " [ 7949  8492 10552 ...,     0     0     0]\n",
      " [ 7949  7949 10552 ...,  7949    36    36]]\n",
      "max 17914\n"
     ]
    },
    {
     "name": "stderr",
     "output_type": "stream",
     "text": [
      "\n",
      "\n",
      "\n",
      "\n",
      " 12%|█▏        | 1218/10000 [21:01:13<150:54:11, 61.86s/it]\u001b[A\u001b[A\u001b[A\u001b[A"
     ]
    },
    {
     "name": "stdout",
     "output_type": "stream",
     "text": [
      "predition [[10738    36     1 ...,     0     0     0]\n",
      " [10738    36     1 ...,     0     0     0]\n",
      " [ 7949  7949 10552 ...,     0     0     0]\n",
      " ..., \n",
      " [10738  8492  8492 ...,     0     0     0]\n",
      " [17496    36    36 ...,     0     0     0]\n",
      " [ 7949  8492 17914 ...,     0     0     0]]\n",
      "max 17914\n"
     ]
    },
    {
     "name": "stderr",
     "output_type": "stream",
     "text": [
      "\n",
      "\n",
      "\n",
      "\n",
      " 12%|█▏        | 1219/10000 [21:02:14<150:51:29, 61.85s/it]\u001b[A\u001b[A\u001b[A\u001b[A\n",
      "\n",
      "\n",
      "\n",
      " 12%|█▏        | 1220/10000 [21:03:16<150:47:24, 61.83s/it]\u001b[A\u001b[A\u001b[A\u001b[A"
     ]
    },
    {
     "name": "stdout",
     "output_type": "stream",
     "text": [
      "predition [[17877     1     1 ...,     0     0     0]\n",
      " [17496     1     0 ...,     0     0     0]\n",
      " [17877    36 17914 ...,     0     0     0]\n",
      " ..., \n",
      " [ 7949  8492  8492 ...,     0     0     0]\n",
      " [17496    36     1 ...,     0     0     0]\n",
      " [10738  8492 17914 ...,     0     0     0]]\n",
      "max 17914\n"
     ]
    },
    {
     "name": "stderr",
     "output_type": "stream",
     "text": [
      "\n",
      "\n",
      "\n",
      "\n",
      " 12%|█▏        | 1221/10000 [21:04:18<150:45:14, 61.82s/it]\u001b[A\u001b[A\u001b[A\u001b[A\n",
      "\n",
      "\n",
      "\n",
      " 12%|█▏        | 1222/10000 [21:05:20<150:43:11, 61.81s/it]\u001b[A\u001b[A\u001b[A\u001b[A"
     ]
    },
    {
     "name": "stdout",
     "output_type": "stream",
     "text": [
      "predition [[ 7949    36     0 ...,     0     0     0]\n",
      " [ 7949    36     1 ...,     0     0     0]\n",
      " [ 7949  7949 10552 ...,     0     0     0]\n",
      " ..., \n",
      " [ 7949  7949  8492 ...,     0     0     0]\n",
      " [17496     1     0 ...,     0     0     0]\n",
      " [10738  8492    36 ...,     0     0     0]]\n",
      "max 17914\n"
     ]
    },
    {
     "name": "stderr",
     "output_type": "stream",
     "text": [
      "\n",
      "\n",
      "\n",
      "\n",
      " 12%|█▏        | 1223/10000 [21:06:22<150:37:43, 61.78s/it]\u001b[A\u001b[A\u001b[A\u001b[A\n",
      "\n",
      "\n",
      "\n",
      " 12%|█▏        | 1224/10000 [21:07:23<150:29:42, 61.73s/it]\u001b[A\u001b[A\u001b[A\u001b[A"
     ]
    },
    {
     "name": "stdout",
     "output_type": "stream",
     "text": [
      "predition [[ 7949  8492 10552 ...,     0     0     0]\n",
      " [ 7949  7949 10552 ...,     0     0     0]\n",
      " [17877  8492  8492 ...,     0     0     0]\n",
      " ..., \n",
      " [10738  8492  8492 ...,     1     0     0]\n",
      " [10738    36 17914 ...,     0     0     0]\n",
      " [17914  8492 17914 ...,     0     0     0]]\n",
      "max 17914\n"
     ]
    },
    {
     "name": "stderr",
     "output_type": "stream",
     "text": [
      "\n",
      "\n",
      "\n",
      "\n",
      " 12%|█▏        | 1225/10000 [21:08:25<150:34:31, 61.77s/it]\u001b[A\u001b[A\u001b[A\u001b[A\n",
      "\n",
      "\n",
      "\n",
      " 12%|█▏        | 1226/10000 [21:09:27<150:30:19, 61.75s/it]\u001b[A\u001b[A\u001b[A\u001b[A"
     ]
    },
    {
     "name": "stdout",
     "output_type": "stream",
     "text": [
      "predition [[10738     1     0 ...,     0     0     0]\n",
      " [10738  8492     1 ...,     0     0     0]\n",
      " [ 7949  8492 17914 ...,     0     0     0]\n",
      " ..., \n",
      " [17914  8492     1 ...,     0     0     0]\n",
      " [17496  7949  8492 ...,     0     0     0]\n",
      " [ 7949  7949    36 ...,    36     1     0]]\n",
      "max 17914\n"
     ]
    },
    {
     "name": "stderr",
     "output_type": "stream",
     "text": [
      "\n",
      "\n",
      "\n",
      "\n",
      " 12%|█▏        | 1227/10000 [21:10:29<150:35:25, 61.79s/it]\u001b[A\u001b[A\u001b[A\u001b[A\n",
      "\n",
      "\n",
      "\n",
      " 12%|█▏        | 1228/10000 [21:11:30<150:28:33, 61.75s/it]\u001b[A\u001b[A\u001b[A\u001b[A"
     ]
    },
    {
     "name": "stdout",
     "output_type": "stream",
     "text": [
      "predition [[10738  8492  8492 ...,    36    36     0]\n",
      " [10738  8492    36 ...,     0     0     0]\n",
      " [ 7949  8492 10552 ...,     0     0     0]\n",
      " ..., \n",
      " [ 7949  8492 10552 ...,     0     0     0]\n",
      " [ 7949     1     0 ...,     0     0     0]\n",
      " [ 7949  8492 17914 ...,     0     0     0]]\n",
      "max 17914\n"
     ]
    },
    {
     "name": "stderr",
     "output_type": "stream",
     "text": [
      "\n",
      "\n",
      "\n",
      "\n",
      " 12%|█▏        | 1229/10000 [21:12:32<150:28:19, 61.76s/it]\u001b[A\u001b[A\u001b[A\u001b[A\n",
      "\n",
      "\n",
      "\n",
      " 12%|█▏        | 1230/10000 [21:13:34<150:22:08, 61.73s/it]\u001b[A\u001b[A\u001b[A\u001b[A"
     ]
    },
    {
     "name": "stdout",
     "output_type": "stream",
     "text": [
      "predition [[ 7949  7949 10552 ...,     0     0     0]\n",
      " [10738  8492     1 ...,     0     0     0]\n",
      " [17914  8492    36 ...,     0     0     0]\n",
      " ..., \n",
      " [ 7949  8492  8492 ...,     1     0     0]\n",
      " [17496  8492 17914 ...,     0     0     0]\n",
      " [17914 17914 10552 ...,     0     0     0]]\n",
      "max 17914\n"
     ]
    },
    {
     "name": "stderr",
     "output_type": "stream",
     "text": [
      "\n",
      "\n",
      "\n",
      "\n",
      " 12%|█▏        | 1231/10000 [21:14:35<150:23:46, 61.74s/it]\u001b[A\u001b[A\u001b[A\u001b[A\n",
      "\n",
      "\n",
      "\n",
      " 12%|█▏        | 1232/10000 [21:15:37<150:21:54, 61.74s/it]\u001b[A\u001b[A\u001b[A\u001b[A"
     ]
    },
    {
     "name": "stdout",
     "output_type": "stream",
     "text": [
      "predition [[ 7949  7949    36 ...,    36    36    36]\n",
      " [ 7949    36     1 ...,     0     0     0]\n",
      " [10738     1     0 ...,     0     0     0]\n",
      " ..., \n",
      " [17461  8492  8492 ...,     0     0     0]\n",
      " [ 7949  8492 10552 ..., 15862    36     0]\n",
      " [17496     1     1 ...,     0     0     0]]\n",
      "max 17914\n"
     ]
    },
    {
     "name": "stderr",
     "output_type": "stream",
     "text": [
      "\n",
      "\n",
      "\n",
      "\n",
      " 12%|█▏        | 1233/10000 [21:16:39<150:21:27, 61.74s/it]\u001b[A\u001b[A\u001b[A\u001b[A"
     ]
    },
    {
     "name": "stdout",
     "output_type": "stream",
     "text": [
      "predition [[ 7949  7949    36 ...,    36    36    36]\n",
      " [ 7949  8492 10552 ...,     0     0     0]\n",
      " [ 7949  8492 10552 ...,     0     0     0]\n",
      " ..., \n",
      " [ 7949    36     1 ...,     0     0     0]\n",
      " [ 7949    36    36 ...,    36    36     1]\n",
      " [ 7949  8492     0 ...,     0     0     0]]\n",
      "max 17914\n"
     ]
    },
    {
     "name": "stderr",
     "output_type": "stream",
     "text": [
      "\n",
      "\n",
      "\n",
      "\n",
      " 12%|█▏        | 1234/10000 [21:17:41<150:20:45, 61.74s/it]\u001b[A\u001b[A\u001b[A\u001b[A\n",
      "\n",
      "\n",
      "\n",
      " 12%|█▏        | 1235/10000 [21:18:42<150:14:14, 61.71s/it]\u001b[A\u001b[A\u001b[A\u001b[A"
     ]
    },
    {
     "name": "stdout",
     "output_type": "stream",
     "text": [
      "predition [[17496  8492  8492 ...,     0     0     0]\n",
      " [17496     1    36 ...,     0     0     0]\n",
      " [10738    36 17914 ...,     0     0     0]\n",
      " ..., \n",
      " [17914  8492     1 ...,     0     0     0]\n",
      " [10738     1     1 ...,     0     0     0]\n",
      " [10738     1     1 ...,     0     0     0]]\n",
      "max 17914\n"
     ]
    },
    {
     "name": "stderr",
     "output_type": "stream",
     "text": [
      "\n",
      "\n",
      "\n",
      "\n",
      " 12%|█▏        | 1236/10000 [21:19:44<150:21:47, 61.76s/it]\u001b[A\u001b[A\u001b[A\u001b[A\n",
      "\n",
      "\n",
      "\n",
      " 12%|█▏        | 1237/10000 [21:20:46<150:17:35, 61.74s/it]\u001b[A\u001b[A\u001b[A\u001b[A"
     ]
    },
    {
     "name": "stdout",
     "output_type": "stream",
     "text": [
      "predition [[10738  8492 17914 ...,     0     0     0]\n",
      " [17496     1     1 ...,     0     0     0]\n",
      " [ 7949  8492 10552 ...,    36    36    36]\n",
      " ..., \n",
      " [17496    36     1 ...,     0     0     0]\n",
      " [ 7949  8492     0 ...,     0     0     0]\n",
      " [17496     1     0 ...,     0     0     0]]\n",
      "max 17914\n"
     ]
    },
    {
     "name": "stderr",
     "output_type": "stream",
     "text": [
      "\n",
      "\n",
      "\n",
      "\n",
      " 12%|█▏        | 1238/10000 [21:21:48<150:16:56, 61.75s/it]\u001b[A\u001b[A\u001b[A\u001b[A\n",
      "\n",
      "\n",
      "\n",
      " 12%|█▏        | 1239/10000 [21:22:49<150:17:38, 61.76s/it]\u001b[A\u001b[A\u001b[A\u001b[A"
     ]
    },
    {
     "name": "stdout",
     "output_type": "stream",
     "text": [
      "predition [[17496  8492  8492 ...,     0     0     0]\n",
      " [17914 17914 17914 ...,     0     0     0]\n",
      " [ 7949  8492     0 ...,     0     0     0]\n",
      " ..., \n",
      " [17877  8492  8492 ...,     0     0     0]\n",
      " [ 7949  8492 10552 ...,     0     0     0]\n",
      " [ 7949  7949 10552 ...,    36    36     1]]\n",
      "max 17914\n"
     ]
    },
    {
     "name": "stderr",
     "output_type": "stream",
     "text": [
      "\n",
      "\n",
      "\n",
      "\n",
      " 12%|█▏        | 1240/10000 [21:23:51<150:21:08, 61.79s/it]\u001b[A\u001b[A\u001b[A\u001b[A\n",
      "\n",
      "\n",
      "\n",
      " 12%|█▏        | 1241/10000 [21:24:53<150:15:13, 61.76s/it]\u001b[A\u001b[A\u001b[A\u001b[A"
     ]
    },
    {
     "name": "stdout",
     "output_type": "stream",
     "text": [
      "predition [[10738    36  8492 ...,    36    36     0]\n",
      " [ 7949  8492 10552 ...,     0     0     0]\n",
      " [17914 17914 17914 ...,     0     0     0]\n",
      " ..., \n",
      " [ 7949  8492     1 ...,     0     0     0]\n",
      " [ 7949  8492 10552 ...,     0     0     0]\n",
      " [ 7949  8492 10552 ...,    36    36     1]]\n",
      "max 17914\n"
     ]
    },
    {
     "name": "stderr",
     "output_type": "stream",
     "text": [
      "\n",
      "\n",
      "\n",
      "\n",
      " 12%|█▏        | 1242/10000 [21:25:55<150:16:37, 61.77s/it]\u001b[A\u001b[A\u001b[A\u001b[A\n",
      "\n",
      "\n",
      "\n",
      " 12%|█▏        | 1243/10000 [21:26:56<150:05:37, 61.70s/it]\u001b[A\u001b[A\u001b[A\u001b[A"
     ]
    },
    {
     "name": "stdout",
     "output_type": "stream",
     "text": [
      "predition [[10738  8492  8492 ...,     0     0     0]\n",
      " [17496  8492    36 ...,     0     0     0]\n",
      " [ 7949  8492     1 ...,     0     0     0]\n",
      " ..., \n",
      " [ 7949  7949  7949 ...,     0     0     0]\n",
      " [ 7949  8492 10552 ...,     0     0     0]\n",
      " [ 7949    36    36 ...,     0     0     0]]\n",
      "max 17914\n"
     ]
    },
    {
     "name": "stderr",
     "output_type": "stream",
     "text": [
      "\n",
      "\n",
      "\n",
      "\n",
      " 12%|█▏        | 1244/10000 [21:27:58<150:18:27, 61.80s/it]\u001b[A\u001b[A\u001b[A\u001b[A\n",
      "\n",
      "\n",
      "\n",
      " 12%|█▏        | 1245/10000 [21:29:00<150:11:43, 61.76s/it]\u001b[A\u001b[A\u001b[A\u001b[A"
     ]
    },
    {
     "name": "stdout",
     "output_type": "stream",
     "text": [
      "predition [[10738  8492     1 ...,     0     0     0]\n",
      " [17496  8492  8492 ...,     0     0     0]\n",
      " [10738  8492     1 ...,     0     0     0]\n",
      " ..., \n",
      " [10738  8492     1 ...,     0     0     0]\n",
      " [ 7949  8492 10552 ...,     0     0     0]\n",
      " [10738    36     0 ...,     0     0     0]]\n",
      "max 17914\n"
     ]
    },
    {
     "name": "stderr",
     "output_type": "stream",
     "text": [
      "\n",
      "\n",
      "\n",
      "\n",
      " 12%|█▏        | 1246/10000 [21:30:02<150:15:31, 61.79s/it]\u001b[A\u001b[A\u001b[A\u001b[A"
     ]
    },
    {
     "name": "stdout",
     "output_type": "stream",
     "text": [
      "predition [[10738  8492  8492 ...,     0     0     0]\n",
      " [ 7949  8492 10552 ..., 15868 15868    36]\n",
      " [17496  8492    36 ...,     0     0     0]\n",
      " ..., \n",
      " [ 7949  8492    36 ...,     0     0     0]\n",
      " [17461 17914 17914 ...,    36     1     0]\n",
      " [ 7949  7949    36 ..., 16139 16139    36]]\n",
      "max 17914\n"
     ]
    },
    {
     "name": "stderr",
     "output_type": "stream",
     "text": [
      "\n",
      "\n",
      "\n",
      "\n",
      " 12%|█▏        | 1247/10000 [21:31:04<150:15:03, 61.80s/it]\u001b[A\u001b[A\u001b[A\u001b[A\n",
      "\n",
      "\n",
      "\n",
      " 12%|█▏        | 1248/10000 [21:32:05<150:03:39, 61.73s/it]\u001b[A\u001b[A\u001b[A\u001b[A"
     ]
    },
    {
     "name": "stdout",
     "output_type": "stream",
     "text": [
      "predition [[ 7562    36     1 ...,     0     0     0]\n",
      " [17877    36  8492 ..., 17914     0     0]\n",
      " [17496     1 15868 ...,     0     0     0]\n",
      " ..., \n",
      " [ 7949  7949 10552 ...,    36    36    36]\n",
      " [17877    36    36 ...,     0     0     0]\n",
      " [ 7949  8492 10552 ..., 15868 15868   956]]\n",
      "max 17914\n"
     ]
    },
    {
     "name": "stderr",
     "output_type": "stream",
     "text": [
      "\n",
      "\n",
      "\n",
      "\n",
      " 12%|█▏        | 1249/10000 [21:33:07<150:05:44, 61.75s/it]\u001b[A\u001b[A\u001b[A\u001b[A\n",
      "\n",
      "\n",
      "\n",
      " 12%|█▎        | 1250/10000 [21:34:09<150:04:16, 61.74s/it]\u001b[A\u001b[A\u001b[A\u001b[A"
     ]
    },
    {
     "name": "stdout",
     "output_type": "stream",
     "text": [
      "predition [[17496     1     1 ...,     0     0     0]\n",
      " [ 7949   899 10552 ...,     0     0     0]\n",
      " [17496    36     1 ...,     0     0     0]\n",
      " ..., \n",
      " [10738  8492 10552 ...,     1     0     0]\n",
      " [ 7949  8492 10552 ...,    36    36     1]\n",
      " [17395  8492  8492 ...,    36     0     0]]\n",
      "max 17914\n"
     ]
    },
    {
     "name": "stderr",
     "output_type": "stream",
     "text": [
      "\n",
      "\n",
      "\n",
      "\n",
      " 13%|█▎        | 1251/10000 [21:35:11<150:10:21, 61.79s/it]\u001b[A\u001b[A\u001b[A\u001b[A\n",
      "\n",
      "\n",
      "\n",
      " 13%|█▎        | 1252/10000 [21:36:13<150:09:39, 61.79s/it]\u001b[A\u001b[A\u001b[A\u001b[A"
     ]
    },
    {
     "name": "stdout",
     "output_type": "stream",
     "text": [
      "predition [[ 7949     1 17914 ...,     0     0     0]\n",
      " [17914 17914 17914 ...,     0     0     0]\n",
      " [ 7949  8492  8492 ...,    36    36    36]\n",
      " ..., \n",
      " [ 7949     1     1 ...,     0     0     0]\n",
      " [17914  8492  8492 ...,     0     0     0]\n",
      " [ 7949    36     0 ...,    36    36     0]]\n",
      "max 17914\n"
     ]
    },
    {
     "name": "stderr",
     "output_type": "stream",
     "text": [
      "\n",
      "\n",
      "\n",
      "\n",
      " 13%|█▎        | 1253/10000 [21:37:14<150:09:30, 61.80s/it]\u001b[A\u001b[A\u001b[A\u001b[A\n",
      "\n",
      "\n",
      "\n",
      " 13%|█▎        | 1254/10000 [21:38:16<149:56:59, 61.72s/it]\u001b[A\u001b[A\u001b[A\u001b[A"
     ]
    },
    {
     "name": "stdout",
     "output_type": "stream",
     "text": [
      "predition [[ 7949  7949     1 ...,     0     0     0]\n",
      " [17914 17914 17914 ...,    36     1     0]\n",
      " [ 7949     1     1 ...,     0     0     0]\n",
      " ..., \n",
      " [ 7949     1     0 ...,     0     0     0]\n",
      " [ 7949  8492 10552 ...,     0     0     0]\n",
      " [17914  8492  8492 ...,     0     0     0]]\n",
      "max 17914\n"
     ]
    },
    {
     "name": "stderr",
     "output_type": "stream",
     "text": [
      "\n",
      "\n",
      "\n",
      "\n",
      " 13%|█▎        | 1255/10000 [21:39:18<150:06:09, 61.79s/it]\u001b[A\u001b[A\u001b[A\u001b[A\n",
      "\n",
      "\n",
      "\n",
      " 13%|█▎        | 1256/10000 [21:40:20<150:09:31, 61.82s/it]\u001b[A\u001b[A\u001b[A\u001b[A"
     ]
    },
    {
     "name": "stdout",
     "output_type": "stream",
     "text": [
      "predition [[10738  8492     1 ...,     0     0     0]\n",
      " [10738 17914 17914 ...,     0     0     0]\n",
      " [10738  8492 17914 ...,     0     0     0]\n",
      " ..., \n",
      " [17461 17914 10552 ...,     0     0     0]\n",
      " [10738     1     0 ...,     0     0     0]\n",
      " [17914 17914 17914 ...,    36    36    36]]\n",
      "max 17914\n"
     ]
    },
    {
     "name": "stderr",
     "output_type": "stream",
     "text": [
      "\n",
      "\n",
      "\n",
      "\n",
      " 13%|█▎        | 1257/10000 [21:41:22<150:08:28, 61.82s/it]\u001b[A\u001b[A\u001b[A\u001b[A\n",
      "\n",
      "\n",
      "\n",
      " 13%|█▎        | 1258/10000 [21:42:23<150:03:56, 61.80s/it]\u001b[A\u001b[A\u001b[A\u001b[A"
     ]
    },
    {
     "name": "stdout",
     "output_type": "stream",
     "text": [
      "predition [[17914 17914     1 ...,     1     1     0]\n",
      " [10738  8492 10552 ..., 15868  8492    36]\n",
      " [17395  8492 10552 ...,     0     0     0]\n",
      " ..., \n",
      " [17395  1136     0 ...,     0     0     0]\n",
      " [ 7949    36     0 ...,     0     0     0]\n",
      " [10738  8492     1 ...,     0     0     0]]\n",
      "max 17914\n"
     ]
    },
    {
     "name": "stderr",
     "output_type": "stream",
     "text": [
      "\n",
      "\n",
      "\n",
      "\n",
      " 13%|█▎        | 1259/10000 [21:43:25<150:04:43, 61.81s/it]\u001b[A\u001b[A\u001b[A\u001b[A"
     ]
    },
    {
     "name": "stdout",
     "output_type": "stream",
     "text": [
      "predition [[ 7949  8492 10552 ...,     1     0     0]\n",
      " [ 7949     1     0 ...,     0     0     0]\n",
      " [17914  8492  8492 ...,     0     0     0]\n",
      " ..., \n",
      " [17496  8492    36 ...,     0     0     0]\n",
      " [10738  8492  8492 ...,     0     0     0]\n",
      " [17914     1     1 ...,     0     0     0]]\n",
      "max 17914\n"
     ]
    },
    {
     "name": "stderr",
     "output_type": "stream",
     "text": [
      "\n",
      "\n",
      "\n",
      "\n",
      " 13%|█▎        | 1260/10000 [21:44:27<150:04:47, 61.82s/it]\u001b[A\u001b[A\u001b[A\u001b[A\n",
      "\n",
      "\n",
      "\n",
      " 13%|█▎        | 1261/10000 [21:45:29<149:59:59, 61.79s/it]\u001b[A\u001b[A\u001b[A\u001b[A"
     ]
    },
    {
     "name": "stdout",
     "output_type": "stream",
     "text": [
      "predition [[ 7949  8492 17914 ...,     0     0     0]\n",
      " [ 7949  8492     0 ...,     0     0     0]\n",
      " [17496     1     0 ...,     0     0     0]\n",
      " ..., \n",
      " [10738  8492    36 ...,     0     0     0]\n",
      " [17461  8492  8492 ...,     0     0     0]\n",
      " [17496     1     0 ...,    36     1     0]]\n",
      "max 17914\n"
     ]
    },
    {
     "name": "stderr",
     "output_type": "stream",
     "text": [
      "\n",
      "\n",
      "\n",
      "\n",
      " 13%|█▎        | 1262/10000 [21:46:31<150:06:07, 61.84s/it]\u001b[A\u001b[A\u001b[A\u001b[A\n",
      "\n",
      "\n",
      "\n",
      " 13%|█▎        | 1263/10000 [21:47:32<149:57:24, 61.79s/it]\u001b[A\u001b[A\u001b[A\u001b[A"
     ]
    },
    {
     "name": "stdout",
     "output_type": "stream",
     "text": [
      "predition [[ 7949  8492  8492 ..., 16139 15868 15868]\n",
      " [ 7949  8492 10552 ...,     0     0     0]\n",
      " [17496  8492     0 ...,     0     0     0]\n",
      " ..., \n",
      " [ 7949     1     1 ...,     0     0     0]\n",
      " [ 7949  8492 17914 ...,     0     0     0]\n",
      " [10738    36 17914 ...,     0     0     0]]\n",
      "max 17914\n"
     ]
    },
    {
     "name": "stderr",
     "output_type": "stream",
     "text": [
      "\n",
      "\n",
      "\n",
      "\n",
      " 13%|█▎        | 1264/10000 [21:48:34<149:55:48, 61.78s/it]\u001b[A\u001b[A\u001b[A\u001b[A\n",
      "\n",
      "\n",
      "\n",
      " 13%|█▎        | 1265/10000 [21:49:36<149:49:12, 61.75s/it]\u001b[A\u001b[A\u001b[A\u001b[A"
     ]
    },
    {
     "name": "stdout",
     "output_type": "stream",
     "text": [
      "predition [[17496  8492     0 ...,     0     0     0]\n",
      " [10738    36     0 ...,     0     0     0]\n",
      " [ 7949     1     0 ...,     0     0     0]\n",
      " ..., \n",
      " [ 7949    36    36 ...,     0     0     0]\n",
      " [ 7949  8492  8492 ..., 16139    36    36]\n",
      " [ 7949    36    36 ...,     0     0     0]]\n",
      "max 17914\n"
     ]
    },
    {
     "name": "stderr",
     "output_type": "stream",
     "text": [
      "\n",
      "\n",
      "\n",
      "\n",
      " 13%|█▎        | 1266/10000 [21:50:38<149:55:03, 61.79s/it]\u001b[A\u001b[A\u001b[A\u001b[A\n",
      "\n",
      "\n",
      "\n",
      " 13%|█▎        | 1267/10000 [21:51:39<149:51:19, 61.77s/it]\u001b[A\u001b[A\u001b[A\u001b[A"
     ]
    },
    {
     "name": "stdout",
     "output_type": "stream",
     "text": [
      "predition [[ 7949  8492 10552 ...,    36    36     1]\n",
      " [ 7949  7949 10552 ...,     0     0     0]\n",
      " [ 7949    36     1 ...,     0     0     0]\n",
      " ..., \n",
      " [17914 17914     0 ...,     0     0     0]\n",
      " [10738  8492 17914 ...,     0     0     0]\n",
      " [ 7949    36     0 ...,     0     0     0]]\n",
      "max 17914\n"
     ]
    },
    {
     "name": "stderr",
     "output_type": "stream",
     "text": [
      "\n",
      "\n",
      "\n",
      "\n",
      " 13%|█▎        | 1268/10000 [21:52:41<149:55:45, 61.81s/it]\u001b[A\u001b[A\u001b[A\u001b[A\n",
      "\n",
      "\n",
      "\n",
      " 13%|█▎        | 1269/10000 [21:53:43<149:53:47, 61.81s/it]\u001b[A\u001b[A\u001b[A\u001b[A"
     ]
    },
    {
     "name": "stdout",
     "output_type": "stream",
     "text": [
      "predition [[ 7949  8492 10552 ...,     0     0     0]\n",
      " [17496     1     0 ...,     0     0     0]\n",
      " [ 7949  8492  8492 ...,    36    36     1]\n",
      " ..., \n",
      " [10738  8492    36 ..., 16139 15868 15868]\n",
      " [ 7949  7949    36 ...,    36     1     0]\n",
      " [10738  8492 10552 ...,     0     0     0]]\n",
      "max 17914\n"
     ]
    },
    {
     "name": "stderr",
     "output_type": "stream",
     "text": [
      "\n",
      "\n",
      "\n",
      "\n",
      " 13%|█▎        | 1270/10000 [21:54:45<149:57:18, 61.84s/it]\u001b[A\u001b[A\u001b[A\u001b[A\n",
      "\n",
      "\n",
      "\n",
      " 13%|█▎        | 1271/10000 [21:55:47<149:46:44, 61.77s/it]\u001b[A\u001b[A\u001b[A\u001b[A"
     ]
    },
    {
     "name": "stdout",
     "output_type": "stream",
     "text": [
      "predition [[17395    36     0 ...,     0     0     0]\n",
      " [   36     1     0 ...,     0     0     0]\n",
      " [ 7949  8492  8492 ...,     0     0     0]\n",
      " ..., \n",
      " [17461  8492  8492 ...,     0     0     0]\n",
      " [10738  8492     1 ...,     0     0     0]\n",
      " [ 7949    36    36 ...,    36    36     1]]\n",
      "max 17914\n"
     ]
    },
    {
     "name": "stderr",
     "output_type": "stream",
     "text": [
      "\n",
      "\n",
      "\n",
      "\n",
      " 13%|█▎        | 1272/10000 [21:56:48<149:47:50, 61.79s/it]\u001b[A\u001b[A\u001b[A\u001b[A\n",
      "\n",
      "\n",
      "\n",
      " 13%|█▎        | 1273/10000 [21:57:50<149:45:52, 61.78s/it]"
     ]
    },
    {
     "name": "stdout",
     "output_type": "stream",
     "text": [
      "predition [[10738     1     1 ...,     0     0     0]\n",
      " [10738    36    36 ...,     0     0     0]\n",
      " [ 7949  8492     0 ...,     0     0     0]\n",
      " ..., \n",
      " [10738    36    36 ...,     0     0     0]\n",
      " [ 7949    36     1 ...,     0     0     0]\n",
      " [ 7949  8492 10552 ...,     0     0     0]]\n",
      "max 17914\n"
     ]
    },
    {
     "name": "stderr",
     "output_type": "stream",
     "text": [
      "\u001b[A\u001b[A\u001b[A\u001b[A\n",
      "\n",
      "\n",
      "\n",
      " 13%|█▎        | 1274/10000 [21:58:52<149:43:13, 61.77s/it]\u001b[A\u001b[A\u001b[A\u001b[A"
     ]
    },
    {
     "name": "stdout",
     "output_type": "stream",
     "text": [
      "predition [[ 7949  8492 15868 ...,     0     0     0]\n",
      " [10738     1     0 ...,    36     0     0]\n",
      " [17914 17914 10552 ...,     0     0     0]\n",
      " ..., \n",
      " [ 7949  8492 10552 ...,     0     0     0]\n",
      " [10738    36    36 ...,     0     0     0]\n",
      " [17914 17914 17914 ...,     0     0     0]]\n",
      "max 17914\n"
     ]
    },
    {
     "name": "stderr",
     "output_type": "stream",
     "text": [
      "\n",
      "\n",
      "\n",
      "\n",
      " 13%|█▎        | 1275/10000 [21:59:54<149:49:30, 61.82s/it]\u001b[A\u001b[A\u001b[A\u001b[A\n",
      "\n",
      "\n",
      "\n",
      " 13%|█▎        | 1276/10000 [22:00:56<149:41:37, 61.77s/it]\u001b[A\u001b[A\u001b[A\u001b[A"
     ]
    },
    {
     "name": "stdout",
     "output_type": "stream",
     "text": [
      "predition [[ 7949  8492  8492 ...,    36    36     1]\n",
      " [10738  8492    36 ...,     0     0     0]\n",
      " [ 7949  8492  8492 ...,     0     0     0]\n",
      " ..., \n",
      " [ 7949  8492     0 ...,     0     0     0]\n",
      " [17395  8492 10552 ..., 16139     0     0]\n",
      " [17461  8492 17914 ...,    36     1     1]]\n",
      "max 17914\n"
     ]
    },
    {
     "name": "stderr",
     "output_type": "stream",
     "text": [
      "\n",
      "\n",
      "\n",
      "\n",
      " 13%|█▎        | 1277/10000 [22:01:57<149:49:15, 61.83s/it]\u001b[A\u001b[A\u001b[A\u001b[A\n",
      "\n",
      "\n",
      "\n",
      " 13%|█▎        | 1278/10000 [22:02:59<149:46:22, 61.82s/it]\u001b[A\u001b[A\u001b[A\u001b[A"
     ]
    },
    {
     "name": "stdout",
     "output_type": "stream",
     "text": [
      "predition [[10738  8492 17914 ...,     0     0     0]\n",
      " [10738  8492  8492 ...,     0     0     0]\n",
      " [10738    36  8492 ...,     0     0     0]\n",
      " ..., \n",
      " [ 7949  8492  8492 ...,     0     0     0]\n",
      " [ 7949  8492     1 ...,     0     0     0]\n",
      " [ 7949  7949 10552 ...,    36    36     1]]\n",
      "max 17914\n"
     ]
    },
    {
     "name": "stderr",
     "output_type": "stream",
     "text": [
      "\n",
      "\n",
      "\n",
      "\n",
      " 13%|█▎        | 1279/10000 [22:04:01<149:49:59, 61.85s/it]\u001b[A\u001b[A\u001b[A\u001b[A\n",
      "\n",
      "\n",
      "\n",
      " 13%|█▎        | 1280/10000 [22:05:03<149:40:22, 61.79s/it]\u001b[A\u001b[A\u001b[A\u001b[A"
     ]
    },
    {
     "name": "stdout",
     "output_type": "stream",
     "text": [
      "predition [[10738  8492  8492 ...,     1     0     0]\n",
      " [10738    36    36 ...,     0     0     0]\n",
      " [10738  8492  8492 ...,     0     0     0]\n",
      " ..., \n",
      " [ 7949  8492     1 ...,     0     0     0]\n",
      " [17914 17914 17914 ...,     1     0     0]\n",
      " [10738  7949  7949 ...,     0     0     0]]\n",
      "max 17914\n"
     ]
    },
    {
     "name": "stderr",
     "output_type": "stream",
     "text": [
      "\n",
      "\n",
      "\n",
      "\n",
      " 13%|█▎        | 1281/10000 [22:06:05<149:40:58, 61.80s/it]\u001b[A\u001b[A\u001b[A\u001b[A\n",
      "\n",
      "\n",
      "\n",
      " 13%|█▎        | 1282/10000 [22:07:06<149:34:46, 61.77s/it]\u001b[A\u001b[A\u001b[A\u001b[A"
     ]
    },
    {
     "name": "stdout",
     "output_type": "stream",
     "text": [
      "predition [[ 7949    36  7949 ...,     0     0     0]\n",
      " [ 7949  8492     1 ...,     0     0     0]\n",
      " [ 7949  8492 10552 ...,     0     0     0]\n",
      " ..., \n",
      " [17914     1     1 ...,     0     0     0]\n",
      " [ 7949  8492 10552 ...,     0     0     0]\n",
      " [ 7949  7949    36 ...,     0     0     0]]\n",
      "max 17914\n"
     ]
    },
    {
     "name": "stderr",
     "output_type": "stream",
     "text": [
      "\n",
      "\n",
      "\n",
      "\n",
      " 13%|█▎        | 1283/10000 [22:08:08<149:39:42, 61.81s/it]\u001b[A\u001b[A\u001b[A\u001b[A\n",
      "\n",
      "\n",
      "\n",
      " 13%|█▎        | 1284/10000 [22:09:10<149:34:14, 61.78s/it]\u001b[A\u001b[A\u001b[A\u001b[A"
     ]
    },
    {
     "name": "stdout",
     "output_type": "stream",
     "text": [
      "predition [[ 7949    36     1 ...,     0     0     0]\n",
      " [17496  8492  8492 ...,     0     0     0]\n",
      " [ 7949  8492  8492 ...,     0     0     0]\n",
      " ..., \n",
      " [10738 17914    36 ...,     0     0     0]\n",
      " [ 7949  8492 10552 ...,     1     0     0]\n",
      " [10738  8492     0 ...,     0     0     0]]\n",
      "max 17914\n"
     ]
    },
    {
     "name": "stderr",
     "output_type": "stream",
     "text": [
      "\n",
      "\n",
      "\n",
      "\n",
      " 13%|█▎        | 1285/10000 [22:10:12<149:38:02, 61.81s/it]\u001b[A\u001b[A\u001b[A\u001b[A\n",
      "\n",
      "\n",
      "\n",
      " 13%|█▎        | 1286/10000 [22:11:14<149:32:01, 61.78s/it]\u001b[A\u001b[A\u001b[A\u001b[A"
     ]
    },
    {
     "name": "stdout",
     "output_type": "stream",
     "text": [
      "predition [[17877     1    36 ..., 16139    36    36]\n",
      " [ 7949  8492 10552 ...,     1     0     0]\n",
      " [10738    36    36 ...,     0     0     0]\n",
      " ..., \n",
      " [17914  8492 17914 ...,     0     0     0]\n",
      " [ 7949  8492  8492 ...,     0     0     0]\n",
      " [17496     1     0 ...,     0     0     0]]\n",
      "max 17914\n"
     ]
    },
    {
     "name": "stderr",
     "output_type": "stream",
     "text": [
      "\n",
      "\n",
      "\n",
      "\n",
      " 13%|█▎        | 1287/10000 [22:12:16<149:37:44, 61.82s/it]\u001b[A\u001b[A\u001b[A\u001b[A"
     ]
    },
    {
     "name": "stdout",
     "output_type": "stream",
     "text": [
      "predition [[17395  8492 10552 ..., 15868 15868    36]\n",
      " [ 7949  8492 10552 ...,    36    36    36]\n",
      " [   36     1     0 ...,     0     0     0]\n",
      " ..., \n",
      " [10738    36    36 ...,     1     0     0]\n",
      " [ 7949  7949 10552 ...,     0     0     0]\n",
      " [10738     1     0 ...,     0     0     0]]\n",
      "max 17914\n"
     ]
    },
    {
     "name": "stderr",
     "output_type": "stream",
     "text": [
      "\n",
      "\n",
      "\n",
      "\n",
      " 13%|█▎        | 1288/10000 [22:13:17<149:40:16, 61.85s/it]\u001b[A\u001b[A\u001b[A\u001b[A\n",
      "\n",
      "\n",
      "\n",
      " 13%|█▎        | 1289/10000 [22:14:19<149:25:54, 61.76s/it]\u001b[A\u001b[A\u001b[A\u001b[A"
     ]
    },
    {
     "name": "stdout",
     "output_type": "stream",
     "text": [
      "predition [[ 7949  8492 10552 ...,     1     0     0]\n",
      " [17914  8492 17914 ...,     0     0     0]\n",
      " [ 7949  8492 10552 ...,     0     0     0]\n",
      " ..., \n",
      " [ 7949  8492  8492 ...,     0     0     0]\n",
      " [ 7949    36    36 ...,     0     0     0]\n",
      " [ 7949     1     1 ...,     0     0     0]]\n",
      "max 17914\n"
     ]
    },
    {
     "name": "stderr",
     "output_type": "stream",
     "text": [
      "\n",
      "\n",
      "\n",
      "\n",
      " 13%|█▎        | 1290/10000 [22:15:21<149:36:32, 61.84s/it]\u001b[A\u001b[A\u001b[A\u001b[A\n",
      "\n",
      "\n",
      "\n",
      " 13%|█▎        | 1291/10000 [22:16:23<149:25:24, 61.77s/it]\u001b[A\u001b[A\u001b[A\u001b[A"
     ]
    },
    {
     "name": "stdout",
     "output_type": "stream",
     "text": [
      "predition [[17496     1    36 ...,     1     0     0]\n",
      " [17496  8492  8492 ...,     0     0     0]\n",
      " [ 7949  8492  8492 ...,   956    36     0]\n",
      " ..., \n",
      " [10738  8492     0 ...,     0     0     0]\n",
      " [ 7949  8492     1 ...,     0     0     0]\n",
      " [ 7949  7949 10552 ...,    36     1     0]]\n",
      "max 17914\n"
     ]
    },
    {
     "name": "stderr",
     "output_type": "stream",
     "text": [
      "\n",
      "\n",
      "\n",
      "\n",
      " 13%|█▎        | 1292/10000 [22:17:24<149:27:08, 61.79s/it]\u001b[A\u001b[A\u001b[A\u001b[A\n",
      "\n",
      "\n",
      "\n",
      " 13%|█▎        | 1293/10000 [22:18:26<149:22:19, 61.76s/it]\u001b[A\u001b[A\u001b[A\u001b[A"
     ]
    },
    {
     "name": "stdout",
     "output_type": "stream",
     "text": [
      "predition [[17877     1     0 ...,     0     0     0]\n",
      " [ 7949     1     0 ...,     0     0     0]\n",
      " [ 7949  8492    36 ...,     0     0     0]\n",
      " ..., \n",
      " [ 7949  8492  8492 ..., 15868    36    36]\n",
      " [17877  8492    36 ...,     0     0     0]\n",
      " [ 7949  8492    36 ...,     0     0     0]]\n",
      "max 17914\n"
     ]
    },
    {
     "name": "stderr",
     "output_type": "stream",
     "text": [
      "\n",
      "\n",
      "\n",
      "\n",
      " 13%|█▎        | 1294/10000 [22:19:28<149:29:59, 61.82s/it]\u001b[A\u001b[A\u001b[A\u001b[A\n",
      "\n",
      "\n",
      "\n",
      " 13%|█▎        | 1295/10000 [22:20:30<149:22:23, 61.77s/it]\u001b[A\u001b[A\u001b[A\u001b[A"
     ]
    },
    {
     "name": "stdout",
     "output_type": "stream",
     "text": [
      "predition [[17877    36     1 ...,     0     0     0]\n",
      " [ 7949    36     1 ...,     0     0     0]\n",
      " [ 7949     1 17914 ..., 16139    36    36]\n",
      " ..., \n",
      " [ 7949  8492     1 ...,     0     0     0]\n",
      " [10738    36  8492 ...,    36     1     1]\n",
      " [ 7949  8492     1 ...,    36    36    36]]\n",
      "max 17914\n"
     ]
    },
    {
     "name": "stderr",
     "output_type": "stream",
     "text": [
      "\n",
      "\n",
      "\n",
      "\n",
      " 13%|█▎        | 1296/10000 [22:21:32<149:31:03, 61.84s/it]\u001b[A\u001b[A\u001b[A\u001b[A\n",
      "\n",
      "\n",
      "\n",
      " 13%|█▎        | 1297/10000 [22:22:33<149:22:08, 61.79s/it]\u001b[A\u001b[A\u001b[A\u001b[A"
     ]
    },
    {
     "name": "stdout",
     "output_type": "stream",
     "text": [
      "predition [[ 7949  7949 10552 ...,  7949  7949    36]\n",
      " [17496     1 15868 ...,     0     0     0]\n",
      " [17914 17914     1 ...,     0     0     0]\n",
      " ..., \n",
      " [ 7949  8492  8492 ...,     0     0     0]\n",
      " [ 7949    36     0 ...,     0     0     0]\n",
      " [ 7949  7949     1 ...,     0     0     0]]\n",
      "max 17914\n"
     ]
    },
    {
     "name": "stderr",
     "output_type": "stream",
     "text": [
      "\n",
      "\n",
      "\n",
      "\n",
      " 13%|█▎        | 1298/10000 [22:23:35<149:21:00, 61.79s/it]\u001b[A\u001b[A\u001b[A\u001b[A\n",
      "\n",
      "\n",
      "\n",
      " 13%|█▎        | 1299/10000 [22:24:37<149:10:49, 61.72s/it]\u001b[A\u001b[A\u001b[A\u001b[A"
     ]
    },
    {
     "name": "stdout",
     "output_type": "stream",
     "text": [
      "predition [[ 7949  7949  7949 ..., 16139 15868    36]\n",
      " [10738  8492  8492 ...,     0     0     0]\n",
      " [10738    36 17914 ..., 17914    36     0]\n",
      " ..., \n",
      " [ 7949  7949 10552 ...,     0     0     0]\n",
      " [10738    36     1 ...,     0     0     0]\n",
      " [17496  8492    36 ...,    36     0     0]]\n",
      "max 17914\n"
     ]
    },
    {
     "name": "stderr",
     "output_type": "stream",
     "text": [
      "\n",
      "\n",
      "\n",
      "\n",
      " 13%|█▎        | 1300/10000 [22:25:39<149:12:17, 61.74s/it]\u001b[A\u001b[A\u001b[A\u001b[A"
     ]
    },
    {
     "name": "stdout",
     "output_type": "stream",
     "text": [
      "predition [[10738     1     0 ...,     0     0     0]\n",
      " [ 7949   899 10552 ...,     0     0     0]\n",
      " [ 7949  8492  8492 ...,    36     0     0]\n",
      " ..., \n",
      " [   36     1     0 ...,     0     0     0]\n",
      " [ 7949 17914 10552 ...,     0     0     0]\n",
      " [ 7949  8492     1 ...,     0     0     0]]\n",
      "max 17914\n"
     ]
    },
    {
     "name": "stderr",
     "output_type": "stream",
     "text": [
      "\n",
      "\n",
      "\n",
      "\n",
      " 13%|█▎        | 1301/10000 [22:26:41<149:24:45, 61.83s/it]\u001b[A\u001b[A\u001b[A\u001b[A\n",
      "\n",
      "\n",
      "\n",
      " 13%|█▎        | 1302/10000 [22:27:42<149:16:44, 61.78s/it]\u001b[A\u001b[A\u001b[A\u001b[A"
     ]
    },
    {
     "name": "stdout",
     "output_type": "stream",
     "text": [
      "predition [[ 7949   899 10552 ...,     0     0     0]\n",
      " [ 7949  7949  7949 ...,     0     0     0]\n",
      " [ 7949  7949  7949 ...,     0     0     0]\n",
      " ..., \n",
      " [17395  8492  8492 ...,    36     1     0]\n",
      " [10738    36    36 ...,    36     1    36]\n",
      " [10738  8492  8492 ...,    36     0     0]]\n",
      "max 17914\n"
     ]
    },
    {
     "name": "stderr",
     "output_type": "stream",
     "text": [
      "\n",
      "\n",
      "\n",
      "\n",
      " 13%|█▎        | 1303/10000 [22:28:44<149:14:31, 61.78s/it]\u001b[A\u001b[A\u001b[A\u001b[A\n",
      "\n",
      "\n",
      "\n",
      " 13%|█▎        | 1304/10000 [22:29:46<149:08:39, 61.74s/it]\u001b[A\u001b[A\u001b[A\u001b[A"
     ]
    },
    {
     "name": "stdout",
     "output_type": "stream",
     "text": [
      "predition [[10738  8492  8492 ...,    36    36    36]\n",
      " [ 7949  8492     1 ...,     0     0     0]\n",
      " [17914 17914 17914 ...,     0     0     0]\n",
      " ..., \n",
      " [ 7949  8492 10552 ...,     0     0     0]\n",
      " [ 7949     1     0 ...,     0     0     0]\n",
      " [ 7949  8492 10552 ...,     0     0     0]]\n",
      "max 17914\n"
     ]
    },
    {
     "name": "stderr",
     "output_type": "stream",
     "text": [
      "\n",
      "\n",
      "\n",
      "\n",
      " 13%|█▎        | 1305/10000 [22:30:48<149:14:45, 61.79s/it]\u001b[A\u001b[A\u001b[A\u001b[A\n",
      "\n",
      "\n",
      "\n",
      " 13%|█▎        | 1306/10000 [22:31:49<149:04:58, 61.73s/it]\u001b[A\u001b[A\u001b[A\u001b[A"
     ]
    },
    {
     "name": "stdout",
     "output_type": "stream",
     "text": [
      "predition [[17496     1     1 ...,     0     0     0]\n",
      " [ 7949  8492    36 ...,     0     0     0]\n",
      " [ 7949  8492 10552 ...,    36    36     1]\n",
      " ..., \n",
      " [ 7949  8492 10552 ...,  7949 16139    36]\n",
      " [10738     1    36 ...,     0     0     0]\n",
      " [17496     1     0 ...,     0     0     0]]\n",
      "max 17914\n"
     ]
    },
    {
     "name": "stderr",
     "output_type": "stream",
     "text": [
      "\n",
      "\n",
      "\n",
      "\n",
      " 13%|█▎        | 1307/10000 [22:32:51<149:09:30, 61.77s/it]\u001b[A\u001b[A\u001b[A\u001b[A\n",
      "\n",
      "\n",
      "\n",
      " 13%|█▎        | 1308/10000 [22:33:53<148:59:33, 61.71s/it]\u001b[A\u001b[A\u001b[A\u001b[A"
     ]
    },
    {
     "name": "stdout",
     "output_type": "stream",
     "text": [
      "predition [[ 7949  8492 10552 ...,     0     0     0]\n",
      " [ 7949  8492     1 ...,     0     0     0]\n",
      " [ 7949 17914 10552 ...,     0     0     0]\n",
      " ..., \n",
      " [ 7949  8492 10552 ...,     0     0     0]\n",
      " [ 7949  7949 10552 ...,    36     1     0]\n",
      " [10738  8492 15868 ...,     0     0     0]]\n",
      "max 17914\n"
     ]
    },
    {
     "name": "stderr",
     "output_type": "stream",
     "text": [
      "\n",
      "\n",
      "\n",
      "\n",
      " 13%|█▎        | 1309/10000 [22:34:54<149:02:31, 61.74s/it]\u001b[A\u001b[A\u001b[A\u001b[A\n",
      "\n",
      "\n",
      "\n",
      " 13%|█▎        | 1310/10000 [22:35:56<149:03:51, 61.75s/it]\u001b[A\u001b[A\u001b[A\u001b[A"
     ]
    },
    {
     "name": "stdout",
     "output_type": "stream",
     "text": [
      "predition [[10738    36  8492 ...,     0     0     0]\n",
      " [10738  8492  8492 ...,     0     0     0]\n",
      " [ 7949  8492     1 ...,     0     0     0]\n",
      " ..., \n",
      " [10738  8492 17914 ...,     0     0     0]\n",
      " [17496     1    36 ...,     0     0     0]\n",
      " [ 7949  8492 17914 ...,     0     0     0]]\n",
      "max 17914\n"
     ]
    },
    {
     "name": "stderr",
     "output_type": "stream",
     "text": [
      "\n",
      "\n",
      "\n",
      "\n",
      " 13%|█▎        | 1311/10000 [22:36:58<149:08:09, 61.79s/it]\u001b[A\u001b[A\u001b[A\u001b[A\n",
      "\n",
      "\n",
      "\n",
      " 13%|█▎        | 1312/10000 [22:38:00<149:02:13, 61.76s/it]\u001b[A\u001b[A\u001b[A\u001b[A"
     ]
    },
    {
     "name": "stdout",
     "output_type": "stream",
     "text": [
      "predition [[17914  8492 17914 ...,     0     0     0]\n",
      " [10472     1     1 ...,     0     0     0]\n",
      " [ 7949    36     1 ...,     0     0     0]\n",
      " ..., \n",
      " [10738    36     1 ...,     0     0     0]\n",
      " [ 7949  7949 17914 ...,    36    36     1]\n",
      " [ 7949  8492  8492 ...,    36    36    36]]\n",
      "max 17914\n"
     ]
    },
    {
     "name": "stderr",
     "output_type": "stream",
     "text": [
      "\n",
      "\n",
      "\n",
      "\n",
      " 13%|█▎        | 1313/10000 [22:39:02<149:05:32, 61.79s/it]\u001b[A\u001b[A\u001b[A\u001b[A"
     ]
    },
    {
     "name": "stdout",
     "output_type": "stream",
     "text": [
      "predition [[ 7949    36 17914 ...,     0     0     0]\n",
      " [17496     1  8492 ...,     0     0     0]\n",
      " [ 7949  8492 10552 ..., 17914  8492    36]\n",
      " ..., \n",
      " [ 7949  8492  8492 ...,  7949  7949     0]\n",
      " [ 7949  8492  8492 ...,    36     0     0]\n",
      " [17461 17914 10552 ...,     0     0     0]]\n",
      "max 17914\n"
     ]
    },
    {
     "name": "stderr",
     "output_type": "stream",
     "text": [
      "\n",
      "\n",
      "\n",
      "\n",
      " 13%|█▎        | 1314/10000 [22:40:03<149:07:00, 61.80s/it]\u001b[A\u001b[A\u001b[A\u001b[A\n",
      "\n",
      "\n",
      "\n",
      " 13%|█▎        | 1315/10000 [22:41:05<148:59:13, 61.76s/it]\u001b[A\u001b[A\u001b[A\u001b[A"
     ]
    },
    {
     "name": "stdout",
     "output_type": "stream",
     "text": [
      "predition [[ 7949  8492 10552 ...,  8492  8492    36]\n",
      " [ 7949  8492 10552 ...,     0     0     0]\n",
      " [ 7949  8492 10552 ...,     0     0     0]\n",
      " ..., \n",
      " [ 7949  8492 10552 ...,     0     0     0]\n",
      " [ 7949    36    36 ...,     0     0     0]\n",
      " [10738  8492  8492 ...,     0     0     0]]\n",
      "max 17914\n"
     ]
    },
    {
     "name": "stderr",
     "output_type": "stream",
     "text": [
      "\n",
      "\n",
      "\n",
      "\n",
      " 13%|█▎        | 1316/10000 [22:42:07<148:58:26, 61.76s/it]\u001b[A\u001b[A\u001b[A\u001b[A\n",
      "\n",
      "\n",
      "\n",
      " 13%|█▎        | 1317/10000 [22:43:09<148:59:04, 61.77s/it]\u001b[A\u001b[A\u001b[A\u001b[A"
     ]
    },
    {
     "name": "stdout",
     "output_type": "stream",
     "text": [
      "predition [[10738    36     1 ...,     0     0     0]\n",
      " [ 7949  8492  8492 ...,     0     0     0]\n",
      " [ 7949  8492     1 ...,     0     0     0]\n",
      " ..., \n",
      " [17877     1     1 ...,     0     0     0]\n",
      " [17496     1     0 ...,     0     0     0]\n",
      " [10738    36     1 ...,     0     0     0]]\n",
      "max 17914\n"
     ]
    },
    {
     "name": "stderr",
     "output_type": "stream",
     "text": [
      "\n",
      "\n",
      "\n",
      "\n",
      " 13%|█▎        | 1318/10000 [22:44:10<148:56:54, 61.76s/it]\u001b[A\u001b[A\u001b[A\u001b[A\n",
      "\n",
      "\n",
      "\n",
      " 13%|█▎        | 1319/10000 [22:45:12<148:49:30, 61.72s/it]\u001b[A\u001b[A\u001b[A\u001b[A"
     ]
    },
    {
     "name": "stdout",
     "output_type": "stream",
     "text": [
      "predition [[ 7949    36    36 ...,     0     0     0]\n",
      " [17914    36     1 ...,     0     0     0]\n",
      " [ 7949  8492  8492 ...,    36    36    36]\n",
      " ..., \n",
      " [10738     1 17914 ...,     0     0     0]\n",
      " [17496     1     0 ...,     0     0     0]\n",
      " [ 7949  8492 17914 ...,     0     0     0]]\n",
      "max 17914\n"
     ]
    },
    {
     "name": "stderr",
     "output_type": "stream",
     "text": [
      "\n",
      "\n",
      "\n",
      "\n",
      " 13%|█▎        | 1320/10000 [22:46:14<148:53:08, 61.75s/it]\u001b[A\u001b[A\u001b[A\u001b[A\n",
      "\n",
      "\n",
      "\n",
      " 13%|█▎        | 1321/10000 [22:47:15<148:45:38, 61.71s/it]\u001b[A\u001b[A\u001b[A\u001b[A"
     ]
    },
    {
     "name": "stdout",
     "output_type": "stream",
     "text": [
      "predition [[10738  8492  8492 ...,     0     0     0]\n",
      " [10738    36     1 ...,     0     0     0]\n",
      " [ 7949  8492     0 ...,     0     0     0]\n",
      " ..., \n",
      " [10738    36     1 ...,     0     0     0]\n",
      " [ 7949     1     0 ...,     0     0     0]\n",
      " [17496     1     0 ...,     0     0     0]]\n",
      "max 17914\n"
     ]
    },
    {
     "name": "stderr",
     "output_type": "stream",
     "text": [
      "\n",
      "\n",
      "\n",
      "\n",
      " 13%|█▎        | 1322/10000 [22:48:17<148:51:06, 61.75s/it]\u001b[A\u001b[A\u001b[A\u001b[A\n",
      "\n",
      "\n",
      "\n",
      " 13%|█▎        | 1323/10000 [22:49:19<148:50:33, 61.75s/it]\u001b[A\u001b[A\u001b[A\u001b[A"
     ]
    },
    {
     "name": "stdout",
     "output_type": "stream",
     "text": [
      "predition [[ 7949  8492     0 ...,     0     0     0]\n",
      " [ 7949  8492     0 ...,     0     0     0]\n",
      " [ 7949    36     1 ...,     0     0     0]\n",
      " ..., \n",
      " [17914 17914 17914 ...,     0     0     0]\n",
      " [ 7949  8492  8492 ...,     0     0     0]\n",
      " [ 7949  8492     1 ...,     0     0     0]]\n",
      "max 17914\n"
     ]
    },
    {
     "name": "stderr",
     "output_type": "stream",
     "text": [
      "\n",
      "\n",
      "\n",
      "\n",
      " 13%|█▎        | 1324/10000 [22:50:21<148:52:57, 61.78s/it]\u001b[A\u001b[A\u001b[A\u001b[A\n",
      "\n",
      "\n",
      "\n",
      " 13%|█▎        | 1325/10000 [22:51:23<148:46:09, 61.74s/it]\u001b[A\u001b[A\u001b[A\u001b[A"
     ]
    },
    {
     "name": "stdout",
     "output_type": "stream",
     "text": [
      "predition [[ 7949  8492 10552 ...,     0     0     0]\n",
      " [ 7949  8492     1 ...,     0     0     0]\n",
      " [ 7949  8492 10552 ...,     0     0     0]\n",
      " ..., \n",
      " [ 7949  8492 10552 ..., 15868 15868 15868]\n",
      " [17914 17914 17914 ..., 15868    36    36]\n",
      " [10738    36     1 ...,     0     0     0]]\n",
      "max 17914\n"
     ]
    },
    {
     "name": "stderr",
     "output_type": "stream",
     "text": [
      "\n",
      "\n",
      "\n",
      "\n",
      " 13%|█▎        | 1326/10000 [22:52:24<148:46:33, 61.75s/it]\u001b[A\u001b[A\u001b[A\u001b[A\n",
      "\n",
      "\n",
      "\n",
      " 13%|█▎        | 1327/10000 [22:53:26<148:42:00, 61.72s/it]\u001b[A\u001b[A\u001b[A\u001b[A"
     ]
    },
    {
     "name": "stdout",
     "output_type": "stream",
     "text": [
      "predition [[10738  7949 17914 ...,     0     0     0]\n",
      " [17877  8492  8492 ...,     0     0     0]\n",
      " [ 7949   899     0 ...,     0     0     0]\n",
      " ..., \n",
      " [ 7949 17914 10552 ...,     0     0     0]\n",
      " [ 7949  8492 10552 ...,     0     0     0]\n",
      " [ 7949  8492     1 ...,     0     0     0]]\n",
      "max 17914\n"
     ]
    },
    {
     "name": "stderr",
     "output_type": "stream",
     "text": [
      "\n",
      "\n",
      "\n",
      "\n",
      " 13%|█▎        | 1328/10000 [22:54:28<148:40:42, 61.72s/it]\u001b[A\u001b[A\u001b[A\u001b[A"
     ]
    },
    {
     "name": "stdout",
     "output_type": "stream",
     "text": [
      "predition [[ 7949    36     1 ...,     0     0     0]\n",
      " [17914  8492     1 ...,     0     0     0]\n",
      " [17496  8492     1 ...,     0     0     0]\n",
      " ..., \n",
      " [ 7949 17914 17914 ...,     0     0     0]\n",
      " [10738  8492  8492 ...,     0     0     0]\n",
      " [17877     1    36 ...,     0     0     0]]\n",
      "max 17914\n"
     ]
    },
    {
     "name": "stderr",
     "output_type": "stream",
     "text": [
      "\n",
      "\n",
      "\n",
      "\n",
      " 13%|█▎        | 1329/10000 [22:55:30<148:46:26, 61.77s/it]\u001b[A\u001b[A\u001b[A\u001b[A\n",
      "\n",
      "\n",
      "\n",
      " 13%|█▎        | 1330/10000 [22:56:31<148:46:11, 61.77s/it]\u001b[A\u001b[A\u001b[A\u001b[A"
     ]
    },
    {
     "name": "stdout",
     "output_type": "stream",
     "text": [
      "predition [[ 7949  7949 10552 ...,  8492    36    36]\n",
      " [10738  8492  8492 ...,     0     0     0]\n",
      " [ 7949  8492 10552 ...,     0     0     0]\n",
      " ..., \n",
      " [10738  8492  8492 ...,     0     0     0]\n",
      " [ 7949  8492     0 ...,     0     0     0]\n",
      " [ 7949  8492 10552 ...,    36    36    36]]\n",
      "max 17914\n"
     ]
    },
    {
     "name": "stderr",
     "output_type": "stream",
     "text": [
      "\n",
      "\n",
      "\n",
      "\n",
      " 13%|█▎        | 1331/10000 [22:57:33<148:48:56, 61.80s/it]\u001b[A\u001b[A\u001b[A\u001b[A\n",
      "\n",
      "\n",
      "\n",
      " 13%|█▎        | 1332/10000 [22:58:35<148:36:36, 61.72s/it]\u001b[A\u001b[A\u001b[A\u001b[A"
     ]
    },
    {
     "name": "stdout",
     "output_type": "stream",
     "text": [
      "predition [[17496    36     1 ...,     0     0     0]\n",
      " [ 7949  8492 10552 ...,     0     0     0]\n",
      " [ 7949  8492     1 ...,     0     0     0]\n",
      " ..., \n",
      " [10738    36  8492 ...,     0     0     0]\n",
      " [17496     1     1 ...,     0     0     0]\n",
      " [17914  8492    36 ...,     0     0     0]]\n",
      "max 17914\n"
     ]
    },
    {
     "name": "stderr",
     "output_type": "stream",
     "text": [
      "\n",
      "\n",
      "\n",
      "\n",
      " 13%|█▎        | 1333/10000 [22:59:37<148:39:47, 61.75s/it]\u001b[A\u001b[A\u001b[A\u001b[A\n",
      "\n",
      "\n",
      "\n",
      " 13%|█▎        | 1334/10000 [23:00:38<148:34:09, 61.72s/it]\u001b[A\u001b[A\u001b[A\u001b[A"
     ]
    },
    {
     "name": "stdout",
     "output_type": "stream",
     "text": [
      "predition [[ 7949     1     0 ...,     0     0     0]\n",
      " [17914 17914    36 ...,     0     0     0]\n",
      " [10738  8492  8492 ...,     0     0     0]\n",
      " ..., \n",
      " [10738  7949 10552 ...,    36    36     1]\n",
      " [ 7949  8492  8492 ...,    36    36    36]\n",
      " [ 7949  8492  8492 ...,    36    36    36]]\n",
      "max 17914\n"
     ]
    },
    {
     "name": "stderr",
     "output_type": "stream",
     "text": [
      "\n",
      "\n",
      "\n",
      "\n",
      " 13%|█▎        | 1335/10000 [23:01:40<148:35:27, 61.73s/it]\u001b[A\u001b[A\u001b[A\u001b[A\n",
      "\n",
      "\n",
      "\n",
      " 13%|█▎        | 1336/10000 [23:02:42<148:37:05, 61.75s/it]\u001b[A\u001b[A\u001b[A\u001b[A"
     ]
    },
    {
     "name": "stdout",
     "output_type": "stream",
     "text": [
      "predition [[ 7949 17914    36 ...,    36     1     0]\n",
      " [ 7949     1     0 ...,     0     0     0]\n",
      " [ 7949  7949 10552 ...,     0     0     0]\n",
      " ..., \n",
      " [ 7949  8492  8492 ...,     0     0     0]\n",
      " [10738 17914     0 ...,    36    36    36]\n",
      " [ 7949  8492 17914 ...,     0     0     0]]\n",
      "max 17914\n"
     ]
    },
    {
     "name": "stderr",
     "output_type": "stream",
     "text": [
      "\n",
      "\n",
      "\n",
      "\n",
      " 13%|█▎        | 1337/10000 [23:03:44<148:43:29, 61.80s/it]\u001b[A\u001b[A\u001b[A\u001b[A\n",
      "\n",
      "\n",
      "\n",
      " 13%|█▎        | 1338/10000 [23:04:45<148:37:46, 61.77s/it]\u001b[A\u001b[A\u001b[A\u001b[A"
     ]
    },
    {
     "name": "stdout",
     "output_type": "stream",
     "text": [
      "predition [[ 7949     1     0 ...,     0     0     0]\n",
      " [ 7949  8492 10552 ...,    36    36     1]\n",
      " [ 7949  8492     0 ...,     0     0     0]\n",
      " ..., \n",
      " [10472    36     1 ...,     0     0     0]\n",
      " [ 7949    36    36 ...,     0     0     0]\n",
      " [10738  8492     1 ...,     0     0     0]]\n",
      "max 17914\n"
     ]
    },
    {
     "name": "stderr",
     "output_type": "stream",
     "text": [
      "\n",
      "\n",
      "\n",
      "\n",
      " 13%|█▎        | 1339/10000 [23:05:47<148:39:23, 61.79s/it]\u001b[A\u001b[A\u001b[A\u001b[A\n",
      "\n",
      "\n",
      "\n",
      " 13%|█▎        | 1340/10000 [23:06:49<148:34:48, 61.77s/it]\u001b[A\u001b[A\u001b[A\u001b[A"
     ]
    },
    {
     "name": "stdout",
     "output_type": "stream",
     "text": [
      "predition [[17496    36    36 ...,     0     0     0]\n",
      " [ 7949  8492  8492 ...,     0     0     0]\n",
      " [ 7949  7949 10552 ...,    36    36     1]\n",
      " ..., \n",
      " [ 7949     1 17914 ...,     0     0     0]\n",
      " [ 7949  8492 10552 ...,    36     0     0]\n",
      " [ 7949 17914 17914 ...,     0     0     0]]\n",
      "max 17914\n",
      "Model saved in file: params/model.ckpt\n"
     ]
    },
    {
     "name": "stderr",
     "output_type": "stream",
     "text": [
      "\n",
      "\n",
      "\n",
      "\n",
      "\u001b[A\u001b[A\u001b[A\u001b[A"
     ]
    }
   ],
   "source": [
    "import tensorflow as tf\n",
    "import numpy as np\n",
    "\n",
    "\n",
    "conf = {\n",
    "        \"learning_rate\": .5,\n",
    "        \"learning_rate_minimum\": 1e-3,\n",
    "        \"learning_rate_decay\": 0.99,\n",
    "        \"learning_rate_decay_step\": 1,\n",
    "        \"batch_size\": 128,\n",
    "        \"model_dir\": \"./logs\",\n",
    "        \"load_file_path\": None,\n",
    "        \"save_file_path\": None,\n",
    "        \"log_freq\": 1,\n",
    "        \"optimizer\":\"gd\",\n",
    "        \"model\":[{\"name\":\"lstm\", \"num_units\":512},\n",
    "                {\"name\":\"lstm\", \"num_units\":512},],\n",
    "        # \"model\":[{\"name\":\"lstm\", \"num_units\":500},\n",
    "        #         {\"name\":\"lstm\", \"num_units\":500}],\n",
    "        \"attention_size\": 512\n",
    "}\n",
    "\n",
    "tf.reset_default_graph()\n",
    "agent = DialogueAgent(processor, maxlen=10, conf=conf, additional_length=3, is_attention=False)\n",
    "\n",
    "train_X = processor.data[:-1]\n",
    "train_y = processor.data[1:]\n",
    "agent.fit(train_X, train_y, num_epochs=10000, batch_bar=False, log_freq=1, batch_log_freq=100)"
   ]
  },
  {
   "cell_type": "code",
   "execution_count": 100,
   "metadata": {},
   "outputs": [
    {
     "name": "stdout",
     "output_type": "stream",
     "text": [
      "[[17496     1     0 ...,     0     0     0]\n",
      " [ 7949  8492     1 ...,     0     0     0]\n",
      " [10738    36     1 ...,     0     0     0]\n",
      " ..., \n",
      " [ 7949  8492  8492 ...,     0     0     0]\n",
      " [ 7949  8492 10552 ...,     1     0     0]\n",
      " [17914 17914    36 ..., 15868    36  7949]]\n"
     ]
    }
   ],
   "source": [
    "prediction, logits = agent.generate_sentences(texts[:1000])"
   ]
  },
  {
   "cell_type": "code",
   "execution_count": 101,
   "metadata": {},
   "outputs": [
    {
     "name": "stdout",
     "output_type": "stream",
     "text": [
      "[['what'], ['i', 'is'], ['oh', '.'], ['i', 'you', 'you'], ['.'], ['i', 'is', 'is'], ['i', 'is', 'not', 'is', '.', 'i', 'is', 'a', 'is', '.'], ['i', 'is', 'not', 'not', '.', 'is', '.', '.', '.'], ['i', 'i', 'i', '.', '.', '.', '.', '.', '.', '.', '.'], ['i', 'is', '.', '.', '.', '.'], ['i', 'is', 'not', '.', '.', '.', 'you', 'you', 'the', '.', 'you', 'i', '.'], ['what'], ['i'], ['i', '.'], ['i', 'is'], ['oh', 'is'], ['oh', '.', '.', 'is'], ['yeah'], ['i', 'is', '.', '.'], ['oh', 'is', '.', '.'], ['i'], ['you', 'is', '.'], ['hey'], ['oh', 'is'], ['i', 'is'], ['oh', 'is'], ['i', 'i'], ['oh', 'is', 'is'], ['i', '.', '.'], ['oh', 'is', 'is'], ['oh', 'is', 'is'], ['i', 'is'], ['you', '.'], ['what'], ['i', 'is'], ['yeah', 'i', 'i', 'you', 'i', 'i', 'i', 'i', '.', 'you', 'you', '.', '.'], ['.'], ['what', 'is', '.', '.'], ['oh', 'is', 'is'], ['oh', 'is', 'is', 'is', '.'], ['oh', '.', '.', '.', '.', '.'], ['oh', '.'], ['i', '.', '.', '.', '.'], ['oh', 'is', 'is', 'is', 'is', 'is', 'is', '.', '.'], ['oh', '.', 'is', 'is', 'to', 'the', 'the', 'is', '.', '.', '.', '.'], ['oh', 'is', 'you', 'is', 'is', 'you', 'you', 'is', '.', '.', '.'], ['oh', '.', 'you', 'you', '.'], ['what'], ['oh', '.', '.'], ['oh', 'is', 'you', 'you', 'to', 'you', 'you', 'you', '.', '.', '.', '.'], ['i', 'is', 'is', '.', '.', '.', '.', 'you', 'the', 'i', '.', '.', '.'], ['oh', 'is', 'is', '.', '.', '.', 'is', 'is', 'is', 'a', 'is', '.', '.'], ['oh', 'is', '.'], ['i', 'is', 'you'], ['you', 'you', 'you', 'you', 'you', 'you', '.', '.', '.', '.', '.', '.', '.'], ['oh', 'i', '.', '.', 'i', 'you', 'to', 'you', 'is', 'you', '.'], ['oh', 'is', 'you', 'you', '.'], ['i'], ['i', 'is', 'you'], ['oh', '.'], ['i', 'is', 'not', 'the', '.'], ['i', '.', '.'], ['i', 'is', 'you'], ['you', 'you', '.'], ['i', '.', '.'], ['hey'], ['oh'], ['i', 'is'], ['oh', '.'], ['.', '.'], ['i', 'is'], ['.', '.', 'is', '.', '.'], ['i', 'i', 'i', 'i', 'you', 'to', 'to', 'you'], ['oh', 'is', 'you', 'you', '.'], ['i', 'am', 'not'], ['i', 'you'], ['i', 'is', 'not'], ['oh', 'is', 'is', 'is', 'is', '.'], ['i', 'is', 'not', 'is', 'is', '.', '.', '.', '.'], ['oh', 'is', 'is', 'is', '.'], ['i', 'is', 'is'], ['oh', '.', '.'], ['i', 'is', 'is'], ['oh', 'is', 'is', '.'], ['i', 'is', 'not', '.', '.', '.'], ['i', '.'], ['i'], ['oh'], ['i'], ['i', 'is'], ['i', 'is', 'not', 'you', 'you', 'to', 'you', 'you', 'you', '.'], ['what', 'is', 'is', 'is', 'is', 'the', 'the', 'the', 'the', 'the', '.', '.'], ['what', 'is', 'not'], ['what'], ['hey'], ['i', '.', 'not', 'i', '.', 'i', 'i', 'i', 'to', 'i', 'i'], ['oh', '.', '.', '.', 'i', '.', '.', '.', '.', '.'], ['oh', '.', 'not', 'you', '.', '.', 'you', '.', '.'], ['i', '.', 'not', 'i', 'i', 'i', 'you', 'you', 'you', 'you', 'you', '.'], ['oh', 'is', 'is', 'you', 'is', 'it', '.'], ['i', 'i', '.'], ['oh', '.', 'is', '.', '.', 'you', 'is', 'to', 'to', 'the', 'the', '.', '.'], ['i', '.'], ['i', 'is', 'not', 'the', '.'], ['oh', 'is', 'you', '.', '.', '.', '.', '.', '.', '.', 'to', 'the', 'the'], ['what'], ['i', 'is', 'you'], ['i', 'is'], ['you', 'is'], ['what', 'is', 'is', 'it', '.'], ['i', 'i', 'you'], ['i', '.'], ['oh', 'is'], ['well', 'is', 'not', '.', '.', '.', '.', 'is', 'the', 'the', '.', '.'], ['i', 'is', '.', 'to', 'the', 'the', '.', '.', '.', '.', '.', '.'], ['what', '.'], ['what'], ['what'], ['i', 'is', 'not', 'you', '.', '.', '.', '.', '.', '.', 'to', '.', '.'], ['what', '.'], ['i', 'is', 'you'], ['yeah', 'is', 'is', 'is', 'is', 'it'], ['we', 'is', 'not', '.'], ['i', 'i', 'i', '.', 'i', '.', '.', '.', 'i', 'i', 'you', 'to', '.'], ['what', '.'], ['i', 'is'], ['yeah'], ['i'], ['.'], ['i'], ['i', 'am', 'not', '.'], ['oh', '.', '.', '.', '.', '.'], ['i', 'is', 'is', '.'], ['i', 'is', 'not'], ['i', 'you', 'you', 'you', 'you'], ['i', 'is', 'not', '.'], ['i', 'is', 'not', 'is', 'it'], ['i', 'is'], ['oh', '.', 'is', 'you', 'i', 'i', '.', '.', '.', '.', '.', '.', '.'], ['oh', 'is', 'is', '.', 'you', 'you', 'to', 'you', '.', '.'], ['oh', '.'], ['you', 'is'], ['i', 'is'], ['you', 'is', 'is'], ['i', '.', '.'], ['.', '.'], ['oh', '.', '.'], ['i', 'is', 'not', '.', '.', '.', '.', '.', '.', '.', '.', '.'], ['i', 'is', 'you', 'you', '.', '.', '.', '.', '.', 'to', 'to', '.', '.'], ['oh', '.', 'is', '.', 'you', 'is', 'a', '.', '.'], ['oh', 'is', '.'], ['i', 'i', 'i', 'you', 'you', 'you', 'you', '.'], ['i', 'is', 'not', 'is', 'is', '.', '.'], ['i', 'i', 'i', 'i', 'i', 'i', 'you', 'you', '.'], ['i', 'is', 'not', 'you', 'is', 'it', '.'], ['i', 'i', 'not', 'you', '.', '.', '.'], ['you', 'you', '.'], ['you', 'you', 'you', 'is', '.'], ['i', 'is', 'not', '.'], ['i', 'i', 'i', 'is', 'is', 'to', 'is', 'is', 'to', 'to', 'to', '.', '.'], ['i', 'is', 'not', 'you', 'you', '.', '.', 'you', 'is', 'is', 'is', '.', '.'], ['yeah', 'is', 'is', 'it', '.'], ['i', 'is'], ['oh', 'is', 'is', '.', '.', '.', '.', '.', '.', 'to', 'to', 'the', 'the'], ['yeah', 'is', 'is', 'is', 'is', 'is', 'is', 'is', 'is', '.'], ['oh', 'is', '.'], ['i', 'is', 'is'], ['yeah', 'is', 'is'], ['i', 'i'], ['i', '.'], ['i', '.'], ['i'], ['oh', '.', 'you', 'you', 'to', '.', '.'], ['i', 'you', 'not', 'you', 'you', 'you', 'you', 'you', 'you', 'you'], ['oh', 'is', 'i', 'is', 'you', 'to', 'a', 'it', '.'], ['oh', 'is'], ['.'], ['i', '.', 'is'], ['i'], ['oh', 'is'], ['what', 'is'], ['oh', 'is', 'is', '.', '.'], ['you', 'is', 'is', '.', '.', '.', '.', '.'], ['oh', '.', '.'], ['you', 'you', 'you'], ['i', 'i', 'not'], ['.'], ['.'], ['oh'], ['oh', 'you', '.'], ['i', '.'], ['i'], ['oh'], ['i', 'is', 'not', 'not', 'you', 'is', 'is', 'that', '.'], ['i', 'is', 'not', 'to', '.', '.', 'the', 'is', 'is', '.', '.', '.'], ['i', 'i', 'not', 'you', '.', '.', '.', '.', '.', '.', '.', '.'], ['i', 'i', 'not', '.', '.', '.', 'i', '.', 'is', 'is', '.', '.', '.'], ['i', 'is', 'is', 'is', '.'], ['oh', 'is', '.'], ['oh', 'i', 'i', 'is', 'is', 'it', '.'], ['you', 'you', '.', '.'], ['.', '.'], ['i', '.', '.'], ['i', 'is', 'is', 'is', 'is', 'is', 'is', '.'], ['i', 'i', 'not', 'not', 'you', 'you', 'you', '.', '.'], ['i', 'is', 'not', 'is', 'to', 'to', 'it', '.'], ['i', 'is', 'not', 'you', 'you', 'you', 'you', '.', '.', '.'], ['i', '.', '.', '.'], ['i', '.', 'not', 'you', '.', '.', '.', '.', '.'], ['oh', 'is', 'not', 'you', 'is', 'is', 'it', '.'], ['i', 'is', 'not', 'not', 'not', '.', '.', '.'], ['oh', 'is', 'is', 'is', 'that', '.'], ['you', 'is'], ['oh'], ['i', 'is', 'not', 'not', '.', 'to', 'to', 'to', 'the', 'the', 'and'], ['i', 'is', 'not', 'not', '.', '.', 'the', 'the', 'the', 'the', '.', '.', '.'], ['oh', '.', 'not', 'you', 'you', 'you', 'you', 'you', 'you', 'you', '.', '.', '.'], ['i', 'is', 'not', 'is', 'is', 'is', 'is', 'it', '.'], ['oh', 'is', '.'], ['i', 'is'], ['.'], ['oh', 'is'], ['yeah', 'is', '.'], ['.'], ['i', 'is'], ['what'], ['oh'], ['oh', 'is'], ['you', 'is'], ['oh', 'is'], ['i', 'is'], ['oh'], ['i', 'is'], ['oh'], ['yeah', '.'], ['i', 'is'], ['i', 'is', 'not', '.', '.', '.', 'the', 'is', 'the', 'the', 'the', '.'], ['i', 'is', 'is', 'you', '.', '.', '.', 'is', 'to', 'to', 'a', 'is', '.'], ['oh', 'is', 'you', 'is', '.'], ['i', 'i'], ['you', 'you', 'you'], ['i', 'i', 'not', 'you', 'is', 'it', '.'], ['oh', 'is'], ['what'], ['oh'], ['what', '.', '.'], ['i'], ['i', 'is'], ['yeah'], ['i', 'is'], ['oh', 'is'], ['oh'], ['oh', 'is', '.'], ['what', 'is', '.', '.', '.'], ['i', 'i', 'i'], ['i', 'i', 'not', 'you', '.', '.', '.', '.', '.', '.', '.', '.'], ['i', 'is', 'is', '.'], ['.'], ['oh', 'is'], ['oh', 'is'], ['.', '.'], ['oh', '.'], ['oh', 'is', 'is'], ['oh', 'is', 'is', '.'], ['i', 'is', 'is'], ['i', 'is', 'not', 'is', '.', '.', '.', '.'], ['i', 'i', 'not', 'you', 'you', 'you', 'you', 'you', '.', '.'], ['oh', 'is', 'you', '.'], ['i', 'is', '.'], ['what', 'is', 'you', 'is', 'you', '.', '.'], ['i', '.', 'not', '.', '.'], ['you', 'you', '.'], ['i', 'is', 'you'], ['oh'], ['what', 'is', 'the', 'the', '.'], ['oh', 'is', 'is', 'is', 'that', '.'], ['i', 'i'], ['i', 'is', '.'], ['oh', 'is', 'you', '.', 'is', 'the', 'the', 'the', 'the', '.'], ['i', 'is', 'is', 'you', '.', '.', '.', '.', 'is', 'is', '.', '.', '.'], ['i', '.', '.', '.', '.', '.', '.', 'i', 'i', 'to', '.', '.', '.'], ['what', 'is', 'is', '.', '.'], ['yeah', 'is', 'is', 'is', '.', '.', '.'], ['you', 'you', 'you', 'you', 'to', '.', 'you', 'you', 'you', 'you', 'you', '.', '.'], ['oh', '.'], ['i', '.'], ['i', 'is', '.', '.', '.', '.', '.', 'you', 'to', 'to', 'i'], ['.'], ['i', 'is', 'you'], ['oh', 'is', 'not', 'a', 'a', '.'], ['oh', 'i', '.'], ['i', 'is', 'not', '.'], ['i', '.', 'you'], ['i'], ['i', 'is', '.'], ['i', 'i', 'not', '.', '.', '.', '.'], ['i', 'is', 'not', 'to', 'to', 'the', '...', '.'], ['what', '.'], ['i', 'is'], ['i', 'i', 'not', 'you', '.', '.', '.', '.', '.', '.', '.', '.'], ['i', 'is', 'not', '.', '.', '.', '.', '.', '.', 'the', 'the', '.', '.'], ['i', 'is', 'not', 'not', '.', '.', '.', '.', '.', '.', '.', '.'], ['i', 'i', 'not', 'not', '.', '.', '.', '.', '.', '.', '.'], ['i', 'is', 'not', 'you', 'you', '.', '.', '.'], ['well', 'is', 'you', '.', '.', '.', '.'], ['i', 'is', 'not', 'you', 'you', 'you', 'you', '.', '.', '.'], ['oh', 'is', '.'], ['i', 'is', 'is'], ['i', 'is'], ['i', 'i', 'not', '.', 'you', '.', 'you', 'you', 'you', 'you', 'i', 'i', 'to'], ['i', 'i', 'i', 'i', 'i', 'i', 'to', 'you', 'you', 'the', 'is', 'is', '.'], ['i', 'i', 'i', 'i', '.', '.', 'you', 'is', 'the', 'the', 'the', 'and', '.'], ['i', 'is', 'not', 'not', '.', '.', 'the', 'we', 'we', 'the', 'the', 'the', '.'], ['yeah'], ['yeah', 'is', 'is'], ['i', 'is', 'not', '.', '.', '.', 'is'], ['yeah', 'i', 'not', 'not', 'is', 'to', 'is', 'to', '.', 'you', 'you', '.', '.'], ['what', 'is', 'you', '.', 'the', '.', 'the', 'to', 'to', 'to', 'to', '.', '.'], ['oh', 'is', 'is', 'is', '.'], ['i', 'is', 'is'], ['i', '.'], ['oh', '.'], ['.', '.'], ['oh', '.'], ['oh', 'is', 'is', 'is', 'that', '.'], ['oh', '.', 'you'], ['i', '.'], ['what', 'is', '.'], ['oh', '.', '.'], ['what'], ['i', 'is', 'you'], ['what'], ['i', 'is'], ['oh', '.', 'is', '.', '.', '.', '.'], ['i', 'am', 'not', 'to', '.', '.', '.'], ['i', 'is', 'not', 'you', '.', '.', '.'], ['you'], ['oh', 'is', 'is'], ['i', 'is', '.', '.'], ['i', 'is', 'is'], ['what', 'is', 'you', '.'], ['i', 'is', 'is'], ['i', 'is', 'you'], ['i', '.'], ['i', 'is', 'not', 'you', 'i', 'i', 'to', 'to', '.'], ['i'], ['i'], ['what'], ['i', 'is', 'you'], ['you', '.'], ['i', 'is'], ['you', 'is'], ['i', 'is', '.'], ['oh', 'is', 'is', 'is', 'is', 'it', '.'], ['what', 'is', '.', '.', '.', '.', '.', '.'], ['what', '.', '.', 'the', 'the', 'the', 'to', 'to', 'to', 'to', '.', '.'], ['.'], ['i', 'is', 'not', 'not', '.', '.', 'you', 'you', 'to', '.', '.', '.'], ['you', 'is', 'is', 'is', 'is', '.'], ['i', 'am', 'not', '.', '.'], ['i', 'is'], ['oh', 'is', '.'], ['oh', '.', '.', '.', 'is', 'you', 'the', 'the', '.'], ['oh', '.', '.'], ['i', 'i', 'not', 'i', 'you', 'i', 'is', 'you', 'you', '.', '.', '.'], ['oh', 'is', 'is', '.', '.', '.', '.', '.', 'the', 'to', 'the', 'the', 'the'], ['what', 'is', 'is', '.'], ['i', '.'], ['i', '.', '.', '.', '.', '.', '.', 'you', 'the', '.', 'i', '.'], ['what'], ['oh', '.'], ['what', 'is', 'is', 'is', 'is', '.'], ['oh', 'is', 'is'], ['oh', 'is', 'you', 'is', 'is', 'is', 'you', '.'], ['we', 'is', 'not', 'the', '.', 'the', 'the', 'the', 'the', 'the', 'and'], ['oh', 'you', '.'], ['i', 'is', 'not', 'is', 'is', '.'], ['i', '.', '.'], ['you', 'is', '.'], ['i', 'am', 'not', '.'], ['what', 'is', 'you', '.'], ['i', 'is'], ['we', 'is', 'not', 'you', '.', 'you', 'you', 'you', '.', '.', 'i', '.'], ['i', 'is', 'not', 'is', '.', 'i', 'you', 'you', 'is', 'is', '.', '.', '.'], ['i', 'i', 'i', 'i', 'i', '.', '.', '.', '.', '.', 'is', 'i', 'i'], ['i', 'i', 'you'], ['you', 'you', '.'], ['you', 'is', '.'], ['i', 'is', 'is', 'is', 'to', '.', 'the', 'the', 'to', 'to', '.', '.'], ['oh', 'is', 'is', '.'], ['oh', 'is', 'is'], ['i', 'is', 'is', 'is', '.', '.', '.', 'is', 'is', '.', '.', '.'], ['i', '.'], ['i', '.'], ['i', 'is', 'not', 'not', '.', '.', 'is', 'is', 'is', 'the', 'is', 'and', '.'], ['oh', 'is', '.', '.', '.', '.', '.', '.', '.', 'the', 'is', 'i', 'i'], ['what', 'is', '.'], ['i', '.'], ['i', 'is', 'you'], ['well'], ['i', 'is', 'you'], ['you', 'is'], ['i', 'is', 'not', 'the', 'the', 'the', 'the', 'the', 'the', 'the', 'the', 'the', 'of'], ['i', 'is', 'not', 'not', 'is', 'the', 'the', 'the', '.', '.', '.', 'the', 'the'], ['oh'], ['oh'], ['i', 'i', 'i', '.', '.', '.', '.', '.', '.', 'i', 'to', 'to', 'the'], ['oh', '.'], ['oh', '.'], ['.'], ['oh'], ['i'], ['i', 'is', 'you'], ['i'], ['i'], ['i', 'is', 'not', 'not', '.', '.', '.', '.', 'the', 'to', 'the', 'the', '.'], ['what'], ['i', 'i', 'you'], ['oh', 'is', 'is', 'is', 'is', 'is', 'the', '.'], ['i', 'is', 'not', '.', '.', '.', '.', '.'], ['i', '.', '.', '.', '.', '.', '.', 'the', '.', 'the', 'to', '.', '.'], ['what', '.', '.'], ['i', '.', 'not', '.', '.', '.'], ['i', '.'], ['i', 'i'], ['i', 'i', '.'], ['oh', '.'], ['i', 'is'], ['i', 'is', 'not', 'you', 'is', 'the', '.'], ['oh', 'is', 'you', '.'], ['i', '.', '.'], ['oh', 'is', 'not', 'not', 'you', 'to', 'the', '.'], ['i', 'i', 'not', '.', '.', '.', '.'], ['oh', '.'], ['i', 'i', 'i', 'i', '.', 'is', 'to', 'to'], ['you', 'is', 'you', 'you', 'you', '.', '.', 'to', 'to', '.', '.', '.', '.'], ['oh', 'is', 'is', 'not', 'to', 'is', 'is', 'to', 'to', 'to', 'to', 'to', '.'], ['oh', 'is', 'is', 'is', '.'], ['i', '.', 'is'], ['i', '.', 'you'], ['i', 'is', 'is', '.', '.', '.', 'the', 'the', 'the', 'to', '.', '.'], ['oh', 'is', 'you', '.'], ['you', '.', 'you'], ['what', 'is', 'is', 'is', 'is', 'the', 'the', 'the', 'the', 'the', 'the', 'the', 'the'], ['i', 'you', 'you', 'you', '.', '.'], ['i', '.', '.'], ['i', 'i', 'i', '.', 'i', '.', '.', 'you', 'i', '.', 'i', 'i'], ['oh', 'you', 'you', 'you', 'you', 'you', '.'], ['i', 'i', 'you'], ['oh'], ['oh', 'is'], ['i', 'is', 'you'], ['we', 'is', 'is', 'the', 'to', 'the', 'the', 'the', 'the', 'the', 'the', '.'], ['what'], ['i', '.'], ['what'], ['i', 'is'], ['what', 'is', '.'], ['i', 'is', '.', '.', '.', '.'], ['i', 'is', 'is', 'the', 'the', 'the', 'the', 'the', 'the', 'the', 'the', 'the', '.'], ['what', '.'], ['i', 'is', 'not'], ['oh', 'is', 'is', 'i', 'i', '.', '.', '.', '.', '.', 'i', 'the', 'the'], ['i', 'is', 'is', '.', '.', 'the', 'the', 'the', 'the', 'the', 'the', '.', 'of'], ['i', 'is', 'not', 'not', '.', '.', 'the', '.', '.', '.', '.'], ['i', 'is', 'not', 'not', 'the', 'the', '.', '.', '.', 'the', 'the', 'the', 'the'], ['we', 'is', 'is', 'is', '.'], ['oh', 'is', 'is'], ['i', 'is', 'is', '.', '.', '.', 'the', 'the', 'the', 'the', 'the', 'the', '.'], ['we', 'is', 'not', 'are', 'to', 'the', 'the', 'it'], ['oh', 'is', 'not', 'is', 'is', 'is', 'the', 'you'], ['i', 'am'], ['i', 'i', 'not', '.', 'you', '.', '.', 'you', 'to', '.', '.', 'i', '.'], ['i', 'i', 'not', 'i', 'i', 'i', 'you', 'you', 'you', '.'], ['i', 'is', 'not', 'to', '.', '.', 'the', 'the', 'the', '.', '.', '.'], ['what', 'is', 'is', '.'], ['i', 'is'], ['i', '.', 'you', '.', '.', '.', '.', 'i', 'the', '.', '.'], ['i', 'is', 'not', '.', '.', '.', 'is', 'the', 'the', 'the', 'the', 'and', 'and'], ['oh', '.', '.', '.', '.', '.', '.', '.', '.', 'to', '.', '.', '.'], ['i', 'i', '.', '.', 'i', 'i', '.', '.', '.', '.', '.'], ['i', 'i', 'i', 'i', 'i', '.', '.', '.', '.', '.', '.', 'i', 'i'], ['what', 'is', 'you', 'you', 'to', 'the', 'is', 'to', 'to', '.', '.', '.'], ['oh', 'is', 'not', 'you', '.', '.', '.', '.', '.', '.', '.'], ['i', 'i', 'not', 'i', 'i', '.', 'i', 'i', '.', '.', '.', '.'], ['i', 'is', 'not', 'the', 'the', 'the', 'the', 'the', 'the', 'the', 'the', 'the', 'the'], ['i', 'is', 'not', '.', '.', 'the', 'the', 'the', 'the', 'the', '.', '.'], ['i', '.'], ['i', 'i'], ['you', 'you', 'you'], ['i', 'i', 'not', 'i', '.', '.', '.', '.', '.', '.', 'to', 'to', 'to'], ['i', 'i', 'not', 'i', '.', '.', '.', '.', '.', '.', '.', '.'], ['i', 'is', 'is', '.', '.', '.', '.', '.', '.', '.', 'the', 'the', 'the'], ['oh', 'you', 'you', 'is', 'is', 'it', '.'], ['i', 'is', '.', '.', '.', '.', '.', '.', '.'], ['oh', '.'], ['we', 'is', 'not', '.', '.', '.', '.', '.', '.'], ['i', 'is', 'not', 'not', 'to', 'to', 'the', '.'], ['oh', 'you', 'you', 'you', 'you', 'you', '.', '.'], ['what', 'is', 'is', 'is', '.', '.'], ['well', 'is', 'not', '.', '.', '.', '.'], ['i', '.'], ['i', 'is', 'you'], ['i', 'is', '.', '.', '.', '.', 'to', 'to', 'to', 'you', 'you', '.'], ['oh', 'is', 'is', 'is', 'is', 'the', 'the', 'the', 'you', '.'], ['oh', 'is', 'you', 'you', 'i', 'i', '.', '.', '.', '.', '.'], ['what'], ['i', 'is', 'you'], ['oh', 'i', 'i', 'not', 'i', 'is', 'is', 'is', 'to', 'to', 'to', '.', '.'], ['yeah'], ['i', 'is', 'you'], ['i', 'is'], ['i'], ['oh'], ['i', 'is', 'not', '.'], ['oh', 'is', 'you', 'is', 'you', 'to', 'you', '.'], ['i', 'i', 'not', 'i', 'i', 'i', 'you', 'you', 'you', '.'], ['i', 'you', 'not'], ['i', 'is', 'not', 'is', '.', 'to', 'to', 'a', 'a', '.', '.'], ['oh', 'is', '.', '.', '.', 'the', 'is', 'the', 'the', 'the', '.'], ['i', 'is', 'not', 'is', 'is', 'is', '.'], ['i', 'is', 'is', '.', '.', '.', '.', '.', '.', '.'], ['i', 'is', 'not', 'you', '.', 'the', 'the', 'the', 'the', 'the', 'the', '.'], ['i', 'is', 'not', 'not', '.', '.', '.', '.', '.', '.', '.'], ['i', 'i', 'not'], ['i', 'is'], ['you', 'you', 'you', 'you', 'you', '.', '.'], ['you', 'you', 'you'], ['i', 'is', 'is', 'is', 'is', '.', '.', '.'], ['oh', '.', 'is', 'is', 'is', 'the', 'a', '.', '.', '.'], ['oh', 'is', '.', '.', 'is', 'is', 'is', 'is', 'the', '.'], ['yeah', '.', '.', '.', '.'], ['you', 'you', '.'], ['yeah', '.', 'you', 'you', 'you', '.', '.'], ['i', 'you', 'not'], ['oh', 'is', 'is'], ['what', '.'], ['.'], ['i', 'is', 'not'], ['we', 'is'], ['i', 'is', 'not'], ['what'], ['i', 'is'], ['.'], ['i'], ['i', 'is', 'not', '.'], ['i', 'is', 'you'], ['what', 'is'], ['oh', 'is', 'not', 'you', 'to', 'is', 'it', '.'], ['oh', 'is', '.'], ['yeah', 'is', 'not', '.', '.', '.', '.'], ['i', 'is', 'not'], ['i', 'i', 'not', '.', '.', '.', '.', '.', '.'], ['.'], ['i', 'is', 'not', 'you', '.', '.', 'the', 'to', 'to', '.', '.', '.', '.'], ['i', 'is', 'not', '.', '.', '.', 'the', '.', 'the', 'the', '.', '.', '.'], ['i', 'is', 'not', 'is', 'is', '.'], ['.'], ['i', 'is', 'not', '.'], ['i', 'is', 'not', 'the', '.', '.', '.', 'the', 'the', '.'], ['i', 'is', 'not', 'we', 'the', 'the', 'the', 'the', 'the', 'the', 'the', '.', '.'], ['i', 'is', 'not', '.'], ['i', 'is'], ['what', 'is', 'is', 'is', '.'], ['oh', '.', 'you', '.', '.', '.', '.', '.'], ['oh', 'is', '.', '.', '.', 'the', '.', '.', '.', '.', '.', 'the', 'the'], ['what', 'is', 'is', '.'], ['i', 'is', '.', '.', '.', '.'], ['what'], ['oh', 'is'], ['yeah'], ['oh', 'is', 'is', '.'], ['what', '.', '.'], ['oh', 'is', 'you', 'is', 'is', 'it'], ['what', 'is', '.', 'is', '.', '.', '.', 'the', 'the'], ['i', '.', '.', '.', '.'], ['oh', 'is'], ['i', '.', 'not'], ['i', 'is', '.'], ['what'], ['i'], ['i', 'i', 'i', 'i', 'i', '.', '.', 'i', '.', '.', '.', '.', '.'], ['what', 'is', 'is', '.'], ['what', '.'], ['oh', 'is', 'is', '.', '.'], ['i', 'i', 'i', 'i', 'i', 'to', 'a', 'you', '.'], ['i', 'i', 'not', 'i', '.', '.', 'you', 'you', 'to', 'the', 'the', 'is'], ['oh', 'is', 'you', 'it'], ['i', '.'], ['oh', '.', 'you'], ['you'], ['i'], ['i'], ['i', 'i', 'not', 'you', 'you', 'you', 'you', '.'], ['oh', '.', '.', '.', '.', '.', '.', '.', '.', '.', '.'], ['i', 'i', 'not', '.', '.', '.', '.', '.'], ['oh', '.', '.'], ['oh', 'is', 'is', '.', '.', 'you', '.', '.', '.', '.'], ['oh', 'i', 'you', 'you', 'you', 'to', 'you', '.'], ['yeah', 'is'], ['oh', 'is', 'is', 'is', 'is', '.'], ['i', 'is', 'not', 'the', '.', '.'], ['i', 'is', 'not', 'is', 'you', '.', 'to', 'you', '.', '.', '.'], ['i', 'is', 'not', 'is', '.', 'is', 'is', 'the', 'the', '.'], ['what', 'is', 'is', 'is', 'is', 'to', 'to', 'to', '.', '.', 'you', '.', '.'], ['yeah'], ['i', 'is'], ['i', 'is', 'is'], ['i', 'am', 'not'], ['oh', 'is', '.', '.', 'you', '.', '.'], ['what'], ['i'], ['what', 'is'], ['i', 'i', 'not', 'i', '.', '.', '.', '.', '.', '.', '.', '.'], ['oh', '.', 'is', 'is', 'is', 'the', 'you', 'you', '.', '.', 'you', '.', '.'], ['i', 'i', 'not', 'you', '.', '.', '.', 'you', 'you', 'you', 'you', 'you', '.'], ['i', 'is', 'is', 'not', '.', '.', '.', '.'], ['i', '.', 'not', 'not', '.', '.', '.'], ['i', 'i', 'not', 'i', 'not', 'i', 'i', 'you', 'i', '.', 'i'], ['i', 'is', 'not', 'you', 'you', 'you', 'to', 'you', 'you', '.', '.', '.', '.'], ['i', 'is', 'not', 'is', 'you', '.', 'you', 'you', 'you', 'you', '.', '.'], ['yeah', '.', '.'], ['oh', '.'], ['oh', 'is', 'is', 'is', 'is', '.'], ['i', 'is', 'not'], ['i', 'is', 'not', '.', '.', '.', 'to'], ['what'], ['i', 'is', 'you'], ['i', 'is', 'not', 'the', '.', '.'], ['i', 'is', 'not', '.', '.', '.', '.', 'you', '.', 'you', 'you', 'you', '.'], ['yeah', 'do', 'not', 'you', 'you', 'it', '.'], ['i'], ['i', 'i', 'not', 'you', '.', '.', '.', '.', 'i', 'i', 'i', 'i', 'the'], ['i', 'is', 'is', 'is', 'that', '.'], ['you', 'is', 'is', 'is', 'is', '.', '.', '.', '.'], ['oh', 'is', 'not', 'is', 'to', 'is', 'is', 'the', 'the', '.'], ['i', 'is', 'not', 'you', '.', '.', '.'], ['i', 'is'], ['i', 'is', 'not', 'the', '.'], ['i', 'is', 'you', 'you', 'you', 'i', 'you', 'you', 'you', 'you', 'you', '.', '.'], ['oh', 'i', 'you', 'is', 'is', 'the', 'you', '.'], ['what'], ['i'], ['i', 'is', 'not', '.', '.', '.', '.', 'the', 'the', 'the', 'the', 'the', 'is'], ['i', 'is', 'not', 'not', '.', 'is', 'you', 'you', 'the', '.'], ['i', 'is', 'not', 'is', '.', 'i', 'i', 'i', 'i', 'i', 'you', '.', '.'], ['i', 'is', 'is', '.', '.', '.', 'the', 'is', 'the', '.', '.', '.'], ['i', 'is', 'is', 'to', '.', 'is', 'to', 'to', 'is', 'to', '.'], ['what', 'is', 'you', '.', '.', '.', '.'], ['i', 'i', 'not'], ['what'], ['i'], ['i', 'is', 'is'], ['i', 'is'], ['.'], ['.'], ['what'], ['i', 'is', 'you'], ['.'], ['.'], ['i', 'is', 'is', 'you', 'you', 'you', 'you', 'you', 'to', 'to', '.', '.', '.'], ['i', 'i', 'i', 'i', 'i', 'i', 'to', 'to', 'the', 'is', '.', '.', '.'], ['i', 'is', 'not', 'you', '.', '.', '.', '.', '.', 'i', 'i', 'you', '.'], ['i', 'i', 'not'], ['i', 'i', 'i', '.', '.', '.', '.', '.', 'the', '.', '.', '.'], ['i', 'i', 'not', '.', '.', '.', 'the', 'to', '.', '.', '.', '.'], ['i', 'you', 'you', 'you', 'you', 'you', 'you', 'you', 'you', 'you', 'you', 'you', '.'], ['oh', 'is', 'is', 'is', 'is', 'it', '.'], ['i', 'is', 'not', '.', '.', '.', 'to', '.', 'i', 'the'], ['oh', 'is', 'is', 'is', 'is', 'is', 'it', '.'], ['what', 'is'], ['i', 'is'], ['i'], ['oh', 'is', 'is'], ['what', 'is'], ['we', 'is', 'not', 'the', '.', 'the', 'the', 'the', 'the', 'the', '.'], ['yeah', 'is', 'i', 'not', 'to', 'to', 'to', 'to', 'the', '.', 'i', '.', '.'], ['i', 'is', 'is', 'is', '.', '.', '.', '.', '.', 'to', 'to', '.', '.'], ['yeah', 'you', 'you', '.', '.'], ['i', 'is', 'not', '.'], ['oh', 'is', 'is', '.', '.', '.', 'the', 'the', 'the', 'to', '.', '.', '.'], ['yeah', '.', 'not', 'you', '.', '.'], ['i', 'is', 'is'], ['i', 'is', 'you'], ['i', 'i', 'not', 'i', '.', '.', '.', 'to', '.', '.', '.', '.', '.'], ['i', 'is', 'is', 'the', '.', '.', '.', 'the', 'the', 'the', 'is', 'the', 'the'], ['i', 'i', 'not', '.', '.', '.', '.', '.', '.', 'to', 'to', 'to', '.'], ['i', 'i', 'not', 'i', '.', '.', '.', '.', '.', 'i', 'i', '.', '.'], ['i', 'i', 'not', '.', '.', '.', '.', '.', '.', '.', '.', '.'], ['i', 'is', 'is', 'is', '.', '.', 'is', 'is', 'is', 'the', '.', '.', '.'], ['i', 'i', 'not', 'you', '.', '.', '.', '.', '.', '.', '.'], ['i', 'is', 'is', '.', '.', '.', 'the', 'the', '.', '.', 'to', '.', '.'], ['i', 'is', 'not', 'i', 'i', 'i', 'i', 'is', '.', '.', '.', '.'], ['i', 'i', 'not', 'you', 'to', 'to', 'to', 'to', 'you', '.', '.', '.'], ['i', 'i', 'i', '.', '.', '.', 'you', 'you', 'the', 'the', '.', '.', '.'], ['oh', 'is', 'is', 'is', '.'], ['i', 'am', 'not', '.', '.'], ['i', 'i'], ['i', 'i', 'not', 'you', '.', '.', '.', '.', '.', '.', '.', '.'], ['i', 'i', 'not', 'you', 'you', 'you', 'you', 'you', 'you', '.', '.', '.'], ['i', 'i', 'not', 'i', 'i', 'you', 'you', 'you', 'is', 'is', '.', '.'], ['what', 'is'], ['i', 'is', 'you'], ['i'], ['oh', 'is'], ['.'], ['oh', 'is'], ['i', 'i', 'not', 'i', '.', '.', '.', 'i', '.', '.', '.', '.'], ['i', 'i', 'not', 'you', '.', '.', 'you', 'you', 'to', 'to', 'to', '.', '.'], ['what', '.'], ['oh', '.'], ['oh', '.', '.', '.', '.'], ['i', 'is', 'is'], ['i', 'is', 'not', 'you', 'you', '.', '.', '.', '.', '.', '.'], ['i', 'is', 'is', 'is', '.', '.', '.', '.', '.', 'i', 'the', 'the', '.'], ['i', '.'], ['you', 'is', 'is'], ['i'], ['oh', '.'], ['you', 'you', 'you'], ['i', 'i', 'not'], ['i', '.', '.', '.'], ['i', 'is', 'not', '.', '.'], ['i'], ['i', 'is'], ['oh', '.', '.'], ['i', '.'], ['yeah', '.', '.'], ['i', 'is', '.'], ['i', 'is', 'not', '.', '.', '.', '.', '.', '.', '.', 'the', 'the', 'to'], ['well', 'is', 'you', 'you', 'you', '.', '.', 'you', 'you', 'you', 'to', '.', '.'], ['oh', 'is', 'is', '.', 'the', 'the', 'the', 'to', 'to', 'to', '.', '.'], ['i', 'is', 'is', 'the', 'the', 'the', 'the', 'the', '.', '.', '.', 'i', 'i'], ['what', 'is', '.', '.'], ['i', 'i', 'not', 'not', '.', '.', '.'], ['i', 'is', 'not', 'the', '.', '.', '.', '.', '.', '.', '.', 'the', 'the'], ['i', 'is', 'not', 'not', '.', '.', 'the', 'the', 'the', 'the', '.', '.'], ['oh', 'is', 'is', 'is', 'is', '.'], ['i', 'is', 'not', 'you', 'you', '.', '.', '.', '.'], ['what', 'is', 'you', '.', '.'], ['i', 'is', 'not', 'is', '.', '.', '.', '.'], ['i', 'is', 'not', '.', '.', '.', '.', 'the', 'the', 'the', 'the', 'the', 'the'], ['i', 'is', 'is', '.', '.', '.', 'the', 'the', '.', '.', '.', '.'], ['yeah', 'is', 'is', '.', 'you', 'is', '.', '.', '.'], ['i', '.', '.'], ['i'], ['i', 'is'], ['you', 'you', 'not'], ['i', 'is', 'is', 'the', 'the', 'the', 'the', 'the', '.', '.', '.', 'i', 'i'], ['i', 'is', 'not', '.', '.', '.', '.', 'you', '.', '.', '.', '.'], ['i', 'i', 'not', 'not', '.', '.', 'you', 'you', '.', '.', '.', '.'], ['oh', 'is', 'is', 'you', '.', '.', '.', '.', '.', '.', 'the', 'the', 'the'], ['oh', 'is', 'is', 'is', 'is', '.'], ['i', 'is', 'is'], ['oh', '.', '.'], ['i', 'is', 'you', 'you', '.', 'the', 'you', 'you', 'you', '.'], ['what', 'is', '.', '.', '.', '.', '.', '.'], ['i', 'i', 'not', 'not', '.', '.', 'the', 'the', 'the', 'the', 'the', '.', '.'], ['what', 'is', 'is', '.', '.', '.'], ['i', 'i', 'not', 'i', '.', '.', '.', '.'], ['you', 'you', 'you', '.', '.', '.', '.', '.', '.', '.'], ['i', 'i', 'not', 'not', '.', '.', '.', 'you', '.', '.', '.', '.'], ['i', 'is', 'not', 'you', '.', '.', 'you', 'is', 'to', 'the', 'is', 'is', '.'], ['i', 'is', 'is', 'not', '.', '.', '.', '.', '.'], ['i', 'i', 'not', 'not', 'you', '.', '.', '.', 'i', '.', '.'], ['what', 'is', 'is', '.'], ['i', 'is', 'not'], ['i', 'is', 'is', 'is', 'is', 'is', 'is', 'is', 'is', '.', '.'], ['oh', 'is', 'not', 'is', 'is', '.'], ['i', 'i'], ['what', 'is', 'the', '.', '.', 'you'], ['oh', 'is', '.', '.', '.', '.', 'you', 'you', 'you', '.', '.', '.', '.'], ['i', 'i', '.', '.', '.', '.', '.', '.', '.', '.', 'to', 'to', 'the'], ['what', 'is', 'you', 'you', '.', '.'], ['i', 'is', 'not', '.', '.', '.', 'to', 'to', '.'], ['i', 'is', 'is', 'is', 'is', 'the', 'the', '.', '.', '.', 'the', 'the', 'the'], ['what', 'is', 'is', '.'], ['i'], ['i', 'is', 'you'], ['i', 'is', 'not', '.', '.', '.', 'is', 'i', '.'], ['i', 'i', 'not'], ['i', 'is', '.'], ['what', 'is', '.'], ['what', 'is', '.', '.', '.'], ['what', 'is', '.'], ['i', 'is', 'you'], ['what', '.', '.'], ['i', 'i', 'not', 'i', '.', '.', '.', '.'], ['oh', 'is', 'is', 'is', '.'], ['i', 'is', 'is'], ['i', 'is', 'you', 'you', 'is', 'it', '.'], ['oh', '.', '.', '.', '.', '.', '.', '.', '.', '.'], ['i', '.', 'i', '.', '.', 'is', '.', '.'], ['i', 'i', '.', '.', '.', '.', '.', 'to', 'to', 'the', 'is', 'is'], ['i', 'you', 'not', 'you', 'you', 'to', 'to', 'you', '.'], ['i', 'is', 'you', '.', '.', '.', '.', '.', '.'], ['i'], ['what'], ['oh'], ['we', 'is', 'not', 'the', '.', '.', 'is', 'the', 'the', 'the', '.', '.', '.'], ['.'], ['oh'], ['i', 'is', 'is', 'is', 'is', 'you', 'you', '.'], ['.'], ['oh'], ['i', 'is', 'not', 'is', 'is', 'is', '.'], ['i', 'i', 'i', 'i', 'i', 'you', 'is', 'is', 'is', 'is'], ['i', 'is', 'not', 'is', 'to', 'is', 'the', '.'], ['i', 'is', 'not', 'is', 'to', 'to', 'the', 'you', '.'], ['i', '.', '.'], ['.'], ['i', 'is', 'not', '.', '.', '.', 'is', 'is', 'is', 'the', 'is', '.', '.'], ['i', 'is', 'not', '.', '.', 'to', 'the', 'the', 'the', 'the', '.'], ['i', 'i', 'not', 'not', '.', 'i', 'i', '.', '.', '.', '.', '.', '.'], ['what'], ['i', 'is'], ['oh', 'is'], ['i', 'is', 'you', 'you', '.', '.', 'you', 'to', 'to', '.', '.'], ['i', 'i', 'not', '.', '.', '.', '.', '.', '.', '.'], ['what', 'is', '.', 'the', 'the', '.', '.', '.', 'the', 'the', '.'], ['what', 'is'], ['oh', 'is', 'is'], ['i', 'i', 'not', 'i', '.', '.', '.', 'i', 'i', 'i', 'to', 'to', 'the'], ['i', 'i', '.', '.', '.', '.', '.', '.', '.', 'i', 'i', 'to', '.'], ['oh', 'is', 'is', 'you', 'you', 'the', 'the', 'the', '.', '.', 'the', 'the', 'the'], ['oh', 'i', 'not', 'you', 'you', 'to', 'the', 'it', '.'], ['you', 'you', '.'], ['oh', 'i', '.', '.', 'i', 'you', 'a', 'a', 'a', 'you', '.'], ['what', 'is'], ['i', 'is'], ['i', '.', '.', '.', '.', '.'], ['i', 'is', '.'], ['i', 'is', 'not', 'you', 'to', 'it', '.'], ['you', 'you', 'not'], ['i', 'is', 'not', 'you', '.', '.', '.', '.', 'i', 'i', 'to', 'the', '.'], ['what', 'is', 'is', '.'], ['i', 'is', 'not', '.', '.'], ['oh', 'is', 'is', 'is', 'is', 'is', 'the', '.'], ['what', 'is', '.'], ['i', 'is', 'is'], ['i', 'is'], ['oh', 'is'], ['.'], ['oh', '.'], ['oh', 'is', '.', '.'], ['i', 'is', 'is', 'we', 'the', 'the', '.', '.', '.', '.', 'the', 'the', 'the'], ['i', 'is', 'not', 'is', 'is', 'to', 'the', 'the', '.'], ['what', 'is'], ['oh', 'is', 'not', '.', '.', '.', 'is', 'is', 'the', 'the', '...', '.'], ['i', 'is', 'is', 'is', '.', 'is', 'is', 'is', 'the', '.', '.'], ['what', 'is', '.'], ['i', 'is', 'not'], ['i', 'is', '.', '.', '.', '.', '.', '.', '.', '.', 'the', 'the', 'the'], ['i', 'is', 'not', '.', '.', '.', '.', '.', '.', '.', 'to', 'the', 'the'], ['what', 'is', 'not', 'not', 'to', 'a', 'a', '.', '.'], ['i', 'i', 'not', 'not', 'not', 'you', 'you', 'you', 'to', '.', '.'], ['what', 'is', 'is', 'is', 'is', 'the', 'the', 'the', 'the', 'the', '.', '.', 'the'], ['.'], ['.'], ['i', 'is', 'not', 'not', '.', '.', '.', '.', 'i', 'i', 'i', 'i', 'the'], ['i', 'i', 'not', 'i', '.', '.', '.', '.', '.', 'to', 'to', 'to', '.'], ['i', 'is', 'not', 'you', 'you', 'it', '.'], ['yeah', 'is', '.', '.', '.', '.'], ['i', 'is', 'not'], ['oh', 'is', 'is', 'is', '.'], ['i', 'is'], ['i'], ['oh', '.', '.'], ['.'], ['oh', 'is', 'is', 'is', 'is', '.'], ['no', '.'], ['oh', 'is', 'not'], ['oh', '.'], ['i', 'is', 'not', '.', '.', '.', '.', 'you', 'to', 'to', '.', '.'], ['i', 'is', 'not', '.', '.', '.', '.', 'is', 'is', 'is', 'is', 'is', '.'], ['what', '.'], ['oh', 'is'], ['what', 'is', 'is', 'is', 'the', 'the', 'the', '.', 'the', 'the'], ['what'], ['i', 'is', 'you'], ['i', 'is', 'not', 'to', 'is', 'the', 'the', 'the', 'the', '.', '.', '.', '.'], ['what', '.', 'you', 'not', '.', '.', '.', '.', '.', '.', '.', '.'], ['yeah', 'you', 'is', '.', '.', '.'], ['i', 'is'], ['i', 'is', 'not', '.', '.', '.', 'i', 'you', 'a', 'to', '.', '.', '.'], ['i', 'i', 'not', 'i', 'i', '.', 'i', 'is', '.', '.', '.', 'i', 'i'], ['i', 'is', '.', '.'], ['i', '.', '.'], ['you', 'is'], ['you', 'you'], ['what', 'is'], ['i', '.'], ['i', 'i', 'not'], ['i', 'i', 'not', 'i', 'you', 'you', 'you', 'you', '.', '.', '.', '.', '.'], ['i', '.', 'not', 'not', '.', '.'], ['i'], ['i', 'is', 'is', 'is', '.', 'is', 'is', 'is', 'the', 'the', 'the', '.', '.'], ['i', 'i', 'not', 'not', 'not', 'a', '.'], ['i', 'you', 'not'], ['i', 'you', 'not', '.', '.', '.', '.', '.', '.', 'to', 'to', '.'], ['what', 'is', 'you', '.'], ['what', 'is', '.', '.', '.', '.', '.'], ['oh', '.'], ['i', 'is'], ['what', 'is', '.', '.', '.', '.', '.'], ['what', '.', '.'], ['i', 'is', '.', '.', '.', '.'], ['i', 'is', 'not'], ['what', '.', '.'], ['i', '.'], ['oh', 'is', 'you', 'you', '.'], ['i', 'am', 'not', '.'], ['what', 'is', 'is', '.'], ['what', '.'], ['i', 'i', 'you', '.', '.'], ['yeah', 'is', 'you', '.'], ['oh', 'is', 'is', 'is', '.'], ['yeah', '.'], ['i', 'am', 'not'], ['i', 'is', 'you', 'you', '.'], ['what', 'is', 'is', 'is', '.'], ['yeah', '.', '.', 'is', 'is', 'is', 'is', 'the'], ['i', 'i', 'not'], ['i', 'is', 'the', 'is', '.', 'the', 'the', 'the', 'the', 'the', '.', '.'], ['yeah', '.'], ['i', 'is', 'not', 'the', '.'], ['i', 'am', 'not', '.', '.', '.'], ['i', 'i'], ['i', 'not', 'i', '.', '.', '.', '.', '.'], ['i', 'am', 'not', '.', '.', '.', '.', '.', '.'], ['i', 'is', 'not', '.', '.', '.', 'is', '.', '.', '.'], ['i', 'is', 'you', 'you', '.', '.', '.', '.', '.', '.', '.'], ['i', 'i', 'you', 'you', 'you', 'you', '.'], ['i'], ['i', 'is', 'not', 'is', 'that', '.'], ['i', 'is', '.'], ['what', '.'], ['i', 'is', 'you'], ['i', 'is', '.', '.', 'you', '.', 'the', '.', '.', '.', 'i', 'i', 'i'], ['i', 'is', 'is', 'is', 'is', 'the', 'the', '.'], ['i', 'i', 'not', 'you', '.', '.', 'you', '.', '.', '.', '.'], ['i', 'is', '.', '.', '.', '.', '.', '.', '.', 'i', 'to', 'to', '.'], ['i', '.', 'not', 'is', '.', '.'], ['i', '.', '.', 'you', '.', '.', '.', '.', '.'], ['i', 'is', 'not', 'not', '.', '.', 'the', 'to', 'to', '.', '.', '.', '.'], ['oh', 'is', 'you', '.'], ['i', 'i', 'not', 'you', 'you', '.', '.'], ['oh', 'is'], ['oh', 'is', '.', '.', '.', 'the'], ['i', 'is', '.'], ['i', 'is', 'not', '.', '.', '.', '.', '.', '.'], ['.'], ['i', 'is'], ['you', 'you'], ['i', 'is'], ['i', 'i', 'not', '.', '.', '.', 'you', 'you', 'to', 'to', 'to'], ['what', '.'], ['oh', '.'], ['what', '.', '.', '.', '.', '.'], ['we', 'is', 'not', '.', '.'], ['oh', 'you', 'not', '.', '.', '.', '.', '.', '.'], ['oh', 'is', 'is', 'is', '.'], ['what'], ['i', 'is', 'you'], ['what', 'is', 'the', '.', '.', '.'], ['i', 'i', 'not', 'you', '.', '.', '.', '.', '.', '.', '.'], ['what', 'is', 'is'], ['you', 'you', '.', '.', '.', '.'], ['i', 'you', 'you', '.'], ['oh', 'is', 'you', 'you', 'the', '.', '.', 'you', 'to', 'you'], ['oh', 'you', 'you', '.'], ['oh', 'is'], ['what', 'is', '.', '.'], ['oh', 'is', 'is'], ['oh', '.', '.'], ['i', 'is'], ['i', 'i', 'not', 'not', '.', '.', 'i', 'i', 'i', 'i', 'to', 'to', '.'], ['i', 'i', 'not', 'is', 'i', 'is', 'the', '...', '.'], ['i', 'is', 'is', '.', '.', '.', '.', '.', 'the', 'the', '.', '.'], ['what', 'is', 'you', 'you', 'you', '.'], ['i', 'is', 'not', '.', '.', '.', '.', '.', '.'], ['oh', 'is', 'is', 'is', 'is', 'is', '.'], ['i', 'is', 'not', 'not', 'a', 'a', '.'], ['i', 'i', 'not', '.', '.', '.', '.', '.', '.'], ['you', 'is', 'you'], ['i', '.'], ['oh', 'is', 'is', 'is', 'is', '.'], ['i', 'i', 'not'], ['i', 'i', 'i', 'you', '.', '.'], ['i', 'i'], ['what'], ['i', 'is'], ['i', 'i', 'you'], ['i'], ['oh', 'is', '.', '.', '.', '.', 'is', 'is', 'the', 'a', 'is', '.'], ['i', 'is', 'is', 'is', '.', '.', '.', '.', 'is', 'is', '.', '.'], ['oh', 'is', 'is', 'is', 'is', 'that', '.'], ['i', 'is', 'is', 'is', 'is', 'is', '.', '.'], ['i', 'is', 'not', 'is', 'i', 'to', 'is', 'a', 'you', '.'], ['you', 'you', '.', '.', '.', '.', 'you', 'you', 'to', 'the', 'the', '.', 'i']]\n"
     ]
    }
   ],
   "source": [
    "print(prediction)"
   ]
  },
  {
   "cell_type": "code",
   "execution_count": 75,
   "metadata": {},
   "outputs": [
    {
     "data": {
      "text/plain": [
       "17960"
      ]
     },
     "execution_count": 75,
     "metadata": {},
     "output_type": "execute_result"
    }
   ],
   "source": [
    "processor.vocab_size"
   ]
  },
  {
   "cell_type": "code",
   "execution_count": 89,
   "metadata": {},
   "outputs": [
    {
     "data": {
      "text/plain": [
       "'You guys, you guys! Chef is going away. \\n'"
      ]
     },
     "execution_count": 89,
     "metadata": {},
     "output_type": "execute_result"
    }
   ],
   "source": [
    "texts[0]"
   ]
  },
  {
   "cell_type": "code",
   "execution_count": null,
   "metadata": {
    "collapsed": true
   },
   "outputs": [],
   "source": []
  },
  {
   "cell_type": "code",
   "execution_count": null,
   "metadata": {
    "collapsed": true
   },
   "outputs": [],
   "source": []
  },
  {
   "cell_type": "code",
   "execution_count": null,
   "metadata": {
    "collapsed": true
   },
   "outputs": [],
   "source": []
  },
  {
   "cell_type": "code",
   "execution_count": null,
   "metadata": {
    "collapsed": true
   },
   "outputs": [],
   "source": []
  },
  {
   "cell_type": "code",
   "execution_count": null,
   "metadata": {
    "collapsed": true
   },
   "outputs": [],
   "source": []
  },
  {
   "cell_type": "code",
   "execution_count": null,
   "metadata": {
    "collapsed": true
   },
   "outputs": [],
   "source": []
  }
 ],
 "metadata": {
  "kernelspec": {
   "display_name": "Python 3",
   "language": "python",
   "name": "python3"
  },
  "language_info": {
   "codemirror_mode": {
    "name": "ipython",
    "version": 3
   },
   "file_extension": ".py",
   "mimetype": "text/x-python",
   "name": "python",
   "nbconvert_exporter": "python",
   "pygments_lexer": "ipython3",
   "version": "3.6.1"
  }
 },
 "nbformat": 4,
 "nbformat_minor": 2
}
