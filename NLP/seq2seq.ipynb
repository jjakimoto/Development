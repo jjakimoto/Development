{
 "cells": [
  {
   "cell_type": "markdown",
   "metadata": {
    "collapsed": true
   },
   "source": [
    "file = open(\"data/cornell movie-dialogs corpus/movie_lines.txt\", \"r\",encoding='utf-8', errors='ignore')\n",
    "data = file.read()"
   ]
  },
  {
   "cell_type": "markdown",
   "metadata": {
    "collapsed": true
   },
   "source": [
    "from nltk.corpus import wordnet\n",
    "from nltk.metrics import edit_distance\n",
    "import re\n",
    "import enchant\n",
    "from nltk.tokenize import word_tokenize\n",
    "\n",
    "replacement_patterns = [\n",
    "    (r'won\\'t', 'will not'),\n",
    "    (r'can\\'t', 'cannot'),\n",
    "    (r'i\\'m', 'i am'),\n",
    "    (r'ain\\'t', 'is not'),\n",
    "    (r'(\\w+)\\'ll', '\\g<1> will'),\n",
    "    (r'(\\w+)n\\'t', '\\g<1> not'),\n",
    "    (r'(\\w+)\\'ve', '\\g<1> have'),\n",
    "    (r'(\\w+)\\'s', '\\g<1> is'),\n",
    "    (r'(\\w+)\\'re', '\\g<1> are'),\n",
    "    (r'(\\w+)\\'d', '\\g<1> would')\n",
    "]\n",
    "\n",
    "class RegexpReplacer(object):\n",
    "    def __init__(self, patterns=replacement_patterns):\n",
    "        self.patterns = [(re.compile(regex), repl) for (regex, repl) in patterns]\n",
    "        \n",
    "    def replace(self, text):\n",
    "        s = text\n",
    "        for (pattern, repl) in self.patterns:\n",
    "            s = re.sub(pattern, repl, s)\n",
    "        return s\n",
    "    \n",
    "\n",
    "class SpellingReplacer(object):\n",
    "    def __init__(self, dict_name=\"en\", max_dist=2, min_word_length=1):\n",
    "        self.spell_dict = enchant.Dict(dict_name)\n",
    "        self.max_dist = max_dist\n",
    "        self.min_word_length = min_word_length\n",
    "        \n",
    "    def replace(self, word):\n",
    "        if self.spell_dict.check(word):\n",
    "            return word\n",
    "        if len(word) < self.min_word_length:\n",
    "            return word\n",
    "        suggestions = self.spell_dict.suggest(word)\n",
    "        if suggestions and edit_distance(word, suggestions[0]) <= self.max_dist:\n",
    "            return suggestions[0]\n",
    "        else:\n",
    "            return word\n",
    "\n",
    "class AntonymReplacer(object):\n",
    "    def replace(self, word, pos=None):\n",
    "        antonyms = set()\n",
    "        for syn in wordnet.synsets(word, pos=pos):\n",
    "            for lemma in syn.lemmas():\n",
    "                for antonym in lemma.antonyms():\n",
    "                    antonyms.add(antonym.name())\n",
    "        if len(antonyms) == 1:\n",
    "            return antonyms.pop()\n",
    "        else:\n",
    "            return None\n",
    "        \n",
    "    def replace_negations(self, sent):\n",
    "        i, length = 0, len(sent)\n",
    "        words = []\n",
    "        while i < length:\n",
    "            word = sent[i]\n",
    "            if word == \"not\" and i+1 < length:\n",
    "                ant = self.replace(sent[i+1])\n",
    "                if ant:\n",
    "                    words.append(ant)\n",
    "                    i += 2\n",
    "                    continue\n",
    "            words.append(word)\n",
    "            i += 1\n",
    "        return words\n",
    "\n",
    "\n",
    "class RepeatReplacer(object):\n",
    "    def __init__(self):\n",
    "        self.repeat_regexp = re.compile(r'(\\w*)(\\w)\\2(\\w*)')\n",
    "        self.repl = r'\\1\\2\\3'\n",
    "        \n",
    "    def replace(self, word):\n",
    "        if wordnet.synsets(word):\n",
    "            return word\n",
    "        repl_word = self.repeat_regexp.sub(self.repl, word)\n",
    "        if repl_word != word:\n",
    "            return self.replace(repl_word)\n",
    "        else:\n",
    "            return repl_word\n",
    "        \n",
    "def clean_text(text, replace_neg=False, use_unknown=False, dict_name=\"en\", max_dist=2, min_word_length=1):\n",
    "    rep = RepeatReplacer()\n",
    "    ant = AntonymReplacer()\n",
    "    reg = RegexpReplacer()\n",
    "    spell = SpellingReplacer(dict_name, max_dist, min_word_length)\n",
    "    # Get rid of some abbreviations\n",
    "    text = reg.replace(text)\n",
    "    words = word_tokenize(text)\n",
    "    if replace_neg:\n",
    "        words = ant.replace_negations(words)\n",
    "    words = [spell.replace(word) for word in words]\n",
    "    if not use_unknown:\n",
    "        spell_dict = enchant.Dict(dict_name)\n",
    "        words = [word for word in words if spell_dict.check(word)]\n",
    "    return words"
   ]
  },
  {
   "cell_type": "markdown",
   "metadata": {
    "collapsed": true
   },
   "source": [
    "import re\n",
    "from tqdm import tqdm\n",
    "\n",
    "def clean_movie_data(data):\n",
    "    pattern = \" \\+\\+\\+\\$\\+\\+\\+ u[0-9] \\+\\+\\+\\$\\+\\+\\+ m[0-9] \\+\\+\\+\\$\\+\\+\\+ \\w* \\+\\+\\+\\$\\+\\+\\+ \"\n",
    "    lines = re.split(pattern, data.lower())\n",
    "    line_words = []\n",
    "    for line in tqdm(lines):\n",
    "        try:\n",
    "            cleaned_line = clean_text(line, max_dist=0)\n",
    "            if len(cleaned_line) >= 1:\n",
    "                line_words.append(cleaned_line)\n",
    "        except KeyboardInterrupt:\n",
    "            break\n",
    "    return line_words"
   ]
  },
  {
   "cell_type": "code",
   "execution_count": 1,
   "metadata": {},
   "outputs": [
    {
     "name": "stdout",
     "output_type": "stream",
     "text": [
      "CPU times: user 332 ms, sys: 336 ms, total: 668 ms\n",
      "Wall time: 297 ms\n"
     ]
    }
   ],
   "source": [
    "%%time\n",
    "import pandas as pd\n",
    "# texts = clean_movie_data(data)\n",
    "df = pd.read_csv(\"data/All-seasons.csv\")"
   ]
  },
  {
   "cell_type": "code",
   "execution_count": 2,
   "metadata": {},
   "outputs": [
    {
     "data": {
      "text/html": [
       "<div>\n",
       "<style>\n",
       "    .dataframe thead tr:only-child th {\n",
       "        text-align: right;\n",
       "    }\n",
       "\n",
       "    .dataframe thead th {\n",
       "        text-align: left;\n",
       "    }\n",
       "\n",
       "    .dataframe tbody tr th {\n",
       "        vertical-align: top;\n",
       "    }\n",
       "</style>\n",
       "<table border=\"1\" class=\"dataframe\">\n",
       "  <thead>\n",
       "    <tr style=\"text-align: right;\">\n",
       "      <th></th>\n",
       "      <th>Season</th>\n",
       "      <th>Episode</th>\n",
       "      <th>Character</th>\n",
       "      <th>Line</th>\n",
       "    </tr>\n",
       "  </thead>\n",
       "  <tbody>\n",
       "    <tr>\n",
       "      <th>0</th>\n",
       "      <td>10</td>\n",
       "      <td>1</td>\n",
       "      <td>Stan</td>\n",
       "      <td>You guys, you guys! Chef is going away. \\n</td>\n",
       "    </tr>\n",
       "    <tr>\n",
       "      <th>1</th>\n",
       "      <td>10</td>\n",
       "      <td>1</td>\n",
       "      <td>Kyle</td>\n",
       "      <td>Going away? For how long?\\n</td>\n",
       "    </tr>\n",
       "    <tr>\n",
       "      <th>2</th>\n",
       "      <td>10</td>\n",
       "      <td>1</td>\n",
       "      <td>Stan</td>\n",
       "      <td>Forever.\\n</td>\n",
       "    </tr>\n",
       "    <tr>\n",
       "      <th>3</th>\n",
       "      <td>10</td>\n",
       "      <td>1</td>\n",
       "      <td>Chef</td>\n",
       "      <td>I'm sorry boys.\\n</td>\n",
       "    </tr>\n",
       "    <tr>\n",
       "      <th>4</th>\n",
       "      <td>10</td>\n",
       "      <td>1</td>\n",
       "      <td>Stan</td>\n",
       "      <td>Chef said he's been bored, so he joining a gro...</td>\n",
       "    </tr>\n",
       "  </tbody>\n",
       "</table>\n",
       "</div>"
      ],
      "text/plain": [
       "  Season Episode Character                                               Line\n",
       "0     10       1      Stan         You guys, you guys! Chef is going away. \\n\n",
       "1     10       1      Kyle                        Going away? For how long?\\n\n",
       "2     10       1      Stan                                         Forever.\\n\n",
       "3     10       1      Chef                                  I'm sorry boys.\\n\n",
       "4     10       1      Stan  Chef said he's been bored, so he joining a gro..."
      ]
     },
     "execution_count": 2,
     "metadata": {},
     "output_type": "execute_result"
    }
   ],
   "source": [
    "df.head()"
   ]
  },
  {
   "cell_type": "code",
   "execution_count": 3,
   "metadata": {
    "collapsed": true
   },
   "outputs": [],
   "source": [
    "texts = df[\"Line\"].values"
   ]
  },
  {
   "cell_type": "code",
   "execution_count": 4,
   "metadata": {},
   "outputs": [
    {
     "data": {
      "text/plain": [
       "array(['You guys, you guys! Chef is going away. \\n',\n",
       "       'Going away? For how long?\\n', 'Forever.\\n', \"I'm sorry boys.\\n\",\n",
       "       \"Chef said he's been bored, so he joining a group called the Super Adventure Club. \\n\",\n",
       "       'Wow!\\n',\n",
       "       'Chef?? What kind of questions do you think adventuring around the world is gonna answer?!\\n',\n",
       "       \"What's the meaning of life? Why are we here?\\n\",\n",
       "       \"I hope you're making the right choice.\\n\",\n",
       "       \"I'm gonna miss him.  I'm gonna miss Chef and I...and I don't know how to tell him! \\n\"], dtype=object)"
      ]
     },
     "execution_count": 4,
     "metadata": {},
     "output_type": "execute_result"
    }
   ],
   "source": [
    "texts[:10]"
   ]
  },
  {
   "cell_type": "code",
   "execution_count": 22,
   "metadata": {
    "collapsed": true
   },
   "outputs": [],
   "source": [
    "from sklearn import preprocessing\n",
    "import nltk\n",
    "import numpy as np\n",
    "\n",
    "from hedgeable_ai.functions.preprocessing.basic_processor import BasicProcessor\n",
    "from hedgeable_ai.functions.preprocessing.clean_text import clean_text\n",
    "\n",
    "\n",
    "class Word2IndexProcessor(BasicProcessor):\n",
    "    def __init__(self, texts, is_processed=False, num_additional=2,\n",
    "                 max_dist=0, min_word_length=1,replace_neg=False, use_unknown=False):\n",
    "        _texts = []\n",
    "        lengths = []\n",
    "        self.num_additional = num_additional\n",
    "        for text in texts:\n",
    "            if is_processed:\n",
    "                words = text\n",
    "            else:\n",
    "                words = clean_text(text.lower(), max_dist=max_dist,\n",
    "                                   min_word_length=min_word_length,\n",
    "                                   replace_neg=replace_neg, use_unknown=use_unknown)\n",
    "            if len(words) > 0:\n",
    "                _texts.extend(words)\n",
    "                lengths.append(len(words))\n",
    "        lengths = list(np.cumsum(lengths))\n",
    "        lengths.insert(0, 0)\n",
    "        self.encoder = preprocessing.LabelEncoder()\n",
    "        # 0 adn 1 are taken for padding and <eos> respectively\n",
    "        indices = self.encoder.fit_transform(_texts) + self.num_additional\n",
    "        # split to sentences\n",
    "        self.data = np.array([indices[lengths[i]:lengths[i+1]] for i in range(len(lengths) - 1)])\n",
    "        \n",
    "    def encode(self, text):\n",
    "        words = clean_text(text.lower(), max_dist=0, min_word_length=1,replace_neg=False, use_unknown=False)\n",
    "        words = [word for word in words if word in self.encoder.classes_]\n",
    "        if words:\n",
    "            index = np.array(self.encoder.transform(words)) + self.num_additional\n",
    "        else:\n",
    "            index = np.array([])\n",
    "        return index\n",
    "    \n",
    "    def decode(self, index):\n",
    "        return [self.encoder.inverse_transform(i-self.num_additional) for i in index if i >=self.num_additional]    \n",
    "            \n",
    "    \n",
    "    def batch_process_test(self, X, y=None):\n",
    "        if y is None:\n",
    "            return np.array([self.encode(x_i) for x_i in X])\n",
    "        else:\n",
    "            return np.array([self.encode(x_i) for x_i in X]), np.array(y)\n",
    "        \n",
    "    @property\n",
    "    def vocab_size(self):\n",
    "        return len(self.encoder.classes_)\n",
    "\n",
    "    def batch_padding(self, inputs, max_sequence_length=None, pad_idx=0):\n",
    "        \"\"\"\n",
    "        Args:\n",
    "            inputs:\n",
    "                list of sentences (integer lists)\n",
    "            max_sequence_length:\n",
    "                integer specifying how large should `max_time` dimension be.\n",
    "                If None, maximum sequence length would be used\n",
    "    \n",
    "        Returns:\n",
    "            inputs_time_major:\n",
    "                input sentences transformed into time-major matrix \n",
    "                (shape [max_time, batch_size]) padded with 0s\n",
    "            sequence_lengths:\n",
    "                batch-sized list of integers specifying amount of active \n",
    "                time steps in each input sequence\n",
    "        \"\"\"\n",
    "    \n",
    "        sequence_lengths = [len(seq) for seq in inputs]\n",
    "        batch_size = len(inputs)\n",
    "    \n",
    "        if max_sequence_length is None:\n",
    "            max_sequence_length = max(sequence_lengths)\n",
    "        sequence_lengths = [min(length, max_sequence_length) for length in sequence_lengths]\n",
    "        max_sequence_length = max(sequence_lengths)\n",
    "        inputs_batch_major = pad_idx * np.ones([batch_size, max_sequence_length], dtype=np.int32)\n",
    "    \n",
    "        for i, seq in enumerate(inputs):\n",
    "            seq = seq[:max_sequence_length]\n",
    "            for j, element in enumerate(seq):\n",
    "                inputs_batch_major[i, j] = element\n",
    "\n",
    "        return inputs_batch_major, sequence_lengths"
   ]
  },
  {
   "cell_type": "code",
   "execution_count": 39,
   "metadata": {},
   "outputs": [
    {
     "name": "stdout",
     "output_type": "stream",
     "text": [
      "CPU times: user 49min 41s, sys: 39.5 s, total: 50min 21s\n",
      "Wall time: 49min 27s\n"
     ]
    }
   ],
   "source": [
    "%%time\n",
    "# from hedgeable_ai.functions.preprocessing.word2index import Word2IndexProcessor\n",
    "\n",
    "processor = Word2IndexProcessor(texts[:], is_processed=False)"
   ]
  },
  {
   "cell_type": "code",
   "execution_count": 96,
   "metadata": {
    "collapsed": true
   },
   "outputs": [],
   "source": [
    "from hedgeable_ai.models.nn.ff.core import FeedForward\n",
    "\n",
    "class BaseAttention(object):\n",
    "    def __init__(self, conf=None):\n",
    "        if conf is None:\n",
    "            conf = {}\n",
    "        for key in self.default_conf.keys():\n",
    "            if key not in conf.keys():\n",
    "                conf[key] = self.default_conf[key]\n",
    "        self.conf = conf\n",
    "        \n",
    "    def __call__(self, query, source_outputs, source_inputs, training=True):\n",
    "        attentions, alignments = self._get_attentions(query, source_outputs, source_inputs, training)\n",
    "        return attentions, alignments\n",
    "    \n",
    "    def _get_attentions(self, query, source_outputs, source_inputs, trainig):\n",
    "        raise NotImplementedError()\n",
    "    \n",
    "class LuongAttention(BaseAttention):\n",
    "    default_conf = {\"local_scale\":5, \"attention_size\":300}\n",
    "    def __init__(self, conf=None):\n",
    "        super().__init__(conf)\n",
    "        self.local_scale = self.conf[\"local_scale\"]\n",
    "        self.attention_size = self.conf[\"attention_size\"]\n",
    "        self.middle_hidden = int(0.5 * self.attention_size)\n",
    "        model_params = [{\"name\":\"dense\", \"num_hidden\":self.middle_hidden, \"activation\":tf.tanh}]\n",
    "        self.local_ff = FeedForward(model_params, scope_name=\"local_ff\")\n",
    "        model_params = [{\"name\":\"dense\", \"num_hidden\":self.attention_size, \"activation\":tf.tanh}]\n",
    "        self.attention_ff = FeedForward(model_params, scope_name=\"attention_ff\")   \n",
    "    \n",
    "    def _get_global_attentions(self, query, source_outputs, source_inputs, training):\n",
    "        \"\"\"Calulate global alignments\n",
    "        \n",
    "        Args:\n",
    "            query: tensor with shape=(batch, output_size), decoder RNN output\n",
    "            source_outputs: tensor with shape=(batch, time_length, output_size), \n",
    "                entire outputs of encoder RNN\n",
    "            source_inputs: tensor with shape=(batch, time_length)\n",
    "            training: tensor bool\n",
    "            \n",
    "        Returns:\n",
    "            alignments with shape = (batch, time_length)\n",
    "        \"\"\"\n",
    "        query = tf.expand_dims(query, 1)\n",
    "        scale = get_variable(\"global_scale\", [],\n",
    "                                     dtype=tf.float32,\n",
    "                                     initializer=tf.ones_initializer)\n",
    "        scale = scale / tf.constant(np.sqrt(self.attention_size))\n",
    "        _score = tf.matmul(query, source_outputs, transpose_b=True)\n",
    "        _score = tf.squeeze(_score, [1]) #shape=(batch, output_size)\n",
    "        _alignments = tf.nn.softmax(_score)\n",
    "        # We will not put attention to padded input\n",
    "        weights = tf.cast(source_inputs >= 1, tf.float32)\n",
    "        _alignments = weights * _alignments\n",
    "        length = tf.shape(_alignments)[1]\n",
    "        alignments = _alignments / tf.tile(tf.reduce_sum(_alignments, 1, keep_dims=True), [1, length])\n",
    "        return alignments\n",
    "    \n",
    "    def _get_local_attentions(self, query, source_outputs, source_inputs, training):\n",
    "        \"\"\"Calulate local alignments\n",
    "        \n",
    "        Args:\n",
    "            query: tensor with shape=(batch, output_size), decoder RNN output\n",
    "            source_outputs: tensor with shape=(batch, time_length, output_size), \n",
    "                entire outputs of encoder RNN\n",
    "            source_inputs: tensor with shape=(batch, time_length)\n",
    "            training: tensor bool\n",
    "            \n",
    "        Returns:\n",
    "            alignments with shape = (batch, time_length)\n",
    "        \"\"\"\n",
    "        batch_size, length, output_size = tf.unstack(tf.shape(source_outputs))\n",
    "        scale = get_variable(\"local_scale\", [],\n",
    "                             dtype=tf.float32,\n",
    "                             initializer=tf.ones_initializer)\n",
    "        scale = scale / tf.constant(np.sqrt(self.middle_hidden))\n",
    "        u = self.local_ff(query, training) / scale\n",
    "        # Consider only non zero index range, the size will be (batch, 1)\n",
    "        S = tf.cast(tf.reduce_sum(tf.cast(source_inputs >= 1, tf.float32), axis=1, keep_dims=True), tf.float32)\n",
    "        v_local = tf.get_variable(\"v_local\", [self.middle_hidden], dtype=tf.float32)\n",
    "        v_local = tf.expand_dims(v_local, [1])\n",
    "        # Size will be [batch_size, 1]\n",
    "        pt = S * tf.nn.sigmoid(tf.matmul(u, v_local))\n",
    "        pt = tf.tile(pt, [1, length])\n",
    "        # pt has shap=(batch, length) and values are the same along time axis\n",
    "        sig = tf.constant(0.5) * self.local_scale\n",
    "        # Index value will be in [1, S]\n",
    "        index = tf.cast(tf.range(tf.constant(1), length + tf.constant(1)), tf.float32)\n",
    "        index = tf.expand_dims(index, [0])\n",
    "        index = tf.tile(index, [batch_size, 1])\n",
    "        # Size of pt and  index has to be [batch_size, length]\n",
    "        alignments = tf.exp(-0.5 * (pt - index)**2 / sig**2)\n",
    "        return alignments\n",
    "    \n",
    "    def _get_attentions(self, query, source_outputs, source_inputs, training):\n",
    "        local_alignments = self._get_local_attentions(query, source_outputs, source_inputs, training)\n",
    "        global_alignments = self._get_global_attentions(query, source_outputs, source_inputs, training)\n",
    "        alignments = global_alignments * local_alignments\n",
    "        _alignments = tf.expand_dims(alignments, 1)\n",
    "        context = tf.matmul(_alignments, source_outputs)\n",
    "        # context shape is (batch_size, 1, output_size)\n",
    "        context = tf.squeeze(context, [1])\n",
    "        pre_attentions = tf.concat((context, query), axis=1)\n",
    "        attentions = self.attention_ff(pre_attentions, training)\n",
    "        return attentions, alignments"
   ]
  },
  {
   "cell_type": "code",
   "execution_count": 97,
   "metadata": {
    "collapsed": true
   },
   "outputs": [],
   "source": [
    "import tensorflow as tf\n",
    "import tensorflow.contrib.rnn as rnn\n",
    "import tensorflow.contrib.seq2seq as seq2seq\n",
    "from hedgeable_ai.models.nn import BaseModel, get_shape, get_length\n",
    "import tensorflow.contrib.rnn as rnn\n",
    "\n",
    "import tensorflow as tf\n",
    "\n",
    "from hedgeable_ai.models.nn.params import nn_is_logit\n",
    "from hedgeable_ai.models.nn import BaseNN, get_shape\n",
    "\n",
    "from hedgeable_ai.models.nn.rnn import get_cell\n",
    "\n",
    "count = 0\n",
    "class DialogueAgent(BaseNN):\n",
    "    def __init__(self, processor, emb_size=300, maxlen=20,\n",
    "                 conf=None, additional_length=3, clip_val=5.0, \n",
    "                 is_attention=False, *args, **kwargs):\n",
    "        self.emb_size = emb_size\n",
    "        self.clip_val = clip_val\n",
    "        # leave index 0 for padding and 1 for  <eos>\n",
    "        self.vocab_size = processor.vocab_size + 2\n",
    "        self.maxlen = maxlen\n",
    "        self.additional_length = additional_length\n",
    "        self.is_attention = is_attention\n",
    "        super().__init__(processor=processor, conf=conf, *args, **kwargs)\n",
    "        \n",
    "    def _build_graph(self):\n",
    "        \"\"\"Build tensorflow graph\n",
    "        \n",
    "        Note:\n",
    "            You build graphs for output and input, which will be used \n",
    "            for training and prediction.\n",
    "        \"\"\"\n",
    "        # Build Basic Netwoiork\n",
    "        self.attention_model = LuongAttention(self.conf)\n",
    "        W_output = tf.Variable(\n",
    "            tf.random_uniform([self.attention_model.attention_size, self.vocab_size], -0.1, 0.1), dtype=tf.float32)\n",
    "        b_output = tf.Variable(tf.zeros([self.vocab_size]), dtype=tf.float32)\n",
    "        \n",
    "        self.encoder_input = tf.placeholder(tf.int32, shape=(None, None), name=\"encoder_input\")\n",
    "        self.decoder_target = tf.placeholder(tf.int32, shape=(None, None), name=\"decoder_target\")\n",
    "        self.training = tf.placeholder(tf.bool, (), name=\"trainig\")\n",
    "        encoder_length = get_length(self.encoder_input)\n",
    "        decoder_length = get_length(self.decoder_target)\n",
    "        # Encoder\n",
    "        encoder_cell = get_cell(self.conf[\"model\"])\n",
    "        embeddings = tf.Variable(\n",
    "            tf.random_uniform([self.vocab_size, self.emb_size], -0.1, 0.1, dtype=tf.float32))\n",
    "        encoder_input_embedded = tf.nn.embedding_lookup(embeddings, self.encoder_input)\n",
    "        encoder_outputs, encoder_final_state = tf.nn.dynamic_rnn(\n",
    "            encoder_cell, encoder_input_embedded, sequence_length=encoder_length, \n",
    "            dtype=tf.float32, time_major=False, scope=\"encoder\")\n",
    "\n",
    "        # Decoder\n",
    "        decoder_cell = get_cell(self.conf[\"model\"])\n",
    "        batch_size, encoder_max_time = tf.unstack(tf.shape(self.encoder_input))\n",
    "        decoder_output_size = self._get_output_size(self.conf[\"model\"])\n",
    "        # We use a decoder length 10 words longer than encoder\n",
    "        max_decoder_length = encoder_length + tf.constant(self.additional_length)\n",
    "        self.max_decoder_length = max_decoder_length\n",
    "        # Prepare for padding and EOS\n",
    "        eos_time_slice = tf.ones([batch_size], dtype=tf.int32, name='EOS')\n",
    "        eos_step_embedded = tf.nn.embedding_lookup(embeddings, eos_time_slice)\n",
    "        pad_time_slice = tf.ones([batch_size], dtype=tf.int32, name='PAD')\n",
    "        pad_step_embedded = tf.zeros_like(eos_step_embedded)\n",
    "        \n",
    "        def loop_fn_initial():\n",
    "            initial_elements_finished = (0 >= max_decoder_length)\n",
    "            initial_input = eos_step_embedded\n",
    "            initial_cell_state = encoder_final_state\n",
    "            initial_cell_output  = None\n",
    "            initial_loop_state = None\n",
    "            return (initial_elements_finished,\n",
    "                initial_input,\n",
    "                initial_cell_state,\n",
    "                initial_cell_output,\n",
    "                initial_loop_state)\n",
    "        \n",
    "        def loop_fn_transition(time, previous_output, previous_state, previous_loop_state):\n",
    "            if self.is_attention:\n",
    "                previous_output, alignment = self.attention_model(\n",
    "                    previous_output, encoder_outputs, self.encoder_input, self.training)\n",
    "            output_logits = tf.matmul(previous_output, W_output) + b_output\n",
    "            prediction  = tf.argmax(output_logits, axis=1)\n",
    "            def get_next_input():\n",
    "                next_input = tf.nn.embedding_lookup(embeddings,  prediction)\n",
    "                return next_input\n",
    "            elements_finished = (time >= max_decoder_length)\n",
    "            finished = tf.reduce_all(elements_finished)\n",
    "            next_input = tf.cond(finished, lambda: pad_step_embedded, get_next_input)\n",
    "            state  = previous_state\n",
    "            loop_state = previous_loop_state\n",
    "            output = previous_output\n",
    "            return (elements_finished, \n",
    "                next_input,\n",
    "                state,\n",
    "                output,\n",
    "                loop_state)\n",
    "        \n",
    "        def loop_fn(time, previous_output, previous_state,  previous_loop_state):\n",
    "            if previous_state is None:\n",
    "                assert previous_output is None and previous_state is None\n",
    "                return loop_fn_initial()\n",
    "            else:\n",
    "                return loop_fn_transition(time, previous_output, previous_state,  previous_loop_state)\n",
    "        \n",
    "        decoder_outputs_ta, decoder_final_state, _ = tf.nn.raw_rnn(decoder_cell, loop_fn)\n",
    "        decoder_outputs = decoder_outputs_ta.stack()\n",
    "        decoder_max_steps, decoder_batch_size, decoder_outputs_size = tf.unstack(tf.shape(decoder_outputs))\n",
    "        self.max_steps = decoder_max_steps\n",
    "        self.decoder_batch_size = decoder_batch_size\n",
    "        decoder_outputs_size = self.attention_model.attention_size\n",
    "        self.decoder_outputs = decoder_outputs\n",
    "        decoder_outputs_flat = tf.reshape(decoder_outputs, (-1, decoder_outputs_size))\n",
    "        decoder_logits_flat = tf.matmul(decoder_outputs_flat, W_output) + b_output\n",
    "        decoder_logits = tf.reshape(decoder_logits_flat, (decoder_max_steps, decoder_batch_size, self.vocab_size))\n",
    "        decoder_logits = tf.transpose(decoder_logits, [1, 0, 2])\n",
    "        self.decoder_prediction = tf.argmax(decoder_logits, 2)\n",
    "        self.decoder_logits = decoder_logits\n",
    "        \n",
    "        # Optimization\n",
    "        cross_entropy = tf.nn.softmax_cross_entropy_with_logits(\n",
    "            labels=tf.one_hot(self.decoder_target, depth=self.vocab_size, dtype=tf.float32),\n",
    "            logits=decoder_logits)\n",
    "        # cross_entropy = (tf.nn.softmax(self.decoder_logits) - tf.one_hot(self.decoder_target, depth=self.vocab_size, dtype=tf.float32))**2\n",
    "        # We do not optimize for negative labels\n",
    "        # weights = tf.cast(self.decoder_target >= 0, tf.float32)\n",
    "        # self.weights = weights\n",
    "        # self.loss = tf.reduce_mean(cross_entropy * weights)\n",
    "        self.loss = tf.reduce_mean(cross_entropy)\n",
    "        \n",
    "        self.learning_rate_op = self._get_learning_rate()\n",
    "        update_ops = tf.get_collection(tf.GraphKeys.UPDATE_OPS)\n",
    "        with tf.control_dependencies(update_ops):\n",
    "            self.optimizer = self._get_optimizer(self.optimizer_name, self.learning_rate_op, self.optimizer_conf)\n",
    "            grads_vars = self.optimizer.compute_gradients(self.loss)\n",
    "            clipped_grads_vars = [\n",
    "                (tf.clip_by_norm(gv[0], clip_norm=self.clip_val), gv[1]) \n",
    "                for gv in grads_vars]\n",
    "            self.train_step = self.optimizer.apply_gradients(clipped_grads_vars)\n",
    "        \n",
    "    def _optimize(self, batch_X, batch_y, *args, **kwargs):\n",
    "        global count\n",
    "        batch_X = [x[::-1] for x in batch_X[0]]\n",
    "        batch_X, Xlen = self.processor.batch_padding(batch_X, self.maxlen)\n",
    "        length = np.max(Xlen) + self.additional_length\n",
    "        batch_y = self._batch_padding(batch_y, length)\n",
    "        feed_dict = {self.encoder_input: batch_X,\n",
    "                     self.decoder_target: batch_y,\n",
    "                     self.training: False}\n",
    "        \n",
    "        # print(np.argmax(logits, 2))\n",
    "        # print(\"batch_y\", batch_y)\n",
    "        # print(decoder_batch)\n",
    "        # print(one_hot)\n",
    "        if count % 1000 == 0:\n",
    "            logits = self.sess.run(self.decoder_logits, feed_dict=feed_dict)\n",
    "            # alignments = self.sess.run(self.alignments, feed_dict=feed_dict)\n",
    "            decoder_batch = self.sess.run(self.decoder_batch_size, feed_dict=feed_dict)\n",
    "            print(\"predition\", np.argmax(logits, 2))\n",
    "            print(\"max\", np.max(np.argmax(logits, 2)))\n",
    "        # print(\"alignments\", logits)\n",
    "        # print(\"logits\", logits)\n",
    "        # print(np.max(np.argmax(logits, 2)))\n",
    "        count += 1\n",
    "        _, loss = self.sess.run([self.train_step, self.loss], feed_dict=feed_dict)\n",
    "        return loss\n",
    "    \n",
    "    def _get_output_size(self, conf):\n",
    "        if isinstance(conf, list) or isinstance(conf, tuple):\n",
    "            x = conf[-1]\n",
    "        else:\n",
    "            x = conf\n",
    "        return x[\"num_units\"]\n",
    "    \n",
    "    def generate_sentences(self, sentences):\n",
    "        X = [self.processor.encode(sentence) for sentence in sentences]\n",
    "        # X = sentences\n",
    "        X = [x_[::-1] for x_ in X]\n",
    "        X, Xlen = self.processor.batch_padding(X, self.maxlen)\n",
    "        feed_dict = {self.encoder_input: X,\n",
    "                     self.training: True}\n",
    "        word_idx = self.sess.run(self.decoder_prediction, feed_dict=feed_dict)\n",
    "        logits =  self.sess.run(self.decoder_logits, feed_dict=feed_dict)\n",
    "        print(word_idx)\n",
    "        return [self.processor.decode(i) for i in word_idx], logits\n",
    "    \n",
    "    def _batch_padding(self, batch, length):\n",
    "        EOS = 1\n",
    "        PAD = 0\n",
    "        padded_batch = []\n",
    "        for x in batch:\n",
    "            x = list(x)\n",
    "            if len(x) > length:\n",
    "                x = x[:length]\n",
    "            elif len(x) < length:\n",
    "                x.append(EOS)\n",
    "            while len(x) < length:\n",
    "                x.append(PAD)\n",
    "            padded_batch.append(x)\n",
    "        return np.array(padded_batch)"
   ]
  },
  {
   "cell_type": "code",
   "execution_count": null,
   "metadata": {},
   "outputs": [
    {
     "name": "stderr",
     "output_type": "stream",
     "text": [
      "/home/tomoaki/anaconda3/lib/python3.6/site-packages/tensorflow/python/ops/gradients_impl.py:93: UserWarning: Converting sparse IndexedSlices to a dense Tensor of unknown shape. This may consume a large amount of memory.\n",
      "  \"Converting sparse IndexedSlices to a dense Tensor of unknown shape. \"\n",
      "\n",
      "\n",
      "\n",
      "\n",
      "  0%|          | 0/10000 [00:00<?, ?it/s]"
     ]
    },
    {
     "name": "stdout",
     "output_type": "stream",
     "text": [
      "Model saved in file: params/model.ckpt\n"
     ]
    },
    {
     "name": "stderr",
     "output_type": "stream",
     "text": [
      "\u001b[A\u001b[A\u001b[A\u001b[A\n",
      "\n",
      "\n",
      "\n",
      "  0%|          | 1/10000 [01:01<170:37:50, 61.43s/it]\u001b[A\u001b[A\u001b[A\u001b[A"
     ]
    },
    {
     "name": "stdout",
     "output_type": "stream",
     "text": [
      "predition [[10738    36     1 ...,     0     0     0]\n",
      " [17914 17914     1 ...,     0     0     0]\n",
      " [10738    36     1 ...,     0     0     0]\n",
      " ..., \n",
      " [    0     1     1 ...,     0     0     0]\n",
      " [10738    36     1 ...,     0     0     0]\n",
      " [10738 17914     1 ...,     0     0     0]]\n",
      "max 17914\n"
     ]
    },
    {
     "name": "stderr",
     "output_type": "stream",
     "text": [
      "\n",
      "\n",
      "\n",
      "\n",
      "  0%|          | 2/10000 [02:03<170:50:01, 61.51s/it]\u001b[A\u001b[A\u001b[A\u001b[A"
     ]
    },
    {
     "name": "stdout",
     "output_type": "stream",
     "text": [
      "predition [[10738  8492     1 ...,     0     0     0]\n",
      " [   36    36     1 ...,     0     0     0]\n",
      " [10738  8492     1 ...,     0     0     0]\n",
      " ..., \n",
      " [10738  8492     1 ...,     0     0     0]\n",
      " [10738  8492     1 ...,     0     0     0]\n",
      " [10738  8492     1 ...,     0     0     0]]\n",
      "max 10738\n"
     ]
    },
    {
     "name": "stderr",
     "output_type": "stream",
     "text": [
      "\n",
      "\n",
      "\n",
      "\n",
      "  0%|          | 3/10000 [03:04<170:55:10, 61.55s/it]\u001b[A\u001b[A\u001b[A\u001b[A\n",
      "\n",
      "\n",
      "\n",
      "  0%|          | 4/10000 [04:06<170:40:12, 61.47s/it]\u001b[A\u001b[A\u001b[A\u001b[A"
     ]
    },
    {
     "name": "stdout",
     "output_type": "stream",
     "text": [
      "predition [[7949    1    1 ...,    0    0    0]\n",
      " [7949    1    1 ...,    0    0    0]\n",
      " [  36    1    0 ...,    0    0    0]\n",
      " ..., \n",
      " [  36    1    0 ...,    0    0    0]\n",
      " [7949    1    1 ...,    0    0    0]\n",
      " [7949    1    1 ...,    0    0    0]]\n",
      "max 7949\n"
     ]
    },
    {
     "name": "stderr",
     "output_type": "stream",
     "text": [
      "\n",
      "\n",
      "\n",
      "\n",
      "  0%|          | 5/10000 [05:07<170:34:47, 61.44s/it]\u001b[A\u001b[A\u001b[A\u001b[A\n",
      "\n",
      "\n",
      "\n",
      "  0%|          | 6/10000 [06:08<170:26:37, 61.40s/it]\u001b[A\u001b[A\u001b[A\u001b[A"
     ]
    },
    {
     "name": "stdout",
     "output_type": "stream",
     "text": [
      "predition [[10738  8492     0 ...,     0     0     0]\n",
      " [10738  8492     0 ...,     0     0     0]\n",
      " [ 7949  8492     0 ...,     0     0     0]\n",
      " ..., \n",
      " [10738  8492     0 ...,     0     0     0]\n",
      " [10738  8492     0 ...,     0     0     0]\n",
      " [10738  8492     0 ...,     0     0     0]]\n",
      "max 17914\n"
     ]
    },
    {
     "name": "stderr",
     "output_type": "stream",
     "text": [
      "\n",
      "\n",
      "\n",
      "\n",
      "  0%|          | 7/10000 [07:10<170:34:12, 61.45s/it]\u001b[A\u001b[A\u001b[A\u001b[A\n",
      "\n",
      "\n",
      "\n",
      "  0%|          | 8/10000 [08:11<170:28:05, 61.42s/it]\u001b[A\u001b[A\u001b[A\u001b[A"
     ]
    },
    {
     "name": "stdout",
     "output_type": "stream",
     "text": [
      "predition [[7949 8492    0 ...,    0    0    0]\n",
      " [7949 8492    0 ...,    0    0    0]\n",
      " [7949 8492    0 ...,    0    0    0]\n",
      " ..., \n",
      " [7949 8492    0 ...,    0    0    0]\n",
      " [7949 8492    0 ...,    0    0    0]\n",
      " [7949 8492    0 ...,    0    0    0]]\n",
      "max 8492\n"
     ]
    },
    {
     "name": "stderr",
     "output_type": "stream",
     "text": [
      "\n",
      "\n",
      "\n",
      "\n",
      "  0%|          | 9/10000 [09:13<170:27:39, 61.42s/it]\u001b[A\u001b[A\u001b[A\u001b[A\n",
      "\n",
      "\n",
      "\n",
      "  0%|          | 10/10000 [10:14<170:15:36, 61.35s/it]\u001b[A\u001b[A\u001b[A\u001b[A"
     ]
    },
    {
     "name": "stdout",
     "output_type": "stream",
     "text": [
      "predition [[7949 8492    1 ...,    0    0    0]\n",
      " [7949 8492   36 ...,    0    0    0]\n",
      " [7949 8492    1 ...,    0    0    0]\n",
      " ..., \n",
      " [7949 8492    1 ...,    0    0    0]\n",
      " [7949 8492    1 ...,    0    0    0]\n",
      " [7949 8492   36 ...,    0    0    0]]\n",
      "max 8492\n"
     ]
    },
    {
     "name": "stderr",
     "output_type": "stream",
     "text": [
      "\n",
      "\n",
      "\n",
      "\n",
      "  0%|          | 11/10000 [11:15<170:25:21, 61.42s/it]\u001b[A\u001b[A\u001b[A\u001b[A\n",
      "\n",
      "\n",
      "\n",
      "  0%|          | 12/10000 [12:17<170:20:08, 61.39s/it]\u001b[A\u001b[A\u001b[A\u001b[A"
     ]
    },
    {
     "name": "stdout",
     "output_type": "stream",
     "text": [
      "predition [[ 7949  8492    36 ...,     0     0     0]\n",
      " [10738  8492     1 ...,     0     0     0]\n",
      " [10738  8492    36 ...,     0     0     0]\n",
      " ..., \n",
      " [ 7949  8492    36 ...,     0     0     0]\n",
      " [ 7949  8492     1 ...,     0     0     0]\n",
      " [ 7949  8492     1 ...,     0     0     0]]\n",
      "max 10738\n"
     ]
    },
    {
     "name": "stderr",
     "output_type": "stream",
     "text": [
      "\n",
      "\n",
      "\n",
      "\n",
      "  0%|          | 13/10000 [13:19<171:15:30, 61.73s/it]\u001b[A\u001b[A\u001b[A\u001b[A\n",
      "\n",
      "\n",
      "\n",
      "  0%|          | 14/10000 [14:23<172:34:51, 62.22s/it]\u001b[A\u001b[A\u001b[A\u001b[A"
     ]
    },
    {
     "name": "stdout",
     "output_type": "stream",
     "text": [
      "predition [[7949 8492    1 ...,    0    0    0]\n",
      " [7949    1    1 ...,    0    0    0]\n",
      " [7949 8492    1 ...,    0    0    0]\n",
      " ..., \n",
      " [7949 8492    1 ...,    0    0    0]\n",
      " [7949 8492    1 ...,    0    0    0]\n",
      " [7949 8492    1 ...,    0    0    0]]\n",
      "max 8492\n"
     ]
    },
    {
     "name": "stderr",
     "output_type": "stream",
     "text": [
      "\n",
      "\n",
      "\n",
      "\n",
      "  0%|          | 15/10000 [15:25<173:10:51, 62.44s/it]\u001b[A\u001b[A\u001b[A\u001b[A\n",
      "\n",
      "\n",
      "\n",
      "  0%|          | 16/10000 [16:28<173:37:28, 62.61s/it]\u001b[A\u001b[A\u001b[A\u001b[A"
     ]
    },
    {
     "name": "stdout",
     "output_type": "stream",
     "text": [
      "predition [[7949 8492    1 ...,    0    0    0]\n",
      " [7949 8492    0 ...,    0    0    0]\n",
      " [7949 8492    0 ...,    0    0    0]\n",
      " ..., \n",
      " [7949 8492    0 ...,    0    0    0]\n",
      " [7949 8492    0 ...,    0    0    0]\n",
      " [7949 8492    0 ...,    0    0    0]]\n",
      "max 8492\n"
     ]
    },
    {
     "name": "stderr",
     "output_type": "stream",
     "text": [
      "\n",
      "\n",
      "\n",
      "\n",
      "  0%|          | 17/10000 [17:32<174:08:47, 62.80s/it]\u001b[A\u001b[A\u001b[A\u001b[A"
     ]
    },
    {
     "name": "stdout",
     "output_type": "stream",
     "text": [
      "predition [[ 7949     1     1 ...,     0     0     0]\n",
      " [ 7949     1     1 ...,     0     0     0]\n",
      " [ 7949     1     1 ...,     0     0     0]\n",
      " ..., \n",
      " [ 7949     1     1 ...,     0     0     0]\n",
      " [10738  8492     1 ...,     0     0     0]\n",
      " [ 7949  8492     0 ...,     0     0     0]]\n",
      "max 10738\n"
     ]
    },
    {
     "name": "stderr",
     "output_type": "stream",
     "text": [
      "\n",
      "\n",
      "\n",
      "\n",
      "  0%|          | 18/10000 [18:34<173:58:32, 62.74s/it]\u001b[A\u001b[A\u001b[A\u001b[A\n",
      "\n",
      "\n",
      "\n",
      "  0%|          | 19/10000 [19:37<173:55:14, 62.73s/it]\u001b[A\u001b[A\u001b[A\u001b[A"
     ]
    },
    {
     "name": "stdout",
     "output_type": "stream",
     "text": [
      "predition [[7949    1    1 ...,    0    0    0]\n",
      " [7949    1    1 ...,    0    0    0]\n",
      " [7949 8492    0 ...,    0    0    0]\n",
      " ..., \n",
      " [7949 8492    0 ...,    0    0    0]\n",
      " [7949    1    1 ...,    0    0    0]\n",
      " [7949    1    1 ...,    0    0    0]]\n",
      "max 17914\n"
     ]
    },
    {
     "name": "stderr",
     "output_type": "stream",
     "text": [
      "\n",
      "\n",
      "\n",
      "\n",
      "  0%|          | 20/10000 [20:39<173:15:38, 62.50s/it]\u001b[A\u001b[A\u001b[A\u001b[A\n",
      "\n",
      "\n",
      "\n",
      "  0%|          | 21/10000 [21:41<172:49:15, 62.35s/it]\u001b[A\u001b[A\u001b[A\u001b[A"
     ]
    },
    {
     "name": "stdout",
     "output_type": "stream",
     "text": [
      "predition [[10738  8492  8492 ...,     0     0     0]\n",
      " [10738  8492     1 ...,     0     0     0]\n",
      " [10738  8492     1 ...,     0     0     0]\n",
      " ..., \n",
      " [10738  8492  8492 ...,     0     0     0]\n",
      " [10738  8492  8492 ...,     0     0     0]\n",
      " [ 7949  8492     1 ...,     0     0     0]]\n",
      "max 10738\n"
     ]
    },
    {
     "name": "stderr",
     "output_type": "stream",
     "text": [
      "\n",
      "\n",
      "\n",
      "\n",
      "  0%|          | 22/10000 [22:43<172:35:32, 62.27s/it]\u001b[A\u001b[A\u001b[A\u001b[A\n",
      "\n",
      "\n",
      "\n",
      "  0%|          | 23/10000 [23:47<173:37:41, 62.65s/it]\u001b[A\u001b[A\u001b[A\u001b[A"
     ]
    },
    {
     "name": "stdout",
     "output_type": "stream",
     "text": [
      "predition [[ 7949  8492 17914 ...,     0     0     0]\n",
      " [ 7949  8492     1 ...,     0     0     0]\n",
      " [ 7949  8492     1 ...,     0     0     0]\n",
      " ..., \n",
      " [ 7949     1     1 ...,     0     0     0]\n",
      " [ 7949  8492     1 ...,     0     0     0]\n",
      " [ 7949    36     1 ...,     0     0     0]]\n",
      "max 17914\n"
     ]
    },
    {
     "name": "stderr",
     "output_type": "stream",
     "text": [
      "\n",
      "\n",
      "\n",
      "\n",
      "  0%|          | 24/10000 [24:50<174:06:41, 62.83s/it]\u001b[A\u001b[A\u001b[A\u001b[A\n",
      "\n",
      "\n",
      "\n",
      "  0%|          | 25/10000 [25:52<173:25:28, 62.59s/it]\u001b[A\u001b[A\u001b[A\u001b[A"
     ]
    },
    {
     "name": "stdout",
     "output_type": "stream",
     "text": [
      "predition [[ 7949     1     0 ...,     0     0     0]\n",
      " [ 7949     1     0 ...,     0     0     0]\n",
      " [ 7949    36     0 ...,     0     0     0]\n",
      " ..., \n",
      " [ 7949     1     0 ...,     0     0     0]\n",
      " [ 7949     1 17914 ...,     0     0     0]\n",
      " [ 7949    36     0 ...,     0     0     0]]\n",
      "max 17914\n"
     ]
    },
    {
     "name": "stderr",
     "output_type": "stream",
     "text": [
      "\n",
      "\n",
      "\n",
      "\n",
      "  0%|          | 26/10000 [26:57<175:07:22, 63.21s/it]\u001b[A\u001b[A\u001b[A\u001b[A\n",
      "\n",
      "\n",
      "\n",
      "  0%|          | 27/10000 [28:02<176:47:42, 63.82s/it]\u001b[A\u001b[A\u001b[A\u001b[A"
     ]
    },
    {
     "name": "stdout",
     "output_type": "stream",
     "text": [
      "predition [[ 7949     1     0 ...,     0     0     0]\n",
      " [10738     1     0 ...,     0     0     0]\n",
      " [ 7949  8492 10552 ...,     0     0     0]\n",
      " ..., \n",
      " [10738  8492     0 ...,     0     0     0]\n",
      " [10738  8492     0 ...,     0     0     0]\n",
      " [10738    36     0 ...,     0     0     0]]\n",
      "max 10738\n"
     ]
    },
    {
     "name": "stderr",
     "output_type": "stream",
     "text": [
      "\n",
      "\n",
      "\n",
      "\n",
      "  0%|          | 28/10000 [29:04<175:50:09, 63.48s/it]\u001b[A\u001b[A\u001b[A\u001b[A\n",
      "\n",
      "\n",
      "\n",
      "  0%|          | 29/10000 [30:08<176:00:38, 63.55s/it]\u001b[A\u001b[A\u001b[A\u001b[A"
     ]
    },
    {
     "name": "stdout",
     "output_type": "stream",
     "text": [
      "predition [[ 7949     1     1 ...,     0     0     0]\n",
      " [ 7949  8492     1 ...,     0     0     0]\n",
      " [10738    36     1 ...,     0     0     0]\n",
      " ..., \n",
      " [ 7949  8492     1 ...,     0     0     0]\n",
      " [ 7949  8492     1 ...,     0     0     0]\n",
      " [ 7949  8492     1 ...,     0     0     0]]\n",
      "max 10738\n"
     ]
    },
    {
     "name": "stderr",
     "output_type": "stream",
     "text": [
      "\n",
      "\n",
      "\n",
      "\n",
      "  0%|          | 30/10000 [31:12<175:49:23, 63.49s/it]\u001b[A\u001b[A\u001b[A\u001b[A"
     ]
    },
    {
     "name": "stdout",
     "output_type": "stream",
     "text": [
      "predition [[ 7949  8492     1 ...,     0     0     0]\n",
      " [ 7949  8492     1 ...,     0     0     0]\n",
      " [ 7949  8492     1 ...,     0     0     0]\n",
      " ..., \n",
      " [ 7949  8492     1 ...,     0     0     0]\n",
      " [ 7949  8492     1 ...,     0     0     0]\n",
      " [ 7949  8492 10552 ...,     0     0     0]]\n",
      "max 10552\n"
     ]
    },
    {
     "name": "stderr",
     "output_type": "stream",
     "text": [
      "\n",
      "\n",
      "\n",
      "\n",
      "  0%|          | 31/10000 [32:14<174:54:19, 63.16s/it]\u001b[A\u001b[A\u001b[A\u001b[A\n",
      "\n",
      "\n",
      "\n",
      "  0%|          | 32/10000 [33:18<175:59:26, 63.56s/it]\u001b[A\u001b[A\u001b[A\u001b[A"
     ]
    },
    {
     "name": "stdout",
     "output_type": "stream",
     "text": [
      "predition [[10738  8492     0 ...,     0     0     0]\n",
      " [10738  8492     0 ...,     0     0     0]\n",
      " [10738  8492     0 ...,     0     0     0]\n",
      " ..., \n",
      " [10738  8492     0 ...,     0     0     0]\n",
      " [ 7949  8492     0 ...,     0     0     0]\n",
      " [10738  8492     0 ...,     0     0     0]]\n",
      "max 10738\n"
     ]
    },
    {
     "name": "stderr",
     "output_type": "stream",
     "text": [
      "\n",
      "\n",
      "\n",
      "\n",
      "  0%|          | 33/10000 [34:22<175:46:53, 63.49s/it]\u001b[A\u001b[A\u001b[A\u001b[A\n",
      "\n",
      "\n",
      "\n",
      "  0%|          | 34/10000 [35:27<177:07:11, 63.98s/it]\u001b[A\u001b[A\u001b[A\u001b[A"
     ]
    },
    {
     "name": "stdout",
     "output_type": "stream",
     "text": [
      "predition [[ 7949  8492     1 ...,     0     0     0]\n",
      " [ 7949  8492 10552 ...,     0     0     0]\n",
      " [10738    36     1 ...,     0     0     0]\n",
      " ..., \n",
      " [10738    36     0 ...,     0     0     0]\n",
      " [ 7949  8492 10552 ...,     0     0     0]\n",
      " [10738  8492     1 ...,     0     0     0]]\n",
      "max 17914\n"
     ]
    },
    {
     "name": "stderr",
     "output_type": "stream",
     "text": [
      "\n",
      "\n",
      "\n",
      "\n",
      "  0%|          | 35/10000 [36:29<175:22:40, 63.36s/it]\u001b[A\u001b[A\u001b[A\u001b[A\n",
      "\n",
      "\n",
      "\n",
      "  0%|          | 36/10000 [37:33<175:42:15, 63.48s/it]\u001b[A\u001b[A\u001b[A\u001b[A"
     ]
    },
    {
     "name": "stdout",
     "output_type": "stream",
     "text": [
      "predition [[ 7949  8492     0 ...,     0     0     0]\n",
      " [ 7949  8492 10552 ...,     0     0     0]\n",
      " [10738     1     1 ...,     0     0     0]\n",
      " ..., \n",
      " [10738     1     1 ...,     0     0     0]\n",
      " [ 7949  8492     0 ...,     0     0     0]\n",
      " [ 7949     1     1 ...,     0     0     0]]\n",
      "max 10738\n"
     ]
    },
    {
     "name": "stderr",
     "output_type": "stream",
     "text": [
      "\n",
      "\n",
      "\n",
      "\n",
      "  0%|          | 37/10000 [38:35<174:36:26, 63.09s/it]\u001b[A\u001b[A\u001b[A\u001b[A\n",
      "\n",
      "\n",
      "\n",
      "  0%|          | 38/10000 [39:39<175:20:21, 63.36s/it]\u001b[A\u001b[A\u001b[A\u001b[A"
     ]
    },
    {
     "name": "stdout",
     "output_type": "stream",
     "text": [
      "predition [[ 7949  8492     0 ...,     0     0     0]\n",
      " [ 7949     1     1 ...,     0     0     0]\n",
      " [ 7949  8492     0 ...,     0     0     0]\n",
      " ..., \n",
      " [10738     1     1 ...,     0     0     0]\n",
      " [ 7949     1     0 ...,     0     0     0]\n",
      " [ 7949     1     0 ...,     0     0     0]]\n",
      "max 17877\n"
     ]
    },
    {
     "name": "stderr",
     "output_type": "stream",
     "text": [
      "\n",
      "\n",
      "\n",
      "\n",
      "  0%|          | 39/10000 [40:41<174:32:00, 63.08s/it]\u001b[A\u001b[A\u001b[A\u001b[A\n",
      "\n",
      "\n",
      "\n",
      "  0%|          | 40/10000 [41:43<173:53:48, 62.85s/it]\u001b[A\u001b[A\u001b[A\u001b[A"
     ]
    },
    {
     "name": "stdout",
     "output_type": "stream",
     "text": [
      "predition [[ 7949     1     1 ...,     0     0     0]\n",
      " [ 7949     1     1 ...,     0     0     0]\n",
      " [ 7949     1     1 ...,     0     0     0]\n",
      " ..., \n",
      " [ 7949  8492     1 ...,     0     0     0]\n",
      " [ 7949  8492     1 ...,     0     0     0]\n",
      " [ 7949  8492 10552 ...,     0     0     0]]\n",
      "max 10738\n"
     ]
    },
    {
     "name": "stderr",
     "output_type": "stream",
     "text": [
      "\n",
      "\n",
      "\n",
      "\n",
      "  0%|          | 41/10000 [42:46<173:27:34, 62.70s/it]\u001b[A\u001b[A\u001b[A\u001b[A\n",
      "\n",
      "\n",
      "\n",
      "  0%|          | 42/10000 [43:47<172:28:54, 62.36s/it]\u001b[A\u001b[A\u001b[A\u001b[A"
     ]
    },
    {
     "name": "stdout",
     "output_type": "stream",
     "text": [
      "predition [[10738    36    36 ...,     0     0     0]\n",
      " [ 7949    36    36 ...,     0     0     0]\n",
      " [ 7949    36     1 ...,     0     0     0]\n",
      " ..., \n",
      " [ 7949  8492 10552 ...,     0     0     0]\n",
      " [ 7949    36    36 ...,     0     0     0]\n",
      " [ 7949    36    36 ...,     0     0     0]]\n",
      "max 10738\n"
     ]
    },
    {
     "name": "stderr",
     "output_type": "stream",
     "text": [
      "\n",
      "\n",
      "\n",
      "\n",
      "  0%|          | 43/10000 [44:49<172:07:35, 62.23s/it]\u001b[A\u001b[A\u001b[A\u001b[A"
     ]
    },
    {
     "name": "stdout",
     "output_type": "stream",
     "text": [
      "predition [[ 7949  8492 10552 ...,     0     0     0]\n",
      " [ 7949     1     1 ...,     0     0     0]\n",
      " [ 7949  8492     1 ...,     0     0     0]\n",
      " ..., \n",
      " [ 7949  8492     1 ...,     0     0     0]\n",
      " [ 7949  8492 10552 ...,     0     0     0]\n",
      " [ 7949  8492 10552 ...,     0     0     0]]\n",
      "max 17496\n"
     ]
    },
    {
     "name": "stderr",
     "output_type": "stream",
     "text": [
      "\n",
      "\n",
      "\n",
      "\n",
      "  0%|          | 44/10000 [45:51<171:48:12, 62.12s/it]\u001b[A\u001b[A\u001b[A\u001b[A\n",
      "\n",
      "\n",
      "\n",
      "  0%|          | 45/10000 [46:54<172:37:59, 62.43s/it]\u001b[A\u001b[A\u001b[A\u001b[A"
     ]
    },
    {
     "name": "stdout",
     "output_type": "stream",
     "text": [
      "predition [[ 7949  8492 10552 ...,     0     0     0]\n",
      " [ 7949  8492 10552 ...,     0     0     0]\n",
      " [ 7949     1     1 ...,     0     0     0]\n",
      " ..., \n",
      " [ 7949  8492 17914 ...,     0     0     0]\n",
      " [ 7949  8492 10552 ...,     0     0     0]\n",
      " [ 7949  8492 10552 ...,     0     0     0]]\n",
      "max 17914\n"
     ]
    },
    {
     "name": "stderr",
     "output_type": "stream",
     "text": [
      "\n",
      "\n",
      "\n",
      "\n",
      "  0%|          | 46/10000 [47:57<172:36:00, 62.42s/it]\u001b[A\u001b[A\u001b[A\u001b[A\n",
      "\n",
      "\n",
      "\n",
      "  0%|          | 47/10000 [48:59<172:06:23, 62.25s/it]\u001b[A\u001b[A\u001b[A\u001b[A"
     ]
    },
    {
     "name": "stdout",
     "output_type": "stream",
     "text": [
      "predition [[ 7949    36     0 ...,     0     0     0]\n",
      " [ 7949  8492 10552 ...,     0     0     0]\n",
      " [ 7949    36     0 ...,     0     0     0]\n",
      " ..., \n",
      " [ 7949     1     0 ...,     0     0     0]\n",
      " [ 7949    36     0 ...,     0     0     0]\n",
      " [ 7949  8492     0 ...,     0     0     0]]\n",
      "max 10738\n"
     ]
    },
    {
     "name": "stderr",
     "output_type": "stream",
     "text": [
      "\n",
      "\n",
      "\n",
      "\n",
      "  0%|          | 48/10000 [50:00<171:43:29, 62.12s/it]\u001b[A\u001b[A\u001b[A\u001b[A\n",
      "\n",
      "\n",
      "\n",
      "  0%|          | 49/10000 [51:02<171:35:34, 62.08s/it]\u001b[A\u001b[A\u001b[A\u001b[A"
     ]
    },
    {
     "name": "stdout",
     "output_type": "stream",
     "text": [
      "predition [[7949    1    1 ...,    0    0    0]\n",
      " [7949 8492    1 ...,    0    0    0]\n",
      " [7949    1    1 ...,    0    0    0]\n",
      " ..., \n",
      " [7949 8492    1 ...,    0    0    0]\n",
      " [7949 8492    1 ...,    0    0    0]\n",
      " [7949 8492    1 ...,    0    0    0]]\n",
      "max 17914\n"
     ]
    },
    {
     "name": "stderr",
     "output_type": "stream",
     "text": [
      "\n",
      "\n",
      "\n",
      "\n",
      "  0%|          | 50/10000 [52:04<171:19:21, 61.99s/it]\u001b[A\u001b[A\u001b[A\u001b[A\n",
      "\n",
      "\n",
      "\n",
      "  1%|          | 51/10000 [53:06<170:57:23, 61.86s/it]\u001b[A\u001b[A\u001b[A\u001b[A"
     ]
    },
    {
     "name": "stdout",
     "output_type": "stream",
     "text": [
      "predition [[ 7949  7949 10552 ...,     0     0     0]\n",
      " [ 7949  8492 10552 ...,     0     0     0]\n",
      " [ 7949    36     1 ...,     0     0     0]\n",
      " ..., \n",
      " [10738     1     1 ...,     0     0     0]\n",
      " [10738     1     0 ...,     0     0     0]\n",
      " [ 7949  7949    36 ...,     0     0     0]]\n",
      "max 10738\n"
     ]
    },
    {
     "name": "stderr",
     "output_type": "stream",
     "text": [
      "\n",
      "\n",
      "\n",
      "\n",
      "  1%|          | 52/10000 [54:07<170:51:36, 61.83s/it]\u001b[A\u001b[A\u001b[A\u001b[A\n",
      "\n",
      "\n",
      "\n",
      "  1%|          | 53/10000 [55:10<171:27:45, 62.06s/it]\u001b[A\u001b[A\u001b[A\u001b[A"
     ]
    },
    {
     "name": "stdout",
     "output_type": "stream",
     "text": [
      "predition [[ 7949  8492 10552 ...,     0     0     0]\n",
      " [10738    36     1 ...,     0     0     0]\n",
      " [ 7949  8492 10552 ...,     0     0     0]\n",
      " ..., \n",
      " [10738    36     1 ...,     0     0     0]\n",
      " [10738     1     1 ...,     0     0     0]\n",
      " [ 7949  8492 10552 ...,     0     0     0]]\n",
      "max 10738\n"
     ]
    },
    {
     "name": "stderr",
     "output_type": "stream",
     "text": [
      "\n",
      "\n",
      "\n",
      "\n",
      "  1%|          | 54/10000 [56:12<171:43:04, 62.15s/it]\u001b[A\u001b[A\u001b[A\u001b[A\n",
      "\n",
      "\n",
      "\n",
      "  1%|          | 55/10000 [57:14<171:31:30, 62.09s/it]\u001b[A\u001b[A\u001b[A\u001b[A"
     ]
    },
    {
     "name": "stdout",
     "output_type": "stream",
     "text": [
      "predition [[10738     1     0 ...,     0     0     0]\n",
      " [10738    36    36 ...,     0     0     0]\n",
      " [ 7949  8492     0 ...,     0     0     0]\n",
      " ..., \n",
      " [ 7949  8492 10552 ...,     0     0     0]\n",
      " [10738     1     0 ...,     0     0     0]\n",
      " [ 7949  8492  8492 ...,     0     0     0]]\n",
      "max 17496\n"
     ]
    },
    {
     "name": "stderr",
     "output_type": "stream",
     "text": [
      "\n",
      "\n",
      "\n",
      "\n",
      "  1%|          | 56/10000 [58:18<172:39:01, 62.50s/it]\u001b[A\u001b[A\u001b[A\u001b[A"
     ]
    },
    {
     "name": "stdout",
     "output_type": "stream",
     "text": [
      "predition [[ 7949  8492     0 ...,     0     0     0]\n",
      " [ 7949  8492     0 ...,     0     0     0]\n",
      " [10738  8492     0 ...,     0     0     0]\n",
      " ..., \n",
      " [10738  8492 17914 ...,     0     0     0]\n",
      " [ 7949  8492 10552 ...,     0     0     0]\n",
      " [ 7949  8492     0 ...,     0     0     0]]\n",
      "max 17914\n"
     ]
    },
    {
     "name": "stderr",
     "output_type": "stream",
     "text": [
      "\n",
      "\n",
      "\n",
      "\n",
      "  1%|          | 57/10000 [59:22<174:10:15, 63.06s/it]\u001b[A\u001b[A\u001b[A\u001b[A\n",
      "\n",
      "\n",
      "\n",
      "  1%|          | 58/10000 [1:00:29<176:50:57, 64.04s/it]\u001b[A\u001b[A\u001b[A\u001b[A"
     ]
    },
    {
     "name": "stdout",
     "output_type": "stream",
     "text": [
      "predition [[10738    36     0 ...,     0     0     0]\n",
      " [10738     1     1 ...,     0     0     0]\n",
      " [10738     1     1 ...,     0     0     0]\n",
      " ..., \n",
      " [10738     1     0 ...,     0     0     0]\n",
      " [10738     1     0 ...,     0     0     0]\n",
      " [ 7949  8492     0 ...,     0     0     0]]\n",
      "max 10738\n"
     ]
    },
    {
     "name": "stderr",
     "output_type": "stream",
     "text": [
      "\n",
      "\n",
      "\n",
      "\n",
      "  1%|          | 59/10000 [1:01:31<175:15:12, 63.47s/it]\u001b[A\u001b[A\u001b[A\u001b[A\n",
      "\n",
      "\n",
      "\n",
      "  1%|          | 60/10000 [1:02:33<173:58:34, 63.01s/it]\u001b[A\u001b[A\u001b[A\u001b[A"
     ]
    },
    {
     "name": "stdout",
     "output_type": "stream",
     "text": [
      "predition [[ 7949  8492     1 ...,     0     0     0]\n",
      " [17496     1     1 ...,     0     0     0]\n",
      " [ 7949  8492  8492 ...,     0     0     0]\n",
      " ..., \n",
      " [10738  8492     1 ...,     0     0     0]\n",
      " [ 7949  8492  8492 ...,     0     0     0]\n",
      " [ 7949    36     1 ...,     0     0     0]]\n",
      "max 17914\n"
     ]
    },
    {
     "name": "stderr",
     "output_type": "stream",
     "text": [
      "\n",
      "\n",
      "\n",
      "\n",
      "  1%|          | 61/10000 [1:03:35<173:25:36, 62.82s/it]\u001b[A\u001b[A\u001b[A\u001b[A\n",
      "\n",
      "\n",
      "\n",
      "  1%|          | 62/10000 [1:04:37<172:51:43, 62.62s/it]\u001b[A\u001b[A\u001b[A\u001b[A"
     ]
    },
    {
     "name": "stdout",
     "output_type": "stream",
     "text": [
      "predition [[10738     1     0 ...,     0     0     0]\n",
      " [ 7949    36     0 ...,     0     0     0]\n",
      " [ 7949  8492 10552 ...,     0     0     0]\n",
      " ..., \n",
      " [ 7949    36     0 ...,     0     0     0]\n",
      " [ 7949  8492     0 ...,     0     0     0]\n",
      " [ 7949  8492     0 ...,     0     0     0]]\n",
      "max 10738\n"
     ]
    },
    {
     "name": "stderr",
     "output_type": "stream",
     "text": [
      "\n",
      "\n",
      "\n",
      "\n",
      "  1%|          | 63/10000 [1:05:40<172:49:51, 62.61s/it]\u001b[A\u001b[A\u001b[A\u001b[A\n",
      "\n",
      "\n",
      "\n",
      "  1%|          | 64/10000 [1:06:41<171:48:35, 62.25s/it]\u001b[A\u001b[A\u001b[A\u001b[A"
     ]
    },
    {
     "name": "stdout",
     "output_type": "stream",
     "text": [
      "predition [[ 7949     1     1 ...,     0     0     0]\n",
      " [17496     1     1 ...,     0     0     0]\n",
      " [ 7949     1     0 ...,     0     0     0]\n",
      " ..., \n",
      " [ 7949  7949 10552 ...,     0     0     0]\n",
      " [ 7949     1     1 ...,     0     0     0]\n",
      " [ 7949  8492 10552 ...,     0     0     0]]\n",
      "max 17914\n"
     ]
    },
    {
     "name": "stderr",
     "output_type": "stream",
     "text": [
      "\n",
      "\n",
      "\n",
      "\n",
      "  1%|          | 65/10000 [1:07:43<171:21:33, 62.09s/it]\u001b[A\u001b[A\u001b[A\u001b[A\n",
      "\n",
      "\n",
      "\n",
      "  1%|          | 66/10000 [1:08:46<172:29:28, 62.51s/it]\u001b[A\u001b[A\u001b[A\u001b[A"
     ]
    },
    {
     "name": "stdout",
     "output_type": "stream",
     "text": [
      "predition [[ 7949  8492  8492 ...,     0     0     0]\n",
      " [ 7949  8492  8492 ...,     0     0     0]\n",
      " [10738  8492     0 ...,     0     0     0]\n",
      " ..., \n",
      " [10738  8492     0 ...,     0     0     0]\n",
      " [ 7949  8492     0 ...,     0     0     0]\n",
      " [ 7949     1     0 ...,     0     0     0]]\n",
      "max 17914\n"
     ]
    },
    {
     "name": "stderr",
     "output_type": "stream",
     "text": [
      "\n",
      "\n",
      "\n",
      "\n",
      "  1%|          | 67/10000 [1:09:49<172:14:13, 62.42s/it]\u001b[A\u001b[A\u001b[A\u001b[A\n",
      "\n",
      "\n",
      "\n",
      "  1%|          | 68/10000 [1:10:52<172:43:22, 62.61s/it]\u001b[A\u001b[A\u001b[A\u001b[A"
     ]
    },
    {
     "name": "stdout",
     "output_type": "stream",
     "text": [
      "predition [[ 7949  8492     1 ...,     0     0     0]\n",
      " [10738    36     1 ...,     0     0     0]\n",
      " [ 7949     1     0 ...,     0     0     0]\n",
      " ..., \n",
      " [10738    36     1 ...,     0     0     0]\n",
      " [ 7949     1     0 ...,     0     0     0]\n",
      " [ 7949  8492 10552 ...,     0     0     0]]\n",
      "max 17496\n"
     ]
    },
    {
     "name": "stderr",
     "output_type": "stream",
     "text": [
      "\n",
      "\n",
      "\n",
      "\n",
      "  1%|          | 69/10000 [1:11:56<174:34:35, 63.28s/it]\u001b[A\u001b[A\u001b[A\u001b[A\n",
      "\n",
      "\n",
      "\n",
      "  1%|          | 70/10000 [1:13:02<176:43:14, 64.07s/it]\u001b[A\u001b[A\u001b[A\u001b[A"
     ]
    },
    {
     "name": "stdout",
     "output_type": "stream",
     "text": [
      "predition [[10738    36    36 ...,     0     0     0]\n",
      " [ 7949  8492    36 ...,     0     0     0]\n",
      " [ 7949  8492 10552 ...,     0     0     0]\n",
      " ..., \n",
      " [10738  8492     0 ...,     0     0     0]\n",
      " [ 7949  8492 10552 ...,     0     0     0]\n",
      " [10738  8492    36 ...,     0     0     0]]\n",
      "max 17496\n"
     ]
    },
    {
     "name": "stderr",
     "output_type": "stream",
     "text": [
      "\n",
      "\n",
      "\n",
      "\n",
      "  1%|          | 71/10000 [1:14:04<174:45:55, 63.37s/it]\u001b[A\u001b[A\u001b[A\u001b[A"
     ]
    },
    {
     "name": "stdout",
     "output_type": "stream",
     "text": [
      "predition [[ 7949  8492  8492 ...,     0     0     0]\n",
      " [ 7949  8492     1 ...,     0     0     0]\n",
      " [ 7949  8492     1 ...,     0     0     0]\n",
      " ..., \n",
      " [ 7949  8492 10552 ...,     0     0     0]\n",
      " [10738    36     1 ...,     0     0     0]\n",
      " [ 7949  8492     1 ...,     0     0     0]]\n",
      "max 17914\n"
     ]
    },
    {
     "name": "stderr",
     "output_type": "stream",
     "text": [
      "\n",
      "\n",
      "\n",
      "\n",
      "  1%|          | 72/10000 [1:15:07<174:29:07, 63.27s/it]\u001b[A\u001b[A\u001b[A\u001b[A\n",
      "\n",
      "\n",
      "\n",
      "  1%|          | 73/10000 [1:16:09<173:03:52, 62.76s/it]\u001b[A\u001b[A\u001b[A\u001b[A"
     ]
    },
    {
     "name": "stdout",
     "output_type": "stream",
     "text": [
      "predition [[ 7949     1     1 ...,     0     0     0]\n",
      " [ 7949  8492 10552 ...,     0     0     0]\n",
      " [ 7949  8492 10552 ...,     0     0     0]\n",
      " ..., \n",
      " [ 7949  8492  8492 ...,     0     0     0]\n",
      " [ 7949  8492 10552 ...,     0     0     0]\n",
      " [ 7949  8492 10552 ...,     0     0     0]]\n",
      "max 17914\n"
     ]
    },
    {
     "name": "stderr",
     "output_type": "stream",
     "text": [
      "\n",
      "\n",
      "\n",
      "\n",
      "  1%|          | 74/10000 [1:17:11<172:30:05, 62.56s/it]\u001b[A\u001b[A\u001b[A\u001b[A\n",
      "\n",
      "\n",
      "\n",
      "  1%|          | 75/10000 [1:18:13<172:16:54, 62.49s/it]\u001b[A\u001b[A\u001b[A\u001b[A"
     ]
    },
    {
     "name": "stdout",
     "output_type": "stream",
     "text": [
      "predition [[ 7949  8492  8492 ...,     0     0     0]\n",
      " [ 7949     1     1 ...,     0     0     0]\n",
      " [ 7949  8492 10552 ...,     0     0     0]\n",
      " ..., \n",
      " [10738     1     1 ...,     0     0     0]\n",
      " [10738    36     1 ...,     0     0     0]\n",
      " [10738     1     1 ...,     0     0     0]]\n",
      "max 17914\n"
     ]
    },
    {
     "name": "stderr",
     "output_type": "stream",
     "text": [
      "\n",
      "\n",
      "\n",
      "\n",
      "  1%|          | 76/10000 [1:19:15<171:56:50, 62.38s/it]\u001b[A\u001b[A\u001b[A\u001b[A\n",
      "\n",
      "\n",
      "\n",
      "  1%|          | 77/10000 [1:20:18<171:52:13, 62.35s/it]\u001b[A\u001b[A\u001b[A\u001b[A"
     ]
    },
    {
     "name": "stdout",
     "output_type": "stream",
     "text": [
      "predition [[ 7949  8492    36 ...,     0     0     0]\n",
      " [ 7949     1    36 ...,     0     0     0]\n",
      " [ 7949  7949 10552 ...,     0     0     0]\n",
      " ..., \n",
      " [ 7949  8492 10552 ...,     0     0     0]\n",
      " [ 7949  8492 10552 ...,     0     0     0]\n",
      " [ 7949     1     1 ...,     0     0     0]]\n",
      "max 17914\n"
     ]
    },
    {
     "name": "stderr",
     "output_type": "stream",
     "text": [
      "\n",
      "\n",
      "\n",
      "\n",
      "  1%|          | 78/10000 [1:21:20<171:49:29, 62.34s/it]\u001b[A\u001b[A\u001b[A\u001b[A\n",
      "\n",
      "\n",
      "\n",
      "  1%|          | 79/10000 [1:22:22<171:29:03, 62.23s/it]\u001b[A\u001b[A\u001b[A\u001b[A"
     ]
    },
    {
     "name": "stdout",
     "output_type": "stream",
     "text": [
      "predition [[10738    36     1 ...,     0     0     0]\n",
      " [10738    36    36 ...,     0     0     0]\n",
      " [ 7949  8492 10552 ...,     0     0     0]\n",
      " ..., \n",
      " [10738    36     0 ...,     0     0     0]\n",
      " [10738    36    36 ...,     0     0     0]\n",
      " [ 7949  8492     0 ...,     0     0     0]]\n",
      "max 17914\n"
     ]
    },
    {
     "name": "stderr",
     "output_type": "stream",
     "text": [
      "\n",
      "\n",
      "\n",
      "\n",
      "  1%|          | 80/10000 [1:23:25<171:54:06, 62.38s/it]\u001b[A\u001b[A\u001b[A\u001b[A\n",
      "\n",
      "\n",
      "\n",
      "  1%|          | 81/10000 [1:24:27<171:38:56, 62.30s/it]\u001b[A\u001b[A\u001b[A\u001b[A"
     ]
    },
    {
     "name": "stdout",
     "output_type": "stream",
     "text": [
      "predition [[ 7949  8492     1 ...,     0     0     0]\n",
      " [10738    36    36 ...,     0     0     0]\n",
      " [10738     1     0 ...,     0     0     0]\n",
      " ..., \n",
      " [ 7949     1     0 ...,     0     0     0]\n",
      " [ 7949  8492     1 ...,     0     0     0]\n",
      " [ 7949  8492 10552 ...,     0     0     0]]\n",
      "max 17914\n"
     ]
    },
    {
     "name": "stderr",
     "output_type": "stream",
     "text": [
      "\n",
      "\n",
      "\n",
      "\n",
      "  1%|          | 82/10000 [1:25:29<171:19:01, 62.18s/it]\u001b[A\u001b[A\u001b[A\u001b[A\n",
      "\n",
      "\n",
      "\n",
      "  1%|          | 83/10000 [1:26:30<171:03:43, 62.10s/it]\u001b[A\u001b[A\u001b[A\u001b[A"
     ]
    },
    {
     "name": "stdout",
     "output_type": "stream",
     "text": [
      "predition [[ 7949     1     0 ...,     0     0     0]\n",
      " [17496     1     1 ...,     0     0     0]\n",
      " [10738  8492    36 ...,     0     0     0]\n",
      " ..., \n",
      " [ 7949     1     0 ...,     0     0     0]\n",
      " [ 7949  8492 10552 ...,     0     0     0]\n",
      " [10738  8492     0 ...,     0     0     0]]\n",
      "max 17914\n"
     ]
    },
    {
     "name": "stderr",
     "output_type": "stream",
     "text": [
      "\n",
      "\n",
      "\n",
      "\n",
      "  1%|          | 84/10000 [1:27:32<170:58:19, 62.07s/it]\u001b[A\u001b[A\u001b[A\u001b[A"
     ]
    },
    {
     "name": "stdout",
     "output_type": "stream",
     "text": [
      "predition [[ 7949    36    36 ...,     0     0     0]\n",
      " [10738    36     0 ...,     0     0     0]\n",
      " [ 7949     1     0 ...,     0     0     0]\n",
      " ..., \n",
      " [ 7949    36     0 ...,     0     0     0]\n",
      " [ 7949     1     0 ...,     0     0     0]\n",
      " [ 7949  8492     1 ...,     0     0     0]]\n",
      "max 17914\n"
     ]
    },
    {
     "name": "stderr",
     "output_type": "stream",
     "text": [
      "\n",
      "\n",
      "\n",
      "\n",
      "  1%|          | 85/10000 [1:28:35<170:54:18, 62.05s/it]\u001b[A\u001b[A\u001b[A\u001b[A\n",
      "\n",
      "\n",
      "\n",
      "  1%|          | 86/10000 [1:29:36<170:41:20, 61.98s/it]\u001b[A\u001b[A\u001b[A\u001b[A"
     ]
    },
    {
     "name": "stdout",
     "output_type": "stream",
     "text": [
      "predition [[10738     1     1 ...,     0     0     0]\n",
      " [10738  8492     1 ...,     0     0     0]\n",
      " [10738     1     1 ...,     0     0     0]\n",
      " ..., \n",
      " [10738     1     1 ...,     0     0     0]\n",
      " [10738     1     1 ...,     0     0     0]\n",
      " [ 7949     1     1 ...,     0     0     0]]\n",
      "max 17496\n"
     ]
    },
    {
     "name": "stderr",
     "output_type": "stream",
     "text": [
      "\n",
      "\n",
      "\n",
      "\n",
      "  1%|          | 87/10000 [1:30:39<171:36:58, 62.32s/it]\u001b[A\u001b[A\u001b[A\u001b[A\n",
      "\n",
      "\n",
      "\n",
      "  1%|          | 88/10000 [1:31:42<172:01:58, 62.48s/it]\u001b[A\u001b[A\u001b[A\u001b[A"
     ]
    },
    {
     "name": "stdout",
     "output_type": "stream",
     "text": [
      "predition [[ 7949  8492     0 ...,     0     0     0]\n",
      " [10738     1     0 ...,     0     0     0]\n",
      " [10738     1     0 ...,     0     0     0]\n",
      " ..., \n",
      " [10738     1     0 ...,     0     0     0]\n",
      " [17496     1     0 ...,     0     0     0]\n",
      " [ 7949  8492     0 ...,     0     0     0]]\n",
      "max 17914\n"
     ]
    },
    {
     "name": "stderr",
     "output_type": "stream",
     "text": [
      "\n",
      "\n",
      "\n",
      "\n",
      "  1%|          | 89/10000 [1:32:46<173:01:03, 62.85s/it]\u001b[A\u001b[A\u001b[A\u001b[A\n",
      "\n",
      "\n",
      "\n",
      "  1%|          | 90/10000 [1:33:50<173:42:30, 63.10s/it]\u001b[A\u001b[A\u001b[A\u001b[A"
     ]
    },
    {
     "name": "stdout",
     "output_type": "stream",
     "text": [
      "predition [[17496  8492     1 ...,     0     0     0]\n",
      " [ 7949  8492    36 ...,     0     0     0]\n",
      " [ 7949  8492    36 ...,     0     0     0]\n",
      " ..., \n",
      " [17496     1     1 ...,     0     0     0]\n",
      " [ 7949  8492 17914 ...,     0     0     0]\n",
      " [17496  8492     1 ...,     0     0     0]]\n",
      "max 17914\n"
     ]
    },
    {
     "name": "stderr",
     "output_type": "stream",
     "text": [
      "\n",
      "\n",
      "\n",
      "\n",
      "  1%|          | 91/10000 [1:34:56<176:16:30, 64.04s/it]\u001b[A\u001b[A\u001b[A\u001b[A\n",
      "\n",
      "\n",
      "\n",
      "  1%|          | 92/10000 [1:36:00<176:05:45, 63.98s/it]\u001b[A\u001b[A\u001b[A\u001b[A"
     ]
    },
    {
     "name": "stdout",
     "output_type": "stream",
     "text": [
      "predition [[10738     1     1 ...,     0     0     0]\n",
      " [ 7949  8492    36 ...,     0     0     0]\n",
      " [ 7949  8492     1 ...,     0     0     0]\n",
      " ..., \n",
      " [10738    36     1 ...,     0     0     0]\n",
      " [17496     1     1 ...,     0     0     0]\n",
      " [ 7949  8492 10552 ...,     0     0     0]]\n",
      "max 17496\n"
     ]
    },
    {
     "name": "stderr",
     "output_type": "stream",
     "text": [
      "\n",
      "\n",
      "\n",
      "\n",
      "  1%|          | 93/10000 [1:37:02<174:56:03, 63.57s/it]\u001b[A\u001b[A\u001b[A\u001b[A\n",
      "\n",
      "\n",
      "\n",
      "  1%|          | 94/10000 [1:38:06<174:38:44, 63.47s/it]\u001b[A\u001b[A\u001b[A\u001b[A"
     ]
    },
    {
     "name": "stdout",
     "output_type": "stream",
     "text": [
      "predition [[10738  8492    36 ...,     0     0     0]\n",
      " [ 7949    36    36 ...,     0     0     0]\n",
      " [ 7949  8492 10552 ...,     0     0     0]\n",
      " ..., \n",
      " [ 7949  8492     1 ...,     0     0     0]\n",
      " [10738     1     1 ...,     0     0     0]\n",
      " [10738  8492     0 ...,     0     0     0]]\n",
      "max 17914\n"
     ]
    },
    {
     "name": "stderr",
     "output_type": "stream",
     "text": [
      "\n",
      "\n",
      "\n",
      "\n",
      "  1%|          | 95/10000 [1:39:09<174:25:48, 63.40s/it]\u001b[A\u001b[A\u001b[A\u001b[A\n",
      "\n",
      "\n",
      "\n",
      "  1%|          | 96/10000 [1:40:17<178:34:35, 64.91s/it]\u001b[A\u001b[A\u001b[A\u001b[A"
     ]
    },
    {
     "name": "stdout",
     "output_type": "stream",
     "text": [
      "predition [[ 7949     1     1 ...,     0     0     0]\n",
      " [ 7949  8492  8492 ...,     0     0     0]\n",
      " [10738  8492     1 ...,     0     0     0]\n",
      " ..., \n",
      " [17496     1     1 ...,     0     0     0]\n",
      " [ 7949  8492     1 ...,     0     0     0]\n",
      " [ 7949  8492  8492 ...,     0     0     0]]\n",
      "max 17914\n"
     ]
    },
    {
     "name": "stderr",
     "output_type": "stream",
     "text": [
      "\n",
      "\n",
      "\n",
      "\n",
      "  1%|          | 97/10000 [1:41:22<178:28:49, 64.88s/it]\u001b[A\u001b[A\u001b[A\u001b[A"
     ]
    },
    {
     "name": "stdout",
     "output_type": "stream",
     "text": [
      "predition [[ 7949  7949 10552 ...,     0     0     0]\n",
      " [ 7949  8492 17914 ...,     0     0     0]\n",
      " [ 7949  8492 17914 ...,     0     0     0]\n",
      " ..., \n",
      " [10738    36     1 ...,     0     0     0]\n",
      " [10738     1     1 ...,     0     0     0]\n",
      " [ 7949     1     1 ...,     0     0     0]]\n",
      "max 17914\n"
     ]
    },
    {
     "name": "stderr",
     "output_type": "stream",
     "text": [
      "\n",
      "\n",
      "\n",
      "\n",
      "  1%|          | 98/10000 [1:42:28<178:59:16, 65.07s/it]\u001b[A\u001b[A\u001b[A\u001b[A\n",
      "\n",
      "\n",
      "\n",
      "  1%|          | 99/10000 [1:43:30<176:36:56, 64.22s/it]\u001b[A\u001b[A\u001b[A\u001b[A"
     ]
    },
    {
     "name": "stdout",
     "output_type": "stream",
     "text": [
      "predition [[ 7949  8492 10552 ...,     0     0     0]\n",
      " [10738    36    36 ...,     0     0     0]\n",
      " [10738     1     1 ...,     0     0     0]\n",
      " ..., \n",
      " [ 7949     1     1 ...,     0     0     0]\n",
      " [ 7949  8492  8492 ...,     0     0     0]\n",
      " [ 7949  8492 10552 ...,     0     0     0]]\n",
      "max 17496\n"
     ]
    },
    {
     "name": "stderr",
     "output_type": "stream",
     "text": [
      "\n",
      "\n",
      "\n",
      "\n",
      "  1%|          | 100/10000 [1:44:32<175:09:03, 63.69s/it]\u001b[A\u001b[A\u001b[A\u001b[A\n",
      "\n",
      "\n",
      "\n",
      "  1%|          | 101/10000 [1:45:34<173:48:42, 63.21s/it]\u001b[A\u001b[A\u001b[A\u001b[A"
     ]
    },
    {
     "name": "stdout",
     "output_type": "stream",
     "text": [
      "predition [[10738  8492  8492 ...,     0     0     0]\n",
      " [ 7949     1     0 ...,     0     0     0]\n",
      " [ 7949  8492     0 ...,     0     0     0]\n",
      " ..., \n",
      " [10738     1     1 ...,     0     0     0]\n",
      " [ 7949  8492  8492 ...,     0     0     0]\n",
      " [17496     1     0 ...,     0     0     0]]\n",
      "max 17914\n"
     ]
    },
    {
     "name": "stderr",
     "output_type": "stream",
     "text": [
      "\n",
      "\n",
      "\n",
      "\n",
      "  1%|          | 102/10000 [1:46:37<173:04:49, 62.95s/it]\u001b[A\u001b[A\u001b[A\u001b[A\n",
      "\n",
      "\n",
      "\n",
      "  1%|          | 103/10000 [1:47:39<172:25:01, 62.72s/it]\u001b[A\u001b[A\u001b[A\u001b[A"
     ]
    },
    {
     "name": "stdout",
     "output_type": "stream",
     "text": [
      "predition [[10738    36    36 ...,     0     0     0]\n",
      " [10738    36     0 ...,     0     0     0]\n",
      " [ 7949  7949 10552 ...,     0     0     0]\n",
      " ..., \n",
      " [10738     1     1 ...,     0     0     0]\n",
      " [10738    36  8492 ...,     0     0     0]\n",
      " [ 7949    36    36 ...,     0     0     0]]\n",
      "max 17914\n"
     ]
    },
    {
     "name": "stderr",
     "output_type": "stream",
     "text": [
      "\n",
      "\n",
      "\n",
      "\n",
      "  1%|          | 104/10000 [1:48:41<172:10:54, 62.64s/it]\u001b[A\u001b[A\u001b[A\u001b[A\n",
      "\n",
      "\n",
      "\n",
      "  1%|          | 105/10000 [1:49:44<171:52:39, 62.53s/it]\u001b[A\u001b[A\u001b[A\u001b[A"
     ]
    },
    {
     "name": "stdout",
     "output_type": "stream",
     "text": [
      "predition [[ 7949  8492     1 ...,     0     0     0]\n",
      " [ 7949     1     0 ...,     0     0     0]\n",
      " [ 7949  7949 10552 ...,     0     0     0]\n",
      " ..., \n",
      " [ 7949  8492 10552 ...,     0     0     0]\n",
      " [ 7949    36    36 ...,     0     0     0]\n",
      " [10738    36    36 ...,     0     0     0]]\n",
      "max 17914\n"
     ]
    },
    {
     "name": "stderr",
     "output_type": "stream",
     "text": [
      "\n",
      "\n",
      "\n",
      "\n",
      "  1%|          | 106/10000 [1:50:46<171:39:30, 62.46s/it]\u001b[A\u001b[A\u001b[A\u001b[A\n",
      "\n",
      "\n",
      "\n",
      "  1%|          | 107/10000 [1:51:48<171:34:05, 62.43s/it]\u001b[A\u001b[A\u001b[A\u001b[A"
     ]
    },
    {
     "name": "stdout",
     "output_type": "stream",
     "text": [
      "predition [[10738     1     1 ...,     0     0     0]\n",
      " [10738     1     0 ...,     0     0     0]\n",
      " [10738     1     0 ...,     0     0     0]\n",
      " ..., \n",
      " [ 7949     1     0 ...,     0     0     0]\n",
      " [10738     1     1 ...,     0     0     0]\n",
      " [10738    36     1 ...,     0     0     0]]\n",
      "max 17914\n"
     ]
    },
    {
     "name": "stderr",
     "output_type": "stream",
     "text": [
      "\n",
      "\n",
      "\n",
      "\n",
      "  1%|          | 108/10000 [1:52:51<171:29:06, 62.41s/it]\u001b[A\u001b[A\u001b[A\u001b[A\n",
      "\n",
      "\n",
      "\n",
      "  1%|          | 109/10000 [1:53:53<171:24:35, 62.39s/it]\u001b[A\u001b[A\u001b[A\u001b[A"
     ]
    },
    {
     "name": "stdout",
     "output_type": "stream",
     "text": [
      "predition [[ 7949  8492  8492 ...,     0     0     0]\n",
      " [17496    36     1 ...,     0     0     0]\n",
      " [17496     1     1 ...,     0     0     0]\n",
      " ..., \n",
      " [ 7949  8492     1 ...,     0     0     0]\n",
      " [ 7949  8492  8492 ...,    36     1     0]\n",
      " [17496     1     1 ...,     0     0     0]]\n",
      "max 17914\n"
     ]
    },
    {
     "name": "stderr",
     "output_type": "stream",
     "text": [
      "\n",
      "\n",
      "\n",
      "\n",
      "  1%|          | 110/10000 [1:54:55<171:27:53, 62.41s/it]\u001b[A\u001b[A\u001b[A\u001b[A"
     ]
    },
    {
     "name": "stdout",
     "output_type": "stream",
     "text": [
      "predition [[ 7949  8492     1 ...,     0     0     0]\n",
      " [10738  8492  8492 ...,     0     0     0]\n",
      " [10738  8492  8492 ...,     0     0     0]\n",
      " ..., \n",
      " [10738  8492     1 ...,     0     0     0]\n",
      " [10738  8492     1 ...,     0     0     0]\n",
      " [10738  8492     1 ...,     0     0     0]]\n",
      "max 17914\n"
     ]
    },
    {
     "name": "stderr",
     "output_type": "stream",
     "text": [
      "\n",
      "\n",
      "\n",
      "\n",
      "  1%|          | 111/10000 [1:55:58<171:26:44, 62.41s/it]\u001b[A\u001b[A\u001b[A\u001b[A\n",
      "\n",
      "\n",
      "\n",
      "  1%|          | 112/10000 [1:57:00<171:24:03, 62.40s/it]\u001b[A\u001b[A\u001b[A\u001b[A"
     ]
    },
    {
     "name": "stdout",
     "output_type": "stream",
     "text": [
      "predition [[ 7949  8492  8492 ...,     0     0     0]\n",
      " [ 7949  8492 10552 ...,     0     0     0]\n",
      " [ 7949  8492     1 ...,     0     0     0]\n",
      " ..., \n",
      " [17914    36    36 ...,     0     0     0]\n",
      " [17496  8492     1 ...,     0     0     0]\n",
      " [ 7949  8492     0 ...,     0     0     0]]\n",
      "max 17914\n"
     ]
    },
    {
     "name": "stderr",
     "output_type": "stream",
     "text": [
      "\n",
      "\n",
      "\n",
      "\n",
      "  1%|          | 113/10000 [1:58:03<171:26:35, 62.42s/it]\u001b[A\u001b[A\u001b[A\u001b[A\n",
      "\n",
      "\n",
      "\n",
      "  1%|          | 114/10000 [1:59:05<171:16:21, 62.37s/it]\u001b[A\u001b[A\u001b[A\u001b[A"
     ]
    },
    {
     "name": "stdout",
     "output_type": "stream",
     "text": [
      "predition [[ 7949  8492 10552 ...,     0     0     0]\n",
      " [ 7949  7949 10552 ...,    36    36     0]\n",
      " [ 7949  8492     0 ...,     0     0     0]\n",
      " ..., \n",
      " [ 7949    36     1 ...,     0     0     0]\n",
      " [ 7949  8492 10552 ...,     0     0     0]\n",
      " [ 7949  8492     1 ...,     0     0     0]]\n",
      "max 17914\n"
     ]
    },
    {
     "name": "stderr",
     "output_type": "stream",
     "text": [
      "\n",
      "\n",
      "\n",
      "\n",
      "  1%|          | 115/10000 [2:00:08<171:24:01, 62.42s/it]\u001b[A\u001b[A\u001b[A\u001b[A\n",
      "\n",
      "\n",
      "\n",
      "  1%|          | 116/10000 [2:01:10<171:21:30, 62.41s/it]\u001b[A\u001b[A\u001b[A\u001b[A"
     ]
    },
    {
     "name": "stdout",
     "output_type": "stream",
     "text": [
      "predition [[ 7949     1     1 ...,     0     0     0]\n",
      " [17496     1     0 ...,     0     0     0]\n",
      " [ 7949  8492     0 ...,     0     0     0]\n",
      " ..., \n",
      " [ 7949  8492  8492 ...,    36     0     0]\n",
      " [17496     1     0 ...,     0     0     0]\n",
      " [ 7949  8492     1 ...,     0     0     0]]\n",
      "max 17496\n"
     ]
    },
    {
     "name": "stderr",
     "output_type": "stream",
     "text": [
      "\n",
      "\n",
      "\n",
      "\n",
      "  1%|          | 117/10000 [2:02:12<171:27:14, 62.45s/it]\u001b[A\u001b[A\u001b[A\u001b[A\n",
      "\n",
      "\n",
      "\n",
      "  1%|          | 118/10000 [2:03:15<171:22:50, 62.43s/it]\u001b[A\u001b[A\u001b[A\u001b[A"
     ]
    },
    {
     "name": "stdout",
     "output_type": "stream",
     "text": [
      "predition [[10738  8492  8492 ...,     0     0     0]\n",
      " [ 7949     1     0 ...,     0     0     0]\n",
      " [ 7949  8492 10552 ...,     0     0     0]\n",
      " ..., \n",
      " [10738    36     0 ...,     0     0     0]\n",
      " [10738     1     0 ...,     0     0     0]\n",
      " [ 7949  8492     0 ...,     0     0     0]]\n",
      "max 17496\n"
     ]
    },
    {
     "name": "stderr",
     "output_type": "stream",
     "text": [
      "\n",
      "\n",
      "\n",
      "\n",
      "  1%|          | 119/10000 [2:04:17<171:22:13, 62.44s/it]\u001b[A\u001b[A\u001b[A\u001b[A\n",
      "\n",
      "\n",
      "\n",
      "  1%|          | 120/10000 [2:05:20<171:14:03, 62.39s/it]\u001b[A\u001b[A\u001b[A\u001b[A"
     ]
    },
    {
     "name": "stdout",
     "output_type": "stream",
     "text": [
      "predition [[10738     1     0 ...,     0     0     0]\n",
      " [17914    36     1 ...,     0     0     0]\n",
      " [ 7949  8492 10552 ...,     0     0     0]\n",
      " ..., \n",
      " [ 7949    36     1 ...,     0     0     0]\n",
      " [ 7949  8492     0 ...,     0     0     0]\n",
      " [17877  8492     0 ...,     0     0     0]]\n",
      "max 17914\n"
     ]
    },
    {
     "name": "stderr",
     "output_type": "stream",
     "text": [
      "\n",
      "\n",
      "\n",
      "\n",
      "  1%|          | 121/10000 [2:06:22<171:13:51, 62.40s/it]\u001b[A\u001b[A\u001b[A\u001b[A\n",
      "\n",
      "\n",
      "\n",
      "  1%|          | 122/10000 [2:07:24<171:11:08, 62.39s/it]\u001b[A\u001b[A\u001b[A\u001b[A"
     ]
    },
    {
     "name": "stdout",
     "output_type": "stream",
     "text": [
      "predition [[17496     1     1 ...,     0     0     0]\n",
      " [ 7949 17914    36 ...,     0     0     0]\n",
      " [ 7949  8492     0 ...,     0     0     0]\n",
      " ..., \n",
      " [10738     1     0 ...,     0     0     0]\n",
      " [ 7949  7949 10552 ...,     0     0     0]\n",
      " [10738     1     1 ...,     0     0     0]]\n",
      "max 17914\n"
     ]
    },
    {
     "name": "stderr",
     "output_type": "stream",
     "text": [
      "\n",
      "\n",
      "\n",
      "\n",
      "  1%|          | 123/10000 [2:08:27<171:18:31, 62.44s/it]\u001b[A\u001b[A\u001b[A\u001b[A\n",
      "\n",
      "\n",
      "\n",
      "  1%|          | 124/10000 [2:09:29<171:12:04, 62.41s/it]\u001b[A\u001b[A\u001b[A\u001b[A"
     ]
    },
    {
     "name": "stdout",
     "output_type": "stream",
     "text": [
      "predition [[ 7949  7949  7949 ...,     0     0     0]\n",
      " [ 7949  8492 17914 ...,     0     0     0]\n",
      " [ 7949  8492     0 ...,     0     0     0]\n",
      " ..., \n",
      " [ 7949  8492     0 ...,     0     0     0]\n",
      " [10738  8492  8492 ...,     0     0     0]\n",
      " [ 7949  8492     0 ...,     0     0     0]]\n",
      "max 17914\n"
     ]
    },
    {
     "name": "stderr",
     "output_type": "stream",
     "text": [
      "\n",
      "\n",
      "\n",
      "\n",
      "  1%|▏         | 125/10000 [2:10:32<171:06:40, 62.38s/it]\u001b[A\u001b[A\u001b[A\u001b[A"
     ]
    },
    {
     "name": "stdout",
     "output_type": "stream",
     "text": [
      "predition [[ 7949  8492     1 ...,     0     0     0]\n",
      " [ 7949  8492     0 ...,     0     0     0]\n",
      " [17496  8492     0 ...,     0     0     0]\n",
      " ..., \n",
      " [17496     1     0 ...,     0     0     0]\n",
      " [ 7949    36    36 ...,     0     0     0]\n",
      " [17496     1     0 ...,     0     0     0]]\n",
      "max 17914\n"
     ]
    },
    {
     "name": "stderr",
     "output_type": "stream",
     "text": [
      "\n",
      "\n",
      "\n",
      "\n",
      "  1%|▏         | 126/10000 [2:11:34<171:17:27, 62.45s/it]\u001b[A\u001b[A\u001b[A\u001b[A\n",
      "\n",
      "\n",
      "\n",
      "  1%|▏         | 127/10000 [2:12:37<171:17:03, 62.46s/it]\u001b[A\u001b[A\u001b[A\u001b[A"
     ]
    },
    {
     "name": "stdout",
     "output_type": "stream",
     "text": [
      "predition [[10738    36  8492 ...,     1     0     0]\n",
      " [ 7949  8492 10552 ...,     0     0     0]\n",
      " [ 7949     1 17914 ...,     0     0     0]\n",
      " ..., \n",
      " [10738    36     0 ...,     0     0     0]\n",
      " [ 7949  8492     0 ...,     0     0     0]\n",
      " [10738     1     1 ...,     0     0     0]]\n",
      "max 17914\n"
     ]
    },
    {
     "name": "stderr",
     "output_type": "stream",
     "text": [
      "\n",
      "\n",
      "\n",
      "\n",
      "  1%|▏         | 128/10000 [2:13:39<171:18:15, 62.47s/it]\u001b[A\u001b[A\u001b[A\u001b[A\n",
      "\n",
      "\n",
      "\n",
      "  1%|▏         | 129/10000 [2:14:41<171:08:03, 62.41s/it]\u001b[A\u001b[A\u001b[A\u001b[A"
     ]
    },
    {
     "name": "stdout",
     "output_type": "stream",
     "text": [
      "predition [[10738  8492  8492 ...,    36    36     0]\n",
      " [10738  8492  8492 ...,     0     0     0]\n",
      " [ 7949  8492  8492 ...,    36    36    36]\n",
      " ..., \n",
      " [10738  8492  8492 ...,     0     0     0]\n",
      " [ 7949  8492     1 ...,     0     0     0]\n",
      " [10738  8492  8492 ...,     0     0     0]]\n",
      "max 17914\n"
     ]
    },
    {
     "name": "stderr",
     "output_type": "stream",
     "text": [
      "\n",
      "\n",
      "\n",
      "\n",
      "  1%|▏         | 130/10000 [2:15:44<171:13:15, 62.45s/it]\u001b[A\u001b[A\u001b[A\u001b[A\n",
      "\n",
      "\n",
      "\n",
      "  1%|▏         | 131/10000 [2:16:46<171:06:24, 62.42s/it]\u001b[A\u001b[A\u001b[A\u001b[A"
     ]
    },
    {
     "name": "stdout",
     "output_type": "stream",
     "text": [
      "predition [[ 7949  7949 10552 ...,     0     0     0]\n",
      " [ 7949  7949  7949 ...,    36    36     0]\n",
      " [17496     1     0 ...,     0     0     0]\n",
      " ..., \n",
      " [ 7949  8492     1 ...,     0     0     0]\n",
      " [10738  8492  8492 ...,     1     0     0]\n",
      " [ 7949  8492    36 ...,     0     0     0]]\n",
      "max 17496\n"
     ]
    },
    {
     "name": "stderr",
     "output_type": "stream",
     "text": [
      "\n",
      "\n",
      "\n",
      "\n",
      "  1%|▏         | 132/10000 [2:17:49<171:11:22, 62.45s/it]\u001b[A\u001b[A\u001b[A\u001b[A\n",
      "\n",
      "\n",
      "\n",
      "  1%|▏         | 133/10000 [2:18:51<171:07:28, 62.44s/it]\u001b[A\u001b[A\u001b[A\u001b[A"
     ]
    },
    {
     "name": "stdout",
     "output_type": "stream",
     "text": [
      "predition [[ 7949  8492 10552 ...,    36    36    36]\n",
      " [ 7949  8492     1 ...,     0     0     0]\n",
      " [ 7949  8492     1 ...,     0     0     0]\n",
      " ..., \n",
      " [17496     1     0 ...,     0     0     0]\n",
      " [10738     1     1 ...,     0     0     0]\n",
      " [10738    36     1 ...,     0     0     0]]\n",
      "max 17914\n"
     ]
    },
    {
     "name": "stderr",
     "output_type": "stream",
     "text": [
      "\n",
      "\n",
      "\n",
      "\n",
      "  1%|▏         | 134/10000 [2:19:54<171:10:03, 62.46s/it]\u001b[A\u001b[A\u001b[A\u001b[A\n",
      "\n",
      "\n",
      "\n",
      "  1%|▏         | 135/10000 [2:20:56<171:01:11, 62.41s/it]\u001b[A\u001b[A\u001b[A\u001b[A"
     ]
    },
    {
     "name": "stdout",
     "output_type": "stream",
     "text": [
      "predition [[17496     1     1 ...,     0     0     0]\n",
      " [10738  8492     0 ...,     0     0     0]\n",
      " [ 7949    36    36 ...,     0     0     0]\n",
      " ..., \n",
      " [ 7949  8492     1 ...,     0     0     0]\n",
      " [10738     1     0 ...,     0     0     0]\n",
      " [17496     1     0 ...,     0     0     0]]\n",
      "max 17914\n"
     ]
    },
    {
     "name": "stderr",
     "output_type": "stream",
     "text": [
      "\n",
      "\n",
      "\n",
      "\n",
      "  1%|▏         | 136/10000 [2:21:58<171:01:25, 62.42s/it]\u001b[A\u001b[A\u001b[A\u001b[A\n",
      "\n",
      "\n",
      "\n",
      "  1%|▏         | 137/10000 [2:23:01<170:57:12, 62.40s/it]\u001b[A\u001b[A\u001b[A\u001b[A"
     ]
    },
    {
     "name": "stdout",
     "output_type": "stream",
     "text": [
      "predition [[17496     1     1 ...,     0     0     0]\n",
      " [ 7949  8492 10552 ...,     0     0     0]\n",
      " [ 7949  8492 10552 ...,     0     0     0]\n",
      " ..., \n",
      " [ 7949  8492 10552 ...,     0     0     0]\n",
      " [ 7949     1     0 ...,     0     0     0]\n",
      " [ 7949  8492  8492 ...,     0     0     0]]\n",
      "max 17914\n"
     ]
    },
    {
     "name": "stderr",
     "output_type": "stream",
     "text": [
      "\n",
      "\n",
      "\n",
      "\n",
      "  1%|▏         | 138/10000 [2:24:03<170:55:48, 62.40s/it]\u001b[A\u001b[A\u001b[A\u001b[A"
     ]
    },
    {
     "name": "stdout",
     "output_type": "stream",
     "text": [
      "predition [[10738  8492  8492 ...,     0     0     0]\n",
      " [ 7949  8492  8492 ...,     0     0     0]\n",
      " [ 7949  8492 17914 ...,     0     0     0]\n",
      " ..., \n",
      " [10738     1     1 ...,     0     0     0]\n",
      " [ 7949  8492     1 ...,     0     0     0]\n",
      " [ 7949     1     1 ...,     0     0     0]]\n",
      "max 17914\n"
     ]
    },
    {
     "name": "stderr",
     "output_type": "stream",
     "text": [
      "\n",
      "\n",
      "\n",
      "\n",
      "  1%|▏         | 139/10000 [2:25:06<171:03:43, 62.45s/it]\u001b[A\u001b[A\u001b[A\u001b[A\n",
      "\n",
      "\n",
      "\n",
      "  1%|▏         | 140/10000 [2:26:08<170:51:05, 62.38s/it]\u001b[A\u001b[A\u001b[A\u001b[A"
     ]
    },
    {
     "name": "stdout",
     "output_type": "stream",
     "text": [
      "predition [[ 7949  7949  7949 ...,     0     0     0]\n",
      " [ 7949     1     0 ...,     0     0     0]\n",
      " [ 7949  7949 10552 ...,     0     0     0]\n",
      " ..., \n",
      " [ 7949  8492 17914 ...,     0     0     0]\n",
      " [ 7949     1     1 ...,     0     0     0]\n",
      " [10738    36     1 ...,     0     0     0]]\n",
      "max 17914\n"
     ]
    },
    {
     "name": "stderr",
     "output_type": "stream",
     "text": [
      "\n",
      "\n",
      "\n",
      "\n",
      "  1%|▏         | 141/10000 [2:27:10<170:50:35, 62.38s/it]\u001b[A\u001b[A\u001b[A\u001b[A\n",
      "\n",
      "\n",
      "\n",
      "  1%|▏         | 142/10000 [2:28:13<170:49:07, 62.38s/it]\u001b[A\u001b[A\u001b[A\u001b[A"
     ]
    },
    {
     "name": "stdout",
     "output_type": "stream",
     "text": [
      "predition [[ 7949  8492 10552 ...,     0     0     0]\n",
      " [ 7949  8492 10552 ...,     1     0     0]\n",
      " [ 7949    36     0 ...,     0     0     0]\n",
      " ..., \n",
      " [ 7949     1     0 ...,     0     0     0]\n",
      " [ 7949  7949 10552 ...,     0     0     0]\n",
      " [ 7949  8492  8492 ...,     0     0     0]]\n",
      "max 17914\n"
     ]
    },
    {
     "name": "stderr",
     "output_type": "stream",
     "text": [
      "\n",
      "\n",
      "\n",
      "\n",
      "  1%|▏         | 143/10000 [2:29:15<170:57:24, 62.44s/it]\u001b[A\u001b[A\u001b[A\u001b[A\n",
      "\n",
      "\n",
      "\n",
      "  1%|▏         | 144/10000 [2:30:18<170:55:09, 62.43s/it]\u001b[A\u001b[A\u001b[A\u001b[A"
     ]
    },
    {
     "name": "stdout",
     "output_type": "stream",
     "text": [
      "predition [[10738     1     0 ...,     0     0     0]\n",
      " [ 7949     1     1 ...,     0     0     0]\n",
      " [17496     1    36 ...,     0     0     0]\n",
      " ..., \n",
      " [10738 17914    36 ...,     0     0     0]\n",
      " [10738  8492  8492 ...,    36    36     0]\n",
      " [10738     1     1 ...,     0     0     0]]\n",
      "max 17914\n"
     ]
    },
    {
     "name": "stderr",
     "output_type": "stream",
     "text": [
      "\n",
      "\n",
      "\n",
      "\n",
      "  1%|▏         | 145/10000 [2:31:20<170:51:23, 62.41s/it]\u001b[A\u001b[A\u001b[A\u001b[A\n",
      "\n",
      "\n",
      "\n",
      "  1%|▏         | 146/10000 [2:32:23<170:57:59, 62.46s/it]\u001b[A\u001b[A\u001b[A\u001b[A"
     ]
    },
    {
     "name": "stdout",
     "output_type": "stream",
     "text": [
      "predition [[ 7949    36     1 ...,     0     0     0]\n",
      " [10738  8492  8492 ...,     0     0     0]\n",
      " [10738     1     0 ...,     0     0     0]\n",
      " ..., \n",
      " [17496     1 17914 ...,     0     0     0]\n",
      " [10738  8492  8492 ...,    36     1     0]\n",
      " [ 7949  8492     0 ...,     0     0     0]]\n",
      "max 17914\n"
     ]
    },
    {
     "name": "stderr",
     "output_type": "stream",
     "text": [
      "\n",
      "\n",
      "\n",
      "\n",
      "  1%|▏         | 147/10000 [2:33:25<170:49:00, 62.41s/it]\u001b[A\u001b[A\u001b[A\u001b[A\n",
      "\n",
      "\n",
      "\n",
      "  1%|▏         | 148/10000 [2:34:27<170:40:01, 62.36s/it]\u001b[A\u001b[A\u001b[A\u001b[A"
     ]
    },
    {
     "name": "stdout",
     "output_type": "stream",
     "text": [
      "predition [[10738  8492  8492 ...,     0     0     0]\n",
      " [10738     1     0 ...,     0     0     0]\n",
      " [10738     1     1 ...,     0     0     0]\n",
      " ..., \n",
      " [17496     1     0 ...,     0     0     0]\n",
      " [ 7949  7949 10552 ...,     0     0     0]\n",
      " [ 7949  8492 10552 ...,    36    36     0]]\n",
      "max 17914\n"
     ]
    },
    {
     "name": "stderr",
     "output_type": "stream",
     "text": [
      "\n",
      "\n",
      "\n",
      "\n",
      "  1%|▏         | 149/10000 [2:35:30<170:41:42, 62.38s/it]\u001b[A\u001b[A\u001b[A\u001b[A\n",
      "\n",
      "\n",
      "\n",
      "  2%|▏         | 150/10000 [2:36:32<170:43:00, 62.39s/it]\u001b[A\u001b[A\u001b[A\u001b[A"
     ]
    },
    {
     "name": "stdout",
     "output_type": "stream",
     "text": [
      "predition [[ 7949  8492     1 ...,     0     0     0]\n",
      " [ 7949  8492  8492 ...,    36    36     1]\n",
      " [ 7949  8492 17914 ...,     0     0     0]\n",
      " ..., \n",
      " [10738 17914     0 ...,     0     0     0]\n",
      " [17496     1     1 ...,     0     0     0]\n",
      " [17496     1     1 ...,     0     0     0]]\n",
      "max 17914\n"
     ]
    },
    {
     "name": "stderr",
     "output_type": "stream",
     "text": [
      "\n",
      "\n",
      "\n",
      "\n",
      "  2%|▏         | 151/10000 [2:37:35<170:51:41, 62.45s/it]\u001b[A\u001b[A\u001b[A\u001b[A"
     ]
    },
    {
     "name": "stdout",
     "output_type": "stream",
     "text": [
      "predition [[10738     1     1 ...,     0     0     0]\n",
      " [ 7949  8492 10552 ...,     0     0     0]\n",
      " [ 7949  8492  8492 ...,     0     0     0]\n",
      " ..., \n",
      " [17496     1     1 ...,     0     0     0]\n",
      " [ 7949  7949 10552 ...,     0     0     0]\n",
      " [ 7949  8492     0 ...,     0     0     0]]\n",
      "max 17914\n"
     ]
    },
    {
     "name": "stderr",
     "output_type": "stream",
     "text": [
      "\n",
      "\n",
      "\n",
      "\n",
      "  2%|▏         | 152/10000 [2:38:37<170:41:00, 62.39s/it]\u001b[A\u001b[A\u001b[A\u001b[A\n",
      "\n",
      "\n",
      "\n",
      "  2%|▏         | 153/10000 [2:39:39<170:35:10, 62.37s/it]\u001b[A\u001b[A\u001b[A\u001b[A"
     ]
    },
    {
     "name": "stdout",
     "output_type": "stream",
     "text": [
      "predition [[ 7949     1     0 ...,     0     0     0]\n",
      " [ 7949   899 10552 ...,     0     0     0]\n",
      " [ 7949     1     0 ...,     0     0     0]\n",
      " ..., \n",
      " [10738     1     0 ...,     0     0     0]\n",
      " [ 7949  8492 10552 ...,     0     0     0]\n",
      " [17496     1     0 ...,     0     0     0]]\n",
      "max 17914\n"
     ]
    },
    {
     "name": "stderr",
     "output_type": "stream",
     "text": [
      "\n",
      "\n",
      "\n",
      "\n",
      "  2%|▏         | 154/10000 [2:40:42<170:43:35, 62.42s/it]\u001b[A\u001b[A\u001b[A\u001b[A\n",
      "\n",
      "\n",
      "\n",
      "  2%|▏         | 155/10000 [2:41:44<170:39:54, 62.41s/it]\u001b[A\u001b[A\u001b[A\u001b[A"
     ]
    },
    {
     "name": "stdout",
     "output_type": "stream",
     "text": [
      "predition [[10738     1 10552 ...,     0     0     0]\n",
      " [17496     1     1 ...,     0     0     0]\n",
      " [ 7949  8492  8492 ...,    36     1     0]\n",
      " ..., \n",
      " [ 7949  8492 10552 ...,     0     0     0]\n",
      " [ 7949  7949 10552 ...,     0     0     0]\n",
      " [ 7949  7949 10552 ...,    36    36     0]]\n",
      "max 17914\n"
     ]
    },
    {
     "name": "stderr",
     "output_type": "stream",
     "text": [
      "\n",
      "\n",
      "\n",
      "\n",
      "  2%|▏         | 156/10000 [2:42:47<170:48:05, 62.46s/it]\u001b[A\u001b[A\u001b[A\u001b[A\n",
      "\n",
      "\n",
      "\n",
      "  2%|▏         | 157/10000 [2:43:49<170:36:35, 62.40s/it]\u001b[A\u001b[A\u001b[A\u001b[A"
     ]
    },
    {
     "name": "stdout",
     "output_type": "stream",
     "text": [
      "predition [[ 7949  8492 17914 ...,     0     0     0]\n",
      " [ 7949  8492 10552 ...,     0     0     0]\n",
      " [10738     1     0 ...,     0     0     0]\n",
      " ..., \n",
      " [ 7949  8492     1 ...,     0     0     0]\n",
      " [10738  8492  8492 ...,     0     0     0]\n",
      " [ 7949  8492 17914 ...,     0     0     0]]\n",
      "max 17914\n"
     ]
    },
    {
     "name": "stderr",
     "output_type": "stream",
     "text": [
      "\n",
      "\n",
      "\n",
      "\n",
      "  2%|▏         | 158/10000 [2:44:52<170:46:03, 62.46s/it]\u001b[A\u001b[A\u001b[A\u001b[A\n",
      "\n",
      "\n",
      "\n",
      "  2%|▏         | 159/10000 [2:45:54<170:40:22, 62.43s/it]\u001b[A\u001b[A\u001b[A\u001b[A"
     ]
    },
    {
     "name": "stdout",
     "output_type": "stream",
     "text": [
      "predition [[10738  8492  8492 ...,     0     0     0]\n",
      " [10738     1     0 ...,     0     0     0]\n",
      " [17496     1     1 ...,     0     0     0]\n",
      " ..., \n",
      " [10738  8492     0 ...,     0     0     0]\n",
      " [ 7949   899 10552 ...,     0     0     0]\n",
      " [ 7949  8492 10552 ...,     0     0     0]]\n",
      "max 17914\n"
     ]
    },
    {
     "name": "stderr",
     "output_type": "stream",
     "text": [
      "\n",
      "\n",
      "\n",
      "\n",
      "  2%|▏         | 160/10000 [2:46:56<170:41:47, 62.45s/it]\u001b[A\u001b[A\u001b[A\u001b[A\n",
      "\n",
      "\n",
      "\n",
      "  2%|▏         | 161/10000 [2:47:59<170:36:50, 62.43s/it]\u001b[A\u001b[A\u001b[A\u001b[A"
     ]
    },
    {
     "name": "stdout",
     "output_type": "stream",
     "text": [
      "predition [[ 7949  8492 10552 ...,     0     0     0]\n",
      " [17496     1     0 ...,     0     0     0]\n",
      " [ 7949  8492 10552 ...,     0     0     0]\n",
      " ..., \n",
      " [ 7949  8492  8492 ...,     0     0     0]\n",
      " [ 7949  8492 10552 ...,     0     0     0]\n",
      " [10738  8492     1 ...,     0     0     0]]\n",
      "max 17914\n"
     ]
    },
    {
     "name": "stderr",
     "output_type": "stream",
     "text": [
      "\n",
      "\n",
      "\n",
      "\n",
      "  2%|▏         | 162/10000 [2:49:01<170:42:22, 62.47s/it]\u001b[A\u001b[A\u001b[A\u001b[A\n",
      "\n",
      "\n",
      "\n",
      "  2%|▏         | 163/10000 [2:50:04<170:34:26, 62.42s/it]\u001b[A\u001b[A\u001b[A\u001b[A"
     ]
    },
    {
     "name": "stdout",
     "output_type": "stream",
     "text": [
      "predition [[17496     1     1 ...,     0     0     0]\n",
      " [ 7949  7949     0 ...,     0     0     0]\n",
      " [ 7949  7949  7949 ...,    36     1     0]\n",
      " ..., \n",
      " [10738     1     1 ...,     0     0     0]\n",
      " [ 7949     1     1 ...,     0     0     0]\n",
      " [ 7949  8492  8492 ...,    36    36    36]]\n",
      "max 17914\n"
     ]
    },
    {
     "name": "stderr",
     "output_type": "stream",
     "text": [
      "\n",
      "\n",
      "\n",
      "\n",
      "  2%|▏         | 164/10000 [2:51:06<170:41:05, 62.47s/it]\u001b[A\u001b[A\u001b[A\u001b[A"
     ]
    },
    {
     "name": "stdout",
     "output_type": "stream",
     "text": [
      "predition [[ 7949  7949     1 ...,     0     0     0]\n",
      " [ 7949     1 10552 ...,     0     0     0]\n",
      " [ 7949    36    36 ...,     0     0     0]\n",
      " ..., \n",
      " [17496     1     0 ...,     0     0     0]\n",
      " [ 7949  8492    36 ...,     0     0     0]\n",
      " [ 7949  8492 10552 ...,    36     0     0]]\n",
      "max 17914\n"
     ]
    },
    {
     "name": "stderr",
     "output_type": "stream",
     "text": [
      "\n",
      "\n",
      "\n",
      "\n",
      "  2%|▏         | 165/10000 [2:52:09<170:42:44, 62.49s/it]\u001b[A\u001b[A\u001b[A\u001b[A\n",
      "\n",
      "\n",
      "\n",
      "  2%|▏         | 166/10000 [2:53:11<170:41:47, 62.49s/it]\u001b[A\u001b[A\u001b[A\u001b[A"
     ]
    },
    {
     "name": "stdout",
     "output_type": "stream",
     "text": [
      "predition [[ 7949     1     0 ...,     0     0     0]\n",
      " [ 7949    36     1 ...,     0     0     0]\n",
      " [ 7949  8492  8492 ...,     0     0     0]\n",
      " ..., \n",
      " [ 7949  8492 10552 ...,     0     0     0]\n",
      " [10738  8492  8492 ...,     0     0     0]\n",
      " [ 7949  8492    36 ...,     0     0     0]]\n",
      "max 17914\n"
     ]
    },
    {
     "name": "stderr",
     "output_type": "stream",
     "text": [
      "\n",
      "\n",
      "\n",
      "\n",
      "  2%|▏         | 167/10000 [2:54:14<170:48:19, 62.53s/it]\u001b[A\u001b[A\u001b[A\u001b[A\n",
      "\n",
      "\n",
      "\n",
      "  2%|▏         | 168/10000 [2:55:16<170:39:36, 62.49s/it]\u001b[A\u001b[A\u001b[A\u001b[A"
     ]
    },
    {
     "name": "stdout",
     "output_type": "stream",
     "text": [
      "predition [[ 7949  8492     1 ...,     0     0     0]\n",
      " [17496     1     0 ...,     0     0     0]\n",
      " [ 7949  8492 10552 ...,     0     0     0]\n",
      " ..., \n",
      " [17496     1     1 ...,     0     0     0]\n",
      " [ 7949  8492 10552 ...,    36    36    36]\n",
      " [ 7949  7949  7949 ...,     1     0     0]]\n",
      "max 17914\n"
     ]
    },
    {
     "name": "stderr",
     "output_type": "stream",
     "text": [
      "\n",
      "\n",
      "\n",
      "\n",
      "  2%|▏         | 169/10000 [2:56:19<170:35:47, 62.47s/it]\u001b[A\u001b[A\u001b[A\u001b[A\n",
      "\n",
      "\n",
      "\n",
      "  2%|▏         | 170/10000 [2:57:21<170:29:21, 62.44s/it]\u001b[A\u001b[A\u001b[A\u001b[A"
     ]
    },
    {
     "name": "stdout",
     "output_type": "stream",
     "text": [
      "predition [[ 7949     1     0 ...,     0     0     0]\n",
      " [ 7949  8492     1 ...,     0     0     0]\n",
      " [ 7949  8492 10552 ...,     0     0     0]\n",
      " ..., \n",
      " [ 7949     1     0 ...,     0     0     0]\n",
      " [ 7949     1     1 ...,     0     0     0]\n",
      " [ 7949  8492 10552 ...,    36    36     1]]\n",
      "max 17914\n"
     ]
    },
    {
     "name": "stderr",
     "output_type": "stream",
     "text": [
      "\n",
      "\n",
      "\n",
      "\n",
      "  2%|▏         | 171/10000 [2:58:24<170:33:11, 62.47s/it]\u001b[A\u001b[A\u001b[A\u001b[A\n",
      "\n",
      "\n",
      "\n",
      "  2%|▏         | 172/10000 [2:59:26<170:30:12, 62.46s/it]\u001b[A\u001b[A\u001b[A\u001b[A"
     ]
    },
    {
     "name": "stdout",
     "output_type": "stream",
     "text": [
      "predition [[10738    36    36 ...,     0     0     0]\n",
      " [10738     1     0 ...,     0     0     0]\n",
      " [ 7949  7949 10552 ...,     0     0     0]\n",
      " ..., \n",
      " [ 7949  8492 10552 ...,    36    36    36]\n",
      " [10738  8492  8492 ...,     0     0     0]\n",
      " [ 7949  7949 10552 ...,    36    36    36]]\n",
      "max 17914\n"
     ]
    },
    {
     "name": "stderr",
     "output_type": "stream",
     "text": [
      "\n",
      "\n",
      "\n",
      "\n",
      "  2%|▏         | 173/10000 [3:00:29<170:27:32, 62.45s/it]\u001b[A\u001b[A\u001b[A\u001b[A\n",
      "\n",
      "\n",
      "\n",
      "  2%|▏         | 174/10000 [3:01:31<170:24:36, 62.43s/it]\u001b[A\u001b[A\u001b[A\u001b[A"
     ]
    },
    {
     "name": "stdout",
     "output_type": "stream",
     "text": [
      "predition [[ 7949    36 17914 ...,     0     0     0]\n",
      " [10738    36     1 ...,     0     0     0]\n",
      " [17914  8492  8492 ...,     0     0     0]\n",
      " ..., \n",
      " [ 7949  8492     1 ...,     0     0     0]\n",
      " [17496     1     0 ...,     0     0     0]\n",
      " [17914  8492  8492 ...,     0     0     0]]\n",
      "max 17914\n"
     ]
    },
    {
     "name": "stderr",
     "output_type": "stream",
     "text": [
      "\n",
      "\n",
      "\n",
      "\n",
      "  2%|▏         | 175/10000 [3:02:34<170:29:55, 62.47s/it]\u001b[A\u001b[A\u001b[A\u001b[A\n",
      "\n",
      "\n",
      "\n",
      "  2%|▏         | 176/10000 [3:03:36<170:20:42, 62.42s/it]\u001b[A\u001b[A\u001b[A\u001b[A"
     ]
    },
    {
     "name": "stdout",
     "output_type": "stream",
     "text": [
      "predition [[10738  8492  8492 ...,    36     0     0]\n",
      " [10738  8492  8492 ...,     0     0     0]\n",
      " [ 7949     1     1 ...,     0     0     0]\n",
      " ..., \n",
      " [ 7949  8492 10552 ...,     0     0     0]\n",
      " [10738     1     0 ...,     0     0     0]\n",
      " [10738  8492     1 ...,     0     0     0]]\n",
      "max 17914\n"
     ]
    },
    {
     "name": "stderr",
     "output_type": "stream",
     "text": [
      "\n",
      "\n",
      "\n",
      "\n",
      "  2%|▏         | 177/10000 [3:04:38<170:26:57, 62.47s/it]\u001b[A\u001b[A\u001b[A\u001b[A\n",
      "\n",
      "\n",
      "\n",
      "  2%|▏         | 178/10000 [3:05:41<170:15:41, 62.40s/it]\u001b[A\u001b[A\u001b[A\u001b[A"
     ]
    },
    {
     "name": "stdout",
     "output_type": "stream",
     "text": [
      "predition [[ 7949     1     1 ...,     0     0     0]\n",
      " [ 7949  7949  7949 ...,     1     0     0]\n",
      " [10738  8492 17914 ...,     0     0     0]\n",
      " ..., \n",
      " [ 7949  8492 17914 ...,     0     0     0]\n",
      " [10738     1     1 ...,     0     0     0]\n",
      " [ 7949  8492 10552 ...,     0     0     0]]\n",
      "max 17914\n"
     ]
    },
    {
     "name": "stderr",
     "output_type": "stream",
     "text": [
      "\n",
      "\n",
      "\n",
      "\n",
      "  2%|▏         | 179/10000 [3:06:43<170:19:51, 62.44s/it]\u001b[A\u001b[A\u001b[A\u001b[A"
     ]
    },
    {
     "name": "stdout",
     "output_type": "stream",
     "text": [
      "predition [[ 7949  8492     1 ...,     0     0     0]\n",
      " [ 7949  8492 10552 ...,     0     0     0]\n",
      " [17496     1     0 ...,     0     0     0]\n",
      " ..., \n",
      " [ 7949  8492 10552 ...,     0     0     0]\n",
      " [   36     1     0 ...,     0     0     0]\n",
      " [10738  8492     1 ...,     0     0     0]]\n",
      "max 17914\n"
     ]
    },
    {
     "name": "stderr",
     "output_type": "stream",
     "text": [
      "\n",
      "\n",
      "\n",
      "\n",
      "  2%|▏         | 180/10000 [3:07:46<170:20:18, 62.45s/it]\u001b[A\u001b[A\u001b[A\u001b[A\n",
      "\n",
      "\n",
      "\n",
      "  2%|▏         | 181/10000 [3:08:48<170:21:10, 62.46s/it]\u001b[A\u001b[A\u001b[A\u001b[A"
     ]
    },
    {
     "name": "stdout",
     "output_type": "stream",
     "text": [
      "predition [[17914 17914 17914 ...,     0     0     0]\n",
      " [10738     1     1 ...,     0     0     0]\n",
      " [ 7949    36    36 ...,     0     0     0]\n",
      " ..., \n",
      " [ 7949  8492 10552 ...,    36     1     0]\n",
      " [17496     1     1 ...,     0     0     0]\n",
      " [ 7949     1    36 ...,     0     0     0]]\n",
      "max 17914\n"
     ]
    },
    {
     "name": "stderr",
     "output_type": "stream",
     "text": [
      "\n",
      "\n",
      "\n",
      "\n",
      "  2%|▏         | 182/10000 [3:09:51<170:22:00, 62.47s/it]\u001b[A\u001b[A\u001b[A\u001b[A\n",
      "\n",
      "\n",
      "\n",
      "  2%|▏         | 183/10000 [3:10:53<170:16:32, 62.44s/it]\u001b[A\u001b[A\u001b[A\u001b[A"
     ]
    },
    {
     "name": "stdout",
     "output_type": "stream",
     "text": [
      "predition [[10738     1     0 ...,     0     0     0]\n",
      " [ 7949  8492 10552 ...,    36     0     0]\n",
      " [ 7949  8492 10552 ...,    36    36     1]\n",
      " ..., \n",
      " [ 7949  8492     0 ...,     0     0     0]\n",
      " [ 7949  8492 10552 ...,     0     0     0]\n",
      " [ 7949  8492     0 ...,     0     0     0]]\n",
      "max 17914\n"
     ]
    },
    {
     "name": "stderr",
     "output_type": "stream",
     "text": [
      "\n",
      "\n",
      "\n",
      "\n",
      "  2%|▏         | 184/10000 [3:11:56<170:20:42, 62.47s/it]\u001b[A\u001b[A\u001b[A\u001b[A\n",
      "\n",
      "\n",
      "\n",
      "  2%|▏         | 185/10000 [3:12:58<170:20:54, 62.48s/it]\u001b[A\u001b[A\u001b[A\u001b[A"
     ]
    },
    {
     "name": "stdout",
     "output_type": "stream",
     "text": [
      "predition [[ 7949  8492  8492 ...,     0     0     0]\n",
      " [ 7949  7949 10552 ...,     0     0     0]\n",
      " [10738  8492     1 ...,     0     0     0]\n",
      " ..., \n",
      " [ 7949  8492 10552 ...,     0     0     0]\n",
      " [ 7949  7949 10552 ...,     0     0     0]\n",
      " [ 7949     1     0 ...,     0     0     0]]\n",
      "max 17914\n"
     ]
    },
    {
     "name": "stderr",
     "output_type": "stream",
     "text": [
      "\n",
      "\n",
      "\n",
      "\n",
      "  2%|▏         | 186/10000 [3:14:00<170:19:09, 62.48s/it]\u001b[A\u001b[A\u001b[A\u001b[A\n",
      "\n",
      "\n",
      "\n",
      "  2%|▏         | 187/10000 [3:15:03<170:13:15, 62.45s/it]\u001b[A\u001b[A\u001b[A\u001b[A"
     ]
    },
    {
     "name": "stdout",
     "output_type": "stream",
     "text": [
      "predition [[ 7949  8492 10552 ...,    36    36    36]\n",
      " [ 7949  8492     1 ...,     0     0     0]\n",
      " [ 7949  7949    36 ...,    36    36     0]\n",
      " ..., \n",
      " [ 7949  7949 10552 ...,     0     0     0]\n",
      " [ 7949  8492 10552 ...,    36    36     1]\n",
      " [ 7949  8492 10552 ...,     0     0     0]]\n",
      "max 17914\n"
     ]
    },
    {
     "name": "stderr",
     "output_type": "stream",
     "text": [
      "\n",
      "\n",
      "\n",
      "\n",
      "  2%|▏         | 188/10000 [3:16:05<170:08:58, 62.43s/it]\u001b[A\u001b[A\u001b[A\u001b[A\n",
      "\n",
      "\n",
      "\n",
      "  2%|▏         | 189/10000 [3:17:08<169:59:24, 62.38s/it]\u001b[A\u001b[A\u001b[A\u001b[A"
     ]
    },
    {
     "name": "stdout",
     "output_type": "stream",
     "text": [
      "predition [[ 7949   899 10552 ...,     0     0     0]\n",
      " [ 7949    36     1 ...,     0     0     0]\n",
      " [ 7949  8492 17914 ...,     0     0     0]\n",
      " ..., \n",
      " [17496     1     0 ...,     0     0     0]\n",
      " [ 7949  8492 17914 ...,     0     0     0]\n",
      " [17496     1     0 ...,     0     0     0]]\n",
      "max 17914\n"
     ]
    },
    {
     "name": "stderr",
     "output_type": "stream",
     "text": [
      "\n",
      "\n",
      "\n",
      "\n",
      "  2%|▏         | 190/10000 [3:18:10<170:08:16, 62.44s/it]\u001b[A\u001b[A\u001b[A\u001b[A\n",
      "\n",
      "\n",
      "\n",
      "  2%|▏         | 191/10000 [3:19:12<169:59:42, 62.39s/it]\u001b[A\u001b[A\u001b[A\u001b[A"
     ]
    },
    {
     "name": "stdout",
     "output_type": "stream",
     "text": [
      "predition [[ 7949  8492     0 ...,     0     0     0]\n",
      " [ 7949  8492 10552 ...,     0     0     0]\n",
      " [ 7949     1     1 ...,     0     0     0]\n",
      " ..., \n",
      " [ 7949  7949 10552 ...,     0     0     0]\n",
      " [ 7949  8492 10552 ...,     0     0     0]\n",
      " [17496     1     0 ...,     0     0     0]]\n",
      "max 17914\n"
     ]
    },
    {
     "name": "stderr",
     "output_type": "stream",
     "text": [
      "\n",
      "\n",
      "\n",
      "\n",
      "  2%|▏         | 192/10000 [3:20:15<170:00:45, 62.40s/it]\u001b[A\u001b[A\u001b[A\u001b[A"
     ]
    },
    {
     "name": "stdout",
     "output_type": "stream",
     "text": [
      "predition [[ 7949  7949 10552 ...,     0     0     0]\n",
      " [ 7949     1     0 ...,     0     0     0]\n",
      " [10738     1     0 ...,     0     0     0]\n",
      " ..., \n",
      " [ 7949  8492  8492 ...,     0     0     0]\n",
      " [ 7949  8492 10552 ...,     0     0     0]\n",
      " [ 7949    36    36 ...,     0     0     0]]\n",
      "max 17914\n"
     ]
    },
    {
     "name": "stderr",
     "output_type": "stream",
     "text": [
      "\n",
      "\n",
      "\n",
      "\n",
      "  2%|▏         | 193/10000 [3:21:17<170:09:02, 62.46s/it]\u001b[A\u001b[A\u001b[A\u001b[A\n",
      "\n",
      "\n",
      "\n",
      "  2%|▏         | 194/10000 [3:22:20<170:06:12, 62.45s/it]\u001b[A\u001b[A\u001b[A\u001b[A"
     ]
    },
    {
     "name": "stdout",
     "output_type": "stream",
     "text": [
      "predition [[ 7949  8492     1 ...,     0     0     0]\n",
      " [ 7949     1 17914 ...,     0     0     0]\n",
      " [10738  8492  8492 ...,     0     0     0]\n",
      " ..., \n",
      " [ 7949    36 17914 ...,     0     0     0]\n",
      " [10738    36     1 ...,     0     0     0]\n",
      " [ 7949     1     0 ...,     0     0     0]]\n",
      "max 17914\n"
     ]
    },
    {
     "name": "stderr",
     "output_type": "stream",
     "text": [
      "\n",
      "\n",
      "\n",
      "\n",
      "  2%|▏         | 195/10000 [3:23:22<170:08:25, 62.47s/it]\u001b[A\u001b[A\u001b[A\u001b[A\n",
      "\n",
      "\n",
      "\n",
      "  2%|▏         | 196/10000 [3:24:25<170:04:21, 62.45s/it]\u001b[A\u001b[A\u001b[A\u001b[A"
     ]
    },
    {
     "name": "stdout",
     "output_type": "stream",
     "text": [
      "predition [[10738  8492  8492 ...,     0     0     0]\n",
      " [17496     1     0 ...,     0     0     0]\n",
      " [17461  7949 10552 ...,    36     0     0]\n",
      " ..., \n",
      " [17496     1     0 ...,     0     0     0]\n",
      " [ 7949  7949 10552 ...,     0     0     0]\n",
      " [ 7949  8492     0 ...,     0     0     0]]\n",
      "max 17914\n"
     ]
    },
    {
     "name": "stderr",
     "output_type": "stream",
     "text": [
      "\n",
      "\n",
      "\n",
      "\n",
      "  2%|▏         | 197/10000 [3:25:27<170:10:17, 62.49s/it]\u001b[A\u001b[A\u001b[A\u001b[A\n",
      "\n",
      "\n",
      "\n",
      "  2%|▏         | 198/10000 [3:26:30<169:58:34, 62.43s/it]\u001b[A\u001b[A\u001b[A\u001b[A"
     ]
    },
    {
     "name": "stdout",
     "output_type": "stream",
     "text": [
      "predition [[ 7949     1 10552 ...,     0     0     0]\n",
      " [17914  8492  8492 ...,     0     0     0]\n",
      " [ 7949  7949 10552 ...,     0     0     0]\n",
      " ..., \n",
      " [ 7949    36     1 ...,     0     0     0]\n",
      " [ 7949  8492 10552 ...,     0     0     0]\n",
      " [ 7949    36     1 ...,     0     0     0]]\n",
      "max 17914\n"
     ]
    },
    {
     "name": "stderr",
     "output_type": "stream",
     "text": [
      "\n",
      "\n",
      "\n",
      "\n",
      "  2%|▏         | 199/10000 [3:27:32<170:01:27, 62.45s/it]\u001b[A\u001b[A\u001b[A\u001b[A\n",
      "\n",
      "\n",
      "\n",
      "  2%|▏         | 200/10000 [3:28:35<170:01:08, 62.46s/it]\u001b[A\u001b[A\u001b[A\u001b[A"
     ]
    },
    {
     "name": "stdout",
     "output_type": "stream",
     "text": [
      "predition [[17496     1     0 ...,     0     0     0]\n",
      " [ 7949  8492 17914 ...,     0     0     0]\n",
      " [10738  8492  8492 ...,     0     0     0]\n",
      " ..., \n",
      " [ 7949  8492 10552 ...,     0     0     0]\n",
      " [ 7949  8492     1 ...,     0     0     0]\n",
      " [ 7949  8492  8492 ...,     0     0     0]]\n",
      "max 17914\n"
     ]
    },
    {
     "name": "stderr",
     "output_type": "stream",
     "text": [
      "\n",
      "\n",
      "\n",
      "\n",
      "  2%|▏         | 201/10000 [3:29:37<170:01:51, 62.47s/it]\u001b[A\u001b[A\u001b[A\u001b[A\n",
      "\n",
      "\n",
      "\n",
      "  2%|▏         | 202/10000 [3:30:39<169:55:22, 62.43s/it]\u001b[A\u001b[A\u001b[A\u001b[A"
     ]
    },
    {
     "name": "stdout",
     "output_type": "stream",
     "text": [
      "predition [[ 7949  8492 17914 ...,     0     0     0]\n",
      " [ 7949    36 10552 ...,     0     0     0]\n",
      " [10738  8492  8492 ...,     0     0     0]\n",
      " ..., \n",
      " [17496     1     0 ...,     0     0     0]\n",
      " [10738     1     0 ...,     0     0     0]\n",
      " [ 7949  7949 10552 ...,    36     0     0]]\n",
      "max 17914\n"
     ]
    },
    {
     "name": "stderr",
     "output_type": "stream",
     "text": [
      "\n",
      "\n",
      "\n",
      "\n",
      "  2%|▏         | 203/10000 [3:31:42<169:58:44, 62.46s/it]\u001b[A\u001b[A\u001b[A\u001b[A\n",
      "\n",
      "\n",
      "\n",
      "  2%|▏         | 204/10000 [3:32:44<169:55:32, 62.45s/it]\u001b[A\u001b[A\u001b[A\u001b[A"
     ]
    },
    {
     "name": "stdout",
     "output_type": "stream",
     "text": [
      "predition [[17496     1     0 ...,     0     0     0]\n",
      " [ 7949  7949 10552 ...,     0     0     0]\n",
      " [ 7949  8492 10552 ...,     0     0     0]\n",
      " ..., \n",
      " [ 7949  7949 10552 ...,  7949    36    36]\n",
      " [17914  8492    36 ...,     0     0     0]\n",
      " [ 7949  8492     1 ...,     0     0     0]]\n",
      "max 17914\n"
     ]
    },
    {
     "name": "stderr",
     "output_type": "stream",
     "text": [
      "\n",
      "\n",
      "\n",
      "\n",
      "  2%|▏         | 205/10000 [3:33:47<169:58:27, 62.47s/it]\u001b[A\u001b[A\u001b[A\u001b[A"
     ]
    },
    {
     "name": "stdout",
     "output_type": "stream",
     "text": [
      "predition [[ 7949  8492  8492 ...,     0     0     0]\n",
      " [17496     1     0 ...,     0     0     0]\n",
      " [ 7949  8492 10552 ...,     0     0     0]\n",
      " ..., \n",
      " [ 7949  8492     1 ...,     0     0     0]\n",
      " [ 7949  8492 17914 ...,     0     0     0]\n",
      " [ 7949     1     0 ...,     0     0     0]]\n",
      "max 17914\n"
     ]
    },
    {
     "name": "stderr",
     "output_type": "stream",
     "text": [
      "\n",
      "\n",
      "\n",
      "\n",
      "  2%|▏         | 206/10000 [3:34:50<170:05:51, 62.52s/it]\u001b[A\u001b[A\u001b[A\u001b[A\n",
      "\n",
      "\n",
      "\n",
      "  2%|▏         | 207/10000 [3:35:52<169:50:19, 62.43s/it]\u001b[A\u001b[A\u001b[A\u001b[A"
     ]
    },
    {
     "name": "stdout",
     "output_type": "stream",
     "text": [
      "predition [[17496  8492  8492 ...,     0     0     0]\n",
      " [17496  8492    36 ...,     0     0     0]\n",
      " [10738  8492  8492 ...,     0     0     0]\n",
      " ..., \n",
      " [17496     1 10552 ...,     0     0     0]\n",
      " [ 7949  8492 10552 ...,     0     0     0]\n",
      " [ 7949  8492     1 ...,     0     0     0]]\n",
      "max 17914\n"
     ]
    },
    {
     "name": "stderr",
     "output_type": "stream",
     "text": [
      "\n",
      "\n",
      "\n",
      "\n",
      "  2%|▏         | 208/10000 [3:36:54<169:53:42, 62.46s/it]\u001b[A\u001b[A\u001b[A\u001b[A\n",
      "\n",
      "\n",
      "\n",
      "  2%|▏         | 209/10000 [3:37:57<169:47:38, 62.43s/it]\u001b[A\u001b[A\u001b[A\u001b[A"
     ]
    },
    {
     "name": "stdout",
     "output_type": "stream",
     "text": [
      "predition [[17877  8492     1 ...,     0     0     0]\n",
      " [ 7949    36     1 ...,     0     0     0]\n",
      " [ 7949  7949    36 ...,    36    36     1]\n",
      " ..., \n",
      " [10738     1     1 ...,     0     0     0]\n",
      " [17496     1     1 ...,     0     0     0]\n",
      " [10738     1     0 ...,     0     0     0]]\n",
      "max 17914\n"
     ]
    },
    {
     "name": "stderr",
     "output_type": "stream",
     "text": [
      "\n",
      "\n",
      "\n",
      "\n",
      "  2%|▏         | 210/10000 [3:38:59<169:53:08, 62.47s/it]\u001b[A\u001b[A\u001b[A\u001b[A\n",
      "\n",
      "\n",
      "\n",
      "  2%|▏         | 211/10000 [3:40:02<169:45:57, 62.43s/it]\u001b[A\u001b[A\u001b[A\u001b[A"
     ]
    },
    {
     "name": "stdout",
     "output_type": "stream",
     "text": [
      "predition [[ 7949    36  8492 ...,     0     0     0]\n",
      " [10738  8492     1 ...,     0     0     0]\n",
      " [10738  8492  8492 ...,     0     0     0]\n",
      " ..., \n",
      " [ 7949  8492 10552 ...,     0     0     0]\n",
      " [ 7949  8492     1 ...,     0     0     0]\n",
      " [ 7949  8492    36 ...,     0     0     0]]\n",
      "max 17914\n"
     ]
    },
    {
     "name": "stderr",
     "output_type": "stream",
     "text": [
      "\n",
      "\n",
      "\n",
      "\n",
      "  2%|▏         | 212/10000 [3:41:04<169:47:41, 62.45s/it]\u001b[A\u001b[A\u001b[A\u001b[A\n",
      "\n",
      "\n",
      "\n",
      "  2%|▏         | 213/10000 [3:42:06<169:41:19, 62.42s/it]\u001b[A\u001b[A\u001b[A\u001b[A"
     ]
    },
    {
     "name": "stdout",
     "output_type": "stream",
     "text": [
      "predition [[17914  8492  8492 ...,     0     0     0]\n",
      " [ 7949  8492  8492 ...,    36    36    36]\n",
      " [ 7949  8492  8492 ...,     0     0     0]\n",
      " ..., \n",
      " [ 7949  8492    36 ...,     0     0     0]\n",
      " [ 7949  8492  8492 ...,    36    36     1]\n",
      " [ 7949  8492 10552 ...,     0     0     0]]\n",
      "max 17914\n"
     ]
    },
    {
     "name": "stderr",
     "output_type": "stream",
     "text": [
      "\n",
      "\n",
      "\n",
      "\n",
      "  2%|▏         | 214/10000 [3:43:09<169:52:49, 62.49s/it]\u001b[A\u001b[A\u001b[A\u001b[A\n",
      "\n",
      "\n",
      "\n",
      "  2%|▏         | 215/10000 [3:44:12<169:53:44, 62.51s/it]\u001b[A\u001b[A\u001b[A\u001b[A"
     ]
    },
    {
     "name": "stdout",
     "output_type": "stream",
     "text": [
      "predition [[ 7949  8492     1 ...,     0     0     0]\n",
      " [ 7949  8492 10552 ...,    36     0     0]\n",
      " [10738  8492    36 ...,    36    36    36]\n",
      " ..., \n",
      " [ 7949     1     0 ...,     0     0     0]\n",
      " [ 7949     1     0 ...,     0     0     0]\n",
      " [ 7949  8492     1 ...,     0     0     0]]\n",
      "max 17914\n"
     ]
    },
    {
     "name": "stderr",
     "output_type": "stream",
     "text": [
      "\n",
      "\n",
      "\n",
      "\n",
      "  2%|▏         | 216/10000 [3:45:14<170:00:06, 62.55s/it]\u001b[A\u001b[A\u001b[A\u001b[A\n",
      "\n",
      "\n",
      "\n",
      "  2%|▏         | 217/10000 [3:46:17<169:47:29, 62.48s/it]\u001b[A\u001b[A\u001b[A\u001b[A"
     ]
    },
    {
     "name": "stdout",
     "output_type": "stream",
     "text": [
      "predition [[10738     1     0 ...,     0     0     0]\n",
      " [17914 17914 17914 ...,     0     0     0]\n",
      " [ 7949  8492     1 ...,     0     0     0]\n",
      " ..., \n",
      " [17496     1     1 ...,     0     0     0]\n",
      " [17496     1     1 ...,     0     0     0]\n",
      " [ 7949  8492 10552 ...,    36    36     1]]\n",
      "max 17914\n"
     ]
    },
    {
     "name": "stderr",
     "output_type": "stream",
     "text": [
      "\n",
      "\n",
      "\n",
      "\n",
      "  2%|▏         | 218/10000 [3:47:19<169:50:30, 62.51s/it]\u001b[A\u001b[A\u001b[A\u001b[A"
     ]
    },
    {
     "name": "stdout",
     "output_type": "stream",
     "text": [
      "predition [[ 7949    36    36 ...,     0     0     0]\n",
      " [17496     1     1 ...,     0     0     0]\n",
      " [ 7949  8492     1 ...,     0     0     0]\n",
      " ..., \n",
      " [ 7949    36     1 ...,     0     0     0]\n",
      " [ 7949     1     1 ...,     0     0     0]\n",
      " [ 7949     1     0 ...,     0     0     0]]\n",
      "max 17914\n"
     ]
    },
    {
     "name": "stderr",
     "output_type": "stream",
     "text": [
      "\n",
      "\n",
      "\n",
      "\n",
      "  2%|▏         | 219/10000 [3:48:22<169:51:03, 62.52s/it]\u001b[A\u001b[A\u001b[A\u001b[A\n",
      "\n",
      "\n",
      "\n",
      "  2%|▏         | 220/10000 [3:49:24<169:44:15, 62.48s/it]\u001b[A\u001b[A\u001b[A\u001b[A"
     ]
    },
    {
     "name": "stdout",
     "output_type": "stream",
     "text": [
      "predition [[17914 17914 17914 ...,     0     0     0]\n",
      " [ 7949    36     1 ...,     0     0     0]\n",
      " [10738     1    36 ...,     0     0     0]\n",
      " ..., \n",
      " [ 7949  8492  8492 ...,     0     0     0]\n",
      " [10738  8492     0 ...,     0     0     0]\n",
      " [10738 17914 17914 ...,     0     0     0]]\n",
      "max 17914\n"
     ]
    },
    {
     "name": "stderr",
     "output_type": "stream",
     "text": [
      "\n",
      "\n",
      "\n",
      "\n",
      "  2%|▏         | 221/10000 [3:50:27<169:46:30, 62.50s/it]\u001b[A\u001b[A\u001b[A\u001b[A\n",
      "\n",
      "\n",
      "\n",
      "  2%|▏         | 222/10000 [3:51:29<169:40:17, 62.47s/it]\u001b[A\u001b[A\u001b[A\u001b[A"
     ]
    },
    {
     "name": "stdout",
     "output_type": "stream",
     "text": [
      "predition [[ 7949  8492     0 ...,     0     0     0]\n",
      " [ 7949  8492 10552 ...,    36     1     0]\n",
      " [10738     1 17914 ...,     0     0     0]\n",
      " ..., \n",
      " [ 7949  7949 10552 ..., 16139    36    36]\n",
      " [17914 17914 17914 ...,     0     0     0]\n",
      " [ 7949  8492  8492 ...,     0     0     0]]\n",
      "max 17914\n"
     ]
    },
    {
     "name": "stderr",
     "output_type": "stream",
     "text": [
      "\n",
      "\n",
      "\n",
      "\n",
      "  2%|▏         | 223/10000 [3:52:31<169:39:44, 62.47s/it]\u001b[A\u001b[A\u001b[A\u001b[A\n",
      "\n",
      "\n",
      "\n",
      "  2%|▏         | 224/10000 [3:53:34<169:34:59, 62.45s/it]\u001b[A\u001b[A\u001b[A\u001b[A"
     ]
    },
    {
     "name": "stdout",
     "output_type": "stream",
     "text": [
      "predition [[ 7949  8492  8492 ...,     0     0     0]\n",
      " [10738  8492 10552 ..., 15868    36    36]\n",
      " [ 7949  8492  8492 ...,    36    36     1]\n",
      " ..., \n",
      " [10738    36    36 ...,     0     0     0]\n",
      " [ 7949  8492     0 ...,     0     0     0]\n",
      " [17914    36     0 ...,     0     0     0]]\n",
      "max 17914\n"
     ]
    },
    {
     "name": "stderr",
     "output_type": "stream",
     "text": [
      "\n",
      "\n",
      "\n",
      "\n",
      "  2%|▏         | 225/10000 [3:54:36<169:37:00, 62.47s/it]\u001b[A\u001b[A\u001b[A\u001b[A\n",
      "\n",
      "\n",
      "\n",
      "  2%|▏         | 226/10000 [3:55:39<169:35:01, 62.46s/it]\u001b[A\u001b[A\u001b[A\u001b[A"
     ]
    },
    {
     "name": "stdout",
     "output_type": "stream",
     "text": [
      "predition [[ 7949 17914 10552 ...,     0     0     0]\n",
      " [17914 17914 10552 ...,     0     0     0]\n",
      " [10738  8492     1 ...,     0     0     0]\n",
      " ..., \n",
      " [10738     1    36 ...,     0     0     0]\n",
      " [ 7949  7949  7949 ...,     0     0     0]\n",
      " [ 7949    36     1 ...,     0     0     0]]\n",
      "max 17914\n"
     ]
    },
    {
     "name": "stderr",
     "output_type": "stream",
     "text": [
      "\n",
      "\n",
      "\n",
      "\n",
      "  2%|▏         | 227/10000 [3:56:41<169:33:18, 62.46s/it]\u001b[A\u001b[A\u001b[A\u001b[A\n",
      "\n",
      "\n",
      "\n",
      "  2%|▏         | 228/10000 [3:57:44<169:30:46, 62.45s/it]\u001b[A\u001b[A\u001b[A\u001b[A"
     ]
    },
    {
     "name": "stdout",
     "output_type": "stream",
     "text": [
      "predition [[ 7949  8492 10552 ...,     0     0     0]\n",
      " [ 7949 17914 17914 ...,     0     0     0]\n",
      " [17496     1 17914 ...,     0     0     0]\n",
      " ..., \n",
      " [ 7949    36     1 ...,     0     0     0]\n",
      " [ 7949     1 17914 ...,     0     0     0]\n",
      " [ 7949    36 17914 ...,     0     0     0]]\n",
      "max 17914\n"
     ]
    },
    {
     "name": "stderr",
     "output_type": "stream",
     "text": [
      "\n",
      "\n",
      "\n",
      "\n",
      "  2%|▏         | 229/10000 [3:58:46<169:41:57, 62.52s/it]\u001b[A\u001b[A\u001b[A\u001b[A\n",
      "\n",
      "\n",
      "\n",
      "  2%|▏         | 230/10000 [3:59:49<169:35:15, 62.49s/it]\u001b[A\u001b[A\u001b[A\u001b[A"
     ]
    },
    {
     "name": "stdout",
     "output_type": "stream",
     "text": [
      "predition [[ 7949  8492     1 ...,     0     0     0]\n",
      " [17496     1  7949 ...,     0     0     0]\n",
      " [17496     1     1 ...,     0     0     0]\n",
      " ..., \n",
      " [ 7949  8492  8492 ...,    36    36    36]\n",
      " [10738  8492  8492 ...,     0     0     0]\n",
      " [10738  8492  8492 ...,     0     0     0]]\n",
      "max 17914\n"
     ]
    },
    {
     "name": "stderr",
     "output_type": "stream",
     "text": [
      "\n",
      "\n",
      "\n",
      "\n",
      "  2%|▏         | 231/10000 [4:00:51<169:38:58, 62.52s/it]\u001b[A\u001b[A\u001b[A\u001b[A\n",
      "\n",
      "\n",
      "\n",
      "  2%|▏         | 232/10000 [4:01:54<169:30:39, 62.47s/it]\u001b[A\u001b[A\u001b[A\u001b[A"
     ]
    },
    {
     "name": "stdout",
     "output_type": "stream",
     "text": [
      "predition [[ 7949  7949 10552 ...,    36    36     1]\n",
      " [10738  8492 10552 ...,     0     0     0]\n",
      " [ 7949  8492  8492 ...,     0     0     0]\n",
      " ..., \n",
      " [17496     1     1 ...,     0     0     0]\n",
      " [10738  8492     1 ...,     0     0     0]\n",
      " [10738     1     0 ...,     0     0     0]]\n",
      "max 17914\n"
     ]
    },
    {
     "name": "stderr",
     "output_type": "stream",
     "text": [
      "\n",
      "\n",
      "\n",
      "\n",
      "  2%|▏         | 233/10000 [4:02:56<169:35:17, 62.51s/it]\u001b[A\u001b[A\u001b[A\u001b[A"
     ]
    },
    {
     "name": "stdout",
     "output_type": "stream",
     "text": [
      "predition [[10738    36     1 ...,     0     0     0]\n",
      " [ 7949  8492 10552 ...,     0     0     0]\n",
      " [ 7949  8492     0 ...,     0     0     0]\n",
      " ..., \n",
      " [10472  8492  8492 ...,     0     0     0]\n",
      " [ 7949     1     0 ...,     0     0     0]\n",
      " [ 7949    36 10552 ...,     1     1     0]]\n",
      "max 17914\n"
     ]
    },
    {
     "name": "stderr",
     "output_type": "stream",
     "text": [
      "\n",
      "\n",
      "\n",
      "\n",
      "  2%|▏         | 234/10000 [4:03:59<169:30:12, 62.48s/it]\u001b[A\u001b[A\u001b[A\u001b[A\n",
      "\n",
      "\n",
      "\n",
      "  2%|▏         | 235/10000 [4:05:01<169:29:06, 62.48s/it]\u001b[A\u001b[A\u001b[A\u001b[A"
     ]
    },
    {
     "name": "stdout",
     "output_type": "stream",
     "text": [
      "predition [[ 7949  8492     1 ...,     0     0     0]\n",
      " [ 7949  8492 10552 ...,     0     0     0]\n",
      " [10738     1     0 ...,     0     0     0]\n",
      " ..., \n",
      " [ 7949    36     1 ...,     0     0     0]\n",
      " [10738  8492  8492 ...,     0     0     0]\n",
      " [ 7949  7949 10552 ...,    36     0     0]]\n",
      "max 17914\n"
     ]
    },
    {
     "name": "stderr",
     "output_type": "stream",
     "text": [
      "\n",
      "\n",
      "\n",
      "\n",
      "  2%|▏         | 236/10000 [4:06:04<169:31:42, 62.51s/it]\u001b[A\u001b[A\u001b[A\u001b[A\n",
      "\n",
      "\n",
      "\n",
      "  2%|▏         | 237/10000 [4:07:06<169:26:25, 62.48s/it]\u001b[A\u001b[A\u001b[A\u001b[A"
     ]
    },
    {
     "name": "stdout",
     "output_type": "stream",
     "text": [
      "predition [[ 7949  8492  8492 ...,    36     0     0]\n",
      " [17496     1     1 ...,     0     0     0]\n",
      " [ 7949     1     1 ...,     0     0     0]\n",
      " ..., \n",
      " [ 7949  7949 10552 ...,     0     0     0]\n",
      " [17496  8492  8492 ...,     0     0     0]\n",
      " [ 7949  8492 10552 ...,     0     0     0]]\n",
      "max 17914\n"
     ]
    },
    {
     "name": "stderr",
     "output_type": "stream",
     "text": [
      "\n",
      "\n",
      "\n",
      "\n",
      "  2%|▏         | 238/10000 [4:08:09<169:28:45, 62.50s/it]\u001b[A\u001b[A\u001b[A\u001b[A\n",
      "\n",
      "\n",
      "\n",
      "  2%|▏         | 239/10000 [4:09:11<169:20:39, 62.46s/it]\u001b[A\u001b[A\u001b[A\u001b[A"
     ]
    },
    {
     "name": "stdout",
     "output_type": "stream",
     "text": [
      "predition [[ 7949  8492     1 ...,     0     0     0]\n",
      " [ 7949  8492 17914 ...,     0     0     0]\n",
      " [17496  8492 10552 ...,     0     0     0]\n",
      " ..., \n",
      " [10738  8492 10552 ..., 15868 15868    36]\n",
      " [ 7949  8492 10552 ...,     0     0     0]\n",
      " [10738    36    36 ...,     0     0     0]]\n",
      "max 17914\n"
     ]
    },
    {
     "name": "stderr",
     "output_type": "stream",
     "text": [
      "\n",
      "\n",
      "\n",
      "\n",
      "  2%|▏         | 240/10000 [4:10:14<169:22:46, 62.48s/it]\u001b[A\u001b[A\u001b[A\u001b[A\n",
      "\n",
      "\n",
      "\n",
      "  2%|▏         | 241/10000 [4:11:16<169:16:44, 62.45s/it]\u001b[A\u001b[A\u001b[A\u001b[A"
     ]
    },
    {
     "name": "stdout",
     "output_type": "stream",
     "text": [
      "predition [[ 7949  8492 10552 ..., 15868    36    36]\n",
      " [17496     1     1 ...,     0     0     0]\n",
      " [10738  8492 10552 ...,     0     0     0]\n",
      " ..., \n",
      " [10738  8492    36 ...,     0     0     0]\n",
      " [10738  8492    36 ...,     0     0     0]\n",
      " [ 7949     1     0 ...,     0     0     0]]\n",
      "max 17914\n"
     ]
    },
    {
     "name": "stderr",
     "output_type": "stream",
     "text": [
      "\n",
      "\n",
      "\n",
      "\n",
      "  2%|▏         | 242/10000 [4:12:19<169:18:36, 62.46s/it]\u001b[A\u001b[A\u001b[A\u001b[A\n",
      "\n",
      "\n",
      "\n",
      "  2%|▏         | 243/10000 [4:13:21<169:13:17, 62.44s/it]\u001b[A\u001b[A\u001b[A\u001b[A"
     ]
    },
    {
     "name": "stdout",
     "output_type": "stream",
     "text": [
      "predition [[ 7949  8492     1 ...,     0     0     0]\n",
      " [10738  8492     0 ...,     0     0     0]\n",
      " [ 7949    36    36 ...,     0     0     0]\n",
      " ..., \n",
      " [10738  8492     1 ...,     0     0     0]\n",
      " [ 7949  8492  8492 ...,    36     1     0]\n",
      " [17496  8492     1 ...,     0     0     0]]\n",
      "max 17914\n"
     ]
    },
    {
     "name": "stderr",
     "output_type": "stream",
     "text": [
      "\n",
      "\n",
      "\n",
      "\n",
      "  2%|▏         | 244/10000 [4:14:23<169:15:14, 62.46s/it]\u001b[A\u001b[A\u001b[A\u001b[A\n",
      "\n",
      "\n",
      "\n",
      "  2%|▏         | 245/10000 [4:15:26<169:05:37, 62.40s/it]\u001b[A\u001b[A\u001b[A\u001b[A"
     ]
    },
    {
     "name": "stdout",
     "output_type": "stream",
     "text": [
      "predition [[ 7949  8492 10552 ...,    36    36    36]\n",
      " [ 7949  8492  8492 ...,     0     0     0]\n",
      " [ 7949  8492     1 ...,     0     0     0]\n",
      " ..., \n",
      " [17914  8492    36 ...,     0     0     0]\n",
      " [10738    36     1 ...,     0     0     0]\n",
      " [10738  8492     1 ...,     0     0     0]]\n",
      "max 17914\n"
     ]
    },
    {
     "name": "stderr",
     "output_type": "stream",
     "text": [
      "\n",
      "\n",
      "\n",
      "\n",
      "  2%|▏         | 246/10000 [4:16:28<169:05:34, 62.41s/it]\u001b[A\u001b[A\u001b[A\u001b[A"
     ]
    },
    {
     "name": "stdout",
     "output_type": "stream",
     "text": [
      "predition [[ 7949  8492     1 ...,     0     0     0]\n",
      " [ 7949  7949     1 ...,     0     0     0]\n",
      " [ 7949  7949  7949 ..., 16139    36    36]\n",
      " ..., \n",
      " [ 7949 17914 10552 ...,     0     0     0]\n",
      " [17496     1     1 ...,     0     0     0]\n",
      " [17496     1 10552 ...,     0     0     0]]\n",
      "max 17914\n"
     ]
    },
    {
     "name": "stderr",
     "output_type": "stream",
     "text": [
      "\n",
      "\n",
      "\n",
      "\n",
      "  2%|▏         | 247/10000 [4:17:30<168:58:44, 62.37s/it]\u001b[A\u001b[A\u001b[A\u001b[A\n",
      "\n",
      "\n",
      "\n",
      "  2%|▏         | 248/10000 [4:18:33<169:07:30, 62.43s/it]\u001b[A\u001b[A\u001b[A\u001b[A"
     ]
    },
    {
     "name": "stdout",
     "output_type": "stream",
     "text": [
      "predition [[10738  8492     0 ...,     0     0     0]\n",
      " [ 7949  8492  8492 ...,     0     0     0]\n",
      " [10738     1     0 ...,     0     0     0]\n",
      " ..., \n",
      " [ 7949  8492 10552 ...,     0     0     0]\n",
      " [17496     1     1 ...,     0     0     0]\n",
      " [10738     1     0 ...,     0     0     0]]\n",
      "max 17914\n"
     ]
    },
    {
     "name": "stderr",
     "output_type": "stream",
     "text": [
      "\n",
      "\n",
      "\n",
      "\n",
      "  2%|▏         | 249/10000 [4:19:36<169:13:06, 62.47s/it]\u001b[A\u001b[A\u001b[A\u001b[A\n",
      "\n",
      "\n",
      "\n",
      "  2%|▎         | 250/10000 [4:20:38<169:01:45, 62.41s/it]\u001b[A\u001b[A\u001b[A\u001b[A"
     ]
    },
    {
     "name": "stdout",
     "output_type": "stream",
     "text": [
      "predition [[ 7949    36     0 ...,     0     0     0]\n",
      " [17496    36    36 ...,     0     0     0]\n",
      " [ 7949     1     1 ...,     0     0     0]\n",
      " ..., \n",
      " [10738    36     1 ...,     0     0     0]\n",
      " [ 7949  8492  8492 ..., 15868    36    36]\n",
      " [17496     1     0 ...,     0     0     0]]\n",
      "max 17914\n"
     ]
    },
    {
     "name": "stderr",
     "output_type": "stream",
     "text": [
      "\n",
      "\n",
      "\n",
      "\n",
      "  3%|▎         | 251/10000 [4:21:40<169:09:50, 62.47s/it]\u001b[A\u001b[A\u001b[A\u001b[A\n",
      "\n",
      "\n",
      "\n",
      "  3%|▎         | 252/10000 [4:22:43<169:04:44, 62.44s/it]\u001b[A\u001b[A\u001b[A\u001b[A"
     ]
    },
    {
     "name": "stdout",
     "output_type": "stream",
     "text": [
      "predition [[ 7949  8492 10552 ...,    36     1     1]\n",
      " [ 7949  8492 17914 ...,     0     0     0]\n",
      " [17496     1     1 ...,     0     0     0]\n",
      " ..., \n",
      " [ 7949  8492 10552 ...,     0     0     0]\n",
      " [10738    36    36 ...,     0     0     0]\n",
      " [ 7949     1     0 ...,     0     0     0]]\n",
      "max 17914\n"
     ]
    },
    {
     "name": "stderr",
     "output_type": "stream",
     "text": [
      "\n",
      "\n",
      "\n",
      "\n",
      "  3%|▎         | 253/10000 [4:23:45<169:05:10, 62.45s/it]\u001b[A\u001b[A\u001b[A\u001b[A\n",
      "\n",
      "\n",
      "\n",
      "  3%|▎         | 254/10000 [4:24:48<169:03:29, 62.45s/it]\u001b[A\u001b[A\u001b[A\u001b[A"
     ]
    },
    {
     "name": "stdout",
     "output_type": "stream",
     "text": [
      "predition [[ 7949  8492     1 ...,     0     0     0]\n",
      " [ 7949     1     0 ...,     0     0     0]\n",
      " [ 7949  8492 10552 ...,     0     0     0]\n",
      " ..., \n",
      " [10738     1     1 ...,     0     0     0]\n",
      " [17877  7949  7949 ...,     1     1     0]\n",
      " [ 7949  8492 17914 ...,     0     0     0]]\n",
      "max 17914\n"
     ]
    },
    {
     "name": "stderr",
     "output_type": "stream",
     "text": [
      "\n",
      "\n",
      "\n",
      "\n",
      "  3%|▎         | 255/10000 [4:25:50<169:01:54, 62.44s/it]\u001b[A\u001b[A\u001b[A\u001b[A\n",
      "\n",
      "\n",
      "\n",
      "  3%|▎         | 256/10000 [4:26:53<168:56:38, 62.42s/it]\u001b[A\u001b[A\u001b[A\u001b[A"
     ]
    },
    {
     "name": "stdout",
     "output_type": "stream",
     "text": [
      "predition [[ 7949     1     1 ...,     0     0     0]\n",
      " [17496  8492    36 ...,     0     0     0]\n",
      " [ 7949  8492 17914 ...,     0     0     0]\n",
      " ..., \n",
      " [ 7949  7949  7949 ...,    36     0     0]\n",
      " [ 7949  8492  8492 ...,    36    36     0]\n",
      " [ 7949  8492 10552 ...,     0     0     0]]\n",
      "max 17914\n"
     ]
    },
    {
     "name": "stderr",
     "output_type": "stream",
     "text": [
      "\n",
      "\n",
      "\n",
      "\n",
      "  3%|▎         | 257/10000 [4:27:55<168:58:54, 62.44s/it]\u001b[A\u001b[A\u001b[A\u001b[A\n",
      "\n",
      "\n",
      "\n",
      "  3%|▎         | 258/10000 [4:28:57<168:53:12, 62.41s/it]\u001b[A\u001b[A\u001b[A\u001b[A"
     ]
    },
    {
     "name": "stdout",
     "output_type": "stream",
     "text": [
      "predition [[17496  8492  8492 ...,     0     0     0]\n",
      " [ 7949  8492     1 ...,     0     0     0]\n",
      " [ 7949  8492 10552 ...,     0     0     0]\n",
      " ..., \n",
      " [ 7949  8492     1 ...,     0     0     0]\n",
      " [ 7949  8492 17914 ...,     0     0     0]\n",
      " [ 7949  8492 10552 ...,     0     0     0]]\n",
      "max 17914\n"
     ]
    },
    {
     "name": "stderr",
     "output_type": "stream",
     "text": [
      "\n",
      "\n",
      "\n",
      "\n",
      "  3%|▎         | 259/10000 [4:30:00<169:01:46, 62.47s/it]\u001b[A\u001b[A\u001b[A\u001b[A"
     ]
    },
    {
     "name": "stdout",
     "output_type": "stream",
     "text": [
      "predition [[17914 17914 17914 ...,     0     0     0]\n",
      " [17496     1     0 ...,     0     0     0]\n",
      " [ 7949 17914 17914 ...,    36    36    36]\n",
      " ..., \n",
      " [ 7949  7949  7949 ...,     0     0     0]\n",
      " [17496  8492    36 ...,     0     0     0]\n",
      " [17395  8492 10552 ...,     0     0     0]]\n",
      "max 17914\n"
     ]
    },
    {
     "name": "stderr",
     "output_type": "stream",
     "text": [
      "\n",
      "\n",
      "\n",
      "\n",
      "  3%|▎         | 260/10000 [4:31:02<169:04:41, 62.49s/it]\u001b[A\u001b[A\u001b[A\u001b[A\n",
      "\n",
      "\n",
      "\n",
      "  3%|▎         | 261/10000 [4:32:05<168:52:39, 62.43s/it]\u001b[A\u001b[A\u001b[A\u001b[A"
     ]
    },
    {
     "name": "stdout",
     "output_type": "stream",
     "text": [
      "predition [[17496     1     0 ...,     0     0     0]\n",
      " [ 7949    36 17914 ...,     0     0     0]\n",
      " [ 7949    36    36 ...,     0     0     0]\n",
      " ..., \n",
      " [10738  8492  8492 ...,     0     0     0]\n",
      " [ 7949    36     0 ...,     0     0     0]\n",
      " [17877  8492     1 ...,     0     0     0]]\n",
      "max 17914\n"
     ]
    },
    {
     "name": "stderr",
     "output_type": "stream",
     "text": [
      "\n",
      "\n",
      "\n",
      "\n",
      "  3%|▎         | 262/10000 [4:33:07<168:47:05, 62.40s/it]\u001b[A\u001b[A\u001b[A\u001b[A\n",
      "\n",
      "\n",
      "\n",
      "  3%|▎         | 263/10000 [4:34:09<168:40:11, 62.36s/it]\u001b[A\u001b[A\u001b[A\u001b[A"
     ]
    },
    {
     "name": "stdout",
     "output_type": "stream",
     "text": [
      "predition [[ 7949  8492 10552 ...,     0     0     0]\n",
      " [ 7949  8492  8492 ...,    36    36    36]\n",
      " [17496     1     0 ...,     0     0     0]\n",
      " ..., \n",
      " [ 7949  8492 10552 ...,     0     0     0]\n",
      " [17877  8492 15868 ...,     0     0     0]\n",
      " [ 7949  8492     1 ...,     0     0     0]]\n",
      "max 17914\n"
     ]
    },
    {
     "name": "stderr",
     "output_type": "stream",
     "text": [
      "\n",
      "\n",
      "\n",
      "\n",
      "  3%|▎         | 264/10000 [4:35:12<168:45:47, 62.40s/it]\u001b[A\u001b[A\u001b[A\u001b[A\n",
      "\n",
      "\n",
      "\n",
      "  3%|▎         | 265/10000 [4:36:14<168:39:06, 62.37s/it]\u001b[A\u001b[A\u001b[A\u001b[A"
     ]
    },
    {
     "name": "stdout",
     "output_type": "stream",
     "text": [
      "predition [[ 7949    36     1 ...,     0     0     0]\n",
      " [ 7949  8492     1 ...,     0     0     0]\n",
      " [10738  8492  8492 ...,     0     0     0]\n",
      " ..., \n",
      " [ 7949     1     0 ...,     0     0     0]\n",
      " [ 7949  8492     1 ...,     0     0     0]\n",
      " [17914     1    36 ...,     0     0     0]]\n",
      "max 17914\n"
     ]
    },
    {
     "name": "stderr",
     "output_type": "stream",
     "text": [
      "\n",
      "\n",
      "\n",
      "\n",
      "  3%|▎         | 266/10000 [4:37:17<168:44:52, 62.41s/it]\u001b[A\u001b[A\u001b[A\u001b[A\n",
      "\n",
      "\n",
      "\n",
      "  3%|▎         | 267/10000 [4:38:19<168:40:21, 62.39s/it]\u001b[A\u001b[A\u001b[A\u001b[A"
     ]
    },
    {
     "name": "stdout",
     "output_type": "stream",
     "text": [
      "predition [[ 7949  8492  8492 ...,     0     0     0]\n",
      " [17496  8492  8492 ...,     0     0     0]\n",
      " [ 7949    36     1 ...,     0     0     0]\n",
      " ..., \n",
      " [ 7949     1     1 ...,     0     0     0]\n",
      " [ 7949     1     0 ...,     0     0     0]\n",
      " [10738    36    36 ...,     0     0     0]]\n",
      "max 17914\n"
     ]
    },
    {
     "name": "stderr",
     "output_type": "stream",
     "text": [
      "\n",
      "\n",
      "\n",
      "\n",
      "  3%|▎         | 268/10000 [4:39:22<168:47:52, 62.44s/it]\u001b[A\u001b[A\u001b[A\u001b[A\n",
      "\n",
      "\n",
      "\n",
      "  3%|▎         | 269/10000 [4:40:24<168:39:14, 62.39s/it]\u001b[A\u001b[A\u001b[A\u001b[A"
     ]
    },
    {
     "name": "stdout",
     "output_type": "stream",
     "text": [
      "predition [[10738    36     1 ...,     0     0     0]\n",
      " [17914     1     1 ...,     0     0     0]\n",
      " [17914     1     0 ...,     0     0     0]\n",
      " ..., \n",
      " [10738    36     1 ...,     0     0     0]\n",
      " [ 7949    36    36 ...,     0     0     0]\n",
      " [10738    36  8492 ...,     0     0     0]]\n",
      "max 17914\n"
     ]
    },
    {
     "name": "stderr",
     "output_type": "stream",
     "text": [
      "\n",
      "\n",
      "\n",
      "\n",
      "  3%|▎         | 270/10000 [4:41:27<168:54:23, 62.49s/it]\u001b[A\u001b[A\u001b[A\u001b[A\n",
      "\n",
      "\n",
      "\n",
      "  3%|▎         | 271/10000 [4:42:29<168:46:02, 62.45s/it]\u001b[A\u001b[A\u001b[A\u001b[A"
     ]
    },
    {
     "name": "stdout",
     "output_type": "stream",
     "text": [
      "predition [[ 7949  8492  8492 ...,    36    36     0]\n",
      " [17496    36     1 ...,     0     0     0]\n",
      " [ 7949    36     1 ...,     0     0     0]\n",
      " ..., \n",
      " [ 7949     1     0 ...,     0     0     0]\n",
      " [ 7949  8492  8492 ...,    36     1     0]\n",
      " [10738  8492     0 ...,     0     0     0]]\n",
      "max 17914\n"
     ]
    },
    {
     "name": "stderr",
     "output_type": "stream",
     "text": [
      "\n",
      "\n",
      "\n",
      "\n",
      "  3%|▎         | 272/10000 [4:43:31<168:44:12, 62.44s/it]\u001b[A\u001b[A\u001b[A\u001b[A\n",
      "\n",
      "\n",
      "\n",
      "  3%|▎         | 273/10000 [4:44:34<168:45:28, 62.46s/it]"
     ]
    },
    {
     "name": "stdout",
     "output_type": "stream",
     "text": [
      "predition [[ 7949  8492 10552 ...,     0     0     0]\n",
      " [10738     1     0 ...,     0     0     0]\n",
      " [ 7949     1     0 ...,     0     0     0]\n",
      " ..., \n",
      " [ 7949  8492 10552 ..., 15868  8492    36]\n",
      " [17877  8492  8492 ...,     0     0     0]\n",
      " [ 7949  8492  8492 ...,     0     0     0]]\n",
      "max 17914\n"
     ]
    },
    {
     "name": "stderr",
     "output_type": "stream",
     "text": [
      "\u001b[A\u001b[A\u001b[A\u001b[A\n",
      "\n",
      "\n",
      "\n",
      "  3%|▎         | 274/10000 [4:45:36<168:41:29, 62.44s/it]\u001b[A\u001b[A\u001b[A\u001b[A"
     ]
    },
    {
     "name": "stdout",
     "output_type": "stream",
     "text": [
      "predition [[ 7949  8492 10552 ..., 15868    36     1]\n",
      " [10738    36     1 ...,     0     0     0]\n",
      " [ 7949  8492  8492 ...,     0     0     0]\n",
      " ..., \n",
      " [17496     1     1 ...,     0     0     0]\n",
      " [   36     1     0 ...,     0     0     0]\n",
      " [ 7949     1     0 ...,     0     0     0]]\n",
      "max 17914\n"
     ]
    },
    {
     "name": "stderr",
     "output_type": "stream",
     "text": [
      "\n",
      "\n",
      "\n",
      "\n",
      "  3%|▎         | 275/10000 [4:46:39<168:42:30, 62.45s/it]\u001b[A\u001b[A\u001b[A\u001b[A\n",
      "\n",
      "\n",
      "\n",
      "  3%|▎         | 276/10000 [4:47:41<168:30:18, 62.38s/it]\u001b[A\u001b[A\u001b[A\u001b[A"
     ]
    },
    {
     "name": "stdout",
     "output_type": "stream",
     "text": [
      "predition [[10738  8492  8492 ...,    36 15868    36]\n",
      " [17496  8492    36 ...,     0     0     0]\n",
      " [17914 17914 17914 ...,    36     1     0]\n",
      " ..., \n",
      " [ 7949    36     0 ...,     0     0     0]\n",
      " [17496  8492    36 ...,     0     0     0]\n",
      " [ 7949  8492 17914 ...,     0     0     0]]\n",
      "max 17914\n"
     ]
    },
    {
     "name": "stderr",
     "output_type": "stream",
     "text": [
      "\n",
      "\n",
      "\n",
      "\n",
      "  3%|▎         | 277/10000 [4:48:43<168:32:47, 62.41s/it]\u001b[A\u001b[A\u001b[A\u001b[A\n",
      "\n",
      "\n",
      "\n",
      "  3%|▎         | 278/10000 [4:49:46<168:24:14, 62.36s/it]\u001b[A\u001b[A\u001b[A\u001b[A"
     ]
    },
    {
     "name": "stdout",
     "output_type": "stream",
     "text": [
      "predition [[ 7949  7949  7949 ...,     0     0     0]\n",
      " [ 7949  8492 10552 ...,     0     0     0]\n",
      " [ 7949  8492 10552 ...,     0     0     0]\n",
      " ..., \n",
      " [ 7949  8492     1 ...,     0     0     0]\n",
      " [ 7949  7949 10552 ...,    36    36     0]\n",
      " [ 7949  8492 10552 ...,     0     0     0]]\n",
      "max 17914\n"
     ]
    },
    {
     "name": "stderr",
     "output_type": "stream",
     "text": [
      "\n",
      "\n",
      "\n",
      "\n",
      "  3%|▎         | 279/10000 [4:50:48<168:32:50, 62.42s/it]\u001b[A\u001b[A\u001b[A\u001b[A\n",
      "\n",
      "\n",
      "\n",
      "  3%|▎         | 280/10000 [4:51:51<168:33:29, 62.43s/it]\u001b[A\u001b[A\u001b[A\u001b[A"
     ]
    },
    {
     "name": "stdout",
     "output_type": "stream",
     "text": [
      "predition [[10738     1     0 ...,     0     0     0]\n",
      " [ 7949 17914 17914 ...,     0     0     0]\n",
      " [ 7949  8492    36 ...,     0     0     0]\n",
      " ..., \n",
      " [10738     1     1 ...,     0     0     0]\n",
      " [10738     1     0 ...,     0     0     0]\n",
      " [10738  8492     1 ...,     0     0     0]]\n",
      "max 17914\n"
     ]
    },
    {
     "name": "stderr",
     "output_type": "stream",
     "text": [
      "\n",
      "\n",
      "\n",
      "\n",
      "  3%|▎         | 281/10000 [4:52:53<168:39:37, 62.47s/it]\u001b[A\u001b[A\u001b[A\u001b[A\n",
      "\n",
      "\n",
      "\n",
      "  3%|▎         | 282/10000 [4:53:56<168:30:44, 62.42s/it]\u001b[A\u001b[A\u001b[A\u001b[A"
     ]
    },
    {
     "name": "stdout",
     "output_type": "stream",
     "text": [
      "predition [[ 7949    36  8492 ...,     0     0     0]\n",
      " [ 7949  8492  8492 ...,    36     0     0]\n",
      " [ 7949  8492 10552 ...,    36    36    36]\n",
      " ..., \n",
      " [10738  8492    36 ...,     0     0     0]\n",
      " [17496    36    36 ...,     0     0     0]\n",
      " [ 7949  8492  8492 ...,     0     0     0]]\n",
      "max 17914\n"
     ]
    },
    {
     "name": "stderr",
     "output_type": "stream",
     "text": [
      "\n",
      "\n",
      "\n",
      "\n",
      "  3%|▎         | 283/10000 [4:54:58<168:36:19, 62.47s/it]\u001b[A\u001b[A\u001b[A\u001b[A\n",
      "\n",
      "\n",
      "\n",
      "  3%|▎         | 284/10000 [4:56:00<168:24:20, 62.40s/it]\u001b[A\u001b[A\u001b[A\u001b[A"
     ]
    },
    {
     "name": "stdout",
     "output_type": "stream",
     "text": [
      "predition [[ 7949   899 10552 ...,     0     0     0]\n",
      " [ 7949  8492 10552 ...,     0     0     0]\n",
      " [ 7949  7949  7949 ...,     0     0     0]\n",
      " ..., \n",
      " [ 7949    36     1 ...,    36    36     0]\n",
      " [ 7949     1 17914 ...,     0     0     0]\n",
      " [ 7949  7949 10552 ...,     0     0     0]]\n",
      "max 17914\n"
     ]
    },
    {
     "name": "stderr",
     "output_type": "stream",
     "text": [
      "\n",
      "\n",
      "\n",
      "\n",
      "  3%|▎         | 285/10000 [4:57:03<168:28:53, 62.43s/it]\u001b[A\u001b[A\u001b[A\u001b[A\n",
      "\n",
      "\n",
      "\n",
      "  3%|▎         | 286/10000 [4:58:05<168:26:38, 62.43s/it]\u001b[A\u001b[A\u001b[A\u001b[A"
     ]
    },
    {
     "name": "stdout",
     "output_type": "stream",
     "text": [
      "predition [[ 7949  8492 10552 ...,     0     0     0]\n",
      " [ 7949  8492  8492 ..., 15868    36    36]\n",
      " [ 7949    36     1 ...,     0     0     0]\n",
      " ..., \n",
      " [ 7949  7949  7949 ...,     0     0     0]\n",
      " [ 7949  7949 10552 ...,     0     0     0]\n",
      " [ 7949    36     1 ...,     0     0     0]]\n",
      "max 17914\n"
     ]
    },
    {
     "name": "stderr",
     "output_type": "stream",
     "text": [
      "\n",
      "\n",
      "\n",
      "\n",
      "  3%|▎         | 287/10000 [4:59:08<168:31:48, 62.46s/it]\u001b[A\u001b[A\u001b[A\u001b[A"
     ]
    },
    {
     "name": "stdout",
     "output_type": "stream",
     "text": [
      "predition [[ 7949  7949  7949 ...,     0     0     0]\n",
      " [ 7949  8492 10552 ...,     0     0     0]\n",
      " [10738  8492    36 ...,    36     0     0]\n",
      " ..., \n",
      " [10738  8492  8492 ...,     1     1     0]\n",
      " [17877  8492  8492 ...,     0     0     0]\n",
      " [10738    36    36 ...,     0     0     0]]\n",
      "max 17914\n"
     ]
    },
    {
     "name": "stderr",
     "output_type": "stream",
     "text": [
      "\n",
      "\n",
      "\n",
      "\n",
      "  3%|▎         | 288/10000 [5:00:10<168:30:19, 62.46s/it]\u001b[A\u001b[A\u001b[A\u001b[A\n",
      "\n",
      "\n",
      "\n",
      "  3%|▎         | 289/10000 [5:01:13<168:20:52, 62.41s/it]\u001b[A\u001b[A\u001b[A\u001b[A"
     ]
    },
    {
     "name": "stdout",
     "output_type": "stream",
     "text": [
      "predition [[10738     1     0 ...,     0     0     0]\n",
      " [ 7949  7949 10552 ...,     0     0     0]\n",
      " [17914 17914 17914 ...,     0     0     0]\n",
      " ..., \n",
      " [ 7949  8492  8492 ...,    36    36     1]\n",
      " [ 7949  8492 10552 ...,     0     0     0]\n",
      " [17914 17914 17914 ...,     0     0     0]]\n",
      "max 17914\n"
     ]
    },
    {
     "name": "stderr",
     "output_type": "stream",
     "text": [
      "\n",
      "\n",
      "\n",
      "\n",
      "  3%|▎         | 290/10000 [5:02:15<168:26:05, 62.45s/it]\u001b[A\u001b[A\u001b[A\u001b[A\n",
      "\n",
      "\n",
      "\n",
      "  3%|▎         | 291/10000 [5:03:17<168:19:12, 62.41s/it]\u001b[A\u001b[A\u001b[A\u001b[A"
     ]
    },
    {
     "name": "stdout",
     "output_type": "stream",
     "text": [
      "predition [[ 7949  8492  8492 ...,     0     0     0]\n",
      " [ 7949    36     1 ...,     0     0     0]\n",
      " [ 7949  8492  8492 ..., 15868 15868 15868]\n",
      " ..., \n",
      " [17914     1     0 ...,     0     0     0]\n",
      " [17496     1    36 ...,     0     0     0]\n",
      " [10738  8492    36 ...,     0     0     0]]\n",
      "max 17914\n"
     ]
    },
    {
     "name": "stderr",
     "output_type": "stream",
     "text": [
      "\n",
      "\n",
      "\n",
      "\n",
      "  3%|▎         | 292/10000 [5:04:20<168:22:01, 62.44s/it]\u001b[A\u001b[A\u001b[A\u001b[A\n",
      "\n",
      "\n",
      "\n",
      "  3%|▎         | 293/10000 [5:05:22<168:20:16, 62.43s/it]\u001b[A\u001b[A\u001b[A\u001b[A"
     ]
    },
    {
     "name": "stdout",
     "output_type": "stream",
     "text": [
      "predition [[10738    36    36 ...,     0     0     0]\n",
      " [10738  8492  8492 ..., 15868 15868 15868]\n",
      " [17914 17914 17914 ...,     0     0     0]\n",
      " ..., \n",
      " [ 7949     1     0 ...,     0     0     0]\n",
      " [ 7949    36    36 ...,     0     0     0]\n",
      " [ 7949  8492 10552 ...,     0     0     0]]\n",
      "max 17914\n"
     ]
    },
    {
     "name": "stderr",
     "output_type": "stream",
     "text": [
      "\n",
      "\n",
      "\n",
      "\n",
      "  3%|▎         | 294/10000 [5:06:25<168:19:49, 62.43s/it]\u001b[A\u001b[A\u001b[A\u001b[A\n",
      "\n",
      "\n",
      "\n",
      "  3%|▎         | 295/10000 [5:07:27<168:20:57, 62.45s/it]\u001b[A\u001b[A\u001b[A\u001b[A"
     ]
    },
    {
     "name": "stdout",
     "output_type": "stream",
     "text": [
      "predition [[ 7949     1 17914 ...,     0     0     0]\n",
      " [17496     1    36 ...,     0     0     0]\n",
      " [17496     1    36 ...,     0     0     0]\n",
      " ..., \n",
      " [10738  8492 15868 ...,     0     0     0]\n",
      " [10738    36  8492 ...,     0     0     0]\n",
      " [ 7949  8492 10552 ...,     0     0     0]]\n",
      "max 17914\n"
     ]
    },
    {
     "name": "stderr",
     "output_type": "stream",
     "text": [
      "\n",
      "\n",
      "\n",
      "\n",
      "  3%|▎         | 296/10000 [5:08:30<168:22:14, 62.46s/it]\u001b[A\u001b[A\u001b[A\u001b[A\n",
      "\n",
      "\n",
      "\n",
      "  3%|▎         | 297/10000 [5:09:32<168:10:20, 62.40s/it]\u001b[A\u001b[A\u001b[A\u001b[A"
     ]
    },
    {
     "name": "stdout",
     "output_type": "stream",
     "text": [
      "predition [[17496  8492    36 ...,     0     0     0]\n",
      " [17496  8492    36 ...,     0     0     0]\n",
      " [ 7949  8492     0 ...,     0     0     0]\n",
      " ..., \n",
      " [ 7949     1     0 ...,     0     0     0]\n",
      " [17496  8492    36 ...,     0     0     0]\n",
      " [ 7949    36    36 ...,     0     0     0]]\n",
      "max 17914\n"
     ]
    },
    {
     "name": "stderr",
     "output_type": "stream",
     "text": [
      "\n",
      "\n",
      "\n",
      "\n",
      "  3%|▎         | 298/10000 [5:10:35<168:16:16, 62.44s/it]\u001b[A\u001b[A\u001b[A\u001b[A\n",
      "\n",
      "\n",
      "\n",
      "  3%|▎         | 299/10000 [5:11:37<168:11:31, 62.42s/it]\u001b[A\u001b[A\u001b[A\u001b[A"
     ]
    },
    {
     "name": "stdout",
     "output_type": "stream",
     "text": [
      "predition [[ 7949    36     0 ...,     0     0     0]\n",
      " [ 7949  7949    36 ...,     0     0     0]\n",
      " [ 7949     1    36 ...,     0     0     0]\n",
      " ..., \n",
      " [ 7949  8492 10552 ...,     0     0     0]\n",
      " [17496     1     1 ...,     0     0     0]\n",
      " [ 7949  8492 10552 ...,     0     0     0]]\n",
      "max 17914\n"
     ]
    },
    {
     "name": "stderr",
     "output_type": "stream",
     "text": [
      "\n",
      "\n",
      "\n",
      "\n",
      "  3%|▎         | 300/10000 [5:12:39<168:13:13, 62.43s/it]\u001b[A\u001b[A\u001b[A\u001b[A"
     ]
    },
    {
     "name": "stdout",
     "output_type": "stream",
     "text": [
      "predition [[10738  8492 17914 ...,     0     0     0]\n",
      " [ 7949  7949  7949 ...,  8492    36    36]\n",
      " [ 7949  8492  8492 ..., 15868    36    36]\n",
      " ..., \n",
      " [10738     1     1 ...,     0     0     0]\n",
      " [10738     1     1 ...,     0     0     0]\n",
      " [ 7949  8492    36 ...,     0     0     0]]\n",
      "max 17914\n"
     ]
    },
    {
     "name": "stderr",
     "output_type": "stream",
     "text": [
      "\n",
      "\n",
      "\n",
      "\n",
      "  3%|▎         | 301/10000 [5:13:42<168:15:48, 62.45s/it]\u001b[A\u001b[A\u001b[A\u001b[A\n",
      "\n",
      "\n",
      "\n",
      "  3%|▎         | 302/10000 [5:14:44<168:12:09, 62.44s/it]\u001b[A\u001b[A\u001b[A\u001b[A"
     ]
    },
    {
     "name": "stdout",
     "output_type": "stream",
     "text": [
      "predition [[10738     1     0 ...,     0     0     0]\n",
      " [17914 17914    36 ...,    36    36     1]\n",
      " [ 7949    36    36 ...,     0     0     0]\n",
      " ..., \n",
      " [ 7949  8492 17914 ...,     0     0     0]\n",
      " [ 7949  8492 10552 ...,     0     0     0]\n",
      " [17496     1     0 ...,     0     0     0]]\n",
      "max 17914\n"
     ]
    },
    {
     "name": "stderr",
     "output_type": "stream",
     "text": [
      "\n",
      "\n",
      "\n",
      "\n",
      "  3%|▎         | 303/10000 [5:15:47<168:18:27, 62.48s/it]\u001b[A\u001b[A\u001b[A\u001b[A\n",
      "\n",
      "\n",
      "\n",
      "  3%|▎         | 304/10000 [5:16:49<168:13:44, 62.46s/it]\u001b[A\u001b[A\u001b[A\u001b[A"
     ]
    },
    {
     "name": "stdout",
     "output_type": "stream",
     "text": [
      "predition [[ 7949  8492    36 ...,  8492    36    36]\n",
      " [ 7949  8492 10552 ...,     0     0     0]\n",
      " [17496     1     1 ...,     0     0     0]\n",
      " ..., \n",
      " [ 7949  8492 10552 ...,    36    36    36]\n",
      " [ 7949  7949    36 ...,    36    36     1]\n",
      " [ 7949  7949 10552 ...,     0     0     0]]\n",
      "max 17914\n"
     ]
    },
    {
     "name": "stderr",
     "output_type": "stream",
     "text": [
      "\n",
      "\n",
      "\n",
      "\n",
      "  3%|▎         | 305/10000 [5:17:52<168:15:50, 62.48s/it]\u001b[A\u001b[A\u001b[A\u001b[A\n",
      "\n",
      "\n",
      "\n",
      "  3%|▎         | 306/10000 [5:18:54<168:09:26, 62.45s/it]\u001b[A\u001b[A\u001b[A\u001b[A"
     ]
    },
    {
     "name": "stdout",
     "output_type": "stream",
     "text": [
      "predition [[10738  8492  8492 ..., 15868 15868 15868]\n",
      " [17496  8492 17914 ...,     0     0     0]\n",
      " [17877     1     0 ...,     0     0     0]\n",
      " ..., \n",
      " [10738    36     1 ...,     0     0     0]\n",
      " [ 7949  7949    36 ..., 16139 16139    36]\n",
      " [ 7949  8492     0 ...,     0     0     0]]\n",
      "max 17914\n"
     ]
    },
    {
     "name": "stderr",
     "output_type": "stream",
     "text": [
      "\n",
      "\n",
      "\n",
      "\n",
      "  3%|▎         | 307/10000 [5:19:57<168:11:05, 62.46s/it]\u001b[A\u001b[A\u001b[A\u001b[A\n",
      "\n",
      "\n",
      "\n",
      "  3%|▎         | 308/10000 [5:20:59<168:01:15, 62.41s/it]\u001b[A\u001b[A\u001b[A\u001b[A"
     ]
    },
    {
     "name": "stdout",
     "output_type": "stream",
     "text": [
      "predition [[10738    36     1 ...,     0     0     0]\n",
      " [ 7949  8492 10552 ...,    36     1     0]\n",
      " [ 7949  8492 10552 ...,     0     0     0]\n",
      " ..., \n",
      " [ 7949  8492    36 ...,     0     0     0]\n",
      " [17914  8492 17914 ...,     0     0     0]\n",
      " [ 7949  8492  8492 ...,     0     0     0]]\n",
      "max 17914\n"
     ]
    },
    {
     "name": "stderr",
     "output_type": "stream",
     "text": [
      "\n",
      "\n",
      "\n",
      "\n",
      "  3%|▎         | 309/10000 [5:22:02<168:06:24, 62.45s/it]\u001b[A\u001b[A\u001b[A\u001b[A\n",
      "\n",
      "\n",
      "\n",
      "  3%|▎         | 310/10000 [5:23:04<168:10:17, 62.48s/it]\u001b[A\u001b[A\u001b[A\u001b[A"
     ]
    },
    {
     "name": "stdout",
     "output_type": "stream",
     "text": [
      "predition [[10738  8492     0 ...,     0     0     0]\n",
      " [10738  8492     0 ...,     0     0     0]\n",
      " [10738  8492  8492 ...,     0     0     0]\n",
      " ..., \n",
      " [17914 17914 17914 ...,     0     0     0]\n",
      " [ 7949  7949 10552 ...,     0     0     0]\n",
      " [ 7949  8492     1 ...,     0     0     0]]\n",
      "max 17914\n"
     ]
    },
    {
     "name": "stderr",
     "output_type": "stream",
     "text": [
      "\n",
      "\n",
      "\n",
      "\n",
      "  3%|▎         | 311/10000 [5:24:06<168:04:32, 62.45s/it]\u001b[A\u001b[A\u001b[A\u001b[A\n",
      "\n",
      "\n",
      "\n",
      "  3%|▎         | 312/10000 [5:25:09<167:57:52, 62.41s/it]\u001b[A\u001b[A\u001b[A\u001b[A"
     ]
    },
    {
     "name": "stdout",
     "output_type": "stream",
     "text": [
      "predition [[ 7949  8492    36 ...,     0     0     0]\n",
      " [ 7949  8492     1 ...,     0     0     0]\n",
      " [10738  8492 17914 ...,     0     0     0]\n",
      " ..., \n",
      " [ 7949  8492 17914 ...,     0     0     0]\n",
      " [ 7949  7949 10552 ...,    36    36     0]\n",
      " [10738  7949    36 ...,    36    36     1]]\n",
      "max 17914\n"
     ]
    },
    {
     "name": "stderr",
     "output_type": "stream",
     "text": [
      "\n",
      "\n",
      "\n",
      "\n",
      "  3%|▎         | 313/10000 [5:26:11<168:04:30, 62.46s/it]\u001b[A\u001b[A\u001b[A\u001b[A"
     ]
    },
    {
     "name": "stdout",
     "output_type": "stream",
     "text": [
      "predition [[17496     1     0 ...,     0     0     0]\n",
      " [17496     1     0 ...,     0     0     0]\n",
      " [17395  8492 10552 ...,     0     0     0]\n",
      " ..., \n",
      " [ 7949    36     1 ...,     0     0     0]\n",
      " [10738 17914 17914 ...,     0     0     0]\n",
      " [17914 17914 17914 ...,     0     0     0]]\n",
      "max 17914\n"
     ]
    },
    {
     "name": "stderr",
     "output_type": "stream",
     "text": [
      "\n",
      "\n",
      "\n",
      "\n",
      "  3%|▎         | 314/10000 [5:27:14<168:01:33, 62.45s/it]\u001b[A\u001b[A\u001b[A\u001b[A\n",
      "\n",
      "\n",
      "\n",
      "  3%|▎         | 315/10000 [5:28:16<167:58:10, 62.44s/it]\u001b[A\u001b[A\u001b[A\u001b[A"
     ]
    },
    {
     "name": "stdout",
     "output_type": "stream",
     "text": [
      "predition [[ 7949 17914 10552 ...,     0     0     0]\n",
      " [ 7949  8492 10552 ...,     0     0     0]\n",
      " [17461  8492 17914 ...,    36    36    36]\n",
      " ..., \n",
      " [ 7949     1     1 ...,     0     0     0]\n",
      " [ 7949    36 17914 ...,     0     0     0]\n",
      " [ 7949  8492     1 ...,     0     0     0]]\n",
      "max 17914\n"
     ]
    },
    {
     "name": "stderr",
     "output_type": "stream",
     "text": [
      "\n",
      "\n",
      "\n",
      "\n",
      "  3%|▎         | 316/10000 [5:29:19<168:00:04, 62.45s/it]\u001b[A\u001b[A\u001b[A\u001b[A\n",
      "\n",
      "\n",
      "\n",
      "  3%|▎         | 317/10000 [5:30:21<168:01:07, 62.47s/it]\u001b[A\u001b[A\u001b[A\u001b[A"
     ]
    },
    {
     "name": "stdout",
     "output_type": "stream",
     "text": [
      "predition [[ 7949  8492 10552 ..., 15868 15868    36]\n",
      " [ 7949  8492     1 ...,     0     0     0]\n",
      " [10738  8492  8492 ...,     1     0     0]\n",
      " ..., \n",
      " [10738     1     0 ...,     0     0     0]\n",
      " [ 7949  8492  8492 ...,    36    36     1]\n",
      " [ 7949     1     0 ...,     0     0     0]]\n",
      "max 17914\n"
     ]
    },
    {
     "name": "stderr",
     "output_type": "stream",
     "text": [
      "\n",
      "\n",
      "\n",
      "\n",
      "  3%|▎         | 318/10000 [5:31:24<167:58:07, 62.45s/it]\u001b[A\u001b[A\u001b[A\u001b[A\n",
      "\n",
      "\n",
      "\n",
      "  3%|▎         | 319/10000 [5:32:26<167:55:37, 62.45s/it]\u001b[A\u001b[A\u001b[A\u001b[A"
     ]
    },
    {
     "name": "stdout",
     "output_type": "stream",
     "text": [
      "predition [[10738  8492     1 ...,     0     0     0]\n",
      " [10738    36     0 ...,     0     0     0]\n",
      " [ 7949  7949 10552 ...,     0     0     0]\n",
      " ..., \n",
      " [10738    36    36 ...,     0     0     0]\n",
      " [10738  8492  8492 ...,     0     0     0]\n",
      " [ 7949  7949 10552 ...,     0     0     0]]\n",
      "max 17914\n"
     ]
    },
    {
     "name": "stderr",
     "output_type": "stream",
     "text": [
      "\n",
      "\n",
      "\n",
      "\n",
      "  3%|▎         | 320/10000 [5:33:28<167:55:55, 62.45s/it]\u001b[A\u001b[A\u001b[A\u001b[A\n",
      "\n",
      "\n",
      "\n",
      "  3%|▎         | 321/10000 [5:34:31<167:55:08, 62.46s/it]\u001b[A\u001b[A\u001b[A\u001b[A"
     ]
    },
    {
     "name": "stdout",
     "output_type": "stream",
     "text": [
      "predition [[17496    36    36 ...,     0     0     0]\n",
      " [ 7949  8492     1 ...,     0     0     0]\n",
      " [ 7949  8492  8492 ...,    36     1     0]\n",
      " ..., \n",
      " [ 7949     1 17914 ...,     0     0     0]\n",
      " [ 7949  8492     0 ...,     0     0     0]\n",
      " [ 7949  8492     0 ...,     0     0     0]]\n",
      "max 17914\n"
     ]
    },
    {
     "name": "stderr",
     "output_type": "stream",
     "text": [
      "\n",
      "\n",
      "\n",
      "\n",
      "  3%|▎         | 322/10000 [5:35:33<167:50:24, 62.43s/it]\u001b[A\u001b[A\u001b[A\u001b[A\n",
      "\n",
      "\n",
      "\n",
      "  3%|▎         | 323/10000 [5:36:36<167:50:36, 62.44s/it]\u001b[A\u001b[A\u001b[A\u001b[A"
     ]
    },
    {
     "name": "stdout",
     "output_type": "stream",
     "text": [
      "predition [[ 7949 17914 10552 ...,    36    36     0]\n",
      " [10738  8492  8492 ...,     0     0     0]\n",
      " [ 7949  8492     1 ...,     0     0     0]\n",
      " ..., \n",
      " [ 7949  8492 10552 ...,     0     0     0]\n",
      " [ 7949  7949 10552 ...,    36    36     1]\n",
      " [17496  8492 17914 ...,     0     0     0]]\n",
      "max 17914\n"
     ]
    },
    {
     "name": "stderr",
     "output_type": "stream",
     "text": [
      "\n",
      "\n",
      "\n",
      "\n",
      "  3%|▎         | 324/10000 [5:37:38<167:49:51, 62.44s/it]\u001b[A\u001b[A\u001b[A\u001b[A\n",
      "\n",
      "\n",
      "\n",
      "  3%|▎         | 325/10000 [5:38:41<167:46:00, 62.42s/it]\u001b[A\u001b[A\u001b[A\u001b[A"
     ]
    },
    {
     "name": "stdout",
     "output_type": "stream",
     "text": [
      "predition [[17496     1     0 ...,     0     0     0]\n",
      " [ 7949    36     1 ...,     0     0     0]\n",
      " [17496  8492 17914 ...,     0     0     0]\n",
      " ..., \n",
      " [ 7949  7949 10552 ..., 16139 15868    36]\n",
      " [17496    36     0 ...,     0     0     0]\n",
      " [ 7949  8492 10552 ...,     0     0     0]]\n",
      "max 17914\n"
     ]
    },
    {
     "name": "stderr",
     "output_type": "stream",
     "text": [
      "\n",
      "\n",
      "\n",
      "\n",
      "  3%|▎         | 326/10000 [5:39:43<167:53:18, 62.48s/it]\u001b[A\u001b[A\u001b[A\u001b[A\n",
      "\n",
      "\n",
      "\n",
      "  3%|▎         | 327/10000 [5:40:45<167:39:19, 62.40s/it]\u001b[A\u001b[A\u001b[A\u001b[A"
     ]
    },
    {
     "name": "stdout",
     "output_type": "stream",
     "text": [
      "predition [[ 7949  7949  7949 ...,    36     1     1]\n",
      " [ 7949  8492 10552 ...,    36     0     0]\n",
      " [ 7949  8492  8492 ...,    36     0     0]\n",
      " ..., \n",
      " [17877  8492     1 ...,     0     0     0]\n",
      " [17496     1     1 ...,     0     0     0]\n",
      " [ 7949  8492    36 ...,     0     0     0]]\n",
      "max 17914\n"
     ]
    },
    {
     "name": "stderr",
     "output_type": "stream",
     "text": [
      "\n",
      "\n",
      "\n",
      "\n",
      "  3%|▎         | 328/10000 [5:41:48<167:42:55, 62.43s/it]\u001b[A\u001b[A\u001b[A\u001b[A"
     ]
    },
    {
     "name": "stdout",
     "output_type": "stream",
     "text": [
      "predition [[ 7949  8492  8492 ...,    36    36     1]\n",
      " [ 7949    36    36 ...,     0     0     0]\n",
      " [17877    36     1 ...,     0     0     0]\n",
      " ..., \n",
      " [17496     1     0 ...,     0     0     0]\n",
      " [17496  8492  8492 ...,     0     0     0]\n",
      " [10738  8492  8492 ...,     0     0     0]]\n",
      "max 17914\n"
     ]
    },
    {
     "name": "stderr",
     "output_type": "stream",
     "text": [
      "\n",
      "\n",
      "\n",
      "\n",
      "  3%|▎         | 329/10000 [5:42:50<167:42:13, 62.43s/it]\u001b[A\u001b[A\u001b[A\u001b[A\n",
      "\n",
      "\n",
      "\n",
      "  3%|▎         | 330/10000 [5:43:53<167:39:58, 62.42s/it]\u001b[A\u001b[A\u001b[A\u001b[A"
     ]
    },
    {
     "name": "stdout",
     "output_type": "stream",
     "text": [
      "predition [[10738  8492    36 ...,     0     0     0]\n",
      " [ 7949  8492  8492 ...,    36    36     1]\n",
      " [17496     1    36 ...,     0     0     0]\n",
      " ..., \n",
      " [17914 17914     1 ...,     0     0     0]\n",
      " [ 7949 17914 17914 ...,     0     0     0]\n",
      " [10738  8492  8492 ...,     0     0     0]]\n",
      "max 17914\n"
     ]
    },
    {
     "name": "stderr",
     "output_type": "stream",
     "text": [
      "\n",
      "\n",
      "\n",
      "\n",
      "  3%|▎         | 331/10000 [5:44:55<167:43:06, 62.45s/it]\u001b[A\u001b[A\u001b[A\u001b[A\n",
      "\n",
      "\n",
      "\n",
      "  3%|▎         | 332/10000 [5:45:58<167:38:26, 62.42s/it]\u001b[A\u001b[A\u001b[A\u001b[A"
     ]
    },
    {
     "name": "stdout",
     "output_type": "stream",
     "text": [
      "predition [[10738    36    36 ...,     0     0     0]\n",
      " [ 7949     1     0 ...,     0     0     0]\n",
      " [ 7949  7949 10552 ...,    36    36    36]\n",
      " ..., \n",
      " [17914    36 17914 ...,     0     0     0]\n",
      " [ 7949  7949    36 ..., 15868    36    36]\n",
      " [ 7949    36     0 ...,     0     0     0]]\n",
      "max 17914\n"
     ]
    },
    {
     "name": "stderr",
     "output_type": "stream",
     "text": [
      "\n",
      "\n",
      "\n",
      "\n",
      "  3%|▎         | 333/10000 [5:47:00<167:38:55, 62.43s/it]\u001b[A\u001b[A\u001b[A\u001b[A\n",
      "\n",
      "\n",
      "\n",
      "  3%|▎         | 334/10000 [5:48:02<167:34:08, 62.41s/it]\u001b[A\u001b[A\u001b[A\u001b[A"
     ]
    },
    {
     "name": "stdout",
     "output_type": "stream",
     "text": [
      "predition [[ 7949  8492 10552 ...,     0     0     0]\n",
      " [ 7949  7949    36 ...,     0     0     0]\n",
      " [ 7949    36    36 ...,     0     0     0]\n",
      " ..., \n",
      " [17914 17914     1 ...,     0     0     0]\n",
      " [17496    36     1 ...,     0     0     0]\n",
      " [10738  8492     0 ...,     0     0     0]]\n",
      "max 17914\n"
     ]
    },
    {
     "name": "stderr",
     "output_type": "stream",
     "text": [
      "\n",
      "\n",
      "\n",
      "\n",
      "  3%|▎         | 335/10000 [5:49:05<167:36:36, 62.43s/it]\u001b[A\u001b[A\u001b[A\u001b[A\n",
      "\n",
      "\n",
      "\n",
      "  3%|▎         | 336/10000 [5:50:07<167:33:05, 62.42s/it]\u001b[A\u001b[A\u001b[A\u001b[A"
     ]
    },
    {
     "name": "stdout",
     "output_type": "stream",
     "text": [
      "predition [[ 7949  8492  8492 ...,     0     0     0]\n",
      " [ 7949  7949 10552 ...,     0     0     0]\n",
      " [ 7949  8492     0 ...,     0     0     0]\n",
      " ..., \n",
      " [ 7949  8492 10552 ...,    36    36     1]\n",
      " [ 7949    36    36 ...,     0     0     0]\n",
      " [17914 17914 17914 ...,     0     0     0]]\n",
      "max 17914\n"
     ]
    },
    {
     "name": "stderr",
     "output_type": "stream",
     "text": [
      "\n",
      "\n",
      "\n",
      "\n",
      "  3%|▎         | 337/10000 [5:51:10<167:38:49, 62.46s/it]\u001b[A\u001b[A\u001b[A\u001b[A\n",
      "\n",
      "\n",
      "\n",
      "  3%|▎         | 338/10000 [5:52:12<167:30:17, 62.41s/it]\u001b[A\u001b[A\u001b[A\u001b[A"
     ]
    },
    {
     "name": "stdout",
     "output_type": "stream",
     "text": [
      "predition [[17496     1     0 ...,     0     0     0]\n",
      " [ 7949  8492  8492 ...,     0     0     0]\n",
      " [ 7949  8492     0 ...,     0     0     0]\n",
      " ..., \n",
      " [17877     1     0 ...,     0     0     0]\n",
      " [ 7949  7949 10552 ...,     0     0     0]\n",
      " [17496  8492    36 ...,     0     0     0]]\n",
      "max 17914\n"
     ]
    },
    {
     "name": "stderr",
     "output_type": "stream",
     "text": [
      "\n",
      "\n",
      "\n",
      "\n",
      "  3%|▎         | 339/10000 [5:53:15<167:32:59, 62.43s/it]\u001b[A\u001b[A\u001b[A\u001b[A\n",
      "\n",
      "\n",
      "\n",
      "  3%|▎         | 340/10000 [5:54:17<167:33:43, 62.45s/it]\u001b[A\u001b[A\u001b[A\u001b[A"
     ]
    },
    {
     "name": "stdout",
     "output_type": "stream",
     "text": [
      "predition [[ 7949  8492    36 ...,     0     0     0]\n",
      " [ 7949  8492 10552 ...,     0     0     0]\n",
      " [10738     1    36 ...,     0     0     0]\n",
      " ..., \n",
      " [17877     1     0 ...,     0     0     0]\n",
      " [10738  8492  8492 ...,     0     0     0]\n",
      " [10738    36     1 ...,     0     0     0]]\n",
      "max 17914\n"
     ]
    },
    {
     "name": "stderr",
     "output_type": "stream",
     "text": [
      "\n",
      "\n",
      "\n",
      "\n",
      "  3%|▎         | 341/10000 [5:55:20<167:38:21, 62.48s/it]\u001b[A\u001b[A\u001b[A\u001b[A"
     ]
    },
    {
     "name": "stdout",
     "output_type": "stream",
     "text": [
      "predition [[ 7949     1     1 ...,     0     0     0]\n",
      " [10738  8492    36 ...,     0     0     0]\n",
      " [17914 17914    36 ...,    36     0     0]\n",
      " ..., \n",
      " [10738     1     0 ...,     0     0     0]\n",
      " [17496  8492 17914 ...,     0     0     0]\n",
      " [10738  8492  8492 ...,     0     0     0]]\n",
      "max 17914\n"
     ]
    },
    {
     "name": "stderr",
     "output_type": "stream",
     "text": [
      "\n",
      "\n",
      "\n",
      "\n",
      "  3%|▎         | 342/10000 [5:56:22<167:31:40, 62.45s/it]\u001b[A\u001b[A\u001b[A\u001b[A\n",
      "\n",
      "\n",
      "\n",
      "  3%|▎         | 343/10000 [5:57:24<167:28:10, 62.43s/it]\u001b[A\u001b[A\u001b[A\u001b[A"
     ]
    },
    {
     "name": "stdout",
     "output_type": "stream",
     "text": [
      "predition [[ 7949  8492 10552 ...,     0     0     0]\n",
      " [ 7949  7949    36 ...,     0     0     0]\n",
      " [ 7949  8492     1 ...,     0     0     0]\n",
      " ..., \n",
      " [ 7949  7949  8492 ...,     0     0     0]\n",
      " [ 7949  8492 10552 ...,     0     0     0]\n",
      " [10738  8492     1 ...,     0     0     0]]\n",
      "max 17914\n"
     ]
    },
    {
     "name": "stderr",
     "output_type": "stream",
     "text": [
      "\n",
      "\n",
      "\n",
      "\n",
      "  3%|▎         | 344/10000 [5:58:27<167:30:35, 62.45s/it]\u001b[A\u001b[A\u001b[A\u001b[A\n",
      "\n",
      "\n",
      "\n",
      "  3%|▎         | 345/10000 [5:59:29<167:31:42, 62.47s/it]\u001b[A\u001b[A\u001b[A\u001b[A"
     ]
    },
    {
     "name": "stdout",
     "output_type": "stream",
     "text": [
      "predition [[17877  8492     1 ...,     0     0     0]\n",
      " [ 7949  8492 10552 ...,     0     0     0]\n",
      " [ 7949    36    36 ...,     0     0     0]\n",
      " ..., \n",
      " [ 7949  8492 10552 ...,    36    36     0]\n",
      " [ 7949  8492 10552 ...,     0     0     0]\n",
      " [ 7949  8492 10552 ...,     0     0     0]]\n",
      "max 17914\n"
     ]
    },
    {
     "name": "stderr",
     "output_type": "stream",
     "text": [
      "\n",
      "\n",
      "\n",
      "\n",
      "  3%|▎         | 346/10000 [6:00:32<167:25:44, 62.43s/it]\u001b[A\u001b[A\u001b[A\u001b[A\n",
      "\n",
      "\n",
      "\n",
      "  3%|▎         | 347/10000 [6:01:34<167:23:52, 62.43s/it]\u001b[A\u001b[A\u001b[A\u001b[A"
     ]
    },
    {
     "name": "stdout",
     "output_type": "stream",
     "text": [
      "predition [[ 7949    36    36 ...,     0     0     0]\n",
      " [ 7949  8492  8492 ..., 15868 15868     0]\n",
      " [ 7949  8492 10552 ...,    36     0     0]\n",
      " ..., \n",
      " [10738  8492  8492 ...,     0     0     0]\n",
      " [17914 17914 17914 ...,     0     0     0]\n",
      " [ 7949  7949 10552 ...,     0     0     0]]\n",
      "max 17914\n"
     ]
    },
    {
     "name": "stderr",
     "output_type": "stream",
     "text": [
      "\n",
      "\n",
      "\n",
      "\n",
      "  3%|▎         | 348/10000 [6:02:37<167:32:08, 62.49s/it]\u001b[A\u001b[A\u001b[A\u001b[A\n",
      "\n",
      "\n",
      "\n",
      "  3%|▎         | 349/10000 [6:03:39<167:25:03, 62.45s/it]\u001b[A\u001b[A\u001b[A\u001b[A"
     ]
    },
    {
     "name": "stdout",
     "output_type": "stream",
     "text": [
      "predition [[ 7949  8492 10552 ...,     0     0     0]\n",
      " [ 7949    36    36 ...,     0     0     0]\n",
      " [ 7949  8492    36 ...,     0     0     0]\n",
      " ..., \n",
      " [ 7949  8492    36 ...,     0     0     0]\n",
      " [17496    36     0 ...,     0     0     0]\n",
      " [ 7949     1     0 ...,     0     0     0]]\n",
      "max 17914\n"
     ]
    },
    {
     "name": "stderr",
     "output_type": "stream",
     "text": [
      "\n",
      "\n",
      "\n",
      "\n",
      "  4%|▎         | 350/10000 [6:04:42<167:27:03, 62.47s/it]\u001b[A\u001b[A\u001b[A\u001b[A\n",
      "\n",
      "\n",
      "\n",
      "  4%|▎         | 351/10000 [6:05:44<167:26:43, 62.47s/it]\u001b[A\u001b[A\u001b[A\u001b[A"
     ]
    },
    {
     "name": "stdout",
     "output_type": "stream",
     "text": [
      "predition [[ 7949  8492 10552 ...,     0     0     0]\n",
      " [17877  8492  8492 ...,     0     0     0]\n",
      " [ 7949  8492 17914 ...,     1     0     0]\n",
      " ..., \n",
      " [10738  8492  8492 ...,     0     0     0]\n",
      " [ 7949  8492     0 ...,     0     0     0]\n",
      " [ 7949  8492  8492 ...,    36    36     1]]\n",
      "max 17914\n"
     ]
    },
    {
     "name": "stderr",
     "output_type": "stream",
     "text": [
      "\n",
      "\n",
      "\n",
      "\n",
      "  4%|▎         | 352/10000 [6:06:47<167:31:08, 62.51s/it]\u001b[A\u001b[A\u001b[A\u001b[A\n",
      "\n",
      "\n",
      "\n",
      "  4%|▎         | 353/10000 [6:07:49<167:24:10, 62.47s/it]\u001b[A\u001b[A\u001b[A\u001b[A"
     ]
    },
    {
     "name": "stdout",
     "output_type": "stream",
     "text": [
      "predition [[ 7949  8492     0 ...,     0     0     0]\n",
      " [17877     1     0 ...,     0     0     0]\n",
      " [ 7949     1     1 ...,     0     0     0]\n",
      " ..., \n",
      " [ 7949  8492 10552 ..., 15868 15868 15868]\n",
      " [ 7949    36     1 ...,     0     0     0]\n",
      " [17496     1     0 ...,     0     0     0]]\n",
      "max 17914\n"
     ]
    },
    {
     "name": "stderr",
     "output_type": "stream",
     "text": [
      "\n",
      "\n",
      "\n",
      "\n",
      "  4%|▎         | 354/10000 [6:08:52<167:23:20, 62.47s/it]\u001b[A\u001b[A\u001b[A\u001b[A"
     ]
    },
    {
     "name": "stdout",
     "output_type": "stream",
     "text": [
      "predition [[ 7949  8492  8492 ...,     0     0     0]\n",
      " [ 7949  8492 10552 ...,     0     0     0]\n",
      " [10738    36     1 ...,     0     0     0]\n",
      " ..., \n",
      " [ 7949     1    36 ...,     0     0     0]\n",
      " [ 7949  8492  8492 ...,     0     0     0]\n",
      " [ 7949  8492    36 ...,  8492    36    36]]\n",
      "max 17914\n"
     ]
    },
    {
     "name": "stderr",
     "output_type": "stream",
     "text": [
      "\n",
      "\n",
      "\n",
      "\n",
      "  4%|▎         | 355/10000 [6:09:54<167:24:54, 62.49s/it]\u001b[A\u001b[A\u001b[A\u001b[A\n",
      "\n",
      "\n",
      "\n",
      "  4%|▎         | 356/10000 [6:10:57<167:30:15, 62.53s/it]\u001b[A\u001b[A\u001b[A\u001b[A"
     ]
    },
    {
     "name": "stdout",
     "output_type": "stream",
     "text": [
      "predition [[ 7949 17914 10552 ...,     0     0     0]\n",
      " [ 7949  8492     1 ...,     0     0     0]\n",
      " [ 7949  8492 10552 ...,     0     0     0]\n",
      " ..., \n",
      " [17496     1     1 ...,     0     0     0]\n",
      " [ 7949 17914    36 ...,    36    36     0]\n",
      " [10738     1     0 ...,     0     0     0]]\n",
      "max 17914\n"
     ]
    },
    {
     "name": "stderr",
     "output_type": "stream",
     "text": [
      "\n",
      "\n",
      "\n",
      "\n",
      "  4%|▎         | 357/10000 [6:11:59<167:25:15, 62.50s/it]\u001b[A\u001b[A\u001b[A\u001b[A\n",
      "\n",
      "\n",
      "\n",
      "  4%|▎         | 358/10000 [6:13:02<167:26:57, 62.52s/it]\u001b[A\u001b[A\u001b[A\u001b[A"
     ]
    },
    {
     "name": "stdout",
     "output_type": "stream",
     "text": [
      "predition [[17914 17914 10552 ..., 17914    36     1]\n",
      " [ 7949  8492     1 ...,     0     0     0]\n",
      " [17496  8492 17914 ...,     0     0     0]\n",
      " ..., \n",
      " [10738  8492  8492 ..., 15868 15868 15868]\n",
      " [ 7949  8492 10552 ...,    36    36     1]\n",
      " [ 7949  8492 10552 ...,     0     0     0]]\n",
      "max 17914\n"
     ]
    },
    {
     "name": "stderr",
     "output_type": "stream",
     "text": [
      "\n",
      "\n",
      "\n",
      "\n",
      "  4%|▎         | 359/10000 [6:14:04<167:23:42, 62.51s/it]\u001b[A\u001b[A\u001b[A\u001b[A\n",
      "\n",
      "\n",
      "\n",
      "  4%|▎         | 360/10000 [6:15:07<167:25:29, 62.52s/it]\u001b[A\u001b[A\u001b[A\u001b[A"
     ]
    },
    {
     "name": "stdout",
     "output_type": "stream",
     "text": [
      "predition [[ 7949    36 10552 ...,     0     0     0]\n",
      " [10738    36     1 ...,     0     0     0]\n",
      " [17877     1     0 ...,     0     0     0]\n",
      " ..., \n",
      " [ 7949    36     1 ...,     0     0     0]\n",
      " [ 7949  8492    36 ...,     0     0     0]\n",
      " [ 7949  8492  8492 ...,    36     1     1]]\n",
      "max 17914\n"
     ]
    },
    {
     "name": "stderr",
     "output_type": "stream",
     "text": [
      "\n",
      "\n",
      "\n",
      "\n",
      "  4%|▎         | 361/10000 [6:16:09<167:18:13, 62.49s/it]\u001b[A\u001b[A\u001b[A\u001b[A\n",
      "\n",
      "\n",
      "\n",
      "  4%|▎         | 362/10000 [6:17:12<167:14:26, 62.47s/it]\u001b[A\u001b[A\u001b[A\u001b[A"
     ]
    },
    {
     "name": "stdout",
     "output_type": "stream",
     "text": [
      "predition [[ 7949  8492  8492 ..., 15868 15868 15868]\n",
      " [10738  8492  8492 ...,     0     0     0]\n",
      " [ 7949  8492     1 ...,     0     0     0]\n",
      " ..., \n",
      " [17914 17914     1 ...,     0     0     0]\n",
      " [ 7949    36    36 ...,     0     0     0]\n",
      " [17914 17914 10552 ...,     0     0     0]]\n",
      "max 17914\n"
     ]
    },
    {
     "name": "stderr",
     "output_type": "stream",
     "text": [
      "\n",
      "\n",
      "\n",
      "\n",
      "  4%|▎         | 363/10000 [6:18:14<167:25:23, 62.54s/it]\u001b[A\u001b[A\u001b[A\u001b[A\n",
      "\n",
      "\n",
      "\n",
      "  4%|▎         | 364/10000 [6:19:17<167:13:13, 62.47s/it]\u001b[A\u001b[A\u001b[A\u001b[A"
     ]
    },
    {
     "name": "stdout",
     "output_type": "stream",
     "text": [
      "predition [[10738  8492    36 ...,     0     0     0]\n",
      " [17877  8492  8492 ...,     0     0     0]\n",
      " [ 7949  8492  8492 ...,    36    36     1]\n",
      " ..., \n",
      " [10738  8492 17914 ...,     0     0     0]\n",
      " [10738  8492 10552 ...,     0     0     0]\n",
      " [17877     1     1 ...,     0     0     0]]\n",
      "max 17914\n"
     ]
    },
    {
     "name": "stderr",
     "output_type": "stream",
     "text": [
      "\n",
      "\n",
      "\n",
      "\n",
      "  4%|▎         | 365/10000 [6:20:19<167:15:34, 62.49s/it]\u001b[A\u001b[A\u001b[A\u001b[A\n",
      "\n",
      "\n",
      "\n",
      "  4%|▎         | 366/10000 [6:21:22<167:15:50, 62.50s/it]\u001b[A\u001b[A\u001b[A\u001b[A"
     ]
    },
    {
     "name": "stdout",
     "output_type": "stream",
     "text": [
      "predition [[ 7949  8492     1 ...,     0     0     0]\n",
      " [17877    36     1 ...,     0     0     0]\n",
      " [10738  8492     0 ...,     0     0     0]\n",
      " ..., \n",
      " [17496     1     0 ...,     0     0     0]\n",
      " [ 7949    36     0 ...,     0     0     0]\n",
      " [ 7949  7949 10552 ...,     0     0     0]]\n",
      "max 17914\n"
     ]
    },
    {
     "name": "stderr",
     "output_type": "stream",
     "text": [
      "\n",
      "\n",
      "\n",
      "\n",
      "  4%|▎         | 367/10000 [6:22:24<167:17:25, 62.52s/it]\u001b[A\u001b[A\u001b[A\u001b[A"
     ]
    },
    {
     "name": "stdout",
     "output_type": "stream",
     "text": [
      "predition [[ 7949     1     0 ...,     0     0     0]\n",
      " [17496     1     0 ...,     0     0     0]\n",
      " [17914  8492  8492 ...,     0     0     0]\n",
      " ..., \n",
      " [ 7949  8492  8492 ...,     0     0     0]\n",
      " [17496     1     1 ...,     0     0     0]\n",
      " [   36     1     0 ...,     0     0     0]]\n",
      "max 17914\n"
     ]
    },
    {
     "name": "stderr",
     "output_type": "stream",
     "text": [
      "\n",
      "\n",
      "\n",
      "\n",
      "  4%|▎         | 368/10000 [6:23:27<167:18:11, 62.53s/it]\u001b[A\u001b[A\u001b[A\u001b[A\n",
      "\n",
      "\n",
      "\n",
      "  4%|▎         | 369/10000 [6:24:29<167:05:39, 62.46s/it]\u001b[A\u001b[A\u001b[A\u001b[A"
     ]
    },
    {
     "name": "stdout",
     "output_type": "stream",
     "text": [
      "predition [[ 7949    36     1 ...,     0     0     0]\n",
      " [ 7949  8492 10552 ...,    36    36    36]\n",
      " [10738  8492  8492 ...,     1     0     0]\n",
      " ..., \n",
      " [10738    36 17914 ...,    36    36    36]\n",
      " [10738  8492  8492 ..., 15868 15868    36]\n",
      " [17496  8492 17914 ...,     0     0     0]]\n",
      "max 17914\n"
     ]
    },
    {
     "name": "stderr",
     "output_type": "stream",
     "text": [
      "\n",
      "\n",
      "\n",
      "\n",
      "  4%|▎         | 370/10000 [6:25:32<167:12:53, 62.51s/it]\u001b[A\u001b[A\u001b[A\u001b[A\n",
      "\n",
      "\n",
      "\n",
      "  4%|▎         | 371/10000 [6:26:34<167:08:40, 62.49s/it]\u001b[A\u001b[A\u001b[A\u001b[A"
     ]
    },
    {
     "name": "stdout",
     "output_type": "stream",
     "text": [
      "predition [[17496  8492  8492 ...,     0     0     0]\n",
      " [17496     1     1 ...,     0     0     0]\n",
      " [ 7949  7949 10552 ...,    36    36    36]\n",
      " ..., \n",
      " [ 7949  8492 10552 ...,    36    36     0]\n",
      " [ 7949  8492     0 ...,     0     0     0]\n",
      " [17496     1     1 ...,     0     0     0]]\n",
      "max 17914\n"
     ]
    },
    {
     "name": "stderr",
     "output_type": "stream",
     "text": [
      "\n",
      "\n",
      "\n",
      "\n",
      "  4%|▎         | 372/10000 [6:27:37<167:15:14, 62.54s/it]\u001b[A\u001b[A\u001b[A\u001b[A\n",
      "\n",
      "\n",
      "\n",
      "  4%|▎         | 373/10000 [6:28:39<167:03:05, 62.47s/it]\u001b[A\u001b[A\u001b[A\u001b[A"
     ]
    },
    {
     "name": "stdout",
     "output_type": "stream",
     "text": [
      "predition [[ 7949  8492 10552 ...,     0     0     0]\n",
      " [ 7949  8492  8492 ...,     0     0     0]\n",
      " [ 7949  8492 17914 ...,     0     0     0]\n",
      " ..., \n",
      " [ 7949  8492     0 ...,     0     0     0]\n",
      " [ 7949     1     0 ...,     0     0     0]\n",
      " [10738  8492  8492 ...,     0     0     0]]\n",
      "max 17914\n"
     ]
    },
    {
     "name": "stderr",
     "output_type": "stream",
     "text": [
      "\n",
      "\n",
      "\n",
      "\n",
      "  4%|▎         | 374/10000 [6:29:42<167:11:47, 62.53s/it]\u001b[A\u001b[A\u001b[A\u001b[A\n",
      "\n",
      "\n",
      "\n",
      "  4%|▍         | 375/10000 [6:30:44<167:04:19, 62.49s/it]\u001b[A\u001b[A\u001b[A\u001b[A"
     ]
    },
    {
     "name": "stdout",
     "output_type": "stream",
     "text": [
      "predition [[17496    36  8492 ...,     0     0     0]\n",
      " [17461  8492  8492 ...,     0     0     0]\n",
      " [17496     1 17914 ...,     0     0     0]\n",
      " ..., \n",
      " [17877     1    36 ...,     0     0     0]\n",
      " [ 7949  8492    36 ...,     0     0     0]\n",
      " [10738  8492  8492 ...,     0     0     0]]\n",
      "max 17914\n"
     ]
    },
    {
     "name": "stderr",
     "output_type": "stream",
     "text": [
      "\n",
      "\n",
      "\n",
      "\n",
      "  4%|▍         | 376/10000 [6:31:47<167:02:15, 62.48s/it]\u001b[A\u001b[A\u001b[A\u001b[A\n",
      "\n",
      "\n",
      "\n",
      "  4%|▍         | 377/10000 [6:32:49<167:06:29, 62.52s/it]\u001b[A\u001b[A\u001b[A\u001b[A"
     ]
    },
    {
     "name": "stdout",
     "output_type": "stream",
     "text": [
      "predition [[ 7949  8492  8492 ..., 15868 15868 15868]\n",
      " [17496  8492 17914 ...,     0     0     0]\n",
      " [10738  8492     0 ...,     0     0     0]\n",
      " ..., \n",
      " [17496     1     0 ...,     0     0     0]\n",
      " [ 7949  7949 10552 ...,    36     1     0]\n",
      " [ 7949  8492    36 ...,     0     0     0]]\n",
      "max 17914\n"
     ]
    },
    {
     "name": "stderr",
     "output_type": "stream",
     "text": [
      "\n",
      "\n",
      "\n",
      "\n",
      "  4%|▍         | 378/10000 [6:33:52<167:06:13, 62.52s/it]\u001b[A\u001b[A\u001b[A\u001b[A\n",
      "\n",
      "\n",
      "\n",
      "  4%|▍         | 379/10000 [6:34:54<167:00:14, 62.49s/it]\u001b[A\u001b[A\u001b[A\u001b[A"
     ]
    },
    {
     "name": "stdout",
     "output_type": "stream",
     "text": [
      "predition [[17914    36     1 ...,     0     0     0]\n",
      " [17914  7949 10552 ...,     0     0     0]\n",
      " [17914 17914 17914 ...,     0     0     0]\n",
      " ..., \n",
      " [ 7949  7949 10552 ...,     0     0     0]\n",
      " [ 7949  8492     0 ...,     0     0     0]\n",
      " [ 7949  7949 10552 ...,     0     0     0]]\n",
      "max 17914\n"
     ]
    },
    {
     "name": "stderr",
     "output_type": "stream",
     "text": [
      "\n",
      "\n",
      "\n",
      "\n",
      "  4%|▍         | 380/10000 [6:35:57<166:53:58, 62.46s/it]\u001b[A\u001b[A\u001b[A\u001b[A\n",
      "\n",
      "\n",
      "\n",
      "  4%|▍         | 381/10000 [6:36:59<166:45:29, 62.41s/it]\u001b[A\u001b[A\u001b[A\u001b[A"
     ]
    },
    {
     "name": "stdout",
     "output_type": "stream",
     "text": [
      "predition [[17395  8492 10552 ...,     0     0     0]\n",
      " [17496  8492  8492 ...,     0     0     0]\n",
      " [17496    36     0 ...,     0     0     0]\n",
      " ..., \n",
      " [ 7949  8492 10552 ...,     0     0     0]\n",
      " [10738    36     1 ...,     0     0     0]\n",
      " [ 7949    36     1 ...,     0     0     0]]\n",
      "max 17914\n"
     ]
    },
    {
     "name": "stderr",
     "output_type": "stream",
     "text": [
      "\n",
      "\n",
      "\n",
      "\n",
      "  4%|▍         | 382/10000 [6:38:02<166:55:31, 62.48s/it]\u001b[A\u001b[A\u001b[A\u001b[A"
     ]
    },
    {
     "name": "stdout",
     "output_type": "stream",
     "text": [
      "predition [[ 7949  8492     1 ...,     0     0     0]\n",
      " [ 7949  8492 10552 ...,     0     0     0]\n",
      " [ 7949  8492 17914 ...,     0     0     0]\n",
      " ..., \n",
      " [ 7949  7949     0 ...,     0     0     0]\n",
      " [ 7949     1     1 ...,     0     0     0]\n",
      " [ 7949  7949    36 ...,    36     0     0]]\n",
      "max 17914\n"
     ]
    },
    {
     "name": "stderr",
     "output_type": "stream",
     "text": [
      "\n",
      "\n",
      "\n",
      "\n",
      "  4%|▍         | 383/10000 [6:39:04<166:51:05, 62.46s/it]\u001b[A\u001b[A\u001b[A\u001b[A\n",
      "\n",
      "\n",
      "\n",
      "  4%|▍         | 384/10000 [6:40:06<166:45:51, 62.43s/it]\u001b[A\u001b[A\u001b[A\u001b[A"
     ]
    },
    {
     "name": "stdout",
     "output_type": "stream",
     "text": [
      "predition [[ 7949  7949 10552 ...,     0     0     0]\n",
      " [10738    36 17914 ...,     0     0     0]\n",
      " [ 7949     1     0 ...,     0     0     0]\n",
      " ..., \n",
      " [17496     1     0 ...,     0     0     0]\n",
      " [ 7949  8492 10552 ...,     0     0     0]\n",
      " [17496  8492  8492 ...,     0     0     0]]\n",
      "max 17914\n"
     ]
    },
    {
     "name": "stderr",
     "output_type": "stream",
     "text": [
      "\n",
      "\n",
      "\n",
      "\n",
      "  4%|▍         | 385/10000 [6:41:09<166:48:44, 62.46s/it]\u001b[A\u001b[A\u001b[A\u001b[A\n",
      "\n",
      "\n",
      "\n",
      "  4%|▍         | 386/10000 [6:42:11<166:41:13, 62.42s/it]\u001b[A\u001b[A\u001b[A\u001b[A"
     ]
    },
    {
     "name": "stdout",
     "output_type": "stream",
     "text": [
      "predition [[10738  8492  8492 ...,     0     0     0]\n",
      " [17461  8492 17914 ...,     0     0     0]\n",
      " [17496  8492 17914 ...,    36    36    36]\n",
      " ..., \n",
      " [ 7949  8492    36 ...,     0     0     0]\n",
      " [10738    36     1 ...,     0     0     0]\n",
      " [17914  8492  8492 ...,     0     0     0]]\n",
      "max 17914\n"
     ]
    },
    {
     "name": "stderr",
     "output_type": "stream",
     "text": [
      "\n",
      "\n",
      "\n",
      "\n",
      "  4%|▍         | 387/10000 [6:43:14<166:44:33, 62.44s/it]\u001b[A\u001b[A\u001b[A\u001b[A\n",
      "\n",
      "\n",
      "\n",
      "  4%|▍         | 388/10000 [6:44:16<166:35:17, 62.39s/it]\u001b[A\u001b[A\u001b[A\u001b[A"
     ]
    },
    {
     "name": "stdout",
     "output_type": "stream",
     "text": [
      "predition [[17496  8492    36 ...,     0     0     0]\n",
      " [ 7949  8492 10552 ..., 15868 15868 15868]\n",
      " [ 7949  7949  8492 ...,    36     1     0]\n",
      " ..., \n",
      " [ 7949  8492  8492 ...,     0     0     0]\n",
      " [ 7949  8492 10552 ...,    36    36     0]\n",
      " [ 7949  8492 10552 ...,     0     0     0]]\n",
      "max 17914\n"
     ]
    },
    {
     "name": "stderr",
     "output_type": "stream",
     "text": [
      "\n",
      "\n",
      "\n",
      "\n",
      "  4%|▍         | 389/10000 [6:45:18<166:36:49, 62.41s/it]\u001b[A\u001b[A\u001b[A\u001b[A\n",
      "\n",
      "\n",
      "\n",
      "  4%|▍         | 390/10000 [6:46:21<166:32:18, 62.39s/it]\u001b[A\u001b[A\u001b[A\u001b[A"
     ]
    },
    {
     "name": "stdout",
     "output_type": "stream",
     "text": [
      "predition [[ 7949  8492 10552 ...,     0     0     0]\n",
      " [17496    36    36 ...,     0     0     0]\n",
      " [ 7949    36    36 ...,     0     0     0]\n",
      " ..., \n",
      " [10738  8492  8492 ...,     0     0     0]\n",
      " [ 7949  7949 10552 ...,     0     0     0]\n",
      " [ 7949  8492 17914 ...,     0     0     0]]\n",
      "max 17914\n"
     ]
    },
    {
     "name": "stderr",
     "output_type": "stream",
     "text": [
      "\n",
      "\n",
      "\n",
      "\n",
      "  4%|▍         | 391/10000 [6:47:23<166:32:13, 62.39s/it]\u001b[A\u001b[A\u001b[A\u001b[A\n",
      "\n",
      "\n",
      "\n",
      "  4%|▍         | 392/10000 [6:48:25<166:27:03, 62.37s/it]\u001b[A\u001b[A\u001b[A\u001b[A"
     ]
    },
    {
     "name": "stdout",
     "output_type": "stream",
     "text": [
      "predition [[10738    36     1 ...,     0     0     0]\n",
      " [17496     1     1 ...,     0     0     0]\n",
      " [10738 17914 17914 ...,     0     0     0]\n",
      " ..., \n",
      " [ 7949    36     1 ...,     0     0     0]\n",
      " [ 7949  7949 10552 ..., 16139    36    36]\n",
      " [10738     1     0 ...,     0     0     0]]\n",
      "max 17914\n"
     ]
    },
    {
     "name": "stderr",
     "output_type": "stream",
     "text": [
      "\n",
      "\n",
      "\n",
      "\n",
      "  4%|▍         | 393/10000 [6:49:28<166:26:50, 62.37s/it]\u001b[A\u001b[A\u001b[A\u001b[A\n",
      "\n",
      "\n",
      "\n",
      "  4%|▍         | 394/10000 [6:50:30<166:24:24, 62.36s/it]\u001b[A\u001b[A\u001b[A\u001b[A"
     ]
    },
    {
     "name": "stdout",
     "output_type": "stream",
     "text": [
      "predition [[ 7949  7949 10552 ...,    36    36    36]\n",
      " [10738  8492 17914 ...,    36     1     0]\n",
      " [17461  8492 10552 ...,    36    36     0]\n",
      " ..., \n",
      " [10738  8492 17914 ...,     0     0     0]\n",
      " [ 7949  7949 10552 ..., 16139 16139    36]\n",
      " [ 7949    36     1 ...,     0     0     0]]\n",
      "max 17914\n"
     ]
    },
    {
     "name": "stderr",
     "output_type": "stream",
     "text": [
      "\n",
      "\n",
      "\n",
      "\n",
      "  4%|▍         | 395/10000 [6:51:33<166:35:51, 62.44s/it]\u001b[A\u001b[A\u001b[A\u001b[A"
     ]
    },
    {
     "name": "stdout",
     "output_type": "stream",
     "text": [
      "predition [[10738  8492 10552 ...,     0     0     0]\n",
      " [ 7949  7949  7949 ..., 16139 16139 15868]\n",
      " [ 7949     1     1 ...,     0     0     0]\n",
      " ..., \n",
      " [10472  7949  7949 ...,     0     0     0]\n",
      " [ 7949 17914 17914 ...,     0     0     0]\n",
      " [10738  8492 17914 ...,     0     0     0]]\n",
      "max 17914\n"
     ]
    },
    {
     "name": "stderr",
     "output_type": "stream",
     "text": [
      "\n",
      "\n",
      "\n",
      "\n",
      "  4%|▍         | 396/10000 [6:52:35<166:40:22, 62.48s/it]\u001b[A\u001b[A\u001b[A\u001b[A\n",
      "\n",
      "\n",
      "\n",
      "  4%|▍         | 397/10000 [6:53:38<166:32:42, 62.43s/it]\u001b[A\u001b[A\u001b[A\u001b[A"
     ]
    },
    {
     "name": "stdout",
     "output_type": "stream",
     "text": [
      "predition [[10738    36    36 ...,     0     0     0]\n",
      " [ 7949    36     1 ...,     0     0     0]\n",
      " [10738     1     1 ...,     0     0     0]\n",
      " ..., \n",
      " [ 7949  8492 10552 ...,     0     0     0]\n",
      " [17496  8492     1 ...,     0     0     0]\n",
      " [ 7949  7949 17914 ...,     0     0     0]]\n",
      "max 17914\n"
     ]
    },
    {
     "name": "stderr",
     "output_type": "stream",
     "text": [
      "\n",
      "\n",
      "\n",
      "\n",
      "  4%|▍         | 398/10000 [6:54:40<166:37:38, 62.47s/it]\u001b[A\u001b[A\u001b[A\u001b[A\n",
      "\n",
      "\n",
      "\n",
      "  4%|▍         | 399/10000 [6:55:43<166:35:58, 62.47s/it]\u001b[A\u001b[A\u001b[A\u001b[A"
     ]
    },
    {
     "name": "stdout",
     "output_type": "stream",
     "text": [
      "predition [[ 7949  8492     1 ...,     0     0     0]\n",
      " [ 7949  8492     0 ...,     0     0     0]\n",
      " [10738  8492     1 ...,     0     0     0]\n",
      " ..., \n",
      " [17496  8492    36 ...,     0     0     0]\n",
      " [17496    36    36 ...,     0     0     0]\n",
      " [ 7949     1  8492 ...,     0     0     0]]\n",
      "max 17914\n"
     ]
    },
    {
     "name": "stderr",
     "output_type": "stream",
     "text": [
      "\n",
      "\n",
      "\n",
      "\n",
      "  4%|▍         | 400/10000 [6:56:45<166:36:20, 62.48s/it]\u001b[A\u001b[A\u001b[A\u001b[A\n",
      "\n",
      "\n",
      "\n",
      "  4%|▍         | 401/10000 [6:57:47<166:21:00, 62.39s/it]\u001b[A\u001b[A\u001b[A\u001b[A"
     ]
    },
    {
     "name": "stdout",
     "output_type": "stream",
     "text": [
      "predition [[10738     1     1 ...,     0     0     0]\n",
      " [17496    36     1 ...,     0     0     0]\n",
      " [17914 17914 17914 ...,     0     0     0]\n",
      " ..., \n",
      " [ 7949  8492 10552 ...,     1     0     0]\n",
      " [17496  8492     0 ...,     0     0     0]\n",
      " [17496     1     0 ...,     0     0     0]]\n",
      "max 17914\n"
     ]
    },
    {
     "name": "stderr",
     "output_type": "stream",
     "text": [
      "\n",
      "\n",
      "\n",
      "\n",
      "  4%|▍         | 402/10000 [6:58:50<166:24:50, 62.42s/it]\u001b[A\u001b[A\u001b[A\u001b[A\n",
      "\n",
      "\n",
      "\n",
      "  4%|▍         | 403/10000 [6:59:52<166:24:44, 62.42s/it]\u001b[A\u001b[A\u001b[A\u001b[A"
     ]
    },
    {
     "name": "stdout",
     "output_type": "stream",
     "text": [
      "predition [[17496     1     1 ...,     0     0     0]\n",
      " [10738  8492  8492 ...,     0     0     0]\n",
      " [ 7949     1     0 ...,     0     0     0]\n",
      " ..., \n",
      " [10738    36     1 ...,     0     0     0]\n",
      " [17496     1 17914 ...,     0     0     0]\n",
      " [10738  8492    36 ...,     0     0     0]]\n",
      "max 17914\n"
     ]
    },
    {
     "name": "stderr",
     "output_type": "stream",
     "text": [
      "\n",
      "\n",
      "\n",
      "\n",
      "  4%|▍         | 404/10000 [7:00:55<166:29:40, 62.46s/it]\u001b[A\u001b[A\u001b[A\u001b[A\n",
      "\n",
      "\n",
      "\n",
      "  4%|▍         | 405/10000 [7:01:57<166:27:11, 62.45s/it]\u001b[A\u001b[A\u001b[A\u001b[A"
     ]
    },
    {
     "name": "stdout",
     "output_type": "stream",
     "text": [
      "predition [[ 7949  7949 10552 ...,     0     0     0]\n",
      " [ 7949  7949 10552 ...,     0     0     0]\n",
      " [17496  8492  8492 ...,     0     0     0]\n",
      " ..., \n",
      " [ 7949    36     1 ...,     0     0     0]\n",
      " [ 7949  7949 10552 ...,     0     0     0]\n",
      " [10738 17914 17914 ...,     0     0     0]]\n",
      "max 17914\n"
     ]
    },
    {
     "name": "stderr",
     "output_type": "stream",
     "text": [
      "\n",
      "\n",
      "\n",
      "\n",
      "  4%|▍         | 406/10000 [7:03:00<166:24:08, 62.44s/it]\u001b[A\u001b[A\u001b[A\u001b[A\n",
      "\n",
      "\n",
      "\n",
      "  4%|▍         | 407/10000 [7:04:02<166:14:58, 62.39s/it]\u001b[A\u001b[A\u001b[A\u001b[A"
     ]
    },
    {
     "name": "stdout",
     "output_type": "stream",
     "text": [
      "predition [[17496    36     1 ...,     0     0     0]\n",
      " [ 7949  7949 10552 ...,    36    36     1]\n",
      " [10738  8492 15868 ...,     0     0     0]\n",
      " ..., \n",
      " [ 7949    36    36 ...,     0     0     0]\n",
      " [ 7949     1     1 ...,     0     0     0]\n",
      " [17877     1    36 ...,     0     0     0]]\n",
      "max 17914\n"
     ]
    },
    {
     "name": "stderr",
     "output_type": "stream",
     "text": [
      "\n",
      "\n",
      "\n",
      "\n",
      "  4%|▍         | 408/10000 [7:05:05<166:21:02, 62.43s/it]\u001b[A\u001b[A\u001b[A\u001b[A"
     ]
    },
    {
     "name": "stdout",
     "output_type": "stream",
     "text": [
      "predition [[ 7949  8492  8492 ..., 16139    36    36]\n",
      " [10738  8492 17914 ...,     0     0     0]\n",
      " [ 7949  8492 17914 ...,     0     0     0]\n",
      " ..., \n",
      " [   36     1     1 ...,     0     0     0]\n",
      " [10738     1     1 ...,     0     0     0]\n",
      " [10738  8492  8492 ...,     0     0     0]]\n",
      "max 17914\n"
     ]
    },
    {
     "name": "stderr",
     "output_type": "stream",
     "text": [
      "\n",
      "\n",
      "\n",
      "\n",
      "  4%|▍         | 409/10000 [7:06:07<166:21:13, 62.44s/it]\u001b[A\u001b[A\u001b[A\u001b[A\n",
      "\n",
      "\n",
      "\n",
      "  4%|▍         | 410/10000 [7:07:09<166:14:28, 62.41s/it]\u001b[A\u001b[A\u001b[A\u001b[A"
     ]
    },
    {
     "name": "stdout",
     "output_type": "stream",
     "text": [
      "predition [[10738  8492  8492 ...,     0     0     0]\n",
      " [17914 17914 17914 ...,     0     0     0]\n",
      " [10738  8492     0 ...,     0     0     0]\n",
      " ..., \n",
      " [10738  8492  8492 ...,     0     0     0]\n",
      " [ 7949  8492  8492 ..., 15868    36    36]\n",
      " [ 7949  8492     1 ...,     0     0     0]]\n",
      "max 17914\n"
     ]
    },
    {
     "name": "stderr",
     "output_type": "stream",
     "text": [
      "\n",
      "\n",
      "\n",
      "\n",
      "  4%|▍         | 411/10000 [7:08:12<166:22:41, 62.46s/it]\u001b[A\u001b[A\u001b[A\u001b[A\n",
      "\n",
      "\n",
      "\n",
      "  4%|▍         | 412/10000 [7:09:14<166:17:30, 62.44s/it]\u001b[A\u001b[A\u001b[A\u001b[A"
     ]
    },
    {
     "name": "stdout",
     "output_type": "stream",
     "text": [
      "predition [[ 7949  8492 10552 ...,    36    36     1]\n",
      " [ 7949  8492    36 ...,     0     0     0]\n",
      " [10738  8492 17914 ...,     0     0     0]\n",
      " ..., \n",
      " [ 7949  8492 10552 ..., 15868    36    36]\n",
      " [ 7949  8492     1 ...,     0     0     0]\n",
      " [   36     1     0 ...,     0     0     0]]\n",
      "max 17914\n"
     ]
    },
    {
     "name": "stderr",
     "output_type": "stream",
     "text": [
      "\n",
      "\n",
      "\n",
      "\n",
      "  4%|▍         | 413/10000 [7:10:17<166:17:46, 62.45s/it]\u001b[A\u001b[A\u001b[A\u001b[A\n",
      "\n",
      "\n",
      "\n",
      "  4%|▍         | 414/10000 [7:11:19<166:12:07, 62.42s/it]\u001b[A\u001b[A\u001b[A\u001b[A"
     ]
    },
    {
     "name": "stdout",
     "output_type": "stream",
     "text": [
      "predition [[10738    36     1 ...,     0     0     0]\n",
      " [17914    36     1 ...,     0     0     0]\n",
      " [ 7949  7949 10552 ...,     0     0     0]\n",
      " ..., \n",
      " [ 7949  7949     0 ...,     0     0     0]\n",
      " [10738  8492     0 ...,    36    36     0]\n",
      " [ 7949 17914 17914 ...,     0     0     0]]\n",
      "max 17914\n"
     ]
    },
    {
     "name": "stderr",
     "output_type": "stream",
     "text": [
      "\n",
      "\n",
      "\n",
      "\n",
      "  4%|▍         | 415/10000 [7:12:22<166:12:22, 62.42s/it]\u001b[A\u001b[A\u001b[A\u001b[A\n",
      "\n",
      "\n",
      "\n",
      "  4%|▍         | 416/10000 [7:13:24<166:09:00, 62.41s/it]\u001b[A\u001b[A\u001b[A\u001b[A"
     ]
    },
    {
     "name": "stdout",
     "output_type": "stream",
     "text": [
      "predition [[17496  8492 17914 ...,     0     0     0]\n",
      " [17496     1     0 ...,     0     0     0]\n",
      " [ 7949  8492 10552 ...,    36    36     0]\n",
      " ..., \n",
      " [10738  8492    36 ...,     0     0     0]\n",
      " [ 7949  8492  8492 ...,     0     0     0]\n",
      " [ 7949 17914     1 ...,     0     0     0]]\n",
      "max 17914\n"
     ]
    },
    {
     "name": "stderr",
     "output_type": "stream",
     "text": [
      "\n",
      "\n",
      "\n",
      "\n",
      "  4%|▍         | 417/10000 [7:14:26<166:04:57, 62.39s/it]\u001b[A\u001b[A\u001b[A\u001b[A\n",
      "\n",
      "\n",
      "\n",
      "  4%|▍         | 418/10000 [7:15:29<166:01:17, 62.38s/it]\u001b[A\u001b[A\u001b[A\u001b[A"
     ]
    },
    {
     "name": "stdout",
     "output_type": "stream",
     "text": [
      "predition [[ 7949  7949 10552 ...,     0     0     0]\n",
      " [   36     1     0 ...,     0     0     0]\n",
      " [ 7949  8492 10552 ...,     0     0     0]\n",
      " ..., \n",
      " [10738     1     0 ...,     0     0     0]\n",
      " [17496    36     1 ...,     0     0     0]\n",
      " [17914  8492     1 ...,     0     0     0]]\n",
      "max 17914\n"
     ]
    },
    {
     "name": "stderr",
     "output_type": "stream",
     "text": [
      "\n",
      "\n",
      "\n",
      "\n",
      "  4%|▍         | 419/10000 [7:16:31<165:44:00, 62.27s/it]\u001b[A\u001b[A\u001b[A\u001b[A\n",
      "\n",
      "\n",
      "\n",
      "  4%|▍         | 420/10000 [7:17:33<165:29:05, 62.19s/it]\u001b[A\u001b[A\u001b[A\u001b[A"
     ]
    },
    {
     "name": "stdout",
     "output_type": "stream",
     "text": [
      "predition [[17877     1     0 ...,     0     0     0]\n",
      " [ 7949  7949 10552 ...,     0     0     0]\n",
      " [ 7949  8492 10552 ...,    36     1     1]\n",
      " ..., \n",
      " [ 7949 17914 10552 ...,     0     0     0]\n",
      " [ 7949  8492     0 ...,     0     0     0]\n",
      " [10738  8492     1 ...,     0     0     0]]\n",
      "max 17914\n"
     ]
    },
    {
     "name": "stderr",
     "output_type": "stream",
     "text": [
      "\n",
      "\n",
      "\n",
      "\n",
      "  4%|▍         | 421/10000 [7:18:35<165:24:47, 62.17s/it]\u001b[A\u001b[A\u001b[A\u001b[A"
     ]
    },
    {
     "name": "stdout",
     "output_type": "stream",
     "text": [
      "predition [[10738  8492  8492 ...,     0     0     0]\n",
      " [10738     1     0 ...,     0     0     0]\n",
      " [ 7949  8492  8492 ...,    36    36     1]\n",
      " ..., \n",
      " [10738     1     1 ...,     0     0     0]\n",
      " [ 7949  8492  8492 ...,     1     0     0]\n",
      " [17496  8492    36 ...,     0     0     0]]\n",
      "max 17914\n"
     ]
    },
    {
     "name": "stderr",
     "output_type": "stream",
     "text": [
      "\n",
      "\n",
      "\n",
      "\n",
      "  4%|▍         | 422/10000 [7:19:37<165:21:47, 62.15s/it]\u001b[A\u001b[A\u001b[A\u001b[A\n",
      "\n",
      "\n",
      "\n",
      "  4%|▍         | 423/10000 [7:20:39<165:09:48, 62.09s/it]\u001b[A\u001b[A\u001b[A\u001b[A"
     ]
    },
    {
     "name": "stdout",
     "output_type": "stream",
     "text": [
      "predition [[10738  8492    36 ...,     1     0     0]\n",
      " [10738  8492     0 ...,     0     0     0]\n",
      " [17877  8492  8492 ...,     0     0     0]\n",
      " ..., \n",
      " [ 7949    36     1 ...,     0     0     0]\n",
      " [ 7949  8492 10552 ..., 16139    36    36]\n",
      " [17496     1     0 ...,     0     0     0]]\n",
      "max 17914\n"
     ]
    },
    {
     "name": "stderr",
     "output_type": "stream",
     "text": [
      "\n",
      "\n",
      "\n",
      "\n",
      "  4%|▍         | 424/10000 [7:21:41<165:07:59, 62.08s/it]\u001b[A\u001b[A\u001b[A\u001b[A\n",
      "\n",
      "\n",
      "\n",
      "  4%|▍         | 425/10000 [7:22:43<165:04:11, 62.06s/it]\u001b[A\u001b[A\u001b[A\u001b[A"
     ]
    },
    {
     "name": "stdout",
     "output_type": "stream",
     "text": [
      "predition [[10738 17914    36 ...,     0     0     0]\n",
      " [ 7949  8492     0 ...,     0     0     0]\n",
      " [ 7949  8492     0 ...,     0     0     0]\n",
      " ..., \n",
      " [17496    36    36 ...,     0     0     0]\n",
      " [ 7949 17914    36 ...,     0     0     0]\n",
      " [ 7949  7949 10552 ...,     0     0     0]]\n",
      "max 17914\n"
     ]
    },
    {
     "name": "stderr",
     "output_type": "stream",
     "text": [
      "\n",
      "\n",
      "\n",
      "\n",
      "  4%|▍         | 426/10000 [7:23:45<165:10:21, 62.11s/it]\u001b[A\u001b[A\u001b[A\u001b[A\n",
      "\n",
      "\n",
      "\n",
      "  4%|▍         | 427/10000 [7:24:47<165:08:32, 62.10s/it]\u001b[A\u001b[A\u001b[A\u001b[A"
     ]
    },
    {
     "name": "stdout",
     "output_type": "stream",
     "text": [
      "predition [[10738  8492 17914 ...,    36    36    36]\n",
      " [ 7949    36     1 ...,     0     0     0]\n",
      " [17914    36     1 ...,     0     0     0]\n",
      " ..., \n",
      " [17914  8492 10552 ...,    36    36     1]\n",
      " [10738  8492 10552 ...,     0     0     0]\n",
      " [ 7949  8492 10552 ...,    36    36    36]]\n",
      "max 17914\n"
     ]
    },
    {
     "name": "stderr",
     "output_type": "stream",
     "text": [
      "\n",
      "\n",
      "\n",
      "\n",
      "  4%|▍         | 428/10000 [7:25:49<165:02:33, 62.07s/it]\u001b[A\u001b[A\u001b[A\u001b[A\n",
      "\n",
      "\n",
      "\n",
      "  4%|▍         | 429/10000 [7:26:51<165:00:54, 62.07s/it]\u001b[A\u001b[A\u001b[A\u001b[A"
     ]
    },
    {
     "name": "stdout",
     "output_type": "stream",
     "text": [
      "predition [[10738  8492 17914 ...,    36     1     1]\n",
      " [ 7949  7949     0 ...,     0     0     0]\n",
      " [ 7949     1     0 ...,     0     0     0]\n",
      " ..., \n",
      " [17914 17914    36 ...,     0     0     0]\n",
      " [10738     1    36 ...,     0     0     0]\n",
      " [ 7949    36 10552 ..., 17914    36    36]]\n",
      "max 17914\n"
     ]
    },
    {
     "name": "stderr",
     "output_type": "stream",
     "text": [
      "\n",
      "\n",
      "\n",
      "\n",
      "  4%|▍         | 430/10000 [7:27:53<165:07:21, 62.12s/it]\u001b[A\u001b[A\u001b[A\u001b[A\n",
      "\n",
      "\n",
      "\n",
      "  4%|▍         | 431/10000 [7:28:56<165:02:46, 62.09s/it]\u001b[A\u001b[A\u001b[A\u001b[A"
     ]
    },
    {
     "name": "stdout",
     "output_type": "stream",
     "text": [
      "predition [[10738  8492  8492 ...,    36    36     1]\n",
      " [ 7949     1     0 ...,     0     0     0]\n",
      " [ 7949  8492 17914 ...,     0     0     0]\n",
      " ..., \n",
      " [ 7949  8492 10552 ...,    36    36     0]\n",
      " [10738  8492  8492 ...,     0     0     0]\n",
      " [17496     1     1 ...,     0     0     0]]\n",
      "max 17914\n"
     ]
    },
    {
     "name": "stderr",
     "output_type": "stream",
     "text": [
      "\n",
      "\n",
      "\n",
      "\n",
      "  4%|▍         | 432/10000 [7:29:58<165:05:23, 62.12s/it]\u001b[A\u001b[A\u001b[A\u001b[A\n",
      "\n",
      "\n",
      "\n",
      "  4%|▍         | 433/10000 [7:31:00<165:04:33, 62.12s/it]\u001b[A\u001b[A\u001b[A\u001b[A"
     ]
    },
    {
     "name": "stdout",
     "output_type": "stream",
     "text": [
      "predition [[ 7949  8492 10552 ...,    36    36    36]\n",
      " [17496     1     0 ...,     0     0     0]\n",
      " [10738  8492     1 ...,     0     0     0]\n",
      " ..., \n",
      " [ 7949  8492 10552 ...,     0     0     0]\n",
      " [ 7949  8492 10552 ...,    36    36     1]\n",
      " [   36     1     0 ...,     0     0     0]]\n",
      "max 17914\n"
     ]
    },
    {
     "name": "stderr",
     "output_type": "stream",
     "text": [
      "\n",
      "\n",
      "\n",
      "\n",
      "  4%|▍         | 434/10000 [7:32:02<165:07:29, 62.14s/it]\u001b[A\u001b[A\u001b[A\u001b[A\n",
      "\n",
      "\n",
      "\n",
      "  4%|▍         | 435/10000 [7:33:04<164:54:31, 62.07s/it]\u001b[A\u001b[A\u001b[A\u001b[A"
     ]
    },
    {
     "name": "stdout",
     "output_type": "stream",
     "text": [
      "predition [[10738  8492  8492 ...,     0     0     0]\n",
      " [17877     1     1 ...,     0     0     0]\n",
      " [ 7949  8492  8492 ...,     0     0     0]\n",
      " ..., \n",
      " [ 7949  7949    36 ...,     1     0     0]\n",
      " [17461  8492  8492 ...,     0     0     0]\n",
      " [10738  7949 10552 ...,    36    36     0]]\n",
      "max 17914\n"
     ]
    },
    {
     "name": "stderr",
     "output_type": "stream",
     "text": [
      "\n",
      "\n",
      "\n",
      "\n",
      "  4%|▍         | 436/10000 [7:34:06<165:00:15, 62.11s/it]\u001b[A\u001b[A\u001b[A\u001b[A"
     ]
    },
    {
     "name": "stdout",
     "output_type": "stream",
     "text": [
      "predition [[ 7949    36     0 ...,     0     0     0]\n",
      " [ 7949  7949 10552 ...,     0     0     0]\n",
      " [10738 17914  8492 ...,     1     0     0]\n",
      " ..., \n",
      " [17914  8492     1 ...,     0     0     0]\n",
      " [ 7949  7949 10552 ...,    36     0     0]\n",
      " [17877    36     1 ...,     0     0     0]]\n",
      "max 17914\n"
     ]
    },
    {
     "name": "stderr",
     "output_type": "stream",
     "text": [
      "\n",
      "\n",
      "\n",
      "\n",
      "  4%|▍         | 437/10000 [7:35:08<165:09:02, 62.17s/it]\u001b[A\u001b[A\u001b[A\u001b[A\n",
      "\n",
      "\n",
      "\n",
      "  4%|▍         | 438/10000 [7:36:11<165:06:20, 62.16s/it]\u001b[A\u001b[A\u001b[A\u001b[A"
     ]
    },
    {
     "name": "stdout",
     "output_type": "stream",
     "text": [
      "predition [[ 7949 17914 10552 ...,     0     0     0]\n",
      " [10738     1 17914 ...,     0     0     0]\n",
      " [17914 17914 10552 ...,     0     0     0]\n",
      " ..., \n",
      " [10738  8492  8492 ...,     0     0     0]\n",
      " [ 7949  8492     0 ...,     0     0     0]\n",
      " [ 7949  7949 10552 ...,    36    36     1]]\n",
      "max 17914\n"
     ]
    },
    {
     "name": "stderr",
     "output_type": "stream",
     "text": [
      "\n",
      "\n",
      "\n",
      "\n",
      "  4%|▍         | 439/10000 [7:37:13<165:13:07, 62.21s/it]\u001b[A\u001b[A\u001b[A\u001b[A\n",
      "\n",
      "\n",
      "\n",
      "  4%|▍         | 440/10000 [7:38:15<165:04:11, 62.16s/it]\u001b[A\u001b[A\u001b[A\u001b[A"
     ]
    },
    {
     "name": "stdout",
     "output_type": "stream",
     "text": [
      "predition [[ 7949    36     1 ...,     0     0     0]\n",
      " [ 7949  8492 10552 ...,     1     0     0]\n",
      " [10738    36 17914 ...,     0     0     0]\n",
      " ..., \n",
      " [10738  8492 17914 ...,    36    36     1]\n",
      " [ 7949  7949 10552 ..., 15868    36    36]\n",
      " [ 7949  8492 17914 ...,     0     0     0]]\n",
      "max 17914\n"
     ]
    },
    {
     "name": "stderr",
     "output_type": "stream",
     "text": [
      "\n",
      "\n",
      "\n",
      "\n",
      "  4%|▍         | 441/10000 [7:39:17<165:07:11, 62.19s/it]\u001b[A\u001b[A\u001b[A\u001b[A\n",
      "\n",
      "\n",
      "\n",
      "  4%|▍         | 442/10000 [7:40:19<165:06:25, 62.19s/it]\u001b[A\u001b[A\u001b[A\u001b[A"
     ]
    },
    {
     "name": "stdout",
     "output_type": "stream",
     "text": [
      "predition [[ 7949    36    36 ...,     0     0     0]\n",
      " [10738  8492    36 ...,     0     0     0]\n",
      " [ 7949  8492  8492 ...,     0     0     0]\n",
      " ..., \n",
      " [10738  8492 17914 ...,     0     0     0]\n",
      " [ 7949    36     0 ...,     0     0     0]\n",
      " [10738  8492     1 ...,     0     0     0]]\n",
      "max 17914\n"
     ]
    },
    {
     "name": "stderr",
     "output_type": "stream",
     "text": [
      "\n",
      "\n",
      "\n",
      "\n",
      "  4%|▍         | 443/10000 [7:41:22<165:13:40, 62.24s/it]\u001b[A\u001b[A\u001b[A\u001b[A\n",
      "\n",
      "\n",
      "\n",
      "  4%|▍         | 444/10000 [7:42:24<165:11:29, 62.23s/it]\u001b[A\u001b[A\u001b[A\u001b[A"
     ]
    },
    {
     "name": "stdout",
     "output_type": "stream",
     "text": [
      "predition [[ 7949  7949  7949 ...,     0     0     0]\n",
      " [10738  8492  8492 ...,     1     1     0]\n",
      " [10738     1     0 ...,     0     0     0]\n",
      " ..., \n",
      " [17461  8492 10552 ...,    36     0     0]\n",
      " [ 7949  8492 10552 ...,     0     0     0]\n",
      " [10738     1     0 ...,     0     0     0]]\n",
      "max 17914\n"
     ]
    },
    {
     "name": "stderr",
     "output_type": "stream",
     "text": [
      "\n",
      "\n",
      "\n",
      "\n",
      "  4%|▍         | 445/10000 [7:43:26<165:14:13, 62.26s/it]\u001b[A\u001b[A\u001b[A\u001b[A\n",
      "\n",
      "\n",
      "\n",
      "  4%|▍         | 446/10000 [7:44:28<165:10:55, 62.24s/it]\u001b[A\u001b[A\u001b[A\u001b[A"
     ]
    },
    {
     "name": "stdout",
     "output_type": "stream",
     "text": [
      "predition [[17496  8492    36 ...,     0     0     0]\n",
      " [ 7949  8492 10552 ...,     0     0     0]\n",
      " [ 7949    36     1 ...,     0     0     0]\n",
      " ..., \n",
      " [10738    36     0 ...,     0     0     0]\n",
      " [ 7949  8492 10552 ...,     0     0     0]\n",
      " [ 7949  7949 10552 ...,    36    36     0]]\n",
      "max 17914\n"
     ]
    },
    {
     "name": "stderr",
     "output_type": "stream",
     "text": [
      "\n",
      "\n",
      "\n",
      "\n",
      "  4%|▍         | 447/10000 [7:45:31<165:07:58, 62.23s/it]\u001b[A\u001b[A\u001b[A\u001b[A\n",
      "\n",
      "\n",
      "\n",
      "  4%|▍         | 448/10000 [7:46:33<165:08:36, 62.24s/it]\u001b[A\u001b[A\u001b[A\u001b[A"
     ]
    },
    {
     "name": "stdout",
     "output_type": "stream",
     "text": [
      "predition [[17496    36     1 ...,     0     0     0]\n",
      " [ 7949  8492  8492 ...,     0     0     0]\n",
      " [ 7949  7949  8492 ...,     0     0     0]\n",
      " ..., \n",
      " [10738    36     1 ...,     0     0     0]\n",
      " [ 7949  7949 10552 ...,    36    36     0]\n",
      " [ 7949     1     0 ...,     0     0     0]]\n",
      "max 17914\n"
     ]
    },
    {
     "name": "stderr",
     "output_type": "stream",
     "text": [
      "\n",
      "\n",
      "\n",
      "\n",
      "  4%|▍         | 449/10000 [7:47:35<165:17:13, 62.30s/it]\u001b[A\u001b[A\u001b[A\u001b[A"
     ]
    },
    {
     "name": "stdout",
     "output_type": "stream",
     "text": [
      "predition [[ 7949  8492     1 ...,     0     0     0]\n",
      " [ 7949  8492     1 ...,     0     0     0]\n",
      " [17395     1     0 ...,     0     0     0]\n",
      " ..., \n",
      " [ 7949  8492     1 ...,     0     0     0]\n",
      " [10738  7949  8492 ...,     0     0     0]\n",
      " [17914  8492    36 ...,     0     0     0]]\n",
      "max 17914\n"
     ]
    },
    {
     "name": "stderr",
     "output_type": "stream",
     "text": [
      "\n",
      "\n",
      "\n",
      "\n",
      "  4%|▍         | 450/10000 [7:48:38<165:13:18, 62.28s/it]\u001b[A\u001b[A\u001b[A\u001b[A\n",
      "\n",
      "\n",
      "\n",
      "  5%|▍         | 451/10000 [7:49:40<165:12:08, 62.28s/it]\u001b[A\u001b[A\u001b[A\u001b[A"
     ]
    },
    {
     "name": "stdout",
     "output_type": "stream",
     "text": [
      "predition [[10738  8492 10552 ..., 15868 15868     0]\n",
      " [ 7949  8492  8492 ...,     0     0     0]\n",
      " [ 7949 17914 10552 ...,     0     0     0]\n",
      " ..., \n",
      " [17496  8492     0 ...,     0     0     0]\n",
      " [10738  8492 17914 ...,     0     0     0]\n",
      " [17496  8492 17914 ...,     0     0     0]]\n",
      "max 17914\n"
     ]
    },
    {
     "name": "stderr",
     "output_type": "stream",
     "text": [
      "\n",
      "\n",
      "\n",
      "\n",
      "  5%|▍         | 452/10000 [7:50:42<165:16:57, 62.32s/it]\u001b[A\u001b[A\u001b[A\u001b[A\n",
      "\n",
      "\n",
      "\n",
      "  5%|▍         | 453/10000 [7:51:45<165:13:12, 62.30s/it]\u001b[A\u001b[A\u001b[A\u001b[A"
     ]
    },
    {
     "name": "stdout",
     "output_type": "stream",
     "text": [
      "predition [[17496  8492    36 ...,     0     0     0]\n",
      " [10738 17914 17914 ...,     0     0     0]\n",
      " [ 7949  7949  7949 ...,    36     1     0]\n",
      " ..., \n",
      " [ 7949  8492     1 ...,     0     0     0]\n",
      " [ 7949  7949 10552 ...,    36    36    36]\n",
      " [ 7949  8492  8492 ...,     0     0     0]]\n",
      "max 17914\n"
     ]
    },
    {
     "name": "stderr",
     "output_type": "stream",
     "text": [
      "\n",
      "\n",
      "\n",
      "\n",
      "  5%|▍         | 454/10000 [7:52:47<165:15:33, 62.32s/it]\u001b[A\u001b[A\u001b[A\u001b[A\n",
      "\n",
      "\n",
      "\n",
      "  5%|▍         | 455/10000 [7:53:49<165:11:55, 62.31s/it]\u001b[A\u001b[A\u001b[A\u001b[A"
     ]
    },
    {
     "name": "stdout",
     "output_type": "stream",
     "text": [
      "predition [[17877     1     0 ...,     0     0     0]\n",
      " [   36     1     1 ...,     0     0     0]\n",
      " [17914 17914    36 ...,     0     0     0]\n",
      " ..., \n",
      " [17914 17914    36 ...,     0     0     0]\n",
      " [ 7949     1     0 ...,     0     0     0]\n",
      " [17395     1     1 ...,     0     0     0]]\n",
      "max 17914\n"
     ]
    },
    {
     "name": "stderr",
     "output_type": "stream",
     "text": [
      "\n",
      "\n",
      "\n",
      "\n",
      "  5%|▍         | 456/10000 [7:54:52<165:15:58, 62.34s/it]\u001b[A\u001b[A\u001b[A\u001b[A\n",
      "\n",
      "\n",
      "\n",
      "  5%|▍         | 457/10000 [7:55:54<165:14:06, 62.33s/it]\u001b[A\u001b[A\u001b[A\u001b[A"
     ]
    },
    {
     "name": "stdout",
     "output_type": "stream",
     "text": [
      "predition [[ 7949  7949 10552 ...,    36     1     0]\n",
      " [10738    36    36 ..., 17914    36    36]\n",
      " [17496  8492 15868 ...,     0     0     0]\n",
      " ..., \n",
      " [ 7949  8492  8492 ..., 17914    36    36]\n",
      " [10738  8492  8492 ..., 15868 15868 15868]\n",
      " [ 7949  8492     0 ...,     0     0     0]]\n",
      "max 17914\n"
     ]
    },
    {
     "name": "stderr",
     "output_type": "stream",
     "text": [
      "\n",
      "\n",
      "\n",
      "\n",
      "  5%|▍         | 458/10000 [7:56:56<165:10:51, 62.32s/it]\u001b[A\u001b[A\u001b[A\u001b[A\n",
      "\n",
      "\n",
      "\n",
      "  5%|▍         | 459/10000 [7:57:59<165:10:53, 62.33s/it]\u001b[A\u001b[A\u001b[A\u001b[A"
     ]
    },
    {
     "name": "stdout",
     "output_type": "stream",
     "text": [
      "predition [[17496     1     0 ...,     0     0     0]\n",
      " [17496     1     0 ...,     0     0     0]\n",
      " [17496     1     1 ...,     0     0     0]\n",
      " ..., \n",
      " [10738  8492  8492 ...,     0     0     0]\n",
      " [10738    36    36 ..., 17914 17914     0]\n",
      " [ 7949  8492 10552 ...,     0     0     0]]\n",
      "max 17914\n"
     ]
    },
    {
     "name": "stderr",
     "output_type": "stream",
     "text": [
      "\n",
      "\n",
      "\n",
      "\n",
      "  5%|▍         | 460/10000 [7:59:01<165:17:37, 62.38s/it]\u001b[A\u001b[A\u001b[A\u001b[A\n",
      "\n",
      "\n",
      "\n",
      "  5%|▍         | 461/10000 [8:00:03<165:11:08, 62.34s/it]\u001b[A\u001b[A\u001b[A\u001b[A"
     ]
    },
    {
     "name": "stdout",
     "output_type": "stream",
     "text": [
      "predition [[ 7949     1     0 ...,     0     0     0]\n",
      " [17877    36    36 ...,     0     0     0]\n",
      " [ 7949  8492 10552 ...,    36    36    36]\n",
      " ..., \n",
      " [10738    36     1 ...,     0     0     0]\n",
      " [10738  8492  8492 ...,     0     0     0]\n",
      " [ 7949    36    36 ...,     0     0     0]]\n",
      "max 17914\n"
     ]
    },
    {
     "name": "stderr",
     "output_type": "stream",
     "text": [
      "\n",
      "\n",
      "\n",
      "\n",
      "  5%|▍         | 462/10000 [8:01:06<165:13:34, 62.36s/it]\u001b[A\u001b[A\u001b[A\u001b[A"
     ]
    },
    {
     "name": "stdout",
     "output_type": "stream",
     "text": [
      "predition [[17496     1     0 ...,     0     0     0]\n",
      " [ 7949  8492 10552 ..., 16139    36    36]\n",
      " [ 7949     1 17914 ...,     0     0     0]\n",
      " ..., \n",
      " [17496  8492 17914 ...,     0     0     0]\n",
      " [ 7949  8492     1 ...,     0     0     0]\n",
      " [17914 17914    36 ...,     0     0     0]]\n",
      "max 17914\n"
     ]
    },
    {
     "name": "stderr",
     "output_type": "stream",
     "text": [
      "\n",
      "\n",
      "\n",
      "\n",
      "  5%|▍         | 463/10000 [8:02:08<165:06:18, 62.32s/it]\u001b[A\u001b[A\u001b[A\u001b[A\n",
      "\n",
      "\n",
      "\n",
      "  5%|▍         | 464/10000 [8:03:10<165:00:35, 62.29s/it]\u001b[A\u001b[A\u001b[A\u001b[A"
     ]
    },
    {
     "name": "stdout",
     "output_type": "stream",
     "text": [
      "predition [[ 7949  8492 17914 ...,     0     0     0]\n",
      " [10738    36    36 ...,     0     0     0]\n",
      " [ 7949  7949 10552 ...,     0     0     0]\n",
      " ..., \n",
      " [10738 17914 17914 ...,     0     0     0]\n",
      " [10738 17914 17914 ...,     0     0     0]\n",
      " [10738  8492 17914 ...,     0     0     0]]\n",
      "max 17914\n"
     ]
    },
    {
     "name": "stderr",
     "output_type": "stream",
     "text": [
      "\n",
      "\n",
      "\n",
      "\n",
      "  5%|▍         | 465/10000 [8:04:13<165:00:29, 62.30s/it]\u001b[A\u001b[A\u001b[A\u001b[A\n",
      "\n",
      "\n",
      "\n",
      "  5%|▍         | 466/10000 [8:05:15<164:58:54, 62.30s/it]\u001b[A\u001b[A\u001b[A\u001b[A"
     ]
    },
    {
     "name": "stdout",
     "output_type": "stream",
     "text": [
      "predition [[ 7949  8492 10552 ...,     0     0     0]\n",
      " [ 7949 17914    36 ...,    36    36     1]\n",
      " [ 7949 17914 17914 ...,    36    36     1]\n",
      " ..., \n",
      " [10738  8492  8492 ...,     0     0     0]\n",
      " [10738  8492     1 ...,     0     0     0]\n",
      " [ 7949  8492    36 ...,     0     0     0]]\n",
      "max 17914\n"
     ]
    },
    {
     "name": "stderr",
     "output_type": "stream",
     "text": [
      "\n",
      "\n",
      "\n",
      "\n",
      "  5%|▍         | 467/10000 [8:06:17<165:08:23, 62.36s/it]\u001b[A\u001b[A\u001b[A\u001b[A\n",
      "\n",
      "\n",
      "\n",
      "  5%|▍         | 468/10000 [8:07:20<165:04:54, 62.35s/it]\u001b[A\u001b[A\u001b[A\u001b[A"
     ]
    },
    {
     "name": "stdout",
     "output_type": "stream",
     "text": [
      "predition [[ 7949  8492     0 ...,     0     0     0]\n",
      " [ 7949 17914 17914 ...,     0     0     0]\n",
      " [ 7949    36     0 ...,     0     0     0]\n",
      " ..., \n",
      " [ 7949  8492  8492 ..., 16139     0     0]\n",
      " [10738  8492    36 ...,     0     0     0]\n",
      " [10738    36     1 ...,     0     0     0]]\n",
      "max 17914\n"
     ]
    },
    {
     "name": "stderr",
     "output_type": "stream",
     "text": [
      "\n",
      "\n",
      "\n",
      "\n",
      "  5%|▍         | 469/10000 [8:08:22<165:01:02, 62.33s/it]\u001b[A\u001b[A\u001b[A\u001b[A\n",
      "\n",
      "\n",
      "\n",
      "  5%|▍         | 470/10000 [8:09:24<164:51:07, 62.27s/it]\u001b[A\u001b[A\u001b[A\u001b[A"
     ]
    },
    {
     "name": "stdout",
     "output_type": "stream",
     "text": [
      "predition [[17395  8492 10552 ...,     0     0     0]\n",
      " [10738    36    36 ...,     0     0     0]\n",
      " [10738  7949  7949 ...,     0     0     0]\n",
      " ..., \n",
      " [ 7949    36     1 ...,     0     0     0]\n",
      " [ 7949  8492 10552 ...,    36    36     1]\n",
      " [ 7949  8492  8492 ...,     1     0     0]]\n",
      "max 17914\n"
     ]
    },
    {
     "name": "stderr",
     "output_type": "stream",
     "text": [
      "\n",
      "\n",
      "\n",
      "\n",
      "  5%|▍         | 471/10000 [8:10:26<164:48:27, 62.26s/it]\u001b[A\u001b[A\u001b[A\u001b[A\n",
      "\n",
      "\n",
      "\n",
      "  5%|▍         | 472/10000 [8:11:29<164:46:54, 62.26s/it]\u001b[A\u001b[A\u001b[A\u001b[A"
     ]
    },
    {
     "name": "stdout",
     "output_type": "stream",
     "text": [
      "predition [[10738  8492  8492 ..., 15868 15868    36]\n",
      " [17496  8492  8509 ...,     0     0     0]\n",
      " [ 7949  8492 10552 ...,     0     0     0]\n",
      " ..., \n",
      " [17914  8492    36 ...,     0     0     0]\n",
      " [10738  8492  8492 ...,     1     0     0]\n",
      " [ 7949  7949 10552 ..., 15868    36    36]]\n",
      "max 17914\n"
     ]
    },
    {
     "name": "stderr",
     "output_type": "stream",
     "text": [
      "\n",
      "\n",
      "\n",
      "\n",
      "  5%|▍         | 473/10000 [8:12:31<164:49:55, 62.29s/it]\u001b[A\u001b[A\u001b[A\u001b[A\n",
      "\n",
      "\n",
      "\n",
      "  5%|▍         | 474/10000 [8:13:33<164:44:31, 62.26s/it]\u001b[A\u001b[A\u001b[A\u001b[A"
     ]
    },
    {
     "name": "stdout",
     "output_type": "stream",
     "text": [
      "predition [[17496  8492    36 ...,     0     0     0]\n",
      " [10738     1     0 ...,     0     0     0]\n",
      " [ 7949  8492 10552 ...,  8492    36    36]\n",
      " ..., \n",
      " [ 7949     1     0 ...,     0     0     0]\n",
      " [17496  8492    36 ...,     0     0     0]\n",
      " [ 7949  7949 10552 ...,     0     0     0]]\n",
      "max 17914\n"
     ]
    },
    {
     "name": "stderr",
     "output_type": "stream",
     "text": [
      "\n",
      "\n",
      "\n",
      "\n",
      "  5%|▍         | 475/10000 [8:14:35<164:37:59, 62.22s/it]\u001b[A\u001b[A\u001b[A\u001b[A"
     ]
    },
    {
     "name": "stdout",
     "output_type": "stream",
     "text": [
      "predition [[ 7949    36    36 ...,     0     0     0]\n",
      " [17496     1     1 ...,     0     0     0]\n",
      " [10738     1     1 ...,     0     0     0]\n",
      " ..., \n",
      " [17496     1     1 ...,     0     0     0]\n",
      " [17496    36     1 ...,     0     0     0]\n",
      " [ 7949     1     0 ...,     0     0     0]]\n",
      "max 17914\n"
     ]
    },
    {
     "name": "stderr",
     "output_type": "stream",
     "text": [
      "\n",
      "\n",
      "\n",
      "\n",
      "  5%|▍         | 476/10000 [8:15:37<164:26:11, 62.16s/it]\u001b[A\u001b[A\u001b[A\u001b[A\n",
      "\n",
      "\n",
      "\n",
      "  5%|▍         | 477/10000 [8:16:39<164:17:46, 62.11s/it]\u001b[A\u001b[A\u001b[A\u001b[A"
     ]
    },
    {
     "name": "stdout",
     "output_type": "stream",
     "text": [
      "predition [[17496  8492  8492 ...,     0     0     0]\n",
      " [ 7949  7949 10552 ...,    36    36     1]\n",
      " [17496     1     0 ...,     0     0     0]\n",
      " ..., \n",
      " [ 7949    36     1 ...,     0     0     0]\n",
      " [17496    36    36 ...,     0     0     0]\n",
      " [ 7949  7949 10552 ...,    36     0     0]]\n",
      "max 17914\n"
     ]
    },
    {
     "name": "stderr",
     "output_type": "stream",
     "text": [
      "\n",
      "\n",
      "\n",
      "\n",
      "  5%|▍         | 478/10000 [8:17:41<164:14:55, 62.10s/it]\u001b[A\u001b[A\u001b[A\u001b[A\n",
      "\n",
      "\n",
      "\n",
      "  5%|▍         | 479/10000 [8:18:43<164:08:10, 62.06s/it]\u001b[A\u001b[A\u001b[A\u001b[A"
     ]
    },
    {
     "name": "stdout",
     "output_type": "stream",
     "text": [
      "predition [[ 7949  8492 10552 ...,     0     0     0]\n",
      " [ 7949   899 10552 ...,     0     0     0]\n",
      " [ 7949  8492  8492 ..., 15868 15868 15868]\n",
      " ..., \n",
      " [17496  8492  8509 ...,     0     0     0]\n",
      " [17496     1     0 ...,     0     0     0]\n",
      " [10738  8492     1 ...,     0     0     0]]\n",
      "max 17914\n"
     ]
    },
    {
     "name": "stderr",
     "output_type": "stream",
     "text": [
      "\n",
      "\n",
      "\n",
      "\n",
      "  5%|▍         | 480/10000 [8:19:45<164:13:23, 62.10s/it]\u001b[A\u001b[A\u001b[A\u001b[A\n",
      "\n",
      "\n",
      "\n",
      "  5%|▍         | 481/10000 [8:20:47<164:01:44, 62.03s/it]\u001b[A\u001b[A\u001b[A\u001b[A"
     ]
    },
    {
     "name": "stdout",
     "output_type": "stream",
     "text": [
      "predition [[ 7949  8492    36 ...,     0     0     0]\n",
      " [17914 17914     1 ...,     0     0     0]\n",
      " [ 7949  7949 10552 ..., 16139    36    36]\n",
      " ..., \n",
      " [17496    36 17914 ...,     0     0     0]\n",
      " [ 7949  8492    36 ...,     0     0     0]\n",
      " [ 7949    36    36 ...,     0     0     0]]\n",
      "max 17914\n"
     ]
    },
    {
     "name": "stderr",
     "output_type": "stream",
     "text": [
      "\n",
      "\n",
      "\n",
      "\n",
      "  5%|▍         | 482/10000 [8:21:50<164:14:02, 62.12s/it]\u001b[A\u001b[A\u001b[A\u001b[A\n",
      "\n",
      "\n",
      "\n",
      "  5%|▍         | 483/10000 [8:22:51<163:52:36, 61.99s/it]\u001b[A\u001b[A\u001b[A\u001b[A"
     ]
    },
    {
     "name": "stdout",
     "output_type": "stream",
     "text": [
      "predition [[ 7949  8492 10552 ...,     0     0     0]\n",
      " [17877    36 17914 ...,     0     0     0]\n",
      " [17496     1     0 ...,     0     0     0]\n",
      " ..., \n",
      " [ 7949  8492 10552 ...,     0     0     0]\n",
      " [17496  8492  8492 ...,     0     0     0]\n",
      " [ 7949     1 10552 ...,     0     0     0]]\n",
      "max 17914\n"
     ]
    },
    {
     "name": "stderr",
     "output_type": "stream",
     "text": [
      "\n",
      "\n",
      "\n",
      "\n",
      "  5%|▍         | 484/10000 [8:23:53<163:45:11, 61.95s/it]\u001b[A\u001b[A\u001b[A\u001b[A\n",
      "\n",
      "\n",
      "\n",
      "  5%|▍         | 485/10000 [8:24:55<163:54:46, 62.02s/it]\u001b[A\u001b[A\u001b[A\u001b[A"
     ]
    },
    {
     "name": "stdout",
     "output_type": "stream",
     "text": [
      "predition [[17877     1     0 ...,     0     0     0]\n",
      " [ 7949  8492     0 ...,     0     0     0]\n",
      " [ 7949  8492  8492 ...,    36    36     0]\n",
      " ..., \n",
      " [17496     1     0 ...,     0     0     0]\n",
      " [ 7949    36 17914 ...,     0     0     0]\n",
      " [ 7949  8492     0 ...,     0     0     0]]\n",
      "max 17914\n"
     ]
    }
   ],
   "source": [
    "import tensorflow as tf\n",
    "import numpy as np\n",
    "\n",
    "\n",
    "conf = {\n",
    "        \"learning_rate\": .5,\n",
    "        \"learning_rate_minimum\": 1e-3,\n",
    "        \"learning_rate_decay\": 0.99,\n",
    "        \"learning_rate_decay_step\": 1,\n",
    "        \"batch_size\": 128,\n",
    "        \"model_dir\": \"./logs\",\n",
    "        \"load_file_path\": None,\n",
    "        \"save_file_path\": None,\n",
    "        \"log_freq\": 1,\n",
    "        \"optimizer\":\"gd\",\n",
    "        \"model\":[{\"name\":\"lstm\", \"num_units\":512},\n",
    "                {\"name\":\"lstm\", \"num_units\":512},],\n",
    "        # \"model\":[{\"name\":\"lstm\", \"num_units\":500},\n",
    "        #         {\"name\":\"lstm\", \"num_units\":500}],\n",
    "        \"attention_size\": 512\n",
    "}\n",
    "\n",
    "tf.reset_default_graph()\n",
    "agent = DialogueAgent(processor, maxlen=10, conf=conf, additional_length=3, is_attention=False)\n",
    "\n",
    "train_X = processor.data[:-1]\n",
    "train_y = processor.data[1:]\n",
    "agent.fit(train_X, train_y, num_epochs=10000, batch_bar=False, log_freq=1, batch_log_freq=100)"
   ]
  },
  {
   "cell_type": "code",
   "execution_count": 94,
   "metadata": {},
   "outputs": [
    {
     "name": "stdout",
     "output_type": "stream",
     "text": [
      "[[ 7949     1     1 ...,     0     0     0]\n",
      " [ 7949  8492     1 ...,     0     0     0]\n",
      " [   36    36     1 ...,     0     0     0]\n",
      " ..., \n",
      " [ 7949  8492  8492 ...,     0     0     0]\n",
      " [ 7949  8492 10552 ...,     1     0     0]\n",
      " [ 7949  7949  7949 ...,    36    36    36]]\n"
     ]
    }
   ],
   "source": [
    "prediction, logits = agent.generate_sentences(texts[:1000])"
   ]
  },
  {
   "cell_type": "code",
   "execution_count": 95,
   "metadata": {},
   "outputs": [
    {
     "name": "stdout",
     "output_type": "stream",
     "text": [
      "[['i'], ['i', 'is'], ['.', '.'], ['i', '.', '.'], ['what'], ['i'], ['i', 'is', 'is', 'is', 'is', 'the', 'the', '.', '.'], ['i', 'is', 'not', '.', '.', '.', '.', '.'], ['i', '.', 'you', 'you', '.', '.', '.', '.', '.', '.'], ['you', 'you'], ['i', 'is', 'is', '.', '.', '.', '.'], ['what'], ['i'], ['i', '.'], ['i', 'is'], ['i', 'is'], ['oh', 'is'], ['what', '.'], ['oh', 'is', '.'], ['.', '.', '.', '.'], ['i'], ['you', 'is', 'is'], ['hey'], ['i', 'is'], ['oh'], ['oh', '.'], ['i', 'i', 'i'], ['i', 'is', 'is'], ['i', 'i', '.'], ['i', '.', '.'], ['oh', 'is', 'you'], ['i', 'is'], ['i', 'is'], ['what'], ['oh'], ['i', 'is', 'not', 'you', '.', 'the', 'the', 'you', 'the', 'the', '.', '.', '.'], ['.'], ['i', 'is', 'is', 'is', '.', '.'], ['i', '.', '.'], ['oh', 'is', 'you', '.'], ['i', '.', '.'], ['what'], ['i', '.', '.'], ['oh', 'is', 'you', '.', '.', '.'], ['oh', 'is', '.', 'is', 'is', 'you', 'you', 'you', '.', '.'], ['i', 'i', 'you', 'you', 'you', '.'], ['oh', '.', 'you', '.', '.'], ['oh', '.'], ['i', '.', '.', '.'], ['i', '.', 'not'], ['oh', '.', 'you', 'you', 'you', '.', '.', '.'], ['i', 'is', 'is', 'is', '.', '.', 'the', 'is', 'the', 'the', '.', '.'], ['oh', 'is'], ['oh', 'is', '.'], ['well', 'you', 'you', 'you'], ['oh', 'is', 'is', '.', '.', '.', 'you', 'you', 'to', '.', '.', '.'], ['oh', 'is', 'you', 'is', '.'], ['i', '.'], ['i', 'is', 'you'], ['oh', 'is', 'you'], ['i', 'is', 'not'], ['what'], ['i', 'is', 'you'], ['you', 'is', '.'], ['i', '.', '.'], ['hey'], ['hey', '.'], ['i', 'is'], ['i', '.', '.'], ['what'], ['i', 'is'], ['oh', '.', '.', '.', '.'], ['i', '.'], ['i', 'i', 'you', '.', '.'], ['i', 'am', 'not', '.', '.'], ['i'], ['i', 'is', 'not'], ['oh', '.', 'i', 'you', '.', '.'], ['i', 'is', 'not', 'is', '.', '.', '.', '.'], ['oh', 'is', 'is', '.'], ['you', 'is', 'is'], ['i', 'is'], ['you', 'is', 'is'], ['you', 'is', 'is'], ['i', 'is', 'not'], ['i', '.', '.', '.'], ['oh'], ['i', 'i'], ['oh'], ['i', 'is', 'not', '.', '.', '.', '.'], ['i', 'is', 'not', 'you', 'you', 'is', 'to', 'you', '.', '.'], ['oh', 'is', 'is', 'is', '.'], ['what', 'is', 'is', 'is', '.', '.', 'is', '.', '.', '.'], ['what'], ['hey'], ['i', '.', '.', '.'], ['oh', 'is', 'is', 'is', 'you', '.'], ['i', 'i', 'not'], ['i', 'i', 'i', 'not', '.', '.', 'i', 'i', '.', '.', '.', '.'], ['oh', '.', '.', '.'], ['i', '.', 'i'], ['yeah'], ['i', '.'], ['i', 'is', 'not'], ['i', 'i', 'not', '.', '.', '.', 'the', 'to', 'to', '.', '.', '.'], ['what'], ['you', 'is', 'you'], ['oh'], ['you', 'is', 'is'], ['i', 'is', 'is'], ['i', 'i', '.'], ['i', 'is', 'is'], ['i', 'is', 'is'], ['i', 'is', 'is', '.', '.', '.', '.', '.', 'the', 'to', 'the', '.'], ['i'], ['what'], ['oh'], ['oh', 'is'], ['i', 'i', 'not', 'not', '.', '.', '.', '.', '.', '.', '.', '.', '.'], ['what', 'is', 'is', '.'], ['i', 'is'], ['oh', 'is', 'is', 'is', '.', '.'], ['i', 'is', 'not'], ['i', 'is', 'not', 'i', '.', '.', '.', '.', '.', 'the', 'the', 'the', '.'], ['what'], ['i', 'is'], ['what'], ['oh'], ['what'], ['oh'], ['i', 'am', 'not', '.', '.'], ['i', 'i', 'you', 'you', '.', '.', '.'], ['i', 'is', 'not'], ['i', 'is', 'not', 'is', '.'], ['i', 'is', 'not'], ['i', 'is', 'not'], ['oh', 'is', 'is', 'is', '.'], ['i', 'is'], ['oh', 'is', 'is', 'is', '.', '.'], ['i', 'is', 'is', 'is', 'you', 'is', 'the', '.', '.', '.'], ['oh'], ['you', 'is'], ['i', 'is'], ['i', 'is', '.'], ['i', 'you', 'you', 'you', '.'], ['what'], ['.', '.'], ['i', 'i', 'is', '.', '.', '.', '.', '.', '.', '.', '.'], ['i', 'is', 'is', '.', '.', '.', '.', '.', 'to', 'to', 'to', '.', '.'], ['oh', '.', '.', '.', '.', '.'], ['oh', 'is', '.', '.'], ['i', 'is', 'you', 'you', 'you', '.', '.'], ['i', 'i', '.', '.', '.', '.'], ['i', 'i', 'is', 'you', 'you', 'you', 'you', '.'], ['i', 'is'], ['i', '.'], ['i', '.', '.', '.'], ['oh', 'is', 'you', 'you', '.'], ['i', 'is', 'not', '.', '.'], ['i', 'i', 'you', '.', '.', '.', '.', 'you', 'to', '.', '.', '.'], ['i', 'is', 'not', 'you', '.', 'you', 'you', 'you', 'to', 'you', '.', '.'], ['i', '.'], ['i', 'is', 'is', '.'], ['i', 'i', 'you', '.', '.', '.', '.', '.', '.', '.', '.', '.'], ['i', 'is', 'is', 'is', '.', 'to', 'is', 'you', '.'], ['oh', 'is', '.', '.'], ['i', 'is', 'is'], ['oh'], ['i'], ['i'], ['i', 'is'], ['i', 'is'], ['oh', 'is', 'you', 'is', 'the', '.', '.'], ['oh', 'you', 'you', 'you', 'you', 'you', 'you', '.', '.', '.'], ['oh', 'is', 'you', 'is', 'i', 'is', 'is', '.', '.'], ['oh', 'you'], ['.'], ['i', 'is'], ['oh', '.', '.'], ['oh', 'is'], ['oh', '.', '.'], ['oh', '.', '.'], ['i', 'is'], ['i', 'is', '.'], ['you', 'you', 'you'], ['i', 'i', 'not'], ['yeah'], ['.'], ['oh'], ['what', '.', '.', '.'], ['what'], ['i'], ['oh'], ['i', 'i', 'not', 'you', 'you', 'to', 'the', '.', '.'], ['i', 'is', 'not'], ['i', 'i', 'is', 'i', '.', '.', '.', '.', '.', '.', '.', '.'], ['i', 'i', 'i', 'i', 'i', 'i', 'i', 'to', '.', '.', '.', '.'], ['oh', 'is', 'you', '.', '.'], ['i', 'is', 'is'], ['i', 'is', 'is', 'is', 'is', 'the', '.', '.'], ['you', 'is', 'is'], ['what'], ['i', '.'], ['oh', 'is', 'is', 'is', 'is', 'the', '.'], ['i', 'i', 'not', 'i', '.', '.', '.', '.', '.', '.'], ['oh', 'is', 'is', 'is', 'is', 'the', '.'], ['i', 'is', 'is', 'is', '.', '.', '.', '.', '.'], ['i', '.', 'is', '.'], ['i', 'is', '.'], ['i', 'is', 'not', 'is', 'is', 'is', '.'], ['i', 'is', 'not', '.', '.', '.', '.', '.', '.', '.'], ['oh', 'is', 'you', 'is', '.', '.'], ['i', 'is', 'is'], ['oh'], ['we', 'is', 'not', '.', '.', 'to', 'to', 'the', '.', '.', '.'], ['i', 'i', 'not', 'you', '.', '.', '.', '.', '.', '.', '.', '.'], ['oh'], ['i', 'is', 'not', 'you', 'is', 'is', 'is', '.'], ['what', '.', '.'], ['i', 'is'], ['.'], ['oh', 'is'], ['what'], ['.'], ['i', 'is'], ['what'], ['i'], ['oh'], ['what'], ['oh', 'is'], ['i', 'is'], ['oh', '.'], ['i'], ['i', 'is'], ['i'], ['i', 'is'], ['i', 'is', 'not', '.', '.', 'is', 'the', 'the', 'the', 'the', '.', '.'], ['i', 'is', 'not', 'you', '.', '.', '.', '.', '.', '.', '.', '.', '.'], ['oh', 'is', '.', '.'], ['i', '.', '.'], ['you', '.', '.'], ['i', 'is', 'not', 'is', 'is', '.'], ['oh', 'is', 'is'], ['what'], ['oh'], ['what'], ['oh'], ['i', 'is'], ['what'], ['i'], ['i', 'is'], ['oh'], ['i', 'is', 'is', 'is', 'the', 'the'], ['what'], ['i', 'i'], ['i', 'i', 'not', 'not', '.', '.', '.', '.', '.', '.', '.', '.', '.'], ['i'], ['.'], ['i', '.'], ['i', 'is'], ['oh', '.'], ['oh', '.'], ['i', 'is', 'is'], ['yeah', 'not'], ['it', 'is', 'is', 'is'], ['i', 'is', 'not', '.', '.', '.', '.', '.'], ['i', 'i', '.', 'you', 'you', '.', '.'], ['oh', '.'], ['i', 'is', '.', '.'], ['what', '.', 'you', 'is', 'you', '.'], ['i', 'i', '.'], ['i', 'you', '.'], ['i', 'is'], ['oh'], ['oh'], ['oh', 'is', 'is', 'is', '.', '.'], ['i', 'i', '.'], ['i', 'is'], ['oh', 'is', 'is', 'is', 'is', 'the', 'the', '.', '.', '.'], ['i', 'is', 'is', 'is', '.', '.', '.', '.', '.', '.', '.'], ['oh', 'is', 'is', '.', '.', 'the', 'the', 'the', 'the', '.', '.', '.', '.'], ['what', 'is', 'is', '.'], ['i', 'is'], ['oh', '.', '.', '.'], ['oh', '.'], ['i', '.'], ['oh', 'is', 'you', 'is', '.', '.', '.', '.'], ['what'], ['i', 'is', 'you'], ['oh', 'is', 'is', 'is', '.', '.'], ['oh'], ['i', 'is', 'is', '.'], ['you', 'you'], ['i'], ['oh', '.', '.'], ['i', '.'], ['i', 'i', 'is', 'the', 'to', 'the', 'the', '.'], ['oh', '.', '.'], ['i', 'is', 'not'], ['i', 'i', 'i', '.', '.', '.', '.', '.', '.', '.', '.'], ['i', 'i', 'not', 'you', '.', '.', '.', '.', 'the', 'the', 'the', 'the', 'the'], ['i', 'is', 'is', 'you', '.', '.', '.', '.', '.', '.', '.', '.', '.'], ['i', 'i', 'not', 'i', 'i', 'i', 'i', 'you', '.', '.', '.'], ['i', 'is', 'is', 'you', 'you', 'is', '.', '.'], ['i', 'is', 'is'], ['i', 'is', 'not', 'is', 'you', 'you', 'you', '.', '.', '.'], ['oh', '.', '.'], ['i', 'is'], ['i', 'is'], ['i', 'is', 'not', 'not', '.', '.', 'the', 'the', 'the', 'the', '.', '.'], ['i', 'i', 'i', 'i', 'i', 'i', 'i', 'you', 'to', 'you', '.', '.'], ['i', 'is', 'not', 'i', '.', '.', '.', '.', 'the', 'the', 'the', '.', '.'], ['i', 'is', 'not', 'you', '.', '.', 'the', 'the', 'is', 'the', 'the', '.', '.'], ['i'], ['i', 'is'], ['i', 'is', 'is', 'is', '.', '.', '.', '.', '.'], ['i', 'is', 'not', 'you', 'you', 'to', 'to', 'is', '.', '.', '.', '.'], ['yeah'], ['i', '.', 'is'], ['i', 'is', 'is'], ['i', 'is'], ['oh', 'is'], ['what'], ['i', '.', '.'], ['oh', '.', 'you', '.', '.', '.'], ['what'], ['i', '.'], ['what', 'is', '.'], ['oh', '.'], ['what'], ['i', 'is', 'you'], ['i', '.'], ['oh'], ['i', '.', '.'], ['i', 'am', '.', '.', '.', '.', '.'], ['i', 'i', 'not'], ['what', 'is', 'not'], ['i', 'is', 'is'], ['i', 'is', 'not'], ['i', 'is'], ['i', 'is'], ['i', 'is'], ['i', 'you'], ['i', 'is'], ['i', 'i', 'not', 'i', 'i', 'to', '.', '.', '.'], ['i'], ['i'], ['what'], ['i', 'is', 'you'], ['oh', 'is', 'is'], ['i', 'is'], ['you', 'is'], ['i', 'is', '.'], ['oh', 'is', 'is', 'is', 'is', '.', '.'], ['what', 'is', '.'], ['i', 'is'], ['.'], ['i', '.'], ['what', 'is', 'is', 'is', '.'], ['i', 'is', 'not', '.', '.'], ['oh', 'is', 'is'], ['i', 'is'], ['oh', 'is', 'is', 'is', 'is', 'a', 'the', '.', '.'], ['i', '.', '.'], ['i', 'i', 'not', 'i', 'i', 'i', 'i', '.', '.', '.', '.'], ['i', 'is', 'is', '.', '.', '.', '.', '.', '.'], ['oh', 'is', '.', '.'], ['i'], ['oh', 'i', 'you', '.', 'you', 'you', 'is', 'to', 'to', '.', '.'], ['what'], ['hey', '.'], ['oh', 'is', 'is', '.', '.'], ['i', 'is', '.'], ['oh', 'is', 'is', 'is', 'is', 'is', '.', '.'], ['yeah', 'is', 'you', 'is', 'the', 'the', 'the', 'the', '.', '.', '.'], ['i'], ['i', 'is', 'is', 'is', 'is', '.', '.'], ['i', 'is', '.'], ['i', 'is'], ['i', 'am', 'not', '.', '.'], ['what', '.', '.'], ['i', 'is'], ['i', 'is', 'not', '.', 'you', 'you', 'you', 'you', 'to', '.', '.'], ['i', 'is', 'not', 'you', 'you', 'you', 'you', 'you', '.', '.', '.'], ['i', 'i', 'i', 'i', 'i', '.', '.', '.', '.', '.', 'to', 'to', '.'], ['i', 'i', 'i'], ['you', 'you', '.'], ['i', 'is'], ['i', 'is', 'you', '.', '.', '.', '.', '.', 'to', 'the', 'the', '.'], ['i', 'is'], ['i', 'is', 'is'], ['i', 'i', 'not', '.', '.', '.', '.', '.', '.', 'the', 'the', '.'], ['what'], ['i', '.'], ['i', 'is', 'not', 'you', '.', '.', 'you', 'you', 'you', 'the', 'the', 'the', '.'], ['oh', 'is', 'is', 'is', 'is', '.', '.', '.', '.', '.'], ['what', '.', '.'], ['i', '.', '.'], ['i'], ['i'], ['i'], ['i', 'is'], ['we', 'is', 'is', '.', '.', '.', 'the', 'the', 'the', 'the', 'the', 'the', 'the'], ['i', 'is', 'not', '.', '.', '.', '.', '.', 'the', 'the', 'the', 'the', '.'], ['oh', '.'], ['oh'], ['i', 'i', 'is', '.', '.', '.', '.', '.', '.', '.', '.', '.'], ['i'], ['oh', '.'], ['.'], ['oh'], ['i'], ['i', 'is', 'you'], ['i', 'is'], ['oh'], ['i', 'is', 'not', '.', '.', '.', '.', '.', 'the', '.', '.', '.'], ['what'], ['i', 'i', 'is'], ['i', 'is', 'not', 'is', 'is', 'is', 'the', '.'], ['we', 'is', 'not', '.', '.', '.', '.', '.', '.', '.'], ['i', 'i', 'not', '.', '.', '.', 'the', '.', '.', 'the', 'the', '.', '.'], ['oh', 'is', 'is', '.', '.'], ['i', 'is', 'is', '.', '.', '.'], ['i', 'i', '.', '.', '.'], ['i', 'i'], ['i', '.', '.'], ['oh'], ['i', 'is'], ['i', 'i', 'not', 'is', 'is', '.', '.'], ['oh', 'is', 'you', '.'], ['i', '.', '.'], ['oh', 'is', 'is', 'is', 'is', 'is', '.', '.'], ['i', 'i', 'not'], ['oh', 'is', '.', '.'], ['i', 'i', 'i', 'i', 'i', 'to', 'to', '.'], ['i', '.'], ['i', 'is', 'is', 'is', '.', '.', '.', 'the', 'the', '.', '.', '.', '.'], ['oh', 'is', 'you', '.', '.'], ['i', '.'], ['i', '.', '.'], ['i', 'is', 'is', '.', '.', '.', '.', '.', '.', '.', '.', '.'], ['oh', 'is', 'you', '.'], ['oh', '.', '.'], ['what', 'is', 'you', 'is', 'is', 'you', 'you', '.', '.', '.'], ['no', '.', '.'], ['i', '.', '.'], ['i', 'i', 'i', 'i', 'i', 'i', 'i', 'i', 'i', 'i', '.', '.'], ['i', 'is', 'is', 'you', 'you', '.', '.'], ['i', 'not'], ['what'], ['what'], ['i', 'you'], ['i', 'is', 'is', 'the', '.', 'the', 'the', 'the', 'the', '.', '.'], ['what'], ['i', 'is', 'is'], ['oh'], ['i', 'is', 'not'], ['what', '.', '.'], ['oh', 'is', '.', '.'], ['i', 'is', 'is', '.', 'the', '.', '.', '.', '.', '.', '.'], ['what', '.'], ['i', 'is', 'not'], ['i', 'is', 'is', 'you', '.', '.', '.', 'you', 'to', '.', '.', '.'], ['i', 'is', 'is', 'the', '.', '.', 'the', 'the', 'the', 'the', 'the', 'the', '.'], ['i', 'is', 'is', 'is', '.', '.', 'the', 'the', 'the', 'the', 'the', '.'], ['that', 'is', 'is', 'is', 'the', '.', '.', '.', '.', 'the', 'the', 'the', 'the'], ['oh', 'is', 'is', 'is', '.'], ['oh', 'is', 'is'], ['i', 'is', 'is', '.', '.', '.', 'the', 'the', 'the', 'the', 'the', '.', '.'], ['yeah', '.'], ['oh', 'is', 'is', 'is', 'is', '.', '.', '.', '.'], ['i', 'i'], ['i', 'i', 'not', '.', '.', '.', '.', '.', 'to', 'to', '.', '.', '.'], ['i', 'i', 'not', '.', '.', 'the', 'the', 'the', '.', '.'], ['i', 'is', 'not', 'is', '.', '.', '.', '.', '.'], ['what', 'is', '.', '.'], ['i', 'is'], ['i', 'i', 'you', 'you', 'i', '.', '.', '.', '.', '.', '.'], ['i', 'is', '.', '.', '.', '.', '.', '.', 'to', 'to', 'the', '.', '.'], ['i', 'is', 'not', 'you', 'you', 'the', 'to', 'the', '.', '.', '.', '.', '.'], ['i', 'i', 'i', 'i', '.', 'i', '.', 'i', 'i', 'to', 'to', '.', '.'], ['i', 'i', 'not', 'i', 'i', 'i', 'i', 'i', '.', '.', '.', '.', '.'], ['i', 'is', 'is', '.', '.', '.', 'is', 'the', '.', '.', '.'], ['i', 'is', 'not', '.', '.', '.', '.', '.', 'the', '.', '.', '.'], ['i', 'is', 'not', 'you', 'i', 'i', 'you', 'you', 'to', '.', '.', '.', '.'], ['we', 'is', 'not', '.', '.', '.', '.', '.', 'to', 'the', 'the', 'the', 'the'], ['i', 'is', 'not', 'you', '.', '.', 'the', 'the', 'the', 'the', '.', '.'], ['i', 'i', 'i', 'not', 'i', 'to', '.', '.'], ['i', 'i', '.'], ['i', 'is', 'you'], ['i', 'i', 'i', 'i', 'i', '.', '.', '.', '.', 'i', 'the', 'the', 'the'], ['i', 'i', 'i', 'i', '.', 'i', '.', 'i', '.', '.', '.', '.'], ['i', 'i', 'i', '.', 'i', '.', '.', '.', '.', 'to', 'to', '.', '.'], ['oh', 'is', 'is', 'is', 'is', 'is', '.'], ['i', 'i', 'is', '.', '.', '.', '.', '.', '.', '.'], ['oh', 'is'], ['i', 'is', 'not', 'is', '.', '.', '.'], ['oh', 'is', 'is', 'is', 'is', 'is', 'the', '.'], ['you', 'you', 'you', 'you'], ['oh', 'is', 'is', 'is'], ['i', 'is', 'not', 'you', '.', '.', '.', '.', '.'], ['i', 'is', '.'], ['i', 'is'], ['i', 'i', 'i', '.', '.', '.', '.', 'to', 'to', '.', '.', '.'], ['i', 'i', 'i', '.', 'i', 'is', 'is', 'to', '.', '.'], ['i', '.', 'not'], ['what'], ['i', 'is'], ['i', 'i', 'not', 'not', 'you', 'you', 'you', '.'], ['i', 'is', 'not'], ['i', 'is', 'you'], ['i', 'is'], ['i'], ['oh', '.'], ['i', 'is', 'not'], ['oh', 'is', 'is', 'is', 'is', 'the', '.', '.'], ['i', 'i', 'not', 'i', 'i', 'i', 'to', 'you', '.', '.'], ['i', 'i', 'you'], ['i', 'i', 'you', 'you', '.', 'to', 'to', 'to', '.', '.', '.'], ['i', 'is', 'not', '.', '.', 'the', 'the', 'the', '.', '.'], ['what', 'is', 'you', 'is', '.', '.', '.'], ['i', 'is', 'not', 'is', 'you', 'you', 'you', '.', '.', '.'], ['i', 'is', 'not', '.', '.', '.', 'the', '.', '.', 'the', 'the', 'the'], ['i', 'is', 'not', 'you', '.', '.', '.', '.', '.', '.', '.', '.', '.'], ['i', 'is', 'not'], ['oh'], ['you', 'you', 'you', 'you', 'you'], ['you', 'you', 'you'], ['i', 'is', '.', '.', '.', '.'], ['i', 'is', 'is', '.', '.', '.', '.', '.'], ['oh', 'is', 'is', 'is', 'is', 'is', 'is', 'the', '.', '.'], ['i', 'i', 'i'], ['you', 'you', '.'], ['i', 'is', 'i', 'you', 'you', '.', '.'], ['i', 'is', 'you'], ['i', 'is', 'is'], ['oh', '.', '.'], ['.'], ['i', 'is', 'not', 'to'], ['oh', 'is', '.', '.'], ['i', 'is'], ['i', 'is'], ['i', 'is'], ['.'], ['i'], ['i', 'is', 'not'], ['i', 'is'], ['what', 'is', 'you', 'the', 'the', 'the', 'the', 'the', 'the', 'the'], ['i', 'is', 'you', 'you', 'you', '.', '.'], ['oh', 'is', '.'], ['i', 'is', 'is', 'is', '.', '.', '.', '.'], ['i', 'is', 'not'], ['i', 'is', 'is', '.', '.', '.', 'the', '.', '.', '.'], ['.'], ['i', 'is', 'is', 'not', '.', '.', '.', '.', '.', '.'], ['i', 'i', 'not', 'i', '.', '.', 'you', 'you', 'the', 'the', '.', '.'], ['oh', 'is', 'is', 'is', 'is', '.'], ['.'], ['i', 'is', 'not', '.', '.'], ['i', 'i', 'not', '.', '.', 'to', 'you', 'you', 'to', '.'], ['i', 'is', 'not', 'not', '.', '.', '.', '.', '.', '.', '.'], ['i', 'is', 'is', '.'], ['i', 'is'], ['oh', 'is', 'is', '.', '.'], ['oh', '.'], ['i', 'is', 'is', '.', '.', '.', '.', '.', '.', 'the', 'the', 'the', 'the'], ['oh', 'is', '.', '.'], ['i', 'is', 'not'], ['what'], ['i', 'is'], ['i'], ['oh', '.'], ['what', 'is', 'you'], ['oh', 'is', 'is', 'is', '.', '.'], ['we', 'not', '.', 'the', 'the', 'the'], ['i', 'is', 'you', 'you', '.', '.', '.'], ['i', 'is'], ['i'], ['i', 'is', '.'], ['what'], ['i'], ['i', 'i', 'i', '.', '.', '.', '.', '.', '.', '.', '.', '.'], ['what', 'is', '.', 'is', '.'], ['what', '.'], ['i', 'is'], ['i', 'i', 'not', 'i', 'not', 'to', 'a', '.'], ['i', 'i', 'not', '.', '.', 'the', 'the', 'the', 'the', '.', '.'], ['oh', 'is', '.'], ['i', '.'], ['i', 'is', 'you', 'you', 'you'], ['oh', 'is'], ['i'], ['i'], ['i', 'i', 'i', 'you', 'you', 'is', '.'], ['i', 'is', 'is', 'you', '.', '.', '.', '.', '.'], ['i', 'is', 'not', '.', '.', '.', '.', '.', '.', '.'], ['oh', 'is', '.', '.', '.', '.'], ['oh', 'is', 'is', 'is', 'is', 'the', 'the', 'the', '.', '.'], ['oh', 'is', 'you', '.', '.', '.'], ['yeah', 'is', 'is'], ['yeah', 'is', 'is'], ['i', 'is', 'not', '.', '.'], ['i', 'i', 'not', 'you', '.', 'i', 'to', '.', '.', '.'], ['i', 'i', 'not', 'you', 'i', 'to', 'a', '.', '.'], ['i', 'is', 'is', '.', '.', '.', '.', 'you', 'to', '.', '.', '.', '.'], ['yeah'], ['i'], ['it', 'is', 'is', 'is', 'is'], ['i', 'am', 'not', '.'], ['what', 'is', 'is', 'is', 'is', 'you', '.'], ['what'], ['i'], ['oh', 'is', '.'], ['i', 'i', 'not', '.', '.', '.', '.', '.', '.', '.', '.', '.'], ['oh', 'i', 'i', '.', '.', 'the', 'the', 'the', '.', '.', '.', '.'], ['i', 'i', 'not', 'i', '.', 'i', '.', '.', '.', '.', '.', '.', '.'], ['i', 'is', 'not', 'not', '.', '.', '.', '.'], ['i', 'you', 'not'], ['i', 'i', 'not', 'i', 'i', 'i', 'i', '.', '.', '.', '.'], ['i', 'is', 'not', 'you', 'you', 'to', 'to', 'to', 'the', '.', '.', '.', '.'], ['i', 'is', 'not', 'you', 'i', 'i', 'you', '.', '.', '.', '.'], ['what'], ['i', 'is'], ['oh', 'is', 'is', 'is', '.', '.'], ['i', 'is', 'not'], ['i', 'is', 'not', 'i', '.', '.', 'to'], ['what'], ['i', 'is', 'you'], ['i', 'is', 'not', '.'], ['i', 'i', 'not', 'you', '.', '.', 'the', 'the', 'the', 'the', 'the', '.', '.'], ['yeah', 'is', 'is', 'is', 'is', '.'], ['i', '.'], ['i', 'i', 'i', 'i', 'i', '.', '.', '.', '.', '.', 'the', 'the', '.'], ['oh', 'is', 'is', 'is', '.'], ['you', 'is', 'is', 'is', '.', '.', '.', '.'], ['we', 'is', 'is', 'is', 'is', 'the', 'the', 'the', '.', '.'], ['i', 'is', 'not', 'you', 'you', '.', '.', '.', '.'], ['i'], ['i', 'is', 'not'], ['i', 'is', 'you', 'you', 'you', 'you', 'you', 'you', '.', '.'], ['oh', 'is', 'is', 'is', 'is', 'the', '.', '.'], ['what'], ['i'], ['i', 'is', 'not', '.', '.', '.', '.', 'the', 'the', 'the', 'the', 'the', 'the'], ['i', 'is', 'not', 'you', 'you', 'to', '.', '.', '.'], ['i', 'i', 'not', 'you', '.', '.', '.', '.', '.', '.', '.', '.', '.'], ['i', 'is', 'is', 'the', '.', '.', '.', '.', '.', '.', '.'], ['i', 'is', 'you'], ['what', 'is', 'you', 'is', 'you', '.'], ['i', 'i'], ['what'], ['oh'], ['i', 'is'], ['i', 'is'], ['.'], ['.'], ['oh', '.'], ['i', 'is'], ['.'], ['.'], ['i', 'is', 'is', 'you', 'you', '.', '.', '.'], ['i', 'i', 'i', 'i', '.', 'i', '.', 'i', 'to', '.', '.', '.'], ['i', 'is', 'is', 'is', '.', '.', 'the', 'the', 'the', 'the', '.', '.', '.'], ['i', 'i', 'not'], ['i', 'is', 'not', 'you', 'you', '.', '.', '.', '.', '.'], ['i', 'i', 'not', 'you', '.', '.', '.', '.', '.', '.', '.'], ['i', 'is', 'not', '.', '.', '.', '.', '.', '.', '.', '.', '.', '.'], ['yeah', 'is', 'is', 'is', 'is', '.', '.'], ['i', 'i'], ['oh', 'is', 'is', 'is', 'is', 'the', '.'], ['i'], ['oh'], ['i', 'i', '.'], ['you', 'is'], ['what', 'is'], ['we', 'is', 'not', '.', '.', '.', '.', 'you', 'the', 'the', 'the'], ['what', 'is', 'you', 'is', 'is', 'you', 'you', '.', '.', 'the', '.', '.', '.'], ['i', 'i', 'is', '.', '.', '.', '.', '.', '.', '.', '.', '.'], ['what'], ['i', 'is', 'not', '.', '.', '.'], ['i', 'is', 'not', '.', '.', '.', '.', 'the', 'the', '.', '.', '.'], ['yeah', 'is', 'is', 'is', '.'], ['i'], ['oh', 'is', '.'], ['i', 'i', 'you', '.', '.', '.', '.', '.', '.', '.', '.', '.', '.'], ['i', 'is', 'is', 'the', '.', '.', 'the', 'the', 'the', 'the', 'the', 'the', 'the'], ['i', 'i', 'not', 'you', 'you', '.', 'is', 'is', 'to', '.', '.', '.', '.'], ['i', 'i', 'i', '.', '.', '.', '.', '.', 'to', 'to', '.', '.', '.'], ['i', 'i', 'you', 'you', '.', '.', '.', '.', '.', '.', '.', '.'], ['i', 'is', 'is', 'is', '.', 'the', 'is', 'is', 'the', '.', '.', '.', '.'], ['i', 'i', 'is', '.', '.', '.', '.', '.', '.', '.', '.', '.'], ['i', 'i', 'is', '.', '.', '.', '.', '.', '.', '.', '.', '.', '.'], ['i', 'is', 'is', 'i', '.', '.', '.', '.', '.', 'i', '.', '.', '.'], ['i', 'i', 'i', 'i', 'i', 'i', '.', '.', '.', '.'], ['i', 'i', 'i', 'i', '.', '.', 'you', 'you', 'to', '.', '.', '.'], ['yeah', 'is', 'is', 'is', '.'], ['i', 'am', 'not', '.', '.'], ['i', 'i'], ['i', 'i', 'not', '.', '.', '.', '.', 'to', 'the', '.', '.', '.'], ['i', 'i', 'not', 'i', 'i', 'i', 'i', 'i', '.', '.', '.'], ['i', 'i', 'not', 'not', '.', 'i', '.', '.', '.', '.', '.', '.', '.'], ['what'], ['i', 'is', 'you'], ['i', 'is'], ['i', 'is'], ['.'], ['i', '.'], ['i', 'i', 'i', 'i', 'i', 'i', 'i', 'i', 'i', 'i', '.', '.', '.'], ['i', 'i', 'not', 'not', '.', 'the', 'to', 'the', '.', '.', '.'], ['what'], ['oh', '.'], ['oh', '.', '.', '.', '.'], ['i', 'is', 'is'], ['i', 'i', 'not', 'you', '.', '.', '.', '.', '.', '.', '.', '.'], ['i', 'i', 'is', '.', '.', '.', '.', '.', 'the', '.', '.', '.'], ['i', '.'], ['i', 'is', 'is'], ['oh'], ['i', '.'], ['i', 'is', '.', '.'], ['i', 'is', 'not'], ['oh', '.'], ['i', 'is', 'not', '.', '.'], ['oh'], ['i', 'is'], ['oh', 'you', 'you', 'you'], ['i', 'i', 'i', '.', '.', '.'], ['i', 'i'], ['i', 'is'], ['i', 'is', 'is', '.', '.', '.', '.', '.', '.', '.', 'the', 'the', 'the'], ['i', 'is', 'is', 'you', '.', '.', '.', '.', 'is', 'to', 'to', '.', '.'], ['i', 'is', 'is', '.', '.', '.', '.', '.', '.', 'to', '.', '.', '.'], ['i', 'is', 'is', 'i', 'i', '.', '.', '.', '.', '.', 'the', 'the', 'the'], ['what', '.', '.', '.'], ['i', 'is', 'not', 'is', '.', '.', '.'], ['we', 'is', 'is', 'the', '.', '.', 'the', 'the', 'the', 'the', 'the', 'the', 'the'], ['i', 'is', 'is', '.', '.', '.', 'the', 'the', 'the', 'the', 'the', '.', '.'], ['oh', 'is', 'is', 'is', '.', '.'], ['i', 'is', 'not', 'you', 'is', 'to', 'to', '.', '.'], ['what', '.', '.', '.'], ['you', 'is', 'is', 'is', '.', '.'], ['i', 'is', 'not', '.', '.', 'the', 'the', 'the', 'the', 'the', 'the', '.', '.'], ['i', 'is', 'not', '.', '.', '.', '.', '.', 'the', 'the', '.', '.', '.'], ['oh', 'is', 'is', 'is', 'is', 'to', '.', '.'], ['oh', '.'], ['i', 'is'], ['i', 'is'], ['oh', 'you', 'you', 'you'], ['i', 'is', 'is', 'i', 'i', '.', '.', '.', '.', '.', 'the', 'the', 'the'], ['i', 'i', 'not', '.', '.', '.', '.', '.', '.', 'the', 'the', 'the', '.'], ['i', 'is', 'is', '.', '.', '.', 'the', '.', 'the', 'the', 'the', 'the'], ['oh', 'is', 'is', '.', 'the', 'the', 'the', '.', 'the', 'the', 'the', '.', '.'], ['oh', 'is', 'is', 'is', '.', '.'], ['i', 'is'], ['oh', '.', '.'], ['oh', 'i', 'you', '.', 'is', 'the', 'the', 'the', '.'], ['i', 'is'], ['i', 'i', 'not', '.', '.', 'i', 'you', 'the', 'the', 'the', 'the', '.', '.'], ['i', 'is', 'is', 'is', '.', '.'], ['i', 'i', 'not', 'is', '.', '.'], ['i', 'i', 'is', '.', '.', '.', '.', '.', '.', '.', '.'], ['i', 'is', 'not', '.', '.', '.', 'the', 'the', 'the', 'the', 'the', 'the', 'the'], ['i', 'is', 'not', 'you', '.', '.', '.', '.', '.', 'the', 'the', 'the', '.'], ['i', 'is', 'not', 'is', '.', '.', '.', '.', '.', '.', '.', '.'], ['i', 'is', 'is', 'you', 'is', '.', '.', '.', '.', '.', '.', '.'], ['oh'], ['i', 'is', 'not', '.'], ['i', 'is', 'is', 'is', '.', '.', '.', '.', '.'], ['oh', 'is', 'is', 'is', 'is', '.'], ['i', 'i'], ['what', 'is'], ['oh', 'is', 'you', 'you', 'you', 'you', 'you', 'you', '.'], ['i', 'i', 'i', '.', 'i', '.', '.', '.', '.', '.', '.', '.'], ['what'], ['i', 'is', 'not', 'you', 'you', 'you', 'you', '.', '.'], ['i', 'is', 'is', '.', '.', '.', 'is', 'is', 'to', '.', '.', '.'], ['what', 'is', '.', '.'], ['i'], ['i', 'you'], ['i', 'is', 'not', '.'], ['i', '.', 'not'], ['i', 'is', '.'], ['what', '.', '.'], ['oh'], ['what'], ['i', '.'], ['i'], ['i', 'is', 'is', 'is', '.', '.', '.', '.'], ['oh', 'is', 'is', '.', '.'], ['i', 'is', 'is'], ['oh', 'is', 'you', 'is', 'is', '.', '.'], ['i', '.', '.', '.'], ['i', 'i', 'not', '.', '.', '.', '.'], ['oh', 'is', 'is', '.', 'you', 'you', '.', '.', '.', '.', '.'], ['i', 'is', 'you', 'you', 'you', 'is', 'is', '.', '.'], ['i', 'is'], ['i'], ['oh'], ['i'], ['yeah', 'not', 'we', 'the', 'to', 'to', '.', '.', '.', '.'], ['what'], ['i'], ['i', 'i', 'not', 'is', 'is', 'is', '.', '.'], ['what'], ['i'], ['i', 'is', 'not', 'you', 'is', '.', '.'], ['i', 'i', 'not', 'not', '.', 'to', '.', '.', '.', '.'], ['oh', 'is', 'is', 'is', 'is', 'the', 'the', '.'], ['i', 'is', 'is', 'is', 'is', 'the', 'the', 'the', '.'], ['i', '.'], ['.'], ['i', 'is', 'not', 'you', 'you', 'you', 'you', 'you', 'you', 'to', 'to', '.', '.'], ['i', 'is', 'is', '.', '.', 'the', 'the', 'the', 'the', '.', '.'], ['i', 'i', 'not', 'i', 'you', '.', 'you', '.', '.', '.', '.', '.'], ['what'], ['oh'], ['i', 'is'], ['oh', 'is', '.', '.', '.', '.', '.', '.', '.'], ['i', 'i', 'not', 'i', 'is', 'is', '.', '.'], ['what', 'is', '.'], ['what', '.'], ['oh', '.', '.'], ['i', 'i', 'not', 'you', '.', 'i', 'you', 'you', 'to', 'to', 'you', '.', '.'], ['i', 'i', 'is', '.', '.', '.', '.', 'to', 'the', 'the', '.', '.', '.'], ['oh', 'is', 'is', '.', 'i', '.', '.', '.', '.', '.', 'the', 'the', 'the'], ['oh', 'is', 'you', '.', 'is', 'is', 'the', '.', '.'], ['i', '.', '.'], ['i', 'i', 'not', '.', '.', '.', 'the', 'to', 'the', '.', '.'], ['i', 'is'], ['i', 'is', 'not'], ['oh', 'you', '.'], ['i', 'is'], ['oh', 'is', 'is', '.', '.', '.'], ['you', 'you', 'you'], ['i', 'i', 'is', 'i', '.', '.', '.', '.', '.', 'to', '.', '.'], ['i', 'is', 'is', '.'], ['i', 'is', 'not', '.'], ['oh', 'is', 'is', 'is', 'is', 'is', 'is', '.', '.'], ['what', 'is'], ['i', '.', '.'], ['i', 'is'], ['no', '.', '.', '.'], ['.'], ['hey', '.'], ['oh', '.', '.', '.'], ['i', 'is', 'is', '.', '.', '.', 'the', '.', 'the', 'the', 'the', 'the', 'the'], ['i', 'i', 'not', 'not', 'not', 'to', '.', '.'], ['what', 'you', 'you'], ['i', 'is', 'is', '.', '.', 'the', 'the', 'the', 'the', '.', '.'], ['i', 'is', 'is', 'is', 'is', 'is', 'is', 'is', '.', '.'], ['what', 'is', '.'], ['i', 'is', 'not'], ['i', 'is', '.', '.', '.', '.', 'the', 'the', 'the', 'the', 'the', 'the', 'the'], ['i', 'is', 'not', '.', '.', '.', '.', '.', '.', 'the', 'the', '.', '.'], ['oh', 'is'], ['i', 'i', 'not', 'you', 'i', '.', '.', '.', '.', '.'], ['what', 'is', 'you', 'is', 'you', 'you', 'you', '.', '.', '.'], ['.'], ['.'], ['i', 'is', 'not', 'you', 'you', '.', '.', '.', '.', '.', '.'], ['i', 'i', 'i', '.', '.', '.', '.', '.', '.', '.', '.', '.'], ['i', 'is', 'not', 'you', '.', '.'], ['you', 'is', 'is'], ['i', 'is', 'not'], ['oh', 'is', 'you', '.', '.'], ['i', '.'], ['i', 'not', '.'], ['oh'], ['.'], ['i', 'is', 'is', 'is', '.', '.'], ['i', 'i', 'not', 'i', 'i', '.', '.', '.', '.'], ['what'], ['oh', '.'], ['i', 'is', 'not', 'not', 'you', '.', '.', 'you', 'to', '.', '.', '.', '.'], ['i', 'i', 'not', 'i', '.', '.', '.', '.', '.', '.', '.', '.'], ['oh', 'you', '.'], ['i'], ['you', 'is', 'is', 'is', 'is', 'is', '.', '.', '.'], ['what'], ['i', 'is', 'you'], ['i', 'is', 'not'], ['yeah', 'not', 'not', 'you', 'to', 'to', 'is', '.', '.', '.', '.'], ['yeah', 'is', 'not', 'is', '.'], ['i', 'i', 'not'], ['i', 'i', 'not', 'you', '.', '.', '.', '.', '.', '.', '.', '.', '.'], ['i', 'i', 'is', 'is', '.', '.', 'to', 'to', '.', '.', '.'], ['i'], ['i', 'i', 'is', '.', '.'], ['you', 'is'], ['you', 'you', '.'], ['what'], ['i', '.'], ['i', 'i', 'not'], ['i', 'i', 'is', 'i', '.', '.', '.', '.', '.', '.'], ['i', 'is', '.', '.', '.'], ['i', 'is', 'not'], ['i', 'is', 'is', 'is', '.', 'is', 'is', 'is', 'the', '.', '.', '.'], ['i', 'i', 'not', 'not', 'to', '.', '.'], ['i', 'i', 'not'], ['i', 'is', 'you', '.', '.', '.', 'you', 'you', 'to', 'the', '.', '.'], ['what', 'is', '.', '.'], ['i', 'is', '.', '.'], ['i'], ['i', 'is'], ['i', 'is', '.', '.'], ['what', 'is'], ['oh', '.'], ['i', 'is', 'not'], ['oh', '.', '.'], ['i', '.'], ['i', '.'], ['i', 'am', 'not', '.', '.'], ['oh', '.', '.'], ['what', '.'], ['i', 'is', 'you', '.', '.', '.'], ['oh', 'is', '.', '.'], ['oh', 'is', '.', '.', '.'], ['oh'], ['i', 'i', 'not', '.'], ['oh', 'is', 'is', 'is', '.'], ['i', 'is', 'you', '.', '.'], ['oh', 'is', 'is', 'is', 'is', 'the', 'the', '.'], ['i', 'i', 'not', '.', 'i', 'i', '.', '.', '.'], ['i', 'is', 'is', 'is', '.', 'the', 'the', 'the', 'the', 'the', '.', '.', '.'], ['what', '.'], ['i', 'is', 'not', '.'], ['i'], ['i', 'i'], ['i', 'i', 'not', 'not', '.', '.', '.', '.'], ['i', '.', 'not'], ['i', 'is', 'not', 'is', 'the', 'the', 'the', '.', '.'], ['i', 'is', 'is', 'you', 'you', 'you', 'you', 'you', '.', '.', '.'], ['i', 'i', 'i', 'you', '.', '.', '.'], ['i', 'i'], ['i', 'is', 'is', 'is', 'is', '.'], ['i', 'is', 'is'], ['what', '.'], ['i', 'is'], ['oh', 'is', 'you', '.', '.', '.', '.', '.', 'to', 'to', '.', '.', '.'], ['i', 'is', 'is', 'is', 'is', 'the', '.'], ['i', 'is', 'not', '.', '.', '.', '.', '.', '.', '.'], ['i', 'i', 'is', 'i', '.', '.', '.', '.', '.', '.', '.', '.'], ['i'], ['i', '.', '.'], ['i', 'i', 'not', '.', '.', '.', '.', 'the', 'the', 'the', '.', '.'], ['oh'], ['i', 'is', 'not', '.', '.'], ['what'], ['i', 'is', 'is'], ['i', '.', '.'], ['i', 'i', 'not', '.', '.', '.', '.', '.', '.'], ['what'], ['i'], ['you', 'is', 'you'], ['i', 'is'], ['i', 'i', 'i', '.', '.', '.', '.', '.', '.', '.', '.'], ['what'], ['i', '.'], ['oh', 'is', 'you', '.', '.'], ['i', 'is', '.'], ['oh', 'you', 'you', 'is', 'you', '.', '.', '.', '.'], ['oh'], ['yeah'], ['i', 'is', 'you'], ['i', 'is'], ['we', 'is', 'is', '.', 'you', '.', 'the', '.', '.', '.'], ['what', 'is', '.'], ['hey', '.', '.'], ['i', 'is', 'you'], ['i', 'i', '.', 'you', 'you', 'to', '.', '.'], ['oh', '.', 'you', '.', '.', '.'], ['oh', 'is'], ['oh', '.', '.'], ['oh', 'is', 'is'], ['i', '.', '.'], ['i', 'is'], ['i', 'i', 'not', 'i', '.', '.', '.', '.', '.', '.', 'to', '.', '.'], ['i', 'i', 'i', 'i', 'not', 'to', '.', '.'], ['oh', 'is', 'is', '.', '.', '.', 'the', 'the', 'the', 'the', 'the', '.'], ['what'], ['i', 'is', 'not', 'is', '.', '.', '.', '.', '.'], ['oh', 'is', 'is', 'is', 'is', '.', '.'], ['i', 'i', 'i', 'is', '.', '.'], ['i', 'i', 'not', '.', '.', '.', '.', '.', '.'], ['i', 'is', 'is'], ['i', '.'], ['oh', 'is', 'is', 'is', 'is', '.'], ['i', 'i', 'not'], ['i', 'i'], ['i', 'i'], ['what'], ['oh'], ['i', 'i'], ['i'], ['i', 'is', 'not', '.', '.', '.', 'the', 'the', 'the', 'the', '.', '.'], ['i', 'is', 'is', '.', '.', '.', '.', '.', 'is', 'the', 'the', '.', '.'], ['oh', 'is', 'is', 'is', 'is', 'is', '.'], ['i', 'is', 'is', '.', '.'], ['i', 'is', 'not', 'is', 'is', 'the', 'the', 'the', '.'], ['i', 'i', 'i', '.', '.', '.', '.', 'you', 'to', 'to', '.', '.', '.']]\n"
     ]
    }
   ],
   "source": [
    "print(prediction)"
   ]
  },
  {
   "cell_type": "code",
   "execution_count": 75,
   "metadata": {},
   "outputs": [
    {
     "data": {
      "text/plain": [
       "17960"
      ]
     },
     "execution_count": 75,
     "metadata": {},
     "output_type": "execute_result"
    }
   ],
   "source": [
    "processor.vocab_size"
   ]
  },
  {
   "cell_type": "code",
   "execution_count": 89,
   "metadata": {},
   "outputs": [
    {
     "data": {
      "text/plain": [
       "'You guys, you guys! Chef is going away. \\n'"
      ]
     },
     "execution_count": 89,
     "metadata": {},
     "output_type": "execute_result"
    }
   ],
   "source": [
    "texts[0]"
   ]
  },
  {
   "cell_type": "code",
   "execution_count": null,
   "metadata": {
    "collapsed": true
   },
   "outputs": [],
   "source": []
  },
  {
   "cell_type": "code",
   "execution_count": null,
   "metadata": {
    "collapsed": true
   },
   "outputs": [],
   "source": []
  },
  {
   "cell_type": "code",
   "execution_count": null,
   "metadata": {
    "collapsed": true
   },
   "outputs": [],
   "source": []
  },
  {
   "cell_type": "code",
   "execution_count": null,
   "metadata": {
    "collapsed": true
   },
   "outputs": [],
   "source": []
  },
  {
   "cell_type": "code",
   "execution_count": null,
   "metadata": {
    "collapsed": true
   },
   "outputs": [],
   "source": []
  },
  {
   "cell_type": "code",
   "execution_count": null,
   "metadata": {
    "collapsed": true
   },
   "outputs": [],
   "source": []
  }
 ],
 "metadata": {
  "kernelspec": {
   "display_name": "Python 3",
   "language": "python",
   "name": "python3"
  },
  "language_info": {
   "codemirror_mode": {
    "name": "ipython",
    "version": 3
   },
   "file_extension": ".py",
   "mimetype": "text/x-python",
   "name": "python",
   "nbconvert_exporter": "python",
   "pygments_lexer": "ipython3",
   "version": "3.6.1"
  }
 },
 "nbformat": 4,
 "nbformat_minor": 2
}
