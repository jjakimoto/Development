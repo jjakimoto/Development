{
 "cells": [
  {
   "cell_type": "markdown",
   "metadata": {},
   "source": [
    "Most of machine learning algorithms assume that each feature of data is completely filled without missing values. In order to use them, we have to handle missing values beforehand. In this article, we go through how to deal with them.\n",
    "\n",
    "## Type of Missing Data\n",
    "* Missing Completely at Random (MCAR)\n",
    "Missing data is not related to any other variables and if data is missing or observed. \n",
    "\n",
    "* Missing at Random (MAR)\n",
    "Missing data is related to observed data but not missing data\n",
    "\n",
    "* Missing not at Random (MNAR)\n",
    "There is a mechanism of missingness and related to observed and missing variables.\n",
    "\n",
    "\n",
    "## Deletion\n",
    "* Listwise\n",
    "* Pairwise\n",
    "* Drop variables\n",
    "\n",
    "## Imputation\n",
    "\n",
    "* Mean Imputation\n",
    "* Median Imputation\n",
    "* Multiple Imputation\n",
    "* Linear Regression\n",
    "\n",
    "#### Categorical\n",
    "* KNN\n",
    "* Logistic Regression\n",
    "* ANOVA\n",
    "* Multiple Imputation"
   ]
  },
  {
   "cell_type": "code",
   "execution_count": null,
   "metadata": {
    "collapsed": true
   },
   "outputs": [],
   "source": []
  }
 ],
 "metadata": {
  "kernelspec": {
   "display_name": "Python 3",
   "language": "python",
   "name": "python3"
  },
  "language_info": {
   "codemirror_mode": {
    "name": "ipython",
    "version": 3
   },
   "file_extension": ".py",
   "mimetype": "text/x-python",
   "name": "python",
   "nbconvert_exporter": "python",
   "pygments_lexer": "ipython3",
   "version": "3.6.1"
  }
 },
 "nbformat": 4,
 "nbformat_minor": 2
}
