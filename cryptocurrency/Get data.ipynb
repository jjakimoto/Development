{
 "cells": [
  {
   "cell_type": "code",
   "execution_count": 1,
   "metadata": {},
   "outputs": [
    {
     "name": "stderr",
     "output_type": "stream",
     "text": [
      "\r",
      "  0%|          | 0/104 [00:00<?, ?it/s]"
     ]
    },
    {
     "name": "stdout",
     "output_type": "stream",
     "text": [
      "['BTC_AMP', 'BTC_ARDR', 'BTC_BCH', 'BTC_BCN', 'BTC_BCY', 'BTC_BELA', 'BTC_BLK', 'BTC_BTCD', 'BTC_BTM', 'BTC_BTS', 'BTC_BURST', 'BTC_CLAM', 'BTC_CVC', 'BTC_DASH', 'BTC_DCR', 'BTC_DGB', 'BTC_DOGE', 'BTC_EMC2', 'BTC_ETC', 'BTC_ETH', 'BTC_EXP', 'BTC_FCT', 'BTC_FLDC', 'BTC_FLO', 'BTC_GAME', 'BTC_GAS', 'BTC_GNO', 'BTC_GNT', 'BTC_GRC', 'BTC_HUC', 'BTC_LBC', 'BTC_LSK', 'BTC_LTC', 'BTC_MAID', 'BTC_NAV', 'BTC_NEOS', 'BTC_NMC', 'BTC_NXC', 'BTC_NXT', 'BTC_OMG', 'BTC_OMNI', 'BTC_PASC', 'BTC_PINK', 'BTC_POT', 'BTC_PPC', 'BTC_RADS', 'BTC_REP', 'BTC_RIC', 'BTC_SBD', 'BTC_SC', 'BTC_STEEM', 'BTC_STORJ', 'BTC_STR', 'BTC_STRAT', 'BTC_SYS', 'BTC_VIA', 'BTC_VRC', 'BTC_VTC', 'BTC_XBC', 'BTC_XCP', 'BTC_XEM', 'BTC_XMR', 'BTC_XPM', 'BTC_XRP', 'BTC_XVC', 'BTC_ZEC', 'BTC_ZRX', 'ETH_BCH', 'ETH_CVC', 'ETH_ETC', 'ETH_GAS', 'ETH_GNO', 'ETH_GNT', 'ETH_LSK', 'ETH_OMG', 'ETH_REP', 'ETH_STEEM', 'ETH_ZEC', 'ETH_ZRX', 'USDT_BCH', 'USDT_BTC', 'USDT_DASH', 'USDT_ETC', 'USDT_ETH', 'USDT_LTC', 'USDT_NXT', 'USDT_REP', 'USDT_STR', 'USDT_XMR', 'USDT_XRP', 'USDT_ZEC', 'XMR_BCN', 'XMR_BLK', 'XMR_BTCD', 'XMR_DASH', 'XMR_LTC', 'XMR_MAID', 'XMR_NXT', 'XMR_ZEC', 'totalBTC', 'totalETH', 'totalUSDT', 'totalXMR', 'totalXUSD']\n",
      "Get BTC_AMP from 1414814400 to 1477656000 with period 1800\n",
      "Finish.\n"
     ]
    },
    {
     "name": "stderr",
     "output_type": "stream",
     "text": [
      "\n"
     ]
    },
    {
     "ename": "KeyboardInterrupt",
     "evalue": "",
     "output_type": "error",
     "traceback": [
      "\u001b[0;31m---------------------------------------------------------------------------\u001b[0m",
      "\u001b[0;31mKeyboardInterrupt\u001b[0m                         Traceback (most recent call last)",
      "\u001b[0;32m<ipython-input-1-57aaf039e055>\u001b[0m in \u001b[0;36m<module>\u001b[0;34m()\u001b[0m\n\u001b[1;32m     17\u001b[0m \u001b[0mdata_dir\u001b[0m \u001b[0;34m=\u001b[0m \u001b[0;34m\"data\"\u001b[0m\u001b[0;34m\u001b[0m\u001b[0m\n\u001b[1;32m     18\u001b[0m \u001b[0;32mfor\u001b[0m \u001b[0mpair\u001b[0m \u001b[0;32min\u001b[0m \u001b[0mtqdm\u001b[0m\u001b[0;34m(\u001b[0m\u001b[0mpairs\u001b[0m\u001b[0;34m)\u001b[0m\u001b[0;34m:\u001b[0m\u001b[0;34m\u001b[0m\u001b[0m\n\u001b[0;32m---> 19\u001b[0;31m     \u001b[0mdfs\u001b[0m\u001b[0;34m.\u001b[0m\u001b[0mappend\u001b[0m\u001b[0;34m(\u001b[0m\u001b[0mget_data\u001b[0m\u001b[0;34m(\u001b[0m\u001b[0mpair\u001b[0m\u001b[0;34m,\u001b[0m \u001b[0mdata_dir\u001b[0m\u001b[0;34m,\u001b[0m \u001b[0mstart\u001b[0m\u001b[0;34m,\u001b[0m \u001b[0mend\u001b[0m\u001b[0;34m)\u001b[0m\u001b[0;34m)\u001b[0m\u001b[0;34m\u001b[0m\u001b[0m\n\u001b[0m",
      "\u001b[0;32m~/anaconda3/lib/python3.6/site-packages/rltensor-0.1.0-py3.6.egg/rltensor/environments/utils.py\u001b[0m in \u001b[0;36mget_data\u001b[0;34m(pair, data_dir, start, end, period)\u001b[0m\n\u001b[1;32m     64\u001b[0m     \u001b[0moutf\u001b[0m\u001b[0;34m.\u001b[0m\u001b[0mclose\u001b[0m\u001b[0;34m(\u001b[0m\u001b[0;34m)\u001b[0m\u001b[0;34m\u001b[0m\u001b[0m\n\u001b[1;32m     65\u001b[0m     \u001b[0mprint\u001b[0m\u001b[0;34m(\u001b[0m\u001b[0;34m\"Finish.\"\u001b[0m\u001b[0;34m)\u001b[0m\u001b[0;34m\u001b[0m\u001b[0m\n\u001b[0;32m---> 66\u001b[0;31m     \u001b[0mtime\u001b[0m\u001b[0;34m.\u001b[0m\u001b[0msleep\u001b[0m\u001b[0;34m(\u001b[0m\u001b[0;36m20\u001b[0m\u001b[0;34m)\u001b[0m\u001b[0;34m\u001b[0m\u001b[0m\n\u001b[0m\u001b[1;32m     67\u001b[0m \u001b[0;34m\u001b[0m\u001b[0m\n\u001b[1;32m     68\u001b[0m \u001b[0;34m\u001b[0m\u001b[0m\n",
      "\u001b[0;31mKeyboardInterrupt\u001b[0m: "
     ]
    }
   ],
   "source": [
    "from tqdm import tqdm\n",
    "import pandas as pd\n",
    "\n",
    "from rltensor.environments.utils import get_data\n",
    "\n",
    "\n",
    "df = pd.read_json(\"https://poloniex.com/public?command=return24hVolume\")\n",
    "pairs = [pair for pair in df.columns if pair.startswith('BTC')]\n",
    "pairs = [pair for pair in df.columns]\n",
    "print(pairs)\n",
    "\n",
    "start = '2014-11-01 00:00:00'\n",
    "# end = '2016-09-07 04:00:00'\n",
    "end = '2016-10-28 08:00:00'\n",
    "\n",
    "dfs = []\n",
    "data_dir = \"data\"\n",
    "for pair in tqdm(pairs):\n",
    "    dfs.append(get_data(pair, data_dir, start, end))"
   ]
  },
  {
   "cell_type": "code",
   "execution_count": 130,
   "metadata": {},
   "outputs": [
    {
     "name": "stdout",
     "output_type": "stream",
     "text": [
      "tzutc()\n",
      "tzlocal()\n"
     ]
    }
   ],
   "source": [
    "from dateutil import tz\n",
    "\n",
    "from_zone = tz.tzutc()\n",
    "to_zone = tz.tzlocal()\n",
    "\n",
    "# utc = datetime.utcnow()\n",
    "utc = datetime.strptime('2011-01-21 02:37:21', '%Y-%m-%d %H:%M:%S')\n",
    "\n",
    "# Tell the datetime object that it's in UTC time zone since \n",
    "# datetime objects are 'naive' by default\n",
    "utc = utc.replace(tzinfo=from_zone)\n",
    "\n",
    "# Convert time zone\n",
    "central = x.astimezone(to_zone)\n",
    "print(from_zone)\n",
    "print(to_zone)"
   ]
  },
  {
   "cell_type": "code",
   "execution_count": 138,
   "metadata": {},
   "outputs": [
    {
     "data": {
      "text/plain": [
       "datetime.datetime(2018, 1, 11, 17, 17, 25, 367486)"
      ]
     },
     "execution_count": 138,
     "metadata": {},
     "output_type": "execute_result"
    }
   ],
   "source": [
    "central.now()"
   ]
  },
  {
   "cell_type": "code",
   "execution_count": 132,
   "metadata": {},
   "outputs": [
    {
     "name": "stdout",
     "output_type": "stream",
     "text": [
      "2018-01-11 22:15:15.709367\n",
      "2018-01-11 22:15:15.709367-05:00\n"
     ]
    }
   ],
   "source": [
    "print(x)\n",
    "print(central)"
   ]
  },
  {
   "cell_type": "code",
   "execution_count": 128,
   "metadata": {},
   "outputs": [],
   "source": [
    "from datetime import datetime\n",
    "x = datetime.utcnow()"
   ]
  },
  {
   "cell_type": "code",
   "execution_count": 139,
   "metadata": {},
   "outputs": [],
   "source": [
    "from dateutil import tz\n",
    "\n",
    "def date2str(date):\n",
    "    str_date = '%04d-%02d-%02d %02d:%02d:%02d' %\\\n",
    "        (date.year, date.month, date.day, date.hour, date.minute, date.second)\n",
    "    return str_date\n",
    "\n",
    "def get_time_now(is_local=True):\n",
    "    date = datetime.utcnow()\n",
    "    if is_local:\n",
    "        to_zone = tz.tzlocal()\n",
    "        # Convert time zone\n",
    "        date = date.astimezone(to_zone)\n",
    "        date = date.now()\n",
    "    return date2str(date)"
   ]
  },
  {
   "cell_type": "code",
   "execution_count": 140,
   "metadata": {},
   "outputs": [
    {
     "data": {
      "text/plain": [
       "'2018-01-11 17:24:53'"
      ]
     },
     "execution_count": 140,
     "metadata": {},
     "output_type": "execute_result"
    }
   ],
   "source": [
    "get_time_now()"
   ]
  },
  {
   "cell_type": "code",
   "execution_count": 141,
   "metadata": {},
   "outputs": [
    {
     "name": "stderr",
     "output_type": "stream",
     "text": [
      "\r",
      "  0%|          | 0/104 [00:00<?, ?it/s]"
     ]
    },
    {
     "name": "stdout",
     "output_type": "stream",
     "text": [
      "['BTC_AMP', 'BTC_ARDR', 'BTC_BCH', 'BTC_BCN', 'BTC_BCY', 'BTC_BELA', 'BTC_BLK', 'BTC_BTCD', 'BTC_BTM', 'BTC_BTS', 'BTC_BURST', 'BTC_CLAM', 'BTC_CVC', 'BTC_DASH', 'BTC_DCR', 'BTC_DGB', 'BTC_DOGE', 'BTC_EMC2', 'BTC_ETC', 'BTC_ETH', 'BTC_EXP', 'BTC_FCT', 'BTC_FLDC', 'BTC_FLO', 'BTC_GAME', 'BTC_GAS', 'BTC_GNO', 'BTC_GNT', 'BTC_GRC', 'BTC_HUC', 'BTC_LBC', 'BTC_LSK', 'BTC_LTC', 'BTC_MAID', 'BTC_NAV', 'BTC_NEOS', 'BTC_NMC', 'BTC_NXC', 'BTC_NXT', 'BTC_OMG', 'BTC_OMNI', 'BTC_PASC', 'BTC_PINK', 'BTC_POT', 'BTC_PPC', 'BTC_RADS', 'BTC_REP', 'BTC_RIC', 'BTC_SBD', 'BTC_SC', 'BTC_STEEM', 'BTC_STORJ', 'BTC_STR', 'BTC_STRAT', 'BTC_SYS', 'BTC_VIA', 'BTC_VRC', 'BTC_VTC', 'BTC_XBC', 'BTC_XCP', 'BTC_XEM', 'BTC_XMR', 'BTC_XPM', 'BTC_XRP', 'BTC_XVC', 'BTC_ZEC', 'BTC_ZRX', 'ETH_BCH', 'ETH_CVC', 'ETH_ETC', 'ETH_GAS', 'ETH_GNO', 'ETH_GNT', 'ETH_LSK', 'ETH_OMG', 'ETH_REP', 'ETH_STEEM', 'ETH_ZEC', 'ETH_ZRX', 'USDT_BCH', 'USDT_BTC', 'USDT_DASH', 'USDT_ETC', 'USDT_ETH', 'USDT_LTC', 'USDT_NXT', 'USDT_REP', 'USDT_STR', 'USDT_XMR', 'USDT_XRP', 'USDT_ZEC', 'XMR_BCN', 'XMR_BLK', 'XMR_BTCD', 'XMR_DASH', 'XMR_LTC', 'XMR_MAID', 'XMR_NXT', 'XMR_ZEC', 'totalBTC', 'totalETH', 'totalUSDT', 'totalXMR', 'totalXUSD']\n",
      "Get BTC_AMP from 1414814400 to 1477656000 with period 1800\n",
      "Finish.\n"
     ]
    },
    {
     "name": "stderr",
     "output_type": "stream",
     "text": [
      "\r",
      "  1%|          | 1/104 [00:20<35:48, 20.86s/it]"
     ]
    },
    {
     "name": "stdout",
     "output_type": "stream",
     "text": [
      "Get BTC_ARDR from 1414814400 to 1477656000 with period 1800\n",
      "Finish.\n"
     ]
    },
    {
     "ename": "KeyboardInterrupt",
     "evalue": "",
     "output_type": "error",
     "traceback": [
      "\u001b[0;31m---------------------------------------------------------------------------\u001b[0m",
      "\u001b[0;31mKeyboardInterrupt\u001b[0m                         Traceback (most recent call last)",
      "\u001b[0;32m<ipython-input-141-57aaf039e055>\u001b[0m in \u001b[0;36m<module>\u001b[0;34m()\u001b[0m\n\u001b[1;32m     17\u001b[0m \u001b[0mdata_dir\u001b[0m \u001b[0;34m=\u001b[0m \u001b[0;34m\"data\"\u001b[0m\u001b[0;34m\u001b[0m\u001b[0m\n\u001b[1;32m     18\u001b[0m \u001b[0;32mfor\u001b[0m \u001b[0mpair\u001b[0m \u001b[0;32min\u001b[0m \u001b[0mtqdm\u001b[0m\u001b[0;34m(\u001b[0m\u001b[0mpairs\u001b[0m\u001b[0;34m)\u001b[0m\u001b[0;34m:\u001b[0m\u001b[0;34m\u001b[0m\u001b[0m\n\u001b[0;32m---> 19\u001b[0;31m     \u001b[0mdfs\u001b[0m\u001b[0;34m.\u001b[0m\u001b[0mappend\u001b[0m\u001b[0;34m(\u001b[0m\u001b[0mget_data\u001b[0m\u001b[0;34m(\u001b[0m\u001b[0mpair\u001b[0m\u001b[0;34m,\u001b[0m \u001b[0mdata_dir\u001b[0m\u001b[0;34m,\u001b[0m \u001b[0mstart\u001b[0m\u001b[0;34m,\u001b[0m \u001b[0mend\u001b[0m\u001b[0;34m)\u001b[0m\u001b[0;34m)\u001b[0m\u001b[0;34m\u001b[0m\u001b[0m\n\u001b[0m",
      "\u001b[0;32m~/anaconda3/lib/python3.6/site-packages/rltensor-0.1.0-py3.6.egg/rltensor/environments/utils.py\u001b[0m in \u001b[0;36mget_data\u001b[0;34m(pair, data_dir, start, end, period)\u001b[0m\n\u001b[1;32m     64\u001b[0m     \u001b[0moutf\u001b[0m\u001b[0;34m.\u001b[0m\u001b[0mclose\u001b[0m\u001b[0;34m(\u001b[0m\u001b[0;34m)\u001b[0m\u001b[0;34m\u001b[0m\u001b[0m\n\u001b[1;32m     65\u001b[0m     \u001b[0mprint\u001b[0m\u001b[0;34m(\u001b[0m\u001b[0;34m\"Finish.\"\u001b[0m\u001b[0;34m)\u001b[0m\u001b[0;34m\u001b[0m\u001b[0m\n\u001b[0;32m---> 66\u001b[0;31m     \u001b[0mtime\u001b[0m\u001b[0;34m.\u001b[0m\u001b[0msleep\u001b[0m\u001b[0;34m(\u001b[0m\u001b[0;36m20\u001b[0m\u001b[0;34m)\u001b[0m\u001b[0;34m\u001b[0m\u001b[0m\n\u001b[0m\u001b[1;32m     67\u001b[0m \u001b[0;34m\u001b[0m\u001b[0m\n\u001b[1;32m     68\u001b[0m \u001b[0;34m\u001b[0m\u001b[0m\n",
      "\u001b[0;31mKeyboardInterrupt\u001b[0m: "
     ]
    }
   ],
   "source": [
    "from tqdm import tqdm\n",
    "import pandas as pd\n",
    "\n",
    "from rltensor.environments.utils import get_data\n",
    "\n",
    "\n",
    "df = pd.read_json(\"https://poloniex.com/public?command=return24hVolume\")\n",
    "pairs = [pair for pair in df.columns if pair.startswith('BTC')]\n",
    "pairs = [pair for pair in df.columns]\n",
    "print(pairs)\n",
    "\n",
    "start = '2014-11-01 00:00:00'\n",
    "# end = '2016-09-07 04:00:00'\n",
    "end = '2016-10-28 08:00:00'\n",
    "\n",
    "dfs = []\n",
    "data_dir = \"data\"\n",
    "for pair in tqdm(pairs):\n",
    "    dfs.append(get_data(pair, data_dir, start, end))"
   ]
  },
  {
   "cell_type": "code",
   "execution_count": 142,
   "metadata": {
    "collapsed": true
   },
   "outputs": [],
   "source": [
    "def get_data(pair, start, end, period=1800):\n",
    "    datafile = os.path.join(data_dir, pair + \".csv\")\n",
    "    timefile = os.path.join(data_dir, pair)\n",
    "\n",
    "    start_sec = date2seconds(start)\n",
    "    end_sec = date2seconds(end)\n",
    "\n",
    "    FETCH_URL = \"https://poloniex.com/public?command=returnChartData&currencyPair=%s&start=%d&end=%d&period=%d\"\n",
    "    COLUMNS = [\"date\", \"high\", \"low\", \"open\",\n",
    "               \"close\", \"volume\", \"quoteVolume\", \"weightedAverage\"]\n",
    "\n",
    "    url = FETCH_URL % (pair, start_sec, end_sec, period)\n",
    "    print(\"Get %s from %d to %d with period %d\" % (pair, start_sec, end_sec, period))\n",
    "\n",
    "    df = pd.read_json(url, convert_dates=False)\n",
    "    return df"
   ]
  },
  {
   "cell_type": "code",
   "execution_count": 143,
   "metadata": {},
   "outputs": [],
   "source": [
    "import os\n",
    "import pickle\n",
    "import numpy as np\n",
    "\n",
    "from rltensor.environments.utils import date2seconds, seconds2date\n",
    "\n",
    "\n",
    "def update_data(log_dir='./data', filename='logs.pkl', default_st='2011-01-01 00:00:00', is_all=False):\n",
    "    # Check the previous results\n",
    "    try:\n",
    "        names = os.listdir(log_dir)\n",
    "    except:\n",
    "        os.mkdir(log_dir)\n",
    "        names = []\n",
    "    if filename in names and not is_all:\n",
    "        path = os.path.join(log_dir, filename)\n",
    "        with open(path, 'rb') as f:\n",
    "            logs = pickle.load(f)\n",
    "    else:\n",
    "        logs = {}\n",
    "    \n",
    "    df = pd.read_json(\"https://poloniex.com/public?command=return24hVolume\")\n",
    "    # pairs = [pair for pair in df.columns if pair.startswith('BTC')]\n",
    "    pairs = ['USDT_BTC']\n",
    "    for pair in pairs:\n",
    "        if pair in logs:\n",
    "            start = logs[pair]['start']\n",
    "            end = logs[pair]['end']\n",
    "        else:\n",
    "            start = default_st\n",
    "            end = default_st\n",
    "            \n",
    "        current_time = get_time_now()\n",
    "        df = get_data(pair, end, current_time)\n",
    "        # Record results\n",
    "        if pair in logs:\n",
    "            result = logs[pair]\n",
    "        else:\n",
    "            result=dict(start=None, end=None)\n",
    "        if df[\"date\"].iloc[-1] == 0:\n",
    "            print(\"No data.\")\n",
    "            result['status'] = False\n",
    "        else:\n",
    "            result['status'] = True\n",
    "            result['start'] = seconds2date(np.min(df['date'].values))\n",
    "            result['end'] = seconds2date(np.max(df['date'].values))\n",
    "        logs[pair] = result\n",
    "    # Save the result\n",
    "    path = os.path.join(log_dir, filename)\n",
    "    with open(path, 'wb') as f:\n",
    "        pickle.dump(logs, f, pickle.HIGHEST_PROTOCOL)"
   ]
  },
  {
   "cell_type": "code",
   "execution_count": 144,
   "metadata": {},
   "outputs": [
    {
     "name": "stdout",
     "output_type": "stream",
     "text": [
      "Get USDT_BTC from 1293858000 to 1515709536 with period 1800\n",
      "              close        date          high           low          open  \\\n",
      "0        225.000000  1424372400      0.330000    225.000000      0.330000   \n",
      "1        225.000000  1424374200    225.000000    225.000000    225.000000   \n",
      "2        240.000000  1424376000    240.000000    225.000000    225.000000   \n",
      "3        244.000000  1424377800    244.000000    244.000000    244.000000   \n",
      "4        244.000000  1424379600    244.000000    244.000000    244.000000   \n",
      "5        244.000000  1424381400    244.000000    244.000000    244.000000   \n",
      "6        244.000000  1424383200    244.000000    244.000000    244.000000   \n",
      "7        244.000000  1424385000    244.000000    244.000000    244.000000   \n",
      "8        244.000000  1424386800    244.000000    244.000000    244.000000   \n",
      "9        244.000000  1424388600    244.000000    244.000000    244.000000   \n",
      "10       244.000000  1424390400    244.000000    244.000000    244.000000   \n",
      "11       244.000000  1424392200    244.000000    244.000000    244.000000   \n",
      "12       244.000000  1424394000    244.000000    244.000000    244.000000   \n",
      "13       244.000000  1424395800    244.000000    244.000000    244.000000   \n",
      "14       244.000000  1424397600    244.000000    244.000000    244.000000   \n",
      "15       244.000000  1424399400    244.000000    244.000000    244.000000   \n",
      "16       244.000000  1424401200    244.000000    244.000000    244.000000   \n",
      "17       244.000000  1424403000    244.000000    244.000000    244.000000   \n",
      "18       244.000000  1424404800    244.000000    244.000000    244.000000   \n",
      "19       244.000000  1424406600    244.000000    244.000000    244.000000   \n",
      "20       244.000000  1424408400    244.000000    244.000000    244.000000   \n",
      "21       244.000000  1424410200    244.000000    244.000000    244.000000   \n",
      "22       240.250116  1424412000    240.250118    240.250116    240.250118   \n",
      "23       240.250116  1424413800    240.250116    240.250116    240.250116   \n",
      "24       240.250116  1424415600    240.250116    240.250116    240.250116   \n",
      "25       240.250116  1424417400    240.250116    240.250116    240.250116   \n",
      "26       240.250116  1424419200    240.250116    240.250116    240.250116   \n",
      "27       245.000000  1424421000    245.000000    244.000000    244.000000   \n",
      "28       245.000000  1424422800    245.000000    245.000000    245.000000   \n",
      "29       245.000000  1424424600    245.000000    245.000000    245.000000   \n",
      "...             ...         ...           ...           ...           ...   \n",
      "50713  13546.504686  1515655800  13627.000000  13460.090910  13546.000000   \n",
      "50714  13623.418602  1515657600  13785.618044  13522.596411  13538.596411   \n",
      "50715  13754.150916  1515659400  13841.000202  13623.418602  13623.418602   \n",
      "50716  13657.103863  1515661200  13779.434822  13576.000000  13720.660000   \n",
      "50717  13533.630899  1515663000  13698.993862  13361.000000  13698.993862   \n",
      "50718  13385.408628  1515664800  13598.993862  13266.550361  13550.000000   \n",
      "50719  13277.846968  1515666600  13511.100000  13223.514530  13385.408629   \n",
      "50720  13250.000000  1515668400  13336.218928  13095.000000  13250.000000   \n",
      "50721  13450.000000  1515670200  13492.137566  13106.222809  13250.000000   \n",
      "50722  13629.654873  1515672000  13800.000000  13450.000000  13450.000000   \n",
      "50723  13801.000000  1515673800  13868.000000  13615.194722  13629.654873   \n",
      "50724  13675.546858  1515675600  13900.006979  13658.731470  13801.000000   \n",
      "50725  13690.000002  1515677400  13761.741186  13599.000000  13675.546858   \n",
      "50726  13639.490000  1515679200  13812.386601  13575.518822  13725.000000   \n",
      "50727  13978.000000  1515681000  14000.000000  13600.000000  13639.490000   \n",
      "50728  14158.666563  1515682800  14300.000001  13965.512747  13966.556600   \n",
      "50729  13999.653464  1515684600  14192.838634  13865.000000  14158.666563   \n",
      "50730  14039.754471  1515686400  14120.090910  13925.213974  13978.838414   \n",
      "50731  13947.747400  1515688200  14162.806000  13889.000000  14039.754471   \n",
      "50732  13674.871785  1515690000  13943.960565  13668.476463  13900.661197   \n",
      "50733  13605.000000  1515691800  13777.048110  13600.000000  13674.871785   \n",
      "50734  13850.000000  1515693600  13861.704916  13588.248338  13630.841508   \n",
      "50735  13710.800000  1515695400  13914.000000  13699.090000  13850.000000   \n",
      "50736  13689.715505  1515697200  13820.438090  13684.950200  13710.900000   \n",
      "50737  13368.053033  1515699000  13770.342092  13166.000000  13718.997801   \n",
      "50738  13379.751966  1515700800  13425.888341  13100.000000  13353.280002   \n",
      "50739  13440.110608  1515702600  13592.974745  13330.887383  13330.887383   \n",
      "50740  13344.642126  1515704400  13488.000000  13282.999999  13440.110608   \n",
      "50741  13450.000000  1515706200  13487.456620  13130.444591  13369.001001   \n",
      "50742  13305.000000  1515708000  13526.000000  13273.502889  13450.000000   \n",
      "\n",
      "       quoteVolume        volume  weightedAverage  \n",
      "0         0.004444  9.999990e-01       225.000000  \n",
      "1         0.000000  0.000000e+00       225.000000  \n",
      "2         0.128625  3.062465e+01       238.092076  \n",
      "3         0.060046  1.465123e+01       244.000000  \n",
      "4         0.000000  0.000000e+00       244.000000  \n",
      "5         0.000000  0.000000e+00       244.000000  \n",
      "6         0.000000  0.000000e+00       244.000000  \n",
      "7         0.000002  4.367600e-04       244.000000  \n",
      "8         0.000000  0.000000e+00       244.000000  \n",
      "9         0.000000  0.000000e+00       244.000000  \n",
      "10        0.000000  0.000000e+00       244.000000  \n",
      "11        0.000000  0.000000e+00       244.000000  \n",
      "12        0.000000  0.000000e+00       244.000000  \n",
      "13        0.000000  0.000000e+00       244.000000  \n",
      "14        0.000000  0.000000e+00       244.000000  \n",
      "15        0.000000  0.000000e+00       244.000000  \n",
      "16        0.000000  0.000000e+00       244.000000  \n",
      "17        0.000000  0.000000e+00       244.000000  \n",
      "18        0.000000  0.000000e+00       244.000000  \n",
      "19        0.000000  0.000000e+00       244.000000  \n",
      "20        0.000000  0.000000e+00       244.000000  \n",
      "21        0.000000  0.000000e+00       244.000000  \n",
      "22        0.044000  1.057101e+01       240.250116  \n",
      "23        0.000000  0.000000e+00       240.250116  \n",
      "24        0.000000  0.000000e+00       240.250116  \n",
      "25        0.000000  0.000000e+00       240.250116  \n",
      "26        0.000000  0.000000e+00       240.250116  \n",
      "27        0.116459  2.851346e+01       244.837285  \n",
      "28        0.000000  0.000000e+00       245.000000  \n",
      "29        0.000000  0.000000e+00       245.000000  \n",
      "...            ...           ...              ...  \n",
      "50713   150.074541  2.034777e+06     13558.443732  \n",
      "50714   212.731124  2.914412e+06     13699.980067  \n",
      "50715   189.575357  2.608147e+06     13757.837067  \n",
      "50716   121.037802  1.654937e+06     13672.891972  \n",
      "50717    97.080553  1.309842e+06     13492.320669  \n",
      "50718    96.134884  1.290135e+06     13420.049834  \n",
      "50719   116.736403  1.560509e+06     13367.802690  \n",
      "50720   212.385163  2.801784e+06     13191.996164  \n",
      "50721   198.485341  2.639349e+06     13297.452094  \n",
      "50722   149.314031  2.037150e+06     13643.391986  \n",
      "50723   168.003183  2.314411e+06     13775.995080  \n",
      "50724   194.736737  2.687405e+06     13800.195616  \n",
      "50725   104.522533  1.428931e+06     13671.037151  \n",
      "50726   181.536356  2.485628e+06     13692.177242  \n",
      "50727   341.349150  4.693453e+06     13749.714194  \n",
      "50728   327.528642  4.634589e+06     14150.178997  \n",
      "50729   239.668076  3.352518e+06     13988.169083  \n",
      "50730   174.456000  2.447411e+06     14028.817823  \n",
      "50731   166.233606  2.329331e+06     14012.395453  \n",
      "50732   152.997795  2.112793e+06     13809.300610  \n",
      "50733    98.420177  1.347217e+06     13688.425880  \n",
      "50734   123.888517  1.696973e+06     13697.581480  \n",
      "50735   105.027773  1.451560e+06     13820.724252  \n",
      "50736    80.179879  1.103054e+06     13757.242328  \n",
      "50737   294.365656  3.923784e+06     13329.624816  \n",
      "50738   125.743474  1.669537e+06     13277.323782  \n",
      "50739   146.225901  1.971434e+06     13482.111657  \n",
      "50740    90.413597  1.209370e+06     13375.971466  \n",
      "50741   105.652264  1.401709e+06     13267.192670  \n",
      "50742    67.592722  9.056264e+05     13398.282101  \n",
      "\n",
      "[50743 rows x 8 columns]\n",
      "{'USDT_BTC': {'start': '2015-02-19 14:00:00', 'end': '2018-01-11 17:00:00', 'status': True}}\n"
     ]
    }
   ],
   "source": [
    "update_data(is_all=True)"
   ]
  },
  {
   "cell_type": "code",
   "execution_count": 116,
   "metadata": {},
   "outputs": [
    {
     "data": {
      "text/plain": [
       "['USDT_BCH',\n",
       " 'USDT_BTC',\n",
       " 'USDT_DASH',\n",
       " 'USDT_ETC',\n",
       " 'USDT_ETH',\n",
       " 'USDT_LTC',\n",
       " 'USDT_NXT',\n",
       " 'USDT_REP',\n",
       " 'USDT_STR',\n",
       " 'USDT_XMR',\n",
       " 'USDT_XRP',\n",
       " 'USDT_ZEC']"
      ]
     },
     "execution_count": 116,
     "metadata": {},
     "output_type": "execute_result"
    }
   ],
   "source": [
    "df.columns\n",
    "pairs = [pair for pair in df.columns if pair.startswith('USD')]\n",
    "pairs"
   ]
  },
  {
   "cell_type": "code",
   "execution_count": 42,
   "metadata": {
    "collapsed": true
   },
   "outputs": [],
   "source": [
    "df = pd.read_json(\"https://poloniex.com/public?command=return24hVolume\")"
   ]
  },
  {
   "cell_type": "code",
   "execution_count": 86,
   "metadata": {},
   "outputs": [
    {
     "data": {
      "text/plain": [
       "'2018-01-11 21:37:06'"
      ]
     },
     "execution_count": 86,
     "metadata": {},
     "output_type": "execute_result"
    }
   ],
   "source": [
    "seconds2date(date2seconds(get_time_now()))"
   ]
  },
  {
   "cell_type": "code",
   "execution_count": 94,
   "metadata": {},
   "outputs": [],
   "source": [
    "from poloniex import Poloniex\n",
    "from time import time\n",
    "polo = Poloniex()\n",
    "# this should give you all the historical candle data for BTC_LTC market in 24hr candles\n",
    "x = polo.returnChartData('BTC_LTC', period=1800, start=date2seconds('2011-01-01 00:00:00'))"
   ]
  },
  {
   "cell_type": "code",
   "execution_count": null,
   "metadata": {
    "collapsed": true
   },
   "outputs": [],
   "source": [
    "with open('obj/'+ name + '.pkl', 'wb') as f:\n",
    "        pickle.dump(obj, f, pickle.HIGHEST_PROTOCOL)\n",
    "\n",
    "def load_obj(name ):\n",
    "    with open('obj/' + name + '.pkl', 'rb') as f:\n",
    "        return pickle.load(f)"
   ]
  },
  {
   "cell_type": "code",
   "execution_count": null,
   "metadata": {
    "collapsed": true
   },
   "outputs": [],
   "source": [
    "0.069442 "
   ]
  }
 ],
 "metadata": {
  "kernelspec": {
   "display_name": "Python 3",
   "language": "python",
   "name": "python3"
  },
  "language_info": {
   "codemirror_mode": {
    "name": "ipython",
    "version": 3
   },
   "file_extension": ".py",
   "mimetype": "text/x-python",
   "name": "python",
   "nbconvert_exporter": "python",
   "pygments_lexer": "ipython3",
   "version": "3.6.3"
  }
 },
 "nbformat": 4,
 "nbformat_minor": 2
}
