{
 "cells": [
  {
   "cell_type": "code",
   "execution_count": 2,
   "metadata": {},
   "outputs": [],
   "source": [
    "from airflow import DAG\n",
    "from airflow.operators.bash_operator import BashOperator\n",
    "from datetime import datetime, timedelta\n",
    "\n",
    "\n",
    "default_args = dict(\n",
    "    owner='airflow',\n",
    "    depends_on_past=False,\n",
    "    start_date=datetime(2018, 1, 1),\n",
    "    email=['f.j.akimoto@gmail.com'],\n",
    "    email_on_failure=False,\n",
    "    email_on_retry=False,\n",
    "    retries=1,\n",
    "    retry_delay=timedelta(minutes=5))"
   ]
  },
  {
   "cell_type": "code",
   "execution_count": 3,
   "metadata": {},
   "outputs": [
    {
     "ename": "AirflowException",
     "evalue": "Argument ['bash_command'] is required",
     "output_type": "error",
     "traceback": [
      "\u001b[0;31m---------------------------------------------------------------------------\u001b[0m",
      "\u001b[0;31mAirflowException\u001b[0m                          Traceback (most recent call last)",
      "\u001b[0;32m<ipython-input-3-11a560d4dc6b>\u001b[0m in \u001b[0;36m<module>\u001b[0;34m()\u001b[0m\n\u001b[1;32m      4\u001b[0m     \u001b[0mtask_id\u001b[0m\u001b[0;34m=\u001b[0m\u001b[0;34m'print_date'\u001b[0m\u001b[0;34m,\u001b[0m\u001b[0;34m\u001b[0m\u001b[0m\n\u001b[1;32m      5\u001b[0m     \u001b[0mbash_commands\u001b[0m\u001b[0;34m=\u001b[0m\u001b[0;34m'date'\u001b[0m\u001b[0;34m,\u001b[0m\u001b[0;34m\u001b[0m\u001b[0m\n\u001b[0;32m----> 6\u001b[0;31m     dag=dag)\n\u001b[0m\u001b[1;32m      7\u001b[0m \u001b[0;34m\u001b[0m\u001b[0m\n\u001b[1;32m      8\u001b[0m t2 = BashOperator(\n",
      "\u001b[0;32m~/anaconda3/lib/python3.6/site-packages/airflow/utils/decorators.py\u001b[0m in \u001b[0;36mwrapper\u001b[0;34m(*args, **kwargs)\u001b[0m\n\u001b[1;32m     80\u001b[0m         \u001b[0;32mif\u001b[0m \u001b[0mmissing_args\u001b[0m\u001b[0;34m:\u001b[0m\u001b[0;34m\u001b[0m\u001b[0m\n\u001b[1;32m     81\u001b[0m             \u001b[0mmsg\u001b[0m \u001b[0;34m=\u001b[0m \u001b[0;34m\"Argument {0} is required\"\u001b[0m\u001b[0;34m.\u001b[0m\u001b[0mformat\u001b[0m\u001b[0;34m(\u001b[0m\u001b[0mmissing_args\u001b[0m\u001b[0;34m)\u001b[0m\u001b[0;34m\u001b[0m\u001b[0m\n\u001b[0;32m---> 82\u001b[0;31m             \u001b[0;32mraise\u001b[0m \u001b[0mAirflowException\u001b[0m\u001b[0;34m(\u001b[0m\u001b[0mmsg\u001b[0m\u001b[0;34m)\u001b[0m\u001b[0;34m\u001b[0m\u001b[0m\n\u001b[0m\u001b[1;32m     83\u001b[0m \u001b[0;34m\u001b[0m\u001b[0m\n\u001b[1;32m     84\u001b[0m         \u001b[0mkwargs\u001b[0m\u001b[0;34m[\u001b[0m\u001b[0;34m'params'\u001b[0m\u001b[0;34m]\u001b[0m \u001b[0;34m=\u001b[0m \u001b[0mdag_params\u001b[0m\u001b[0;34m\u001b[0m\u001b[0m\n",
      "\u001b[0;31mAirflowException\u001b[0m: Argument ['bash_command'] is required"
     ]
    }
   ],
   "source": [
    "dag = DAG('tutorial', default_args=default_args)\n",
    "\n",
    "t1 = BashOperator(\n",
    "    task_id='print_date',\n",
    "    bash_commands='date',\n",
    "    dag=dag)\n",
    "\n",
    "t2 = BashOperator(\n",
    "    task_id='sleep',\n",
    "    bash_commands='sleep 5',\n",
    "    retries=3,\n",
    "    dag=dag)\n",
    "\n",
    "templated_command = \"\"\"\n",
    "    {% for i in range(5) %}\n",
    "        echo \"{{ ds }}\"\n",
    "        echo \"{{ macros.ds_add(ds, 7) }}\"\n",
    "        echo \"{{ params.my_param }}\"\n",
    "    {% endfor %}\n",
    "\"\"\"\n",
    "\n",
    "t3 = BashOperator(\n",
    "    task_id='templated',\n",
    "    bash_commands=templated_command,\n",
    "    params={'my_param': 'Parameter I passed in'},\n",
    "    dag=dag)\n",
    "\n",
    "t2.set_upstream(t1)\n",
    "t3.set_upstream(t2)"
   ]
  },
  {
   "cell_type": "code",
   "execution_count": 4,
   "metadata": {
    "collapsed": true
   },
   "outputs": [],
   "source": [
    "def get_data(pair, data_dir, start, end, period=1800):\n",
    "    datafile = os.path.join(data_dir, pair + \".csv\")\n",
    "    timefile = os.path.join(data_dir, pair)\n",
    "\n",
    "    start_sec = date2seconds(start)\n",
    "    end_sec = date2seconds(end)\n",
    "\n",
    "    FETCH_URL = \"https://poloniex.com/public?command=returnChartData&currencyPair=%s&start=%d&end=%d&period=%d\"\n",
    "    COLUMNS = [\"date\", \"high\", \"low\", \"open\",\n",
    "               \"close\", \"volume\", \"quoteVolume\", \"weightedAverage\"]\n",
    "\n",
    "    url = FETCH_URL % (pair, start_sec, end_sec, period)\n",
    "    print(\"Get %s from %d to %d with period %d\" % (pair, start_sec, end_sec, period))\n",
    "\n",
    "    df = pd.read_json(url, convert_dates=False)\n",
    "\n",
    "    if df[\"date\"].iloc[-1] == 0:\n",
    "        print(\"No data.\")\n",
    "        return\n",
    "\n",
    "    end_time = df[\"date\"].iloc[-1]\n",
    "    ft = open(timefile, \"w\")\n",
    "    ft.write(\"%d\\n\" % end_time)\n",
    "    ft.close()\n",
    "    outf = open(datafile, \"w\")\n",
    "    df.to_csv(outf, index=False, columns=COLUMNS)\n",
    "    outf.close()\n",
    "    print(\"Finish.\")\n",
    "    time.sleep(5)"
   ]
  },
  {
   "cell_type": "code",
   "execution_count": null,
   "metadata": {
    "collapsed": true
   },
   "outputs": [],
   "source": []
  },
  {
   "cell_type": "code",
   "execution_count": null,
   "metadata": {
    "collapsed": true
   },
   "outputs": [],
   "source": []
  },
  {
   "cell_type": "code",
   "execution_count": null,
   "metadata": {
    "collapsed": true
   },
   "outputs": [],
   "source": []
  },
  {
   "cell_type": "code",
   "execution_count": null,
   "metadata": {
    "collapsed": true
   },
   "outputs": [],
   "source": []
  },
  {
   "cell_type": "code",
   "execution_count": null,
   "metadata": {
    "collapsed": true
   },
   "outputs": [],
   "source": []
  },
  {
   "cell_type": "code",
   "execution_count": null,
   "metadata": {
    "collapsed": true
   },
   "outputs": [],
   "source": []
  },
  {
   "cell_type": "code",
   "execution_count": 48,
   "metadata": {
    "collapsed": true
   },
   "outputs": [],
   "source": [
    "from datetime import datetime\n",
    "import time\n",
    "\n",
    "def date2seconds(str_time):\n",
    "    datetime_obj = datetime.strptime(str_time, '%Y-%m-%d %H:%M:%S')\n",
    "    seconds = time.mktime(datetime_obj.timetuple())\n",
    "    return seconds\n",
    "\n",
    "\n",
    "def seconds2date(seconds):\n",
    "    date_obj = time.localtime(seconds)\n",
    "    str_time = '%04d-%02d-%02d %02d:%02d:%02d'\n",
    "    return str_time % (date_obj.tm_year, date_obj.tm_mon, date_obj.tm_mday,\n",
    "                       date_obj.tm_hour, date_obj.tm_min, date_obj.tm_sec) "
   ]
  },
  {
   "cell_type": "code",
   "execution_count": 49,
   "metadata": {},
   "outputs": [
    {
     "name": "stdout",
     "output_type": "stream",
     "text": [
      "1473235200.0\n",
      "2016-09-07 04:00:00\n"
     ]
    }
   ],
   "source": [
    "# from rltensor.environments.utils import date2seconds\n",
    "\n",
    "end = '2016-09-07 04:00:00'\n",
    "sec = date2seconds(end)\n",
    "print(sec)\n",
    "d = seconds2date(sec)\n",
    "print(d)"
   ]
  },
  {
   "cell_type": "code",
   "execution_count": 35,
   "metadata": {},
   "outputs": [
    {
     "name": "stdout",
     "output_type": "stream",
     "text": [
      "1473580800.0\n",
      "2016-09-11 08:00:00\n"
     ]
    }
   ],
   "source": [
    "sec = date2seconds(d)\n",
    "print(sec)\n",
    "d = seconds2date(sec)\n",
    "print(d)"
   ]
  },
  {
   "cell_type": "code",
   "execution_count": 6,
   "metadata": {},
   "outputs": [
    {
     "data": {
      "text/plain": [
       "time.struct_time(tm_year=2010, tm_mon=9, tm_mday=12, tm_hour=10, tm_min=19, tm_sec=54, tm_wday=6, tm_yday=255, tm_isdst=0)"
      ]
     },
     "execution_count": 6,
     "metadata": {},
     "output_type": "execute_result"
    }
   ],
   "source": [
    "t1"
   ]
  },
  {
   "cell_type": "code",
   "execution_count": 9,
   "metadata": {},
   "outputs": [
    {
     "data": {
      "text/plain": [
       "'12'"
      ]
     },
     "execution_count": 9,
     "metadata": {},
     "output_type": "execute_result"
    }
   ],
   "source": [
    "'%02d' % 12"
   ]
  },
  {
   "cell_type": "code",
   "execution_count": null,
   "metadata": {
    "collapsed": true
   },
   "outputs": [],
   "source": []
  }
 ],
 "metadata": {
  "kernelspec": {
   "display_name": "Python 3",
   "language": "python",
   "name": "python3"
  },
  "language_info": {
   "codemirror_mode": {
    "name": "ipython",
    "version": 3
   },
   "file_extension": ".py",
   "mimetype": "text/x-python",
   "name": "python",
   "nbconvert_exporter": "python",
   "pygments_lexer": "ipython3",
   "version": "3.6.3"
  }
 },
 "nbformat": 4,
 "nbformat_minor": 2
}
