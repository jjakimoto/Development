{
 "cells": [
  {
   "cell_type": "code",
   "execution_count": 48,
   "metadata": {
    "collapsed": true
   },
   "outputs": [],
   "source": [
    "from datetime import datetime\n",
    "import time\n",
    "\n",
    "def date2seconds(str_time):\n",
    "    datetime_obj = datetime.strptime(str_time, '%Y-%m-%d %H:%M:%S')\n",
    "    seconds = time.mktime(datetime_obj.timetuple())\n",
    "    return seconds\n",
    "\n",
    "\n",
    "def seconds2date(seconds):\n",
    "    date_obj = time.localtime(seconds)\n",
    "    str_time = '%04d-%02d-%02d %02d:%02d:%02d'\n",
    "    return str_time % (date_obj.tm_year, date_obj.tm_mon, date_obj.tm_mday,\n",
    "                       date_obj.tm_hour, date_obj.tm_min, date_obj.tm_sec) "
   ]
  },
  {
   "cell_type": "code",
   "execution_count": 49,
   "metadata": {},
   "outputs": [
    {
     "name": "stdout",
     "output_type": "stream",
     "text": [
      "1473235200.0\n",
      "2016-09-07 04:00:00\n"
     ]
    }
   ],
   "source": [
    "# from rltensor.environments.utils import date2seconds\n",
    "\n",
    "end = '2016-09-07 04:00:00'\n",
    "sec = date2seconds(end)\n",
    "print(sec)\n",
    "d = seconds2date(sec)\n",
    "print(d)"
   ]
  },
  {
   "cell_type": "code",
   "execution_count": 35,
   "metadata": {},
   "outputs": [
    {
     "name": "stdout",
     "output_type": "stream",
     "text": [
      "1473580800.0\n",
      "2016-09-11 08:00:00\n"
     ]
    }
   ],
   "source": [
    "sec = date2seconds(d)\n",
    "print(sec)\n",
    "d = seconds2date(sec)\n",
    "print(d)"
   ]
  },
  {
   "cell_type": "code",
   "execution_count": 6,
   "metadata": {},
   "outputs": [
    {
     "data": {
      "text/plain": [
       "time.struct_time(tm_year=2010, tm_mon=9, tm_mday=12, tm_hour=10, tm_min=19, tm_sec=54, tm_wday=6, tm_yday=255, tm_isdst=0)"
      ]
     },
     "execution_count": 6,
     "metadata": {},
     "output_type": "execute_result"
    }
   ],
   "source": [
    "t1"
   ]
  },
  {
   "cell_type": "code",
   "execution_count": 9,
   "metadata": {},
   "outputs": [
    {
     "data": {
      "text/plain": [
       "'12'"
      ]
     },
     "execution_count": 9,
     "metadata": {},
     "output_type": "execute_result"
    }
   ],
   "source": [
    "'%02d' % 12"
   ]
  },
  {
   "cell_type": "code",
   "execution_count": null,
   "metadata": {
    "collapsed": true
   },
   "outputs": [],
   "source": []
  }
 ],
 "metadata": {
  "kernelspec": {
   "display_name": "Python 3",
   "language": "python",
   "name": "python3"
  },
  "language_info": {
   "codemirror_mode": {
    "name": "ipython",
    "version": 3
   },
   "file_extension": ".py",
   "mimetype": "text/x-python",
   "name": "python",
   "nbconvert_exporter": "python",
   "pygments_lexer": "ipython3",
   "version": "3.6.1"
  }
 },
 "nbformat": 4,
 "nbformat_minor": 2
}
