{
 "cells": [
  {
   "cell_type": "code",
   "execution_count": 11,
   "metadata": {},
   "outputs": [
    {
     "name": "stdout",
     "output_type": "stream",
     "text": [
      "{'BCH': {'aclass': 'currency', 'altname': 'BCH', 'decimals': 10, 'display_decimals': 5}, 'DASH': {'aclass': 'currency', 'altname': 'DASH', 'decimals': 10, 'display_decimals': 5}, 'EOS': {'aclass': 'currency', 'altname': 'EOS', 'decimals': 10, 'display_decimals': 5}, 'GNO': {'aclass': 'currency', 'altname': 'GNO', 'decimals': 10, 'display_decimals': 5}, 'KFEE': {'aclass': 'currency', 'altname': 'FEE', 'decimals': 2, 'display_decimals': 2}, 'USDT': {'aclass': 'currency', 'altname': 'USDT', 'decimals': 8, 'display_decimals': 4}, 'XDAO': {'aclass': 'currency', 'altname': 'DAO', 'decimals': 10, 'display_decimals': 3}, 'XETC': {'aclass': 'currency', 'altname': 'ETC', 'decimals': 10, 'display_decimals': 5}, 'XETH': {'aclass': 'currency', 'altname': 'ETH', 'decimals': 10, 'display_decimals': 5}, 'XICN': {'aclass': 'currency', 'altname': 'ICN', 'decimals': 10, 'display_decimals': 5}, 'XLTC': {'aclass': 'currency', 'altname': 'LTC', 'decimals': 10, 'display_decimals': 5}, 'XMLN': {'aclass': 'currency', 'altname': 'MLN', 'decimals': 10, 'display_decimals': 5}, 'XNMC': {'aclass': 'currency', 'altname': 'NMC', 'decimals': 10, 'display_decimals': 5}, 'XREP': {'aclass': 'currency', 'altname': 'REP', 'decimals': 10, 'display_decimals': 5}, 'XXBT': {'aclass': 'currency', 'altname': 'XBT', 'decimals': 10, 'display_decimals': 5}, 'XXDG': {'aclass': 'currency', 'altname': 'XDG', 'decimals': 8, 'display_decimals': 2}, 'XXLM': {'aclass': 'currency', 'altname': 'XLM', 'decimals': 8, 'display_decimals': 5}, 'XXMR': {'aclass': 'currency', 'altname': 'XMR', 'decimals': 10, 'display_decimals': 5}, 'XXRP': {'aclass': 'currency', 'altname': 'XRP', 'decimals': 8, 'display_decimals': 5}, 'XXVN': {'aclass': 'currency', 'altname': 'XVN', 'decimals': 4, 'display_decimals': 2}, 'XZEC': {'aclass': 'currency', 'altname': 'ZEC', 'decimals': 10, 'display_decimals': 5}, 'ZCAD': {'aclass': 'currency', 'altname': 'CAD', 'decimals': 4, 'display_decimals': 2}, 'ZEUR': {'aclass': 'currency', 'altname': 'EUR', 'decimals': 4, 'display_decimals': 2}, 'ZGBP': {'aclass': 'currency', 'altname': 'GBP', 'decimals': 4, 'display_decimals': 2}, 'ZJPY': {'aclass': 'currency', 'altname': 'JPY', 'decimals': 2, 'display_decimals': 0}, 'ZKRW': {'aclass': 'currency', 'altname': 'KRW', 'decimals': 2, 'display_decimals': 0}, 'ZUSD': {'aclass': 'currency', 'altname': 'USD', 'decimals': 4, 'display_decimals': 2}}\n"
     ]
    }
   ],
   "source": [
    "import json\n",
    "from urllib.request import urlopen\n",
    "\n",
    "url = \"https://api.kraken.com/0/public/Assets\"\n",
    "\n",
    "res = urlopen(url)\n",
    "result = json.loads(res.read())[\"result\"]\n",
    "print(result)"
   ]
  },
  {
   "cell_type": "code",
   "execution_count": 14,
   "metadata": {},
   "outputs": [
    {
     "name": "stdout",
     "output_type": "stream",
     "text": [
      "{'error': ['EQuery:Unknown asset pair']}\n"
     ]
    }
   ],
   "source": [
    "import json\n",
    "from urllib.request import urlopen\n",
    "\n",
    "url = \"https://api.kraken.com/0/public/Ticker?pair=BCH\"\n",
    "\n",
    "res = urlopen(url)\n",
    "result = json.loads(res.read())[\"result\"]\n",
    "print(result)"
   ]
  },
  {
   "cell_type": "code",
   "execution_count": null,
   "metadata": {
    "collapsed": true
   },
   "outputs": [],
   "source": [
    "pair = asset pair\n",
    "type = type of order (buy/sell)\n",
    "ordertype = order type:\n",
    "    market\n",
    "    limit (price = limit price)\n",
    "    stop-loss (price = stop loss price)\n",
    "    take-profit (price = take profit price)\n",
    "    stop-loss-profit (price = stop loss price, price2 = take profit price)\n",
    "    stop-loss-profit-limit (price = stop loss price, price2 = take profit price)\n",
    "    stop-loss-limit (price = stop loss trigger price, price2 = triggered limit price)\n",
    "    take-profit-limit (price = take profit trigger price, price2 = triggered limit price)\n",
    "    trailing-stop (price = trailing stop offset)\n",
    "    trailing-stop-limit (price = trailing stop offset, price2 = triggered limit offset)\n",
    "    stop-loss-and-limit (price = stop loss price, price2 = limit price)\n",
    "    settle-position\n",
    "price = price (optional.  dependent upon ordertype)\n",
    "price2 = secondary price (optional.  dependent upon ordertype)\n",
    "volume = order volume in lots\n",
    "leverage = amount of leverage desired (optional.  default = none)\n",
    "oflags = comma delimited list of order flags (optional):\n",
    "    viqc = volume in quote currency (not available for leveraged orders)\n",
    "    fcib = prefer fee in base currency\n",
    "    fciq = prefer fee in quote currency\n",
    "    nompp = no market price protection\n",
    "    post = post only order (available when ordertype = limit)\n",
    "starttm = scheduled start time (optional):\n",
    "    0 = now (default)\n",
    "    +<n> = schedule start time <n> seconds from now\n",
    "    <n> = unix timestamp of start time\n",
    "expiretm = expiration time (optional):\n",
    "    0 = no expiration (default)\n",
    "    +<n> = expire <n> seconds from now\n",
    "    <n> = unix timestamp of expiration time\n",
    "userref = user reference id.  32-bit signed number.  (optional)\n",
    "validate = validate inputs only.  do not submit order (optional)\n",
    "\n",
    "optional closing order to add to system when order gets filled:\n",
    "    close[ordertype] = order type\n",
    "    close[price] = price\n",
    "    close[price2] = secondary price"
   ]
  }
 ],
 "metadata": {
  "kernelspec": {
   "display_name": "Python 3",
   "language": "python",
   "name": "python3"
  },
  "language_info": {
   "codemirror_mode": {
    "name": "ipython",
    "version": 3
   },
   "file_extension": ".py",
   "mimetype": "text/x-python",
   "name": "python",
   "nbconvert_exporter": "python",
   "pygments_lexer": "ipython3",
   "version": "3.6.1"
  }
 },
 "nbformat": 4,
 "nbformat_minor": 2
}
