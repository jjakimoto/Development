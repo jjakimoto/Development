{
 "cells": [
  {
   "cell_type": "code",
   "execution_count": 18,
   "metadata": {},
   "outputs": [],
   "source": [
    "from urllib.request import urlopen\n",
    "from io import BytesIO\n",
    "from zipfile import ZipFile\n",
    "\n",
    "api_key = \"VBG5xmxqpRXRex_xQ-9Y\"\n",
    "url = \"https://www.quandl.com/api/v3/databases/WIKI/codes.json?api_key=%s\" % api_key\n",
    "res = urlopen(url)\n",
    "zipfile = ZipFile(BytesIO(res.read()))\n",
    "zipfile.extract(zipfile.namelist()[0])\n",
    "df = pd.read_csv(zipfile.namelist()[0], header=None)"
   ]
  },
  {
   "cell_type": "code",
   "execution_count": 60,
   "metadata": {},
   "outputs": [
    {
     "data": {
      "text/plain": [
       "array(['WIKI/AAPL', 'WIKI/ABC', 'WIKI/AA', ..., 'WIKI/TPR', 'WIKI/IQV',\n",
       "       'WIKI/APTV'], dtype=object)"
      ]
     },
     "execution_count": 60,
     "metadata": {},
     "output_type": "execute_result"
    }
   ],
   "source": [
    "df[0].values"
   ]
  },
  {
   "cell_type": "code",
   "execution_count": 20,
   "metadata": {},
   "outputs": [],
   "source": [
    "import json\n",
    "import pandas as pd\n",
    "from urllib.request import urlopen\n",
    "\n",
    "dfs = []\n",
    "for ticker in df[0].values[:10]:\n",
    "    url = \"https://www.quandl.com/api/v3/datasets/%s/data.json?api_key=%s\" % (ticker, api_key)\n",
    "    res = urlopen(url)\n",
    "    res = json.loads(res.read())\n",
    "    dfs.append(res)"
   ]
  },
  {
   "cell_type": "code",
   "execution_count": 55,
   "metadata": {},
   "outputs": [
    {
     "data": {
      "text/plain": [
       "['Date',\n",
       " 'Open',\n",
       " 'High',\n",
       " 'Low',\n",
       " 'Close',\n",
       " 'Volume',\n",
       " 'Ex-Dividend',\n",
       " 'Split Ratio',\n",
       " 'Adj. Open',\n",
       " 'Adj. High',\n",
       " 'Adj. Low',\n",
       " 'Adj. Close',\n",
       " 'Adj. Volume']"
      ]
     },
     "execution_count": 55,
     "metadata": {},
     "output_type": "execute_result"
    }
   ],
   "source": [
    "dfs[0]['dataset_data']['column_names']"
   ]
  },
  {
   "cell_type": "code",
   "execution_count": 56,
   "metadata": {},
   "outputs": [
    {
     "data": {
      "text/plain": [
       "['2018-02-05',\n",
       " 159.1,\n",
       " 163.88,\n",
       " 156.0,\n",
       " 157.49,\n",
       " 66090446.0,\n",
       " 0.0,\n",
       " 1.0,\n",
       " 159.1,\n",
       " 163.88,\n",
       " 156.0,\n",
       " 157.49,\n",
       " 66090446.0]"
      ]
     },
     "execution_count": 56,
     "metadata": {},
     "output_type": "execute_result"
    }
   ],
   "source": [
    "dfs[0]['dataset_data']['data'][0]"
   ]
  },
  {
   "cell_type": "code",
   "execution_count": 41,
   "metadata": {},
   "outputs": [],
   "source": [
    "from datetime import datetime\n",
    "\n",
    "def date2daily(str_time):\n",
    "    x = datetime.strptime(str_time, '%Y-%m-%d %H:%M:%S')\n",
    "    daily = \"%04d-%02d-%02d\" % (x.year, x.month, x.day)\n",
    "    return daily"
   ]
  },
  {
   "cell_type": "code",
   "execution_count": 42,
   "metadata": {},
   "outputs": [],
   "source": [
    "start = \"2018-01-01 00:00:00\"\n",
    "x = date2daily(start)"
   ]
  },
  {
   "cell_type": "code",
   "execution_count": 46,
   "metadata": {},
   "outputs": [],
   "source": [
    "from datetime import datetime\n",
    "\n",
    "def daily2date(daily):\n",
    "    x = datetime.strptime(daily, \"%Y-%m-%d\")\n",
    "    date = \"%04d-%02d-%02d 00:00:00\" % (x.year, x.month, x.day)\n",
    "    return date"
   ]
  },
  {
   "cell_type": "code",
   "execution_count": 48,
   "metadata": {},
   "outputs": [
    {
     "data": {
      "text/plain": [
       "'2018-01-01 00:00:00'"
      ]
     },
     "execution_count": 48,
     "metadata": {},
     "output_type": "execute_result"
    }
   ],
   "source": [
    "daily2date(x)"
   ]
  },
  {
   "cell_type": "code",
   "execution_count": 37,
   "metadata": {},
   "outputs": [
    {
     "data": {
      "text/plain": [
       "1"
      ]
     },
     "execution_count": 37,
     "metadata": {},
     "output_type": "execute_result"
    }
   ],
   "source": [
    "x.day"
   ]
  },
  {
   "cell_type": "code",
   "execution_count": 57,
   "metadata": {
    "collapsed": true
   },
   "outputs": [],
   "source": [
    "from time import sleep"
   ]
  },
  {
   "cell_type": "code",
   "execution_count": 58,
   "metadata": {
    "collapsed": true
   },
   "outputs": [],
   "source": [
    "sleep(3)"
   ]
  },
  {
   "cell_type": "code",
   "execution_count": null,
   "metadata": {
    "collapsed": true
   },
   "outputs": [],
   "source": []
  }
 ],
 "metadata": {
  "kernelspec": {
   "display_name": "Python 3",
   "language": "python",
   "name": "python3"
  },
  "language_info": {
   "codemirror_mode": {
    "name": "ipython",
    "version": 3
   },
   "file_extension": ".py",
   "mimetype": "text/x-python",
   "name": "python",
   "nbconvert_exporter": "python",
   "pygments_lexer": "ipython3",
   "version": "3.6.1"
  }
 },
 "nbformat": 4,
 "nbformat_minor": 2
}
