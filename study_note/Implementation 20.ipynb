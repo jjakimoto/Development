{
 "cells": [
  {
   "cell_type": "code",
   "execution_count": 9,
   "metadata": {},
   "outputs": [],
   "source": [
    "import numpy as np\n",
    "import pandas as pd\n",
    "import multiprocessing as mp"
   ]
  },
  {
   "cell_type": "code",
   "execution_count": 10,
   "metadata": {},
   "outputs": [],
   "source": [
    "r = np.random.normal(0, .01, size=(1000, 10000))\n",
    "num_threads = 24"
   ]
  },
  {
   "cell_type": "code",
   "execution_count": 11,
   "metadata": {},
   "outputs": [],
   "source": [
    "def barrier_touch(r, width=.5):\n",
    "    t = dict()\n",
    "    p = np.log((1 + r).cumprod(axis=0))\n",
    "    for j in range(r.shape[1]):\n",
    "        for i in range(r.shape[0]):\n",
    "            if p[i, j] >= width or p[i, j] <= -width:\n",
    "                t[j] = i\n",
    "                continue\n",
    "    return t"
   ]
  },
  {
   "cell_type": "code",
   "execution_count": 12,
   "metadata": {},
   "outputs": [
    {
     "name": "stdout",
     "output_type": "stream",
     "text": [
      "CPU times: user 38.1 ms, sys: 104 ms, total: 143 ms\n",
      "Wall time: 365 ms\n"
     ]
    }
   ],
   "source": [
    "%%time\n",
    "parts = np.linspace(0, r.shape[0], min(num_threads, r.shape[0]) + 1)\n",
    "parts = np.ceil(parts).astype(int)\n",
    "jobs = []\n",
    "for i  in range(1, len(parts)):\n",
    "    jobs.append(r[:, parts[i-1]:parts[i]])\n",
    "pool = mp.Pool(processes=num_threads)\n",
    "out = []\n",
    "outputs = pool.imap_unordered(barrier_touch, jobs)\n",
    "for out_ in outputs:\n",
    "    out.append(out_)\n",
    "pool.close()\n",
    "pool.join()"
   ]
  },
  {
   "cell_type": "code",
   "execution_count": 13,
   "metadata": {},
   "outputs": [
    {
     "name": "stdout",
     "output_type": "stream",
     "text": [
      "CPU times: user 4.39 s, sys: 90.3 ms, total: 4.48 s\n",
      "Wall time: 4.48 s\n"
     ]
    }
   ],
   "source": [
    "%%time\n",
    "out = barrier_touch(r)"
   ]
  },
  {
   "cell_type": "code",
   "execution_count": 14,
   "metadata": {},
   "outputs": [],
   "source": [
    "def lin_parts(num_atoms, num_threads):\n",
    "    parts = np.linspace(0, num_atoms, min(num_threads, num_atoms) + 1)\n",
    "    parts = np.ceil(parts).astype(int)\n",
    "    return parts"
   ]
  },
  {
   "cell_type": "code",
   "execution_count": 15,
   "metadata": {},
   "outputs": [],
   "source": [
    "import pandas as pd\n",
    "import numpy as np\n",
    "\n",
    "def process_jobs(jobs):\n",
    "    out = []\n",
    "    for job in jobs:\n",
    "        out_ = expand_call(job)\n",
    "        out.append(out_)\n",
    "    return out\n",
    "\n",
    "def mp_pandas_obj(func, pd_obj, num_threads=24, mp_batches=1, lin_mols=True, **kwargs):\n",
    "    num_atoms = len(pd_obj[1])\n",
    "    if lin_mols:\n",
    "        parts = lin_parts(num_atoms, num_threads * mp_batches)\n",
    "    else:\n",
    "        parts = nested_parts(num_atoms, num_threads * mp_batches)\n",
    "    jobs = []\n",
    "    for i in range(1, len(parts)):\n",
    "        job = {pd_obj[0]: pd_obj[1][parts[i - 1]:parts[i]], 'func': func}\n",
    "        job.update(kwargs)\n",
    "        jobs.append(job)\n",
    "    if num_threads == 1:\n",
    "        out = process_jobs(jobs)\n",
    "    else:\n",
    "        out = process_jobs(jobs, num_threads=num_threads)\n",
    "    \n",
    "    if isinstance(out[0], pd.DataFrame):\n",
    "        df0 = pd.DataFrame()\n",
    "    elif isinstance(out[0], pd.Series):\n",
    "        df0 = pd.Series()\n",
    "    else:\n",
    "        return out\n",
    "    \n",
    "    for i in out:\n",
    "        df0 = df0.append(i)\n",
    "    df0 = df0.sort_index()\n",
    "    return df0"
   ]
  },
  {
   "cell_type": "code",
   "execution_count": 16,
   "metadata": {},
   "outputs": [],
   "source": [
    "import multiprocessing as mp\n",
    "import time\n",
    "import datetime\n",
    "import sys\n",
    "\n",
    "\n",
    "def report_progress(job_num, num_jobs, time0, task):\n",
    "    msg = [float(job_num) / num_jobs, (time.time() - time0) / 60.]\n",
    "    msg.append(msg[1] * (1 / msg[0] - 1))\n",
    "    time_stamp  = str(datetime.datetime.fromtimestamp(time.time()))\n",
    "    msg = time_stamp + ' ' + str(round(msg[0] * 100, 2)) + '% ' + task + ' done after ' + \\\n",
    "        str(round(msg[1], 2)) + ' minutes. Remaining ' + str(round(mgs[2], 2)) + ' minutes.'\n",
    "    if job_num < num_jobs:\n",
    "        sys.stderr.write(msg + '\\r')\n",
    "    else:\n",
    "        sys.stderr.write(msg + '\\n')\n",
    "        \n",
    "\n",
    "def process_jobs(jobs, task=None, num_threads=24):\n",
    "    if task is None:\n",
    "        task = jobs[0]['func'].__name__\n",
    "    pool = mp.Pool(processes=num_threads)\n",
    "    \n",
    "    outputs = pool.imap_unordered(expand_call, jobs)\n",
    "    out = []\n",
    "    time0 =  time.time()\n",
    "    for i, out_ in enumerate(outputs, 1):\n",
    "        out.append(out_)\n",
    "        report_progress(i, len(jobs), time0, task)\n",
    "    pool.close()\n",
    "    pool.join()\n",
    "    return out"
   ]
  },
  {
   "cell_type": "markdown",
   "metadata": {},
   "source": [
    "# 20.1"
   ]
  },
  {
   "cell_type": "code",
   "execution_count": 17,
   "metadata": {},
   "outputs": [],
   "source": [
    "from itertools import product\n",
    "\n",
    "dict0 = {'a': ['1', '2'], 'b': ['+', '*'], 'c': ['!', '@']}\n",
    "jobs = (dict(zip(dict0,i)) for i in product(*dict0.values()))"
   ]
  },
  {
   "cell_type": "code",
   "execution_count": 18,
   "metadata": {},
   "outputs": [
    {
     "data": {
      "text/plain": [
       "[('1', '+', '!'),\n",
       " ('1', '+', '@'),\n",
       " ('1', '*', '!'),\n",
       " ('1', '*', '@'),\n",
       " ('2', '+', '!'),\n",
       " ('2', '+', '@'),\n",
       " ('2', '*', '!'),\n",
       " ('2', '*', '@')]"
      ]
     },
     "execution_count": 18,
     "metadata": {},
     "output_type": "execute_result"
    }
   ],
   "source": [
    "list(product(*dict0.values()))"
   ]
  },
  {
   "cell_type": "code",
   "execution_count": 19,
   "metadata": {},
   "outputs": [
    {
     "data": {
      "text/plain": [
       "[{'a': '1', 'b': '+', 'c': '!'},\n",
       " {'a': '1', 'b': '+', 'c': '@'},\n",
       " {'a': '1', 'b': '*', 'c': '!'},\n",
       " {'a': '1', 'b': '*', 'c': '@'},\n",
       " {'a': '2', 'b': '+', 'c': '!'},\n",
       " {'a': '2', 'b': '+', 'c': '@'},\n",
       " {'a': '2', 'b': '*', 'c': '!'},\n",
       " {'a': '2', 'b': '*', 'c': '@'}]"
      ]
     },
     "execution_count": 19,
     "metadata": {},
     "output_type": "execute_result"
    }
   ],
   "source": [
    "list(jobs)"
   ]
  },
  {
   "cell_type": "code",
   "execution_count": null,
   "metadata": {
    "collapsed": true
   },
   "outputs": [],
   "source": []
  }
 ],
 "metadata": {
  "kernelspec": {
   "display_name": "Python 3",
   "language": "python",
   "name": "python3"
  },
  "language_info": {
   "codemirror_mode": {
    "name": "ipython",
    "version": 3
   },
   "file_extension": ".py",
   "mimetype": "text/x-python",
   "name": "python",
   "nbconvert_exporter": "python",
   "pygments_lexer": "ipython3",
   "version": "3.6.4"
  }
 },
 "nbformat": 4,
 "nbformat_minor": 2
}
