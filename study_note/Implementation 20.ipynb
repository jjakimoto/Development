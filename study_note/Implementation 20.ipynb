{
 "cells": [
  {
   "cell_type": "code",
   "execution_count": 2,
   "metadata": {},
   "outputs": [],
   "source": [
    "import numpy as np\n",
    "import pandas as pd\n",
    "import multiprocessing as mp"
   ]
  },
  {
   "cell_type": "code",
   "execution_count": 3,
   "metadata": {},
   "outputs": [],
   "source": [
    "r = np.random.normal(0, .01, size=(1000, 10000))\n",
    "num_threads = 24"
   ]
  },
  {
   "cell_type": "code",
   "execution_count": 4,
   "metadata": {},
   "outputs": [],
   "source": [
    "def barrier_touch(r, width=.5):\n",
    "    t = dict()\n",
    "    p = np.log((1 + r).cumprod(axis=0))\n",
    "    for j in range(r.shape[1]):\n",
    "        for i in range(r.shape[0]):\n",
    "            if p[i, j] >= width or p[i, j] <= -width:\n",
    "                t[j] = i\n",
    "                continue\n",
    "    return t"
   ]
  },
  {
   "cell_type": "code",
   "execution_count": 5,
   "metadata": {},
   "outputs": [
    {
     "name": "stdout",
     "output_type": "stream",
     "text": [
      "CPU times: user 25.3 ms, sys: 83.4 ms, total: 109 ms\n",
      "Wall time: 318 ms\n"
     ]
    }
   ],
   "source": [
    "%%time\n",
    "parts = np.linspace(0, r.shape[0], min(num_threads, r.shape[0]) + 1)\n",
    "parts = np.ceil(parts).astype(int)\n",
    "jobs = []\n",
    "for i  in range(1, len(parts)):\n",
    "    jobs.append(r[:, parts[i-1]:parts[i]])\n",
    "pool = mp.Pool(processes=num_threads)\n",
    "out = []\n",
    "outputs = pool.imap_unordered(barrier_touch, jobs)\n",
    "for out_ in outputs:\n",
    "    out.append(out_)\n",
    "pool.close()\n",
    "pool.join()"
   ]
  },
  {
   "cell_type": "code",
   "execution_count": 6,
   "metadata": {},
   "outputs": [
    {
     "name": "stdout",
     "output_type": "stream",
     "text": [
      "CPU times: user 4.53 s, sys: 84.2 ms, total: 4.61 s\n",
      "Wall time: 4.61 s\n"
     ]
    }
   ],
   "source": [
    "%%time\n",
    "out = barrier_touch(r)"
   ]
  },
  {
   "cell_type": "code",
   "execution_count": 7,
   "metadata": {},
   "outputs": [],
   "source": [
    "def lin_parts(num_atoms, num_threads):\n",
    "    parts = np.linspace(0, num_atoms, min(num_threads, num_atoms) + 1)\n",
    "    parts = np.ceil(parts).astype(int)\n",
    "    return parts"
   ]
  },
  {
   "cell_type": "code",
   "execution_count": 8,
   "metadata": {},
   "outputs": [],
   "source": [
    "import pandas as pd\n",
    "import numpy as np\n",
    "\n",
    "def mp_pandas_obj(func, pd_obj, num_threads, mp_batches=1,\n",
    "                  lin_mols=True, **kwargs):\n",
    "    if lin_mols:\n",
    "        parts = lin_parts(len(pd_obj[1]), num_threads * mp_batches)\n",
    "    else:\n",
    "        parts = nested_parts(len(pd_obj[1]), num_threads, mp_batches)\n",
    "    jobs = []\n",
    "    for i in range(1, len(parts)):\n",
    "        job = {pd_obj[0]: pd_obj[1][parts[i-1]: parts[i]], 'func': func}\n",
    "        job.update(kwargs)\n",
    "        jobs.append(job)\n",
    "    if num_threads == 1:\n",
    "        out = process_jobs_(jobs)\n",
    "    else:\n",
    "        out = process_jobs_(jobs, num_threads=num_threads)\n",
    "    if isinstance(out, pd.DataFrame):\n",
    "        df0 = pd.DataFrame()\n",
    "    elif isinstance(out, pd.Series):\n",
    "        df0 = pd.Series()\n",
    "    else:\n",
    "        return out\n",
    "    for i in out:\n",
    "        df0 = df0.append(i)\n",
    "    df0 = df0.sort_index()\n",
    "    return df0"
   ]
  },
  {
   "cell_type": "code",
   "execution_count": null,
   "metadata": {},
   "outputs": [],
   "source": []
  }
 ],
 "metadata": {
  "kernelspec": {
   "display_name": "Python 3",
   "language": "python",
   "name": "python3"
  },
  "language_info": {
   "codemirror_mode": {
    "name": "ipython",
    "version": 3
   },
   "file_extension": ".py",
   "mimetype": "text/x-python",
   "name": "python",
   "nbconvert_exporter": "python",
   "pygments_lexer": "ipython3",
   "version": "3.6.4"
  }
 },
 "nbformat": 4,
 "nbformat_minor": 2
}
