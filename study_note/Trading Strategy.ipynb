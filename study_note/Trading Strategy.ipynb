{
 "cells": [
  {
   "cell_type": "markdown",
   "metadata": {},
   "source": [
    "# Idea\n",
    "* Implement different strategies for different regimes"
   ]
  },
  {
   "cell_type": "markdown",
   "metadata": {},
   "source": [
    "# Structural Breaks\n",
    "* CUMSUM Test\n",
    "    * Check if data is deviated from more than noise\n",
    "    * Define statistics you wanna test\n",
    "* Explosiveness Tests\n",
    "    * Have not idea when structural break happens\n",
    "* Right tail unit-root tests\n",
    "* Sub/super-martingale tests\n",
    "\n"
   ]
  },
  {
   "cell_type": "markdown",
   "metadata": {},
   "source": [
    "# Betting Size\n",
    "Difference of how to estimate the reasonable size of betting\n",
    "http://epchan.blogspot.com/\n",
    "More precise explanation.\n",
    "http://epchan.blogspot.com/2017/05/paradox-resolved-why-risk-decreases.html\n",
    "\n",
    "The paper published by Murray Gell-Mann\n",
    "https://aip.scitation.org/doi/full/10.1063/1.4940236\n",
    "Using ensemble of return to speculate the glowth is missleading due to\n",
    "multiplicative process is not ergordic.\n",
    "\n",
    "Kelly Criteria\n",
    "http://epchan.blogspot.com/2006/10/how-much-leverage-should-you-use.html\n",
    "\n",
    "Calmer Ratio\n",
    "\n",
    "\n",
    "# Trend\n",
    "* Duration of trend should be long　\n",
    "* No strong trend toward a certain direction, which leads to failing in detecting either of direction trend\n",
    "* Bear market should be not only long enough but also large enough price decrease\n",
    "* \n",
    "\n",
    "* Indicators\n",
    "    * Moving Average\n",
    "    * Bollinger Band\n",
    "    * MACD\n",
    "    * RSI\n",
    "\n",
    "# Mean Reversion\n",
    "* Detrend\n",
    "* Check if the series is mean reverting with Hurst Exponent\n",
    "\n",
    "# Statistical Arbitrage\n",
    "\n",
    "# Seasonality\n",
    "\n"
   ]
  },
  {
   "cell_type": "code",
   "execution_count": null,
   "metadata": {},
   "outputs": [],
   "source": []
  }
 ],
 "metadata": {
  "kernelspec": {
   "display_name": "Python 3",
   "language": "python",
   "name": "python3"
  },
  "language_info": {
   "codemirror_mode": {
    "name": "ipython",
    "version": 3
   },
   "file_extension": ".py",
   "mimetype": "text/x-python",
   "name": "python",
   "nbconvert_exporter": "python",
   "pygments_lexer": "ipython3",
   "version": "3.6.4"
  }
 },
 "nbformat": 4,
 "nbformat_minor": 2
}
