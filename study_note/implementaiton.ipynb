{
 "cells": [
  {
   "cell_type": "code",
   "execution_count": 7,
   "metadata": {},
   "outputs": [],
   "source": [
    "import pandas as pd\n",
    "\n",
    "df = pd.read_csv(\"../datasets/Google.csv\")\n",
    "df.index = pd.DatetimeIndex(df['Date'].values)"
   ]
  },
  {
   "cell_type": "code",
   "execution_count": 8,
   "metadata": {},
   "outputs": [
    {
     "data": {
      "text/html": [
       "<div>\n",
       "<style scoped>\n",
       "    .dataframe tbody tr th:only-of-type {\n",
       "        vertical-align: middle;\n",
       "    }\n",
       "\n",
       "    .dataframe tbody tr th {\n",
       "        vertical-align: top;\n",
       "    }\n",
       "\n",
       "    .dataframe thead th {\n",
       "        text-align: right;\n",
       "    }\n",
       "</style>\n",
       "<table border=\"1\" class=\"dataframe\">\n",
       "  <thead>\n",
       "    <tr style=\"text-align: right;\">\n",
       "      <th></th>\n",
       "      <th>Date</th>\n",
       "      <th>Open</th>\n",
       "      <th>High</th>\n",
       "      <th>Low</th>\n",
       "      <th>Close</th>\n",
       "      <th>Volume</th>\n",
       "      <th>Ex-Dividend</th>\n",
       "      <th>Split Ratio</th>\n",
       "      <th>Adj. Open</th>\n",
       "      <th>Adj. High</th>\n",
       "      <th>Adj. Low</th>\n",
       "      <th>Adj. Close</th>\n",
       "      <th>Adj. Volume</th>\n",
       "    </tr>\n",
       "  </thead>\n",
       "  <tbody>\n",
       "    <tr>\n",
       "      <th>2004-08-19</th>\n",
       "      <td>2004-08-19</td>\n",
       "      <td>100.01</td>\n",
       "      <td>104.06</td>\n",
       "      <td>95.96</td>\n",
       "      <td>100.335</td>\n",
       "      <td>44659000.0</td>\n",
       "      <td>0.0</td>\n",
       "      <td>1.0</td>\n",
       "      <td>50.159839</td>\n",
       "      <td>52.191109</td>\n",
       "      <td>48.128568</td>\n",
       "      <td>50.322842</td>\n",
       "      <td>44659000.0</td>\n",
       "    </tr>\n",
       "    <tr>\n",
       "      <th>2004-08-20</th>\n",
       "      <td>2004-08-20</td>\n",
       "      <td>101.01</td>\n",
       "      <td>109.08</td>\n",
       "      <td>100.50</td>\n",
       "      <td>108.310</td>\n",
       "      <td>22834300.0</td>\n",
       "      <td>0.0</td>\n",
       "      <td>1.0</td>\n",
       "      <td>50.661387</td>\n",
       "      <td>54.708881</td>\n",
       "      <td>50.405597</td>\n",
       "      <td>54.322689</td>\n",
       "      <td>22834300.0</td>\n",
       "    </tr>\n",
       "    <tr>\n",
       "      <th>2004-08-23</th>\n",
       "      <td>2004-08-23</td>\n",
       "      <td>110.76</td>\n",
       "      <td>113.48</td>\n",
       "      <td>109.05</td>\n",
       "      <td>109.400</td>\n",
       "      <td>18256100.0</td>\n",
       "      <td>0.0</td>\n",
       "      <td>1.0</td>\n",
       "      <td>55.551482</td>\n",
       "      <td>56.915693</td>\n",
       "      <td>54.693835</td>\n",
       "      <td>54.869377</td>\n",
       "      <td>18256100.0</td>\n",
       "    </tr>\n",
       "    <tr>\n",
       "      <th>2004-08-24</th>\n",
       "      <td>2004-08-24</td>\n",
       "      <td>111.24</td>\n",
       "      <td>111.60</td>\n",
       "      <td>103.57</td>\n",
       "      <td>104.870</td>\n",
       "      <td>15247300.0</td>\n",
       "      <td>0.0</td>\n",
       "      <td>1.0</td>\n",
       "      <td>55.792225</td>\n",
       "      <td>55.972783</td>\n",
       "      <td>51.945350</td>\n",
       "      <td>52.597363</td>\n",
       "      <td>15247300.0</td>\n",
       "    </tr>\n",
       "    <tr>\n",
       "      <th>2004-08-25</th>\n",
       "      <td>2004-08-25</td>\n",
       "      <td>104.76</td>\n",
       "      <td>108.00</td>\n",
       "      <td>103.88</td>\n",
       "      <td>106.000</td>\n",
       "      <td>9188600.0</td>\n",
       "      <td>0.0</td>\n",
       "      <td>1.0</td>\n",
       "      <td>52.542193</td>\n",
       "      <td>54.167209</td>\n",
       "      <td>52.100830</td>\n",
       "      <td>53.164113</td>\n",
       "      <td>9188600.0</td>\n",
       "    </tr>\n",
       "  </tbody>\n",
       "</table>\n",
       "</div>"
      ],
      "text/plain": [
       "                  Date    Open    High     Low    Close      Volume  \\\n",
       "2004-08-19  2004-08-19  100.01  104.06   95.96  100.335  44659000.0   \n",
       "2004-08-20  2004-08-20  101.01  109.08  100.50  108.310  22834300.0   \n",
       "2004-08-23  2004-08-23  110.76  113.48  109.05  109.400  18256100.0   \n",
       "2004-08-24  2004-08-24  111.24  111.60  103.57  104.870  15247300.0   \n",
       "2004-08-25  2004-08-25  104.76  108.00  103.88  106.000   9188600.0   \n",
       "\n",
       "            Ex-Dividend  Split Ratio  Adj. Open  Adj. High   Adj. Low  \\\n",
       "2004-08-19          0.0          1.0  50.159839  52.191109  48.128568   \n",
       "2004-08-20          0.0          1.0  50.661387  54.708881  50.405597   \n",
       "2004-08-23          0.0          1.0  55.551482  56.915693  54.693835   \n",
       "2004-08-24          0.0          1.0  55.792225  55.972783  51.945350   \n",
       "2004-08-25          0.0          1.0  52.542193  54.167209  52.100830   \n",
       "\n",
       "            Adj. Close  Adj. Volume  \n",
       "2004-08-19   50.322842   44659000.0  \n",
       "2004-08-20   54.322689   22834300.0  \n",
       "2004-08-23   54.869377   18256100.0  \n",
       "2004-08-24   52.597363   15247300.0  \n",
       "2004-08-25   53.164113    9188600.0  "
      ]
     },
     "execution_count": 8,
     "metadata": {},
     "output_type": "execute_result"
    }
   ],
   "source": [
    "df.head()"
   ]
  },
  {
   "cell_type": "code",
   "execution_count": 9,
   "metadata": {},
   "outputs": [
    {
     "data": {
      "text/plain": [
       "DatetimeIndex(['2004-08-18', '2004-08-19', '2004-08-22', '2004-08-23',\n",
       "               '2004-08-24', '2004-08-25', '2004-08-26', '2004-08-29',\n",
       "               '2004-08-30', '2004-08-31',\n",
       "               ...\n",
       "               '2017-01-02', '2017-01-03', '2017-01-04', '2017-01-05',\n",
       "               '2017-01-08', '2017-01-09', '2017-01-10', '2017-01-11',\n",
       "               '2017-01-12', '2017-01-16'],\n",
       "              dtype='datetime64[ns]', length=3125, freq=None)"
      ]
     },
     "execution_count": 9,
     "metadata": {},
     "output_type": "execute_result"
    }
   ],
   "source": [
    "df.index - pd.Timedelta(days=1)"
   ]
  },
  {
   "cell_type": "code",
   "execution_count": 14,
   "metadata": {},
   "outputs": [
    {
     "data": {
      "text/plain": [
       "2004-08-19         NaN\n",
       "2004-08-20    0.079484\n",
       "2004-08-23    0.010064\n",
       "2004-08-24   -0.041408\n",
       "2004-08-25    0.010775\n",
       "2004-08-26    0.018019\n",
       "2004-08-27   -0.016310\n",
       "2004-08-30   -0.039001\n",
       "2004-08-31    0.003529\n",
       "2004-09-01   -0.020709\n",
       "2004-09-02    0.012569\n",
       "2004-09-03   -0.014777\n",
       "2004-09-07    0.015698\n",
       "2004-09-08    0.007088\n",
       "2004-09-09    0.000098\n",
       "2004-09-10    0.029518\n",
       "2004-09-13    0.020602\n",
       "2004-09-14    0.037116\n",
       "2004-09-15    0.004574\n",
       "2004-09-16    0.017589\n",
       "2004-09-17    0.030885\n",
       "2004-09-20    0.015916\n",
       "2004-09-21   -0.012735\n",
       "2004-09-22    0.004582\n",
       "2004-09-23    0.020612\n",
       "2004-09-24   -0.008194\n",
       "2004-09-27   -0.013102\n",
       "2004-09-28    0.072721\n",
       "2004-09-29    0.033265\n",
       "2004-09-30   -0.011291\n",
       "                ...   \n",
       "2016-12-02    0.000170\n",
       "2016-12-05    0.018000\n",
       "2016-12-06   -0.002621\n",
       "2016-12-07    0.019699\n",
       "2016-12-08    0.004675\n",
       "2016-12-09    0.017958\n",
       "2016-12-12   -0.001915\n",
       "2016-12-13    0.009209\n",
       "2016-12-14    0.003128\n",
       "2016-12-15   -0.002739\n",
       "2016-12-16   -0.007123\n",
       "2016-12-19    0.003285\n",
       "2016-12-20    0.003323\n",
       "2016-12-21   -0.003680\n",
       "2016-12-22   -0.003103\n",
       "2016-12-23   -0.002322\n",
       "2016-12-27    0.002451\n",
       "2016-12-28   -0.006434\n",
       "2016-12-29   -0.002101\n",
       "2016-12-30   -0.012991\n",
       "2017-01-03    0.019080\n",
       "2017-01-04    0.000248\n",
       "2017-01-05    0.006499\n",
       "2017-01-06    0.014993\n",
       "2017-01-09    0.002387\n",
       "2017-01-10   -0.001414\n",
       "2017-01-11    0.004661\n",
       "2017-01-12   -0.000398\n",
       "2017-01-13    0.001700\n",
       "2017-01-17   -0.004501\n",
       "Name: Close, Length: 3125, dtype: float64"
      ]
     },
     "execution_count": 14,
     "metadata": {},
     "output_type": "execute_result"
    }
   ],
   "source": [
    "df[\"Close\"].pct_change()"
   ]
  },
  {
   "cell_type": "code",
   "execution_count": null,
   "metadata": {},
   "outputs": [],
   "source": [
    "df.index.se"
   ]
  },
  {
   "cell_type": "code",
   "execution_count": 15,
   "metadata": {},
   "outputs": [
    {
     "name": "stdout",
     "output_type": "stream",
     "text": [
      "Help on method searchsorted in module pandas.core.indexes.datetimes:\n",
      "\n",
      "searchsorted(value, side='left', sorter=None) method of pandas.core.indexes.datetimes.DatetimeIndex instance\n",
      "    Find indices where elements should be inserted to maintain order.\n",
      "    \n",
      "    Find the indices into a sorted DatetimeIndex `self` such that, if the\n",
      "    corresponding elements in `value` were inserted before the indices,\n",
      "    the order of `self` would be preserved.\n",
      "    \n",
      "    Parameters\n",
      "    ----------\n",
      "    value : array_like\n",
      "        Values to insert into `self`.\n",
      "    side : {'left', 'right'}, optional\n",
      "        If 'left', the index of the first suitable location found is given.\n",
      "        If 'right', return the last such index.  If there is no suitable\n",
      "        index, return either 0 or N (where N is the length of `self`).\n",
      "    sorter : 1-D array_like, optional\n",
      "        Optional array of integer indices that sort `self` into ascending\n",
      "        order. They are typically the result of ``np.argsort``.\n",
      "    \n",
      "    Returns\n",
      "    -------\n",
      "    indices : array of ints\n",
      "        Array of insertion points with the same shape as `value`.\n",
      "    \n",
      "    See Also\n",
      "    --------\n",
      "    numpy.searchsorted\n",
      "    \n",
      "    Notes\n",
      "    -----\n",
      "    Binary search is used to find the required insertion points.\n",
      "    \n",
      "    Examples\n",
      "    --------\n",
      "    \n",
      "    >>> x = pd.Series([1, 2, 3])\n",
      "    >>> x\n",
      "    0    1\n",
      "    1    2\n",
      "    2    3\n",
      "    dtype: int64\n",
      "    \n",
      "    >>> x.searchsorted(4)\n",
      "    array([3])\n",
      "    \n",
      "    >>> x.searchsorted([0, 4])\n",
      "    array([0, 3])\n",
      "    \n",
      "    >>> x.searchsorted([1, 3], side='left')\n",
      "    array([0, 2])\n",
      "    \n",
      "    >>> x.searchsorted([1, 3], side='right')\n",
      "    array([1, 3])\n",
      "    \n",
      "    >>> x = pd.Categorical(['apple', 'bread', 'bread', 'cheese', 'milk' ])\n",
      "    [apple, bread, bread, cheese, milk]\n",
      "    Categories (4, object): [apple < bread < cheese < milk]\n",
      "    \n",
      "    >>> x.searchsorted('bread')\n",
      "    array([1])     # Note: an array, not a scalar\n",
      "    \n",
      "    >>> x.searchsorted(['bread'])\n",
      "    array([1])\n",
      "    \n",
      "    >>> x.searchsorted(['bread', 'eggs'])\n",
      "    array([1, 4])\n",
      "    \n",
      "    >>> x.searchsorted(['bread', 'eggs'], side='right')\n",
      "    array([3, 4])    # eggs before milk\n",
      "\n"
     ]
    }
   ],
   "source": [
    "help(df.index.searchsorted)"
   ]
  },
  {
   "cell_type": "code",
   "execution_count": 87,
   "metadata": {},
   "outputs": [],
   "source": [
    "import numpy as np\n",
    "import pandas as pd\n",
    "\n",
    "def getDailyVol(close, span=100):\n",
    "    use_idx = close.index.searchsorted(close.index - pd.Timedelta(days=1))\n",
    "    use_idx = use_idx[use_idx > 0]\n",
    "    # Get rid of duplications in index\n",
    "    use_idx = np.unique(use_idx)\n",
    "    prev_idx = pd.Series(close.index[use_idx - 1], index=close.index[use_idx])\n",
    "    ret = close.loc[prev_idx.index] / close.loc[prev_idx.values].values - 1\n",
    "    vol = ret.ewm(span=span).std()\n",
    "    return vol"
   ]
  },
  {
   "cell_type": "code",
   "execution_count": 91,
   "metadata": {},
   "outputs": [
    {
     "data": {
      "text/plain": [
       "2004-08-23         NaN\n",
       "2004-08-24    0.036396\n",
       "2004-08-25    0.029930\n",
       "2004-08-26    0.027366\n",
       "2004-08-30    0.029365\n",
       "Name: Close, dtype: float64"
      ]
     },
     "execution_count": 91,
     "metadata": {},
     "output_type": "execute_result"
    }
   ],
   "source": [
    "vol = getDailyVol(df[\"Close\"])\n",
    "vol.head()"
   ]
  },
  {
   "cell_type": "code",
   "execution_count": 102,
   "metadata": {},
   "outputs": [],
   "source": [
    "def applyPtSlOnTl(close, events, ptSl, molecule):\n",
    "    _events = events.loc[molecule]\n",
    "    out = _events[['tl']].copy(deep=True)\n",
    "    # Set Profit Taking and Stop Loss\n",
    "    if ptSl[0] > 0:\n",
    "        pt = ptSl[0] *  _events[\"trgt\"]\n",
    "    else:\n",
    "        pt = pd.Series(index=_events.index)\n",
    "    if ptSl[1] > 0:\n",
    "        sl = ptSl[1] * _events[\"trgt\"]\n",
    "    else:\n",
    "        sl = pd.Series(index=_events.index)\n",
    "    for loc, tl in events_[\"tl\"].fillna(close.index[-1]).iteritem():\n",
    "        df = close[loc:tl]\n",
    "        df = (df / close[loc] - 1) * _events.at[loc, 'side']\n",
    "        out.loc[loc, 'sl'] = df[df < sl[loc]].index.min()\n",
    "        out.loc[loc, 'pt'] = df[df > pt[loc]].index.min()\n",
    "    return out"
   ]
  },
  {
   "cell_type": "code",
   "execution_count": 89,
   "metadata": {},
   "outputs": [
    {
     "data": {
      "text/plain": [
       "2004-08-23         NaN\n",
       "2004-08-24    0.036396\n",
       "2004-08-25    0.029930\n",
       "2004-08-26    0.027366\n",
       "2004-08-30    0.029365\n",
       "2004-08-31    0.026605\n",
       "2004-09-01    0.024794\n",
       "2004-09-02    0.024097\n",
       "2004-09-07    0.023610\n",
       "2004-09-08    0.022400\n",
       "2004-09-09    0.021152\n",
       "2004-09-13    0.021182\n",
       "2004-09-14    0.022876\n",
       "2004-09-15    0.021867\n",
       "2004-09-16    0.021314\n",
       "2004-09-20    0.020706\n",
       "2004-09-21    0.020498\n",
       "2004-09-22    0.019782\n",
       "2004-09-23    0.019554\n",
       "2004-09-27    0.019453\n",
       "2004-09-28    0.024991\n",
       "2004-09-29    0.024968\n",
       "2004-09-30    0.024733\n",
       "2004-10-04    0.024173\n",
       "2004-10-05    0.023793\n",
       "2004-10-06    0.023561\n",
       "2004-10-07    0.022996\n",
       "2004-10-11    0.023169\n",
       "2004-10-12    0.022692\n",
       "2004-10-13    0.022470\n",
       "                ...   \n",
       "2016-11-21    0.011895\n",
       "2016-11-22    0.011777\n",
       "2016-11-25    0.011660\n",
       "2016-11-28    0.011579\n",
       "2016-11-29    0.011476\n",
       "2016-11-30    0.011646\n",
       "2016-12-01    0.011727\n",
       "2016-12-05    0.011873\n",
       "2016-12-06    0.011764\n",
       "2016-12-07    0.011951\n",
       "2016-12-08    0.011844\n",
       "2016-12-12    0.011733\n",
       "2016-12-13    0.011674\n",
       "2016-12-14    0.011561\n",
       "2016-12-15    0.011459\n",
       "2016-12-19    0.011350\n",
       "2016-12-20    0.011241\n",
       "2016-12-21    0.011150\n",
       "2016-12-22    0.011054\n",
       "2016-12-27    0.010946\n",
       "2016-12-28    0.010887\n",
       "2016-12-29    0.010787\n",
       "2017-01-03    0.010982\n",
       "2017-01-04    0.010873\n",
       "2017-01-05    0.010791\n",
       "2017-01-09    0.010685\n",
       "2017-01-10    0.010585\n",
       "2017-01-11    0.010491\n",
       "2017-01-12    0.010389\n",
       "2017-01-17    0.010317\n",
       "Name: Close, Length: 2472, dtype: float64"
      ]
     },
     "execution_count": 89,
     "metadata": {},
     "output_type": "execute_result"
    }
   ],
   "source": [
    "ret"
   ]
  },
  {
   "cell_type": "code",
   "execution_count": 94,
   "metadata": {},
   "outputs": [
    {
     "data": {
      "text/plain": [
       "1.2599181388624912"
      ]
     },
     "execution_count": 94,
     "metadata": {},
     "output_type": "execute_result"
    }
   ],
   "source": [
    "np.power(2, 0.33333)"
   ]
  },
  {
   "cell_type": "code",
   "execution_count": 95,
   "metadata": {},
   "outputs": [
    {
     "data": {
      "text/plain": [
       "193.75"
      ]
     },
     "execution_count": 95,
     "metadata": {},
     "output_type": "execute_result"
    }
   ],
   "source": [
    "155 * 1.25"
   ]
  },
  {
   "cell_type": "code",
   "execution_count": 101,
   "metadata": {},
   "outputs": [
    {
     "data": {
      "text/plain": [
       "0.03639576485717827"
      ]
     },
     "execution_count": 101,
     "metadata": {},
     "output_type": "execute_result"
    }
   ],
   "source": [
    "ret.at[\"2004-08-24 \"]"
   ]
  },
  {
   "cell_type": "code",
   "execution_count": null,
   "metadata": {},
   "outputs": [],
   "source": []
  }
 ],
 "metadata": {
  "kernelspec": {
   "display_name": "Python 3",
   "language": "python",
   "name": "python3"
  },
  "language_info": {
   "codemirror_mode": {
    "name": "ipython",
    "version": 3
   },
   "file_extension": ".py",
   "mimetype": "text/x-python",
   "name": "python",
   "nbconvert_exporter": "python",
   "pygments_lexer": "ipython3",
   "version": "3.6.4"
  }
 },
 "nbformat": 4,
 "nbformat_minor": 2
}
