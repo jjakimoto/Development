{
 "cells": [
  {
   "cell_type": "markdown",
   "metadata": {},
   "source": [
    "05/14/2018\n",
    "# CAPM\n",
    "---\n",
    "## Mean Variance Optimization\n",
    "* Efficient Forntier: A curve of maximized expeted return given risk, standard deviation\n",
    "* Sharpe Ratio: $\\frac{E_H - r_f}{\\sigma_H}$, where $E_H$ and $\\sigma_H$ are the expected return and standard devation of return of stock H, respectively\n",
    "* The highest sharpe ration is achieved by the setting point of Efficient Frontier and linear line\n",
    "\n",
    "## Improve Sharpe Ratio\n",
    "* Adding an Uncorrelated Stock: if its amount is small and $E_S > r_f$, expected return keep the same and risk reduces\n",
    "* Adding a Perfectly Correlated Stock: $E_S - r_f = \\alpha + \\beta (E_P - r_f)$\n",
    "    - If $\\alpha > 0$, stock has more risk premium and improve the Sharpe ratio\n",
    "* Adding a Imperfectly Corerlated Stock:\n",
    "    - Correlated part: Mimicked through the same way\n",
    "    - Uncorrelated part: Risk is diversified away and treated as risk free part\n",
    "* $E_S - r_f > \\beta (E_P - r_f)$ implies buying the stock improve the Sharpe ratio\n"
   ]
  },
  {
   "cell_type": "code",
   "execution_count": null,
   "metadata": {
    "collapsed": true
   },
   "outputs": [],
   "source": []
  }
 ],
 "metadata": {
  "kernelspec": {
   "display_name": "Python 3",
   "language": "python",
   "name": "python3"
  },
  "language_info": {
   "codemirror_mode": {
    "name": "ipython",
    "version": 3
   },
   "file_extension": ".py",
   "mimetype": "text/x-python",
   "name": "python",
   "nbconvert_exporter": "python",
   "pygments_lexer": "ipython3",
   "version": "3.6.1"
  }
 },
 "nbformat": 4,
 "nbformat_minor": 2
}
