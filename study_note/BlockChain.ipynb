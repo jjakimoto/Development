{
 "cells": [
  {
   "cell_type": "code",
   "execution_count": null,
   "metadata": {
    "collapsed": true
   },
   "outputs": [],
   "source": []
  },
  {
   "cell_type": "markdown",
   "metadata": {},
   "source": [
    "# Cryptography Hash Function\n",
    "* Blog post: http://learningspot.altervista.org/cryptographic-hash-functions/\n",
    "* Properties:\n",
    "    * Collision-free: almost impossible to find two different values x and y, and $H(x) = H(y)$\n",
    "    * Pre-image resistance: Difficult to guess x from $H(x)$\n",
    "    * Second pre-image resistance: Given output y, it's difficult to find another element $\\hat{x}$ that hashes to y\n",
    "* Note that collision-free implies second pre-image resistance\n"
   ]
  },
  {
   "cell_type": "markdown",
   "metadata": {},
   "source": [
    "# Cryptography\n",
    "## RSA\n",
    "* You Tube: https://www.youtube.com/watch?v=vgTtHV04xRI\n",
    "* Python Implementation: https://qiita.com/QUANON/items/e7b181dd08f2f0b4fdbe#%E5%AE%9F%E8%A3%85\n",
    "* Public key: Distributed to public and used to encrypt\n",
    "* Private key: Need to decrypt \n",
    "* Use modular\n",
    "    * Encryption: $ m^e\\ mod\\ N \\equiv c$\n",
    "    * Decryption: $ c^d\\ mod\\ N \\equiv m$\n",
    "* Phi Function, $\\Phi(N)$\n",
    "    * The number of smaller integers which does not share factors with N, e.g., $\\Phi(8) = 4$ (1,3, 5, 7)\n",
    "    * $\\Phi(P) = P - 1$ for prime number $P$\n",
    "    * $\\Phi(P1 \\times P2) = (P1 - 1) \\times (P2 - 1)$, where P1 and P2 are prime numbers\n",
    "    * $N = P1 \\times P2$ for prime numbers P1 and P2 => $\\Phi(N) = (P1 - 1) \\times (P2 - 1)$\n",
    "* If you know the prime factorization, it is easy to compute Phi function.\n",
    "* Let m and n do not share common factors\n",
    "    * $m^{\\Phi(n)} \\equiv 1\\ mod\\ n$\n",
    "    * $m^{k \\Phi(n)} \\equiv 1\\ mod\\ n$\n",
    "    * $m^{k \\Phi(n) + 1} \\equiv m\\ mod\\ n$\n",
    "    * $m^{e \\cdot d} \\equiv m\\ mod\\ n$\n",
    "    * $e \\cdot d = k \\Phi(n) + 1$\n",
    "    * $d = \\frac{k \\Phi(n) + 1}{e}$ => if you know the factorization, it is easy to get d\n",
    "    * Note that we have to satisfy $gcd(e, \\Phi(n)) = 1$ and $gcd(d, \\Phi(n)) = 1$"
   ]
  },
  {
   "cell_type": "code",
   "execution_count": 66,
   "metadata": {
    "collapsed": true
   },
   "outputs": [],
   "source": [
    "from math import gcd\n",
    "\n",
    "def lcm(p, q):\n",
    "    return (p * q) // gcd(p, q)\n",
    "\n",
    "\n",
    "def generate_keys(p, q):\n",
    "    N = p * q\n",
    "    L = (p - 1) * (q - 1)\n",
    "    for i in range(2, L):\n",
    "        if gcd(i, L) == 1:\n",
    "            E = i\n",
    "            break\n",
    "            \n",
    "    for i in range(2, L):\n",
    "        if (E * i) % L == 1:\n",
    "            D = i\n",
    "            break\n",
    "    return (E, N), (D, N)\n",
    "\n",
    "def encrypt(plain_text, public_key):\n",
    "    E, N = public_key\n",
    "    plain_integers =  [ord(char) for char in plain_text]\n",
    "    encrypted_integers = [char ** E % N for char in plain_integers]\n",
    "    encrypted_text = ''.join([chr(i) for i in encrypted_integers])\n",
    "    return encrypted_text\n",
    "    \n",
    "def decrypt(encrypted_text, private_key):\n",
    "    D, N = private_key\n",
    "    encrypted_integers = [ord(char) for char in encrypted_text]\n",
    "    decrytpted_integers = [char ** D % N for char in encrypted_integers]\n",
    "    decrypt_text = ''.join([chr(i) for i in decrytpted_integers])\n",
    "    return decrypt_text"
   ]
  },
  {
   "cell_type": "code",
   "execution_count": 67,
   "metadata": {},
   "outputs": [
    {
     "name": "stdout",
     "output_type": "stream",
     "text": [
      "(3, 1219) (763, 1219)\n",
      "ĖʌʸЇõKˌǺǊĨõĨЇ͑ĽѿčǝĽĽ\n",
      "MyNameIsTomoakiFujii\n"
     ]
    }
   ],
   "source": [
    "text = \"MyNameIsTomoakiFujii\"\n",
    "private, public = generate_keys(53, 23)\n",
    "print(private, public)\n",
    "encrypted_text = encrypt(text, public)\n",
    "decrypted_text = decrypt(encrypted_text, private)\n",
    "print(encrypted_text)\n",
    "print(decrypted_text)"
   ]
  },
  {
   "cell_type": "markdown",
   "metadata": {},
   "source": [
    "## Elliptic Curve Cryptography\n",
    "* Blog post: https://blog.cloudflare.com/a-relatively-easy-to-understand-primer-on-elliptic-curve-cryptography/\n",
    "* A few algorithms have been suggested to solve factorization => RSA is not ideal\n",
    "* Define dot operation, which is hard to identify how many times operation is executed\n",
    "* Use prime number to roll over\n",
    "* Faster and secure"
   ]
  },
  {
   "cell_type": "code",
   "execution_count": null,
   "metadata": {
    "collapsed": true
   },
   "outputs": [],
   "source": []
  }
 ],
 "metadata": {
  "kernelspec": {
   "display_name": "Python 3",
   "language": "python",
   "name": "python3"
  },
  "language_info": {
   "codemirror_mode": {
    "name": "ipython",
    "version": 3
   },
   "file_extension": ".py",
   "mimetype": "text/x-python",
   "name": "python",
   "nbconvert_exporter": "python",
   "pygments_lexer": "ipython3",
   "version": "3.6.1"
  }
 },
 "nbformat": 4,
 "nbformat_minor": 2
}
