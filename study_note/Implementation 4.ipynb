{
 "cells": [
  {
   "cell_type": "code",
   "execution_count": 1,
   "metadata": {},
   "outputs": [],
   "source": [
    "import pandas as pd\n",
    "import numpy as np\n",
    "\n",
    "df = pd.read_csv(\"../datasets/Google.csv\")\n",
    "df.index = pd.DatetimeIndex(df['Date'].values)\n",
    "close = df[\"Close\"]"
   ]
  },
  {
   "cell_type": "code",
   "execution_count": 2,
   "metadata": {},
   "outputs": [],
   "source": [
    "def mp_num_co_events(close_idx, t1, molecule):\n",
    "    t1 = t1.fillna(close_idx[-1])\n",
    "    t1 = t1[t1 >= molecule[0]]\n",
    "    t1 = t1.loc[:t1[molecule].max()]\n",
    "    \n",
    "    iloc = close_index.searchsorted(np.array([t1.index[0], t1.max()]))\n",
    "    count = pd.Series(0, index=close_idx[loc[0]: iloc[1] + 1])\n",
    "    for t_in, t_out in t1.iterterms():\n",
    "        count.loc[t_in: t_out] += 1\n",
    "    return count.loc[molecule[0]: t1[molecule].max()]"
   ]
  },
  {
   "cell_type": "code",
   "execution_count": 3,
   "metadata": {},
   "outputs": [],
   "source": [
    "def mp_sample_tw(t1, num_co_events, molecule):\n",
    "    wght = pd.Series(index=molecule)\n",
    "    for t_in, t_out in t1.loc[wght.index].iteritems():\n",
    "        wght.loc[t_in] = (1. / num_co_events.loc[t_in: t_out]).mean()\n",
    "    return wght"
   ]
  },
  {
   "cell_type": "code",
   "execution_count": 4,
   "metadata": {},
   "outputs": [],
   "source": [
    "def get_ind_matrix(bar_idx, t1):\n",
    "    ind_m = pd.DataFrame(0, index=bar_idx,\n",
    "                         columns=range(t1.shape[0]))\n",
    "    for  i, (t0_, t1_) in enumerate(t1.iteritems()):\n",
    "        ind_m.loc[t0_:t1_, i] = 1\n",
    "    return ind_m\n",
    "\n",
    "def get_avg_uniquness(ind_m):\n",
    "    c = ind_m.sum(axis=1)\n",
    "    u = ind_m.div(c, axis=0)\n",
    "    avg_u = u[u>0].mean()\n",
    "    return avg_u"
   ]
  },
  {
   "cell_type": "code",
   "execution_count": 5,
   "metadata": {},
   "outputs": [],
   "source": [
    "def seq_bootstrap(ind_m, s_length=None):\n",
    "    if s_length is None:\n",
    "        s_length = ind_m.shape[1]\n",
    "    phi = []\n",
    "    while len(phi) < s_length:\n",
    "        avg_u = pd.Series()\n",
    "        for i in ind_m:\n",
    "            ind_m_ = ind_m[phi + [i]]\n",
    "            avg_u.loc[i] = get_avg_uniquness(ind_m_).iloc[-1]\n",
    "        prob = avg_u / avg_u.sum()\n",
    "        phi += [np.random.choice(ind_m.columns, p=prob)]\n",
    "    return phi"
   ]
  },
  {
   "cell_type": "code",
   "execution_count": 6,
   "metadata": {},
   "outputs": [],
   "source": [
    "t1 = pd.Series([2, 3, 5], index=[0, 2, 4])\n",
    "bar_idx = range(t1.max() + 1)"
   ]
  },
  {
   "cell_type": "code",
   "execution_count": 7,
   "metadata": {},
   "outputs": [
    {
     "name": "stdout",
     "output_type": "stream",
     "text": [
      "[1 0 0]\n"
     ]
    }
   ],
   "source": [
    "ind_m = get_ind_matrix(bar_idx, t1)\n",
    "phi = np.random.choice(ind_m.columns, size=ind_m.shape[1])\n",
    "print(phi)"
   ]
  },
  {
   "cell_type": "code",
   "execution_count": 8,
   "metadata": {},
   "outputs": [
    {
     "data": {
      "text/plain": [
       "1    0.666667\n",
       "0    0.444444\n",
       "0    0.444444\n",
       "dtype: float64"
      ]
     },
     "execution_count": 8,
     "metadata": {},
     "output_type": "execute_result"
    }
   ],
   "source": [
    "get_avg_uniquness(ind_m[phi])"
   ]
  },
  {
   "cell_type": "code",
   "execution_count": 9,
   "metadata": {},
   "outputs": [],
   "source": [
    "phi = seq_bootstrap(ind_m)"
   ]
  },
  {
   "cell_type": "code",
   "execution_count": 10,
   "metadata": {},
   "outputs": [
    {
     "data": {
      "text/plain": [
       "[2, 0, 1]"
      ]
     },
     "execution_count": 10,
     "metadata": {},
     "output_type": "execute_result"
    }
   ],
   "source": [
    "phi"
   ]
  },
  {
   "cell_type": "code",
   "execution_count": 11,
   "metadata": {},
   "outputs": [
    {
     "data": {
      "text/plain": [
       "2    1.000000\n",
       "0    0.833333\n",
       "1    0.750000\n",
       "dtype: float64"
      ]
     },
     "execution_count": 11,
     "metadata": {},
     "output_type": "execute_result"
    }
   ],
   "source": [
    "get_avg_uniquness(ind_m[phi])"
   ]
  },
  {
   "cell_type": "code",
   "execution_count": 12,
   "metadata": {},
   "outputs": [],
   "source": [
    "def get_rnd_t1(num_obs, num_bars, max_h):\n",
    "    t1 = pd.Series()\n",
    "    for i in xrange(num_obs):\n",
    "        ix = np.random.randin(0, num_bars)\n",
    "        val = ix + np.random.randint(1, max_h)\n",
    "    return t1.sort_index()"
   ]
  },
  {
   "cell_type": "code",
   "execution_count": 13,
   "metadata": {},
   "outputs": [],
   "source": [
    "def auxMC(num_obs, num_bars, max_h):\n",
    "    t1 = get_rnd_t1(num_obs, num_bars, max_h)\n",
    "    bar_idx = range(t1.max() + 1)\n",
    "    ind_m = get_ind_matrix(bar_idx, t1)\n",
    "    phi = np.random.choice(ind_m.columns, sizez=ind_m.shape[1])\n",
    "    std_u = get_avg_uniquness(ind_m[phi]).mean()\n",
    "    phi = seq_bootstrap(ind_m)\n",
    "    seq_u = get_avg_uniquness(ind_m[phi]).mean()\n",
    "    return {'std_u': std_u, 'seq_u': seq_u}"
   ]
  },
  {
   "cell_type": "code",
   "execution_count": 14,
   "metadata": {},
   "outputs": [],
   "source": [
    "def mp_sample_w(t1, num_co_events, close, molecule):\n",
    "    ret = np.log(close).diff()\n",
    "    wght = pd.Series(index=molecule)\n",
    "    for t_in, t_out in t1.loc[wght.index].iteritems():\n",
    "        wght.loc[t_in] = (ret.loc[t_in:t_out] / num_co_events.loc[t_in:t_out]).sum()\n",
    "    return wght.abs()"
   ]
  },
  {
   "cell_type": "code",
   "execution_count": 15,
   "metadata": {},
   "outputs": [],
   "source": [
    "def get_time_decay(tw, clf_last_w=1.):\n",
    "    clf_w = tw.sort_index().cumsum()\n",
    "    if clf_last_w >= 0:\n",
    "        slope = (1. - clf_last_w) / clf_w.iloc[-1]\n",
    "    else:\n",
    "        slope = 1. / ((clf_last_w + 1) * clf_w.iloc[-1])\n",
    "    const = 1. - slope * clf_w.iloc[-1]\n",
    "    clf_w = const + slope * clf_w\n",
    "    clf_w[clf_w < 0] = 0\n",
    "    print(const, slope)\n",
    "    return clf_w"
   ]
  },
  {
   "cell_type": "code",
   "execution_count": null,
   "metadata": {},
   "outputs": [],
   "source": []
  },
  {
   "cell_type": "code",
   "execution_count": null,
   "metadata": {},
   "outputs": [],
   "source": []
  },
  {
   "cell_type": "code",
   "execution_count": null,
   "metadata": {},
   "outputs": [],
   "source": []
  }
 ],
 "metadata": {
  "kernelspec": {
   "display_name": "Python 3",
   "language": "python",
   "name": "python3"
  },
  "language_info": {
   "codemirror_mode": {
    "name": "ipython",
    "version": 3
   },
   "file_extension": ".py",
   "mimetype": "text/x-python",
   "name": "python",
   "nbconvert_exporter": "python",
   "pygments_lexer": "ipython3",
   "version": "3.6.4"
  }
 },
 "nbformat": 4,
 "nbformat_minor": 2
}
