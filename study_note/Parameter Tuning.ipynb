{
 "cells": [
  {
   "cell_type": "markdown",
   "metadata": {},
   "source": [
    "# Facebook AB Testing\n",
    "* Blog, https://research.fb.com/efficient-tuning-of-online-systems-using-bayesian-optimization/\n",
    "* Paper, https://projecteuclid.org/download/pdfview_1/euclid.ba/1533866666\n",
    "\n",
    "# Scalable Bayesian Optimization Using Deep Neural Networks\n",
    "* paper, https://arxiv.org/pdf/1502.05700.pdf\n",
    "\n",
    "\n",
    "# Batch Bayesian Optimization via Local Penalization\n",
    "* Paper, https://arxiv.org/pdf/1505.08052v4.pdf\n",
    "* Penalize sampling neighbor using Lipcitz constant"
   ]
  },
  {
   "cell_type": "code",
   "execution_count": null,
   "metadata": {},
   "outputs": [],
   "source": []
  }
 ],
 "metadata": {
  "kernelspec": {
   "display_name": "Python 3",
   "language": "python",
   "name": "python3"
  },
  "language_info": {
   "codemirror_mode": {
    "name": "ipython",
    "version": 3
   },
   "file_extension": ".py",
   "mimetype": "text/x-python",
   "name": "python",
   "nbconvert_exporter": "python",
   "pygments_lexer": "ipython3",
   "version": "3.6.4"
  }
 },
 "nbformat": 4,
 "nbformat_minor": 2
}
