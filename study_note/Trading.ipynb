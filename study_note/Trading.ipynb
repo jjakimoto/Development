{
 "cells": [
  {
   "cell_type": "markdown",
   "metadata": {},
   "source": [
    "# Technical Analysis\n",
    "## SMA (Simple Moving Average)\n",
    "* Take arithmetic average with the past data\n",
    "\n",
    "## EMA (Exponential Moving Average)\n",
    "* Update with $S_t = \\alpha * Y_T + (1 - \\alpha) \\times S_{t-1}$, where $\\alpha \\in (0, 1)$\n",
    "* Highlight the recent change\n",
    "\n",
    "## MACD (Moving Average COnvergence Divergence)\n",
    "* Used to spot changes in the strength, direction, momentum, and duration of a trend\n",
    "* Compute difference between two EMA, e.g., 12 and 26 days of EMAs\n",
    "* MACD = EMA of short period - EMA of long period\n",
    "* Signal: 9 days EMA of MACD\n",
    "* Histogram: MACD - Signal\n",
    "* Interpretation\n",
    "    * MACD: Gauges changes in the trend (Velocity)\n",
    "    * Histogram: Identify subtle shifts in the strength and direction of the trend (Acceleration)\n",
    "* Not useful when the market is not trending   \n",
    " \n",
    "#### Signal line crossover\n",
    "* MACD line crosses up(down) through the signal line => buy(sell)\n",
    "\n",
    "#### Zero crossover\n",
    "* From positive to negative => bearish\n",
    "* From negative to positive => bullish\n",
    "* Less confirmation of momentum than signal line crossover\n",
    "\n",
    "## Bollinger Bands\n",
    "* Bounds are defined by $Moving Average \\pm K \\times \\sigma$, where typically K is 1 or 2.\n",
    "* Touching the lower(upper) bound => buy(sell)"
   ]
  },
  {
   "cell_type": "code",
   "execution_count": null,
   "metadata": {
    "collapsed": true
   },
   "outputs": [],
   "source": []
  }
 ],
 "metadata": {
  "kernelspec": {
   "display_name": "Python 3",
   "language": "python",
   "name": "python3"
  },
  "language_info": {
   "codemirror_mode": {
    "name": "ipython",
    "version": 3
   },
   "file_extension": ".py",
   "mimetype": "text/x-python",
   "name": "python",
   "nbconvert_exporter": "python",
   "pygments_lexer": "ipython3",
   "version": "3.6.1"
  }
 },
 "nbformat": 4,
 "nbformat_minor": 2
}
