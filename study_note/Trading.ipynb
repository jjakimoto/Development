{
 "cells": [
  {
   "cell_type": "markdown",
   "metadata": {},
   "source": [
    "# IDEA\n",
    "* Multi-Task RL, e.g., optimize both drawdown and returns\n",
    "* "
   ]
  },
  {
   "cell_type": "markdown",
   "metadata": {},
   "source": [
    "# Environment\n",
    "## Data Vendor\n",
    "* Quandl\n",
    "* CSI\n",
    "* CRSP\n",
    "* ORATS.com(Option)\n",
    "* "
   ]
  },
  {
   "cell_type": "markdown",
   "metadata": {},
   "source": [
    "# General Algorithm\n",
    "## Predict FX through Order Flow\n",
    "* Blog, http://epchan.blogspot.com/\n",
    "* Use last 20 days' volume to make histgram of trade flows\n",
    "* If the volume falls in top(bottom), long(short).\n",
    "\n",
    "## Vol Targeting and Trend Following\n",
    "* Blog,  https://qoppac.blogspot.com/2018/07/vol-targeting-and-trend-following.html\n",
    "* Scale the position according to the volatility\n",
    "* Better Kurtosis and Sharpe Ratio while worse Skew\n",
    "\n",
    "# BVC\n",
    "* Paper, https://papers.ssrn.com/sol3/papers.cfm?abstract_id=1989555&download=yes\n",
    "* Get rid of necessity of tick data\n",
    "* Dark pool order makes volume inaccurate\n",
    "* Fixed-volume bar has more Gaussian distribution than fixed-time bars for log returns"
   ]
  },
  {
   "cell_type": "markdown",
   "metadata": {},
   "source": [
    "# Execution\n",
    "## Hide-and-Light order\n",
    "* Order to sell stocks has to be routed the market with NBBO(National Best Bid Offer)\n",
    "* Avoid being changed fee to execute an order at market price\n",
    "* Set the selling price lower till the target market raise the best offer\n",
    "* Earn the liquidity rebate\n",
    "* Get the chance to place the order at the top of the queue of the target price\n",
    "\n",
    "## ISO(Intermediate Sweep Order)\n",
    "* Need not be routed to a market with NBBO\n",
    "* Faster execution due to non-necessity to check the NBO"
   ]
  },
  {
   "cell_type": "markdown",
   "metadata": {},
   "source": [
    "# Supervised Learning\n",
    "\n",
    "## Automated Bitcoin Trading via Machine Learning Algorithms\n",
    "* Paper, http://cs229.stanford.edu/proj2014/Isaac%20Madan,%20Shaurya%20Saluja,%20Aojia%20Zhao,Automated%20Bitcoin%20Trading%20via%20Machine%20Learning%20Algorithms.pdf\n",
    "* Features, 5 years\n",
    "    * Average Confirmation Time\n",
    "    * Block Size\n",
    "    * Cost per transaction percent\n",
    "    * Difficulty to find a new block\n",
    "    * Hash Rate\n",
    "    * Market Capitalization\n",
    "    * Miners Revenue\n",
    "    * Number of Orphaned Blocks\n",
    "    * Number of transactions per Blocks\n",
    "    * Number of unique transactions per day\n",
    "    * Number of unique address\n",
    "    * Total Bitcoins\n",
    "    * Transaction fees total per day\n",
    "    * Trade Volume\n",
    "    * Transaction to trade ratio\n",
    "* Data Resources\n",
    "    * Blockchain Info, https://www.blockchain.com/explorer\n",
    "    * OKCoin\n",
    "    * Coinbase, https://developers.coinbase.com/\n",
    "* Binary Classification\n",
    "* Combine three different time scale models with linear combination\n",
    "\n",
    "## Comparative Automated Bitcoin Trading Strategies\n",
    "* Paper, http://cs229.stanford.edu/proj2016/report/MumfordHegazy-ComparitiveAutomatedBitcoinTradingStrategies-report.pdf\n",
    "* Intraday Frequency\n",
    "* Prices are smoothed out by locally weighted linear regression\n",
    "* Betting Size is determined by Classification Confidence\n",
    "\n",
    "## Anticipating cryptocurrency prices using machine learning\n",
    "* Daily Frequency\n",
    "* Currencies with more than $10^5$ USD volume each day\n",
    "* Currencies are characterized by the followings:\n",
    "    * Price\n",
    "    * Market Capitalization\n",
    "    * Market Share\n",
    "    * Rank based on market capitalization\n",
    "    * Volume\n",
    "    * Age, life of the currency in days\n",
    "\n",
    "* Three methods\n",
    "    1. XGBoost1\n",
    "        - Target: ROI across different currencies\n",
    "        - Featrues: price, market cap, market share, rank, volume, and ROI\n",
    "    2. XGBoost2\n",
    "        - Target: ROI of target currency\n",
    "        - Features: Use features of all currencies\n",
    "    3. LSTM\n",
    "        - Different Model for each currency\n",
    "        - Feature: Only ROI of given currency"
   ]
  },
  {
   "cell_type": "markdown",
   "metadata": {},
   "source": [
    "# Reinforcement Learning\n",
    "## Deep Reinforcement Learning in High Frequency Trading\n",
    "* https://arxiv.org/pdf/1809.01506.pdf\n",
    "* Ensemble three one-vs-one MLP, each of which predict binary labels\n",
    "* Ensemble weight keeps updating through Reinforcement Learning\n",
    "* 500 trailing tick history and label for 100 forward\n",
    "* MLP has (10, 10) hidden layers\n",
    "* Accuracy will be around 70 %\n",
    "* Only when confidence level is over the threshold, execute trading\n",
    "* The perticipant percentage is around 10%\n",
    "\n",
    "## A Deep Reinforcement Learning Framework for the Financial Portfolio Management Problem\n",
    "* https://arxiv.org/pdf/1706.10059.pdf\n",
    "* Use Close, High, and Low as input\n",
    "* Use replay memory and portfolio vector memory for training\n",
    "* Use 50 trailing history\n",
    "\n",
    "## Deep Hedging\n",
    "* https://arxiv.org/pdf/1802.03042.pdf\n",
    "* Find the hedging strategy through Neural Network\n",
    "* Optimize convex measure\n",
    "* Show the experiments over numerically sampled Heston model\n",
    "* Use (2d, d+15, d+ 15, d) MLP Model, where d is the number of assets\n",
    "\n",
    "## Agent Inspired Trading Using Recurrent Reinforcement Learning and LSTM Neural Networks\n",
    "* https://arxiv.org/pdf/1707.07338.pdf\n",
    "* Direct reinforcement(Not required value function)\n",
    "* Recurrent Reinforcement Learning using LSTM or RNN\n",
    "* Optimize Sharp Ratio or Downside Deviation\n",
    "* Input:\n",
    "    * Trailing history of price difference\n",
    "    * Previous position\n",
    "    * Bias parameter\n",
    "* Previous position is fed into the input of the output layer\n",
    "* Validation is done on a single period, which is not trustable\n",
    "\n",
    "\n",
    "## QLBS: Q-Learner in the Black-Scholes(-Merton) Worlds\n",
    "* https://arxiv.org/pdf/1712.04609.pdf\n",
    "* Derive pricing through Q-Learning format"
   ]
  },
  {
   "cell_type": "code",
   "execution_count": null,
   "metadata": {},
   "outputs": [],
   "source": []
  }
 ],
 "metadata": {
  "kernelspec": {
   "display_name": "Python 3",
   "language": "python",
   "name": "python3"
  },
  "language_info": {
   "codemirror_mode": {
    "name": "ipython",
    "version": 3
   },
   "file_extension": ".py",
   "mimetype": "text/x-python",
   "name": "python",
   "nbconvert_exporter": "python",
   "pygments_lexer": "ipython3",
   "version": "3.6.4"
  }
 },
 "nbformat": 4,
 "nbformat_minor": 2
}
