{
 "cells": [
  {
   "cell_type": "markdown",
   "metadata": {},
   "source": [
    "# Financial Data Structures\n",
    "## Types of Data\n",
    "* Fundamental Data\n",
    "* Market Data\n",
    "* Analytics\n",
    "* Alternative Data\n",
    "\n",
    "## Bars\n",
    "### Standard Bars\n",
    "* Time Bars: Sampled with fixed time interval\n",
    "* Tick Bars: Sampled with fixed number of ticks\n",
    "* Volume Bars: Sampled with fixed volume\n",
    "* Dollar Bars: Sampled with fixed amount of value\n",
    "\n",
    "### Information-Driven Bars\n",
    "* Use the followings to estimate the amount of information\n",
    "    * $b_t = \\begin{cases}\n",
    "        b_{t-1} if \\Delta p_t = 0\\\\\n",
    "        \\frac{\\Delta p_t}{| \\Delta p_t| } if \\Delta p_t \\neq 0\n",
    "      \\end{cases} $\n",
    "    * $T^* = \\underset{T}{arg min} \\{|\\theta_T| \\geq E[\\theta_T]\\}$ for defined $\\theta_T$\n",
    "* Tick Imbalanced Bars (TIB)\n",
    "    * Take into consideration how many times prices changes\n",
    "    * $\\theta_T = \\sum_{t=1}^T b_t$\n",
    "    * Look at flow imbalance. If imbalance is more than expected, make a new bar\n",
    "* Volume/Dollar Imbalanced Bars (VIB and DIB)\n",
    "    * $\\theta_T = \\sum_{t=1}^T b_t v_t$\n",
    "* Tick Runs Bars\n",
    "    * Monitor the sequence of buys\n",
    "    * $\\theta_T = max\\{ \\sum_{t|b_t=1}^T b_t, - \\sum_{t|b_t=-1}^T b_t\\}$\n",
    "* Volume/Dollar Runs Bars\n",
    "    * $\\theta_T = max\\{ \\sum_{t|b_t=1}^T b_t v_t, - \\sum_{t|b_t=-1}^T b_t v_t\\}$\n",
    "    \n",
    "## Dealing with Multi-Product Series\n",
    "* Example cases:\n",
    "    * Model spreads with changing weights\n",
    "    * Basket of securities where dividends/coupons must be reinvested\n",
    "    * Basket that must be rebalanced\n",
    "    * Index whose constitutes changed\n",
    "    * Replace an expired/matured contract/security\n",
    "* Goal is to transform any complex multi-product dataset into a single dataset that resembles a total-return ETF\n",
    "### ETF Tricks\n",
    "* Problems\n",
    "    * The spread is characterized by a vector of weights changing over time\n",
    "    * Spreads can be negative values\n",
    "    * Trading times  will not align exactly for all constitutes => arises bid-ask spread, etc.\n",
    "    "
   ]
  },
  {
   "cell_type": "code",
   "execution_count": null,
   "metadata": {},
   "outputs": [],
   "source": [
    "u"
   ]
  }
 ],
 "metadata": {
  "kernelspec": {
   "display_name": "Python 3",
   "language": "python",
   "name": "python3"
  },
  "language_info": {
   "codemirror_mode": {
    "name": "ipython",
    "version": 3
   },
   "file_extension": ".py",
   "mimetype": "text/x-python",
   "name": "python",
   "nbconvert_exporter": "python",
   "pygments_lexer": "ipython3",
   "version": "3.6.4"
  }
 },
 "nbformat": 4,
 "nbformat_minor": 2
}
